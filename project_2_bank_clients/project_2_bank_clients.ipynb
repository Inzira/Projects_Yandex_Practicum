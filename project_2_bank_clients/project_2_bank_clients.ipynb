{
 "cells": [
  {
   "cell_type": "markdown",
   "metadata": {},
   "source": [
    "# Исследование надёжности заёмщиков\n",
    "\n",
    "Заказчик — кредитный отдел банка. Нужно разобраться, влияет ли семейное положение и количество детей клиента на факт погашения кредита в срок. Входные данные от банка — статистика о платёжеспособности клиентов.\n",
    "\n",
    "Результаты исследования будут учтены при построении модели **кредитного скоринга** — специальной системы, которая оценивает способность потенциального заёмщика вернуть кредит банку."
   ]
  },
  {
   "cell_type": "markdown",
   "metadata": {},
   "source": [
    "## Шаг 1. Откройте файл с данными и изучите общую информацию"
   ]
  },
  {
   "cell_type": "code",
   "execution_count": 33,
   "metadata": {},
   "outputs": [],
   "source": [
    "import pandas as pd\n",
    "from pymystem3 import Mystem\n",
    "from nltk.stem import SnowballStemmer \n",
    "from collections import Counter\n",
    "m = Mystem()"
   ]
  },
  {
   "cell_type": "code",
   "execution_count": 34,
   "metadata": {
    "scrolled": true
   },
   "outputs": [
    {
     "data": {
      "text/html": [
       "<div>\n",
       "<style scoped>\n",
       "    .dataframe tbody tr th:only-of-type {\n",
       "        vertical-align: middle;\n",
       "    }\n",
       "\n",
       "    .dataframe tbody tr th {\n",
       "        vertical-align: top;\n",
       "    }\n",
       "\n",
       "    .dataframe thead th {\n",
       "        text-align: right;\n",
       "    }\n",
       "</style>\n",
       "<table border=\"1\" class=\"dataframe\">\n",
       "  <thead>\n",
       "    <tr style=\"text-align: right;\">\n",
       "      <th></th>\n",
       "      <th>children</th>\n",
       "      <th>days_employed</th>\n",
       "      <th>dob_years</th>\n",
       "      <th>education</th>\n",
       "      <th>education_id</th>\n",
       "      <th>family_status</th>\n",
       "      <th>family_status_id</th>\n",
       "      <th>gender</th>\n",
       "      <th>income_type</th>\n",
       "      <th>debt</th>\n",
       "      <th>total_income</th>\n",
       "      <th>purpose</th>\n",
       "    </tr>\n",
       "  </thead>\n",
       "  <tbody>\n",
       "    <tr>\n",
       "      <td>0</td>\n",
       "      <td>1</td>\n",
       "      <td>-8437.673028</td>\n",
       "      <td>42</td>\n",
       "      <td>высшее</td>\n",
       "      <td>0</td>\n",
       "      <td>женат / замужем</td>\n",
       "      <td>0</td>\n",
       "      <td>F</td>\n",
       "      <td>сотрудник</td>\n",
       "      <td>0</td>\n",
       "      <td>253875.639453</td>\n",
       "      <td>покупка жилья</td>\n",
       "    </tr>\n",
       "    <tr>\n",
       "      <td>1</td>\n",
       "      <td>1</td>\n",
       "      <td>-4024.803754</td>\n",
       "      <td>36</td>\n",
       "      <td>среднее</td>\n",
       "      <td>1</td>\n",
       "      <td>женат / замужем</td>\n",
       "      <td>0</td>\n",
       "      <td>F</td>\n",
       "      <td>сотрудник</td>\n",
       "      <td>0</td>\n",
       "      <td>112080.014102</td>\n",
       "      <td>приобретение автомобиля</td>\n",
       "    </tr>\n",
       "    <tr>\n",
       "      <td>2</td>\n",
       "      <td>0</td>\n",
       "      <td>-5623.422610</td>\n",
       "      <td>33</td>\n",
       "      <td>Среднее</td>\n",
       "      <td>1</td>\n",
       "      <td>женат / замужем</td>\n",
       "      <td>0</td>\n",
       "      <td>M</td>\n",
       "      <td>сотрудник</td>\n",
       "      <td>0</td>\n",
       "      <td>145885.952297</td>\n",
       "      <td>покупка жилья</td>\n",
       "    </tr>\n",
       "    <tr>\n",
       "      <td>3</td>\n",
       "      <td>3</td>\n",
       "      <td>-4124.747207</td>\n",
       "      <td>32</td>\n",
       "      <td>среднее</td>\n",
       "      <td>1</td>\n",
       "      <td>женат / замужем</td>\n",
       "      <td>0</td>\n",
       "      <td>M</td>\n",
       "      <td>сотрудник</td>\n",
       "      <td>0</td>\n",
       "      <td>267628.550329</td>\n",
       "      <td>дополнительное образование</td>\n",
       "    </tr>\n",
       "    <tr>\n",
       "      <td>4</td>\n",
       "      <td>0</td>\n",
       "      <td>340266.072047</td>\n",
       "      <td>53</td>\n",
       "      <td>среднее</td>\n",
       "      <td>1</td>\n",
       "      <td>гражданский брак</td>\n",
       "      <td>1</td>\n",
       "      <td>F</td>\n",
       "      <td>пенсионер</td>\n",
       "      <td>0</td>\n",
       "      <td>158616.077870</td>\n",
       "      <td>сыграть свадьбу</td>\n",
       "    </tr>\n",
       "    <tr>\n",
       "      <td>5</td>\n",
       "      <td>0</td>\n",
       "      <td>-926.185831</td>\n",
       "      <td>27</td>\n",
       "      <td>высшее</td>\n",
       "      <td>0</td>\n",
       "      <td>гражданский брак</td>\n",
       "      <td>1</td>\n",
       "      <td>M</td>\n",
       "      <td>компаньон</td>\n",
       "      <td>0</td>\n",
       "      <td>255763.565419</td>\n",
       "      <td>покупка жилья</td>\n",
       "    </tr>\n",
       "    <tr>\n",
       "      <td>6</td>\n",
       "      <td>0</td>\n",
       "      <td>-2879.202052</td>\n",
       "      <td>43</td>\n",
       "      <td>высшее</td>\n",
       "      <td>0</td>\n",
       "      <td>женат / замужем</td>\n",
       "      <td>0</td>\n",
       "      <td>F</td>\n",
       "      <td>компаньон</td>\n",
       "      <td>0</td>\n",
       "      <td>240525.971920</td>\n",
       "      <td>операции с жильем</td>\n",
       "    </tr>\n",
       "    <tr>\n",
       "      <td>7</td>\n",
       "      <td>0</td>\n",
       "      <td>-152.779569</td>\n",
       "      <td>50</td>\n",
       "      <td>СРЕДНЕЕ</td>\n",
       "      <td>1</td>\n",
       "      <td>женат / замужем</td>\n",
       "      <td>0</td>\n",
       "      <td>M</td>\n",
       "      <td>сотрудник</td>\n",
       "      <td>0</td>\n",
       "      <td>135823.934197</td>\n",
       "      <td>образование</td>\n",
       "    </tr>\n",
       "    <tr>\n",
       "      <td>8</td>\n",
       "      <td>2</td>\n",
       "      <td>-6929.865299</td>\n",
       "      <td>35</td>\n",
       "      <td>ВЫСШЕЕ</td>\n",
       "      <td>0</td>\n",
       "      <td>гражданский брак</td>\n",
       "      <td>1</td>\n",
       "      <td>F</td>\n",
       "      <td>сотрудник</td>\n",
       "      <td>0</td>\n",
       "      <td>95856.832424</td>\n",
       "      <td>на проведение свадьбы</td>\n",
       "    </tr>\n",
       "    <tr>\n",
       "      <td>9</td>\n",
       "      <td>0</td>\n",
       "      <td>-2188.756445</td>\n",
       "      <td>41</td>\n",
       "      <td>среднее</td>\n",
       "      <td>1</td>\n",
       "      <td>женат / замужем</td>\n",
       "      <td>0</td>\n",
       "      <td>M</td>\n",
       "      <td>сотрудник</td>\n",
       "      <td>0</td>\n",
       "      <td>144425.938277</td>\n",
       "      <td>покупка жилья для семьи</td>\n",
       "    </tr>\n",
       "  </tbody>\n",
       "</table>\n",
       "</div>"
      ],
      "text/plain": [
       "   children  days_employed  dob_years education  education_id  \\\n",
       "0         1   -8437.673028         42    высшее             0   \n",
       "1         1   -4024.803754         36   среднее             1   \n",
       "2         0   -5623.422610         33   Среднее             1   \n",
       "3         3   -4124.747207         32   среднее             1   \n",
       "4         0  340266.072047         53   среднее             1   \n",
       "5         0    -926.185831         27    высшее             0   \n",
       "6         0   -2879.202052         43    высшее             0   \n",
       "7         0    -152.779569         50   СРЕДНЕЕ             1   \n",
       "8         2   -6929.865299         35    ВЫСШЕЕ             0   \n",
       "9         0   -2188.756445         41   среднее             1   \n",
       "\n",
       "      family_status  family_status_id gender income_type  debt   total_income  \\\n",
       "0   женат / замужем                 0      F   сотрудник     0  253875.639453   \n",
       "1   женат / замужем                 0      F   сотрудник     0  112080.014102   \n",
       "2   женат / замужем                 0      M   сотрудник     0  145885.952297   \n",
       "3   женат / замужем                 0      M   сотрудник     0  267628.550329   \n",
       "4  гражданский брак                 1      F   пенсионер     0  158616.077870   \n",
       "5  гражданский брак                 1      M   компаньон     0  255763.565419   \n",
       "6   женат / замужем                 0      F   компаньон     0  240525.971920   \n",
       "7   женат / замужем                 0      M   сотрудник     0  135823.934197   \n",
       "8  гражданский брак                 1      F   сотрудник     0   95856.832424   \n",
       "9   женат / замужем                 0      M   сотрудник     0  144425.938277   \n",
       "\n",
       "                      purpose  \n",
       "0               покупка жилья  \n",
       "1     приобретение автомобиля  \n",
       "2               покупка жилья  \n",
       "3  дополнительное образование  \n",
       "4             сыграть свадьбу  \n",
       "5               покупка жилья  \n",
       "6           операции с жильем  \n",
       "7                 образование  \n",
       "8       на проведение свадьбы  \n",
       "9     покупка жилья для семьи  "
      ]
     },
     "execution_count": 34,
     "metadata": {},
     "output_type": "execute_result"
    }
   ],
   "source": [
    "data=pd.read_csv('/datasets/data.csv')\n",
    "data.head(10)"
   ]
  },
  {
   "cell_type": "code",
   "execution_count": 35,
   "metadata": {
    "scrolled": true
   },
   "outputs": [
    {
     "name": "stdout",
     "output_type": "stream",
     "text": [
      "<class 'pandas.core.frame.DataFrame'>\n",
      "RangeIndex: 21525 entries, 0 to 21524\n",
      "Data columns (total 12 columns):\n",
      "children            21525 non-null int64\n",
      "days_employed       19351 non-null float64\n",
      "dob_years           21525 non-null int64\n",
      "education           21525 non-null object\n",
      "education_id        21525 non-null int64\n",
      "family_status       21525 non-null object\n",
      "family_status_id    21525 non-null int64\n",
      "gender              21525 non-null object\n",
      "income_type         21525 non-null object\n",
      "debt                21525 non-null int64\n",
      "total_income        19351 non-null float64\n",
      "purpose             21525 non-null object\n",
      "dtypes: float64(2), int64(5), object(5)\n",
      "memory usage: 2.0+ MB\n"
     ]
    }
   ],
   "source": [
    "# общая  информация о таблице:\n",
    "data.info(10)"
   ]
  },
  {
   "cell_type": "code",
   "execution_count": 36,
   "metadata": {},
   "outputs": [
    {
     "data": {
      "text/html": [
       "<div>\n",
       "<style scoped>\n",
       "    .dataframe tbody tr th:only-of-type {\n",
       "        vertical-align: middle;\n",
       "    }\n",
       "\n",
       "    .dataframe tbody tr th {\n",
       "        vertical-align: top;\n",
       "    }\n",
       "\n",
       "    .dataframe thead th {\n",
       "        text-align: right;\n",
       "    }\n",
       "</style>\n",
       "<table border=\"1\" class=\"dataframe\">\n",
       "  <thead>\n",
       "    <tr style=\"text-align: right;\">\n",
       "      <th></th>\n",
       "      <th>children</th>\n",
       "      <th>days_employed</th>\n",
       "      <th>dob_years</th>\n",
       "      <th>education_id</th>\n",
       "      <th>family_status_id</th>\n",
       "      <th>debt</th>\n",
       "      <th>total_income</th>\n",
       "    </tr>\n",
       "  </thead>\n",
       "  <tbody>\n",
       "    <tr>\n",
       "      <td>count</td>\n",
       "      <td>21525.000000</td>\n",
       "      <td>19351.000000</td>\n",
       "      <td>21525.000000</td>\n",
       "      <td>21525.000000</td>\n",
       "      <td>21525.000000</td>\n",
       "      <td>21525.000000</td>\n",
       "      <td>1.935100e+04</td>\n",
       "    </tr>\n",
       "    <tr>\n",
       "      <td>mean</td>\n",
       "      <td>0.538908</td>\n",
       "      <td>63046.497661</td>\n",
       "      <td>43.293380</td>\n",
       "      <td>0.817236</td>\n",
       "      <td>0.972544</td>\n",
       "      <td>0.080883</td>\n",
       "      <td>1.674223e+05</td>\n",
       "    </tr>\n",
       "    <tr>\n",
       "      <td>std</td>\n",
       "      <td>1.381587</td>\n",
       "      <td>140827.311974</td>\n",
       "      <td>12.574584</td>\n",
       "      <td>0.548138</td>\n",
       "      <td>1.420324</td>\n",
       "      <td>0.272661</td>\n",
       "      <td>1.029716e+05</td>\n",
       "    </tr>\n",
       "    <tr>\n",
       "      <td>min</td>\n",
       "      <td>-1.000000</td>\n",
       "      <td>-18388.949901</td>\n",
       "      <td>0.000000</td>\n",
       "      <td>0.000000</td>\n",
       "      <td>0.000000</td>\n",
       "      <td>0.000000</td>\n",
       "      <td>2.066726e+04</td>\n",
       "    </tr>\n",
       "    <tr>\n",
       "      <td>25%</td>\n",
       "      <td>0.000000</td>\n",
       "      <td>-2747.423625</td>\n",
       "      <td>33.000000</td>\n",
       "      <td>1.000000</td>\n",
       "      <td>0.000000</td>\n",
       "      <td>0.000000</td>\n",
       "      <td>1.030532e+05</td>\n",
       "    </tr>\n",
       "    <tr>\n",
       "      <td>50%</td>\n",
       "      <td>0.000000</td>\n",
       "      <td>-1203.369529</td>\n",
       "      <td>42.000000</td>\n",
       "      <td>1.000000</td>\n",
       "      <td>0.000000</td>\n",
       "      <td>0.000000</td>\n",
       "      <td>1.450179e+05</td>\n",
       "    </tr>\n",
       "    <tr>\n",
       "      <td>75%</td>\n",
       "      <td>1.000000</td>\n",
       "      <td>-291.095954</td>\n",
       "      <td>53.000000</td>\n",
       "      <td>1.000000</td>\n",
       "      <td>1.000000</td>\n",
       "      <td>0.000000</td>\n",
       "      <td>2.034351e+05</td>\n",
       "    </tr>\n",
       "    <tr>\n",
       "      <td>max</td>\n",
       "      <td>20.000000</td>\n",
       "      <td>401755.400475</td>\n",
       "      <td>75.000000</td>\n",
       "      <td>4.000000</td>\n",
       "      <td>4.000000</td>\n",
       "      <td>1.000000</td>\n",
       "      <td>2.265604e+06</td>\n",
       "    </tr>\n",
       "  </tbody>\n",
       "</table>\n",
       "</div>"
      ],
      "text/plain": [
       "           children  days_employed     dob_years  education_id  \\\n",
       "count  21525.000000   19351.000000  21525.000000  21525.000000   \n",
       "mean       0.538908   63046.497661     43.293380      0.817236   \n",
       "std        1.381587  140827.311974     12.574584      0.548138   \n",
       "min       -1.000000  -18388.949901      0.000000      0.000000   \n",
       "25%        0.000000   -2747.423625     33.000000      1.000000   \n",
       "50%        0.000000   -1203.369529     42.000000      1.000000   \n",
       "75%        1.000000    -291.095954     53.000000      1.000000   \n",
       "max       20.000000  401755.400475     75.000000      4.000000   \n",
       "\n",
       "       family_status_id          debt  total_income  \n",
       "count      21525.000000  21525.000000  1.935100e+04  \n",
       "mean           0.972544      0.080883  1.674223e+05  \n",
       "std            1.420324      0.272661  1.029716e+05  \n",
       "min            0.000000      0.000000  2.066726e+04  \n",
       "25%            0.000000      0.000000  1.030532e+05  \n",
       "50%            0.000000      0.000000  1.450179e+05  \n",
       "75%            1.000000      0.000000  2.034351e+05  \n",
       "max            4.000000      1.000000  2.265604e+06  "
      ]
     },
     "execution_count": 36,
     "metadata": {},
     "output_type": "execute_result"
    }
   ],
   "source": [
    "data.describe()"
   ]
  },
  {
   "cell_type": "code",
   "execution_count": 37,
   "metadata": {
    "scrolled": true
   },
   "outputs": [
    {
     "data": {
      "text/plain": [
       " 0     14149\n",
       " 1      4818\n",
       " 2      2055\n",
       " 3       330\n",
       " 20       76\n",
       "-1        47\n",
       " 4        41\n",
       " 5         9\n",
       "Name: children, dtype: int64"
      ]
     },
     "execution_count": 37,
     "metadata": {},
     "output_type": "execute_result"
    }
   ],
   "source": [
    "#посчитаем сколько уникальных значений с кол-вом детей -1 и 20:\n",
    "data['children'].value_counts()"
   ]
  },
  {
   "cell_type": "code",
   "execution_count": 38,
   "metadata": {},
   "outputs": [
    {
     "data": {
      "text/plain": [
       "101"
      ]
     },
     "execution_count": 38,
     "metadata": {},
     "output_type": "execute_result"
    }
   ],
   "source": [
    "#посчитаем кол-во людей с возрастом 0:\n",
    "\n",
    "data[data['dob_years']==0].count()[0]"
   ]
  },
  {
   "cell_type": "markdown",
   "metadata": {},
   "source": [
    "**Вывод**"
   ]
  },
  {
   "cell_type": "markdown",
   "metadata": {},
   "source": [
    "Количество значений в столбцах `'days_employed'` и `'total_income'` различается от всех остальных. Значит, в данных есть пропущенные значения.Которые нужно заполнить, либо удалить.\n",
    "\n",
    "\n",
    "Столбцам `'days_employed' и 'total_income'` стоит присвоить целочисленные значения.\n",
    "\n",
    "В столбце `'education'` не однотипные значения.Привести к единому стилю.\n",
    "\n",
    "В столбце `dob_years` минимальный возраст 0 нужно заменить, скорее всего это ошибка так же как и в столбце `children` минимальное кол-во детей -1 и максимальное 20. Вероятнее всего , что указали 20 детей нужно исправить на кол-во 2, а -1 на 0 детей.\n",
    "\n"
   ]
  },
  {
   "cell_type": "markdown",
   "metadata": {},
   "source": [
    "## Шаг 2. Предобработка данных"
   ]
  },
  {
   "cell_type": "markdown",
   "metadata": {},
   "source": [
    "### Обработка пропусков"
   ]
  },
  {
   "cell_type": "code",
   "execution_count": 39,
   "metadata": {},
   "outputs": [
    {
     "data": {
      "text/plain": [
       "children               0\n",
       "days_employed       2174\n",
       "dob_years              0\n",
       "education              0\n",
       "education_id           0\n",
       "family_status          0\n",
       "family_status_id       0\n",
       "gender                 0\n",
       "income_type            0\n",
       "debt                   0\n",
       "total_income        2174\n",
       "purpose                0\n",
       "dtype: int64"
      ]
     },
     "execution_count": 39,
     "metadata": {},
     "output_type": "execute_result"
    }
   ],
   "source": [
    "# подсчёт пропусков\n",
    "data.isna().sum()  "
   ]
  },
  {
   "cell_type": "code",
   "execution_count": 40,
   "metadata": {},
   "outputs": [
    {
     "data": {
      "text/plain": [
       "сотрудник          1105\n",
       "компаньон           508\n",
       "пенсионер           413\n",
       "госслужащий         147\n",
       "предприниматель       1\n",
       "Name: income_type, dtype: int64"
      ]
     },
     "execution_count": 40,
     "metadata": {},
     "output_type": "execute_result"
    }
   ],
   "source": [
    "#проверим кол-во пропусков по типу занятости:\n",
    "data[data['total_income'].isna()]['income_type'].value_counts()"
   ]
  },
  {
   "cell_type": "code",
   "execution_count": 41,
   "metadata": {
    "scrolled": true
   },
   "outputs": [
    {
     "data": {
      "text/plain": [
       "children               0\n",
       "days_employed          0\n",
       "dob_years              0\n",
       "education              0\n",
       "education_id           0\n",
       "family_status          0\n",
       "family_status_id       0\n",
       "gender                 0\n",
       "income_type            0\n",
       "debt                   0\n",
       "total_income        2174\n",
       "purpose                0\n",
       "dtype: int64"
      ]
     },
     "execution_count": 41,
     "metadata": {},
     "output_type": "execute_result"
    }
   ],
   "source": [
    "#заполним пропуски в 'total_income' медианным значением с группировкой по типу занятости и образованию:\n",
    "data['days_employed']=data['days_employed'] \\\n",
    "    .fillna(data.groupby(['income_type', 'education'])['days_employed'] \\\n",
    "    .transform('median'))\n",
    "data.isna().sum()\n"
   ]
  },
  {
   "cell_type": "code",
   "execution_count": 42,
   "metadata": {},
   "outputs": [
    {
     "data": {
      "text/plain": [
       "children            0\n",
       "days_employed       0\n",
       "dob_years           0\n",
       "education           0\n",
       "education_id        0\n",
       "family_status       0\n",
       "family_status_id    0\n",
       "gender              0\n",
       "income_type         0\n",
       "debt                0\n",
       "total_income        0\n",
       "purpose             0\n",
       "dtype: int64"
      ]
     },
     "execution_count": 42,
     "metadata": {},
     "output_type": "execute_result"
    }
   ],
   "source": [
    "data['total_income']=data['total_income'] \\\n",
    "    .fillna(data.groupby(['income_type', 'education'])['total_income'] \\\n",
    "    .transform('median'))\n",
    "data.isna().sum()"
   ]
  },
  {
   "cell_type": "code",
   "execution_count": 43,
   "metadata": {
    "scrolled": true
   },
   "outputs": [
    {
     "data": {
      "text/plain": [
       "среднее                15233\n",
       "высшее                  5260\n",
       "неоконченное высшее      744\n",
       "начальное                282\n",
       "ученая степень             6\n",
       "Name: education, dtype: int64"
      ]
     },
     "execution_count": 43,
     "metadata": {},
     "output_type": "execute_result"
    }
   ],
   "source": [
    "#приведем значения в столбце 'education' к нижнему  регисту:\n",
    "data['education']=data['education'].str.lower()\n",
    "data['education'].value_counts()"
   ]
  },
  {
   "cell_type": "code",
   "execution_count": 44,
   "metadata": {},
   "outputs": [
    {
     "data": {
      "text/plain": [
       "35    617\n",
       "40    609\n",
       "41    607\n",
       "34    603\n",
       "38    598\n",
       "42    597\n",
       "33    581\n",
       "39    573\n",
       "31    560\n",
       "36    555\n",
       "44    547\n",
       "29    545\n",
       "30    540\n",
       "48    538\n",
       "37    537\n",
       "50    514\n",
       "43    513\n",
       "32    510\n",
       "49    508\n",
       "28    503\n",
       "45    497\n",
       "27    493\n",
       "56    487\n",
       "52    484\n",
       "47    480\n",
       "54    479\n",
       "46    475\n",
       "58    461\n",
       "57    460\n",
       "53    459\n",
       "51    448\n",
       "59    444\n",
       "55    443\n",
       "26    408\n",
       "60    377\n",
       "25    357\n",
       "61    355\n",
       "62    352\n",
       "63    269\n",
       "64    265\n",
       "24    264\n",
       "23    254\n",
       "65    194\n",
       "66    183\n",
       "22    183\n",
       "67    167\n",
       "21    111\n",
       "0     101\n",
       "68     99\n",
       "69     85\n",
       "70     65\n",
       "71     58\n",
       "20     51\n",
       "72     33\n",
       "19     14\n",
       "73      8\n",
       "74      6\n",
       "75      1\n",
       "Name: dob_years, dtype: int64"
      ]
     },
     "execution_count": 44,
     "metadata": {},
     "output_type": "execute_result"
    }
   ],
   "source": [
    "data['dob_years'].value_counts()"
   ]
  },
  {
   "cell_type": "code",
   "execution_count": 46,
   "metadata": {},
   "outputs": [
    {
     "data": {
      "text/plain": [
       "до 19 лет    5475\n",
       "от 30-45     5463\n",
       "от 19-29     5296\n",
       "более 45     5291\n",
       "Name: dob_years, dtype: int64"
      ]
     },
     "execution_count": 46,
     "metadata": {},
     "output_type": "execute_result"
    }
   ],
   "source": [
    "data['age_group']=pd.qcut(data['dob_years'],[0, .25, .5, .75, 1.], labels=['до 19 лет', 'от 19-29', 'от 30-45', 'более 45' ],duplicates='raise') \n",
    "age_group.value_counts()"
   ]
  },
  {
   "cell_type": "code",
   "execution_count": 47,
   "metadata": {},
   "outputs": [
    {
     "data": {
      "text/html": [
       "<div>\n",
       "<style scoped>\n",
       "    .dataframe tbody tr th:only-of-type {\n",
       "        vertical-align: middle;\n",
       "    }\n",
       "\n",
       "    .dataframe tbody tr th {\n",
       "        vertical-align: top;\n",
       "    }\n",
       "\n",
       "    .dataframe thead th {\n",
       "        text-align: right;\n",
       "    }\n",
       "</style>\n",
       "<table border=\"1\" class=\"dataframe\">\n",
       "  <thead>\n",
       "    <tr style=\"text-align: right;\">\n",
       "      <th></th>\n",
       "      <th>children</th>\n",
       "      <th>days_employed</th>\n",
       "      <th>dob_years</th>\n",
       "      <th>education</th>\n",
       "      <th>education_id</th>\n",
       "      <th>family_status</th>\n",
       "      <th>family_status_id</th>\n",
       "      <th>gender</th>\n",
       "      <th>income_type</th>\n",
       "      <th>debt</th>\n",
       "      <th>total_income</th>\n",
       "      <th>purpose</th>\n",
       "      <th>age_group</th>\n",
       "    </tr>\n",
       "  </thead>\n",
       "  <tbody>\n",
       "    <tr>\n",
       "      <td>0</td>\n",
       "      <td>1</td>\n",
       "      <td>-8437.673028</td>\n",
       "      <td>42</td>\n",
       "      <td>высшее</td>\n",
       "      <td>0</td>\n",
       "      <td>женат / замужем</td>\n",
       "      <td>0</td>\n",
       "      <td>F</td>\n",
       "      <td>сотрудник</td>\n",
       "      <td>0</td>\n",
       "      <td>253875.639453</td>\n",
       "      <td>покупка жилья</td>\n",
       "      <td>от 19-29</td>\n",
       "    </tr>\n",
       "    <tr>\n",
       "      <td>1</td>\n",
       "      <td>1</td>\n",
       "      <td>-4024.803754</td>\n",
       "      <td>36</td>\n",
       "      <td>среднее</td>\n",
       "      <td>1</td>\n",
       "      <td>женат / замужем</td>\n",
       "      <td>0</td>\n",
       "      <td>F</td>\n",
       "      <td>сотрудник</td>\n",
       "      <td>0</td>\n",
       "      <td>112080.014102</td>\n",
       "      <td>приобретение автомобиля</td>\n",
       "      <td>от 19-29</td>\n",
       "    </tr>\n",
       "    <tr>\n",
       "      <td>2</td>\n",
       "      <td>0</td>\n",
       "      <td>-5623.422610</td>\n",
       "      <td>33</td>\n",
       "      <td>среднее</td>\n",
       "      <td>1</td>\n",
       "      <td>женат / замужем</td>\n",
       "      <td>0</td>\n",
       "      <td>M</td>\n",
       "      <td>сотрудник</td>\n",
       "      <td>0</td>\n",
       "      <td>145885.952297</td>\n",
       "      <td>покупка жилья</td>\n",
       "      <td>до 19 лет</td>\n",
       "    </tr>\n",
       "    <tr>\n",
       "      <td>3</td>\n",
       "      <td>3</td>\n",
       "      <td>-4124.747207</td>\n",
       "      <td>32</td>\n",
       "      <td>среднее</td>\n",
       "      <td>1</td>\n",
       "      <td>женат / замужем</td>\n",
       "      <td>0</td>\n",
       "      <td>M</td>\n",
       "      <td>сотрудник</td>\n",
       "      <td>0</td>\n",
       "      <td>267628.550329</td>\n",
       "      <td>дополнительное образование</td>\n",
       "      <td>до 19 лет</td>\n",
       "    </tr>\n",
       "    <tr>\n",
       "      <td>4</td>\n",
       "      <td>0</td>\n",
       "      <td>340266.072047</td>\n",
       "      <td>53</td>\n",
       "      <td>среднее</td>\n",
       "      <td>1</td>\n",
       "      <td>гражданский брак</td>\n",
       "      <td>1</td>\n",
       "      <td>F</td>\n",
       "      <td>пенсионер</td>\n",
       "      <td>0</td>\n",
       "      <td>158616.077870</td>\n",
       "      <td>сыграть свадьбу</td>\n",
       "      <td>от 30-45</td>\n",
       "    </tr>\n",
       "    <tr>\n",
       "      <td>5</td>\n",
       "      <td>0</td>\n",
       "      <td>-926.185831</td>\n",
       "      <td>27</td>\n",
       "      <td>высшее</td>\n",
       "      <td>0</td>\n",
       "      <td>гражданский брак</td>\n",
       "      <td>1</td>\n",
       "      <td>M</td>\n",
       "      <td>компаньон</td>\n",
       "      <td>0</td>\n",
       "      <td>255763.565419</td>\n",
       "      <td>покупка жилья</td>\n",
       "      <td>до 19 лет</td>\n",
       "    </tr>\n",
       "    <tr>\n",
       "      <td>6</td>\n",
       "      <td>0</td>\n",
       "      <td>-2879.202052</td>\n",
       "      <td>43</td>\n",
       "      <td>высшее</td>\n",
       "      <td>0</td>\n",
       "      <td>женат / замужем</td>\n",
       "      <td>0</td>\n",
       "      <td>F</td>\n",
       "      <td>компаньон</td>\n",
       "      <td>0</td>\n",
       "      <td>240525.971920</td>\n",
       "      <td>операции с жильем</td>\n",
       "      <td>от 30-45</td>\n",
       "    </tr>\n",
       "    <tr>\n",
       "      <td>7</td>\n",
       "      <td>0</td>\n",
       "      <td>-152.779569</td>\n",
       "      <td>50</td>\n",
       "      <td>среднее</td>\n",
       "      <td>1</td>\n",
       "      <td>женат / замужем</td>\n",
       "      <td>0</td>\n",
       "      <td>M</td>\n",
       "      <td>сотрудник</td>\n",
       "      <td>0</td>\n",
       "      <td>135823.934197</td>\n",
       "      <td>образование</td>\n",
       "      <td>от 30-45</td>\n",
       "    </tr>\n",
       "    <tr>\n",
       "      <td>8</td>\n",
       "      <td>2</td>\n",
       "      <td>-6929.865299</td>\n",
       "      <td>35</td>\n",
       "      <td>высшее</td>\n",
       "      <td>0</td>\n",
       "      <td>гражданский брак</td>\n",
       "      <td>1</td>\n",
       "      <td>F</td>\n",
       "      <td>сотрудник</td>\n",
       "      <td>0</td>\n",
       "      <td>95856.832424</td>\n",
       "      <td>на проведение свадьбы</td>\n",
       "      <td>от 19-29</td>\n",
       "    </tr>\n",
       "    <tr>\n",
       "      <td>9</td>\n",
       "      <td>0</td>\n",
       "      <td>-2188.756445</td>\n",
       "      <td>41</td>\n",
       "      <td>среднее</td>\n",
       "      <td>1</td>\n",
       "      <td>женат / замужем</td>\n",
       "      <td>0</td>\n",
       "      <td>M</td>\n",
       "      <td>сотрудник</td>\n",
       "      <td>0</td>\n",
       "      <td>144425.938277</td>\n",
       "      <td>покупка жилья для семьи</td>\n",
       "      <td>от 19-29</td>\n",
       "    </tr>\n",
       "  </tbody>\n",
       "</table>\n",
       "</div>"
      ],
      "text/plain": [
       "   children  days_employed  dob_years education  education_id  \\\n",
       "0         1   -8437.673028         42    высшее             0   \n",
       "1         1   -4024.803754         36   среднее             1   \n",
       "2         0   -5623.422610         33   среднее             1   \n",
       "3         3   -4124.747207         32   среднее             1   \n",
       "4         0  340266.072047         53   среднее             1   \n",
       "5         0    -926.185831         27    высшее             0   \n",
       "6         0   -2879.202052         43    высшее             0   \n",
       "7         0    -152.779569         50   среднее             1   \n",
       "8         2   -6929.865299         35    высшее             0   \n",
       "9         0   -2188.756445         41   среднее             1   \n",
       "\n",
       "      family_status  family_status_id gender income_type  debt   total_income  \\\n",
       "0   женат / замужем                 0      F   сотрудник     0  253875.639453   \n",
       "1   женат / замужем                 0      F   сотрудник     0  112080.014102   \n",
       "2   женат / замужем                 0      M   сотрудник     0  145885.952297   \n",
       "3   женат / замужем                 0      M   сотрудник     0  267628.550329   \n",
       "4  гражданский брак                 1      F   пенсионер     0  158616.077870   \n",
       "5  гражданский брак                 1      M   компаньон     0  255763.565419   \n",
       "6   женат / замужем                 0      F   компаньон     0  240525.971920   \n",
       "7   женат / замужем                 0      M   сотрудник     0  135823.934197   \n",
       "8  гражданский брак                 1      F   сотрудник     0   95856.832424   \n",
       "9   женат / замужем                 0      M   сотрудник     0  144425.938277   \n",
       "\n",
       "                      purpose  age_group  \n",
       "0               покупка жилья   от 19-29  \n",
       "1     приобретение автомобиля   от 19-29  \n",
       "2               покупка жилья  до 19 лет  \n",
       "3  дополнительное образование  до 19 лет  \n",
       "4             сыграть свадьбу   от 30-45  \n",
       "5               покупка жилья  до 19 лет  \n",
       "6           операции с жильем   от 30-45  \n",
       "7                 образование   от 30-45  \n",
       "8       на проведение свадьбы   от 19-29  \n",
       "9     покупка жилья для семьи   от 19-29  "
      ]
     },
     "execution_count": 47,
     "metadata": {},
     "output_type": "execute_result"
    }
   ],
   "source": [
    "#добавим колонку в таблицу и применим функцию ко всему датасету:\n",
    "#data['age_group'] = data['dob_years'].apply(age_group)\n",
    "data.head(10)"
   ]
  },
  {
   "cell_type": "code",
   "execution_count": 48,
   "metadata": {},
   "outputs": [],
   "source": [
    "#посчитаем количество людей по возрастной группе:\n",
    "#data['age_group'].value_counts()"
   ]
  },
  {
   "cell_type": "markdown",
   "metadata": {},
   "source": [
    "В категорию до 19 лет попали 101 человек, данное число совпадает с тем , что мы посчитали ранее (кол-во людей с возрастом 0). По всемй видимости это одни и те же люди, заполним данные 0 средним по группе."
   ]
  },
  {
   "cell_type": "code",
   "execution_count": 49,
   "metadata": {},
   "outputs": [
    {
     "data": {
      "text/plain": [
       "0"
      ]
     },
     "execution_count": 49,
     "metadata": {},
     "output_type": "execute_result"
    }
   ],
   "source": [
    "#заполним 0 в 'dob_years' средним значением с группировкой по типу занятост:\n",
    "data['dob_years']=data['dob_years'].replace(0,(data.groupby('income_type')['dob_years'].transform('mean')))\n",
    "data[data['dob_years']==0].count()[0]"
   ]
  },
  {
   "cell_type": "markdown",
   "metadata": {},
   "source": [
    "Внесем изменения в столбце `children`\n",
    "\n",
    "Исправим число 20 на кол-во 2, а -1 на 0 детей."
   ]
  },
  {
   "cell_type": "code",
   "execution_count": 50,
   "metadata": {},
   "outputs": [],
   "source": [
    "data['children']=data['children'].replace(-1,0)\n",
    "data['children']=data['children'].replace(20,2)"
   ]
  },
  {
   "cell_type": "code",
   "execution_count": 51,
   "metadata": {},
   "outputs": [
    {
     "data": {
      "text/plain": [
       "0    14196\n",
       "1     4818\n",
       "2     2131\n",
       "3      330\n",
       "4       41\n",
       "5        9\n",
       "Name: children, dtype: int64"
      ]
     },
     "execution_count": 51,
     "metadata": {},
     "output_type": "execute_result"
    }
   ],
   "source": [
    "data['children'].value_counts()"
   ]
  },
  {
   "cell_type": "markdown",
   "metadata": {},
   "source": [
    "**Вывод**\n",
    "\n"
   ]
  },
  {
   "cell_type": "markdown",
   "metadata": {},
   "source": [
    "\n",
    "Общий трудовой стаж в столбце `days_employed` нам не так важен для проверки гипотез, поэтому данный столбец оставили без измнений.\n",
    "\n",
    "Пропуски в `'total_income'` нам важны, это одна из гипотез для проверки --`Есть ли зависимость между уровнем дохода и возвратом кредита в срок?` Заполнили эти пропуски медианным значением после группировки по `'income_type', 'education'`. \n",
    "\n",
    "Значения столбца `education` привели  к нижнему  регисту.\n",
    "Значения равные '0' столбца `dob_years` заполним данными средним по группе `income_type`.\n",
    "\n",
    "Внесем изменения в столбце `children`."
   ]
  },
  {
   "cell_type": "markdown",
   "metadata": {},
   "source": [
    "### Замена типа данных"
   ]
  },
  {
   "cell_type": "code",
   "execution_count": 52,
   "metadata": {},
   "outputs": [],
   "source": [
    "#Заменим тип данных столбца total_income в целочисленный:\n",
    "data['total_income']=data['total_income'].astype(int)"
   ]
  },
  {
   "cell_type": "code",
   "execution_count": 53,
   "metadata": {},
   "outputs": [
    {
     "name": "stdout",
     "output_type": "stream",
     "text": [
      "<class 'pandas.core.frame.DataFrame'>\n",
      "RangeIndex: 21525 entries, 0 to 21524\n",
      "Data columns (total 13 columns):\n",
      "children            21525 non-null int64\n",
      "days_employed       21525 non-null float64\n",
      "dob_years           21525 non-null float64\n",
      "education           21525 non-null object\n",
      "education_id        21525 non-null int64\n",
      "family_status       21525 non-null object\n",
      "family_status_id    21525 non-null int64\n",
      "gender              21525 non-null object\n",
      "income_type         21525 non-null object\n",
      "debt                21525 non-null int64\n",
      "total_income        21525 non-null int64\n",
      "purpose             21525 non-null object\n",
      "age_group           21525 non-null category\n",
      "dtypes: category(1), float64(2), int64(5), object(5)\n",
      "memory usage: 2.0+ MB\n"
     ]
    }
   ],
   "source": [
    "data.info()"
   ]
  },
  {
   "cell_type": "markdown",
   "metadata": {},
   "source": [
    "**Вывод**"
   ]
  },
  {
   "cell_type": "markdown",
   "metadata": {},
   "source": [
    "Столбцы `total_income` перевели в 'int' с помощью функции astype. Остальные данные отображаются корректно.\n",
    "Столбец `days_employed` не трогаем, в исследовании использовать не будем.\n",
    "\n"
   ]
  },
  {
   "cell_type": "code",
   "execution_count": 54,
   "metadata": {
    "scrolled": true
   },
   "outputs": [
    {
     "name": "stdout",
     "output_type": "stream",
     "text": [
      "<class 'pandas.core.frame.DataFrame'>\n",
      "RangeIndex: 21525 entries, 0 to 21524\n",
      "Data columns (total 13 columns):\n",
      "children            21525 non-null int64\n",
      "days_employed       21525 non-null int64\n",
      "dob_years           21525 non-null float64\n",
      "education           21525 non-null object\n",
      "education_id        21525 non-null int64\n",
      "family_status       21525 non-null object\n",
      "family_status_id    21525 non-null int64\n",
      "gender              21525 non-null object\n",
      "income_type         21525 non-null object\n",
      "debt                21525 non-null int64\n",
      "total_income        21525 non-null int64\n",
      "purpose             21525 non-null object\n",
      "age_group           21525 non-null category\n",
      "dtypes: category(1), float64(1), int64(6), object(5)\n",
      "memory usage: 2.0+ MB\n"
     ]
    }
   ],
   "source": [
    "#Заменим тип данных столбца days_employed в целочисленный:\n",
    "data['days_employed']=data['days_employed'].astype(int)\n",
    "data.info()"
   ]
  },
  {
   "cell_type": "markdown",
   "metadata": {},
   "source": [
    "### Обработка дубликатов"
   ]
  },
  {
   "cell_type": "markdown",
   "metadata": {},
   "source": [
    "Посчитаем явные дубликаты в таблице и удалим их из таблицы."
   ]
  },
  {
   "cell_type": "code",
   "execution_count": 55,
   "metadata": {},
   "outputs": [
    {
     "name": "stdout",
     "output_type": "stream",
     "text": [
      "Количество дубликатов: 54\n"
     ]
    }
   ],
   "source": [
    "# подсчёт явных дубликатов\n",
    "print(\"Количество дубликатов: {}\".format(data.duplicated().sum()))"
   ]
  },
  {
   "cell_type": "code",
   "execution_count": 56,
   "metadata": {},
   "outputs": [],
   "source": [
    "# удаление явных дубликатов (с удалением старых индексов и формированием новых):\n",
    "data=data.drop_duplicates().reset_index(drop=True)"
   ]
  },
  {
   "cell_type": "code",
   "execution_count": 57,
   "metadata": {},
   "outputs": [
    {
     "name": "stdout",
     "output_type": "stream",
     "text": [
      "Количество пропусков: 0\n"
     ]
    }
   ],
   "source": [
    "print(\"Количество пропусков: {}\".format(data.duplicated().sum()))"
   ]
  },
  {
   "cell_type": "markdown",
   "metadata": {},
   "source": [
    "**Вывод**"
   ]
  },
  {
   "cell_type": "markdown",
   "metadata": {},
   "source": [
    "Дубликаты возможно задвоились, поэтому от явных дубликатов избавились."
   ]
  },
  {
   "cell_type": "markdown",
   "metadata": {},
   "source": [
    "### Лемматизация"
   ]
  },
  {
   "cell_type": "code",
   "execution_count": 58,
   "metadata": {},
   "outputs": [
    {
     "data": {
      "text/plain": [
       "свадьба                                   793\n",
       "на проведение свадьбы                     773\n",
       "сыграть свадьбу                           769\n",
       "операции с недвижимостью                  675\n",
       "покупка коммерческой недвижимости         662\n",
       "покупка жилья для сдачи                   652\n",
       "операции с жильем                         652\n",
       "операции с коммерческой недвижимостью     650\n",
       "покупка жилья                             646\n",
       "жилье                                     646\n",
       "покупка жилья для семьи                   638\n",
       "строительство собственной недвижимости    635\n",
       "недвижимость                              633\n",
       "операции со своей недвижимостью           627\n",
       "строительство жилой недвижимости          625\n",
       "покупка недвижимости                      621\n",
       "покупка своего жилья                      620\n",
       "строительство недвижимости                619\n",
       "ремонт жилью                              607\n",
       "покупка жилой недвижимости                606\n",
       "на покупку своего автомобиля              505\n",
       "заняться высшим образованием              496\n",
       "автомобиль                                494\n",
       "сделка с подержанным автомобилем          486\n",
       "свой автомобиль                           479\n",
       "на покупку подержанного автомобиля        478\n",
       "автомобили                                478\n",
       "на покупку автомобиля                     472\n",
       "приобретение автомобиля                   461\n",
       "дополнительное образование                460\n",
       "сделка с автомобилем                      455\n",
       "высшее образование                        452\n",
       "получение дополнительного образования     447\n",
       "образование                               447\n",
       "получение образования                     442\n",
       "профильное образование                    436\n",
       "получение высшего образования             426\n",
       "заняться образованием                     408\n",
       "Name: purpose, dtype: int64"
      ]
     },
     "execution_count": 58,
     "metadata": {},
     "output_type": "execute_result"
    }
   ],
   "source": [
    "# Посчитаем варианты целей кредита:\n",
    "\n",
    "data['purpose'].value_counts()"
   ]
  },
  {
   "cell_type": "markdown",
   "metadata": {},
   "source": [
    "Из всех вариантов можно выделить 5 целей для получения кредита:'автомобиль' ,'образование','свадьба','недвижимость','жилье'"
   ]
  },
  {
   "cell_type": "code",
   "execution_count": 59,
   "metadata": {},
   "outputs": [
    {
     "data": {
      "text/html": [
       "<div>\n",
       "<style scoped>\n",
       "    .dataframe tbody tr th:only-of-type {\n",
       "        vertical-align: middle;\n",
       "    }\n",
       "\n",
       "    .dataframe tbody tr th {\n",
       "        vertical-align: top;\n",
       "    }\n",
       "\n",
       "    .dataframe thead th {\n",
       "        text-align: right;\n",
       "    }\n",
       "</style>\n",
       "<table border=\"1\" class=\"dataframe\">\n",
       "  <thead>\n",
       "    <tr style=\"text-align: right;\">\n",
       "      <th></th>\n",
       "      <th>children</th>\n",
       "      <th>days_employed</th>\n",
       "      <th>dob_years</th>\n",
       "      <th>education</th>\n",
       "      <th>education_id</th>\n",
       "      <th>family_status</th>\n",
       "      <th>family_status_id</th>\n",
       "      <th>gender</th>\n",
       "      <th>income_type</th>\n",
       "      <th>debt</th>\n",
       "      <th>total_income</th>\n",
       "      <th>purpose</th>\n",
       "      <th>age_group</th>\n",
       "      <th>lemma_purpose</th>\n",
       "    </tr>\n",
       "  </thead>\n",
       "  <tbody>\n",
       "    <tr>\n",
       "      <td>0</td>\n",
       "      <td>1</td>\n",
       "      <td>-8437</td>\n",
       "      <td>42.0</td>\n",
       "      <td>высшее</td>\n",
       "      <td>0</td>\n",
       "      <td>женат / замужем</td>\n",
       "      <td>0</td>\n",
       "      <td>F</td>\n",
       "      <td>сотрудник</td>\n",
       "      <td>0</td>\n",
       "      <td>253875</td>\n",
       "      <td>покупка жилья</td>\n",
       "      <td>от 19-29</td>\n",
       "      <td>None</td>\n",
       "    </tr>\n",
       "    <tr>\n",
       "      <td>1</td>\n",
       "      <td>1</td>\n",
       "      <td>-4024</td>\n",
       "      <td>36.0</td>\n",
       "      <td>среднее</td>\n",
       "      <td>1</td>\n",
       "      <td>женат / замужем</td>\n",
       "      <td>0</td>\n",
       "      <td>F</td>\n",
       "      <td>сотрудник</td>\n",
       "      <td>0</td>\n",
       "      <td>112080</td>\n",
       "      <td>приобретение автомобиля</td>\n",
       "      <td>от 19-29</td>\n",
       "      <td>автомобиль</td>\n",
       "    </tr>\n",
       "    <tr>\n",
       "      <td>2</td>\n",
       "      <td>0</td>\n",
       "      <td>-5623</td>\n",
       "      <td>33.0</td>\n",
       "      <td>среднее</td>\n",
       "      <td>1</td>\n",
       "      <td>женат / замужем</td>\n",
       "      <td>0</td>\n",
       "      <td>M</td>\n",
       "      <td>сотрудник</td>\n",
       "      <td>0</td>\n",
       "      <td>145885</td>\n",
       "      <td>покупка жилья</td>\n",
       "      <td>до 19 лет</td>\n",
       "      <td>None</td>\n",
       "    </tr>\n",
       "    <tr>\n",
       "      <td>3</td>\n",
       "      <td>3</td>\n",
       "      <td>-4124</td>\n",
       "      <td>32.0</td>\n",
       "      <td>среднее</td>\n",
       "      <td>1</td>\n",
       "      <td>женат / замужем</td>\n",
       "      <td>0</td>\n",
       "      <td>M</td>\n",
       "      <td>сотрудник</td>\n",
       "      <td>0</td>\n",
       "      <td>267628</td>\n",
       "      <td>дополнительное образование</td>\n",
       "      <td>до 19 лет</td>\n",
       "      <td>образование</td>\n",
       "    </tr>\n",
       "    <tr>\n",
       "      <td>4</td>\n",
       "      <td>0</td>\n",
       "      <td>340266</td>\n",
       "      <td>53.0</td>\n",
       "      <td>среднее</td>\n",
       "      <td>1</td>\n",
       "      <td>гражданский брак</td>\n",
       "      <td>1</td>\n",
       "      <td>F</td>\n",
       "      <td>пенсионер</td>\n",
       "      <td>0</td>\n",
       "      <td>158616</td>\n",
       "      <td>сыграть свадьбу</td>\n",
       "      <td>от 30-45</td>\n",
       "      <td>свадьба</td>\n",
       "    </tr>\n",
       "    <tr>\n",
       "      <td>5</td>\n",
       "      <td>0</td>\n",
       "      <td>-926</td>\n",
       "      <td>27.0</td>\n",
       "      <td>высшее</td>\n",
       "      <td>0</td>\n",
       "      <td>гражданский брак</td>\n",
       "      <td>1</td>\n",
       "      <td>M</td>\n",
       "      <td>компаньон</td>\n",
       "      <td>0</td>\n",
       "      <td>255763</td>\n",
       "      <td>покупка жилья</td>\n",
       "      <td>до 19 лет</td>\n",
       "      <td>None</td>\n",
       "    </tr>\n",
       "    <tr>\n",
       "      <td>6</td>\n",
       "      <td>0</td>\n",
       "      <td>-2879</td>\n",
       "      <td>43.0</td>\n",
       "      <td>высшее</td>\n",
       "      <td>0</td>\n",
       "      <td>женат / замужем</td>\n",
       "      <td>0</td>\n",
       "      <td>F</td>\n",
       "      <td>компаньон</td>\n",
       "      <td>0</td>\n",
       "      <td>240525</td>\n",
       "      <td>операции с жильем</td>\n",
       "      <td>от 30-45</td>\n",
       "      <td>None</td>\n",
       "    </tr>\n",
       "    <tr>\n",
       "      <td>7</td>\n",
       "      <td>0</td>\n",
       "      <td>-152</td>\n",
       "      <td>50.0</td>\n",
       "      <td>среднее</td>\n",
       "      <td>1</td>\n",
       "      <td>женат / замужем</td>\n",
       "      <td>0</td>\n",
       "      <td>M</td>\n",
       "      <td>сотрудник</td>\n",
       "      <td>0</td>\n",
       "      <td>135823</td>\n",
       "      <td>образование</td>\n",
       "      <td>от 30-45</td>\n",
       "      <td>образование</td>\n",
       "    </tr>\n",
       "    <tr>\n",
       "      <td>8</td>\n",
       "      <td>2</td>\n",
       "      <td>-6929</td>\n",
       "      <td>35.0</td>\n",
       "      <td>высшее</td>\n",
       "      <td>0</td>\n",
       "      <td>гражданский брак</td>\n",
       "      <td>1</td>\n",
       "      <td>F</td>\n",
       "      <td>сотрудник</td>\n",
       "      <td>0</td>\n",
       "      <td>95856</td>\n",
       "      <td>на проведение свадьбы</td>\n",
       "      <td>от 19-29</td>\n",
       "      <td>свадьба</td>\n",
       "    </tr>\n",
       "    <tr>\n",
       "      <td>9</td>\n",
       "      <td>0</td>\n",
       "      <td>-2188</td>\n",
       "      <td>41.0</td>\n",
       "      <td>среднее</td>\n",
       "      <td>1</td>\n",
       "      <td>женат / замужем</td>\n",
       "      <td>0</td>\n",
       "      <td>M</td>\n",
       "      <td>сотрудник</td>\n",
       "      <td>0</td>\n",
       "      <td>144425</td>\n",
       "      <td>покупка жилья для семьи</td>\n",
       "      <td>от 19-29</td>\n",
       "      <td>None</td>\n",
       "    </tr>\n",
       "  </tbody>\n",
       "</table>\n",
       "</div>"
      ],
      "text/plain": [
       "   children  days_employed  dob_years education  education_id  \\\n",
       "0         1          -8437       42.0    высшее             0   \n",
       "1         1          -4024       36.0   среднее             1   \n",
       "2         0          -5623       33.0   среднее             1   \n",
       "3         3          -4124       32.0   среднее             1   \n",
       "4         0         340266       53.0   среднее             1   \n",
       "5         0           -926       27.0    высшее             0   \n",
       "6         0          -2879       43.0    высшее             0   \n",
       "7         0           -152       50.0   среднее             1   \n",
       "8         2          -6929       35.0    высшее             0   \n",
       "9         0          -2188       41.0   среднее             1   \n",
       "\n",
       "      family_status  family_status_id gender income_type  debt  total_income  \\\n",
       "0   женат / замужем                 0      F   сотрудник     0        253875   \n",
       "1   женат / замужем                 0      F   сотрудник     0        112080   \n",
       "2   женат / замужем                 0      M   сотрудник     0        145885   \n",
       "3   женат / замужем                 0      M   сотрудник     0        267628   \n",
       "4  гражданский брак                 1      F   пенсионер     0        158616   \n",
       "5  гражданский брак                 1      M   компаньон     0        255763   \n",
       "6   женат / замужем                 0      F   компаньон     0        240525   \n",
       "7   женат / замужем                 0      M   сотрудник     0        135823   \n",
       "8  гражданский брак                 1      F   сотрудник     0         95856   \n",
       "9   женат / замужем                 0      M   сотрудник     0        144425   \n",
       "\n",
       "                      purpose  age_group lemma_purpose  \n",
       "0               покупка жилья   от 19-29          None  \n",
       "1     приобретение автомобиля   от 19-29    автомобиль  \n",
       "2               покупка жилья  до 19 лет          None  \n",
       "3  дополнительное образование  до 19 лет   образование  \n",
       "4             сыграть свадьбу   от 30-45       свадьба  \n",
       "5               покупка жилья  до 19 лет          None  \n",
       "6           операции с жильем   от 30-45          None  \n",
       "7                 образование   от 30-45   образование  \n",
       "8       на проведение свадьбы   от 19-29       свадьба  \n",
       "9     покупка жилья для семьи   от 19-29          None  "
      ]
     },
     "execution_count": 59,
     "metadata": {},
     "output_type": "execute_result"
    }
   ],
   "source": [
    "#напишем функцию для лемматизации и применим ее ко всему столбцу 'purpose':\n",
    "\n",
    "def lemmatization(row):\n",
    "    lemmas = m.lemmatize(row['purpose'])\n",
    "    if 'автомобиль' in lemmas:\n",
    "        return 'автомобиль'\n",
    "    if 'образование' in lemmas:\n",
    "        return 'образование'\n",
    "    if 'свадьба' in lemmas:\n",
    "        return 'свадьба'\n",
    "    if 'недвижимость' in lemmas:\n",
    "        return 'недвижимость'\n",
    "   \n",
    "    \n",
    "data['lemma_purpose'] = data.apply(lemmatization, axis=1)\n",
    "data.head(10)"
   ]
  },
  {
   "cell_type": "code",
   "execution_count": 60,
   "metadata": {},
   "outputs": [
    {
     "data": {
      "text/plain": [
       "недвижимость    6353\n",
       "автомобиль      4308\n",
       "образование     4014\n",
       "свадьба         2335\n",
       "Name: lemma_purpose, dtype: int64"
      ]
     },
     "execution_count": 60,
     "metadata": {},
     "output_type": "execute_result"
    }
   ],
   "source": [
    "# Посчитаем возможные категории кредита:\n",
    "\n",
    "data['lemma_purpose'].value_counts()"
   ]
  },
  {
   "cell_type": "markdown",
   "metadata": {},
   "source": [
    "**Вывод**"
   ]
  },
  {
   "cell_type": "markdown",
   "metadata": {},
   "source": [
    "Выделили леммы в значениях столбца с целями получения кредита по основным ключевым словам :\n",
    "'автомобиль','образование','свадьба','недвижимость','жилье'. Посчитали количество целей, согласно выделенным категориям. На операции с недвижимостью берут больше всего кредитов -29.5%.\n",
    "\n",
    "\n"
   ]
  },
  {
   "cell_type": "markdown",
   "metadata": {},
   "source": [
    "### Категоризация данных"
   ]
  },
  {
   "cell_type": "markdown",
   "metadata": {},
   "source": [
    "Проведем категоризацию по доходам столбец `total_income` и по столбцу `children`.\n",
    "\n",
    "Для категоризации по доходам я решила поделить людей на такие группы:\n",
    "- >= 50000- низкий доход\n",
    "- 50000 < total_income <= 150000- средний доход\n",
    "- 150000 < total_income <= 500000 -высокий доход\n",
    "- < 500000 -богатые"
   ]
  },
  {
   "cell_type": "code",
   "execution_count": 62,
   "metadata": {},
   "outputs": [
    {
     "data": {
      "text/plain": [
       "средний доход    5369\n",
       "богатый          5368\n",
       "низкий доход     5368\n",
       "высокий доход    5366\n",
       "Name: total_income, dtype: int64"
      ]
     },
     "execution_count": 62,
     "metadata": {},
     "output_type": "execute_result"
    }
   ],
   "source": [
    "income_group=pd.qcut(data['total_income'],[0, .25, .5, .75, 1.], labels=[\"низкий доход\", \"средний доход\", \"высокий доход\", \"богатый\"],duplicates='raise') \n",
    "income_group.value_counts()"
   ]
  },
  {
   "cell_type": "code",
   "execution_count": 63,
   "metadata": {},
   "outputs": [
    {
     "data": {
      "text/plain": [
       "средний доход    11124\n",
       "высокий доход     9753\n",
       "низкий доход       372\n",
       "богатый            222\n",
       "Name: income_group, dtype: int64"
      ]
     },
     "execution_count": 63,
     "metadata": {},
     "output_type": "execute_result"
    }
   ],
   "source": [
    "#посчитаем количетсво людей, относящихся к каждой выделенной категории:\n",
    "data['income_group'].value_counts()"
   ]
  },
  {
   "cell_type": "code",
   "execution_count": 64,
   "metadata": {},
   "outputs": [
    {
     "data": {
      "text/html": [
       "<div>\n",
       "<style scoped>\n",
       "    .dataframe tbody tr th:only-of-type {\n",
       "        vertical-align: middle;\n",
       "    }\n",
       "\n",
       "    .dataframe tbody tr th {\n",
       "        vertical-align: top;\n",
       "    }\n",
       "\n",
       "    .dataframe thead th {\n",
       "        text-align: right;\n",
       "    }\n",
       "</style>\n",
       "<table border=\"1\" class=\"dataframe\">\n",
       "  <thead>\n",
       "    <tr style=\"text-align: right;\">\n",
       "      <th></th>\n",
       "      <th>children</th>\n",
       "      <th>days_employed</th>\n",
       "      <th>dob_years</th>\n",
       "      <th>education</th>\n",
       "      <th>education_id</th>\n",
       "      <th>family_status</th>\n",
       "      <th>family_status_id</th>\n",
       "      <th>gender</th>\n",
       "      <th>income_type</th>\n",
       "      <th>debt</th>\n",
       "      <th>total_income</th>\n",
       "      <th>purpose</th>\n",
       "      <th>age_group</th>\n",
       "      <th>lemma_purpose</th>\n",
       "      <th>income_group</th>\n",
       "    </tr>\n",
       "  </thead>\n",
       "  <tbody>\n",
       "    <tr>\n",
       "      <td>10555</td>\n",
       "      <td>0</td>\n",
       "      <td>365907</td>\n",
       "      <td>67.0</td>\n",
       "      <td>высшее</td>\n",
       "      <td>0</td>\n",
       "      <td>женат / замужем</td>\n",
       "      <td>0</td>\n",
       "      <td>M</td>\n",
       "      <td>пенсионер</td>\n",
       "      <td>0</td>\n",
       "      <td>552256</td>\n",
       "      <td>покупка недвижимости</td>\n",
       "      <td>более 45</td>\n",
       "      <td>недвижимость</td>\n",
       "      <td>богатый</td>\n",
       "    </tr>\n",
       "    <tr>\n",
       "      <td>9990</td>\n",
       "      <td>2</td>\n",
       "      <td>-2205</td>\n",
       "      <td>34.0</td>\n",
       "      <td>высшее</td>\n",
       "      <td>0</td>\n",
       "      <td>женат / замужем</td>\n",
       "      <td>0</td>\n",
       "      <td>M</td>\n",
       "      <td>компаньон</td>\n",
       "      <td>0</td>\n",
       "      <td>690013</td>\n",
       "      <td>на покупку автомобиля</td>\n",
       "      <td>от 19-29</td>\n",
       "      <td>автомобиль</td>\n",
       "      <td>богатый</td>\n",
       "    </tr>\n",
       "    <tr>\n",
       "      <td>9995</td>\n",
       "      <td>0</td>\n",
       "      <td>-1979</td>\n",
       "      <td>58.0</td>\n",
       "      <td>среднее</td>\n",
       "      <td>1</td>\n",
       "      <td>женат / замужем</td>\n",
       "      <td>0</td>\n",
       "      <td>M</td>\n",
       "      <td>сотрудник</td>\n",
       "      <td>0</td>\n",
       "      <td>1097954</td>\n",
       "      <td>покупка своего жилья</td>\n",
       "      <td>более 45</td>\n",
       "      <td>None</td>\n",
       "      <td>богатый</td>\n",
       "    </tr>\n",
       "    <tr>\n",
       "      <td>16258</td>\n",
       "      <td>0</td>\n",
       "      <td>-6070</td>\n",
       "      <td>54.0</td>\n",
       "      <td>высшее</td>\n",
       "      <td>0</td>\n",
       "      <td>женат / замужем</td>\n",
       "      <td>0</td>\n",
       "      <td>F</td>\n",
       "      <td>компаньон</td>\n",
       "      <td>0</td>\n",
       "      <td>521420</td>\n",
       "      <td>операции со своей недвижимостью</td>\n",
       "      <td>более 45</td>\n",
       "      <td>недвижимость</td>\n",
       "      <td>богатый</td>\n",
       "    </tr>\n",
       "    <tr>\n",
       "      <td>19944</td>\n",
       "      <td>0</td>\n",
       "      <td>-1872</td>\n",
       "      <td>56.0</td>\n",
       "      <td>среднее</td>\n",
       "      <td>1</td>\n",
       "      <td>гражданский брак</td>\n",
       "      <td>1</td>\n",
       "      <td>F</td>\n",
       "      <td>компаньон</td>\n",
       "      <td>0</td>\n",
       "      <td>509351</td>\n",
       "      <td>на проведение свадьбы</td>\n",
       "      <td>более 45</td>\n",
       "      <td>свадьба</td>\n",
       "      <td>богатый</td>\n",
       "    </tr>\n",
       "    <tr>\n",
       "      <td>...</td>\n",
       "      <td>...</td>\n",
       "      <td>...</td>\n",
       "      <td>...</td>\n",
       "      <td>...</td>\n",
       "      <td>...</td>\n",
       "      <td>...</td>\n",
       "      <td>...</td>\n",
       "      <td>...</td>\n",
       "      <td>...</td>\n",
       "      <td>...</td>\n",
       "      <td>...</td>\n",
       "      <td>...</td>\n",
       "      <td>...</td>\n",
       "      <td>...</td>\n",
       "      <td>...</td>\n",
       "    </tr>\n",
       "    <tr>\n",
       "      <td>12349</td>\n",
       "      <td>0</td>\n",
       "      <td>393246</td>\n",
       "      <td>57.0</td>\n",
       "      <td>среднее</td>\n",
       "      <td>1</td>\n",
       "      <td>женат / замужем</td>\n",
       "      <td>0</td>\n",
       "      <td>F</td>\n",
       "      <td>пенсионер</td>\n",
       "      <td>0</td>\n",
       "      <td>147247</td>\n",
       "      <td>покупка недвижимости</td>\n",
       "      <td>более 45</td>\n",
       "      <td>недвижимость</td>\n",
       "      <td>средний доход</td>\n",
       "    </tr>\n",
       "    <tr>\n",
       "      <td>4266</td>\n",
       "      <td>0</td>\n",
       "      <td>-9330</td>\n",
       "      <td>44.0</td>\n",
       "      <td>среднее</td>\n",
       "      <td>1</td>\n",
       "      <td>женат / замужем</td>\n",
       "      <td>0</td>\n",
       "      <td>F</td>\n",
       "      <td>сотрудник</td>\n",
       "      <td>0</td>\n",
       "      <td>81445</td>\n",
       "      <td>покупка жилья для сдачи</td>\n",
       "      <td>от 30-45</td>\n",
       "      <td>None</td>\n",
       "      <td>средний доход</td>\n",
       "    </tr>\n",
       "    <tr>\n",
       "      <td>4265</td>\n",
       "      <td>0</td>\n",
       "      <td>362034</td>\n",
       "      <td>70.0</td>\n",
       "      <td>среднее</td>\n",
       "      <td>1</td>\n",
       "      <td>женат / замужем</td>\n",
       "      <td>0</td>\n",
       "      <td>M</td>\n",
       "      <td>пенсионер</td>\n",
       "      <td>0</td>\n",
       "      <td>94266</td>\n",
       "      <td>операции с недвижимостью</td>\n",
       "      <td>более 45</td>\n",
       "      <td>недвижимость</td>\n",
       "      <td>средний доход</td>\n",
       "    </tr>\n",
       "    <tr>\n",
       "      <td>12355</td>\n",
       "      <td>1</td>\n",
       "      <td>-683</td>\n",
       "      <td>23.0</td>\n",
       "      <td>среднее</td>\n",
       "      <td>1</td>\n",
       "      <td>гражданский брак</td>\n",
       "      <td>1</td>\n",
       "      <td>F</td>\n",
       "      <td>сотрудник</td>\n",
       "      <td>0</td>\n",
       "      <td>127029</td>\n",
       "      <td>приобретение автомобиля</td>\n",
       "      <td>до 19 лет</td>\n",
       "      <td>автомобиль</td>\n",
       "      <td>средний доход</td>\n",
       "    </tr>\n",
       "    <tr>\n",
       "      <td>21470</td>\n",
       "      <td>2</td>\n",
       "      <td>-1984</td>\n",
       "      <td>40.0</td>\n",
       "      <td>среднее</td>\n",
       "      <td>1</td>\n",
       "      <td>женат / замужем</td>\n",
       "      <td>0</td>\n",
       "      <td>F</td>\n",
       "      <td>сотрудник</td>\n",
       "      <td>0</td>\n",
       "      <td>82047</td>\n",
       "      <td>на покупку автомобиля</td>\n",
       "      <td>от 19-29</td>\n",
       "      <td>автомобиль</td>\n",
       "      <td>средний доход</td>\n",
       "    </tr>\n",
       "  </tbody>\n",
       "</table>\n",
       "<p>21471 rows × 15 columns</p>\n",
       "</div>"
      ],
      "text/plain": [
       "       children  days_employed  dob_years education  education_id  \\\n",
       "10555         0         365907       67.0    высшее             0   \n",
       "9990          2          -2205       34.0    высшее             0   \n",
       "9995          0          -1979       58.0   среднее             1   \n",
       "16258         0          -6070       54.0    высшее             0   \n",
       "19944         0          -1872       56.0   среднее             1   \n",
       "...         ...            ...        ...       ...           ...   \n",
       "12349         0         393246       57.0   среднее             1   \n",
       "4266          0          -9330       44.0   среднее             1   \n",
       "4265          0         362034       70.0   среднее             1   \n",
       "12355         1           -683       23.0   среднее             1   \n",
       "21470         2          -1984       40.0   среднее             1   \n",
       "\n",
       "          family_status  family_status_id gender income_type  debt  \\\n",
       "10555   женат / замужем                 0      M   пенсионер     0   \n",
       "9990    женат / замужем                 0      M   компаньон     0   \n",
       "9995    женат / замужем                 0      M   сотрудник     0   \n",
       "16258   женат / замужем                 0      F   компаньон     0   \n",
       "19944  гражданский брак                 1      F   компаньон     0   \n",
       "...                 ...               ...    ...         ...   ...   \n",
       "12349   женат / замужем                 0      F   пенсионер     0   \n",
       "4266    женат / замужем                 0      F   сотрудник     0   \n",
       "4265    женат / замужем                 0      M   пенсионер     0   \n",
       "12355  гражданский брак                 1      F   сотрудник     0   \n",
       "21470   женат / замужем                 0      F   сотрудник     0   \n",
       "\n",
       "       total_income                          purpose  age_group lemma_purpose  \\\n",
       "10555        552256             покупка недвижимости   более 45  недвижимость   \n",
       "9990         690013            на покупку автомобиля   от 19-29    автомобиль   \n",
       "9995        1097954             покупка своего жилья   более 45          None   \n",
       "16258        521420  операции со своей недвижимостью   более 45  недвижимость   \n",
       "19944        509351            на проведение свадьбы   более 45       свадьба   \n",
       "...             ...                              ...        ...           ...   \n",
       "12349        147247             покупка недвижимости   более 45  недвижимость   \n",
       "4266          81445          покупка жилья для сдачи   от 30-45          None   \n",
       "4265          94266         операции с недвижимостью   более 45  недвижимость   \n",
       "12355        127029          приобретение автомобиля  до 19 лет    автомобиль   \n",
       "21470         82047            на покупку автомобиля   от 19-29    автомобиль   \n",
       "\n",
       "        income_group  \n",
       "10555        богатый  \n",
       "9990         богатый  \n",
       "9995         богатый  \n",
       "16258        богатый  \n",
       "19944        богатый  \n",
       "...              ...  \n",
       "12349  средний доход  \n",
       "4266   средний доход  \n",
       "4265   средний доход  \n",
       "12355  средний доход  \n",
       "21470  средний доход  \n",
       "\n",
       "[21471 rows x 15 columns]"
      ]
     },
     "execution_count": 64,
     "metadata": {},
     "output_type": "execute_result"
    }
   ],
   "source": [
    "data.sort_values('income_group')"
   ]
  },
  {
   "cell_type": "markdown",
   "metadata": {},
   "source": [
    "Категоризация по столбцу `children`\n",
    "\n",
    "- >1- нет детей\n",
    "- <=2 - 1-2 ребенка \n",
    "- <=3 - многодетные "
   ]
  },
  {
   "cell_type": "code",
   "execution_count": 65,
   "metadata": {},
   "outputs": [],
   "source": [
    "#напишем функцию для объединения данных в категории по кол-ву детейи создадим отдельный столбец с категориями детей, \n",
    "#и в его ячейках запишем значения:\n",
    "\n",
    "def children_group(children):\n",
    "    if children< 1:\n",
    "        return 'нет детей'\n",
    "    elif children <= 2:\n",
    "        return '1-2'\n",
    "    return 'многодетные'\n",
    "data['children_group']=data['children'].apply(children_group)"
   ]
  },
  {
   "cell_type": "code",
   "execution_count": 66,
   "metadata": {},
   "outputs": [
    {
     "data": {
      "text/plain": [
       "нет детей      14154\n",
       "1-2             6937\n",
       "многодетные      380\n",
       "Name: children_group, dtype: int64"
      ]
     },
     "execution_count": 66,
     "metadata": {},
     "output_type": "execute_result"
    }
   ],
   "source": [
    "#посчитаем количетсво людей, относящихся к каждой выделенной категории:\n",
    "data['children_group'].value_counts()"
   ]
  },
  {
   "cell_type": "markdown",
   "metadata": {},
   "source": [
    "Ранее была проедена категоризация столбца с целями получения кредита с помощью лемматизации, и категоризация столбца возраст клиента.Вот, что у нас получилось\n"
   ]
  },
  {
   "cell_type": "code",
   "execution_count": 67,
   "metadata": {},
   "outputs": [
    {
     "data": {
      "text/plain": [
       "недвижимость    6353\n",
       "автомобиль      4308\n",
       "образование     4014\n",
       "свадьба         2335\n",
       "Name: lemma_purpose, dtype: int64"
      ]
     },
     "execution_count": 67,
     "metadata": {},
     "output_type": "execute_result"
    }
   ],
   "source": [
    "#категоризация столбца с целями получения кредита\n",
    "data['lemma_purpose'].value_counts()"
   ]
  },
  {
   "cell_type": "code",
   "execution_count": 68,
   "metadata": {},
   "outputs": [
    {
     "data": {
      "text/plain": [
       "до 19 лет    5469\n",
       "от 30-45     5453\n",
       "от 19-29     5285\n",
       "более 45     5264\n",
       "Name: age_group, dtype: int64"
      ]
     },
     "execution_count": 68,
     "metadata": {},
     "output_type": "execute_result"
    }
   ],
   "source": [
    "#категоризация столбца возраст клиента\n",
    "data['age_group'].value_counts()"
   ]
  },
  {
   "cell_type": "markdown",
   "metadata": {},
   "source": [
    "**Вывод**"
   ]
  },
  {
   "cell_type": "markdown",
   "metadata": {},
   "source": [
    "Провели категоризацию:\n",
    "- доходам\n",
    "- кол-ву детей\n",
    "- целям кредита\n",
    "- возраст клиента"
   ]
  },
  {
   "cell_type": "markdown",
   "metadata": {},
   "source": [
    "## Шаг 3. Ответьте на вопросы"
   ]
  },
  {
   "cell_type": "markdown",
   "metadata": {},
   "source": [
    "- Есть ли зависимость между наличием детей и возвратом кредита в срок?"
   ]
  },
  {
   "cell_type": "code",
   "execution_count": 69,
   "metadata": {},
   "outputs": [
    {
     "data": {
      "text/html": [
       "<div>\n",
       "<style scoped>\n",
       "    .dataframe tbody tr th:only-of-type {\n",
       "        vertical-align: middle;\n",
       "    }\n",
       "\n",
       "    .dataframe tbody tr th {\n",
       "        vertical-align: top;\n",
       "    }\n",
       "\n",
       "    .dataframe thead th {\n",
       "        text-align: right;\n",
       "    }\n",
       "</style>\n",
       "<table border=\"1\" class=\"dataframe\">\n",
       "  <thead>\n",
       "    <tr style=\"text-align: right;\">\n",
       "      <th>debt</th>\n",
       "      <th>0</th>\n",
       "      <th>1</th>\n",
       "    </tr>\n",
       "    <tr>\n",
       "      <th>children_group</th>\n",
       "      <th></th>\n",
       "      <th></th>\n",
       "    </tr>\n",
       "  </thead>\n",
       "  <tbody>\n",
       "    <tr>\n",
       "      <td>1-2</td>\n",
       "      <td>6291</td>\n",
       "      <td>646</td>\n",
       "    </tr>\n",
       "    <tr>\n",
       "      <td>многодетные</td>\n",
       "      <td>349</td>\n",
       "      <td>31</td>\n",
       "    </tr>\n",
       "    <tr>\n",
       "      <td>нет детей</td>\n",
       "      <td>13090</td>\n",
       "      <td>1064</td>\n",
       "    </tr>\n",
       "  </tbody>\n",
       "</table>\n",
       "</div>"
      ],
      "text/plain": [
       "debt                0     1\n",
       "children_group             \n",
       "1-2              6291   646\n",
       "многодетные       349    31\n",
       "нет детей       13090  1064"
      ]
     },
     "execution_count": 69,
     "metadata": {},
     "output_type": "execute_result"
    }
   ],
   "source": [
    "pivot_table_children=data.pivot_table(index='children_group', columns='debt', values='total_income', aggfunc='count')\n",
    "pivot_table_children"
   ]
  },
  {
   "cell_type": "code",
   "execution_count": 70,
   "metadata": {},
   "outputs": [
    {
     "data": {
      "text/html": [
       "<div>\n",
       "<style scoped>\n",
       "    .dataframe tbody tr th:only-of-type {\n",
       "        vertical-align: middle;\n",
       "    }\n",
       "\n",
       "    .dataframe tbody tr th {\n",
       "        vertical-align: top;\n",
       "    }\n",
       "\n",
       "    .dataframe thead th {\n",
       "        text-align: right;\n",
       "    }\n",
       "</style>\n",
       "<table border=\"1\" class=\"dataframe\">\n",
       "  <thead>\n",
       "    <tr style=\"text-align: right;\">\n",
       "      <th>debt</th>\n",
       "      <th>0</th>\n",
       "      <th>1</th>\n",
       "    </tr>\n",
       "    <tr>\n",
       "      <th>children_group</th>\n",
       "      <th></th>\n",
       "      <th></th>\n",
       "    </tr>\n",
       "  </thead>\n",
       "  <tbody>\n",
       "    <tr>\n",
       "      <td>1-2</td>\n",
       "      <td>170094.960738</td>\n",
       "      <td>163953.746130</td>\n",
       "    </tr>\n",
       "    <tr>\n",
       "      <td>многодетные</td>\n",
       "      <td>180271.418338</td>\n",
       "      <td>149884.548387</td>\n",
       "    </tr>\n",
       "    <tr>\n",
       "      <td>нет детей</td>\n",
       "      <td>163407.266921</td>\n",
       "      <td>159589.915414</td>\n",
       "    </tr>\n",
       "  </tbody>\n",
       "</table>\n",
       "</div>"
      ],
      "text/plain": [
       "debt                        0              1\n",
       "children_group                              \n",
       "1-2             170094.960738  163953.746130\n",
       "многодетные     180271.418338  149884.548387\n",
       "нет детей       163407.266921  159589.915414"
      ]
     },
     "execution_count": 70,
     "metadata": {},
     "output_type": "execute_result"
    }
   ],
   "source": [
    "pivot_table_children=data.pivot_table(index='children_group', columns='debt', values='total_income',\n",
    "                                      aggfunc='mean')\n",
    "pivot_table_children"
   ]
  },
  {
   "cell_type": "code",
   "execution_count": 71,
   "metadata": {},
   "outputs": [
    {
     "data": {
      "text/html": [
       "<div>\n",
       "<style scoped>\n",
       "    .dataframe tbody tr th:only-of-type {\n",
       "        vertical-align: middle;\n",
       "    }\n",
       "\n",
       "    .dataframe tbody tr th {\n",
       "        vertical-align: top;\n",
       "    }\n",
       "\n",
       "    .dataframe thead th {\n",
       "        text-align: right;\n",
       "    }\n",
       "</style>\n",
       "<table border=\"1\" class=\"dataframe\">\n",
       "  <thead>\n",
       "    <tr style=\"text-align: right;\">\n",
       "      <th>debt</th>\n",
       "      <th>0</th>\n",
       "      <th>1</th>\n",
       "      <th>ratio</th>\n",
       "    </tr>\n",
       "    <tr>\n",
       "      <th>children_group</th>\n",
       "      <th></th>\n",
       "      <th></th>\n",
       "      <th></th>\n",
       "    </tr>\n",
       "  </thead>\n",
       "  <tbody>\n",
       "    <tr>\n",
       "      <td>1-2</td>\n",
       "      <td>170094.960738</td>\n",
       "      <td>163953.746130</td>\n",
       "      <td>0.093124</td>\n",
       "    </tr>\n",
       "    <tr>\n",
       "      <td>многодетные</td>\n",
       "      <td>180271.418338</td>\n",
       "      <td>149884.548387</td>\n",
       "      <td>0.081579</td>\n",
       "    </tr>\n",
       "    <tr>\n",
       "      <td>нет детей</td>\n",
       "      <td>163407.266921</td>\n",
       "      <td>159589.915414</td>\n",
       "      <td>0.075173</td>\n",
       "    </tr>\n",
       "  </tbody>\n",
       "</table>\n",
       "</div>"
      ],
      "text/plain": [
       "debt                        0              1     ratio\n",
       "children_group                                        \n",
       "1-2             170094.960738  163953.746130  0.093124\n",
       "многодетные     180271.418338  149884.548387  0.081579\n",
       "нет детей       163407.266921  159589.915414  0.075173"
      ]
     },
     "execution_count": 71,
     "metadata": {},
     "output_type": "execute_result"
    }
   ],
   "source": [
    "pivot_table_children['ratio'] = data.groupby('children_group').debt.mean()\n",
    "pivot_table_children"
   ]
  },
  {
   "cell_type": "markdown",
   "metadata": {},
   "source": [
    "**Вывод**"
   ]
  },
  {
   "cell_type": "markdown",
   "metadata": {},
   "source": [
    "Заемщики, у которых нет детей, меньше склонны к просрочке по выплатам кредита.Это связано с тем, что они не обременены дополнительными расходами, и могут вовремя отдавать кредит"
   ]
  },
  {
   "cell_type": "markdown",
   "metadata": {},
   "source": [
    "- Есть ли зависимость между семейным положением и возвратом кредита в срок?"
   ]
  },
  {
   "cell_type": "code",
   "execution_count": 72,
   "metadata": {},
   "outputs": [
    {
     "data": {
      "text/html": [
       "<div>\n",
       "<style scoped>\n",
       "    .dataframe tbody tr th:only-of-type {\n",
       "        vertical-align: middle;\n",
       "    }\n",
       "\n",
       "    .dataframe tbody tr th {\n",
       "        vertical-align: top;\n",
       "    }\n",
       "\n",
       "    .dataframe thead th {\n",
       "        text-align: right;\n",
       "    }\n",
       "</style>\n",
       "<table border=\"1\" class=\"dataframe\">\n",
       "  <thead>\n",
       "    <tr style=\"text-align: right;\">\n",
       "      <th>debt</th>\n",
       "      <th>0</th>\n",
       "      <th>1</th>\n",
       "    </tr>\n",
       "    <tr>\n",
       "      <th>family_status</th>\n",
       "      <th></th>\n",
       "      <th></th>\n",
       "    </tr>\n",
       "  </thead>\n",
       "  <tbody>\n",
       "    <tr>\n",
       "      <td>Не женат / не замужем</td>\n",
       "      <td>2536</td>\n",
       "      <td>274</td>\n",
       "    </tr>\n",
       "    <tr>\n",
       "      <td>в разводе</td>\n",
       "      <td>1110</td>\n",
       "      <td>85</td>\n",
       "    </tr>\n",
       "    <tr>\n",
       "      <td>вдовец / вдова</td>\n",
       "      <td>896</td>\n",
       "      <td>63</td>\n",
       "    </tr>\n",
       "    <tr>\n",
       "      <td>гражданский брак</td>\n",
       "      <td>3775</td>\n",
       "      <td>388</td>\n",
       "    </tr>\n",
       "    <tr>\n",
       "      <td>женат / замужем</td>\n",
       "      <td>11413</td>\n",
       "      <td>931</td>\n",
       "    </tr>\n",
       "  </tbody>\n",
       "</table>\n",
       "</div>"
      ],
      "text/plain": [
       "debt                       0    1\n",
       "family_status                    \n",
       "Не женат / не замужем   2536  274\n",
       "в разводе               1110   85\n",
       "вдовец / вдова           896   63\n",
       "гражданский брак        3775  388\n",
       "женат / замужем        11413  931"
      ]
     },
     "execution_count": 72,
     "metadata": {},
     "output_type": "execute_result"
    }
   ],
   "source": [
    "pivot_table_family_status=data.pivot_table(index='family_status', columns='debt', values='total_income', aggfunc='count')\n",
    "pivot_table_family_status"
   ]
  },
  {
   "cell_type": "code",
   "execution_count": 73,
   "metadata": {},
   "outputs": [
    {
     "data": {
      "text/html": [
       "<div>\n",
       "<style scoped>\n",
       "    .dataframe tbody tr th:only-of-type {\n",
       "        vertical-align: middle;\n",
       "    }\n",
       "\n",
       "    .dataframe tbody tr th {\n",
       "        vertical-align: top;\n",
       "    }\n",
       "\n",
       "    .dataframe thead th {\n",
       "        text-align: right;\n",
       "    }\n",
       "</style>\n",
       "<table border=\"1\" class=\"dataframe\">\n",
       "  <thead>\n",
       "    <tr style=\"text-align: right;\">\n",
       "      <th>debt</th>\n",
       "      <th>0</th>\n",
       "      <th>1</th>\n",
       "      <th>ratio</th>\n",
       "    </tr>\n",
       "    <tr>\n",
       "      <th>family_status</th>\n",
       "      <th></th>\n",
       "      <th></th>\n",
       "      <th></th>\n",
       "    </tr>\n",
       "  </thead>\n",
       "  <tbody>\n",
       "    <tr>\n",
       "      <td>Не женат / не замужем</td>\n",
       "      <td>2536</td>\n",
       "      <td>274</td>\n",
       "      <td>0.097509</td>\n",
       "    </tr>\n",
       "    <tr>\n",
       "      <td>гражданский брак</td>\n",
       "      <td>3775</td>\n",
       "      <td>388</td>\n",
       "      <td>0.093202</td>\n",
       "    </tr>\n",
       "    <tr>\n",
       "      <td>женат / замужем</td>\n",
       "      <td>11413</td>\n",
       "      <td>931</td>\n",
       "      <td>0.075421</td>\n",
       "    </tr>\n",
       "    <tr>\n",
       "      <td>в разводе</td>\n",
       "      <td>1110</td>\n",
       "      <td>85</td>\n",
       "      <td>0.071130</td>\n",
       "    </tr>\n",
       "    <tr>\n",
       "      <td>вдовец / вдова</td>\n",
       "      <td>896</td>\n",
       "      <td>63</td>\n",
       "      <td>0.065693</td>\n",
       "    </tr>\n",
       "  </tbody>\n",
       "</table>\n",
       "</div>"
      ],
      "text/plain": [
       "debt                       0    1     ratio\n",
       "family_status                              \n",
       "Не женат / не замужем   2536  274  0.097509\n",
       "гражданский брак        3775  388  0.093202\n",
       "женат / замужем        11413  931  0.075421\n",
       "в разводе               1110   85  0.071130\n",
       "вдовец / вдова           896   63  0.065693"
      ]
     },
     "execution_count": 73,
     "metadata": {},
     "output_type": "execute_result"
    }
   ],
   "source": [
    "pivot_table_family_status['ratio'] = data.groupby('family_status').debt.mean()\n",
    "pivot_table_family_status.sort_values('ratio', ascending=False)"
   ]
  },
  {
   "cell_type": "markdown",
   "metadata": {},
   "source": [
    "**Вывод**"
   ]
  },
  {
   "cell_type": "markdown",
   "metadata": {},
   "source": [
    "Зависимость есть, заемщики,которые попадают под категорию \"Не женат / не замужем\" , склонны к просрочке по выплатам кредита.Заемщики,попадающие в категории \"вдовец / вдова\" либо в \"разводе\" ответственно выплачивают кредиты. Видимо понимают,что расчитывают только на себя и не копят долги.\n"
   ]
  },
  {
   "cell_type": "markdown",
   "metadata": {},
   "source": [
    "- Есть ли зависимость между уровнем дохода и возвратом кредита в срок?"
   ]
  },
  {
   "cell_type": "code",
   "execution_count": 74,
   "metadata": {},
   "outputs": [
    {
     "data": {
      "text/html": [
       "<div>\n",
       "<style scoped>\n",
       "    .dataframe tbody tr th:only-of-type {\n",
       "        vertical-align: middle;\n",
       "    }\n",
       "\n",
       "    .dataframe tbody tr th {\n",
       "        vertical-align: top;\n",
       "    }\n",
       "\n",
       "    .dataframe thead th {\n",
       "        text-align: right;\n",
       "    }\n",
       "</style>\n",
       "<table border=\"1\" class=\"dataframe\">\n",
       "  <thead>\n",
       "    <tr style=\"text-align: right;\">\n",
       "      <th>debt</th>\n",
       "      <th>0</th>\n",
       "      <th>1</th>\n",
       "    </tr>\n",
       "    <tr>\n",
       "      <th>income_group</th>\n",
       "      <th></th>\n",
       "      <th></th>\n",
       "    </tr>\n",
       "  </thead>\n",
       "  <tbody>\n",
       "    <tr>\n",
       "      <td>богатый</td>\n",
       "      <td>208</td>\n",
       "      <td>14</td>\n",
       "    </tr>\n",
       "    <tr>\n",
       "      <td>высокий доход</td>\n",
       "      <td>8997</td>\n",
       "      <td>756</td>\n",
       "    </tr>\n",
       "    <tr>\n",
       "      <td>низкий доход</td>\n",
       "      <td>349</td>\n",
       "      <td>23</td>\n",
       "    </tr>\n",
       "    <tr>\n",
       "      <td>средний доход</td>\n",
       "      <td>10176</td>\n",
       "      <td>948</td>\n",
       "    </tr>\n",
       "  </tbody>\n",
       "</table>\n",
       "</div>"
      ],
      "text/plain": [
       "debt               0    1\n",
       "income_group             \n",
       "богатый          208   14\n",
       "высокий доход   8997  756\n",
       "низкий доход     349   23\n",
       "средний доход  10176  948"
      ]
     },
     "execution_count": 74,
     "metadata": {},
     "output_type": "execute_result"
    }
   ],
   "source": [
    "pivot_table_income=data.pivot_table(index='income_group', columns='debt', values='total_income', aggfunc='count')\n",
    "pivot_table_income"
   ]
  },
  {
   "cell_type": "code",
   "execution_count": 75,
   "metadata": {
    "scrolled": true
   },
   "outputs": [
    {
     "data": {
      "text/html": [
       "<div>\n",
       "<style scoped>\n",
       "    .dataframe tbody tr th:only-of-type {\n",
       "        vertical-align: middle;\n",
       "    }\n",
       "\n",
       "    .dataframe tbody tr th {\n",
       "        vertical-align: top;\n",
       "    }\n",
       "\n",
       "    .dataframe thead th {\n",
       "        text-align: right;\n",
       "    }\n",
       "</style>\n",
       "<table border=\"1\" class=\"dataframe\">\n",
       "  <thead>\n",
       "    <tr style=\"text-align: right;\">\n",
       "      <th>debt</th>\n",
       "      <th>0</th>\n",
       "      <th>1</th>\n",
       "      <th>ratio</th>\n",
       "    </tr>\n",
       "    <tr>\n",
       "      <th>income_group</th>\n",
       "      <th></th>\n",
       "      <th></th>\n",
       "      <th></th>\n",
       "    </tr>\n",
       "  </thead>\n",
       "  <tbody>\n",
       "    <tr>\n",
       "      <td>средний доход</td>\n",
       "      <td>10176</td>\n",
       "      <td>948</td>\n",
       "      <td>0.085221</td>\n",
       "    </tr>\n",
       "    <tr>\n",
       "      <td>высокий доход</td>\n",
       "      <td>8997</td>\n",
       "      <td>756</td>\n",
       "      <td>0.077515</td>\n",
       "    </tr>\n",
       "    <tr>\n",
       "      <td>богатый</td>\n",
       "      <td>208</td>\n",
       "      <td>14</td>\n",
       "      <td>0.063063</td>\n",
       "    </tr>\n",
       "    <tr>\n",
       "      <td>низкий доход</td>\n",
       "      <td>349</td>\n",
       "      <td>23</td>\n",
       "      <td>0.061828</td>\n",
       "    </tr>\n",
       "  </tbody>\n",
       "</table>\n",
       "</div>"
      ],
      "text/plain": [
       "debt               0    1     ratio\n",
       "income_group                       \n",
       "средний доход  10176  948  0.085221\n",
       "высокий доход   8997  756  0.077515\n",
       "богатый          208   14  0.063063\n",
       "низкий доход     349   23  0.061828"
      ]
     },
     "execution_count": 75,
     "metadata": {},
     "output_type": "execute_result"
    }
   ],
   "source": [
    "pivot_table_income['ratio'] =data.groupby('income_group').debt.mean()\n",
    "pivot_table_income.sort_values('ratio', ascending=False)"
   ]
  },
  {
   "cell_type": "markdown",
   "metadata": {},
   "source": [
    "**Вывод**"
   ]
  },
  {
   "cell_type": "markdown",
   "metadata": {},
   "source": [
    "Кредит исправно и в срок выплачивают, заемщики с низким уровнем дохода. Граждане, попадающие по категорию \"средний доход\" с уровнем дохода < 50000 и >= 150000, более склонны к просрочкам.\n",
    "\n",
    "Скорее всего это объясняется тем, что у кого маленький доход умеют грамотно распоржаться доходом, нежели те , кто зарабатывает больше.А возможно, банки более тщательно отбирают их по другим параметрам"
   ]
  },
  {
   "cell_type": "markdown",
   "metadata": {},
   "source": [
    "- Как разные цели кредита влияют на его возврат в срок?"
   ]
  },
  {
   "cell_type": "code",
   "execution_count": 76,
   "metadata": {},
   "outputs": [
    {
     "data": {
      "text/html": [
       "<div>\n",
       "<style scoped>\n",
       "    .dataframe tbody tr th:only-of-type {\n",
       "        vertical-align: middle;\n",
       "    }\n",
       "\n",
       "    .dataframe tbody tr th {\n",
       "        vertical-align: top;\n",
       "    }\n",
       "\n",
       "    .dataframe thead th {\n",
       "        text-align: right;\n",
       "    }\n",
       "</style>\n",
       "<table border=\"1\" class=\"dataframe\">\n",
       "  <thead>\n",
       "    <tr style=\"text-align: right;\">\n",
       "      <th>debt</th>\n",
       "      <th>0</th>\n",
       "      <th>1</th>\n",
       "    </tr>\n",
       "    <tr>\n",
       "      <th>lemma_purpose</th>\n",
       "      <th></th>\n",
       "      <th></th>\n",
       "    </tr>\n",
       "  </thead>\n",
       "  <tbody>\n",
       "    <tr>\n",
       "      <td>автомобиль</td>\n",
       "      <td>3905</td>\n",
       "      <td>403</td>\n",
       "    </tr>\n",
       "    <tr>\n",
       "      <td>недвижимость</td>\n",
       "      <td>5879</td>\n",
       "      <td>474</td>\n",
       "    </tr>\n",
       "    <tr>\n",
       "      <td>образование</td>\n",
       "      <td>3644</td>\n",
       "      <td>370</td>\n",
       "    </tr>\n",
       "    <tr>\n",
       "      <td>свадьба</td>\n",
       "      <td>2149</td>\n",
       "      <td>186</td>\n",
       "    </tr>\n",
       "  </tbody>\n",
       "</table>\n",
       "</div>"
      ],
      "text/plain": [
       "debt              0    1\n",
       "lemma_purpose           \n",
       "автомобиль     3905  403\n",
       "недвижимость   5879  474\n",
       "образование    3644  370\n",
       "свадьба        2149  186"
      ]
     },
     "execution_count": 76,
     "metadata": {},
     "output_type": "execute_result"
    }
   ],
   "source": [
    "pivot_table_lemma_purpose=data.pivot_table(index='lemma_purpose', columns='debt', values='total_income', aggfunc='count')\n",
    "pivot_table_lemma_purpose"
   ]
  },
  {
   "cell_type": "code",
   "execution_count": 77,
   "metadata": {},
   "outputs": [
    {
     "data": {
      "text/html": [
       "<div>\n",
       "<style scoped>\n",
       "    .dataframe tbody tr th:only-of-type {\n",
       "        vertical-align: middle;\n",
       "    }\n",
       "\n",
       "    .dataframe tbody tr th {\n",
       "        vertical-align: top;\n",
       "    }\n",
       "\n",
       "    .dataframe thead th {\n",
       "        text-align: right;\n",
       "    }\n",
       "</style>\n",
       "<table border=\"1\" class=\"dataframe\">\n",
       "  <thead>\n",
       "    <tr style=\"text-align: right;\">\n",
       "      <th>debt</th>\n",
       "      <th>0</th>\n",
       "      <th>1</th>\n",
       "      <th>ratio</th>\n",
       "    </tr>\n",
       "    <tr>\n",
       "      <th>lemma_purpose</th>\n",
       "      <th></th>\n",
       "      <th></th>\n",
       "      <th></th>\n",
       "    </tr>\n",
       "  </thead>\n",
       "  <tbody>\n",
       "    <tr>\n",
       "      <td>автомобиль</td>\n",
       "      <td>3905</td>\n",
       "      <td>403</td>\n",
       "      <td>0.093547</td>\n",
       "    </tr>\n",
       "    <tr>\n",
       "      <td>образование</td>\n",
       "      <td>3644</td>\n",
       "      <td>370</td>\n",
       "      <td>0.092177</td>\n",
       "    </tr>\n",
       "    <tr>\n",
       "      <td>свадьба</td>\n",
       "      <td>2149</td>\n",
       "      <td>186</td>\n",
       "      <td>0.079657</td>\n",
       "    </tr>\n",
       "    <tr>\n",
       "      <td>недвижимость</td>\n",
       "      <td>5879</td>\n",
       "      <td>474</td>\n",
       "      <td>0.074610</td>\n",
       "    </tr>\n",
       "  </tbody>\n",
       "</table>\n",
       "</div>"
      ],
      "text/plain": [
       "debt              0    1     ratio\n",
       "lemma_purpose                     \n",
       "автомобиль     3905  403  0.093547\n",
       "образование    3644  370  0.092177\n",
       "свадьба        2149  186  0.079657\n",
       "недвижимость   5879  474  0.074610"
      ]
     },
     "execution_count": 77,
     "metadata": {},
     "output_type": "execute_result"
    }
   ],
   "source": [
    "pivot_table_lemma_purpose['ratio'] = data.groupby('lemma_purpose').debt.mean()\n",
    "pivot_table_lemma_purpose.sort_values('ratio', ascending=False)"
   ]
  },
  {
   "cell_type": "markdown",
   "metadata": {},
   "source": [
    "**Вывод**"
   ]
  },
  {
   "cell_type": "markdown",
   "metadata": {},
   "source": [
    "Кредит исправно и в срок выплачивают, заемщики, у которых долг по различным операциям с недвижимостью. Менее ответственно относятся с погашением кредита заемщики, берущие кредиты на покупку автомобилей.\n",
    "Кредит исправно и в срок выплачивают, заемщики, у которых долг по различным операциям с недвижимостью. Менее ответственно относятся с погашением кредита заемщики, берущие кредиты на покупку автомобилей. Возможно это связано с тем, что кредиты на недвижимость это очень серьезно и суммы крупные, проценты по просрочке так же будут расти и выплачивать будет сложнее. И без жилья никто не хочет остаться."
   ]
  },
  {
   "cell_type": "markdown",
   "metadata": {},
   "source": [
    "Дополнительно проверим гипотезу влияет ли возврат кредита от возраста клиента."
   ]
  },
  {
   "cell_type": "code",
   "execution_count": 78,
   "metadata": {},
   "outputs": [
    {
     "data": {
      "text/html": [
       "<div>\n",
       "<style scoped>\n",
       "    .dataframe tbody tr th:only-of-type {\n",
       "        vertical-align: middle;\n",
       "    }\n",
       "\n",
       "    .dataframe tbody tr th {\n",
       "        vertical-align: top;\n",
       "    }\n",
       "\n",
       "    .dataframe thead th {\n",
       "        text-align: right;\n",
       "    }\n",
       "</style>\n",
       "<table border=\"1\" class=\"dataframe\">\n",
       "  <thead>\n",
       "    <tr style=\"text-align: right;\">\n",
       "      <th>debt</th>\n",
       "      <th>0</th>\n",
       "      <th>1</th>\n",
       "    </tr>\n",
       "    <tr>\n",
       "      <th>age_group</th>\n",
       "      <th></th>\n",
       "      <th></th>\n",
       "    </tr>\n",
       "  </thead>\n",
       "  <tbody>\n",
       "    <tr>\n",
       "      <td>до 19 лет</td>\n",
       "      <td>4874</td>\n",
       "      <td>595</td>\n",
       "    </tr>\n",
       "    <tr>\n",
       "      <td>от 19-29</td>\n",
       "      <td>4832</td>\n",
       "      <td>453</td>\n",
       "    </tr>\n",
       "    <tr>\n",
       "      <td>от 30-45</td>\n",
       "      <td>5054</td>\n",
       "      <td>399</td>\n",
       "    </tr>\n",
       "    <tr>\n",
       "      <td>более 45</td>\n",
       "      <td>4970</td>\n",
       "      <td>294</td>\n",
       "    </tr>\n",
       "  </tbody>\n",
       "</table>\n",
       "</div>"
      ],
      "text/plain": [
       "debt          0    1\n",
       "age_group           \n",
       "до 19 лет  4874  595\n",
       "от 19-29   4832  453\n",
       "от 30-45   5054  399\n",
       "более 45   4970  294"
      ]
     },
     "execution_count": 78,
     "metadata": {},
     "output_type": "execute_result"
    }
   ],
   "source": [
    "pivot_table_age_group=data.pivot_table(index='age_group', columns='debt', values='total_income', aggfunc='count')\n",
    "pivot_table_age_group"
   ]
  },
  {
   "cell_type": "code",
   "execution_count": 79,
   "metadata": {},
   "outputs": [
    {
     "data": {
      "text/html": [
       "<div>\n",
       "<style scoped>\n",
       "    .dataframe tbody tr th:only-of-type {\n",
       "        vertical-align: middle;\n",
       "    }\n",
       "\n",
       "    .dataframe tbody tr th {\n",
       "        vertical-align: top;\n",
       "    }\n",
       "\n",
       "    .dataframe thead th {\n",
       "        text-align: right;\n",
       "    }\n",
       "</style>\n",
       "<table border=\"1\" class=\"dataframe\">\n",
       "  <thead>\n",
       "    <tr style=\"text-align: right;\">\n",
       "      <th>debt</th>\n",
       "      <th>0</th>\n",
       "      <th>1</th>\n",
       "      <th>ratio</th>\n",
       "    </tr>\n",
       "    <tr>\n",
       "      <th>age_group</th>\n",
       "      <th></th>\n",
       "      <th></th>\n",
       "      <th></th>\n",
       "    </tr>\n",
       "  </thead>\n",
       "  <tbody>\n",
       "    <tr>\n",
       "      <td>до 19 лет</td>\n",
       "      <td>4874</td>\n",
       "      <td>595</td>\n",
       "      <td>0.108795</td>\n",
       "    </tr>\n",
       "    <tr>\n",
       "      <td>от 19-29</td>\n",
       "      <td>4832</td>\n",
       "      <td>453</td>\n",
       "      <td>0.085714</td>\n",
       "    </tr>\n",
       "    <tr>\n",
       "      <td>от 30-45</td>\n",
       "      <td>5054</td>\n",
       "      <td>399</td>\n",
       "      <td>0.073171</td>\n",
       "    </tr>\n",
       "    <tr>\n",
       "      <td>более 45</td>\n",
       "      <td>4970</td>\n",
       "      <td>294</td>\n",
       "      <td>0.055851</td>\n",
       "    </tr>\n",
       "  </tbody>\n",
       "</table>\n",
       "</div>"
      ],
      "text/plain": [
       "debt          0    1     ratio\n",
       "age_group                     \n",
       "до 19 лет  4874  595  0.108795\n",
       "от 19-29   4832  453  0.085714\n",
       "от 30-45   5054  399  0.073171\n",
       "более 45   4970  294  0.055851"
      ]
     },
     "execution_count": 79,
     "metadata": {},
     "output_type": "execute_result"
    }
   ],
   "source": [
    "pivot_table_age_group['ratio'] =data.groupby('age_group').debt.mean()\n",
    "pivot_table_age_group.sort_values('ratio', ascending=False)"
   ]
  },
  {
   "cell_type": "markdown",
   "metadata": {},
   "source": [
    "**Вывод**"
   ]
  },
  {
   "cell_type": "markdown",
   "metadata": {},
   "source": [
    "Действительно клиенты в возрасте от 19-29 лет, более склонны к просрочке кредита, нежели клиенты в возрасте более 45 лет. Это объясняется тем,что взрослые люди, более ответственны и имеют стабильный доход. "
   ]
  },
  {
   "cell_type": "markdown",
   "metadata": {},
   "source": [
    "## Шаг 4. Общий вывод"
   ]
  },
  {
   "cell_type": "markdown",
   "metadata": {},
   "source": [
    "Был проведен анализ по данным банка о платёжеспособности клиентов. Опираясь на проведенные исследования, можно сделать следующие выводы,что семейное положение и количество детей клиента влияют на факт погашения кредита в срок. \n",
    "Заемщики,которые находятся в разводе/вдовец(ва), в возрасте старше 45 лет и не имеющие детей ответственно возвращают долги банку.\n"
   ]
  },
  {
   "cell_type": "code",
   "execution_count": null,
   "metadata": {},
   "outputs": [],
   "source": []
  },
  {
   "cell_type": "code",
   "execution_count": null,
   "metadata": {},
   "outputs": [],
   "source": []
  }
 ],
 "metadata": {
  "ExecuteTimeLog": [
   {
    "duration": 776,
    "start_time": "2021-12-08T10:16:50.622Z"
   },
   {
    "duration": 2390,
    "start_time": "2021-12-08T10:16:51.400Z"
   },
   {
    "duration": 93,
    "start_time": "2021-12-08T10:17:13.841Z"
   },
   {
    "duration": 15,
    "start_time": "2021-12-08T10:17:36.726Z"
   },
   {
    "duration": 13,
    "start_time": "2021-12-08T10:39:09.004Z"
   },
   {
    "duration": 21,
    "start_time": "2021-12-08T10:39:24.073Z"
   },
   {
    "duration": 16,
    "start_time": "2021-12-08T10:39:33.431Z"
   },
   {
    "duration": 810,
    "start_time": "2021-12-08T20:05:29.121Z"
   },
   {
    "duration": 92,
    "start_time": "2021-12-08T20:05:29.933Z"
   },
   {
    "duration": 33,
    "start_time": "2021-12-08T20:05:30.028Z"
   },
   {
    "duration": 12,
    "start_time": "2021-12-08T20:05:31.559Z"
   },
   {
    "duration": 22,
    "start_time": "2021-12-08T20:05:31.995Z"
   },
   {
    "duration": 17,
    "start_time": "2021-12-08T20:05:32.233Z"
   },
   {
    "duration": 36,
    "start_time": "2021-12-08T20:05:40.610Z"
   },
   {
    "duration": 23,
    "start_time": "2021-12-08T20:05:46.391Z"
   },
   {
    "duration": 6,
    "start_time": "2021-12-08T20:06:12.909Z"
   },
   {
    "duration": 24,
    "start_time": "2021-12-08T20:06:13.621Z"
   },
   {
    "duration": 912,
    "start_time": "2021-12-08T20:19:36.874Z"
   },
   {
    "duration": 1273,
    "start_time": "2021-12-09T18:56:21.753Z"
   },
   {
    "duration": 66,
    "start_time": "2021-12-09T18:56:23.028Z"
   },
   {
    "duration": 11,
    "start_time": "2021-12-09T18:56:23.096Z"
   },
   {
    "duration": 19,
    "start_time": "2021-12-09T18:56:23.109Z"
   },
   {
    "duration": 16,
    "start_time": "2021-12-09T18:56:23.129Z"
   },
   {
    "duration": 26,
    "start_time": "2021-12-09T18:56:23.146Z"
   },
   {
    "duration": 11,
    "start_time": "2021-12-09T18:56:43.985Z"
   },
   {
    "duration": 11,
    "start_time": "2021-12-09T18:57:20.747Z"
   },
   {
    "duration": 65,
    "start_time": "2021-12-09T18:57:27.782Z"
   },
   {
    "duration": 14,
    "start_time": "2021-12-09T18:57:29.276Z"
   },
   {
    "duration": 12,
    "start_time": "2021-12-09T18:57:32.623Z"
   },
   {
    "duration": 26,
    "start_time": "2021-12-09T18:58:55.910Z"
   },
   {
    "duration": 28,
    "start_time": "2021-12-09T19:06:12.575Z"
   },
   {
    "duration": 6,
    "start_time": "2021-12-09T19:10:06.168Z"
   },
   {
    "duration": 20,
    "start_time": "2021-12-09T19:10:07.420Z"
   },
   {
    "duration": 32,
    "start_time": "2021-12-09T19:27:00.080Z"
   },
   {
    "duration": 5,
    "start_time": "2021-12-09T19:31:33.700Z"
   },
   {
    "duration": 6,
    "start_time": "2021-12-09T19:31:44.143Z"
   },
   {
    "duration": 5,
    "start_time": "2021-12-09T19:32:26.729Z"
   },
   {
    "duration": 6,
    "start_time": "2021-12-09T19:33:16.836Z"
   },
   {
    "duration": 5,
    "start_time": "2021-12-09T19:33:38.221Z"
   },
   {
    "duration": 7,
    "start_time": "2021-12-09T19:33:48.232Z"
   },
   {
    "duration": 7,
    "start_time": "2021-12-09T19:35:23.533Z"
   },
   {
    "duration": 7,
    "start_time": "2021-12-09T19:37:15.906Z"
   },
   {
    "duration": 6,
    "start_time": "2021-12-09T19:41:51.343Z"
   },
   {
    "duration": 6,
    "start_time": "2021-12-09T19:42:03.502Z"
   },
   {
    "duration": 10,
    "start_time": "2021-12-09T19:45:29.545Z"
   },
   {
    "duration": 56,
    "start_time": "2021-12-09T19:45:34.594Z"
   },
   {
    "duration": 11,
    "start_time": "2021-12-09T19:45:35.646Z"
   },
   {
    "duration": 30,
    "start_time": "2021-12-09T19:45:36.352Z"
   },
   {
    "duration": 6,
    "start_time": "2021-12-09T19:45:36.927Z"
   },
   {
    "duration": 7,
    "start_time": "2021-12-09T19:45:37.552Z"
   },
   {
    "duration": 9,
    "start_time": "2021-12-09T19:45:50.425Z"
   },
   {
    "duration": 5,
    "start_time": "2021-12-09T19:46:17.595Z"
   },
   {
    "duration": 11,
    "start_time": "2021-12-09T19:46:29.156Z"
   },
   {
    "duration": 415,
    "start_time": "2021-12-09T20:08:50.220Z"
   },
   {
    "duration": 7,
    "start_time": "2021-12-09T20:08:55.879Z"
   },
   {
    "duration": 5,
    "start_time": "2021-12-09T20:09:02.650Z"
   },
   {
    "duration": 6,
    "start_time": "2021-12-09T20:10:05.325Z"
   },
   {
    "duration": 7,
    "start_time": "2021-12-09T20:10:13.858Z"
   },
   {
    "duration": 7,
    "start_time": "2021-12-09T20:10:26.509Z"
   },
   {
    "duration": 309,
    "start_time": "2021-12-09T20:10:52.227Z"
   },
   {
    "duration": 8,
    "start_time": "2021-12-09T20:11:06.813Z"
   },
   {
    "duration": 8,
    "start_time": "2021-12-09T20:11:20.369Z"
   },
   {
    "duration": 8,
    "start_time": "2021-12-09T20:11:45.056Z"
   },
   {
    "duration": 7,
    "start_time": "2021-12-09T20:13:43.797Z"
   },
   {
    "duration": 16,
    "start_time": "2021-12-09T20:16:55.436Z"
   },
   {
    "duration": 14,
    "start_time": "2021-12-09T20:17:38.527Z"
   },
   {
    "duration": 15,
    "start_time": "2021-12-09T20:18:23.462Z"
   },
   {
    "duration": 15,
    "start_time": "2021-12-09T20:18:32.256Z"
   },
   {
    "duration": 13,
    "start_time": "2021-12-09T20:23:06.854Z"
   },
   {
    "duration": 15,
    "start_time": "2021-12-09T20:23:19.884Z"
   },
   {
    "duration": 15,
    "start_time": "2021-12-09T20:25:17.585Z"
   },
   {
    "duration": 1145,
    "start_time": "2021-12-10T11:03:48.102Z"
   },
   {
    "duration": 68,
    "start_time": "2021-12-10T11:03:49.248Z"
   },
   {
    "duration": 10,
    "start_time": "2021-12-10T11:03:49.318Z"
   },
   {
    "duration": 29,
    "start_time": "2021-12-10T11:03:49.330Z"
   },
   {
    "duration": 6,
    "start_time": "2021-12-10T11:03:49.361Z"
   },
   {
    "duration": 21,
    "start_time": "2021-12-10T11:03:49.368Z"
   },
   {
    "duration": 15,
    "start_time": "2021-12-10T11:03:49.391Z"
   },
   {
    "duration": 7,
    "start_time": "2021-12-10T11:03:49.408Z"
   },
   {
    "duration": 15,
    "start_time": "2021-12-10T11:03:49.417Z"
   },
   {
    "duration": 15,
    "start_time": "2021-12-10T11:03:49.434Z"
   },
   {
    "duration": 7,
    "start_time": "2021-12-10T11:04:45.587Z"
   },
   {
    "duration": 355,
    "start_time": "2021-12-10T11:05:03.081Z"
   },
   {
    "duration": 6,
    "start_time": "2021-12-10T11:05:15.826Z"
   },
   {
    "duration": 3,
    "start_time": "2021-12-10T11:16:53.724Z"
   },
   {
    "duration": 3,
    "start_time": "2021-12-10T11:17:17.472Z"
   },
   {
    "duration": 7359,
    "start_time": "2021-12-10T11:17:57.202Z"
   },
   {
    "duration": 6827,
    "start_time": "2021-12-10T11:18:10.535Z"
   },
   {
    "duration": 18,
    "start_time": "2021-12-10T11:18:29.209Z"
   },
   {
    "duration": 7,
    "start_time": "2021-12-10T11:19:36.347Z"
   },
   {
    "duration": 2,
    "start_time": "2021-12-10T11:20:17.672Z"
   },
   {
    "duration": 3,
    "start_time": "2021-12-10T11:20:18.373Z"
   },
   {
    "duration": 18,
    "start_time": "2021-12-10T11:20:20.668Z"
   },
   {
    "duration": 11,
    "start_time": "2021-12-10T11:20:21.692Z"
   },
   {
    "duration": 3,
    "start_time": "2021-12-10T11:23:36.568Z"
   },
   {
    "duration": 4,
    "start_time": "2021-12-10T11:23:37.795Z"
   },
   {
    "duration": 24,
    "start_time": "2021-12-10T11:23:37.986Z"
   },
   {
    "duration": 6,
    "start_time": "2021-12-10T11:23:38.176Z"
   },
   {
    "duration": 3,
    "start_time": "2021-12-10T11:23:51.267Z"
   },
   {
    "duration": 3,
    "start_time": "2021-12-10T11:23:53.648Z"
   },
   {
    "duration": 22,
    "start_time": "2021-12-10T11:23:54.090Z"
   },
   {
    "duration": 9,
    "start_time": "2021-12-10T11:23:54.570Z"
   },
   {
    "duration": 3,
    "start_time": "2021-12-10T11:29:25.254Z"
   },
   {
    "duration": 17,
    "start_time": "2021-12-10T11:29:26.031Z"
   },
   {
    "duration": 6,
    "start_time": "2021-12-10T11:29:27.469Z"
   },
   {
    "duration": 9,
    "start_time": "2021-12-10T11:30:11.600Z"
   },
   {
    "duration": 282,
    "start_time": "2021-12-10T11:43:28.832Z"
   },
   {
    "duration": 246,
    "start_time": "2021-12-10T11:43:54.941Z"
   },
   {
    "duration": 33,
    "start_time": "2021-12-10T11:44:01.461Z"
   },
   {
    "duration": 27,
    "start_time": "2021-12-10T11:44:39.888Z"
   },
   {
    "duration": 4,
    "start_time": "2021-12-10T11:46:01.983Z"
   },
   {
    "duration": 6,
    "start_time": "2021-12-10T11:48:29.138Z"
   },
   {
    "duration": 84,
    "start_time": "2021-12-10T11:49:00.472Z"
   },
   {
    "duration": 826,
    "start_time": "2021-12-10T11:49:05.705Z"
   },
   {
    "duration": 15,
    "start_time": "2021-12-10T11:49:27.002Z"
   },
   {
    "duration": 22,
    "start_time": "2021-12-10T11:50:11.176Z"
   },
   {
    "duration": 17,
    "start_time": "2021-12-10T11:50:26.512Z"
   },
   {
    "duration": 3,
    "start_time": "2021-12-10T11:50:27.549Z"
   },
   {
    "duration": 16,
    "start_time": "2021-12-10T11:50:27.766Z"
   },
   {
    "duration": 7,
    "start_time": "2021-12-10T11:50:27.971Z"
   },
   {
    "duration": 19,
    "start_time": "2021-12-10T11:50:28.156Z"
   },
   {
    "duration": 9,
    "start_time": "2021-12-10T11:51:00.884Z"
   },
   {
    "duration": 3,
    "start_time": "2021-12-10T11:52:08.182Z"
   },
   {
    "duration": 21,
    "start_time": "2021-12-10T11:52:08.391Z"
   },
   {
    "duration": 7,
    "start_time": "2021-12-10T11:52:08.642Z"
   },
   {
    "duration": 20,
    "start_time": "2021-12-10T11:52:09.760Z"
   },
   {
    "duration": 18,
    "start_time": "2021-12-10T12:03:45.776Z"
   },
   {
    "duration": 16,
    "start_time": "2021-12-10T12:04:03.193Z"
   },
   {
    "duration": 11,
    "start_time": "2021-12-10T12:04:13.024Z"
   },
   {
    "duration": 8,
    "start_time": "2021-12-10T12:04:35.298Z"
   },
   {
    "duration": 11,
    "start_time": "2021-12-10T12:05:51.499Z"
   },
   {
    "duration": 17,
    "start_time": "2021-12-10T12:09:36.555Z"
   },
   {
    "duration": 10,
    "start_time": "2021-12-10T12:09:56.045Z"
   },
   {
    "duration": 81,
    "start_time": "2021-12-10T12:10:14.256Z"
   },
   {
    "duration": 20,
    "start_time": "2021-12-10T12:10:18.218Z"
   },
   {
    "duration": 4,
    "start_time": "2021-12-10T12:10:52.266Z"
   },
   {
    "duration": 13,
    "start_time": "2021-12-10T12:17:41.215Z"
   },
   {
    "duration": 6,
    "start_time": "2021-12-10T12:17:45.437Z"
   },
   {
    "duration": 1192,
    "start_time": "2021-12-10T18:39:55.166Z"
   },
   {
    "duration": 66,
    "start_time": "2021-12-10T18:39:56.360Z"
   },
   {
    "duration": 10,
    "start_time": "2021-12-10T18:39:56.428Z"
   },
   {
    "duration": 33,
    "start_time": "2021-12-10T18:39:56.440Z"
   },
   {
    "duration": 6,
    "start_time": "2021-12-10T18:39:56.490Z"
   },
   {
    "duration": 6,
    "start_time": "2021-12-10T18:39:56.498Z"
   },
   {
    "duration": 10,
    "start_time": "2021-12-10T18:39:56.505Z"
   },
   {
    "duration": 6,
    "start_time": "2021-12-10T18:39:56.518Z"
   },
   {
    "duration": 14,
    "start_time": "2021-12-10T18:39:56.526Z"
   },
   {
    "duration": 50,
    "start_time": "2021-12-10T18:39:56.542Z"
   },
   {
    "duration": 3,
    "start_time": "2021-12-10T18:39:56.594Z"
   },
   {
    "duration": 21,
    "start_time": "2021-12-10T18:39:56.598Z"
   },
   {
    "duration": 7,
    "start_time": "2021-12-10T18:39:56.621Z"
   },
   {
    "duration": 6,
    "start_time": "2021-12-10T18:39:56.629Z"
   },
   {
    "duration": 16,
    "start_time": "2021-12-10T18:39:56.637Z"
   },
   {
    "duration": 55,
    "start_time": "2021-12-10T18:39:56.655Z"
   },
   {
    "duration": -1573,
    "start_time": "2021-12-10T18:39:58.285Z"
   },
   {
    "duration": 13,
    "start_time": "2021-12-10T18:41:15.551Z"
   },
   {
    "duration": 52,
    "start_time": "2021-12-10T18:41:16.471Z"
   },
   {
    "duration": 8,
    "start_time": "2021-12-10T18:41:22.275Z"
   },
   {
    "duration": 14,
    "start_time": "2021-12-10T18:41:26.774Z"
   },
   {
    "duration": 11,
    "start_time": "2021-12-10T18:41:27.731Z"
   },
   {
    "duration": 55,
    "start_time": "2021-12-10T18:41:28.930Z"
   },
   {
    "duration": 6,
    "start_time": "2021-12-10T18:41:31.809Z"
   },
   {
    "duration": 46,
    "start_time": "2021-12-10T18:41:49.814Z"
   },
   {
    "duration": 19,
    "start_time": "2021-12-10T18:42:57.108Z"
   },
   {
    "duration": 62,
    "start_time": "2021-12-10T18:43:01.909Z"
   },
   {
    "duration": 12,
    "start_time": "2021-12-10T18:43:02.122Z"
   },
   {
    "duration": 31,
    "start_time": "2021-12-10T18:43:02.304Z"
   },
   {
    "duration": 6,
    "start_time": "2021-12-10T18:43:02.498Z"
   },
   {
    "duration": 9,
    "start_time": "2021-12-10T18:43:02.698Z"
   },
   {
    "duration": 9,
    "start_time": "2021-12-10T18:43:06.913Z"
   },
   {
    "duration": 8,
    "start_time": "2021-12-10T18:43:07.541Z"
   },
   {
    "duration": 16,
    "start_time": "2021-12-10T18:43:09.000Z"
   },
   {
    "duration": 17,
    "start_time": "2021-12-10T18:43:12.107Z"
   },
   {
    "duration": 3,
    "start_time": "2021-12-10T18:43:13.877Z"
   },
   {
    "duration": 19,
    "start_time": "2021-12-10T18:43:14.187Z"
   },
   {
    "duration": 7,
    "start_time": "2021-12-10T18:43:17.691Z"
   },
   {
    "duration": 4,
    "start_time": "2021-12-10T18:43:19.282Z"
   },
   {
    "duration": 82,
    "start_time": "2021-12-10T18:49:44.157Z"
   },
   {
    "duration": 25347,
    "start_time": "2021-12-10T18:49:52.747Z"
   },
   {
    "duration": 4,
    "start_time": "2021-12-10T18:50:35.509Z"
   },
   {
    "duration": 12,
    "start_time": "2021-12-10T18:50:51.821Z"
   },
   {
    "duration": 34,
    "start_time": "2021-12-10T18:51:01.145Z"
   },
   {
    "duration": 15319,
    "start_time": "2021-12-10T18:51:33.655Z"
   },
   {
    "duration": 99,
    "start_time": "2021-12-10T19:06:02.796Z"
   },
   {
    "duration": 7,
    "start_time": "2021-12-10T19:06:18.986Z"
   },
   {
    "duration": 4,
    "start_time": "2021-12-10T19:06:58.326Z"
   },
   {
    "duration": 8,
    "start_time": "2021-12-10T19:07:08.346Z"
   },
   {
    "duration": 271,
    "start_time": "2021-12-10T19:08:12.306Z"
   },
   {
    "duration": 7,
    "start_time": "2021-12-10T19:08:24.719Z"
   },
   {
    "duration": 6,
    "start_time": "2021-12-10T19:09:00.099Z"
   },
   {
    "duration": 185,
    "start_time": "2021-12-10T19:09:23.963Z"
   },
   {
    "duration": 11,
    "start_time": "2021-12-10T19:09:48.522Z"
   },
   {
    "duration": 6,
    "start_time": "2021-12-10T19:10:30.218Z"
   },
   {
    "duration": 8,
    "start_time": "2021-12-10T19:10:30.666Z"
   },
   {
    "duration": 28,
    "start_time": "2021-12-10T19:10:34.956Z"
   },
   {
    "duration": 21,
    "start_time": "2021-12-10T19:11:00.919Z"
   },
   {
    "duration": 22,
    "start_time": "2021-12-10T19:11:42.297Z"
   },
   {
    "duration": 8,
    "start_time": "2021-12-10T19:12:02.577Z"
   },
   {
    "duration": 35,
    "start_time": "2021-12-10T19:12:18.206Z"
   },
   {
    "duration": 8,
    "start_time": "2021-12-10T19:12:45.572Z"
   },
   {
    "duration": 4,
    "start_time": "2021-12-10T19:13:08.154Z"
   },
   {
    "duration": 7,
    "start_time": "2021-12-10T19:13:16.658Z"
   },
   {
    "duration": 59,
    "start_time": "2021-12-10T19:13:29.451Z"
   },
   {
    "duration": 11,
    "start_time": "2021-12-10T19:13:29.966Z"
   },
   {
    "duration": 34,
    "start_time": "2021-12-10T19:13:30.156Z"
   },
   {
    "duration": 6,
    "start_time": "2021-12-10T19:13:30.332Z"
   },
   {
    "duration": 7,
    "start_time": "2021-12-10T19:13:30.506Z"
   },
   {
    "duration": 10,
    "start_time": "2021-12-10T19:13:31.595Z"
   },
   {
    "duration": 9,
    "start_time": "2021-12-10T19:13:31.785Z"
   },
   {
    "duration": 16,
    "start_time": "2021-12-10T19:13:32.272Z"
   },
   {
    "duration": 16,
    "start_time": "2021-12-10T19:13:32.988Z"
   },
   {
    "duration": 3,
    "start_time": "2021-12-10T19:13:33.783Z"
   },
   {
    "duration": 20,
    "start_time": "2021-12-10T19:13:34.210Z"
   },
   {
    "duration": 7,
    "start_time": "2021-12-10T19:13:34.446Z"
   },
   {
    "duration": 4,
    "start_time": "2021-12-10T19:13:34.776Z"
   },
   {
    "duration": 7,
    "start_time": "2021-12-10T19:13:35.918Z"
   },
   {
    "duration": 9,
    "start_time": "2021-12-10T19:13:36.670Z"
   },
   {
    "duration": 5,
    "start_time": "2021-12-10T19:13:37.692Z"
   },
   {
    "duration": 11,
    "start_time": "2021-12-10T19:13:40.650Z"
   },
   {
    "duration": 7,
    "start_time": "2021-12-10T19:13:41.648Z"
   },
   {
    "duration": 8,
    "start_time": "2021-12-10T19:13:47.720Z"
   },
   {
    "duration": 61,
    "start_time": "2021-12-10T19:14:38.344Z"
   },
   {
    "duration": 61,
    "start_time": "2021-12-10T19:14:47.458Z"
   },
   {
    "duration": 872,
    "start_time": "2021-12-10T19:14:58.351Z"
   },
   {
    "duration": 190,
    "start_time": "2021-12-10T19:16:49.629Z"
   },
   {
    "duration": 839,
    "start_time": "2021-12-10T19:17:46.674Z"
   },
   {
    "duration": -1380,
    "start_time": "2021-12-10T19:17:48.896Z"
   },
   {
    "duration": 60,
    "start_time": "2021-12-10T19:17:53.124Z"
   },
   {
    "duration": 12,
    "start_time": "2021-12-10T19:17:53.884Z"
   },
   {
    "duration": 33,
    "start_time": "2021-12-10T19:17:54.100Z"
   },
   {
    "duration": 6,
    "start_time": "2021-12-10T19:17:54.288Z"
   },
   {
    "duration": 7,
    "start_time": "2021-12-10T19:17:54.471Z"
   },
   {
    "duration": 10,
    "start_time": "2021-12-10T19:17:55.436Z"
   },
   {
    "duration": 8,
    "start_time": "2021-12-10T19:17:55.612Z"
   },
   {
    "duration": 16,
    "start_time": "2021-12-10T19:17:55.813Z"
   },
   {
    "duration": 16,
    "start_time": "2021-12-10T19:17:56.015Z"
   },
   {
    "duration": 3,
    "start_time": "2021-12-10T19:17:56.229Z"
   },
   {
    "duration": 18,
    "start_time": "2021-12-10T19:17:56.411Z"
   },
   {
    "duration": 7,
    "start_time": "2021-12-10T19:17:56.652Z"
   },
   {
    "duration": 5,
    "start_time": "2021-12-10T19:17:56.887Z"
   },
   {
    "duration": 7,
    "start_time": "2021-12-10T19:17:58.330Z"
   },
   {
    "duration": 11,
    "start_time": "2021-12-10T19:17:58.698Z"
   },
   {
    "duration": 9,
    "start_time": "2021-12-10T19:17:58.910Z"
   },
   {
    "duration": 15321,
    "start_time": "2021-12-10T19:18:03.706Z"
   },
   {
    "duration": 6,
    "start_time": "2021-12-10T19:18:27.537Z"
   },
   {
    "duration": 7,
    "start_time": "2021-12-10T19:18:28.562Z"
   },
   {
    "duration": 7,
    "start_time": "2021-12-10T19:18:44.670Z"
   },
   {
    "duration": 32,
    "start_time": "2021-12-10T19:19:12.950Z"
   },
   {
    "duration": 15706,
    "start_time": "2021-12-10T19:27:12.768Z"
   },
   {
    "duration": 5,
    "start_time": "2021-12-10T19:32:18.468Z"
   },
   {
    "duration": 5,
    "start_time": "2021-12-10T19:32:41.142Z"
   },
   {
    "duration": 6,
    "start_time": "2021-12-10T19:36:15.515Z"
   },
   {
    "duration": 6,
    "start_time": "2021-12-10T19:36:30.798Z"
   },
   {
    "duration": 7,
    "start_time": "2021-12-10T19:37:14.150Z"
   },
   {
    "duration": 5,
    "start_time": "2021-12-10T19:37:15.420Z"
   },
   {
    "duration": 5,
    "start_time": "2021-12-10T19:37:29.061Z"
   },
   {
    "duration": 6,
    "start_time": "2021-12-10T19:37:31.040Z"
   },
   {
    "duration": 6,
    "start_time": "2021-12-10T19:37:50.206Z"
   },
   {
    "duration": 6,
    "start_time": "2021-12-10T19:39:47.012Z"
   },
   {
    "duration": 173,
    "start_time": "2021-12-10T19:54:59.213Z"
   },
   {
    "duration": 171,
    "start_time": "2021-12-10T19:55:03.953Z"
   },
   {
    "duration": 174,
    "start_time": "2021-12-10T19:55:12.982Z"
   },
   {
    "duration": 13,
    "start_time": "2021-12-10T19:55:27.232Z"
   },
   {
    "duration": 4,
    "start_time": "2021-12-10T19:57:51.939Z"
   },
   {
    "duration": 12,
    "start_time": "2021-12-10T19:57:58.540Z"
   },
   {
    "duration": 4,
    "start_time": "2021-12-10T19:58:18.781Z"
   },
   {
    "duration": 11,
    "start_time": "2021-12-10T19:58:19.415Z"
   },
   {
    "duration": 6,
    "start_time": "2021-12-10T19:59:20.984Z"
   },
   {
    "duration": 4,
    "start_time": "2021-12-10T19:59:29.407Z"
   },
   {
    "duration": 13,
    "start_time": "2021-12-10T19:59:30.286Z"
   },
   {
    "duration": 18,
    "start_time": "2021-12-10T20:04:41.819Z"
   },
   {
    "duration": 17,
    "start_time": "2021-12-10T20:04:55.325Z"
   },
   {
    "duration": 18,
    "start_time": "2021-12-10T20:05:53.326Z"
   },
   {
    "duration": 18,
    "start_time": "2021-12-10T20:06:03.048Z"
   },
   {
    "duration": 18,
    "start_time": "2021-12-10T20:06:10.070Z"
   },
   {
    "duration": 18,
    "start_time": "2021-12-10T20:07:35.066Z"
   },
   {
    "duration": 5,
    "start_time": "2021-12-10T20:14:00.960Z"
   },
   {
    "duration": 6,
    "start_time": "2021-12-10T20:14:05.507Z"
   },
   {
    "duration": 195,
    "start_time": "2021-12-10T20:15:34.309Z"
   },
   {
    "duration": 15,
    "start_time": "2021-12-10T20:15:46.608Z"
   },
   {
    "duration": 30,
    "start_time": "2021-12-10T20:16:33.777Z"
   },
   {
    "duration": 41,
    "start_time": "2021-12-10T20:18:13.664Z"
   },
   {
    "duration": 21,
    "start_time": "2021-12-10T20:18:32.506Z"
   },
   {
    "duration": 18,
    "start_time": "2021-12-10T20:19:16.323Z"
   },
   {
    "duration": 19,
    "start_time": "2021-12-10T20:19:16.525Z"
   },
   {
    "duration": 60,
    "start_time": "2021-12-10T20:19:30.568Z"
   },
   {
    "duration": 11,
    "start_time": "2021-12-10T20:19:31.314Z"
   },
   {
    "duration": 31,
    "start_time": "2021-12-10T20:19:31.484Z"
   },
   {
    "duration": 6,
    "start_time": "2021-12-10T20:19:31.660Z"
   },
   {
    "duration": 7,
    "start_time": "2021-12-10T20:19:31.822Z"
   },
   {
    "duration": 10,
    "start_time": "2021-12-10T20:19:32.637Z"
   },
   {
    "duration": 7,
    "start_time": "2021-12-10T20:19:32.801Z"
   },
   {
    "duration": 15,
    "start_time": "2021-12-10T20:19:32.972Z"
   },
   {
    "duration": 16,
    "start_time": "2021-12-10T20:19:33.155Z"
   },
   {
    "duration": 3,
    "start_time": "2021-12-10T20:19:33.355Z"
   },
   {
    "duration": 18,
    "start_time": "2021-12-10T20:19:33.557Z"
   },
   {
    "duration": 7,
    "start_time": "2021-12-10T20:19:33.851Z"
   },
   {
    "duration": 14872,
    "start_time": "2021-12-10T20:19:35.329Z"
   },
   {
    "duration": 4,
    "start_time": "2021-12-10T20:19:50.203Z"
   },
   {
    "duration": 12,
    "start_time": "2021-12-10T20:19:50.209Z"
   },
   {
    "duration": 8,
    "start_time": "2021-12-10T20:19:50.222Z"
   },
   {
    "duration": 26,
    "start_time": "2021-12-10T20:19:50.232Z"
   },
   {
    "duration": 16,
    "start_time": "2021-12-10T20:19:50.259Z"
   },
   {
    "duration": 20,
    "start_time": "2021-12-10T20:19:55.620Z"
   },
   {
    "duration": 17,
    "start_time": "2021-12-10T20:20:13.445Z"
   },
   {
    "duration": 11,
    "start_time": "2021-12-10T20:44:28.477Z"
   },
   {
    "duration": 204,
    "start_time": "2021-12-10T20:48:38.885Z"
   },
   {
    "duration": 2815,
    "start_time": "2021-12-10T20:48:56.925Z"
   },
   {
    "duration": 650,
    "start_time": "2021-12-10T20:51:14.709Z"
   },
   {
    "duration": 683,
    "start_time": "2021-12-10T20:51:24.034Z"
   },
   {
    "duration": 210,
    "start_time": "2021-12-10T20:51:39.453Z"
   },
   {
    "duration": 4,
    "start_time": "2021-12-10T20:54:14.839Z"
   },
   {
    "duration": 174,
    "start_time": "2021-12-10T20:54:45.084Z"
   },
   {
    "duration": 4144,
    "start_time": "2021-12-10T20:54:58.532Z"
   },
   {
    "duration": 22,
    "start_time": "2021-12-10T20:55:08.634Z"
   },
   {
    "duration": 15,
    "start_time": "2021-12-10T20:55:15.627Z"
   },
   {
    "duration": 56,
    "start_time": "2021-12-10T20:57:32.521Z"
   },
   {
    "duration": 3220,
    "start_time": "2021-12-10T20:57:52.641Z"
   },
   {
    "duration": 14,
    "start_time": "2021-12-10T20:57:55.863Z"
   },
   {
    "duration": 9,
    "start_time": "2021-12-10T20:58:46.317Z"
   },
   {
    "duration": 6,
    "start_time": "2021-12-10T20:59:16.504Z"
   },
   {
    "duration": 5,
    "start_time": "2021-12-10T20:59:40.672Z"
   },
   {
    "duration": 8,
    "start_time": "2021-12-10T20:59:59.885Z"
   },
   {
    "duration": 3309,
    "start_time": "2021-12-10T21:00:05.561Z"
   },
   {
    "duration": 28,
    "start_time": "2021-12-10T21:00:08.871Z"
   },
   {
    "duration": 13,
    "start_time": "2021-12-10T21:00:08.901Z"
   },
   {
    "duration": 232,
    "start_time": "2021-12-10T21:03:20.280Z"
   },
   {
    "duration": 213,
    "start_time": "2021-12-10T21:03:30.707Z"
   },
   {
    "duration": 670,
    "start_time": "2021-12-10T21:03:40.647Z"
   },
   {
    "duration": 201,
    "start_time": "2021-12-10T21:09:25.876Z"
   },
   {
    "duration": 666,
    "start_time": "2021-12-10T21:10:03.541Z"
   },
   {
    "duration": 203,
    "start_time": "2021-12-10T21:10:23.101Z"
   },
   {
    "duration": 5,
    "start_time": "2021-12-10T21:10:26.541Z"
   },
   {
    "duration": 180,
    "start_time": "2021-12-10T21:10:27.603Z"
   },
   {
    "duration": 672,
    "start_time": "2021-12-10T21:10:38.008Z"
   },
   {
    "duration": 7,
    "start_time": "2021-12-10T21:12:25.848Z"
   },
   {
    "duration": 3,
    "start_time": "2021-12-10T21:12:37.111Z"
   },
   {
    "duration": 1893,
    "start_time": "2021-12-10T21:12:47.308Z"
   },
   {
    "duration": 9,
    "start_time": "2021-12-10T21:13:32.071Z"
   },
   {
    "duration": 1577,
    "start_time": "2021-12-11T11:20:00.202Z"
   },
   {
    "duration": 85,
    "start_time": "2021-12-11T11:20:01.782Z"
   },
   {
    "duration": 14,
    "start_time": "2021-12-11T11:20:01.870Z"
   },
   {
    "duration": 65,
    "start_time": "2021-12-11T11:20:01.886Z"
   },
   {
    "duration": 8,
    "start_time": "2021-12-11T11:20:01.953Z"
   },
   {
    "duration": 33,
    "start_time": "2021-12-11T11:20:01.963Z"
   },
   {
    "duration": 36,
    "start_time": "2021-12-11T11:20:01.998Z"
   },
   {
    "duration": 10,
    "start_time": "2021-12-11T11:20:02.038Z"
   },
   {
    "duration": 22,
    "start_time": "2021-12-11T11:20:02.051Z"
   },
   {
    "duration": 43,
    "start_time": "2021-12-11T11:20:02.075Z"
   },
   {
    "duration": 4,
    "start_time": "2021-12-11T11:20:02.120Z"
   },
   {
    "duration": 34,
    "start_time": "2021-12-11T11:20:02.126Z"
   },
   {
    "duration": 32,
    "start_time": "2021-12-11T11:20:02.163Z"
   },
   {
    "duration": 25855,
    "start_time": "2021-12-11T11:20:02.198Z"
   },
   {
    "duration": 5,
    "start_time": "2021-12-11T11:20:28.055Z"
   },
   {
    "duration": 11,
    "start_time": "2021-12-11T11:20:28.062Z"
   },
   {
    "duration": 5,
    "start_time": "2021-12-11T11:20:28.076Z"
   },
   {
    "duration": 42,
    "start_time": "2021-12-11T11:20:28.083Z"
   },
   {
    "duration": 23,
    "start_time": "2021-12-11T11:20:28.128Z"
   },
   {
    "duration": 28,
    "start_time": "2021-12-11T11:20:28.153Z"
   },
   {
    "duration": 49,
    "start_time": "2021-12-11T11:20:28.184Z"
   },
   {
    "duration": 10,
    "start_time": "2021-12-11T11:20:28.235Z"
   },
   {
    "duration": 696,
    "start_time": "2021-12-11T11:20:28.249Z"
   },
   {
    "duration": -133,
    "start_time": "2021-12-11T11:20:29.080Z"
   },
   {
    "duration": -139,
    "start_time": "2021-12-11T11:20:29.088Z"
   },
   {
    "duration": -147,
    "start_time": "2021-12-11T11:20:29.097Z"
   },
   {
    "duration": -158,
    "start_time": "2021-12-11T11:20:29.109Z"
   },
   {
    "duration": -168,
    "start_time": "2021-12-11T11:20:29.121Z"
   },
   {
    "duration": 592,
    "start_time": "2021-12-11T11:31:33.556Z"
   },
   {
    "duration": 77,
    "start_time": "2021-12-11T11:32:02.937Z"
   },
   {
    "duration": 16,
    "start_time": "2021-12-11T11:32:03.126Z"
   },
   {
    "duration": 53,
    "start_time": "2021-12-11T11:32:03.320Z"
   },
   {
    "duration": 8,
    "start_time": "2021-12-11T11:32:03.459Z"
   },
   {
    "duration": 10,
    "start_time": "2021-12-11T11:32:03.663Z"
   },
   {
    "duration": 14,
    "start_time": "2021-12-11T11:32:06.083Z"
   },
   {
    "duration": 11,
    "start_time": "2021-12-11T11:32:06.274Z"
   },
   {
    "duration": 21,
    "start_time": "2021-12-11T11:32:06.469Z"
   },
   {
    "duration": 23,
    "start_time": "2021-12-11T11:32:06.652Z"
   },
   {
    "duration": 3,
    "start_time": "2021-12-11T11:32:06.854Z"
   },
   {
    "duration": 29,
    "start_time": "2021-12-11T11:32:07.051Z"
   },
   {
    "duration": 10,
    "start_time": "2021-12-11T11:32:07.282Z"
   },
   {
    "duration": 26560,
    "start_time": "2021-12-11T11:32:07.724Z"
   },
   {
    "duration": 6,
    "start_time": "2021-12-11T11:32:34.287Z"
   },
   {
    "duration": 26,
    "start_time": "2021-12-11T11:32:34.296Z"
   },
   {
    "duration": 6,
    "start_time": "2021-12-11T11:32:34.324Z"
   },
   {
    "duration": 17,
    "start_time": "2021-12-11T11:32:34.333Z"
   },
   {
    "duration": 23,
    "start_time": "2021-12-11T11:32:34.353Z"
   },
   {
    "duration": 28,
    "start_time": "2021-12-11T11:33:10.358Z"
   },
   {
    "duration": 40,
    "start_time": "2021-12-11T11:33:10.564Z"
   },
   {
    "duration": 29,
    "start_time": "2021-12-11T11:33:10.777Z"
   },
   {
    "duration": 11,
    "start_time": "2021-12-11T11:33:12.184Z"
   },
   {
    "duration": 526,
    "start_time": "2021-12-11T11:33:13.618Z"
   },
   {
    "duration": 12,
    "start_time": "2021-12-11T11:33:28.674Z"
   },
   {
    "duration": 541,
    "start_time": "2021-12-11T11:33:30.938Z"
   },
   {
    "duration": 4,
    "start_time": "2021-12-11T11:34:15.327Z"
   },
   {
    "duration": 77,
    "start_time": "2021-12-11T11:34:16.238Z"
   },
   {
    "duration": 15,
    "start_time": "2021-12-11T11:34:16.422Z"
   },
   {
    "duration": 49,
    "start_time": "2021-12-11T11:34:16.579Z"
   },
   {
    "duration": 8,
    "start_time": "2021-12-11T11:34:16.733Z"
   },
   {
    "duration": 11,
    "start_time": "2021-12-11T11:34:16.912Z"
   },
   {
    "duration": 12,
    "start_time": "2021-12-11T11:34:17.895Z"
   },
   {
    "duration": 12,
    "start_time": "2021-12-11T11:34:18.088Z"
   },
   {
    "duration": 20,
    "start_time": "2021-12-11T11:34:18.279Z"
   },
   {
    "duration": 21,
    "start_time": "2021-12-11T11:34:18.476Z"
   },
   {
    "duration": 5,
    "start_time": "2021-12-11T11:34:18.673Z"
   },
   {
    "duration": 28,
    "start_time": "2021-12-11T11:34:20.193Z"
   },
   {
    "duration": 9,
    "start_time": "2021-12-11T11:34:20.395Z"
   },
   {
    "duration": 26648,
    "start_time": "2021-12-11T11:34:20.775Z"
   },
   {
    "duration": 8,
    "start_time": "2021-12-11T11:34:47.426Z"
   },
   {
    "duration": 10,
    "start_time": "2021-12-11T11:34:47.438Z"
   },
   {
    "duration": 6,
    "start_time": "2021-12-11T11:34:47.452Z"
   },
   {
    "duration": 64,
    "start_time": "2021-12-11T11:34:47.460Z"
   },
   {
    "duration": 26,
    "start_time": "2021-12-11T11:34:47.527Z"
   },
   {
    "duration": 30,
    "start_time": "2021-12-11T11:34:47.555Z"
   },
   {
    "duration": 26,
    "start_time": "2021-12-11T11:34:47.617Z"
   },
   {
    "duration": 10,
    "start_time": "2021-12-11T11:34:47.645Z"
   },
   {
    "duration": 6349,
    "start_time": "2021-12-11T11:34:47.658Z"
   },
   {
    "duration": 23,
    "start_time": "2021-12-11T11:34:55.669Z"
   },
   {
    "duration": 4926,
    "start_time": "2021-12-11T11:35:07.460Z"
   },
   {
    "duration": 7,
    "start_time": "2021-12-11T11:35:13.500Z"
   },
   {
    "duration": 14,
    "start_time": "2021-12-11T11:35:14.613Z"
   },
   {
    "duration": 10,
    "start_time": "2021-12-11T11:35:57.642Z"
   },
   {
    "duration": 24,
    "start_time": "2021-12-11T11:49:09.640Z"
   },
   {
    "duration": 333,
    "start_time": "2021-12-11T11:49:36.359Z"
   },
   {
    "duration": 77,
    "start_time": "2021-12-11T11:49:48.589Z"
   },
   {
    "duration": 15,
    "start_time": "2021-12-11T11:50:06.514Z"
   },
   {
    "duration": 46,
    "start_time": "2021-12-11T11:50:06.715Z"
   },
   {
    "duration": 8,
    "start_time": "2021-12-11T11:50:06.892Z"
   },
   {
    "duration": 9,
    "start_time": "2021-12-11T11:50:07.102Z"
   },
   {
    "duration": 16,
    "start_time": "2021-12-11T11:50:08.730Z"
   },
   {
    "duration": 12,
    "start_time": "2021-12-11T11:50:08.953Z"
   },
   {
    "duration": 25,
    "start_time": "2021-12-11T11:50:09.154Z"
   },
   {
    "duration": 23,
    "start_time": "2021-12-11T11:50:18.996Z"
   },
   {
    "duration": 4,
    "start_time": "2021-12-11T11:50:21.218Z"
   },
   {
    "duration": 29,
    "start_time": "2021-12-11T11:50:33.543Z"
   },
   {
    "duration": 14,
    "start_time": "2021-12-11T11:50:37.450Z"
   },
   {
    "duration": 25884,
    "start_time": "2021-12-11T11:50:37.852Z"
   },
   {
    "duration": 6,
    "start_time": "2021-12-11T11:51:03.738Z"
   },
   {
    "duration": 9,
    "start_time": "2021-12-11T11:51:03.747Z"
   },
   {
    "duration": 4,
    "start_time": "2021-12-11T11:51:03.759Z"
   },
   {
    "duration": 55,
    "start_time": "2021-12-11T11:51:03.766Z"
   },
   {
    "duration": 25,
    "start_time": "2021-12-11T11:51:12.036Z"
   },
   {
    "duration": 30,
    "start_time": "2021-12-11T11:51:12.623Z"
   },
   {
    "duration": 27,
    "start_time": "2021-12-11T11:51:14.821Z"
   },
   {
    "duration": 10,
    "start_time": "2021-12-11T11:51:17.755Z"
   },
   {
    "duration": 5331,
    "start_time": "2021-12-11T11:51:50.387Z"
   },
   {
    "duration": 10,
    "start_time": "2021-12-11T11:51:55.721Z"
   },
   {
    "duration": 22,
    "start_time": "2021-12-11T12:17:08.214Z"
   },
   {
    "duration": 8795,
    "start_time": "2021-12-11T12:18:42.664Z"
   },
   {
    "duration": 26,
    "start_time": "2021-12-11T12:19:03.721Z"
   },
   {
    "duration": 10,
    "start_time": "2021-12-11T12:26:42.660Z"
   },
   {
    "duration": 375,
    "start_time": "2021-12-11T12:28:12.348Z"
   },
   {
    "duration": 7,
    "start_time": "2021-12-11T12:28:50.736Z"
   },
   {
    "duration": 5,
    "start_time": "2021-12-11T12:29:24.743Z"
   },
   {
    "duration": 322,
    "start_time": "2021-12-11T12:29:38.768Z"
   },
   {
    "duration": 155,
    "start_time": "2021-12-11T12:29:46.653Z"
   },
   {
    "duration": 6,
    "start_time": "2021-12-11T12:30:09.659Z"
   },
   {
    "duration": 10,
    "start_time": "2021-12-11T12:31:03.173Z"
   },
   {
    "duration": 23,
    "start_time": "2021-12-11T12:31:05.412Z"
   },
   {
    "duration": 19,
    "start_time": "2021-12-11T12:31:07.880Z"
   },
   {
    "duration": 5,
    "start_time": "2021-12-11T12:33:44.602Z"
   },
   {
    "duration": 12,
    "start_time": "2021-12-11T12:34:29.274Z"
   },
   {
    "duration": 8,
    "start_time": "2021-12-11T12:34:38.554Z"
   },
   {
    "duration": 10,
    "start_time": "2021-12-11T12:34:49.320Z"
   },
   {
    "duration": 11,
    "start_time": "2021-12-11T12:37:59.550Z"
   },
   {
    "duration": 10,
    "start_time": "2021-12-11T12:38:28.482Z"
   },
   {
    "duration": 10,
    "start_time": "2021-12-11T12:46:48.069Z"
   },
   {
    "duration": 6,
    "start_time": "2021-12-11T12:48:39.573Z"
   },
   {
    "duration": 4,
    "start_time": "2021-12-11T12:59:11.607Z"
   },
   {
    "duration": 5,
    "start_time": "2021-12-11T12:59:23.116Z"
   },
   {
    "duration": 5,
    "start_time": "2021-12-11T12:59:28.533Z"
   },
   {
    "duration": 4,
    "start_time": "2021-12-11T12:59:31.819Z"
   },
   {
    "duration": 6,
    "start_time": "2021-12-11T13:00:12.705Z"
   },
   {
    "duration": 1465,
    "start_time": "2021-12-12T09:58:28.658Z"
   },
   {
    "duration": 84,
    "start_time": "2021-12-12T09:58:30.126Z"
   },
   {
    "duration": 19,
    "start_time": "2021-12-12T09:58:30.213Z"
   },
   {
    "duration": 54,
    "start_time": "2021-12-12T09:58:30.235Z"
   },
   {
    "duration": 8,
    "start_time": "2021-12-12T09:58:30.292Z"
   },
   {
    "duration": 14,
    "start_time": "2021-12-12T09:58:30.323Z"
   },
   {
    "duration": 21,
    "start_time": "2021-12-12T09:58:30.340Z"
   },
   {
    "duration": 15,
    "start_time": "2021-12-12T09:58:30.365Z"
   },
   {
    "duration": 37,
    "start_time": "2021-12-12T09:58:30.383Z"
   },
   {
    "duration": 25,
    "start_time": "2021-12-12T09:58:30.422Z"
   },
   {
    "duration": 10,
    "start_time": "2021-12-12T09:58:30.449Z"
   },
   {
    "duration": 17,
    "start_time": "2021-12-12T09:58:30.462Z"
   },
   {
    "duration": 55,
    "start_time": "2021-12-12T09:58:30.481Z"
   },
   {
    "duration": 24,
    "start_time": "2021-12-12T09:58:30.539Z"
   },
   {
    "duration": 25398,
    "start_time": "2021-12-12T09:58:30.565Z"
   },
   {
    "duration": 5,
    "start_time": "2021-12-12T09:58:55.966Z"
   },
   {
    "duration": 9,
    "start_time": "2021-12-12T09:58:55.973Z"
   },
   {
    "duration": 5,
    "start_time": "2021-12-12T09:58:55.985Z"
   },
   {
    "duration": 14,
    "start_time": "2021-12-12T09:58:56.024Z"
   },
   {
    "duration": 23,
    "start_time": "2021-12-12T09:58:56.041Z"
   },
   {
    "duration": 26,
    "start_time": "2021-12-12T09:58:56.066Z"
   },
   {
    "duration": 51,
    "start_time": "2021-12-12T09:58:56.094Z"
   },
   {
    "duration": 9,
    "start_time": "2021-12-12T09:58:56.150Z"
   },
   {
    "duration": 6416,
    "start_time": "2021-12-12T09:58:56.162Z"
   },
   {
    "duration": 9,
    "start_time": "2021-12-12T09:59:02.581Z"
   },
   {
    "duration": 41,
    "start_time": "2021-12-12T09:59:02.593Z"
   },
   {
    "duration": 12,
    "start_time": "2021-12-12T09:59:02.637Z"
   },
   {
    "duration": 5,
    "start_time": "2021-12-12T09:59:02.652Z"
   },
   {
    "duration": 56,
    "start_time": "2021-12-12T09:59:02.670Z"
   },
   {
    "duration": 8,
    "start_time": "2021-12-12T09:59:02.728Z"
   },
   {
    "duration": 13,
    "start_time": "2021-12-12T10:01:14.950Z"
   },
   {
    "duration": 32,
    "start_time": "2021-12-12T10:01:25.569Z"
   },
   {
    "duration": 10,
    "start_time": "2021-12-12T10:01:58.303Z"
   },
   {
    "duration": 52,
    "start_time": "2021-12-12T10:02:58.372Z"
   },
   {
    "duration": 12,
    "start_time": "2021-12-12T10:03:15.227Z"
   },
   {
    "duration": 6,
    "start_time": "2021-12-12T10:06:25.845Z"
   },
   {
    "duration": 12,
    "start_time": "2021-12-12T10:06:26.520Z"
   },
   {
    "duration": 10,
    "start_time": "2021-12-12T10:06:27.301Z"
   },
   {
    "duration": 4,
    "start_time": "2021-12-12T10:07:22.264Z"
   },
   {
    "duration": 15,
    "start_time": "2021-12-12T10:07:22.883Z"
   },
   {
    "duration": 10,
    "start_time": "2021-12-12T10:07:23.317Z"
   },
   {
    "duration": 13,
    "start_time": "2021-12-12T10:15:50.478Z"
   },
   {
    "duration": 10,
    "start_time": "2021-12-12T10:15:53.963Z"
   },
   {
    "duration": 9,
    "start_time": "2021-12-12T10:16:34.616Z"
   },
   {
    "duration": 10,
    "start_time": "2021-12-12T10:29:47.042Z"
   },
   {
    "duration": 9,
    "start_time": "2021-12-12T10:30:07.245Z"
   },
   {
    "duration": 4,
    "start_time": "2021-12-12T10:30:19.456Z"
   },
   {
    "duration": 32,
    "start_time": "2021-12-12T10:30:22.514Z"
   },
   {
    "duration": 4,
    "start_time": "2021-12-12T10:32:17.506Z"
   },
   {
    "duration": 34,
    "start_time": "2021-12-12T10:32:18.285Z"
   },
   {
    "duration": 10,
    "start_time": "2021-12-12T10:32:25.752Z"
   },
   {
    "duration": 24,
    "start_time": "2021-12-12T10:32:49.634Z"
   },
   {
    "duration": 9,
    "start_time": "2021-12-12T10:32:49.874Z"
   },
   {
    "duration": 24,
    "start_time": "2021-12-12T10:33:00.059Z"
   },
   {
    "duration": 75,
    "start_time": "2021-12-12T10:33:00.237Z"
   },
   {
    "duration": 14,
    "start_time": "2021-12-12T10:33:00.434Z"
   },
   {
    "duration": 51,
    "start_time": "2021-12-12T10:33:00.625Z"
   },
   {
    "duration": 9,
    "start_time": "2021-12-12T10:33:00.819Z"
   },
   {
    "duration": 10,
    "start_time": "2021-12-12T10:33:01.000Z"
   },
   {
    "duration": 12,
    "start_time": "2021-12-12T10:33:03.805Z"
   },
   {
    "duration": 12,
    "start_time": "2021-12-12T10:33:04.342Z"
   },
   {
    "duration": 21,
    "start_time": "2021-12-12T10:33:04.564Z"
   },
   {
    "duration": 23,
    "start_time": "2021-12-12T10:33:05.126Z"
   },
   {
    "duration": 9,
    "start_time": "2021-12-12T10:33:05.665Z"
   },
   {
    "duration": 4,
    "start_time": "2021-12-12T10:33:11.329Z"
   },
   {
    "duration": 34,
    "start_time": "2021-12-12T10:33:17.956Z"
   },
   {
    "duration": 10,
    "start_time": "2021-12-12T10:33:20.985Z"
   },
   {
    "duration": 25803,
    "start_time": "2021-12-12T10:33:57.639Z"
   },
   {
    "duration": 6,
    "start_time": "2021-12-12T10:34:23.444Z"
   },
   {
    "duration": 38,
    "start_time": "2021-12-12T10:34:23.452Z"
   },
   {
    "duration": 32,
    "start_time": "2021-12-12T10:34:23.492Z"
   },
   {
    "duration": 41,
    "start_time": "2021-12-12T10:34:23.526Z"
   },
   {
    "duration": 23,
    "start_time": "2021-12-12T10:34:23.569Z"
   },
   {
    "duration": 29,
    "start_time": "2021-12-12T10:34:23.595Z"
   },
   {
    "duration": 23,
    "start_time": "2021-12-12T10:34:23.627Z"
   },
   {
    "duration": 10,
    "start_time": "2021-12-12T10:34:23.653Z"
   },
   {
    "duration": 6220,
    "start_time": "2021-12-12T10:34:23.665Z"
   },
   {
    "duration": 11,
    "start_time": "2021-12-12T10:34:29.888Z"
   },
   {
    "duration": 34,
    "start_time": "2021-12-12T10:34:29.902Z"
   },
   {
    "duration": 10,
    "start_time": "2021-12-12T10:34:29.938Z"
   },
   {
    "duration": 11,
    "start_time": "2021-12-12T10:36:18.512Z"
   },
   {
    "duration": 7,
    "start_time": "2021-12-12T10:38:49.693Z"
   },
   {
    "duration": 34,
    "start_time": "2021-12-12T10:38:50.431Z"
   },
   {
    "duration": 11,
    "start_time": "2021-12-12T10:38:50.643Z"
   },
   {
    "duration": 25796,
    "start_time": "2021-12-12T10:39:13.303Z"
   },
   {
    "duration": 8,
    "start_time": "2021-12-12T10:39:39.102Z"
   },
   {
    "duration": 9,
    "start_time": "2021-12-12T10:39:39.126Z"
   },
   {
    "duration": 6,
    "start_time": "2021-12-12T10:39:39.138Z"
   },
   {
    "duration": 20,
    "start_time": "2021-12-12T10:39:39.146Z"
   },
   {
    "duration": 78,
    "start_time": "2021-12-12T10:39:39.169Z"
   },
   {
    "duration": 33,
    "start_time": "2021-12-12T10:39:39.250Z"
   },
   {
    "duration": 53,
    "start_time": "2021-12-12T10:39:39.288Z"
   },
   {
    "duration": 11,
    "start_time": "2021-12-12T10:39:39.343Z"
   },
   {
    "duration": 6,
    "start_time": "2021-12-12T10:39:39.357Z"
   },
   {
    "duration": 33,
    "start_time": "2021-12-12T10:39:44.932Z"
   },
   {
    "duration": 10,
    "start_time": "2021-12-12T10:39:55.891Z"
   },
   {
    "duration": 73,
    "start_time": "2021-12-12T10:40:00.996Z"
   },
   {
    "duration": 14,
    "start_time": "2021-12-12T10:40:01.520Z"
   },
   {
    "duration": 45,
    "start_time": "2021-12-12T10:40:01.726Z"
   },
   {
    "duration": 8,
    "start_time": "2021-12-12T10:40:01.906Z"
   },
   {
    "duration": 10,
    "start_time": "2021-12-12T10:40:02.089Z"
   },
   {
    "duration": 14,
    "start_time": "2021-12-12T10:40:04.074Z"
   },
   {
    "duration": 11,
    "start_time": "2021-12-12T10:40:04.323Z"
   },
   {
    "duration": 23,
    "start_time": "2021-12-12T10:40:04.552Z"
   },
   {
    "duration": 22,
    "start_time": "2021-12-12T10:40:04.762Z"
   },
   {
    "duration": 9,
    "start_time": "2021-12-12T10:40:04.969Z"
   },
   {
    "duration": 5,
    "start_time": "2021-12-12T10:40:05.179Z"
   },
   {
    "duration": 30,
    "start_time": "2021-12-12T10:40:07.272Z"
   },
   {
    "duration": 9,
    "start_time": "2021-12-12T10:40:08.067Z"
   },
   {
    "duration": 25334,
    "start_time": "2021-12-12T10:40:15.790Z"
   },
   {
    "duration": 16,
    "start_time": "2021-12-12T10:41:07.698Z"
   },
   {
    "duration": 9,
    "start_time": "2021-12-12T10:41:07.955Z"
   },
   {
    "duration": 16,
    "start_time": "2021-12-12T10:44:03.219Z"
   },
   {
    "duration": 10,
    "start_time": "2021-12-12T10:44:05.639Z"
   },
   {
    "duration": 87,
    "start_time": "2021-12-12T10:44:06.565Z"
   },
   {
    "duration": 1444,
    "start_time": "2021-12-12T10:46:54.518Z"
   },
   {
    "duration": 11,
    "start_time": "2021-12-12T10:47:04.494Z"
   },
   {
    "duration": 5,
    "start_time": "2021-12-12T10:47:14.540Z"
   },
   {
    "duration": 5,
    "start_time": "2021-12-12T10:47:18.499Z"
   },
   {
    "duration": 38,
    "start_time": "2021-12-12T10:47:25.551Z"
   },
   {
    "duration": 10,
    "start_time": "2021-12-12T10:48:01.482Z"
   },
   {
    "duration": 7,
    "start_time": "2021-12-12T11:20:39.373Z"
   },
   {
    "duration": 8,
    "start_time": "2021-12-12T11:20:48.203Z"
   },
   {
    "duration": 321,
    "start_time": "2021-12-12T11:24:21.659Z"
   },
   {
    "duration": 19,
    "start_time": "2021-12-12T11:25:38.388Z"
   },
   {
    "duration": 300,
    "start_time": "2021-12-12T11:26:19.492Z"
   },
   {
    "duration": 14,
    "start_time": "2021-12-12T11:26:44.795Z"
   },
   {
    "duration": 286,
    "start_time": "2021-12-12T11:28:06.503Z"
   },
   {
    "duration": 31,
    "start_time": "2021-12-12T11:38:21.250Z"
   },
   {
    "duration": 330,
    "start_time": "2021-12-12T11:38:58.822Z"
   },
   {
    "duration": 425,
    "start_time": "2021-12-12T11:39:06.909Z"
   },
   {
    "duration": 317,
    "start_time": "2021-12-12T11:39:38.001Z"
   },
   {
    "duration": 32,
    "start_time": "2021-12-12T11:40:04.853Z"
   },
   {
    "duration": 35,
    "start_time": "2021-12-12T11:40:34.136Z"
   },
   {
    "duration": 25,
    "start_time": "2021-12-12T11:45:56.507Z"
   },
   {
    "duration": 27,
    "start_time": "2021-12-12T11:46:03.329Z"
   },
   {
    "duration": 26,
    "start_time": "2021-12-12T11:46:38.683Z"
   },
   {
    "duration": 27,
    "start_time": "2021-12-12T11:47:01.828Z"
   },
   {
    "duration": 25,
    "start_time": "2021-12-12T11:47:25.800Z"
   },
   {
    "duration": 23,
    "start_time": "2021-12-12T11:48:38.001Z"
   },
   {
    "duration": 11,
    "start_time": "2021-12-12T11:48:52.938Z"
   },
   {
    "duration": 13,
    "start_time": "2021-12-12T11:49:26.750Z"
   },
   {
    "duration": 27,
    "start_time": "2021-12-12T11:49:33.566Z"
   },
   {
    "duration": 26,
    "start_time": "2021-12-12T11:49:34.014Z"
   },
   {
    "duration": 12,
    "start_time": "2021-12-12T11:49:34.229Z"
   },
   {
    "duration": 17,
    "start_time": "2021-12-12T18:42:53.313Z"
   },
   {
    "duration": 15,
    "start_time": "2021-12-12T18:43:36.932Z"
   },
   {
    "duration": 12,
    "start_time": "2021-12-12T18:45:57.718Z"
   },
   {
    "duration": 28,
    "start_time": "2021-12-12T19:04:46.064Z"
   },
   {
    "duration": 13,
    "start_time": "2021-12-12T19:05:03.111Z"
   },
   {
    "duration": 279,
    "start_time": "2021-12-12T19:05:27.796Z"
   },
   {
    "duration": 287,
    "start_time": "2021-12-12T19:05:31.996Z"
   },
   {
    "duration": 369,
    "start_time": "2021-12-12T19:05:51.866Z"
   },
   {
    "duration": 12,
    "start_time": "2021-12-12T19:06:13.879Z"
   },
   {
    "duration": 294,
    "start_time": "2021-12-12T19:11:22.514Z"
   },
   {
    "duration": 38,
    "start_time": "2021-12-12T19:11:24.851Z"
   },
   {
    "duration": 14,
    "start_time": "2021-12-12T19:11:25.874Z"
   },
   {
    "duration": 26,
    "start_time": "2021-12-12T19:13:49.251Z"
   },
   {
    "duration": 13,
    "start_time": "2021-12-12T19:13:49.488Z"
   },
   {
    "duration": 26,
    "start_time": "2021-12-12T19:17:42.520Z"
   },
   {
    "duration": 305,
    "start_time": "2021-12-12T19:18:01.701Z"
   },
   {
    "duration": 5015,
    "start_time": "2021-12-12T19:18:30.678Z"
   },
   {
    "duration": 9,
    "start_time": "2021-12-12T19:18:37.255Z"
   },
   {
    "duration": 16,
    "start_time": "2021-12-12T19:18:39.705Z"
   },
   {
    "duration": 10,
    "start_time": "2021-12-12T19:18:39.905Z"
   },
   {
    "duration": 12,
    "start_time": "2021-12-12T19:18:40.309Z"
   },
   {
    "duration": 10,
    "start_time": "2021-12-12T19:18:40.516Z"
   },
   {
    "duration": 9,
    "start_time": "2021-12-12T19:18:41.354Z"
   },
   {
    "duration": 9,
    "start_time": "2021-12-12T19:18:41.833Z"
   },
   {
    "duration": 10,
    "start_time": "2021-12-12T19:18:43.946Z"
   },
   {
    "duration": 27,
    "start_time": "2021-12-12T19:18:45.680Z"
   },
   {
    "duration": 33,
    "start_time": "2021-12-12T19:18:49.994Z"
   },
   {
    "duration": 11,
    "start_time": "2021-12-12T19:18:51.091Z"
   },
   {
    "duration": 27,
    "start_time": "2021-12-12T19:18:55.086Z"
   },
   {
    "duration": 14,
    "start_time": "2021-12-12T19:18:55.294Z"
   },
   {
    "duration": 25,
    "start_time": "2021-12-12T19:18:56.589Z"
   },
   {
    "duration": 14,
    "start_time": "2021-12-12T19:18:56.850Z"
   },
   {
    "duration": 26,
    "start_time": "2021-12-12T19:18:58.797Z"
   },
   {
    "duration": 13,
    "start_time": "2021-12-12T19:19:22.660Z"
   },
   {
    "duration": 26,
    "start_time": "2021-12-12T19:45:55.348Z"
   },
   {
    "duration": 13,
    "start_time": "2021-12-12T19:45:56.759Z"
   },
   {
    "duration": 1500,
    "start_time": "2021-12-13T19:41:28.574Z"
   },
   {
    "duration": 90,
    "start_time": "2021-12-13T19:41:30.076Z"
   },
   {
    "duration": 180,
    "start_time": "2021-12-13T19:41:30.169Z"
   },
   {
    "duration": 274,
    "start_time": "2021-12-13T19:41:30.352Z"
   },
   {
    "duration": 267,
    "start_time": "2021-12-13T19:41:30.628Z"
   },
   {
    "duration": 752,
    "start_time": "2021-12-13T19:41:30.897Z"
   },
   {
    "duration": 263,
    "start_time": "2021-12-13T19:41:31.652Z"
   },
   {
    "duration": 533,
    "start_time": "2021-12-13T19:41:31.919Z"
   },
   {
    "duration": 461,
    "start_time": "2021-12-13T19:41:32.456Z"
   },
   {
    "duration": 446,
    "start_time": "2021-12-13T19:41:32.919Z"
   },
   {
    "duration": 798,
    "start_time": "2021-12-13T19:41:33.368Z"
   },
   {
    "duration": 780,
    "start_time": "2021-12-13T19:41:34.168Z"
   },
   {
    "duration": 338,
    "start_time": "2021-12-13T19:41:34.951Z"
   },
   {
    "duration": 172,
    "start_time": "2021-12-13T19:41:35.292Z"
   },
   {
    "duration": 27104,
    "start_time": "2021-12-13T19:41:35.467Z"
   },
   {
    "duration": 6,
    "start_time": "2021-12-13T19:42:02.574Z"
   },
   {
    "duration": 236,
    "start_time": "2021-12-13T19:42:02.582Z"
   },
   {
    "duration": 229,
    "start_time": "2021-12-13T19:42:02.821Z"
   },
   {
    "duration": 421,
    "start_time": "2021-12-13T19:42:03.052Z"
   },
   {
    "duration": 353,
    "start_time": "2021-12-13T19:42:03.476Z"
   },
   {
    "duration": 264,
    "start_time": "2021-12-13T19:42:03.832Z"
   },
   {
    "duration": 405,
    "start_time": "2021-12-13T19:42:04.099Z"
   },
   {
    "duration": 225,
    "start_time": "2021-12-13T19:42:04.508Z"
   },
   {
    "duration": 7266,
    "start_time": "2021-12-13T19:42:04.736Z"
   },
   {
    "duration": 24,
    "start_time": "2021-12-13T19:42:12.004Z"
   },
   {
    "duration": 116,
    "start_time": "2021-12-13T19:42:12.031Z"
   },
   {
    "duration": 142,
    "start_time": "2021-12-13T19:42:12.149Z"
   },
   {
    "duration": 110,
    "start_time": "2021-12-13T19:42:12.294Z"
   },
   {
    "duration": 252,
    "start_time": "2021-12-13T19:42:12.407Z"
   },
   {
    "duration": 184,
    "start_time": "2021-12-13T19:42:12.661Z"
   },
   {
    "duration": 108,
    "start_time": "2021-12-13T19:42:12.848Z"
   },
   {
    "duration": 138,
    "start_time": "2021-12-13T19:42:12.959Z"
   },
   {
    "duration": 248,
    "start_time": "2021-12-13T19:42:13.099Z"
   },
   {
    "duration": 178,
    "start_time": "2021-12-13T19:42:13.350Z"
   },
   {
    "duration": 102,
    "start_time": "2021-12-13T19:42:13.530Z"
   },
   {
    "duration": 105,
    "start_time": "2021-12-13T19:42:13.635Z"
   },
   {
    "duration": 167,
    "start_time": "2021-12-13T19:42:13.743Z"
   },
   {
    "duration": 110,
    "start_time": "2021-12-13T19:42:13.913Z"
   },
   {
    "duration": 321,
    "start_time": "2021-12-13T19:42:14.026Z"
   },
   {
    "duration": 169,
    "start_time": "2021-12-13T19:42:14.349Z"
   },
   {
    "duration": 308,
    "start_time": "2021-12-13T19:42:14.520Z"
   },
   {
    "duration": 17,
    "start_time": "2021-12-13T19:42:57.130Z"
   },
   {
    "duration": 48,
    "start_time": "2021-12-13T19:53:31.373Z"
   },
   {
    "duration": 30,
    "start_time": "2021-12-13T19:53:48.400Z"
   },
   {
    "duration": 10,
    "start_time": "2021-12-13T19:54:55.897Z"
   },
   {
    "duration": 1617,
    "start_time": "2021-12-20T20:42:07.385Z"
   },
   {
    "duration": 99,
    "start_time": "2021-12-20T20:42:09.005Z"
   },
   {
    "duration": 16,
    "start_time": "2021-12-20T20:42:09.108Z"
   },
   {
    "duration": 69,
    "start_time": "2021-12-20T20:42:09.127Z"
   },
   {
    "duration": 8,
    "start_time": "2021-12-20T20:42:09.198Z"
   },
   {
    "duration": 8,
    "start_time": "2021-12-20T20:42:09.209Z"
   },
   {
    "duration": 44,
    "start_time": "2021-12-20T20:42:09.220Z"
   },
   {
    "duration": 11,
    "start_time": "2021-12-20T20:42:09.268Z"
   },
   {
    "duration": 20,
    "start_time": "2021-12-20T20:42:09.282Z"
   },
   {
    "duration": 55,
    "start_time": "2021-12-20T20:42:09.305Z"
   },
   {
    "duration": 9,
    "start_time": "2021-12-20T20:42:09.362Z"
   },
   {
    "duration": 4,
    "start_time": "2021-12-20T20:42:09.373Z"
   },
   {
    "duration": 33,
    "start_time": "2021-12-20T20:42:09.380Z"
   },
   {
    "duration": 9,
    "start_time": "2021-12-20T20:42:09.415Z"
   },
   {
    "duration": 28254,
    "start_time": "2021-12-20T20:42:09.460Z"
   },
   {
    "duration": 6,
    "start_time": "2021-12-20T20:42:37.716Z"
   },
   {
    "duration": 10,
    "start_time": "2021-12-20T20:42:37.724Z"
   },
   {
    "duration": 25,
    "start_time": "2021-12-20T20:42:37.737Z"
   },
   {
    "duration": 26,
    "start_time": "2021-12-20T20:42:37.765Z"
   },
   {
    "duration": 66,
    "start_time": "2021-12-20T20:42:37.795Z"
   },
   {
    "duration": 43,
    "start_time": "2021-12-20T20:42:37.864Z"
   },
   {
    "duration": 49,
    "start_time": "2021-12-20T20:42:37.910Z"
   },
   {
    "duration": 15,
    "start_time": "2021-12-20T20:42:37.968Z"
   },
   {
    "duration": 6809,
    "start_time": "2021-12-20T20:42:37.987Z"
   },
   {
    "duration": 10,
    "start_time": "2021-12-20T20:42:44.798Z"
   },
   {
    "duration": 28,
    "start_time": "2021-12-20T20:42:44.811Z"
   },
   {
    "duration": 30,
    "start_time": "2021-12-20T20:42:44.842Z"
   },
   {
    "duration": 17,
    "start_time": "2021-12-20T20:42:44.875Z"
   },
   {
    "duration": 22,
    "start_time": "2021-12-20T20:42:44.894Z"
   },
   {
    "duration": 20,
    "start_time": "2021-12-20T20:42:44.918Z"
   },
   {
    "duration": 20,
    "start_time": "2021-12-20T20:42:44.940Z"
   },
   {
    "duration": 59,
    "start_time": "2021-12-20T20:42:44.963Z"
   },
   {
    "duration": 30,
    "start_time": "2021-12-20T20:42:45.025Z"
   },
   {
    "duration": 19,
    "start_time": "2021-12-20T20:42:45.057Z"
   },
   {
    "duration": 30,
    "start_time": "2021-12-20T20:42:45.079Z"
   },
   {
    "duration": 13,
    "start_time": "2021-12-20T20:42:45.111Z"
   },
   {
    "duration": 67,
    "start_time": "2021-12-20T20:42:45.126Z"
   },
   {
    "duration": 15,
    "start_time": "2021-12-20T20:42:45.195Z"
   },
   {
    "duration": 32,
    "start_time": "2021-12-20T20:42:45.212Z"
   },
   {
    "duration": 14,
    "start_time": "2021-12-20T20:42:45.259Z"
   },
   {
    "duration": 40,
    "start_time": "2021-12-20T20:42:45.275Z"
   },
   {
    "duration": 13,
    "start_time": "2021-12-20T20:42:45.318Z"
   },
   {
    "duration": 534,
    "start_time": "2021-12-20T20:44:12.280Z"
   },
   {
    "duration": 436,
    "start_time": "2021-12-20T20:47:46.579Z"
   },
   {
    "duration": 21,
    "start_time": "2021-12-20T20:49:32.570Z"
   },
   {
    "duration": 19,
    "start_time": "2021-12-20T20:53:49.456Z"
   },
   {
    "duration": 18,
    "start_time": "2021-12-20T20:54:01.783Z"
   },
   {
    "duration": 797,
    "start_time": "2021-12-20T20:56:08.773Z"
   },
   {
    "duration": 147,
    "start_time": "2021-12-20T20:57:09.095Z"
   },
   {
    "duration": 295,
    "start_time": "2021-12-20T20:58:34.234Z"
   },
   {
    "duration": 26,
    "start_time": "2021-12-20T20:59:54.614Z"
   },
   {
    "duration": 5,
    "start_time": "2021-12-20T21:00:14.127Z"
   },
   {
    "duration": 34,
    "start_time": "2021-12-20T21:00:26.595Z"
   },
   {
    "duration": 145,
    "start_time": "2021-12-20T21:00:57.710Z"
   },
   {
    "duration": 31,
    "start_time": "2021-12-20T21:01:10.953Z"
   },
   {
    "duration": 5956,
    "start_time": "2021-12-20T21:01:35.031Z"
   },
   {
    "duration": 9,
    "start_time": "2021-12-20T21:01:40.990Z"
   },
   {
    "duration": 10,
    "start_time": "2021-12-20T21:02:31.858Z"
   },
   {
    "duration": 21,
    "start_time": "2021-12-20T21:03:28.414Z"
   },
   {
    "duration": 18,
    "start_time": "2021-12-20T21:03:40.431Z"
   },
   {
    "duration": 20,
    "start_time": "2021-12-20T21:03:46.867Z"
   },
   {
    "duration": 370,
    "start_time": "2021-12-20T21:04:32.940Z"
   },
   {
    "duration": 14,
    "start_time": "2021-12-20T21:04:56.568Z"
   },
   {
    "duration": 15,
    "start_time": "2021-12-20T21:05:46.077Z"
   },
   {
    "duration": 16,
    "start_time": "2021-12-20T21:07:08.380Z"
   },
   {
    "duration": 165,
    "start_time": "2021-12-20T21:11:13.685Z"
   },
   {
    "duration": 49,
    "start_time": "2021-12-20T21:11:20.498Z"
   },
   {
    "duration": 22,
    "start_time": "2021-12-20T21:13:41.951Z"
   },
   {
    "duration": 15,
    "start_time": "2021-12-20T21:14:12.192Z"
   },
   {
    "duration": 10,
    "start_time": "2021-12-20T21:14:13.624Z"
   },
   {
    "duration": 10,
    "start_time": "2021-12-20T21:14:19.112Z"
   },
   {
    "duration": 10,
    "start_time": "2021-12-20T21:15:13.632Z"
   },
   {
    "duration": 14,
    "start_time": "2021-12-20T21:16:10.300Z"
   },
   {
    "duration": 122,
    "start_time": "2021-12-20T21:17:07.074Z"
   },
   {
    "duration": 123,
    "start_time": "2021-12-20T21:18:10.496Z"
   },
   {
    "duration": 20,
    "start_time": "2021-12-20T21:19:01.051Z"
   },
   {
    "duration": 15,
    "start_time": "2021-12-20T21:19:41.042Z"
   },
   {
    "duration": 30,
    "start_time": "2021-12-21T11:12:28.915Z"
   },
   {
    "duration": 14,
    "start_time": "2021-12-21T11:12:29.871Z"
   },
   {
    "duration": 16,
    "start_time": "2021-12-21T11:13:10.708Z"
   },
   {
    "duration": 292,
    "start_time": "2021-12-21T12:47:28.184Z"
   },
   {
    "duration": 1117,
    "start_time": "2021-12-21T12:47:32.363Z"
   },
   {
    "duration": 66,
    "start_time": "2021-12-21T12:47:33.482Z"
   },
   {
    "duration": 11,
    "start_time": "2021-12-21T12:47:33.550Z"
   },
   {
    "duration": 41,
    "start_time": "2021-12-21T12:47:33.562Z"
   },
   {
    "duration": 5,
    "start_time": "2021-12-21T12:47:33.604Z"
   },
   {
    "duration": 12,
    "start_time": "2021-12-21T12:47:33.611Z"
   },
   {
    "duration": 10,
    "start_time": "2021-12-21T12:47:33.625Z"
   },
   {
    "duration": 10,
    "start_time": "2021-12-21T12:47:33.636Z"
   },
   {
    "duration": 15,
    "start_time": "2021-12-21T12:47:33.649Z"
   },
   {
    "duration": 42,
    "start_time": "2021-12-21T12:47:33.665Z"
   },
   {
    "duration": 17,
    "start_time": "2021-12-21T12:47:33.709Z"
   },
   {
    "duration": 8,
    "start_time": "2021-12-21T12:47:33.728Z"
   },
   {
    "duration": 3,
    "start_time": "2021-12-21T12:47:33.737Z"
   },
   {
    "duration": 12,
    "start_time": "2021-12-21T12:47:33.742Z"
   },
   {
    "duration": 1051,
    "start_time": "2021-12-21T12:47:33.756Z"
   },
   {
    "duration": -11,
    "start_time": "2021-12-21T12:47:34.821Z"
   },
   {
    "duration": -17,
    "start_time": "2021-12-21T12:47:34.828Z"
   },
   {
    "duration": -20,
    "start_time": "2021-12-21T12:47:34.833Z"
   },
   {
    "duration": -24,
    "start_time": "2021-12-21T12:47:34.838Z"
   },
   {
    "duration": -27,
    "start_time": "2021-12-21T12:47:34.842Z"
   },
   {
    "duration": -29,
    "start_time": "2021-12-21T12:47:34.845Z"
   },
   {
    "duration": -32,
    "start_time": "2021-12-21T12:47:34.849Z"
   },
   {
    "duration": -36,
    "start_time": "2021-12-21T12:47:34.853Z"
   },
   {
    "duration": -39,
    "start_time": "2021-12-21T12:47:34.857Z"
   },
   {
    "duration": -42,
    "start_time": "2021-12-21T12:47:34.861Z"
   },
   {
    "duration": -45,
    "start_time": "2021-12-21T12:47:34.865Z"
   },
   {
    "duration": -49,
    "start_time": "2021-12-21T12:47:34.869Z"
   },
   {
    "duration": -51,
    "start_time": "2021-12-21T12:47:34.872Z"
   },
   {
    "duration": -73,
    "start_time": "2021-12-21T12:47:34.895Z"
   },
   {
    "duration": -77,
    "start_time": "2021-12-21T12:47:34.900Z"
   },
   {
    "duration": -89,
    "start_time": "2021-12-21T12:47:34.912Z"
   },
   {
    "duration": -101,
    "start_time": "2021-12-21T12:47:34.925Z"
   },
   {
    "duration": -111,
    "start_time": "2021-12-21T12:47:34.936Z"
   },
   {
    "duration": -114,
    "start_time": "2021-12-21T12:47:34.940Z"
   },
   {
    "duration": -123,
    "start_time": "2021-12-21T12:47:34.950Z"
   },
   {
    "duration": -127,
    "start_time": "2021-12-21T12:47:34.954Z"
   },
   {
    "duration": -129,
    "start_time": "2021-12-21T12:47:34.957Z"
   },
   {
    "duration": -132,
    "start_time": "2021-12-21T12:47:34.961Z"
   },
   {
    "duration": -134,
    "start_time": "2021-12-21T12:47:34.964Z"
   },
   {
    "duration": -139,
    "start_time": "2021-12-21T12:47:34.969Z"
   },
   {
    "duration": -142,
    "start_time": "2021-12-21T12:47:34.973Z"
   },
   {
    "duration": -145,
    "start_time": "2021-12-21T12:47:34.977Z"
   },
   {
    "duration": -148,
    "start_time": "2021-12-21T12:47:34.981Z"
   },
   {
    "duration": -151,
    "start_time": "2021-12-21T12:47:34.985Z"
   },
   {
    "duration": -155,
    "start_time": "2021-12-21T12:47:34.990Z"
   },
   {
    "duration": -159,
    "start_time": "2021-12-21T12:47:34.994Z"
   },
   {
    "duration": -161,
    "start_time": "2021-12-21T12:47:34.997Z"
   },
   {
    "duration": -165,
    "start_time": "2021-12-21T12:47:35.002Z"
   },
   {
    "duration": -168,
    "start_time": "2021-12-21T12:47:35.006Z"
   },
   {
    "duration": 1149,
    "start_time": "2021-12-21T12:47:50.162Z"
   },
   {
    "duration": 14,
    "start_time": "2021-12-21T12:49:12.858Z"
   },
   {
    "duration": 5,
    "start_time": "2021-12-21T12:49:14.705Z"
   },
   {
    "duration": 4,
    "start_time": "2021-12-21T12:49:27.931Z"
   },
   {
    "duration": 13,
    "start_time": "2021-12-21T12:49:28.092Z"
   },
   {
    "duration": 11,
    "start_time": "2021-12-21T12:49:31.733Z"
   },
   {
    "duration": 5,
    "start_time": "2021-12-21T12:50:04.760Z"
   },
   {
    "duration": -27,
    "start_time": "2021-12-21T12:51:00.146Z"
   },
   {
    "duration": -38,
    "start_time": "2021-12-21T12:51:00.159Z"
   },
   {
    "duration": -40,
    "start_time": "2021-12-21T12:51:00.162Z"
   },
   {
    "duration": 18,
    "start_time": "2021-12-21T12:51:04.006Z"
   },
   {
    "duration": 8,
    "start_time": "2021-12-21T12:51:05.013Z"
   },
   {
    "duration": 4432,
    "start_time": "2021-12-21T12:51:07.805Z"
   },
   {
    "duration": 8,
    "start_time": "2021-12-21T12:51:12.239Z"
   },
   {
    "duration": 12,
    "start_time": "2021-12-21T12:51:23.839Z"
   },
   {
    "duration": 6435,
    "start_time": "2021-12-21T12:51:24.804Z"
   },
   {
    "duration": 352,
    "start_time": "2021-12-21T12:51:39.679Z"
   },
   {
    "duration": 454,
    "start_time": "2021-12-21T12:51:40.282Z"
   },
   {
    "duration": 1545,
    "start_time": "2021-12-21T12:59:18.207Z"
   },
   {
    "duration": 84,
    "start_time": "2021-12-21T12:59:19.755Z"
   },
   {
    "duration": 14,
    "start_time": "2021-12-21T12:59:19.841Z"
   },
   {
    "duration": 67,
    "start_time": "2021-12-21T12:59:19.858Z"
   },
   {
    "duration": 8,
    "start_time": "2021-12-21T12:59:19.927Z"
   },
   {
    "duration": 9,
    "start_time": "2021-12-21T12:59:19.937Z"
   },
   {
    "duration": 12,
    "start_time": "2021-12-21T12:59:19.948Z"
   },
   {
    "duration": 9,
    "start_time": "2021-12-21T12:59:19.963Z"
   },
   {
    "duration": 66,
    "start_time": "2021-12-21T12:59:19.976Z"
   },
   {
    "duration": 22,
    "start_time": "2021-12-21T12:59:20.045Z"
   },
   {
    "duration": 23,
    "start_time": "2021-12-21T12:59:20.069Z"
   },
   {
    "duration": 9,
    "start_time": "2021-12-21T12:59:20.123Z"
   },
   {
    "duration": 4,
    "start_time": "2021-12-21T12:59:20.134Z"
   },
   {
    "duration": 15,
    "start_time": "2021-12-21T12:59:20.141Z"
   },
   {
    "duration": 1266,
    "start_time": "2021-12-21T12:59:20.158Z"
   },
   {
    "duration": -172,
    "start_time": "2021-12-21T12:59:21.599Z"
   },
   {
    "duration": -190,
    "start_time": "2021-12-21T12:59:21.619Z"
   },
   {
    "duration": -199,
    "start_time": "2021-12-21T12:59:21.629Z"
   },
   {
    "duration": -212,
    "start_time": "2021-12-21T12:59:21.644Z"
   },
   {
    "duration": -221,
    "start_time": "2021-12-21T12:59:21.655Z"
   },
   {
    "duration": -233,
    "start_time": "2021-12-21T12:59:21.668Z"
   },
   {
    "duration": -247,
    "start_time": "2021-12-21T12:59:21.684Z"
   },
   {
    "duration": -252,
    "start_time": "2021-12-21T12:59:21.691Z"
   },
   {
    "duration": -258,
    "start_time": "2021-12-21T12:59:21.698Z"
   },
   {
    "duration": -262,
    "start_time": "2021-12-21T12:59:21.704Z"
   },
   {
    "duration": -269,
    "start_time": "2021-12-21T12:59:21.712Z"
   },
   {
    "duration": -276,
    "start_time": "2021-12-21T12:59:21.720Z"
   },
   {
    "duration": -280,
    "start_time": "2021-12-21T12:59:21.726Z"
   },
   {
    "duration": -286,
    "start_time": "2021-12-21T12:59:21.733Z"
   },
   {
    "duration": -293,
    "start_time": "2021-12-21T12:59:21.742Z"
   },
   {
    "duration": -299,
    "start_time": "2021-12-21T12:59:21.749Z"
   },
   {
    "duration": -305,
    "start_time": "2021-12-21T12:59:21.756Z"
   },
   {
    "duration": -311,
    "start_time": "2021-12-21T12:59:21.764Z"
   },
   {
    "duration": -316,
    "start_time": "2021-12-21T12:59:21.771Z"
   },
   {
    "duration": -322,
    "start_time": "2021-12-21T12:59:21.780Z"
   },
   {
    "duration": -340,
    "start_time": "2021-12-21T12:59:21.800Z"
   },
   {
    "duration": -347,
    "start_time": "2021-12-21T12:59:21.808Z"
   },
   {
    "duration": -353,
    "start_time": "2021-12-21T12:59:21.815Z"
   },
   {
    "duration": -361,
    "start_time": "2021-12-21T12:59:21.825Z"
   },
   {
    "duration": -310,
    "start_time": "2021-12-21T12:59:21.833Z"
   },
   {
    "duration": -316,
    "start_time": "2021-12-21T12:59:21.841Z"
   },
   {
    "duration": -320,
    "start_time": "2021-12-21T12:59:21.847Z"
   },
   {
    "duration": -326,
    "start_time": "2021-12-21T12:59:21.854Z"
   },
   {
    "duration": -330,
    "start_time": "2021-12-21T12:59:21.860Z"
   },
   {
    "duration": -335,
    "start_time": "2021-12-21T12:59:21.867Z"
   },
   {
    "duration": -340,
    "start_time": "2021-12-21T12:59:21.874Z"
   },
   {
    "duration": -346,
    "start_time": "2021-12-21T12:59:21.882Z"
   },
   {
    "duration": 1250,
    "start_time": "2021-12-21T12:59:59.858Z"
   },
   {
    "duration": 8,
    "start_time": "2021-12-21T13:00:51.369Z"
   },
   {
    "duration": 4,
    "start_time": "2021-12-21T13:00:52.676Z"
   },
   {
    "duration": 15,
    "start_time": "2021-12-21T13:00:54.840Z"
   },
   {
    "duration": 1105,
    "start_time": "2021-12-21T13:00:56.534Z"
   },
   {
    "duration": 7779,
    "start_time": "2021-12-21T13:02:00.751Z"
   },
   {
    "duration": -187,
    "start_time": "2021-12-21T13:02:08.720Z"
   },
   {
    "duration": 18,
    "start_time": "2021-12-21T13:08:22.641Z"
   },
   {
    "duration": 4,
    "start_time": "2021-12-21T13:08:23.773Z"
   },
   {
    "duration": 3,
    "start_time": "2021-12-21T13:08:25.018Z"
   },
   {
    "duration": 26482,
    "start_time": "2021-12-21T13:08:27.143Z"
   },
   {
    "duration": 26792,
    "start_time": "2021-12-21T13:08:58.779Z"
   },
   {
    "duration": 7,
    "start_time": "2021-12-21T13:09:25.573Z"
   },
   {
    "duration": 8,
    "start_time": "2021-12-21T13:09:25.584Z"
   },
   {
    "duration": 5,
    "start_time": "2021-12-21T13:09:25.623Z"
   },
   {
    "duration": 22,
    "start_time": "2021-12-21T13:09:25.631Z"
   },
   {
    "duration": 17,
    "start_time": "2021-12-21T13:09:33.393Z"
   },
   {
    "duration": 23,
    "start_time": "2021-12-21T13:09:36.418Z"
   },
   {
    "duration": 27,
    "start_time": "2021-12-21T13:09:37.418Z"
   },
   {
    "duration": 23,
    "start_time": "2021-12-21T13:09:38.458Z"
   },
   {
    "duration": 11,
    "start_time": "2021-12-21T13:09:39.295Z"
   },
   {
    "duration": 7545,
    "start_time": "2021-12-21T13:09:40.800Z"
   },
   {
    "duration": 10,
    "start_time": "2021-12-21T13:09:48.348Z"
   },
   {
    "duration": 16,
    "start_time": "2021-12-21T13:09:54.688Z"
   },
   {
    "duration": 15,
    "start_time": "2021-12-21T13:09:59.260Z"
   },
   {
    "duration": 10,
    "start_time": "2021-12-21T13:10:03.214Z"
   },
   {
    "duration": 64,
    "start_time": "2021-12-21T13:10:04.864Z"
   },
   {
    "duration": 11,
    "start_time": "2021-12-21T13:10:06.601Z"
   },
   {
    "duration": 11,
    "start_time": "2021-12-21T13:10:07.166Z"
   },
   {
    "duration": 10,
    "start_time": "2021-12-21T13:10:07.958Z"
   },
   {
    "duration": 10113,
    "start_time": "2021-12-21T13:10:08.215Z"
   },
   {
    "duration": 9526,
    "start_time": "2021-12-21T13:10:23.621Z"
   },
   {
    "duration": -158,
    "start_time": "2021-12-21T13:10:33.308Z"
   },
   {
    "duration": -168,
    "start_time": "2021-12-21T13:10:33.320Z"
   },
   {
    "duration": -179,
    "start_time": "2021-12-21T13:10:33.333Z"
   },
   {
    "duration": 42,
    "start_time": "2021-12-21T13:10:43.002Z"
   },
   {
    "duration": 36,
    "start_time": "2021-12-21T13:10:44.047Z"
   },
   {
    "duration": 15,
    "start_time": "2021-12-21T13:10:44.671Z"
   },
   {
    "duration": 31,
    "start_time": "2021-12-21T13:10:49.429Z"
   },
   {
    "duration": 16,
    "start_time": "2021-12-21T13:10:50.962Z"
   },
   {
    "duration": 36,
    "start_time": "2021-12-21T13:10:59.435Z"
   },
   {
    "duration": 16,
    "start_time": "2021-12-21T13:10:59.970Z"
   },
   {
    "duration": 26,
    "start_time": "2021-12-21T13:11:06.140Z"
   },
   {
    "duration": 20,
    "start_time": "2021-12-21T13:11:06.563Z"
   },
   {
    "duration": 316,
    "start_time": "2021-12-21T13:11:10.933Z"
   },
   {
    "duration": 315,
    "start_time": "2021-12-21T13:11:11.345Z"
   },
   {
    "duration": 18,
    "start_time": "2021-12-21T13:12:35.625Z"
   },
   {
    "duration": 3,
    "start_time": "2021-12-21T13:12:37.239Z"
   },
   {
    "duration": 33,
    "start_time": "2021-12-21T13:12:47.351Z"
   },
   {
    "duration": 9,
    "start_time": "2021-12-21T13:13:50.173Z"
   },
   {
    "duration": 28,
    "start_time": "2021-12-21T13:13:52.917Z"
   },
   {
    "duration": 39,
    "start_time": "2021-12-21T13:13:53.105Z"
   },
   {
    "duration": 15,
    "start_time": "2021-12-21T13:13:53.296Z"
   },
   {
    "duration": 27,
    "start_time": "2021-12-21T13:13:56.040Z"
   },
   {
    "duration": 21,
    "start_time": "2021-12-21T13:13:56.267Z"
   },
   {
    "duration": 26,
    "start_time": "2021-12-21T13:13:58.674Z"
   },
   {
    "duration": 16,
    "start_time": "2021-12-21T13:13:59.755Z"
   },
   {
    "duration": 46,
    "start_time": "2021-12-21T13:14:04.591Z"
   },
   {
    "duration": 16,
    "start_time": "2021-12-21T13:14:04.759Z"
   },
   {
    "duration": 28,
    "start_time": "2021-12-21T13:14:07.886Z"
   },
   {
    "duration": 40,
    "start_time": "2021-12-21T13:14:11.090Z"
   },
   {
    "duration": 14,
    "start_time": "2021-12-21T13:14:31.380Z"
   },
   {
    "duration": 16,
    "start_time": "2021-12-21T13:25:50.313Z"
   },
   {
    "duration": 63,
    "start_time": "2021-12-21T13:25:50.331Z"
   },
   {
    "duration": 20,
    "start_time": "2021-12-21T13:25:50.396Z"
   },
   {
    "duration": 31,
    "start_time": "2021-12-21T13:25:50.418Z"
   },
   {
    "duration": 5,
    "start_time": "2021-12-21T13:25:50.450Z"
   },
   {
    "duration": 11,
    "start_time": "2021-12-21T13:25:50.457Z"
   },
   {
    "duration": 42,
    "start_time": "2021-12-21T13:25:50.470Z"
   },
   {
    "duration": 12,
    "start_time": "2021-12-21T13:25:50.514Z"
   },
   {
    "duration": 18,
    "start_time": "2021-12-21T13:25:50.528Z"
   },
   {
    "duration": 17,
    "start_time": "2021-12-21T13:25:50.548Z"
   },
   {
    "duration": 44,
    "start_time": "2021-12-21T13:25:50.566Z"
   },
   {
    "duration": 7,
    "start_time": "2021-12-21T13:25:50.611Z"
   },
   {
    "duration": 3,
    "start_time": "2021-12-21T13:25:50.620Z"
   },
   {
    "duration": 12,
    "start_time": "2021-12-21T13:25:50.625Z"
   },
   {
    "duration": 13,
    "start_time": "2021-12-21T13:25:50.638Z"
   },
   {
    "duration": 5,
    "start_time": "2021-12-21T13:25:50.653Z"
   },
   {
    "duration": 16352,
    "start_time": "2021-12-21T13:25:50.660Z"
   },
   {
    "duration": 5,
    "start_time": "2021-12-21T13:26:07.013Z"
   },
   {
    "duration": 6,
    "start_time": "2021-12-21T13:26:07.020Z"
   },
   {
    "duration": 10,
    "start_time": "2021-12-21T13:26:07.027Z"
   },
   {
    "duration": 15,
    "start_time": "2021-12-21T13:26:07.039Z"
   },
   {
    "duration": 13,
    "start_time": "2021-12-21T13:26:07.055Z"
   },
   {
    "duration": 45,
    "start_time": "2021-12-21T13:26:07.072Z"
   },
   {
    "duration": 19,
    "start_time": "2021-12-21T13:26:07.119Z"
   },
   {
    "duration": 16,
    "start_time": "2021-12-21T13:26:07.141Z"
   },
   {
    "duration": 7,
    "start_time": "2021-12-21T13:26:07.159Z"
   },
   {
    "duration": 7567,
    "start_time": "2021-12-21T13:26:07.168Z"
   },
   {
    "duration": 6,
    "start_time": "2021-12-21T13:26:14.737Z"
   },
   {
    "duration": 21,
    "start_time": "2021-12-21T13:26:14.745Z"
   },
   {
    "duration": 18,
    "start_time": "2021-12-21T13:26:14.768Z"
   },
   {
    "duration": 6,
    "start_time": "2021-12-21T13:26:14.788Z"
   },
   {
    "duration": 43,
    "start_time": "2021-12-21T13:26:14.796Z"
   },
   {
    "duration": 9,
    "start_time": "2021-12-21T13:26:14.841Z"
   },
   {
    "duration": 11,
    "start_time": "2021-12-21T13:26:14.852Z"
   },
   {
    "duration": 8,
    "start_time": "2021-12-21T13:26:14.865Z"
   },
   {
    "duration": 33,
    "start_time": "2021-12-21T13:26:14.875Z"
   },
   {
    "duration": 25,
    "start_time": "2021-12-21T13:26:14.910Z"
   },
   {
    "duration": 21,
    "start_time": "2021-12-21T13:26:14.937Z"
   },
   {
    "duration": 10,
    "start_time": "2021-12-21T13:26:14.960Z"
   },
   {
    "duration": 51,
    "start_time": "2021-12-21T13:26:14.972Z"
   },
   {
    "duration": 11,
    "start_time": "2021-12-21T13:26:15.024Z"
   },
   {
    "duration": 18,
    "start_time": "2021-12-21T13:26:15.036Z"
   },
   {
    "duration": 9,
    "start_time": "2021-12-21T13:26:15.056Z"
   },
   {
    "duration": 49,
    "start_time": "2021-12-21T13:26:15.067Z"
   },
   {
    "duration": 11,
    "start_time": "2021-12-21T13:26:15.117Z"
   },
   {
    "duration": 20,
    "start_time": "2021-12-21T13:26:15.129Z"
   },
   {
    "duration": 10,
    "start_time": "2021-12-21T13:26:15.151Z"
   }
  ],
  "kernelspec": {
   "display_name": "Python 3 (ipykernel)",
   "language": "python",
   "name": "python3"
  },
  "language_info": {
   "codemirror_mode": {
    "name": "ipython",
    "version": 3
   },
   "file_extension": ".py",
   "mimetype": "text/x-python",
   "name": "python",
   "nbconvert_exporter": "python",
   "pygments_lexer": "ipython3",
   "version": "3.9.5"
  },
  "toc": {
   "base_numbering": 1,
   "nav_menu": {},
   "number_sections": true,
   "sideBar": true,
   "skip_h1_title": true,
   "title_cell": "Table of Contents",
   "title_sidebar": "Contents",
   "toc_cell": false,
   "toc_position": {
    "height": "calc(100% - 180px)",
    "left": "10px",
    "top": "150px",
    "width": "165px"
   },
   "toc_section_display": true,
   "toc_window_display": true
  }
 },
 "nbformat": 4,
 "nbformat_minor": 2
}
