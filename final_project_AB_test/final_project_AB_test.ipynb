{
 "cells": [
  {
   "cell_type": "markdown",
   "metadata": {},
   "source": [
    "# Описание проекта"
   ]
  },
  {
   "cell_type": "markdown",
   "metadata": {},
   "source": [
    "Провести оценку результатов A/B-теста"
   ]
  },
  {
   "cell_type": "markdown",
   "metadata": {},
   "source": [
    "- Оценить корректность проведения теста\n",
    "- Проанализировать  результаты теста\n",
    "\n",
    "Чтобы оценить корректность проведения теста, проверьте:\n",
    "\n",
    "- пересечение тестовой аудитории с конкурирующим тестом,\n",
    "- совпадение теста и маркетинговых событий, другие проблемы временных границ теста."
   ]
  },
  {
   "cell_type": "markdown",
   "metadata": {},
   "source": [
    "# Техническое задание\n",
    "\n",
    "- Название теста: `recommender_system_test`;\n",
    "- группы: А — контрольная, B — новая платёжная воронка;\n",
    "- дата запуска: 2020-12-07;\n",
    "- дата остановки набора новых пользователей: 2020-12-21;\n",
    "- дата остановки: 2021-01-04;\n",
    "- аудитория: 15% новых пользователей из региона EU;\n",
    "- назначение теста: тестирование изменений, связанных с внедрением улучшенной рекомендательной системы;\n",
    "- ожидаемое количество участников теста: 6000.\n",
    "- ожидаемый эффект: за 14 дней с момента регистрации пользователи покажут улучшение каждой метрики не менее, чем на 10%:\n",
    "    - конверсии в просмотр карточек товаров — событие `product_page`,\n",
    "    - просмотры корзины — `product_cart`,\n",
    "    - покупки — `purchase`."
   ]
  },
  {
   "cell_type": "markdown",
   "metadata": {},
   "source": [
    "# План работ"
   ]
  },
  {
   "cell_type": "markdown",
   "metadata": {},
   "source": [
    "1. <a href='#1'> Изучение файлов с данными, получение общей информации, загрузка библиотек  </a>\n",
    "- Проверить пропуски и типы данных. \n",
    "- Проверить дубликаты\n",
    "\n",
    "\n",
    "2. <a href='#2'> Оценить корректность проведения теста </a>\n",
    "\n",
    "  - Соответствие данных требованиям технического задания. Проверьте корректность всех пунктов технического задания.\n",
    "  - Время проведения теста. Убедитесь, что оно не совпадает с маркетинговыми и другими активностями.\n",
    "  - Аудиторию теста. Удостоверьтесь, что нет пересечений с конкурирующим тестом и нет пользователей, участвующих в двух группах теста одновременно. Проверьте равномерность распределения по тестовым группам и правильность их формирования.\n",
    "\n",
    "3. <a href='#3'> Исследовательский анализ данных </a>\n",
    "- Количество событий на пользователя одинаково распределены в выборках?\n",
    "- Как число событий в выборках распределено по дням?\n",
    "- Как меняется конверсия в воронке в выборках на разных этапах?\n",
    "- Какие особенности данных нужно учесть, прежде чем приступать к A/B-тестированию?\n",
    "\n",
    "\n",
    "\n",
    "4. <a href='#4'> Оценить результаты A/B-тестирования </a>\n",
    "- Что можно сказать про результаты A/В-тестирования?\n",
    "- Проверьте статистическую разницу долей z-критерием.\n",
    "\n",
    "5.<a href='#5'> Выводы</a>\n",
    "\n",
    " Сделать общее заключение о корректности проведения теста. \n"
   ]
  },
  {
   "cell_type": "markdown",
   "metadata": {},
   "source": [
    "<a id='1'></a>\n",
    "### Изучение файлов с данными, получение общей информации, загрузка библиотек "
   ]
  },
  {
   "cell_type": "code",
   "execution_count": 55,
   "metadata": {},
   "outputs": [
    {
     "name": "stderr",
     "output_type": "stream",
     "text": [
      "/tmp/ipykernel_105/509102035.py:13: FutureWarning:\n",
      "\n",
      "Passing a negative integer is deprecated in version 1.0 and will not be supported in future version. Instead, use None to not limit the column width.\n",
      "\n"
     ]
    }
   ],
   "source": [
    "import pandas as pd\n",
    "import matplotlib.pyplot as plt\n",
    "import scipy.stats as stats\n",
    "import datetime as dt\n",
    "import numpy as np\n",
    "import math as mth\n",
    "from scipy import stats as st\n",
    "\n",
    "import plotly.express as px \n",
    "from plotly import graph_objects as go\n",
    "import seaborn as sns\n",
    "\n",
    "pd.set_option('display.max_colwidth', -1)"
   ]
  },
  {
   "cell_type": "code",
   "execution_count": 56,
   "metadata": {},
   "outputs": [],
   "source": [
    "def request(df):\n",
    "    return pd.read_csv(df, sep=',')"
   ]
  },
  {
   "cell_type": "code",
   "execution_count": 57,
   "metadata": {},
   "outputs": [],
   "source": [
    "final_ab_new_users=request('/datasets/final_ab_new_users.csv')\n",
    "final_ab_events=request('/datasets/final_ab_events.csv')\n",
    "final_ab_participants=request('/datasets/final_ab_participants.csv')\n",
    "final_ab_marketing_events=request('/datasets/ab_project_marketing_events.csv')"
   ]
  },
  {
   "cell_type": "code",
   "execution_count": 58,
   "metadata": {
    "scrolled": false
   },
   "outputs": [
    {
     "data": {
      "text/html": [
       "<div>\n",
       "<style scoped>\n",
       "    .dataframe tbody tr th:only-of-type {\n",
       "        vertical-align: middle;\n",
       "    }\n",
       "\n",
       "    .dataframe tbody tr th {\n",
       "        vertical-align: top;\n",
       "    }\n",
       "\n",
       "    .dataframe thead th {\n",
       "        text-align: right;\n",
       "    }\n",
       "</style>\n",
       "<table border=\"1\" class=\"dataframe\">\n",
       "  <thead>\n",
       "    <tr style=\"text-align: right;\">\n",
       "      <th></th>\n",
       "      <th>user_id</th>\n",
       "      <th>first_date</th>\n",
       "      <th>region</th>\n",
       "      <th>device</th>\n",
       "    </tr>\n",
       "  </thead>\n",
       "  <tbody>\n",
       "    <tr>\n",
       "      <th>0</th>\n",
       "      <td>D72A72121175D8BE</td>\n",
       "      <td>2020-12-07</td>\n",
       "      <td>EU</td>\n",
       "      <td>PC</td>\n",
       "    </tr>\n",
       "    <tr>\n",
       "      <th>1</th>\n",
       "      <td>F1C668619DFE6E65</td>\n",
       "      <td>2020-12-07</td>\n",
       "      <td>N.America</td>\n",
       "      <td>Android</td>\n",
       "    </tr>\n",
       "    <tr>\n",
       "      <th>2</th>\n",
       "      <td>2E1BF1D4C37EA01F</td>\n",
       "      <td>2020-12-07</td>\n",
       "      <td>EU</td>\n",
       "      <td>PC</td>\n",
       "    </tr>\n",
       "    <tr>\n",
       "      <th>3</th>\n",
       "      <td>50734A22C0C63768</td>\n",
       "      <td>2020-12-07</td>\n",
       "      <td>EU</td>\n",
       "      <td>iPhone</td>\n",
       "    </tr>\n",
       "    <tr>\n",
       "      <th>4</th>\n",
       "      <td>E1BDDCE0DAFA2679</td>\n",
       "      <td>2020-12-07</td>\n",
       "      <td>N.America</td>\n",
       "      <td>iPhone</td>\n",
       "    </tr>\n",
       "  </tbody>\n",
       "</table>\n",
       "</div>"
      ],
      "text/plain": [
       "            user_id  first_date     region   device\n",
       "0  D72A72121175D8BE  2020-12-07  EU         PC     \n",
       "1  F1C668619DFE6E65  2020-12-07  N.America  Android\n",
       "2  2E1BF1D4C37EA01F  2020-12-07  EU         PC     \n",
       "3  50734A22C0C63768  2020-12-07  EU         iPhone \n",
       "4  E1BDDCE0DAFA2679  2020-12-07  N.America  iPhone "
      ]
     },
     "metadata": {},
     "output_type": "display_data"
    },
    {
     "name": "stdout",
     "output_type": "stream",
     "text": [
      "Количество дубликатов - 0\n"
     ]
    },
    {
     "data": {
      "text/html": [
       "<div>\n",
       "<style scoped>\n",
       "    .dataframe tbody tr th:only-of-type {\n",
       "        vertical-align: middle;\n",
       "    }\n",
       "\n",
       "    .dataframe tbody tr th {\n",
       "        vertical-align: top;\n",
       "    }\n",
       "\n",
       "    .dataframe thead th {\n",
       "        text-align: right;\n",
       "    }\n",
       "</style>\n",
       "<table border=\"1\" class=\"dataframe\">\n",
       "  <thead>\n",
       "    <tr style=\"text-align: right;\">\n",
       "      <th></th>\n",
       "      <th>user_id</th>\n",
       "      <th>first_date</th>\n",
       "      <th>region</th>\n",
       "      <th>device</th>\n",
       "    </tr>\n",
       "  </thead>\n",
       "  <tbody>\n",
       "    <tr>\n",
       "      <th>count</th>\n",
       "      <td>61733</td>\n",
       "      <td>61733</td>\n",
       "      <td>61733</td>\n",
       "      <td>61733</td>\n",
       "    </tr>\n",
       "    <tr>\n",
       "      <th>unique</th>\n",
       "      <td>61733</td>\n",
       "      <td>17</td>\n",
       "      <td>4</td>\n",
       "      <td>4</td>\n",
       "    </tr>\n",
       "    <tr>\n",
       "      <th>top</th>\n",
       "      <td>A900A8E3B077CD75</td>\n",
       "      <td>2020-12-21</td>\n",
       "      <td>EU</td>\n",
       "      <td>Android</td>\n",
       "    </tr>\n",
       "    <tr>\n",
       "      <th>freq</th>\n",
       "      <td>1</td>\n",
       "      <td>6290</td>\n",
       "      <td>46270</td>\n",
       "      <td>27520</td>\n",
       "    </tr>\n",
       "  </tbody>\n",
       "</table>\n",
       "</div>"
      ],
      "text/plain": [
       "                 user_id  first_date region   device\n",
       "count   61733             61733       61733  61733  \n",
       "unique  61733             17          4      4      \n",
       "top     A900A8E3B077CD75  2020-12-21  EU     Android\n",
       "freq    1                 6290        46270  27520  "
      ]
     },
     "metadata": {},
     "output_type": "display_data"
    },
    {
     "data": {
      "text/plain": [
       "A900A8E3B077CD75    1\n",
       "7D82557D75E36086    1\n",
       "CA8E03E71A8400D3    1\n",
       "A0A3E7A9437437A9    1\n",
       "EEBD18FF754F6C98    1\n",
       "                   ..\n",
       "21843F4B10A163EA    1\n",
       "133551F803A76F52    1\n",
       "D59BFC277B8630CB    1\n",
       "AAF2AE5411A16B7E    1\n",
       "D8F5EF12AD39E391    1\n",
       "Name: user_id, Length: 61733, dtype: int64"
      ]
     },
     "metadata": {},
     "output_type": "display_data"
    },
    {
     "name": "stdout",
     "output_type": "stream",
     "text": [
      "**************************************************\n"
     ]
    },
    {
     "data": {
      "text/plain": [
       "EU           46270\n",
       "N.America    9155 \n",
       "CIS          3155 \n",
       "APAC         3153 \n",
       "Name: region, dtype: int64"
      ]
     },
     "metadata": {},
     "output_type": "display_data"
    },
    {
     "name": "stdout",
     "output_type": "stream",
     "text": [
      "**************************************************\n"
     ]
    },
    {
     "data": {
      "text/plain": [
       "Android    27520\n",
       "PC         15599\n",
       "iPhone     12530\n",
       "Mac        6084 \n",
       "Name: device, dtype: int64"
      ]
     },
     "metadata": {},
     "output_type": "display_data"
    },
    {
     "name": "stdout",
     "output_type": "stream",
     "text": [
      "**************************************************\n",
      "<class 'pandas.core.frame.DataFrame'>\n",
      "RangeIndex: 61733 entries, 0 to 61732\n",
      "Data columns (total 4 columns):\n",
      " #   Column      Non-Null Count  Dtype         \n",
      "---  ------      --------------  -----         \n",
      " 0   user_id     61733 non-null  object        \n",
      " 1   first_date  61733 non-null  datetime64[ns]\n",
      " 2   region      61733 non-null  object        \n",
      " 3   device      61733 non-null  object        \n",
      "dtypes: datetime64[ns](1), object(3)\n",
      "memory usage: 1.9+ MB\n"
     ]
    }
   ],
   "source": [
    "def inspect(df):\n",
    "    display(df.head()) \n",
    "    print ('Количество дубликатов -', df.duplicated().sum())\n",
    "    numeric_columns=df.describe().columns\n",
    "    display(df.describe())\n",
    "    display()\n",
    "    #orders.columns = [x.lower().replace(' ', '_') for x in df.columns.values]\n",
    "    for column_name in df.columns:\n",
    "        if 'first_date' in column_name or 'date' in column_name:\n",
    "                df[column_name] = df[column_name].map(lambda x: dt.datetime.strptime(x, '%Y-%m-%d'))\n",
    "        else:\n",
    "                display(df[column_name].value_counts())\n",
    "                print(50*'*')\n",
    "    df.info() \n",
    "    return df\n",
    "final_ab_new_users = inspect(final_ab_new_users)\n"
   ]
  },
  {
   "cell_type": "code",
   "execution_count": 59,
   "metadata": {},
   "outputs": [
    {
     "data": {
      "text/html": [
       "<div>\n",
       "<style scoped>\n",
       "    .dataframe tbody tr th:only-of-type {\n",
       "        vertical-align: middle;\n",
       "    }\n",
       "\n",
       "    .dataframe tbody tr th {\n",
       "        vertical-align: top;\n",
       "    }\n",
       "\n",
       "    .dataframe thead th {\n",
       "        text-align: right;\n",
       "    }\n",
       "</style>\n",
       "<table border=\"1\" class=\"dataframe\">\n",
       "  <thead>\n",
       "    <tr style=\"text-align: right;\">\n",
       "      <th></th>\n",
       "      <th>user_id</th>\n",
       "      <th>group</th>\n",
       "      <th>ab_test</th>\n",
       "    </tr>\n",
       "  </thead>\n",
       "  <tbody>\n",
       "    <tr>\n",
       "      <th>0</th>\n",
       "      <td>D1ABA3E2887B6A73</td>\n",
       "      <td>A</td>\n",
       "      <td>recommender_system_test</td>\n",
       "    </tr>\n",
       "    <tr>\n",
       "      <th>1</th>\n",
       "      <td>A7A3664BD6242119</td>\n",
       "      <td>A</td>\n",
       "      <td>recommender_system_test</td>\n",
       "    </tr>\n",
       "    <tr>\n",
       "      <th>2</th>\n",
       "      <td>DABC14FDDFADD29E</td>\n",
       "      <td>A</td>\n",
       "      <td>recommender_system_test</td>\n",
       "    </tr>\n",
       "    <tr>\n",
       "      <th>3</th>\n",
       "      <td>04988C5DF189632E</td>\n",
       "      <td>A</td>\n",
       "      <td>recommender_system_test</td>\n",
       "    </tr>\n",
       "    <tr>\n",
       "      <th>4</th>\n",
       "      <td>482F14783456D21B</td>\n",
       "      <td>B</td>\n",
       "      <td>recommender_system_test</td>\n",
       "    </tr>\n",
       "  </tbody>\n",
       "</table>\n",
       "</div>"
      ],
      "text/plain": [
       "            user_id group                  ab_test\n",
       "0  D1ABA3E2887B6A73  A     recommender_system_test\n",
       "1  A7A3664BD6242119  A     recommender_system_test\n",
       "2  DABC14FDDFADD29E  A     recommender_system_test\n",
       "3  04988C5DF189632E  A     recommender_system_test\n",
       "4  482F14783456D21B  B     recommender_system_test"
      ]
     },
     "metadata": {},
     "output_type": "display_data"
    },
    {
     "name": "stdout",
     "output_type": "stream",
     "text": [
      "Количество дубликатов - 0\n"
     ]
    },
    {
     "data": {
      "text/html": [
       "<div>\n",
       "<style scoped>\n",
       "    .dataframe tbody tr th:only-of-type {\n",
       "        vertical-align: middle;\n",
       "    }\n",
       "\n",
       "    .dataframe tbody tr th {\n",
       "        vertical-align: top;\n",
       "    }\n",
       "\n",
       "    .dataframe thead th {\n",
       "        text-align: right;\n",
       "    }\n",
       "</style>\n",
       "<table border=\"1\" class=\"dataframe\">\n",
       "  <thead>\n",
       "    <tr style=\"text-align: right;\">\n",
       "      <th></th>\n",
       "      <th>user_id</th>\n",
       "      <th>group</th>\n",
       "      <th>ab_test</th>\n",
       "    </tr>\n",
       "  </thead>\n",
       "  <tbody>\n",
       "    <tr>\n",
       "      <th>count</th>\n",
       "      <td>18268</td>\n",
       "      <td>18268</td>\n",
       "      <td>18268</td>\n",
       "    </tr>\n",
       "    <tr>\n",
       "      <th>unique</th>\n",
       "      <td>16666</td>\n",
       "      <td>2</td>\n",
       "      <td>2</td>\n",
       "    </tr>\n",
       "    <tr>\n",
       "      <th>top</th>\n",
       "      <td>5438D422A6A53E0E</td>\n",
       "      <td>A</td>\n",
       "      <td>interface_eu_test</td>\n",
       "    </tr>\n",
       "    <tr>\n",
       "      <th>freq</th>\n",
       "      <td>2</td>\n",
       "      <td>9655</td>\n",
       "      <td>11567</td>\n",
       "    </tr>\n",
       "  </tbody>\n",
       "</table>\n",
       "</div>"
      ],
      "text/plain": [
       "                 user_id  group            ab_test\n",
       "count   18268             18268  18268            \n",
       "unique  16666             2      2                \n",
       "top     5438D422A6A53E0E  A      interface_eu_test\n",
       "freq    2                 9655   11567            "
      ]
     },
     "metadata": {},
     "output_type": "display_data"
    },
    {
     "data": {
      "text/plain": [
       "5438D422A6A53E0E    2\n",
       "EB87A4B3C0008AFB    2\n",
       "32AF1446FF633378    2\n",
       "70BF82527E6ED9C3    2\n",
       "C10DF84409319DD3    2\n",
       "                   ..\n",
       "C323F544EF1B9E45    1\n",
       "CDFB5EAA70A846E8    1\n",
       "CBB3A0A3F97BEC52    1\n",
       "C7D13A92995405A2    1\n",
       "C3052D5A747E9CD8    1\n",
       "Name: user_id, Length: 16666, dtype: int64"
      ]
     },
     "metadata": {},
     "output_type": "display_data"
    },
    {
     "name": "stdout",
     "output_type": "stream",
     "text": [
      "**************************************************\n"
     ]
    },
    {
     "data": {
      "text/plain": [
       "A    9655\n",
       "B    8613\n",
       "Name: group, dtype: int64"
      ]
     },
     "metadata": {},
     "output_type": "display_data"
    },
    {
     "name": "stdout",
     "output_type": "stream",
     "text": [
      "**************************************************\n"
     ]
    },
    {
     "data": {
      "text/plain": [
       "interface_eu_test          11567\n",
       "recommender_system_test    6701 \n",
       "Name: ab_test, dtype: int64"
      ]
     },
     "metadata": {},
     "output_type": "display_data"
    },
    {
     "name": "stdout",
     "output_type": "stream",
     "text": [
      "**************************************************\n",
      "<class 'pandas.core.frame.DataFrame'>\n",
      "RangeIndex: 18268 entries, 0 to 18267\n",
      "Data columns (total 3 columns):\n",
      " #   Column   Non-Null Count  Dtype \n",
      "---  ------   --------------  ----- \n",
      " 0   user_id  18268 non-null  object\n",
      " 1   group    18268 non-null  object\n",
      " 2   ab_test  18268 non-null  object\n",
      "dtypes: object(3)\n",
      "memory usage: 428.3+ KB\n"
     ]
    }
   ],
   "source": [
    "final_ab_participants = inspect(final_ab_participants)"
   ]
  },
  {
   "cell_type": "code",
   "execution_count": 60,
   "metadata": {},
   "outputs": [
    {
     "data": {
      "text/html": [
       "<div>\n",
       "<style scoped>\n",
       "    .dataframe tbody tr th:only-of-type {\n",
       "        vertical-align: middle;\n",
       "    }\n",
       "\n",
       "    .dataframe tbody tr th {\n",
       "        vertical-align: top;\n",
       "    }\n",
       "\n",
       "    .dataframe thead th {\n",
       "        text-align: right;\n",
       "    }\n",
       "</style>\n",
       "<table border=\"1\" class=\"dataframe\">\n",
       "  <thead>\n",
       "    <tr style=\"text-align: right;\">\n",
       "      <th></th>\n",
       "      <th>user_id</th>\n",
       "      <th>event_dt</th>\n",
       "      <th>event_name</th>\n",
       "      <th>details</th>\n",
       "    </tr>\n",
       "  </thead>\n",
       "  <tbody>\n",
       "    <tr>\n",
       "      <th>0</th>\n",
       "      <td>E1BDDCE0DAFA2679</td>\n",
       "      <td>2020-12-07 20:22:03</td>\n",
       "      <td>purchase</td>\n",
       "      <td>99.99</td>\n",
       "    </tr>\n",
       "    <tr>\n",
       "      <th>1</th>\n",
       "      <td>7B6452F081F49504</td>\n",
       "      <td>2020-12-07 09:22:53</td>\n",
       "      <td>purchase</td>\n",
       "      <td>9.99</td>\n",
       "    </tr>\n",
       "    <tr>\n",
       "      <th>2</th>\n",
       "      <td>9CD9F34546DF254C</td>\n",
       "      <td>2020-12-07 12:59:29</td>\n",
       "      <td>purchase</td>\n",
       "      <td>4.99</td>\n",
       "    </tr>\n",
       "    <tr>\n",
       "      <th>3</th>\n",
       "      <td>96F27A054B191457</td>\n",
       "      <td>2020-12-07 04:02:40</td>\n",
       "      <td>purchase</td>\n",
       "      <td>4.99</td>\n",
       "    </tr>\n",
       "    <tr>\n",
       "      <th>4</th>\n",
       "      <td>1FD7660FDF94CA1F</td>\n",
       "      <td>2020-12-07 10:15:09</td>\n",
       "      <td>purchase</td>\n",
       "      <td>4.99</td>\n",
       "    </tr>\n",
       "  </tbody>\n",
       "</table>\n",
       "</div>"
      ],
      "text/plain": [
       "            user_id             event_dt event_name  details\n",
       "0  E1BDDCE0DAFA2679  2020-12-07 20:22:03  purchase   99.99  \n",
       "1  7B6452F081F49504  2020-12-07 09:22:53  purchase   9.99   \n",
       "2  9CD9F34546DF254C  2020-12-07 12:59:29  purchase   4.99   \n",
       "3  96F27A054B191457  2020-12-07 04:02:40  purchase   4.99   \n",
       "4  1FD7660FDF94CA1F  2020-12-07 10:15:09  purchase   4.99   "
      ]
     },
     "metadata": {},
     "output_type": "display_data"
    },
    {
     "name": "stdout",
     "output_type": "stream",
     "text": [
      "Количество дубликатов - 0\n"
     ]
    },
    {
     "data": {
      "text/html": [
       "<div>\n",
       "<style scoped>\n",
       "    .dataframe tbody tr th:only-of-type {\n",
       "        vertical-align: middle;\n",
       "    }\n",
       "\n",
       "    .dataframe tbody tr th {\n",
       "        vertical-align: top;\n",
       "    }\n",
       "\n",
       "    .dataframe thead th {\n",
       "        text-align: right;\n",
       "    }\n",
       "</style>\n",
       "<table border=\"1\" class=\"dataframe\">\n",
       "  <thead>\n",
       "    <tr style=\"text-align: right;\">\n",
       "      <th></th>\n",
       "      <th>details</th>\n",
       "    </tr>\n",
       "  </thead>\n",
       "  <tbody>\n",
       "    <tr>\n",
       "      <th>count</th>\n",
       "      <td>62740.000000</td>\n",
       "    </tr>\n",
       "    <tr>\n",
       "      <th>mean</th>\n",
       "      <td>23.877631</td>\n",
       "    </tr>\n",
       "    <tr>\n",
       "      <th>std</th>\n",
       "      <td>72.180465</td>\n",
       "    </tr>\n",
       "    <tr>\n",
       "      <th>min</th>\n",
       "      <td>4.990000</td>\n",
       "    </tr>\n",
       "    <tr>\n",
       "      <th>25%</th>\n",
       "      <td>4.990000</td>\n",
       "    </tr>\n",
       "    <tr>\n",
       "      <th>50%</th>\n",
       "      <td>4.990000</td>\n",
       "    </tr>\n",
       "    <tr>\n",
       "      <th>75%</th>\n",
       "      <td>9.990000</td>\n",
       "    </tr>\n",
       "    <tr>\n",
       "      <th>max</th>\n",
       "      <td>499.990000</td>\n",
       "    </tr>\n",
       "  </tbody>\n",
       "</table>\n",
       "</div>"
      ],
      "text/plain": [
       "            details\n",
       "count  62740.000000\n",
       "mean   23.877631   \n",
       "std    72.180465   \n",
       "min    4.990000    \n",
       "25%    4.990000    \n",
       "50%    4.990000    \n",
       "75%    9.990000    \n",
       "max    499.990000  "
      ]
     },
     "metadata": {},
     "output_type": "display_data"
    },
    {
     "data": {
      "text/plain": [
       "A3917F81482141F2    36\n",
       "590DACD07A839BC3    32\n",
       "8AEB716C4CD82CA7    32\n",
       "426330B820B8711A    32\n",
       "11285A53EC2B2042    32\n",
       "                    ..\n",
       "B4A4C1152C7A6CE9    1 \n",
       "788724F2A10C59FE    1 \n",
       "85A8CCD5C08A18E4    1 \n",
       "6D6D3E965F77305D    1 \n",
       "812A667823327EDD    1 \n",
       "Name: user_id, Length: 58703, dtype: int64"
      ]
     },
     "metadata": {},
     "output_type": "display_data"
    },
    {
     "name": "stdout",
     "output_type": "stream",
     "text": [
      "**************************************************\n"
     ]
    },
    {
     "data": {
      "text/plain": [
       "2020-12-23 02:37:24    10\n",
       "2020-12-14 18:54:55    10\n",
       "2020-12-13 06:00:54    9 \n",
       "2020-12-20 02:51:18    9 \n",
       "2020-12-21 21:14:13    9 \n",
       "                      .. \n",
       "2020-12-13 07:09:01    1 \n",
       "2020-12-16 11:15:30    1 \n",
       "2020-12-24 06:59:58    1 \n",
       "2020-12-22 13:32:58    1 \n",
       "2020-12-23 19:33:30    1 \n",
       "Name: event_dt, Length: 267268, dtype: int64"
      ]
     },
     "metadata": {},
     "output_type": "display_data"
    },
    {
     "name": "stdout",
     "output_type": "stream",
     "text": [
      "**************************************************\n"
     ]
    },
    {
     "data": {
      "text/plain": [
       "login           189552\n",
       "product_page    125563\n",
       "purchase        62740 \n",
       "product_cart    62462 \n",
       "Name: event_name, dtype: int64"
      ]
     },
     "metadata": {},
     "output_type": "display_data"
    },
    {
     "name": "stdout",
     "output_type": "stream",
     "text": [
      "**************************************************\n"
     ]
    },
    {
     "data": {
      "text/plain": [
       "4.99      46362\n",
       "9.99      9530 \n",
       "99.99     5631 \n",
       "499.99    1217 \n",
       "Name: details, dtype: int64"
      ]
     },
     "metadata": {},
     "output_type": "display_data"
    },
    {
     "name": "stdout",
     "output_type": "stream",
     "text": [
      "**************************************************\n",
      "<class 'pandas.core.frame.DataFrame'>\n",
      "RangeIndex: 440317 entries, 0 to 440316\n",
      "Data columns (total 4 columns):\n",
      " #   Column      Non-Null Count   Dtype  \n",
      "---  ------      --------------   -----  \n",
      " 0   user_id     440317 non-null  object \n",
      " 1   event_dt    440317 non-null  object \n",
      " 2   event_name  440317 non-null  object \n",
      " 3   details     62740 non-null   float64\n",
      "dtypes: float64(1), object(3)\n",
      "memory usage: 13.4+ MB\n"
     ]
    }
   ],
   "source": [
    "final_ab_events = inspect(final_ab_events)"
   ]
  },
  {
   "cell_type": "code",
   "execution_count": 61,
   "metadata": {},
   "outputs": [
    {
     "data": {
      "text/html": [
       "<div>\n",
       "<style scoped>\n",
       "    .dataframe tbody tr th:only-of-type {\n",
       "        vertical-align: middle;\n",
       "    }\n",
       "\n",
       "    .dataframe tbody tr th {\n",
       "        vertical-align: top;\n",
       "    }\n",
       "\n",
       "    .dataframe thead th {\n",
       "        text-align: right;\n",
       "    }\n",
       "</style>\n",
       "<table border=\"1\" class=\"dataframe\">\n",
       "  <thead>\n",
       "    <tr style=\"text-align: right;\">\n",
       "      <th></th>\n",
       "      <th>name</th>\n",
       "      <th>regions</th>\n",
       "      <th>start_dt</th>\n",
       "      <th>finish_dt</th>\n",
       "    </tr>\n",
       "  </thead>\n",
       "  <tbody>\n",
       "    <tr>\n",
       "      <th>0</th>\n",
       "      <td>Christmas&amp;New Year Promo</td>\n",
       "      <td>EU, N.America</td>\n",
       "      <td>2020-12-25</td>\n",
       "      <td>2021-01-03</td>\n",
       "    </tr>\n",
       "    <tr>\n",
       "      <th>1</th>\n",
       "      <td>St. Valentine's Day Giveaway</td>\n",
       "      <td>EU, CIS, APAC, N.America</td>\n",
       "      <td>2020-02-14</td>\n",
       "      <td>2020-02-16</td>\n",
       "    </tr>\n",
       "    <tr>\n",
       "      <th>2</th>\n",
       "      <td>St. Patric's Day Promo</td>\n",
       "      <td>EU, N.America</td>\n",
       "      <td>2020-03-17</td>\n",
       "      <td>2020-03-19</td>\n",
       "    </tr>\n",
       "    <tr>\n",
       "      <th>3</th>\n",
       "      <td>Easter Promo</td>\n",
       "      <td>EU, CIS, APAC, N.America</td>\n",
       "      <td>2020-04-12</td>\n",
       "      <td>2020-04-19</td>\n",
       "    </tr>\n",
       "    <tr>\n",
       "      <th>4</th>\n",
       "      <td>4th of July Promo</td>\n",
       "      <td>N.America</td>\n",
       "      <td>2020-07-04</td>\n",
       "      <td>2020-07-11</td>\n",
       "    </tr>\n",
       "  </tbody>\n",
       "</table>\n",
       "</div>"
      ],
      "text/plain": [
       "                           name                   regions    start_dt  \\\n",
       "0  Christmas&New Year Promo      EU, N.America             2020-12-25   \n",
       "1  St. Valentine's Day Giveaway  EU, CIS, APAC, N.America  2020-02-14   \n",
       "2  St. Patric's Day Promo        EU, N.America             2020-03-17   \n",
       "3  Easter Promo                  EU, CIS, APAC, N.America  2020-04-12   \n",
       "4  4th of July Promo             N.America                 2020-07-04   \n",
       "\n",
       "    finish_dt  \n",
       "0  2021-01-03  \n",
       "1  2020-02-16  \n",
       "2  2020-03-19  \n",
       "3  2020-04-19  \n",
       "4  2020-07-11  "
      ]
     },
     "metadata": {},
     "output_type": "display_data"
    },
    {
     "name": "stdout",
     "output_type": "stream",
     "text": [
      "Количество дубликатов - 0\n"
     ]
    },
    {
     "data": {
      "text/html": [
       "<div>\n",
       "<style scoped>\n",
       "    .dataframe tbody tr th:only-of-type {\n",
       "        vertical-align: middle;\n",
       "    }\n",
       "\n",
       "    .dataframe tbody tr th {\n",
       "        vertical-align: top;\n",
       "    }\n",
       "\n",
       "    .dataframe thead th {\n",
       "        text-align: right;\n",
       "    }\n",
       "</style>\n",
       "<table border=\"1\" class=\"dataframe\">\n",
       "  <thead>\n",
       "    <tr style=\"text-align: right;\">\n",
       "      <th></th>\n",
       "      <th>name</th>\n",
       "      <th>regions</th>\n",
       "      <th>start_dt</th>\n",
       "      <th>finish_dt</th>\n",
       "    </tr>\n",
       "  </thead>\n",
       "  <tbody>\n",
       "    <tr>\n",
       "      <th>count</th>\n",
       "      <td>14</td>\n",
       "      <td>14</td>\n",
       "      <td>14</td>\n",
       "      <td>14</td>\n",
       "    </tr>\n",
       "    <tr>\n",
       "      <th>unique</th>\n",
       "      <td>14</td>\n",
       "      <td>6</td>\n",
       "      <td>14</td>\n",
       "      <td>14</td>\n",
       "    </tr>\n",
       "    <tr>\n",
       "      <th>top</th>\n",
       "      <td>CIS New Year Gift Lottery</td>\n",
       "      <td>APAC</td>\n",
       "      <td>2020-12-25</td>\n",
       "      <td>2020-05-03</td>\n",
       "    </tr>\n",
       "    <tr>\n",
       "      <th>freq</th>\n",
       "      <td>1</td>\n",
       "      <td>4</td>\n",
       "      <td>1</td>\n",
       "      <td>1</td>\n",
       "    </tr>\n",
       "  </tbody>\n",
       "</table>\n",
       "</div>"
      ],
      "text/plain": [
       "                             name regions    start_dt   finish_dt\n",
       "count   14                         14      14          14        \n",
       "unique  14                         6       14          14        \n",
       "top     CIS New Year Gift Lottery  APAC    2020-12-25  2020-05-03\n",
       "freq    1                          4       1           1         "
      ]
     },
     "metadata": {},
     "output_type": "display_data"
    },
    {
     "data": {
      "text/plain": [
       "CIS New Year Gift Lottery           1\n",
       "Chinese New Year Promo              1\n",
       "Chinese Moon Festival               1\n",
       "Easter Promo                        1\n",
       "Dragon Boat Festival Giveaway       1\n",
       "International Women's Day Promo     1\n",
       "Single's Day Gift Promo             1\n",
       "Labor day (May 1st) Ads Campaign    1\n",
       "St. Patric's Day Promo              1\n",
       "Christmas&New Year Promo            1\n",
       "Black Friday Ads Campaign           1\n",
       "St. Valentine's Day Giveaway        1\n",
       "4th of July Promo                   1\n",
       "Victory Day CIS (May 9th) Event     1\n",
       "Name: name, dtype: int64"
      ]
     },
     "metadata": {},
     "output_type": "display_data"
    },
    {
     "name": "stdout",
     "output_type": "stream",
     "text": [
      "**************************************************\n"
     ]
    },
    {
     "data": {
      "text/plain": [
       "APAC                        4\n",
       "EU, CIS, APAC, N.America    3\n",
       "EU, CIS, APAC               2\n",
       "CIS                         2\n",
       "EU, N.America               2\n",
       "N.America                   1\n",
       "Name: regions, dtype: int64"
      ]
     },
     "metadata": {},
     "output_type": "display_data"
    },
    {
     "name": "stdout",
     "output_type": "stream",
     "text": [
      "**************************************************\n"
     ]
    },
    {
     "data": {
      "text/plain": [
       "2020-12-25    1\n",
       "2020-07-04    1\n",
       "2020-11-26    1\n",
       "2020-02-14    1\n",
       "2020-03-17    1\n",
       "2020-12-30    1\n",
       "2020-06-25    1\n",
       "2020-03-08    1\n",
       "2020-10-01    1\n",
       "2020-05-09    1\n",
       "2020-11-11    1\n",
       "2020-05-01    1\n",
       "2020-04-12    1\n",
       "2020-01-25    1\n",
       "Name: start_dt, dtype: int64"
      ]
     },
     "metadata": {},
     "output_type": "display_data"
    },
    {
     "name": "stdout",
     "output_type": "stream",
     "text": [
      "**************************************************\n"
     ]
    },
    {
     "data": {
      "text/plain": [
       "2020-05-03    1\n",
       "2020-05-11    1\n",
       "2020-10-07    1\n",
       "2021-01-07    1\n",
       "2020-11-12    1\n",
       "2021-01-03    1\n",
       "2020-04-19    1\n",
       "2020-02-16    1\n",
       "2020-07-01    1\n",
       "2020-03-19    1\n",
       "2020-03-10    1\n",
       "2020-12-01    1\n",
       "2020-07-11    1\n",
       "2020-02-07    1\n",
       "Name: finish_dt, dtype: int64"
      ]
     },
     "metadata": {},
     "output_type": "display_data"
    },
    {
     "name": "stdout",
     "output_type": "stream",
     "text": [
      "**************************************************\n",
      "<class 'pandas.core.frame.DataFrame'>\n",
      "RangeIndex: 14 entries, 0 to 13\n",
      "Data columns (total 4 columns):\n",
      " #   Column     Non-Null Count  Dtype \n",
      "---  ------     --------------  ----- \n",
      " 0   name       14 non-null     object\n",
      " 1   regions    14 non-null     object\n",
      " 2   start_dt   14 non-null     object\n",
      " 3   finish_dt  14 non-null     object\n",
      "dtypes: object(4)\n",
      "memory usage: 576.0+ bytes\n"
     ]
    }
   ],
   "source": [
    "final_ab_marketing_events = inspect(final_ab_marketing_events)"
   ]
  },
  {
   "cell_type": "markdown",
   "metadata": {},
   "source": [
    "Дубликатов в данных не обнаружено\n",
    "\n",
    "Даты привели к нужному  типу \n",
    "\n",
    "Обнаружены пропуски в таблице final_ab_events в столбце details. Так как этот столбец содержит всего лишь допол. информацию, пропуски оставим как есть.\n",
    "\n",
    "В столбце ab_test из таблицы final_ab_participants , возможно, остались данные из другого теста. Необходимо удалить."
   ]
  },
  {
   "cell_type": "markdown",
   "metadata": {},
   "source": [
    "<a id='2'></a>\n",
    "### Оценить корректность проведения теста "
   ]
  },
  {
   "cell_type": "markdown",
   "metadata": {},
   "source": [
    " - Соответствие данных требованиям технического задания. Проверьте корректность всех пунктов технического задания.\n",
    "  - Время проведения теста. Убедитесь, что оно не совпадает с маркетинговыми и другими активностями.\n",
    "  - Аудиторию теста. Удостоверьтесь, что нет пересечений с конкурирующим тестом и нет пользователей, участвующих в двух группах теста одновременно. Проверьте равномерность распределения по тестовым группам и правильность их формирования."
   ]
  },
  {
   "cell_type": "markdown",
   "metadata": {},
   "source": [
    "#### Соответствие данных требованиям технического задания"
   ]
  },
  {
   "cell_type": "markdown",
   "metadata": {},
   "source": [
    "Необходимо проверить данные по ТЗ:\n",
    "\n",
    "    - название теста: recommender_system_test\n",
    "    - пользователи, зарегистрированные до 2020-12-21\n",
    "    - дата проведения теста с 2020-12-07 по 2021-01-04\n",
    "    - аудитория: 15% новых пользователей из региона EU"
   ]
  },
  {
   "cell_type": "code",
   "execution_count": 62,
   "metadata": {},
   "outputs": [
    {
     "data": {
      "text/html": [
       "<div>\n",
       "<style scoped>\n",
       "    .dataframe tbody tr th:only-of-type {\n",
       "        vertical-align: middle;\n",
       "    }\n",
       "\n",
       "    .dataframe tbody tr th {\n",
       "        vertical-align: top;\n",
       "    }\n",
       "\n",
       "    .dataframe thead th {\n",
       "        text-align: right;\n",
       "    }\n",
       "</style>\n",
       "<table border=\"1\" class=\"dataframe\">\n",
       "  <thead>\n",
       "    <tr style=\"text-align: right;\">\n",
       "      <th></th>\n",
       "      <th>user_id</th>\n",
       "      <th>group</th>\n",
       "      <th>ab_test</th>\n",
       "    </tr>\n",
       "  </thead>\n",
       "  <tbody>\n",
       "    <tr>\n",
       "      <th>0</th>\n",
       "      <td>D1ABA3E2887B6A73</td>\n",
       "      <td>A</td>\n",
       "      <td>recommender_system_test</td>\n",
       "    </tr>\n",
       "    <tr>\n",
       "      <th>1</th>\n",
       "      <td>A7A3664BD6242119</td>\n",
       "      <td>A</td>\n",
       "      <td>recommender_system_test</td>\n",
       "    </tr>\n",
       "    <tr>\n",
       "      <th>2</th>\n",
       "      <td>DABC14FDDFADD29E</td>\n",
       "      <td>A</td>\n",
       "      <td>recommender_system_test</td>\n",
       "    </tr>\n",
       "    <tr>\n",
       "      <th>3</th>\n",
       "      <td>04988C5DF189632E</td>\n",
       "      <td>A</td>\n",
       "      <td>recommender_system_test</td>\n",
       "    </tr>\n",
       "    <tr>\n",
       "      <th>4</th>\n",
       "      <td>482F14783456D21B</td>\n",
       "      <td>B</td>\n",
       "      <td>recommender_system_test</td>\n",
       "    </tr>\n",
       "    <tr>\n",
       "      <th>...</th>\n",
       "      <td>...</td>\n",
       "      <td>...</td>\n",
       "      <td>...</td>\n",
       "    </tr>\n",
       "    <tr>\n",
       "      <th>18263</th>\n",
       "      <td>1D302F8688B91781</td>\n",
       "      <td>B</td>\n",
       "      <td>interface_eu_test</td>\n",
       "    </tr>\n",
       "    <tr>\n",
       "      <th>18264</th>\n",
       "      <td>3DE51B726983B657</td>\n",
       "      <td>A</td>\n",
       "      <td>interface_eu_test</td>\n",
       "    </tr>\n",
       "    <tr>\n",
       "      <th>18265</th>\n",
       "      <td>F501F79D332BE86C</td>\n",
       "      <td>A</td>\n",
       "      <td>interface_eu_test</td>\n",
       "    </tr>\n",
       "    <tr>\n",
       "      <th>18266</th>\n",
       "      <td>63FBE257B05F2245</td>\n",
       "      <td>A</td>\n",
       "      <td>interface_eu_test</td>\n",
       "    </tr>\n",
       "    <tr>\n",
       "      <th>18267</th>\n",
       "      <td>79F9ABFB029CF724</td>\n",
       "      <td>B</td>\n",
       "      <td>interface_eu_test</td>\n",
       "    </tr>\n",
       "  </tbody>\n",
       "</table>\n",
       "<p>18268 rows × 3 columns</p>\n",
       "</div>"
      ],
      "text/plain": [
       "                user_id group                  ab_test\n",
       "0      D1ABA3E2887B6A73  A     recommender_system_test\n",
       "1      A7A3664BD6242119  A     recommender_system_test\n",
       "2      DABC14FDDFADD29E  A     recommender_system_test\n",
       "3      04988C5DF189632E  A     recommender_system_test\n",
       "4      482F14783456D21B  B     recommender_system_test\n",
       "...                 ... ..                         ...\n",
       "18263  1D302F8688B91781  B     interface_eu_test      \n",
       "18264  3DE51B726983B657  A     interface_eu_test      \n",
       "18265  F501F79D332BE86C  A     interface_eu_test      \n",
       "18266  63FBE257B05F2245  A     interface_eu_test      \n",
       "18267  79F9ABFB029CF724  B     interface_eu_test      \n",
       "\n",
       "[18268 rows x 3 columns]"
      ]
     },
     "execution_count": 62,
     "metadata": {},
     "output_type": "execute_result"
    }
   ],
   "source": [
    "final_ab_participants"
   ]
  },
  {
   "cell_type": "code",
   "execution_count": 63,
   "metadata": {},
   "outputs": [
    {
     "data": {
      "text/plain": [
       "776"
      ]
     },
     "metadata": {},
     "output_type": "display_data"
    }
   ],
   "source": [
    "#проверим группы на пересекающихся пользователей\n",
    "duplicated_users = final_ab_participants.groupby('user_id').agg({'group': ['nunique', 'unique']})\n",
    "duplicated_users.columns = ['groups', 'group_names']\n",
    "duplicated_users = duplicated_users.query('groups > 1')\n",
    "display(len(duplicated_users))"
   ]
  },
  {
   "cell_type": "code",
   "execution_count": 64,
   "metadata": {},
   "outputs": [
    {
     "data": {
      "text/plain": [
       "interface_eu_test          11567\n",
       "recommender_system_test    6701 \n",
       "Name: ab_test, dtype: int64"
      ]
     },
     "execution_count": 64,
     "metadata": {},
     "output_type": "execute_result"
    }
   ],
   "source": [
    "final_ab_participants['ab_test'].value_counts()"
   ]
  },
  {
   "cell_type": "markdown",
   "metadata": {},
   "source": [
    "Как видим, наших только 6701 пользователей, необходимо оставить нужных нам пользователей.\n"
   ]
  },
  {
   "cell_type": "code",
   "execution_count": 65,
   "metadata": {},
   "outputs": [
    {
     "data": {
      "text/html": [
       "<div>\n",
       "<style scoped>\n",
       "    .dataframe tbody tr th:only-of-type {\n",
       "        vertical-align: middle;\n",
       "    }\n",
       "\n",
       "    .dataframe tbody tr th {\n",
       "        vertical-align: top;\n",
       "    }\n",
       "\n",
       "    .dataframe thead th {\n",
       "        text-align: right;\n",
       "    }\n",
       "</style>\n",
       "<table border=\"1\" class=\"dataframe\">\n",
       "  <thead>\n",
       "    <tr style=\"text-align: right;\">\n",
       "      <th></th>\n",
       "      <th>user_id</th>\n",
       "      <th>ab_test</th>\n",
       "    </tr>\n",
       "  </thead>\n",
       "  <tbody>\n",
       "    <tr>\n",
       "      <th>2</th>\n",
       "      <td>001064FEAAB631A1</td>\n",
       "      <td>2</td>\n",
       "    </tr>\n",
       "    <tr>\n",
       "      <th>10</th>\n",
       "      <td>00341D8401F0F665</td>\n",
       "      <td>2</td>\n",
       "    </tr>\n",
       "    <tr>\n",
       "      <th>12</th>\n",
       "      <td>003B6786B4FF5B03</td>\n",
       "      <td>2</td>\n",
       "    </tr>\n",
       "    <tr>\n",
       "      <th>29</th>\n",
       "      <td>0082295A41A867B5</td>\n",
       "      <td>2</td>\n",
       "    </tr>\n",
       "    <tr>\n",
       "      <th>46</th>\n",
       "      <td>00E68F103C66C1F7</td>\n",
       "      <td>2</td>\n",
       "    </tr>\n",
       "    <tr>\n",
       "      <th>...</th>\n",
       "      <td>...</td>\n",
       "      <td>...</td>\n",
       "    </tr>\n",
       "    <tr>\n",
       "      <th>16638</th>\n",
       "      <td>FF7BE2897FC0380D</td>\n",
       "      <td>2</td>\n",
       "    </tr>\n",
       "    <tr>\n",
       "      <th>16644</th>\n",
       "      <td>FF9A81323FA67D6E</td>\n",
       "      <td>2</td>\n",
       "    </tr>\n",
       "    <tr>\n",
       "      <th>16652</th>\n",
       "      <td>FFC53FD45DDA5EE8</td>\n",
       "      <td>2</td>\n",
       "    </tr>\n",
       "    <tr>\n",
       "      <th>16662</th>\n",
       "      <td>FFED90241D04503F</td>\n",
       "      <td>2</td>\n",
       "    </tr>\n",
       "    <tr>\n",
       "      <th>16664</th>\n",
       "      <td>FFF28D02B1EACBE1</td>\n",
       "      <td>2</td>\n",
       "    </tr>\n",
       "  </tbody>\n",
       "</table>\n",
       "<p>1602 rows × 2 columns</p>\n",
       "</div>"
      ],
      "text/plain": [
       "                user_id  ab_test\n",
       "2      001064FEAAB631A1  2      \n",
       "10     00341D8401F0F665  2      \n",
       "12     003B6786B4FF5B03  2      \n",
       "29     0082295A41A867B5  2      \n",
       "46     00E68F103C66C1F7  2      \n",
       "...                 ... ..      \n",
       "16638  FF7BE2897FC0380D  2      \n",
       "16644  FF9A81323FA67D6E  2      \n",
       "16652  FFC53FD45DDA5EE8  2      \n",
       "16662  FFED90241D04503F  2      \n",
       "16664  FFF28D02B1EACBE1  2      \n",
       "\n",
       "[1602 rows x 2 columns]"
      ]
     },
     "execution_count": 65,
     "metadata": {},
     "output_type": "execute_result"
    }
   ],
   "source": [
    "\n",
    "\n",
    "temp = final_ab_participants.groupby('user_id').agg({'ab_test': 'nunique'}).reset_index()\n",
    "temp.query('ab_test > 1')"
   ]
  },
  {
   "cell_type": "code",
   "execution_count": 66,
   "metadata": {},
   "outputs": [
    {
     "data": {
      "text/html": [
       "<div>\n",
       "<style scoped>\n",
       "    .dataframe tbody tr th:only-of-type {\n",
       "        vertical-align: middle;\n",
       "    }\n",
       "\n",
       "    .dataframe tbody tr th {\n",
       "        vertical-align: top;\n",
       "    }\n",
       "\n",
       "    .dataframe thead th {\n",
       "        text-align: right;\n",
       "    }\n",
       "</style>\n",
       "<table border=\"1\" class=\"dataframe\">\n",
       "  <thead>\n",
       "    <tr style=\"text-align: right;\">\n",
       "      <th></th>\n",
       "      <th>user_id</th>\n",
       "      <th>group</th>\n",
       "      <th>ab_test</th>\n",
       "    </tr>\n",
       "  </thead>\n",
       "  <tbody>\n",
       "    <tr>\n",
       "      <th>0</th>\n",
       "      <td>D1ABA3E2887B6A73</td>\n",
       "      <td>A</td>\n",
       "      <td>recommender_system_test</td>\n",
       "    </tr>\n",
       "    <tr>\n",
       "      <th>1</th>\n",
       "      <td>A7A3664BD6242119</td>\n",
       "      <td>A</td>\n",
       "      <td>recommender_system_test</td>\n",
       "    </tr>\n",
       "    <tr>\n",
       "      <th>2</th>\n",
       "      <td>DABC14FDDFADD29E</td>\n",
       "      <td>A</td>\n",
       "      <td>recommender_system_test</td>\n",
       "    </tr>\n",
       "    <tr>\n",
       "      <th>3</th>\n",
       "      <td>04988C5DF189632E</td>\n",
       "      <td>A</td>\n",
       "      <td>recommender_system_test</td>\n",
       "    </tr>\n",
       "    <tr>\n",
       "      <th>4</th>\n",
       "      <td>482F14783456D21B</td>\n",
       "      <td>B</td>\n",
       "      <td>recommender_system_test</td>\n",
       "    </tr>\n",
       "    <tr>\n",
       "      <th>...</th>\n",
       "      <td>...</td>\n",
       "      <td>...</td>\n",
       "      <td>...</td>\n",
       "    </tr>\n",
       "    <tr>\n",
       "      <th>6696</th>\n",
       "      <td>053FB26D6D49EDDC</td>\n",
       "      <td>A</td>\n",
       "      <td>recommender_system_test</td>\n",
       "    </tr>\n",
       "    <tr>\n",
       "      <th>6697</th>\n",
       "      <td>9D263B8EF15CF188</td>\n",
       "      <td>B</td>\n",
       "      <td>recommender_system_test</td>\n",
       "    </tr>\n",
       "    <tr>\n",
       "      <th>6698</th>\n",
       "      <td>F2FBBA33F37DEC46</td>\n",
       "      <td>A</td>\n",
       "      <td>recommender_system_test</td>\n",
       "    </tr>\n",
       "    <tr>\n",
       "      <th>6699</th>\n",
       "      <td>29C92313A98B1176</td>\n",
       "      <td>B</td>\n",
       "      <td>recommender_system_test</td>\n",
       "    </tr>\n",
       "    <tr>\n",
       "      <th>6700</th>\n",
       "      <td>6715343AFBA285AE</td>\n",
       "      <td>B</td>\n",
       "      <td>recommender_system_test</td>\n",
       "    </tr>\n",
       "  </tbody>\n",
       "</table>\n",
       "<p>6701 rows × 3 columns</p>\n",
       "</div>"
      ],
      "text/plain": [
       "               user_id group                  ab_test\n",
       "0     D1ABA3E2887B6A73  A     recommender_system_test\n",
       "1     A7A3664BD6242119  A     recommender_system_test\n",
       "2     DABC14FDDFADD29E  A     recommender_system_test\n",
       "3     04988C5DF189632E  A     recommender_system_test\n",
       "4     482F14783456D21B  B     recommender_system_test\n",
       "...                ... ..                         ...\n",
       "6696  053FB26D6D49EDDC  A     recommender_system_test\n",
       "6697  9D263B8EF15CF188  B     recommender_system_test\n",
       "6698  F2FBBA33F37DEC46  A     recommender_system_test\n",
       "6699  29C92313A98B1176  B     recommender_system_test\n",
       "6700  6715343AFBA285AE  B     recommender_system_test\n",
       "\n",
       "[6701 rows x 3 columns]"
      ]
     },
     "execution_count": 66,
     "metadata": {},
     "output_type": "execute_result"
    }
   ],
   "source": [
    "new_ab_participants=final_ab_participants.query('ab_test==\"recommender_system_test\"')\n",
    "new_ab_participants"
   ]
  },
  {
   "cell_type": "code",
   "execution_count": 67,
   "metadata": {},
   "outputs": [
    {
     "data": {
      "text/html": [
       "<div>\n",
       "<style scoped>\n",
       "    .dataframe tbody tr th:only-of-type {\n",
       "        vertical-align: middle;\n",
       "    }\n",
       "\n",
       "    .dataframe tbody tr th {\n",
       "        vertical-align: top;\n",
       "    }\n",
       "\n",
       "    .dataframe thead th {\n",
       "        text-align: right;\n",
       "    }\n",
       "</style>\n",
       "<table border=\"1\" class=\"dataframe\">\n",
       "  <thead>\n",
       "    <tr style=\"text-align: right;\">\n",
       "      <th></th>\n",
       "      <th>user_id</th>\n",
       "      <th>first_date</th>\n",
       "      <th>region</th>\n",
       "      <th>device</th>\n",
       "    </tr>\n",
       "  </thead>\n",
       "  <tbody>\n",
       "    <tr>\n",
       "      <th>0</th>\n",
       "      <td>D72A72121175D8BE</td>\n",
       "      <td>2020-12-07</td>\n",
       "      <td>EU</td>\n",
       "      <td>PC</td>\n",
       "    </tr>\n",
       "    <tr>\n",
       "      <th>1</th>\n",
       "      <td>F1C668619DFE6E65</td>\n",
       "      <td>2020-12-07</td>\n",
       "      <td>N.America</td>\n",
       "      <td>Android</td>\n",
       "    </tr>\n",
       "    <tr>\n",
       "      <th>2</th>\n",
       "      <td>2E1BF1D4C37EA01F</td>\n",
       "      <td>2020-12-07</td>\n",
       "      <td>EU</td>\n",
       "      <td>PC</td>\n",
       "    </tr>\n",
       "    <tr>\n",
       "      <th>3</th>\n",
       "      <td>50734A22C0C63768</td>\n",
       "      <td>2020-12-07</td>\n",
       "      <td>EU</td>\n",
       "      <td>iPhone</td>\n",
       "    </tr>\n",
       "    <tr>\n",
       "      <th>4</th>\n",
       "      <td>E1BDDCE0DAFA2679</td>\n",
       "      <td>2020-12-07</td>\n",
       "      <td>N.America</td>\n",
       "      <td>iPhone</td>\n",
       "    </tr>\n",
       "    <tr>\n",
       "      <th>...</th>\n",
       "      <td>...</td>\n",
       "      <td>...</td>\n",
       "      <td>...</td>\n",
       "      <td>...</td>\n",
       "    </tr>\n",
       "    <tr>\n",
       "      <th>61728</th>\n",
       "      <td>1DB53B933257165D</td>\n",
       "      <td>2020-12-20</td>\n",
       "      <td>EU</td>\n",
       "      <td>Android</td>\n",
       "    </tr>\n",
       "    <tr>\n",
       "      <th>61729</th>\n",
       "      <td>538643EB4527ED03</td>\n",
       "      <td>2020-12-20</td>\n",
       "      <td>EU</td>\n",
       "      <td>Mac</td>\n",
       "    </tr>\n",
       "    <tr>\n",
       "      <th>61730</th>\n",
       "      <td>7ADEE837D5D8CBBD</td>\n",
       "      <td>2020-12-20</td>\n",
       "      <td>EU</td>\n",
       "      <td>PC</td>\n",
       "    </tr>\n",
       "    <tr>\n",
       "      <th>61731</th>\n",
       "      <td>1C7D23927835213F</td>\n",
       "      <td>2020-12-20</td>\n",
       "      <td>EU</td>\n",
       "      <td>iPhone</td>\n",
       "    </tr>\n",
       "    <tr>\n",
       "      <th>61732</th>\n",
       "      <td>8F04273BB2860229</td>\n",
       "      <td>2020-12-20</td>\n",
       "      <td>EU</td>\n",
       "      <td>Android</td>\n",
       "    </tr>\n",
       "  </tbody>\n",
       "</table>\n",
       "<p>61733 rows × 4 columns</p>\n",
       "</div>"
      ],
      "text/plain": [
       "                user_id first_date     region   device\n",
       "0      D72A72121175D8BE 2020-12-07  EU         PC     \n",
       "1      F1C668619DFE6E65 2020-12-07  N.America  Android\n",
       "2      2E1BF1D4C37EA01F 2020-12-07  EU         PC     \n",
       "3      50734A22C0C63768 2020-12-07  EU         iPhone \n",
       "4      E1BDDCE0DAFA2679 2020-12-07  N.America  iPhone \n",
       "...                 ...        ...        ...     ... \n",
       "61728  1DB53B933257165D 2020-12-20  EU         Android\n",
       "61729  538643EB4527ED03 2020-12-20  EU         Mac    \n",
       "61730  7ADEE837D5D8CBBD 2020-12-20  EU         PC     \n",
       "61731  1C7D23927835213F 2020-12-20  EU         iPhone \n",
       "61732  8F04273BB2860229 2020-12-20  EU         Android\n",
       "\n",
       "[61733 rows x 4 columns]"
      ]
     },
     "execution_count": 67,
     "metadata": {},
     "output_type": "execute_result"
    }
   ],
   "source": [
    "final_ab_new_users\n"
   ]
  },
  {
   "cell_type": "code",
   "execution_count": 68,
   "metadata": {},
   "outputs": [
    {
     "name": "stdout",
     "output_type": "stream",
     "text": [
      "Первая дата регистрации пользователей : 2020-12-07 00:00:00\n",
      "Последняя дата регистрации пользователей : 2020-12-23 00:00:00\n"
     ]
    }
   ],
   "source": [
    "#найдем максимальную и минимальную дату:\n",
    "print(\"Первая дата регистрации пользователей : {}\".format(final_ab_new_users['first_date'].min()))\n",
    "print(\"Последняя дата регистрации пользователей : {}\".format(final_ab_new_users['first_date'].max()))"
   ]
  },
  {
   "cell_type": "markdown",
   "metadata": {},
   "source": [
    "Согласно ТЗ, срок остановки набора новых пользователей 2020-12-21, поэтому всех кто после этой даты зарегистрировался уберем."
   ]
  },
  {
   "cell_type": "code",
   "execution_count": 69,
   "metadata": {},
   "outputs": [
    {
     "data": {
      "text/html": [
       "<div>\n",
       "<style scoped>\n",
       "    .dataframe tbody tr th:only-of-type {\n",
       "        vertical-align: middle;\n",
       "    }\n",
       "\n",
       "    .dataframe tbody tr th {\n",
       "        vertical-align: top;\n",
       "    }\n",
       "\n",
       "    .dataframe thead th {\n",
       "        text-align: right;\n",
       "    }\n",
       "</style>\n",
       "<table border=\"1\" class=\"dataframe\">\n",
       "  <thead>\n",
       "    <tr style=\"text-align: right;\">\n",
       "      <th></th>\n",
       "      <th>user_id</th>\n",
       "      <th>first_date</th>\n",
       "      <th>region</th>\n",
       "      <th>device</th>\n",
       "    </tr>\n",
       "  </thead>\n",
       "  <tbody>\n",
       "    <tr>\n",
       "      <th>0</th>\n",
       "      <td>D72A72121175D8BE</td>\n",
       "      <td>2020-12-07</td>\n",
       "      <td>EU</td>\n",
       "      <td>PC</td>\n",
       "    </tr>\n",
       "    <tr>\n",
       "      <th>1</th>\n",
       "      <td>F1C668619DFE6E65</td>\n",
       "      <td>2020-12-07</td>\n",
       "      <td>N.America</td>\n",
       "      <td>Android</td>\n",
       "    </tr>\n",
       "    <tr>\n",
       "      <th>2</th>\n",
       "      <td>2E1BF1D4C37EA01F</td>\n",
       "      <td>2020-12-07</td>\n",
       "      <td>EU</td>\n",
       "      <td>PC</td>\n",
       "    </tr>\n",
       "    <tr>\n",
       "      <th>3</th>\n",
       "      <td>50734A22C0C63768</td>\n",
       "      <td>2020-12-07</td>\n",
       "      <td>EU</td>\n",
       "      <td>iPhone</td>\n",
       "    </tr>\n",
       "    <tr>\n",
       "      <th>4</th>\n",
       "      <td>E1BDDCE0DAFA2679</td>\n",
       "      <td>2020-12-07</td>\n",
       "      <td>N.America</td>\n",
       "      <td>iPhone</td>\n",
       "    </tr>\n",
       "    <tr>\n",
       "      <th>...</th>\n",
       "      <td>...</td>\n",
       "      <td>...</td>\n",
       "      <td>...</td>\n",
       "      <td>...</td>\n",
       "    </tr>\n",
       "    <tr>\n",
       "      <th>61728</th>\n",
       "      <td>1DB53B933257165D</td>\n",
       "      <td>2020-12-20</td>\n",
       "      <td>EU</td>\n",
       "      <td>Android</td>\n",
       "    </tr>\n",
       "    <tr>\n",
       "      <th>61729</th>\n",
       "      <td>538643EB4527ED03</td>\n",
       "      <td>2020-12-20</td>\n",
       "      <td>EU</td>\n",
       "      <td>Mac</td>\n",
       "    </tr>\n",
       "    <tr>\n",
       "      <th>61730</th>\n",
       "      <td>7ADEE837D5D8CBBD</td>\n",
       "      <td>2020-12-20</td>\n",
       "      <td>EU</td>\n",
       "      <td>PC</td>\n",
       "    </tr>\n",
       "    <tr>\n",
       "      <th>61731</th>\n",
       "      <td>1C7D23927835213F</td>\n",
       "      <td>2020-12-20</td>\n",
       "      <td>EU</td>\n",
       "      <td>iPhone</td>\n",
       "    </tr>\n",
       "    <tr>\n",
       "      <th>61732</th>\n",
       "      <td>8F04273BB2860229</td>\n",
       "      <td>2020-12-20</td>\n",
       "      <td>EU</td>\n",
       "      <td>Android</td>\n",
       "    </tr>\n",
       "  </tbody>\n",
       "</table>\n",
       "<p>61733 rows × 4 columns</p>\n",
       "</div>"
      ],
      "text/plain": [
       "                user_id first_date     region   device\n",
       "0      D72A72121175D8BE 2020-12-07  EU         PC     \n",
       "1      F1C668619DFE6E65 2020-12-07  N.America  Android\n",
       "2      2E1BF1D4C37EA01F 2020-12-07  EU         PC     \n",
       "3      50734A22C0C63768 2020-12-07  EU         iPhone \n",
       "4      E1BDDCE0DAFA2679 2020-12-07  N.America  iPhone \n",
       "...                 ...        ...        ...     ... \n",
       "61728  1DB53B933257165D 2020-12-20  EU         Android\n",
       "61729  538643EB4527ED03 2020-12-20  EU         Mac    \n",
       "61730  7ADEE837D5D8CBBD 2020-12-20  EU         PC     \n",
       "61731  1C7D23927835213F 2020-12-20  EU         iPhone \n",
       "61732  8F04273BB2860229 2020-12-20  EU         Android\n",
       "\n",
       "[61733 rows x 4 columns]"
      ]
     },
     "execution_count": 69,
     "metadata": {},
     "output_type": "execute_result"
    }
   ],
   "source": [
    "final_ab_new_users"
   ]
  },
  {
   "cell_type": "code",
   "execution_count": 70,
   "metadata": {},
   "outputs": [
    {
     "data": {
      "text/html": [
       "<div>\n",
       "<style scoped>\n",
       "    .dataframe tbody tr th:only-of-type {\n",
       "        vertical-align: middle;\n",
       "    }\n",
       "\n",
       "    .dataframe tbody tr th {\n",
       "        vertical-align: top;\n",
       "    }\n",
       "\n",
       "    .dataframe thead th {\n",
       "        text-align: right;\n",
       "    }\n",
       "</style>\n",
       "<table border=\"1\" class=\"dataframe\">\n",
       "  <thead>\n",
       "    <tr style=\"text-align: right;\">\n",
       "      <th></th>\n",
       "      <th>user_id</th>\n",
       "      <th>first_date</th>\n",
       "      <th>region</th>\n",
       "      <th>device</th>\n",
       "    </tr>\n",
       "  </thead>\n",
       "  <tbody>\n",
       "    <tr>\n",
       "      <th>0</th>\n",
       "      <td>D72A72121175D8BE</td>\n",
       "      <td>2020-12-07</td>\n",
       "      <td>EU</td>\n",
       "      <td>PC</td>\n",
       "    </tr>\n",
       "    <tr>\n",
       "      <th>1</th>\n",
       "      <td>F1C668619DFE6E65</td>\n",
       "      <td>2020-12-07</td>\n",
       "      <td>N.America</td>\n",
       "      <td>Android</td>\n",
       "    </tr>\n",
       "    <tr>\n",
       "      <th>2</th>\n",
       "      <td>2E1BF1D4C37EA01F</td>\n",
       "      <td>2020-12-07</td>\n",
       "      <td>EU</td>\n",
       "      <td>PC</td>\n",
       "    </tr>\n",
       "    <tr>\n",
       "      <th>3</th>\n",
       "      <td>50734A22C0C63768</td>\n",
       "      <td>2020-12-07</td>\n",
       "      <td>EU</td>\n",
       "      <td>iPhone</td>\n",
       "    </tr>\n",
       "    <tr>\n",
       "      <th>4</th>\n",
       "      <td>E1BDDCE0DAFA2679</td>\n",
       "      <td>2020-12-07</td>\n",
       "      <td>N.America</td>\n",
       "      <td>iPhone</td>\n",
       "    </tr>\n",
       "    <tr>\n",
       "      <th>...</th>\n",
       "      <td>...</td>\n",
       "      <td>...</td>\n",
       "      <td>...</td>\n",
       "      <td>...</td>\n",
       "    </tr>\n",
       "    <tr>\n",
       "      <th>61728</th>\n",
       "      <td>1DB53B933257165D</td>\n",
       "      <td>2020-12-20</td>\n",
       "      <td>EU</td>\n",
       "      <td>Android</td>\n",
       "    </tr>\n",
       "    <tr>\n",
       "      <th>61729</th>\n",
       "      <td>538643EB4527ED03</td>\n",
       "      <td>2020-12-20</td>\n",
       "      <td>EU</td>\n",
       "      <td>Mac</td>\n",
       "    </tr>\n",
       "    <tr>\n",
       "      <th>61730</th>\n",
       "      <td>7ADEE837D5D8CBBD</td>\n",
       "      <td>2020-12-20</td>\n",
       "      <td>EU</td>\n",
       "      <td>PC</td>\n",
       "    </tr>\n",
       "    <tr>\n",
       "      <th>61731</th>\n",
       "      <td>1C7D23927835213F</td>\n",
       "      <td>2020-12-20</td>\n",
       "      <td>EU</td>\n",
       "      <td>iPhone</td>\n",
       "    </tr>\n",
       "    <tr>\n",
       "      <th>61732</th>\n",
       "      <td>8F04273BB2860229</td>\n",
       "      <td>2020-12-20</td>\n",
       "      <td>EU</td>\n",
       "      <td>Android</td>\n",
       "    </tr>\n",
       "  </tbody>\n",
       "</table>\n",
       "<p>56470 rows × 4 columns</p>\n",
       "</div>"
      ],
      "text/plain": [
       "                user_id first_date     region   device\n",
       "0      D72A72121175D8BE 2020-12-07  EU         PC     \n",
       "1      F1C668619DFE6E65 2020-12-07  N.America  Android\n",
       "2      2E1BF1D4C37EA01F 2020-12-07  EU         PC     \n",
       "3      50734A22C0C63768 2020-12-07  EU         iPhone \n",
       "4      E1BDDCE0DAFA2679 2020-12-07  N.America  iPhone \n",
       "...                 ...        ...        ...     ... \n",
       "61728  1DB53B933257165D 2020-12-20  EU         Android\n",
       "61729  538643EB4527ED03 2020-12-20  EU         Mac    \n",
       "61730  7ADEE837D5D8CBBD 2020-12-20  EU         PC     \n",
       "61731  1C7D23927835213F 2020-12-20  EU         iPhone \n",
       "61732  8F04273BB2860229 2020-12-20  EU         Android\n",
       "\n",
       "[56470 rows x 4 columns]"
      ]
     },
     "execution_count": 70,
     "metadata": {},
     "output_type": "execute_result"
    }
   ],
   "source": [
    "new_final_ab_new_users=final_ab_new_users.query('first_date<=\"2020-12-21\"')\n",
    "new_final_ab_new_users"
   ]
  },
  {
   "cell_type": "code",
   "execution_count": 71,
   "metadata": {},
   "outputs": [
    {
     "name": "stdout",
     "output_type": "stream",
     "text": [
      "Убрали 5263 пользователей \n"
     ]
    }
   ],
   "source": [
    "print(\"Убрали {} пользователей \".format(len(final_ab_new_users['first_date'])-len(new_final_ab_new_users['first_date'])))"
   ]
  },
  {
   "cell_type": "markdown",
   "metadata": {},
   "source": [
    "Проверим дату проведения теста"
   ]
  },
  {
   "cell_type": "code",
   "execution_count": 72,
   "metadata": {},
   "outputs": [
    {
     "data": {
      "text/html": [
       "<div>\n",
       "<style scoped>\n",
       "    .dataframe tbody tr th:only-of-type {\n",
       "        vertical-align: middle;\n",
       "    }\n",
       "\n",
       "    .dataframe tbody tr th {\n",
       "        vertical-align: top;\n",
       "    }\n",
       "\n",
       "    .dataframe thead th {\n",
       "        text-align: right;\n",
       "    }\n",
       "</style>\n",
       "<table border=\"1\" class=\"dataframe\">\n",
       "  <thead>\n",
       "    <tr style=\"text-align: right;\">\n",
       "      <th></th>\n",
       "      <th>user_id</th>\n",
       "      <th>event_dt</th>\n",
       "      <th>event_name</th>\n",
       "      <th>details</th>\n",
       "    </tr>\n",
       "  </thead>\n",
       "  <tbody>\n",
       "    <tr>\n",
       "      <th>0</th>\n",
       "      <td>E1BDDCE0DAFA2679</td>\n",
       "      <td>2020-12-07 20:22:03</td>\n",
       "      <td>purchase</td>\n",
       "      <td>99.99</td>\n",
       "    </tr>\n",
       "    <tr>\n",
       "      <th>1</th>\n",
       "      <td>7B6452F081F49504</td>\n",
       "      <td>2020-12-07 09:22:53</td>\n",
       "      <td>purchase</td>\n",
       "      <td>9.99</td>\n",
       "    </tr>\n",
       "    <tr>\n",
       "      <th>2</th>\n",
       "      <td>9CD9F34546DF254C</td>\n",
       "      <td>2020-12-07 12:59:29</td>\n",
       "      <td>purchase</td>\n",
       "      <td>4.99</td>\n",
       "    </tr>\n",
       "    <tr>\n",
       "      <th>3</th>\n",
       "      <td>96F27A054B191457</td>\n",
       "      <td>2020-12-07 04:02:40</td>\n",
       "      <td>purchase</td>\n",
       "      <td>4.99</td>\n",
       "    </tr>\n",
       "    <tr>\n",
       "      <th>4</th>\n",
       "      <td>1FD7660FDF94CA1F</td>\n",
       "      <td>2020-12-07 10:15:09</td>\n",
       "      <td>purchase</td>\n",
       "      <td>4.99</td>\n",
       "    </tr>\n",
       "    <tr>\n",
       "      <th>...</th>\n",
       "      <td>...</td>\n",
       "      <td>...</td>\n",
       "      <td>...</td>\n",
       "      <td>...</td>\n",
       "    </tr>\n",
       "    <tr>\n",
       "      <th>440312</th>\n",
       "      <td>245E85F65C358E08</td>\n",
       "      <td>2020-12-30 19:35:55</td>\n",
       "      <td>login</td>\n",
       "      <td>NaN</td>\n",
       "    </tr>\n",
       "    <tr>\n",
       "      <th>440313</th>\n",
       "      <td>9385A108F5A0A7A7</td>\n",
       "      <td>2020-12-30 10:54:15</td>\n",
       "      <td>login</td>\n",
       "      <td>NaN</td>\n",
       "    </tr>\n",
       "    <tr>\n",
       "      <th>440314</th>\n",
       "      <td>DB650B7559AC6EAC</td>\n",
       "      <td>2020-12-30 10:59:09</td>\n",
       "      <td>login</td>\n",
       "      <td>NaN</td>\n",
       "    </tr>\n",
       "    <tr>\n",
       "      <th>440315</th>\n",
       "      <td>F80C9BDDEA02E53C</td>\n",
       "      <td>2020-12-30 09:53:39</td>\n",
       "      <td>login</td>\n",
       "      <td>NaN</td>\n",
       "    </tr>\n",
       "    <tr>\n",
       "      <th>440316</th>\n",
       "      <td>7AEC61159B672CC5</td>\n",
       "      <td>2020-12-30 11:36:13</td>\n",
       "      <td>login</td>\n",
       "      <td>NaN</td>\n",
       "    </tr>\n",
       "  </tbody>\n",
       "</table>\n",
       "<p>440317 rows × 4 columns</p>\n",
       "</div>"
      ],
      "text/plain": [
       "                 user_id             event_dt event_name  details\n",
       "0       E1BDDCE0DAFA2679  2020-12-07 20:22:03  purchase   99.99  \n",
       "1       7B6452F081F49504  2020-12-07 09:22:53  purchase   9.99   \n",
       "2       9CD9F34546DF254C  2020-12-07 12:59:29  purchase   4.99   \n",
       "3       96F27A054B191457  2020-12-07 04:02:40  purchase   4.99   \n",
       "4       1FD7660FDF94CA1F  2020-12-07 10:15:09  purchase   4.99   \n",
       "...                  ...                  ...       ...    ...   \n",
       "440312  245E85F65C358E08  2020-12-30 19:35:55  login     NaN     \n",
       "440313  9385A108F5A0A7A7  2020-12-30 10:54:15  login     NaN     \n",
       "440314  DB650B7559AC6EAC  2020-12-30 10:59:09  login     NaN     \n",
       "440315  F80C9BDDEA02E53C  2020-12-30 09:53:39  login     NaN     \n",
       "440316  7AEC61159B672CC5  2020-12-30 11:36:13  login     NaN     \n",
       "\n",
       "[440317 rows x 4 columns]"
      ]
     },
     "execution_count": 72,
     "metadata": {},
     "output_type": "execute_result"
    }
   ],
   "source": [
    "final_ab_events"
   ]
  },
  {
   "cell_type": "code",
   "execution_count": 73,
   "metadata": {
    "scrolled": true
   },
   "outputs": [
    {
     "name": "stdout",
     "output_type": "stream",
     "text": [
      "Первая дата регистрации пользователей : 2020-12-07 00:00:33\n",
      "Последняя дата регистрации пользователей : 2020-12-30 23:36:33\n"
     ]
    }
   ],
   "source": [
    "#найдем максимальную и минимальную дату:\n",
    "print(\"Первая дата регистрации пользователей : {}\".format(final_ab_events['event_dt'].min()))\n",
    "print(\"Последняя дата регистрации пользователей : {}\".format(final_ab_events['event_dt'].max()))"
   ]
  },
  {
   "cell_type": "markdown",
   "metadata": {},
   "source": [
    "Согласно ТЗ, дата проведения теста с 2020-12-07 по 2021-01-04, данные только до 30.12.2020."
   ]
  },
  {
   "cell_type": "markdown",
   "metadata": {},
   "source": [
    "Оставим только новых пользователей из региона EU"
   ]
  },
  {
   "cell_type": "code",
   "execution_count": 74,
   "metadata": {},
   "outputs": [
    {
     "data": {
      "text/html": [
       "<div>\n",
       "<style scoped>\n",
       "    .dataframe tbody tr th:only-of-type {\n",
       "        vertical-align: middle;\n",
       "    }\n",
       "\n",
       "    .dataframe tbody tr th {\n",
       "        vertical-align: top;\n",
       "    }\n",
       "\n",
       "    .dataframe thead th {\n",
       "        text-align: right;\n",
       "    }\n",
       "</style>\n",
       "<table border=\"1\" class=\"dataframe\">\n",
       "  <thead>\n",
       "    <tr style=\"text-align: right;\">\n",
       "      <th></th>\n",
       "      <th>user_id</th>\n",
       "      <th>first_date</th>\n",
       "      <th>region</th>\n",
       "      <th>device</th>\n",
       "    </tr>\n",
       "  </thead>\n",
       "  <tbody>\n",
       "    <tr>\n",
       "      <th>0</th>\n",
       "      <td>D72A72121175D8BE</td>\n",
       "      <td>2020-12-07</td>\n",
       "      <td>EU</td>\n",
       "      <td>PC</td>\n",
       "    </tr>\n",
       "    <tr>\n",
       "      <th>1</th>\n",
       "      <td>F1C668619DFE6E65</td>\n",
       "      <td>2020-12-07</td>\n",
       "      <td>N.America</td>\n",
       "      <td>Android</td>\n",
       "    </tr>\n",
       "    <tr>\n",
       "      <th>2</th>\n",
       "      <td>2E1BF1D4C37EA01F</td>\n",
       "      <td>2020-12-07</td>\n",
       "      <td>EU</td>\n",
       "      <td>PC</td>\n",
       "    </tr>\n",
       "    <tr>\n",
       "      <th>3</th>\n",
       "      <td>50734A22C0C63768</td>\n",
       "      <td>2020-12-07</td>\n",
       "      <td>EU</td>\n",
       "      <td>iPhone</td>\n",
       "    </tr>\n",
       "    <tr>\n",
       "      <th>4</th>\n",
       "      <td>E1BDDCE0DAFA2679</td>\n",
       "      <td>2020-12-07</td>\n",
       "      <td>N.America</td>\n",
       "      <td>iPhone</td>\n",
       "    </tr>\n",
       "    <tr>\n",
       "      <th>...</th>\n",
       "      <td>...</td>\n",
       "      <td>...</td>\n",
       "      <td>...</td>\n",
       "      <td>...</td>\n",
       "    </tr>\n",
       "    <tr>\n",
       "      <th>61728</th>\n",
       "      <td>1DB53B933257165D</td>\n",
       "      <td>2020-12-20</td>\n",
       "      <td>EU</td>\n",
       "      <td>Android</td>\n",
       "    </tr>\n",
       "    <tr>\n",
       "      <th>61729</th>\n",
       "      <td>538643EB4527ED03</td>\n",
       "      <td>2020-12-20</td>\n",
       "      <td>EU</td>\n",
       "      <td>Mac</td>\n",
       "    </tr>\n",
       "    <tr>\n",
       "      <th>61730</th>\n",
       "      <td>7ADEE837D5D8CBBD</td>\n",
       "      <td>2020-12-20</td>\n",
       "      <td>EU</td>\n",
       "      <td>PC</td>\n",
       "    </tr>\n",
       "    <tr>\n",
       "      <th>61731</th>\n",
       "      <td>1C7D23927835213F</td>\n",
       "      <td>2020-12-20</td>\n",
       "      <td>EU</td>\n",
       "      <td>iPhone</td>\n",
       "    </tr>\n",
       "    <tr>\n",
       "      <th>61732</th>\n",
       "      <td>8F04273BB2860229</td>\n",
       "      <td>2020-12-20</td>\n",
       "      <td>EU</td>\n",
       "      <td>Android</td>\n",
       "    </tr>\n",
       "  </tbody>\n",
       "</table>\n",
       "<p>56470 rows × 4 columns</p>\n",
       "</div>"
      ],
      "text/plain": [
       "                user_id first_date     region   device\n",
       "0      D72A72121175D8BE 2020-12-07  EU         PC     \n",
       "1      F1C668619DFE6E65 2020-12-07  N.America  Android\n",
       "2      2E1BF1D4C37EA01F 2020-12-07  EU         PC     \n",
       "3      50734A22C0C63768 2020-12-07  EU         iPhone \n",
       "4      E1BDDCE0DAFA2679 2020-12-07  N.America  iPhone \n",
       "...                 ...        ...        ...     ... \n",
       "61728  1DB53B933257165D 2020-12-20  EU         Android\n",
       "61729  538643EB4527ED03 2020-12-20  EU         Mac    \n",
       "61730  7ADEE837D5D8CBBD 2020-12-20  EU         PC     \n",
       "61731  1C7D23927835213F 2020-12-20  EU         iPhone \n",
       "61732  8F04273BB2860229 2020-12-20  EU         Android\n",
       "\n",
       "[56470 rows x 4 columns]"
      ]
     },
     "execution_count": 74,
     "metadata": {},
     "output_type": "execute_result"
    }
   ],
   "source": [
    "new_final_ab_new_users"
   ]
  },
  {
   "cell_type": "code",
   "execution_count": 75,
   "metadata": {},
   "outputs": [
    {
     "data": {
      "text/html": [
       "<div>\n",
       "<style scoped>\n",
       "    .dataframe tbody tr th:only-of-type {\n",
       "        vertical-align: middle;\n",
       "    }\n",
       "\n",
       "    .dataframe tbody tr th {\n",
       "        vertical-align: top;\n",
       "    }\n",
       "\n",
       "    .dataframe thead th {\n",
       "        text-align: right;\n",
       "    }\n",
       "</style>\n",
       "<table border=\"1\" class=\"dataframe\">\n",
       "  <thead>\n",
       "    <tr style=\"text-align: right;\">\n",
       "      <th></th>\n",
       "      <th>user_id</th>\n",
       "      <th>first_date</th>\n",
       "      <th>region</th>\n",
       "      <th>device</th>\n",
       "    </tr>\n",
       "  </thead>\n",
       "  <tbody>\n",
       "    <tr>\n",
       "      <th>0</th>\n",
       "      <td>D72A72121175D8BE</td>\n",
       "      <td>2020-12-07</td>\n",
       "      <td>EU</td>\n",
       "      <td>PC</td>\n",
       "    </tr>\n",
       "    <tr>\n",
       "      <th>2</th>\n",
       "      <td>2E1BF1D4C37EA01F</td>\n",
       "      <td>2020-12-07</td>\n",
       "      <td>EU</td>\n",
       "      <td>PC</td>\n",
       "    </tr>\n",
       "    <tr>\n",
       "      <th>3</th>\n",
       "      <td>50734A22C0C63768</td>\n",
       "      <td>2020-12-07</td>\n",
       "      <td>EU</td>\n",
       "      <td>iPhone</td>\n",
       "    </tr>\n",
       "    <tr>\n",
       "      <th>7</th>\n",
       "      <td>8942E64218C9A1ED</td>\n",
       "      <td>2020-12-07</td>\n",
       "      <td>EU</td>\n",
       "      <td>PC</td>\n",
       "    </tr>\n",
       "    <tr>\n",
       "      <th>9</th>\n",
       "      <td>FFCEA1179C253104</td>\n",
       "      <td>2020-12-07</td>\n",
       "      <td>EU</td>\n",
       "      <td>Android</td>\n",
       "    </tr>\n",
       "    <tr>\n",
       "      <th>...</th>\n",
       "      <td>...</td>\n",
       "      <td>...</td>\n",
       "      <td>...</td>\n",
       "      <td>...</td>\n",
       "    </tr>\n",
       "    <tr>\n",
       "      <th>61728</th>\n",
       "      <td>1DB53B933257165D</td>\n",
       "      <td>2020-12-20</td>\n",
       "      <td>EU</td>\n",
       "      <td>Android</td>\n",
       "    </tr>\n",
       "    <tr>\n",
       "      <th>61729</th>\n",
       "      <td>538643EB4527ED03</td>\n",
       "      <td>2020-12-20</td>\n",
       "      <td>EU</td>\n",
       "      <td>Mac</td>\n",
       "    </tr>\n",
       "    <tr>\n",
       "      <th>61730</th>\n",
       "      <td>7ADEE837D5D8CBBD</td>\n",
       "      <td>2020-12-20</td>\n",
       "      <td>EU</td>\n",
       "      <td>PC</td>\n",
       "    </tr>\n",
       "    <tr>\n",
       "      <th>61731</th>\n",
       "      <td>1C7D23927835213F</td>\n",
       "      <td>2020-12-20</td>\n",
       "      <td>EU</td>\n",
       "      <td>iPhone</td>\n",
       "    </tr>\n",
       "    <tr>\n",
       "      <th>61732</th>\n",
       "      <td>8F04273BB2860229</td>\n",
       "      <td>2020-12-20</td>\n",
       "      <td>EU</td>\n",
       "      <td>Android</td>\n",
       "    </tr>\n",
       "  </tbody>\n",
       "</table>\n",
       "<p>42340 rows × 4 columns</p>\n",
       "</div>"
      ],
      "text/plain": [
       "                user_id first_date region   device\n",
       "0      D72A72121175D8BE 2020-12-07  EU     PC     \n",
       "2      2E1BF1D4C37EA01F 2020-12-07  EU     PC     \n",
       "3      50734A22C0C63768 2020-12-07  EU     iPhone \n",
       "7      8942E64218C9A1ED 2020-12-07  EU     PC     \n",
       "9      FFCEA1179C253104 2020-12-07  EU     Android\n",
       "...                 ...        ...  ..         ...\n",
       "61728  1DB53B933257165D 2020-12-20  EU     Android\n",
       "61729  538643EB4527ED03 2020-12-20  EU     Mac    \n",
       "61730  7ADEE837D5D8CBBD 2020-12-20  EU     PC     \n",
       "61731  1C7D23927835213F 2020-12-20  EU     iPhone \n",
       "61732  8F04273BB2860229 2020-12-20  EU     Android\n",
       "\n",
       "[42340 rows x 4 columns]"
      ]
     },
     "execution_count": 75,
     "metadata": {},
     "output_type": "execute_result"
    }
   ],
   "source": [
    "users_from_EU=new_final_ab_new_users.query('region==\"EU\"')\n",
    "users_from_EU"
   ]
  },
  {
   "cell_type": "code",
   "execution_count": 76,
   "metadata": {},
   "outputs": [
    {
     "name": "stdout",
     "output_type": "stream",
     "text": [
      "Убрали 14130 пользователей \n"
     ]
    }
   ],
   "source": [
    "print(\"Убрали {} пользователей \".format(len(new_final_ab_new_users['user_id'].unique())-len(users_from_EU['user_id'].unique())))"
   ]
  },
  {
   "cell_type": "markdown",
   "metadata": {},
   "source": [
    "Проверим какая фактическая доля пользователей в тесте по региону EU относительно всех новых пользователей в final_ab_new_users по региону EU и времени регистрации в тесте."
   ]
  },
  {
   "cell_type": "code",
   "execution_count": 77,
   "metadata": {},
   "outputs": [
    {
     "data": {
      "text/plain": [
       "array(['D1ABA3E2887B6A73', 'A7A3664BD6242119', 'DABC14FDDFADD29E', ...,\n",
       "       'F2FBBA33F37DEC46', '29C92313A98B1176', '6715343AFBA285AE'],\n",
       "      dtype=object)"
      ]
     },
     "execution_count": 77,
     "metadata": {},
     "output_type": "execute_result"
    }
   ],
   "source": [
    "dd=new_ab_participants['user_id'].unique()\n",
    "dd"
   ]
  },
  {
   "cell_type": "code",
   "execution_count": 78,
   "metadata": {},
   "outputs": [],
   "source": [
    "f=users_from_EU.query('user_id in @dd')"
   ]
  },
  {
   "cell_type": "code",
   "execution_count": 79,
   "metadata": {},
   "outputs": [
    {
     "name": "stdout",
     "output_type": "stream",
     "text": [
      "Доля пользователей в тесте по региону EU относительно всех новых пользователей по региону EU -15.0 \n"
     ]
    }
   ],
   "source": [
    "print(\"Доля пользователей в тесте по региону EU относительно всех новых пользователей по региону EU -{} \".format(round((users_from_EU.query('user_id in @dd')['user_id'].nunique()/users_from_EU['user_id'].nunique())*100,2)))"
   ]
  },
  {
   "cell_type": "markdown",
   "metadata": {},
   "source": [
    "Согласно ТЗ, aудитория из новых пользователей из региона EU должна составлять 15% , по расчетам примерно 14%."
   ]
  },
  {
   "cell_type": "markdown",
   "metadata": {},
   "source": [
    "Проверим какие мероприятия, проходили в период действия теста, дата проведения теста с 2020-12-07 по 2021-01-04."
   ]
  },
  {
   "cell_type": "code",
   "execution_count": 80,
   "metadata": {},
   "outputs": [
    {
     "data": {
      "text/html": [
       "<div>\n",
       "<style scoped>\n",
       "    .dataframe tbody tr th:only-of-type {\n",
       "        vertical-align: middle;\n",
       "    }\n",
       "\n",
       "    .dataframe tbody tr th {\n",
       "        vertical-align: top;\n",
       "    }\n",
       "\n",
       "    .dataframe thead th {\n",
       "        text-align: right;\n",
       "    }\n",
       "</style>\n",
       "<table border=\"1\" class=\"dataframe\">\n",
       "  <thead>\n",
       "    <tr style=\"text-align: right;\">\n",
       "      <th></th>\n",
       "      <th>name</th>\n",
       "      <th>regions</th>\n",
       "      <th>start_dt</th>\n",
       "      <th>finish_dt</th>\n",
       "    </tr>\n",
       "  </thead>\n",
       "  <tbody>\n",
       "    <tr>\n",
       "      <th>0</th>\n",
       "      <td>Christmas&amp;New Year Promo</td>\n",
       "      <td>EU, N.America</td>\n",
       "      <td>2020-12-25</td>\n",
       "      <td>2021-01-03</td>\n",
       "    </tr>\n",
       "    <tr>\n",
       "      <th>1</th>\n",
       "      <td>St. Valentine's Day Giveaway</td>\n",
       "      <td>EU, CIS, APAC, N.America</td>\n",
       "      <td>2020-02-14</td>\n",
       "      <td>2020-02-16</td>\n",
       "    </tr>\n",
       "    <tr>\n",
       "      <th>2</th>\n",
       "      <td>St. Patric's Day Promo</td>\n",
       "      <td>EU, N.America</td>\n",
       "      <td>2020-03-17</td>\n",
       "      <td>2020-03-19</td>\n",
       "    </tr>\n",
       "    <tr>\n",
       "      <th>3</th>\n",
       "      <td>Easter Promo</td>\n",
       "      <td>EU, CIS, APAC, N.America</td>\n",
       "      <td>2020-04-12</td>\n",
       "      <td>2020-04-19</td>\n",
       "    </tr>\n",
       "    <tr>\n",
       "      <th>4</th>\n",
       "      <td>4th of July Promo</td>\n",
       "      <td>N.America</td>\n",
       "      <td>2020-07-04</td>\n",
       "      <td>2020-07-11</td>\n",
       "    </tr>\n",
       "  </tbody>\n",
       "</table>\n",
       "</div>"
      ],
      "text/plain": [
       "                           name                   regions    start_dt  \\\n",
       "0  Christmas&New Year Promo      EU, N.America             2020-12-25   \n",
       "1  St. Valentine's Day Giveaway  EU, CIS, APAC, N.America  2020-02-14   \n",
       "2  St. Patric's Day Promo        EU, N.America             2020-03-17   \n",
       "3  Easter Promo                  EU, CIS, APAC, N.America  2020-04-12   \n",
       "4  4th of July Promo             N.America                 2020-07-04   \n",
       "\n",
       "    finish_dt  \n",
       "0  2021-01-03  \n",
       "1  2020-02-16  \n",
       "2  2020-03-19  \n",
       "3  2020-04-19  \n",
       "4  2020-07-11  "
      ]
     },
     "execution_count": 80,
     "metadata": {},
     "output_type": "execute_result"
    }
   ],
   "source": [
    "final_ab_marketing_events.head()"
   ]
  },
  {
   "cell_type": "code",
   "execution_count": 81,
   "metadata": {},
   "outputs": [
    {
     "data": {
      "text/html": [
       "<div>\n",
       "<style scoped>\n",
       "    .dataframe tbody tr th:only-of-type {\n",
       "        vertical-align: middle;\n",
       "    }\n",
       "\n",
       "    .dataframe tbody tr th {\n",
       "        vertical-align: top;\n",
       "    }\n",
       "\n",
       "    .dataframe thead th {\n",
       "        text-align: right;\n",
       "    }\n",
       "</style>\n",
       "<table border=\"1\" class=\"dataframe\">\n",
       "  <thead>\n",
       "    <tr style=\"text-align: right;\">\n",
       "      <th></th>\n",
       "      <th>name</th>\n",
       "      <th>regions</th>\n",
       "      <th>start_dt</th>\n",
       "      <th>finish_dt</th>\n",
       "    </tr>\n",
       "  </thead>\n",
       "  <tbody>\n",
       "  </tbody>\n",
       "</table>\n",
       "</div>"
      ],
      "text/plain": [
       "Empty DataFrame\n",
       "Columns: [name, regions, start_dt, finish_dt]\n",
       "Index: []"
      ]
     },
     "execution_count": 81,
     "metadata": {},
     "output_type": "execute_result"
    }
   ],
   "source": [
    "final_ab_marketing_events.query('start_dt>=\"2020-12-7\" and finish_dt<=\"2021-01-4\"')"
   ]
  },
  {
   "cell_type": "markdown",
   "metadata": {},
   "source": [
    "Во время теста проводилась  одна Рождественская маркетинговая акция."
   ]
  },
  {
   "cell_type": "markdown",
   "metadata": {},
   "source": [
    "Соединим  таблицы \n",
    "\n",
    "`final_ab_events`, \n",
    "`new_ab_participants` и `new_final_ab_new_users` в одну."
   ]
  },
  {
   "cell_type": "code",
   "execution_count": 82,
   "metadata": {
    "scrolled": false
   },
   "outputs": [
    {
     "data": {
      "text/html": [
       "<div>\n",
       "<style scoped>\n",
       "    .dataframe tbody tr th:only-of-type {\n",
       "        vertical-align: middle;\n",
       "    }\n",
       "\n",
       "    .dataframe tbody tr th {\n",
       "        vertical-align: top;\n",
       "    }\n",
       "\n",
       "    .dataframe thead th {\n",
       "        text-align: right;\n",
       "    }\n",
       "</style>\n",
       "<table border=\"1\" class=\"dataframe\">\n",
       "  <thead>\n",
       "    <tr style=\"text-align: right;\">\n",
       "      <th></th>\n",
       "      <th>user_id</th>\n",
       "      <th>group</th>\n",
       "      <th>ab_test</th>\n",
       "      <th>event_dt</th>\n",
       "      <th>event_name</th>\n",
       "      <th>details</th>\n",
       "    </tr>\n",
       "  </thead>\n",
       "  <tbody>\n",
       "    <tr>\n",
       "      <th>0</th>\n",
       "      <td>D1ABA3E2887B6A73</td>\n",
       "      <td>A</td>\n",
       "      <td>recommender_system_test</td>\n",
       "      <td>2020-12-07 14:43:27</td>\n",
       "      <td>purchase</td>\n",
       "      <td>99.99</td>\n",
       "    </tr>\n",
       "    <tr>\n",
       "      <th>1</th>\n",
       "      <td>D1ABA3E2887B6A73</td>\n",
       "      <td>A</td>\n",
       "      <td>recommender_system_test</td>\n",
       "      <td>2020-12-25 00:04:56</td>\n",
       "      <td>purchase</td>\n",
       "      <td>4.99</td>\n",
       "    </tr>\n",
       "    <tr>\n",
       "      <th>2</th>\n",
       "      <td>D1ABA3E2887B6A73</td>\n",
       "      <td>A</td>\n",
       "      <td>recommender_system_test</td>\n",
       "      <td>2020-12-07 14:43:29</td>\n",
       "      <td>product_cart</td>\n",
       "      <td>NaN</td>\n",
       "    </tr>\n",
       "    <tr>\n",
       "      <th>3</th>\n",
       "      <td>D1ABA3E2887B6A73</td>\n",
       "      <td>A</td>\n",
       "      <td>recommender_system_test</td>\n",
       "      <td>2020-12-25 00:04:57</td>\n",
       "      <td>product_cart</td>\n",
       "      <td>NaN</td>\n",
       "    </tr>\n",
       "    <tr>\n",
       "      <th>4</th>\n",
       "      <td>D1ABA3E2887B6A73</td>\n",
       "      <td>A</td>\n",
       "      <td>recommender_system_test</td>\n",
       "      <td>2020-12-07 14:43:27</td>\n",
       "      <td>product_page</td>\n",
       "      <td>NaN</td>\n",
       "    </tr>\n",
       "    <tr>\n",
       "      <th>...</th>\n",
       "      <td>...</td>\n",
       "      <td>...</td>\n",
       "      <td>...</td>\n",
       "      <td>...</td>\n",
       "      <td>...</td>\n",
       "      <td>...</td>\n",
       "    </tr>\n",
       "    <tr>\n",
       "      <th>27719</th>\n",
       "      <td>6715343AFBA285AE</td>\n",
       "      <td>B</td>\n",
       "      <td>recommender_system_test</td>\n",
       "      <td>2020-12-07 10:12:15</td>\n",
       "      <td>login</td>\n",
       "      <td>NaN</td>\n",
       "    </tr>\n",
       "    <tr>\n",
       "      <th>27720</th>\n",
       "      <td>6715343AFBA285AE</td>\n",
       "      <td>B</td>\n",
       "      <td>recommender_system_test</td>\n",
       "      <td>2020-12-08 22:51:16</td>\n",
       "      <td>login</td>\n",
       "      <td>NaN</td>\n",
       "    </tr>\n",
       "    <tr>\n",
       "      <th>27721</th>\n",
       "      <td>6715343AFBA285AE</td>\n",
       "      <td>B</td>\n",
       "      <td>recommender_system_test</td>\n",
       "      <td>2020-12-09 02:28:03</td>\n",
       "      <td>login</td>\n",
       "      <td>NaN</td>\n",
       "    </tr>\n",
       "    <tr>\n",
       "      <th>27722</th>\n",
       "      <td>6715343AFBA285AE</td>\n",
       "      <td>B</td>\n",
       "      <td>recommender_system_test</td>\n",
       "      <td>2020-12-10 22:55:14</td>\n",
       "      <td>login</td>\n",
       "      <td>NaN</td>\n",
       "    </tr>\n",
       "    <tr>\n",
       "      <th>27723</th>\n",
       "      <td>6715343AFBA285AE</td>\n",
       "      <td>B</td>\n",
       "      <td>recommender_system_test</td>\n",
       "      <td>2020-12-14 12:40:41</td>\n",
       "      <td>login</td>\n",
       "      <td>NaN</td>\n",
       "    </tr>\n",
       "  </tbody>\n",
       "</table>\n",
       "<p>27724 rows × 6 columns</p>\n",
       "</div>"
      ],
      "text/plain": [
       "                user_id group                  ab_test             event_dt  \\\n",
       "0      D1ABA3E2887B6A73  A     recommender_system_test  2020-12-07 14:43:27   \n",
       "1      D1ABA3E2887B6A73  A     recommender_system_test  2020-12-25 00:04:56   \n",
       "2      D1ABA3E2887B6A73  A     recommender_system_test  2020-12-07 14:43:29   \n",
       "3      D1ABA3E2887B6A73  A     recommender_system_test  2020-12-25 00:04:57   \n",
       "4      D1ABA3E2887B6A73  A     recommender_system_test  2020-12-07 14:43:27   \n",
       "...                 ... ..                         ...                  ...   \n",
       "27719  6715343AFBA285AE  B     recommender_system_test  2020-12-07 10:12:15   \n",
       "27720  6715343AFBA285AE  B     recommender_system_test  2020-12-08 22:51:16   \n",
       "27721  6715343AFBA285AE  B     recommender_system_test  2020-12-09 02:28:03   \n",
       "27722  6715343AFBA285AE  B     recommender_system_test  2020-12-10 22:55:14   \n",
       "27723  6715343AFBA285AE  B     recommender_system_test  2020-12-14 12:40:41   \n",
       "\n",
       "         event_name  details  \n",
       "0      purchase      99.99    \n",
       "1      purchase      4.99     \n",
       "2      product_cart NaN       \n",
       "3      product_cart NaN       \n",
       "4      product_page NaN       \n",
       "...             ...  ..       \n",
       "27719  login        NaN       \n",
       "27720  login        NaN       \n",
       "27721  login        NaN       \n",
       "27722  login        NaN       \n",
       "27723  login        NaN       \n",
       "\n",
       "[27724 rows x 6 columns]"
      ]
     },
     "execution_count": 82,
     "metadata": {},
     "output_type": "execute_result"
    }
   ],
   "source": [
    "final_ab_events_participants=new_ab_participants.merge(final_ab_events, on='user_id', how='left')\n",
    "final_ab_events_participants"
   ]
  },
  {
   "cell_type": "code",
   "execution_count": 83,
   "metadata": {},
   "outputs": [
    {
     "data": {
      "text/html": [
       "<div>\n",
       "<style scoped>\n",
       "    .dataframe tbody tr th:only-of-type {\n",
       "        vertical-align: middle;\n",
       "    }\n",
       "\n",
       "    .dataframe tbody tr th {\n",
       "        vertical-align: top;\n",
       "    }\n",
       "\n",
       "    .dataframe thead th {\n",
       "        text-align: right;\n",
       "    }\n",
       "</style>\n",
       "<table border=\"1\" class=\"dataframe\">\n",
       "  <thead>\n",
       "    <tr style=\"text-align: right;\">\n",
       "      <th></th>\n",
       "      <th>user_id</th>\n",
       "      <th>group</th>\n",
       "      <th>ab_test</th>\n",
       "      <th>event_dt</th>\n",
       "      <th>event_name</th>\n",
       "      <th>details</th>\n",
       "      <th>first_date</th>\n",
       "      <th>region</th>\n",
       "      <th>device</th>\n",
       "    </tr>\n",
       "  </thead>\n",
       "  <tbody>\n",
       "    <tr>\n",
       "      <th>0</th>\n",
       "      <td>D1ABA3E2887B6A73</td>\n",
       "      <td>A</td>\n",
       "      <td>recommender_system_test</td>\n",
       "      <td>2020-12-07 14:43:27</td>\n",
       "      <td>purchase</td>\n",
       "      <td>99.99</td>\n",
       "      <td>2020-12-07</td>\n",
       "      <td>EU</td>\n",
       "      <td>PC</td>\n",
       "    </tr>\n",
       "    <tr>\n",
       "      <th>1</th>\n",
       "      <td>D1ABA3E2887B6A73</td>\n",
       "      <td>A</td>\n",
       "      <td>recommender_system_test</td>\n",
       "      <td>2020-12-25 00:04:56</td>\n",
       "      <td>purchase</td>\n",
       "      <td>4.99</td>\n",
       "      <td>2020-12-07</td>\n",
       "      <td>EU</td>\n",
       "      <td>PC</td>\n",
       "    </tr>\n",
       "    <tr>\n",
       "      <th>2</th>\n",
       "      <td>D1ABA3E2887B6A73</td>\n",
       "      <td>A</td>\n",
       "      <td>recommender_system_test</td>\n",
       "      <td>2020-12-07 14:43:29</td>\n",
       "      <td>product_cart</td>\n",
       "      <td>NaN</td>\n",
       "      <td>2020-12-07</td>\n",
       "      <td>EU</td>\n",
       "      <td>PC</td>\n",
       "    </tr>\n",
       "    <tr>\n",
       "      <th>3</th>\n",
       "      <td>D1ABA3E2887B6A73</td>\n",
       "      <td>A</td>\n",
       "      <td>recommender_system_test</td>\n",
       "      <td>2020-12-25 00:04:57</td>\n",
       "      <td>product_cart</td>\n",
       "      <td>NaN</td>\n",
       "      <td>2020-12-07</td>\n",
       "      <td>EU</td>\n",
       "      <td>PC</td>\n",
       "    </tr>\n",
       "    <tr>\n",
       "      <th>4</th>\n",
       "      <td>D1ABA3E2887B6A73</td>\n",
       "      <td>A</td>\n",
       "      <td>recommender_system_test</td>\n",
       "      <td>2020-12-07 14:43:27</td>\n",
       "      <td>product_page</td>\n",
       "      <td>NaN</td>\n",
       "      <td>2020-12-07</td>\n",
       "      <td>EU</td>\n",
       "      <td>PC</td>\n",
       "    </tr>\n",
       "    <tr>\n",
       "      <th>...</th>\n",
       "      <td>...</td>\n",
       "      <td>...</td>\n",
       "      <td>...</td>\n",
       "      <td>...</td>\n",
       "      <td>...</td>\n",
       "      <td>...</td>\n",
       "      <td>...</td>\n",
       "      <td>...</td>\n",
       "      <td>...</td>\n",
       "    </tr>\n",
       "    <tr>\n",
       "      <th>27719</th>\n",
       "      <td>6715343AFBA285AE</td>\n",
       "      <td>B</td>\n",
       "      <td>recommender_system_test</td>\n",
       "      <td>2020-12-07 10:12:15</td>\n",
       "      <td>login</td>\n",
       "      <td>NaN</td>\n",
       "      <td>2020-12-07</td>\n",
       "      <td>CIS</td>\n",
       "      <td>Android</td>\n",
       "    </tr>\n",
       "    <tr>\n",
       "      <th>27720</th>\n",
       "      <td>6715343AFBA285AE</td>\n",
       "      <td>B</td>\n",
       "      <td>recommender_system_test</td>\n",
       "      <td>2020-12-08 22:51:16</td>\n",
       "      <td>login</td>\n",
       "      <td>NaN</td>\n",
       "      <td>2020-12-07</td>\n",
       "      <td>CIS</td>\n",
       "      <td>Android</td>\n",
       "    </tr>\n",
       "    <tr>\n",
       "      <th>27721</th>\n",
       "      <td>6715343AFBA285AE</td>\n",
       "      <td>B</td>\n",
       "      <td>recommender_system_test</td>\n",
       "      <td>2020-12-09 02:28:03</td>\n",
       "      <td>login</td>\n",
       "      <td>NaN</td>\n",
       "      <td>2020-12-07</td>\n",
       "      <td>CIS</td>\n",
       "      <td>Android</td>\n",
       "    </tr>\n",
       "    <tr>\n",
       "      <th>27722</th>\n",
       "      <td>6715343AFBA285AE</td>\n",
       "      <td>B</td>\n",
       "      <td>recommender_system_test</td>\n",
       "      <td>2020-12-10 22:55:14</td>\n",
       "      <td>login</td>\n",
       "      <td>NaN</td>\n",
       "      <td>2020-12-07</td>\n",
       "      <td>CIS</td>\n",
       "      <td>Android</td>\n",
       "    </tr>\n",
       "    <tr>\n",
       "      <th>27723</th>\n",
       "      <td>6715343AFBA285AE</td>\n",
       "      <td>B</td>\n",
       "      <td>recommender_system_test</td>\n",
       "      <td>2020-12-14 12:40:41</td>\n",
       "      <td>login</td>\n",
       "      <td>NaN</td>\n",
       "      <td>2020-12-07</td>\n",
       "      <td>CIS</td>\n",
       "      <td>Android</td>\n",
       "    </tr>\n",
       "  </tbody>\n",
       "</table>\n",
       "<p>27724 rows × 9 columns</p>\n",
       "</div>"
      ],
      "text/plain": [
       "                user_id group                  ab_test             event_dt  \\\n",
       "0      D1ABA3E2887B6A73  A     recommender_system_test  2020-12-07 14:43:27   \n",
       "1      D1ABA3E2887B6A73  A     recommender_system_test  2020-12-25 00:04:56   \n",
       "2      D1ABA3E2887B6A73  A     recommender_system_test  2020-12-07 14:43:29   \n",
       "3      D1ABA3E2887B6A73  A     recommender_system_test  2020-12-25 00:04:57   \n",
       "4      D1ABA3E2887B6A73  A     recommender_system_test  2020-12-07 14:43:27   \n",
       "...                 ... ..                         ...                  ...   \n",
       "27719  6715343AFBA285AE  B     recommender_system_test  2020-12-07 10:12:15   \n",
       "27720  6715343AFBA285AE  B     recommender_system_test  2020-12-08 22:51:16   \n",
       "27721  6715343AFBA285AE  B     recommender_system_test  2020-12-09 02:28:03   \n",
       "27722  6715343AFBA285AE  B     recommender_system_test  2020-12-10 22:55:14   \n",
       "27723  6715343AFBA285AE  B     recommender_system_test  2020-12-14 12:40:41   \n",
       "\n",
       "         event_name  details first_date region   device  \n",
       "0      purchase      99.99   2020-12-07  EU     PC       \n",
       "1      purchase      4.99    2020-12-07  EU     PC       \n",
       "2      product_cart NaN      2020-12-07  EU     PC       \n",
       "3      product_cart NaN      2020-12-07  EU     PC       \n",
       "4      product_page NaN      2020-12-07  EU     PC       \n",
       "...             ...  ..             ...  ..     ..       \n",
       "27719  login        NaN      2020-12-07  CIS    Android  \n",
       "27720  login        NaN      2020-12-07  CIS    Android  \n",
       "27721  login        NaN      2020-12-07  CIS    Android  \n",
       "27722  login        NaN      2020-12-07  CIS    Android  \n",
       "27723  login        NaN      2020-12-07  CIS    Android  \n",
       "\n",
       "[27724 rows x 9 columns]"
      ]
     },
     "execution_count": 83,
     "metadata": {},
     "output_type": "execute_result"
    }
   ],
   "source": [
    "final_df=final_ab_events_participants.merge(new_final_ab_new_users, on='user_id', how='left')\n",
    "final_df"
   ]
  },
  {
   "cell_type": "code",
   "execution_count": 84,
   "metadata": {},
   "outputs": [
    {
     "data": {
      "text/plain": [
       "user_id       0    \n",
       "group         0    \n",
       "ab_test       0    \n",
       "event_dt      3026 \n",
       "event_name    3026 \n",
       "details       24393\n",
       "first_date    0    \n",
       "region        0    \n",
       "device        0    \n",
       "dtype: int64"
      ]
     },
     "execution_count": 84,
     "metadata": {},
     "output_type": "execute_result"
    }
   ],
   "source": [
    "#проверим таблицу на пропуски:\n",
    "final_df.isna().sum()"
   ]
  },
  {
   "cell_type": "markdown",
   "metadata": {},
   "source": [
    "Удалим из таблицы пропущенные значения из столбцов event_dt, event_name."
   ]
  },
  {
   "cell_type": "code",
   "execution_count": 85,
   "metadata": {},
   "outputs": [],
   "source": [
    "final_df=final_df=final_df.dropna(subset = ['event_dt','event_name'])"
   ]
  },
  {
   "cell_type": "code",
   "execution_count": 86,
   "metadata": {},
   "outputs": [
    {
     "name": "stdout",
     "output_type": "stream",
     "text": [
      "<class 'pandas.core.frame.DataFrame'>\n",
      "Int64Index: 24698 entries, 0 to 27723\n",
      "Data columns (total 9 columns):\n",
      " #   Column      Non-Null Count  Dtype         \n",
      "---  ------      --------------  -----         \n",
      " 0   user_id     24698 non-null  object        \n",
      " 1   group       24698 non-null  object        \n",
      " 2   ab_test     24698 non-null  object        \n",
      " 3   event_dt    24698 non-null  object        \n",
      " 4   event_name  24698 non-null  object        \n",
      " 5   details     3331 non-null   float64       \n",
      " 6   first_date  24698 non-null  datetime64[ns]\n",
      " 7   region      24698 non-null  object        \n",
      " 8   device      24698 non-null  object        \n",
      "dtypes: datetime64[ns](1), float64(1), object(7)\n",
      "memory usage: 1.9+ MB\n"
     ]
    }
   ],
   "source": [
    "final_df.info()"
   ]
  },
  {
   "cell_type": "code",
   "execution_count": 87,
   "metadata": {},
   "outputs": [
    {
     "data": {
      "text/plain": [
       "3675"
      ]
     },
     "execution_count": 87,
     "metadata": {},
     "output_type": "execute_result"
    }
   ],
   "source": [
    "#проверим сколько уникальных пользователей, для проведения теста осталось:\n",
    "final_df['user_id'].nunique()"
   ]
  },
  {
   "cell_type": "markdown",
   "metadata": {},
   "source": [
    "События, которые были совершены после 14 дней с момента  регистрации пользователя, уберем из анализа."
   ]
  },
  {
   "cell_type": "code",
   "execution_count": 88,
   "metadata": {},
   "outputs": [
    {
     "name": "stderr",
     "output_type": "stream",
     "text": [
      "/tmp/ipykernel_105/3116717443.py:2: SettingWithCopyWarning:\n",
      "\n",
      "\n",
      "A value is trying to be set on a copy of a slice from a DataFrame.\n",
      "Try using .loc[row_indexer,col_indexer] = value instead\n",
      "\n",
      "See the caveats in the documentation: https://pandas.pydata.org/pandas-docs/stable/user_guide/indexing.html#returning-a-view-versus-a-copy\n",
      "\n"
     ]
    },
    {
     "data": {
      "text/html": [
       "<div>\n",
       "<style scoped>\n",
       "    .dataframe tbody tr th:only-of-type {\n",
       "        vertical-align: middle;\n",
       "    }\n",
       "\n",
       "    .dataframe tbody tr th {\n",
       "        vertical-align: top;\n",
       "    }\n",
       "\n",
       "    .dataframe thead th {\n",
       "        text-align: right;\n",
       "    }\n",
       "</style>\n",
       "<table border=\"1\" class=\"dataframe\">\n",
       "  <thead>\n",
       "    <tr style=\"text-align: right;\">\n",
       "      <th></th>\n",
       "      <th>user_id</th>\n",
       "      <th>group</th>\n",
       "      <th>ab_test</th>\n",
       "      <th>event_dt</th>\n",
       "      <th>event_name</th>\n",
       "      <th>details</th>\n",
       "      <th>first_date</th>\n",
       "      <th>region</th>\n",
       "      <th>device</th>\n",
       "      <th>day</th>\n",
       "    </tr>\n",
       "  </thead>\n",
       "  <tbody>\n",
       "    <tr>\n",
       "      <th>0</th>\n",
       "      <td>D1ABA3E2887B6A73</td>\n",
       "      <td>A</td>\n",
       "      <td>recommender_system_test</td>\n",
       "      <td>2020-12-07 14:43:27</td>\n",
       "      <td>purchase</td>\n",
       "      <td>99.99</td>\n",
       "      <td>2020-12-07</td>\n",
       "      <td>EU</td>\n",
       "      <td>PC</td>\n",
       "      <td>2020-12-07</td>\n",
       "    </tr>\n",
       "    <tr>\n",
       "      <th>1</th>\n",
       "      <td>D1ABA3E2887B6A73</td>\n",
       "      <td>A</td>\n",
       "      <td>recommender_system_test</td>\n",
       "      <td>2020-12-25 00:04:56</td>\n",
       "      <td>purchase</td>\n",
       "      <td>4.99</td>\n",
       "      <td>2020-12-07</td>\n",
       "      <td>EU</td>\n",
       "      <td>PC</td>\n",
       "      <td>2020-12-25</td>\n",
       "    </tr>\n",
       "    <tr>\n",
       "      <th>2</th>\n",
       "      <td>D1ABA3E2887B6A73</td>\n",
       "      <td>A</td>\n",
       "      <td>recommender_system_test</td>\n",
       "      <td>2020-12-07 14:43:29</td>\n",
       "      <td>product_cart</td>\n",
       "      <td>NaN</td>\n",
       "      <td>2020-12-07</td>\n",
       "      <td>EU</td>\n",
       "      <td>PC</td>\n",
       "      <td>2020-12-07</td>\n",
       "    </tr>\n",
       "    <tr>\n",
       "      <th>3</th>\n",
       "      <td>D1ABA3E2887B6A73</td>\n",
       "      <td>A</td>\n",
       "      <td>recommender_system_test</td>\n",
       "      <td>2020-12-25 00:04:57</td>\n",
       "      <td>product_cart</td>\n",
       "      <td>NaN</td>\n",
       "      <td>2020-12-07</td>\n",
       "      <td>EU</td>\n",
       "      <td>PC</td>\n",
       "      <td>2020-12-25</td>\n",
       "    </tr>\n",
       "  </tbody>\n",
       "</table>\n",
       "</div>"
      ],
      "text/plain": [
       "            user_id group                  ab_test             event_dt  \\\n",
       "0  D1ABA3E2887B6A73  A     recommender_system_test  2020-12-07 14:43:27   \n",
       "1  D1ABA3E2887B6A73  A     recommender_system_test  2020-12-25 00:04:56   \n",
       "2  D1ABA3E2887B6A73  A     recommender_system_test  2020-12-07 14:43:29   \n",
       "3  D1ABA3E2887B6A73  A     recommender_system_test  2020-12-25 00:04:57   \n",
       "\n",
       "     event_name  details first_date region device         day  \n",
       "0  purchase      99.99   2020-12-07  EU     PC     2020-12-07  \n",
       "1  purchase      4.99    2020-12-07  EU     PC     2020-12-25  \n",
       "2  product_cart NaN      2020-12-07  EU     PC     2020-12-07  \n",
       "3  product_cart NaN      2020-12-07  EU     PC     2020-12-25  "
      ]
     },
     "execution_count": 88,
     "metadata": {},
     "output_type": "execute_result"
    }
   ],
   "source": [
    "#Добавим столбец с днем\n",
    "final_df['day'] = pd.to_datetime(final_df['event_dt']).dt.date\n",
    "final_df.head(4)"
   ]
  },
  {
   "cell_type": "code",
   "execution_count": 89,
   "metadata": {},
   "outputs": [
    {
     "name": "stderr",
     "output_type": "stream",
     "text": [
      "/tmp/ipykernel_105/528414635.py:1: SettingWithCopyWarning:\n",
      "\n",
      "\n",
      "A value is trying to be set on a copy of a slice from a DataFrame.\n",
      "Try using .loc[row_indexer,col_indexer] = value instead\n",
      "\n",
      "See the caveats in the documentation: https://pandas.pydata.org/pandas-docs/stable/user_guide/indexing.html#returning-a-view-versus-a-copy\n",
      "\n"
     ]
    }
   ],
   "source": [
    "final_df['day'] = pd.to_datetime(final_df['day'], format='%Y-%m-%d')"
   ]
  },
  {
   "cell_type": "code",
   "execution_count": 90,
   "metadata": {},
   "outputs": [
    {
     "name": "stderr",
     "output_type": "stream",
     "text": [
      "/tmp/ipykernel_105/2731774044.py:1: SettingWithCopyWarning:\n",
      "\n",
      "\n",
      "A value is trying to be set on a copy of a slice from a DataFrame.\n",
      "Try using .loc[row_indexer,col_indexer] = value instead\n",
      "\n",
      "See the caveats in the documentation: https://pandas.pydata.org/pandas-docs/stable/user_guide/indexing.html#returning-a-view-versus-a-copy\n",
      "\n"
     ]
    },
    {
     "data": {
      "text/plain": [
       "3675"
      ]
     },
     "execution_count": 90,
     "metadata": {},
     "output_type": "execute_result"
    }
   ],
   "source": [
    "final_df['lifetime']=final_df['day']-final_df['first_date']\n",
    "final_df =final_df.query('lifetime < \"14days\"')\n",
    "final_df['user_id'].nunique()"
   ]
  },
  {
   "cell_type": "markdown",
   "metadata": {},
   "source": [
    "#### Вывод "
   ]
  },
  {
   "cell_type": "markdown",
   "metadata": {},
   "source": [
    "Очистили данные согласно заявленному ТЗ.Ожидаемое количество участников теста: 6000, После очистки данных осталось 3675, что на 61% меньше от плана.Можно уже сделать  заключение о некорректности проведения теста."
   ]
  },
  {
   "cell_type": "markdown",
   "metadata": {},
   "source": [
    "<a id='3'></a>\n",
    "### Исследовательский анализ данных "
   ]
  },
  {
   "cell_type": "markdown",
   "metadata": {},
   "source": [
    "- Количество событий на пользователя одинаково распределены в выборках?\n",
    "- Как число событий в выборках распределено по дням?\n",
    "- Как меняется конверсия в воронке в выборках на разных этапах?\n",
    "- Какие особенности данных нужно учесть, прежде чем приступать к A/B-тестированию?"
   ]
  },
  {
   "cell_type": "markdown",
   "metadata": {},
   "source": [
    "#### Количество событий на пользователя одинаково распределены в выборках"
   ]
  },
  {
   "cell_type": "code",
   "execution_count": 91,
   "metadata": {},
   "outputs": [
    {
     "data": {
      "text/html": [
       "<div>\n",
       "<style scoped>\n",
       "    .dataframe tbody tr th:only-of-type {\n",
       "        vertical-align: middle;\n",
       "    }\n",
       "\n",
       "    .dataframe tbody tr th {\n",
       "        vertical-align: top;\n",
       "    }\n",
       "\n",
       "    .dataframe thead th {\n",
       "        text-align: right;\n",
       "    }\n",
       "</style>\n",
       "<table border=\"1\" class=\"dataframe\">\n",
       "  <thead>\n",
       "    <tr style=\"text-align: right;\">\n",
       "      <th></th>\n",
       "      <th>event_name</th>\n",
       "    </tr>\n",
       "  </thead>\n",
       "  <tbody>\n",
       "    <tr>\n",
       "      <th>login</th>\n",
       "      <td>10794</td>\n",
       "    </tr>\n",
       "    <tr>\n",
       "      <th>product_page</th>\n",
       "      <td>6684</td>\n",
       "    </tr>\n",
       "    <tr>\n",
       "      <th>purchase</th>\n",
       "      <td>3232</td>\n",
       "    </tr>\n",
       "    <tr>\n",
       "      <th>product_cart</th>\n",
       "      <td>3146</td>\n",
       "    </tr>\n",
       "  </tbody>\n",
       "</table>\n",
       "</div>"
      ],
      "text/plain": [
       "              event_name\n",
       "login         10794     \n",
       "product_page  6684      \n",
       "purchase      3232      \n",
       "product_cart  3146      "
      ]
     },
     "execution_count": 91,
     "metadata": {},
     "output_type": "execute_result"
    }
   ],
   "source": [
    "final_df['event_name'].value_counts().to_frame()"
   ]
  },
  {
   "cell_type": "code",
   "execution_count": 92,
   "metadata": {},
   "outputs": [
    {
     "data": {
      "text/html": [
       "<div>\n",
       "<style scoped>\n",
       "    .dataframe tbody tr th:only-of-type {\n",
       "        vertical-align: middle;\n",
       "    }\n",
       "\n",
       "    .dataframe tbody tr th {\n",
       "        vertical-align: top;\n",
       "    }\n",
       "\n",
       "    .dataframe thead th {\n",
       "        text-align: right;\n",
       "    }\n",
       "</style>\n",
       "<table border=\"1\" class=\"dataframe\">\n",
       "  <thead>\n",
       "    <tr style=\"text-align: right;\">\n",
       "      <th></th>\n",
       "      <th>user_id</th>\n",
       "      <th>event_name</th>\n",
       "      <th>count</th>\n",
       "    </tr>\n",
       "  </thead>\n",
       "  <tbody>\n",
       "    <tr>\n",
       "      <th>1451</th>\n",
       "      <td>3B62EE83708770A5</td>\n",
       "      <td>purchase</td>\n",
       "      <td>1</td>\n",
       "    </tr>\n",
       "    <tr>\n",
       "      <th>5854</th>\n",
       "      <td>F0C5FD9E6F7968EC</td>\n",
       "      <td>purchase</td>\n",
       "      <td>1</td>\n",
       "    </tr>\n",
       "    <tr>\n",
       "      <th>5853</th>\n",
       "      <td>F0C5FD9E6F7968EC</td>\n",
       "      <td>product_page</td>\n",
       "      <td>1</td>\n",
       "    </tr>\n",
       "    <tr>\n",
       "      <th>5852</th>\n",
       "      <td>F0C5FD9E6F7968EC</td>\n",
       "      <td>login</td>\n",
       "      <td>1</td>\n",
       "    </tr>\n",
       "    <tr>\n",
       "      <th>3028</th>\n",
       "      <td>7DC0F01827866E41</td>\n",
       "      <td>product_page</td>\n",
       "      <td>1</td>\n",
       "    </tr>\n",
       "    <tr>\n",
       "      <th>...</th>\n",
       "      <td>...</td>\n",
       "      <td>...</td>\n",
       "      <td>...</td>\n",
       "    </tr>\n",
       "    <tr>\n",
       "      <th>4548</th>\n",
       "      <td>B8EF6F0325A9979F</td>\n",
       "      <td>login</td>\n",
       "      <td>7</td>\n",
       "    </tr>\n",
       "    <tr>\n",
       "      <th>2351</th>\n",
       "      <td>6022892C8C3CE8EC</td>\n",
       "      <td>product_page</td>\n",
       "      <td>7</td>\n",
       "    </tr>\n",
       "    <tr>\n",
       "      <th>4395</th>\n",
       "      <td>B36555EE73132491</td>\n",
       "      <td>login</td>\n",
       "      <td>7</td>\n",
       "    </tr>\n",
       "    <tr>\n",
       "      <th>6018</th>\n",
       "      <td>F8185432C71D445E</td>\n",
       "      <td>login</td>\n",
       "      <td>7</td>\n",
       "    </tr>\n",
       "    <tr>\n",
       "      <th>4549</th>\n",
       "      <td>B8EF6F0325A9979F</td>\n",
       "      <td>product_page</td>\n",
       "      <td>7</td>\n",
       "    </tr>\n",
       "  </tbody>\n",
       "</table>\n",
       "<p>6223 rows × 3 columns</p>\n",
       "</div>"
      ],
      "text/plain": [
       "               user_id    event_name  count\n",
       "1451  3B62EE83708770A5  purchase      1    \n",
       "5854  F0C5FD9E6F7968EC  purchase      1    \n",
       "5853  F0C5FD9E6F7968EC  product_page  1    \n",
       "5852  F0C5FD9E6F7968EC  login         1    \n",
       "3028  7DC0F01827866E41  product_page  1    \n",
       "...                ...           ... ..    \n",
       "4548  B8EF6F0325A9979F  login         7    \n",
       "2351  6022892C8C3CE8EC  product_page  7    \n",
       "4395  B36555EE73132491  login         7    \n",
       "6018  F8185432C71D445E  login         7    \n",
       "4549  B8EF6F0325A9979F  product_page  7    \n",
       "\n",
       "[6223 rows x 3 columns]"
      ]
     },
     "execution_count": 92,
     "metadata": {},
     "output_type": "execute_result"
    }
   ],
   "source": [
    "gr_A=final_df.query('group==\"A\"').groupby(['user_id','event_name'])['event_name'].count().to_frame().rename(columns={'event_name':'count'}).reset_index().sort_values('count')\n",
    "gr_A"
   ]
  },
  {
   "cell_type": "code",
   "execution_count": 93,
   "metadata": {},
   "outputs": [
    {
     "data": {
      "text/html": [
       "<div>\n",
       "<style scoped>\n",
       "    .dataframe tbody tr th:only-of-type {\n",
       "        vertical-align: middle;\n",
       "    }\n",
       "\n",
       "    .dataframe tbody tr th {\n",
       "        vertical-align: top;\n",
       "    }\n",
       "\n",
       "    .dataframe thead th {\n",
       "        text-align: right;\n",
       "    }\n",
       "</style>\n",
       "<table border=\"1\" class=\"dataframe\">\n",
       "  <thead>\n",
       "    <tr style=\"text-align: right;\">\n",
       "      <th></th>\n",
       "      <th>user_id</th>\n",
       "      <th>event_name</th>\n",
       "      <th>count</th>\n",
       "    </tr>\n",
       "  </thead>\n",
       "  <tbody>\n",
       "    <tr>\n",
       "      <th>1586</th>\n",
       "      <td>CD668979C54E22F7</td>\n",
       "      <td>purchase</td>\n",
       "      <td>1</td>\n",
       "    </tr>\n",
       "    <tr>\n",
       "      <th>1015</th>\n",
       "      <td>87B112DF92E5A3BA</td>\n",
       "      <td>login</td>\n",
       "      <td>1</td>\n",
       "    </tr>\n",
       "    <tr>\n",
       "      <th>1322</th>\n",
       "      <td>AD6416B175EC960F</td>\n",
       "      <td>product_cart</td>\n",
       "      <td>1</td>\n",
       "    </tr>\n",
       "    <tr>\n",
       "      <th>1321</th>\n",
       "      <td>AD6416B175EC960F</td>\n",
       "      <td>login</td>\n",
       "      <td>1</td>\n",
       "    </tr>\n",
       "    <tr>\n",
       "      <th>1511</th>\n",
       "      <td>C57EE2E8FCB5C551</td>\n",
       "      <td>login</td>\n",
       "      <td>1</td>\n",
       "    </tr>\n",
       "    <tr>\n",
       "      <th>...</th>\n",
       "      <td>...</td>\n",
       "      <td>...</td>\n",
       "      <td>...</td>\n",
       "    </tr>\n",
       "    <tr>\n",
       "      <th>1612</th>\n",
       "      <td>D182471A77C0DC13</td>\n",
       "      <td>login</td>\n",
       "      <td>7</td>\n",
       "    </tr>\n",
       "    <tr>\n",
       "      <th>1037</th>\n",
       "      <td>89545C7F903DBA34</td>\n",
       "      <td>product_page</td>\n",
       "      <td>7</td>\n",
       "    </tr>\n",
       "    <tr>\n",
       "      <th>1038</th>\n",
       "      <td>89545C7F903DBA34</td>\n",
       "      <td>purchase</td>\n",
       "      <td>7</td>\n",
       "    </tr>\n",
       "    <tr>\n",
       "      <th>110</th>\n",
       "      <td>115EBC1CA027854A</td>\n",
       "      <td>product_cart</td>\n",
       "      <td>7</td>\n",
       "    </tr>\n",
       "    <tr>\n",
       "      <th>1036</th>\n",
       "      <td>89545C7F903DBA34</td>\n",
       "      <td>login</td>\n",
       "      <td>7</td>\n",
       "    </tr>\n",
       "  </tbody>\n",
       "</table>\n",
       "<p>1961 rows × 3 columns</p>\n",
       "</div>"
      ],
      "text/plain": [
       "               user_id    event_name  count\n",
       "1586  CD668979C54E22F7  purchase      1    \n",
       "1015  87B112DF92E5A3BA  login         1    \n",
       "1322  AD6416B175EC960F  product_cart  1    \n",
       "1321  AD6416B175EC960F  login         1    \n",
       "1511  C57EE2E8FCB5C551  login         1    \n",
       "...                ...    ...        ..    \n",
       "1612  D182471A77C0DC13  login         7    \n",
       "1037  89545C7F903DBA34  product_page  7    \n",
       "1038  89545C7F903DBA34  purchase      7    \n",
       "110   115EBC1CA027854A  product_cart  7    \n",
       "1036  89545C7F903DBA34  login         7    \n",
       "\n",
       "[1961 rows x 3 columns]"
      ]
     },
     "execution_count": 93,
     "metadata": {},
     "output_type": "execute_result"
    }
   ],
   "source": [
    "gr_B=final_df.query('group==\"B\"').groupby(['user_id','event_name'])['event_name'].count().to_frame().rename(columns={'event_name':'count'}).reset_index().sort_values('count')\n",
    "gr_B"
   ]
  },
  {
   "cell_type": "code",
   "execution_count": 94,
   "metadata": {
    "scrolled": true
   },
   "outputs": [],
   "source": [
    "gr_A=gr_A.groupby('event_name')['count'].mean().to_frame().reset_index().round(2)\n",
    "gr_B=gr_B.groupby('event_name')['count'].mean().to_frame().reset_index().round(2)"
   ]
  },
  {
   "cell_type": "code",
   "execution_count": 95,
   "metadata": {},
   "outputs": [
    {
     "data": {
      "application/vnd.plotly.v1+json": {
       "config": {
        "plotlyServerURL": "https://plot.ly"
       },
       "data": [
        {
         "name": "Gr_A",
         "text": [
          "3.03",
          "3.03",
          "3.02",
          "2.98"
         ],
         "textposition": "auto",
         "type": "bar",
         "x": [
          "login",
          "product_cart",
          "product_page",
          "purchase"
         ],
         "y": [
          3.03,
          3.03,
          3.02,
          2.98
         ]
        },
        {
         "name": "Gr_В",
         "text": [
          "2.65",
          "2.55",
          "2.51",
          "2.48"
         ],
         "textposition": "auto",
         "type": "bar",
         "x": [
          "login",
          "product_cart",
          "product_page",
          "purchase"
         ],
         "y": [
          2.65,
          2.55,
          2.51,
          2.48
         ]
        }
       ],
       "layout": {
        "barmode": "group",
        "template": {
         "data": {
          "bar": [
           {
            "error_x": {
             "color": "#2a3f5f"
            },
            "error_y": {
             "color": "#2a3f5f"
            },
            "marker": {
             "line": {
              "color": "#E5ECF6",
              "width": 0.5
             },
             "pattern": {
              "fillmode": "overlay",
              "size": 10,
              "solidity": 0.2
             }
            },
            "type": "bar"
           }
          ],
          "barpolar": [
           {
            "marker": {
             "line": {
              "color": "#E5ECF6",
              "width": 0.5
             },
             "pattern": {
              "fillmode": "overlay",
              "size": 10,
              "solidity": 0.2
             }
            },
            "type": "barpolar"
           }
          ],
          "carpet": [
           {
            "aaxis": {
             "endlinecolor": "#2a3f5f",
             "gridcolor": "white",
             "linecolor": "white",
             "minorgridcolor": "white",
             "startlinecolor": "#2a3f5f"
            },
            "baxis": {
             "endlinecolor": "#2a3f5f",
             "gridcolor": "white",
             "linecolor": "white",
             "minorgridcolor": "white",
             "startlinecolor": "#2a3f5f"
            },
            "type": "carpet"
           }
          ],
          "choropleth": [
           {
            "colorbar": {
             "outlinewidth": 0,
             "ticks": ""
            },
            "type": "choropleth"
           }
          ],
          "contour": [
           {
            "colorbar": {
             "outlinewidth": 0,
             "ticks": ""
            },
            "colorscale": [
             [
              0,
              "#0d0887"
             ],
             [
              0.1111111111111111,
              "#46039f"
             ],
             [
              0.2222222222222222,
              "#7201a8"
             ],
             [
              0.3333333333333333,
              "#9c179e"
             ],
             [
              0.4444444444444444,
              "#bd3786"
             ],
             [
              0.5555555555555556,
              "#d8576b"
             ],
             [
              0.6666666666666666,
              "#ed7953"
             ],
             [
              0.7777777777777778,
              "#fb9f3a"
             ],
             [
              0.8888888888888888,
              "#fdca26"
             ],
             [
              1,
              "#f0f921"
             ]
            ],
            "type": "contour"
           }
          ],
          "contourcarpet": [
           {
            "colorbar": {
             "outlinewidth": 0,
             "ticks": ""
            },
            "type": "contourcarpet"
           }
          ],
          "heatmap": [
           {
            "colorbar": {
             "outlinewidth": 0,
             "ticks": ""
            },
            "colorscale": [
             [
              0,
              "#0d0887"
             ],
             [
              0.1111111111111111,
              "#46039f"
             ],
             [
              0.2222222222222222,
              "#7201a8"
             ],
             [
              0.3333333333333333,
              "#9c179e"
             ],
             [
              0.4444444444444444,
              "#bd3786"
             ],
             [
              0.5555555555555556,
              "#d8576b"
             ],
             [
              0.6666666666666666,
              "#ed7953"
             ],
             [
              0.7777777777777778,
              "#fb9f3a"
             ],
             [
              0.8888888888888888,
              "#fdca26"
             ],
             [
              1,
              "#f0f921"
             ]
            ],
            "type": "heatmap"
           }
          ],
          "heatmapgl": [
           {
            "colorbar": {
             "outlinewidth": 0,
             "ticks": ""
            },
            "colorscale": [
             [
              0,
              "#0d0887"
             ],
             [
              0.1111111111111111,
              "#46039f"
             ],
             [
              0.2222222222222222,
              "#7201a8"
             ],
             [
              0.3333333333333333,
              "#9c179e"
             ],
             [
              0.4444444444444444,
              "#bd3786"
             ],
             [
              0.5555555555555556,
              "#d8576b"
             ],
             [
              0.6666666666666666,
              "#ed7953"
             ],
             [
              0.7777777777777778,
              "#fb9f3a"
             ],
             [
              0.8888888888888888,
              "#fdca26"
             ],
             [
              1,
              "#f0f921"
             ]
            ],
            "type": "heatmapgl"
           }
          ],
          "histogram": [
           {
            "marker": {
             "pattern": {
              "fillmode": "overlay",
              "size": 10,
              "solidity": 0.2
             }
            },
            "type": "histogram"
           }
          ],
          "histogram2d": [
           {
            "colorbar": {
             "outlinewidth": 0,
             "ticks": ""
            },
            "colorscale": [
             [
              0,
              "#0d0887"
             ],
             [
              0.1111111111111111,
              "#46039f"
             ],
             [
              0.2222222222222222,
              "#7201a8"
             ],
             [
              0.3333333333333333,
              "#9c179e"
             ],
             [
              0.4444444444444444,
              "#bd3786"
             ],
             [
              0.5555555555555556,
              "#d8576b"
             ],
             [
              0.6666666666666666,
              "#ed7953"
             ],
             [
              0.7777777777777778,
              "#fb9f3a"
             ],
             [
              0.8888888888888888,
              "#fdca26"
             ],
             [
              1,
              "#f0f921"
             ]
            ],
            "type": "histogram2d"
           }
          ],
          "histogram2dcontour": [
           {
            "colorbar": {
             "outlinewidth": 0,
             "ticks": ""
            },
            "colorscale": [
             [
              0,
              "#0d0887"
             ],
             [
              0.1111111111111111,
              "#46039f"
             ],
             [
              0.2222222222222222,
              "#7201a8"
             ],
             [
              0.3333333333333333,
              "#9c179e"
             ],
             [
              0.4444444444444444,
              "#bd3786"
             ],
             [
              0.5555555555555556,
              "#d8576b"
             ],
             [
              0.6666666666666666,
              "#ed7953"
             ],
             [
              0.7777777777777778,
              "#fb9f3a"
             ],
             [
              0.8888888888888888,
              "#fdca26"
             ],
             [
              1,
              "#f0f921"
             ]
            ],
            "type": "histogram2dcontour"
           }
          ],
          "mesh3d": [
           {
            "colorbar": {
             "outlinewidth": 0,
             "ticks": ""
            },
            "type": "mesh3d"
           }
          ],
          "parcoords": [
           {
            "line": {
             "colorbar": {
              "outlinewidth": 0,
              "ticks": ""
             }
            },
            "type": "parcoords"
           }
          ],
          "pie": [
           {
            "automargin": true,
            "type": "pie"
           }
          ],
          "scatter": [
           {
            "marker": {
             "colorbar": {
              "outlinewidth": 0,
              "ticks": ""
             }
            },
            "type": "scatter"
           }
          ],
          "scatter3d": [
           {
            "line": {
             "colorbar": {
              "outlinewidth": 0,
              "ticks": ""
             }
            },
            "marker": {
             "colorbar": {
              "outlinewidth": 0,
              "ticks": ""
             }
            },
            "type": "scatter3d"
           }
          ],
          "scattercarpet": [
           {
            "marker": {
             "colorbar": {
              "outlinewidth": 0,
              "ticks": ""
             }
            },
            "type": "scattercarpet"
           }
          ],
          "scattergeo": [
           {
            "marker": {
             "colorbar": {
              "outlinewidth": 0,
              "ticks": ""
             }
            },
            "type": "scattergeo"
           }
          ],
          "scattergl": [
           {
            "marker": {
             "colorbar": {
              "outlinewidth": 0,
              "ticks": ""
             }
            },
            "type": "scattergl"
           }
          ],
          "scattermapbox": [
           {
            "marker": {
             "colorbar": {
              "outlinewidth": 0,
              "ticks": ""
             }
            },
            "type": "scattermapbox"
           }
          ],
          "scatterpolar": [
           {
            "marker": {
             "colorbar": {
              "outlinewidth": 0,
              "ticks": ""
             }
            },
            "type": "scatterpolar"
           }
          ],
          "scatterpolargl": [
           {
            "marker": {
             "colorbar": {
              "outlinewidth": 0,
              "ticks": ""
             }
            },
            "type": "scatterpolargl"
           }
          ],
          "scatterternary": [
           {
            "marker": {
             "colorbar": {
              "outlinewidth": 0,
              "ticks": ""
             }
            },
            "type": "scatterternary"
           }
          ],
          "surface": [
           {
            "colorbar": {
             "outlinewidth": 0,
             "ticks": ""
            },
            "colorscale": [
             [
              0,
              "#0d0887"
             ],
             [
              0.1111111111111111,
              "#46039f"
             ],
             [
              0.2222222222222222,
              "#7201a8"
             ],
             [
              0.3333333333333333,
              "#9c179e"
             ],
             [
              0.4444444444444444,
              "#bd3786"
             ],
             [
              0.5555555555555556,
              "#d8576b"
             ],
             [
              0.6666666666666666,
              "#ed7953"
             ],
             [
              0.7777777777777778,
              "#fb9f3a"
             ],
             [
              0.8888888888888888,
              "#fdca26"
             ],
             [
              1,
              "#f0f921"
             ]
            ],
            "type": "surface"
           }
          ],
          "table": [
           {
            "cells": {
             "fill": {
              "color": "#EBF0F8"
             },
             "line": {
              "color": "white"
             }
            },
            "header": {
             "fill": {
              "color": "#C8D4E3"
             },
             "line": {
              "color": "white"
             }
            },
            "type": "table"
           }
          ]
         },
         "layout": {
          "annotationdefaults": {
           "arrowcolor": "#2a3f5f",
           "arrowhead": 0,
           "arrowwidth": 1
          },
          "autotypenumbers": "strict",
          "coloraxis": {
           "colorbar": {
            "outlinewidth": 0,
            "ticks": ""
           }
          },
          "colorscale": {
           "diverging": [
            [
             0,
             "#8e0152"
            ],
            [
             0.1,
             "#c51b7d"
            ],
            [
             0.2,
             "#de77ae"
            ],
            [
             0.3,
             "#f1b6da"
            ],
            [
             0.4,
             "#fde0ef"
            ],
            [
             0.5,
             "#f7f7f7"
            ],
            [
             0.6,
             "#e6f5d0"
            ],
            [
             0.7,
             "#b8e186"
            ],
            [
             0.8,
             "#7fbc41"
            ],
            [
             0.9,
             "#4d9221"
            ],
            [
             1,
             "#276419"
            ]
           ],
           "sequential": [
            [
             0,
             "#0d0887"
            ],
            [
             0.1111111111111111,
             "#46039f"
            ],
            [
             0.2222222222222222,
             "#7201a8"
            ],
            [
             0.3333333333333333,
             "#9c179e"
            ],
            [
             0.4444444444444444,
             "#bd3786"
            ],
            [
             0.5555555555555556,
             "#d8576b"
            ],
            [
             0.6666666666666666,
             "#ed7953"
            ],
            [
             0.7777777777777778,
             "#fb9f3a"
            ],
            [
             0.8888888888888888,
             "#fdca26"
            ],
            [
             1,
             "#f0f921"
            ]
           ],
           "sequentialminus": [
            [
             0,
             "#0d0887"
            ],
            [
             0.1111111111111111,
             "#46039f"
            ],
            [
             0.2222222222222222,
             "#7201a8"
            ],
            [
             0.3333333333333333,
             "#9c179e"
            ],
            [
             0.4444444444444444,
             "#bd3786"
            ],
            [
             0.5555555555555556,
             "#d8576b"
            ],
            [
             0.6666666666666666,
             "#ed7953"
            ],
            [
             0.7777777777777778,
             "#fb9f3a"
            ],
            [
             0.8888888888888888,
             "#fdca26"
            ],
            [
             1,
             "#f0f921"
            ]
           ]
          },
          "colorway": [
           "#636efa",
           "#EF553B",
           "#00cc96",
           "#ab63fa",
           "#FFA15A",
           "#19d3f3",
           "#FF6692",
           "#B6E880",
           "#FF97FF",
           "#FECB52"
          ],
          "font": {
           "color": "#2a3f5f"
          },
          "geo": {
           "bgcolor": "white",
           "lakecolor": "white",
           "landcolor": "#E5ECF6",
           "showlakes": true,
           "showland": true,
           "subunitcolor": "white"
          },
          "hoverlabel": {
           "align": "left"
          },
          "hovermode": "closest",
          "mapbox": {
           "style": "light"
          },
          "paper_bgcolor": "white",
          "plot_bgcolor": "#E5ECF6",
          "polar": {
           "angularaxis": {
            "gridcolor": "white",
            "linecolor": "white",
            "ticks": ""
           },
           "bgcolor": "#E5ECF6",
           "radialaxis": {
            "gridcolor": "white",
            "linecolor": "white",
            "ticks": ""
           }
          },
          "scene": {
           "xaxis": {
            "backgroundcolor": "#E5ECF6",
            "gridcolor": "white",
            "gridwidth": 2,
            "linecolor": "white",
            "showbackground": true,
            "ticks": "",
            "zerolinecolor": "white"
           },
           "yaxis": {
            "backgroundcolor": "#E5ECF6",
            "gridcolor": "white",
            "gridwidth": 2,
            "linecolor": "white",
            "showbackground": true,
            "ticks": "",
            "zerolinecolor": "white"
           },
           "zaxis": {
            "backgroundcolor": "#E5ECF6",
            "gridcolor": "white",
            "gridwidth": 2,
            "linecolor": "white",
            "showbackground": true,
            "ticks": "",
            "zerolinecolor": "white"
           }
          },
          "shapedefaults": {
           "line": {
            "color": "#2a3f5f"
           }
          },
          "ternary": {
           "aaxis": {
            "gridcolor": "white",
            "linecolor": "white",
            "ticks": ""
           },
           "baxis": {
            "gridcolor": "white",
            "linecolor": "white",
            "ticks": ""
           },
           "bgcolor": "#E5ECF6",
           "caxis": {
            "gridcolor": "white",
            "linecolor": "white",
            "ticks": ""
           }
          },
          "title": {
           "x": 0.05
          },
          "xaxis": {
           "automargin": true,
           "gridcolor": "white",
           "linecolor": "white",
           "ticks": "",
           "title": {
            "standoff": 15
           },
           "zerolinecolor": "white",
           "zerolinewidth": 2
          },
          "yaxis": {
           "automargin": true,
           "gridcolor": "white",
           "linecolor": "white",
           "ticks": "",
           "title": {
            "standoff": 15
           },
           "zerolinecolor": "white",
           "zerolinewidth": 2
          }
         }
        },
        "title": {
         "text": "График  кол-ва событий на пользователя"
        }
       }
      },
      "text/html": [
       "<div>                            <div id=\"8e2f9604-0be5-4118-b39a-dcc25b69e992\" class=\"plotly-graph-div\" style=\"height:525px; width:100%;\"></div>            <script type=\"text/javascript\">                require([\"plotly\"], function(Plotly) {                    window.PLOTLYENV=window.PLOTLYENV || {};                                    if (document.getElementById(\"8e2f9604-0be5-4118-b39a-dcc25b69e992\")) {                    Plotly.newPlot(                        \"8e2f9604-0be5-4118-b39a-dcc25b69e992\",                        [{\"name\":\"Gr_A\",\"text\":[\"3.03\",\"3.03\",\"3.02\",\"2.98\"],\"textposition\":\"auto\",\"x\":[\"login\",\"product_cart\",\"product_page\",\"purchase\"],\"y\":[3.03,3.03,3.02,2.98],\"type\":\"bar\"},{\"name\":\"Gr_\\u0412\",\"text\":[\"2.65\",\"2.55\",\"2.51\",\"2.48\"],\"textposition\":\"auto\",\"x\":[\"login\",\"product_cart\",\"product_page\",\"purchase\"],\"y\":[2.65,2.55,2.51,2.48],\"type\":\"bar\"}],                        {\"template\":{\"data\":{\"bar\":[{\"error_x\":{\"color\":\"#2a3f5f\"},\"error_y\":{\"color\":\"#2a3f5f\"},\"marker\":{\"line\":{\"color\":\"#E5ECF6\",\"width\":0.5},\"pattern\":{\"fillmode\":\"overlay\",\"size\":10,\"solidity\":0.2}},\"type\":\"bar\"}],\"barpolar\":[{\"marker\":{\"line\":{\"color\":\"#E5ECF6\",\"width\":0.5},\"pattern\":{\"fillmode\":\"overlay\",\"size\":10,\"solidity\":0.2}},\"type\":\"barpolar\"}],\"carpet\":[{\"aaxis\":{\"endlinecolor\":\"#2a3f5f\",\"gridcolor\":\"white\",\"linecolor\":\"white\",\"minorgridcolor\":\"white\",\"startlinecolor\":\"#2a3f5f\"},\"baxis\":{\"endlinecolor\":\"#2a3f5f\",\"gridcolor\":\"white\",\"linecolor\":\"white\",\"minorgridcolor\":\"white\",\"startlinecolor\":\"#2a3f5f\"},\"type\":\"carpet\"}],\"choropleth\":[{\"colorbar\":{\"outlinewidth\":0,\"ticks\":\"\"},\"type\":\"choropleth\"}],\"contour\":[{\"colorbar\":{\"outlinewidth\":0,\"ticks\":\"\"},\"colorscale\":[[0.0,\"#0d0887\"],[0.1111111111111111,\"#46039f\"],[0.2222222222222222,\"#7201a8\"],[0.3333333333333333,\"#9c179e\"],[0.4444444444444444,\"#bd3786\"],[0.5555555555555556,\"#d8576b\"],[0.6666666666666666,\"#ed7953\"],[0.7777777777777778,\"#fb9f3a\"],[0.8888888888888888,\"#fdca26\"],[1.0,\"#f0f921\"]],\"type\":\"contour\"}],\"contourcarpet\":[{\"colorbar\":{\"outlinewidth\":0,\"ticks\":\"\"},\"type\":\"contourcarpet\"}],\"heatmap\":[{\"colorbar\":{\"outlinewidth\":0,\"ticks\":\"\"},\"colorscale\":[[0.0,\"#0d0887\"],[0.1111111111111111,\"#46039f\"],[0.2222222222222222,\"#7201a8\"],[0.3333333333333333,\"#9c179e\"],[0.4444444444444444,\"#bd3786\"],[0.5555555555555556,\"#d8576b\"],[0.6666666666666666,\"#ed7953\"],[0.7777777777777778,\"#fb9f3a\"],[0.8888888888888888,\"#fdca26\"],[1.0,\"#f0f921\"]],\"type\":\"heatmap\"}],\"heatmapgl\":[{\"colorbar\":{\"outlinewidth\":0,\"ticks\":\"\"},\"colorscale\":[[0.0,\"#0d0887\"],[0.1111111111111111,\"#46039f\"],[0.2222222222222222,\"#7201a8\"],[0.3333333333333333,\"#9c179e\"],[0.4444444444444444,\"#bd3786\"],[0.5555555555555556,\"#d8576b\"],[0.6666666666666666,\"#ed7953\"],[0.7777777777777778,\"#fb9f3a\"],[0.8888888888888888,\"#fdca26\"],[1.0,\"#f0f921\"]],\"type\":\"heatmapgl\"}],\"histogram\":[{\"marker\":{\"pattern\":{\"fillmode\":\"overlay\",\"size\":10,\"solidity\":0.2}},\"type\":\"histogram\"}],\"histogram2d\":[{\"colorbar\":{\"outlinewidth\":0,\"ticks\":\"\"},\"colorscale\":[[0.0,\"#0d0887\"],[0.1111111111111111,\"#46039f\"],[0.2222222222222222,\"#7201a8\"],[0.3333333333333333,\"#9c179e\"],[0.4444444444444444,\"#bd3786\"],[0.5555555555555556,\"#d8576b\"],[0.6666666666666666,\"#ed7953\"],[0.7777777777777778,\"#fb9f3a\"],[0.8888888888888888,\"#fdca26\"],[1.0,\"#f0f921\"]],\"type\":\"histogram2d\"}],\"histogram2dcontour\":[{\"colorbar\":{\"outlinewidth\":0,\"ticks\":\"\"},\"colorscale\":[[0.0,\"#0d0887\"],[0.1111111111111111,\"#46039f\"],[0.2222222222222222,\"#7201a8\"],[0.3333333333333333,\"#9c179e\"],[0.4444444444444444,\"#bd3786\"],[0.5555555555555556,\"#d8576b\"],[0.6666666666666666,\"#ed7953\"],[0.7777777777777778,\"#fb9f3a\"],[0.8888888888888888,\"#fdca26\"],[1.0,\"#f0f921\"]],\"type\":\"histogram2dcontour\"}],\"mesh3d\":[{\"colorbar\":{\"outlinewidth\":0,\"ticks\":\"\"},\"type\":\"mesh3d\"}],\"parcoords\":[{\"line\":{\"colorbar\":{\"outlinewidth\":0,\"ticks\":\"\"}},\"type\":\"parcoords\"}],\"pie\":[{\"automargin\":true,\"type\":\"pie\"}],\"scatter\":[{\"marker\":{\"colorbar\":{\"outlinewidth\":0,\"ticks\":\"\"}},\"type\":\"scatter\"}],\"scatter3d\":[{\"line\":{\"colorbar\":{\"outlinewidth\":0,\"ticks\":\"\"}},\"marker\":{\"colorbar\":{\"outlinewidth\":0,\"ticks\":\"\"}},\"type\":\"scatter3d\"}],\"scattercarpet\":[{\"marker\":{\"colorbar\":{\"outlinewidth\":0,\"ticks\":\"\"}},\"type\":\"scattercarpet\"}],\"scattergeo\":[{\"marker\":{\"colorbar\":{\"outlinewidth\":0,\"ticks\":\"\"}},\"type\":\"scattergeo\"}],\"scattergl\":[{\"marker\":{\"colorbar\":{\"outlinewidth\":0,\"ticks\":\"\"}},\"type\":\"scattergl\"}],\"scattermapbox\":[{\"marker\":{\"colorbar\":{\"outlinewidth\":0,\"ticks\":\"\"}},\"type\":\"scattermapbox\"}],\"scatterpolar\":[{\"marker\":{\"colorbar\":{\"outlinewidth\":0,\"ticks\":\"\"}},\"type\":\"scatterpolar\"}],\"scatterpolargl\":[{\"marker\":{\"colorbar\":{\"outlinewidth\":0,\"ticks\":\"\"}},\"type\":\"scatterpolargl\"}],\"scatterternary\":[{\"marker\":{\"colorbar\":{\"outlinewidth\":0,\"ticks\":\"\"}},\"type\":\"scatterternary\"}],\"surface\":[{\"colorbar\":{\"outlinewidth\":0,\"ticks\":\"\"},\"colorscale\":[[0.0,\"#0d0887\"],[0.1111111111111111,\"#46039f\"],[0.2222222222222222,\"#7201a8\"],[0.3333333333333333,\"#9c179e\"],[0.4444444444444444,\"#bd3786\"],[0.5555555555555556,\"#d8576b\"],[0.6666666666666666,\"#ed7953\"],[0.7777777777777778,\"#fb9f3a\"],[0.8888888888888888,\"#fdca26\"],[1.0,\"#f0f921\"]],\"type\":\"surface\"}],\"table\":[{\"cells\":{\"fill\":{\"color\":\"#EBF0F8\"},\"line\":{\"color\":\"white\"}},\"header\":{\"fill\":{\"color\":\"#C8D4E3\"},\"line\":{\"color\":\"white\"}},\"type\":\"table\"}]},\"layout\":{\"annotationdefaults\":{\"arrowcolor\":\"#2a3f5f\",\"arrowhead\":0,\"arrowwidth\":1},\"autotypenumbers\":\"strict\",\"coloraxis\":{\"colorbar\":{\"outlinewidth\":0,\"ticks\":\"\"}},\"colorscale\":{\"diverging\":[[0,\"#8e0152\"],[0.1,\"#c51b7d\"],[0.2,\"#de77ae\"],[0.3,\"#f1b6da\"],[0.4,\"#fde0ef\"],[0.5,\"#f7f7f7\"],[0.6,\"#e6f5d0\"],[0.7,\"#b8e186\"],[0.8,\"#7fbc41\"],[0.9,\"#4d9221\"],[1,\"#276419\"]],\"sequential\":[[0.0,\"#0d0887\"],[0.1111111111111111,\"#46039f\"],[0.2222222222222222,\"#7201a8\"],[0.3333333333333333,\"#9c179e\"],[0.4444444444444444,\"#bd3786\"],[0.5555555555555556,\"#d8576b\"],[0.6666666666666666,\"#ed7953\"],[0.7777777777777778,\"#fb9f3a\"],[0.8888888888888888,\"#fdca26\"],[1.0,\"#f0f921\"]],\"sequentialminus\":[[0.0,\"#0d0887\"],[0.1111111111111111,\"#46039f\"],[0.2222222222222222,\"#7201a8\"],[0.3333333333333333,\"#9c179e\"],[0.4444444444444444,\"#bd3786\"],[0.5555555555555556,\"#d8576b\"],[0.6666666666666666,\"#ed7953\"],[0.7777777777777778,\"#fb9f3a\"],[0.8888888888888888,\"#fdca26\"],[1.0,\"#f0f921\"]]},\"colorway\":[\"#636efa\",\"#EF553B\",\"#00cc96\",\"#ab63fa\",\"#FFA15A\",\"#19d3f3\",\"#FF6692\",\"#B6E880\",\"#FF97FF\",\"#FECB52\"],\"font\":{\"color\":\"#2a3f5f\"},\"geo\":{\"bgcolor\":\"white\",\"lakecolor\":\"white\",\"landcolor\":\"#E5ECF6\",\"showlakes\":true,\"showland\":true,\"subunitcolor\":\"white\"},\"hoverlabel\":{\"align\":\"left\"},\"hovermode\":\"closest\",\"mapbox\":{\"style\":\"light\"},\"paper_bgcolor\":\"white\",\"plot_bgcolor\":\"#E5ECF6\",\"polar\":{\"angularaxis\":{\"gridcolor\":\"white\",\"linecolor\":\"white\",\"ticks\":\"\"},\"bgcolor\":\"#E5ECF6\",\"radialaxis\":{\"gridcolor\":\"white\",\"linecolor\":\"white\",\"ticks\":\"\"}},\"scene\":{\"xaxis\":{\"backgroundcolor\":\"#E5ECF6\",\"gridcolor\":\"white\",\"gridwidth\":2,\"linecolor\":\"white\",\"showbackground\":true,\"ticks\":\"\",\"zerolinecolor\":\"white\"},\"yaxis\":{\"backgroundcolor\":\"#E5ECF6\",\"gridcolor\":\"white\",\"gridwidth\":2,\"linecolor\":\"white\",\"showbackground\":true,\"ticks\":\"\",\"zerolinecolor\":\"white\"},\"zaxis\":{\"backgroundcolor\":\"#E5ECF6\",\"gridcolor\":\"white\",\"gridwidth\":2,\"linecolor\":\"white\",\"showbackground\":true,\"ticks\":\"\",\"zerolinecolor\":\"white\"}},\"shapedefaults\":{\"line\":{\"color\":\"#2a3f5f\"}},\"ternary\":{\"aaxis\":{\"gridcolor\":\"white\",\"linecolor\":\"white\",\"ticks\":\"\"},\"baxis\":{\"gridcolor\":\"white\",\"linecolor\":\"white\",\"ticks\":\"\"},\"bgcolor\":\"#E5ECF6\",\"caxis\":{\"gridcolor\":\"white\",\"linecolor\":\"white\",\"ticks\":\"\"}},\"title\":{\"x\":0.05},\"xaxis\":{\"automargin\":true,\"gridcolor\":\"white\",\"linecolor\":\"white\",\"ticks\":\"\",\"title\":{\"standoff\":15},\"zerolinecolor\":\"white\",\"zerolinewidth\":2},\"yaxis\":{\"automargin\":true,\"gridcolor\":\"white\",\"linecolor\":\"white\",\"ticks\":\"\",\"title\":{\"standoff\":15},\"zerolinecolor\":\"white\",\"zerolinewidth\":2}}},\"barmode\":\"group\",\"title\":{\"text\":\"\\u0413\\u0440\\u0430\\u0444\\u0438\\u043a  \\u043a\\u043e\\u043b-\\u0432\\u0430 \\u0441\\u043e\\u0431\\u044b\\u0442\\u0438\\u0439 \\u043d\\u0430 \\u043f\\u043e\\u043b\\u044c\\u0437\\u043e\\u0432\\u0430\\u0442\\u0435\\u043b\\u044f\"}},                        {\"responsive\": true}                    ).then(function(){\n",
       "                            \n",
       "var gd = document.getElementById('8e2f9604-0be5-4118-b39a-dcc25b69e992');\n",
       "var x = new MutationObserver(function (mutations, observer) {{\n",
       "        var display = window.getComputedStyle(gd).display;\n",
       "        if (!display || display === 'none') {{\n",
       "            console.log([gd, 'removed!']);\n",
       "            Plotly.purge(gd);\n",
       "            observer.disconnect();\n",
       "        }}\n",
       "}});\n",
       "\n",
       "// Listen for the removal of the full notebook cells\n",
       "var notebookContainer = gd.closest('#notebook-container');\n",
       "if (notebookContainer) {{\n",
       "    x.observe(notebookContainer, {childList: true});\n",
       "}}\n",
       "\n",
       "// Listen for the clearing of the current output cell\n",
       "var outputEl = gd.closest('.output');\n",
       "if (outputEl) {{\n",
       "    x.observe(outputEl, {childList: true});\n",
       "}}\n",
       "\n",
       "                        })                };                });            </script>        </div>"
      ]
     },
     "metadata": {},
     "output_type": "display_data"
    }
   ],
   "source": [
    "fig = go.Figure(data=[\n",
    "    go.Bar(name='Gr_A', x=gr_A['event_name'].to_list(),\n",
    "           y=gr_A['count'].to_list(),\n",
    "           text=gr_A['count'].to_list(),\n",
    "           textposition='auto'),\n",
    "    go.Bar(name='Gr_В', x=gr_B['event_name'].to_list(),\n",
    "           y=gr_B['count'].to_list(),\n",
    "           text=gr_B['count'].to_list(),\n",
    "           textposition='auto')\n",
    "])\n",
    "\n",
    "fig.update_layout(barmode='group', title='График  кол-ва событий на пользователя')\n",
    "\n",
    "fig.show()"
   ]
  },
  {
   "cell_type": "markdown",
   "metadata": {},
   "source": [
    "В группе А в среднем на одного пользователя приходится 3 события, в группе В- 2 события."
   ]
  },
  {
   "cell_type": "code",
   "execution_count": 96,
   "metadata": {},
   "outputs": [
    {
     "data": {
      "text/html": [
       "<div>\n",
       "<style scoped>\n",
       "    .dataframe tbody tr th:only-of-type {\n",
       "        vertical-align: middle;\n",
       "    }\n",
       "\n",
       "    .dataframe tbody tr th {\n",
       "        vertical-align: top;\n",
       "    }\n",
       "\n",
       "    .dataframe thead th {\n",
       "        text-align: right;\n",
       "    }\n",
       "</style>\n",
       "<table border=\"1\" class=\"dataframe\">\n",
       "  <thead>\n",
       "    <tr style=\"text-align: right;\">\n",
       "      <th></th>\n",
       "      <th>group</th>\n",
       "      <th>event_name</th>\n",
       "      <th>user_id</th>\n",
       "    </tr>\n",
       "  </thead>\n",
       "  <tbody>\n",
       "    <tr>\n",
       "      <th>0</th>\n",
       "      <td>A</td>\n",
       "      <td>login</td>\n",
       "      <td>2747</td>\n",
       "    </tr>\n",
       "    <tr>\n",
       "      <th>2</th>\n",
       "      <td>A</td>\n",
       "      <td>product_page</td>\n",
       "      <td>1780</td>\n",
       "    </tr>\n",
       "    <tr>\n",
       "      <th>4</th>\n",
       "      <td>B</td>\n",
       "      <td>login</td>\n",
       "      <td>927</td>\n",
       "    </tr>\n",
       "    <tr>\n",
       "      <th>3</th>\n",
       "      <td>A</td>\n",
       "      <td>purchase</td>\n",
       "      <td>872</td>\n",
       "    </tr>\n",
       "    <tr>\n",
       "      <th>1</th>\n",
       "      <td>A</td>\n",
       "      <td>product_cart</td>\n",
       "      <td>824</td>\n",
       "    </tr>\n",
       "    <tr>\n",
       "      <th>6</th>\n",
       "      <td>B</td>\n",
       "      <td>product_page</td>\n",
       "      <td>523</td>\n",
       "    </tr>\n",
       "    <tr>\n",
       "      <th>7</th>\n",
       "      <td>B</td>\n",
       "      <td>purchase</td>\n",
       "      <td>256</td>\n",
       "    </tr>\n",
       "    <tr>\n",
       "      <th>5</th>\n",
       "      <td>B</td>\n",
       "      <td>product_cart</td>\n",
       "      <td>255</td>\n",
       "    </tr>\n",
       "  </tbody>\n",
       "</table>\n",
       "</div>"
      ],
      "text/plain": [
       "  group    event_name  user_id\n",
       "0  A     login         2747   \n",
       "2  A     product_page  1780   \n",
       "4  B     login         927    \n",
       "3  A     purchase      872    \n",
       "1  A     product_cart  824    \n",
       "6  B     product_page  523    \n",
       "7  B     purchase      256    \n",
       "5  B     product_cart  255    "
      ]
     },
     "execution_count": 96,
     "metadata": {},
     "output_type": "execute_result"
    }
   ],
   "source": [
    "events_per_user=final_df \\\n",
    "    .groupby(['group', 'event_name']) \\\n",
    "    .agg({'user_id':'nunique'}) \\\n",
    "    .reset_index() \\\n",
    "    .sort_values('user_id', ascending=False)\n",
    "events_per_user"
   ]
  },
  {
   "cell_type": "code",
   "execution_count": 97,
   "metadata": {},
   "outputs": [
    {
     "data": {
      "application/vnd.plotly.v1+json": {
       "config": {
        "plotlyServerURL": "https://plot.ly"
       },
       "data": [
        {
         "alignmentgroup": "True",
         "hovertemplate": "event_name=login<br>group=%{x}<br>user_id=%{text}<extra></extra>",
         "legendgroup": "login",
         "marker": {
          "color": "#636efa",
          "pattern": {
           "shape": ""
          }
         },
         "name": "login",
         "offsetgroup": "login",
         "orientation": "v",
         "showlegend": true,
         "text": [
          2747,
          927
         ],
         "textposition": "auto",
         "type": "bar",
         "x": [
          "A",
          "B"
         ],
         "xaxis": "x",
         "y": [
          2747,
          927
         ],
         "yaxis": "y"
        },
        {
         "alignmentgroup": "True",
         "hovertemplate": "event_name=product_page<br>group=%{x}<br>user_id=%{text}<extra></extra>",
         "legendgroup": "product_page",
         "marker": {
          "color": "#EF553B",
          "pattern": {
           "shape": ""
          }
         },
         "name": "product_page",
         "offsetgroup": "product_page",
         "orientation": "v",
         "showlegend": true,
         "text": [
          1780,
          523
         ],
         "textposition": "auto",
         "type": "bar",
         "x": [
          "A",
          "B"
         ],
         "xaxis": "x",
         "y": [
          1780,
          523
         ],
         "yaxis": "y"
        },
        {
         "alignmentgroup": "True",
         "hovertemplate": "event_name=purchase<br>group=%{x}<br>user_id=%{text}<extra></extra>",
         "legendgroup": "purchase",
         "marker": {
          "color": "#00cc96",
          "pattern": {
           "shape": ""
          }
         },
         "name": "purchase",
         "offsetgroup": "purchase",
         "orientation": "v",
         "showlegend": true,
         "text": [
          872,
          256
         ],
         "textposition": "auto",
         "type": "bar",
         "x": [
          "A",
          "B"
         ],
         "xaxis": "x",
         "y": [
          872,
          256
         ],
         "yaxis": "y"
        },
        {
         "alignmentgroup": "True",
         "hovertemplate": "event_name=product_cart<br>group=%{x}<br>user_id=%{text}<extra></extra>",
         "legendgroup": "product_cart",
         "marker": {
          "color": "#ab63fa",
          "pattern": {
           "shape": ""
          }
         },
         "name": "product_cart",
         "offsetgroup": "product_cart",
         "orientation": "v",
         "showlegend": true,
         "text": [
          824,
          255
         ],
         "textposition": "auto",
         "type": "bar",
         "x": [
          "A",
          "B"
         ],
         "xaxis": "x",
         "y": [
          824,
          255
         ],
         "yaxis": "y"
        }
       ],
       "layout": {
        "barmode": "group",
        "legend": {
         "title": {
          "text": "event_name"
         },
         "tracegroupgap": 0
        },
        "template": {
         "data": {
          "bar": [
           {
            "error_x": {
             "color": "#2a3f5f"
            },
            "error_y": {
             "color": "#2a3f5f"
            },
            "marker": {
             "line": {
              "color": "#E5ECF6",
              "width": 0.5
             },
             "pattern": {
              "fillmode": "overlay",
              "size": 10,
              "solidity": 0.2
             }
            },
            "type": "bar"
           }
          ],
          "barpolar": [
           {
            "marker": {
             "line": {
              "color": "#E5ECF6",
              "width": 0.5
             },
             "pattern": {
              "fillmode": "overlay",
              "size": 10,
              "solidity": 0.2
             }
            },
            "type": "barpolar"
           }
          ],
          "carpet": [
           {
            "aaxis": {
             "endlinecolor": "#2a3f5f",
             "gridcolor": "white",
             "linecolor": "white",
             "minorgridcolor": "white",
             "startlinecolor": "#2a3f5f"
            },
            "baxis": {
             "endlinecolor": "#2a3f5f",
             "gridcolor": "white",
             "linecolor": "white",
             "minorgridcolor": "white",
             "startlinecolor": "#2a3f5f"
            },
            "type": "carpet"
           }
          ],
          "choropleth": [
           {
            "colorbar": {
             "outlinewidth": 0,
             "ticks": ""
            },
            "type": "choropleth"
           }
          ],
          "contour": [
           {
            "colorbar": {
             "outlinewidth": 0,
             "ticks": ""
            },
            "colorscale": [
             [
              0,
              "#0d0887"
             ],
             [
              0.1111111111111111,
              "#46039f"
             ],
             [
              0.2222222222222222,
              "#7201a8"
             ],
             [
              0.3333333333333333,
              "#9c179e"
             ],
             [
              0.4444444444444444,
              "#bd3786"
             ],
             [
              0.5555555555555556,
              "#d8576b"
             ],
             [
              0.6666666666666666,
              "#ed7953"
             ],
             [
              0.7777777777777778,
              "#fb9f3a"
             ],
             [
              0.8888888888888888,
              "#fdca26"
             ],
             [
              1,
              "#f0f921"
             ]
            ],
            "type": "contour"
           }
          ],
          "contourcarpet": [
           {
            "colorbar": {
             "outlinewidth": 0,
             "ticks": ""
            },
            "type": "contourcarpet"
           }
          ],
          "heatmap": [
           {
            "colorbar": {
             "outlinewidth": 0,
             "ticks": ""
            },
            "colorscale": [
             [
              0,
              "#0d0887"
             ],
             [
              0.1111111111111111,
              "#46039f"
             ],
             [
              0.2222222222222222,
              "#7201a8"
             ],
             [
              0.3333333333333333,
              "#9c179e"
             ],
             [
              0.4444444444444444,
              "#bd3786"
             ],
             [
              0.5555555555555556,
              "#d8576b"
             ],
             [
              0.6666666666666666,
              "#ed7953"
             ],
             [
              0.7777777777777778,
              "#fb9f3a"
             ],
             [
              0.8888888888888888,
              "#fdca26"
             ],
             [
              1,
              "#f0f921"
             ]
            ],
            "type": "heatmap"
           }
          ],
          "heatmapgl": [
           {
            "colorbar": {
             "outlinewidth": 0,
             "ticks": ""
            },
            "colorscale": [
             [
              0,
              "#0d0887"
             ],
             [
              0.1111111111111111,
              "#46039f"
             ],
             [
              0.2222222222222222,
              "#7201a8"
             ],
             [
              0.3333333333333333,
              "#9c179e"
             ],
             [
              0.4444444444444444,
              "#bd3786"
             ],
             [
              0.5555555555555556,
              "#d8576b"
             ],
             [
              0.6666666666666666,
              "#ed7953"
             ],
             [
              0.7777777777777778,
              "#fb9f3a"
             ],
             [
              0.8888888888888888,
              "#fdca26"
             ],
             [
              1,
              "#f0f921"
             ]
            ],
            "type": "heatmapgl"
           }
          ],
          "histogram": [
           {
            "marker": {
             "pattern": {
              "fillmode": "overlay",
              "size": 10,
              "solidity": 0.2
             }
            },
            "type": "histogram"
           }
          ],
          "histogram2d": [
           {
            "colorbar": {
             "outlinewidth": 0,
             "ticks": ""
            },
            "colorscale": [
             [
              0,
              "#0d0887"
             ],
             [
              0.1111111111111111,
              "#46039f"
             ],
             [
              0.2222222222222222,
              "#7201a8"
             ],
             [
              0.3333333333333333,
              "#9c179e"
             ],
             [
              0.4444444444444444,
              "#bd3786"
             ],
             [
              0.5555555555555556,
              "#d8576b"
             ],
             [
              0.6666666666666666,
              "#ed7953"
             ],
             [
              0.7777777777777778,
              "#fb9f3a"
             ],
             [
              0.8888888888888888,
              "#fdca26"
             ],
             [
              1,
              "#f0f921"
             ]
            ],
            "type": "histogram2d"
           }
          ],
          "histogram2dcontour": [
           {
            "colorbar": {
             "outlinewidth": 0,
             "ticks": ""
            },
            "colorscale": [
             [
              0,
              "#0d0887"
             ],
             [
              0.1111111111111111,
              "#46039f"
             ],
             [
              0.2222222222222222,
              "#7201a8"
             ],
             [
              0.3333333333333333,
              "#9c179e"
             ],
             [
              0.4444444444444444,
              "#bd3786"
             ],
             [
              0.5555555555555556,
              "#d8576b"
             ],
             [
              0.6666666666666666,
              "#ed7953"
             ],
             [
              0.7777777777777778,
              "#fb9f3a"
             ],
             [
              0.8888888888888888,
              "#fdca26"
             ],
             [
              1,
              "#f0f921"
             ]
            ],
            "type": "histogram2dcontour"
           }
          ],
          "mesh3d": [
           {
            "colorbar": {
             "outlinewidth": 0,
             "ticks": ""
            },
            "type": "mesh3d"
           }
          ],
          "parcoords": [
           {
            "line": {
             "colorbar": {
              "outlinewidth": 0,
              "ticks": ""
             }
            },
            "type": "parcoords"
           }
          ],
          "pie": [
           {
            "automargin": true,
            "type": "pie"
           }
          ],
          "scatter": [
           {
            "marker": {
             "colorbar": {
              "outlinewidth": 0,
              "ticks": ""
             }
            },
            "type": "scatter"
           }
          ],
          "scatter3d": [
           {
            "line": {
             "colorbar": {
              "outlinewidth": 0,
              "ticks": ""
             }
            },
            "marker": {
             "colorbar": {
              "outlinewidth": 0,
              "ticks": ""
             }
            },
            "type": "scatter3d"
           }
          ],
          "scattercarpet": [
           {
            "marker": {
             "colorbar": {
              "outlinewidth": 0,
              "ticks": ""
             }
            },
            "type": "scattercarpet"
           }
          ],
          "scattergeo": [
           {
            "marker": {
             "colorbar": {
              "outlinewidth": 0,
              "ticks": ""
             }
            },
            "type": "scattergeo"
           }
          ],
          "scattergl": [
           {
            "marker": {
             "colorbar": {
              "outlinewidth": 0,
              "ticks": ""
             }
            },
            "type": "scattergl"
           }
          ],
          "scattermapbox": [
           {
            "marker": {
             "colorbar": {
              "outlinewidth": 0,
              "ticks": ""
             }
            },
            "type": "scattermapbox"
           }
          ],
          "scatterpolar": [
           {
            "marker": {
             "colorbar": {
              "outlinewidth": 0,
              "ticks": ""
             }
            },
            "type": "scatterpolar"
           }
          ],
          "scatterpolargl": [
           {
            "marker": {
             "colorbar": {
              "outlinewidth": 0,
              "ticks": ""
             }
            },
            "type": "scatterpolargl"
           }
          ],
          "scatterternary": [
           {
            "marker": {
             "colorbar": {
              "outlinewidth": 0,
              "ticks": ""
             }
            },
            "type": "scatterternary"
           }
          ],
          "surface": [
           {
            "colorbar": {
             "outlinewidth": 0,
             "ticks": ""
            },
            "colorscale": [
             [
              0,
              "#0d0887"
             ],
             [
              0.1111111111111111,
              "#46039f"
             ],
             [
              0.2222222222222222,
              "#7201a8"
             ],
             [
              0.3333333333333333,
              "#9c179e"
             ],
             [
              0.4444444444444444,
              "#bd3786"
             ],
             [
              0.5555555555555556,
              "#d8576b"
             ],
             [
              0.6666666666666666,
              "#ed7953"
             ],
             [
              0.7777777777777778,
              "#fb9f3a"
             ],
             [
              0.8888888888888888,
              "#fdca26"
             ],
             [
              1,
              "#f0f921"
             ]
            ],
            "type": "surface"
           }
          ],
          "table": [
           {
            "cells": {
             "fill": {
              "color": "#EBF0F8"
             },
             "line": {
              "color": "white"
             }
            },
            "header": {
             "fill": {
              "color": "#C8D4E3"
             },
             "line": {
              "color": "white"
             }
            },
            "type": "table"
           }
          ]
         },
         "layout": {
          "annotationdefaults": {
           "arrowcolor": "#2a3f5f",
           "arrowhead": 0,
           "arrowwidth": 1
          },
          "autotypenumbers": "strict",
          "coloraxis": {
           "colorbar": {
            "outlinewidth": 0,
            "ticks": ""
           }
          },
          "colorscale": {
           "diverging": [
            [
             0,
             "#8e0152"
            ],
            [
             0.1,
             "#c51b7d"
            ],
            [
             0.2,
             "#de77ae"
            ],
            [
             0.3,
             "#f1b6da"
            ],
            [
             0.4,
             "#fde0ef"
            ],
            [
             0.5,
             "#f7f7f7"
            ],
            [
             0.6,
             "#e6f5d0"
            ],
            [
             0.7,
             "#b8e186"
            ],
            [
             0.8,
             "#7fbc41"
            ],
            [
             0.9,
             "#4d9221"
            ],
            [
             1,
             "#276419"
            ]
           ],
           "sequential": [
            [
             0,
             "#0d0887"
            ],
            [
             0.1111111111111111,
             "#46039f"
            ],
            [
             0.2222222222222222,
             "#7201a8"
            ],
            [
             0.3333333333333333,
             "#9c179e"
            ],
            [
             0.4444444444444444,
             "#bd3786"
            ],
            [
             0.5555555555555556,
             "#d8576b"
            ],
            [
             0.6666666666666666,
             "#ed7953"
            ],
            [
             0.7777777777777778,
             "#fb9f3a"
            ],
            [
             0.8888888888888888,
             "#fdca26"
            ],
            [
             1,
             "#f0f921"
            ]
           ],
           "sequentialminus": [
            [
             0,
             "#0d0887"
            ],
            [
             0.1111111111111111,
             "#46039f"
            ],
            [
             0.2222222222222222,
             "#7201a8"
            ],
            [
             0.3333333333333333,
             "#9c179e"
            ],
            [
             0.4444444444444444,
             "#bd3786"
            ],
            [
             0.5555555555555556,
             "#d8576b"
            ],
            [
             0.6666666666666666,
             "#ed7953"
            ],
            [
             0.7777777777777778,
             "#fb9f3a"
            ],
            [
             0.8888888888888888,
             "#fdca26"
            ],
            [
             1,
             "#f0f921"
            ]
           ]
          },
          "colorway": [
           "#636efa",
           "#EF553B",
           "#00cc96",
           "#ab63fa",
           "#FFA15A",
           "#19d3f3",
           "#FF6692",
           "#B6E880",
           "#FF97FF",
           "#FECB52"
          ],
          "font": {
           "color": "#2a3f5f"
          },
          "geo": {
           "bgcolor": "white",
           "lakecolor": "white",
           "landcolor": "#E5ECF6",
           "showlakes": true,
           "showland": true,
           "subunitcolor": "white"
          },
          "hoverlabel": {
           "align": "left"
          },
          "hovermode": "closest",
          "mapbox": {
           "style": "light"
          },
          "paper_bgcolor": "white",
          "plot_bgcolor": "#E5ECF6",
          "polar": {
           "angularaxis": {
            "gridcolor": "white",
            "linecolor": "white",
            "ticks": ""
           },
           "bgcolor": "#E5ECF6",
           "radialaxis": {
            "gridcolor": "white",
            "linecolor": "white",
            "ticks": ""
           }
          },
          "scene": {
           "xaxis": {
            "backgroundcolor": "#E5ECF6",
            "gridcolor": "white",
            "gridwidth": 2,
            "linecolor": "white",
            "showbackground": true,
            "ticks": "",
            "zerolinecolor": "white"
           },
           "yaxis": {
            "backgroundcolor": "#E5ECF6",
            "gridcolor": "white",
            "gridwidth": 2,
            "linecolor": "white",
            "showbackground": true,
            "ticks": "",
            "zerolinecolor": "white"
           },
           "zaxis": {
            "backgroundcolor": "#E5ECF6",
            "gridcolor": "white",
            "gridwidth": 2,
            "linecolor": "white",
            "showbackground": true,
            "ticks": "",
            "zerolinecolor": "white"
           }
          },
          "shapedefaults": {
           "line": {
            "color": "#2a3f5f"
           }
          },
          "ternary": {
           "aaxis": {
            "gridcolor": "white",
            "linecolor": "white",
            "ticks": ""
           },
           "baxis": {
            "gridcolor": "white",
            "linecolor": "white",
            "ticks": ""
           },
           "bgcolor": "#E5ECF6",
           "caxis": {
            "gridcolor": "white",
            "linecolor": "white",
            "ticks": ""
           }
          },
          "title": {
           "x": 0.05
          },
          "xaxis": {
           "automargin": true,
           "gridcolor": "white",
           "linecolor": "white",
           "ticks": "",
           "title": {
            "standoff": 15
           },
           "zerolinecolor": "white",
           "zerolinewidth": 2
          },
          "yaxis": {
           "automargin": true,
           "gridcolor": "white",
           "linecolor": "white",
           "ticks": "",
           "title": {
            "standoff": 15
           },
           "zerolinecolor": "white",
           "zerolinewidth": 2
          }
         }
        },
        "title": {
         "text": "График распределения количества событий по группам"
        },
        "xaxis": {
         "anchor": "y",
         "domain": [
          0,
          1
         ],
         "title": {
          "text": "group"
         }
        },
        "yaxis": {
         "anchor": "x",
         "domain": [
          0,
          1
         ],
         "title": {
          "text": "user_id"
         }
        }
       }
      },
      "text/html": [
       "<div>                            <div id=\"3efbeb2d-f764-4605-9a82-33c4459716a9\" class=\"plotly-graph-div\" style=\"height:525px; width:100%;\"></div>            <script type=\"text/javascript\">                require([\"plotly\"], function(Plotly) {                    window.PLOTLYENV=window.PLOTLYENV || {};                                    if (document.getElementById(\"3efbeb2d-f764-4605-9a82-33c4459716a9\")) {                    Plotly.newPlot(                        \"3efbeb2d-f764-4605-9a82-33c4459716a9\",                        [{\"alignmentgroup\":\"True\",\"hovertemplate\":\"event_name=login<br>group=%{x}<br>user_id=%{text}<extra></extra>\",\"legendgroup\":\"login\",\"marker\":{\"color\":\"#636efa\",\"pattern\":{\"shape\":\"\"}},\"name\":\"login\",\"offsetgroup\":\"login\",\"orientation\":\"v\",\"showlegend\":true,\"text\":[2747.0,927.0],\"textposition\":\"auto\",\"x\":[\"A\",\"B\"],\"xaxis\":\"x\",\"y\":[2747,927],\"yaxis\":\"y\",\"type\":\"bar\"},{\"alignmentgroup\":\"True\",\"hovertemplate\":\"event_name=product_page<br>group=%{x}<br>user_id=%{text}<extra></extra>\",\"legendgroup\":\"product_page\",\"marker\":{\"color\":\"#EF553B\",\"pattern\":{\"shape\":\"\"}},\"name\":\"product_page\",\"offsetgroup\":\"product_page\",\"orientation\":\"v\",\"showlegend\":true,\"text\":[1780.0,523.0],\"textposition\":\"auto\",\"x\":[\"A\",\"B\"],\"xaxis\":\"x\",\"y\":[1780,523],\"yaxis\":\"y\",\"type\":\"bar\"},{\"alignmentgroup\":\"True\",\"hovertemplate\":\"event_name=purchase<br>group=%{x}<br>user_id=%{text}<extra></extra>\",\"legendgroup\":\"purchase\",\"marker\":{\"color\":\"#00cc96\",\"pattern\":{\"shape\":\"\"}},\"name\":\"purchase\",\"offsetgroup\":\"purchase\",\"orientation\":\"v\",\"showlegend\":true,\"text\":[872.0,256.0],\"textposition\":\"auto\",\"x\":[\"A\",\"B\"],\"xaxis\":\"x\",\"y\":[872,256],\"yaxis\":\"y\",\"type\":\"bar\"},{\"alignmentgroup\":\"True\",\"hovertemplate\":\"event_name=product_cart<br>group=%{x}<br>user_id=%{text}<extra></extra>\",\"legendgroup\":\"product_cart\",\"marker\":{\"color\":\"#ab63fa\",\"pattern\":{\"shape\":\"\"}},\"name\":\"product_cart\",\"offsetgroup\":\"product_cart\",\"orientation\":\"v\",\"showlegend\":true,\"text\":[824.0,255.0],\"textposition\":\"auto\",\"x\":[\"A\",\"B\"],\"xaxis\":\"x\",\"y\":[824,255],\"yaxis\":\"y\",\"type\":\"bar\"}],                        {\"template\":{\"data\":{\"bar\":[{\"error_x\":{\"color\":\"#2a3f5f\"},\"error_y\":{\"color\":\"#2a3f5f\"},\"marker\":{\"line\":{\"color\":\"#E5ECF6\",\"width\":0.5},\"pattern\":{\"fillmode\":\"overlay\",\"size\":10,\"solidity\":0.2}},\"type\":\"bar\"}],\"barpolar\":[{\"marker\":{\"line\":{\"color\":\"#E5ECF6\",\"width\":0.5},\"pattern\":{\"fillmode\":\"overlay\",\"size\":10,\"solidity\":0.2}},\"type\":\"barpolar\"}],\"carpet\":[{\"aaxis\":{\"endlinecolor\":\"#2a3f5f\",\"gridcolor\":\"white\",\"linecolor\":\"white\",\"minorgridcolor\":\"white\",\"startlinecolor\":\"#2a3f5f\"},\"baxis\":{\"endlinecolor\":\"#2a3f5f\",\"gridcolor\":\"white\",\"linecolor\":\"white\",\"minorgridcolor\":\"white\",\"startlinecolor\":\"#2a3f5f\"},\"type\":\"carpet\"}],\"choropleth\":[{\"colorbar\":{\"outlinewidth\":0,\"ticks\":\"\"},\"type\":\"choropleth\"}],\"contour\":[{\"colorbar\":{\"outlinewidth\":0,\"ticks\":\"\"},\"colorscale\":[[0.0,\"#0d0887\"],[0.1111111111111111,\"#46039f\"],[0.2222222222222222,\"#7201a8\"],[0.3333333333333333,\"#9c179e\"],[0.4444444444444444,\"#bd3786\"],[0.5555555555555556,\"#d8576b\"],[0.6666666666666666,\"#ed7953\"],[0.7777777777777778,\"#fb9f3a\"],[0.8888888888888888,\"#fdca26\"],[1.0,\"#f0f921\"]],\"type\":\"contour\"}],\"contourcarpet\":[{\"colorbar\":{\"outlinewidth\":0,\"ticks\":\"\"},\"type\":\"contourcarpet\"}],\"heatmap\":[{\"colorbar\":{\"outlinewidth\":0,\"ticks\":\"\"},\"colorscale\":[[0.0,\"#0d0887\"],[0.1111111111111111,\"#46039f\"],[0.2222222222222222,\"#7201a8\"],[0.3333333333333333,\"#9c179e\"],[0.4444444444444444,\"#bd3786\"],[0.5555555555555556,\"#d8576b\"],[0.6666666666666666,\"#ed7953\"],[0.7777777777777778,\"#fb9f3a\"],[0.8888888888888888,\"#fdca26\"],[1.0,\"#f0f921\"]],\"type\":\"heatmap\"}],\"heatmapgl\":[{\"colorbar\":{\"outlinewidth\":0,\"ticks\":\"\"},\"colorscale\":[[0.0,\"#0d0887\"],[0.1111111111111111,\"#46039f\"],[0.2222222222222222,\"#7201a8\"],[0.3333333333333333,\"#9c179e\"],[0.4444444444444444,\"#bd3786\"],[0.5555555555555556,\"#d8576b\"],[0.6666666666666666,\"#ed7953\"],[0.7777777777777778,\"#fb9f3a\"],[0.8888888888888888,\"#fdca26\"],[1.0,\"#f0f921\"]],\"type\":\"heatmapgl\"}],\"histogram\":[{\"marker\":{\"pattern\":{\"fillmode\":\"overlay\",\"size\":10,\"solidity\":0.2}},\"type\":\"histogram\"}],\"histogram2d\":[{\"colorbar\":{\"outlinewidth\":0,\"ticks\":\"\"},\"colorscale\":[[0.0,\"#0d0887\"],[0.1111111111111111,\"#46039f\"],[0.2222222222222222,\"#7201a8\"],[0.3333333333333333,\"#9c179e\"],[0.4444444444444444,\"#bd3786\"],[0.5555555555555556,\"#d8576b\"],[0.6666666666666666,\"#ed7953\"],[0.7777777777777778,\"#fb9f3a\"],[0.8888888888888888,\"#fdca26\"],[1.0,\"#f0f921\"]],\"type\":\"histogram2d\"}],\"histogram2dcontour\":[{\"colorbar\":{\"outlinewidth\":0,\"ticks\":\"\"},\"colorscale\":[[0.0,\"#0d0887\"],[0.1111111111111111,\"#46039f\"],[0.2222222222222222,\"#7201a8\"],[0.3333333333333333,\"#9c179e\"],[0.4444444444444444,\"#bd3786\"],[0.5555555555555556,\"#d8576b\"],[0.6666666666666666,\"#ed7953\"],[0.7777777777777778,\"#fb9f3a\"],[0.8888888888888888,\"#fdca26\"],[1.0,\"#f0f921\"]],\"type\":\"histogram2dcontour\"}],\"mesh3d\":[{\"colorbar\":{\"outlinewidth\":0,\"ticks\":\"\"},\"type\":\"mesh3d\"}],\"parcoords\":[{\"line\":{\"colorbar\":{\"outlinewidth\":0,\"ticks\":\"\"}},\"type\":\"parcoords\"}],\"pie\":[{\"automargin\":true,\"type\":\"pie\"}],\"scatter\":[{\"marker\":{\"colorbar\":{\"outlinewidth\":0,\"ticks\":\"\"}},\"type\":\"scatter\"}],\"scatter3d\":[{\"line\":{\"colorbar\":{\"outlinewidth\":0,\"ticks\":\"\"}},\"marker\":{\"colorbar\":{\"outlinewidth\":0,\"ticks\":\"\"}},\"type\":\"scatter3d\"}],\"scattercarpet\":[{\"marker\":{\"colorbar\":{\"outlinewidth\":0,\"ticks\":\"\"}},\"type\":\"scattercarpet\"}],\"scattergeo\":[{\"marker\":{\"colorbar\":{\"outlinewidth\":0,\"ticks\":\"\"}},\"type\":\"scattergeo\"}],\"scattergl\":[{\"marker\":{\"colorbar\":{\"outlinewidth\":0,\"ticks\":\"\"}},\"type\":\"scattergl\"}],\"scattermapbox\":[{\"marker\":{\"colorbar\":{\"outlinewidth\":0,\"ticks\":\"\"}},\"type\":\"scattermapbox\"}],\"scatterpolar\":[{\"marker\":{\"colorbar\":{\"outlinewidth\":0,\"ticks\":\"\"}},\"type\":\"scatterpolar\"}],\"scatterpolargl\":[{\"marker\":{\"colorbar\":{\"outlinewidth\":0,\"ticks\":\"\"}},\"type\":\"scatterpolargl\"}],\"scatterternary\":[{\"marker\":{\"colorbar\":{\"outlinewidth\":0,\"ticks\":\"\"}},\"type\":\"scatterternary\"}],\"surface\":[{\"colorbar\":{\"outlinewidth\":0,\"ticks\":\"\"},\"colorscale\":[[0.0,\"#0d0887\"],[0.1111111111111111,\"#46039f\"],[0.2222222222222222,\"#7201a8\"],[0.3333333333333333,\"#9c179e\"],[0.4444444444444444,\"#bd3786\"],[0.5555555555555556,\"#d8576b\"],[0.6666666666666666,\"#ed7953\"],[0.7777777777777778,\"#fb9f3a\"],[0.8888888888888888,\"#fdca26\"],[1.0,\"#f0f921\"]],\"type\":\"surface\"}],\"table\":[{\"cells\":{\"fill\":{\"color\":\"#EBF0F8\"},\"line\":{\"color\":\"white\"}},\"header\":{\"fill\":{\"color\":\"#C8D4E3\"},\"line\":{\"color\":\"white\"}},\"type\":\"table\"}]},\"layout\":{\"annotationdefaults\":{\"arrowcolor\":\"#2a3f5f\",\"arrowhead\":0,\"arrowwidth\":1},\"autotypenumbers\":\"strict\",\"coloraxis\":{\"colorbar\":{\"outlinewidth\":0,\"ticks\":\"\"}},\"colorscale\":{\"diverging\":[[0,\"#8e0152\"],[0.1,\"#c51b7d\"],[0.2,\"#de77ae\"],[0.3,\"#f1b6da\"],[0.4,\"#fde0ef\"],[0.5,\"#f7f7f7\"],[0.6,\"#e6f5d0\"],[0.7,\"#b8e186\"],[0.8,\"#7fbc41\"],[0.9,\"#4d9221\"],[1,\"#276419\"]],\"sequential\":[[0.0,\"#0d0887\"],[0.1111111111111111,\"#46039f\"],[0.2222222222222222,\"#7201a8\"],[0.3333333333333333,\"#9c179e\"],[0.4444444444444444,\"#bd3786\"],[0.5555555555555556,\"#d8576b\"],[0.6666666666666666,\"#ed7953\"],[0.7777777777777778,\"#fb9f3a\"],[0.8888888888888888,\"#fdca26\"],[1.0,\"#f0f921\"]],\"sequentialminus\":[[0.0,\"#0d0887\"],[0.1111111111111111,\"#46039f\"],[0.2222222222222222,\"#7201a8\"],[0.3333333333333333,\"#9c179e\"],[0.4444444444444444,\"#bd3786\"],[0.5555555555555556,\"#d8576b\"],[0.6666666666666666,\"#ed7953\"],[0.7777777777777778,\"#fb9f3a\"],[0.8888888888888888,\"#fdca26\"],[1.0,\"#f0f921\"]]},\"colorway\":[\"#636efa\",\"#EF553B\",\"#00cc96\",\"#ab63fa\",\"#FFA15A\",\"#19d3f3\",\"#FF6692\",\"#B6E880\",\"#FF97FF\",\"#FECB52\"],\"font\":{\"color\":\"#2a3f5f\"},\"geo\":{\"bgcolor\":\"white\",\"lakecolor\":\"white\",\"landcolor\":\"#E5ECF6\",\"showlakes\":true,\"showland\":true,\"subunitcolor\":\"white\"},\"hoverlabel\":{\"align\":\"left\"},\"hovermode\":\"closest\",\"mapbox\":{\"style\":\"light\"},\"paper_bgcolor\":\"white\",\"plot_bgcolor\":\"#E5ECF6\",\"polar\":{\"angularaxis\":{\"gridcolor\":\"white\",\"linecolor\":\"white\",\"ticks\":\"\"},\"bgcolor\":\"#E5ECF6\",\"radialaxis\":{\"gridcolor\":\"white\",\"linecolor\":\"white\",\"ticks\":\"\"}},\"scene\":{\"xaxis\":{\"backgroundcolor\":\"#E5ECF6\",\"gridcolor\":\"white\",\"gridwidth\":2,\"linecolor\":\"white\",\"showbackground\":true,\"ticks\":\"\",\"zerolinecolor\":\"white\"},\"yaxis\":{\"backgroundcolor\":\"#E5ECF6\",\"gridcolor\":\"white\",\"gridwidth\":2,\"linecolor\":\"white\",\"showbackground\":true,\"ticks\":\"\",\"zerolinecolor\":\"white\"},\"zaxis\":{\"backgroundcolor\":\"#E5ECF6\",\"gridcolor\":\"white\",\"gridwidth\":2,\"linecolor\":\"white\",\"showbackground\":true,\"ticks\":\"\",\"zerolinecolor\":\"white\"}},\"shapedefaults\":{\"line\":{\"color\":\"#2a3f5f\"}},\"ternary\":{\"aaxis\":{\"gridcolor\":\"white\",\"linecolor\":\"white\",\"ticks\":\"\"},\"baxis\":{\"gridcolor\":\"white\",\"linecolor\":\"white\",\"ticks\":\"\"},\"bgcolor\":\"#E5ECF6\",\"caxis\":{\"gridcolor\":\"white\",\"linecolor\":\"white\",\"ticks\":\"\"}},\"title\":{\"x\":0.05},\"xaxis\":{\"automargin\":true,\"gridcolor\":\"white\",\"linecolor\":\"white\",\"ticks\":\"\",\"title\":{\"standoff\":15},\"zerolinecolor\":\"white\",\"zerolinewidth\":2},\"yaxis\":{\"automargin\":true,\"gridcolor\":\"white\",\"linecolor\":\"white\",\"ticks\":\"\",\"title\":{\"standoff\":15},\"zerolinecolor\":\"white\",\"zerolinewidth\":2}}},\"xaxis\":{\"anchor\":\"y\",\"domain\":[0.0,1.0],\"title\":{\"text\":\"group\"}},\"yaxis\":{\"anchor\":\"x\",\"domain\":[0.0,1.0],\"title\":{\"text\":\"user_id\"}},\"legend\":{\"title\":{\"text\":\"event_name\"},\"tracegroupgap\":0},\"title\":{\"text\":\"\\u0413\\u0440\\u0430\\u0444\\u0438\\u043a \\u0440\\u0430\\u0441\\u043f\\u0440\\u0435\\u0434\\u0435\\u043b\\u0435\\u043d\\u0438\\u044f \\u043a\\u043e\\u043b\\u0438\\u0447\\u0435\\u0441\\u0442\\u0432\\u0430 \\u0441\\u043e\\u0431\\u044b\\u0442\\u0438\\u0439 \\u043f\\u043e \\u0433\\u0440\\u0443\\u043f\\u043f\\u0430\\u043c\"},\"barmode\":\"group\"},                        {\"responsive\": true}                    ).then(function(){\n",
       "                            \n",
       "var gd = document.getElementById('3efbeb2d-f764-4605-9a82-33c4459716a9');\n",
       "var x = new MutationObserver(function (mutations, observer) {{\n",
       "        var display = window.getComputedStyle(gd).display;\n",
       "        if (!display || display === 'none') {{\n",
       "            console.log([gd, 'removed!']);\n",
       "            Plotly.purge(gd);\n",
       "            observer.disconnect();\n",
       "        }}\n",
       "}});\n",
       "\n",
       "// Listen for the removal of the full notebook cells\n",
       "var notebookContainer = gd.closest('#notebook-container');\n",
       "if (notebookContainer) {{\n",
       "    x.observe(notebookContainer, {childList: true});\n",
       "}}\n",
       "\n",
       "// Listen for the clearing of the current output cell\n",
       "var outputEl = gd.closest('.output');\n",
       "if (outputEl) {{\n",
       "    x.observe(outputEl, {childList: true});\n",
       "}}\n",
       "\n",
       "                        })                };                });            </script>        </div>"
      ]
     },
     "metadata": {},
     "output_type": "display_data"
    }
   ],
   "source": [
    "fig = px.bar(\n",
    "    events_per_user, x = 'group', y = 'user_id', text = 'user_id',color = 'event_name', barmode = 'group', title='График распределения количества событий по группам'\n",
    ")\n",
    "fig.update_xaxes()\n",
    "fig.show() "
   ]
  },
  {
   "cell_type": "markdown",
   "metadata": {},
   "source": [
    "Судя по графикам, в группе А событий больше чем в группе В."
   ]
  },
  {
   "cell_type": "markdown",
   "metadata": {},
   "source": [
    "#### Как число событий в выборках распределено по дням."
   ]
  },
  {
   "cell_type": "code",
   "execution_count": 98,
   "metadata": {},
   "outputs": [
    {
     "data": {
      "application/vnd.plotly.v1+json": {
       "config": {
        "plotlyServerURL": "https://plot.ly"
       },
       "data": [
        {
         "alignmentgroup": "True",
         "hovertemplate": "group=A<br>day=%{x}<br>count=%{y}<extra></extra>",
         "legendgroup": "A",
         "marker": {
          "color": "#636efa",
          "pattern": {
           "shape": ""
          }
         },
         "name": "A",
         "offsetgroup": "A",
         "orientation": "v",
         "showlegend": true,
         "textposition": "auto",
         "type": "bar",
         "x": [
          "2020-12-21T00:00:00",
          "2020-12-20T00:00:00",
          "2020-12-19T00:00:00",
          "2020-12-18T00:00:00",
          "2020-12-22T00:00:00",
          "2020-12-17T00:00:00",
          "2020-12-15T00:00:00",
          "2020-12-14T00:00:00",
          "2020-12-16T00:00:00",
          "2020-12-23T00:00:00",
          "2020-12-24T00:00:00",
          "2020-12-25T00:00:00",
          "2020-12-26T00:00:00",
          "2020-12-27T00:00:00",
          "2020-12-28T00:00:00",
          "2020-12-09T00:00:00",
          "2020-12-11T00:00:00",
          "2020-12-12T00:00:00",
          "2020-12-10T00:00:00",
          "2020-12-08T00:00:00",
          "2020-12-07T00:00:00",
          "2020-12-13T00:00:00",
          "2020-12-29T00:00:00"
         ],
         "xaxis": "x",
         "y": [
          1995,
          1528,
          1506,
          1312,
          1278,
          1252,
          1084,
          1083,
          1069,
          988,
          836,
          630,
          569,
          527,
          399,
          385,
          374,
          355,
          350,
          341,
          331,
          328,
          281
         ],
         "yaxis": "y"
        },
        {
         "alignmentgroup": "True",
         "hovertemplate": "group=B<br>day=%{x}<br>count=%{y}<extra></extra>",
         "legendgroup": "B",
         "marker": {
          "color": "#EF553B",
          "pattern": {
           "shape": ""
          }
         },
         "name": "B",
         "offsetgroup": "B",
         "orientation": "v",
         "showlegend": true,
         "textposition": "auto",
         "type": "bar",
         "x": [
          "2020-12-21T00:00:00",
          "2020-12-16T00:00:00",
          "2020-12-07T00:00:00",
          "2020-12-09T00:00:00",
          "2020-12-20T00:00:00",
          "2020-12-19T00:00:00",
          "2020-12-17T00:00:00",
          "2020-12-18T00:00:00",
          "2020-12-14T00:00:00",
          "2020-12-10T00:00:00",
          "2020-12-08T00:00:00",
          "2020-12-15T00:00:00",
          "2020-12-12T00:00:00",
          "2020-12-22T00:00:00",
          "2020-12-13T00:00:00",
          "2020-12-11T00:00:00",
          "2020-12-23T00:00:00",
          "2020-12-24T00:00:00",
          "2020-12-25T00:00:00",
          "2020-12-27T00:00:00",
          "2020-12-26T00:00:00",
          "2020-12-28T00:00:00",
          "2020-12-29T00:00:00"
         ],
         "xaxis": "x",
         "y": [
          404,
          385,
          378,
          361,
          320,
          304,
          296,
          272,
          272,
          263,
          252,
          232,
          203,
          179,
          176,
          168,
          151,
          124,
          75,
          70,
          66,
          64,
          40
         ],
         "yaxis": "y"
        }
       ],
       "layout": {
        "barmode": "relative",
        "legend": {
         "title": {
          "text": "group"
         },
         "tracegroupgap": 0
        },
        "template": {
         "data": {
          "bar": [
           {
            "error_x": {
             "color": "#2a3f5f"
            },
            "error_y": {
             "color": "#2a3f5f"
            },
            "marker": {
             "line": {
              "color": "#E5ECF6",
              "width": 0.5
             },
             "pattern": {
              "fillmode": "overlay",
              "size": 10,
              "solidity": 0.2
             }
            },
            "type": "bar"
           }
          ],
          "barpolar": [
           {
            "marker": {
             "line": {
              "color": "#E5ECF6",
              "width": 0.5
             },
             "pattern": {
              "fillmode": "overlay",
              "size": 10,
              "solidity": 0.2
             }
            },
            "type": "barpolar"
           }
          ],
          "carpet": [
           {
            "aaxis": {
             "endlinecolor": "#2a3f5f",
             "gridcolor": "white",
             "linecolor": "white",
             "minorgridcolor": "white",
             "startlinecolor": "#2a3f5f"
            },
            "baxis": {
             "endlinecolor": "#2a3f5f",
             "gridcolor": "white",
             "linecolor": "white",
             "minorgridcolor": "white",
             "startlinecolor": "#2a3f5f"
            },
            "type": "carpet"
           }
          ],
          "choropleth": [
           {
            "colorbar": {
             "outlinewidth": 0,
             "ticks": ""
            },
            "type": "choropleth"
           }
          ],
          "contour": [
           {
            "colorbar": {
             "outlinewidth": 0,
             "ticks": ""
            },
            "colorscale": [
             [
              0,
              "#0d0887"
             ],
             [
              0.1111111111111111,
              "#46039f"
             ],
             [
              0.2222222222222222,
              "#7201a8"
             ],
             [
              0.3333333333333333,
              "#9c179e"
             ],
             [
              0.4444444444444444,
              "#bd3786"
             ],
             [
              0.5555555555555556,
              "#d8576b"
             ],
             [
              0.6666666666666666,
              "#ed7953"
             ],
             [
              0.7777777777777778,
              "#fb9f3a"
             ],
             [
              0.8888888888888888,
              "#fdca26"
             ],
             [
              1,
              "#f0f921"
             ]
            ],
            "type": "contour"
           }
          ],
          "contourcarpet": [
           {
            "colorbar": {
             "outlinewidth": 0,
             "ticks": ""
            },
            "type": "contourcarpet"
           }
          ],
          "heatmap": [
           {
            "colorbar": {
             "outlinewidth": 0,
             "ticks": ""
            },
            "colorscale": [
             [
              0,
              "#0d0887"
             ],
             [
              0.1111111111111111,
              "#46039f"
             ],
             [
              0.2222222222222222,
              "#7201a8"
             ],
             [
              0.3333333333333333,
              "#9c179e"
             ],
             [
              0.4444444444444444,
              "#bd3786"
             ],
             [
              0.5555555555555556,
              "#d8576b"
             ],
             [
              0.6666666666666666,
              "#ed7953"
             ],
             [
              0.7777777777777778,
              "#fb9f3a"
             ],
             [
              0.8888888888888888,
              "#fdca26"
             ],
             [
              1,
              "#f0f921"
             ]
            ],
            "type": "heatmap"
           }
          ],
          "heatmapgl": [
           {
            "colorbar": {
             "outlinewidth": 0,
             "ticks": ""
            },
            "colorscale": [
             [
              0,
              "#0d0887"
             ],
             [
              0.1111111111111111,
              "#46039f"
             ],
             [
              0.2222222222222222,
              "#7201a8"
             ],
             [
              0.3333333333333333,
              "#9c179e"
             ],
             [
              0.4444444444444444,
              "#bd3786"
             ],
             [
              0.5555555555555556,
              "#d8576b"
             ],
             [
              0.6666666666666666,
              "#ed7953"
             ],
             [
              0.7777777777777778,
              "#fb9f3a"
             ],
             [
              0.8888888888888888,
              "#fdca26"
             ],
             [
              1,
              "#f0f921"
             ]
            ],
            "type": "heatmapgl"
           }
          ],
          "histogram": [
           {
            "marker": {
             "pattern": {
              "fillmode": "overlay",
              "size": 10,
              "solidity": 0.2
             }
            },
            "type": "histogram"
           }
          ],
          "histogram2d": [
           {
            "colorbar": {
             "outlinewidth": 0,
             "ticks": ""
            },
            "colorscale": [
             [
              0,
              "#0d0887"
             ],
             [
              0.1111111111111111,
              "#46039f"
             ],
             [
              0.2222222222222222,
              "#7201a8"
             ],
             [
              0.3333333333333333,
              "#9c179e"
             ],
             [
              0.4444444444444444,
              "#bd3786"
             ],
             [
              0.5555555555555556,
              "#d8576b"
             ],
             [
              0.6666666666666666,
              "#ed7953"
             ],
             [
              0.7777777777777778,
              "#fb9f3a"
             ],
             [
              0.8888888888888888,
              "#fdca26"
             ],
             [
              1,
              "#f0f921"
             ]
            ],
            "type": "histogram2d"
           }
          ],
          "histogram2dcontour": [
           {
            "colorbar": {
             "outlinewidth": 0,
             "ticks": ""
            },
            "colorscale": [
             [
              0,
              "#0d0887"
             ],
             [
              0.1111111111111111,
              "#46039f"
             ],
             [
              0.2222222222222222,
              "#7201a8"
             ],
             [
              0.3333333333333333,
              "#9c179e"
             ],
             [
              0.4444444444444444,
              "#bd3786"
             ],
             [
              0.5555555555555556,
              "#d8576b"
             ],
             [
              0.6666666666666666,
              "#ed7953"
             ],
             [
              0.7777777777777778,
              "#fb9f3a"
             ],
             [
              0.8888888888888888,
              "#fdca26"
             ],
             [
              1,
              "#f0f921"
             ]
            ],
            "type": "histogram2dcontour"
           }
          ],
          "mesh3d": [
           {
            "colorbar": {
             "outlinewidth": 0,
             "ticks": ""
            },
            "type": "mesh3d"
           }
          ],
          "parcoords": [
           {
            "line": {
             "colorbar": {
              "outlinewidth": 0,
              "ticks": ""
             }
            },
            "type": "parcoords"
           }
          ],
          "pie": [
           {
            "automargin": true,
            "type": "pie"
           }
          ],
          "scatter": [
           {
            "marker": {
             "colorbar": {
              "outlinewidth": 0,
              "ticks": ""
             }
            },
            "type": "scatter"
           }
          ],
          "scatter3d": [
           {
            "line": {
             "colorbar": {
              "outlinewidth": 0,
              "ticks": ""
             }
            },
            "marker": {
             "colorbar": {
              "outlinewidth": 0,
              "ticks": ""
             }
            },
            "type": "scatter3d"
           }
          ],
          "scattercarpet": [
           {
            "marker": {
             "colorbar": {
              "outlinewidth": 0,
              "ticks": ""
             }
            },
            "type": "scattercarpet"
           }
          ],
          "scattergeo": [
           {
            "marker": {
             "colorbar": {
              "outlinewidth": 0,
              "ticks": ""
             }
            },
            "type": "scattergeo"
           }
          ],
          "scattergl": [
           {
            "marker": {
             "colorbar": {
              "outlinewidth": 0,
              "ticks": ""
             }
            },
            "type": "scattergl"
           }
          ],
          "scattermapbox": [
           {
            "marker": {
             "colorbar": {
              "outlinewidth": 0,
              "ticks": ""
             }
            },
            "type": "scattermapbox"
           }
          ],
          "scatterpolar": [
           {
            "marker": {
             "colorbar": {
              "outlinewidth": 0,
              "ticks": ""
             }
            },
            "type": "scatterpolar"
           }
          ],
          "scatterpolargl": [
           {
            "marker": {
             "colorbar": {
              "outlinewidth": 0,
              "ticks": ""
             }
            },
            "type": "scatterpolargl"
           }
          ],
          "scatterternary": [
           {
            "marker": {
             "colorbar": {
              "outlinewidth": 0,
              "ticks": ""
             }
            },
            "type": "scatterternary"
           }
          ],
          "surface": [
           {
            "colorbar": {
             "outlinewidth": 0,
             "ticks": ""
            },
            "colorscale": [
             [
              0,
              "#0d0887"
             ],
             [
              0.1111111111111111,
              "#46039f"
             ],
             [
              0.2222222222222222,
              "#7201a8"
             ],
             [
              0.3333333333333333,
              "#9c179e"
             ],
             [
              0.4444444444444444,
              "#bd3786"
             ],
             [
              0.5555555555555556,
              "#d8576b"
             ],
             [
              0.6666666666666666,
              "#ed7953"
             ],
             [
              0.7777777777777778,
              "#fb9f3a"
             ],
             [
              0.8888888888888888,
              "#fdca26"
             ],
             [
              1,
              "#f0f921"
             ]
            ],
            "type": "surface"
           }
          ],
          "table": [
           {
            "cells": {
             "fill": {
              "color": "#EBF0F8"
             },
             "line": {
              "color": "white"
             }
            },
            "header": {
             "fill": {
              "color": "#C8D4E3"
             },
             "line": {
              "color": "white"
             }
            },
            "type": "table"
           }
          ]
         },
         "layout": {
          "annotationdefaults": {
           "arrowcolor": "#2a3f5f",
           "arrowhead": 0,
           "arrowwidth": 1
          },
          "autotypenumbers": "strict",
          "coloraxis": {
           "colorbar": {
            "outlinewidth": 0,
            "ticks": ""
           }
          },
          "colorscale": {
           "diverging": [
            [
             0,
             "#8e0152"
            ],
            [
             0.1,
             "#c51b7d"
            ],
            [
             0.2,
             "#de77ae"
            ],
            [
             0.3,
             "#f1b6da"
            ],
            [
             0.4,
             "#fde0ef"
            ],
            [
             0.5,
             "#f7f7f7"
            ],
            [
             0.6,
             "#e6f5d0"
            ],
            [
             0.7,
             "#b8e186"
            ],
            [
             0.8,
             "#7fbc41"
            ],
            [
             0.9,
             "#4d9221"
            ],
            [
             1,
             "#276419"
            ]
           ],
           "sequential": [
            [
             0,
             "#0d0887"
            ],
            [
             0.1111111111111111,
             "#46039f"
            ],
            [
             0.2222222222222222,
             "#7201a8"
            ],
            [
             0.3333333333333333,
             "#9c179e"
            ],
            [
             0.4444444444444444,
             "#bd3786"
            ],
            [
             0.5555555555555556,
             "#d8576b"
            ],
            [
             0.6666666666666666,
             "#ed7953"
            ],
            [
             0.7777777777777778,
             "#fb9f3a"
            ],
            [
             0.8888888888888888,
             "#fdca26"
            ],
            [
             1,
             "#f0f921"
            ]
           ],
           "sequentialminus": [
            [
             0,
             "#0d0887"
            ],
            [
             0.1111111111111111,
             "#46039f"
            ],
            [
             0.2222222222222222,
             "#7201a8"
            ],
            [
             0.3333333333333333,
             "#9c179e"
            ],
            [
             0.4444444444444444,
             "#bd3786"
            ],
            [
             0.5555555555555556,
             "#d8576b"
            ],
            [
             0.6666666666666666,
             "#ed7953"
            ],
            [
             0.7777777777777778,
             "#fb9f3a"
            ],
            [
             0.8888888888888888,
             "#fdca26"
            ],
            [
             1,
             "#f0f921"
            ]
           ]
          },
          "colorway": [
           "#636efa",
           "#EF553B",
           "#00cc96",
           "#ab63fa",
           "#FFA15A",
           "#19d3f3",
           "#FF6692",
           "#B6E880",
           "#FF97FF",
           "#FECB52"
          ],
          "font": {
           "color": "#2a3f5f"
          },
          "geo": {
           "bgcolor": "white",
           "lakecolor": "white",
           "landcolor": "#E5ECF6",
           "showlakes": true,
           "showland": true,
           "subunitcolor": "white"
          },
          "hoverlabel": {
           "align": "left"
          },
          "hovermode": "closest",
          "mapbox": {
           "style": "light"
          },
          "paper_bgcolor": "white",
          "plot_bgcolor": "#E5ECF6",
          "polar": {
           "angularaxis": {
            "gridcolor": "white",
            "linecolor": "white",
            "ticks": ""
           },
           "bgcolor": "#E5ECF6",
           "radialaxis": {
            "gridcolor": "white",
            "linecolor": "white",
            "ticks": ""
           }
          },
          "scene": {
           "xaxis": {
            "backgroundcolor": "#E5ECF6",
            "gridcolor": "white",
            "gridwidth": 2,
            "linecolor": "white",
            "showbackground": true,
            "ticks": "",
            "zerolinecolor": "white"
           },
           "yaxis": {
            "backgroundcolor": "#E5ECF6",
            "gridcolor": "white",
            "gridwidth": 2,
            "linecolor": "white",
            "showbackground": true,
            "ticks": "",
            "zerolinecolor": "white"
           },
           "zaxis": {
            "backgroundcolor": "#E5ECF6",
            "gridcolor": "white",
            "gridwidth": 2,
            "linecolor": "white",
            "showbackground": true,
            "ticks": "",
            "zerolinecolor": "white"
           }
          },
          "shapedefaults": {
           "line": {
            "color": "#2a3f5f"
           }
          },
          "ternary": {
           "aaxis": {
            "gridcolor": "white",
            "linecolor": "white",
            "ticks": ""
           },
           "baxis": {
            "gridcolor": "white",
            "linecolor": "white",
            "ticks": ""
           },
           "bgcolor": "#E5ECF6",
           "caxis": {
            "gridcolor": "white",
            "linecolor": "white",
            "ticks": ""
           }
          },
          "title": {
           "x": 0.05
          },
          "xaxis": {
           "automargin": true,
           "gridcolor": "white",
           "linecolor": "white",
           "ticks": "",
           "title": {
            "standoff": 15
           },
           "zerolinecolor": "white",
           "zerolinewidth": 2
          },
          "yaxis": {
           "automargin": true,
           "gridcolor": "white",
           "linecolor": "white",
           "ticks": "",
           "title": {
            "standoff": 15
           },
           "zerolinecolor": "white",
           "zerolinewidth": 2
          }
         }
        },
        "title": {
         "text": "Распределение событий в двух группах по дням"
        },
        "xaxis": {
         "anchor": "y",
         "domain": [
          0,
          1
         ],
         "title": {
          "text": "day"
         }
        },
        "yaxis": {
         "anchor": "x",
         "domain": [
          0,
          1
         ],
         "title": {
          "text": "count"
         }
        }
       }
      },
      "text/html": [
       "<div>                            <div id=\"5e46a41c-95bf-42b0-b8e2-f91f889b2e04\" class=\"plotly-graph-div\" style=\"height:525px; width:100%;\"></div>            <script type=\"text/javascript\">                require([\"plotly\"], function(Plotly) {                    window.PLOTLYENV=window.PLOTLYENV || {};                                    if (document.getElementById(\"5e46a41c-95bf-42b0-b8e2-f91f889b2e04\")) {                    Plotly.newPlot(                        \"5e46a41c-95bf-42b0-b8e2-f91f889b2e04\",                        [{\"alignmentgroup\":\"True\",\"hovertemplate\":\"group=A<br>day=%{x}<br>count=%{y}<extra></extra>\",\"legendgroup\":\"A\",\"marker\":{\"color\":\"#636efa\",\"pattern\":{\"shape\":\"\"}},\"name\":\"A\",\"offsetgroup\":\"A\",\"orientation\":\"v\",\"showlegend\":true,\"textposition\":\"auto\",\"x\":[\"2020-12-21T00:00:00\",\"2020-12-20T00:00:00\",\"2020-12-19T00:00:00\",\"2020-12-18T00:00:00\",\"2020-12-22T00:00:00\",\"2020-12-17T00:00:00\",\"2020-12-15T00:00:00\",\"2020-12-14T00:00:00\",\"2020-12-16T00:00:00\",\"2020-12-23T00:00:00\",\"2020-12-24T00:00:00\",\"2020-12-25T00:00:00\",\"2020-12-26T00:00:00\",\"2020-12-27T00:00:00\",\"2020-12-28T00:00:00\",\"2020-12-09T00:00:00\",\"2020-12-11T00:00:00\",\"2020-12-12T00:00:00\",\"2020-12-10T00:00:00\",\"2020-12-08T00:00:00\",\"2020-12-07T00:00:00\",\"2020-12-13T00:00:00\",\"2020-12-29T00:00:00\"],\"xaxis\":\"x\",\"y\":[1995,1528,1506,1312,1278,1252,1084,1083,1069,988,836,630,569,527,399,385,374,355,350,341,331,328,281],\"yaxis\":\"y\",\"type\":\"bar\"},{\"alignmentgroup\":\"True\",\"hovertemplate\":\"group=B<br>day=%{x}<br>count=%{y}<extra></extra>\",\"legendgroup\":\"B\",\"marker\":{\"color\":\"#EF553B\",\"pattern\":{\"shape\":\"\"}},\"name\":\"B\",\"offsetgroup\":\"B\",\"orientation\":\"v\",\"showlegend\":true,\"textposition\":\"auto\",\"x\":[\"2020-12-21T00:00:00\",\"2020-12-16T00:00:00\",\"2020-12-07T00:00:00\",\"2020-12-09T00:00:00\",\"2020-12-20T00:00:00\",\"2020-12-19T00:00:00\",\"2020-12-17T00:00:00\",\"2020-12-18T00:00:00\",\"2020-12-14T00:00:00\",\"2020-12-10T00:00:00\",\"2020-12-08T00:00:00\",\"2020-12-15T00:00:00\",\"2020-12-12T00:00:00\",\"2020-12-22T00:00:00\",\"2020-12-13T00:00:00\",\"2020-12-11T00:00:00\",\"2020-12-23T00:00:00\",\"2020-12-24T00:00:00\",\"2020-12-25T00:00:00\",\"2020-12-27T00:00:00\",\"2020-12-26T00:00:00\",\"2020-12-28T00:00:00\",\"2020-12-29T00:00:00\"],\"xaxis\":\"x\",\"y\":[404,385,378,361,320,304,296,272,272,263,252,232,203,179,176,168,151,124,75,70,66,64,40],\"yaxis\":\"y\",\"type\":\"bar\"}],                        {\"template\":{\"data\":{\"bar\":[{\"error_x\":{\"color\":\"#2a3f5f\"},\"error_y\":{\"color\":\"#2a3f5f\"},\"marker\":{\"line\":{\"color\":\"#E5ECF6\",\"width\":0.5},\"pattern\":{\"fillmode\":\"overlay\",\"size\":10,\"solidity\":0.2}},\"type\":\"bar\"}],\"barpolar\":[{\"marker\":{\"line\":{\"color\":\"#E5ECF6\",\"width\":0.5},\"pattern\":{\"fillmode\":\"overlay\",\"size\":10,\"solidity\":0.2}},\"type\":\"barpolar\"}],\"carpet\":[{\"aaxis\":{\"endlinecolor\":\"#2a3f5f\",\"gridcolor\":\"white\",\"linecolor\":\"white\",\"minorgridcolor\":\"white\",\"startlinecolor\":\"#2a3f5f\"},\"baxis\":{\"endlinecolor\":\"#2a3f5f\",\"gridcolor\":\"white\",\"linecolor\":\"white\",\"minorgridcolor\":\"white\",\"startlinecolor\":\"#2a3f5f\"},\"type\":\"carpet\"}],\"choropleth\":[{\"colorbar\":{\"outlinewidth\":0,\"ticks\":\"\"},\"type\":\"choropleth\"}],\"contour\":[{\"colorbar\":{\"outlinewidth\":0,\"ticks\":\"\"},\"colorscale\":[[0.0,\"#0d0887\"],[0.1111111111111111,\"#46039f\"],[0.2222222222222222,\"#7201a8\"],[0.3333333333333333,\"#9c179e\"],[0.4444444444444444,\"#bd3786\"],[0.5555555555555556,\"#d8576b\"],[0.6666666666666666,\"#ed7953\"],[0.7777777777777778,\"#fb9f3a\"],[0.8888888888888888,\"#fdca26\"],[1.0,\"#f0f921\"]],\"type\":\"contour\"}],\"contourcarpet\":[{\"colorbar\":{\"outlinewidth\":0,\"ticks\":\"\"},\"type\":\"contourcarpet\"}],\"heatmap\":[{\"colorbar\":{\"outlinewidth\":0,\"ticks\":\"\"},\"colorscale\":[[0.0,\"#0d0887\"],[0.1111111111111111,\"#46039f\"],[0.2222222222222222,\"#7201a8\"],[0.3333333333333333,\"#9c179e\"],[0.4444444444444444,\"#bd3786\"],[0.5555555555555556,\"#d8576b\"],[0.6666666666666666,\"#ed7953\"],[0.7777777777777778,\"#fb9f3a\"],[0.8888888888888888,\"#fdca26\"],[1.0,\"#f0f921\"]],\"type\":\"heatmap\"}],\"heatmapgl\":[{\"colorbar\":{\"outlinewidth\":0,\"ticks\":\"\"},\"colorscale\":[[0.0,\"#0d0887\"],[0.1111111111111111,\"#46039f\"],[0.2222222222222222,\"#7201a8\"],[0.3333333333333333,\"#9c179e\"],[0.4444444444444444,\"#bd3786\"],[0.5555555555555556,\"#d8576b\"],[0.6666666666666666,\"#ed7953\"],[0.7777777777777778,\"#fb9f3a\"],[0.8888888888888888,\"#fdca26\"],[1.0,\"#f0f921\"]],\"type\":\"heatmapgl\"}],\"histogram\":[{\"marker\":{\"pattern\":{\"fillmode\":\"overlay\",\"size\":10,\"solidity\":0.2}},\"type\":\"histogram\"}],\"histogram2d\":[{\"colorbar\":{\"outlinewidth\":0,\"ticks\":\"\"},\"colorscale\":[[0.0,\"#0d0887\"],[0.1111111111111111,\"#46039f\"],[0.2222222222222222,\"#7201a8\"],[0.3333333333333333,\"#9c179e\"],[0.4444444444444444,\"#bd3786\"],[0.5555555555555556,\"#d8576b\"],[0.6666666666666666,\"#ed7953\"],[0.7777777777777778,\"#fb9f3a\"],[0.8888888888888888,\"#fdca26\"],[1.0,\"#f0f921\"]],\"type\":\"histogram2d\"}],\"histogram2dcontour\":[{\"colorbar\":{\"outlinewidth\":0,\"ticks\":\"\"},\"colorscale\":[[0.0,\"#0d0887\"],[0.1111111111111111,\"#46039f\"],[0.2222222222222222,\"#7201a8\"],[0.3333333333333333,\"#9c179e\"],[0.4444444444444444,\"#bd3786\"],[0.5555555555555556,\"#d8576b\"],[0.6666666666666666,\"#ed7953\"],[0.7777777777777778,\"#fb9f3a\"],[0.8888888888888888,\"#fdca26\"],[1.0,\"#f0f921\"]],\"type\":\"histogram2dcontour\"}],\"mesh3d\":[{\"colorbar\":{\"outlinewidth\":0,\"ticks\":\"\"},\"type\":\"mesh3d\"}],\"parcoords\":[{\"line\":{\"colorbar\":{\"outlinewidth\":0,\"ticks\":\"\"}},\"type\":\"parcoords\"}],\"pie\":[{\"automargin\":true,\"type\":\"pie\"}],\"scatter\":[{\"marker\":{\"colorbar\":{\"outlinewidth\":0,\"ticks\":\"\"}},\"type\":\"scatter\"}],\"scatter3d\":[{\"line\":{\"colorbar\":{\"outlinewidth\":0,\"ticks\":\"\"}},\"marker\":{\"colorbar\":{\"outlinewidth\":0,\"ticks\":\"\"}},\"type\":\"scatter3d\"}],\"scattercarpet\":[{\"marker\":{\"colorbar\":{\"outlinewidth\":0,\"ticks\":\"\"}},\"type\":\"scattercarpet\"}],\"scattergeo\":[{\"marker\":{\"colorbar\":{\"outlinewidth\":0,\"ticks\":\"\"}},\"type\":\"scattergeo\"}],\"scattergl\":[{\"marker\":{\"colorbar\":{\"outlinewidth\":0,\"ticks\":\"\"}},\"type\":\"scattergl\"}],\"scattermapbox\":[{\"marker\":{\"colorbar\":{\"outlinewidth\":0,\"ticks\":\"\"}},\"type\":\"scattermapbox\"}],\"scatterpolar\":[{\"marker\":{\"colorbar\":{\"outlinewidth\":0,\"ticks\":\"\"}},\"type\":\"scatterpolar\"}],\"scatterpolargl\":[{\"marker\":{\"colorbar\":{\"outlinewidth\":0,\"ticks\":\"\"}},\"type\":\"scatterpolargl\"}],\"scatterternary\":[{\"marker\":{\"colorbar\":{\"outlinewidth\":0,\"ticks\":\"\"}},\"type\":\"scatterternary\"}],\"surface\":[{\"colorbar\":{\"outlinewidth\":0,\"ticks\":\"\"},\"colorscale\":[[0.0,\"#0d0887\"],[0.1111111111111111,\"#46039f\"],[0.2222222222222222,\"#7201a8\"],[0.3333333333333333,\"#9c179e\"],[0.4444444444444444,\"#bd3786\"],[0.5555555555555556,\"#d8576b\"],[0.6666666666666666,\"#ed7953\"],[0.7777777777777778,\"#fb9f3a\"],[0.8888888888888888,\"#fdca26\"],[1.0,\"#f0f921\"]],\"type\":\"surface\"}],\"table\":[{\"cells\":{\"fill\":{\"color\":\"#EBF0F8\"},\"line\":{\"color\":\"white\"}},\"header\":{\"fill\":{\"color\":\"#C8D4E3\"},\"line\":{\"color\":\"white\"}},\"type\":\"table\"}]},\"layout\":{\"annotationdefaults\":{\"arrowcolor\":\"#2a3f5f\",\"arrowhead\":0,\"arrowwidth\":1},\"autotypenumbers\":\"strict\",\"coloraxis\":{\"colorbar\":{\"outlinewidth\":0,\"ticks\":\"\"}},\"colorscale\":{\"diverging\":[[0,\"#8e0152\"],[0.1,\"#c51b7d\"],[0.2,\"#de77ae\"],[0.3,\"#f1b6da\"],[0.4,\"#fde0ef\"],[0.5,\"#f7f7f7\"],[0.6,\"#e6f5d0\"],[0.7,\"#b8e186\"],[0.8,\"#7fbc41\"],[0.9,\"#4d9221\"],[1,\"#276419\"]],\"sequential\":[[0.0,\"#0d0887\"],[0.1111111111111111,\"#46039f\"],[0.2222222222222222,\"#7201a8\"],[0.3333333333333333,\"#9c179e\"],[0.4444444444444444,\"#bd3786\"],[0.5555555555555556,\"#d8576b\"],[0.6666666666666666,\"#ed7953\"],[0.7777777777777778,\"#fb9f3a\"],[0.8888888888888888,\"#fdca26\"],[1.0,\"#f0f921\"]],\"sequentialminus\":[[0.0,\"#0d0887\"],[0.1111111111111111,\"#46039f\"],[0.2222222222222222,\"#7201a8\"],[0.3333333333333333,\"#9c179e\"],[0.4444444444444444,\"#bd3786\"],[0.5555555555555556,\"#d8576b\"],[0.6666666666666666,\"#ed7953\"],[0.7777777777777778,\"#fb9f3a\"],[0.8888888888888888,\"#fdca26\"],[1.0,\"#f0f921\"]]},\"colorway\":[\"#636efa\",\"#EF553B\",\"#00cc96\",\"#ab63fa\",\"#FFA15A\",\"#19d3f3\",\"#FF6692\",\"#B6E880\",\"#FF97FF\",\"#FECB52\"],\"font\":{\"color\":\"#2a3f5f\"},\"geo\":{\"bgcolor\":\"white\",\"lakecolor\":\"white\",\"landcolor\":\"#E5ECF6\",\"showlakes\":true,\"showland\":true,\"subunitcolor\":\"white\"},\"hoverlabel\":{\"align\":\"left\"},\"hovermode\":\"closest\",\"mapbox\":{\"style\":\"light\"},\"paper_bgcolor\":\"white\",\"plot_bgcolor\":\"#E5ECF6\",\"polar\":{\"angularaxis\":{\"gridcolor\":\"white\",\"linecolor\":\"white\",\"ticks\":\"\"},\"bgcolor\":\"#E5ECF6\",\"radialaxis\":{\"gridcolor\":\"white\",\"linecolor\":\"white\",\"ticks\":\"\"}},\"scene\":{\"xaxis\":{\"backgroundcolor\":\"#E5ECF6\",\"gridcolor\":\"white\",\"gridwidth\":2,\"linecolor\":\"white\",\"showbackground\":true,\"ticks\":\"\",\"zerolinecolor\":\"white\"},\"yaxis\":{\"backgroundcolor\":\"#E5ECF6\",\"gridcolor\":\"white\",\"gridwidth\":2,\"linecolor\":\"white\",\"showbackground\":true,\"ticks\":\"\",\"zerolinecolor\":\"white\"},\"zaxis\":{\"backgroundcolor\":\"#E5ECF6\",\"gridcolor\":\"white\",\"gridwidth\":2,\"linecolor\":\"white\",\"showbackground\":true,\"ticks\":\"\",\"zerolinecolor\":\"white\"}},\"shapedefaults\":{\"line\":{\"color\":\"#2a3f5f\"}},\"ternary\":{\"aaxis\":{\"gridcolor\":\"white\",\"linecolor\":\"white\",\"ticks\":\"\"},\"baxis\":{\"gridcolor\":\"white\",\"linecolor\":\"white\",\"ticks\":\"\"},\"bgcolor\":\"#E5ECF6\",\"caxis\":{\"gridcolor\":\"white\",\"linecolor\":\"white\",\"ticks\":\"\"}},\"title\":{\"x\":0.05},\"xaxis\":{\"automargin\":true,\"gridcolor\":\"white\",\"linecolor\":\"white\",\"ticks\":\"\",\"title\":{\"standoff\":15},\"zerolinecolor\":\"white\",\"zerolinewidth\":2},\"yaxis\":{\"automargin\":true,\"gridcolor\":\"white\",\"linecolor\":\"white\",\"ticks\":\"\",\"title\":{\"standoff\":15},\"zerolinecolor\":\"white\",\"zerolinewidth\":2}}},\"xaxis\":{\"anchor\":\"y\",\"domain\":[0.0,1.0],\"title\":{\"text\":\"day\"}},\"yaxis\":{\"anchor\":\"x\",\"domain\":[0.0,1.0],\"title\":{\"text\":\"count\"}},\"legend\":{\"title\":{\"text\":\"group\"},\"tracegroupgap\":0},\"title\":{\"text\":\"\\u0420\\u0430\\u0441\\u043f\\u0440\\u0435\\u0434\\u0435\\u043b\\u0435\\u043d\\u0438\\u0435 \\u0441\\u043e\\u0431\\u044b\\u0442\\u0438\\u0439 \\u0432 \\u0434\\u0432\\u0443\\u0445 \\u0433\\u0440\\u0443\\u043f\\u043f\\u0430\\u0445 \\u043f\\u043e \\u0434\\u043d\\u044f\\u043c\"},\"barmode\":\"relative\"},                        {\"responsive\": true}                    ).then(function(){\n",
       "                            \n",
       "var gd = document.getElementById('5e46a41c-95bf-42b0-b8e2-f91f889b2e04');\n",
       "var x = new MutationObserver(function (mutations, observer) {{\n",
       "        var display = window.getComputedStyle(gd).display;\n",
       "        if (!display || display === 'none') {{\n",
       "            console.log([gd, 'removed!']);\n",
       "            Plotly.purge(gd);\n",
       "            observer.disconnect();\n",
       "        }}\n",
       "}});\n",
       "\n",
       "// Listen for the removal of the full notebook cells\n",
       "var notebookContainer = gd.closest('#notebook-container');\n",
       "if (notebookContainer) {{\n",
       "    x.observe(notebookContainer, {childList: true});\n",
       "}}\n",
       "\n",
       "// Listen for the clearing of the current output cell\n",
       "var outputEl = gd.closest('.output');\n",
       "if (outputEl) {{\n",
       "    x.observe(outputEl, {childList: true});\n",
       "}}\n",
       "\n",
       "                        })                };                });            </script>        </div>"
      ]
     },
     "metadata": {},
     "output_type": "display_data"
    }
   ],
   "source": [
    "day_events=final_df \\\n",
    "    .groupby(['day','group'])['event_name'] \\\n",
    "    .count() \\\n",
    "    .to_frame() \\\n",
    "    .sort_values('event_name', ascending=False) \\\n",
    "    .reset_index() \\\n",
    "    .rename(columns={'event_name':'count'})\n",
    "\n",
    "fig = px.bar(\n",
    "    day_events,\n",
    "    x='day',\n",
    "    y='count',\n",
    "    color='group',\n",
    "    title='Распределение событий в двух группах по дням',\n",
    ")\n",
    "fig.update_xaxes()\n",
    "fig.show()"
   ]
  },
  {
   "cell_type": "markdown",
   "metadata": {},
   "source": [
    "По графику можно заметить, что 21.12.2020 было совершено больше всего событий ,в группе А -2011,в группе В -430.Также видим, что после 21.12.2020 кол-во событий снижается.\n",
    "\n",
    "Меньше всего событий было совершено 13.12.2020 в группе А -328,в группе В -176."
   ]
  },
  {
   "cell_type": "markdown",
   "metadata": {},
   "source": [
    "####  Как меняется конверсия в воронке в выборках на разных этапах."
   ]
  },
  {
   "cell_type": "code",
   "execution_count": 99,
   "metadata": {},
   "outputs": [
    {
     "data": {
      "text/html": [
       "<div>\n",
       "<style scoped>\n",
       "    .dataframe tbody tr th:only-of-type {\n",
       "        vertical-align: middle;\n",
       "    }\n",
       "\n",
       "    .dataframe tbody tr th {\n",
       "        vertical-align: top;\n",
       "    }\n",
       "\n",
       "    .dataframe thead th {\n",
       "        text-align: right;\n",
       "    }\n",
       "</style>\n",
       "<table border=\"1\" class=\"dataframe\">\n",
       "  <thead>\n",
       "    <tr style=\"text-align: right;\">\n",
       "      <th></th>\n",
       "      <th>user_id</th>\n",
       "      <th>group</th>\n",
       "      <th>ab_test</th>\n",
       "      <th>event_dt</th>\n",
       "      <th>event_name</th>\n",
       "      <th>details</th>\n",
       "      <th>first_date</th>\n",
       "      <th>region</th>\n",
       "      <th>device</th>\n",
       "      <th>day</th>\n",
       "      <th>lifetime</th>\n",
       "    </tr>\n",
       "  </thead>\n",
       "  <tbody>\n",
       "    <tr>\n",
       "      <th>0</th>\n",
       "      <td>D1ABA3E2887B6A73</td>\n",
       "      <td>A</td>\n",
       "      <td>recommender_system_test</td>\n",
       "      <td>2020-12-07 14:43:27</td>\n",
       "      <td>purchase</td>\n",
       "      <td>99.99</td>\n",
       "      <td>2020-12-07</td>\n",
       "      <td>EU</td>\n",
       "      <td>PC</td>\n",
       "      <td>2020-12-07</td>\n",
       "      <td>0 days</td>\n",
       "    </tr>\n",
       "    <tr>\n",
       "      <th>2</th>\n",
       "      <td>D1ABA3E2887B6A73</td>\n",
       "      <td>A</td>\n",
       "      <td>recommender_system_test</td>\n",
       "      <td>2020-12-07 14:43:29</td>\n",
       "      <td>product_cart</td>\n",
       "      <td>NaN</td>\n",
       "      <td>2020-12-07</td>\n",
       "      <td>EU</td>\n",
       "      <td>PC</td>\n",
       "      <td>2020-12-07</td>\n",
       "      <td>0 days</td>\n",
       "    </tr>\n",
       "    <tr>\n",
       "      <th>4</th>\n",
       "      <td>D1ABA3E2887B6A73</td>\n",
       "      <td>A</td>\n",
       "      <td>recommender_system_test</td>\n",
       "      <td>2020-12-07 14:43:27</td>\n",
       "      <td>product_page</td>\n",
       "      <td>NaN</td>\n",
       "      <td>2020-12-07</td>\n",
       "      <td>EU</td>\n",
       "      <td>PC</td>\n",
       "      <td>2020-12-07</td>\n",
       "      <td>0 days</td>\n",
       "    </tr>\n",
       "    <tr>\n",
       "      <th>6</th>\n",
       "      <td>D1ABA3E2887B6A73</td>\n",
       "      <td>A</td>\n",
       "      <td>recommender_system_test</td>\n",
       "      <td>2020-12-07 14:43:27</td>\n",
       "      <td>login</td>\n",
       "      <td>NaN</td>\n",
       "      <td>2020-12-07</td>\n",
       "      <td>EU</td>\n",
       "      <td>PC</td>\n",
       "      <td>2020-12-07</td>\n",
       "      <td>0 days</td>\n",
       "    </tr>\n",
       "    <tr>\n",
       "      <th>8</th>\n",
       "      <td>A7A3664BD6242119</td>\n",
       "      <td>A</td>\n",
       "      <td>recommender_system_test</td>\n",
       "      <td>2020-12-20 15:46:06</td>\n",
       "      <td>product_page</td>\n",
       "      <td>NaN</td>\n",
       "      <td>2020-12-20</td>\n",
       "      <td>EU</td>\n",
       "      <td>iPhone</td>\n",
       "      <td>2020-12-20</td>\n",
       "      <td>0 days</td>\n",
       "    </tr>\n",
       "    <tr>\n",
       "      <th>...</th>\n",
       "      <td>...</td>\n",
       "      <td>...</td>\n",
       "      <td>...</td>\n",
       "      <td>...</td>\n",
       "      <td>...</td>\n",
       "      <td>...</td>\n",
       "      <td>...</td>\n",
       "      <td>...</td>\n",
       "      <td>...</td>\n",
       "      <td>...</td>\n",
       "      <td>...</td>\n",
       "    </tr>\n",
       "    <tr>\n",
       "      <th>27719</th>\n",
       "      <td>6715343AFBA285AE</td>\n",
       "      <td>B</td>\n",
       "      <td>recommender_system_test</td>\n",
       "      <td>2020-12-07 10:12:15</td>\n",
       "      <td>login</td>\n",
       "      <td>NaN</td>\n",
       "      <td>2020-12-07</td>\n",
       "      <td>CIS</td>\n",
       "      <td>Android</td>\n",
       "      <td>2020-12-07</td>\n",
       "      <td>0 days</td>\n",
       "    </tr>\n",
       "    <tr>\n",
       "      <th>27720</th>\n",
       "      <td>6715343AFBA285AE</td>\n",
       "      <td>B</td>\n",
       "      <td>recommender_system_test</td>\n",
       "      <td>2020-12-08 22:51:16</td>\n",
       "      <td>login</td>\n",
       "      <td>NaN</td>\n",
       "      <td>2020-12-07</td>\n",
       "      <td>CIS</td>\n",
       "      <td>Android</td>\n",
       "      <td>2020-12-08</td>\n",
       "      <td>1 days</td>\n",
       "    </tr>\n",
       "    <tr>\n",
       "      <th>27721</th>\n",
       "      <td>6715343AFBA285AE</td>\n",
       "      <td>B</td>\n",
       "      <td>recommender_system_test</td>\n",
       "      <td>2020-12-09 02:28:03</td>\n",
       "      <td>login</td>\n",
       "      <td>NaN</td>\n",
       "      <td>2020-12-07</td>\n",
       "      <td>CIS</td>\n",
       "      <td>Android</td>\n",
       "      <td>2020-12-09</td>\n",
       "      <td>2 days</td>\n",
       "    </tr>\n",
       "    <tr>\n",
       "      <th>27722</th>\n",
       "      <td>6715343AFBA285AE</td>\n",
       "      <td>B</td>\n",
       "      <td>recommender_system_test</td>\n",
       "      <td>2020-12-10 22:55:14</td>\n",
       "      <td>login</td>\n",
       "      <td>NaN</td>\n",
       "      <td>2020-12-07</td>\n",
       "      <td>CIS</td>\n",
       "      <td>Android</td>\n",
       "      <td>2020-12-10</td>\n",
       "      <td>3 days</td>\n",
       "    </tr>\n",
       "    <tr>\n",
       "      <th>27723</th>\n",
       "      <td>6715343AFBA285AE</td>\n",
       "      <td>B</td>\n",
       "      <td>recommender_system_test</td>\n",
       "      <td>2020-12-14 12:40:41</td>\n",
       "      <td>login</td>\n",
       "      <td>NaN</td>\n",
       "      <td>2020-12-07</td>\n",
       "      <td>CIS</td>\n",
       "      <td>Android</td>\n",
       "      <td>2020-12-14</td>\n",
       "      <td>7 days</td>\n",
       "    </tr>\n",
       "  </tbody>\n",
       "</table>\n",
       "<p>23856 rows × 11 columns</p>\n",
       "</div>"
      ],
      "text/plain": [
       "                user_id group                  ab_test             event_dt  \\\n",
       "0      D1ABA3E2887B6A73  A     recommender_system_test  2020-12-07 14:43:27   \n",
       "2      D1ABA3E2887B6A73  A     recommender_system_test  2020-12-07 14:43:29   \n",
       "4      D1ABA3E2887B6A73  A     recommender_system_test  2020-12-07 14:43:27   \n",
       "6      D1ABA3E2887B6A73  A     recommender_system_test  2020-12-07 14:43:27   \n",
       "8      A7A3664BD6242119  A     recommender_system_test  2020-12-20 15:46:06   \n",
       "...                 ... ..                         ...                  ...   \n",
       "27719  6715343AFBA285AE  B     recommender_system_test  2020-12-07 10:12:15   \n",
       "27720  6715343AFBA285AE  B     recommender_system_test  2020-12-08 22:51:16   \n",
       "27721  6715343AFBA285AE  B     recommender_system_test  2020-12-09 02:28:03   \n",
       "27722  6715343AFBA285AE  B     recommender_system_test  2020-12-10 22:55:14   \n",
       "27723  6715343AFBA285AE  B     recommender_system_test  2020-12-14 12:40:41   \n",
       "\n",
       "         event_name  details first_date region   device        day lifetime  \n",
       "0      purchase      99.99   2020-12-07  EU     PC      2020-12-07 0 days    \n",
       "2      product_cart NaN      2020-12-07  EU     PC      2020-12-07 0 days    \n",
       "4      product_page NaN      2020-12-07  EU     PC      2020-12-07 0 days    \n",
       "6      login        NaN      2020-12-07  EU     PC      2020-12-07 0 days    \n",
       "8      product_page NaN      2020-12-20  EU     iPhone  2020-12-20 0 days    \n",
       "...             ...  ..             ...  ..        ...         ...    ...    \n",
       "27719  login        NaN      2020-12-07  CIS    Android 2020-12-07 0 days    \n",
       "27720  login        NaN      2020-12-07  CIS    Android 2020-12-08 1 days    \n",
       "27721  login        NaN      2020-12-07  CIS    Android 2020-12-09 2 days    \n",
       "27722  login        NaN      2020-12-07  CIS    Android 2020-12-10 3 days    \n",
       "27723  login        NaN      2020-12-07  CIS    Android 2020-12-14 7 days    \n",
       "\n",
       "[23856 rows x 11 columns]"
      ]
     },
     "execution_count": 99,
     "metadata": {},
     "output_type": "execute_result"
    }
   ],
   "source": [
    "final_df"
   ]
  },
  {
   "cell_type": "code",
   "execution_count": 100,
   "metadata": {},
   "outputs": [
    {
     "data": {
      "text/plain": [
       "login           10794\n",
       "product_page    6684 \n",
       "purchase        3232 \n",
       "product_cart    3146 \n",
       "Name: event_name, dtype: int64"
      ]
     },
     "execution_count": 100,
     "metadata": {},
     "output_type": "execute_result"
    }
   ],
   "source": [
    "final_df['event_name'].value_counts()"
   ]
  },
  {
   "cell_type": "code",
   "execution_count": 101,
   "metadata": {},
   "outputs": [],
   "source": [
    "#создадим сводные таблицы по двум группам и посчитаем кол-во уникальных пользователей на каждом шаге\n",
    "group_A=final_df \\\n",
    "    .query('group==\"A\"') \\\n",
    "    .groupby(['event_name'])['user_id'] \\\n",
    "    .nunique() \\\n",
    "    .to_frame() \\\n",
    "    .sort_values('user_id', ascending=False) \\\n",
    "    .reset_index() \\\n",
    "    .rename(columns={'user_id':'count'})\n",
    "\n",
    "group_B=final_df \\\n",
    "    .query('group==\"B\"') \\\n",
    "    .groupby(['event_name'])['user_id'] \\\n",
    "    .nunique() \\\n",
    "    .to_frame() \\\n",
    "    .sort_values('user_id', ascending=False) \\\n",
    "    .reset_index() \\\n",
    "    .rename(columns={'user_id':'count'})"
   ]
  },
  {
   "cell_type": "code",
   "execution_count": 102,
   "metadata": {},
   "outputs": [
    {
     "data": {
      "application/vnd.plotly.v1+json": {
       "config": {
        "plotlyServerURL": "https://plot.ly"
       },
       "data": [
        {
         "name": "Group A",
         "textinfo": "value+percent previous+percent initial",
         "type": "funnel",
         "x": [
          2747,
          1780,
          872,
          824
         ],
         "y": [
          "login",
          "product_page",
          "product_cart",
          "purchase"
         ]
        },
        {
         "name": "Group B",
         "textinfo": "value+percent previous+percent initial",
         "type": "funnel",
         "x": [
          927,
          523,
          256,
          255
         ],
         "y": [
          "login",
          "product_page",
          "product_cart",
          "purchase"
         ]
        }
       ],
       "layout": {
        "template": {
         "data": {
          "bar": [
           {
            "error_x": {
             "color": "#2a3f5f"
            },
            "error_y": {
             "color": "#2a3f5f"
            },
            "marker": {
             "line": {
              "color": "#E5ECF6",
              "width": 0.5
             },
             "pattern": {
              "fillmode": "overlay",
              "size": 10,
              "solidity": 0.2
             }
            },
            "type": "bar"
           }
          ],
          "barpolar": [
           {
            "marker": {
             "line": {
              "color": "#E5ECF6",
              "width": 0.5
             },
             "pattern": {
              "fillmode": "overlay",
              "size": 10,
              "solidity": 0.2
             }
            },
            "type": "barpolar"
           }
          ],
          "carpet": [
           {
            "aaxis": {
             "endlinecolor": "#2a3f5f",
             "gridcolor": "white",
             "linecolor": "white",
             "minorgridcolor": "white",
             "startlinecolor": "#2a3f5f"
            },
            "baxis": {
             "endlinecolor": "#2a3f5f",
             "gridcolor": "white",
             "linecolor": "white",
             "minorgridcolor": "white",
             "startlinecolor": "#2a3f5f"
            },
            "type": "carpet"
           }
          ],
          "choropleth": [
           {
            "colorbar": {
             "outlinewidth": 0,
             "ticks": ""
            },
            "type": "choropleth"
           }
          ],
          "contour": [
           {
            "colorbar": {
             "outlinewidth": 0,
             "ticks": ""
            },
            "colorscale": [
             [
              0,
              "#0d0887"
             ],
             [
              0.1111111111111111,
              "#46039f"
             ],
             [
              0.2222222222222222,
              "#7201a8"
             ],
             [
              0.3333333333333333,
              "#9c179e"
             ],
             [
              0.4444444444444444,
              "#bd3786"
             ],
             [
              0.5555555555555556,
              "#d8576b"
             ],
             [
              0.6666666666666666,
              "#ed7953"
             ],
             [
              0.7777777777777778,
              "#fb9f3a"
             ],
             [
              0.8888888888888888,
              "#fdca26"
             ],
             [
              1,
              "#f0f921"
             ]
            ],
            "type": "contour"
           }
          ],
          "contourcarpet": [
           {
            "colorbar": {
             "outlinewidth": 0,
             "ticks": ""
            },
            "type": "contourcarpet"
           }
          ],
          "heatmap": [
           {
            "colorbar": {
             "outlinewidth": 0,
             "ticks": ""
            },
            "colorscale": [
             [
              0,
              "#0d0887"
             ],
             [
              0.1111111111111111,
              "#46039f"
             ],
             [
              0.2222222222222222,
              "#7201a8"
             ],
             [
              0.3333333333333333,
              "#9c179e"
             ],
             [
              0.4444444444444444,
              "#bd3786"
             ],
             [
              0.5555555555555556,
              "#d8576b"
             ],
             [
              0.6666666666666666,
              "#ed7953"
             ],
             [
              0.7777777777777778,
              "#fb9f3a"
             ],
             [
              0.8888888888888888,
              "#fdca26"
             ],
             [
              1,
              "#f0f921"
             ]
            ],
            "type": "heatmap"
           }
          ],
          "heatmapgl": [
           {
            "colorbar": {
             "outlinewidth": 0,
             "ticks": ""
            },
            "colorscale": [
             [
              0,
              "#0d0887"
             ],
             [
              0.1111111111111111,
              "#46039f"
             ],
             [
              0.2222222222222222,
              "#7201a8"
             ],
             [
              0.3333333333333333,
              "#9c179e"
             ],
             [
              0.4444444444444444,
              "#bd3786"
             ],
             [
              0.5555555555555556,
              "#d8576b"
             ],
             [
              0.6666666666666666,
              "#ed7953"
             ],
             [
              0.7777777777777778,
              "#fb9f3a"
             ],
             [
              0.8888888888888888,
              "#fdca26"
             ],
             [
              1,
              "#f0f921"
             ]
            ],
            "type": "heatmapgl"
           }
          ],
          "histogram": [
           {
            "marker": {
             "pattern": {
              "fillmode": "overlay",
              "size": 10,
              "solidity": 0.2
             }
            },
            "type": "histogram"
           }
          ],
          "histogram2d": [
           {
            "colorbar": {
             "outlinewidth": 0,
             "ticks": ""
            },
            "colorscale": [
             [
              0,
              "#0d0887"
             ],
             [
              0.1111111111111111,
              "#46039f"
             ],
             [
              0.2222222222222222,
              "#7201a8"
             ],
             [
              0.3333333333333333,
              "#9c179e"
             ],
             [
              0.4444444444444444,
              "#bd3786"
             ],
             [
              0.5555555555555556,
              "#d8576b"
             ],
             [
              0.6666666666666666,
              "#ed7953"
             ],
             [
              0.7777777777777778,
              "#fb9f3a"
             ],
             [
              0.8888888888888888,
              "#fdca26"
             ],
             [
              1,
              "#f0f921"
             ]
            ],
            "type": "histogram2d"
           }
          ],
          "histogram2dcontour": [
           {
            "colorbar": {
             "outlinewidth": 0,
             "ticks": ""
            },
            "colorscale": [
             [
              0,
              "#0d0887"
             ],
             [
              0.1111111111111111,
              "#46039f"
             ],
             [
              0.2222222222222222,
              "#7201a8"
             ],
             [
              0.3333333333333333,
              "#9c179e"
             ],
             [
              0.4444444444444444,
              "#bd3786"
             ],
             [
              0.5555555555555556,
              "#d8576b"
             ],
             [
              0.6666666666666666,
              "#ed7953"
             ],
             [
              0.7777777777777778,
              "#fb9f3a"
             ],
             [
              0.8888888888888888,
              "#fdca26"
             ],
             [
              1,
              "#f0f921"
             ]
            ],
            "type": "histogram2dcontour"
           }
          ],
          "mesh3d": [
           {
            "colorbar": {
             "outlinewidth": 0,
             "ticks": ""
            },
            "type": "mesh3d"
           }
          ],
          "parcoords": [
           {
            "line": {
             "colorbar": {
              "outlinewidth": 0,
              "ticks": ""
             }
            },
            "type": "parcoords"
           }
          ],
          "pie": [
           {
            "automargin": true,
            "type": "pie"
           }
          ],
          "scatter": [
           {
            "marker": {
             "colorbar": {
              "outlinewidth": 0,
              "ticks": ""
             }
            },
            "type": "scatter"
           }
          ],
          "scatter3d": [
           {
            "line": {
             "colorbar": {
              "outlinewidth": 0,
              "ticks": ""
             }
            },
            "marker": {
             "colorbar": {
              "outlinewidth": 0,
              "ticks": ""
             }
            },
            "type": "scatter3d"
           }
          ],
          "scattercarpet": [
           {
            "marker": {
             "colorbar": {
              "outlinewidth": 0,
              "ticks": ""
             }
            },
            "type": "scattercarpet"
           }
          ],
          "scattergeo": [
           {
            "marker": {
             "colorbar": {
              "outlinewidth": 0,
              "ticks": ""
             }
            },
            "type": "scattergeo"
           }
          ],
          "scattergl": [
           {
            "marker": {
             "colorbar": {
              "outlinewidth": 0,
              "ticks": ""
             }
            },
            "type": "scattergl"
           }
          ],
          "scattermapbox": [
           {
            "marker": {
             "colorbar": {
              "outlinewidth": 0,
              "ticks": ""
             }
            },
            "type": "scattermapbox"
           }
          ],
          "scatterpolar": [
           {
            "marker": {
             "colorbar": {
              "outlinewidth": 0,
              "ticks": ""
             }
            },
            "type": "scatterpolar"
           }
          ],
          "scatterpolargl": [
           {
            "marker": {
             "colorbar": {
              "outlinewidth": 0,
              "ticks": ""
             }
            },
            "type": "scatterpolargl"
           }
          ],
          "scatterternary": [
           {
            "marker": {
             "colorbar": {
              "outlinewidth": 0,
              "ticks": ""
             }
            },
            "type": "scatterternary"
           }
          ],
          "surface": [
           {
            "colorbar": {
             "outlinewidth": 0,
             "ticks": ""
            },
            "colorscale": [
             [
              0,
              "#0d0887"
             ],
             [
              0.1111111111111111,
              "#46039f"
             ],
             [
              0.2222222222222222,
              "#7201a8"
             ],
             [
              0.3333333333333333,
              "#9c179e"
             ],
             [
              0.4444444444444444,
              "#bd3786"
             ],
             [
              0.5555555555555556,
              "#d8576b"
             ],
             [
              0.6666666666666666,
              "#ed7953"
             ],
             [
              0.7777777777777778,
              "#fb9f3a"
             ],
             [
              0.8888888888888888,
              "#fdca26"
             ],
             [
              1,
              "#f0f921"
             ]
            ],
            "type": "surface"
           }
          ],
          "table": [
           {
            "cells": {
             "fill": {
              "color": "#EBF0F8"
             },
             "line": {
              "color": "white"
             }
            },
            "header": {
             "fill": {
              "color": "#C8D4E3"
             },
             "line": {
              "color": "white"
             }
            },
            "type": "table"
           }
          ]
         },
         "layout": {
          "annotationdefaults": {
           "arrowcolor": "#2a3f5f",
           "arrowhead": 0,
           "arrowwidth": 1
          },
          "autotypenumbers": "strict",
          "coloraxis": {
           "colorbar": {
            "outlinewidth": 0,
            "ticks": ""
           }
          },
          "colorscale": {
           "diverging": [
            [
             0,
             "#8e0152"
            ],
            [
             0.1,
             "#c51b7d"
            ],
            [
             0.2,
             "#de77ae"
            ],
            [
             0.3,
             "#f1b6da"
            ],
            [
             0.4,
             "#fde0ef"
            ],
            [
             0.5,
             "#f7f7f7"
            ],
            [
             0.6,
             "#e6f5d0"
            ],
            [
             0.7,
             "#b8e186"
            ],
            [
             0.8,
             "#7fbc41"
            ],
            [
             0.9,
             "#4d9221"
            ],
            [
             1,
             "#276419"
            ]
           ],
           "sequential": [
            [
             0,
             "#0d0887"
            ],
            [
             0.1111111111111111,
             "#46039f"
            ],
            [
             0.2222222222222222,
             "#7201a8"
            ],
            [
             0.3333333333333333,
             "#9c179e"
            ],
            [
             0.4444444444444444,
             "#bd3786"
            ],
            [
             0.5555555555555556,
             "#d8576b"
            ],
            [
             0.6666666666666666,
             "#ed7953"
            ],
            [
             0.7777777777777778,
             "#fb9f3a"
            ],
            [
             0.8888888888888888,
             "#fdca26"
            ],
            [
             1,
             "#f0f921"
            ]
           ],
           "sequentialminus": [
            [
             0,
             "#0d0887"
            ],
            [
             0.1111111111111111,
             "#46039f"
            ],
            [
             0.2222222222222222,
             "#7201a8"
            ],
            [
             0.3333333333333333,
             "#9c179e"
            ],
            [
             0.4444444444444444,
             "#bd3786"
            ],
            [
             0.5555555555555556,
             "#d8576b"
            ],
            [
             0.6666666666666666,
             "#ed7953"
            ],
            [
             0.7777777777777778,
             "#fb9f3a"
            ],
            [
             0.8888888888888888,
             "#fdca26"
            ],
            [
             1,
             "#f0f921"
            ]
           ]
          },
          "colorway": [
           "#636efa",
           "#EF553B",
           "#00cc96",
           "#ab63fa",
           "#FFA15A",
           "#19d3f3",
           "#FF6692",
           "#B6E880",
           "#FF97FF",
           "#FECB52"
          ],
          "font": {
           "color": "#2a3f5f"
          },
          "geo": {
           "bgcolor": "white",
           "lakecolor": "white",
           "landcolor": "#E5ECF6",
           "showlakes": true,
           "showland": true,
           "subunitcolor": "white"
          },
          "hoverlabel": {
           "align": "left"
          },
          "hovermode": "closest",
          "mapbox": {
           "style": "light"
          },
          "paper_bgcolor": "white",
          "plot_bgcolor": "#E5ECF6",
          "polar": {
           "angularaxis": {
            "gridcolor": "white",
            "linecolor": "white",
            "ticks": ""
           },
           "bgcolor": "#E5ECF6",
           "radialaxis": {
            "gridcolor": "white",
            "linecolor": "white",
            "ticks": ""
           }
          },
          "scene": {
           "xaxis": {
            "backgroundcolor": "#E5ECF6",
            "gridcolor": "white",
            "gridwidth": 2,
            "linecolor": "white",
            "showbackground": true,
            "ticks": "",
            "zerolinecolor": "white"
           },
           "yaxis": {
            "backgroundcolor": "#E5ECF6",
            "gridcolor": "white",
            "gridwidth": 2,
            "linecolor": "white",
            "showbackground": true,
            "ticks": "",
            "zerolinecolor": "white"
           },
           "zaxis": {
            "backgroundcolor": "#E5ECF6",
            "gridcolor": "white",
            "gridwidth": 2,
            "linecolor": "white",
            "showbackground": true,
            "ticks": "",
            "zerolinecolor": "white"
           }
          },
          "shapedefaults": {
           "line": {
            "color": "#2a3f5f"
           }
          },
          "ternary": {
           "aaxis": {
            "gridcolor": "white",
            "linecolor": "white",
            "ticks": ""
           },
           "baxis": {
            "gridcolor": "white",
            "linecolor": "white",
            "ticks": ""
           },
           "bgcolor": "#E5ECF6",
           "caxis": {
            "gridcolor": "white",
            "linecolor": "white",
            "ticks": ""
           }
          },
          "title": {
           "x": 0.05
          },
          "xaxis": {
           "automargin": true,
           "gridcolor": "white",
           "linecolor": "white",
           "ticks": "",
           "title": {
            "standoff": 15
           },
           "zerolinecolor": "white",
           "zerolinewidth": 2
          },
          "yaxis": {
           "automargin": true,
           "gridcolor": "white",
           "linecolor": "white",
           "ticks": "",
           "title": {
            "standoff": 15
           },
           "zerolinecolor": "white",
           "zerolinewidth": 2
          }
         }
        },
        "title": {
         "text": "Воронка по группам А/В"
        }
       }
      },
      "text/html": [
       "<div>                            <div id=\"6bb14e97-62eb-41fb-ba39-3027ab86b0d6\" class=\"plotly-graph-div\" style=\"height:525px; width:100%;\"></div>            <script type=\"text/javascript\">                require([\"plotly\"], function(Plotly) {                    window.PLOTLYENV=window.PLOTLYENV || {};                                    if (document.getElementById(\"6bb14e97-62eb-41fb-ba39-3027ab86b0d6\")) {                    Plotly.newPlot(                        \"6bb14e97-62eb-41fb-ba39-3027ab86b0d6\",                        [{\"name\":\"Group A\",\"textinfo\":\"value+percent previous+percent initial\",\"x\":[2747,1780,872,824],\"y\":[\"login\",\"product_page\",\"product_cart\",\"purchase\"],\"type\":\"funnel\"},{\"name\":\"Group B\",\"textinfo\":\"value+percent previous+percent initial\",\"x\":[927,523,256,255],\"y\":[\"login\",\"product_page\",\"product_cart\",\"purchase\"],\"type\":\"funnel\"}],                        {\"template\":{\"data\":{\"bar\":[{\"error_x\":{\"color\":\"#2a3f5f\"},\"error_y\":{\"color\":\"#2a3f5f\"},\"marker\":{\"line\":{\"color\":\"#E5ECF6\",\"width\":0.5},\"pattern\":{\"fillmode\":\"overlay\",\"size\":10,\"solidity\":0.2}},\"type\":\"bar\"}],\"barpolar\":[{\"marker\":{\"line\":{\"color\":\"#E5ECF6\",\"width\":0.5},\"pattern\":{\"fillmode\":\"overlay\",\"size\":10,\"solidity\":0.2}},\"type\":\"barpolar\"}],\"carpet\":[{\"aaxis\":{\"endlinecolor\":\"#2a3f5f\",\"gridcolor\":\"white\",\"linecolor\":\"white\",\"minorgridcolor\":\"white\",\"startlinecolor\":\"#2a3f5f\"},\"baxis\":{\"endlinecolor\":\"#2a3f5f\",\"gridcolor\":\"white\",\"linecolor\":\"white\",\"minorgridcolor\":\"white\",\"startlinecolor\":\"#2a3f5f\"},\"type\":\"carpet\"}],\"choropleth\":[{\"colorbar\":{\"outlinewidth\":0,\"ticks\":\"\"},\"type\":\"choropleth\"}],\"contour\":[{\"colorbar\":{\"outlinewidth\":0,\"ticks\":\"\"},\"colorscale\":[[0.0,\"#0d0887\"],[0.1111111111111111,\"#46039f\"],[0.2222222222222222,\"#7201a8\"],[0.3333333333333333,\"#9c179e\"],[0.4444444444444444,\"#bd3786\"],[0.5555555555555556,\"#d8576b\"],[0.6666666666666666,\"#ed7953\"],[0.7777777777777778,\"#fb9f3a\"],[0.8888888888888888,\"#fdca26\"],[1.0,\"#f0f921\"]],\"type\":\"contour\"}],\"contourcarpet\":[{\"colorbar\":{\"outlinewidth\":0,\"ticks\":\"\"},\"type\":\"contourcarpet\"}],\"heatmap\":[{\"colorbar\":{\"outlinewidth\":0,\"ticks\":\"\"},\"colorscale\":[[0.0,\"#0d0887\"],[0.1111111111111111,\"#46039f\"],[0.2222222222222222,\"#7201a8\"],[0.3333333333333333,\"#9c179e\"],[0.4444444444444444,\"#bd3786\"],[0.5555555555555556,\"#d8576b\"],[0.6666666666666666,\"#ed7953\"],[0.7777777777777778,\"#fb9f3a\"],[0.8888888888888888,\"#fdca26\"],[1.0,\"#f0f921\"]],\"type\":\"heatmap\"}],\"heatmapgl\":[{\"colorbar\":{\"outlinewidth\":0,\"ticks\":\"\"},\"colorscale\":[[0.0,\"#0d0887\"],[0.1111111111111111,\"#46039f\"],[0.2222222222222222,\"#7201a8\"],[0.3333333333333333,\"#9c179e\"],[0.4444444444444444,\"#bd3786\"],[0.5555555555555556,\"#d8576b\"],[0.6666666666666666,\"#ed7953\"],[0.7777777777777778,\"#fb9f3a\"],[0.8888888888888888,\"#fdca26\"],[1.0,\"#f0f921\"]],\"type\":\"heatmapgl\"}],\"histogram\":[{\"marker\":{\"pattern\":{\"fillmode\":\"overlay\",\"size\":10,\"solidity\":0.2}},\"type\":\"histogram\"}],\"histogram2d\":[{\"colorbar\":{\"outlinewidth\":0,\"ticks\":\"\"},\"colorscale\":[[0.0,\"#0d0887\"],[0.1111111111111111,\"#46039f\"],[0.2222222222222222,\"#7201a8\"],[0.3333333333333333,\"#9c179e\"],[0.4444444444444444,\"#bd3786\"],[0.5555555555555556,\"#d8576b\"],[0.6666666666666666,\"#ed7953\"],[0.7777777777777778,\"#fb9f3a\"],[0.8888888888888888,\"#fdca26\"],[1.0,\"#f0f921\"]],\"type\":\"histogram2d\"}],\"histogram2dcontour\":[{\"colorbar\":{\"outlinewidth\":0,\"ticks\":\"\"},\"colorscale\":[[0.0,\"#0d0887\"],[0.1111111111111111,\"#46039f\"],[0.2222222222222222,\"#7201a8\"],[0.3333333333333333,\"#9c179e\"],[0.4444444444444444,\"#bd3786\"],[0.5555555555555556,\"#d8576b\"],[0.6666666666666666,\"#ed7953\"],[0.7777777777777778,\"#fb9f3a\"],[0.8888888888888888,\"#fdca26\"],[1.0,\"#f0f921\"]],\"type\":\"histogram2dcontour\"}],\"mesh3d\":[{\"colorbar\":{\"outlinewidth\":0,\"ticks\":\"\"},\"type\":\"mesh3d\"}],\"parcoords\":[{\"line\":{\"colorbar\":{\"outlinewidth\":0,\"ticks\":\"\"}},\"type\":\"parcoords\"}],\"pie\":[{\"automargin\":true,\"type\":\"pie\"}],\"scatter\":[{\"marker\":{\"colorbar\":{\"outlinewidth\":0,\"ticks\":\"\"}},\"type\":\"scatter\"}],\"scatter3d\":[{\"line\":{\"colorbar\":{\"outlinewidth\":0,\"ticks\":\"\"}},\"marker\":{\"colorbar\":{\"outlinewidth\":0,\"ticks\":\"\"}},\"type\":\"scatter3d\"}],\"scattercarpet\":[{\"marker\":{\"colorbar\":{\"outlinewidth\":0,\"ticks\":\"\"}},\"type\":\"scattercarpet\"}],\"scattergeo\":[{\"marker\":{\"colorbar\":{\"outlinewidth\":0,\"ticks\":\"\"}},\"type\":\"scattergeo\"}],\"scattergl\":[{\"marker\":{\"colorbar\":{\"outlinewidth\":0,\"ticks\":\"\"}},\"type\":\"scattergl\"}],\"scattermapbox\":[{\"marker\":{\"colorbar\":{\"outlinewidth\":0,\"ticks\":\"\"}},\"type\":\"scattermapbox\"}],\"scatterpolar\":[{\"marker\":{\"colorbar\":{\"outlinewidth\":0,\"ticks\":\"\"}},\"type\":\"scatterpolar\"}],\"scatterpolargl\":[{\"marker\":{\"colorbar\":{\"outlinewidth\":0,\"ticks\":\"\"}},\"type\":\"scatterpolargl\"}],\"scatterternary\":[{\"marker\":{\"colorbar\":{\"outlinewidth\":0,\"ticks\":\"\"}},\"type\":\"scatterternary\"}],\"surface\":[{\"colorbar\":{\"outlinewidth\":0,\"ticks\":\"\"},\"colorscale\":[[0.0,\"#0d0887\"],[0.1111111111111111,\"#46039f\"],[0.2222222222222222,\"#7201a8\"],[0.3333333333333333,\"#9c179e\"],[0.4444444444444444,\"#bd3786\"],[0.5555555555555556,\"#d8576b\"],[0.6666666666666666,\"#ed7953\"],[0.7777777777777778,\"#fb9f3a\"],[0.8888888888888888,\"#fdca26\"],[1.0,\"#f0f921\"]],\"type\":\"surface\"}],\"table\":[{\"cells\":{\"fill\":{\"color\":\"#EBF0F8\"},\"line\":{\"color\":\"white\"}},\"header\":{\"fill\":{\"color\":\"#C8D4E3\"},\"line\":{\"color\":\"white\"}},\"type\":\"table\"}]},\"layout\":{\"annotationdefaults\":{\"arrowcolor\":\"#2a3f5f\",\"arrowhead\":0,\"arrowwidth\":1},\"autotypenumbers\":\"strict\",\"coloraxis\":{\"colorbar\":{\"outlinewidth\":0,\"ticks\":\"\"}},\"colorscale\":{\"diverging\":[[0,\"#8e0152\"],[0.1,\"#c51b7d\"],[0.2,\"#de77ae\"],[0.3,\"#f1b6da\"],[0.4,\"#fde0ef\"],[0.5,\"#f7f7f7\"],[0.6,\"#e6f5d0\"],[0.7,\"#b8e186\"],[0.8,\"#7fbc41\"],[0.9,\"#4d9221\"],[1,\"#276419\"]],\"sequential\":[[0.0,\"#0d0887\"],[0.1111111111111111,\"#46039f\"],[0.2222222222222222,\"#7201a8\"],[0.3333333333333333,\"#9c179e\"],[0.4444444444444444,\"#bd3786\"],[0.5555555555555556,\"#d8576b\"],[0.6666666666666666,\"#ed7953\"],[0.7777777777777778,\"#fb9f3a\"],[0.8888888888888888,\"#fdca26\"],[1.0,\"#f0f921\"]],\"sequentialminus\":[[0.0,\"#0d0887\"],[0.1111111111111111,\"#46039f\"],[0.2222222222222222,\"#7201a8\"],[0.3333333333333333,\"#9c179e\"],[0.4444444444444444,\"#bd3786\"],[0.5555555555555556,\"#d8576b\"],[0.6666666666666666,\"#ed7953\"],[0.7777777777777778,\"#fb9f3a\"],[0.8888888888888888,\"#fdca26\"],[1.0,\"#f0f921\"]]},\"colorway\":[\"#636efa\",\"#EF553B\",\"#00cc96\",\"#ab63fa\",\"#FFA15A\",\"#19d3f3\",\"#FF6692\",\"#B6E880\",\"#FF97FF\",\"#FECB52\"],\"font\":{\"color\":\"#2a3f5f\"},\"geo\":{\"bgcolor\":\"white\",\"lakecolor\":\"white\",\"landcolor\":\"#E5ECF6\",\"showlakes\":true,\"showland\":true,\"subunitcolor\":\"white\"},\"hoverlabel\":{\"align\":\"left\"},\"hovermode\":\"closest\",\"mapbox\":{\"style\":\"light\"},\"paper_bgcolor\":\"white\",\"plot_bgcolor\":\"#E5ECF6\",\"polar\":{\"angularaxis\":{\"gridcolor\":\"white\",\"linecolor\":\"white\",\"ticks\":\"\"},\"bgcolor\":\"#E5ECF6\",\"radialaxis\":{\"gridcolor\":\"white\",\"linecolor\":\"white\",\"ticks\":\"\"}},\"scene\":{\"xaxis\":{\"backgroundcolor\":\"#E5ECF6\",\"gridcolor\":\"white\",\"gridwidth\":2,\"linecolor\":\"white\",\"showbackground\":true,\"ticks\":\"\",\"zerolinecolor\":\"white\"},\"yaxis\":{\"backgroundcolor\":\"#E5ECF6\",\"gridcolor\":\"white\",\"gridwidth\":2,\"linecolor\":\"white\",\"showbackground\":true,\"ticks\":\"\",\"zerolinecolor\":\"white\"},\"zaxis\":{\"backgroundcolor\":\"#E5ECF6\",\"gridcolor\":\"white\",\"gridwidth\":2,\"linecolor\":\"white\",\"showbackground\":true,\"ticks\":\"\",\"zerolinecolor\":\"white\"}},\"shapedefaults\":{\"line\":{\"color\":\"#2a3f5f\"}},\"ternary\":{\"aaxis\":{\"gridcolor\":\"white\",\"linecolor\":\"white\",\"ticks\":\"\"},\"baxis\":{\"gridcolor\":\"white\",\"linecolor\":\"white\",\"ticks\":\"\"},\"bgcolor\":\"#E5ECF6\",\"caxis\":{\"gridcolor\":\"white\",\"linecolor\":\"white\",\"ticks\":\"\"}},\"title\":{\"x\":0.05},\"xaxis\":{\"automargin\":true,\"gridcolor\":\"white\",\"linecolor\":\"white\",\"ticks\":\"\",\"title\":{\"standoff\":15},\"zerolinecolor\":\"white\",\"zerolinewidth\":2},\"yaxis\":{\"automargin\":true,\"gridcolor\":\"white\",\"linecolor\":\"white\",\"ticks\":\"\",\"title\":{\"standoff\":15},\"zerolinecolor\":\"white\",\"zerolinewidth\":2}}},\"title\":{\"text\":\"\\u0412\\u043e\\u0440\\u043e\\u043d\\u043a\\u0430 \\u043f\\u043e \\u0433\\u0440\\u0443\\u043f\\u043f\\u0430\\u043c \\u0410/\\u0412\"}},                        {\"responsive\": true}                    ).then(function(){\n",
       "                            \n",
       "var gd = document.getElementById('6bb14e97-62eb-41fb-ba39-3027ab86b0d6');\n",
       "var x = new MutationObserver(function (mutations, observer) {{\n",
       "        var display = window.getComputedStyle(gd).display;\n",
       "        if (!display || display === 'none') {{\n",
       "            console.log([gd, 'removed!']);\n",
       "            Plotly.purge(gd);\n",
       "            observer.disconnect();\n",
       "        }}\n",
       "}});\n",
       "\n",
       "// Listen for the removal of the full notebook cells\n",
       "var notebookContainer = gd.closest('#notebook-container');\n",
       "if (notebookContainer) {{\n",
       "    x.observe(notebookContainer, {childList: true});\n",
       "}}\n",
       "\n",
       "// Listen for the clearing of the current output cell\n",
       "var outputEl = gd.closest('.output');\n",
       "if (outputEl) {{\n",
       "    x.observe(outputEl, {childList: true});\n",
       "}}\n",
       "\n",
       "                        })                };                });            </script>        </div>"
      ]
     },
     "metadata": {},
     "output_type": "display_data"
    }
   ],
   "source": [
    "#построим воронку событий\n",
    "fig = go.Figure()\n",
    "fig.add_trace(go.Funnel(\n",
    "    name='Group A',\n",
    "    y = ['login','product_page','product_cart','purchase'],\n",
    "    x = group_A['count'],\n",
    "    textinfo = \"value+percent previous+ percent initial\"\n",
    "    ))\n",
    "fig.add_trace(go.Funnel(\n",
    "    name='Group B',\n",
    "    y = ['login','product_page','product_cart','purchase'],\n",
    "    x = group_B['count'],\n",
    "    textinfo = \"value+percent previous+ percent initial\"\n",
    "    )) \n",
    "fig.update_layout(title_text='Воронка по группам А/В')\n",
    "\n",
    "fig.show()"
   ]
  },
  {
   "cell_type": "markdown",
   "metadata": {},
   "source": [
    "#### Воронка имеет вид \n",
    "login-product_page-product_cart-purchase.\n",
    "\n",
    "До покупки в группе А доходят 49% пользователей от предыдущего шага, в группе В также-49%.\n",
    "По ТЗ ожидаемый эффект: за 14 дней с момента регистрации улучшение каждой метрики не менее, чем на 10%. Судя по воронке, улучшение метрик в группе В не наблюдается.\n"
   ]
  },
  {
   "cell_type": "markdown",
   "metadata": {},
   "source": [
    "#### Вывод "
   ]
  },
  {
   "cell_type": "markdown",
   "metadata": {},
   "source": [
    "- Аудитория с конкурирующем тестом пересекалась, чего должно быть не должно.\n",
    "- Ожидаемое количество участников теста: 6000, после очистки данных осталось 3675, пользователи EU составили менее 15%, фактически это 14%.\n",
    "- Тест  выпал на время  маркетинговой акции, что еще раз доказывает в некорректности проведения теста.\n",
    "- в группе А событий больше чем в группе В.\n",
    "- по графику распределение событий в двух группах по дням, заметен резкий скачок 21.12.2020,скорее всего данный всплеск вызван перед рождественскими праздниками.\n",
    "- по воронке событий до покупки в двух группах доходят 49% пользователей, ожидаемого эффекта:  улучшение каждой метрики на 10% не наблюдается.\n"
   ]
  },
  {
   "cell_type": "markdown",
   "metadata": {},
   "source": [
    "<a id='4'></a>\n",
    "### Оценить результаты A/B-тестирования"
   ]
  },
  {
   "cell_type": "markdown",
   "metadata": {},
   "source": [
    " - Что можно сказать про результаты A/В-тестирования?\n",
    " - Проверить статистическую разницу долей z-критерием."
   ]
  },
  {
   "cell_type": "markdown",
   "metadata": {},
   "source": [
    "Результатам теста доверять нельзя."
   ]
  },
  {
   "cell_type": "markdown",
   "metadata": {},
   "source": [
    "#### Статистическая разница долей z-критерий"
   ]
  },
  {
   "cell_type": "markdown",
   "metadata": {},
   "source": [
    "Определим гипотезы:\n",
    "\n",
    "Нулевая гипотеза - H₀: статистически значимых различий в конверсии между группами нет\n",
    "\n",
    "Альтернативная гипотеза - H₁: статистически значимые различия в конверсии между группами есть"
   ]
  },
  {
   "cell_type": "code",
   "execution_count": 103,
   "metadata": {},
   "outputs": [
    {
     "data": {
      "text/html": [
       "<div>\n",
       "<style scoped>\n",
       "    .dataframe tbody tr th:only-of-type {\n",
       "        vertical-align: middle;\n",
       "    }\n",
       "\n",
       "    .dataframe tbody tr th {\n",
       "        vertical-align: top;\n",
       "    }\n",
       "\n",
       "    .dataframe thead th {\n",
       "        text-align: right;\n",
       "    }\n",
       "</style>\n",
       "<table border=\"1\" class=\"dataframe\">\n",
       "  <thead>\n",
       "    <tr style=\"text-align: right;\">\n",
       "      <th></th>\n",
       "      <th>user_id</th>\n",
       "    </tr>\n",
       "    <tr>\n",
       "      <th>group</th>\n",
       "      <th></th>\n",
       "    </tr>\n",
       "  </thead>\n",
       "  <tbody>\n",
       "    <tr>\n",
       "      <th>A</th>\n",
       "      <td>2747</td>\n",
       "    </tr>\n",
       "    <tr>\n",
       "      <th>B</th>\n",
       "      <td>928</td>\n",
       "    </tr>\n",
       "  </tbody>\n",
       "</table>\n",
       "</div>"
      ],
      "text/plain": [
       "       user_id\n",
       "group         \n",
       "A      2747   \n",
       "B      928    "
      ]
     },
     "execution_count": 103,
     "metadata": {},
     "output_type": "execute_result"
    }
   ],
   "source": [
    "final_df.groupby('group')['user_id'].nunique().to_frame()"
   ]
  },
  {
   "cell_type": "code",
   "execution_count": 104,
   "metadata": {},
   "outputs": [
    {
     "data": {
      "text/html": [
       "<div>\n",
       "<style scoped>\n",
       "    .dataframe tbody tr th:only-of-type {\n",
       "        vertical-align: middle;\n",
       "    }\n",
       "\n",
       "    .dataframe tbody tr th {\n",
       "        vertical-align: top;\n",
       "    }\n",
       "\n",
       "    .dataframe thead th {\n",
       "        text-align: right;\n",
       "    }\n",
       "</style>\n",
       "<table border=\"1\" class=\"dataframe\">\n",
       "  <thead>\n",
       "    <tr style=\"text-align: right;\">\n",
       "      <th>group</th>\n",
       "      <th>event_name</th>\n",
       "      <th>A</th>\n",
       "      <th>B</th>\n",
       "    </tr>\n",
       "  </thead>\n",
       "  <tbody>\n",
       "    <tr>\n",
       "      <th>0</th>\n",
       "      <td>login</td>\n",
       "      <td>2747</td>\n",
       "      <td>927</td>\n",
       "    </tr>\n",
       "    <tr>\n",
       "      <th>1</th>\n",
       "      <td>product_page</td>\n",
       "      <td>1780</td>\n",
       "      <td>523</td>\n",
       "    </tr>\n",
       "    <tr>\n",
       "      <th>2</th>\n",
       "      <td>purchase</td>\n",
       "      <td>872</td>\n",
       "      <td>256</td>\n",
       "    </tr>\n",
       "    <tr>\n",
       "      <th>3</th>\n",
       "      <td>product_cart</td>\n",
       "      <td>824</td>\n",
       "      <td>255</td>\n",
       "    </tr>\n",
       "  </tbody>\n",
       "</table>\n",
       "</div>"
      ],
      "text/plain": [
       "group    event_name     A    B\n",
       "0      login         2747  927\n",
       "1      product_page  1780  523\n",
       "2      purchase      872   256\n",
       "3      product_cart  824   255"
      ]
     },
     "execution_count": 104,
     "metadata": {},
     "output_type": "execute_result"
    }
   ],
   "source": [
    "users_by_events = final_df.pivot_table(\n",
    "    index='event_name', \n",
    "    columns='group', \n",
    "    values='user_id',\n",
    "    aggfunc='nunique') \\\n",
    "    .sort_values(by='A', ascending=False) \n",
    "    \n",
    "users_by_events=users_by_events.reset_index()\n",
    "users_by_events\n",
    "\n"
   ]
  },
  {
   "cell_type": "code",
   "execution_count": 105,
   "metadata": {},
   "outputs": [
    {
     "data": {
      "text/html": [
       "<div>\n",
       "<style scoped>\n",
       "    .dataframe tbody tr th:only-of-type {\n",
       "        vertical-align: middle;\n",
       "    }\n",
       "\n",
       "    .dataframe tbody tr th {\n",
       "        vertical-align: top;\n",
       "    }\n",
       "\n",
       "    .dataframe thead th {\n",
       "        text-align: right;\n",
       "    }\n",
       "</style>\n",
       "<table border=\"1\" class=\"dataframe\">\n",
       "  <thead>\n",
       "    <tr style=\"text-align: right;\">\n",
       "      <th>group</th>\n",
       "      <th>event_name</th>\n",
       "      <th>A</th>\n",
       "      <th>B</th>\n",
       "    </tr>\n",
       "  </thead>\n",
       "  <tbody>\n",
       "    <tr>\n",
       "      <th>0</th>\n",
       "      <td>login</td>\n",
       "      <td>2747</td>\n",
       "      <td>927</td>\n",
       "    </tr>\n",
       "    <tr>\n",
       "      <th>1</th>\n",
       "      <td>product_page</td>\n",
       "      <td>1780</td>\n",
       "      <td>523</td>\n",
       "    </tr>\n",
       "    <tr>\n",
       "      <th>2</th>\n",
       "      <td>purchase</td>\n",
       "      <td>872</td>\n",
       "      <td>256</td>\n",
       "    </tr>\n",
       "    <tr>\n",
       "      <th>3</th>\n",
       "      <td>product_cart</td>\n",
       "      <td>824</td>\n",
       "      <td>255</td>\n",
       "    </tr>\n",
       "  </tbody>\n",
       "</table>\n",
       "</div>"
      ],
      "text/plain": [
       "group    event_name     A    B\n",
       "0      login         2747  927\n",
       "1      product_page  1780  523\n",
       "2      purchase      872   256\n",
       "3      product_cart  824   255"
      ]
     },
     "execution_count": 105,
     "metadata": {},
     "output_type": "execute_result"
    }
   ],
   "source": [
    "users_by_events"
   ]
  },
  {
   "cell_type": "code",
   "execution_count": 106,
   "metadata": {},
   "outputs": [
    {
     "data": {
      "text/plain": [
       "group\n",
       "A    2747\n",
       "B    928 \n",
       "Name: user_id, dtype: int64"
      ]
     },
     "execution_count": 106,
     "metadata": {},
     "output_type": "execute_result"
    }
   ],
   "source": [
    "exp_table=final_df.groupby('group')['user_id'].nunique() #кол-во пользователей в каждой группе эксперимента\n",
    "exp_table"
   ]
  },
  {
   "cell_type": "code",
   "execution_count": 107,
   "metadata": {},
   "outputs": [
    {
     "data": {
      "text/html": [
       "<div>\n",
       "<style scoped>\n",
       "    .dataframe tbody tr th:only-of-type {\n",
       "        vertical-align: middle;\n",
       "    }\n",
       "\n",
       "    .dataframe tbody tr th {\n",
       "        vertical-align: top;\n",
       "    }\n",
       "\n",
       "    .dataframe thead th {\n",
       "        text-align: right;\n",
       "    }\n",
       "</style>\n",
       "<table border=\"1\" class=\"dataframe\">\n",
       "  <thead>\n",
       "    <tr style=\"text-align: right;\">\n",
       "      <th>group</th>\n",
       "      <th>event_name</th>\n",
       "      <th>A</th>\n",
       "      <th>B</th>\n",
       "      <th>funnel_A</th>\n",
       "      <th>funnel_B</th>\n",
       "    </tr>\n",
       "  </thead>\n",
       "  <tbody>\n",
       "    <tr>\n",
       "      <th>0</th>\n",
       "      <td>login</td>\n",
       "      <td>2747</td>\n",
       "      <td>927</td>\n",
       "      <td>100.000000</td>\n",
       "      <td>99.892241</td>\n",
       "    </tr>\n",
       "    <tr>\n",
       "      <th>1</th>\n",
       "      <td>product_page</td>\n",
       "      <td>1780</td>\n",
       "      <td>523</td>\n",
       "      <td>64.797961</td>\n",
       "      <td>56.357759</td>\n",
       "    </tr>\n",
       "    <tr>\n",
       "      <th>2</th>\n",
       "      <td>purchase</td>\n",
       "      <td>872</td>\n",
       "      <td>256</td>\n",
       "      <td>31.743720</td>\n",
       "      <td>27.586207</td>\n",
       "    </tr>\n",
       "    <tr>\n",
       "      <th>3</th>\n",
       "      <td>product_cart</td>\n",
       "      <td>824</td>\n",
       "      <td>255</td>\n",
       "      <td>29.996360</td>\n",
       "      <td>27.478448</td>\n",
       "    </tr>\n",
       "  </tbody>\n",
       "</table>\n",
       "</div>"
      ],
      "text/plain": [
       "group    event_name     A    B    funnel_A   funnel_B\n",
       "0      login         2747  927  100.000000  99.892241\n",
       "1      product_page  1780  523  64.797961   56.357759\n",
       "2      purchase      872   256  31.743720   27.586207\n",
       "3      product_cart  824   255  29.996360   27.478448"
      ]
     },
     "execution_count": 107,
     "metadata": {},
     "output_type": "execute_result"
    }
   ],
   "source": [
    "#Добавим в таблицу users_by_events доли пользователей по каждому событию в каждой группе :\n",
    "users_by_events['funnel_A'] = (users_by_events['A'] / exp_table['A'])*100\n",
    "users_by_events['funnel_B'] = (users_by_events['B'] / exp_table['B'])*100\n",
    "users_by_events"
   ]
  },
  {
   "cell_type": "code",
   "execution_count": 108,
   "metadata": {
    "scrolled": true
   },
   "outputs": [
    {
     "name": "stdout",
     "output_type": "stream",
     "text": [
      "login p-значение: 0.08529860212027773\n",
      "Не получилось отвергнуть нулевую гипотезу, нет оснований считать доли разными\n",
      "product_page p-значение: 4.310980554755872e-06\n",
      "Отвергаем нулевую гипотезу: между долями есть значимая разница\n",
      "purchase p-значение: 0.017592402663314743\n",
      "Отвергаем нулевую гипотезу: между долями есть значимая разница\n",
      "product_cart p-значение: 0.14534814557238196\n",
      "Не получилось отвергнуть нулевую гипотезу, нет оснований считать доли разными\n"
     ]
    }
   ],
   "source": [
    "def z_test(group1, group2, alpha):\n",
    "    for i in users_by_events.index:\n",
    "        p1 = users_by_events[group1][i] / exp_table[group1]\n",
    "        # пропорция успехов во второй группе:\n",
    "        p2 = users_by_events[group2][i] / exp_table[group2]\n",
    "        # пропорция успехов в комбинированном датасете:\n",
    "        p_combined = ((users_by_events[group1][i] + users_by_events[group2][i]) / \n",
    "                      (exp_table[group1] + exp_table[group2]))\n",
    "        # разница пропорций в датасетах\n",
    "        difference = p1 - p2\n",
    "        # считаем статистику в ст.отклонениях стандартного нормального распределения\n",
    "        z_value = difference / mth.sqrt(p_combined * (1 - p_combined) * \n",
    "                                        (1/exp_table[group1] + 1/exp_table[group2]))\n",
    "        # задаем стандартное нормальное распределение (среднее 0, ст.отклонение 1)\n",
    "        distr = st.norm(0, 1) \n",
    "        p_value = (1 - distr.cdf(abs(z_value))) * 2\n",
    "        print('{} p-значение: {}'.format(users_by_events['event_name'][i], p_value))\n",
    "        if (p_value < alpha):\n",
    "            print(\"Отвергаем нулевую гипотезу: между долями есть значимая разница\")\n",
    "        else:\n",
    "            print(\"Не получилось отвергнуть нулевую гипотезу, нет оснований считать доли разными\")\n",
    "\n",
    "        \n",
    "z_test('A','B', 0.05)"
   ]
  },
  {
   "cell_type": "markdown",
   "metadata": {},
   "source": [
    "# Вывод "
   ]
  },
  {
   "cell_type": "markdown",
   "metadata": {},
   "source": [
    "После анализа данных и результатов A/B теста можно сказать, что тест был проведен некорректно.\n",
    "\n",
    "- Аудитория с конкурирующем тестом пересекалась, чего должно быть не должно.\n",
    "- Ожидаемое количество участников теста: 6000, после очистки данных осталось 3675, пользователи EU составили менее 15%, фактически это 14%.\n",
    "- Тест выпал на время маркетинговой акции, что еще раз доказывает в некорректности проведения теста.\n",
    "- Некоторые пользователи учавствовали в других тестированиях, что тоже некорректно.\n",
    "- Количество пользователей в группах значительно отличается.\n",
    "- В группе Б конверсия ниже, ожидаемого увеличения конверсии на 10 % не получили.\n",
    "\n",
    "Тестирование стоит завершить, и запустить заново , когда все пункты по ТЗ будут удовлетворены."
   ]
  },
  {
   "cell_type": "code",
   "execution_count": null,
   "metadata": {},
   "outputs": [],
   "source": []
  }
 ],
 "metadata": {
  "ExecuteTimeLog": [
   {
    "duration": 70,
    "start_time": "2022-05-27T18:41:19.966Z"
   },
   {
    "duration": 1438,
    "start_time": "2022-05-27T18:47:38.779Z"
   },
   {
    "duration": 3,
    "start_time": "2022-05-27T18:47:47.772Z"
   },
   {
    "duration": 110,
    "start_time": "2022-05-27T18:48:24.068Z"
   },
   {
    "duration": 25,
    "start_time": "2022-05-27T18:48:33.364Z"
   },
   {
    "duration": 1002,
    "start_time": "2022-05-27T18:49:23.461Z"
   },
   {
    "duration": 279,
    "start_time": "2022-05-27T18:53:32.072Z"
   },
   {
    "duration": 832,
    "start_time": "2022-05-27T18:53:45.482Z"
   },
   {
    "duration": 79,
    "start_time": "2022-05-27T18:53:55.171Z"
   },
   {
    "duration": 625,
    "start_time": "2022-05-27T18:53:55.902Z"
   },
   {
    "duration": 1748,
    "start_time": "2022-05-27T18:54:32.128Z"
   },
   {
    "duration": 875,
    "start_time": "2022-05-27T18:54:49.760Z"
   },
   {
    "duration": 639,
    "start_time": "2022-05-27T18:55:52.200Z"
   },
   {
    "duration": 567,
    "start_time": "2022-05-27T18:56:45.024Z"
   },
   {
    "duration": 28,
    "start_time": "2022-05-27T18:56:59.313Z"
   },
   {
    "duration": 163,
    "start_time": "2022-05-27T18:57:20.168Z"
   },
   {
    "duration": 78,
    "start_time": "2022-05-27T18:57:34.310Z"
   },
   {
    "duration": 13,
    "start_time": "2022-05-27T18:58:28.602Z"
   },
   {
    "duration": 47,
    "start_time": "2022-05-27T18:58:30.414Z"
   },
   {
    "duration": 69,
    "start_time": "2022-05-27T18:59:16.856Z"
   },
   {
    "duration": 44,
    "start_time": "2022-05-27T18:59:20.616Z"
   },
   {
    "duration": 12,
    "start_time": "2022-05-27T19:38:16.198Z"
   },
   {
    "duration": 7,
    "start_time": "2022-05-27T19:38:40.048Z"
   },
   {
    "duration": 13,
    "start_time": "2022-05-27T19:39:25.534Z"
   },
   {
    "duration": 13,
    "start_time": "2022-05-27T19:40:00.629Z"
   },
   {
    "duration": 5,
    "start_time": "2022-05-27T19:41:19.899Z"
   },
   {
    "duration": 11,
    "start_time": "2022-05-27T19:41:48.136Z"
   },
   {
    "duration": 12,
    "start_time": "2022-05-27T19:42:00.325Z"
   },
   {
    "duration": 9,
    "start_time": "2022-05-27T19:43:16.561Z"
   },
   {
    "duration": 35,
    "start_time": "2022-05-27T19:44:31.867Z"
   },
   {
    "duration": 10,
    "start_time": "2022-05-27T19:44:43.834Z"
   },
   {
    "duration": 14,
    "start_time": "2022-05-27T19:45:27.572Z"
   },
   {
    "duration": 6,
    "start_time": "2022-05-27T19:47:25.750Z"
   },
   {
    "duration": 40,
    "start_time": "2022-05-27T19:48:20.406Z"
   },
   {
    "duration": 30,
    "start_time": "2022-05-27T19:48:26.812Z"
   },
   {
    "duration": 7,
    "start_time": "2022-05-27T19:48:31.255Z"
   },
   {
    "duration": 9,
    "start_time": "2022-05-27T19:48:45.060Z"
   },
   {
    "duration": 15,
    "start_time": "2022-05-27T19:49:19.311Z"
   },
   {
    "duration": 8,
    "start_time": "2022-05-27T19:50:00.741Z"
   },
   {
    "duration": 6,
    "start_time": "2022-05-27T19:50:17.702Z"
   },
   {
    "duration": 9,
    "start_time": "2022-05-27T19:50:23.889Z"
   },
   {
    "duration": 15,
    "start_time": "2022-05-27T19:58:09.179Z"
   },
   {
    "duration": 11,
    "start_time": "2022-05-27T19:58:35.713Z"
   },
   {
    "duration": 5,
    "start_time": "2022-05-27T19:58:43.605Z"
   },
   {
    "duration": 29,
    "start_time": "2022-05-27T19:59:49.509Z"
   },
   {
    "duration": 29,
    "start_time": "2022-05-27T19:59:53.349Z"
   },
   {
    "duration": 22,
    "start_time": "2022-05-27T19:59:58.525Z"
   },
   {
    "duration": 14,
    "start_time": "2022-05-27T20:00:11.730Z"
   },
   {
    "duration": 33,
    "start_time": "2022-05-27T20:00:24.969Z"
   },
   {
    "duration": 15,
    "start_time": "2022-05-27T20:00:33.617Z"
   },
   {
    "duration": 5,
    "start_time": "2022-05-27T20:01:45.678Z"
   },
   {
    "duration": 5,
    "start_time": "2022-05-27T20:02:03.890Z"
   },
   {
    "duration": 5,
    "start_time": "2022-05-27T20:02:14.260Z"
   },
   {
    "duration": 5,
    "start_time": "2022-05-27T20:02:24.180Z"
   },
   {
    "duration": 5,
    "start_time": "2022-05-27T20:02:32.817Z"
   },
   {
    "duration": 5,
    "start_time": "2022-05-27T20:03:26.228Z"
   },
   {
    "duration": 5,
    "start_time": "2022-05-27T20:03:59.724Z"
   },
   {
    "duration": 1900,
    "start_time": "2022-05-28T10:13:19.167Z"
   },
   {
    "duration": 10,
    "start_time": "2022-05-28T10:13:21.070Z"
   },
   {
    "duration": 305,
    "start_time": "2022-05-28T10:13:21.086Z"
   },
   {
    "duration": 1039,
    "start_time": "2022-05-28T10:13:21.394Z"
   },
   {
    "duration": 961,
    "start_time": "2022-05-28T10:13:22.435Z"
   },
   {
    "duration": 888,
    "start_time": "2022-05-28T10:13:23.398Z"
   },
   {
    "duration": 115,
    "start_time": "2022-05-28T10:13:24.290Z"
   },
   {
    "duration": 129,
    "start_time": "2022-05-28T10:13:24.407Z"
   },
   {
    "duration": 79,
    "start_time": "2022-05-28T10:13:24.538Z"
   },
   {
    "duration": 80,
    "start_time": "2022-05-28T10:13:24.620Z"
   },
   {
    "duration": 17,
    "start_time": "2022-05-28T10:13:24.707Z"
   },
   {
    "duration": 11,
    "start_time": "2022-05-28T10:13:24.727Z"
   },
   {
    "duration": 28,
    "start_time": "2022-05-28T10:13:24.742Z"
   },
   {
    "duration": 16,
    "start_time": "2022-05-28T10:13:24.774Z"
   },
   {
    "duration": 26,
    "start_time": "2022-05-28T10:13:24.792Z"
   },
   {
    "duration": 22,
    "start_time": "2022-05-28T10:13:24.819Z"
   },
   {
    "duration": 25,
    "start_time": "2022-05-28T10:13:24.843Z"
   },
   {
    "duration": 14,
    "start_time": "2022-05-28T10:31:20.364Z"
   },
   {
    "duration": 23,
    "start_time": "2022-05-28T10:31:44.449Z"
   },
   {
    "duration": 147,
    "start_time": "2022-05-28T10:32:01.128Z"
   },
   {
    "duration": 9,
    "start_time": "2022-05-28T10:32:50.715Z"
   },
   {
    "duration": 25,
    "start_time": "2022-05-28T10:33:43.984Z"
   },
   {
    "duration": 25,
    "start_time": "2022-05-28T10:34:15.588Z"
   },
   {
    "duration": 16,
    "start_time": "2022-05-28T10:35:56.826Z"
   },
   {
    "duration": 4,
    "start_time": "2022-05-28T10:36:20.297Z"
   },
   {
    "duration": 5,
    "start_time": "2022-05-28T10:36:53.817Z"
   },
   {
    "duration": 9,
    "start_time": "2022-05-28T10:45:57.620Z"
   },
   {
    "duration": 14,
    "start_time": "2022-05-28T10:46:30.889Z"
   },
   {
    "duration": 19,
    "start_time": "2022-05-28T10:50:24.945Z"
   },
   {
    "duration": 198,
    "start_time": "2022-05-28T10:50:38.289Z"
   },
   {
    "duration": 9,
    "start_time": "2022-05-28T10:51:11.891Z"
   },
   {
    "duration": 39,
    "start_time": "2022-05-28T10:52:23.778Z"
   },
   {
    "duration": 13,
    "start_time": "2022-05-28T11:01:52.529Z"
   },
   {
    "duration": 27,
    "start_time": "2022-05-28T11:02:32.980Z"
   },
   {
    "duration": 26,
    "start_time": "2022-05-28T11:02:59.093Z"
   },
   {
    "duration": 31,
    "start_time": "2022-05-28T11:03:18.564Z"
   },
   {
    "duration": 36,
    "start_time": "2022-05-28T11:03:47.419Z"
   },
   {
    "duration": 30,
    "start_time": "2022-05-28T11:03:52.807Z"
   },
   {
    "duration": 27,
    "start_time": "2022-05-28T11:04:03.508Z"
   },
   {
    "duration": 28,
    "start_time": "2022-05-28T11:04:14.793Z"
   },
   {
    "duration": 6,
    "start_time": "2022-05-28T11:04:35.250Z"
   },
   {
    "duration": 20,
    "start_time": "2022-05-28T11:04:58.257Z"
   },
   {
    "duration": 27,
    "start_time": "2022-05-28T11:10:48.856Z"
   },
   {
    "duration": 17,
    "start_time": "2022-05-28T11:11:24.192Z"
   },
   {
    "duration": 37,
    "start_time": "2022-05-28T11:12:52.691Z"
   },
   {
    "duration": 22,
    "start_time": "2022-05-28T11:13:51.732Z"
   },
   {
    "duration": 46,
    "start_time": "2022-05-28T11:15:55.654Z"
   },
   {
    "duration": 46,
    "start_time": "2022-05-28T11:16:05.048Z"
   },
   {
    "duration": 57,
    "start_time": "2022-05-28T11:16:13.465Z"
   },
   {
    "duration": 49,
    "start_time": "2022-05-28T11:16:16.868Z"
   },
   {
    "duration": 42,
    "start_time": "2022-05-28T11:16:31.195Z"
   },
   {
    "duration": 41,
    "start_time": "2022-05-28T11:16:37.287Z"
   },
   {
    "duration": 56,
    "start_time": "2022-05-28T11:17:04.751Z"
   },
   {
    "duration": 48,
    "start_time": "2022-05-28T11:18:11.669Z"
   },
   {
    "duration": 60,
    "start_time": "2022-05-28T11:18:38.448Z"
   },
   {
    "duration": 45,
    "start_time": "2022-05-28T11:19:05.107Z"
   },
   {
    "duration": 41,
    "start_time": "2022-05-28T11:19:16.396Z"
   },
   {
    "duration": 67,
    "start_time": "2022-05-28T11:20:02.087Z"
   },
   {
    "duration": 27,
    "start_time": "2022-05-28T11:20:12.921Z"
   },
   {
    "duration": 6,
    "start_time": "2022-05-28T11:22:50.398Z"
   },
   {
    "duration": 6,
    "start_time": "2022-05-28T11:23:02.492Z"
   },
   {
    "duration": 20,
    "start_time": "2022-05-28T11:28:52.836Z"
   },
   {
    "duration": 13,
    "start_time": "2022-05-28T11:30:01.406Z"
   },
   {
    "duration": 10,
    "start_time": "2022-05-28T11:30:34.078Z"
   },
   {
    "duration": 231,
    "start_time": "2022-05-28T11:31:07.700Z"
   },
   {
    "duration": 20,
    "start_time": "2022-05-28T11:31:39.325Z"
   },
   {
    "duration": 21,
    "start_time": "2022-05-28T11:31:43.516Z"
   },
   {
    "duration": 23,
    "start_time": "2022-05-28T11:31:59.402Z"
   },
   {
    "duration": 1249,
    "start_time": "2022-05-29T10:14:59.336Z"
   },
   {
    "duration": 2,
    "start_time": "2022-05-29T10:15:00.587Z"
   },
   {
    "duration": 216,
    "start_time": "2022-05-29T10:15:00.591Z"
   },
   {
    "duration": 641,
    "start_time": "2022-05-29T10:15:00.809Z"
   },
   {
    "duration": 800,
    "start_time": "2022-05-29T10:15:01.451Z"
   },
   {
    "duration": 689,
    "start_time": "2022-05-29T10:15:02.253Z"
   },
   {
    "duration": 81,
    "start_time": "2022-05-29T10:15:02.944Z"
   },
   {
    "duration": 120,
    "start_time": "2022-05-29T10:15:03.027Z"
   },
   {
    "duration": 49,
    "start_time": "2022-05-29T10:15:03.149Z"
   },
   {
    "duration": 56,
    "start_time": "2022-05-29T10:15:03.201Z"
   },
   {
    "duration": 11,
    "start_time": "2022-05-29T10:15:03.259Z"
   },
   {
    "duration": 20,
    "start_time": "2022-05-29T10:15:03.271Z"
   },
   {
    "duration": 21,
    "start_time": "2022-05-29T10:15:03.292Z"
   },
   {
    "duration": 30,
    "start_time": "2022-05-29T10:15:03.315Z"
   },
   {
    "duration": 17,
    "start_time": "2022-05-29T10:15:03.348Z"
   },
   {
    "duration": 15,
    "start_time": "2022-05-29T10:15:03.367Z"
   },
   {
    "duration": 32,
    "start_time": "2022-05-29T10:15:03.383Z"
   },
   {
    "duration": 4,
    "start_time": "2022-05-29T10:15:03.416Z"
   },
   {
    "duration": 37,
    "start_time": "2022-05-29T10:15:03.422Z"
   },
   {
    "duration": 9,
    "start_time": "2022-05-29T10:15:03.462Z"
   },
   {
    "duration": 13,
    "start_time": "2022-05-29T10:15:03.473Z"
   },
   {
    "duration": 23,
    "start_time": "2022-05-29T10:15:03.488Z"
   },
   {
    "duration": 42,
    "start_time": "2022-05-29T10:15:03.513Z"
   },
   {
    "duration": 13,
    "start_time": "2022-05-29T10:15:03.558Z"
   },
   {
    "duration": 24,
    "start_time": "2022-05-29T10:15:03.573Z"
   },
   {
    "duration": 21,
    "start_time": "2022-05-29T10:15:03.598Z"
   },
   {
    "duration": 8,
    "start_time": "2022-05-29T10:15:03.642Z"
   },
   {
    "duration": 12,
    "start_time": "2022-05-29T10:15:03.654Z"
   },
   {
    "duration": 26,
    "start_time": "2022-05-29T10:15:03.669Z"
   },
   {
    "duration": 11,
    "start_time": "2022-05-29T10:22:43.857Z"
   },
   {
    "duration": 10,
    "start_time": "2022-05-29T10:23:00.694Z"
   },
   {
    "duration": 402,
    "start_time": "2022-05-29T10:23:14.419Z"
   },
   {
    "duration": 354,
    "start_time": "2022-05-29T10:23:42.143Z"
   },
   {
    "duration": 6,
    "start_time": "2022-05-29T10:24:01.411Z"
   },
   {
    "duration": 9,
    "start_time": "2022-05-29T10:24:19.739Z"
   },
   {
    "duration": 358,
    "start_time": "2022-05-29T10:25:38.784Z"
   },
   {
    "duration": 4,
    "start_time": "2022-05-29T10:34:22.341Z"
   },
   {
    "duration": 20,
    "start_time": "2022-05-29T10:34:27.754Z"
   },
   {
    "duration": 30,
    "start_time": "2022-05-29T10:45:23.544Z"
   },
   {
    "duration": 20,
    "start_time": "2022-05-29T10:45:31.774Z"
   },
   {
    "duration": 19,
    "start_time": "2022-05-29T10:45:44.191Z"
   },
   {
    "duration": 35,
    "start_time": "2022-05-29T10:45:59.646Z"
   },
   {
    "duration": 26,
    "start_time": "2022-05-29T10:46:07.523Z"
   },
   {
    "duration": 21,
    "start_time": "2022-05-29T10:46:09.598Z"
   },
   {
    "duration": 112,
    "start_time": "2022-05-29T10:54:32.689Z"
   },
   {
    "duration": 8,
    "start_time": "2022-05-29T10:54:52.847Z"
   },
   {
    "duration": 13,
    "start_time": "2022-05-29T10:55:07.217Z"
   },
   {
    "duration": 12,
    "start_time": "2022-05-29T10:56:04.245Z"
   },
   {
    "duration": 39,
    "start_time": "2022-05-29T10:59:00.526Z"
   },
   {
    "duration": 190,
    "start_time": "2022-05-29T11:05:42.190Z"
   },
   {
    "duration": 119,
    "start_time": "2022-05-29T11:06:07.175Z"
   },
   {
    "duration": 8,
    "start_time": "2022-05-29T11:06:15.819Z"
   },
   {
    "duration": 152,
    "start_time": "2022-05-29T11:07:45.452Z"
   },
   {
    "duration": 29,
    "start_time": "2022-05-29T11:09:26.946Z"
   },
   {
    "duration": 37,
    "start_time": "2022-05-29T11:09:32.327Z"
   },
   {
    "duration": 52,
    "start_time": "2022-05-29T11:21:57.464Z"
   },
   {
    "duration": 12,
    "start_time": "2022-05-29T11:24:13.005Z"
   },
   {
    "duration": 17,
    "start_time": "2022-05-29T11:24:19.444Z"
   },
   {
    "duration": 21,
    "start_time": "2022-05-29T11:24:33.874Z"
   },
   {
    "duration": 6,
    "start_time": "2022-05-29T11:24:41.592Z"
   },
   {
    "duration": 10,
    "start_time": "2022-05-29T11:24:41.816Z"
   },
   {
    "duration": 19,
    "start_time": "2022-05-29T11:24:42.057Z"
   },
   {
    "duration": 9,
    "start_time": "2022-05-29T11:24:44.178Z"
   },
   {
    "duration": 9,
    "start_time": "2022-05-29T11:24:48.347Z"
   },
   {
    "duration": 105,
    "start_time": "2022-05-29T11:25:57.980Z"
   },
   {
    "duration": 7,
    "start_time": "2022-05-29T11:26:05.974Z"
   },
   {
    "duration": 171,
    "start_time": "2022-05-29T11:26:10.303Z"
   },
   {
    "duration": 49,
    "start_time": "2022-05-29T11:26:36.873Z"
   },
   {
    "duration": 13,
    "start_time": "2022-05-29T11:26:44.138Z"
   },
   {
    "duration": 10,
    "start_time": "2022-05-29T11:27:17.864Z"
   },
   {
    "duration": 166,
    "start_time": "2022-05-29T11:27:19.684Z"
   },
   {
    "duration": 51,
    "start_time": "2022-05-29T11:27:19.874Z"
   },
   {
    "duration": 43,
    "start_time": "2022-05-29T11:27:32.180Z"
   },
   {
    "duration": 12,
    "start_time": "2022-05-29T11:27:36.002Z"
   },
   {
    "duration": 14,
    "start_time": "2022-05-29T11:28:04.764Z"
   },
   {
    "duration": 34,
    "start_time": "2022-05-29T11:29:53.149Z"
   },
   {
    "duration": 18,
    "start_time": "2022-05-29T11:29:55.790Z"
   },
   {
    "duration": 34,
    "start_time": "2022-05-29T11:30:01.508Z"
   },
   {
    "duration": 11,
    "start_time": "2022-05-29T11:30:13.089Z"
   },
   {
    "duration": 8,
    "start_time": "2022-05-29T11:30:25.279Z"
   },
   {
    "duration": 9,
    "start_time": "2022-05-29T11:30:35.069Z"
   },
   {
    "duration": 11,
    "start_time": "2022-05-29T11:30:35.592Z"
   },
   {
    "duration": 16,
    "start_time": "2022-05-29T11:30:48.085Z"
   },
   {
    "duration": 16,
    "start_time": "2022-05-29T11:34:03.727Z"
   },
   {
    "duration": 7,
    "start_time": "2022-05-29T11:34:30.220Z"
   },
   {
    "duration": 61,
    "start_time": "2022-05-29T11:36:02.392Z"
   },
   {
    "duration": 33,
    "start_time": "2022-05-29T11:46:15.958Z"
   },
   {
    "duration": 1684,
    "start_time": "2022-05-29T18:35:22.058Z"
   },
   {
    "duration": 4,
    "start_time": "2022-05-29T18:35:23.744Z"
   },
   {
    "duration": 245,
    "start_time": "2022-05-29T18:35:23.750Z"
   },
   {
    "duration": 726,
    "start_time": "2022-05-29T18:35:23.999Z"
   },
   {
    "duration": 862,
    "start_time": "2022-05-29T18:35:24.728Z"
   },
   {
    "duration": 835,
    "start_time": "2022-05-29T18:35:25.592Z"
   },
   {
    "duration": 107,
    "start_time": "2022-05-29T18:35:26.429Z"
   },
   {
    "duration": 105,
    "start_time": "2022-05-29T18:35:26.538Z"
   },
   {
    "duration": 55,
    "start_time": "2022-05-29T18:35:26.645Z"
   },
   {
    "duration": 52,
    "start_time": "2022-05-29T18:35:26.703Z"
   },
   {
    "duration": 34,
    "start_time": "2022-05-29T18:35:26.757Z"
   },
   {
    "duration": 16,
    "start_time": "2022-05-29T18:35:26.793Z"
   },
   {
    "duration": 21,
    "start_time": "2022-05-29T18:35:26.811Z"
   },
   {
    "duration": 489,
    "start_time": "2022-05-29T18:35:26.834Z"
   },
   {
    "duration": 17,
    "start_time": "2022-05-29T18:35:27.330Z"
   },
   {
    "duration": 32,
    "start_time": "2022-05-29T18:35:27.349Z"
   },
   {
    "duration": 71,
    "start_time": "2022-05-29T18:35:27.383Z"
   },
   {
    "duration": 61,
    "start_time": "2022-05-29T18:35:27.456Z"
   },
   {
    "duration": 24,
    "start_time": "2022-05-29T18:35:27.521Z"
   },
   {
    "duration": 91,
    "start_time": "2022-05-29T18:35:27.547Z"
   },
   {
    "duration": 30,
    "start_time": "2022-05-29T18:35:27.640Z"
   },
   {
    "duration": 45,
    "start_time": "2022-05-29T18:35:27.673Z"
   },
   {
    "duration": 57,
    "start_time": "2022-05-29T18:35:27.719Z"
   },
   {
    "duration": 36,
    "start_time": "2022-05-29T18:35:27.778Z"
   },
   {
    "duration": 19,
    "start_time": "2022-05-29T18:35:27.816Z"
   },
   {
    "duration": 29,
    "start_time": "2022-05-29T18:35:27.836Z"
   },
   {
    "duration": 46,
    "start_time": "2022-05-29T18:35:27.867Z"
   },
   {
    "duration": 11,
    "start_time": "2022-05-29T18:35:27.918Z"
   },
   {
    "duration": 33,
    "start_time": "2022-05-29T18:35:27.931Z"
   },
   {
    "duration": 153,
    "start_time": "2022-05-29T18:35:27.965Z"
   },
   {
    "duration": 61,
    "start_time": "2022-05-29T18:35:28.120Z"
   },
   {
    "duration": 14,
    "start_time": "2022-05-29T18:35:28.182Z"
   },
   {
    "duration": 34,
    "start_time": "2022-05-29T18:35:28.198Z"
   },
   {
    "duration": 27,
    "start_time": "2022-05-29T18:35:28.234Z"
   },
   {
    "duration": 42,
    "start_time": "2022-05-29T18:35:28.262Z"
   },
   {
    "duration": 26,
    "start_time": "2022-05-29T18:36:55.613Z"
   },
   {
    "duration": 17,
    "start_time": "2022-05-29T18:40:59.436Z"
   },
   {
    "duration": 23,
    "start_time": "2022-05-29T18:41:43.764Z"
   },
   {
    "duration": 5,
    "start_time": "2022-05-29T18:56:47.916Z"
   },
   {
    "duration": 8,
    "start_time": "2022-05-29T18:56:55.867Z"
   },
   {
    "duration": 389,
    "start_time": "2022-05-29T18:59:11.510Z"
   },
   {
    "duration": 14,
    "start_time": "2022-05-29T18:59:23.836Z"
   },
   {
    "duration": 18,
    "start_time": "2022-05-29T18:59:34.292Z"
   },
   {
    "duration": 11,
    "start_time": "2022-05-29T18:59:42.533Z"
   },
   {
    "duration": 10,
    "start_time": "2022-05-29T18:59:46.381Z"
   },
   {
    "duration": 12,
    "start_time": "2022-05-29T18:59:49.919Z"
   },
   {
    "duration": 11,
    "start_time": "2022-05-29T18:59:55.912Z"
   },
   {
    "duration": 3,
    "start_time": "2022-05-29T19:08:18.450Z"
   },
   {
    "duration": 12,
    "start_time": "2022-05-29T19:11:01.022Z"
   },
   {
    "duration": 15,
    "start_time": "2022-05-29T19:11:15.702Z"
   },
   {
    "duration": 13,
    "start_time": "2022-05-29T19:11:21.137Z"
   },
   {
    "duration": 17,
    "start_time": "2022-05-29T19:11:33.141Z"
   },
   {
    "duration": 17,
    "start_time": "2022-05-29T19:13:53.345Z"
   },
   {
    "duration": 15,
    "start_time": "2022-05-29T19:13:59.759Z"
   },
   {
    "duration": 184,
    "start_time": "2022-05-29T19:14:35.346Z"
   },
   {
    "duration": 221,
    "start_time": "2022-05-29T19:17:47.238Z"
   },
   {
    "duration": 22,
    "start_time": "2022-05-29T19:19:05.856Z"
   },
   {
    "duration": 24,
    "start_time": "2022-05-29T19:22:22.560Z"
   },
   {
    "duration": 17,
    "start_time": "2022-05-29T19:22:46.696Z"
   },
   {
    "duration": 17,
    "start_time": "2022-05-29T19:23:11.767Z"
   },
   {
    "duration": 18,
    "start_time": "2022-05-29T19:23:27.724Z"
   },
   {
    "duration": 20,
    "start_time": "2022-05-29T19:23:32.274Z"
   },
   {
    "duration": 194,
    "start_time": "2022-05-29T19:23:51.155Z"
   },
   {
    "duration": 2030,
    "start_time": "2022-05-29T19:27:03.735Z"
   },
   {
    "duration": 63,
    "start_time": "2022-05-29T19:27:22.653Z"
   },
   {
    "duration": 61,
    "start_time": "2022-05-29T19:28:13.163Z"
   },
   {
    "duration": 63,
    "start_time": "2022-05-29T19:28:59.499Z"
   },
   {
    "duration": 14,
    "start_time": "2022-05-29T19:31:59.568Z"
   },
   {
    "duration": 21,
    "start_time": "2022-05-29T19:32:06.939Z"
   },
   {
    "duration": 5,
    "start_time": "2022-05-29T19:33:16.858Z"
   },
   {
    "duration": 23,
    "start_time": "2022-05-29T19:33:36.924Z"
   },
   {
    "duration": 20,
    "start_time": "2022-05-29T19:33:48.774Z"
   },
   {
    "duration": 22,
    "start_time": "2022-05-29T19:33:52.486Z"
   },
   {
    "duration": 14,
    "start_time": "2022-05-29T19:40:18.505Z"
   },
   {
    "duration": 84,
    "start_time": "2022-05-29T19:40:33.546Z"
   },
   {
    "duration": 17,
    "start_time": "2022-05-29T19:40:39.420Z"
   },
   {
    "duration": 13,
    "start_time": "2022-05-29T19:40:59.879Z"
   },
   {
    "duration": 18,
    "start_time": "2022-05-29T19:41:23.412Z"
   },
   {
    "duration": 18,
    "start_time": "2022-05-29T19:41:32.471Z"
   },
   {
    "duration": 18,
    "start_time": "2022-05-29T19:41:48.769Z"
   },
   {
    "duration": 11,
    "start_time": "2022-05-29T19:42:28.206Z"
   },
   {
    "duration": 13,
    "start_time": "2022-05-29T19:42:32.163Z"
   },
   {
    "duration": 120,
    "start_time": "2022-05-29T19:45:49.847Z"
   },
   {
    "duration": 10,
    "start_time": "2022-05-29T19:46:28.043Z"
   },
   {
    "duration": 10,
    "start_time": "2022-05-29T19:46:31.840Z"
   },
   {
    "duration": 31,
    "start_time": "2022-05-29T19:46:35.522Z"
   },
   {
    "duration": 30,
    "start_time": "2022-05-29T19:47:41.397Z"
   },
   {
    "duration": 9,
    "start_time": "2022-05-29T19:51:00.539Z"
   },
   {
    "duration": 21,
    "start_time": "2022-05-29T19:51:12.468Z"
   },
   {
    "duration": 15,
    "start_time": "2022-05-29T19:51:58.623Z"
   },
   {
    "duration": 14,
    "start_time": "2022-05-29T19:52:13.404Z"
   },
   {
    "duration": 165,
    "start_time": "2022-05-29T19:52:47.240Z"
   },
   {
    "duration": 15,
    "start_time": "2022-05-29T19:53:17.583Z"
   },
   {
    "duration": 34,
    "start_time": "2022-05-29T19:55:16.139Z"
   },
   {
    "duration": 210,
    "start_time": "2022-05-29T19:55:19.981Z"
   },
   {
    "duration": 14,
    "start_time": "2022-05-29T19:55:50.800Z"
   },
   {
    "duration": 25,
    "start_time": "2022-05-29T19:56:14.508Z"
   },
   {
    "duration": 125,
    "start_time": "2022-05-29T19:56:20.223Z"
   },
   {
    "duration": 14,
    "start_time": "2022-05-29T19:56:39.140Z"
   },
   {
    "duration": 23,
    "start_time": "2022-05-29T19:57:22.013Z"
   },
   {
    "duration": 10,
    "start_time": "2022-05-29T19:57:48.725Z"
   },
   {
    "duration": 14,
    "start_time": "2022-05-29T19:57:56.478Z"
   },
   {
    "duration": 92,
    "start_time": "2022-05-29T19:58:01.701Z"
   },
   {
    "duration": 59,
    "start_time": "2022-05-29T19:58:29.010Z"
   },
   {
    "duration": 57,
    "start_time": "2022-05-29T19:58:57.892Z"
   },
   {
    "duration": 1376,
    "start_time": "2022-05-30T10:42:28.768Z"
   },
   {
    "duration": 7,
    "start_time": "2022-05-30T10:42:30.147Z"
   },
   {
    "duration": 236,
    "start_time": "2022-05-30T10:42:30.155Z"
   },
   {
    "duration": 636,
    "start_time": "2022-05-30T10:42:30.393Z"
   },
   {
    "duration": 673,
    "start_time": "2022-05-30T10:42:31.031Z"
   },
   {
    "duration": 686,
    "start_time": "2022-05-30T10:42:31.705Z"
   },
   {
    "duration": 88,
    "start_time": "2022-05-30T10:42:32.392Z"
   },
   {
    "duration": 110,
    "start_time": "2022-05-30T10:42:32.482Z"
   },
   {
    "duration": 52,
    "start_time": "2022-05-30T10:42:32.594Z"
   },
   {
    "duration": 60,
    "start_time": "2022-05-30T10:42:32.647Z"
   },
   {
    "duration": 26,
    "start_time": "2022-05-30T10:42:32.710Z"
   },
   {
    "duration": 38,
    "start_time": "2022-05-30T10:42:32.738Z"
   },
   {
    "duration": 47,
    "start_time": "2022-05-30T10:42:32.778Z"
   },
   {
    "duration": 438,
    "start_time": "2022-05-30T10:42:32.830Z"
   },
   {
    "duration": 13,
    "start_time": "2022-05-30T10:42:33.271Z"
   },
   {
    "duration": 15,
    "start_time": "2022-05-30T10:42:33.286Z"
   },
   {
    "duration": 46,
    "start_time": "2022-05-30T10:42:33.303Z"
   },
   {
    "duration": 52,
    "start_time": "2022-05-30T10:42:33.351Z"
   },
   {
    "duration": 8,
    "start_time": "2022-05-30T10:42:33.405Z"
   },
   {
    "duration": 21,
    "start_time": "2022-05-30T10:42:33.415Z"
   },
   {
    "duration": 9,
    "start_time": "2022-05-30T10:42:33.439Z"
   },
   {
    "duration": 38,
    "start_time": "2022-05-30T10:42:33.450Z"
   },
   {
    "duration": 27,
    "start_time": "2022-05-30T10:42:33.490Z"
   },
   {
    "duration": 31,
    "start_time": "2022-05-30T10:42:33.519Z"
   },
   {
    "duration": 43,
    "start_time": "2022-05-30T10:42:33.552Z"
   },
   {
    "duration": 18,
    "start_time": "2022-05-30T10:42:33.597Z"
   },
   {
    "duration": 21,
    "start_time": "2022-05-30T10:42:33.617Z"
   },
   {
    "duration": 24,
    "start_time": "2022-05-30T10:42:33.640Z"
   },
   {
    "duration": 36,
    "start_time": "2022-05-30T10:42:33.666Z"
   },
   {
    "duration": 175,
    "start_time": "2022-05-30T10:42:33.704Z"
   },
   {
    "duration": 42,
    "start_time": "2022-05-30T10:42:33.881Z"
   },
   {
    "duration": 11,
    "start_time": "2022-05-30T10:42:33.925Z"
   },
   {
    "duration": 25,
    "start_time": "2022-05-30T10:42:33.952Z"
   },
   {
    "duration": 29,
    "start_time": "2022-05-30T10:42:33.978Z"
   },
   {
    "duration": 17,
    "start_time": "2022-05-30T10:42:34.009Z"
   },
   {
    "duration": 54,
    "start_time": "2022-05-30T10:42:34.028Z"
   },
   {
    "duration": 446,
    "start_time": "2022-05-30T10:42:34.084Z"
   },
   {
    "duration": 65,
    "start_time": "2022-05-30T10:42:34.532Z"
   },
   {
    "duration": 93,
    "start_time": "2022-05-30T10:42:34.599Z"
   },
   {
    "duration": 118,
    "start_time": "2022-05-30T10:42:34.694Z"
   },
   {
    "duration": 67,
    "start_time": "2022-05-30T10:44:00.002Z"
   },
   {
    "duration": 106,
    "start_time": "2022-05-30T10:44:37.555Z"
   },
   {
    "duration": 107,
    "start_time": "2022-05-30T10:44:43.673Z"
   },
   {
    "duration": 208,
    "start_time": "2022-05-30T10:45:23.175Z"
   },
   {
    "duration": 95,
    "start_time": "2022-05-30T10:45:40.074Z"
   },
   {
    "duration": 21,
    "start_time": "2022-05-30T10:46:12.117Z"
   },
   {
    "duration": 10,
    "start_time": "2022-05-30T10:48:32.870Z"
   },
   {
    "duration": 11,
    "start_time": "2022-05-30T10:48:44.596Z"
   },
   {
    "duration": 20,
    "start_time": "2022-05-30T10:48:47.320Z"
   },
   {
    "duration": 10,
    "start_time": "2022-05-30T10:50:03.684Z"
   },
   {
    "duration": 989,
    "start_time": "2022-05-30T10:53:04.468Z"
   },
   {
    "duration": 14,
    "start_time": "2022-05-30T10:53:22.173Z"
   },
   {
    "duration": 8,
    "start_time": "2022-05-30T10:54:10.126Z"
   },
   {
    "duration": 10,
    "start_time": "2022-05-30T10:54:15.816Z"
   },
   {
    "duration": 8,
    "start_time": "2022-05-30T10:54:20.589Z"
   },
   {
    "duration": 10,
    "start_time": "2022-05-30T10:54:34.065Z"
   },
   {
    "duration": 8,
    "start_time": "2022-05-30T10:55:09.477Z"
   },
   {
    "duration": 18,
    "start_time": "2022-05-30T10:55:13.450Z"
   },
   {
    "duration": 33,
    "start_time": "2022-05-30T10:55:27.896Z"
   },
   {
    "duration": 21,
    "start_time": "2022-05-30T10:55:37.346Z"
   },
   {
    "duration": 15,
    "start_time": "2022-05-30T10:55:56.058Z"
   },
   {
    "duration": 21,
    "start_time": "2022-05-30T10:55:59.070Z"
   },
   {
    "duration": 516,
    "start_time": "2022-05-30T10:57:36.555Z"
   },
   {
    "duration": 18,
    "start_time": "2022-05-30T10:57:55.373Z"
   },
   {
    "duration": 15,
    "start_time": "2022-05-30T10:58:42.563Z"
   },
   {
    "duration": 12,
    "start_time": "2022-05-30T10:59:01.507Z"
   },
   {
    "duration": 13,
    "start_time": "2022-05-30T11:00:49.069Z"
   },
   {
    "duration": 12,
    "start_time": "2022-05-30T11:01:22.131Z"
   },
   {
    "duration": 16,
    "start_time": "2022-05-30T11:01:27.265Z"
   },
   {
    "duration": 473,
    "start_time": "2022-05-30T11:01:39.865Z"
   },
   {
    "duration": 18,
    "start_time": "2022-05-30T11:01:46.702Z"
   },
   {
    "duration": 586,
    "start_time": "2022-05-30T11:01:47.083Z"
   },
   {
    "duration": 11,
    "start_time": "2022-05-30T11:01:52.776Z"
   },
   {
    "duration": 17,
    "start_time": "2022-05-30T11:01:53.284Z"
   },
   {
    "duration": 22,
    "start_time": "2022-05-30T11:01:54.149Z"
   },
   {
    "duration": 35,
    "start_time": "2022-05-30T11:02:55.712Z"
   },
   {
    "duration": 24,
    "start_time": "2022-05-30T11:03:01.947Z"
   },
   {
    "duration": 20,
    "start_time": "2022-05-30T11:03:03.085Z"
   },
   {
    "duration": 99,
    "start_time": "2022-05-30T11:03:06.169Z"
   },
   {
    "duration": 6,
    "start_time": "2022-05-30T11:04:16.430Z"
   },
   {
    "duration": 9,
    "start_time": "2022-05-30T11:04:29.096Z"
   },
   {
    "duration": 8,
    "start_time": "2022-05-30T11:04:37.707Z"
   },
   {
    "duration": 20,
    "start_time": "2022-05-30T11:04:55.872Z"
   },
   {
    "duration": 16,
    "start_time": "2022-05-30T11:04:56.750Z"
   },
   {
    "duration": 12,
    "start_time": "2022-05-30T11:06:06.740Z"
   },
   {
    "duration": 21,
    "start_time": "2022-05-30T11:10:16.607Z"
   },
   {
    "duration": 11,
    "start_time": "2022-05-30T11:10:20.079Z"
   },
   {
    "duration": 11,
    "start_time": "2022-05-30T11:36:56.108Z"
   },
   {
    "duration": 28,
    "start_time": "2022-05-30T11:38:45.275Z"
   },
   {
    "duration": 13,
    "start_time": "2022-05-30T11:38:46.108Z"
   },
   {
    "duration": 43,
    "start_time": "2022-05-30T11:52:22.776Z"
   },
   {
    "duration": 53,
    "start_time": "2022-05-30T11:58:41.436Z"
   },
   {
    "duration": 54,
    "start_time": "2022-05-30T11:58:49.332Z"
   },
   {
    "duration": 50,
    "start_time": "2022-05-30T11:58:55.633Z"
   },
   {
    "duration": 13,
    "start_time": "2022-05-30T12:02:06.329Z"
   },
   {
    "duration": 28,
    "start_time": "2022-05-30T12:02:12.297Z"
   },
   {
    "duration": 12,
    "start_time": "2022-05-30T12:08:32.306Z"
   },
   {
    "duration": 1250,
    "start_time": "2022-05-30T19:11:20.400Z"
   },
   {
    "duration": 3,
    "start_time": "2022-05-30T19:11:21.651Z"
   },
   {
    "duration": 420,
    "start_time": "2022-05-30T19:11:21.655Z"
   },
   {
    "duration": 591,
    "start_time": "2022-05-30T19:11:22.077Z"
   },
   {
    "duration": 589,
    "start_time": "2022-05-30T19:11:22.669Z"
   },
   {
    "duration": 521,
    "start_time": "2022-05-30T19:11:23.260Z"
   },
   {
    "duration": 76,
    "start_time": "2022-05-30T19:11:23.783Z"
   },
   {
    "duration": 65,
    "start_time": "2022-05-30T19:11:23.860Z"
   },
   {
    "duration": 53,
    "start_time": "2022-05-30T19:11:23.927Z"
   },
   {
    "duration": 35,
    "start_time": "2022-05-30T19:11:23.983Z"
   },
   {
    "duration": 7,
    "start_time": "2022-05-30T19:11:24.020Z"
   },
   {
    "duration": 9,
    "start_time": "2022-05-30T19:11:24.028Z"
   },
   {
    "duration": 12,
    "start_time": "2022-05-30T19:11:24.038Z"
   },
   {
    "duration": 344,
    "start_time": "2022-05-30T19:11:24.051Z"
   },
   {
    "duration": 9,
    "start_time": "2022-05-30T19:11:24.397Z"
   },
   {
    "duration": 7,
    "start_time": "2022-05-30T19:11:24.408Z"
   },
   {
    "duration": 13,
    "start_time": "2022-05-30T19:11:24.416Z"
   },
   {
    "duration": 14,
    "start_time": "2022-05-30T19:11:24.431Z"
   },
   {
    "duration": 3,
    "start_time": "2022-05-30T19:11:24.446Z"
   },
   {
    "duration": 12,
    "start_time": "2022-05-30T19:11:24.450Z"
   },
   {
    "duration": 29,
    "start_time": "2022-05-30T19:11:24.463Z"
   },
   {
    "duration": 11,
    "start_time": "2022-05-30T19:11:24.493Z"
   },
   {
    "duration": 17,
    "start_time": "2022-05-30T19:11:24.505Z"
   },
   {
    "duration": 18,
    "start_time": "2022-05-30T19:11:24.523Z"
   },
   {
    "duration": 4,
    "start_time": "2022-05-30T19:11:24.543Z"
   },
   {
    "duration": 9,
    "start_time": "2022-05-30T19:11:24.548Z"
   },
   {
    "duration": 45,
    "start_time": "2022-05-30T19:11:24.558Z"
   },
   {
    "duration": 8,
    "start_time": "2022-05-30T19:11:24.606Z"
   },
   {
    "duration": 11,
    "start_time": "2022-05-30T19:11:24.615Z"
   },
   {
    "duration": 119,
    "start_time": "2022-05-30T19:11:24.627Z"
   },
   {
    "duration": 46,
    "start_time": "2022-05-30T19:11:24.748Z"
   },
   {
    "duration": 11,
    "start_time": "2022-05-30T19:11:24.795Z"
   },
   {
    "duration": 9,
    "start_time": "2022-05-30T19:11:24.807Z"
   },
   {
    "duration": 15,
    "start_time": "2022-05-30T19:11:24.817Z"
   },
   {
    "duration": 8,
    "start_time": "2022-05-30T19:11:24.833Z"
   },
   {
    "duration": 51,
    "start_time": "2022-05-30T19:11:24.843Z"
   },
   {
    "duration": 9,
    "start_time": "2022-05-30T19:11:24.895Z"
   },
   {
    "duration": 12,
    "start_time": "2022-05-30T19:11:24.906Z"
   },
   {
    "duration": 458,
    "start_time": "2022-05-30T19:11:24.920Z"
   },
   {
    "duration": 45,
    "start_time": "2022-05-30T19:11:25.380Z"
   },
   {
    "duration": 77,
    "start_time": "2022-05-30T19:11:25.426Z"
   },
   {
    "duration": 50,
    "start_time": "2022-05-30T19:11:25.504Z"
   },
   {
    "duration": 45,
    "start_time": "2022-05-30T19:11:25.555Z"
   },
   {
    "duration": 8,
    "start_time": "2022-05-30T19:11:25.601Z"
   },
   {
    "duration": 6,
    "start_time": "2022-05-30T19:11:25.610Z"
   },
   {
    "duration": 14,
    "start_time": "2022-05-30T19:11:25.618Z"
   },
   {
    "duration": 11,
    "start_time": "2022-05-30T19:11:25.633Z"
   },
   {
    "duration": 51,
    "start_time": "2022-05-30T19:11:25.646Z"
   },
   {
    "duration": 13,
    "start_time": "2022-05-30T19:11:25.698Z"
   },
   {
    "duration": 28,
    "start_time": "2022-05-30T19:25:56.563Z"
   },
   {
    "duration": 7,
    "start_time": "2022-05-30T19:26:11.411Z"
   },
   {
    "duration": 43,
    "start_time": "2022-05-30T19:26:54.973Z"
   },
   {
    "duration": 8,
    "start_time": "2022-05-30T19:26:58.002Z"
   },
   {
    "duration": 7,
    "start_time": "2022-05-30T19:27:37.089Z"
   },
   {
    "duration": 8,
    "start_time": "2022-05-30T19:27:52.695Z"
   },
   {
    "duration": 10,
    "start_time": "2022-05-30T19:28:10.864Z"
   },
   {
    "duration": 7,
    "start_time": "2022-05-30T19:28:17.051Z"
   },
   {
    "duration": 143,
    "start_time": "2022-05-30T19:28:25.261Z"
   },
   {
    "duration": 8,
    "start_time": "2022-05-30T19:28:29.897Z"
   },
   {
    "duration": 8,
    "start_time": "2022-05-30T19:28:46.130Z"
   },
   {
    "duration": 10,
    "start_time": "2022-05-30T19:29:41.302Z"
   },
   {
    "duration": 9,
    "start_time": "2022-05-30T19:30:07.892Z"
   },
   {
    "duration": 8,
    "start_time": "2022-05-30T19:32:19.905Z"
   },
   {
    "duration": 20,
    "start_time": "2022-05-30T19:32:25.951Z"
   },
   {
    "duration": 10,
    "start_time": "2022-05-30T19:32:34.597Z"
   },
   {
    "duration": 11,
    "start_time": "2022-05-30T19:32:42.411Z"
   },
   {
    "duration": 17,
    "start_time": "2022-05-30T19:32:47.594Z"
   },
   {
    "duration": 12,
    "start_time": "2022-05-30T19:33:00.827Z"
   },
   {
    "duration": 14,
    "start_time": "2022-05-30T19:33:03.769Z"
   },
   {
    "duration": 13,
    "start_time": "2022-05-30T19:33:31.856Z"
   },
   {
    "duration": 13,
    "start_time": "2022-05-30T19:33:35.196Z"
   },
   {
    "duration": 20,
    "start_time": "2022-05-30T19:38:33.335Z"
   },
   {
    "duration": 17,
    "start_time": "2022-05-30T19:39:04.564Z"
   },
   {
    "duration": 11,
    "start_time": "2022-05-30T19:39:38.160Z"
   },
   {
    "duration": 13,
    "start_time": "2022-05-30T19:39:38.761Z"
   },
   {
    "duration": 251,
    "start_time": "2022-05-30T19:40:00.196Z"
   },
   {
    "duration": 16,
    "start_time": "2022-05-30T19:40:06.028Z"
   },
   {
    "duration": 14,
    "start_time": "2022-05-30T19:40:10.107Z"
   },
   {
    "duration": 11,
    "start_time": "2022-05-30T19:40:10.323Z"
   },
   {
    "duration": 309,
    "start_time": "2022-05-30T19:40:10.585Z"
   },
   {
    "duration": 156,
    "start_time": "2022-05-30T19:40:46.653Z"
   },
   {
    "duration": 39,
    "start_time": "2022-05-30T19:41:03.634Z"
   },
   {
    "duration": 191,
    "start_time": "2022-05-30T19:41:06.782Z"
   },
   {
    "duration": 154,
    "start_time": "2022-05-30T19:41:14.945Z"
   },
   {
    "duration": 226,
    "start_time": "2022-05-30T19:41:58.580Z"
   },
   {
    "duration": 250,
    "start_time": "2022-05-30T19:42:05.782Z"
   },
   {
    "duration": 210,
    "start_time": "2022-05-30T19:42:18.483Z"
   },
   {
    "duration": 211,
    "start_time": "2022-05-30T19:42:29.238Z"
   },
   {
    "duration": 209,
    "start_time": "2022-05-30T19:42:38.299Z"
   },
   {
    "duration": 20,
    "start_time": "2022-05-30T19:43:16.632Z"
   },
   {
    "duration": 27,
    "start_time": "2022-05-30T19:44:54.780Z"
   },
   {
    "duration": 12,
    "start_time": "2022-05-30T19:45:05.353Z"
   },
   {
    "duration": 13,
    "start_time": "2022-05-30T19:45:23.835Z"
   },
   {
    "duration": 13,
    "start_time": "2022-05-30T19:45:37.209Z"
   },
   {
    "duration": 14,
    "start_time": "2022-05-30T19:46:07.287Z"
   },
   {
    "duration": 9,
    "start_time": "2022-05-30T19:46:37.289Z"
   },
   {
    "duration": 10,
    "start_time": "2022-05-30T19:47:20.834Z"
   },
   {
    "duration": 15,
    "start_time": "2022-05-30T19:47:24.126Z"
   },
   {
    "duration": 143,
    "start_time": "2022-05-30T19:47:43.678Z"
   },
   {
    "duration": 10,
    "start_time": "2022-05-30T19:47:58.235Z"
   },
   {
    "duration": 10,
    "start_time": "2022-05-30T19:48:22.599Z"
   },
   {
    "duration": 204,
    "start_time": "2022-05-30T19:48:31.430Z"
   },
   {
    "duration": 146,
    "start_time": "2022-05-30T19:49:11.911Z"
   },
   {
    "duration": 153,
    "start_time": "2022-05-30T19:49:33.510Z"
   },
   {
    "duration": 10,
    "start_time": "2022-05-30T19:49:59.870Z"
   },
   {
    "duration": 14,
    "start_time": "2022-05-30T19:50:08.760Z"
   },
   {
    "duration": 14,
    "start_time": "2022-05-30T19:50:28.425Z"
   },
   {
    "duration": 10,
    "start_time": "2022-05-30T19:52:34.571Z"
   },
   {
    "duration": 40,
    "start_time": "2022-05-30T19:52:40.070Z"
   },
   {
    "duration": 44,
    "start_time": "2022-05-30T19:53:00.588Z"
   },
   {
    "duration": 45,
    "start_time": "2022-05-30T19:55:41.687Z"
   },
   {
    "duration": 21,
    "start_time": "2022-05-30T19:57:04.808Z"
   },
   {
    "duration": 45,
    "start_time": "2022-05-30T19:57:05.515Z"
   },
   {
    "duration": 20,
    "start_time": "2022-05-30T19:57:11.172Z"
   },
   {
    "duration": 15,
    "start_time": "2022-05-30T19:57:11.817Z"
   },
   {
    "duration": 14,
    "start_time": "2022-05-30T19:57:13.888Z"
   },
   {
    "duration": 43,
    "start_time": "2022-05-30T19:57:16.823Z"
   },
   {
    "duration": 16,
    "start_time": "2022-05-30T19:57:42.216Z"
   },
   {
    "duration": 15,
    "start_time": "2022-05-30T19:57:48.116Z"
   },
   {
    "duration": 15,
    "start_time": "2022-05-30T19:57:51.315Z"
   },
   {
    "duration": 43,
    "start_time": "2022-05-30T19:57:52.821Z"
   },
   {
    "duration": 15,
    "start_time": "2022-05-30T19:58:05.927Z"
   },
   {
    "duration": 44,
    "start_time": "2022-05-30T19:58:06.416Z"
   },
   {
    "duration": 29,
    "start_time": "2022-05-30T20:00:21.219Z"
   },
   {
    "duration": 34,
    "start_time": "2022-05-30T20:00:43.503Z"
   },
   {
    "duration": 77,
    "start_time": "2022-05-30T20:00:56.211Z"
   },
   {
    "duration": 23,
    "start_time": "2022-05-30T20:01:20.490Z"
   },
   {
    "duration": 399,
    "start_time": "2022-05-30T20:02:46.781Z"
   },
   {
    "duration": 397,
    "start_time": "2022-05-30T20:03:02.500Z"
   },
   {
    "duration": 152,
    "start_time": "2022-05-30T20:03:19.812Z"
   },
   {
    "duration": 25,
    "start_time": "2022-05-30T20:03:28.371Z"
   },
   {
    "duration": 186,
    "start_time": "2022-05-30T20:03:41.198Z"
   },
   {
    "duration": 129,
    "start_time": "2022-05-30T20:03:55.066Z"
   },
   {
    "duration": 23,
    "start_time": "2022-05-30T20:07:16.608Z"
   },
   {
    "duration": 23,
    "start_time": "2022-05-30T20:08:25.611Z"
   },
   {
    "duration": 67,
    "start_time": "2022-05-30T20:09:20.054Z"
   },
   {
    "duration": 51,
    "start_time": "2022-05-30T20:11:33.511Z"
   },
   {
    "duration": 15,
    "start_time": "2022-05-30T20:13:10.987Z"
   },
   {
    "duration": 16,
    "start_time": "2022-05-30T20:13:13.502Z"
   },
   {
    "duration": 63,
    "start_time": "2022-05-30T20:13:21.202Z"
   },
   {
    "duration": 1349,
    "start_time": "2022-05-31T11:29:39.575Z"
   },
   {
    "duration": 3,
    "start_time": "2022-05-31T11:29:40.926Z"
   },
   {
    "duration": 194,
    "start_time": "2022-05-31T11:29:40.930Z"
   },
   {
    "duration": 709,
    "start_time": "2022-05-31T11:29:41.126Z"
   },
   {
    "duration": 605,
    "start_time": "2022-05-31T11:29:41.836Z"
   },
   {
    "duration": 639,
    "start_time": "2022-05-31T11:29:42.443Z"
   },
   {
    "duration": 82,
    "start_time": "2022-05-31T11:29:43.084Z"
   },
   {
    "duration": 72,
    "start_time": "2022-05-31T11:29:43.174Z"
   },
   {
    "duration": 63,
    "start_time": "2022-05-31T11:29:43.247Z"
   },
   {
    "duration": 47,
    "start_time": "2022-05-31T11:29:43.313Z"
   },
   {
    "duration": 11,
    "start_time": "2022-05-31T11:29:43.365Z"
   },
   {
    "duration": 10,
    "start_time": "2022-05-31T11:29:43.379Z"
   },
   {
    "duration": 17,
    "start_time": "2022-05-31T11:29:43.390Z"
   },
   {
    "duration": 357,
    "start_time": "2022-05-31T11:29:43.409Z"
   },
   {
    "duration": 13,
    "start_time": "2022-05-31T11:29:43.772Z"
   },
   {
    "duration": 10,
    "start_time": "2022-05-31T11:29:43.787Z"
   },
   {
    "duration": 17,
    "start_time": "2022-05-31T11:29:43.799Z"
   },
   {
    "duration": 16,
    "start_time": "2022-05-31T11:29:43.817Z"
   },
   {
    "duration": 4,
    "start_time": "2022-05-31T11:29:43.835Z"
   },
   {
    "duration": 32,
    "start_time": "2022-05-31T11:29:43.840Z"
   },
   {
    "duration": 8,
    "start_time": "2022-05-31T11:29:43.874Z"
   },
   {
    "duration": 18,
    "start_time": "2022-05-31T11:29:43.884Z"
   },
   {
    "duration": 33,
    "start_time": "2022-05-31T11:29:43.903Z"
   },
   {
    "duration": 32,
    "start_time": "2022-05-31T11:29:43.938Z"
   },
   {
    "duration": 5,
    "start_time": "2022-05-31T11:29:43.972Z"
   },
   {
    "duration": 9,
    "start_time": "2022-05-31T11:29:43.979Z"
   },
   {
    "duration": 19,
    "start_time": "2022-05-31T11:29:43.989Z"
   },
   {
    "duration": 7,
    "start_time": "2022-05-31T11:29:44.012Z"
   },
   {
    "duration": 38,
    "start_time": "2022-05-31T11:29:44.021Z"
   },
   {
    "duration": 127,
    "start_time": "2022-05-31T11:29:44.064Z"
   },
   {
    "duration": 41,
    "start_time": "2022-05-31T11:29:44.192Z"
   },
   {
    "duration": 21,
    "start_time": "2022-05-31T11:29:44.234Z"
   },
   {
    "duration": 18,
    "start_time": "2022-05-31T11:29:44.260Z"
   },
   {
    "duration": 14,
    "start_time": "2022-05-31T11:29:44.280Z"
   },
   {
    "duration": 6,
    "start_time": "2022-05-31T11:29:44.295Z"
   },
   {
    "duration": 10,
    "start_time": "2022-05-31T11:29:44.302Z"
   },
   {
    "duration": 17,
    "start_time": "2022-05-31T11:29:44.314Z"
   },
   {
    "duration": 397,
    "start_time": "2022-05-31T11:29:44.333Z"
   },
   {
    "duration": 36,
    "start_time": "2022-05-31T11:29:44.732Z"
   },
   {
    "duration": 115,
    "start_time": "2022-05-31T11:29:44.770Z"
   },
   {
    "duration": 22,
    "start_time": "2022-05-31T11:29:44.886Z"
   },
   {
    "duration": 56,
    "start_time": "2022-05-31T11:29:44.910Z"
   },
   {
    "duration": 11,
    "start_time": "2022-05-31T11:29:44.967Z"
   },
   {
    "duration": 21,
    "start_time": "2022-05-31T11:29:44.980Z"
   },
   {
    "duration": 12,
    "start_time": "2022-05-31T11:29:45.002Z"
   },
   {
    "duration": 15,
    "start_time": "2022-05-31T11:33:31.793Z"
   },
   {
    "duration": 34,
    "start_time": "2022-05-31T11:36:49.077Z"
   },
   {
    "duration": 17,
    "start_time": "2022-05-31T11:37:04.435Z"
   },
   {
    "duration": 15,
    "start_time": "2022-05-31T11:37:21.836Z"
   },
   {
    "duration": 40,
    "start_time": "2022-05-31T11:37:39.751Z"
   },
   {
    "duration": 29,
    "start_time": "2022-05-31T11:38:57.455Z"
   },
   {
    "duration": 23,
    "start_time": "2022-05-31T11:39:02.407Z"
   },
   {
    "duration": 10,
    "start_time": "2022-05-31T11:39:11.544Z"
   },
   {
    "duration": 25,
    "start_time": "2022-05-31T11:39:31.955Z"
   },
   {
    "duration": 16,
    "start_time": "2022-05-31T11:39:34.149Z"
   },
   {
    "duration": 6,
    "start_time": "2022-05-31T11:39:46.833Z"
   },
   {
    "duration": 964,
    "start_time": "2022-05-31T11:40:02.842Z"
   },
   {
    "duration": 21,
    "start_time": "2022-05-31T11:40:15.774Z"
   },
   {
    "duration": 6,
    "start_time": "2022-05-31T11:40:15.983Z"
   },
   {
    "duration": 4,
    "start_time": "2022-05-31T11:40:16.203Z"
   },
   {
    "duration": 5,
    "start_time": "2022-05-31T11:40:16.388Z"
   },
   {
    "duration": 7,
    "start_time": "2022-05-31T11:40:27.515Z"
   },
   {
    "duration": 22,
    "start_time": "2022-05-31T11:46:41.403Z"
   },
   {
    "duration": 14,
    "start_time": "2022-05-31T11:47:00.266Z"
   },
   {
    "duration": 11,
    "start_time": "2022-05-31T11:47:16.131Z"
   },
   {
    "duration": 11,
    "start_time": "2022-05-31T11:48:19.378Z"
   },
   {
    "duration": 11,
    "start_time": "2022-05-31T11:48:26.499Z"
   },
   {
    "duration": 12,
    "start_time": "2022-05-31T11:48:26.681Z"
   },
   {
    "duration": 505,
    "start_time": "2022-05-31T11:49:16.914Z"
   },
   {
    "duration": 18,
    "start_time": "2022-05-31T11:50:29.100Z"
   },
   {
    "duration": 25,
    "start_time": "2022-05-31T11:51:07.645Z"
   },
   {
    "duration": 23,
    "start_time": "2022-05-31T11:51:24.231Z"
   },
   {
    "duration": 25,
    "start_time": "2022-05-31T11:51:48.810Z"
   },
   {
    "duration": 8,
    "start_time": "2022-05-31T11:51:49.134Z"
   },
   {
    "duration": 9,
    "start_time": "2022-05-31T11:51:50.343Z"
   },
   {
    "duration": 14,
    "start_time": "2022-05-31T11:51:50.954Z"
   },
   {
    "duration": 12,
    "start_time": "2022-05-31T11:51:51.717Z"
   },
   {
    "duration": 16,
    "start_time": "2022-05-31T11:52:01.290Z"
   },
   {
    "duration": 12,
    "start_time": "2022-05-31T11:52:13.828Z"
   },
   {
    "duration": 11,
    "start_time": "2022-05-31T11:55:15.436Z"
   },
   {
    "duration": 17,
    "start_time": "2022-05-31T11:57:32.487Z"
   },
   {
    "duration": 4,
    "start_time": "2022-05-31T11:58:20.873Z"
   },
   {
    "duration": 21,
    "start_time": "2022-05-31T11:58:26.907Z"
   },
   {
    "duration": 3,
    "start_time": "2022-05-31T11:58:45.985Z"
   },
   {
    "duration": 432,
    "start_time": "2022-05-31T11:58:51.804Z"
   },
   {
    "duration": 15,
    "start_time": "2022-05-31T11:59:19.526Z"
   },
   {
    "duration": 9,
    "start_time": "2022-05-31T12:00:38.543Z"
   },
   {
    "duration": 11,
    "start_time": "2022-05-31T12:00:44.080Z"
   },
   {
    "duration": 9,
    "start_time": "2022-05-31T12:00:48.083Z"
   },
   {
    "duration": 10,
    "start_time": "2022-05-31T12:00:48.506Z"
   },
   {
    "duration": 10,
    "start_time": "2022-05-31T12:00:48.850Z"
   },
   {
    "duration": 22,
    "start_time": "2022-05-31T12:00:57.526Z"
   },
   {
    "duration": 22,
    "start_time": "2022-05-31T12:00:58.350Z"
   },
   {
    "duration": 32,
    "start_time": "2022-05-31T12:01:00.353Z"
   },
   {
    "duration": 9,
    "start_time": "2022-05-31T12:01:00.559Z"
   },
   {
    "duration": 12,
    "start_time": "2022-05-31T12:01:00.741Z"
   },
   {
    "duration": 13,
    "start_time": "2022-05-31T12:01:00.906Z"
   },
   {
    "duration": 18,
    "start_time": "2022-05-31T12:01:01.102Z"
   },
   {
    "duration": 17,
    "start_time": "2022-05-31T12:01:01.313Z"
   },
   {
    "duration": 10,
    "start_time": "2022-05-31T12:04:45.432Z"
   },
   {
    "duration": 1336,
    "start_time": "2022-06-01T07:07:27.447Z"
   },
   {
    "duration": 3,
    "start_time": "2022-06-01T07:07:28.786Z"
   },
   {
    "duration": 225,
    "start_time": "2022-06-01T07:07:28.791Z"
   },
   {
    "duration": 789,
    "start_time": "2022-06-01T07:07:29.018Z"
   },
   {
    "duration": 857,
    "start_time": "2022-06-01T07:07:29.810Z"
   },
   {
    "duration": 840,
    "start_time": "2022-06-01T07:07:30.669Z"
   },
   {
    "duration": 90,
    "start_time": "2022-06-01T07:07:31.510Z"
   },
   {
    "duration": 107,
    "start_time": "2022-06-01T07:07:31.602Z"
   },
   {
    "duration": 63,
    "start_time": "2022-06-01T07:07:31.711Z"
   },
   {
    "duration": 72,
    "start_time": "2022-06-01T07:07:31.777Z"
   },
   {
    "duration": 15,
    "start_time": "2022-06-01T07:07:31.851Z"
   },
   {
    "duration": 24,
    "start_time": "2022-06-01T07:07:31.869Z"
   },
   {
    "duration": 23,
    "start_time": "2022-06-01T07:07:31.895Z"
   },
   {
    "duration": 575,
    "start_time": "2022-06-01T07:07:31.929Z"
   },
   {
    "duration": 22,
    "start_time": "2022-06-01T07:07:32.506Z"
   },
   {
    "duration": 37,
    "start_time": "2022-06-01T07:07:32.530Z"
   },
   {
    "duration": 27,
    "start_time": "2022-06-01T07:07:32.569Z"
   },
   {
    "duration": 37,
    "start_time": "2022-06-01T07:07:32.598Z"
   },
   {
    "duration": 17,
    "start_time": "2022-06-01T07:07:32.637Z"
   },
   {
    "duration": 28,
    "start_time": "2022-06-01T07:07:32.656Z"
   },
   {
    "duration": 28,
    "start_time": "2022-06-01T07:07:32.686Z"
   },
   {
    "duration": 48,
    "start_time": "2022-06-01T07:07:32.716Z"
   },
   {
    "duration": 32,
    "start_time": "2022-06-01T07:07:32.767Z"
   },
   {
    "duration": 50,
    "start_time": "2022-06-01T07:07:32.801Z"
   },
   {
    "duration": 34,
    "start_time": "2022-06-01T07:07:32.853Z"
   },
   {
    "duration": 14,
    "start_time": "2022-06-01T07:07:32.889Z"
   },
   {
    "duration": 34,
    "start_time": "2022-06-01T07:07:32.906Z"
   },
   {
    "duration": 12,
    "start_time": "2022-06-01T07:07:32.943Z"
   },
   {
    "duration": 26,
    "start_time": "2022-06-01T07:07:32.957Z"
   },
   {
    "duration": 220,
    "start_time": "2022-06-01T07:07:32.985Z"
   },
   {
    "duration": 69,
    "start_time": "2022-06-01T07:07:33.207Z"
   },
   {
    "duration": 20,
    "start_time": "2022-06-01T07:07:33.278Z"
   },
   {
    "duration": 36,
    "start_time": "2022-06-01T07:07:33.300Z"
   },
   {
    "duration": 52,
    "start_time": "2022-06-01T07:07:33.338Z"
   },
   {
    "duration": 14,
    "start_time": "2022-06-01T07:07:33.392Z"
   },
   {
    "duration": 28,
    "start_time": "2022-06-01T07:07:33.407Z"
   },
   {
    "duration": 81,
    "start_time": "2022-06-01T07:07:33.437Z"
   },
   {
    "duration": 556,
    "start_time": "2022-06-01T07:07:33.519Z"
   },
   {
    "duration": 85,
    "start_time": "2022-06-01T07:07:34.077Z"
   },
   {
    "duration": 187,
    "start_time": "2022-06-01T07:07:34.164Z"
   },
   {
    "duration": 31,
    "start_time": "2022-06-01T07:07:34.355Z"
   },
   {
    "duration": 30,
    "start_time": "2022-06-01T07:07:34.387Z"
   },
   {
    "duration": 61,
    "start_time": "2022-06-01T07:07:34.419Z"
   },
   {
    "duration": 20,
    "start_time": "2022-06-01T07:07:34.486Z"
   },
   {
    "duration": 23,
    "start_time": "2022-06-01T07:07:34.508Z"
   },
   {
    "duration": 43,
    "start_time": "2022-06-01T07:07:34.533Z"
   },
   {
    "duration": 24,
    "start_time": "2022-06-01T07:07:34.578Z"
   },
   {
    "duration": 67,
    "start_time": "2022-06-01T07:07:34.604Z"
   },
   {
    "duration": 21,
    "start_time": "2022-06-01T07:07:34.673Z"
   },
   {
    "duration": 35,
    "start_time": "2022-06-01T07:07:34.697Z"
   },
   {
    "duration": 66,
    "start_time": "2022-06-01T07:07:34.743Z"
   },
   {
    "duration": 63,
    "start_time": "2022-06-01T11:51:49.666Z"
   },
   {
    "duration": 1422,
    "start_time": "2022-06-01T11:51:54.923Z"
   },
   {
    "duration": 3,
    "start_time": "2022-06-01T11:51:56.348Z"
   },
   {
    "duration": 199,
    "start_time": "2022-06-01T11:51:56.352Z"
   },
   {
    "duration": 855,
    "start_time": "2022-06-01T11:52:02.190Z"
   },
   {
    "duration": 884,
    "start_time": "2022-06-01T11:52:48.804Z"
   },
   {
    "duration": 1594,
    "start_time": "2022-06-01T11:52:53.431Z"
   },
   {
    "duration": 88,
    "start_time": "2022-06-01T11:53:25.719Z"
   },
   {
    "duration": 557,
    "start_time": "2022-06-01T11:53:33.029Z"
   },
   {
    "duration": 849,
    "start_time": "2022-06-01T11:53:36.231Z"
   },
   {
    "duration": 5,
    "start_time": "2022-06-01T11:53:55.340Z"
   },
   {
    "duration": 4,
    "start_time": "2022-06-01T11:53:55.569Z"
   },
   {
    "duration": 621,
    "start_time": "2022-06-01T11:53:55.763Z"
   },
   {
    "duration": 634,
    "start_time": "2022-06-01T11:53:56.386Z"
   },
   {
    "duration": 78,
    "start_time": "2022-06-01T11:53:58.850Z"
   },
   {
    "duration": 58,
    "start_time": "2022-06-01T11:54:26.000Z"
   },
   {
    "duration": 11,
    "start_time": "2022-06-01T11:55:44.528Z"
   },
   {
    "duration": 937,
    "start_time": "2022-06-01T11:56:09.663Z"
   },
   {
    "duration": 12,
    "start_time": "2022-06-01T11:57:53.832Z"
   },
   {
    "duration": 16,
    "start_time": "2022-06-01T12:01:02.155Z"
   },
   {
    "duration": 848,
    "start_time": "2022-06-01T12:10:29.520Z"
   },
   {
    "duration": 6,
    "start_time": "2022-06-01T12:10:31.131Z"
   },
   {
    "duration": 11,
    "start_time": "2022-06-01T12:11:14.438Z"
   },
   {
    "duration": 358,
    "start_time": "2022-06-01T12:11:16.754Z"
   },
   {
    "duration": 11,
    "start_time": "2022-06-01T12:11:21.517Z"
   },
   {
    "duration": 9,
    "start_time": "2022-06-01T12:14:56.773Z"
   },
   {
    "duration": 204,
    "start_time": "2022-06-01T12:15:02.284Z"
   },
   {
    "duration": 12,
    "start_time": "2022-06-01T12:15:03.342Z"
   },
   {
    "duration": 9,
    "start_time": "2022-06-01T12:15:04.682Z"
   },
   {
    "duration": 9,
    "start_time": "2022-06-01T12:15:10.681Z"
   },
   {
    "duration": 10,
    "start_time": "2022-06-01T12:15:11.407Z"
   },
   {
    "duration": 9,
    "start_time": "2022-06-01T12:15:13.917Z"
   },
   {
    "duration": 15,
    "start_time": "2022-06-01T12:15:17.629Z"
   },
   {
    "duration": 4,
    "start_time": "2022-06-01T12:15:18.467Z"
   },
   {
    "duration": 13,
    "start_time": "2022-06-01T12:15:18.890Z"
   },
   {
    "duration": 59,
    "start_time": "2022-06-01T12:15:19.072Z"
   },
   {
    "duration": 12,
    "start_time": "2022-06-01T12:15:19.774Z"
   },
   {
    "duration": 16,
    "start_time": "2022-06-01T12:15:19.958Z"
   },
   {
    "duration": 19,
    "start_time": "2022-06-01T12:15:20.145Z"
   },
   {
    "duration": 5,
    "start_time": "2022-06-01T12:15:20.565Z"
   },
   {
    "duration": 9,
    "start_time": "2022-06-01T12:15:20.781Z"
   },
   {
    "duration": 19,
    "start_time": "2022-06-01T12:15:20.988Z"
   },
   {
    "duration": 8,
    "start_time": "2022-06-01T12:15:21.786Z"
   },
   {
    "duration": 8,
    "start_time": "2022-06-01T12:15:21.985Z"
   },
   {
    "duration": 154,
    "start_time": "2022-06-01T12:15:23.460Z"
   },
   {
    "duration": 40,
    "start_time": "2022-06-01T12:15:24.204Z"
   },
   {
    "duration": 16,
    "start_time": "2022-06-01T12:15:26.077Z"
   },
   {
    "duration": 15,
    "start_time": "2022-06-01T12:15:27.374Z"
   },
   {
    "duration": 19,
    "start_time": "2022-06-01T12:15:27.754Z"
   },
   {
    "duration": 7,
    "start_time": "2022-06-01T12:15:28.342Z"
   },
   {
    "duration": 4,
    "start_time": "2022-06-01T12:15:29.334Z"
   },
   {
    "duration": 6,
    "start_time": "2022-06-01T12:15:37.924Z"
   },
   {
    "duration": 6,
    "start_time": "2022-06-01T12:15:57.654Z"
   },
   {
    "duration": 14,
    "start_time": "2022-06-01T12:16:05.148Z"
   },
   {
    "duration": 8,
    "start_time": "2022-06-01T12:16:16.999Z"
   },
   {
    "duration": 8,
    "start_time": "2022-06-01T12:16:21.554Z"
   },
   {
    "duration": 16,
    "start_time": "2022-06-01T12:19:19.382Z"
   },
   {
    "duration": 694,
    "start_time": "2022-06-01T12:20:16.043Z"
   },
   {
    "duration": 13,
    "start_time": "2022-06-01T12:20:24.079Z"
   },
   {
    "duration": 25,
    "start_time": "2022-06-01T12:20:24.814Z"
   },
   {
    "duration": 8,
    "start_time": "2022-06-01T12:20:26.949Z"
   },
   {
    "duration": 828,
    "start_time": "2022-06-01T12:20:27.549Z"
   },
   {
    "duration": 70,
    "start_time": "2022-06-01T12:20:38.870Z"
   },
   {
    "duration": 13,
    "start_time": "2022-06-01T12:21:09.478Z"
   },
   {
    "duration": 42,
    "start_time": "2022-06-01T12:21:44.452Z"
   },
   {
    "duration": 14,
    "start_time": "2022-06-01T12:21:56.860Z"
   },
   {
    "duration": 38,
    "start_time": "2022-06-01T12:23:35.042Z"
   },
   {
    "duration": 4,
    "start_time": "2022-06-01T12:26:26.461Z"
   },
   {
    "duration": 1443,
    "start_time": "2022-06-01T19:22:53.028Z"
   },
   {
    "duration": 3,
    "start_time": "2022-06-01T19:22:54.473Z"
   },
   {
    "duration": 923,
    "start_time": "2022-06-01T19:22:54.478Z"
   },
   {
    "duration": 657,
    "start_time": "2022-06-01T19:22:55.403Z"
   },
   {
    "duration": 88,
    "start_time": "2022-06-01T19:22:56.062Z"
   },
   {
    "duration": 1011,
    "start_time": "2022-06-01T19:22:56.152Z"
   },
   {
    "duration": 68,
    "start_time": "2022-06-01T19:22:57.165Z"
   },
   {
    "duration": 10,
    "start_time": "2022-06-01T19:22:57.235Z"
   },
   {
    "duration": 874,
    "start_time": "2022-06-01T19:22:57.246Z"
   },
   {
    "duration": 6,
    "start_time": "2022-06-01T19:22:58.126Z"
   },
   {
    "duration": 13,
    "start_time": "2022-06-01T19:22:58.134Z"
   },
   {
    "duration": 10,
    "start_time": "2022-06-01T19:22:58.149Z"
   },
   {
    "duration": 10,
    "start_time": "2022-06-01T19:22:58.161Z"
   },
   {
    "duration": 17,
    "start_time": "2022-06-01T19:22:58.173Z"
   },
   {
    "duration": 41,
    "start_time": "2022-06-01T19:22:58.192Z"
   },
   {
    "duration": 4,
    "start_time": "2022-06-01T19:22:58.235Z"
   },
   {
    "duration": 14,
    "start_time": "2022-06-01T19:22:58.241Z"
   },
   {
    "duration": 77,
    "start_time": "2022-06-01T19:22:58.257Z"
   },
   {
    "duration": 13,
    "start_time": "2022-06-01T19:22:58.336Z"
   },
   {
    "duration": 22,
    "start_time": "2022-06-01T19:22:58.352Z"
   },
   {
    "duration": 55,
    "start_time": "2022-06-01T19:22:58.376Z"
   },
   {
    "duration": 7,
    "start_time": "2022-06-01T19:22:58.433Z"
   },
   {
    "duration": 12,
    "start_time": "2022-06-01T19:22:58.442Z"
   },
   {
    "duration": 23,
    "start_time": "2022-06-01T19:22:58.455Z"
   },
   {
    "duration": 8,
    "start_time": "2022-06-01T19:22:58.480Z"
   },
   {
    "duration": 43,
    "start_time": "2022-06-01T19:22:58.491Z"
   },
   {
    "duration": 170,
    "start_time": "2022-06-01T19:22:58.535Z"
   },
   {
    "duration": 56,
    "start_time": "2022-06-01T19:22:58.709Z"
   },
   {
    "duration": 15,
    "start_time": "2022-06-01T19:22:58.766Z"
   },
   {
    "duration": 19,
    "start_time": "2022-06-01T19:22:58.783Z"
   },
   {
    "duration": 35,
    "start_time": "2022-06-01T19:22:58.804Z"
   },
   {
    "duration": 7,
    "start_time": "2022-06-01T19:22:58.840Z"
   },
   {
    "duration": 4,
    "start_time": "2022-06-01T19:22:58.849Z"
   },
   {
    "duration": 12,
    "start_time": "2022-06-01T19:22:58.854Z"
   },
   {
    "duration": 20,
    "start_time": "2022-06-01T19:22:58.867Z"
   },
   {
    "duration": 470,
    "start_time": "2022-06-01T19:22:58.889Z"
   },
   {
    "duration": 68,
    "start_time": "2022-06-01T19:22:59.361Z"
   },
   {
    "duration": 98,
    "start_time": "2022-06-01T19:22:59.431Z"
   },
   {
    "duration": 18,
    "start_time": "2022-06-01T19:22:59.531Z"
   },
   {
    "duration": 25,
    "start_time": "2022-06-01T19:22:59.551Z"
   },
   {
    "duration": 29,
    "start_time": "2022-06-01T19:22:59.578Z"
   },
   {
    "duration": 28,
    "start_time": "2022-06-01T19:22:59.609Z"
   },
   {
    "duration": 12,
    "start_time": "2022-06-01T19:22:59.639Z"
   },
   {
    "duration": 25,
    "start_time": "2022-06-01T19:22:59.653Z"
   },
   {
    "duration": 6,
    "start_time": "2022-06-01T19:22:59.680Z"
   },
   {
    "duration": 44,
    "start_time": "2022-06-01T19:22:59.688Z"
   },
   {
    "duration": 10,
    "start_time": "2022-06-01T19:22:59.734Z"
   },
   {
    "duration": 10,
    "start_time": "2022-06-01T19:22:59.746Z"
   },
   {
    "duration": 13,
    "start_time": "2022-06-01T19:22:59.758Z"
   },
   {
    "duration": 14,
    "start_time": "2022-06-01T19:24:38.284Z"
   },
   {
    "duration": 11,
    "start_time": "2022-06-01T19:25:09.090Z"
   },
   {
    "duration": 32,
    "start_time": "2022-06-01T19:25:56.533Z"
   },
   {
    "duration": 13,
    "start_time": "2022-06-01T19:30:00.144Z"
   },
   {
    "duration": 14,
    "start_time": "2022-06-01T19:30:06.134Z"
   },
   {
    "duration": 8,
    "start_time": "2022-06-01T19:30:34.647Z"
   },
   {
    "duration": 20,
    "start_time": "2022-06-01T19:31:09.237Z"
   },
   {
    "duration": 20,
    "start_time": "2022-06-01T19:31:26.986Z"
   },
   {
    "duration": 153,
    "start_time": "2022-06-01T19:31:38.702Z"
   },
   {
    "duration": 21,
    "start_time": "2022-06-01T19:31:47.274Z"
   },
   {
    "duration": 30,
    "start_time": "2022-06-01T19:32:00.895Z"
   },
   {
    "duration": 26,
    "start_time": "2022-06-01T19:32:52.582Z"
   },
   {
    "duration": 40,
    "start_time": "2022-06-01T19:33:07.595Z"
   },
   {
    "duration": 26,
    "start_time": "2022-06-01T19:33:12.369Z"
   },
   {
    "duration": 29,
    "start_time": "2022-06-01T19:33:29.717Z"
   },
   {
    "duration": 26,
    "start_time": "2022-06-01T19:33:47.799Z"
   },
   {
    "duration": 26,
    "start_time": "2022-06-01T19:34:00.178Z"
   },
   {
    "duration": 22,
    "start_time": "2022-06-01T19:34:44.679Z"
   },
   {
    "duration": 29,
    "start_time": "2022-06-01T19:34:48.381Z"
   },
   {
    "duration": 11,
    "start_time": "2022-06-01T19:35:57.899Z"
   },
   {
    "duration": 19,
    "start_time": "2022-06-01T19:36:01.868Z"
   },
   {
    "duration": 125,
    "start_time": "2022-06-01T19:36:02.573Z"
   },
   {
    "duration": 29,
    "start_time": "2022-06-01T19:37:21.863Z"
   },
   {
    "duration": 10,
    "start_time": "2022-06-01T19:37:40.137Z"
   },
   {
    "duration": 54,
    "start_time": "2022-06-01T19:37:42.697Z"
   },
   {
    "duration": 7,
    "start_time": "2022-06-01T19:37:43.309Z"
   },
   {
    "duration": 35,
    "start_time": "2022-06-01T19:38:05.028Z"
   },
   {
    "duration": 34,
    "start_time": "2022-06-01T19:38:54.948Z"
   },
   {
    "duration": 45,
    "start_time": "2022-06-01T19:39:35.419Z"
   },
   {
    "duration": 31,
    "start_time": "2022-06-01T19:39:41.731Z"
   },
   {
    "duration": 32,
    "start_time": "2022-06-01T19:39:56.779Z"
   },
   {
    "duration": 17,
    "start_time": "2022-06-01T19:40:41.677Z"
   },
   {
    "duration": 11,
    "start_time": "2022-06-01T19:41:30.600Z"
   },
   {
    "duration": 23,
    "start_time": "2022-06-01T19:42:14.556Z"
   },
   {
    "duration": 17,
    "start_time": "2022-06-01T19:44:44.085Z"
   },
   {
    "duration": 11,
    "start_time": "2022-06-01T19:44:53.467Z"
   },
   {
    "duration": 8,
    "start_time": "2022-06-01T19:45:31.840Z"
   },
   {
    "duration": 11,
    "start_time": "2022-06-01T19:45:52.817Z"
   },
   {
    "duration": 15,
    "start_time": "2022-06-01T19:46:14.006Z"
   },
   {
    "duration": 174,
    "start_time": "2022-06-01T19:46:21.065Z"
   },
   {
    "duration": 13,
    "start_time": "2022-06-01T19:46:58.764Z"
   },
   {
    "duration": 13,
    "start_time": "2022-06-01T19:47:27.287Z"
   },
   {
    "duration": 7,
    "start_time": "2022-06-01T19:47:29.663Z"
   },
   {
    "duration": 176,
    "start_time": "2022-06-01T19:47:30.294Z"
   },
   {
    "duration": 238,
    "start_time": "2022-06-01T19:50:12.895Z"
   },
   {
    "duration": 155,
    "start_time": "2022-06-01T19:50:19.843Z"
   },
   {
    "duration": 146,
    "start_time": "2022-06-01T19:52:19.840Z"
   },
   {
    "duration": 55,
    "start_time": "2022-06-01T19:52:43.944Z"
   },
   {
    "duration": 27,
    "start_time": "2022-06-01T19:53:21.383Z"
   },
   {
    "duration": 19,
    "start_time": "2022-06-01T19:53:55.153Z"
   },
   {
    "duration": 18,
    "start_time": "2022-06-01T19:53:55.820Z"
   },
   {
    "duration": 16,
    "start_time": "2022-06-01T19:54:00.578Z"
   },
   {
    "duration": 26,
    "start_time": "2022-06-01T19:54:35.416Z"
   },
   {
    "duration": 31,
    "start_time": "2022-06-01T19:55:17.231Z"
   },
   {
    "duration": 29,
    "start_time": "2022-06-01T19:55:40.100Z"
   },
   {
    "duration": 27,
    "start_time": "2022-06-01T19:57:20.125Z"
   },
   {
    "duration": 20,
    "start_time": "2022-06-01T19:58:15.497Z"
   },
   {
    "duration": 178,
    "start_time": "2022-06-01T19:59:25.570Z"
   },
   {
    "duration": 9,
    "start_time": "2022-06-01T20:00:24.812Z"
   },
   {
    "duration": 10,
    "start_time": "2022-06-01T20:01:00.109Z"
   },
   {
    "duration": 9,
    "start_time": "2022-06-01T20:01:11.241Z"
   },
   {
    "duration": 7,
    "start_time": "2022-06-01T20:01:42.948Z"
   },
   {
    "duration": 416,
    "start_time": "2022-06-01T20:01:54.358Z"
   },
   {
    "duration": 8,
    "start_time": "2022-06-01T20:02:31.993Z"
   },
   {
    "duration": 8,
    "start_time": "2022-06-01T20:03:00.263Z"
   },
   {
    "duration": 6,
    "start_time": "2022-06-01T20:03:07.867Z"
   },
   {
    "duration": 7,
    "start_time": "2022-06-01T20:03:11.783Z"
   },
   {
    "duration": 139,
    "start_time": "2022-06-01T20:03:51.851Z"
   },
   {
    "duration": 157,
    "start_time": "2022-06-01T20:05:02.378Z"
   },
   {
    "duration": 162,
    "start_time": "2022-06-01T20:05:27.455Z"
   },
   {
    "duration": 28,
    "start_time": "2022-06-01T20:07:12.808Z"
   },
   {
    "duration": 20,
    "start_time": "2022-06-01T20:07:17.931Z"
   },
   {
    "duration": 22,
    "start_time": "2022-06-01T20:08:01.162Z"
   },
   {
    "duration": 7,
    "start_time": "2022-06-01T20:08:12.363Z"
   },
   {
    "duration": 5,
    "start_time": "2022-06-01T20:08:16.949Z"
   },
   {
    "duration": 7,
    "start_time": "2022-06-01T20:08:21.069Z"
   },
   {
    "duration": 11,
    "start_time": "2022-06-01T20:09:16.784Z"
   },
   {
    "duration": 127,
    "start_time": "2022-06-01T20:09:54.393Z"
   },
   {
    "duration": 23,
    "start_time": "2022-06-01T20:10:08.168Z"
   },
   {
    "duration": 7,
    "start_time": "2022-06-01T20:10:09.368Z"
   },
   {
    "duration": 117,
    "start_time": "2022-06-01T20:10:10.766Z"
   },
   {
    "duration": 119,
    "start_time": "2022-06-01T20:10:31.239Z"
   },
   {
    "duration": 63,
    "start_time": "2022-06-01T20:11:47.471Z"
   },
   {
    "duration": 8,
    "start_time": "2022-06-01T20:14:15.899Z"
   },
   {
    "duration": 7,
    "start_time": "2022-06-01T20:14:29.453Z"
   },
   {
    "duration": 6,
    "start_time": "2022-06-01T20:15:02.112Z"
   },
   {
    "duration": 5,
    "start_time": "2022-06-01T20:15:02.662Z"
   },
   {
    "duration": 12,
    "start_time": "2022-06-01T20:15:16.769Z"
   },
   {
    "duration": 14,
    "start_time": "2022-06-01T20:15:28.465Z"
   },
   {
    "duration": 14,
    "start_time": "2022-06-01T20:15:44.331Z"
   },
   {
    "duration": 13,
    "start_time": "2022-06-01T20:15:45.761Z"
   },
   {
    "duration": 17,
    "start_time": "2022-06-01T20:15:55.693Z"
   },
   {
    "duration": 27,
    "start_time": "2022-06-01T20:15:58.678Z"
   },
   {
    "duration": 8,
    "start_time": "2022-06-01T20:15:59.249Z"
   },
   {
    "duration": 26,
    "start_time": "2022-06-01T20:16:02.183Z"
   },
   {
    "duration": 7,
    "start_time": "2022-06-01T20:16:02.720Z"
   },
   {
    "duration": 13,
    "start_time": "2022-06-01T20:16:03.171Z"
   },
   {
    "duration": 453,
    "start_time": "2022-06-01T20:16:03.615Z"
   },
   {
    "duration": 28,
    "start_time": "2022-06-01T20:16:07.713Z"
   },
   {
    "duration": 7,
    "start_time": "2022-06-01T20:16:08.675Z"
   },
   {
    "duration": 12,
    "start_time": "2022-06-01T20:16:09.279Z"
   },
   {
    "duration": 399,
    "start_time": "2022-06-01T20:16:09.496Z"
   },
   {
    "duration": 0,
    "start_time": "2022-06-01T20:16:09.897Z"
   },
   {
    "duration": 0,
    "start_time": "2022-06-01T20:16:09.898Z"
   },
   {
    "duration": 10,
    "start_time": "2022-06-01T20:16:26.626Z"
   },
   {
    "duration": 10,
    "start_time": "2022-06-01T20:16:32.982Z"
   },
   {
    "duration": 6,
    "start_time": "2022-06-01T20:16:39.522Z"
   },
   {
    "duration": 12,
    "start_time": "2022-06-01T20:16:48.788Z"
   },
   {
    "duration": 19,
    "start_time": "2022-06-01T20:17:13.019Z"
   },
   {
    "duration": 10,
    "start_time": "2022-06-01T20:17:17.418Z"
   },
   {
    "duration": 7,
    "start_time": "2022-06-01T20:17:17.815Z"
   },
   {
    "duration": 6,
    "start_time": "2022-06-01T20:17:27.898Z"
   },
   {
    "duration": 9,
    "start_time": "2022-06-01T20:17:32.297Z"
   },
   {
    "duration": 12,
    "start_time": "2022-06-01T20:17:52.909Z"
   },
   {
    "duration": 12,
    "start_time": "2022-06-01T20:18:13.137Z"
   },
   {
    "duration": 11,
    "start_time": "2022-06-01T20:18:23.241Z"
   },
   {
    "duration": 13,
    "start_time": "2022-06-01T20:18:24.387Z"
   },
   {
    "duration": 11,
    "start_time": "2022-06-01T20:18:25.090Z"
   },
   {
    "duration": 11,
    "start_time": "2022-06-01T20:22:24.422Z"
   },
   {
    "duration": 12,
    "start_time": "2022-06-01T20:22:52.034Z"
   },
   {
    "duration": 10,
    "start_time": "2022-06-01T20:23:11.383Z"
   },
   {
    "duration": 7,
    "start_time": "2022-06-01T20:23:12.295Z"
   },
   {
    "duration": 17,
    "start_time": "2022-06-01T20:24:14.638Z"
   },
   {
    "duration": 15,
    "start_time": "2022-06-01T20:25:42.679Z"
   },
   {
    "duration": 14,
    "start_time": "2022-06-01T20:29:08.763Z"
   },
   {
    "duration": 21,
    "start_time": "2022-06-01T20:29:19.007Z"
   },
   {
    "duration": 14,
    "start_time": "2022-06-01T20:31:42.659Z"
   },
   {
    "duration": 20,
    "start_time": "2022-06-01T20:31:46.862Z"
   },
   {
    "duration": 11,
    "start_time": "2022-06-01T20:32:41.546Z"
   },
   {
    "duration": 19,
    "start_time": "2022-06-01T20:32:44.886Z"
   },
   {
    "duration": 6,
    "start_time": "2022-06-01T20:32:48.300Z"
   },
   {
    "duration": 21,
    "start_time": "2022-06-01T20:32:53.533Z"
   },
   {
    "duration": 27,
    "start_time": "2022-06-01T20:33:19.831Z"
   },
   {
    "duration": 42,
    "start_time": "2022-06-01T20:33:55.954Z"
   },
   {
    "duration": 22,
    "start_time": "2022-06-01T20:34:04.833Z"
   },
   {
    "duration": 21,
    "start_time": "2022-06-01T20:34:16.098Z"
   },
   {
    "duration": 21,
    "start_time": "2022-06-01T20:36:28.068Z"
   },
   {
    "duration": 13,
    "start_time": "2022-06-01T20:37:53.209Z"
   },
   {
    "duration": 8,
    "start_time": "2022-06-01T20:38:11.284Z"
   },
   {
    "duration": 8,
    "start_time": "2022-06-01T20:38:18.138Z"
   },
   {
    "duration": 8,
    "start_time": "2022-06-01T20:40:07.246Z"
   },
   {
    "duration": 8,
    "start_time": "2022-06-01T20:40:22.287Z"
   },
   {
    "duration": 7,
    "start_time": "2022-06-01T20:40:34.854Z"
   },
   {
    "duration": 26,
    "start_time": "2022-06-01T20:40:53.257Z"
   },
   {
    "duration": 11,
    "start_time": "2022-06-01T20:41:08.748Z"
   },
   {
    "duration": 9,
    "start_time": "2022-06-01T20:43:06.217Z"
   },
   {
    "duration": 23,
    "start_time": "2022-06-01T20:43:17.718Z"
   },
   {
    "duration": 25,
    "start_time": "2022-06-01T20:43:24.282Z"
   },
   {
    "duration": 28,
    "start_time": "2022-06-01T20:50:19.923Z"
   },
   {
    "duration": 31,
    "start_time": "2022-06-01T20:51:50.286Z"
   },
   {
    "duration": 11,
    "start_time": "2022-06-01T20:51:59.700Z"
   },
   {
    "duration": 13,
    "start_time": "2022-06-01T20:58:08.519Z"
   },
   {
    "duration": 21,
    "start_time": "2022-06-01T20:58:26.929Z"
   },
   {
    "duration": 18,
    "start_time": "2022-06-01T20:58:32.326Z"
   },
   {
    "duration": 28,
    "start_time": "2022-06-01T20:58:40.941Z"
   },
   {
    "duration": 14,
    "start_time": "2022-06-01T20:58:55.958Z"
   },
   {
    "duration": 10,
    "start_time": "2022-06-01T20:59:09.176Z"
   },
   {
    "duration": 29,
    "start_time": "2022-06-01T20:59:09.379Z"
   },
   {
    "duration": 21,
    "start_time": "2022-06-01T20:59:09.539Z"
   },
   {
    "duration": 10,
    "start_time": "2022-06-01T20:59:09.729Z"
   },
   {
    "duration": 14,
    "start_time": "2022-06-01T20:59:10.334Z"
   },
   {
    "duration": 20,
    "start_time": "2022-06-01T20:59:12.455Z"
   },
   {
    "duration": 56,
    "start_time": "2022-06-01T20:59:12.746Z"
   },
   {
    "duration": 40,
    "start_time": "2022-06-01T20:59:13.819Z"
   },
   {
    "duration": 63,
    "start_time": "2022-06-01T20:59:14.024Z"
   },
   {
    "duration": 19,
    "start_time": "2022-06-01T20:59:14.750Z"
   },
   {
    "duration": 7,
    "start_time": "2022-06-01T20:59:14.896Z"
   },
   {
    "duration": 29,
    "start_time": "2022-06-01T20:59:15.045Z"
   },
   {
    "duration": 16,
    "start_time": "2022-06-01T20:59:15.258Z"
   },
   {
    "duration": 12,
    "start_time": "2022-06-01T20:59:19.002Z"
   },
   {
    "duration": 25,
    "start_time": "2022-06-01T20:59:20.377Z"
   },
   {
    "duration": 8,
    "start_time": "2022-06-01T20:59:21.084Z"
   },
   {
    "duration": 11,
    "start_time": "2022-06-01T20:59:22.595Z"
   },
   {
    "duration": 10,
    "start_time": "2022-06-01T20:59:23.479Z"
   },
   {
    "duration": 12,
    "start_time": "2022-06-01T20:59:24.084Z"
   },
   {
    "duration": 11,
    "start_time": "2022-06-01T20:59:36.303Z"
   },
   {
    "duration": 13,
    "start_time": "2022-06-01T20:59:40.125Z"
   },
   {
    "duration": 1765,
    "start_time": "2022-06-02T18:34:03.915Z"
   },
   {
    "duration": 4,
    "start_time": "2022-06-02T18:34:05.684Z"
   },
   {
    "duration": 1258,
    "start_time": "2022-06-02T18:34:05.690Z"
   },
   {
    "duration": 834,
    "start_time": "2022-06-02T18:34:06.951Z"
   },
   {
    "duration": 138,
    "start_time": "2022-06-02T18:34:07.787Z"
   },
   {
    "duration": 1228,
    "start_time": "2022-06-02T18:34:07.927Z"
   },
   {
    "duration": 63,
    "start_time": "2022-06-02T18:34:09.157Z"
   },
   {
    "duration": 11,
    "start_time": "2022-06-02T18:34:09.222Z"
   },
   {
    "duration": 983,
    "start_time": "2022-06-02T18:34:09.235Z"
   },
   {
    "duration": 9,
    "start_time": "2022-06-02T18:34:10.222Z"
   },
   {
    "duration": 16,
    "start_time": "2022-06-02T18:34:10.234Z"
   },
   {
    "duration": 30,
    "start_time": "2022-06-02T18:34:10.252Z"
   },
   {
    "duration": 10,
    "start_time": "2022-06-02T18:34:10.283Z"
   },
   {
    "duration": 15,
    "start_time": "2022-06-02T18:34:10.296Z"
   },
   {
    "duration": 25,
    "start_time": "2022-06-02T18:34:10.313Z"
   },
   {
    "duration": 4,
    "start_time": "2022-06-02T18:34:10.341Z"
   },
   {
    "duration": 19,
    "start_time": "2022-06-02T18:34:10.381Z"
   },
   {
    "duration": 90,
    "start_time": "2022-06-02T18:34:10.403Z"
   },
   {
    "duration": 14,
    "start_time": "2022-06-02T18:34:10.495Z"
   },
   {
    "duration": 19,
    "start_time": "2022-06-02T18:34:10.511Z"
   },
   {
    "duration": 53,
    "start_time": "2022-06-02T18:34:10.531Z"
   },
   {
    "duration": 5,
    "start_time": "2022-06-02T18:34:10.586Z"
   },
   {
    "duration": 11,
    "start_time": "2022-06-02T18:34:10.593Z"
   },
   {
    "duration": 25,
    "start_time": "2022-06-02T18:34:10.606Z"
   },
   {
    "duration": 9,
    "start_time": "2022-06-02T18:34:10.633Z"
   },
   {
    "duration": 11,
    "start_time": "2022-06-02T18:34:10.680Z"
   },
   {
    "duration": 241,
    "start_time": "2022-06-02T18:34:10.694Z"
   },
   {
    "duration": 59,
    "start_time": "2022-06-02T18:34:10.939Z"
   },
   {
    "duration": 27,
    "start_time": "2022-06-02T18:34:11.000Z"
   },
   {
    "duration": 18,
    "start_time": "2022-06-02T18:34:11.030Z"
   },
   {
    "duration": 42,
    "start_time": "2022-06-02T18:34:11.050Z"
   },
   {
    "duration": 8,
    "start_time": "2022-06-02T18:34:11.094Z"
   },
   {
    "duration": 156,
    "start_time": "2022-06-02T18:34:11.104Z"
   },
   {
    "duration": 0,
    "start_time": "2022-06-02T18:34:11.261Z"
   },
   {
    "duration": 0,
    "start_time": "2022-06-02T18:34:11.263Z"
   },
   {
    "duration": 0,
    "start_time": "2022-06-02T18:34:11.265Z"
   },
   {
    "duration": 0,
    "start_time": "2022-06-02T18:34:11.267Z"
   },
   {
    "duration": 0,
    "start_time": "2022-06-02T18:34:11.268Z"
   },
   {
    "duration": 0,
    "start_time": "2022-06-02T18:34:11.281Z"
   },
   {
    "duration": 0,
    "start_time": "2022-06-02T18:34:11.282Z"
   },
   {
    "duration": 0,
    "start_time": "2022-06-02T18:34:11.284Z"
   },
   {
    "duration": 0,
    "start_time": "2022-06-02T18:34:11.286Z"
   },
   {
    "duration": 0,
    "start_time": "2022-06-02T18:34:11.288Z"
   },
   {
    "duration": 0,
    "start_time": "2022-06-02T18:34:11.289Z"
   },
   {
    "duration": 0,
    "start_time": "2022-06-02T18:34:11.291Z"
   },
   {
    "duration": 0,
    "start_time": "2022-06-02T18:34:11.292Z"
   },
   {
    "duration": 0,
    "start_time": "2022-06-02T18:34:11.294Z"
   },
   {
    "duration": 0,
    "start_time": "2022-06-02T18:34:11.295Z"
   },
   {
    "duration": 0,
    "start_time": "2022-06-02T18:34:11.297Z"
   },
   {
    "duration": 0,
    "start_time": "2022-06-02T18:34:11.298Z"
   },
   {
    "duration": 0,
    "start_time": "2022-06-02T18:34:11.299Z"
   },
   {
    "duration": 0,
    "start_time": "2022-06-02T18:34:11.301Z"
   },
   {
    "duration": 0,
    "start_time": "2022-06-02T18:34:11.302Z"
   },
   {
    "duration": 19,
    "start_time": "2022-06-02T18:41:32.520Z"
   },
   {
    "duration": 889,
    "start_time": "2022-06-02T18:41:40.026Z"
   },
   {
    "duration": 30,
    "start_time": "2022-06-02T18:42:36.964Z"
   },
   {
    "duration": 73,
    "start_time": "2022-06-02T18:43:04.640Z"
   },
   {
    "duration": 63,
    "start_time": "2022-06-02T18:43:07.968Z"
   },
   {
    "duration": 135,
    "start_time": "2022-06-02T18:43:18.036Z"
   },
   {
    "duration": 56,
    "start_time": "2022-06-02T18:43:27.187Z"
   },
   {
    "duration": 50,
    "start_time": "2022-06-02T18:43:53.894Z"
   },
   {
    "duration": 1377,
    "start_time": "2022-06-02T19:29:14.228Z"
   },
   {
    "duration": 3,
    "start_time": "2022-06-02T19:29:15.606Z"
   },
   {
    "duration": 917,
    "start_time": "2022-06-02T19:29:15.610Z"
   },
   {
    "duration": 565,
    "start_time": "2022-06-02T19:29:16.530Z"
   },
   {
    "duration": 85,
    "start_time": "2022-06-02T19:29:17.096Z"
   },
   {
    "duration": 862,
    "start_time": "2022-06-02T19:29:17.183Z"
   },
   {
    "duration": 56,
    "start_time": "2022-06-02T19:29:18.046Z"
   },
   {
    "duration": 10,
    "start_time": "2022-06-02T19:29:18.104Z"
   },
   {
    "duration": 932,
    "start_time": "2022-06-02T19:29:18.116Z"
   },
   {
    "duration": 15,
    "start_time": "2022-06-02T19:29:19.051Z"
   },
   {
    "duration": 38,
    "start_time": "2022-06-02T19:29:19.068Z"
   },
   {
    "duration": 12,
    "start_time": "2022-06-02T19:29:19.108Z"
   },
   {
    "duration": 11,
    "start_time": "2022-06-02T19:29:19.122Z"
   },
   {
    "duration": 31,
    "start_time": "2022-06-02T19:29:19.134Z"
   },
   {
    "duration": 12,
    "start_time": "2022-06-02T19:29:19.166Z"
   },
   {
    "duration": 17,
    "start_time": "2022-06-02T19:29:19.179Z"
   },
   {
    "duration": 3,
    "start_time": "2022-06-02T19:29:19.198Z"
   },
   {
    "duration": 12,
    "start_time": "2022-06-02T19:29:19.202Z"
   },
   {
    "duration": 82,
    "start_time": "2022-06-02T19:29:19.215Z"
   },
   {
    "duration": 12,
    "start_time": "2022-06-02T19:29:19.299Z"
   },
   {
    "duration": 16,
    "start_time": "2022-06-02T19:29:19.313Z"
   },
   {
    "duration": 38,
    "start_time": "2022-06-02T19:29:19.331Z"
   },
   {
    "duration": 5,
    "start_time": "2022-06-02T19:29:19.371Z"
   },
   {
    "duration": 12,
    "start_time": "2022-06-02T19:29:19.378Z"
   },
   {
    "duration": 19,
    "start_time": "2022-06-02T19:29:19.391Z"
   },
   {
    "duration": 9,
    "start_time": "2022-06-02T19:29:19.412Z"
   },
   {
    "duration": 41,
    "start_time": "2022-06-02T19:29:19.423Z"
   },
   {
    "duration": 143,
    "start_time": "2022-06-02T19:29:19.470Z"
   },
   {
    "duration": 52,
    "start_time": "2022-06-02T19:29:19.615Z"
   },
   {
    "duration": 15,
    "start_time": "2022-06-02T19:29:19.669Z"
   },
   {
    "duration": 14,
    "start_time": "2022-06-02T19:29:19.685Z"
   },
   {
    "duration": 16,
    "start_time": "2022-06-02T19:29:19.700Z"
   },
   {
    "duration": 6,
    "start_time": "2022-06-02T19:29:19.718Z"
   },
   {
    "duration": 62,
    "start_time": "2022-06-02T19:29:19.725Z"
   },
   {
    "duration": 8,
    "start_time": "2022-06-02T19:29:19.788Z"
   },
   {
    "duration": 24,
    "start_time": "2022-06-02T19:29:19.797Z"
   },
   {
    "duration": 11,
    "start_time": "2022-06-02T19:29:19.823Z"
   },
   {
    "duration": 44,
    "start_time": "2022-06-02T19:29:19.836Z"
   },
   {
    "duration": 88,
    "start_time": "2022-06-02T19:29:19.882Z"
   },
   {
    "duration": 10,
    "start_time": "2022-06-02T19:29:19.971Z"
   },
   {
    "duration": 151,
    "start_time": "2022-06-02T19:29:19.983Z"
   },
   {
    "duration": 18,
    "start_time": "2022-06-02T19:29:20.136Z"
   },
   {
    "duration": 290,
    "start_time": "2022-06-02T19:29:20.155Z"
   },
   {
    "duration": 57,
    "start_time": "2022-06-02T19:29:20.446Z"
   },
   {
    "duration": 18,
    "start_time": "2022-06-02T19:29:20.504Z"
   },
   {
    "duration": 9,
    "start_time": "2022-06-02T19:29:20.523Z"
   },
   {
    "duration": 36,
    "start_time": "2022-06-02T19:29:20.534Z"
   },
   {
    "duration": 13,
    "start_time": "2022-06-02T19:29:20.572Z"
   },
   {
    "duration": 18,
    "start_time": "2022-06-02T19:29:20.587Z"
   },
   {
    "duration": 23,
    "start_time": "2022-06-02T19:29:20.606Z"
   },
   {
    "duration": 7,
    "start_time": "2022-06-02T19:29:20.631Z"
   },
   {
    "duration": 32,
    "start_time": "2022-06-02T19:29:20.639Z"
   },
   {
    "duration": 11,
    "start_time": "2022-06-02T19:29:20.673Z"
   },
   {
    "duration": 20,
    "start_time": "2022-06-02T19:29:20.685Z"
   },
   {
    "duration": 38,
    "start_time": "2022-06-02T19:29:42.733Z"
   },
   {
    "duration": 8,
    "start_time": "2022-06-02T19:29:43.231Z"
   },
   {
    "duration": 14,
    "start_time": "2022-06-02T19:29:45.817Z"
   },
   {
    "duration": 14,
    "start_time": "2022-06-02T19:30:59.830Z"
   },
   {
    "duration": 15,
    "start_time": "2022-06-02T19:31:04.173Z"
   },
   {
    "duration": 26,
    "start_time": "2022-06-02T19:31:05.550Z"
   },
   {
    "duration": 23,
    "start_time": "2022-06-02T19:31:06.113Z"
   },
   {
    "duration": 9,
    "start_time": "2022-06-02T19:31:06.919Z"
   },
   {
    "duration": 11,
    "start_time": "2022-06-02T19:31:07.824Z"
   },
   {
    "duration": 20,
    "start_time": "2022-06-02T19:31:10.176Z"
   },
   {
    "duration": 61,
    "start_time": "2022-06-02T19:31:10.472Z"
   },
   {
    "duration": 53,
    "start_time": "2022-06-02T19:31:12.748Z"
   },
   {
    "duration": 20,
    "start_time": "2022-06-02T19:31:14.196Z"
   },
   {
    "duration": 7,
    "start_time": "2022-06-02T19:31:14.533Z"
   },
   {
    "duration": 21,
    "start_time": "2022-06-02T19:31:14.800Z"
   },
   {
    "duration": 12,
    "start_time": "2022-06-02T19:31:15.051Z"
   },
   {
    "duration": 10,
    "start_time": "2022-06-02T19:31:27.327Z"
   },
   {
    "duration": 23,
    "start_time": "2022-06-02T19:31:27.869Z"
   },
   {
    "duration": 6,
    "start_time": "2022-06-02T19:31:28.351Z"
   },
   {
    "duration": 10,
    "start_time": "2022-06-02T19:31:28.572Z"
   },
   {
    "duration": 12,
    "start_time": "2022-06-02T19:31:28.770Z"
   },
   {
    "duration": 11,
    "start_time": "2022-06-02T19:31:29.202Z"
   },
   {
    "duration": 1243,
    "start_time": "2022-06-02T19:31:45.152Z"
   },
   {
    "duration": 3,
    "start_time": "2022-06-02T19:31:46.397Z"
   },
   {
    "duration": 589,
    "start_time": "2022-06-02T19:31:46.401Z"
   },
   {
    "duration": 604,
    "start_time": "2022-06-02T19:31:46.992Z"
   },
   {
    "duration": 92,
    "start_time": "2022-06-02T19:31:47.598Z"
   },
   {
    "duration": 907,
    "start_time": "2022-06-02T19:31:47.691Z"
   },
   {
    "duration": 43,
    "start_time": "2022-06-02T19:31:48.600Z"
   },
   {
    "duration": 9,
    "start_time": "2022-06-02T19:31:48.665Z"
   },
   {
    "duration": 931,
    "start_time": "2022-06-02T19:31:48.675Z"
   },
   {
    "duration": 5,
    "start_time": "2022-06-02T19:31:49.610Z"
   },
   {
    "duration": 30,
    "start_time": "2022-06-02T19:31:49.617Z"
   },
   {
    "duration": 22,
    "start_time": "2022-06-02T19:31:49.649Z"
   },
   {
    "duration": 11,
    "start_time": "2022-06-02T19:31:49.673Z"
   },
   {
    "duration": 6,
    "start_time": "2022-06-02T19:31:49.685Z"
   },
   {
    "duration": 13,
    "start_time": "2022-06-02T19:31:49.692Z"
   },
   {
    "duration": 16,
    "start_time": "2022-06-02T19:31:49.707Z"
   },
   {
    "duration": 3,
    "start_time": "2022-06-02T19:31:49.724Z"
   },
   {
    "duration": 47,
    "start_time": "2022-06-02T19:31:49.729Z"
   },
   {
    "duration": 58,
    "start_time": "2022-06-02T19:31:49.778Z"
   },
   {
    "duration": 12,
    "start_time": "2022-06-02T19:31:49.837Z"
   },
   {
    "duration": 15,
    "start_time": "2022-06-02T19:31:49.864Z"
   },
   {
    "duration": 18,
    "start_time": "2022-06-02T19:31:49.880Z"
   },
   {
    "duration": 5,
    "start_time": "2022-06-02T19:31:49.899Z"
   },
   {
    "duration": 13,
    "start_time": "2022-06-02T19:31:49.905Z"
   },
   {
    "duration": 46,
    "start_time": "2022-06-02T19:31:49.920Z"
   },
   {
    "duration": 8,
    "start_time": "2022-06-02T19:31:49.967Z"
   },
   {
    "duration": 11,
    "start_time": "2022-06-02T19:31:49.977Z"
   },
   {
    "duration": 171,
    "start_time": "2022-06-02T19:31:49.991Z"
   },
   {
    "duration": 45,
    "start_time": "2022-06-02T19:31:50.163Z"
   },
   {
    "duration": 15,
    "start_time": "2022-06-02T19:31:50.209Z"
   },
   {
    "duration": 16,
    "start_time": "2022-06-02T19:31:50.226Z"
   },
   {
    "duration": 18,
    "start_time": "2022-06-02T19:31:50.264Z"
   },
   {
    "duration": 6,
    "start_time": "2022-06-02T19:31:50.284Z"
   },
   {
    "duration": 41,
    "start_time": "2022-06-02T19:31:50.291Z"
   },
   {
    "duration": 8,
    "start_time": "2022-06-02T19:31:50.334Z"
   },
   {
    "duration": 35,
    "start_time": "2022-06-02T19:31:50.343Z"
   },
   {
    "duration": 9,
    "start_time": "2022-06-02T19:31:50.380Z"
   },
   {
    "duration": 28,
    "start_time": "2022-06-02T19:31:50.390Z"
   },
   {
    "duration": 111,
    "start_time": "2022-06-02T19:31:50.419Z"
   },
   {
    "duration": 11,
    "start_time": "2022-06-02T19:31:50.532Z"
   },
   {
    "duration": 141,
    "start_time": "2022-06-02T19:31:50.544Z"
   },
   {
    "duration": 17,
    "start_time": "2022-06-02T19:31:50.687Z"
   },
   {
    "duration": 286,
    "start_time": "2022-06-02T19:31:50.706Z"
   },
   {
    "duration": 56,
    "start_time": "2022-06-02T19:31:50.993Z"
   },
   {
    "duration": 33,
    "start_time": "2022-06-02T19:31:51.050Z"
   },
   {
    "duration": 9,
    "start_time": "2022-06-02T19:31:51.085Z"
   },
   {
    "duration": 24,
    "start_time": "2022-06-02T19:31:51.096Z"
   },
   {
    "duration": 14,
    "start_time": "2022-06-02T19:31:51.122Z"
   },
   {
    "duration": 36,
    "start_time": "2022-06-02T19:31:51.137Z"
   },
   {
    "duration": 23,
    "start_time": "2022-06-02T19:31:51.175Z"
   },
   {
    "duration": 6,
    "start_time": "2022-06-02T19:31:51.200Z"
   },
   {
    "duration": 11,
    "start_time": "2022-06-02T19:31:51.207Z"
   },
   {
    "duration": 11,
    "start_time": "2022-06-02T19:31:51.219Z"
   },
   {
    "duration": 40,
    "start_time": "2022-06-02T19:31:51.231Z"
   },
   {
    "duration": 47,
    "start_time": "2022-06-02T19:32:48.532Z"
   },
   {
    "duration": 8,
    "start_time": "2022-06-02T19:32:49.117Z"
   },
   {
    "duration": 15,
    "start_time": "2022-06-02T19:32:51.079Z"
   },
   {
    "duration": 1441,
    "start_time": "2022-06-03T16:26:34.080Z"
   },
   {
    "duration": 3,
    "start_time": "2022-06-03T16:26:35.523Z"
   },
   {
    "duration": 1341,
    "start_time": "2022-06-03T16:26:35.528Z"
   },
   {
    "duration": 678,
    "start_time": "2022-06-03T16:26:36.871Z"
   },
   {
    "duration": 108,
    "start_time": "2022-06-03T16:26:37.563Z"
   },
   {
    "duration": 1103,
    "start_time": "2022-06-03T16:26:37.673Z"
   },
   {
    "duration": 81,
    "start_time": "2022-06-03T16:26:38.777Z"
   },
   {
    "duration": 13,
    "start_time": "2022-06-03T16:26:38.860Z"
   },
   {
    "duration": 993,
    "start_time": "2022-06-03T16:26:38.875Z"
   },
   {
    "duration": 5,
    "start_time": "2022-06-03T16:26:39.870Z"
   },
   {
    "duration": 31,
    "start_time": "2022-06-03T16:26:39.877Z"
   },
   {
    "duration": 28,
    "start_time": "2022-06-03T16:26:39.923Z"
   },
   {
    "duration": 20,
    "start_time": "2022-06-03T16:26:39.952Z"
   },
   {
    "duration": 23,
    "start_time": "2022-06-03T16:26:39.975Z"
   },
   {
    "duration": 16,
    "start_time": "2022-06-03T16:26:39.999Z"
   },
   {
    "duration": 33,
    "start_time": "2022-06-03T16:26:40.017Z"
   },
   {
    "duration": 9,
    "start_time": "2022-06-03T16:26:40.052Z"
   },
   {
    "duration": 14,
    "start_time": "2022-06-03T16:26:40.063Z"
   },
   {
    "duration": 76,
    "start_time": "2022-06-03T16:26:40.079Z"
   },
   {
    "duration": 13,
    "start_time": "2022-06-03T16:26:40.156Z"
   },
   {
    "duration": 18,
    "start_time": "2022-06-03T16:26:40.171Z"
   },
   {
    "duration": 36,
    "start_time": "2022-06-03T16:26:40.191Z"
   },
   {
    "duration": 8,
    "start_time": "2022-06-03T16:26:40.228Z"
   },
   {
    "duration": 31,
    "start_time": "2022-06-03T16:26:40.237Z"
   },
   {
    "duration": 21,
    "start_time": "2022-06-03T16:26:40.270Z"
   },
   {
    "duration": 8,
    "start_time": "2022-06-03T16:26:40.292Z"
   },
   {
    "duration": 11,
    "start_time": "2022-06-03T16:26:40.301Z"
   },
   {
    "duration": 183,
    "start_time": "2022-06-03T16:26:40.314Z"
   },
   {
    "duration": 67,
    "start_time": "2022-06-03T16:26:40.499Z"
   },
   {
    "duration": 16,
    "start_time": "2022-06-03T16:26:40.568Z"
   },
   {
    "duration": 27,
    "start_time": "2022-06-03T16:26:40.586Z"
   },
   {
    "duration": 42,
    "start_time": "2022-06-03T16:26:40.615Z"
   },
   {
    "duration": 8,
    "start_time": "2022-06-03T16:26:40.659Z"
   },
   {
    "duration": 41,
    "start_time": "2022-06-03T16:26:40.669Z"
   },
   {
    "duration": 19,
    "start_time": "2022-06-03T16:26:40.711Z"
   },
   {
    "duration": 122,
    "start_time": "2022-06-03T16:26:40.731Z"
   },
   {
    "duration": 11,
    "start_time": "2022-06-03T16:26:40.856Z"
   },
   {
    "duration": 32,
    "start_time": "2022-06-03T16:26:40.869Z"
   },
   {
    "duration": 18,
    "start_time": "2022-06-03T16:26:40.903Z"
   },
   {
    "duration": 21,
    "start_time": "2022-06-03T16:26:40.925Z"
   },
   {
    "duration": 142,
    "start_time": "2022-06-03T16:26:40.956Z"
   },
   {
    "duration": 24,
    "start_time": "2022-06-03T16:26:41.100Z"
   },
   {
    "duration": 325,
    "start_time": "2022-06-03T16:26:41.127Z"
   },
   {
    "duration": 56,
    "start_time": "2022-06-03T16:26:41.454Z"
   },
   {
    "duration": 25,
    "start_time": "2022-06-03T16:26:41.525Z"
   },
   {
    "duration": 15,
    "start_time": "2022-06-03T16:26:41.552Z"
   },
   {
    "duration": 26,
    "start_time": "2022-06-03T16:26:41.568Z"
   },
   {
    "duration": 13,
    "start_time": "2022-06-03T16:26:41.596Z"
   },
   {
    "duration": 40,
    "start_time": "2022-06-03T16:26:41.610Z"
   },
   {
    "duration": 31,
    "start_time": "2022-06-03T16:26:41.652Z"
   },
   {
    "duration": 6,
    "start_time": "2022-06-03T16:26:41.685Z"
   },
   {
    "duration": 10,
    "start_time": "2022-06-03T16:26:41.693Z"
   },
   {
    "duration": 12,
    "start_time": "2022-06-03T16:26:41.704Z"
   },
   {
    "duration": 14,
    "start_time": "2022-06-03T16:26:41.718Z"
   },
   {
    "duration": 15,
    "start_time": "2022-08-02T13:33:58.537Z"
   },
   {
    "duration": 6,
    "start_time": "2022-08-02T13:33:58.554Z"
   },
   {
    "duration": 583,
    "start_time": "2022-08-02T13:33:58.561Z"
   },
   {
    "duration": 568,
    "start_time": "2022-08-02T13:33:59.146Z"
   },
   {
    "duration": 91,
    "start_time": "2022-08-02T13:33:59.715Z"
   },
   {
    "duration": 841,
    "start_time": "2022-08-02T13:33:59.807Z"
   },
   {
    "duration": 57,
    "start_time": "2022-08-02T13:34:00.650Z"
   },
   {
    "duration": 9,
    "start_time": "2022-08-02T13:34:00.708Z"
   },
   {
    "duration": 875,
    "start_time": "2022-08-02T13:34:00.718Z"
   },
   {
    "duration": 6,
    "start_time": "2022-08-02T13:34:01.596Z"
   },
   {
    "duration": 77,
    "start_time": "2022-08-02T13:34:01.604Z"
   },
   {
    "duration": 29,
    "start_time": "2022-08-02T13:34:01.682Z"
   },
   {
    "duration": 29,
    "start_time": "2022-08-02T13:34:01.713Z"
   },
   {
    "duration": 27,
    "start_time": "2022-08-02T13:34:01.744Z"
   },
   {
    "duration": 57,
    "start_time": "2022-08-02T13:34:01.773Z"
   },
   {
    "duration": 51,
    "start_time": "2022-08-02T13:34:01.831Z"
   },
   {
    "duration": 29,
    "start_time": "2022-08-02T13:34:01.884Z"
   },
   {
    "duration": 36,
    "start_time": "2022-08-02T13:34:01.914Z"
   },
   {
    "duration": 86,
    "start_time": "2022-08-02T13:34:01.951Z"
   },
   {
    "duration": 11,
    "start_time": "2022-08-02T13:34:02.040Z"
   },
   {
    "duration": 51,
    "start_time": "2022-08-02T13:34:02.053Z"
   },
   {
    "duration": 60,
    "start_time": "2022-08-02T13:34:02.105Z"
   },
   {
    "duration": 24,
    "start_time": "2022-08-02T13:34:02.166Z"
   },
   {
    "duration": 30,
    "start_time": "2022-08-02T13:34:02.191Z"
   },
   {
    "duration": 59,
    "start_time": "2022-08-02T13:34:02.222Z"
   },
   {
    "duration": 16,
    "start_time": "2022-08-02T13:34:02.283Z"
   },
   {
    "duration": 49,
    "start_time": "2022-08-02T13:34:02.301Z"
   },
   {
    "duration": 148,
    "start_time": "2022-08-02T13:34:02.356Z"
   },
   {
    "duration": 40,
    "start_time": "2022-08-02T13:34:02.505Z"
   },
   {
    "duration": 20,
    "start_time": "2022-08-02T13:34:02.546Z"
   },
   {
    "duration": 51,
    "start_time": "2022-08-02T13:34:02.567Z"
   },
   {
    "duration": 40,
    "start_time": "2022-08-02T13:34:02.620Z"
   },
   {
    "duration": 23,
    "start_time": "2022-08-02T13:34:02.661Z"
   },
   {
    "duration": 62,
    "start_time": "2022-08-02T13:34:02.686Z"
   },
   {
    "duration": 20,
    "start_time": "2022-08-02T13:34:02.750Z"
   },
   {
    "duration": 45,
    "start_time": "2022-08-02T13:34:02.771Z"
   },
   {
    "duration": 9,
    "start_time": "2022-08-02T13:34:02.817Z"
   },
   {
    "duration": 59,
    "start_time": "2022-08-02T13:34:02.828Z"
   },
   {
    "duration": 19,
    "start_time": "2022-08-02T13:34:02.890Z"
   },
   {
    "duration": 19,
    "start_time": "2022-08-02T13:34:02.911Z"
   },
   {
    "duration": 108,
    "start_time": "2022-08-02T13:34:02.932Z"
   },
   {
    "duration": 18,
    "start_time": "2022-08-02T13:34:03.042Z"
   },
   {
    "duration": 71,
    "start_time": "2022-08-02T13:34:03.062Z"
   },
   {
    "duration": 59,
    "start_time": "2022-08-02T13:34:03.135Z"
   },
   {
    "duration": 18,
    "start_time": "2022-08-02T13:34:03.196Z"
   },
   {
    "duration": 37,
    "start_time": "2022-08-02T13:34:03.216Z"
   },
   {
    "duration": 45,
    "start_time": "2022-08-02T13:34:03.254Z"
   },
   {
    "duration": 39,
    "start_time": "2022-08-02T13:34:03.301Z"
   },
   {
    "duration": 40,
    "start_time": "2022-08-02T13:34:03.341Z"
   },
   {
    "duration": 42,
    "start_time": "2022-08-02T13:34:03.383Z"
   },
   {
    "duration": 26,
    "start_time": "2022-08-02T13:34:03.426Z"
   },
   {
    "duration": 36,
    "start_time": "2022-08-02T13:34:03.453Z"
   },
   {
    "duration": 23,
    "start_time": "2022-08-02T13:34:03.490Z"
   },
   {
    "duration": 32,
    "start_time": "2022-08-02T13:34:03.514Z"
   }
  ],
  "kernelspec": {
   "display_name": "Python 3 (ipykernel)",
   "language": "python",
   "name": "python3"
  },
  "language_info": {
   "codemirror_mode": {
    "name": "ipython",
    "version": 3
   },
   "file_extension": ".py",
   "mimetype": "text/x-python",
   "name": "python",
   "nbconvert_exporter": "python",
   "pygments_lexer": "ipython3",
   "version": "3.9.5"
  },
  "toc": {
   "base_numbering": 1,
   "nav_menu": {},
   "number_sections": true,
   "sideBar": true,
   "skip_h1_title": true,
   "title_cell": "Table of Contents",
   "title_sidebar": "Contents",
   "toc_cell": false,
   "toc_position": {
    "height": "calc(100% - 180px)",
    "left": "10px",
    "top": "150px",
    "width": "165px"
   },
   "toc_section_display": true,
   "toc_window_display": true
  }
 },
 "nbformat": 4,
 "nbformat_minor": 2
}
