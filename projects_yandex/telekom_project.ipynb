{
 "cells": [
  {
   "cell_type": "markdown",
   "metadata": {},
   "source": [
    "# Определение перспективного тарифа для телеком-компании"
   ]
  },
  {
   "cell_type": "markdown",
   "metadata": {},
   "source": [
    "Необходимо провести анализ тарифов на  выборке клиентов. Есть данные 500 пользователей «Мегалайна»: кто они, откуда, каким тарифом пользуются, сколько звонков и сообщений каждый отправил за 2018 год. \n",
    "Нужно проанализировать поведение клиентов и сделать вывод — какой тариф лучше.\n",
    "\n",
    "Описание тарифов\n",
    "\n",
    "Тариф «Смарт»\n",
    "\n",
    "- Ежемесячная плата: 550 рублей\n",
    "- Включено 500 минут разговора, 50 сообщений и 15 Гб интернет-трафика\n",
    "- Стоимость услуг сверх тарифного пакета: 1. минута разговора: 3 рубля («Мегалайн» всегда округляет вверх значения минут и мегабайтов. Если пользователь проговорил всего 1 секунду, в тарифе засчитывается целая минута); 2. сообщение: 3 рубля; 3. 1 Гб интернет-трафика: 200 рублей.\n",
    "\n",
    "Тариф «Ультра»\n",
    "\n",
    "- Ежемесячная плата: 1950 рублей\n",
    "- Включено 3000 минут разговора, 1000 сообщений и 30 Гб интернет-трафика\n",
    "-  Стоимость услуг сверх тарифного пакета: 1. минута разговора: 1 рубль; 2. сообщение: 1 рубль; 3. 1 Гб интернет-трафика: 150 рублей."
   ]
  },
  {
   "cell_type": "markdown",
   "metadata": {},
   "source": [
    "## Изучение данных из файла"
   ]
  },
  {
   "cell_type": "code",
   "execution_count": 1,
   "metadata": {},
   "outputs": [],
   "source": [
    "import pandas as pd\n",
    "import matplotlib.pyplot as plt\n",
    "from scipy import stats as st\n",
    "import numpy as np\n",
    "import math\n",
    "import seaborn as sns"
   ]
  },
  {
   "cell_type": "code",
   "execution_count": 2,
   "metadata": {
    "scrolled": false
   },
   "outputs": [
    {
     "data": {
      "text/html": [
       "<div>\n",
       "<style scoped>\n",
       "    .dataframe tbody tr th:only-of-type {\n",
       "        vertical-align: middle;\n",
       "    }\n",
       "\n",
       "    .dataframe tbody tr th {\n",
       "        vertical-align: top;\n",
       "    }\n",
       "\n",
       "    .dataframe thead th {\n",
       "        text-align: right;\n",
       "    }\n",
       "</style>\n",
       "<table border=\"1\" class=\"dataframe\">\n",
       "  <thead>\n",
       "    <tr style=\"text-align: right;\">\n",
       "      <th></th>\n",
       "      <th>id</th>\n",
       "      <th>call_date</th>\n",
       "      <th>duration</th>\n",
       "      <th>user_id</th>\n",
       "    </tr>\n",
       "  </thead>\n",
       "  <tbody>\n",
       "    <tr>\n",
       "      <td>0</td>\n",
       "      <td>1000_0</td>\n",
       "      <td>2018-07-25</td>\n",
       "      <td>0.00</td>\n",
       "      <td>1000</td>\n",
       "    </tr>\n",
       "    <tr>\n",
       "      <td>1</td>\n",
       "      <td>1000_1</td>\n",
       "      <td>2018-08-17</td>\n",
       "      <td>0.00</td>\n",
       "      <td>1000</td>\n",
       "    </tr>\n",
       "    <tr>\n",
       "      <td>2</td>\n",
       "      <td>1000_2</td>\n",
       "      <td>2018-06-11</td>\n",
       "      <td>2.85</td>\n",
       "      <td>1000</td>\n",
       "    </tr>\n",
       "    <tr>\n",
       "      <td>3</td>\n",
       "      <td>1000_3</td>\n",
       "      <td>2018-09-21</td>\n",
       "      <td>13.80</td>\n",
       "      <td>1000</td>\n",
       "    </tr>\n",
       "    <tr>\n",
       "      <td>4</td>\n",
       "      <td>1000_4</td>\n",
       "      <td>2018-12-15</td>\n",
       "      <td>5.18</td>\n",
       "      <td>1000</td>\n",
       "    </tr>\n",
       "    <tr>\n",
       "      <td>...</td>\n",
       "      <td>...</td>\n",
       "      <td>...</td>\n",
       "      <td>...</td>\n",
       "      <td>...</td>\n",
       "    </tr>\n",
       "    <tr>\n",
       "      <td>202602</td>\n",
       "      <td>1499_215</td>\n",
       "      <td>2018-12-26</td>\n",
       "      <td>0.76</td>\n",
       "      <td>1499</td>\n",
       "    </tr>\n",
       "    <tr>\n",
       "      <td>202603</td>\n",
       "      <td>1499_216</td>\n",
       "      <td>2018-10-18</td>\n",
       "      <td>18.83</td>\n",
       "      <td>1499</td>\n",
       "    </tr>\n",
       "    <tr>\n",
       "      <td>202604</td>\n",
       "      <td>1499_217</td>\n",
       "      <td>2018-11-10</td>\n",
       "      <td>10.81</td>\n",
       "      <td>1499</td>\n",
       "    </tr>\n",
       "    <tr>\n",
       "      <td>202605</td>\n",
       "      <td>1499_218</td>\n",
       "      <td>2018-10-06</td>\n",
       "      <td>4.27</td>\n",
       "      <td>1499</td>\n",
       "    </tr>\n",
       "    <tr>\n",
       "      <td>202606</td>\n",
       "      <td>1499_219</td>\n",
       "      <td>2018-12-14</td>\n",
       "      <td>19.62</td>\n",
       "      <td>1499</td>\n",
       "    </tr>\n",
       "  </tbody>\n",
       "</table>\n",
       "<p>202607 rows × 4 columns</p>\n",
       "</div>"
      ],
      "text/plain": [
       "              id   call_date  duration  user_id\n",
       "0         1000_0  2018-07-25      0.00     1000\n",
       "1         1000_1  2018-08-17      0.00     1000\n",
       "2         1000_2  2018-06-11      2.85     1000\n",
       "3         1000_3  2018-09-21     13.80     1000\n",
       "4         1000_4  2018-12-15      5.18     1000\n",
       "...          ...         ...       ...      ...\n",
       "202602  1499_215  2018-12-26      0.76     1499\n",
       "202603  1499_216  2018-10-18     18.83     1499\n",
       "202604  1499_217  2018-11-10     10.81     1499\n",
       "202605  1499_218  2018-10-06      4.27     1499\n",
       "202606  1499_219  2018-12-14     19.62     1499\n",
       "\n",
       "[202607 rows x 4 columns]"
      ]
     },
     "execution_count": 2,
     "metadata": {},
     "output_type": "execute_result"
    }
   ],
   "source": [
    "calls=pd.read_csv('/datasets/calls.csv', sep=',')\n",
    "calls"
   ]
  },
  {
   "cell_type": "code",
   "execution_count": 3,
   "metadata": {
    "scrolled": true
   },
   "outputs": [
    {
     "name": "stdout",
     "output_type": "stream",
     "text": [
      "<class 'pandas.core.frame.DataFrame'>\n",
      "RangeIndex: 202607 entries, 0 to 202606\n",
      "Data columns (total 4 columns):\n",
      "id           202607 non-null object\n",
      "call_date    202607 non-null object\n",
      "duration     202607 non-null float64\n",
      "user_id      202607 non-null int64\n",
      "dtypes: float64(1), int64(1), object(2)\n",
      "memory usage: 6.2+ MB\n"
     ]
    }
   ],
   "source": [
    "calls.info()"
   ]
  },
  {
   "cell_type": "code",
   "execution_count": 4,
   "metadata": {
    "scrolled": false
   },
   "outputs": [
    {
     "data": {
      "text/html": [
       "<div>\n",
       "<style scoped>\n",
       "    .dataframe tbody tr th:only-of-type {\n",
       "        vertical-align: middle;\n",
       "    }\n",
       "\n",
       "    .dataframe tbody tr th {\n",
       "        vertical-align: top;\n",
       "    }\n",
       "\n",
       "    .dataframe thead th {\n",
       "        text-align: right;\n",
       "    }\n",
       "</style>\n",
       "<table border=\"1\" class=\"dataframe\">\n",
       "  <thead>\n",
       "    <tr style=\"text-align: right;\">\n",
       "      <th></th>\n",
       "      <th>Unnamed: 0</th>\n",
       "      <th>id</th>\n",
       "      <th>mb_used</th>\n",
       "      <th>session_date</th>\n",
       "      <th>user_id</th>\n",
       "    </tr>\n",
       "  </thead>\n",
       "  <tbody>\n",
       "    <tr>\n",
       "      <td>0</td>\n",
       "      <td>0</td>\n",
       "      <td>1000_0</td>\n",
       "      <td>112.95</td>\n",
       "      <td>2018-11-25</td>\n",
       "      <td>1000</td>\n",
       "    </tr>\n",
       "    <tr>\n",
       "      <td>1</td>\n",
       "      <td>1</td>\n",
       "      <td>1000_1</td>\n",
       "      <td>1052.81</td>\n",
       "      <td>2018-09-07</td>\n",
       "      <td>1000</td>\n",
       "    </tr>\n",
       "    <tr>\n",
       "      <td>2</td>\n",
       "      <td>2</td>\n",
       "      <td>1000_2</td>\n",
       "      <td>1197.26</td>\n",
       "      <td>2018-06-25</td>\n",
       "      <td>1000</td>\n",
       "    </tr>\n",
       "    <tr>\n",
       "      <td>3</td>\n",
       "      <td>3</td>\n",
       "      <td>1000_3</td>\n",
       "      <td>550.27</td>\n",
       "      <td>2018-08-22</td>\n",
       "      <td>1000</td>\n",
       "    </tr>\n",
       "    <tr>\n",
       "      <td>4</td>\n",
       "      <td>4</td>\n",
       "      <td>1000_4</td>\n",
       "      <td>302.56</td>\n",
       "      <td>2018-09-24</td>\n",
       "      <td>1000</td>\n",
       "    </tr>\n",
       "    <tr>\n",
       "      <td>...</td>\n",
       "      <td>...</td>\n",
       "      <td>...</td>\n",
       "      <td>...</td>\n",
       "      <td>...</td>\n",
       "      <td>...</td>\n",
       "    </tr>\n",
       "    <tr>\n",
       "      <td>149391</td>\n",
       "      <td>149391</td>\n",
       "      <td>1499_152</td>\n",
       "      <td>318.90</td>\n",
       "      <td>2018-10-03</td>\n",
       "      <td>1499</td>\n",
       "    </tr>\n",
       "    <tr>\n",
       "      <td>149392</td>\n",
       "      <td>149392</td>\n",
       "      <td>1499_153</td>\n",
       "      <td>490.13</td>\n",
       "      <td>2018-12-14</td>\n",
       "      <td>1499</td>\n",
       "    </tr>\n",
       "    <tr>\n",
       "      <td>149393</td>\n",
       "      <td>149393</td>\n",
       "      <td>1499_154</td>\n",
       "      <td>0.00</td>\n",
       "      <td>2018-10-27</td>\n",
       "      <td>1499</td>\n",
       "    </tr>\n",
       "    <tr>\n",
       "      <td>149394</td>\n",
       "      <td>149394</td>\n",
       "      <td>1499_155</td>\n",
       "      <td>1246.32</td>\n",
       "      <td>2018-11-26</td>\n",
       "      <td>1499</td>\n",
       "    </tr>\n",
       "    <tr>\n",
       "      <td>149395</td>\n",
       "      <td>149395</td>\n",
       "      <td>1499_156</td>\n",
       "      <td>544.37</td>\n",
       "      <td>2018-10-26</td>\n",
       "      <td>1499</td>\n",
       "    </tr>\n",
       "  </tbody>\n",
       "</table>\n",
       "<p>149396 rows × 5 columns</p>\n",
       "</div>"
      ],
      "text/plain": [
       "        Unnamed: 0        id  mb_used session_date  user_id\n",
       "0                0    1000_0   112.95   2018-11-25     1000\n",
       "1                1    1000_1  1052.81   2018-09-07     1000\n",
       "2                2    1000_2  1197.26   2018-06-25     1000\n",
       "3                3    1000_3   550.27   2018-08-22     1000\n",
       "4                4    1000_4   302.56   2018-09-24     1000\n",
       "...            ...       ...      ...          ...      ...\n",
       "149391      149391  1499_152   318.90   2018-10-03     1499\n",
       "149392      149392  1499_153   490.13   2018-12-14     1499\n",
       "149393      149393  1499_154     0.00   2018-10-27     1499\n",
       "149394      149394  1499_155  1246.32   2018-11-26     1499\n",
       "149395      149395  1499_156   544.37   2018-10-26     1499\n",
       "\n",
       "[149396 rows x 5 columns]"
      ]
     },
     "execution_count": 4,
     "metadata": {},
     "output_type": "execute_result"
    }
   ],
   "source": [
    "internet=pd.read_csv('/datasets/internet.csv', sep=',')\n",
    "internet"
   ]
  },
  {
   "cell_type": "code",
   "execution_count": 5,
   "metadata": {},
   "outputs": [
    {
     "name": "stdout",
     "output_type": "stream",
     "text": [
      "<class 'pandas.core.frame.DataFrame'>\n",
      "RangeIndex: 149396 entries, 0 to 149395\n",
      "Data columns (total 5 columns):\n",
      "Unnamed: 0      149396 non-null int64\n",
      "id              149396 non-null object\n",
      "mb_used         149396 non-null float64\n",
      "session_date    149396 non-null object\n",
      "user_id         149396 non-null int64\n",
      "dtypes: float64(1), int64(2), object(2)\n",
      "memory usage: 5.7+ MB\n"
     ]
    }
   ],
   "source": [
    "internet.info()"
   ]
  },
  {
   "cell_type": "markdown",
   "metadata": {},
   "source": [
    "дублируется индекс в колонке `Unnamed: 0`удалим данный столбец"
   ]
  },
  {
   "cell_type": "code",
   "execution_count": 6,
   "metadata": {},
   "outputs": [
    {
     "data": {
      "text/html": [
       "<div>\n",
       "<style scoped>\n",
       "    .dataframe tbody tr th:only-of-type {\n",
       "        vertical-align: middle;\n",
       "    }\n",
       "\n",
       "    .dataframe tbody tr th {\n",
       "        vertical-align: top;\n",
       "    }\n",
       "\n",
       "    .dataframe thead th {\n",
       "        text-align: right;\n",
       "    }\n",
       "</style>\n",
       "<table border=\"1\" class=\"dataframe\">\n",
       "  <thead>\n",
       "    <tr style=\"text-align: right;\">\n",
       "      <th></th>\n",
       "      <th>id</th>\n",
       "      <th>mb_used</th>\n",
       "      <th>session_date</th>\n",
       "      <th>user_id</th>\n",
       "    </tr>\n",
       "  </thead>\n",
       "  <tbody>\n",
       "    <tr>\n",
       "      <td>0</td>\n",
       "      <td>1000_0</td>\n",
       "      <td>112.95</td>\n",
       "      <td>2018-11-25</td>\n",
       "      <td>1000</td>\n",
       "    </tr>\n",
       "    <tr>\n",
       "      <td>1</td>\n",
       "      <td>1000_1</td>\n",
       "      <td>1052.81</td>\n",
       "      <td>2018-09-07</td>\n",
       "      <td>1000</td>\n",
       "    </tr>\n",
       "    <tr>\n",
       "      <td>2</td>\n",
       "      <td>1000_2</td>\n",
       "      <td>1197.26</td>\n",
       "      <td>2018-06-25</td>\n",
       "      <td>1000</td>\n",
       "    </tr>\n",
       "    <tr>\n",
       "      <td>3</td>\n",
       "      <td>1000_3</td>\n",
       "      <td>550.27</td>\n",
       "      <td>2018-08-22</td>\n",
       "      <td>1000</td>\n",
       "    </tr>\n",
       "    <tr>\n",
       "      <td>4</td>\n",
       "      <td>1000_4</td>\n",
       "      <td>302.56</td>\n",
       "      <td>2018-09-24</td>\n",
       "      <td>1000</td>\n",
       "    </tr>\n",
       "    <tr>\n",
       "      <td>...</td>\n",
       "      <td>...</td>\n",
       "      <td>...</td>\n",
       "      <td>...</td>\n",
       "      <td>...</td>\n",
       "    </tr>\n",
       "    <tr>\n",
       "      <td>149391</td>\n",
       "      <td>1499_152</td>\n",
       "      <td>318.90</td>\n",
       "      <td>2018-10-03</td>\n",
       "      <td>1499</td>\n",
       "    </tr>\n",
       "    <tr>\n",
       "      <td>149392</td>\n",
       "      <td>1499_153</td>\n",
       "      <td>490.13</td>\n",
       "      <td>2018-12-14</td>\n",
       "      <td>1499</td>\n",
       "    </tr>\n",
       "    <tr>\n",
       "      <td>149393</td>\n",
       "      <td>1499_154</td>\n",
       "      <td>0.00</td>\n",
       "      <td>2018-10-27</td>\n",
       "      <td>1499</td>\n",
       "    </tr>\n",
       "    <tr>\n",
       "      <td>149394</td>\n",
       "      <td>1499_155</td>\n",
       "      <td>1246.32</td>\n",
       "      <td>2018-11-26</td>\n",
       "      <td>1499</td>\n",
       "    </tr>\n",
       "    <tr>\n",
       "      <td>149395</td>\n",
       "      <td>1499_156</td>\n",
       "      <td>544.37</td>\n",
       "      <td>2018-10-26</td>\n",
       "      <td>1499</td>\n",
       "    </tr>\n",
       "  </tbody>\n",
       "</table>\n",
       "<p>149396 rows × 4 columns</p>\n",
       "</div>"
      ],
      "text/plain": [
       "              id  mb_used session_date  user_id\n",
       "0         1000_0   112.95   2018-11-25     1000\n",
       "1         1000_1  1052.81   2018-09-07     1000\n",
       "2         1000_2  1197.26   2018-06-25     1000\n",
       "3         1000_3   550.27   2018-08-22     1000\n",
       "4         1000_4   302.56   2018-09-24     1000\n",
       "...          ...      ...          ...      ...\n",
       "149391  1499_152   318.90   2018-10-03     1499\n",
       "149392  1499_153   490.13   2018-12-14     1499\n",
       "149393  1499_154     0.00   2018-10-27     1499\n",
       "149394  1499_155  1246.32   2018-11-26     1499\n",
       "149395  1499_156   544.37   2018-10-26     1499\n",
       "\n",
       "[149396 rows x 4 columns]"
      ]
     },
     "execution_count": 6,
     "metadata": {},
     "output_type": "execute_result"
    }
   ],
   "source": [
    "internet=internet.drop(columns='Unnamed: 0') \n",
    "internet"
   ]
  },
  {
   "cell_type": "code",
   "execution_count": 7,
   "metadata": {},
   "outputs": [
    {
     "data": {
      "text/html": [
       "<div>\n",
       "<style scoped>\n",
       "    .dataframe tbody tr th:only-of-type {\n",
       "        vertical-align: middle;\n",
       "    }\n",
       "\n",
       "    .dataframe tbody tr th {\n",
       "        vertical-align: top;\n",
       "    }\n",
       "\n",
       "    .dataframe thead th {\n",
       "        text-align: right;\n",
       "    }\n",
       "</style>\n",
       "<table border=\"1\" class=\"dataframe\">\n",
       "  <thead>\n",
       "    <tr style=\"text-align: right;\">\n",
       "      <th></th>\n",
       "      <th>id</th>\n",
       "      <th>message_date</th>\n",
       "      <th>user_id</th>\n",
       "    </tr>\n",
       "  </thead>\n",
       "  <tbody>\n",
       "    <tr>\n",
       "      <td>0</td>\n",
       "      <td>1000_0</td>\n",
       "      <td>2018-06-27</td>\n",
       "      <td>1000</td>\n",
       "    </tr>\n",
       "    <tr>\n",
       "      <td>1</td>\n",
       "      <td>1000_1</td>\n",
       "      <td>2018-10-08</td>\n",
       "      <td>1000</td>\n",
       "    </tr>\n",
       "    <tr>\n",
       "      <td>2</td>\n",
       "      <td>1000_2</td>\n",
       "      <td>2018-08-04</td>\n",
       "      <td>1000</td>\n",
       "    </tr>\n",
       "    <tr>\n",
       "      <td>3</td>\n",
       "      <td>1000_3</td>\n",
       "      <td>2018-06-16</td>\n",
       "      <td>1000</td>\n",
       "    </tr>\n",
       "    <tr>\n",
       "      <td>4</td>\n",
       "      <td>1000_4</td>\n",
       "      <td>2018-12-05</td>\n",
       "      <td>1000</td>\n",
       "    </tr>\n",
       "    <tr>\n",
       "      <td>...</td>\n",
       "      <td>...</td>\n",
       "      <td>...</td>\n",
       "      <td>...</td>\n",
       "    </tr>\n",
       "    <tr>\n",
       "      <td>123031</td>\n",
       "      <td>1499_179</td>\n",
       "      <td>2018-12-12</td>\n",
       "      <td>1499</td>\n",
       "    </tr>\n",
       "    <tr>\n",
       "      <td>123032</td>\n",
       "      <td>1499_180</td>\n",
       "      <td>2018-09-28</td>\n",
       "      <td>1499</td>\n",
       "    </tr>\n",
       "    <tr>\n",
       "      <td>123033</td>\n",
       "      <td>1499_181</td>\n",
       "      <td>2018-09-27</td>\n",
       "      <td>1499</td>\n",
       "    </tr>\n",
       "    <tr>\n",
       "      <td>123034</td>\n",
       "      <td>1499_182</td>\n",
       "      <td>2018-11-15</td>\n",
       "      <td>1499</td>\n",
       "    </tr>\n",
       "    <tr>\n",
       "      <td>123035</td>\n",
       "      <td>1499_183</td>\n",
       "      <td>2018-11-16</td>\n",
       "      <td>1499</td>\n",
       "    </tr>\n",
       "  </tbody>\n",
       "</table>\n",
       "<p>123036 rows × 3 columns</p>\n",
       "</div>"
      ],
      "text/plain": [
       "              id message_date  user_id\n",
       "0         1000_0   2018-06-27     1000\n",
       "1         1000_1   2018-10-08     1000\n",
       "2         1000_2   2018-08-04     1000\n",
       "3         1000_3   2018-06-16     1000\n",
       "4         1000_4   2018-12-05     1000\n",
       "...          ...          ...      ...\n",
       "123031  1499_179   2018-12-12     1499\n",
       "123032  1499_180   2018-09-28     1499\n",
       "123033  1499_181   2018-09-27     1499\n",
       "123034  1499_182   2018-11-15     1499\n",
       "123035  1499_183   2018-11-16     1499\n",
       "\n",
       "[123036 rows x 3 columns]"
      ]
     },
     "execution_count": 7,
     "metadata": {},
     "output_type": "execute_result"
    }
   ],
   "source": [
    "messages=pd.read_csv('/datasets/messages.csv', sep=',')\n",
    "messages"
   ]
  },
  {
   "cell_type": "code",
   "execution_count": 8,
   "metadata": {
    "scrolled": true
   },
   "outputs": [
    {
     "name": "stdout",
     "output_type": "stream",
     "text": [
      "<class 'pandas.core.frame.DataFrame'>\n",
      "RangeIndex: 123036 entries, 0 to 123035\n",
      "Data columns (total 3 columns):\n",
      "id              123036 non-null object\n",
      "message_date    123036 non-null object\n",
      "user_id         123036 non-null int64\n",
      "dtypes: int64(1), object(2)\n",
      "memory usage: 2.8+ MB\n"
     ]
    }
   ],
   "source": [
    "messages.info()"
   ]
  },
  {
   "cell_type": "code",
   "execution_count": 9,
   "metadata": {},
   "outputs": [
    {
     "data": {
      "text/html": [
       "<div>\n",
       "<style scoped>\n",
       "    .dataframe tbody tr th:only-of-type {\n",
       "        vertical-align: middle;\n",
       "    }\n",
       "\n",
       "    .dataframe tbody tr th {\n",
       "        vertical-align: top;\n",
       "    }\n",
       "\n",
       "    .dataframe thead th {\n",
       "        text-align: right;\n",
       "    }\n",
       "</style>\n",
       "<table border=\"1\" class=\"dataframe\">\n",
       "  <thead>\n",
       "    <tr style=\"text-align: right;\">\n",
       "      <th></th>\n",
       "      <th>messages_included</th>\n",
       "      <th>mb_per_month_included</th>\n",
       "      <th>minutes_included</th>\n",
       "      <th>rub_monthly_fee</th>\n",
       "      <th>rub_per_gb</th>\n",
       "      <th>rub_per_message</th>\n",
       "      <th>rub_per_minute</th>\n",
       "      <th>tariff</th>\n",
       "    </tr>\n",
       "  </thead>\n",
       "  <tbody>\n",
       "    <tr>\n",
       "      <td>0</td>\n",
       "      <td>50</td>\n",
       "      <td>15360</td>\n",
       "      <td>500</td>\n",
       "      <td>550</td>\n",
       "      <td>200</td>\n",
       "      <td>3</td>\n",
       "      <td>3</td>\n",
       "      <td>smart</td>\n",
       "    </tr>\n",
       "    <tr>\n",
       "      <td>1</td>\n",
       "      <td>1000</td>\n",
       "      <td>30720</td>\n",
       "      <td>3000</td>\n",
       "      <td>1950</td>\n",
       "      <td>150</td>\n",
       "      <td>1</td>\n",
       "      <td>1</td>\n",
       "      <td>ultra</td>\n",
       "    </tr>\n",
       "  </tbody>\n",
       "</table>\n",
       "</div>"
      ],
      "text/plain": [
       "   messages_included  mb_per_month_included  minutes_included  \\\n",
       "0                 50                  15360               500   \n",
       "1               1000                  30720              3000   \n",
       "\n",
       "   rub_monthly_fee  rub_per_gb  rub_per_message  rub_per_minute tariff  \n",
       "0              550         200                3               3  smart  \n",
       "1             1950         150                1               1  ultra  "
      ]
     },
     "execution_count": 9,
     "metadata": {},
     "output_type": "execute_result"
    }
   ],
   "source": [
    "tariffs=pd.read_csv('/datasets/tariffs.csv', sep=',')\n",
    "tariffs=tariffs.rename(columns={'tariff_name':'tariff'})#переименуем столбец tariff_name\n",
    "tariffs"
   ]
  },
  {
   "cell_type": "code",
   "execution_count": 10,
   "metadata": {},
   "outputs": [
    {
     "data": {
      "text/html": [
       "<div>\n",
       "<style scoped>\n",
       "    .dataframe tbody tr th:only-of-type {\n",
       "        vertical-align: middle;\n",
       "    }\n",
       "\n",
       "    .dataframe tbody tr th {\n",
       "        vertical-align: top;\n",
       "    }\n",
       "\n",
       "    .dataframe thead th {\n",
       "        text-align: right;\n",
       "    }\n",
       "</style>\n",
       "<table border=\"1\" class=\"dataframe\">\n",
       "  <thead>\n",
       "    <tr style=\"text-align: right;\">\n",
       "      <th></th>\n",
       "      <th>user_id</th>\n",
       "      <th>age</th>\n",
       "      <th>churn_date</th>\n",
       "      <th>city</th>\n",
       "      <th>first_name</th>\n",
       "      <th>last_name</th>\n",
       "      <th>reg_date</th>\n",
       "      <th>tariff</th>\n",
       "    </tr>\n",
       "  </thead>\n",
       "  <tbody>\n",
       "    <tr>\n",
       "      <td>0</td>\n",
       "      <td>1000</td>\n",
       "      <td>52</td>\n",
       "      <td>NaN</td>\n",
       "      <td>Краснодар</td>\n",
       "      <td>Рафаил</td>\n",
       "      <td>Верещагин</td>\n",
       "      <td>2018-05-25</td>\n",
       "      <td>ultra</td>\n",
       "    </tr>\n",
       "    <tr>\n",
       "      <td>1</td>\n",
       "      <td>1001</td>\n",
       "      <td>41</td>\n",
       "      <td>NaN</td>\n",
       "      <td>Москва</td>\n",
       "      <td>Иван</td>\n",
       "      <td>Ежов</td>\n",
       "      <td>2018-11-01</td>\n",
       "      <td>smart</td>\n",
       "    </tr>\n",
       "    <tr>\n",
       "      <td>2</td>\n",
       "      <td>1002</td>\n",
       "      <td>59</td>\n",
       "      <td>NaN</td>\n",
       "      <td>Стерлитамак</td>\n",
       "      <td>Евгений</td>\n",
       "      <td>Абрамович</td>\n",
       "      <td>2018-06-17</td>\n",
       "      <td>smart</td>\n",
       "    </tr>\n",
       "    <tr>\n",
       "      <td>3</td>\n",
       "      <td>1003</td>\n",
       "      <td>23</td>\n",
       "      <td>NaN</td>\n",
       "      <td>Москва</td>\n",
       "      <td>Белла</td>\n",
       "      <td>Белякова</td>\n",
       "      <td>2018-08-17</td>\n",
       "      <td>ultra</td>\n",
       "    </tr>\n",
       "    <tr>\n",
       "      <td>4</td>\n",
       "      <td>1004</td>\n",
       "      <td>68</td>\n",
       "      <td>NaN</td>\n",
       "      <td>Новокузнецк</td>\n",
       "      <td>Татьяна</td>\n",
       "      <td>Авдеенко</td>\n",
       "      <td>2018-05-14</td>\n",
       "      <td>ultra</td>\n",
       "    </tr>\n",
       "    <tr>\n",
       "      <td>...</td>\n",
       "      <td>...</td>\n",
       "      <td>...</td>\n",
       "      <td>...</td>\n",
       "      <td>...</td>\n",
       "      <td>...</td>\n",
       "      <td>...</td>\n",
       "      <td>...</td>\n",
       "      <td>...</td>\n",
       "    </tr>\n",
       "    <tr>\n",
       "      <td>495</td>\n",
       "      <td>1495</td>\n",
       "      <td>65</td>\n",
       "      <td>NaN</td>\n",
       "      <td>Иркутск</td>\n",
       "      <td>Авксентий</td>\n",
       "      <td>Фокин</td>\n",
       "      <td>2018-08-28</td>\n",
       "      <td>ultra</td>\n",
       "    </tr>\n",
       "    <tr>\n",
       "      <td>496</td>\n",
       "      <td>1496</td>\n",
       "      <td>36</td>\n",
       "      <td>NaN</td>\n",
       "      <td>Вологда</td>\n",
       "      <td>Трифон</td>\n",
       "      <td>Блохин</td>\n",
       "      <td>2018-01-27</td>\n",
       "      <td>smart</td>\n",
       "    </tr>\n",
       "    <tr>\n",
       "      <td>497</td>\n",
       "      <td>1497</td>\n",
       "      <td>32</td>\n",
       "      <td>NaN</td>\n",
       "      <td>Челябинск</td>\n",
       "      <td>Каролина</td>\n",
       "      <td>Агеева</td>\n",
       "      <td>2018-10-09</td>\n",
       "      <td>smart</td>\n",
       "    </tr>\n",
       "    <tr>\n",
       "      <td>498</td>\n",
       "      <td>1498</td>\n",
       "      <td>68</td>\n",
       "      <td>2018-10-25</td>\n",
       "      <td>Владикавказ</td>\n",
       "      <td>Всеволод</td>\n",
       "      <td>Акимчин</td>\n",
       "      <td>2018-07-19</td>\n",
       "      <td>smart</td>\n",
       "    </tr>\n",
       "    <tr>\n",
       "      <td>499</td>\n",
       "      <td>1499</td>\n",
       "      <td>35</td>\n",
       "      <td>NaN</td>\n",
       "      <td>Пермь</td>\n",
       "      <td>Гектор</td>\n",
       "      <td>Корнилов</td>\n",
       "      <td>2018-09-27</td>\n",
       "      <td>smart</td>\n",
       "    </tr>\n",
       "  </tbody>\n",
       "</table>\n",
       "<p>500 rows × 8 columns</p>\n",
       "</div>"
      ],
      "text/plain": [
       "     user_id  age  churn_date         city first_name  last_name    reg_date  \\\n",
       "0       1000   52         NaN    Краснодар     Рафаил  Верещагин  2018-05-25   \n",
       "1       1001   41         NaN       Москва       Иван       Ежов  2018-11-01   \n",
       "2       1002   59         NaN  Стерлитамак    Евгений  Абрамович  2018-06-17   \n",
       "3       1003   23         NaN       Москва      Белла   Белякова  2018-08-17   \n",
       "4       1004   68         NaN  Новокузнецк    Татьяна   Авдеенко  2018-05-14   \n",
       "..       ...  ...         ...          ...        ...        ...         ...   \n",
       "495     1495   65         NaN      Иркутск  Авксентий      Фокин  2018-08-28   \n",
       "496     1496   36         NaN      Вологда     Трифон     Блохин  2018-01-27   \n",
       "497     1497   32         NaN    Челябинск   Каролина     Агеева  2018-10-09   \n",
       "498     1498   68  2018-10-25  Владикавказ   Всеволод    Акимчин  2018-07-19   \n",
       "499     1499   35         NaN        Пермь     Гектор   Корнилов  2018-09-27   \n",
       "\n",
       "    tariff  \n",
       "0    ultra  \n",
       "1    smart  \n",
       "2    smart  \n",
       "3    ultra  \n",
       "4    ultra  \n",
       "..     ...  \n",
       "495  ultra  \n",
       "496  smart  \n",
       "497  smart  \n",
       "498  smart  \n",
       "499  smart  \n",
       "\n",
       "[500 rows x 8 columns]"
      ]
     },
     "execution_count": 10,
     "metadata": {},
     "output_type": "execute_result"
    }
   ],
   "source": [
    "users=pd.read_csv('/datasets/users.csv', sep=',')\n",
    "users"
   ]
  },
  {
   "cell_type": "code",
   "execution_count": 11,
   "metadata": {},
   "outputs": [
    {
     "name": "stdout",
     "output_type": "stream",
     "text": [
      "<class 'pandas.core.frame.DataFrame'>\n",
      "RangeIndex: 500 entries, 0 to 499\n",
      "Data columns (total 8 columns):\n",
      "user_id       500 non-null int64\n",
      "age           500 non-null int64\n",
      "churn_date    38 non-null object\n",
      "city          500 non-null object\n",
      "first_name    500 non-null object\n",
      "last_name     500 non-null object\n",
      "reg_date      500 non-null object\n",
      "tariff        500 non-null object\n",
      "dtypes: int64(2), object(6)\n",
      "memory usage: 31.4+ KB\n"
     ]
    }
   ],
   "source": [
    "users.info()"
   ]
  },
  {
   "cell_type": "code",
   "execution_count": 12,
   "metadata": {},
   "outputs": [
    {
     "data": {
      "text/plain": [
       "user_id         0\n",
       "age             0\n",
       "churn_date    462\n",
       "city            0\n",
       "first_name      0\n",
       "last_name       0\n",
       "reg_date        0\n",
       "tariff          0\n",
       "dtype: int64"
      ]
     },
     "execution_count": 12,
     "metadata": {},
     "output_type": "execute_result"
    }
   ],
   "source": [
    "users.isna().sum()"
   ]
  },
  {
   "cell_type": "markdown",
   "metadata": {},
   "source": [
    "В столбце `churn_date`  462 пропущенных значений. Если значение пропущено, то тариф ещё действовал на момент выгрузки данных. Думаю, стоит оставить как есть.\n",
    "\n",
    "Во всех таблицах дата имеет тип данных \"object\" , заменим на тип в datetime. \n",
    "\n",
    "В таблицах calls, internet меняем тип данных на целочисленный в столбцах `duration`, `mb_used` и округляем до большего значения. Как нам известно, \"Мегалайн\" всегда округляет секунды до минут, а мегабайты — до гигабайт."
   ]
  },
  {
   "cell_type": "markdown",
   "metadata": {},
   "source": [
    "## Предобработка данных"
   ]
  },
  {
   "cell_type": "code",
   "execution_count": 13,
   "metadata": {},
   "outputs": [],
   "source": [
    "#первеедем столбец call_date в datetime:\n",
    "calls['call_date']=pd.to_datetime(calls['call_date'], format='%Y-%m-%dT%H:%M:%S')"
   ]
  },
  {
   "cell_type": "code",
   "execution_count": 14,
   "metadata": {},
   "outputs": [],
   "source": [
    "#поменяем тип данных на целочисленный в столбце duration и округлим в большую сторону:\n",
    "calls['duration'] = np.ceil(calls['duration']).astype('Int64')"
   ]
  },
  {
   "cell_type": "code",
   "execution_count": 15,
   "metadata": {},
   "outputs": [
    {
     "name": "stdout",
     "output_type": "stream",
     "text": [
      "<class 'pandas.core.frame.DataFrame'>\n",
      "RangeIndex: 202607 entries, 0 to 202606\n",
      "Data columns (total 4 columns):\n",
      "id           202607 non-null object\n",
      "call_date    202607 non-null datetime64[ns]\n",
      "duration     202607 non-null Int64\n",
      "user_id      202607 non-null int64\n",
      "dtypes: Int64(1), datetime64[ns](1), int64(1), object(1)\n",
      "memory usage: 6.4+ MB\n"
     ]
    }
   ],
   "source": [
    "calls.info()"
   ]
  },
  {
   "cell_type": "code",
   "execution_count": 16,
   "metadata": {},
   "outputs": [
    {
     "data": {
      "text/html": [
       "<div>\n",
       "<style scoped>\n",
       "    .dataframe tbody tr th:only-of-type {\n",
       "        vertical-align: middle;\n",
       "    }\n",
       "\n",
       "    .dataframe tbody tr th {\n",
       "        vertical-align: top;\n",
       "    }\n",
       "\n",
       "    .dataframe thead th {\n",
       "        text-align: right;\n",
       "    }\n",
       "</style>\n",
       "<table border=\"1\" class=\"dataframe\">\n",
       "  <thead>\n",
       "    <tr style=\"text-align: right;\">\n",
       "      <th></th>\n",
       "      <th>id</th>\n",
       "      <th>call_date</th>\n",
       "      <th>duration</th>\n",
       "      <th>user_id</th>\n",
       "    </tr>\n",
       "  </thead>\n",
       "  <tbody>\n",
       "    <tr>\n",
       "      <td>0</td>\n",
       "      <td>1000_0</td>\n",
       "      <td>2018-07-25</td>\n",
       "      <td>0</td>\n",
       "      <td>1000</td>\n",
       "    </tr>\n",
       "    <tr>\n",
       "      <td>1</td>\n",
       "      <td>1000_1</td>\n",
       "      <td>2018-08-17</td>\n",
       "      <td>0</td>\n",
       "      <td>1000</td>\n",
       "    </tr>\n",
       "    <tr>\n",
       "      <td>2</td>\n",
       "      <td>1000_2</td>\n",
       "      <td>2018-06-11</td>\n",
       "      <td>3</td>\n",
       "      <td>1000</td>\n",
       "    </tr>\n",
       "    <tr>\n",
       "      <td>3</td>\n",
       "      <td>1000_3</td>\n",
       "      <td>2018-09-21</td>\n",
       "      <td>14</td>\n",
       "      <td>1000</td>\n",
       "    </tr>\n",
       "    <tr>\n",
       "      <td>4</td>\n",
       "      <td>1000_4</td>\n",
       "      <td>2018-12-15</td>\n",
       "      <td>6</td>\n",
       "      <td>1000</td>\n",
       "    </tr>\n",
       "    <tr>\n",
       "      <td>...</td>\n",
       "      <td>...</td>\n",
       "      <td>...</td>\n",
       "      <td>...</td>\n",
       "      <td>...</td>\n",
       "    </tr>\n",
       "    <tr>\n",
       "      <td>202602</td>\n",
       "      <td>1499_215</td>\n",
       "      <td>2018-12-26</td>\n",
       "      <td>1</td>\n",
       "      <td>1499</td>\n",
       "    </tr>\n",
       "    <tr>\n",
       "      <td>202603</td>\n",
       "      <td>1499_216</td>\n",
       "      <td>2018-10-18</td>\n",
       "      <td>19</td>\n",
       "      <td>1499</td>\n",
       "    </tr>\n",
       "    <tr>\n",
       "      <td>202604</td>\n",
       "      <td>1499_217</td>\n",
       "      <td>2018-11-10</td>\n",
       "      <td>11</td>\n",
       "      <td>1499</td>\n",
       "    </tr>\n",
       "    <tr>\n",
       "      <td>202605</td>\n",
       "      <td>1499_218</td>\n",
       "      <td>2018-10-06</td>\n",
       "      <td>5</td>\n",
       "      <td>1499</td>\n",
       "    </tr>\n",
       "    <tr>\n",
       "      <td>202606</td>\n",
       "      <td>1499_219</td>\n",
       "      <td>2018-12-14</td>\n",
       "      <td>20</td>\n",
       "      <td>1499</td>\n",
       "    </tr>\n",
       "  </tbody>\n",
       "</table>\n",
       "<p>202607 rows × 4 columns</p>\n",
       "</div>"
      ],
      "text/plain": [
       "              id  call_date  duration  user_id\n",
       "0         1000_0 2018-07-25         0     1000\n",
       "1         1000_1 2018-08-17         0     1000\n",
       "2         1000_2 2018-06-11         3     1000\n",
       "3         1000_3 2018-09-21        14     1000\n",
       "4         1000_4 2018-12-15         6     1000\n",
       "...          ...        ...       ...      ...\n",
       "202602  1499_215 2018-12-26         1     1499\n",
       "202603  1499_216 2018-10-18        19     1499\n",
       "202604  1499_217 2018-11-10        11     1499\n",
       "202605  1499_218 2018-10-06         5     1499\n",
       "202606  1499_219 2018-12-14        20     1499\n",
       "\n",
       "[202607 rows x 4 columns]"
      ]
     },
     "execution_count": 16,
     "metadata": {},
     "output_type": "execute_result"
    }
   ],
   "source": [
    "calls"
   ]
  },
  {
   "cell_type": "code",
   "execution_count": 17,
   "metadata": {},
   "outputs": [],
   "source": [
    "#первеедем столбец session_date в datetime:\n",
    "internet['session_date']=pd.to_datetime(internet['session_date'], format='%Y-%m-%dT%H:%M:%S')"
   ]
  },
  {
   "cell_type": "code",
   "execution_count": 20,
   "metadata": {
    "scrolled": true
   },
   "outputs": [
    {
     "name": "stdout",
     "output_type": "stream",
     "text": [
      "<class 'pandas.core.frame.DataFrame'>\n",
      "RangeIndex: 149396 entries, 0 to 149395\n",
      "Data columns (total 4 columns):\n",
      "id              149396 non-null object\n",
      "mb_used         149396 non-null float64\n",
      "session_date    149396 non-null datetime64[ns]\n",
      "user_id         149396 non-null int64\n",
      "dtypes: datetime64[ns](1), float64(1), int64(1), object(1)\n",
      "memory usage: 4.6+ MB\n"
     ]
    }
   ],
   "source": [
    "internet.info()"
   ]
  },
  {
   "cell_type": "code",
   "execution_count": 21,
   "metadata": {},
   "outputs": [
    {
     "data": {
      "text/html": [
       "<div>\n",
       "<style scoped>\n",
       "    .dataframe tbody tr th:only-of-type {\n",
       "        vertical-align: middle;\n",
       "    }\n",
       "\n",
       "    .dataframe tbody tr th {\n",
       "        vertical-align: top;\n",
       "    }\n",
       "\n",
       "    .dataframe thead th {\n",
       "        text-align: right;\n",
       "    }\n",
       "</style>\n",
       "<table border=\"1\" class=\"dataframe\">\n",
       "  <thead>\n",
       "    <tr style=\"text-align: right;\">\n",
       "      <th></th>\n",
       "      <th>id</th>\n",
       "      <th>mb_used</th>\n",
       "      <th>session_date</th>\n",
       "      <th>user_id</th>\n",
       "    </tr>\n",
       "  </thead>\n",
       "  <tbody>\n",
       "    <tr>\n",
       "      <td>0</td>\n",
       "      <td>1000_0</td>\n",
       "      <td>112.95</td>\n",
       "      <td>2018-11-25</td>\n",
       "      <td>1000</td>\n",
       "    </tr>\n",
       "    <tr>\n",
       "      <td>1</td>\n",
       "      <td>1000_1</td>\n",
       "      <td>1052.81</td>\n",
       "      <td>2018-09-07</td>\n",
       "      <td>1000</td>\n",
       "    </tr>\n",
       "    <tr>\n",
       "      <td>2</td>\n",
       "      <td>1000_2</td>\n",
       "      <td>1197.26</td>\n",
       "      <td>2018-06-25</td>\n",
       "      <td>1000</td>\n",
       "    </tr>\n",
       "    <tr>\n",
       "      <td>3</td>\n",
       "      <td>1000_3</td>\n",
       "      <td>550.27</td>\n",
       "      <td>2018-08-22</td>\n",
       "      <td>1000</td>\n",
       "    </tr>\n",
       "    <tr>\n",
       "      <td>4</td>\n",
       "      <td>1000_4</td>\n",
       "      <td>302.56</td>\n",
       "      <td>2018-09-24</td>\n",
       "      <td>1000</td>\n",
       "    </tr>\n",
       "    <tr>\n",
       "      <td>...</td>\n",
       "      <td>...</td>\n",
       "      <td>...</td>\n",
       "      <td>...</td>\n",
       "      <td>...</td>\n",
       "    </tr>\n",
       "    <tr>\n",
       "      <td>149391</td>\n",
       "      <td>1499_152</td>\n",
       "      <td>318.90</td>\n",
       "      <td>2018-10-03</td>\n",
       "      <td>1499</td>\n",
       "    </tr>\n",
       "    <tr>\n",
       "      <td>149392</td>\n",
       "      <td>1499_153</td>\n",
       "      <td>490.13</td>\n",
       "      <td>2018-12-14</td>\n",
       "      <td>1499</td>\n",
       "    </tr>\n",
       "    <tr>\n",
       "      <td>149393</td>\n",
       "      <td>1499_154</td>\n",
       "      <td>0.00</td>\n",
       "      <td>2018-10-27</td>\n",
       "      <td>1499</td>\n",
       "    </tr>\n",
       "    <tr>\n",
       "      <td>149394</td>\n",
       "      <td>1499_155</td>\n",
       "      <td>1246.32</td>\n",
       "      <td>2018-11-26</td>\n",
       "      <td>1499</td>\n",
       "    </tr>\n",
       "    <tr>\n",
       "      <td>149395</td>\n",
       "      <td>1499_156</td>\n",
       "      <td>544.37</td>\n",
       "      <td>2018-10-26</td>\n",
       "      <td>1499</td>\n",
       "    </tr>\n",
       "  </tbody>\n",
       "</table>\n",
       "<p>149396 rows × 4 columns</p>\n",
       "</div>"
      ],
      "text/plain": [
       "              id  mb_used session_date  user_id\n",
       "0         1000_0   112.95   2018-11-25     1000\n",
       "1         1000_1  1052.81   2018-09-07     1000\n",
       "2         1000_2  1197.26   2018-06-25     1000\n",
       "3         1000_3   550.27   2018-08-22     1000\n",
       "4         1000_4   302.56   2018-09-24     1000\n",
       "...          ...      ...          ...      ...\n",
       "149391  1499_152   318.90   2018-10-03     1499\n",
       "149392  1499_153   490.13   2018-12-14     1499\n",
       "149393  1499_154     0.00   2018-10-27     1499\n",
       "149394  1499_155  1246.32   2018-11-26     1499\n",
       "149395  1499_156   544.37   2018-10-26     1499\n",
       "\n",
       "[149396 rows x 4 columns]"
      ]
     },
     "execution_count": 21,
     "metadata": {},
     "output_type": "execute_result"
    }
   ],
   "source": [
    "internet"
   ]
  },
  {
   "cell_type": "code",
   "execution_count": 22,
   "metadata": {},
   "outputs": [],
   "source": [
    "#первеедем столбец message_date в datetime:\n",
    "messages['message_date']=pd.to_datetime(messages['message_date'], format='%Y-%m-%dT%H:%M:%S')"
   ]
  },
  {
   "cell_type": "code",
   "execution_count": 23,
   "metadata": {},
   "outputs": [
    {
     "name": "stdout",
     "output_type": "stream",
     "text": [
      "<class 'pandas.core.frame.DataFrame'>\n",
      "RangeIndex: 123036 entries, 0 to 123035\n",
      "Data columns (total 3 columns):\n",
      "id              123036 non-null object\n",
      "message_date    123036 non-null datetime64[ns]\n",
      "user_id         123036 non-null int64\n",
      "dtypes: datetime64[ns](1), int64(1), object(1)\n",
      "memory usage: 2.8+ MB\n"
     ]
    }
   ],
   "source": [
    "messages.info()"
   ]
  },
  {
   "cell_type": "code",
   "execution_count": 24,
   "metadata": {},
   "outputs": [
    {
     "data": {
      "text/html": [
       "<div>\n",
       "<style scoped>\n",
       "    .dataframe tbody tr th:only-of-type {\n",
       "        vertical-align: middle;\n",
       "    }\n",
       "\n",
       "    .dataframe tbody tr th {\n",
       "        vertical-align: top;\n",
       "    }\n",
       "\n",
       "    .dataframe thead th {\n",
       "        text-align: right;\n",
       "    }\n",
       "</style>\n",
       "<table border=\"1\" class=\"dataframe\">\n",
       "  <thead>\n",
       "    <tr style=\"text-align: right;\">\n",
       "      <th></th>\n",
       "      <th>id</th>\n",
       "      <th>message_date</th>\n",
       "      <th>user_id</th>\n",
       "    </tr>\n",
       "  </thead>\n",
       "  <tbody>\n",
       "    <tr>\n",
       "      <td>0</td>\n",
       "      <td>1000_0</td>\n",
       "      <td>2018-06-27</td>\n",
       "      <td>1000</td>\n",
       "    </tr>\n",
       "    <tr>\n",
       "      <td>1</td>\n",
       "      <td>1000_1</td>\n",
       "      <td>2018-10-08</td>\n",
       "      <td>1000</td>\n",
       "    </tr>\n",
       "    <tr>\n",
       "      <td>2</td>\n",
       "      <td>1000_2</td>\n",
       "      <td>2018-08-04</td>\n",
       "      <td>1000</td>\n",
       "    </tr>\n",
       "    <tr>\n",
       "      <td>3</td>\n",
       "      <td>1000_3</td>\n",
       "      <td>2018-06-16</td>\n",
       "      <td>1000</td>\n",
       "    </tr>\n",
       "    <tr>\n",
       "      <td>4</td>\n",
       "      <td>1000_4</td>\n",
       "      <td>2018-12-05</td>\n",
       "      <td>1000</td>\n",
       "    </tr>\n",
       "    <tr>\n",
       "      <td>...</td>\n",
       "      <td>...</td>\n",
       "      <td>...</td>\n",
       "      <td>...</td>\n",
       "    </tr>\n",
       "    <tr>\n",
       "      <td>123031</td>\n",
       "      <td>1499_179</td>\n",
       "      <td>2018-12-12</td>\n",
       "      <td>1499</td>\n",
       "    </tr>\n",
       "    <tr>\n",
       "      <td>123032</td>\n",
       "      <td>1499_180</td>\n",
       "      <td>2018-09-28</td>\n",
       "      <td>1499</td>\n",
       "    </tr>\n",
       "    <tr>\n",
       "      <td>123033</td>\n",
       "      <td>1499_181</td>\n",
       "      <td>2018-09-27</td>\n",
       "      <td>1499</td>\n",
       "    </tr>\n",
       "    <tr>\n",
       "      <td>123034</td>\n",
       "      <td>1499_182</td>\n",
       "      <td>2018-11-15</td>\n",
       "      <td>1499</td>\n",
       "    </tr>\n",
       "    <tr>\n",
       "      <td>123035</td>\n",
       "      <td>1499_183</td>\n",
       "      <td>2018-11-16</td>\n",
       "      <td>1499</td>\n",
       "    </tr>\n",
       "  </tbody>\n",
       "</table>\n",
       "<p>123036 rows × 3 columns</p>\n",
       "</div>"
      ],
      "text/plain": [
       "              id message_date  user_id\n",
       "0         1000_0   2018-06-27     1000\n",
       "1         1000_1   2018-10-08     1000\n",
       "2         1000_2   2018-08-04     1000\n",
       "3         1000_3   2018-06-16     1000\n",
       "4         1000_4   2018-12-05     1000\n",
       "...          ...          ...      ...\n",
       "123031  1499_179   2018-12-12     1499\n",
       "123032  1499_180   2018-09-28     1499\n",
       "123033  1499_181   2018-09-27     1499\n",
       "123034  1499_182   2018-11-15     1499\n",
       "123035  1499_183   2018-11-16     1499\n",
       "\n",
       "[123036 rows x 3 columns]"
      ]
     },
     "execution_count": 24,
     "metadata": {},
     "output_type": "execute_result"
    }
   ],
   "source": [
    "messages"
   ]
  },
  {
   "cell_type": "code",
   "execution_count": 25,
   "metadata": {},
   "outputs": [],
   "source": [
    "#первеедем столбец reg_date в datetime:\n",
    "users['reg_date']=pd.to_datetime(users['reg_date'], format='%Y-%m-%dT%H:%M:%S')"
   ]
  },
  {
   "cell_type": "code",
   "execution_count": 26,
   "metadata": {},
   "outputs": [
    {
     "name": "stdout",
     "output_type": "stream",
     "text": [
      "<class 'pandas.core.frame.DataFrame'>\n",
      "RangeIndex: 500 entries, 0 to 499\n",
      "Data columns (total 8 columns):\n",
      "user_id       500 non-null int64\n",
      "age           500 non-null int64\n",
      "churn_date    38 non-null object\n",
      "city          500 non-null object\n",
      "first_name    500 non-null object\n",
      "last_name     500 non-null object\n",
      "reg_date      500 non-null datetime64[ns]\n",
      "tariff        500 non-null object\n",
      "dtypes: datetime64[ns](1), int64(2), object(5)\n",
      "memory usage: 31.4+ KB\n"
     ]
    }
   ],
   "source": [
    "users.info()"
   ]
  },
  {
   "cell_type": "markdown",
   "metadata": {},
   "source": [
    "Посчитаем количество сделанных звонков и израсходованных минут разговора по месяцам"
   ]
  },
  {
   "cell_type": "code",
   "execution_count": 27,
   "metadata": {},
   "outputs": [
    {
     "data": {
      "text/html": [
       "<div>\n",
       "<style scoped>\n",
       "    .dataframe tbody tr th:only-of-type {\n",
       "        vertical-align: middle;\n",
       "    }\n",
       "\n",
       "    .dataframe tbody tr th {\n",
       "        vertical-align: top;\n",
       "    }\n",
       "\n",
       "    .dataframe thead th {\n",
       "        text-align: right;\n",
       "    }\n",
       "</style>\n",
       "<table border=\"1\" class=\"dataframe\">\n",
       "  <thead>\n",
       "    <tr style=\"text-align: right;\">\n",
       "      <th></th>\n",
       "      <th>id</th>\n",
       "      <th>call_date</th>\n",
       "      <th>duration</th>\n",
       "      <th>user_id</th>\n",
       "      <th>month</th>\n",
       "    </tr>\n",
       "  </thead>\n",
       "  <tbody>\n",
       "    <tr>\n",
       "      <td>0</td>\n",
       "      <td>1000_0</td>\n",
       "      <td>2018-07-25</td>\n",
       "      <td>0</td>\n",
       "      <td>1000</td>\n",
       "      <td>7</td>\n",
       "    </tr>\n",
       "    <tr>\n",
       "      <td>1</td>\n",
       "      <td>1000_1</td>\n",
       "      <td>2018-08-17</td>\n",
       "      <td>0</td>\n",
       "      <td>1000</td>\n",
       "      <td>8</td>\n",
       "    </tr>\n",
       "    <tr>\n",
       "      <td>2</td>\n",
       "      <td>1000_2</td>\n",
       "      <td>2018-06-11</td>\n",
       "      <td>3</td>\n",
       "      <td>1000</td>\n",
       "      <td>6</td>\n",
       "    </tr>\n",
       "    <tr>\n",
       "      <td>3</td>\n",
       "      <td>1000_3</td>\n",
       "      <td>2018-09-21</td>\n",
       "      <td>14</td>\n",
       "      <td>1000</td>\n",
       "      <td>9</td>\n",
       "    </tr>\n",
       "    <tr>\n",
       "      <td>4</td>\n",
       "      <td>1000_4</td>\n",
       "      <td>2018-12-15</td>\n",
       "      <td>6</td>\n",
       "      <td>1000</td>\n",
       "      <td>12</td>\n",
       "    </tr>\n",
       "    <tr>\n",
       "      <td>...</td>\n",
       "      <td>...</td>\n",
       "      <td>...</td>\n",
       "      <td>...</td>\n",
       "      <td>...</td>\n",
       "      <td>...</td>\n",
       "    </tr>\n",
       "    <tr>\n",
       "      <td>202602</td>\n",
       "      <td>1499_215</td>\n",
       "      <td>2018-12-26</td>\n",
       "      <td>1</td>\n",
       "      <td>1499</td>\n",
       "      <td>12</td>\n",
       "    </tr>\n",
       "    <tr>\n",
       "      <td>202603</td>\n",
       "      <td>1499_216</td>\n",
       "      <td>2018-10-18</td>\n",
       "      <td>19</td>\n",
       "      <td>1499</td>\n",
       "      <td>10</td>\n",
       "    </tr>\n",
       "    <tr>\n",
       "      <td>202604</td>\n",
       "      <td>1499_217</td>\n",
       "      <td>2018-11-10</td>\n",
       "      <td>11</td>\n",
       "      <td>1499</td>\n",
       "      <td>11</td>\n",
       "    </tr>\n",
       "    <tr>\n",
       "      <td>202605</td>\n",
       "      <td>1499_218</td>\n",
       "      <td>2018-10-06</td>\n",
       "      <td>5</td>\n",
       "      <td>1499</td>\n",
       "      <td>10</td>\n",
       "    </tr>\n",
       "    <tr>\n",
       "      <td>202606</td>\n",
       "      <td>1499_219</td>\n",
       "      <td>2018-12-14</td>\n",
       "      <td>20</td>\n",
       "      <td>1499</td>\n",
       "      <td>12</td>\n",
       "    </tr>\n",
       "  </tbody>\n",
       "</table>\n",
       "<p>202607 rows × 5 columns</p>\n",
       "</div>"
      ],
      "text/plain": [
       "              id  call_date  duration  user_id  month\n",
       "0         1000_0 2018-07-25         0     1000      7\n",
       "1         1000_1 2018-08-17         0     1000      8\n",
       "2         1000_2 2018-06-11         3     1000      6\n",
       "3         1000_3 2018-09-21        14     1000      9\n",
       "4         1000_4 2018-12-15         6     1000     12\n",
       "...          ...        ...       ...      ...    ...\n",
       "202602  1499_215 2018-12-26         1     1499     12\n",
       "202603  1499_216 2018-10-18        19     1499     10\n",
       "202604  1499_217 2018-11-10        11     1499     11\n",
       "202605  1499_218 2018-10-06         5     1499     10\n",
       "202606  1499_219 2018-12-14        20     1499     12\n",
       "\n",
       "[202607 rows x 5 columns]"
      ]
     },
     "execution_count": 27,
     "metadata": {},
     "output_type": "execute_result"
    }
   ],
   "source": [
    "#добавим столбец месяц в таблицу calls:\n",
    "calls['month']=calls['call_date'].dt.month \n",
    "calls\n"
   ]
  },
  {
   "cell_type": "code",
   "execution_count": 28,
   "metadata": {},
   "outputs": [
    {
     "data": {
      "text/html": [
       "<div>\n",
       "<style scoped>\n",
       "    .dataframe tbody tr th:only-of-type {\n",
       "        vertical-align: middle;\n",
       "    }\n",
       "\n",
       "    .dataframe tbody tr th {\n",
       "        vertical-align: top;\n",
       "    }\n",
       "\n",
       "    .dataframe thead th {\n",
       "        text-align: right;\n",
       "    }\n",
       "</style>\n",
       "<table border=\"1\" class=\"dataframe\">\n",
       "  <thead>\n",
       "    <tr style=\"text-align: right;\">\n",
       "      <th></th>\n",
       "      <th></th>\n",
       "      <th>minutes</th>\n",
       "      <th>calls</th>\n",
       "    </tr>\n",
       "    <tr>\n",
       "      <th>user_id</th>\n",
       "      <th>month</th>\n",
       "      <th></th>\n",
       "      <th></th>\n",
       "    </tr>\n",
       "  </thead>\n",
       "  <tbody>\n",
       "    <tr>\n",
       "      <td rowspan=\"5\" valign=\"top\">1000</td>\n",
       "      <td>5</td>\n",
       "      <td>159</td>\n",
       "      <td>22</td>\n",
       "    </tr>\n",
       "    <tr>\n",
       "      <td>6</td>\n",
       "      <td>172</td>\n",
       "      <td>43</td>\n",
       "    </tr>\n",
       "    <tr>\n",
       "      <td>7</td>\n",
       "      <td>340</td>\n",
       "      <td>47</td>\n",
       "    </tr>\n",
       "    <tr>\n",
       "      <td>8</td>\n",
       "      <td>408</td>\n",
       "      <td>52</td>\n",
       "    </tr>\n",
       "    <tr>\n",
       "      <td>9</td>\n",
       "      <td>466</td>\n",
       "      <td>58</td>\n",
       "    </tr>\n",
       "    <tr>\n",
       "      <td>...</td>\n",
       "      <td>...</td>\n",
       "      <td>...</td>\n",
       "      <td>...</td>\n",
       "    </tr>\n",
       "    <tr>\n",
       "      <td>1498</td>\n",
       "      <td>10</td>\n",
       "      <td>247</td>\n",
       "      <td>41</td>\n",
       "    </tr>\n",
       "    <tr>\n",
       "      <td rowspan=\"4\" valign=\"top\">1499</td>\n",
       "      <td>9</td>\n",
       "      <td>70</td>\n",
       "      <td>9</td>\n",
       "    </tr>\n",
       "    <tr>\n",
       "      <td>10</td>\n",
       "      <td>449</td>\n",
       "      <td>68</td>\n",
       "    </tr>\n",
       "    <tr>\n",
       "      <td>11</td>\n",
       "      <td>612</td>\n",
       "      <td>74</td>\n",
       "    </tr>\n",
       "    <tr>\n",
       "      <td>12</td>\n",
       "      <td>492</td>\n",
       "      <td>69</td>\n",
       "    </tr>\n",
       "  </tbody>\n",
       "</table>\n",
       "<p>3174 rows × 2 columns</p>\n",
       "</div>"
      ],
      "text/plain": [
       "               minutes  calls\n",
       "user_id month                \n",
       "1000    5          159     22\n",
       "        6          172     43\n",
       "        7          340     47\n",
       "        8          408     52\n",
       "        9          466     58\n",
       "...                ...    ...\n",
       "1498    10         247     41\n",
       "1499    9           70      9\n",
       "        10         449     68\n",
       "        11         612     74\n",
       "        12         492     69\n",
       "\n",
       "[3174 rows x 2 columns]"
      ]
     },
     "execution_count": 28,
     "metadata": {},
     "output_type": "execute_result"
    }
   ],
   "source": [
    "#создадим сводную таблицу по каждому пользователю и израсходованных минут разговора по месяцам: \n",
    "group_calls=calls.pivot_table(index=['user_id', 'month'],values='duration',aggfunc=(['sum', 'count']))\n",
    "group_calls.columns = ['minutes', 'calls'] \n",
    "group_calls"
   ]
  },
  {
   "cell_type": "markdown",
   "metadata": {},
   "source": [
    "Посчитаем для каждого пользователя количество отправленных сообщений по месяцам."
   ]
  },
  {
   "cell_type": "code",
   "execution_count": 29,
   "metadata": {},
   "outputs": [
    {
     "data": {
      "text/html": [
       "<div>\n",
       "<style scoped>\n",
       "    .dataframe tbody tr th:only-of-type {\n",
       "        vertical-align: middle;\n",
       "    }\n",
       "\n",
       "    .dataframe tbody tr th {\n",
       "        vertical-align: top;\n",
       "    }\n",
       "\n",
       "    .dataframe thead th {\n",
       "        text-align: right;\n",
       "    }\n",
       "</style>\n",
       "<table border=\"1\" class=\"dataframe\">\n",
       "  <thead>\n",
       "    <tr style=\"text-align: right;\">\n",
       "      <th></th>\n",
       "      <th>id</th>\n",
       "      <th>message_date</th>\n",
       "      <th>user_id</th>\n",
       "      <th>month</th>\n",
       "    </tr>\n",
       "  </thead>\n",
       "  <tbody>\n",
       "    <tr>\n",
       "      <td>0</td>\n",
       "      <td>1000_0</td>\n",
       "      <td>2018-06-27</td>\n",
       "      <td>1000</td>\n",
       "      <td>6</td>\n",
       "    </tr>\n",
       "    <tr>\n",
       "      <td>1</td>\n",
       "      <td>1000_1</td>\n",
       "      <td>2018-10-08</td>\n",
       "      <td>1000</td>\n",
       "      <td>10</td>\n",
       "    </tr>\n",
       "    <tr>\n",
       "      <td>2</td>\n",
       "      <td>1000_2</td>\n",
       "      <td>2018-08-04</td>\n",
       "      <td>1000</td>\n",
       "      <td>8</td>\n",
       "    </tr>\n",
       "    <tr>\n",
       "      <td>3</td>\n",
       "      <td>1000_3</td>\n",
       "      <td>2018-06-16</td>\n",
       "      <td>1000</td>\n",
       "      <td>6</td>\n",
       "    </tr>\n",
       "    <tr>\n",
       "      <td>4</td>\n",
       "      <td>1000_4</td>\n",
       "      <td>2018-12-05</td>\n",
       "      <td>1000</td>\n",
       "      <td>12</td>\n",
       "    </tr>\n",
       "    <tr>\n",
       "      <td>...</td>\n",
       "      <td>...</td>\n",
       "      <td>...</td>\n",
       "      <td>...</td>\n",
       "      <td>...</td>\n",
       "    </tr>\n",
       "    <tr>\n",
       "      <td>123031</td>\n",
       "      <td>1499_179</td>\n",
       "      <td>2018-12-12</td>\n",
       "      <td>1499</td>\n",
       "      <td>12</td>\n",
       "    </tr>\n",
       "    <tr>\n",
       "      <td>123032</td>\n",
       "      <td>1499_180</td>\n",
       "      <td>2018-09-28</td>\n",
       "      <td>1499</td>\n",
       "      <td>9</td>\n",
       "    </tr>\n",
       "    <tr>\n",
       "      <td>123033</td>\n",
       "      <td>1499_181</td>\n",
       "      <td>2018-09-27</td>\n",
       "      <td>1499</td>\n",
       "      <td>9</td>\n",
       "    </tr>\n",
       "    <tr>\n",
       "      <td>123034</td>\n",
       "      <td>1499_182</td>\n",
       "      <td>2018-11-15</td>\n",
       "      <td>1499</td>\n",
       "      <td>11</td>\n",
       "    </tr>\n",
       "    <tr>\n",
       "      <td>123035</td>\n",
       "      <td>1499_183</td>\n",
       "      <td>2018-11-16</td>\n",
       "      <td>1499</td>\n",
       "      <td>11</td>\n",
       "    </tr>\n",
       "  </tbody>\n",
       "</table>\n",
       "<p>123036 rows × 4 columns</p>\n",
       "</div>"
      ],
      "text/plain": [
       "              id message_date  user_id  month\n",
       "0         1000_0   2018-06-27     1000      6\n",
       "1         1000_1   2018-10-08     1000     10\n",
       "2         1000_2   2018-08-04     1000      8\n",
       "3         1000_3   2018-06-16     1000      6\n",
       "4         1000_4   2018-12-05     1000     12\n",
       "...          ...          ...      ...    ...\n",
       "123031  1499_179   2018-12-12     1499     12\n",
       "123032  1499_180   2018-09-28     1499      9\n",
       "123033  1499_181   2018-09-27     1499      9\n",
       "123034  1499_182   2018-11-15     1499     11\n",
       "123035  1499_183   2018-11-16     1499     11\n",
       "\n",
       "[123036 rows x 4 columns]"
      ]
     },
     "execution_count": 29,
     "metadata": {},
     "output_type": "execute_result"
    }
   ],
   "source": [
    "#добавим столбец месяц в таблицу messages:\n",
    "messages['month']=messages['message_date'].dt.month\n",
    "messages"
   ]
  },
  {
   "cell_type": "code",
   "execution_count": 30,
   "metadata": {},
   "outputs": [
    {
     "data": {
      "text/html": [
       "<div>\n",
       "<style scoped>\n",
       "    .dataframe tbody tr th:only-of-type {\n",
       "        vertical-align: middle;\n",
       "    }\n",
       "\n",
       "    .dataframe tbody tr th {\n",
       "        vertical-align: top;\n",
       "    }\n",
       "\n",
       "    .dataframe thead th {\n",
       "        text-align: right;\n",
       "    }\n",
       "</style>\n",
       "<table border=\"1\" class=\"dataframe\">\n",
       "  <thead>\n",
       "    <tr style=\"text-align: right;\">\n",
       "      <th></th>\n",
       "      <th></th>\n",
       "      <th>message_date</th>\n",
       "    </tr>\n",
       "    <tr>\n",
       "      <th>user_id</th>\n",
       "      <th>month</th>\n",
       "      <th></th>\n",
       "    </tr>\n",
       "  </thead>\n",
       "  <tbody>\n",
       "    <tr>\n",
       "      <td rowspan=\"5\" valign=\"top\">1000</td>\n",
       "      <td>5</td>\n",
       "      <td>22</td>\n",
       "    </tr>\n",
       "    <tr>\n",
       "      <td>6</td>\n",
       "      <td>60</td>\n",
       "    </tr>\n",
       "    <tr>\n",
       "      <td>7</td>\n",
       "      <td>75</td>\n",
       "    </tr>\n",
       "    <tr>\n",
       "      <td>8</td>\n",
       "      <td>81</td>\n",
       "    </tr>\n",
       "    <tr>\n",
       "      <td>9</td>\n",
       "      <td>57</td>\n",
       "    </tr>\n",
       "    <tr>\n",
       "      <td>...</td>\n",
       "      <td>...</td>\n",
       "      <td>...</td>\n",
       "    </tr>\n",
       "    <tr>\n",
       "      <td>1498</td>\n",
       "      <td>10</td>\n",
       "      <td>42</td>\n",
       "    </tr>\n",
       "    <tr>\n",
       "      <td rowspan=\"4\" valign=\"top\">1499</td>\n",
       "      <td>9</td>\n",
       "      <td>11</td>\n",
       "    </tr>\n",
       "    <tr>\n",
       "      <td>10</td>\n",
       "      <td>48</td>\n",
       "    </tr>\n",
       "    <tr>\n",
       "      <td>11</td>\n",
       "      <td>59</td>\n",
       "    </tr>\n",
       "    <tr>\n",
       "      <td>12</td>\n",
       "      <td>66</td>\n",
       "    </tr>\n",
       "  </tbody>\n",
       "</table>\n",
       "<p>2717 rows × 1 columns</p>\n",
       "</div>"
      ],
      "text/plain": [
       "               message_date\n",
       "user_id month              \n",
       "1000    5                22\n",
       "        6                60\n",
       "        7                75\n",
       "        8                81\n",
       "        9                57\n",
       "...                     ...\n",
       "1498    10               42\n",
       "1499    9                11\n",
       "        10               48\n",
       "        11               59\n",
       "        12               66\n",
       "\n",
       "[2717 rows x 1 columns]"
      ]
     },
     "execution_count": 30,
     "metadata": {},
     "output_type": "execute_result"
    }
   ],
   "source": [
    "#создадим сводную таблицу по каждому пользователю и количество отправленных сообщений по месяцам: \n",
    "group_messages=messages.pivot_table(index=['user_id', 'month'],values='message_date',aggfunc=('count'))\n",
    "group_messages"
   ]
  },
  {
   "cell_type": "markdown",
   "metadata": {},
   "source": [
    "Посчитаем объем израсходованного интернет-трафика по месяцам для каждого пользователя."
   ]
  },
  {
   "cell_type": "code",
   "execution_count": 31,
   "metadata": {},
   "outputs": [
    {
     "data": {
      "text/html": [
       "<div>\n",
       "<style scoped>\n",
       "    .dataframe tbody tr th:only-of-type {\n",
       "        vertical-align: middle;\n",
       "    }\n",
       "\n",
       "    .dataframe tbody tr th {\n",
       "        vertical-align: top;\n",
       "    }\n",
       "\n",
       "    .dataframe thead th {\n",
       "        text-align: right;\n",
       "    }\n",
       "</style>\n",
       "<table border=\"1\" class=\"dataframe\">\n",
       "  <thead>\n",
       "    <tr style=\"text-align: right;\">\n",
       "      <th></th>\n",
       "      <th>id</th>\n",
       "      <th>mb_used</th>\n",
       "      <th>session_date</th>\n",
       "      <th>user_id</th>\n",
       "      <th>month</th>\n",
       "    </tr>\n",
       "  </thead>\n",
       "  <tbody>\n",
       "    <tr>\n",
       "      <td>0</td>\n",
       "      <td>1000_0</td>\n",
       "      <td>112.95</td>\n",
       "      <td>2018-11-25</td>\n",
       "      <td>1000</td>\n",
       "      <td>11</td>\n",
       "    </tr>\n",
       "    <tr>\n",
       "      <td>1</td>\n",
       "      <td>1000_1</td>\n",
       "      <td>1052.81</td>\n",
       "      <td>2018-09-07</td>\n",
       "      <td>1000</td>\n",
       "      <td>9</td>\n",
       "    </tr>\n",
       "    <tr>\n",
       "      <td>2</td>\n",
       "      <td>1000_2</td>\n",
       "      <td>1197.26</td>\n",
       "      <td>2018-06-25</td>\n",
       "      <td>1000</td>\n",
       "      <td>6</td>\n",
       "    </tr>\n",
       "    <tr>\n",
       "      <td>3</td>\n",
       "      <td>1000_3</td>\n",
       "      <td>550.27</td>\n",
       "      <td>2018-08-22</td>\n",
       "      <td>1000</td>\n",
       "      <td>8</td>\n",
       "    </tr>\n",
       "    <tr>\n",
       "      <td>4</td>\n",
       "      <td>1000_4</td>\n",
       "      <td>302.56</td>\n",
       "      <td>2018-09-24</td>\n",
       "      <td>1000</td>\n",
       "      <td>9</td>\n",
       "    </tr>\n",
       "    <tr>\n",
       "      <td>...</td>\n",
       "      <td>...</td>\n",
       "      <td>...</td>\n",
       "      <td>...</td>\n",
       "      <td>...</td>\n",
       "      <td>...</td>\n",
       "    </tr>\n",
       "    <tr>\n",
       "      <td>149391</td>\n",
       "      <td>1499_152</td>\n",
       "      <td>318.90</td>\n",
       "      <td>2018-10-03</td>\n",
       "      <td>1499</td>\n",
       "      <td>10</td>\n",
       "    </tr>\n",
       "    <tr>\n",
       "      <td>149392</td>\n",
       "      <td>1499_153</td>\n",
       "      <td>490.13</td>\n",
       "      <td>2018-12-14</td>\n",
       "      <td>1499</td>\n",
       "      <td>12</td>\n",
       "    </tr>\n",
       "    <tr>\n",
       "      <td>149393</td>\n",
       "      <td>1499_154</td>\n",
       "      <td>0.00</td>\n",
       "      <td>2018-10-27</td>\n",
       "      <td>1499</td>\n",
       "      <td>10</td>\n",
       "    </tr>\n",
       "    <tr>\n",
       "      <td>149394</td>\n",
       "      <td>1499_155</td>\n",
       "      <td>1246.32</td>\n",
       "      <td>2018-11-26</td>\n",
       "      <td>1499</td>\n",
       "      <td>11</td>\n",
       "    </tr>\n",
       "    <tr>\n",
       "      <td>149395</td>\n",
       "      <td>1499_156</td>\n",
       "      <td>544.37</td>\n",
       "      <td>2018-10-26</td>\n",
       "      <td>1499</td>\n",
       "      <td>10</td>\n",
       "    </tr>\n",
       "  </tbody>\n",
       "</table>\n",
       "<p>149396 rows × 5 columns</p>\n",
       "</div>"
      ],
      "text/plain": [
       "              id  mb_used session_date  user_id  month\n",
       "0         1000_0   112.95   2018-11-25     1000     11\n",
       "1         1000_1  1052.81   2018-09-07     1000      9\n",
       "2         1000_2  1197.26   2018-06-25     1000      6\n",
       "3         1000_3   550.27   2018-08-22     1000      8\n",
       "4         1000_4   302.56   2018-09-24     1000      9\n",
       "...          ...      ...          ...      ...    ...\n",
       "149391  1499_152   318.90   2018-10-03     1499     10\n",
       "149392  1499_153   490.13   2018-12-14     1499     12\n",
       "149393  1499_154     0.00   2018-10-27     1499     10\n",
       "149394  1499_155  1246.32   2018-11-26     1499     11\n",
       "149395  1499_156   544.37   2018-10-26     1499     10\n",
       "\n",
       "[149396 rows x 5 columns]"
      ]
     },
     "execution_count": 31,
     "metadata": {},
     "output_type": "execute_result"
    }
   ],
   "source": [
    "#добавим столбец месяц в таблицу internet:\n",
    "internet['month']=internet['session_date'].dt.month\n",
    "internet"
   ]
  },
  {
   "cell_type": "code",
   "execution_count": 32,
   "metadata": {},
   "outputs": [
    {
     "data": {
      "text/html": [
       "<div>\n",
       "<style scoped>\n",
       "    .dataframe tbody tr th:only-of-type {\n",
       "        vertical-align: middle;\n",
       "    }\n",
       "\n",
       "    .dataframe tbody tr th {\n",
       "        vertical-align: top;\n",
       "    }\n",
       "\n",
       "    .dataframe thead th {\n",
       "        text-align: right;\n",
       "    }\n",
       "</style>\n",
       "<table border=\"1\" class=\"dataframe\">\n",
       "  <thead>\n",
       "    <tr style=\"text-align: right;\">\n",
       "      <th></th>\n",
       "      <th>user_id</th>\n",
       "      <th>age</th>\n",
       "      <th>churn_date</th>\n",
       "      <th>city</th>\n",
       "      <th>first_name</th>\n",
       "      <th>last_name</th>\n",
       "      <th>reg_date</th>\n",
       "      <th>tariff</th>\n",
       "      <th>month</th>\n",
       "    </tr>\n",
       "  </thead>\n",
       "  <tbody>\n",
       "    <tr>\n",
       "      <td>0</td>\n",
       "      <td>1000</td>\n",
       "      <td>52</td>\n",
       "      <td>NaN</td>\n",
       "      <td>Краснодар</td>\n",
       "      <td>Рафаил</td>\n",
       "      <td>Верещагин</td>\n",
       "      <td>2018-05-25</td>\n",
       "      <td>ultra</td>\n",
       "      <td>5</td>\n",
       "    </tr>\n",
       "    <tr>\n",
       "      <td>1</td>\n",
       "      <td>1001</td>\n",
       "      <td>41</td>\n",
       "      <td>NaN</td>\n",
       "      <td>Москва</td>\n",
       "      <td>Иван</td>\n",
       "      <td>Ежов</td>\n",
       "      <td>2018-11-01</td>\n",
       "      <td>smart</td>\n",
       "      <td>11</td>\n",
       "    </tr>\n",
       "    <tr>\n",
       "      <td>2</td>\n",
       "      <td>1002</td>\n",
       "      <td>59</td>\n",
       "      <td>NaN</td>\n",
       "      <td>Стерлитамак</td>\n",
       "      <td>Евгений</td>\n",
       "      <td>Абрамович</td>\n",
       "      <td>2018-06-17</td>\n",
       "      <td>smart</td>\n",
       "      <td>6</td>\n",
       "    </tr>\n",
       "    <tr>\n",
       "      <td>3</td>\n",
       "      <td>1003</td>\n",
       "      <td>23</td>\n",
       "      <td>NaN</td>\n",
       "      <td>Москва</td>\n",
       "      <td>Белла</td>\n",
       "      <td>Белякова</td>\n",
       "      <td>2018-08-17</td>\n",
       "      <td>ultra</td>\n",
       "      <td>8</td>\n",
       "    </tr>\n",
       "    <tr>\n",
       "      <td>4</td>\n",
       "      <td>1004</td>\n",
       "      <td>68</td>\n",
       "      <td>NaN</td>\n",
       "      <td>Новокузнецк</td>\n",
       "      <td>Татьяна</td>\n",
       "      <td>Авдеенко</td>\n",
       "      <td>2018-05-14</td>\n",
       "      <td>ultra</td>\n",
       "      <td>5</td>\n",
       "    </tr>\n",
       "    <tr>\n",
       "      <td>5</td>\n",
       "      <td>1005</td>\n",
       "      <td>67</td>\n",
       "      <td>NaN</td>\n",
       "      <td>Набережные Челны</td>\n",
       "      <td>Афанасий</td>\n",
       "      <td>Горлов</td>\n",
       "      <td>2018-01-25</td>\n",
       "      <td>smart</td>\n",
       "      <td>1</td>\n",
       "    </tr>\n",
       "    <tr>\n",
       "      <td>6</td>\n",
       "      <td>1006</td>\n",
       "      <td>21</td>\n",
       "      <td>NaN</td>\n",
       "      <td>Ульяновск</td>\n",
       "      <td>Леонид</td>\n",
       "      <td>Ермолаев</td>\n",
       "      <td>2018-02-26</td>\n",
       "      <td>smart</td>\n",
       "      <td>2</td>\n",
       "    </tr>\n",
       "    <tr>\n",
       "      <td>7</td>\n",
       "      <td>1007</td>\n",
       "      <td>65</td>\n",
       "      <td>NaN</td>\n",
       "      <td>Москва</td>\n",
       "      <td>Юна</td>\n",
       "      <td>Березина</td>\n",
       "      <td>2018-04-19</td>\n",
       "      <td>smart</td>\n",
       "      <td>4</td>\n",
       "    </tr>\n",
       "    <tr>\n",
       "      <td>8</td>\n",
       "      <td>1008</td>\n",
       "      <td>63</td>\n",
       "      <td>NaN</td>\n",
       "      <td>Челябинск</td>\n",
       "      <td>Рустэм</td>\n",
       "      <td>Пономарёв</td>\n",
       "      <td>2018-12-19</td>\n",
       "      <td>smart</td>\n",
       "      <td>12</td>\n",
       "    </tr>\n",
       "    <tr>\n",
       "      <td>9</td>\n",
       "      <td>1009</td>\n",
       "      <td>24</td>\n",
       "      <td>NaN</td>\n",
       "      <td>Пермь</td>\n",
       "      <td>Василиса</td>\n",
       "      <td>Блинова</td>\n",
       "      <td>2018-03-22</td>\n",
       "      <td>smart</td>\n",
       "      <td>3</td>\n",
       "    </tr>\n",
       "  </tbody>\n",
       "</table>\n",
       "</div>"
      ],
      "text/plain": [
       "   user_id  age churn_date              city first_name  last_name   reg_date  \\\n",
       "0     1000   52        NaN         Краснодар     Рафаил  Верещагин 2018-05-25   \n",
       "1     1001   41        NaN            Москва       Иван       Ежов 2018-11-01   \n",
       "2     1002   59        NaN       Стерлитамак    Евгений  Абрамович 2018-06-17   \n",
       "3     1003   23        NaN            Москва      Белла   Белякова 2018-08-17   \n",
       "4     1004   68        NaN       Новокузнецк    Татьяна   Авдеенко 2018-05-14   \n",
       "5     1005   67        NaN  Набережные Челны   Афанасий     Горлов 2018-01-25   \n",
       "6     1006   21        NaN         Ульяновск     Леонид   Ермолаев 2018-02-26   \n",
       "7     1007   65        NaN            Москва        Юна   Березина 2018-04-19   \n",
       "8     1008   63        NaN         Челябинск     Рустэм  Пономарёв 2018-12-19   \n",
       "9     1009   24        NaN             Пермь   Василиса    Блинова 2018-03-22   \n",
       "\n",
       "  tariff  month  \n",
       "0  ultra      5  \n",
       "1  smart     11  \n",
       "2  smart      6  \n",
       "3  ultra      8  \n",
       "4  ultra      5  \n",
       "5  smart      1  \n",
       "6  smart      2  \n",
       "7  smart      4  \n",
       "8  smart     12  \n",
       "9  smart      3  "
      ]
     },
     "execution_count": 32,
     "metadata": {},
     "output_type": "execute_result"
    }
   ],
   "source": [
    "#добавим столбец месяц в таблицу users:\n",
    "users['month']=users['reg_date'].dt.month\n",
    "users.head(10)"
   ]
  },
  {
   "cell_type": "code",
   "execution_count": 33,
   "metadata": {},
   "outputs": [
    {
     "data": {
      "text/html": [
       "<div>\n",
       "<style scoped>\n",
       "    .dataframe tbody tr th:only-of-type {\n",
       "        vertical-align: middle;\n",
       "    }\n",
       "\n",
       "    .dataframe tbody tr th {\n",
       "        vertical-align: top;\n",
       "    }\n",
       "\n",
       "    .dataframe thead th {\n",
       "        text-align: right;\n",
       "    }\n",
       "</style>\n",
       "<table border=\"1\" class=\"dataframe\">\n",
       "  <thead>\n",
       "    <tr style=\"text-align: right;\">\n",
       "      <th></th>\n",
       "      <th></th>\n",
       "      <th>mb_used</th>\n",
       "    </tr>\n",
       "    <tr>\n",
       "      <th>user_id</th>\n",
       "      <th>month</th>\n",
       "      <th></th>\n",
       "    </tr>\n",
       "  </thead>\n",
       "  <tbody>\n",
       "    <tr>\n",
       "      <td rowspan=\"5\" valign=\"top\">1000</td>\n",
       "      <td>5</td>\n",
       "      <td>2253.49</td>\n",
       "    </tr>\n",
       "    <tr>\n",
       "      <td>6</td>\n",
       "      <td>23233.77</td>\n",
       "    </tr>\n",
       "    <tr>\n",
       "      <td>7</td>\n",
       "      <td>14003.64</td>\n",
       "    </tr>\n",
       "    <tr>\n",
       "      <td>8</td>\n",
       "      <td>14055.93</td>\n",
       "    </tr>\n",
       "    <tr>\n",
       "      <td>9</td>\n",
       "      <td>14568.91</td>\n",
       "    </tr>\n",
       "    <tr>\n",
       "      <td>...</td>\n",
       "      <td>...</td>\n",
       "      <td>...</td>\n",
       "    </tr>\n",
       "    <tr>\n",
       "      <td>1498</td>\n",
       "      <td>10</td>\n",
       "      <td>20579.36</td>\n",
       "    </tr>\n",
       "    <tr>\n",
       "      <td rowspan=\"4\" valign=\"top\">1499</td>\n",
       "      <td>9</td>\n",
       "      <td>1845.75</td>\n",
       "    </tr>\n",
       "    <tr>\n",
       "      <td>10</td>\n",
       "      <td>17788.51</td>\n",
       "    </tr>\n",
       "    <tr>\n",
       "      <td>11</td>\n",
       "      <td>17963.31</td>\n",
       "    </tr>\n",
       "    <tr>\n",
       "      <td>12</td>\n",
       "      <td>13055.58</td>\n",
       "    </tr>\n",
       "  </tbody>\n",
       "</table>\n",
       "<p>3203 rows × 1 columns</p>\n",
       "</div>"
      ],
      "text/plain": [
       "                mb_used\n",
       "user_id month          \n",
       "1000    5       2253.49\n",
       "        6      23233.77\n",
       "        7      14003.64\n",
       "        8      14055.93\n",
       "        9      14568.91\n",
       "...                 ...\n",
       "1498    10     20579.36\n",
       "1499    9       1845.75\n",
       "        10     17788.51\n",
       "        11     17963.31\n",
       "        12     13055.58\n",
       "\n",
       "[3203 rows x 1 columns]"
      ]
     },
     "execution_count": 33,
     "metadata": {},
     "output_type": "execute_result"
    }
   ],
   "source": [
    "#создадим сводную таблицу по  каждому пользователю и объему израсходованного интернет-трафика по месяцам: \n",
    "group_internet=internet.pivot_table(index=['user_id', 'month'],values='mb_used',aggfunc=('sum'))\n",
    "group_internet"
   ]
  },
  {
   "cell_type": "code",
   "execution_count": 34,
   "metadata": {
    "scrolled": true
   },
   "outputs": [],
   "source": [
    "#объединим таблицы group_messages и group_calls:\n",
    "df=group_messages.merge(group_calls,on=['user_id','month'], how='outer')"
   ]
  },
  {
   "cell_type": "code",
   "execution_count": 35,
   "metadata": {},
   "outputs": [
    {
     "data": {
      "text/html": [
       "<div>\n",
       "<style scoped>\n",
       "    .dataframe tbody tr th:only-of-type {\n",
       "        vertical-align: middle;\n",
       "    }\n",
       "\n",
       "    .dataframe tbody tr th {\n",
       "        vertical-align: top;\n",
       "    }\n",
       "\n",
       "    .dataframe thead th {\n",
       "        text-align: right;\n",
       "    }\n",
       "</style>\n",
       "<table border=\"1\" class=\"dataframe\">\n",
       "  <thead>\n",
       "    <tr style=\"text-align: right;\">\n",
       "      <th></th>\n",
       "      <th>user_id</th>\n",
       "      <th>month</th>\n",
       "      <th>message_date</th>\n",
       "      <th>minutes</th>\n",
       "      <th>calls</th>\n",
       "      <th>mb_used</th>\n",
       "    </tr>\n",
       "  </thead>\n",
       "  <tbody>\n",
       "    <tr>\n",
       "      <td>0</td>\n",
       "      <td>1000</td>\n",
       "      <td>5</td>\n",
       "      <td>22.0</td>\n",
       "      <td>159</td>\n",
       "      <td>22.0</td>\n",
       "      <td>2253.49</td>\n",
       "    </tr>\n",
       "    <tr>\n",
       "      <td>1</td>\n",
       "      <td>1000</td>\n",
       "      <td>6</td>\n",
       "      <td>60.0</td>\n",
       "      <td>172</td>\n",
       "      <td>43.0</td>\n",
       "      <td>23233.77</td>\n",
       "    </tr>\n",
       "    <tr>\n",
       "      <td>2</td>\n",
       "      <td>1000</td>\n",
       "      <td>7</td>\n",
       "      <td>75.0</td>\n",
       "      <td>340</td>\n",
       "      <td>47.0</td>\n",
       "      <td>14003.64</td>\n",
       "    </tr>\n",
       "    <tr>\n",
       "      <td>3</td>\n",
       "      <td>1000</td>\n",
       "      <td>8</td>\n",
       "      <td>81.0</td>\n",
       "      <td>408</td>\n",
       "      <td>52.0</td>\n",
       "      <td>14055.93</td>\n",
       "    </tr>\n",
       "    <tr>\n",
       "      <td>4</td>\n",
       "      <td>1000</td>\n",
       "      <td>9</td>\n",
       "      <td>57.0</td>\n",
       "      <td>466</td>\n",
       "      <td>58.0</td>\n",
       "      <td>14568.91</td>\n",
       "    </tr>\n",
       "    <tr>\n",
       "      <td>...</td>\n",
       "      <td>...</td>\n",
       "      <td>...</td>\n",
       "      <td>...</td>\n",
       "      <td>...</td>\n",
       "      <td>...</td>\n",
       "      <td>...</td>\n",
       "    </tr>\n",
       "    <tr>\n",
       "      <td>3209</td>\n",
       "      <td>1494</td>\n",
       "      <td>9</td>\n",
       "      <td>NaN</td>\n",
       "      <td>501</td>\n",
       "      <td>66.0</td>\n",
       "      <td>16962.51</td>\n",
       "    </tr>\n",
       "    <tr>\n",
       "      <td>3210</td>\n",
       "      <td>1494</td>\n",
       "      <td>10</td>\n",
       "      <td>NaN</td>\n",
       "      <td>354</td>\n",
       "      <td>52.0</td>\n",
       "      <td>17767.24</td>\n",
       "    </tr>\n",
       "    <tr>\n",
       "      <td>3211</td>\n",
       "      <td>1494</td>\n",
       "      <td>11</td>\n",
       "      <td>NaN</td>\n",
       "      <td>411</td>\n",
       "      <td>63.0</td>\n",
       "      <td>18052.45</td>\n",
       "    </tr>\n",
       "    <tr>\n",
       "      <td>3212</td>\n",
       "      <td>1494</td>\n",
       "      <td>12</td>\n",
       "      <td>NaN</td>\n",
       "      <td>418</td>\n",
       "      <td>62.0</td>\n",
       "      <td>17621.21</td>\n",
       "    </tr>\n",
       "    <tr>\n",
       "      <td>3213</td>\n",
       "      <td>1476</td>\n",
       "      <td>4</td>\n",
       "      <td>NaN</td>\n",
       "      <td>NaN</td>\n",
       "      <td>NaN</td>\n",
       "      <td>530.78</td>\n",
       "    </tr>\n",
       "  </tbody>\n",
       "</table>\n",
       "<p>3214 rows × 6 columns</p>\n",
       "</div>"
      ],
      "text/plain": [
       "      user_id  month  message_date  minutes  calls   mb_used\n",
       "0        1000      5          22.0      159   22.0   2253.49\n",
       "1        1000      6          60.0      172   43.0  23233.77\n",
       "2        1000      7          75.0      340   47.0  14003.64\n",
       "3        1000      8          81.0      408   52.0  14055.93\n",
       "4        1000      9          57.0      466   58.0  14568.91\n",
       "...       ...    ...           ...      ...    ...       ...\n",
       "3209     1494      9           NaN      501   66.0  16962.51\n",
       "3210     1494     10           NaN      354   52.0  17767.24\n",
       "3211     1494     11           NaN      411   63.0  18052.45\n",
       "3212     1494     12           NaN      418   62.0  17621.21\n",
       "3213     1476      4           NaN      NaN    NaN    530.78\n",
       "\n",
       "[3214 rows x 6 columns]"
      ]
     },
     "execution_count": 35,
     "metadata": {},
     "output_type": "execute_result"
    }
   ],
   "source": [
    "#объединим таблицы df и group_internet:\n",
    "call_mess_int_group=df.merge(group_internet,on=['user_id','month'], how='outer').reset_index()\n",
    "call_mess_int_group\n"
   ]
  },
  {
   "cell_type": "code",
   "execution_count": 36,
   "metadata": {},
   "outputs": [
    {
     "name": "stdout",
     "output_type": "stream",
     "text": [
      "<class 'pandas.core.frame.DataFrame'>\n",
      "RangeIndex: 3214 entries, 0 to 3213\n",
      "Data columns (total 6 columns):\n",
      "user_id         3214 non-null int64\n",
      "month           3214 non-null int64\n",
      "message_date    2717 non-null float64\n",
      "minutes         3174 non-null Int64\n",
      "calls           3174 non-null float64\n",
      "mb_used         3203 non-null float64\n",
      "dtypes: Int64(1), float64(3), int64(2)\n",
      "memory usage: 153.9 KB\n"
     ]
    }
   ],
   "source": [
    "call_mess_int_group.info()\n"
   ]
  },
  {
   "cell_type": "markdown",
   "metadata": {},
   "source": [
    "Появилось очень много пропусков.Для корректных расчетов, заполним данные пропуски 0."
   ]
  },
  {
   "cell_type": "code",
   "execution_count": 37,
   "metadata": {},
   "outputs": [],
   "source": [
    "columns = ['calls', 'minutes', 'message_date', 'mb_used']\n",
    "\n",
    "for column in columns:\n",
    "    call_mess_int_group[column] = call_mess_int_group[column].fillna(0)\n",
    "    \n"
   ]
  },
  {
   "cell_type": "code",
   "execution_count": 38,
   "metadata": {},
   "outputs": [
    {
     "name": "stdout",
     "output_type": "stream",
     "text": [
      "<class 'pandas.core.frame.DataFrame'>\n",
      "RangeIndex: 3214 entries, 0 to 3213\n",
      "Data columns (total 6 columns):\n",
      "user_id         3214 non-null int64\n",
      "month           3214 non-null int64\n",
      "message_date    3214 non-null float64\n",
      "minutes         3214 non-null Int64\n",
      "calls           3214 non-null float64\n",
      "mb_used         3214 non-null float64\n",
      "dtypes: Int64(1), float64(3), int64(2)\n",
      "memory usage: 153.9 KB\n"
     ]
    }
   ],
   "source": [
    "call_mess_int_group.info()"
   ]
  },
  {
   "cell_type": "code",
   "execution_count": 39,
   "metadata": {
    "scrolled": true
   },
   "outputs": [
    {
     "data": {
      "text/html": [
       "<div>\n",
       "<style scoped>\n",
       "    .dataframe tbody tr th:only-of-type {\n",
       "        vertical-align: middle;\n",
       "    }\n",
       "\n",
       "    .dataframe tbody tr th {\n",
       "        vertical-align: top;\n",
       "    }\n",
       "\n",
       "    .dataframe thead th {\n",
       "        text-align: right;\n",
       "    }\n",
       "</style>\n",
       "<table border=\"1\" class=\"dataframe\">\n",
       "  <thead>\n",
       "    <tr style=\"text-align: right;\">\n",
       "      <th></th>\n",
       "      <th>user_id</th>\n",
       "      <th>month</th>\n",
       "      <th>messages</th>\n",
       "      <th>minutes</th>\n",
       "      <th>calls</th>\n",
       "      <th>gbs</th>\n",
       "      <th>tariff</th>\n",
       "      <th>city</th>\n",
       "    </tr>\n",
       "  </thead>\n",
       "  <tbody>\n",
       "    <tr>\n",
       "      <td>0</td>\n",
       "      <td>1000</td>\n",
       "      <td>5</td>\n",
       "      <td>22.0</td>\n",
       "      <td>159</td>\n",
       "      <td>22.0</td>\n",
       "      <td>2253.49</td>\n",
       "      <td>ultra</td>\n",
       "      <td>Краснодар</td>\n",
       "    </tr>\n",
       "    <tr>\n",
       "      <td>1</td>\n",
       "      <td>1000</td>\n",
       "      <td>6</td>\n",
       "      <td>60.0</td>\n",
       "      <td>172</td>\n",
       "      <td>43.0</td>\n",
       "      <td>23233.77</td>\n",
       "      <td>ultra</td>\n",
       "      <td>Краснодар</td>\n",
       "    </tr>\n",
       "    <tr>\n",
       "      <td>2</td>\n",
       "      <td>1000</td>\n",
       "      <td>7</td>\n",
       "      <td>75.0</td>\n",
       "      <td>340</td>\n",
       "      <td>47.0</td>\n",
       "      <td>14003.64</td>\n",
       "      <td>ultra</td>\n",
       "      <td>Краснодар</td>\n",
       "    </tr>\n",
       "    <tr>\n",
       "      <td>3</td>\n",
       "      <td>1000</td>\n",
       "      <td>8</td>\n",
       "      <td>81.0</td>\n",
       "      <td>408</td>\n",
       "      <td>52.0</td>\n",
       "      <td>14055.93</td>\n",
       "      <td>ultra</td>\n",
       "      <td>Краснодар</td>\n",
       "    </tr>\n",
       "    <tr>\n",
       "      <td>4</td>\n",
       "      <td>1000</td>\n",
       "      <td>9</td>\n",
       "      <td>57.0</td>\n",
       "      <td>466</td>\n",
       "      <td>58.0</td>\n",
       "      <td>14568.91</td>\n",
       "      <td>ultra</td>\n",
       "      <td>Краснодар</td>\n",
       "    </tr>\n",
       "    <tr>\n",
       "      <td>...</td>\n",
       "      <td>...</td>\n",
       "      <td>...</td>\n",
       "      <td>...</td>\n",
       "      <td>...</td>\n",
       "      <td>...</td>\n",
       "      <td>...</td>\n",
       "      <td>...</td>\n",
       "      <td>...</td>\n",
       "    </tr>\n",
       "    <tr>\n",
       "      <td>3209</td>\n",
       "      <td>1494</td>\n",
       "      <td>9</td>\n",
       "      <td>0.0</td>\n",
       "      <td>501</td>\n",
       "      <td>66.0</td>\n",
       "      <td>16962.51</td>\n",
       "      <td>smart</td>\n",
       "      <td>Омск</td>\n",
       "    </tr>\n",
       "    <tr>\n",
       "      <td>3210</td>\n",
       "      <td>1494</td>\n",
       "      <td>10</td>\n",
       "      <td>0.0</td>\n",
       "      <td>354</td>\n",
       "      <td>52.0</td>\n",
       "      <td>17767.24</td>\n",
       "      <td>smart</td>\n",
       "      <td>Омск</td>\n",
       "    </tr>\n",
       "    <tr>\n",
       "      <td>3211</td>\n",
       "      <td>1494</td>\n",
       "      <td>11</td>\n",
       "      <td>0.0</td>\n",
       "      <td>411</td>\n",
       "      <td>63.0</td>\n",
       "      <td>18052.45</td>\n",
       "      <td>smart</td>\n",
       "      <td>Омск</td>\n",
       "    </tr>\n",
       "    <tr>\n",
       "      <td>3212</td>\n",
       "      <td>1494</td>\n",
       "      <td>12</td>\n",
       "      <td>0.0</td>\n",
       "      <td>418</td>\n",
       "      <td>62.0</td>\n",
       "      <td>17621.21</td>\n",
       "      <td>smart</td>\n",
       "      <td>Омск</td>\n",
       "    </tr>\n",
       "    <tr>\n",
       "      <td>3213</td>\n",
       "      <td>1476</td>\n",
       "      <td>4</td>\n",
       "      <td>0.0</td>\n",
       "      <td>0</td>\n",
       "      <td>0.0</td>\n",
       "      <td>530.78</td>\n",
       "      <td>ultra</td>\n",
       "      <td>Москва</td>\n",
       "    </tr>\n",
       "  </tbody>\n",
       "</table>\n",
       "<p>3214 rows × 8 columns</p>\n",
       "</div>"
      ],
      "text/plain": [
       "      user_id  month  messages  minutes  calls       gbs tariff       city\n",
       "0        1000      5      22.0      159   22.0   2253.49  ultra  Краснодар\n",
       "1        1000      6      60.0      172   43.0  23233.77  ultra  Краснодар\n",
       "2        1000      7      75.0      340   47.0  14003.64  ultra  Краснодар\n",
       "3        1000      8      81.0      408   52.0  14055.93  ultra  Краснодар\n",
       "4        1000      9      57.0      466   58.0  14568.91  ultra  Краснодар\n",
       "...       ...    ...       ...      ...    ...       ...    ...        ...\n",
       "3209     1494      9       0.0      501   66.0  16962.51  smart       Омск\n",
       "3210     1494     10       0.0      354   52.0  17767.24  smart       Омск\n",
       "3211     1494     11       0.0      411   63.0  18052.45  smart       Омск\n",
       "3212     1494     12       0.0      418   62.0  17621.21  smart       Омск\n",
       "3213     1476      4       0.0        0    0.0    530.78  ultra     Москва\n",
       "\n",
       "[3214 rows x 8 columns]"
      ]
     },
     "execution_count": 39,
     "metadata": {},
     "output_type": "execute_result"
    }
   ],
   "source": [
    "#объединим таблицы call_mess_int_group и users:\n",
    "all_group=call_mess_int_group.merge(users[['user_id','tariff','city']],on=['user_id'], how='left')\n",
    "all_group\n",
    "#сразу переименуем столбцы:\n",
    "all_group=all_group \\\n",
    "    .rename(columns={'message_date':'messages',\n",
    "                     'mb_used':'gbs'}) \n",
    "all_group"
   ]
  },
  {
   "cell_type": "code",
   "execution_count": 40,
   "metadata": {},
   "outputs": [
    {
     "data": {
      "text/html": [
       "<div>\n",
       "<style scoped>\n",
       "    .dataframe tbody tr th:only-of-type {\n",
       "        vertical-align: middle;\n",
       "    }\n",
       "\n",
       "    .dataframe tbody tr th {\n",
       "        vertical-align: top;\n",
       "    }\n",
       "\n",
       "    .dataframe thead th {\n",
       "        text-align: right;\n",
       "    }\n",
       "</style>\n",
       "<table border=\"1\" class=\"dataframe\">\n",
       "  <thead>\n",
       "    <tr style=\"text-align: right;\">\n",
       "      <th></th>\n",
       "      <th>user_id</th>\n",
       "      <th>month</th>\n",
       "      <th>messages</th>\n",
       "      <th>minutes</th>\n",
       "      <th>calls</th>\n",
       "      <th>gbs</th>\n",
       "      <th>tariff</th>\n",
       "      <th>city</th>\n",
       "      <th>messages_included</th>\n",
       "      <th>mb_per_month_included</th>\n",
       "      <th>minutes_included</th>\n",
       "      <th>rub_monthly_fee</th>\n",
       "      <th>rub_per_gb</th>\n",
       "      <th>rub_per_message</th>\n",
       "      <th>rub_per_minute</th>\n",
       "    </tr>\n",
       "  </thead>\n",
       "  <tbody>\n",
       "    <tr>\n",
       "      <td>0</td>\n",
       "      <td>1000</td>\n",
       "      <td>5</td>\n",
       "      <td>22.0</td>\n",
       "      <td>159</td>\n",
       "      <td>22.0</td>\n",
       "      <td>2253.49</td>\n",
       "      <td>ultra</td>\n",
       "      <td>Краснодар</td>\n",
       "      <td>1000</td>\n",
       "      <td>30720</td>\n",
       "      <td>3000</td>\n",
       "      <td>1950</td>\n",
       "      <td>150</td>\n",
       "      <td>1</td>\n",
       "      <td>1</td>\n",
       "    </tr>\n",
       "    <tr>\n",
       "      <td>1</td>\n",
       "      <td>1000</td>\n",
       "      <td>6</td>\n",
       "      <td>60.0</td>\n",
       "      <td>172</td>\n",
       "      <td>43.0</td>\n",
       "      <td>23233.77</td>\n",
       "      <td>ultra</td>\n",
       "      <td>Краснодар</td>\n",
       "      <td>1000</td>\n",
       "      <td>30720</td>\n",
       "      <td>3000</td>\n",
       "      <td>1950</td>\n",
       "      <td>150</td>\n",
       "      <td>1</td>\n",
       "      <td>1</td>\n",
       "    </tr>\n",
       "    <tr>\n",
       "      <td>2</td>\n",
       "      <td>1000</td>\n",
       "      <td>7</td>\n",
       "      <td>75.0</td>\n",
       "      <td>340</td>\n",
       "      <td>47.0</td>\n",
       "      <td>14003.64</td>\n",
       "      <td>ultra</td>\n",
       "      <td>Краснодар</td>\n",
       "      <td>1000</td>\n",
       "      <td>30720</td>\n",
       "      <td>3000</td>\n",
       "      <td>1950</td>\n",
       "      <td>150</td>\n",
       "      <td>1</td>\n",
       "      <td>1</td>\n",
       "    </tr>\n",
       "    <tr>\n",
       "      <td>3</td>\n",
       "      <td>1000</td>\n",
       "      <td>8</td>\n",
       "      <td>81.0</td>\n",
       "      <td>408</td>\n",
       "      <td>52.0</td>\n",
       "      <td>14055.93</td>\n",
       "      <td>ultra</td>\n",
       "      <td>Краснодар</td>\n",
       "      <td>1000</td>\n",
       "      <td>30720</td>\n",
       "      <td>3000</td>\n",
       "      <td>1950</td>\n",
       "      <td>150</td>\n",
       "      <td>1</td>\n",
       "      <td>1</td>\n",
       "    </tr>\n",
       "    <tr>\n",
       "      <td>4</td>\n",
       "      <td>1000</td>\n",
       "      <td>9</td>\n",
       "      <td>57.0</td>\n",
       "      <td>466</td>\n",
       "      <td>58.0</td>\n",
       "      <td>14568.91</td>\n",
       "      <td>ultra</td>\n",
       "      <td>Краснодар</td>\n",
       "      <td>1000</td>\n",
       "      <td>30720</td>\n",
       "      <td>3000</td>\n",
       "      <td>1950</td>\n",
       "      <td>150</td>\n",
       "      <td>1</td>\n",
       "      <td>1</td>\n",
       "    </tr>\n",
       "    <tr>\n",
       "      <td>...</td>\n",
       "      <td>...</td>\n",
       "      <td>...</td>\n",
       "      <td>...</td>\n",
       "      <td>...</td>\n",
       "      <td>...</td>\n",
       "      <td>...</td>\n",
       "      <td>...</td>\n",
       "      <td>...</td>\n",
       "      <td>...</td>\n",
       "      <td>...</td>\n",
       "      <td>...</td>\n",
       "      <td>...</td>\n",
       "      <td>...</td>\n",
       "      <td>...</td>\n",
       "      <td>...</td>\n",
       "    </tr>\n",
       "    <tr>\n",
       "      <td>3209</td>\n",
       "      <td>1494</td>\n",
       "      <td>9</td>\n",
       "      <td>0.0</td>\n",
       "      <td>501</td>\n",
       "      <td>66.0</td>\n",
       "      <td>16962.51</td>\n",
       "      <td>smart</td>\n",
       "      <td>Омск</td>\n",
       "      <td>50</td>\n",
       "      <td>15360</td>\n",
       "      <td>500</td>\n",
       "      <td>550</td>\n",
       "      <td>200</td>\n",
       "      <td>3</td>\n",
       "      <td>3</td>\n",
       "    </tr>\n",
       "    <tr>\n",
       "      <td>3210</td>\n",
       "      <td>1494</td>\n",
       "      <td>10</td>\n",
       "      <td>0.0</td>\n",
       "      <td>354</td>\n",
       "      <td>52.0</td>\n",
       "      <td>17767.24</td>\n",
       "      <td>smart</td>\n",
       "      <td>Омск</td>\n",
       "      <td>50</td>\n",
       "      <td>15360</td>\n",
       "      <td>500</td>\n",
       "      <td>550</td>\n",
       "      <td>200</td>\n",
       "      <td>3</td>\n",
       "      <td>3</td>\n",
       "    </tr>\n",
       "    <tr>\n",
       "      <td>3211</td>\n",
       "      <td>1494</td>\n",
       "      <td>11</td>\n",
       "      <td>0.0</td>\n",
       "      <td>411</td>\n",
       "      <td>63.0</td>\n",
       "      <td>18052.45</td>\n",
       "      <td>smart</td>\n",
       "      <td>Омск</td>\n",
       "      <td>50</td>\n",
       "      <td>15360</td>\n",
       "      <td>500</td>\n",
       "      <td>550</td>\n",
       "      <td>200</td>\n",
       "      <td>3</td>\n",
       "      <td>3</td>\n",
       "    </tr>\n",
       "    <tr>\n",
       "      <td>3212</td>\n",
       "      <td>1494</td>\n",
       "      <td>12</td>\n",
       "      <td>0.0</td>\n",
       "      <td>418</td>\n",
       "      <td>62.0</td>\n",
       "      <td>17621.21</td>\n",
       "      <td>smart</td>\n",
       "      <td>Омск</td>\n",
       "      <td>50</td>\n",
       "      <td>15360</td>\n",
       "      <td>500</td>\n",
       "      <td>550</td>\n",
       "      <td>200</td>\n",
       "      <td>3</td>\n",
       "      <td>3</td>\n",
       "    </tr>\n",
       "    <tr>\n",
       "      <td>3213</td>\n",
       "      <td>1476</td>\n",
       "      <td>4</td>\n",
       "      <td>0.0</td>\n",
       "      <td>0</td>\n",
       "      <td>0.0</td>\n",
       "      <td>530.78</td>\n",
       "      <td>ultra</td>\n",
       "      <td>Москва</td>\n",
       "      <td>1000</td>\n",
       "      <td>30720</td>\n",
       "      <td>3000</td>\n",
       "      <td>1950</td>\n",
       "      <td>150</td>\n",
       "      <td>1</td>\n",
       "      <td>1</td>\n",
       "    </tr>\n",
       "  </tbody>\n",
       "</table>\n",
       "<p>3214 rows × 15 columns</p>\n",
       "</div>"
      ],
      "text/plain": [
       "      user_id  month  messages  minutes  calls       gbs tariff       city  \\\n",
       "0        1000      5      22.0      159   22.0   2253.49  ultra  Краснодар   \n",
       "1        1000      6      60.0      172   43.0  23233.77  ultra  Краснодар   \n",
       "2        1000      7      75.0      340   47.0  14003.64  ultra  Краснодар   \n",
       "3        1000      8      81.0      408   52.0  14055.93  ultra  Краснодар   \n",
       "4        1000      9      57.0      466   58.0  14568.91  ultra  Краснодар   \n",
       "...       ...    ...       ...      ...    ...       ...    ...        ...   \n",
       "3209     1494      9       0.0      501   66.0  16962.51  smart       Омск   \n",
       "3210     1494     10       0.0      354   52.0  17767.24  smart       Омск   \n",
       "3211     1494     11       0.0      411   63.0  18052.45  smart       Омск   \n",
       "3212     1494     12       0.0      418   62.0  17621.21  smart       Омск   \n",
       "3213     1476      4       0.0        0    0.0    530.78  ultra     Москва   \n",
       "\n",
       "      messages_included  mb_per_month_included  minutes_included  \\\n",
       "0                  1000                  30720              3000   \n",
       "1                  1000                  30720              3000   \n",
       "2                  1000                  30720              3000   \n",
       "3                  1000                  30720              3000   \n",
       "4                  1000                  30720              3000   \n",
       "...                 ...                    ...               ...   \n",
       "3209                 50                  15360               500   \n",
       "3210                 50                  15360               500   \n",
       "3211                 50                  15360               500   \n",
       "3212                 50                  15360               500   \n",
       "3213               1000                  30720              3000   \n",
       "\n",
       "      rub_monthly_fee  rub_per_gb  rub_per_message  rub_per_minute  \n",
       "0                1950         150                1               1  \n",
       "1                1950         150                1               1  \n",
       "2                1950         150                1               1  \n",
       "3                1950         150                1               1  \n",
       "4                1950         150                1               1  \n",
       "...               ...         ...              ...             ...  \n",
       "3209              550         200                3               3  \n",
       "3210              550         200                3               3  \n",
       "3211              550         200                3               3  \n",
       "3212              550         200                3               3  \n",
       "3213             1950         150                1               1  \n",
       "\n",
       "[3214 rows x 15 columns]"
      ]
     },
     "execution_count": 40,
     "metadata": {},
     "output_type": "execute_result"
    }
   ],
   "source": [
    "#объединим таблицы all_group и tariffs:\n",
    "final_df=all_group.merge(tariffs,on='tariff', how='left')\n",
    "final_df"
   ]
  },
  {
   "cell_type": "code",
   "execution_count": 41,
   "metadata": {},
   "outputs": [
    {
     "data": {
      "text/plain": [
       "user_id                  0\n",
       "month                    0\n",
       "messages                 0\n",
       "minutes                  0\n",
       "calls                    0\n",
       "gbs                      0\n",
       "tariff                   0\n",
       "city                     0\n",
       "messages_included        0\n",
       "mb_per_month_included    0\n",
       "minutes_included         0\n",
       "rub_monthly_fee          0\n",
       "rub_per_gb               0\n",
       "rub_per_message          0\n",
       "rub_per_minute           0\n",
       "dtype: int64"
      ]
     },
     "execution_count": 41,
     "metadata": {},
     "output_type": "execute_result"
    }
   ],
   "source": [
    "final_df.isna().sum()"
   ]
  },
  {
   "cell_type": "markdown",
   "metadata": {},
   "source": [
    "Посчитаем помесячную выручку с каждого пользователя (вычтим бесплатный лимит из суммарного количества звонков, сообщений и интернет-трафика; остаток умножим на значение из тарифного плана; прибавим абонентскую плату, соответствующую тарифному плану)."
   ]
  },
  {
   "cell_type": "code",
   "execution_count": 42,
   "metadata": {},
   "outputs": [],
   "source": [
    "final_df['minutes_overrun']  = final_df['minutes'] - final_df['minutes_included']\n",
    "final_df['messages_overrun'] = final_df['messages'] - final_df['messages_included']\n",
    "final_df['gbs_overrun']  = np.ceil((final_df['gbs'] - final_df['mb_per_month_included'])/1024)"
   ]
  },
  {
   "cell_type": "code",
   "execution_count": 43,
   "metadata": {},
   "outputs": [
    {
     "data": {
      "text/plain": [
       "0      -27.0\n",
       "1       -7.0\n",
       "2      -16.0\n",
       "3      -16.0\n",
       "4      -15.0\n",
       "        ... \n",
       "3209     2.0\n",
       "3210     3.0\n",
       "3211     3.0\n",
       "3212     3.0\n",
       "3213   -29.0\n",
       "Name: gbs_overrun, Length: 3214, dtype: float64"
      ]
     },
     "execution_count": 43,
     "metadata": {},
     "output_type": "execute_result"
    }
   ],
   "source": [
    "final_df['gbs_overrun']"
   ]
  },
  {
   "cell_type": "code",
   "execution_count": 44,
   "metadata": {},
   "outputs": [
    {
     "data": {
      "text/html": [
       "<div>\n",
       "<style scoped>\n",
       "    .dataframe tbody tr th:only-of-type {\n",
       "        vertical-align: middle;\n",
       "    }\n",
       "\n",
       "    .dataframe tbody tr th {\n",
       "        vertical-align: top;\n",
       "    }\n",
       "\n",
       "    .dataframe thead th {\n",
       "        text-align: right;\n",
       "    }\n",
       "</style>\n",
       "<table border=\"1\" class=\"dataframe\">\n",
       "  <thead>\n",
       "    <tr style=\"text-align: right;\">\n",
       "      <th></th>\n",
       "      <th>user_id</th>\n",
       "      <th>month</th>\n",
       "      <th>messages</th>\n",
       "      <th>minutes</th>\n",
       "      <th>calls</th>\n",
       "      <th>gbs</th>\n",
       "      <th>tariff</th>\n",
       "      <th>city</th>\n",
       "      <th>messages_included</th>\n",
       "      <th>mb_per_month_included</th>\n",
       "      <th>minutes_included</th>\n",
       "      <th>rub_monthly_fee</th>\n",
       "      <th>rub_per_gb</th>\n",
       "      <th>rub_per_message</th>\n",
       "      <th>rub_per_minute</th>\n",
       "      <th>minutes_overrun</th>\n",
       "      <th>messages_overrun</th>\n",
       "      <th>gbs_overrun</th>\n",
       "      <th>revenue</th>\n",
       "      <th>revenue_total</th>\n",
       "    </tr>\n",
       "  </thead>\n",
       "  <tbody>\n",
       "    <tr>\n",
       "      <td>0</td>\n",
       "      <td>1000</td>\n",
       "      <td>5</td>\n",
       "      <td>22.0</td>\n",
       "      <td>159</td>\n",
       "      <td>22.0</td>\n",
       "      <td>2253.49</td>\n",
       "      <td>ultra</td>\n",
       "      <td>Краснодар</td>\n",
       "      <td>1000</td>\n",
       "      <td>30720</td>\n",
       "      <td>3000</td>\n",
       "      <td>1950</td>\n",
       "      <td>150</td>\n",
       "      <td>1</td>\n",
       "      <td>1</td>\n",
       "      <td>-2841</td>\n",
       "      <td>-978.0</td>\n",
       "      <td>-27.0</td>\n",
       "      <td>0.0</td>\n",
       "      <td>1950.0</td>\n",
       "    </tr>\n",
       "    <tr>\n",
       "      <td>1</td>\n",
       "      <td>1000</td>\n",
       "      <td>6</td>\n",
       "      <td>60.0</td>\n",
       "      <td>172</td>\n",
       "      <td>43.0</td>\n",
       "      <td>23233.77</td>\n",
       "      <td>ultra</td>\n",
       "      <td>Краснодар</td>\n",
       "      <td>1000</td>\n",
       "      <td>30720</td>\n",
       "      <td>3000</td>\n",
       "      <td>1950</td>\n",
       "      <td>150</td>\n",
       "      <td>1</td>\n",
       "      <td>1</td>\n",
       "      <td>-2828</td>\n",
       "      <td>-940.0</td>\n",
       "      <td>-7.0</td>\n",
       "      <td>0.0</td>\n",
       "      <td>1950.0</td>\n",
       "    </tr>\n",
       "    <tr>\n",
       "      <td>2</td>\n",
       "      <td>1000</td>\n",
       "      <td>7</td>\n",
       "      <td>75.0</td>\n",
       "      <td>340</td>\n",
       "      <td>47.0</td>\n",
       "      <td>14003.64</td>\n",
       "      <td>ultra</td>\n",
       "      <td>Краснодар</td>\n",
       "      <td>1000</td>\n",
       "      <td>30720</td>\n",
       "      <td>3000</td>\n",
       "      <td>1950</td>\n",
       "      <td>150</td>\n",
       "      <td>1</td>\n",
       "      <td>1</td>\n",
       "      <td>-2660</td>\n",
       "      <td>-925.0</td>\n",
       "      <td>-16.0</td>\n",
       "      <td>0.0</td>\n",
       "      <td>1950.0</td>\n",
       "    </tr>\n",
       "    <tr>\n",
       "      <td>3</td>\n",
       "      <td>1000</td>\n",
       "      <td>8</td>\n",
       "      <td>81.0</td>\n",
       "      <td>408</td>\n",
       "      <td>52.0</td>\n",
       "      <td>14055.93</td>\n",
       "      <td>ultra</td>\n",
       "      <td>Краснодар</td>\n",
       "      <td>1000</td>\n",
       "      <td>30720</td>\n",
       "      <td>3000</td>\n",
       "      <td>1950</td>\n",
       "      <td>150</td>\n",
       "      <td>1</td>\n",
       "      <td>1</td>\n",
       "      <td>-2592</td>\n",
       "      <td>-919.0</td>\n",
       "      <td>-16.0</td>\n",
       "      <td>0.0</td>\n",
       "      <td>1950.0</td>\n",
       "    </tr>\n",
       "    <tr>\n",
       "      <td>4</td>\n",
       "      <td>1000</td>\n",
       "      <td>9</td>\n",
       "      <td>57.0</td>\n",
       "      <td>466</td>\n",
       "      <td>58.0</td>\n",
       "      <td>14568.91</td>\n",
       "      <td>ultra</td>\n",
       "      <td>Краснодар</td>\n",
       "      <td>1000</td>\n",
       "      <td>30720</td>\n",
       "      <td>3000</td>\n",
       "      <td>1950</td>\n",
       "      <td>150</td>\n",
       "      <td>1</td>\n",
       "      <td>1</td>\n",
       "      <td>-2534</td>\n",
       "      <td>-943.0</td>\n",
       "      <td>-15.0</td>\n",
       "      <td>0.0</td>\n",
       "      <td>1950.0</td>\n",
       "    </tr>\n",
       "    <tr>\n",
       "      <td>...</td>\n",
       "      <td>...</td>\n",
       "      <td>...</td>\n",
       "      <td>...</td>\n",
       "      <td>...</td>\n",
       "      <td>...</td>\n",
       "      <td>...</td>\n",
       "      <td>...</td>\n",
       "      <td>...</td>\n",
       "      <td>...</td>\n",
       "      <td>...</td>\n",
       "      <td>...</td>\n",
       "      <td>...</td>\n",
       "      <td>...</td>\n",
       "      <td>...</td>\n",
       "      <td>...</td>\n",
       "      <td>...</td>\n",
       "      <td>...</td>\n",
       "      <td>...</td>\n",
       "      <td>...</td>\n",
       "      <td>...</td>\n",
       "    </tr>\n",
       "    <tr>\n",
       "      <td>3209</td>\n",
       "      <td>1494</td>\n",
       "      <td>9</td>\n",
       "      <td>0.0</td>\n",
       "      <td>501</td>\n",
       "      <td>66.0</td>\n",
       "      <td>16962.51</td>\n",
       "      <td>smart</td>\n",
       "      <td>Омск</td>\n",
       "      <td>50</td>\n",
       "      <td>15360</td>\n",
       "      <td>500</td>\n",
       "      <td>550</td>\n",
       "      <td>200</td>\n",
       "      <td>3</td>\n",
       "      <td>3</td>\n",
       "      <td>1</td>\n",
       "      <td>-50.0</td>\n",
       "      <td>2.0</td>\n",
       "      <td>403.0</td>\n",
       "      <td>953.0</td>\n",
       "    </tr>\n",
       "    <tr>\n",
       "      <td>3210</td>\n",
       "      <td>1494</td>\n",
       "      <td>10</td>\n",
       "      <td>0.0</td>\n",
       "      <td>354</td>\n",
       "      <td>52.0</td>\n",
       "      <td>17767.24</td>\n",
       "      <td>smart</td>\n",
       "      <td>Омск</td>\n",
       "      <td>50</td>\n",
       "      <td>15360</td>\n",
       "      <td>500</td>\n",
       "      <td>550</td>\n",
       "      <td>200</td>\n",
       "      <td>3</td>\n",
       "      <td>3</td>\n",
       "      <td>-146</td>\n",
       "      <td>-50.0</td>\n",
       "      <td>3.0</td>\n",
       "      <td>600.0</td>\n",
       "      <td>1150.0</td>\n",
       "    </tr>\n",
       "    <tr>\n",
       "      <td>3211</td>\n",
       "      <td>1494</td>\n",
       "      <td>11</td>\n",
       "      <td>0.0</td>\n",
       "      <td>411</td>\n",
       "      <td>63.0</td>\n",
       "      <td>18052.45</td>\n",
       "      <td>smart</td>\n",
       "      <td>Омск</td>\n",
       "      <td>50</td>\n",
       "      <td>15360</td>\n",
       "      <td>500</td>\n",
       "      <td>550</td>\n",
       "      <td>200</td>\n",
       "      <td>3</td>\n",
       "      <td>3</td>\n",
       "      <td>-89</td>\n",
       "      <td>-50.0</td>\n",
       "      <td>3.0</td>\n",
       "      <td>600.0</td>\n",
       "      <td>1150.0</td>\n",
       "    </tr>\n",
       "    <tr>\n",
       "      <td>3212</td>\n",
       "      <td>1494</td>\n",
       "      <td>12</td>\n",
       "      <td>0.0</td>\n",
       "      <td>418</td>\n",
       "      <td>62.0</td>\n",
       "      <td>17621.21</td>\n",
       "      <td>smart</td>\n",
       "      <td>Омск</td>\n",
       "      <td>50</td>\n",
       "      <td>15360</td>\n",
       "      <td>500</td>\n",
       "      <td>550</td>\n",
       "      <td>200</td>\n",
       "      <td>3</td>\n",
       "      <td>3</td>\n",
       "      <td>-82</td>\n",
       "      <td>-50.0</td>\n",
       "      <td>3.0</td>\n",
       "      <td>600.0</td>\n",
       "      <td>1150.0</td>\n",
       "    </tr>\n",
       "    <tr>\n",
       "      <td>3213</td>\n",
       "      <td>1476</td>\n",
       "      <td>4</td>\n",
       "      <td>0.0</td>\n",
       "      <td>0</td>\n",
       "      <td>0.0</td>\n",
       "      <td>530.78</td>\n",
       "      <td>ultra</td>\n",
       "      <td>Москва</td>\n",
       "      <td>1000</td>\n",
       "      <td>30720</td>\n",
       "      <td>3000</td>\n",
       "      <td>1950</td>\n",
       "      <td>150</td>\n",
       "      <td>1</td>\n",
       "      <td>1</td>\n",
       "      <td>-3000</td>\n",
       "      <td>-1000.0</td>\n",
       "      <td>-29.0</td>\n",
       "      <td>0.0</td>\n",
       "      <td>1950.0</td>\n",
       "    </tr>\n",
       "  </tbody>\n",
       "</table>\n",
       "<p>3214 rows × 20 columns</p>\n",
       "</div>"
      ],
      "text/plain": [
       "      user_id  month  messages  minutes  calls       gbs tariff       city  \\\n",
       "0        1000      5      22.0      159   22.0   2253.49  ultra  Краснодар   \n",
       "1        1000      6      60.0      172   43.0  23233.77  ultra  Краснодар   \n",
       "2        1000      7      75.0      340   47.0  14003.64  ultra  Краснодар   \n",
       "3        1000      8      81.0      408   52.0  14055.93  ultra  Краснодар   \n",
       "4        1000      9      57.0      466   58.0  14568.91  ultra  Краснодар   \n",
       "...       ...    ...       ...      ...    ...       ...    ...        ...   \n",
       "3209     1494      9       0.0      501   66.0  16962.51  smart       Омск   \n",
       "3210     1494     10       0.0      354   52.0  17767.24  smart       Омск   \n",
       "3211     1494     11       0.0      411   63.0  18052.45  smart       Омск   \n",
       "3212     1494     12       0.0      418   62.0  17621.21  smart       Омск   \n",
       "3213     1476      4       0.0        0    0.0    530.78  ultra     Москва   \n",
       "\n",
       "      messages_included  mb_per_month_included  minutes_included  \\\n",
       "0                  1000                  30720              3000   \n",
       "1                  1000                  30720              3000   \n",
       "2                  1000                  30720              3000   \n",
       "3                  1000                  30720              3000   \n",
       "4                  1000                  30720              3000   \n",
       "...                 ...                    ...               ...   \n",
       "3209                 50                  15360               500   \n",
       "3210                 50                  15360               500   \n",
       "3211                 50                  15360               500   \n",
       "3212                 50                  15360               500   \n",
       "3213               1000                  30720              3000   \n",
       "\n",
       "      rub_monthly_fee  rub_per_gb  rub_per_message  rub_per_minute  \\\n",
       "0                1950         150                1               1   \n",
       "1                1950         150                1               1   \n",
       "2                1950         150                1               1   \n",
       "3                1950         150                1               1   \n",
       "4                1950         150                1               1   \n",
       "...               ...         ...              ...             ...   \n",
       "3209              550         200                3               3   \n",
       "3210              550         200                3               3   \n",
       "3211              550         200                3               3   \n",
       "3212              550         200                3               3   \n",
       "3213             1950         150                1               1   \n",
       "\n",
       "      minutes_overrun  messages_overrun  gbs_overrun  revenue  revenue_total  \n",
       "0               -2841            -978.0        -27.0      0.0         1950.0  \n",
       "1               -2828            -940.0         -7.0      0.0         1950.0  \n",
       "2               -2660            -925.0        -16.0      0.0         1950.0  \n",
       "3               -2592            -919.0        -16.0      0.0         1950.0  \n",
       "4               -2534            -943.0        -15.0      0.0         1950.0  \n",
       "...               ...               ...          ...      ...            ...  \n",
       "3209                1             -50.0          2.0    403.0          953.0  \n",
       "3210             -146             -50.0          3.0    600.0         1150.0  \n",
       "3211              -89             -50.0          3.0    600.0         1150.0  \n",
       "3212              -82             -50.0          3.0    600.0         1150.0  \n",
       "3213            -3000           -1000.0        -29.0      0.0         1950.0  \n",
       "\n",
       "[3214 rows x 20 columns]"
      ]
     },
     "execution_count": 44,
     "metadata": {},
     "output_type": "execute_result"
    }
   ],
   "source": [
    "#напишем функцию для подcчета выручки и применим ее ко всей таблице:\n",
    "def get_revenue(row):\n",
    "    revenue_by_min = 0\n",
    "    revenue_by_messages = 0\n",
    "    revenue_mb = 0\n",
    "\n",
    "    if row['minutes_overrun'] > 0:\n",
    "        revenue_by_min = row['minutes_overrun'] * row['rub_per_minute']\n",
    "    if row['messages_overrun'] > 0:\n",
    "        revenue_by_messages = row['messages_overrun'] * row['rub_per_message']\n",
    "    if row['gbs_overrun'] > 0:\n",
    "        revenue_mb = (row['gbs_overrun']) * row['rub_per_gb']\n",
    "\n",
    "    return revenue_by_min + revenue_by_messages + revenue_mb\n",
    "final_df['revenue'] = final_df.apply(get_revenue, axis = 1)\n",
    "final_df['revenue_total'] = final_df['revenue']+final_df['rub_monthly_fee']\n",
    "final_df"
   ]
  },
  {
   "cell_type": "code",
   "execution_count": 45,
   "metadata": {},
   "outputs": [
    {
     "data": {
      "image/png": "[encoded data removed]",
      "text/plain": [
       "<Figure size 432x288 with 1 Axes>"
      ]
     },
     "metadata": {
      "needs_background": "light"
     },
     "output_type": "display_data"
    }
   ],
   "source": [
    "plt.title('Общая выручка')\n",
    "#plt.hist(smart_tariff['messages'], bins=10, label='smart', density=True)\n",
    "plt.hist(final_df['revenue_total'], bins=10, label='revenue_total', alpha=0.5, density=True)\n",
    "plt.legend(loc='upper right')\n",
    "plt.show()"
   ]
  },
  {
   "cell_type": "markdown",
   "metadata": {},
   "source": [
    "Вывод: Посчитали месячную выручку по каждому клиенту. Как видно по графику, большинство клиентов  не выходят за рамки тарифного плана.\n"
   ]
  },
  {
   "cell_type": "markdown",
   "metadata": {},
   "source": [
    "## Исследовательский анализ данных"
   ]
  },
  {
   "cell_type": "markdown",
   "metadata": {},
   "source": [
    "Опишите поведение клиентов оператора, исходя из выборки. Сколько минут разговора, сколько сообщений и какой объём интернет-трафика требуется пользователям каждого тарифа в месяц? Посчитайте среднее количество, дисперсию и стандартное отклонение. Постройте гистограммы. Опишите распределения."
   ]
  },
  {
   "cell_type": "code",
   "execution_count": 46,
   "metadata": {},
   "outputs": [
    {
     "data": {
      "text/html": [
       "<div>\n",
       "<style scoped>\n",
       "    .dataframe tbody tr th:only-of-type {\n",
       "        vertical-align: middle;\n",
       "    }\n",
       "\n",
       "    .dataframe tbody tr th {\n",
       "        vertical-align: top;\n",
       "    }\n",
       "\n",
       "    .dataframe thead th {\n",
       "        text-align: right;\n",
       "    }\n",
       "</style>\n",
       "<table border=\"1\" class=\"dataframe\">\n",
       "  <thead>\n",
       "    <tr style=\"text-align: right;\">\n",
       "      <th></th>\n",
       "      <th></th>\n",
       "      <th>gbs</th>\n",
       "      <th>messages</th>\n",
       "      <th>minutes</th>\n",
       "      <th>revenue_total</th>\n",
       "    </tr>\n",
       "    <tr>\n",
       "      <th>month</th>\n",
       "      <th>tariff</th>\n",
       "      <th></th>\n",
       "      <th></th>\n",
       "      <th></th>\n",
       "      <th></th>\n",
       "    </tr>\n",
       "  </thead>\n",
       "  <tbody>\n",
       "    <tr>\n",
       "      <td rowspan=\"2\" valign=\"top\">1</td>\n",
       "      <td>smart</td>\n",
       "      <td>8513.717647</td>\n",
       "      <td>18.235294</td>\n",
       "      <td>203.852941</td>\n",
       "      <td>721.323529</td>\n",
       "    </tr>\n",
       "    <tr>\n",
       "      <td>ultra</td>\n",
       "      <td>13140.681111</td>\n",
       "      <td>33.777778</td>\n",
       "      <td>428.111111</td>\n",
       "      <td>1950.000000</td>\n",
       "    </tr>\n",
       "    <tr>\n",
       "      <td rowspan=\"2\" valign=\"top\">2</td>\n",
       "      <td>smart</td>\n",
       "      <td>11597.054310</td>\n",
       "      <td>24.086207</td>\n",
       "      <td>298.689655</td>\n",
       "      <td>827.603448</td>\n",
       "    </tr>\n",
       "    <tr>\n",
       "      <td>ultra</td>\n",
       "      <td>11775.937500</td>\n",
       "      <td>21.958333</td>\n",
       "      <td>297.125000</td>\n",
       "      <td>1975.000000</td>\n",
       "    </tr>\n",
       "    <tr>\n",
       "      <td rowspan=\"2\" valign=\"top\">3</td>\n",
       "      <td>smart</td>\n",
       "      <td>15104.159091</td>\n",
       "      <td>31.857143</td>\n",
       "      <td>390.051948</td>\n",
       "      <td>1164.623377</td>\n",
       "    </tr>\n",
       "    <tr>\n",
       "      <td>ultra</td>\n",
       "      <td>17535.550270</td>\n",
       "      <td>32.297297</td>\n",
       "      <td>489.648649</td>\n",
       "      <td>2014.864865</td>\n",
       "    </tr>\n",
       "    <tr>\n",
       "      <td rowspan=\"2\" valign=\"top\">4</td>\n",
       "      <td>smart</td>\n",
       "      <td>13462.180625</td>\n",
       "      <td>30.741071</td>\n",
       "      <td>367.133929</td>\n",
       "      <td>963.089286</td>\n",
       "    </tr>\n",
       "    <tr>\n",
       "      <td>ultra</td>\n",
       "      <td>16828.134364</td>\n",
       "      <td>31.563636</td>\n",
       "      <td>458.018182</td>\n",
       "      <td>2001.818182</td>\n",
       "    </tr>\n",
       "    <tr>\n",
       "      <td rowspan=\"2\" valign=\"top\">5</td>\n",
       "      <td>smart</td>\n",
       "      <td>15805.184326</td>\n",
       "      <td>33.773050</td>\n",
       "      <td>387.361702</td>\n",
       "      <td>1197.510638</td>\n",
       "    </tr>\n",
       "    <tr>\n",
       "      <td>ultra</td>\n",
       "      <td>19363.152985</td>\n",
       "      <td>37.850746</td>\n",
       "      <td>510.328358</td>\n",
       "      <td>2059.701493</td>\n",
       "    </tr>\n",
       "    <tr>\n",
       "      <td rowspan=\"2\" valign=\"top\">6</td>\n",
       "      <td>smart</td>\n",
       "      <td>15794.647988</td>\n",
       "      <td>33.402439</td>\n",
       "      <td>395.640244</td>\n",
       "      <td>1204.018293</td>\n",
       "    </tr>\n",
       "    <tr>\n",
       "      <td>ultra</td>\n",
       "      <td>18924.939286</td>\n",
       "      <td>41.726190</td>\n",
       "      <td>479.702381</td>\n",
       "      <td>2039.285714</td>\n",
       "    </tr>\n",
       "    <tr>\n",
       "      <td rowspan=\"2\" valign=\"top\">7</td>\n",
       "      <td>smart</td>\n",
       "      <td>15743.150348</td>\n",
       "      <td>33.751244</td>\n",
       "      <td>408.353234</td>\n",
       "      <td>1223.950249</td>\n",
       "    </tr>\n",
       "    <tr>\n",
       "      <td>ultra</td>\n",
       "      <td>20495.665165</td>\n",
       "      <td>49.846154</td>\n",
       "      <td>545.791209</td>\n",
       "      <td>2118.131868</td>\n",
       "    </tr>\n",
       "    <tr>\n",
       "      <td rowspan=\"2\" valign=\"top\">8</td>\n",
       "      <td>smart</td>\n",
       "      <td>16610.720085</td>\n",
       "      <td>33.638298</td>\n",
       "      <td>421.468085</td>\n",
       "      <td>1320.595745</td>\n",
       "    </tr>\n",
       "    <tr>\n",
       "      <td>ultra</td>\n",
       "      <td>19576.054673</td>\n",
       "      <td>48.439252</td>\n",
       "      <td>510.775701</td>\n",
       "      <td>2083.177570</td>\n",
       "    </tr>\n",
       "    <tr>\n",
       "      <td rowspan=\"2\" valign=\"top\">9</td>\n",
       "      <td>smart</td>\n",
       "      <td>16303.578808</td>\n",
       "      <td>33.638462</td>\n",
       "      <td>428.611538</td>\n",
       "      <td>1249.946154</td>\n",
       "    </tr>\n",
       "    <tr>\n",
       "      <td>ultra</td>\n",
       "      <td>19204.277130</td>\n",
       "      <td>52.286957</td>\n",
       "      <td>539.443478</td>\n",
       "      <td>2024.347826</td>\n",
       "    </tr>\n",
       "    <tr>\n",
       "      <td rowspan=\"2\" valign=\"top\">10</td>\n",
       "      <td>smart</td>\n",
       "      <td>16757.122891</td>\n",
       "      <td>33.765306</td>\n",
       "      <td>426.136054</td>\n",
       "      <td>1364.853741</td>\n",
       "    </tr>\n",
       "    <tr>\n",
       "      <td>ultra</td>\n",
       "      <td>20045.337317</td>\n",
       "      <td>58.430894</td>\n",
       "      <td>558.081301</td>\n",
       "      <td>2065.853659</td>\n",
       "    </tr>\n",
       "    <tr>\n",
       "      <td rowspan=\"2\" valign=\"top\">11</td>\n",
       "      <td>smart</td>\n",
       "      <td>16895.696646</td>\n",
       "      <td>34.075949</td>\n",
       "      <td>435.265823</td>\n",
       "      <td>1343.047468</td>\n",
       "    </tr>\n",
       "    <tr>\n",
       "      <td>ultra</td>\n",
       "      <td>19786.812463</td>\n",
       "      <td>55.791045</td>\n",
       "      <td>541.380597</td>\n",
       "      <td>2092.164179</td>\n",
       "    </tr>\n",
       "    <tr>\n",
       "      <td rowspan=\"2\" valign=\"top\">12</td>\n",
       "      <td>smart</td>\n",
       "      <td>18113.662047</td>\n",
       "      <td>35.994065</td>\n",
       "      <td>478.560831</td>\n",
       "      <td>1578.531157</td>\n",
       "    </tr>\n",
       "    <tr>\n",
       "      <td>ultra</td>\n",
       "      <td>21793.172590</td>\n",
       "      <td>60.611511</td>\n",
       "      <td>592.805755</td>\n",
       "      <td>2138.848921</td>\n",
       "    </tr>\n",
       "  </tbody>\n",
       "</table>\n",
       "</div>"
      ],
      "text/plain": [
       "                       gbs   messages     minutes  revenue_total\n",
       "month tariff                                                    \n",
       "1     smart    8513.717647  18.235294  203.852941     721.323529\n",
       "      ultra   13140.681111  33.777778  428.111111    1950.000000\n",
       "2     smart   11597.054310  24.086207  298.689655     827.603448\n",
       "      ultra   11775.937500  21.958333  297.125000    1975.000000\n",
       "3     smart   15104.159091  31.857143  390.051948    1164.623377\n",
       "      ultra   17535.550270  32.297297  489.648649    2014.864865\n",
       "4     smart   13462.180625  30.741071  367.133929     963.089286\n",
       "      ultra   16828.134364  31.563636  458.018182    2001.818182\n",
       "5     smart   15805.184326  33.773050  387.361702    1197.510638\n",
       "      ultra   19363.152985  37.850746  510.328358    2059.701493\n",
       "6     smart   15794.647988  33.402439  395.640244    1204.018293\n",
       "      ultra   18924.939286  41.726190  479.702381    2039.285714\n",
       "7     smart   15743.150348  33.751244  408.353234    1223.950249\n",
       "      ultra   20495.665165  49.846154  545.791209    2118.131868\n",
       "8     smart   16610.720085  33.638298  421.468085    1320.595745\n",
       "      ultra   19576.054673  48.439252  510.775701    2083.177570\n",
       "9     smart   16303.578808  33.638462  428.611538    1249.946154\n",
       "      ultra   19204.277130  52.286957  539.443478    2024.347826\n",
       "10    smart   16757.122891  33.765306  426.136054    1364.853741\n",
       "      ultra   20045.337317  58.430894  558.081301    2065.853659\n",
       "11    smart   16895.696646  34.075949  435.265823    1343.047468\n",
       "      ultra   19786.812463  55.791045  541.380597    2092.164179\n",
       "12    smart   18113.662047  35.994065  478.560831    1578.531157\n",
       "      ultra   21793.172590  60.611511  592.805755    2138.848921"
      ]
     },
     "execution_count": 46,
     "metadata": {},
     "output_type": "execute_result"
    }
   ],
   "source": [
    "#посчитаем сколько минут разговора, сколько сообщений и какой объём интернет-трафика\n",
    "#требуется пользователям каждого тарифа в месяц:\n",
    "tariff_month=final_df.pivot_table(index=['month','tariff'], values=['messages','minutes','gbs','revenue_total'])\n",
    "tariff_month\n"
   ]
  },
  {
   "cell_type": "code",
   "execution_count": 47,
   "metadata": {},
   "outputs": [
    {
     "data": {
      "text/html": [
       "<div>\n",
       "<style scoped>\n",
       "    .dataframe tbody tr th:only-of-type {\n",
       "        vertical-align: middle;\n",
       "    }\n",
       "\n",
       "    .dataframe tbody tr th {\n",
       "        vertical-align: top;\n",
       "    }\n",
       "\n",
       "    .dataframe thead th {\n",
       "        text-align: right;\n",
       "    }\n",
       "</style>\n",
       "<table border=\"1\" class=\"dataframe\">\n",
       "  <thead>\n",
       "    <tr style=\"text-align: right;\">\n",
       "      <th></th>\n",
       "      <th>gbs</th>\n",
       "      <th>messages</th>\n",
       "      <th>minutes</th>\n",
       "      <th>revenue_total</th>\n",
       "    </tr>\n",
       "    <tr>\n",
       "      <th>tariff</th>\n",
       "      <th></th>\n",
       "      <th></th>\n",
       "      <th></th>\n",
       "      <th></th>\n",
       "    </tr>\n",
       "  </thead>\n",
       "  <tbody>\n",
       "    <tr>\n",
       "      <td>smart</td>\n",
       "      <td>15058.406234</td>\n",
       "      <td>31.413211</td>\n",
       "      <td>386.760499</td>\n",
       "      <td>1179.924424</td>\n",
       "    </tr>\n",
       "    <tr>\n",
       "      <td>ultra</td>\n",
       "      <td>18205.809571</td>\n",
       "      <td>43.714983</td>\n",
       "      <td>495.934310</td>\n",
       "      <td>2046.932856</td>\n",
       "    </tr>\n",
       "  </tbody>\n",
       "</table>\n",
       "</div>"
      ],
      "text/plain": [
       "                 gbs   messages     minutes  revenue_total\n",
       "tariff                                                    \n",
       "smart   15058.406234  31.413211  386.760499    1179.924424\n",
       "ultra   18205.809571  43.714983  495.934310    2046.932856"
      ]
     },
     "execution_count": 47,
     "metadata": {},
     "output_type": "execute_result"
    }
   ],
   "source": [
    "#посчитаем в разрезе тарифа сколько минут разговора, сколько сообщений и какой объём интернет-трафика:\n",
    "mean_tariff=tariff_month.pivot_table(index=['tariff'], values=['messages','minutes','gbs','revenue_total'])\n",
    "mean_tariff\n"
   ]
  },
  {
   "cell_type": "code",
   "execution_count": 48,
   "metadata": {},
   "outputs": [],
   "source": [
    "#Сделаем срез тарифа смарт и тарифа ультра:\n",
    "smart_tariff = final_df.query(\"tariff == 'smart'\")\n",
    "ultra_tariff = final_df.query(\"tariff == 'ultra'\")"
   ]
  },
  {
   "cell_type": "code",
   "execution_count": 49,
   "metadata": {},
   "outputs": [
    {
     "data": {
      "image/png": "[encoded data removed]",
      "text/plain": [
       "<Figure size 432x288 with 1 Axes>"
      ]
     },
     "metadata": {
      "needs_background": "light"
     },
     "output_type": "display_data"
    }
   ],
   "source": [
    "#Построим гистограммы по тарифам по кол-ву минут:\n",
    "plt.title('Сравнение количества минут по тарифам')\n",
    "plt.hist(smart_tariff['messages'], bins=10, label='smart', density=True)\n",
    "plt.hist(ultra_tariff['messages'], bins=10, label='ultra', alpha=0.5, density=True)\n",
    "plt.legend(loc='upper right')\n",
    "plt.show()\n"
   ]
  },
  {
   "cell_type": "code",
   "execution_count": 50,
   "metadata": {},
   "outputs": [
    {
     "data": {
      "image/png": "[encoded data removed]",
      "text/plain": [
       "<Figure size 432x288 with 1 Axes>"
      ]
     },
     "metadata": {
      "needs_background": "light"
     },
     "output_type": "display_data"
    }
   ],
   "source": [
    "#Построим гистограммы по тарифам по кол-ву сообщений:\n",
    "plt.title('Сравнение количества сообщений по тарифам')\n",
    "plt.hist(smart_tariff['minutes'], bins=20, label='smart', density=True)\n",
    "plt.hist(ultra_tariff['minutes'], bins=20, label='ultra', alpha=0.5, density=True)\n",
    "plt.legend(loc='upper right')\n",
    "plt.show()"
   ]
  },
  {
   "cell_type": "code",
   "execution_count": 51,
   "metadata": {},
   "outputs": [
    {
     "data": {
      "image/png": "[encoded data removed]",
      "text/plain": [
       "<Figure size 432x288 with 1 Axes>"
      ]
     },
     "metadata": {
      "needs_background": "light"
     },
     "output_type": "display_data"
    }
   ],
   "source": [
    "#Построим гистограммы по тарифам по кол-ву затраченных гб:\n",
    "plt.title('Сравнение количества Гб по тарифам')\n",
    "plt.hist(smart_tariff['gbs'], bins=20, label='smart', density=True)\n",
    "plt.hist(ultra_tariff['gbs'], bins=20, label='ultra', alpha=0.5, density=True)\n",
    "plt.legend(loc='upper right')\n",
    "plt.show()"
   ]
  },
  {
   "cell_type": "code",
   "execution_count": 52,
   "metadata": {},
   "outputs": [
    {
     "data": {
      "text/html": [
       "<div>\n",
       "<style scoped>\n",
       "    .dataframe tbody tr th:only-of-type {\n",
       "        vertical-align: middle;\n",
       "    }\n",
       "\n",
       "    .dataframe tbody tr th {\n",
       "        vertical-align: top;\n",
       "    }\n",
       "\n",
       "    .dataframe thead tr th {\n",
       "        text-align: left;\n",
       "    }\n",
       "\n",
       "    .dataframe thead tr:last-of-type th {\n",
       "        text-align: right;\n",
       "    }\n",
       "</style>\n",
       "<table border=\"1\" class=\"dataframe\">\n",
       "  <thead>\n",
       "    <tr>\n",
       "      <th></th>\n",
       "      <th colspan=\"4\" halign=\"left\">mean</th>\n",
       "      <th colspan=\"4\" halign=\"left\">var</th>\n",
       "      <th colspan=\"4\" halign=\"left\">std</th>\n",
       "    </tr>\n",
       "    <tr>\n",
       "      <th></th>\n",
       "      <th>gbs</th>\n",
       "      <th>messages</th>\n",
       "      <th>minutes</th>\n",
       "      <th>revenue_total</th>\n",
       "      <th>gbs</th>\n",
       "      <th>messages</th>\n",
       "      <th>minutes</th>\n",
       "      <th>revenue_total</th>\n",
       "      <th>gbs</th>\n",
       "      <th>messages</th>\n",
       "      <th>minutes</th>\n",
       "      <th>revenue_total</th>\n",
       "    </tr>\n",
       "    <tr>\n",
       "      <th>tariff</th>\n",
       "      <th></th>\n",
       "      <th></th>\n",
       "      <th></th>\n",
       "      <th></th>\n",
       "      <th></th>\n",
       "      <th></th>\n",
       "      <th></th>\n",
       "      <th></th>\n",
       "      <th></th>\n",
       "      <th></th>\n",
       "      <th></th>\n",
       "      <th></th>\n",
       "    </tr>\n",
       "  </thead>\n",
       "  <tbody>\n",
       "    <tr>\n",
       "      <td>smart</td>\n",
       "      <td>16208.386990</td>\n",
       "      <td>33.384029</td>\n",
       "      <td>417.934948</td>\n",
       "      <td>1289.973531</td>\n",
       "      <td>3.446250e+07</td>\n",
       "      <td>796.812958</td>\n",
       "      <td>36219.315784</td>\n",
       "      <td>669785.708006</td>\n",
       "      <td>5870.476681</td>\n",
       "      <td>28.227876</td>\n",
       "      <td>190.313730</td>\n",
       "      <td>818.404367</td>\n",
       "    </tr>\n",
       "    <tr>\n",
       "      <td>ultra</td>\n",
       "      <td>19468.805208</td>\n",
       "      <td>49.363452</td>\n",
       "      <td>526.623350</td>\n",
       "      <td>2070.152284</td>\n",
       "      <td>1.017510e+08</td>\n",
       "      <td>2285.266143</td>\n",
       "      <td>100873.633397</td>\n",
       "      <td>141516.745079</td>\n",
       "      <td>10087.170752</td>\n",
       "      <td>47.804457</td>\n",
       "      <td>317.606098</td>\n",
       "      <td>376.187114</td>\n",
       "    </tr>\n",
       "  </tbody>\n",
       "</table>\n",
       "</div>"
      ],
      "text/plain": [
       "                mean                                                var  \\\n",
       "                 gbs   messages     minutes revenue_total           gbs   \n",
       "tariff                                                                    \n",
       "smart   16208.386990  33.384029  417.934948   1289.973531  3.446250e+07   \n",
       "ultra   19468.805208  49.363452  526.623350   2070.152284  1.017510e+08   \n",
       "\n",
       "                                                            std             \\\n",
       "           messages        minutes  revenue_total           gbs   messages   \n",
       "tariff                                                                       \n",
       "smart    796.812958   36219.315784  669785.708006   5870.476681  28.227876   \n",
       "ultra   2285.266143  100873.633397  141516.745079  10087.170752  47.804457   \n",
       "\n",
       "                                  \n",
       "           minutes revenue_total  \n",
       "tariff                            \n",
       "smart   190.313730    818.404367  \n",
       "ultra   317.606098    376.187114  "
      ]
     },
     "execution_count": 52,
     "metadata": {},
     "output_type": "execute_result"
    }
   ],
   "source": [
    "#посчитаем среднее, дисперсию и станд. отклонение по тарифам:\n",
    "final_df.pivot_table(index='tariff', values=['messages','minutes','gbs','revenue_total'], aggfunc=['mean', 'var','std'])"
   ]
  },
  {
   "cell_type": "markdown",
   "metadata": {},
   "source": [
    "Абонентам тарифа смарт не хватает гб интернета в рамках тарифа, в остальном они не выходят из бюджета.\n",
    "Абоненты с тарифом Ультра не успевают потратить за месяц положенные минуты , соообщени и Гб."
   ]
  },
  {
   "cell_type": "markdown",
   "metadata": {},
   "source": [
    "## Проверка гипотезы"
   ]
  },
  {
   "cell_type": "markdown",
   "metadata": {},
   "source": [
    "1. средняя выручка пользователей тарифов «Ультра» и «Смарт» различаются;\n",
    "2. средняя выручка пользователей из Москвы отличается от выручки пользователей из других регионов."
   ]
  },
  {
   "cell_type": "markdown",
   "metadata": {},
   "source": [
    "1. Нулевую гипотезу сформулируем следующим образом:\n",
    "\n",
    "- Нулевая гипотеза H₀: Средняя выручка пользователей тарифов «Ультра» и «Смарт» равны\n",
    "- Альтернативная гипотеза H₁: Средняя выручка пользователей тарифов «Ультра» и «Смарт» не равны\n",
    "\n"
   ]
  },
  {
   "cell_type": "code",
   "execution_count": 53,
   "metadata": {},
   "outputs": [
    {
     "data": {
      "text/plain": [
       "1289.9735307312696"
      ]
     },
     "execution_count": 53,
     "metadata": {},
     "output_type": "execute_result"
    }
   ],
   "source": [
    "smart_tariff['revenue_total'].mean()"
   ]
  },
  {
   "cell_type": "code",
   "execution_count": 54,
   "metadata": {},
   "outputs": [
    {
     "data": {
      "text/plain": [
       "2070.1522842639592"
      ]
     },
     "execution_count": 54,
     "metadata": {},
     "output_type": "execute_result"
    }
   ],
   "source": [
    "ultra_tariff['revenue_total'].mean()"
   ]
  },
  {
   "cell_type": "markdown",
   "metadata": {},
   "source": [
    "Критический уровень значимости возьмем 5 %, чтобы вероятность правильного вывода была в 95%.  Укажем equal_var = False , так как дисперсии выборок очень отличаются."
   ]
  },
  {
   "cell_type": "code",
   "execution_count": 55,
   "metadata": {},
   "outputs": [
    {
     "name": "stdout",
     "output_type": "stream",
     "text": [
      "p-значение:  4.2606313931076085e-250\n",
      "Отвергаем нулевую гипотезу\n"
     ]
    }
   ],
   "source": [
    "alpha = .05\n",
    "\n",
    "results = st.ttest_ind(\n",
    "    smart_tariff['revenue_total'], \n",
    "    ultra_tariff['revenue_total'],equal_var = False)\n",
    "\n",
    "print('p-значение: ', results.pvalue)\n",
    "\n",
    "if results.pvalue < alpha:\n",
    "    print(\"Отвергаем нулевую гипотезу\")\n",
    "else:\n",
    "    print(\"Не получилось отвергнуть нулевую гипотезу\") "
   ]
  },
  {
   "cell_type": "markdown",
   "metadata": {},
   "source": [
    "Средняя выручка пользователей тарифов «Ультра» и «Смарт» различаются."
   ]
  },
  {
   "cell_type": "markdown",
   "metadata": {},
   "source": [
    "2. Нулевую гипотезу сформулируем следующим образом:\n",
    "\n",
    "- Нулевая гипотеза H₀: средняя выручка пользователей из Москвы не отличается от выручки пользователей из других регионов\n",
    "- Альтернативная гипотеза H₁:  средняя выручка пользователей из Москвы отличается от выручки пользователей из других регионов"
   ]
  },
  {
   "cell_type": "code",
   "execution_count": 56,
   "metadata": {},
   "outputs": [],
   "source": [
    "#Сделаем срез по Москве и по региону:\n",
    "Moscow_revenue= final_df.query(\"city == 'Москва'\")\n",
    "region_revenue= final_df.query(\"city !='Москва'\")"
   ]
  },
  {
   "cell_type": "code",
   "execution_count": 57,
   "metadata": {},
   "outputs": [
    {
     "data": {
      "text/plain": [
       "1546.7135842880523"
      ]
     },
     "execution_count": 57,
     "metadata": {},
     "output_type": "execute_result"
    }
   ],
   "source": [
    "# посчитаем среднюю выручку по москве:\n",
    "Moscow_revenue['revenue_total'].mean()\n",
    "\n"
   ]
  },
  {
   "cell_type": "code",
   "execution_count": 58,
   "metadata": {},
   "outputs": [
    {
     "data": {
      "text/plain": [
       "1524.9362274298885"
      ]
     },
     "execution_count": 58,
     "metadata": {},
     "output_type": "execute_result"
    }
   ],
   "source": [
    "# посчитаем среднюю выручку по региону:\n",
    "region_revenue['revenue_total'].mean()"
   ]
  },
  {
   "cell_type": "code",
   "execution_count": 59,
   "metadata": {},
   "outputs": [
    {
     "data": {
      "text/plain": [
       "565636.467011886"
      ]
     },
     "execution_count": 59,
     "metadata": {},
     "output_type": "execute_result"
    }
   ],
   "source": [
    "# посчитаем дисперсию по москве: \n",
    "Moscow_revenue['revenue_total'].var()"
   ]
  },
  {
   "cell_type": "code",
   "execution_count": 60,
   "metadata": {},
   "outputs": [
    {
     "data": {
      "text/plain": [
       "654137.6285218114"
      ]
     },
     "execution_count": 60,
     "metadata": {},
     "output_type": "execute_result"
    }
   ],
   "source": [
    "# посчитаем дисперсию по региону:\n",
    "region_revenue['revenue_total'].var()"
   ]
  },
  {
   "cell_type": "markdown",
   "metadata": {},
   "source": [
    "Дисперсия практически не отличается, equal_var не будем указывать при проверке гипотезы."
   ]
  },
  {
   "cell_type": "code",
   "execution_count": 61,
   "metadata": {},
   "outputs": [
    {
     "name": "stdout",
     "output_type": "stream",
     "text": [
      "p-значение:  0.5440152911670224\n",
      "Не получилось отвергнуть нулевую гипотезу\n"
     ]
    }
   ],
   "source": [
    "alpha = .01 # Критический уровень значимости возьмем 5 %, чтобы вероятность правильного вывода была в 95% \n",
    "\n",
    "results = st.ttest_ind(\n",
    "    Moscow_revenue['revenue_total'], \n",
    "    region_revenue['revenue_total'])\n",
    "\n",
    "print('p-значение: ', results.pvalue)\n",
    "\n",
    "if results.pvalue < alpha:\n",
    "    print(\"Отвергаем нулевую гипотезу\")\n",
    "else:\n",
    "    print(\"Не получилось отвергнуть нулевую гипотезу\") "
   ]
  },
  {
   "cell_type": "markdown",
   "metadata": {},
   "source": [
    "Получается, что средняя выручка пользователей из Москвы не  отличается от выручки пользователей из других регионов."
   ]
  },
  {
   "cell_type": "markdown",
   "metadata": {},
   "source": [
    "## Общий вывод:\n",
    "\n",
    " В рамках задачи ошибок в данных не было найдено, привели даты к нужному типу , также столбцы к целочисленному типу.\n",
    "Создали для анализа сводные таблицы. \n",
    "Была посчитана прибыль в разрезе по тарифам и по городу Москва и остальным регионам.\n",
    "Проверили две гипотезы:\n",
    "\n",
    "средняя прибыльность двух тарифов различается\n",
    "прибыль от тарифа Ультра выше прибыли по тарифу Смарт\n",
    " Какой лучше тариф выбрать, нет однозначного ответа,Для пользователей лучше тариф смарт, дешевле и согласно данным, большинство пользователей  не выходят за рамки тарифа.Либо они экономят и следят , чтобы уложиться в услуги данного тарифа.\n",
    " Тариф Ультра приносит больше прибыли компание, но как показывают данные, многие не успевают потратить все предоставленные услуги в течение месяца."
   ]
  }
 ],
 "metadata": {
  "ExecuteTimeLog": [
   {
    "duration": 1542,
    "start_time": "2022-01-08T18:37:40.154Z"
   },
   {
    "duration": 309,
    "start_time": "2022-01-08T18:38:35.622Z"
   },
   {
    "duration": 304,
    "start_time": "2022-01-08T18:38:44.238Z"
   },
   {
    "duration": 196,
    "start_time": "2022-01-08T18:41:26.698Z"
   },
   {
    "duration": 121,
    "start_time": "2022-01-08T18:41:55.645Z"
   },
   {
    "duration": 27,
    "start_time": "2022-01-08T18:42:31.476Z"
   },
   {
    "duration": 48,
    "start_time": "2022-01-08T18:42:55.027Z"
   },
   {
    "duration": 776,
    "start_time": "2022-01-08T18:43:22.280Z"
   },
   {
    "duration": 310,
    "start_time": "2022-01-08T18:43:26.299Z"
   },
   {
    "duration": 183,
    "start_time": "2022-01-08T18:43:32.275Z"
   },
   {
    "duration": 120,
    "start_time": "2022-01-08T18:44:09.080Z"
   },
   {
    "duration": 26,
    "start_time": "2022-01-08T18:44:13.556Z"
   },
   {
    "duration": 41,
    "start_time": "2022-01-08T18:44:17.150Z"
   },
   {
    "duration": 32,
    "start_time": "2022-01-08T18:47:30.369Z"
   },
   {
    "duration": 26,
    "start_time": "2022-01-08T18:48:09.664Z"
   },
   {
    "duration": 20,
    "start_time": "2022-01-08T18:48:28.575Z"
   },
   {
    "duration": 9,
    "start_time": "2022-01-08T18:48:53.697Z"
   },
   {
    "duration": 13,
    "start_time": "2022-01-08T18:50:09.935Z"
   },
   {
    "duration": 52,
    "start_time": "2022-01-08T18:51:34.538Z"
   },
   {
    "duration": 36,
    "start_time": "2022-01-08T18:57:24.695Z"
   },
   {
    "duration": 27,
    "start_time": "2022-01-08T18:58:39.322Z"
   },
   {
    "duration": 42,
    "start_time": "2022-01-08T18:59:09.759Z"
   },
   {
    "duration": 22,
    "start_time": "2022-01-08T18:59:32.596Z"
   },
   {
    "duration": 6,
    "start_time": "2022-01-08T19:00:16.817Z"
   },
   {
    "duration": 6,
    "start_time": "2022-01-08T19:00:37.444Z"
   },
   {
    "duration": 6,
    "start_time": "2022-01-08T19:00:57.081Z"
   },
   {
    "duration": 5,
    "start_time": "2022-01-08T19:01:18.129Z"
   },
   {
    "duration": 21,
    "start_time": "2022-01-08T19:07:00.631Z"
   },
   {
    "duration": 10,
    "start_time": "2022-01-08T19:07:08.162Z"
   },
   {
    "duration": 344,
    "start_time": "2022-01-08T19:07:13.383Z"
   },
   {
    "duration": 308,
    "start_time": "2022-01-08T19:07:46.545Z"
   },
   {
    "duration": 191,
    "start_time": "2022-01-08T19:07:55.937Z"
   },
   {
    "duration": 38,
    "start_time": "2022-01-08T19:07:57.854Z"
   },
   {
    "duration": 21,
    "start_time": "2022-01-08T19:07:58.601Z"
   },
   {
    "duration": 305,
    "start_time": "2022-01-08T19:08:02.498Z"
   },
   {
    "duration": 308,
    "start_time": "2022-01-08T19:08:08.701Z"
   },
   {
    "duration": 198,
    "start_time": "2022-01-08T19:08:29.671Z"
   },
   {
    "duration": 39,
    "start_time": "2022-01-08T19:08:30.534Z"
   },
   {
    "duration": 22,
    "start_time": "2022-01-08T19:09:03.925Z"
   },
   {
    "duration": 24,
    "start_time": "2022-01-08T19:09:11.494Z"
   },
   {
    "duration": 23,
    "start_time": "2022-01-08T19:09:14.923Z"
   },
   {
    "duration": 24,
    "start_time": "2022-01-08T19:10:36.598Z"
   },
   {
    "duration": 22,
    "start_time": "2022-01-08T19:10:40.849Z"
   },
   {
    "duration": 5,
    "start_time": "2022-01-08T19:10:49.356Z"
   },
   {
    "duration": 9,
    "start_time": "2022-01-08T19:13:48.650Z"
   },
   {
    "duration": 8,
    "start_time": "2022-01-08T19:14:25.120Z"
   },
   {
    "duration": 20,
    "start_time": "2022-01-08T19:14:39.482Z"
   },
   {
    "duration": 28,
    "start_time": "2022-01-08T19:15:02.731Z"
   },
   {
    "duration": 136,
    "start_time": "2022-01-08T19:15:51.090Z"
   },
   {
    "duration": 71,
    "start_time": "2022-01-08T19:16:07.786Z"
   },
   {
    "duration": 57,
    "start_time": "2022-01-08T19:16:22.507Z"
   },
   {
    "duration": 11,
    "start_time": "2022-01-08T19:16:37.984Z"
   },
   {
    "duration": 328,
    "start_time": "2022-01-08T19:36:27.082Z"
   },
   {
    "duration": 1451,
    "start_time": "2022-01-09T10:38:00.564Z"
   },
   {
    "duration": 236,
    "start_time": "2022-01-09T10:38:02.017Z"
   },
   {
    "duration": 29,
    "start_time": "2022-01-09T10:38:02.262Z"
   },
   {
    "duration": 38,
    "start_time": "2022-01-09T10:38:02.295Z"
   },
   {
    "duration": 214,
    "start_time": "2022-01-09T10:38:02.336Z"
   },
   {
    "duration": 449,
    "start_time": "2022-01-09T10:38:02.553Z"
   },
   {
    "duration": -653,
    "start_time": "2022-01-09T10:38:03.658Z"
   },
   {
    "duration": -664,
    "start_time": "2022-01-09T10:38:03.671Z"
   },
   {
    "duration": -673,
    "start_time": "2022-01-09T10:38:03.681Z"
   },
   {
    "duration": -700,
    "start_time": "2022-01-09T10:38:03.709Z"
   },
   {
    "duration": -721,
    "start_time": "2022-01-09T10:38:03.731Z"
   },
   {
    "duration": -769,
    "start_time": "2022-01-09T10:38:03.781Z"
   },
   {
    "duration": -848,
    "start_time": "2022-01-09T10:38:03.861Z"
   },
   {
    "duration": -893,
    "start_time": "2022-01-09T10:38:03.908Z"
   },
   {
    "duration": -904,
    "start_time": "2022-01-09T10:38:03.920Z"
   },
   {
    "duration": -910,
    "start_time": "2022-01-09T10:38:03.927Z"
   },
   {
    "duration": -914,
    "start_time": "2022-01-09T10:38:03.933Z"
   },
   {
    "duration": -923,
    "start_time": "2022-01-09T10:38:03.943Z"
   },
   {
    "duration": 55,
    "start_time": "2022-01-09T10:38:17.003Z"
   },
   {
    "duration": 23,
    "start_time": "2022-01-09T10:38:18.538Z"
   },
   {
    "duration": 23,
    "start_time": "2022-01-09T10:38:18.790Z"
   },
   {
    "duration": 6,
    "start_time": "2022-01-09T10:38:19.009Z"
   },
   {
    "duration": 136,
    "start_time": "2022-01-09T10:38:19.211Z"
   },
   {
    "duration": 20,
    "start_time": "2022-01-09T10:38:19.446Z"
   },
   {
    "duration": 19,
    "start_time": "2022-01-09T10:38:20.000Z"
   },
   {
    "duration": 27,
    "start_time": "2022-01-09T10:38:22.341Z"
   },
   {
    "duration": 48,
    "start_time": "2022-01-09T10:38:22.766Z"
   },
   {
    "duration": 9,
    "start_time": "2022-01-09T10:38:22.964Z"
   },
   {
    "duration": 29,
    "start_time": "2022-01-09T10:38:23.160Z"
   },
   {
    "duration": 8,
    "start_time": "2022-01-09T10:38:23.368Z"
   },
   {
    "duration": 1004,
    "start_time": "2022-01-09T19:02:59.471Z"
   },
   {
    "duration": 165,
    "start_time": "2022-01-09T19:03:00.477Z"
   },
   {
    "duration": 20,
    "start_time": "2022-01-09T19:03:00.645Z"
   },
   {
    "duration": 39,
    "start_time": "2022-01-09T19:03:00.667Z"
   },
   {
    "duration": 130,
    "start_time": "2022-01-09T19:03:00.707Z"
   },
   {
    "duration": 255,
    "start_time": "2022-01-09T19:03:00.838Z"
   },
   {
    "duration": -789,
    "start_time": "2022-01-09T19:03:01.885Z"
   },
   {
    "duration": -799,
    "start_time": "2022-01-09T19:03:01.897Z"
   },
   {
    "duration": -802,
    "start_time": "2022-01-09T19:03:01.901Z"
   },
   {
    "duration": -805,
    "start_time": "2022-01-09T19:03:01.905Z"
   },
   {
    "duration": -806,
    "start_time": "2022-01-09T19:03:01.908Z"
   },
   {
    "duration": -815,
    "start_time": "2022-01-09T19:03:01.918Z"
   },
   {
    "duration": -817,
    "start_time": "2022-01-09T19:03:01.922Z"
   },
   {
    "duration": -820,
    "start_time": "2022-01-09T19:03:01.926Z"
   },
   {
    "duration": -822,
    "start_time": "2022-01-09T19:03:01.929Z"
   },
   {
    "duration": -827,
    "start_time": "2022-01-09T19:03:01.936Z"
   },
   {
    "duration": -830,
    "start_time": "2022-01-09T19:03:01.940Z"
   },
   {
    "duration": -833,
    "start_time": "2022-01-09T19:03:01.944Z"
   },
   {
    "duration": 167,
    "start_time": "2022-01-09T19:07:49.353Z"
   },
   {
    "duration": 1079,
    "start_time": "2022-01-09T19:09:02.296Z"
   },
   {
    "duration": 167,
    "start_time": "2022-01-09T19:09:03.377Z"
   },
   {
    "duration": 23,
    "start_time": "2022-01-09T19:09:03.550Z"
   },
   {
    "duration": 41,
    "start_time": "2022-01-09T19:09:03.575Z"
   },
   {
    "duration": 143,
    "start_time": "2022-01-09T19:09:03.618Z"
   },
   {
    "duration": 211,
    "start_time": "2022-01-09T19:09:14.236Z"
   },
   {
    "duration": 1107,
    "start_time": "2022-01-09T19:09:20.570Z"
   },
   {
    "duration": 166,
    "start_time": "2022-01-09T19:09:21.681Z"
   },
   {
    "duration": 21,
    "start_time": "2022-01-09T19:09:21.849Z"
   },
   {
    "duration": 43,
    "start_time": "2022-01-09T19:09:21.872Z"
   },
   {
    "duration": 139,
    "start_time": "2022-01-09T19:09:21.917Z"
   },
   {
    "duration": 210,
    "start_time": "2022-01-09T19:09:29.666Z"
   },
   {
    "duration": 166,
    "start_time": "2022-01-09T19:09:37.897Z"
   },
   {
    "duration": 1005,
    "start_time": "2022-01-09T19:09:41.008Z"
   },
   {
    "duration": 168,
    "start_time": "2022-01-09T19:09:42.471Z"
   },
   {
    "duration": 20,
    "start_time": "2022-01-09T19:09:43.310Z"
   },
   {
    "duration": 27,
    "start_time": "2022-01-09T19:09:43.562Z"
   },
   {
    "duration": 132,
    "start_time": "2022-01-09T19:09:43.769Z"
   },
   {
    "duration": 222,
    "start_time": "2022-01-09T19:10:05.281Z"
   },
   {
    "duration": 1012,
    "start_time": "2022-01-09T19:10:33.769Z"
   },
   {
    "duration": 169,
    "start_time": "2022-01-09T19:10:34.782Z"
   },
   {
    "duration": 20,
    "start_time": "2022-01-09T19:10:34.953Z"
   },
   {
    "duration": 41,
    "start_time": "2022-01-09T19:10:34.976Z"
   },
   {
    "duration": 149,
    "start_time": "2022-01-09T19:10:35.019Z"
   },
   {
    "duration": 1063,
    "start_time": "2022-01-09T19:10:58.014Z"
   },
   {
    "duration": 164,
    "start_time": "2022-01-09T19:10:59.079Z"
   },
   {
    "duration": 19,
    "start_time": "2022-01-09T19:10:59.245Z"
   },
   {
    "duration": 38,
    "start_time": "2022-01-09T19:10:59.266Z"
   },
   {
    "duration": 154,
    "start_time": "2022-01-09T19:10:59.306Z"
   },
   {
    "duration": 3,
    "start_time": "2022-01-09T19:10:59.462Z"
   },
   {
    "duration": 44,
    "start_time": "2022-01-09T19:10:59.467Z"
   },
   {
    "duration": 15,
    "start_time": "2022-01-09T19:10:59.513Z"
   },
   {
    "duration": 17,
    "start_time": "2022-01-09T19:10:59.531Z"
   },
   {
    "duration": 7,
    "start_time": "2022-01-09T19:10:59.549Z"
   },
   {
    "duration": 118,
    "start_time": "2022-01-09T19:10:59.558Z"
   },
   {
    "duration": 25,
    "start_time": "2022-01-09T19:10:59.678Z"
   },
   {
    "duration": 165,
    "start_time": "2022-01-09T19:10:59.705Z"
   },
   {
    "duration": 22,
    "start_time": "2022-01-09T19:10:59.872Z"
   },
   {
    "duration": 71,
    "start_time": "2022-01-09T19:10:59.895Z"
   },
   {
    "duration": 7,
    "start_time": "2022-01-09T19:10:59.968Z"
   },
   {
    "duration": 15,
    "start_time": "2022-01-09T19:10:59.977Z"
   },
   {
    "duration": 5,
    "start_time": "2022-01-09T19:10:59.995Z"
   },
   {
    "duration": 1024,
    "start_time": "2022-01-09T19:11:06.857Z"
   },
   {
    "duration": 174,
    "start_time": "2022-01-09T19:11:07.885Z"
   },
   {
    "duration": 35,
    "start_time": "2022-01-09T19:11:08.061Z"
   },
   {
    "duration": 33,
    "start_time": "2022-01-09T19:11:08.098Z"
   },
   {
    "duration": 1919,
    "start_time": "2022-01-09T19:11:08.133Z"
   },
   {
    "duration": 2,
    "start_time": "2022-01-09T19:11:10.054Z"
   },
   {
    "duration": 47,
    "start_time": "2022-01-09T19:11:10.059Z"
   },
   {
    "duration": 16,
    "start_time": "2022-01-09T19:11:10.109Z"
   },
   {
    "duration": 20,
    "start_time": "2022-01-09T19:11:10.127Z"
   },
   {
    "duration": 5,
    "start_time": "2022-01-09T19:11:10.149Z"
   },
   {
    "duration": 1832,
    "start_time": "2022-01-09T19:11:10.156Z"
   },
   {
    "duration": 15,
    "start_time": "2022-01-09T19:11:11.990Z"
   },
   {
    "duration": 16,
    "start_time": "2022-01-09T19:11:12.007Z"
   },
   {
    "duration": 21,
    "start_time": "2022-01-09T19:11:12.025Z"
   },
   {
    "duration": 98,
    "start_time": "2022-01-09T19:11:12.048Z"
   },
   {
    "duration": 6,
    "start_time": "2022-01-09T19:11:12.148Z"
   },
   {
    "duration": 15,
    "start_time": "2022-01-09T19:11:12.155Z"
   },
   {
    "duration": 6,
    "start_time": "2022-01-09T19:11:12.172Z"
   },
   {
    "duration": 252,
    "start_time": "2022-01-09T19:18:40.922Z"
   },
   {
    "duration": 1194,
    "start_time": "2022-01-09T19:19:05.481Z"
   },
   {
    "duration": 183,
    "start_time": "2022-01-09T19:19:06.677Z"
   },
   {
    "duration": 21,
    "start_time": "2022-01-09T19:19:06.862Z"
   },
   {
    "duration": 29,
    "start_time": "2022-01-09T19:19:06.892Z"
   },
   {
    "duration": 149,
    "start_time": "2022-01-09T19:19:06.923Z"
   },
   {
    "duration": 3,
    "start_time": "2022-01-09T19:19:07.074Z"
   },
   {
    "duration": 41,
    "start_time": "2022-01-09T19:19:07.078Z"
   },
   {
    "duration": 16,
    "start_time": "2022-01-09T19:19:07.122Z"
   },
   {
    "duration": 19,
    "start_time": "2022-01-09T19:19:07.140Z"
   },
   {
    "duration": 4,
    "start_time": "2022-01-09T19:19:07.161Z"
   },
   {
    "duration": 121,
    "start_time": "2022-01-09T19:19:07.167Z"
   },
   {
    "duration": 15,
    "start_time": "2022-01-09T19:19:07.289Z"
   },
   {
    "duration": 13,
    "start_time": "2022-01-09T19:19:07.306Z"
   },
   {
    "duration": 19,
    "start_time": "2022-01-09T19:19:07.321Z"
   },
   {
    "duration": 75,
    "start_time": "2022-01-09T19:19:07.341Z"
   },
   {
    "duration": 6,
    "start_time": "2022-01-09T19:19:07.418Z"
   },
   {
    "duration": 16,
    "start_time": "2022-01-09T19:19:07.425Z"
   },
   {
    "duration": 7,
    "start_time": "2022-01-09T19:19:07.442Z"
   },
   {
    "duration": 262,
    "start_time": "2022-01-09T19:19:07.451Z"
   },
   {
    "duration": 175,
    "start_time": "2022-01-09T19:19:11.914Z"
   },
   {
    "duration": 179,
    "start_time": "2022-01-09T19:20:04.305Z"
   },
   {
    "duration": 225,
    "start_time": "2022-01-09T19:21:14.428Z"
   },
   {
    "duration": 51,
    "start_time": "2022-01-09T19:22:25.415Z"
   },
   {
    "duration": 8,
    "start_time": "2022-01-09T19:22:26.737Z"
   },
   {
    "duration": 15,
    "start_time": "2022-01-09T19:22:27.875Z"
   },
   {
    "duration": 6,
    "start_time": "2022-01-09T19:22:28.585Z"
   },
   {
    "duration": 262,
    "start_time": "2022-01-09T19:22:29.698Z"
   },
   {
    "duration": 156,
    "start_time": "2022-01-09T19:22:36.599Z"
   },
   {
    "duration": 22,
    "start_time": "2022-01-09T19:22:37.183Z"
   },
   {
    "duration": 30,
    "start_time": "2022-01-09T19:22:37.438Z"
   },
   {
    "duration": 139,
    "start_time": "2022-01-09T19:22:37.630Z"
   },
   {
    "duration": 31,
    "start_time": "2022-01-09T19:22:37.837Z"
   },
   {
    "duration": 16,
    "start_time": "2022-01-09T19:22:38.268Z"
   },
   {
    "duration": 17,
    "start_time": "2022-01-09T19:22:38.495Z"
   },
   {
    "duration": 4,
    "start_time": "2022-01-09T19:22:38.708Z"
   },
   {
    "duration": 94,
    "start_time": "2022-01-09T19:22:39.192Z"
   },
   {
    "duration": 15,
    "start_time": "2022-01-09T19:22:39.428Z"
   },
   {
    "duration": 15,
    "start_time": "2022-01-09T19:22:39.654Z"
   },
   {
    "duration": 21,
    "start_time": "2022-01-09T19:22:39.880Z"
   },
   {
    "duration": 53,
    "start_time": "2022-01-09T19:22:40.133Z"
   },
   {
    "duration": 6,
    "start_time": "2022-01-09T19:22:40.356Z"
   },
   {
    "duration": 16,
    "start_time": "2022-01-09T19:22:40.594Z"
   },
   {
    "duration": 7,
    "start_time": "2022-01-09T19:22:40.841Z"
   },
   {
    "duration": 6,
    "start_time": "2022-01-09T19:22:41.404Z"
   },
   {
    "duration": 220,
    "start_time": "2022-01-09T19:23:30.464Z"
   },
   {
    "duration": 1028,
    "start_time": "2022-01-09T19:23:37.395Z"
   },
   {
    "duration": 163,
    "start_time": "2022-01-09T19:23:38.425Z"
   },
   {
    "duration": 20,
    "start_time": "2022-01-09T19:23:38.591Z"
   },
   {
    "duration": 26,
    "start_time": "2022-01-09T19:23:38.613Z"
   },
   {
    "duration": 146,
    "start_time": "2022-01-09T19:23:38.641Z"
   },
   {
    "duration": 30,
    "start_time": "2022-01-09T19:23:38.792Z"
   },
   {
    "duration": 16,
    "start_time": "2022-01-09T19:23:38.856Z"
   },
   {
    "duration": 18,
    "start_time": "2022-01-09T19:23:39.078Z"
   },
   {
    "duration": 4,
    "start_time": "2022-01-09T19:23:39.254Z"
   },
   {
    "duration": 91,
    "start_time": "2022-01-09T19:23:39.468Z"
   },
   {
    "duration": 16,
    "start_time": "2022-01-09T19:23:39.665Z"
   },
   {
    "duration": 15,
    "start_time": "2022-01-09T19:23:39.873Z"
   },
   {
    "duration": 22,
    "start_time": "2022-01-09T19:23:40.075Z"
   },
   {
    "duration": 52,
    "start_time": "2022-01-09T19:23:40.290Z"
   },
   {
    "duration": 7,
    "start_time": "2022-01-09T19:23:40.484Z"
   },
   {
    "duration": 15,
    "start_time": "2022-01-09T19:23:40.685Z"
   },
   {
    "duration": 6,
    "start_time": "2022-01-09T19:23:40.909Z"
   },
   {
    "duration": 7,
    "start_time": "2022-01-09T19:23:41.354Z"
   },
   {
    "duration": 1026,
    "start_time": "2022-01-09T19:24:03.353Z"
   },
   {
    "duration": 171,
    "start_time": "2022-01-09T19:24:04.381Z"
   },
   {
    "duration": 21,
    "start_time": "2022-01-09T19:24:04.554Z"
   },
   {
    "duration": 36,
    "start_time": "2022-01-09T19:24:04.577Z"
   },
   {
    "duration": 142,
    "start_time": "2022-01-09T19:24:04.614Z"
   },
   {
    "duration": 38,
    "start_time": "2022-01-09T19:24:04.758Z"
   },
   {
    "duration": 13,
    "start_time": "2022-01-09T19:24:04.798Z"
   },
   {
    "duration": 18,
    "start_time": "2022-01-09T19:24:04.813Z"
   },
   {
    "duration": 5,
    "start_time": "2022-01-09T19:24:04.834Z"
   },
   {
    "duration": 112,
    "start_time": "2022-01-09T19:24:04.841Z"
   },
   {
    "duration": 15,
    "start_time": "2022-01-09T19:24:04.955Z"
   },
   {
    "duration": 29,
    "start_time": "2022-01-09T19:24:04.972Z"
   },
   {
    "duration": 20,
    "start_time": "2022-01-09T19:24:05.003Z"
   },
   {
    "duration": 44,
    "start_time": "2022-01-09T19:24:05.025Z"
   },
   {
    "duration": 7,
    "start_time": "2022-01-09T19:24:05.072Z"
   },
   {
    "duration": 18,
    "start_time": "2022-01-09T19:24:05.081Z"
   },
   {
    "duration": 7,
    "start_time": "2022-01-09T19:24:05.101Z"
   },
   {
    "duration": 6,
    "start_time": "2022-01-09T19:24:05.110Z"
   },
   {
    "duration": 47,
    "start_time": "2022-01-09T19:24:05.118Z"
   },
   {
    "duration": 1012,
    "start_time": "2022-01-09T19:25:27.568Z"
   },
   {
    "duration": 165,
    "start_time": "2022-01-09T19:25:28.582Z"
   },
   {
    "duration": 20,
    "start_time": "2022-01-09T19:25:28.750Z"
   },
   {
    "duration": 42,
    "start_time": "2022-01-09T19:25:28.771Z"
   },
   {
    "duration": 128,
    "start_time": "2022-01-09T19:25:28.815Z"
   },
   {
    "duration": 29,
    "start_time": "2022-01-09T19:25:28.945Z"
   },
   {
    "duration": 23,
    "start_time": "2022-01-09T19:25:28.976Z"
   },
   {
    "duration": 19,
    "start_time": "2022-01-09T19:25:29.000Z"
   },
   {
    "duration": 4,
    "start_time": "2022-01-09T19:25:29.021Z"
   },
   {
    "duration": 104,
    "start_time": "2022-01-09T19:25:29.027Z"
   },
   {
    "duration": 14,
    "start_time": "2022-01-09T19:25:29.132Z"
   },
   {
    "duration": 15,
    "start_time": "2022-01-09T19:25:29.147Z"
   },
   {
    "duration": 28,
    "start_time": "2022-01-09T19:25:29.164Z"
   },
   {
    "duration": 42,
    "start_time": "2022-01-09T19:25:29.194Z"
   },
   {
    "duration": 6,
    "start_time": "2022-01-09T19:25:29.238Z"
   },
   {
    "duration": 14,
    "start_time": "2022-01-09T19:25:29.246Z"
   },
   {
    "duration": 5,
    "start_time": "2022-01-09T19:25:29.262Z"
   },
   {
    "duration": 6,
    "start_time": "2022-01-09T19:25:29.269Z"
   },
   {
    "duration": 216,
    "start_time": "2022-01-09T19:25:36.617Z"
   },
   {
    "duration": 1079,
    "start_time": "2022-01-09T19:25:41.403Z"
   },
   {
    "duration": 163,
    "start_time": "2022-01-09T19:25:42.484Z"
   },
   {
    "duration": 19,
    "start_time": "2022-01-09T19:25:42.649Z"
   },
   {
    "duration": 36,
    "start_time": "2022-01-09T19:25:42.670Z"
   },
   {
    "duration": 136,
    "start_time": "2022-01-09T19:25:42.708Z"
   },
   {
    "duration": 29,
    "start_time": "2022-01-09T19:25:42.846Z"
   },
   {
    "duration": 26,
    "start_time": "2022-01-09T19:25:42.878Z"
   },
   {
    "duration": 17,
    "start_time": "2022-01-09T19:25:42.907Z"
   },
   {
    "duration": 5,
    "start_time": "2022-01-09T19:25:42.926Z"
   },
   {
    "duration": 109,
    "start_time": "2022-01-09T19:25:42.933Z"
   },
   {
    "duration": 15,
    "start_time": "2022-01-09T19:25:43.044Z"
   },
   {
    "duration": 31,
    "start_time": "2022-01-09T19:25:43.061Z"
   },
   {
    "duration": 21,
    "start_time": "2022-01-09T19:25:43.095Z"
   },
   {
    "duration": 46,
    "start_time": "2022-01-09T19:25:43.118Z"
   },
   {
    "duration": 7,
    "start_time": "2022-01-09T19:25:43.166Z"
   },
   {
    "duration": 15,
    "start_time": "2022-01-09T19:25:43.175Z"
   },
   {
    "duration": 6,
    "start_time": "2022-01-09T19:25:43.192Z"
   },
   {
    "duration": 5,
    "start_time": "2022-01-09T19:25:43.200Z"
   },
   {
    "duration": 1013,
    "start_time": "2022-01-09T19:25:57.769Z"
   },
   {
    "duration": 170,
    "start_time": "2022-01-09T19:25:58.784Z"
   },
   {
    "duration": 21,
    "start_time": "2022-01-09T19:25:58.956Z"
   },
   {
    "duration": 35,
    "start_time": "2022-01-09T19:25:58.979Z"
   },
   {
    "duration": 133,
    "start_time": "2022-01-09T19:25:59.016Z"
   },
   {
    "duration": 28,
    "start_time": "2022-01-09T19:25:59.150Z"
   },
   {
    "duration": 21,
    "start_time": "2022-01-09T19:25:59.180Z"
   },
   {
    "duration": 18,
    "start_time": "2022-01-09T19:25:59.203Z"
   },
   {
    "duration": 4,
    "start_time": "2022-01-09T19:25:59.222Z"
   },
   {
    "duration": 110,
    "start_time": "2022-01-09T19:25:59.228Z"
   },
   {
    "duration": 13,
    "start_time": "2022-01-09T19:25:59.340Z"
   },
   {
    "duration": 13,
    "start_time": "2022-01-09T19:25:59.355Z"
   },
   {
    "duration": 25,
    "start_time": "2022-01-09T19:25:59.369Z"
   },
   {
    "duration": 33,
    "start_time": "2022-01-09T19:25:59.396Z"
   },
   {
    "duration": 5,
    "start_time": "2022-01-09T19:25:59.431Z"
   },
   {
    "duration": 15,
    "start_time": "2022-01-09T19:25:59.438Z"
   },
   {
    "duration": 5,
    "start_time": "2022-01-09T19:25:59.454Z"
   },
   {
    "duration": 6,
    "start_time": "2022-01-09T19:25:59.461Z"
   },
   {
    "duration": 270,
    "start_time": "2022-01-09T19:26:05.740Z"
   },
   {
    "duration": 173,
    "start_time": "2022-01-09T19:26:13.868Z"
   },
   {
    "duration": 1038,
    "start_time": "2022-01-09T19:26:17.831Z"
   },
   {
    "duration": 165,
    "start_time": "2022-01-09T19:26:18.871Z"
   },
   {
    "duration": 21,
    "start_time": "2022-01-09T19:26:19.038Z"
   },
   {
    "duration": 48,
    "start_time": "2022-01-09T19:26:19.062Z"
   },
   {
    "duration": 132,
    "start_time": "2022-01-09T19:26:19.112Z"
   },
   {
    "duration": 30,
    "start_time": "2022-01-09T19:26:19.246Z"
   },
   {
    "duration": 17,
    "start_time": "2022-01-09T19:26:19.292Z"
   },
   {
    "duration": 16,
    "start_time": "2022-01-09T19:26:19.311Z"
   },
   {
    "duration": 3,
    "start_time": "2022-01-09T19:26:19.329Z"
   },
   {
    "duration": 111,
    "start_time": "2022-01-09T19:26:19.334Z"
   },
   {
    "duration": 13,
    "start_time": "2022-01-09T19:26:19.447Z"
   },
   {
    "duration": 30,
    "start_time": "2022-01-09T19:26:19.462Z"
   },
   {
    "duration": 20,
    "start_time": "2022-01-09T19:26:19.494Z"
   },
   {
    "duration": 45,
    "start_time": "2022-01-09T19:26:19.515Z"
   },
   {
    "duration": 5,
    "start_time": "2022-01-09T19:26:19.562Z"
   },
   {
    "duration": 16,
    "start_time": "2022-01-09T19:26:19.569Z"
   },
   {
    "duration": 7,
    "start_time": "2022-01-09T19:26:19.587Z"
   },
   {
    "duration": 6,
    "start_time": "2022-01-09T19:26:19.596Z"
   },
   {
    "duration": 253,
    "start_time": "2022-01-09T19:26:31.944Z"
   },
   {
    "duration": 1099,
    "start_time": "2022-01-09T19:26:35.878Z"
   },
   {
    "duration": 167,
    "start_time": "2022-01-09T19:26:36.979Z"
   },
   {
    "duration": 21,
    "start_time": "2022-01-09T19:26:37.148Z"
   },
   {
    "duration": 38,
    "start_time": "2022-01-09T19:26:37.171Z"
   },
   {
    "duration": 138,
    "start_time": "2022-01-09T19:26:37.210Z"
   },
   {
    "duration": 31,
    "start_time": "2022-01-09T19:26:37.350Z"
   },
   {
    "duration": 16,
    "start_time": "2022-01-09T19:26:37.391Z"
   },
   {
    "duration": 19,
    "start_time": "2022-01-09T19:26:37.409Z"
   },
   {
    "duration": 4,
    "start_time": "2022-01-09T19:26:37.430Z"
   },
   {
    "duration": 110,
    "start_time": "2022-01-09T19:26:37.436Z"
   },
   {
    "duration": 14,
    "start_time": "2022-01-09T19:26:37.547Z"
   },
   {
    "duration": 13,
    "start_time": "2022-01-09T19:26:37.563Z"
   },
   {
    "duration": 22,
    "start_time": "2022-01-09T19:26:37.577Z"
   },
   {
    "duration": 43,
    "start_time": "2022-01-09T19:26:37.601Z"
   },
   {
    "duration": 6,
    "start_time": "2022-01-09T19:26:37.645Z"
   },
   {
    "duration": 18,
    "start_time": "2022-01-09T19:26:37.652Z"
   },
   {
    "duration": 4,
    "start_time": "2022-01-09T19:26:37.672Z"
   },
   {
    "duration": 6,
    "start_time": "2022-01-09T19:26:37.678Z"
   },
   {
    "duration": 1012,
    "start_time": "2022-01-09T19:26:43.168Z"
   },
   {
    "duration": 161,
    "start_time": "2022-01-09T19:26:44.183Z"
   },
   {
    "duration": 21,
    "start_time": "2022-01-09T19:26:44.347Z"
   },
   {
    "duration": 40,
    "start_time": "2022-01-09T19:26:44.370Z"
   },
   {
    "duration": 136,
    "start_time": "2022-01-09T19:26:44.412Z"
   },
   {
    "duration": 28,
    "start_time": "2022-01-09T19:26:44.551Z"
   },
   {
    "duration": 21,
    "start_time": "2022-01-09T19:26:44.581Z"
   },
   {
    "duration": 15,
    "start_time": "2022-01-09T19:26:44.605Z"
   },
   {
    "duration": 4,
    "start_time": "2022-01-09T19:26:44.622Z"
   },
   {
    "duration": 113,
    "start_time": "2022-01-09T19:26:44.627Z"
   },
   {
    "duration": 14,
    "start_time": "2022-01-09T19:26:44.742Z"
   },
   {
    "duration": 13,
    "start_time": "2022-01-09T19:26:44.758Z"
   },
   {
    "duration": 26,
    "start_time": "2022-01-09T19:26:44.773Z"
   },
   {
    "duration": 42,
    "start_time": "2022-01-09T19:26:44.801Z"
   },
   {
    "duration": 6,
    "start_time": "2022-01-09T19:26:44.844Z"
   },
   {
    "duration": 15,
    "start_time": "2022-01-09T19:26:44.851Z"
   },
   {
    "duration": 4,
    "start_time": "2022-01-09T19:26:44.868Z"
   },
   {
    "duration": 7,
    "start_time": "2022-01-09T19:26:44.873Z"
   },
   {
    "duration": 217,
    "start_time": "2022-01-09T19:26:52.042Z"
   },
   {
    "duration": 182,
    "start_time": "2022-01-09T19:27:03.851Z"
   },
   {
    "duration": 986,
    "start_time": "2022-01-09T19:27:07.308Z"
   },
   {
    "duration": 180,
    "start_time": "2022-01-09T19:27:08.297Z"
   },
   {
    "duration": 26,
    "start_time": "2022-01-09T19:27:08.479Z"
   },
   {
    "duration": 29,
    "start_time": "2022-01-09T19:27:08.507Z"
   },
   {
    "duration": 155,
    "start_time": "2022-01-09T19:27:08.537Z"
   },
   {
    "duration": 32,
    "start_time": "2022-01-09T19:27:08.694Z"
   },
   {
    "duration": 16,
    "start_time": "2022-01-09T19:27:08.728Z"
   },
   {
    "duration": 46,
    "start_time": "2022-01-09T19:27:08.747Z"
   },
   {
    "duration": 4,
    "start_time": "2022-01-09T19:27:08.795Z"
   },
   {
    "duration": 127,
    "start_time": "2022-01-09T19:27:08.801Z"
   },
   {
    "duration": 16,
    "start_time": "2022-01-09T19:27:08.930Z"
   },
   {
    "duration": 27,
    "start_time": "2022-01-09T19:27:08.948Z"
   },
   {
    "duration": 25,
    "start_time": "2022-01-09T19:27:08.977Z"
   },
   {
    "duration": 59,
    "start_time": "2022-01-09T19:27:09.004Z"
   },
   {
    "duration": 18,
    "start_time": "2022-01-09T19:27:09.065Z"
   },
   {
    "duration": 24,
    "start_time": "2022-01-09T19:27:09.085Z"
   },
   {
    "duration": 19,
    "start_time": "2022-01-09T19:27:09.110Z"
   },
   {
    "duration": 17,
    "start_time": "2022-01-09T19:27:09.130Z"
   },
   {
    "duration": 1100,
    "start_time": "2022-01-09T19:27:18.763Z"
   },
   {
    "duration": 166,
    "start_time": "2022-01-09T19:27:19.865Z"
   },
   {
    "duration": 21,
    "start_time": "2022-01-09T19:27:20.032Z"
   },
   {
    "duration": 42,
    "start_time": "2022-01-09T19:27:20.055Z"
   },
   {
    "duration": 147,
    "start_time": "2022-01-09T19:27:20.099Z"
   },
   {
    "duration": 30,
    "start_time": "2022-01-09T19:27:20.247Z"
   },
   {
    "duration": 22,
    "start_time": "2022-01-09T19:27:20.278Z"
   },
   {
    "duration": 18,
    "start_time": "2022-01-09T19:27:20.302Z"
   },
   {
    "duration": 4,
    "start_time": "2022-01-09T19:27:20.322Z"
   },
   {
    "duration": 116,
    "start_time": "2022-01-09T19:27:20.328Z"
   },
   {
    "duration": 16,
    "start_time": "2022-01-09T19:27:20.446Z"
   },
   {
    "duration": 34,
    "start_time": "2022-01-09T19:27:20.464Z"
   },
   {
    "duration": 21,
    "start_time": "2022-01-09T19:27:20.500Z"
   },
   {
    "duration": 49,
    "start_time": "2022-01-09T19:27:20.523Z"
   },
   {
    "duration": 7,
    "start_time": "2022-01-09T19:27:20.574Z"
   },
   {
    "duration": 19,
    "start_time": "2022-01-09T19:27:20.583Z"
   },
   {
    "duration": 8,
    "start_time": "2022-01-09T19:27:20.604Z"
   },
   {
    "duration": 9,
    "start_time": "2022-01-09T19:27:20.614Z"
   },
   {
    "duration": 211,
    "start_time": "2022-01-09T19:27:32.177Z"
   },
   {
    "duration": 1148,
    "start_time": "2022-01-09T19:27:48.213Z"
   },
   {
    "duration": 160,
    "start_time": "2022-01-09T19:27:49.363Z"
   },
   {
    "duration": 20,
    "start_time": "2022-01-09T19:27:49.525Z"
   },
   {
    "duration": 25,
    "start_time": "2022-01-09T19:27:49.548Z"
   },
   {
    "duration": 134,
    "start_time": "2022-01-09T19:27:49.592Z"
   },
   {
    "duration": 28,
    "start_time": "2022-01-09T19:27:49.728Z"
   },
   {
    "duration": 14,
    "start_time": "2022-01-09T19:27:49.758Z"
   },
   {
    "duration": 16,
    "start_time": "2022-01-09T19:27:49.803Z"
   },
   {
    "duration": 4,
    "start_time": "2022-01-09T19:27:50.022Z"
   },
   {
    "duration": 96,
    "start_time": "2022-01-09T19:27:50.539Z"
   },
   {
    "duration": 15,
    "start_time": "2022-01-09T19:27:50.903Z"
   },
   {
    "duration": 14,
    "start_time": "2022-01-09T19:27:51.167Z"
   },
   {
    "duration": 21,
    "start_time": "2022-01-09T19:27:51.415Z"
   },
   {
    "duration": 45,
    "start_time": "2022-01-09T19:27:51.981Z"
   },
   {
    "duration": 7,
    "start_time": "2022-01-09T19:27:52.462Z"
   },
   {
    "duration": 15,
    "start_time": "2022-01-09T19:27:53.219Z"
   },
   {
    "duration": 6,
    "start_time": "2022-01-09T19:27:53.738Z"
   },
   {
    "duration": 5,
    "start_time": "2022-01-09T19:27:54.118Z"
   },
   {
    "duration": 8,
    "start_time": "2022-01-10T11:11:34.731Z"
   },
   {
    "duration": 1057,
    "start_time": "2022-01-10T11:11:38.634Z"
   },
   {
    "duration": 155,
    "start_time": "2022-01-10T11:11:39.693Z"
   },
   {
    "duration": 18,
    "start_time": "2022-01-10T11:11:39.850Z"
   },
   {
    "duration": 23,
    "start_time": "2022-01-10T11:11:39.871Z"
   },
   {
    "duration": 142,
    "start_time": "2022-01-10T11:11:39.896Z"
   },
   {
    "duration": 25,
    "start_time": "2022-01-10T11:11:40.039Z"
   },
   {
    "duration": 13,
    "start_time": "2022-01-10T11:11:40.065Z"
   },
   {
    "duration": 15,
    "start_time": "2022-01-10T11:11:40.081Z"
   },
   {
    "duration": 31,
    "start_time": "2022-01-10T11:11:40.098Z"
   },
   {
    "duration": 94,
    "start_time": "2022-01-10T11:11:40.131Z"
   },
   {
    "duration": 13,
    "start_time": "2022-01-10T11:11:40.226Z"
   },
   {
    "duration": 12,
    "start_time": "2022-01-10T11:11:40.241Z"
   },
   {
    "duration": 20,
    "start_time": "2022-01-10T11:11:40.254Z"
   },
   {
    "duration": 42,
    "start_time": "2022-01-10T11:11:40.276Z"
   },
   {
    "duration": 5,
    "start_time": "2022-01-10T11:11:40.320Z"
   },
   {
    "duration": 24,
    "start_time": "2022-01-10T11:11:40.327Z"
   },
   {
    "duration": 9,
    "start_time": "2022-01-10T11:11:40.352Z"
   },
   {
    "duration": 6,
    "start_time": "2022-01-10T11:11:40.363Z"
   },
   {
    "duration": 4,
    "start_time": "2022-01-10T11:11:40.371Z"
   },
   {
    "duration": 26,
    "start_time": "2022-01-10T11:12:52.725Z"
   },
   {
    "duration": 199,
    "start_time": "2022-01-10T11:13:08.445Z"
   },
   {
    "duration": 18,
    "start_time": "2022-01-10T11:13:10.114Z"
   },
   {
    "duration": 15,
    "start_time": "2022-01-10T11:13:13.635Z"
   },
   {
    "duration": 127,
    "start_time": "2022-01-10T11:13:22.774Z"
   },
   {
    "duration": 13,
    "start_time": "2022-01-10T11:13:23.589Z"
   },
   {
    "duration": 22,
    "start_time": "2022-01-10T11:13:31.496Z"
   },
   {
    "duration": 49,
    "start_time": "2022-01-10T11:13:32.530Z"
   },
   {
    "duration": 7,
    "start_time": "2022-01-10T11:13:37.894Z"
   },
   {
    "duration": 4,
    "start_time": "2022-01-10T11:34:05.453Z"
   },
   {
    "duration": 153,
    "start_time": "2022-01-10T11:34:05.638Z"
   },
   {
    "duration": 19,
    "start_time": "2022-01-10T11:34:05.834Z"
   },
   {
    "duration": 132,
    "start_time": "2022-01-10T11:34:05.996Z"
   },
   {
    "duration": 17,
    "start_time": "2022-01-10T11:34:06.192Z"
   },
   {
    "duration": 14,
    "start_time": "2022-01-10T11:34:06.653Z"
   },
   {
    "duration": 88,
    "start_time": "2022-01-10T11:34:06.844Z"
   },
   {
    "duration": 23,
    "start_time": "2022-01-10T11:34:07.069Z"
   },
   {
    "duration": 21,
    "start_time": "2022-01-10T11:34:07.248Z"
   },
   {
    "duration": 41,
    "start_time": "2022-01-10T11:34:07.454Z"
   },
   {
    "duration": 6,
    "start_time": "2022-01-10T11:34:07.753Z"
   },
   {
    "duration": 5,
    "start_time": "2022-01-10T11:34:08.004Z"
   },
   {
    "duration": 3,
    "start_time": "2022-01-10T11:34:08.875Z"
   },
   {
    "duration": 4,
    "start_time": "2022-01-10T11:39:25.211Z"
   },
   {
    "duration": 5,
    "start_time": "2022-01-10T11:39:36.399Z"
   },
   {
    "duration": 11,
    "start_time": "2022-01-10T11:44:51.420Z"
   },
   {
    "duration": 7,
    "start_time": "2022-01-10T11:44:58.477Z"
   },
   {
    "duration": 28,
    "start_time": "2022-01-10T11:47:29.345Z"
   },
   {
    "duration": 13,
    "start_time": "2022-01-10T11:47:36.459Z"
   },
   {
    "duration": 8,
    "start_time": "2022-01-10T11:47:45.921Z"
   },
   {
    "duration": 9,
    "start_time": "2022-01-10T11:49:07.357Z"
   },
   {
    "duration": 24,
    "start_time": "2022-01-10T11:50:30.124Z"
   },
   {
    "duration": 12,
    "start_time": "2022-01-10T11:50:38.896Z"
   },
   {
    "duration": 8785,
    "start_time": "2022-01-10T11:51:21.008Z"
   },
   {
    "duration": 8370,
    "start_time": "2022-01-10T11:51:31.920Z"
   },
   {
    "duration": 17,
    "start_time": "2022-01-10T11:52:13.599Z"
   },
   {
    "duration": 10,
    "start_time": "2022-01-10T11:52:15.594Z"
   },
   {
    "duration": 4,
    "start_time": "2022-01-10T11:52:49.477Z"
   },
   {
    "duration": 6,
    "start_time": "2022-01-10T11:52:56.086Z"
   },
   {
    "duration": 9,
    "start_time": "2022-01-10T12:01:25.366Z"
   },
   {
    "duration": 6,
    "start_time": "2022-01-10T12:03:35.281Z"
   },
   {
    "duration": 11,
    "start_time": "2022-01-10T12:03:53.226Z"
   },
   {
    "duration": 7,
    "start_time": "2022-01-10T12:06:51.122Z"
   },
   {
    "duration": 11,
    "start_time": "2022-01-10T12:06:58.458Z"
   },
   {
    "duration": 9,
    "start_time": "2022-01-10T12:07:25.924Z"
   },
   {
    "duration": 14,
    "start_time": "2022-01-10T12:07:53.095Z"
   },
   {
    "duration": 334,
    "start_time": "2022-01-10T12:08:03.842Z"
   },
   {
    "duration": 325,
    "start_time": "2022-01-10T12:08:11.775Z"
   },
   {
    "duration": 8,
    "start_time": "2022-01-10T12:08:23.734Z"
   },
   {
    "duration": 8,
    "start_time": "2022-01-10T12:08:32.048Z"
   },
   {
    "duration": 14,
    "start_time": "2022-01-10T12:08:34.004Z"
   },
   {
    "duration": 8,
    "start_time": "2022-01-10T12:08:37.346Z"
   },
   {
    "duration": 12,
    "start_time": "2022-01-10T12:08:42.311Z"
   },
   {
    "duration": 140,
    "start_time": "2022-01-10T12:10:18.538Z"
   },
   {
    "duration": 19,
    "start_time": "2022-01-10T12:10:21.343Z"
   },
   {
    "duration": 31,
    "start_time": "2022-01-10T12:10:33.702Z"
   },
   {
    "duration": 5,
    "start_time": "2022-01-10T12:10:50.415Z"
   },
   {
    "duration": 1344,
    "start_time": "2022-01-10T19:11:50.539Z"
   },
   {
    "duration": 234,
    "start_time": "2022-01-10T19:11:51.886Z"
   },
   {
    "duration": 28,
    "start_time": "2022-01-10T19:11:52.123Z"
   },
   {
    "duration": 199,
    "start_time": "2022-01-10T19:11:52.154Z"
   },
   {
    "duration": 23,
    "start_time": "2022-01-10T19:11:52.355Z"
   },
   {
    "duration": 44,
    "start_time": "2022-01-10T19:11:52.380Z"
   },
   {
    "duration": 140,
    "start_time": "2022-01-10T19:11:52.427Z"
   },
   {
    "duration": 20,
    "start_time": "2022-01-10T19:11:52.571Z"
   },
   {
    "duration": 35,
    "start_time": "2022-01-10T19:11:52.594Z"
   },
   {
    "duration": 41,
    "start_time": "2022-01-10T19:11:52.631Z"
   },
   {
    "duration": 9,
    "start_time": "2022-01-10T19:11:52.674Z"
   },
   {
    "duration": 13,
    "start_time": "2022-01-10T19:11:52.685Z"
   },
   {
    "duration": 18,
    "start_time": "2022-01-10T19:11:52.700Z"
   },
   {
    "duration": 9,
    "start_time": "2022-01-10T19:11:52.721Z"
   },
   {
    "duration": 10,
    "start_time": "2022-01-10T19:11:52.732Z"
   },
   {
    "duration": 72,
    "start_time": "2022-01-10T19:11:52.745Z"
   },
   {
    "duration": 8,
    "start_time": "2022-01-10T19:11:52.820Z"
   },
   {
    "duration": 25,
    "start_time": "2022-01-10T19:11:52.830Z"
   },
   {
    "duration": 60,
    "start_time": "2022-01-10T19:11:52.857Z"
   },
   {
    "duration": 17,
    "start_time": "2022-01-10T19:11:52.919Z"
   },
   {
    "duration": 27,
    "start_time": "2022-01-10T19:11:52.938Z"
   },
   {
    "duration": 14,
    "start_time": "2022-01-10T19:11:52.967Z"
   },
   {
    "duration": 16,
    "start_time": "2022-01-10T19:11:53.018Z"
   },
   {
    "duration": 15,
    "start_time": "2022-01-10T19:11:53.037Z"
   },
   {
    "duration": 13,
    "start_time": "2022-01-10T19:11:53.054Z"
   },
   {
    "duration": 8,
    "start_time": "2022-01-10T19:14:49.629Z"
   },
   {
    "duration": 8,
    "start_time": "2022-01-10T19:14:57.635Z"
   },
   {
    "duration": 19,
    "start_time": "2022-01-10T19:14:58.547Z"
   },
   {
    "duration": 8,
    "start_time": "2022-01-10T19:15:27.745Z"
   },
   {
    "duration": 25,
    "start_time": "2022-01-10T19:15:29.840Z"
   },
   {
    "duration": 16,
    "start_time": "2022-01-10T19:15:41.210Z"
   },
   {
    "duration": 11,
    "start_time": "2022-01-10T19:16:04.388Z"
   },
   {
    "duration": 17,
    "start_time": "2022-01-10T19:16:31.732Z"
   },
   {
    "duration": 29,
    "start_time": "2022-01-10T19:16:51.449Z"
   },
   {
    "duration": 5,
    "start_time": "2022-01-10T19:22:16.059Z"
   },
   {
    "duration": 6,
    "start_time": "2022-01-10T19:22:25.222Z"
   },
   {
    "duration": 20,
    "start_time": "2022-01-10T19:22:26.130Z"
   },
   {
    "duration": 15,
    "start_time": "2022-01-10T19:23:10.591Z"
   },
   {
    "duration": 4,
    "start_time": "2022-01-10T19:25:35.643Z"
   },
   {
    "duration": 4,
    "start_time": "2022-01-10T19:25:37.862Z"
   },
   {
    "duration": 375,
    "start_time": "2022-01-10T19:26:08.340Z"
   },
   {
    "duration": 344,
    "start_time": "2022-01-10T19:26:29.648Z"
   },
   {
    "duration": 5,
    "start_time": "2022-01-10T19:28:41.576Z"
   },
   {
    "duration": 19,
    "start_time": "2022-01-10T19:28:42.976Z"
   },
   {
    "duration": 10,
    "start_time": "2022-01-10T19:28:43.851Z"
   },
   {
    "duration": 15,
    "start_time": "2022-01-10T19:28:51.403Z"
   },
   {
    "duration": 209,
    "start_time": "2022-01-10T19:28:57.601Z"
   },
   {
    "duration": 43,
    "start_time": "2022-01-10T19:29:05.822Z"
   },
   {
    "duration": 247,
    "start_time": "2022-01-10T19:29:06.327Z"
   },
   {
    "duration": 6,
    "start_time": "2022-01-10T19:29:07.926Z"
   },
   {
    "duration": 25,
    "start_time": "2022-01-10T19:29:11.113Z"
   },
   {
    "duration": 11,
    "start_time": "2022-01-10T19:29:12.210Z"
   },
   {
    "duration": 15,
    "start_time": "2022-01-10T19:29:14.423Z"
   },
   {
    "duration": 250,
    "start_time": "2022-01-10T19:30:15.522Z"
   },
   {
    "duration": 5,
    "start_time": "2022-01-10T19:38:46.763Z"
   },
   {
    "duration": 5,
    "start_time": "2022-01-10T19:38:53.642Z"
   },
   {
    "duration": 5,
    "start_time": "2022-01-10T19:38:56.470Z"
   },
   {
    "duration": 20,
    "start_time": "2022-01-10T19:38:57.345Z"
   },
   {
    "duration": 10,
    "start_time": "2022-01-10T19:39:00.754Z"
   },
   {
    "duration": 15,
    "start_time": "2022-01-10T19:39:03.571Z"
   },
   {
    "duration": 7,
    "start_time": "2022-01-10T19:50:09.630Z"
   },
   {
    "duration": 19,
    "start_time": "2022-01-10T19:50:11.075Z"
   },
   {
    "duration": 11,
    "start_time": "2022-01-10T19:50:12.516Z"
   },
   {
    "duration": 18,
    "start_time": "2022-01-10T19:50:16.131Z"
   },
   {
    "duration": 7,
    "start_time": "2022-01-10T19:50:43.146Z"
   },
   {
    "duration": 19,
    "start_time": "2022-01-10T19:50:43.694Z"
   },
   {
    "duration": 12,
    "start_time": "2022-01-10T19:50:44.699Z"
   },
   {
    "duration": 18,
    "start_time": "2022-01-10T19:50:45.905Z"
   },
   {
    "duration": 7,
    "start_time": "2022-01-10T19:50:54.534Z"
   },
   {
    "duration": 19,
    "start_time": "2022-01-10T19:50:55.149Z"
   },
   {
    "duration": 12,
    "start_time": "2022-01-10T19:50:56.115Z"
   },
   {
    "duration": 17,
    "start_time": "2022-01-10T19:50:57.476Z"
   },
   {
    "duration": 6,
    "start_time": "2022-01-10T19:51:05.054Z"
   },
   {
    "duration": 24,
    "start_time": "2022-01-10T19:51:05.454Z"
   },
   {
    "duration": 13,
    "start_time": "2022-01-10T19:51:05.877Z"
   },
   {
    "duration": 18,
    "start_time": "2022-01-10T19:51:08.578Z"
   },
   {
    "duration": 10,
    "start_time": "2022-01-10T19:51:10.090Z"
   },
   {
    "duration": 214,
    "start_time": "2022-01-10T19:52:32.521Z"
   },
   {
    "duration": 28,
    "start_time": "2022-01-10T19:52:33.138Z"
   },
   {
    "duration": 183,
    "start_time": "2022-01-10T19:52:33.340Z"
   },
   {
    "duration": 22,
    "start_time": "2022-01-10T19:52:33.525Z"
   },
   {
    "duration": 25,
    "start_time": "2022-01-10T19:52:33.851Z"
   },
   {
    "duration": 127,
    "start_time": "2022-01-10T19:52:34.019Z"
   },
   {
    "duration": 19,
    "start_time": "2022-01-10T19:52:34.217Z"
   },
   {
    "duration": 25,
    "start_time": "2022-01-10T19:52:34.415Z"
   },
   {
    "duration": 53,
    "start_time": "2022-01-10T19:52:34.621Z"
   },
   {
    "duration": 13,
    "start_time": "2022-01-10T19:52:34.841Z"
   },
   {
    "duration": 10,
    "start_time": "2022-01-10T19:52:35.057Z"
   },
   {
    "duration": 4,
    "start_time": "2022-01-10T19:52:35.504Z"
   },
   {
    "duration": 5,
    "start_time": "2022-01-10T19:52:36.214Z"
   },
   {
    "duration": 10,
    "start_time": "2022-01-10T19:52:36.442Z"
   },
   {
    "duration": 65,
    "start_time": "2022-01-10T19:52:36.672Z"
   },
   {
    "duration": 247,
    "start_time": "2022-01-10T19:52:37.286Z"
   },
   {
    "duration": 8,
    "start_time": "2022-01-10T19:52:37.703Z"
   },
   {
    "duration": 20,
    "start_time": "2022-01-10T19:52:38.543Z"
   },
   {
    "duration": 7,
    "start_time": "2022-01-10T19:52:50.710Z"
   },
   {
    "duration": 20,
    "start_time": "2022-01-10T19:52:51.208Z"
   },
   {
    "duration": 12,
    "start_time": "2022-01-10T19:52:52.742Z"
   },
   {
    "duration": 17,
    "start_time": "2022-01-10T19:52:54.498Z"
   },
   {
    "duration": 17,
    "start_time": "2022-01-10T19:53:00.005Z"
   },
   {
    "duration": 6,
    "start_time": "2022-01-10T19:53:45.125Z"
   },
   {
    "duration": 22,
    "start_time": "2022-01-10T19:53:45.793Z"
   },
   {
    "duration": 13,
    "start_time": "2022-01-10T19:53:46.783Z"
   },
   {
    "duration": 20,
    "start_time": "2022-01-10T19:53:49.622Z"
   },
   {
    "duration": 5,
    "start_time": "2022-01-10T19:54:20.657Z"
   },
   {
    "duration": 21,
    "start_time": "2022-01-10T19:54:20.963Z"
   },
   {
    "duration": 13,
    "start_time": "2022-01-10T19:54:21.238Z"
   },
   {
    "duration": 20,
    "start_time": "2022-01-10T19:54:22.081Z"
   },
   {
    "duration": 6,
    "start_time": "2022-01-10T19:54:49.691Z"
   },
   {
    "duration": 17,
    "start_time": "2022-01-10T19:54:57.101Z"
   },
   {
    "duration": 214,
    "start_time": "2022-01-10T19:55:13.127Z"
   },
   {
    "duration": 31,
    "start_time": "2022-01-10T19:55:14.099Z"
   },
   {
    "duration": 194,
    "start_time": "2022-01-10T19:55:14.293Z"
   },
   {
    "duration": 32,
    "start_time": "2022-01-10T19:55:14.489Z"
   },
   {
    "duration": 22,
    "start_time": "2022-01-10T19:55:14.831Z"
   },
   {
    "duration": 129,
    "start_time": "2022-01-10T19:55:15.037Z"
   },
   {
    "duration": 20,
    "start_time": "2022-01-10T19:55:15.209Z"
   },
   {
    "duration": 26,
    "start_time": "2022-01-10T19:55:15.414Z"
   },
   {
    "duration": 43,
    "start_time": "2022-01-10T19:55:15.601Z"
   },
   {
    "duration": 9,
    "start_time": "2022-01-10T19:55:15.798Z"
   },
   {
    "duration": 8,
    "start_time": "2022-01-10T19:55:16.753Z"
   },
   {
    "duration": 3,
    "start_time": "2022-01-10T19:55:17.423Z"
   },
   {
    "duration": 5,
    "start_time": "2022-01-10T19:55:18.726Z"
   },
   {
    "duration": 10,
    "start_time": "2022-01-10T19:55:18.734Z"
   },
   {
    "duration": 39,
    "start_time": "2022-01-10T19:55:19.070Z"
   },
   {
    "duration": 7,
    "start_time": "2022-01-10T19:55:24.658Z"
   },
   {
    "duration": 23,
    "start_time": "2022-01-10T19:55:26.145Z"
   },
   {
    "duration": 12,
    "start_time": "2022-01-10T19:55:27.041Z"
   },
   {
    "duration": 18,
    "start_time": "2022-01-10T19:55:28.004Z"
   },
   {
    "duration": 6,
    "start_time": "2022-01-10T19:55:29.099Z"
   },
   {
    "duration": 21,
    "start_time": "2022-01-10T19:55:34.605Z"
   },
   {
    "duration": 22,
    "start_time": "2022-01-10T19:55:48.975Z"
   },
   {
    "duration": 13,
    "start_time": "2022-01-10T19:55:49.717Z"
   },
   {
    "duration": 5,
    "start_time": "2022-01-10T19:55:54.248Z"
   },
   {
    "duration": 22,
    "start_time": "2022-01-10T19:55:54.780Z"
   },
   {
    "duration": 10,
    "start_time": "2022-01-10T19:55:55.471Z"
   },
   {
    "duration": 17,
    "start_time": "2022-01-10T19:55:56.856Z"
   },
   {
    "duration": 7,
    "start_time": "2022-01-10T19:55:58.402Z"
   },
   {
    "duration": 18,
    "start_time": "2022-01-10T19:56:00.879Z"
   },
   {
    "duration": 17,
    "start_time": "2022-01-10T19:56:06.967Z"
   },
   {
    "duration": 6,
    "start_time": "2022-01-10T19:56:09.736Z"
   },
   {
    "duration": 18,
    "start_time": "2022-01-10T19:56:10.250Z"
   },
   {
    "duration": 105,
    "start_time": "2022-01-10T20:04:11.129Z"
   },
   {
    "duration": 21,
    "start_time": "2022-01-10T20:04:19.164Z"
   },
   {
    "duration": 10,
    "start_time": "2022-01-10T20:04:22.879Z"
   },
   {
    "duration": 16,
    "start_time": "2022-01-10T20:04:26.885Z"
   },
   {
    "duration": 212,
    "start_time": "2022-01-10T20:04:32.627Z"
   },
   {
    "duration": 27,
    "start_time": "2022-01-10T20:04:34.967Z"
   },
   {
    "duration": 185,
    "start_time": "2022-01-10T20:04:35.242Z"
   },
   {
    "duration": 27,
    "start_time": "2022-01-10T20:04:35.452Z"
   },
   {
    "duration": 23,
    "start_time": "2022-01-10T20:04:35.899Z"
   },
   {
    "duration": 123,
    "start_time": "2022-01-10T20:04:36.095Z"
   },
   {
    "duration": 19,
    "start_time": "2022-01-10T20:04:36.305Z"
   },
   {
    "duration": 26,
    "start_time": "2022-01-10T20:04:36.516Z"
   },
   {
    "duration": 41,
    "start_time": "2022-01-10T20:04:36.706Z"
   },
   {
    "duration": 9,
    "start_time": "2022-01-10T20:04:36.933Z"
   },
   {
    "duration": 8,
    "start_time": "2022-01-10T20:04:37.254Z"
   },
   {
    "duration": 4,
    "start_time": "2022-01-10T20:04:38.339Z"
   },
   {
    "duration": 5,
    "start_time": "2022-01-10T20:04:39.265Z"
   },
   {
    "duration": 7,
    "start_time": "2022-01-10T20:04:39.886Z"
   },
   {
    "duration": 39,
    "start_time": "2022-01-10T20:04:40.579Z"
   },
   {
    "duration": 3,
    "start_time": "2022-01-10T20:05:05.813Z"
   },
   {
    "duration": 8,
    "start_time": "2022-01-10T20:05:07.549Z"
   },
   {
    "duration": 9,
    "start_time": "2022-01-10T20:05:11.154Z"
   },
   {
    "duration": 41,
    "start_time": "2022-01-10T20:05:16.587Z"
   },
   {
    "duration": 9,
    "start_time": "2022-01-10T20:05:17.106Z"
   },
   {
    "duration": 8,
    "start_time": "2022-01-10T20:05:17.317Z"
   },
   {
    "duration": 3,
    "start_time": "2022-01-10T20:05:18.720Z"
   },
   {
    "duration": 10,
    "start_time": "2022-01-10T20:05:18.727Z"
   },
   {
    "duration": 12,
    "start_time": "2022-01-10T20:05:18.741Z"
   },
   {
    "duration": 10,
    "start_time": "2022-01-10T20:05:27.197Z"
   },
   {
    "duration": 6,
    "start_time": "2022-01-10T20:05:28.191Z"
   },
   {
    "duration": 120,
    "start_time": "2022-01-10T20:05:28.417Z"
   },
   {
    "duration": 25,
    "start_time": "2022-01-10T20:05:29.139Z"
   },
   {
    "duration": 11,
    "start_time": "2022-01-10T20:05:32.543Z"
   },
   {
    "duration": 16,
    "start_time": "2022-01-10T20:05:33.207Z"
   },
   {
    "duration": 7,
    "start_time": "2022-01-10T20:05:34.538Z"
   },
   {
    "duration": 16,
    "start_time": "2022-01-10T20:05:41.163Z"
   },
   {
    "duration": 105,
    "start_time": "2022-01-10T20:18:40.146Z"
   },
   {
    "duration": 120,
    "start_time": "2022-01-10T20:26:11.566Z"
   },
   {
    "duration": 26,
    "start_time": "2022-01-10T20:26:13.267Z"
   },
   {
    "duration": 10,
    "start_time": "2022-01-10T20:26:14.762Z"
   },
   {
    "duration": 15,
    "start_time": "2022-01-10T20:26:15.704Z"
   },
   {
    "duration": 209,
    "start_time": "2022-01-10T20:26:21.746Z"
   },
   {
    "duration": 28,
    "start_time": "2022-01-10T20:26:22.265Z"
   },
   {
    "duration": 179,
    "start_time": "2022-01-10T20:26:22.467Z"
   },
   {
    "duration": 24,
    "start_time": "2022-01-10T20:26:22.656Z"
   },
   {
    "duration": 23,
    "start_time": "2022-01-10T20:26:23.040Z"
   },
   {
    "duration": 135,
    "start_time": "2022-01-10T20:26:23.252Z"
   },
   {
    "duration": 20,
    "start_time": "2022-01-10T20:26:23.448Z"
   },
   {
    "duration": 24,
    "start_time": "2022-01-10T20:26:23.664Z"
   },
   {
    "duration": 41,
    "start_time": "2022-01-10T20:26:23.834Z"
   },
   {
    "duration": 8,
    "start_time": "2022-01-10T20:26:24.026Z"
   },
   {
    "duration": 9,
    "start_time": "2022-01-10T20:26:24.247Z"
   },
   {
    "duration": 3,
    "start_time": "2022-01-10T20:26:25.163Z"
   },
   {
    "duration": 42,
    "start_time": "2022-01-10T20:26:26.031Z"
   },
   {
    "duration": 5,
    "start_time": "2022-01-10T20:26:26.510Z"
   },
   {
    "duration": 116,
    "start_time": "2022-01-10T20:26:26.751Z"
   },
   {
    "duration": 20,
    "start_time": "2022-01-10T20:26:29.865Z"
   },
   {
    "duration": 11,
    "start_time": "2022-01-10T20:26:30.835Z"
   },
   {
    "duration": 15,
    "start_time": "2022-01-10T20:26:36.266Z"
   },
   {
    "duration": 14,
    "start_time": "2022-01-10T20:26:40.457Z"
   },
   {
    "duration": 17,
    "start_time": "2022-01-10T20:26:49.728Z"
   },
   {
    "duration": 1102,
    "start_time": "2022-01-11T10:27:38.620Z"
   },
   {
    "duration": 164,
    "start_time": "2022-01-11T10:27:39.724Z"
   },
   {
    "duration": 21,
    "start_time": "2022-01-11T10:27:39.891Z"
   },
   {
    "duration": 133,
    "start_time": "2022-01-11T10:27:39.914Z"
   },
   {
    "duration": 16,
    "start_time": "2022-01-11T10:27:40.049Z"
   },
   {
    "duration": 31,
    "start_time": "2022-01-11T10:27:40.067Z"
   },
   {
    "duration": 94,
    "start_time": "2022-01-11T10:27:40.100Z"
   },
   {
    "duration": 12,
    "start_time": "2022-01-11T10:27:40.197Z"
   },
   {
    "duration": 32,
    "start_time": "2022-01-11T10:27:40.211Z"
   },
   {
    "duration": 39,
    "start_time": "2022-01-11T10:27:40.245Z"
   },
   {
    "duration": 7,
    "start_time": "2022-01-11T10:27:40.285Z"
   },
   {
    "duration": 15,
    "start_time": "2022-01-11T10:27:40.293Z"
   },
   {
    "duration": 11,
    "start_time": "2022-01-11T10:27:40.309Z"
   },
   {
    "duration": 40,
    "start_time": "2022-01-11T10:27:40.321Z"
   },
   {
    "duration": 5,
    "start_time": "2022-01-11T10:27:40.362Z"
   },
   {
    "duration": 89,
    "start_time": "2022-01-11T10:27:40.368Z"
   },
   {
    "duration": 18,
    "start_time": "2022-01-11T10:27:40.458Z"
   },
   {
    "duration": 7,
    "start_time": "2022-01-11T10:27:40.478Z"
   },
   {
    "duration": 10,
    "start_time": "2022-01-11T10:27:40.487Z"
   },
   {
    "duration": 9,
    "start_time": "2022-01-11T10:27:40.499Z"
   },
   {
    "duration": 36,
    "start_time": "2022-01-11T10:27:40.510Z"
   },
   {
    "duration": 25,
    "start_time": "2022-01-11T10:27:40.547Z"
   },
   {
    "duration": 4,
    "start_time": "2022-01-11T10:27:40.574Z"
   },
   {
    "duration": 17,
    "start_time": "2022-01-11T10:27:40.579Z"
   },
   {
    "duration": 17,
    "start_time": "2022-01-11T10:27:40.597Z"
   },
   {
    "duration": 31,
    "start_time": "2022-01-11T10:27:40.615Z"
   },
   {
    "duration": 9,
    "start_time": "2022-01-11T10:27:40.648Z"
   },
   {
    "duration": 6,
    "start_time": "2022-01-11T10:27:40.658Z"
   },
   {
    "duration": 8,
    "start_time": "2022-01-11T10:27:40.666Z"
   },
   {
    "duration": 326,
    "start_time": "2022-01-11T10:28:08.378Z"
   },
   {
    "duration": 305,
    "start_time": "2022-01-11T10:28:16.487Z"
   },
   {
    "duration": 5,
    "start_time": "2022-01-11T10:38:34.260Z"
   },
   {
    "duration": 18,
    "start_time": "2022-01-11T10:38:35.036Z"
   },
   {
    "duration": 7,
    "start_time": "2022-01-11T10:38:36.620Z"
   },
   {
    "duration": 11,
    "start_time": "2022-01-11T10:38:39.489Z"
   },
   {
    "duration": 155,
    "start_time": "2022-01-11T10:38:44.126Z"
   },
   {
    "duration": 21,
    "start_time": "2022-01-11T10:38:46.394Z"
   },
   {
    "duration": 144,
    "start_time": "2022-01-11T10:38:46.579Z"
   },
   {
    "duration": 16,
    "start_time": "2022-01-11T10:38:46.742Z"
   },
   {
    "duration": 15,
    "start_time": "2022-01-11T10:38:47.096Z"
   },
   {
    "duration": 103,
    "start_time": "2022-01-11T10:38:47.292Z"
   },
   {
    "duration": 15,
    "start_time": "2022-01-11T10:38:47.490Z"
   },
   {
    "duration": 22,
    "start_time": "2022-01-11T10:38:47.684Z"
   },
   {
    "duration": 38,
    "start_time": "2022-01-11T10:38:47.933Z"
   },
   {
    "duration": 6,
    "start_time": "2022-01-11T10:38:48.151Z"
   },
   {
    "duration": 6,
    "start_time": "2022-01-11T10:38:48.361Z"
   },
   {
    "duration": 2,
    "start_time": "2022-01-11T10:38:48.810Z"
   },
   {
    "duration": 30,
    "start_time": "2022-01-11T10:38:50.858Z"
   },
   {
    "duration": 5,
    "start_time": "2022-01-11T10:38:50.890Z"
   },
   {
    "duration": 17,
    "start_time": "2022-01-11T10:38:52.058Z"
   },
   {
    "duration": 7,
    "start_time": "2022-01-11T10:38:53.174Z"
   },
   {
    "duration": 13,
    "start_time": "2022-01-11T10:38:54.516Z"
   },
   {
    "duration": 5,
    "start_time": "2022-01-11T10:38:55.978Z"
   },
   {
    "duration": 5,
    "start_time": "2022-01-11T10:39:08.077Z"
   },
   {
    "duration": 18,
    "start_time": "2022-01-11T10:39:08.635Z"
   },
   {
    "duration": 7,
    "start_time": "2022-01-11T10:39:09.025Z"
   },
   {
    "duration": 10,
    "start_time": "2022-01-11T10:39:09.328Z"
   },
   {
    "duration": 22,
    "start_time": "2022-01-11T10:39:29.299Z"
   },
   {
    "duration": 4,
    "start_time": "2022-01-11T10:40:10.709Z"
   },
   {
    "duration": 14,
    "start_time": "2022-01-11T10:40:12.173Z"
   },
   {
    "duration": 11,
    "start_time": "2022-01-11T10:40:18.915Z"
   },
   {
    "duration": 11,
    "start_time": "2022-01-11T11:05:08.166Z"
   },
   {
    "duration": 10,
    "start_time": "2022-01-11T11:05:55.702Z"
   },
   {
    "duration": 14,
    "start_time": "2022-01-11T11:06:47.657Z"
   },
   {
    "duration": 37,
    "start_time": "2022-01-11T11:07:23.187Z"
   },
   {
    "duration": 21,
    "start_time": "2022-01-11T11:11:04.512Z"
   },
   {
    "duration": 10,
    "start_time": "2022-01-11T11:11:10.845Z"
   },
   {
    "duration": 145,
    "start_time": "2022-01-11T11:11:32.976Z"
   },
   {
    "duration": 20,
    "start_time": "2022-01-11T11:11:33.425Z"
   },
   {
    "duration": 133,
    "start_time": "2022-01-11T11:11:33.602Z"
   },
   {
    "duration": 17,
    "start_time": "2022-01-11T11:11:33.769Z"
   },
   {
    "duration": 16,
    "start_time": "2022-01-11T11:11:34.132Z"
   },
   {
    "duration": 109,
    "start_time": "2022-01-11T11:11:34.317Z"
   },
   {
    "duration": 16,
    "start_time": "2022-01-11T11:11:34.509Z"
   },
   {
    "duration": 23,
    "start_time": "2022-01-11T11:11:34.703Z"
   },
   {
    "duration": 37,
    "start_time": "2022-01-11T11:11:34.912Z"
   },
   {
    "duration": 6,
    "start_time": "2022-01-11T11:11:35.121Z"
   },
   {
    "duration": 6,
    "start_time": "2022-01-11T11:11:35.345Z"
   },
   {
    "duration": 2,
    "start_time": "2022-01-11T11:11:35.781Z"
   },
   {
    "duration": 27,
    "start_time": "2022-01-11T11:11:36.198Z"
   },
   {
    "duration": 5,
    "start_time": "2022-01-11T11:11:36.491Z"
   },
   {
    "duration": 18,
    "start_time": "2022-01-11T11:11:36.949Z"
   },
   {
    "duration": 10,
    "start_time": "2022-01-11T11:11:37.461Z"
   },
   {
    "duration": 21,
    "start_time": "2022-01-11T11:11:38.036Z"
   },
   {
    "duration": 4,
    "start_time": "2022-01-11T11:11:38.814Z"
   },
   {
    "duration": 14,
    "start_time": "2022-01-11T11:11:39.043Z"
   },
   {
    "duration": 11,
    "start_time": "2022-01-11T11:11:39.234Z"
   },
   {
    "duration": 17,
    "start_time": "2022-01-11T11:11:39.423Z"
   },
   {
    "duration": 10,
    "start_time": "2022-01-11T11:11:39.608Z"
   },
   {
    "duration": 9,
    "start_time": "2022-01-11T11:11:39.837Z"
   },
   {
    "duration": 5,
    "start_time": "2022-01-11T11:11:40.414Z"
   },
   {
    "duration": 7,
    "start_time": "2022-01-11T11:11:40.785Z"
   },
   {
    "duration": 21,
    "start_time": "2022-01-11T11:11:42.806Z"
   },
   {
    "duration": 13,
    "start_time": "2022-01-11T11:11:43.656Z"
   },
   {
    "duration": 27,
    "start_time": "2022-01-11T11:11:54.523Z"
   },
   {
    "duration": 171,
    "start_time": "2022-01-11T11:12:15.180Z"
   },
   {
    "duration": 158,
    "start_time": "2022-01-11T11:12:21.150Z"
   },
   {
    "duration": 305,
    "start_time": "2022-01-11T11:13:38.933Z"
   },
   {
    "duration": 400,
    "start_time": "2022-01-11T11:13:53.665Z"
   },
   {
    "duration": 22,
    "start_time": "2022-01-11T11:14:27.011Z"
   },
   {
    "duration": 11,
    "start_time": "2022-01-11T11:24:23.690Z"
   },
   {
    "duration": 295,
    "start_time": "2022-01-11T11:25:08.271Z"
   },
   {
    "duration": 15,
    "start_time": "2022-01-11T11:25:20.497Z"
   },
   {
    "duration": 23,
    "start_time": "2022-01-11T11:25:25.519Z"
   },
   {
    "duration": 23,
    "start_time": "2022-01-11T11:28:47.933Z"
   },
   {
    "duration": 24,
    "start_time": "2022-01-11T11:29:02.933Z"
   },
   {
    "duration": 28,
    "start_time": "2022-01-11T11:29:47.148Z"
   },
   {
    "duration": 33,
    "start_time": "2022-01-11T11:29:54.059Z"
   },
   {
    "duration": 28,
    "start_time": "2022-01-11T11:30:51.945Z"
   },
   {
    "duration": 37,
    "start_time": "2022-01-11T11:32:12.999Z"
   },
   {
    "duration": 1070,
    "start_time": "2022-01-11T11:33:23.639Z"
   },
   {
    "duration": 27,
    "start_time": "2022-01-11T11:33:38.133Z"
   },
   {
    "duration": 25,
    "start_time": "2022-01-11T11:35:38.615Z"
   },
   {
    "duration": 33,
    "start_time": "2022-01-11T11:41:45.565Z"
   },
   {
    "duration": 1491,
    "start_time": "2022-01-11T18:57:02.035Z"
   },
   {
    "duration": 210,
    "start_time": "2022-01-11T18:57:03.529Z"
   },
   {
    "duration": 29,
    "start_time": "2022-01-11T18:57:03.750Z"
   },
   {
    "duration": 180,
    "start_time": "2022-01-11T18:57:03.782Z"
   },
   {
    "duration": 23,
    "start_time": "2022-01-11T18:57:03.964Z"
   },
   {
    "duration": 48,
    "start_time": "2022-01-11T18:57:03.990Z"
   },
   {
    "duration": 131,
    "start_time": "2022-01-11T18:57:04.041Z"
   },
   {
    "duration": 21,
    "start_time": "2022-01-11T18:57:04.178Z"
   },
   {
    "duration": 25,
    "start_time": "2022-01-11T18:57:04.223Z"
   },
   {
    "duration": 66,
    "start_time": "2022-01-11T18:57:04.250Z"
   },
   {
    "duration": 9,
    "start_time": "2022-01-11T18:57:04.318Z"
   },
   {
    "duration": 12,
    "start_time": "2022-01-11T18:57:04.329Z"
   },
   {
    "duration": 16,
    "start_time": "2022-01-11T18:57:04.343Z"
   },
   {
    "duration": 49,
    "start_time": "2022-01-11T18:57:04.361Z"
   },
   {
    "duration": 16,
    "start_time": "2022-01-11T18:57:04.412Z"
   },
   {
    "duration": 27,
    "start_time": "2022-01-11T18:57:04.430Z"
   },
   {
    "duration": 15,
    "start_time": "2022-01-11T18:57:04.459Z"
   },
   {
    "duration": 62,
    "start_time": "2022-01-11T18:57:04.476Z"
   },
   {
    "duration": 5,
    "start_time": "2022-01-11T18:57:04.541Z"
   },
   {
    "duration": 19,
    "start_time": "2022-01-11T18:57:04.549Z"
   },
   {
    "duration": 17,
    "start_time": "2022-01-11T18:57:04.570Z"
   },
   {
    "duration": 27,
    "start_time": "2022-01-11T18:57:04.624Z"
   },
   {
    "duration": 13,
    "start_time": "2022-01-11T18:57:04.655Z"
   },
   {
    "duration": 54,
    "start_time": "2022-01-11T18:57:04.671Z"
   },
   {
    "duration": 7,
    "start_time": "2022-01-11T18:57:04.728Z"
   },
   {
    "duration": 14,
    "start_time": "2022-01-11T18:57:04.738Z"
   },
   {
    "duration": 74,
    "start_time": "2022-01-11T18:57:04.755Z"
   },
   {
    "duration": 50,
    "start_time": "2022-01-11T18:57:04.832Z"
   },
   {
    "duration": 63,
    "start_time": "2022-01-11T18:57:04.885Z"
   },
   {
    "duration": 36,
    "start_time": "2022-01-11T18:57:04.950Z"
   },
   {
    "duration": 62,
    "start_time": "2022-01-11T18:57:04.988Z"
   },
   {
    "duration": 42,
    "start_time": "2022-01-11T18:57:05.053Z"
   },
   {
    "duration": 12,
    "start_time": "2022-01-11T18:57:41.981Z"
   },
   {
    "duration": 17,
    "start_time": "2022-01-11T18:57:42.739Z"
   },
   {
    "duration": 18,
    "start_time": "2022-01-11T18:57:44.468Z"
   },
   {
    "duration": 7,
    "start_time": "2022-01-11T19:00:11.512Z"
   },
   {
    "duration": 27,
    "start_time": "2022-01-11T19:00:12.193Z"
   },
   {
    "duration": 95,
    "start_time": "2022-01-11T19:11:35.157Z"
   },
   {
    "duration": 35,
    "start_time": "2022-01-11T19:16:00.548Z"
   },
   {
    "duration": 35,
    "start_time": "2022-01-11T19:18:33.384Z"
   },
   {
    "duration": 15,
    "start_time": "2022-01-11T19:18:44.474Z"
   },
   {
    "duration": 33,
    "start_time": "2022-01-11T19:18:52.095Z"
   },
   {
    "duration": 35,
    "start_time": "2022-01-11T19:20:37.851Z"
   },
   {
    "duration": 423,
    "start_time": "2022-01-11T19:27:49.392Z"
   },
   {
    "duration": 426,
    "start_time": "2022-01-11T19:30:06.244Z"
   },
   {
    "duration": 39,
    "start_time": "2022-01-11T19:33:55.886Z"
   },
   {
    "duration": 39,
    "start_time": "2022-01-11T19:34:54.184Z"
   },
   {
    "duration": 62,
    "start_time": "2022-01-11T19:41:33.291Z"
   },
   {
    "duration": 77,
    "start_time": "2022-01-11T19:41:42.379Z"
   },
   {
    "duration": 34,
    "start_time": "2022-01-11T19:42:00.415Z"
   },
   {
    "duration": 32,
    "start_time": "2022-01-11T19:42:15.294Z"
   },
   {
    "duration": 33,
    "start_time": "2022-01-11T19:42:15.491Z"
   },
   {
    "duration": 37,
    "start_time": "2022-01-11T19:42:15.883Z"
   },
   {
    "duration": 42,
    "start_time": "2022-01-11T19:42:16.088Z"
   },
   {
    "duration": 33,
    "start_time": "2022-01-11T19:42:16.691Z"
   },
   {
    "duration": 35,
    "start_time": "2022-01-11T19:42:16.898Z"
   },
   {
    "duration": 4,
    "start_time": "2022-01-11T19:42:17.087Z"
   },
   {
    "duration": 49,
    "start_time": "2022-01-11T19:42:59.438Z"
   },
   {
    "duration": 23,
    "start_time": "2022-01-11T19:53:54.276Z"
   },
   {
    "duration": 7798,
    "start_time": "2022-01-11T19:55:09.932Z"
   },
   {
    "duration": 30,
    "start_time": "2022-01-11T19:55:28.014Z"
   },
   {
    "duration": 44,
    "start_time": "2022-01-11T19:56:36.008Z"
   },
   {
    "duration": 41,
    "start_time": "2022-01-11T19:56:43.204Z"
   },
   {
    "duration": 35,
    "start_time": "2022-01-11T19:57:51.098Z"
   },
   {
    "duration": 19,
    "start_time": "2022-01-11T19:58:15.031Z"
   },
   {
    "duration": 46,
    "start_time": "2022-01-11T19:58:23.923Z"
   },
   {
    "duration": 42,
    "start_time": "2022-01-11T19:58:50.797Z"
   },
   {
    "duration": 44,
    "start_time": "2022-01-11T19:59:12.493Z"
   },
   {
    "duration": 360,
    "start_time": "2022-01-11T20:16:18.150Z"
   },
   {
    "duration": 9,
    "start_time": "2022-01-11T20:16:23.371Z"
   },
   {
    "duration": 7,
    "start_time": "2022-01-11T20:16:32.441Z"
   },
   {
    "duration": 298,
    "start_time": "2022-01-11T20:16:47.146Z"
   },
   {
    "duration": 7,
    "start_time": "2022-01-11T20:16:54.629Z"
   },
   {
    "duration": 25,
    "start_time": "2022-01-11T20:18:48.379Z"
   },
   {
    "duration": 21,
    "start_time": "2022-01-11T20:19:16.179Z"
   },
   {
    "duration": 21,
    "start_time": "2022-01-11T20:19:45.875Z"
   },
   {
    "duration": 12,
    "start_time": "2022-01-11T20:20:08.677Z"
   },
   {
    "duration": 20,
    "start_time": "2022-01-11T20:20:18.442Z"
   },
   {
    "duration": 14,
    "start_time": "2022-01-11T20:20:35.663Z"
   },
   {
    "duration": 45,
    "start_time": "2022-01-11T20:28:05.249Z"
   },
   {
    "duration": 8672,
    "start_time": "2022-01-11T20:30:23.100Z"
   },
   {
    "duration": 21,
    "start_time": "2022-01-11T20:30:52.713Z"
   },
   {
    "duration": 42,
    "start_time": "2022-01-11T20:41:47.997Z"
   },
   {
    "duration": 56,
    "start_time": "2022-01-11T20:42:22.908Z"
   },
   {
    "duration": 43,
    "start_time": "2022-01-11T20:42:42.487Z"
   },
   {
    "duration": 32,
    "start_time": "2022-01-11T20:42:43.431Z"
   },
   {
    "duration": 34,
    "start_time": "2022-01-11T20:42:43.623Z"
   },
   {
    "duration": 38,
    "start_time": "2022-01-11T20:42:44.035Z"
   },
   {
    "duration": 35,
    "start_time": "2022-01-11T20:42:44.234Z"
   },
   {
    "duration": 35,
    "start_time": "2022-01-11T20:42:44.461Z"
   },
   {
    "duration": 29,
    "start_time": "2022-01-11T20:42:45.066Z"
   },
   {
    "duration": 31,
    "start_time": "2022-01-11T20:42:45.315Z"
   },
   {
    "duration": 38,
    "start_time": "2022-01-11T20:42:46.785Z"
   },
   {
    "duration": 41,
    "start_time": "2022-01-11T20:43:11.141Z"
   },
   {
    "duration": 10,
    "start_time": "2022-01-11T20:45:26.333Z"
   },
   {
    "duration": 64,
    "start_time": "2022-01-11T20:52:10.060Z"
   },
   {
    "duration": 4036,
    "start_time": "2022-01-11T20:52:59.453Z"
   },
   {
    "duration": 4231,
    "start_time": "2022-01-11T20:53:03.711Z"
   },
   {
    "duration": 6,
    "start_time": "2022-01-11T20:53:32.810Z"
   },
   {
    "duration": 39,
    "start_time": "2022-01-11T20:53:53.854Z"
   },
   {
    "duration": 6,
    "start_time": "2022-01-11T20:53:56.102Z"
   },
   {
    "duration": 8,
    "start_time": "2022-01-11T20:54:35.507Z"
   },
   {
    "duration": 74,
    "start_time": "2022-01-11T20:56:30.158Z"
   },
   {
    "duration": 30,
    "start_time": "2022-01-11T20:56:32.689Z"
   },
   {
    "duration": 32,
    "start_time": "2022-01-11T20:56:32.918Z"
   },
   {
    "duration": 37,
    "start_time": "2022-01-11T20:56:33.245Z"
   },
   {
    "duration": 27,
    "start_time": "2022-01-11T20:56:33.448Z"
   },
   {
    "duration": 38,
    "start_time": "2022-01-11T20:56:33.662Z"
   },
   {
    "duration": 31,
    "start_time": "2022-01-11T20:56:33.851Z"
   },
   {
    "duration": 33,
    "start_time": "2022-01-11T20:56:34.062Z"
   },
   {
    "duration": 40,
    "start_time": "2022-01-11T20:56:34.270Z"
   },
   {
    "duration": 8,
    "start_time": "2022-01-11T20:56:34.522Z"
   },
   {
    "duration": 104,
    "start_time": "2022-01-11T21:00:33.981Z"
   },
   {
    "duration": 19,
    "start_time": "2022-01-11T21:00:39.223Z"
   },
   {
    "duration": 25,
    "start_time": "2022-01-11T21:00:46.253Z"
   },
   {
    "duration": 25,
    "start_time": "2022-01-11T21:01:17.841Z"
   },
   {
    "duration": 49,
    "start_time": "2022-01-11T21:01:19.777Z"
   },
   {
    "duration": 9,
    "start_time": "2022-01-11T21:01:19.966Z"
   },
   {
    "duration": 8,
    "start_time": "2022-01-11T21:01:20.139Z"
   },
   {
    "duration": 3,
    "start_time": "2022-01-11T21:01:20.479Z"
   },
   {
    "duration": 10,
    "start_time": "2022-01-11T21:01:20.968Z"
   },
   {
    "duration": 6,
    "start_time": "2022-01-11T21:01:21.177Z"
   },
   {
    "duration": 20,
    "start_time": "2022-01-11T21:01:21.381Z"
   },
   {
    "duration": 10,
    "start_time": "2022-01-11T21:01:26.401Z"
   },
   {
    "duration": 6,
    "start_time": "2022-01-11T21:01:26.605Z"
   },
   {
    "duration": 19,
    "start_time": "2022-01-11T21:01:26.866Z"
   },
   {
    "duration": 17,
    "start_time": "2022-01-11T21:01:27.276Z"
   },
   {
    "duration": 7,
    "start_time": "2022-01-11T21:01:27.508Z"
   },
   {
    "duration": 6,
    "start_time": "2022-01-11T21:01:27.713Z"
   },
   {
    "duration": 16,
    "start_time": "2022-01-11T21:01:27.930Z"
   },
   {
    "duration": 18,
    "start_time": "2022-01-11T21:01:28.132Z"
   },
   {
    "duration": 11,
    "start_time": "2022-01-11T21:01:28.360Z"
   },
   {
    "duration": 16,
    "start_time": "2022-01-11T21:01:28.573Z"
   },
   {
    "duration": 16,
    "start_time": "2022-01-11T21:01:28.782Z"
   },
   {
    "duration": 6,
    "start_time": "2022-01-11T21:01:28.995Z"
   },
   {
    "duration": 10,
    "start_time": "2022-01-11T21:01:29.273Z"
   },
   {
    "duration": 41,
    "start_time": "2022-01-11T21:01:30.301Z"
   },
   {
    "duration": 73,
    "start_time": "2022-01-11T21:01:30.518Z"
   },
   {
    "duration": 32,
    "start_time": "2022-01-11T21:01:30.981Z"
   },
   {
    "duration": 33,
    "start_time": "2022-01-11T21:01:31.219Z"
   },
   {
    "duration": 36,
    "start_time": "2022-01-11T21:01:31.796Z"
   },
   {
    "duration": 25,
    "start_time": "2022-01-11T21:01:32.032Z"
   },
   {
    "duration": 41,
    "start_time": "2022-01-11T21:01:32.269Z"
   },
   {
    "duration": 30,
    "start_time": "2022-01-11T21:01:34.080Z"
   },
   {
    "duration": 33,
    "start_time": "2022-01-11T21:01:34.299Z"
   },
   {
    "duration": 41,
    "start_time": "2022-01-11T21:01:34.500Z"
   },
   {
    "duration": 310,
    "start_time": "2022-01-11T21:01:34.700Z"
   },
   {
    "duration": -128,
    "start_time": "2022-01-11T21:01:35.140Z"
   },
   {
    "duration": 12,
    "start_time": "2022-01-11T21:01:35.381Z"
   },
   {
    "duration": 280,
    "start_time": "2022-01-11T21:01:35.591Z"
   },
   {
    "duration": 47,
    "start_time": "2022-01-11T21:02:23.628Z"
   },
   {
    "duration": 10,
    "start_time": "2022-01-11T21:02:50.438Z"
   },
   {
    "duration": 1012,
    "start_time": "2022-01-12T11:16:37.055Z"
   },
   {
    "duration": 143,
    "start_time": "2022-01-12T11:16:38.069Z"
   },
   {
    "duration": 27,
    "start_time": "2022-01-12T11:16:38.214Z"
   },
   {
    "duration": 121,
    "start_time": "2022-01-12T11:16:38.243Z"
   },
   {
    "duration": 15,
    "start_time": "2022-01-12T11:16:38.365Z"
   },
   {
    "duration": 24,
    "start_time": "2022-01-12T11:16:38.381Z"
   },
   {
    "duration": 96,
    "start_time": "2022-01-12T11:16:38.407Z"
   },
   {
    "duration": 12,
    "start_time": "2022-01-12T11:16:38.505Z"
   },
   {
    "duration": 23,
    "start_time": "2022-01-12T11:16:38.526Z"
   },
   {
    "duration": 50,
    "start_time": "2022-01-12T11:16:38.550Z"
   },
   {
    "duration": 5,
    "start_time": "2022-01-12T11:16:38.601Z"
   },
   {
    "duration": 8,
    "start_time": "2022-01-12T11:16:38.607Z"
   },
   {
    "duration": 30,
    "start_time": "2022-01-12T11:16:38.616Z"
   },
   {
    "duration": 5,
    "start_time": "2022-01-12T11:16:38.648Z"
   },
   {
    "duration": 16,
    "start_time": "2022-01-12T11:16:38.654Z"
   },
   {
    "duration": 9,
    "start_time": "2022-01-12T11:16:38.671Z"
   },
   {
    "duration": 22,
    "start_time": "2022-01-12T11:16:38.682Z"
   },
   {
    "duration": 22,
    "start_time": "2022-01-12T11:16:38.705Z"
   },
   {
    "duration": 12,
    "start_time": "2022-01-12T11:16:38.728Z"
   },
   {
    "duration": 11,
    "start_time": "2022-01-12T11:16:38.741Z"
   },
   {
    "duration": 17,
    "start_time": "2022-01-12T11:16:38.753Z"
   },
   {
    "duration": 15,
    "start_time": "2022-01-12T11:16:38.771Z"
   },
   {
    "duration": 21,
    "start_time": "2022-01-12T11:16:38.788Z"
   },
   {
    "duration": 17,
    "start_time": "2022-01-12T11:16:38.811Z"
   },
   {
    "duration": 22,
    "start_time": "2022-01-12T11:16:38.829Z"
   },
   {
    "duration": 34,
    "start_time": "2022-01-12T11:16:38.852Z"
   },
   {
    "duration": 50,
    "start_time": "2022-01-12T11:16:38.888Z"
   },
   {
    "duration": 19,
    "start_time": "2022-01-12T11:16:38.939Z"
   },
   {
    "duration": 23,
    "start_time": "2022-01-12T11:16:38.959Z"
   },
   {
    "duration": 22,
    "start_time": "2022-01-12T11:16:38.983Z"
   },
   {
    "duration": 34,
    "start_time": "2022-01-12T11:16:39.007Z"
   },
   {
    "duration": 25,
    "start_time": "2022-01-12T11:16:39.042Z"
   },
   {
    "duration": 21,
    "start_time": "2022-01-12T11:16:39.068Z"
   },
   {
    "duration": 39,
    "start_time": "2022-01-12T11:16:39.090Z"
   },
   {
    "duration": 23,
    "start_time": "2022-01-12T11:16:39.130Z"
   },
   {
    "duration": 23,
    "start_time": "2022-01-12T11:16:39.155Z"
   },
   {
    "duration": 5,
    "start_time": "2022-01-12T11:16:39.179Z"
   },
   {
    "duration": 119,
    "start_time": "2022-01-12T11:16:39.185Z"
   },
   {
    "duration": -111,
    "start_time": "2022-01-12T11:16:39.417Z"
   },
   {
    "duration": -113,
    "start_time": "2022-01-12T11:16:39.420Z"
   },
   {
    "duration": -117,
    "start_time": "2022-01-12T11:16:39.425Z"
   },
   {
    "duration": 24,
    "start_time": "2022-01-12T11:16:57.421Z"
   },
   {
    "duration": 26,
    "start_time": "2022-01-12T11:17:00.738Z"
   },
   {
    "duration": 6,
    "start_time": "2022-01-12T11:17:06.560Z"
   },
   {
    "duration": 14,
    "start_time": "2022-01-12T11:17:16.312Z"
   },
   {
    "duration": 615,
    "start_time": "2022-01-12T11:29:34.431Z"
   },
   {
    "duration": 351,
    "start_time": "2022-01-12T11:30:09.453Z"
   },
   {
    "duration": 322,
    "start_time": "2022-01-12T11:30:26.135Z"
   },
   {
    "duration": 372,
    "start_time": "2022-01-12T11:31:19.234Z"
   },
   {
    "duration": 5,
    "start_time": "2022-01-12T11:31:29.204Z"
   },
   {
    "duration": 359,
    "start_time": "2022-01-12T11:31:38.332Z"
   },
   {
    "duration": 328,
    "start_time": "2022-01-12T11:32:35.944Z"
   },
   {
    "duration": 27,
    "start_time": "2022-01-12T11:32:45.766Z"
   },
   {
    "duration": 23,
    "start_time": "2022-01-12T11:32:47.385Z"
   },
   {
    "duration": 24,
    "start_time": "2022-01-12T11:33:13.433Z"
   },
   {
    "duration": 20,
    "start_time": "2022-01-12T11:33:28.360Z"
   },
   {
    "duration": 1084,
    "start_time": "2022-01-12T19:01:34.760Z"
   },
   {
    "duration": 158,
    "start_time": "2022-01-12T19:01:35.846Z"
   },
   {
    "duration": 22,
    "start_time": "2022-01-12T19:01:36.007Z"
   },
   {
    "duration": 144,
    "start_time": "2022-01-12T19:01:36.031Z"
   },
   {
    "duration": 16,
    "start_time": "2022-01-12T19:01:36.177Z"
   },
   {
    "duration": 15,
    "start_time": "2022-01-12T19:01:36.195Z"
   },
   {
    "duration": 107,
    "start_time": "2022-01-12T19:01:36.211Z"
   },
   {
    "duration": 14,
    "start_time": "2022-01-12T19:01:36.321Z"
   },
   {
    "duration": 30,
    "start_time": "2022-01-12T19:01:36.337Z"
   },
   {
    "duration": 45,
    "start_time": "2022-01-12T19:01:36.369Z"
   },
   {
    "duration": 10,
    "start_time": "2022-01-12T19:01:36.417Z"
   },
   {
    "duration": 8,
    "start_time": "2022-01-12T19:01:36.429Z"
   },
   {
    "duration": 59,
    "start_time": "2022-01-12T19:01:36.440Z"
   },
   {
    "duration": 7,
    "start_time": "2022-01-12T19:01:36.501Z"
   },
   {
    "duration": 27,
    "start_time": "2022-01-12T19:01:36.511Z"
   },
   {
    "duration": 33,
    "start_time": "2022-01-12T19:01:36.541Z"
   },
   {
    "duration": 23,
    "start_time": "2022-01-12T19:01:36.576Z"
   },
   {
    "duration": 10,
    "start_time": "2022-01-12T19:01:36.625Z"
   },
   {
    "duration": 15,
    "start_time": "2022-01-12T19:01:36.637Z"
   },
   {
    "duration": 13,
    "start_time": "2022-01-12T19:01:36.654Z"
   },
   {
    "duration": 17,
    "start_time": "2022-01-12T19:01:36.669Z"
   },
   {
    "duration": 12,
    "start_time": "2022-01-12T19:01:36.688Z"
   },
   {
    "duration": 12,
    "start_time": "2022-01-12T19:01:36.704Z"
   },
   {
    "duration": 8,
    "start_time": "2022-01-12T19:01:36.719Z"
   },
   {
    "duration": 34,
    "start_time": "2022-01-12T19:01:36.729Z"
   },
   {
    "duration": 38,
    "start_time": "2022-01-12T19:01:36.765Z"
   },
   {
    "duration": 71,
    "start_time": "2022-01-12T19:01:36.805Z"
   },
   {
    "duration": 23,
    "start_time": "2022-01-12T19:01:36.878Z"
   },
   {
    "duration": 24,
    "start_time": "2022-01-12T19:01:36.903Z"
   },
   {
    "duration": 46,
    "start_time": "2022-01-12T19:01:36.929Z"
   },
   {
    "duration": 17,
    "start_time": "2022-01-12T19:01:36.976Z"
   },
   {
    "duration": 38,
    "start_time": "2022-01-12T19:01:36.995Z"
   },
   {
    "duration": 51,
    "start_time": "2022-01-12T19:01:37.035Z"
   },
   {
    "duration": 31,
    "start_time": "2022-01-12T19:01:37.088Z"
   },
   {
    "duration": 60,
    "start_time": "2022-01-12T19:01:37.121Z"
   },
   {
    "duration": 37,
    "start_time": "2022-01-12T19:01:37.183Z"
   },
   {
    "duration": 349,
    "start_time": "2022-01-12T19:01:37.222Z"
   },
   {
    "duration": -416,
    "start_time": "2022-01-12T19:01:37.989Z"
   },
   {
    "duration": -422,
    "start_time": "2022-01-12T19:01:37.997Z"
   },
   {
    "duration": -427,
    "start_time": "2022-01-12T19:01:38.003Z"
   },
   {
    "duration": -432,
    "start_time": "2022-01-12T19:01:38.010Z"
   },
   {
    "duration": -435,
    "start_time": "2022-01-12T19:01:38.014Z"
   },
   {
    "duration": 22,
    "start_time": "2022-01-12T19:01:57.957Z"
   },
   {
    "duration": 6,
    "start_time": "2022-01-12T19:03:02.494Z"
   },
   {
    "duration": 1380,
    "start_time": "2022-01-12T19:03:15.142Z"
   },
   {
    "duration": 31,
    "start_time": "2022-01-12T19:03:26.175Z"
   },
   {
    "duration": 23,
    "start_time": "2022-01-12T19:03:27.167Z"
   },
   {
    "duration": 7,
    "start_time": "2022-01-12T19:03:35.943Z"
   },
   {
    "duration": 6,
    "start_time": "2022-01-12T19:03:38.264Z"
   },
   {
    "duration": 20,
    "start_time": "2022-01-12T19:04:13.746Z"
   },
   {
    "duration": 4,
    "start_time": "2022-01-12T19:55:53.440Z"
   },
   {
    "duration": 152,
    "start_time": "2022-01-12T19:57:21.244Z"
   },
   {
    "duration": 23,
    "start_time": "2022-01-12T19:57:22.690Z"
   },
   {
    "duration": 6,
    "start_time": "2022-01-12T19:57:57.301Z"
   },
   {
    "duration": 5,
    "start_time": "2022-01-12T19:58:39.495Z"
   },
   {
    "duration": 7,
    "start_time": "2022-01-12T19:59:22.177Z"
   },
   {
    "duration": 260,
    "start_time": "2022-01-12T20:05:21.872Z"
   },
   {
    "duration": 30,
    "start_time": "2022-01-12T20:05:27.812Z"
   },
   {
    "duration": 21,
    "start_time": "2022-01-12T20:05:28.028Z"
   },
   {
    "duration": 7897,
    "start_time": "2022-01-12T20:05:46.828Z"
   },
   {
    "duration": 8,
    "start_time": "2022-01-12T20:06:04.573Z"
   },
   {
    "duration": 163,
    "start_time": "2022-01-12T20:06:04.923Z"
   },
   {
    "duration": 2,
    "start_time": "2022-01-12T20:09:40.139Z"
   },
   {
    "duration": 24,
    "start_time": "2022-01-12T20:15:38.549Z"
   },
   {
    "duration": 5,
    "start_time": "2022-01-12T20:16:43.621Z"
   },
   {
    "duration": 5,
    "start_time": "2022-01-12T20:16:53.849Z"
   },
   {
    "duration": 4,
    "start_time": "2022-01-12T20:17:16.096Z"
   },
   {
    "duration": 3,
    "start_time": "2022-01-12T20:17:33.043Z"
   },
   {
    "duration": 185,
    "start_time": "2022-01-12T20:17:33.047Z"
   },
   {
    "duration": 30,
    "start_time": "2022-01-12T20:17:33.234Z"
   },
   {
    "duration": 148,
    "start_time": "2022-01-12T20:17:33.268Z"
   },
   {
    "duration": 16,
    "start_time": "2022-01-12T20:17:33.418Z"
   },
   {
    "duration": 38,
    "start_time": "2022-01-12T20:17:33.436Z"
   },
   {
    "duration": 106,
    "start_time": "2022-01-12T20:17:33.477Z"
   },
   {
    "duration": 15,
    "start_time": "2022-01-12T20:17:33.584Z"
   },
   {
    "duration": 45,
    "start_time": "2022-01-12T20:17:33.601Z"
   },
   {
    "duration": 60,
    "start_time": "2022-01-12T20:17:33.649Z"
   },
   {
    "duration": 10,
    "start_time": "2022-01-12T20:17:33.710Z"
   },
   {
    "duration": 28,
    "start_time": "2022-01-12T20:17:33.722Z"
   },
   {
    "duration": 45,
    "start_time": "2022-01-12T20:17:33.752Z"
   },
   {
    "duration": 4,
    "start_time": "2022-01-12T20:17:33.799Z"
   },
   {
    "duration": 26,
    "start_time": "2022-01-12T20:17:33.804Z"
   },
   {
    "duration": 28,
    "start_time": "2022-01-12T20:17:33.831Z"
   },
   {
    "duration": 53,
    "start_time": "2022-01-12T20:17:33.861Z"
   },
   {
    "duration": 4,
    "start_time": "2022-01-12T20:17:33.916Z"
   },
   {
    "duration": 33,
    "start_time": "2022-01-12T20:17:33.922Z"
   },
   {
    "duration": 17,
    "start_time": "2022-01-12T20:17:33.957Z"
   },
   {
    "duration": 30,
    "start_time": "2022-01-12T20:17:33.976Z"
   },
   {
    "duration": 14,
    "start_time": "2022-01-12T20:17:34.008Z"
   },
   {
    "duration": 18,
    "start_time": "2022-01-12T20:17:34.023Z"
   },
   {
    "duration": 38,
    "start_time": "2022-01-12T20:17:34.043Z"
   },
   {
    "duration": 29,
    "start_time": "2022-01-12T20:17:34.084Z"
   },
   {
    "duration": 52,
    "start_time": "2022-01-12T20:17:34.114Z"
   },
   {
    "duration": 55,
    "start_time": "2022-01-12T20:17:34.170Z"
   },
   {
    "duration": 35,
    "start_time": "2022-01-12T20:17:34.227Z"
   },
   {
    "duration": 28,
    "start_time": "2022-01-12T20:17:34.265Z"
   },
   {
    "duration": 45,
    "start_time": "2022-01-12T20:17:34.295Z"
   },
   {
    "duration": 47,
    "start_time": "2022-01-12T20:17:34.342Z"
   },
   {
    "duration": 26,
    "start_time": "2022-01-12T20:17:34.391Z"
   },
   {
    "duration": 30,
    "start_time": "2022-01-12T20:17:34.418Z"
   },
   {
    "duration": 33,
    "start_time": "2022-01-12T20:17:34.450Z"
   },
   {
    "duration": 64,
    "start_time": "2022-01-12T20:17:34.486Z"
   },
   {
    "duration": 278,
    "start_time": "2022-01-12T20:17:34.552Z"
   },
   {
    "duration": -413,
    "start_time": "2022-01-12T20:17:35.245Z"
   },
   {
    "duration": -415,
    "start_time": "2022-01-12T20:17:35.249Z"
   },
   {
    "duration": -418,
    "start_time": "2022-01-12T20:17:35.253Z"
   },
   {
    "duration": -421,
    "start_time": "2022-01-12T20:17:35.258Z"
   },
   {
    "duration": -424,
    "start_time": "2022-01-12T20:17:35.262Z"
   },
   {
    "duration": 3,
    "start_time": "2022-01-12T20:17:43.620Z"
   },
   {
    "duration": 191,
    "start_time": "2022-01-12T20:17:43.625Z"
   },
   {
    "duration": 20,
    "start_time": "2022-01-12T20:17:43.818Z"
   },
   {
    "duration": 149,
    "start_time": "2022-01-12T20:17:43.861Z"
   },
   {
    "duration": 16,
    "start_time": "2022-01-12T20:17:44.012Z"
   },
   {
    "duration": 68,
    "start_time": "2022-01-12T20:17:44.029Z"
   },
   {
    "duration": 108,
    "start_time": "2022-01-12T20:17:44.100Z"
   },
   {
    "duration": 14,
    "start_time": "2022-01-12T20:17:44.210Z"
   },
   {
    "duration": 47,
    "start_time": "2022-01-12T20:17:44.225Z"
   },
   {
    "duration": 74,
    "start_time": "2022-01-12T20:17:44.275Z"
   },
   {
    "duration": 34,
    "start_time": "2022-01-12T20:17:44.351Z"
   },
   {
    "duration": 29,
    "start_time": "2022-01-12T20:17:44.387Z"
   },
   {
    "duration": 88,
    "start_time": "2022-01-12T20:17:44.417Z"
   },
   {
    "duration": 12,
    "start_time": "2022-01-12T20:17:44.507Z"
   },
   {
    "duration": 48,
    "start_time": "2022-01-12T20:17:44.521Z"
   },
   {
    "duration": 32,
    "start_time": "2022-01-12T20:17:44.571Z"
   },
   {
    "duration": 50,
    "start_time": "2022-01-12T20:17:44.604Z"
   },
   {
    "duration": 41,
    "start_time": "2022-01-12T20:17:44.655Z"
   },
   {
    "duration": 50,
    "start_time": "2022-01-12T20:17:44.699Z"
   },
   {
    "duration": 43,
    "start_time": "2022-01-12T20:17:44.751Z"
   },
   {
    "duration": 36,
    "start_time": "2022-01-12T20:17:44.795Z"
   },
   {
    "duration": 46,
    "start_time": "2022-01-12T20:17:44.833Z"
   },
   {
    "duration": 52,
    "start_time": "2022-01-12T20:17:44.881Z"
   },
   {
    "duration": 22,
    "start_time": "2022-01-12T20:17:44.934Z"
   },
   {
    "duration": 34,
    "start_time": "2022-01-12T20:17:44.957Z"
   },
   {
    "duration": 76,
    "start_time": "2022-01-12T20:17:44.993Z"
   },
   {
    "duration": 50,
    "start_time": "2022-01-12T20:17:45.071Z"
   },
   {
    "duration": 21,
    "start_time": "2022-01-12T20:17:45.123Z"
   },
   {
    "duration": 41,
    "start_time": "2022-01-12T20:17:45.146Z"
   },
   {
    "duration": 27,
    "start_time": "2022-01-12T20:17:45.189Z"
   },
   {
    "duration": 17,
    "start_time": "2022-01-12T20:17:45.218Z"
   },
   {
    "duration": 48,
    "start_time": "2022-01-12T20:17:45.237Z"
   },
   {
    "duration": 19,
    "start_time": "2022-01-12T20:17:45.286Z"
   },
   {
    "duration": 62,
    "start_time": "2022-01-12T20:17:45.307Z"
   },
   {
    "duration": 34,
    "start_time": "2022-01-12T20:17:45.371Z"
   },
   {
    "duration": 266,
    "start_time": "2022-01-12T20:17:45.407Z"
   },
   {
    "duration": -401,
    "start_time": "2022-01-12T20:17:46.076Z"
   },
   {
    "duration": -406,
    "start_time": "2022-01-12T20:17:46.082Z"
   },
   {
    "duration": -411,
    "start_time": "2022-01-12T20:17:46.088Z"
   },
   {
    "duration": -457,
    "start_time": "2022-01-12T20:17:46.135Z"
   },
   {
    "duration": 1261,
    "start_time": "2022-01-12T20:17:54.539Z"
   },
   {
    "duration": 171,
    "start_time": "2022-01-12T20:17:55.802Z"
   },
   {
    "duration": 25,
    "start_time": "2022-01-12T20:17:55.975Z"
   },
   {
    "duration": 160,
    "start_time": "2022-01-12T20:17:56.002Z"
   },
   {
    "duration": 21,
    "start_time": "2022-01-12T20:17:56.164Z"
   },
   {
    "duration": 54,
    "start_time": "2022-01-12T20:17:56.187Z"
   },
   {
    "duration": 122,
    "start_time": "2022-01-12T20:17:56.242Z"
   },
   {
    "duration": 17,
    "start_time": "2022-01-12T20:17:56.369Z"
   },
   {
    "duration": 56,
    "start_time": "2022-01-12T20:17:56.389Z"
   },
   {
    "duration": 60,
    "start_time": "2022-01-12T20:17:56.446Z"
   },
   {
    "duration": 11,
    "start_time": "2022-01-12T20:17:56.508Z"
   },
   {
    "duration": 13,
    "start_time": "2022-01-12T20:17:56.520Z"
   },
   {
    "duration": 54,
    "start_time": "2022-01-12T20:17:56.534Z"
   },
   {
    "duration": 5,
    "start_time": "2022-01-12T20:17:56.591Z"
   },
   {
    "duration": 23,
    "start_time": "2022-01-12T20:17:56.598Z"
   },
   {
    "duration": 15,
    "start_time": "2022-01-12T20:17:56.623Z"
   },
   {
    "duration": 45,
    "start_time": "2022-01-12T20:17:56.640Z"
   },
   {
    "duration": 10,
    "start_time": "2022-01-12T20:17:56.687Z"
   },
   {
    "duration": 18,
    "start_time": "2022-01-12T20:17:56.700Z"
   },
   {
    "duration": 14,
    "start_time": "2022-01-12T20:17:56.720Z"
   },
   {
    "duration": 46,
    "start_time": "2022-01-12T20:17:56.736Z"
   },
   {
    "duration": 11,
    "start_time": "2022-01-12T20:17:56.784Z"
   },
   {
    "duration": 25,
    "start_time": "2022-01-12T20:17:56.799Z"
   },
   {
    "duration": 17,
    "start_time": "2022-01-12T20:17:56.826Z"
   },
   {
    "duration": 28,
    "start_time": "2022-01-12T20:17:56.845Z"
   },
   {
    "duration": 42,
    "start_time": "2022-01-12T20:17:56.875Z"
   },
   {
    "duration": 76,
    "start_time": "2022-01-12T20:17:56.919Z"
   },
   {
    "duration": 24,
    "start_time": "2022-01-12T20:17:56.996Z"
   },
   {
    "duration": 26,
    "start_time": "2022-01-12T20:17:57.022Z"
   },
   {
    "duration": 33,
    "start_time": "2022-01-12T20:17:57.061Z"
   },
   {
    "duration": 19,
    "start_time": "2022-01-12T20:17:57.095Z"
   },
   {
    "duration": 71,
    "start_time": "2022-01-12T20:17:57.116Z"
   },
   {
    "duration": 24,
    "start_time": "2022-01-12T20:17:57.189Z"
   },
   {
    "duration": 21,
    "start_time": "2022-01-12T20:17:57.215Z"
   },
   {
    "duration": 49,
    "start_time": "2022-01-12T20:17:57.237Z"
   },
   {
    "duration": 340,
    "start_time": "2022-01-12T20:17:57.288Z"
   },
   {
    "duration": -138,
    "start_time": "2022-01-12T20:17:57.767Z"
   },
   {
    "duration": -141,
    "start_time": "2022-01-12T20:17:57.772Z"
   },
   {
    "duration": -151,
    "start_time": "2022-01-12T20:17:57.783Z"
   },
   {
    "duration": -162,
    "start_time": "2022-01-12T20:17:57.795Z"
   },
   {
    "duration": 29,
    "start_time": "2022-01-12T20:18:11.978Z"
   },
   {
    "duration": 291,
    "start_time": "2022-01-12T20:18:13.301Z"
   },
   {
    "duration": 26,
    "start_time": "2022-01-12T20:19:39.784Z"
   },
   {
    "duration": 26,
    "start_time": "2022-01-12T20:20:40.118Z"
   },
   {
    "duration": 21,
    "start_time": "2022-01-12T20:20:45.830Z"
   },
   {
    "duration": 5,
    "start_time": "2022-01-12T20:21:36.925Z"
   },
   {
    "duration": 32,
    "start_time": "2022-01-12T20:22:02.206Z"
   },
   {
    "duration": 21,
    "start_time": "2022-01-12T20:22:03.216Z"
   },
   {
    "duration": 6,
    "start_time": "2022-01-12T20:22:11.573Z"
   },
   {
    "duration": 4,
    "start_time": "2022-01-12T20:22:14.136Z"
   },
   {
    "duration": 22,
    "start_time": "2022-01-12T20:23:24.674Z"
   },
   {
    "duration": 21,
    "start_time": "2022-01-12T20:23:25.578Z"
   },
   {
    "duration": 33,
    "start_time": "2022-01-12T20:23:26.137Z"
   },
   {
    "duration": 36,
    "start_time": "2022-01-12T20:23:26.784Z"
   },
   {
    "duration": 25,
    "start_time": "2022-01-12T20:23:27.349Z"
   },
   {
    "duration": 6,
    "start_time": "2022-01-12T20:23:28.459Z"
   },
   {
    "duration": 5,
    "start_time": "2022-01-12T20:25:03.574Z"
   },
   {
    "duration": 7644,
    "start_time": "2022-01-12T20:25:32.299Z"
   },
   {
    "duration": 22,
    "start_time": "2022-01-12T20:26:23.629Z"
   },
   {
    "duration": 26,
    "start_time": "2022-01-12T20:26:26.178Z"
   },
   {
    "duration": 5,
    "start_time": "2022-01-12T20:26:29.481Z"
   },
   {
    "duration": 19,
    "start_time": "2022-01-12T20:26:46.900Z"
   },
   {
    "duration": 37,
    "start_time": "2022-01-12T20:26:55.350Z"
   },
   {
    "duration": 26,
    "start_time": "2022-01-12T20:26:55.752Z"
   },
   {
    "duration": 18,
    "start_time": "2022-01-12T20:26:56.213Z"
   },
   {
    "duration": 5,
    "start_time": "2022-01-12T20:26:56.944Z"
   },
   {
    "duration": 26,
    "start_time": "2022-01-12T20:26:57.732Z"
   },
   {
    "duration": 6,
    "start_time": "2022-01-12T20:27:07.357Z"
   },
   {
    "duration": 26,
    "start_time": "2022-01-12T20:27:08.275Z"
   },
   {
    "duration": 29,
    "start_time": "2022-01-12T20:27:28.229Z"
   },
   {
    "duration": 58,
    "start_time": "2022-01-12T20:27:28.779Z"
   },
   {
    "duration": 32,
    "start_time": "2022-01-12T20:27:31.248Z"
   },
   {
    "duration": 28,
    "start_time": "2022-01-12T20:27:31.933Z"
   },
   {
    "duration": 25,
    "start_time": "2022-01-12T20:27:33.673Z"
   },
   {
    "duration": 16,
    "start_time": "2022-01-12T20:27:34.500Z"
   },
   {
    "duration": 31,
    "start_time": "2022-01-12T20:27:37.007Z"
   },
   {
    "duration": 20,
    "start_time": "2022-01-12T20:27:37.601Z"
   },
   {
    "duration": 18,
    "start_time": "2022-01-12T20:27:38.500Z"
   },
   {
    "duration": 5,
    "start_time": "2022-01-12T20:27:40.986Z"
   },
   {
    "duration": 28,
    "start_time": "2022-01-12T20:27:41.721Z"
   },
   {
    "duration": 41,
    "start_time": "2022-01-12T20:27:42.445Z"
   },
   {
    "duration": 23,
    "start_time": "2022-01-12T20:27:46.874Z"
   },
   {
    "duration": 4,
    "start_time": "2022-01-12T20:27:48.449Z"
   },
   {
    "duration": 423,
    "start_time": "2022-01-12T20:28:00.586Z"
   },
   {
    "duration": 268,
    "start_time": "2022-01-12T20:28:03.807Z"
   },
   {
    "duration": 32,
    "start_time": "2022-01-12T20:28:12.317Z"
   },
   {
    "duration": 25,
    "start_time": "2022-01-12T20:28:17.877Z"
   },
   {
    "duration": 17,
    "start_time": "2022-01-12T20:28:23.537Z"
   },
   {
    "duration": 9,
    "start_time": "2022-01-12T20:28:28.827Z"
   },
   {
    "duration": 33,
    "start_time": "2022-01-12T20:28:38.612Z"
   },
   {
    "duration": 22,
    "start_time": "2022-01-12T20:28:38.888Z"
   },
   {
    "duration": 4,
    "start_time": "2022-01-12T20:28:39.113Z"
   },
   {
    "duration": 7,
    "start_time": "2022-01-12T20:28:51.737Z"
   },
   {
    "duration": 101,
    "start_time": "2022-01-12T20:28:52.532Z"
   },
   {
    "duration": 28,
    "start_time": "2022-01-12T20:29:01.777Z"
   },
   {
    "duration": 33,
    "start_time": "2022-01-12T20:30:04.074Z"
   },
   {
    "duration": 57,
    "start_time": "2022-01-12T20:30:06.171Z"
   },
   {
    "duration": 75,
    "start_time": "2022-01-12T20:30:20.433Z"
   },
   {
    "duration": 22,
    "start_time": "2022-01-12T20:30:21.234Z"
   },
   {
    "duration": 28,
    "start_time": "2022-01-12T20:30:21.627Z"
   },
   {
    "duration": 33,
    "start_time": "2022-01-12T20:30:23.644Z"
   },
   {
    "duration": 17,
    "start_time": "2022-01-12T20:30:28.174Z"
   },
   {
    "duration": 34,
    "start_time": "2022-01-12T20:30:28.823Z"
   },
   {
    "duration": 14,
    "start_time": "2022-01-12T20:30:31.722Z"
   },
   {
    "duration": 23,
    "start_time": "2022-01-12T20:30:33.371Z"
   },
   {
    "duration": 6943,
    "start_time": "2022-01-12T20:30:36.243Z"
   },
   {
    "duration": -102,
    "start_time": "2022-01-12T20:30:43.291Z"
   },
   {
    "duration": -110,
    "start_time": "2022-01-12T20:30:43.300Z"
   },
   {
    "duration": -115,
    "start_time": "2022-01-12T20:30:43.305Z"
   },
   {
    "duration": -119,
    "start_time": "2022-01-12T20:30:43.310Z"
   },
   {
    "duration": -125,
    "start_time": "2022-01-12T20:30:43.317Z"
   },
   {
    "duration": -129,
    "start_time": "2022-01-12T20:30:43.322Z"
   },
   {
    "duration": -132,
    "start_time": "2022-01-12T20:30:43.326Z"
   },
   {
    "duration": 30,
    "start_time": "2022-01-12T20:30:52.035Z"
   },
   {
    "duration": 29,
    "start_time": "2022-01-12T20:30:52.605Z"
   },
   {
    "duration": 30,
    "start_time": "2022-01-12T20:30:53.165Z"
   },
   {
    "duration": 6,
    "start_time": "2022-01-12T20:30:53.886Z"
   },
   {
    "duration": 102,
    "start_time": "2022-01-12T20:30:54.590Z"
   },
   {
    "duration": 32,
    "start_time": "2022-01-12T20:30:56.958Z"
   },
   {
    "duration": 267,
    "start_time": "2022-01-12T20:31:45.430Z"
   },
   {
    "duration": 4,
    "start_time": "2022-01-12T20:31:54.175Z"
   },
   {
    "duration": 18,
    "start_time": "2022-01-12T20:32:06.511Z"
   },
   {
    "duration": 24,
    "start_time": "2022-01-12T20:32:33.152Z"
   },
   {
    "duration": 31,
    "start_time": "2022-01-12T20:33:04.549Z"
   },
   {
    "duration": 20,
    "start_time": "2022-01-12T20:33:21.174Z"
   },
   {
    "duration": 79,
    "start_time": "2022-01-12T20:49:41.074Z"
   },
   {
    "duration": 102,
    "start_time": "2022-01-12T20:49:54.409Z"
   },
   {
    "duration": 41,
    "start_time": "2022-01-12T20:50:08.536Z"
   },
   {
    "duration": 31,
    "start_time": "2022-01-12T20:50:19.694Z"
   },
   {
    "duration": 1086,
    "start_time": "2022-01-12T20:50:32.728Z"
   },
   {
    "duration": 30,
    "start_time": "2022-01-12T20:50:55.812Z"
   },
   {
    "duration": 1045,
    "start_time": "2022-01-12T20:50:56.080Z"
   },
   {
    "duration": 259,
    "start_time": "2022-01-12T20:55:43.272Z"
   },
   {
    "duration": 67,
    "start_time": "2022-01-12T20:55:51.027Z"
   },
   {
    "duration": 1096,
    "start_time": "2022-01-12T20:56:02.995Z"
   },
   {
    "duration": 63,
    "start_time": "2022-01-12T20:56:12.246Z"
   },
   {
    "duration": 65,
    "start_time": "2022-01-12T20:56:17.610Z"
   },
   {
    "duration": 23,
    "start_time": "2022-01-12T20:56:18.922Z"
   },
   {
    "duration": 26,
    "start_time": "2022-01-12T20:56:28.304Z"
   },
   {
    "duration": 35,
    "start_time": "2022-01-12T20:56:29.746Z"
   },
   {
    "duration": 17,
    "start_time": "2022-01-12T20:56:30.076Z"
   },
   {
    "duration": 36,
    "start_time": "2022-01-12T20:56:30.312Z"
   },
   {
    "duration": 10,
    "start_time": "2022-01-12T20:56:31.382Z"
   },
   {
    "duration": 33,
    "start_time": "2022-01-12T20:56:41.346Z"
   },
   {
    "duration": 29,
    "start_time": "2022-01-12T20:56:45.935Z"
   },
   {
    "duration": 26,
    "start_time": "2022-01-12T20:56:56.789Z"
   },
   {
    "duration": 26,
    "start_time": "2022-01-12T20:56:59.796Z"
   },
   {
    "duration": 20,
    "start_time": "2022-01-12T20:57:03.308Z"
   },
   {
    "duration": 7,
    "start_time": "2022-01-12T20:57:07.598Z"
   },
   {
    "duration": 128,
    "start_time": "2022-01-12T20:57:08.440Z"
   },
   {
    "duration": 21,
    "start_time": "2022-01-12T20:57:22.303Z"
   },
   {
    "duration": 19,
    "start_time": "2022-01-12T20:57:27.982Z"
   },
   {
    "duration": 260,
    "start_time": "2022-01-12T21:02:19.390Z"
   },
   {
    "duration": 20,
    "start_time": "2022-01-12T21:02:26.039Z"
   },
   {
    "duration": 1434,
    "start_time": "2022-01-13T09:57:55.019Z"
   },
   {
    "duration": 219,
    "start_time": "2022-01-13T09:57:56.456Z"
   },
   {
    "duration": 26,
    "start_time": "2022-01-13T09:57:56.678Z"
   },
   {
    "duration": 193,
    "start_time": "2022-01-13T09:57:56.707Z"
   },
   {
    "duration": 23,
    "start_time": "2022-01-13T09:57:56.902Z"
   },
   {
    "duration": 48,
    "start_time": "2022-01-13T09:57:56.927Z"
   },
   {
    "duration": 127,
    "start_time": "2022-01-13T09:57:56.977Z"
   },
   {
    "duration": 19,
    "start_time": "2022-01-13T09:57:57.109Z"
   },
   {
    "duration": 41,
    "start_time": "2022-01-13T09:57:57.131Z"
   },
   {
    "duration": 55,
    "start_time": "2022-01-13T09:57:57.174Z"
   },
   {
    "duration": 10,
    "start_time": "2022-01-13T09:57:57.232Z"
   },
   {
    "duration": 16,
    "start_time": "2022-01-13T09:57:57.245Z"
   },
   {
    "duration": 45,
    "start_time": "2022-01-13T09:57:57.264Z"
   },
   {
    "duration": 7,
    "start_time": "2022-01-13T09:57:57.312Z"
   },
   {
    "duration": 56,
    "start_time": "2022-01-13T09:57:57.322Z"
   },
   {
    "duration": 15,
    "start_time": "2022-01-13T09:57:57.381Z"
   },
   {
    "duration": 68,
    "start_time": "2022-01-13T09:57:57.399Z"
   },
   {
    "duration": 13,
    "start_time": "2022-01-13T09:57:57.470Z"
   },
   {
    "duration": 21,
    "start_time": "2022-01-13T09:57:57.485Z"
   },
   {
    "duration": 50,
    "start_time": "2022-01-13T09:57:57.509Z"
   },
   {
    "duration": 28,
    "start_time": "2022-01-13T09:57:57.561Z"
   },
   {
    "duration": 17,
    "start_time": "2022-01-13T09:57:57.591Z"
   },
   {
    "duration": 51,
    "start_time": "2022-01-13T09:57:57.615Z"
   },
   {
    "duration": 8,
    "start_time": "2022-01-13T09:57:57.670Z"
   },
   {
    "duration": 11,
    "start_time": "2022-01-13T09:57:57.681Z"
   },
   {
    "duration": 84,
    "start_time": "2022-01-13T09:57:57.695Z"
   },
   {
    "duration": 100,
    "start_time": "2022-01-13T09:57:57.782Z"
   },
   {
    "duration": 33,
    "start_time": "2022-01-13T09:57:57.888Z"
   },
   {
    "duration": 53,
    "start_time": "2022-01-13T09:57:57.923Z"
   },
   {
    "duration": 37,
    "start_time": "2022-01-13T09:57:57.979Z"
   },
   {
    "duration": 51,
    "start_time": "2022-01-13T09:57:58.018Z"
   },
   {
    "duration": 41,
    "start_time": "2022-01-13T09:57:58.071Z"
   },
   {
    "duration": 14,
    "start_time": "2022-01-13T09:57:58.115Z"
   },
   {
    "duration": 33,
    "start_time": "2022-01-13T09:57:58.160Z"
   },
   {
    "duration": 68,
    "start_time": "2022-01-13T09:57:58.196Z"
   },
   {
    "duration": 42,
    "start_time": "2022-01-13T09:57:58.267Z"
   },
   {
    "duration": 49,
    "start_time": "2022-01-13T09:57:58.312Z"
   },
   {
    "duration": 9,
    "start_time": "2022-01-13T09:57:58.363Z"
   },
   {
    "duration": 201,
    "start_time": "2022-01-13T09:57:58.375Z"
   },
   {
    "duration": 34,
    "start_time": "2022-01-13T09:57:58.578Z"
   },
   {
    "duration": 50,
    "start_time": "2022-01-13T09:57:58.614Z"
   },
   {
    "duration": 29,
    "start_time": "2022-01-13T09:57:58.667Z"
   },
   {
    "duration": 224,
    "start_time": "2022-01-13T10:02:50.339Z"
   },
   {
    "duration": 608,
    "start_time": "2022-01-13T10:03:03.579Z"
   },
   {
    "duration": 4,
    "start_time": "2022-01-13T10:03:08.127Z"
   },
   {
    "duration": 232,
    "start_time": "2022-01-13T10:03:08.137Z"
   },
   {
    "duration": 29,
    "start_time": "2022-01-13T10:03:08.372Z"
   },
   {
    "duration": 213,
    "start_time": "2022-01-13T10:03:08.404Z"
   },
   {
    "duration": 22,
    "start_time": "2022-01-13T10:03:08.620Z"
   },
   {
    "duration": 38,
    "start_time": "2022-01-13T10:03:08.645Z"
   },
   {
    "duration": 137,
    "start_time": "2022-01-13T10:03:08.686Z"
   },
   {
    "duration": 18,
    "start_time": "2022-01-13T10:03:08.826Z"
   },
   {
    "duration": 29,
    "start_time": "2022-01-13T10:03:08.861Z"
   },
   {
    "duration": 55,
    "start_time": "2022-01-13T10:03:08.893Z"
   },
   {
    "duration": 9,
    "start_time": "2022-01-13T10:03:08.950Z"
   },
   {
    "duration": 16,
    "start_time": "2022-01-13T10:03:08.962Z"
   },
   {
    "duration": 44,
    "start_time": "2022-01-13T10:03:08.981Z"
   },
   {
    "duration": 7,
    "start_time": "2022-01-13T10:03:09.028Z"
   },
   {
    "duration": 46,
    "start_time": "2022-01-13T10:03:09.037Z"
   },
   {
    "duration": 15,
    "start_time": "2022-01-13T10:03:09.085Z"
   },
   {
    "duration": 59,
    "start_time": "2022-01-13T10:03:09.102Z"
   },
   {
    "duration": 6,
    "start_time": "2022-01-13T10:03:09.164Z"
   },
   {
    "duration": 26,
    "start_time": "2022-01-13T10:03:09.172Z"
   },
   {
    "duration": 17,
    "start_time": "2022-01-13T10:03:09.200Z"
   },
   {
    "duration": 52,
    "start_time": "2022-01-13T10:03:09.219Z"
   },
   {
    "duration": 15,
    "start_time": "2022-01-13T10:03:09.274Z"
   },
   {
    "duration": 13,
    "start_time": "2022-01-13T10:03:09.291Z"
   },
   {
    "duration": 6,
    "start_time": "2022-01-13T10:03:09.309Z"
   },
   {
    "duration": 43,
    "start_time": "2022-01-13T10:03:09.317Z"
   },
   {
    "duration": 45,
    "start_time": "2022-01-13T10:03:09.363Z"
   },
   {
    "duration": 94,
    "start_time": "2022-01-13T10:03:09.411Z"
   },
   {
    "duration": 33,
    "start_time": "2022-01-13T10:03:09.507Z"
   },
   {
    "duration": 40,
    "start_time": "2022-01-13T10:03:09.559Z"
   },
   {
    "duration": 58,
    "start_time": "2022-01-13T10:03:09.601Z"
   },
   {
    "duration": 28,
    "start_time": "2022-01-13T10:03:09.663Z"
   },
   {
    "duration": 64,
    "start_time": "2022-01-13T10:03:09.695Z"
   },
   {
    "duration": 17,
    "start_time": "2022-01-13T10:03:09.761Z"
   },
   {
    "duration": 31,
    "start_time": "2022-01-13T10:03:09.780Z"
   },
   {
    "duration": 73,
    "start_time": "2022-01-13T10:03:09.813Z"
   },
   {
    "duration": 42,
    "start_time": "2022-01-13T10:03:09.889Z"
   },
   {
    "duration": 53,
    "start_time": "2022-01-13T10:03:09.933Z"
   },
   {
    "duration": 8,
    "start_time": "2022-01-13T10:03:09.989Z"
   },
   {
    "duration": 210,
    "start_time": "2022-01-13T10:03:09.999Z"
   },
   {
    "duration": 50,
    "start_time": "2022-01-13T10:03:10.211Z"
   },
   {
    "duration": 31,
    "start_time": "2022-01-13T10:03:10.264Z"
   },
   {
    "duration": 29,
    "start_time": "2022-01-13T10:03:10.298Z"
   },
   {
    "duration": 183,
    "start_time": "2022-01-13T10:07:18.887Z"
   },
   {
    "duration": 38,
    "start_time": "2022-01-13T10:21:37.786Z"
   },
   {
    "duration": 31,
    "start_time": "2022-01-13T10:22:35.306Z"
   },
   {
    "duration": 35,
    "start_time": "2022-01-13T10:25:16.106Z"
   },
   {
    "duration": 32,
    "start_time": "2022-01-13T11:11:05.139Z"
   },
   {
    "duration": 31,
    "start_time": "2022-01-13T11:12:31.713Z"
   },
   {
    "duration": 34,
    "start_time": "2022-01-13T11:13:46.012Z"
   },
   {
    "duration": 33,
    "start_time": "2022-01-13T11:16:29.512Z"
   },
   {
    "duration": 1093,
    "start_time": "2022-01-14T10:15:00.295Z"
   },
   {
    "duration": 174,
    "start_time": "2022-01-14T10:15:01.391Z"
   },
   {
    "duration": 25,
    "start_time": "2022-01-14T10:15:01.567Z"
   },
   {
    "duration": 139,
    "start_time": "2022-01-14T10:15:01.594Z"
   },
   {
    "duration": 16,
    "start_time": "2022-01-14T10:15:01.735Z"
   },
   {
    "duration": 16,
    "start_time": "2022-01-14T10:15:01.753Z"
   },
   {
    "duration": 105,
    "start_time": "2022-01-14T10:15:01.770Z"
   },
   {
    "duration": 17,
    "start_time": "2022-01-14T10:15:01.878Z"
   },
   {
    "duration": 23,
    "start_time": "2022-01-14T10:15:01.897Z"
   },
   {
    "duration": 44,
    "start_time": "2022-01-14T10:15:01.921Z"
   },
   {
    "duration": 5,
    "start_time": "2022-01-14T10:15:01.967Z"
   },
   {
    "duration": 10,
    "start_time": "2022-01-14T10:15:01.973Z"
   },
   {
    "duration": 37,
    "start_time": "2022-01-14T10:15:01.984Z"
   },
   {
    "duration": 6,
    "start_time": "2022-01-14T10:15:02.022Z"
   },
   {
    "duration": 23,
    "start_time": "2022-01-14T10:15:02.029Z"
   },
   {
    "duration": 11,
    "start_time": "2022-01-14T10:15:02.054Z"
   },
   {
    "duration": 40,
    "start_time": "2022-01-14T10:15:02.066Z"
   },
   {
    "duration": 6,
    "start_time": "2022-01-14T10:15:02.108Z"
   },
   {
    "duration": 37,
    "start_time": "2022-01-14T10:15:02.116Z"
   },
   {
    "duration": 12,
    "start_time": "2022-01-14T10:15:02.155Z"
   },
   {
    "duration": 29,
    "start_time": "2022-01-14T10:15:02.169Z"
   },
   {
    "duration": 11,
    "start_time": "2022-01-14T10:15:02.200Z"
   },
   {
    "duration": 30,
    "start_time": "2022-01-14T10:15:02.214Z"
   },
   {
    "duration": 18,
    "start_time": "2022-01-14T10:15:02.246Z"
   },
   {
    "duration": 10,
    "start_time": "2022-01-14T10:15:02.266Z"
   },
   {
    "duration": 33,
    "start_time": "2022-01-14T10:15:02.277Z"
   },
   {
    "duration": 53,
    "start_time": "2022-01-14T10:15:02.311Z"
   },
   {
    "duration": 38,
    "start_time": "2022-01-14T10:15:02.366Z"
   },
   {
    "duration": 32,
    "start_time": "2022-01-14T10:15:02.406Z"
   },
   {
    "duration": 39,
    "start_time": "2022-01-14T10:15:02.440Z"
   },
   {
    "duration": 38,
    "start_time": "2022-01-14T10:15:02.481Z"
   },
   {
    "duration": 44,
    "start_time": "2022-01-14T10:15:02.521Z"
   },
   {
    "duration": 25,
    "start_time": "2022-01-14T10:15:02.568Z"
   },
   {
    "duration": 37,
    "start_time": "2022-01-14T10:15:02.595Z"
   },
   {
    "duration": 44,
    "start_time": "2022-01-14T10:15:02.634Z"
   },
   {
    "duration": 32,
    "start_time": "2022-01-14T10:15:02.692Z"
   },
   {
    "duration": 20,
    "start_time": "2022-01-14T10:15:02.725Z"
   },
   {
    "duration": 5,
    "start_time": "2022-01-14T10:15:02.747Z"
   },
   {
    "duration": 139,
    "start_time": "2022-01-14T10:15:02.754Z"
   },
   {
    "duration": 22,
    "start_time": "2022-01-14T10:15:02.895Z"
   },
   {
    "duration": 110,
    "start_time": "2022-01-14T10:15:17.444Z"
   },
   {
    "duration": 23,
    "start_time": "2022-01-14T10:15:39.542Z"
   },
   {
    "duration": 21,
    "start_time": "2022-01-14T10:16:21.635Z"
   },
   {
    "duration": 21,
    "start_time": "2022-01-14T10:17:34.360Z"
   },
   {
    "duration": 21,
    "start_time": "2022-01-14T10:18:12.735Z"
   },
   {
    "duration": 30,
    "start_time": "2022-01-14T10:27:13.141Z"
   },
   {
    "duration": 28,
    "start_time": "2022-01-14T10:32:10.883Z"
   },
   {
    "duration": 36,
    "start_time": "2022-01-14T10:39:50.540Z"
   },
   {
    "duration": 19,
    "start_time": "2022-01-14T10:40:18.891Z"
   },
   {
    "duration": 19,
    "start_time": "2022-01-14T10:40:41.542Z"
   },
   {
    "duration": 28,
    "start_time": "2022-01-14T10:42:11.604Z"
   },
   {
    "duration": 32,
    "start_time": "2022-01-14T10:45:12.062Z"
   },
   {
    "duration": 6,
    "start_time": "2022-01-14T10:55:14.312Z"
   },
   {
    "duration": 6,
    "start_time": "2022-01-14T10:56:06.871Z"
   },
   {
    "duration": 4724,
    "start_time": "2022-01-14T11:00:24.955Z"
   },
   {
    "duration": 26,
    "start_time": "2022-01-14T11:00:55.713Z"
   },
   {
    "duration": 17,
    "start_time": "2022-01-14T11:00:55.975Z"
   },
   {
    "duration": 25,
    "start_time": "2022-01-14T11:00:56.151Z"
   },
   {
    "duration": 10,
    "start_time": "2022-01-14T11:00:56.369Z"
   },
   {
    "duration": 23,
    "start_time": "2022-01-14T11:00:57.456Z"
   },
   {
    "duration": 27,
    "start_time": "2022-01-14T11:00:58.969Z"
   },
   {
    "duration": 29,
    "start_time": "2022-01-14T11:00:59.689Z"
   },
   {
    "duration": 20,
    "start_time": "2022-01-14T11:01:00.980Z"
   },
   {
    "duration": 6,
    "start_time": "2022-01-14T11:01:03.380Z"
   },
   {
    "duration": 5701,
    "start_time": "2022-01-14T11:01:05.385Z"
   },
   {
    "duration": 4,
    "start_time": "2022-01-14T11:01:13.700Z"
   },
   {
    "duration": 5,
    "start_time": "2022-01-14T11:01:47.647Z"
   },
   {
    "duration": 6,
    "start_time": "2022-01-14T11:01:53.499Z"
   },
   {
    "duration": 7,
    "start_time": "2022-01-14T11:02:02.110Z"
   },
   {
    "duration": 107,
    "start_time": "2022-01-14T11:02:02.350Z"
   },
   {
    "duration": 5,
    "start_time": "2022-01-14T11:02:13.381Z"
   },
   {
    "duration": 104,
    "start_time": "2022-01-14T11:02:13.617Z"
   },
   {
    "duration": 28,
    "start_time": "2022-01-14T11:02:15.687Z"
   },
   {
    "duration": 8,
    "start_time": "2022-01-14T11:03:31.043Z"
   },
   {
    "duration": 6,
    "start_time": "2022-01-14T11:03:54.852Z"
   },
   {
    "duration": 8,
    "start_time": "2022-01-14T11:04:02.251Z"
   },
   {
    "duration": 7,
    "start_time": "2022-01-14T11:04:02.817Z"
   },
   {
    "duration": 9,
    "start_time": "2022-01-14T11:04:03.681Z"
   },
   {
    "duration": 6,
    "start_time": "2022-01-14T11:04:34.170Z"
   },
   {
    "duration": 105,
    "start_time": "2022-01-14T11:04:34.672Z"
   },
   {
    "duration": 28,
    "start_time": "2022-01-14T11:04:39.154Z"
   },
   {
    "duration": 4500,
    "start_time": "2022-01-14T11:04:40.081Z"
   },
   {
    "duration": 26,
    "start_time": "2022-01-14T11:07:01.411Z"
   },
   {
    "duration": 23,
    "start_time": "2022-01-14T11:07:12.309Z"
   },
   {
    "duration": 24,
    "start_time": "2022-01-14T11:21:02.695Z"
   },
   {
    "duration": 10,
    "start_time": "2022-01-14T11:21:21.206Z"
   },
   {
    "duration": 8,
    "start_time": "2022-01-14T11:21:28.599Z"
   },
   {
    "duration": 10,
    "start_time": "2022-01-14T11:21:31.290Z"
   },
   {
    "duration": 194,
    "start_time": "2022-01-14T11:23:03.570Z"
   },
   {
    "duration": 238,
    "start_time": "2022-01-14T11:23:11.420Z"
   },
   {
    "duration": 203,
    "start_time": "2022-01-14T11:23:25.190Z"
   },
   {
    "duration": 539,
    "start_time": "2022-01-14T11:23:35.294Z"
   },
   {
    "duration": 549,
    "start_time": "2022-01-14T11:24:57.521Z"
   },
   {
    "duration": 8,
    "start_time": "2022-01-14T11:25:01.771Z"
   },
   {
    "duration": 198,
    "start_time": "2022-01-14T11:25:03.207Z"
   },
   {
    "duration": 9,
    "start_time": "2022-01-14T11:25:03.824Z"
   },
   {
    "duration": 218,
    "start_time": "2022-01-14T11:25:11.461Z"
   },
   {
    "duration": 607,
    "start_time": "2022-01-14T11:25:27.026Z"
   },
   {
    "duration": 182,
    "start_time": "2022-01-14T11:25:33.410Z"
   },
   {
    "duration": 41,
    "start_time": "2022-01-14T11:27:00.515Z"
   },
   {
    "duration": 10,
    "start_time": "2022-01-14T11:27:11.235Z"
   },
   {
    "duration": 9,
    "start_time": "2022-01-14T11:27:15.952Z"
   },
   {
    "duration": 1355,
    "start_time": "2022-01-14T18:50:47.959Z"
   },
   {
    "duration": 217,
    "start_time": "2022-01-14T18:50:49.317Z"
   },
   {
    "duration": 36,
    "start_time": "2022-01-14T18:50:49.537Z"
   },
   {
    "duration": 185,
    "start_time": "2022-01-14T18:50:49.575Z"
   },
   {
    "duration": 24,
    "start_time": "2022-01-14T18:50:49.763Z"
   },
   {
    "duration": 25,
    "start_time": "2022-01-14T18:50:49.789Z"
   },
   {
    "duration": 148,
    "start_time": "2022-01-14T18:50:49.816Z"
   },
   {
    "duration": 21,
    "start_time": "2022-01-14T18:50:49.968Z"
   },
   {
    "duration": 28,
    "start_time": "2022-01-14T18:50:49.993Z"
   },
   {
    "duration": 57,
    "start_time": "2022-01-14T18:50:50.024Z"
   },
   {
    "duration": 8,
    "start_time": "2022-01-14T18:50:50.084Z"
   },
   {
    "duration": 9,
    "start_time": "2022-01-14T18:50:50.094Z"
   },
   {
    "duration": 77,
    "start_time": "2022-01-14T18:50:50.105Z"
   },
   {
    "duration": 6,
    "start_time": "2022-01-14T18:50:50.184Z"
   },
   {
    "duration": 23,
    "start_time": "2022-01-14T18:50:50.193Z"
   },
   {
    "duration": 14,
    "start_time": "2022-01-14T18:50:50.218Z"
   },
   {
    "duration": 30,
    "start_time": "2022-01-14T18:50:50.260Z"
   },
   {
    "duration": 11,
    "start_time": "2022-01-14T18:50:50.292Z"
   },
   {
    "duration": 16,
    "start_time": "2022-01-14T18:50:50.306Z"
   },
   {
    "duration": 48,
    "start_time": "2022-01-14T18:50:50.324Z"
   },
   {
    "duration": 25,
    "start_time": "2022-01-14T18:50:50.374Z"
   },
   {
    "duration": 14,
    "start_time": "2022-01-14T18:50:50.402Z"
   },
   {
    "duration": 47,
    "start_time": "2022-01-14T18:50:50.423Z"
   },
   {
    "duration": 12,
    "start_time": "2022-01-14T18:50:50.473Z"
   },
   {
    "duration": 11,
    "start_time": "2022-01-14T18:50:50.488Z"
   },
   {
    "duration": 67,
    "start_time": "2022-01-14T18:50:50.501Z"
   },
   {
    "duration": 94,
    "start_time": "2022-01-14T18:50:50.570Z"
   },
   {
    "duration": 33,
    "start_time": "2022-01-14T18:50:50.667Z"
   },
   {
    "duration": 65,
    "start_time": "2022-01-14T18:50:50.702Z"
   },
   {
    "duration": 37,
    "start_time": "2022-01-14T18:50:50.769Z"
   },
   {
    "duration": 50,
    "start_time": "2022-01-14T18:50:50.809Z"
   },
   {
    "duration": 41,
    "start_time": "2022-01-14T18:50:50.861Z"
   },
   {
    "duration": 14,
    "start_time": "2022-01-14T18:50:50.905Z"
   },
   {
    "duration": 61,
    "start_time": "2022-01-14T18:50:50.921Z"
   },
   {
    "duration": 45,
    "start_time": "2022-01-14T18:50:50.984Z"
   },
   {
    "duration": 84,
    "start_time": "2022-01-14T18:50:51.031Z"
   },
   {
    "duration": 47,
    "start_time": "2022-01-14T18:50:51.117Z"
   },
   {
    "duration": 10,
    "start_time": "2022-01-14T18:50:51.167Z"
   },
   {
    "duration": 13,
    "start_time": "2022-01-14T18:50:51.180Z"
   },
   {
    "duration": 9,
    "start_time": "2022-01-14T18:50:51.195Z"
   },
   {
    "duration": 57,
    "start_time": "2022-01-14T18:50:51.206Z"
   },
   {
    "duration": 8,
    "start_time": "2022-01-14T18:50:51.266Z"
   },
   {
    "duration": 193,
    "start_time": "2022-01-14T18:50:51.277Z"
   },
   {
    "duration": 66,
    "start_time": "2022-01-14T18:50:51.472Z"
   },
   {
    "duration": 26,
    "start_time": "2022-01-14T18:50:51.541Z"
   },
   {
    "duration": 17,
    "start_time": "2022-01-14T18:50:51.569Z"
   },
   {
    "duration": 14,
    "start_time": "2022-01-14T18:50:51.588Z"
   },
   {
    "duration": 550,
    "start_time": "2022-01-14T18:50:51.605Z"
   },
   {
    "duration": -154,
    "start_time": "2022-01-14T18:50:52.312Z"
   },
   {
    "duration": 19,
    "start_time": "2022-01-14T18:52:35.135Z"
   },
   {
    "duration": 7,
    "start_time": "2022-01-14T19:10:08.285Z"
   },
   {
    "duration": 9,
    "start_time": "2022-01-14T19:10:27.882Z"
   },
   {
    "duration": 65,
    "start_time": "2022-01-14T19:17:43.758Z"
   },
   {
    "duration": 26,
    "start_time": "2022-01-14T19:17:46.187Z"
   },
   {
    "duration": 12,
    "start_time": "2022-01-14T19:19:34.205Z"
   },
   {
    "duration": 9,
    "start_time": "2022-01-14T19:20:52.190Z"
   },
   {
    "duration": 19,
    "start_time": "2022-01-14T19:20:54.194Z"
   },
   {
    "duration": 17,
    "start_time": "2022-01-14T19:20:58.495Z"
   },
   {
    "duration": 8,
    "start_time": "2022-01-14T19:20:58.515Z"
   },
   {
    "duration": 9,
    "start_time": "2022-01-14T19:21:07.260Z"
   },
   {
    "duration": 19,
    "start_time": "2022-01-14T19:21:08.402Z"
   },
   {
    "duration": 19,
    "start_time": "2022-01-14T19:21:17.088Z"
   },
   {
    "duration": 10,
    "start_time": "2022-01-14T19:21:17.397Z"
   },
   {
    "duration": 16,
    "start_time": "2022-01-14T19:21:19.218Z"
   },
   {
    "duration": 14,
    "start_time": "2022-01-14T19:21:20.104Z"
   },
   {
    "duration": 9,
    "start_time": "2022-01-14T19:22:48.791Z"
   },
   {
    "duration": 9,
    "start_time": "2022-01-14T19:22:49.425Z"
   },
   {
    "duration": 11,
    "start_time": "2022-01-14T19:22:50.180Z"
   },
   {
    "duration": 6,
    "start_time": "2022-01-14T19:22:52.894Z"
   },
   {
    "duration": 19,
    "start_time": "2022-01-14T19:38:10.626Z"
   },
   {
    "duration": 42,
    "start_time": "2022-01-14T19:39:57.326Z"
   },
   {
    "duration": 47,
    "start_time": "2022-01-14T19:40:00.612Z"
   },
   {
    "duration": 43,
    "start_time": "2022-01-14T19:40:08.402Z"
   },
   {
    "duration": 48,
    "start_time": "2022-01-14T19:40:08.869Z"
   },
   {
    "duration": 38,
    "start_time": "2022-01-14T19:40:12.886Z"
   },
   {
    "duration": 10,
    "start_time": "2022-01-14T19:40:14.220Z"
   },
   {
    "duration": 9,
    "start_time": "2022-01-14T19:40:20.231Z"
   },
   {
    "duration": 12,
    "start_time": "2022-01-14T19:40:21.986Z"
   },
   {
    "duration": 10,
    "start_time": "2022-01-14T19:40:22.345Z"
   },
   {
    "duration": 14,
    "start_time": "2022-01-14T19:40:23.521Z"
   },
   {
    "duration": 10,
    "start_time": "2022-01-14T19:40:32.736Z"
   },
   {
    "duration": 9,
    "start_time": "2022-01-14T19:40:33.578Z"
   },
   {
    "duration": 192,
    "start_time": "2022-01-14T19:40:34.671Z"
   },
   {
    "duration": 151,
    "start_time": "2022-01-14T19:41:15.247Z"
   },
   {
    "duration": 16,
    "start_time": "2022-01-14T19:41:16.409Z"
   },
   {
    "duration": 149,
    "start_time": "2022-01-14T19:41:23.543Z"
   },
   {
    "duration": 12,
    "start_time": "2022-01-14T19:41:23.975Z"
   },
   {
    "duration": 44,
    "start_time": "2022-01-14T19:43:01.558Z"
   },
   {
    "duration": 11,
    "start_time": "2022-01-14T19:43:11.037Z"
   },
   {
    "duration": 14,
    "start_time": "2022-01-14T19:43:16.505Z"
   },
   {
    "duration": 9,
    "start_time": "2022-01-14T19:46:03.820Z"
   },
   {
    "duration": 9,
    "start_time": "2022-01-14T19:46:04.260Z"
   },
   {
    "duration": 12,
    "start_time": "2022-01-14T19:46:05.882Z"
   },
   {
    "duration": 11,
    "start_time": "2022-01-14T19:46:13.739Z"
   },
   {
    "duration": 7,
    "start_time": "2022-01-14T19:46:16.067Z"
   },
   {
    "duration": 412,
    "start_time": "2022-01-14T19:46:18.629Z"
   },
   {
    "duration": 326,
    "start_time": "2022-01-14T19:46:38.410Z"
   },
   {
    "duration": 376,
    "start_time": "2022-01-14T19:47:13.189Z"
   },
   {
    "duration": 48,
    "start_time": "2022-01-14T19:47:22.163Z"
   },
   {
    "duration": 33,
    "start_time": "2022-01-14T19:47:23.100Z"
   },
   {
    "duration": 8,
    "start_time": "2022-01-14T19:47:24.936Z"
   },
   {
    "duration": 3,
    "start_time": "2022-01-14T19:47:32.969Z"
   },
   {
    "duration": 8,
    "start_time": "2022-01-14T19:47:34.298Z"
   },
   {
    "duration": 13,
    "start_time": "2022-01-14T19:47:35.566Z"
   },
   {
    "duration": 7,
    "start_time": "2022-01-14T19:47:38.085Z"
   },
   {
    "duration": 164,
    "start_time": "2022-01-14T19:47:38.986Z"
   },
   {
    "duration": 166,
    "start_time": "2022-01-14T19:51:11.657Z"
   },
   {
    "duration": 419,
    "start_time": "2022-01-14T19:51:33.839Z"
   },
   {
    "duration": 47,
    "start_time": "2022-01-14T19:51:39.563Z"
   },
   {
    "duration": 33,
    "start_time": "2022-01-14T19:51:40.812Z"
   },
   {
    "duration": 8,
    "start_time": "2022-01-14T19:51:46.828Z"
   },
   {
    "duration": 3,
    "start_time": "2022-01-14T19:51:48.327Z"
   },
   {
    "duration": 5391,
    "start_time": "2022-01-14T19:54:29.449Z"
   },
   {
    "duration": -185,
    "start_time": "2022-01-14T19:54:35.027Z"
   },
   {
    "duration": 4804,
    "start_time": "2022-01-14T19:55:30.518Z"
   },
   {
    "duration": 44,
    "start_time": "2022-01-14T19:55:38.091Z"
   },
   {
    "duration": 33,
    "start_time": "2022-01-14T19:55:39.149Z"
   },
   {
    "duration": 8,
    "start_time": "2022-01-14T19:55:39.392Z"
   },
   {
    "duration": 7,
    "start_time": "2022-01-14T19:55:40.197Z"
   },
   {
    "duration": 8,
    "start_time": "2022-01-14T19:55:44.967Z"
   },
   {
    "duration": 11,
    "start_time": "2022-01-14T19:55:47.425Z"
   },
   {
    "duration": 11,
    "start_time": "2022-01-14T19:56:14.401Z"
   },
   {
    "duration": 11,
    "start_time": "2022-01-14T19:56:16.355Z"
   },
   {
    "duration": 25,
    "start_time": "2022-01-14T19:56:18.790Z"
   },
   {
    "duration": 11,
    "start_time": "2022-01-14T19:56:22.366Z"
   },
   {
    "duration": 181,
    "start_time": "2022-01-14T19:56:23.671Z"
   },
   {
    "duration": 12,
    "start_time": "2022-01-14T19:56:26.971Z"
   },
   {
    "duration": 66,
    "start_time": "2022-01-14T19:56:47.861Z"
   },
   {
    "duration": 19,
    "start_time": "2022-01-14T19:56:50.615Z"
   },
   {
    "duration": 18,
    "start_time": "2022-01-14T19:56:56.198Z"
   },
   {
    "duration": 18,
    "start_time": "2022-01-14T19:58:24.596Z"
   },
   {
    "duration": 9,
    "start_time": "2022-01-14T20:01:22.638Z"
   },
   {
    "duration": 17,
    "start_time": "2022-01-14T20:01:23.192Z"
   },
   {
    "duration": 18,
    "start_time": "2022-01-14T20:01:25.216Z"
   },
   {
    "duration": 8,
    "start_time": "2022-01-14T20:01:25.491Z"
   },
   {
    "duration": 17,
    "start_time": "2022-01-14T20:01:25.707Z"
   },
   {
    "duration": 16,
    "start_time": "2022-01-14T20:01:25.907Z"
   },
   {
    "duration": 6,
    "start_time": "2022-01-14T20:01:26.136Z"
   },
   {
    "duration": 9,
    "start_time": "2022-01-14T20:01:26.300Z"
   },
   {
    "duration": 45,
    "start_time": "2022-01-14T20:01:26.728Z"
   },
   {
    "duration": 103,
    "start_time": "2022-01-14T20:01:26.963Z"
   },
   {
    "duration": 31,
    "start_time": "2022-01-14T20:01:27.396Z"
   },
   {
    "duration": 35,
    "start_time": "2022-01-14T20:01:27.661Z"
   },
   {
    "duration": 37,
    "start_time": "2022-01-14T20:01:28.688Z"
   },
   {
    "duration": 18,
    "start_time": "2022-01-14T20:01:28.928Z"
   },
   {
    "duration": 58,
    "start_time": "2022-01-14T20:01:29.159Z"
   },
   {
    "duration": 22,
    "start_time": "2022-01-14T20:01:29.416Z"
   },
   {
    "duration": 56,
    "start_time": "2022-01-14T20:01:29.661Z"
   },
   {
    "duration": 64,
    "start_time": "2022-01-14T20:01:29.903Z"
   },
   {
    "duration": 73,
    "start_time": "2022-01-14T20:01:30.215Z"
   },
   {
    "duration": 54,
    "start_time": "2022-01-14T20:01:30.479Z"
   },
   {
    "duration": 9,
    "start_time": "2022-01-14T20:01:30.728Z"
   },
   {
    "duration": 10,
    "start_time": "2022-01-14T20:01:31.691Z"
   },
   {
    "duration": 9,
    "start_time": "2022-01-14T20:01:32.794Z"
   },
   {
    "duration": 11,
    "start_time": "2022-01-14T20:01:33.588Z"
   },
   {
    "duration": 9,
    "start_time": "2022-01-14T20:01:34.622Z"
   },
   {
    "duration": 161,
    "start_time": "2022-01-14T20:01:34.858Z"
   },
   {
    "duration": 165,
    "start_time": "2022-01-14T20:02:31.761Z"
   },
   {
    "duration": 65,
    "start_time": "2022-01-14T20:02:33.037Z"
   },
   {
    "duration": 18,
    "start_time": "2022-01-14T20:02:35.154Z"
   },
   {
    "duration": 420,
    "start_time": "2022-01-14T20:02:37.707Z"
   },
   {
    "duration": 4,
    "start_time": "2022-01-14T20:09:54.072Z"
   },
   {
    "duration": 219,
    "start_time": "2022-01-14T20:09:54.079Z"
   },
   {
    "duration": 58,
    "start_time": "2022-01-14T20:09:54.302Z"
   },
   {
    "duration": 182,
    "start_time": "2022-01-14T20:09:54.362Z"
   },
   {
    "duration": 31,
    "start_time": "2022-01-14T20:09:54.546Z"
   },
   {
    "duration": 23,
    "start_time": "2022-01-14T20:09:54.580Z"
   },
   {
    "duration": 143,
    "start_time": "2022-01-14T20:09:54.606Z"
   },
   {
    "duration": 24,
    "start_time": "2022-01-14T20:09:54.752Z"
   },
   {
    "duration": 27,
    "start_time": "2022-01-14T20:09:54.778Z"
   },
   {
    "duration": 46,
    "start_time": "2022-01-14T20:09:54.808Z"
   },
   {
    "duration": 7,
    "start_time": "2022-01-14T20:09:54.857Z"
   },
   {
    "duration": 9,
    "start_time": "2022-01-14T20:09:54.866Z"
   },
   {
    "duration": 46,
    "start_time": "2022-01-14T20:09:54.877Z"
   },
   {
    "duration": 33,
    "start_time": "2022-01-14T20:09:54.926Z"
   },
   {
    "duration": 20,
    "start_time": "2022-01-14T20:09:54.961Z"
   },
   {
    "duration": 16,
    "start_time": "2022-01-14T20:09:54.984Z"
   },
   {
    "duration": 59,
    "start_time": "2022-01-14T20:09:55.002Z"
   },
   {
    "duration": 8,
    "start_time": "2022-01-14T20:09:55.063Z"
   },
   {
    "duration": 17,
    "start_time": "2022-01-14T20:09:55.076Z"
   },
   {
    "duration": 17,
    "start_time": "2022-01-14T20:09:55.096Z"
   },
   {
    "duration": 66,
    "start_time": "2022-01-14T20:09:55.115Z"
   },
   {
    "duration": 14,
    "start_time": "2022-01-14T20:09:55.184Z"
   },
   {
    "duration": 15,
    "start_time": "2022-01-14T20:09:55.200Z"
   },
   {
    "duration": 41,
    "start_time": "2022-01-14T20:09:55.219Z"
   },
   {
    "duration": 13,
    "start_time": "2022-01-14T20:09:55.263Z"
   },
   {
    "duration": 48,
    "start_time": "2022-01-14T20:09:55.278Z"
   },
   {
    "duration": 132,
    "start_time": "2022-01-14T20:09:55.328Z"
   },
   {
    "duration": 32,
    "start_time": "2022-01-14T20:09:55.462Z"
   },
   {
    "duration": 37,
    "start_time": "2022-01-14T20:09:55.496Z"
   },
   {
    "duration": 39,
    "start_time": "2022-01-14T20:09:55.560Z"
   },
   {
    "duration": 21,
    "start_time": "2022-01-14T20:09:55.603Z"
   },
   {
    "duration": 83,
    "start_time": "2022-01-14T20:09:55.627Z"
   },
   {
    "duration": 17,
    "start_time": "2022-01-14T20:09:55.713Z"
   },
   {
    "duration": 36,
    "start_time": "2022-01-14T20:09:55.760Z"
   },
   {
    "duration": 94,
    "start_time": "2022-01-14T20:09:55.799Z"
   },
   {
    "duration": 95,
    "start_time": "2022-01-14T20:09:55.896Z"
   },
   {
    "duration": 44,
    "start_time": "2022-01-14T20:09:55.994Z"
   },
   {
    "duration": 11,
    "start_time": "2022-01-14T20:09:56.061Z"
   },
   {
    "duration": 9,
    "start_time": "2022-01-14T20:09:56.075Z"
   },
   {
    "duration": 9,
    "start_time": "2022-01-14T20:09:56.087Z"
   },
   {
    "duration": 61,
    "start_time": "2022-01-14T20:09:56.099Z"
   },
   {
    "duration": 11,
    "start_time": "2022-01-14T20:09:56.163Z"
   },
   {
    "duration": 234,
    "start_time": "2022-01-14T20:09:56.177Z"
   },
   {
    "duration": 77,
    "start_time": "2022-01-14T20:09:56.413Z"
   },
   {
    "duration": 20,
    "start_time": "2022-01-14T20:09:56.493Z"
   },
   {
    "duration": 393,
    "start_time": "2022-01-14T20:09:56.515Z"
   },
   {
    "duration": 18,
    "start_time": "2022-01-14T20:19:39.219Z"
   },
   {
    "duration": 43,
    "start_time": "2022-01-14T20:20:32.676Z"
   },
   {
    "duration": 103,
    "start_time": "2022-01-14T20:22:06.744Z"
   },
   {
    "duration": 19,
    "start_time": "2022-01-14T20:22:12.065Z"
   },
   {
    "duration": 143,
    "start_time": "2022-01-14T20:22:15.661Z"
   },
   {
    "duration": 86,
    "start_time": "2022-01-14T20:22:52.413Z"
   },
   {
    "duration": 1300,
    "start_time": "2022-01-15T08:11:44.977Z"
   },
   {
    "duration": 201,
    "start_time": "2022-01-15T08:11:46.280Z"
   },
   {
    "duration": 39,
    "start_time": "2022-01-15T08:11:46.484Z"
   },
   {
    "duration": 188,
    "start_time": "2022-01-15T08:11:46.526Z"
   },
   {
    "duration": 23,
    "start_time": "2022-01-15T08:11:46.723Z"
   },
   {
    "duration": 35,
    "start_time": "2022-01-15T08:11:46.749Z"
   },
   {
    "duration": 132,
    "start_time": "2022-01-15T08:11:46.787Z"
   },
   {
    "duration": 20,
    "start_time": "2022-01-15T08:11:46.925Z"
   },
   {
    "duration": 45,
    "start_time": "2022-01-15T08:11:46.949Z"
   },
   {
    "duration": 59,
    "start_time": "2022-01-15T08:11:46.997Z"
   },
   {
    "duration": 8,
    "start_time": "2022-01-15T08:11:47.059Z"
   },
   {
    "duration": 13,
    "start_time": "2022-01-15T08:11:47.070Z"
   },
   {
    "duration": 55,
    "start_time": "2022-01-15T08:11:47.085Z"
   },
   {
    "duration": 8,
    "start_time": "2022-01-15T08:11:47.142Z"
   },
   {
    "duration": 23,
    "start_time": "2022-01-15T08:11:47.153Z"
   },
   {
    "duration": 25,
    "start_time": "2022-01-15T08:11:47.178Z"
   },
   {
    "duration": 49,
    "start_time": "2022-01-15T08:11:47.205Z"
   },
   {
    "duration": 8,
    "start_time": "2022-01-15T08:11:47.257Z"
   },
   {
    "duration": 32,
    "start_time": "2022-01-15T08:11:47.267Z"
   },
   {
    "duration": 33,
    "start_time": "2022-01-15T08:11:47.301Z"
   },
   {
    "duration": 23,
    "start_time": "2022-01-15T08:11:47.336Z"
   },
   {
    "duration": 15,
    "start_time": "2022-01-15T08:11:47.361Z"
   },
   {
    "duration": 42,
    "start_time": "2022-01-15T08:11:47.381Z"
   },
   {
    "duration": 17,
    "start_time": "2022-01-15T08:11:47.426Z"
   },
   {
    "duration": 29,
    "start_time": "2022-01-15T08:11:47.445Z"
   },
   {
    "duration": 54,
    "start_time": "2022-01-15T08:11:47.476Z"
   },
   {
    "duration": 98,
    "start_time": "2022-01-15T08:11:47.532Z"
   },
   {
    "duration": 31,
    "start_time": "2022-01-15T08:11:47.632Z"
   },
   {
    "duration": 33,
    "start_time": "2022-01-15T08:11:47.666Z"
   },
   {
    "duration": 35,
    "start_time": "2022-01-15T08:11:47.724Z"
   },
   {
    "duration": 18,
    "start_time": "2022-01-15T08:11:47.762Z"
   },
   {
    "duration": 79,
    "start_time": "2022-01-15T08:11:47.783Z"
   },
   {
    "duration": 14,
    "start_time": "2022-01-15T08:11:47.865Z"
   },
   {
    "duration": 55,
    "start_time": "2022-01-15T08:11:47.881Z"
   },
   {
    "duration": 45,
    "start_time": "2022-01-15T08:11:47.938Z"
   },
   {
    "duration": 75,
    "start_time": "2022-01-15T08:11:47.986Z"
   },
   {
    "duration": 37,
    "start_time": "2022-01-15T08:11:48.063Z"
   },
   {
    "duration": 10,
    "start_time": "2022-01-15T08:11:48.122Z"
   },
   {
    "duration": 18,
    "start_time": "2022-01-15T08:11:48.135Z"
   },
   {
    "duration": 12,
    "start_time": "2022-01-15T08:11:48.157Z"
   },
   {
    "duration": 52,
    "start_time": "2022-01-15T08:11:48.172Z"
   },
   {
    "duration": 11,
    "start_time": "2022-01-15T08:11:48.226Z"
   },
   {
    "duration": 194,
    "start_time": "2022-01-15T08:11:48.239Z"
   },
   {
    "duration": 63,
    "start_time": "2022-01-15T08:11:48.436Z"
   },
   {
    "duration": 32,
    "start_time": "2022-01-15T08:11:48.502Z"
   },
   {
    "duration": 97,
    "start_time": "2022-01-15T08:11:48.536Z"
   },
   {
    "duration": 115,
    "start_time": "2022-01-15T08:12:46.024Z"
   },
   {
    "duration": 13,
    "start_time": "2022-01-15T08:15:55.060Z"
   },
   {
    "duration": 41,
    "start_time": "2022-01-15T08:16:00.350Z"
   },
   {
    "duration": 37,
    "start_time": "2022-01-15T08:16:05.627Z"
   },
   {
    "duration": 7,
    "start_time": "2022-01-15T08:16:17.049Z"
   },
   {
    "duration": 88,
    "start_time": "2022-01-15T08:16:26.472Z"
   },
   {
    "duration": 6,
    "start_time": "2022-01-15T08:16:46.252Z"
   },
   {
    "duration": 6,
    "start_time": "2022-01-15T08:17:17.622Z"
   },
   {
    "duration": 7,
    "start_time": "2022-01-15T08:17:27.236Z"
   },
   {
    "duration": 39,
    "start_time": "2022-01-15T08:17:42.043Z"
   },
   {
    "duration": 12,
    "start_time": "2022-01-15T08:25:01.499Z"
   },
   {
    "duration": 465,
    "start_time": "2022-01-15T08:28:27.534Z"
   },
   {
    "duration": 432,
    "start_time": "2022-01-15T08:28:36.310Z"
   },
   {
    "duration": 503,
    "start_time": "2022-01-15T08:28:47.975Z"
   },
   {
    "duration": 606,
    "start_time": "2022-01-15T08:29:25.458Z"
   },
   {
    "duration": 544,
    "start_time": "2022-01-15T08:29:35.386Z"
   },
   {
    "duration": 571,
    "start_time": "2022-01-15T08:29:45.976Z"
   },
   {
    "duration": 388,
    "start_time": "2022-01-15T08:30:00.662Z"
   },
   {
    "duration": 436,
    "start_time": "2022-01-15T08:30:10.789Z"
   },
   {
    "duration": 438,
    "start_time": "2022-01-15T08:30:18.234Z"
   },
   {
    "duration": 586,
    "start_time": "2022-01-15T08:30:33.107Z"
   },
   {
    "duration": 537,
    "start_time": "2022-01-15T08:30:42.611Z"
   },
   {
    "duration": 5,
    "start_time": "2022-01-15T08:31:28.780Z"
   },
   {
    "duration": 6,
    "start_time": "2022-01-15T08:31:36.635Z"
   },
   {
    "duration": 6,
    "start_time": "2022-01-15T08:31:39.962Z"
   },
   {
    "duration": 12,
    "start_time": "2022-01-15T08:33:59.213Z"
   },
   {
    "duration": 433,
    "start_time": "2022-01-15T08:35:03.774Z"
   },
   {
    "duration": 424,
    "start_time": "2022-01-15T08:35:20.289Z"
   },
   {
    "duration": 547,
    "start_time": "2022-01-15T08:35:59.228Z"
   },
   {
    "duration": 410,
    "start_time": "2022-01-15T08:36:12.346Z"
   },
   {
    "duration": 514,
    "start_time": "2022-01-15T08:37:04.189Z"
   },
   {
    "duration": 538,
    "start_time": "2022-01-15T08:41:14.791Z"
   },
   {
    "duration": 784,
    "start_time": "2022-01-15T09:01:29.252Z"
   },
   {
    "duration": 318,
    "start_time": "2022-01-15T09:01:37.561Z"
   },
   {
    "duration": 460,
    "start_time": "2022-01-15T09:01:50.430Z"
   },
   {
    "duration": 402,
    "start_time": "2022-01-15T09:02:00.342Z"
   },
   {
    "duration": 87,
    "start_time": "2022-01-15T09:05:42.586Z"
   },
   {
    "duration": 3,
    "start_time": "2022-01-15T09:06:46.753Z"
   },
   {
    "duration": 7,
    "start_time": "2022-01-15T09:12:06.775Z"
   },
   {
    "duration": 6,
    "start_time": "2022-01-15T09:12:08.516Z"
   },
   {
    "duration": 88,
    "start_time": "2022-01-15T09:12:33.691Z"
   },
   {
    "duration": 91,
    "start_time": "2022-01-15T09:13:39.419Z"
   },
   {
    "duration": 751,
    "start_time": "2022-01-15T09:17:52.128Z"
   },
   {
    "duration": 8,
    "start_time": "2022-01-15T09:18:29.806Z"
   },
   {
    "duration": 7,
    "start_time": "2022-01-15T09:19:00.348Z"
   },
   {
    "duration": 44,
    "start_time": "2022-01-15T11:33:30.376Z"
   },
   {
    "duration": 12,
    "start_time": "2022-01-15T11:54:29.951Z"
   },
   {
    "duration": 13,
    "start_time": "2022-01-15T11:55:13.672Z"
   },
   {
    "duration": 12,
    "start_time": "2022-01-15T11:55:37.959Z"
   },
   {
    "duration": 12,
    "start_time": "2022-01-15T11:55:42.972Z"
   },
   {
    "duration": 11,
    "start_time": "2022-01-15T11:57:25.171Z"
   },
   {
    "duration": 19,
    "start_time": "2022-01-15T11:58:39.562Z"
   },
   {
    "duration": 24,
    "start_time": "2022-01-15T11:59:05.912Z"
   },
   {
    "duration": 375,
    "start_time": "2022-01-15T11:59:43.962Z"
   },
   {
    "duration": -597,
    "start_time": "2022-01-15T11:59:44.937Z"
   },
   {
    "duration": 8,
    "start_time": "2022-01-15T12:00:09.679Z"
   },
   {
    "duration": 7,
    "start_time": "2022-01-15T12:00:23.317Z"
   },
   {
    "duration": 9,
    "start_time": "2022-01-15T12:00:38.292Z"
   },
   {
    "duration": 19,
    "start_time": "2022-01-15T12:01:08.772Z"
   },
   {
    "duration": 18,
    "start_time": "2022-01-15T12:01:39.375Z"
   },
   {
    "duration": 8,
    "start_time": "2022-01-15T12:02:12.218Z"
   },
   {
    "duration": 1485,
    "start_time": "2022-01-15T12:03:40.352Z"
   },
   {
    "duration": 211,
    "start_time": "2022-01-15T12:03:41.840Z"
   },
   {
    "duration": 28,
    "start_time": "2022-01-15T12:03:42.054Z"
   },
   {
    "duration": 186,
    "start_time": "2022-01-15T12:03:42.085Z"
   },
   {
    "duration": 22,
    "start_time": "2022-01-15T12:03:42.274Z"
   },
   {
    "duration": 39,
    "start_time": "2022-01-15T12:03:42.299Z"
   },
   {
    "duration": 132,
    "start_time": "2022-01-15T12:03:42.340Z"
   },
   {
    "duration": 46,
    "start_time": "2022-01-15T12:03:42.478Z"
   },
   {
    "duration": 32,
    "start_time": "2022-01-15T12:03:42.529Z"
   },
   {
    "duration": 49,
    "start_time": "2022-01-15T12:03:42.565Z"
   },
   {
    "duration": 14,
    "start_time": "2022-01-15T12:03:42.617Z"
   },
   {
    "duration": 18,
    "start_time": "2022-01-15T12:03:42.635Z"
   },
   {
    "duration": 66,
    "start_time": "2022-01-15T12:03:42.657Z"
   },
   {
    "duration": 10,
    "start_time": "2022-01-15T12:03:42.726Z"
   },
   {
    "duration": 20,
    "start_time": "2022-01-15T12:03:42.739Z"
   },
   {
    "duration": 16,
    "start_time": "2022-01-15T12:03:42.761Z"
   },
   {
    "duration": 70,
    "start_time": "2022-01-15T12:03:42.780Z"
   },
   {
    "duration": 6,
    "start_time": "2022-01-15T12:03:42.852Z"
   },
   {
    "duration": 18,
    "start_time": "2022-01-15T12:03:42.861Z"
   },
   {
    "duration": 45,
    "start_time": "2022-01-15T12:03:42.881Z"
   },
   {
    "duration": 28,
    "start_time": "2022-01-15T12:03:42.929Z"
   },
   {
    "duration": 15,
    "start_time": "2022-01-15T12:03:42.960Z"
   },
   {
    "duration": 47,
    "start_time": "2022-01-15T12:03:42.985Z"
   },
   {
    "duration": 8,
    "start_time": "2022-01-15T12:03:43.037Z"
   },
   {
    "duration": 11,
    "start_time": "2022-01-15T12:03:43.048Z"
   },
   {
    "duration": 79,
    "start_time": "2022-01-15T12:03:43.061Z"
   },
   {
    "duration": 115,
    "start_time": "2022-01-15T12:03:43.143Z"
   },
   {
    "duration": 34,
    "start_time": "2022-01-15T12:03:43.261Z"
   },
   {
    "duration": 54,
    "start_time": "2022-01-15T12:03:43.298Z"
   },
   {
    "duration": 39,
    "start_time": "2022-01-15T12:03:43.355Z"
   },
   {
    "duration": 46,
    "start_time": "2022-01-15T12:03:43.397Z"
   },
   {
    "duration": 79,
    "start_time": "2022-01-15T12:03:43.445Z"
   },
   {
    "duration": 17,
    "start_time": "2022-01-15T12:03:43.527Z"
   },
   {
    "duration": 35,
    "start_time": "2022-01-15T12:03:43.546Z"
   },
   {
    "duration": 80,
    "start_time": "2022-01-15T12:03:43.584Z"
   },
   {
    "duration": 72,
    "start_time": "2022-01-15T12:03:43.667Z"
   },
   {
    "duration": 38,
    "start_time": "2022-01-15T12:03:43.742Z"
   },
   {
    "duration": 43,
    "start_time": "2022-01-15T12:03:43.783Z"
   },
   {
    "duration": 9,
    "start_time": "2022-01-15T12:03:43.829Z"
   },
   {
    "duration": 447,
    "start_time": "2022-01-15T12:03:43.842Z"
   },
   {
    "duration": -1324,
    "start_time": "2022-01-15T12:03:45.617Z"
   },
   {
    "duration": -1459,
    "start_time": "2022-01-15T12:03:45.754Z"
   },
   {
    "duration": -1464,
    "start_time": "2022-01-15T12:03:45.761Z"
   },
   {
    "duration": -1469,
    "start_time": "2022-01-15T12:03:45.768Z"
   },
   {
    "duration": -1475,
    "start_time": "2022-01-15T12:03:45.777Z"
   },
   {
    "duration": -1482,
    "start_time": "2022-01-15T12:03:45.786Z"
   },
   {
    "duration": -1487,
    "start_time": "2022-01-15T12:03:45.793Z"
   },
   {
    "duration": -1496,
    "start_time": "2022-01-15T12:03:45.804Z"
   },
   {
    "duration": -1498,
    "start_time": "2022-01-15T12:03:45.809Z"
   },
   {
    "duration": -1506,
    "start_time": "2022-01-15T12:03:45.819Z"
   },
   {
    "duration": -1509,
    "start_time": "2022-01-15T12:03:45.824Z"
   },
   {
    "duration": -1514,
    "start_time": "2022-01-15T12:03:45.831Z"
   },
   {
    "duration": -1521,
    "start_time": "2022-01-15T12:03:45.840Z"
   },
   {
    "duration": -1526,
    "start_time": "2022-01-15T12:03:45.847Z"
   },
   {
    "duration": -1550,
    "start_time": "2022-01-15T12:03:45.873Z"
   },
   {
    "duration": -1560,
    "start_time": "2022-01-15T12:03:45.885Z"
   },
   {
    "duration": -1564,
    "start_time": "2022-01-15T12:03:45.891Z"
   },
   {
    "duration": -1574,
    "start_time": "2022-01-15T12:03:45.903Z"
   },
   {
    "duration": 13,
    "start_time": "2022-01-15T12:04:30.975Z"
   },
   {
    "duration": 11,
    "start_time": "2022-01-15T12:04:33.308Z"
   },
   {
    "duration": 11,
    "start_time": "2022-01-15T12:04:48.514Z"
   },
   {
    "duration": 9,
    "start_time": "2022-01-15T12:04:50.156Z"
   },
   {
    "duration": 171,
    "start_time": "2022-01-15T12:04:50.362Z"
   },
   {
    "duration": 63,
    "start_time": "2022-01-15T12:04:51.138Z"
   },
   {
    "duration": 20,
    "start_time": "2022-01-15T12:04:51.325Z"
   },
   {
    "duration": 13,
    "start_time": "2022-01-15T12:04:51.684Z"
   },
   {
    "duration": 337,
    "start_time": "2022-01-15T12:04:51.862Z"
   },
   {
    "duration": 410,
    "start_time": "2022-01-15T12:04:52.202Z"
   },
   {
    "duration": 427,
    "start_time": "2022-01-15T12:04:52.616Z"
   },
   {
    "duration": 110,
    "start_time": "2022-01-15T12:04:53.046Z"
   },
   {
    "duration": 7,
    "start_time": "2022-01-15T12:04:53.328Z"
   },
   {
    "duration": 6,
    "start_time": "2022-01-15T12:04:53.500Z"
   },
   {
    "duration": 288,
    "start_time": "2022-01-15T12:04:53.689Z"
   },
   {
    "duration": -480,
    "start_time": "2022-01-15T12:04:54.460Z"
   },
   {
    "duration": 11,
    "start_time": "2022-01-15T12:04:54.887Z"
   },
   {
    "duration": 12,
    "start_time": "2022-01-15T12:04:55.634Z"
   },
   {
    "duration": 18,
    "start_time": "2022-01-15T12:04:55.889Z"
   },
   {
    "duration": 16,
    "start_time": "2022-01-15T12:05:49.344Z"
   },
   {
    "duration": 7,
    "start_time": "2022-01-15T12:05:55.233Z"
   },
   {
    "duration": 7,
    "start_time": "2022-01-15T12:10:04.575Z"
   },
   {
    "duration": 18,
    "start_time": "2022-01-15T12:15:18.615Z"
   },
   {
    "duration": 18,
    "start_time": "2022-01-15T12:15:50.702Z"
   },
   {
    "duration": 18,
    "start_time": "2022-01-15T12:15:55.666Z"
   },
   {
    "duration": 416,
    "start_time": "2022-01-15T12:17:38.485Z"
   },
   {
    "duration": 14,
    "start_time": "2022-01-15T12:17:54.024Z"
   },
   {
    "duration": 16,
    "start_time": "2022-01-15T12:17:55.125Z"
   },
   {
    "duration": 17,
    "start_time": "2022-01-15T12:18:00.255Z"
   },
   {
    "duration": 7,
    "start_time": "2022-01-15T12:22:52.502Z"
   },
   {
    "duration": 11,
    "start_time": "2022-01-15T12:22:56.139Z"
   },
   {
    "duration": 11,
    "start_time": "2022-01-15T12:22:56.368Z"
   },
   {
    "duration": 20,
    "start_time": "2022-01-15T12:22:57.168Z"
   },
   {
    "duration": 7,
    "start_time": "2022-01-15T12:23:33.822Z"
   },
   {
    "duration": 14,
    "start_time": "2022-01-15T12:23:41.295Z"
   },
   {
    "duration": 13,
    "start_time": "2022-01-15T12:23:41.529Z"
   },
   {
    "duration": 20,
    "start_time": "2022-01-15T12:23:41.739Z"
   },
   {
    "duration": 4005,
    "start_time": "2022-01-15T12:26:07.094Z"
   },
   {
    "duration": 12,
    "start_time": "2022-01-15T12:26:34.974Z"
   },
   {
    "duration": 5,
    "start_time": "2022-01-15T12:27:06.648Z"
   },
   {
    "duration": 7,
    "start_time": "2022-01-15T12:27:33.669Z"
   },
   {
    "duration": 6,
    "start_time": "2022-01-15T12:27:48.036Z"
   },
   {
    "duration": 7,
    "start_time": "2022-01-15T12:27:58.324Z"
   },
   {
    "duration": 6,
    "start_time": "2022-01-15T12:28:09.818Z"
   },
   {
    "duration": 8,
    "start_time": "2022-01-15T12:28:25.902Z"
   },
   {
    "duration": 14,
    "start_time": "2022-01-15T12:28:39.863Z"
   },
   {
    "duration": 7,
    "start_time": "2022-01-15T12:29:51.804Z"
   },
   {
    "duration": 7,
    "start_time": "2022-01-15T12:30:44.303Z"
   },
   {
    "duration": 19,
    "start_time": "2022-01-15T12:31:42.746Z"
   },
   {
    "duration": 9,
    "start_time": "2022-01-15T12:31:50.998Z"
   },
   {
    "duration": 15,
    "start_time": "2022-01-15T12:32:08.707Z"
   },
   {
    "duration": 58,
    "start_time": "2022-01-15T12:32:11.380Z"
   },
   {
    "duration": 6,
    "start_time": "2022-01-15T12:32:35.145Z"
   },
   {
    "duration": 6,
    "start_time": "2022-01-15T12:32:41.976Z"
   },
   {
    "duration": 7,
    "start_time": "2022-01-15T12:32:45.037Z"
   },
   {
    "duration": 6,
    "start_time": "2022-01-15T12:32:48.690Z"
   },
   {
    "duration": 7,
    "start_time": "2022-01-15T12:32:55.745Z"
   },
   {
    "duration": 4,
    "start_time": "2022-01-15T12:40:55.369Z"
   },
   {
    "duration": 226,
    "start_time": "2022-01-15T12:40:55.376Z"
   },
   {
    "duration": 30,
    "start_time": "2022-01-15T12:40:55.624Z"
   },
   {
    "duration": 212,
    "start_time": "2022-01-15T12:40:55.658Z"
   },
   {
    "duration": 28,
    "start_time": "2022-01-15T12:40:55.873Z"
   },
   {
    "duration": 23,
    "start_time": "2022-01-15T12:40:55.923Z"
   },
   {
    "duration": 137,
    "start_time": "2022-01-15T12:40:55.951Z"
   },
   {
    "duration": 18,
    "start_time": "2022-01-15T12:40:56.091Z"
   },
   {
    "duration": 25,
    "start_time": "2022-01-15T12:40:56.112Z"
   },
   {
    "duration": 37,
    "start_time": "2022-01-15T12:40:56.140Z"
   },
   {
    "duration": 8,
    "start_time": "2022-01-15T12:40:56.180Z"
   },
   {
    "duration": 33,
    "start_time": "2022-01-15T12:40:56.191Z"
   },
   {
    "duration": 38,
    "start_time": "2022-01-15T12:40:56.226Z"
   },
   {
    "duration": 6,
    "start_time": "2022-01-15T12:40:56.267Z"
   },
   {
    "duration": 49,
    "start_time": "2022-01-15T12:40:56.275Z"
   },
   {
    "duration": 16,
    "start_time": "2022-01-15T12:40:56.326Z"
   },
   {
    "duration": 29,
    "start_time": "2022-01-15T12:40:56.345Z"
   },
   {
    "duration": 10,
    "start_time": "2022-01-15T12:40:56.376Z"
   },
   {
    "duration": 44,
    "start_time": "2022-01-15T12:40:56.394Z"
   },
   {
    "duration": 17,
    "start_time": "2022-01-15T12:40:56.443Z"
   },
   {
    "duration": 60,
    "start_time": "2022-01-15T12:40:56.463Z"
   },
   {
    "duration": 17,
    "start_time": "2022-01-15T12:40:56.526Z"
   },
   {
    "duration": 16,
    "start_time": "2022-01-15T12:40:56.546Z"
   },
   {
    "duration": 7,
    "start_time": "2022-01-15T12:40:56.565Z"
   },
   {
    "duration": 54,
    "start_time": "2022-01-15T12:40:56.574Z"
   },
   {
    "duration": 50,
    "start_time": "2022-01-15T12:40:56.631Z"
   },
   {
    "duration": 113,
    "start_time": "2022-01-15T12:40:56.683Z"
   },
   {
    "duration": 39,
    "start_time": "2022-01-15T12:40:56.798Z"
   },
   {
    "duration": 33,
    "start_time": "2022-01-15T12:40:56.839Z"
   },
   {
    "duration": 67,
    "start_time": "2022-01-15T12:40:56.875Z"
   },
   {
    "duration": 19,
    "start_time": "2022-01-15T12:40:56.944Z"
   },
   {
    "duration": 76,
    "start_time": "2022-01-15T12:40:56.965Z"
   },
   {
    "duration": 15,
    "start_time": "2022-01-15T12:40:57.043Z"
   },
   {
    "duration": 64,
    "start_time": "2022-01-15T12:40:57.060Z"
   },
   {
    "duration": 45,
    "start_time": "2022-01-15T12:40:57.127Z"
   },
   {
    "duration": 75,
    "start_time": "2022-01-15T12:40:57.174Z"
   },
   {
    "duration": 36,
    "start_time": "2022-01-15T12:40:57.251Z"
   },
   {
    "duration": 36,
    "start_time": "2022-01-15T12:40:57.289Z"
   },
   {
    "duration": 13,
    "start_time": "2022-01-15T12:40:57.327Z"
   },
   {
    "duration": 10,
    "start_time": "2022-01-15T12:40:57.343Z"
   },
   {
    "duration": 11,
    "start_time": "2022-01-15T12:40:57.356Z"
   },
   {
    "duration": 8,
    "start_time": "2022-01-15T12:40:57.369Z"
   },
   {
    "duration": 215,
    "start_time": "2022-01-15T12:40:57.380Z"
   },
   {
    "duration": 84,
    "start_time": "2022-01-15T12:40:57.598Z"
   },
   {
    "duration": 40,
    "start_time": "2022-01-15T12:40:57.685Z"
   },
   {
    "duration": 22,
    "start_time": "2022-01-15T12:40:57.728Z"
   },
   {
    "duration": 538,
    "start_time": "2022-01-15T12:40:57.753Z"
   },
   {
    "duration": 522,
    "start_time": "2022-01-15T12:40:58.293Z"
   },
   {
    "duration": 448,
    "start_time": "2022-01-15T12:40:58.822Z"
   },
   {
    "duration": 104,
    "start_time": "2022-01-15T12:40:59.273Z"
   },
   {
    "duration": 6,
    "start_time": "2022-01-15T12:40:59.379Z"
   },
   {
    "duration": 8,
    "start_time": "2022-01-15T12:40:59.388Z"
   },
   {
    "duration": 11,
    "start_time": "2022-01-15T12:40:59.425Z"
   },
   {
    "duration": 18,
    "start_time": "2022-01-15T12:40:59.439Z"
   },
   {
    "duration": 7,
    "start_time": "2022-01-15T12:40:59.467Z"
   },
   {
    "duration": 45,
    "start_time": "2022-01-15T12:40:59.478Z"
   },
   {
    "duration": 6,
    "start_time": "2022-01-15T12:40:59.525Z"
   },
   {
    "duration": 10,
    "start_time": "2022-01-15T12:40:59.534Z"
   },
   {
    "duration": 9,
    "start_time": "2022-01-15T12:40:59.546Z"
   },
   {
    "duration": 37,
    "start_time": "2022-01-15T12:43:38.471Z"
   },
   {
    "duration": 41,
    "start_time": "2022-01-15T12:43:51.760Z"
   },
   {
    "duration": 13,
    "start_time": "2022-01-15T12:44:40.803Z"
   },
   {
    "duration": 33,
    "start_time": "2022-01-15T12:44:57.871Z"
   },
   {
    "duration": 9,
    "start_time": "2022-01-15T12:45:04.172Z"
   },
   {
    "duration": 11,
    "start_time": "2022-01-15T12:45:16.218Z"
   },
   {
    "duration": 41,
    "start_time": "2022-01-15T12:46:34.370Z"
   },
   {
    "duration": 45,
    "start_time": "2022-01-15T12:51:02.674Z"
   },
   {
    "duration": 330,
    "start_time": "2022-01-15T12:52:28.630Z"
   },
   {
    "duration": 17,
    "start_time": "2022-01-15T12:52:44.492Z"
   },
   {
    "duration": 11,
    "start_time": "2022-01-15T12:52:49.409Z"
   },
   {
    "duration": 8,
    "start_time": "2022-01-15T12:53:32.896Z"
   },
   {
    "duration": 304,
    "start_time": "2022-01-15T12:53:33.852Z"
   },
   {
    "duration": 72,
    "start_time": "2022-01-15T12:53:43.365Z"
   },
   {
    "duration": 20,
    "start_time": "2022-01-15T12:53:43.572Z"
   },
   {
    "duration": 19,
    "start_time": "2022-01-15T12:53:43.940Z"
   },
   {
    "duration": 345,
    "start_time": "2022-01-15T12:53:44.128Z"
   },
   {
    "duration": 408,
    "start_time": "2022-01-15T12:53:44.476Z"
   },
   {
    "duration": 436,
    "start_time": "2022-01-15T12:53:44.887Z"
   },
   {
    "duration": 103,
    "start_time": "2022-01-15T12:53:45.325Z"
   },
   {
    "duration": 6,
    "start_time": "2022-01-15T12:53:45.484Z"
   },
   {
    "duration": 7,
    "start_time": "2022-01-15T12:53:45.674Z"
   },
   {
    "duration": 8,
    "start_time": "2022-01-15T12:53:46.082Z"
   },
   {
    "duration": 20,
    "start_time": "2022-01-15T12:53:47.293Z"
   },
   {
    "duration": 11,
    "start_time": "2022-01-15T12:53:47.499Z"
   },
   {
    "duration": 11,
    "start_time": "2022-01-15T12:53:47.688Z"
   },
   {
    "duration": 7,
    "start_time": "2022-01-15T12:53:48.394Z"
   },
   {
    "duration": 7,
    "start_time": "2022-01-15T12:53:48.975Z"
   },
   {
    "duration": 7,
    "start_time": "2022-01-15T12:53:49.435Z"
   },
   {
    "duration": 7,
    "start_time": "2022-01-15T12:53:49.649Z"
   },
   {
    "duration": 8,
    "start_time": "2022-01-15T12:53:50.032Z"
   },
   {
    "duration": 1449,
    "start_time": "2022-01-15T19:26:10.035Z"
   },
   {
    "duration": 212,
    "start_time": "2022-01-15T19:26:11.487Z"
   },
   {
    "duration": 40,
    "start_time": "2022-01-15T19:26:11.703Z"
   },
   {
    "duration": 165,
    "start_time": "2022-01-15T19:26:11.747Z"
   },
   {
    "duration": 29,
    "start_time": "2022-01-15T19:26:11.914Z"
   },
   {
    "duration": 20,
    "start_time": "2022-01-15T19:26:11.946Z"
   },
   {
    "duration": 130,
    "start_time": "2022-01-15T19:26:11.968Z"
   },
   {
    "duration": 25,
    "start_time": "2022-01-15T19:26:12.102Z"
   },
   {
    "duration": 25,
    "start_time": "2022-01-15T19:26:12.130Z"
   },
   {
    "duration": 44,
    "start_time": "2022-01-15T19:26:12.157Z"
   },
   {
    "duration": 8,
    "start_time": "2022-01-15T19:26:12.203Z"
   },
   {
    "duration": 11,
    "start_time": "2022-01-15T19:26:12.213Z"
   },
   {
    "duration": 42,
    "start_time": "2022-01-15T19:26:12.227Z"
   },
   {
    "duration": 7,
    "start_time": "2022-01-15T19:26:12.272Z"
   },
   {
    "duration": 49,
    "start_time": "2022-01-15T19:26:12.282Z"
   },
   {
    "duration": 17,
    "start_time": "2022-01-15T19:26:12.333Z"
   },
   {
    "duration": 31,
    "start_time": "2022-01-15T19:26:12.352Z"
   },
   {
    "duration": 6,
    "start_time": "2022-01-15T19:26:12.385Z"
   },
   {
    "duration": 44,
    "start_time": "2022-01-15T19:26:12.393Z"
   },
   {
    "duration": 16,
    "start_time": "2022-01-15T19:26:12.439Z"
   },
   {
    "duration": 25,
    "start_time": "2022-01-15T19:26:12.457Z"
   },
   {
    "duration": 50,
    "start_time": "2022-01-15T19:26:12.484Z"
   },
   {
    "duration": 14,
    "start_time": "2022-01-15T19:26:12.540Z"
   },
   {
    "duration": 6,
    "start_time": "2022-01-15T19:26:12.557Z"
   },
   {
    "duration": 9,
    "start_time": "2022-01-15T19:26:12.565Z"
   },
   {
    "duration": 86,
    "start_time": "2022-01-15T19:26:12.577Z"
   },
   {
    "duration": 107,
    "start_time": "2022-01-15T19:26:12.666Z"
   },
   {
    "duration": 31,
    "start_time": "2022-01-15T19:26:12.776Z"
   },
   {
    "duration": 47,
    "start_time": "2022-01-15T19:26:12.809Z"
   },
   {
    "duration": 41,
    "start_time": "2022-01-15T19:26:12.859Z"
   },
   {
    "duration": 20,
    "start_time": "2022-01-15T19:26:12.924Z"
   },
   {
    "duration": 50,
    "start_time": "2022-01-15T19:26:12.946Z"
   },
   {
    "duration": 14,
    "start_time": "2022-01-15T19:26:13.023Z"
   },
   {
    "duration": 34,
    "start_time": "2022-01-15T19:26:13.039Z"
   },
   {
    "duration": 70,
    "start_time": "2022-01-15T19:26:13.075Z"
   },
   {
    "duration": 83,
    "start_time": "2022-01-15T19:26:13.147Z"
   },
   {
    "duration": 52,
    "start_time": "2022-01-15T19:26:13.233Z"
   },
   {
    "duration": 36,
    "start_time": "2022-01-15T19:26:13.288Z"
   },
   {
    "duration": 17,
    "start_time": "2022-01-15T19:26:13.327Z"
   },
   {
    "duration": 13,
    "start_time": "2022-01-15T19:26:13.346Z"
   },
   {
    "duration": 14,
    "start_time": "2022-01-15T19:26:13.361Z"
   },
   {
    "duration": 66,
    "start_time": "2022-01-15T19:26:13.377Z"
   },
   {
    "duration": 9,
    "start_time": "2022-01-15T19:26:13.446Z"
   },
   {
    "duration": 17,
    "start_time": "2022-01-15T19:26:13.458Z"
   },
   {
    "duration": 342,
    "start_time": "2022-01-15T19:26:13.477Z"
   },
   {
    "duration": 65,
    "start_time": "2022-01-15T19:26:13.824Z"
   },
   {
    "duration": 38,
    "start_time": "2022-01-15T19:26:13.892Z"
   },
   {
    "duration": 18,
    "start_time": "2022-01-15T19:26:13.933Z"
   },
   {
    "duration": 357,
    "start_time": "2022-01-15T19:26:13.953Z"
   },
   {
    "duration": 399,
    "start_time": "2022-01-15T19:26:14.313Z"
   },
   {
    "duration": 433,
    "start_time": "2022-01-15T19:26:14.715Z"
   },
   {
    "duration": 103,
    "start_time": "2022-01-15T19:26:15.150Z"
   },
   {
    "duration": 7,
    "start_time": "2022-01-15T19:26:15.255Z"
   },
   {
    "duration": 19,
    "start_time": "2022-01-15T19:26:15.265Z"
   },
   {
    "duration": 18,
    "start_time": "2022-01-15T19:26:15.287Z"
   },
   {
    "duration": 23,
    "start_time": "2022-01-15T19:26:15.324Z"
   },
   {
    "duration": 12,
    "start_time": "2022-01-15T19:26:15.350Z"
   },
   {
    "duration": 12,
    "start_time": "2022-01-15T19:26:15.365Z"
   },
   {
    "duration": 45,
    "start_time": "2022-01-15T19:26:15.380Z"
   },
   {
    "duration": 6,
    "start_time": "2022-01-15T19:26:15.427Z"
   },
   {
    "duration": 8,
    "start_time": "2022-01-15T19:26:15.436Z"
   },
   {
    "duration": 9,
    "start_time": "2022-01-15T19:26:15.446Z"
   },
   {
    "duration": 7,
    "start_time": "2022-01-15T19:26:15.457Z"
   },
   {
    "duration": 50,
    "start_time": "2022-01-15T19:46:18.911Z"
   },
   {
    "duration": 54,
    "start_time": "2022-01-15T19:46:25.578Z"
   },
   {
    "duration": 9,
    "start_time": "2022-01-15T19:46:31.533Z"
   },
   {
    "duration": 8,
    "start_time": "2022-01-15T19:46:58.665Z"
   },
   {
    "duration": 19,
    "start_time": "2022-01-15T19:47:47.884Z"
   },
   {
    "duration": 15,
    "start_time": "2022-01-15T19:47:49.409Z"
   },
   {
    "duration": 17,
    "start_time": "2022-01-15T19:53:26.719Z"
   },
   {
    "duration": 10,
    "start_time": "2022-01-15T19:53:29.778Z"
   },
   {
    "duration": 24,
    "start_time": "2022-01-15T19:53:46.183Z"
   },
   {
    "duration": 16,
    "start_time": "2022-01-15T19:53:47.382Z"
   },
   {
    "duration": 47,
    "start_time": "2022-01-15T19:53:48.367Z"
   },
   {
    "duration": 11,
    "start_time": "2022-01-15T19:53:56.731Z"
   },
   {
    "duration": 11,
    "start_time": "2022-01-15T19:54:03.173Z"
   },
   {
    "duration": 306,
    "start_time": "2022-01-15T19:54:08.488Z"
   },
   {
    "duration": 97,
    "start_time": "2022-01-15T19:54:18.139Z"
   },
   {
    "duration": 424,
    "start_time": "2022-01-15T19:54:41.480Z"
   },
   {
    "duration": 49,
    "start_time": "2022-01-15T19:54:44.502Z"
   },
   {
    "duration": 36,
    "start_time": "2022-01-15T19:54:45.048Z"
   },
   {
    "duration": 9,
    "start_time": "2022-01-15T19:54:45.561Z"
   },
   {
    "duration": 20,
    "start_time": "2022-01-15T19:54:46.337Z"
   },
   {
    "duration": 10,
    "start_time": "2022-01-15T19:54:46.639Z"
   },
   {
    "duration": 14,
    "start_time": "2022-01-15T19:54:47.422Z"
   },
   {
    "duration": 8,
    "start_time": "2022-01-15T19:54:47.891Z"
   },
   {
    "duration": 393,
    "start_time": "2022-01-15T19:54:48.132Z"
   },
   {
    "duration": 321,
    "start_time": "2022-01-15T19:54:59.138Z"
   },
   {
    "duration": 66,
    "start_time": "2022-01-15T19:55:02.973Z"
   },
   {
    "duration": 24,
    "start_time": "2022-01-15T19:55:06.118Z"
   },
   {
    "duration": 21,
    "start_time": "2022-01-15T19:55:46.246Z"
   },
   {
    "duration": 447,
    "start_time": "2022-01-15T19:55:47.228Z"
   },
   {
    "duration": 421,
    "start_time": "2022-01-15T19:55:49.011Z"
   },
   {
    "duration": 499,
    "start_time": "2022-01-15T19:55:49.846Z"
   },
   {
    "duration": 87,
    "start_time": "2022-01-15T19:55:56.638Z"
   },
   {
    "duration": 8,
    "start_time": "2022-01-15T19:56:37.496Z"
   },
   {
    "duration": 8,
    "start_time": "2022-01-15T19:56:38.172Z"
   },
   {
    "duration": 7,
    "start_time": "2022-01-15T19:56:39.644Z"
   },
   {
    "duration": 19,
    "start_time": "2022-01-15T19:56:45.748Z"
   },
   {
    "duration": 10,
    "start_time": "2022-01-15T19:56:46.646Z"
   },
   {
    "duration": 10,
    "start_time": "2022-01-15T19:56:47.802Z"
   },
   {
    "duration": 7,
    "start_time": "2022-01-15T19:56:48.787Z"
   },
   {
    "duration": 8,
    "start_time": "2022-01-15T19:56:53.268Z"
   },
   {
    "duration": 8,
    "start_time": "2022-01-15T19:56:54.453Z"
   },
   {
    "duration": 6,
    "start_time": "2022-01-15T19:56:55.157Z"
   },
   {
    "duration": 9,
    "start_time": "2022-01-15T19:56:57.283Z"
   },
   {
    "duration": 8,
    "start_time": "2022-01-15T19:57:49.205Z"
   },
   {
    "duration": 7,
    "start_time": "2022-01-15T19:58:16.029Z"
   },
   {
    "duration": 6,
    "start_time": "2022-01-15T19:58:16.526Z"
   },
   {
    "duration": 10,
    "start_time": "2022-01-15T19:58:27.665Z"
   },
   {
    "duration": 35,
    "start_time": "2022-01-15T20:02:19.619Z"
   },
   {
    "duration": 12,
    "start_time": "2022-01-15T20:04:55.158Z"
   },
   {
    "duration": 10,
    "start_time": "2022-01-15T20:04:55.403Z"
   },
   {
    "duration": 21,
    "start_time": "2022-01-15T20:04:55.651Z"
   },
   {
    "duration": 18,
    "start_time": "2022-01-15T20:04:55.875Z"
   },
   {
    "duration": 9,
    "start_time": "2022-01-15T20:04:57.243Z"
   },
   {
    "duration": 197,
    "start_time": "2022-01-15T20:05:03.826Z"
   },
   {
    "duration": 26,
    "start_time": "2022-01-15T20:05:04.788Z"
   },
   {
    "duration": 186,
    "start_time": "2022-01-15T20:05:05.047Z"
   },
   {
    "duration": 23,
    "start_time": "2022-01-15T20:05:05.243Z"
   },
   {
    "duration": 21,
    "start_time": "2022-01-15T20:05:05.685Z"
   },
   {
    "duration": 119,
    "start_time": "2022-01-15T20:05:05.853Z"
   },
   {
    "duration": 31,
    "start_time": "2022-01-15T20:05:06.040Z"
   },
   {
    "duration": 35,
    "start_time": "2022-01-15T20:05:06.254Z"
   },
   {
    "duration": 41,
    "start_time": "2022-01-15T20:05:06.743Z"
   },
   {
    "duration": 9,
    "start_time": "2022-01-15T20:05:07.509Z"
   },
   {
    "duration": 8,
    "start_time": "2022-01-15T20:05:07.715Z"
   },
   {
    "duration": 41,
    "start_time": "2022-01-15T20:05:09.777Z"
   },
   {
    "duration": 9,
    "start_time": "2022-01-15T20:05:10.000Z"
   },
   {
    "duration": 29,
    "start_time": "2022-01-15T20:05:10.232Z"
   },
   {
    "duration": 26,
    "start_time": "2022-01-15T20:05:10.461Z"
   },
   {
    "duration": 48,
    "start_time": "2022-01-15T20:05:10.681Z"
   },
   {
    "duration": 9,
    "start_time": "2022-01-15T20:05:10.868Z"
   },
   {
    "duration": 25,
    "start_time": "2022-01-15T20:05:11.576Z"
   },
   {
    "duration": 18,
    "start_time": "2022-01-15T20:05:11.780Z"
   },
   {
    "duration": 25,
    "start_time": "2022-01-15T20:05:12.633Z"
   },
   {
    "duration": 15,
    "start_time": "2022-01-15T20:05:13.695Z"
   },
   {
    "duration": 15,
    "start_time": "2022-01-15T20:05:14.766Z"
   },
   {
    "duration": 6,
    "start_time": "2022-01-15T20:05:15.803Z"
   },
   {
    "duration": 11,
    "start_time": "2022-01-15T20:05:25.377Z"
   },
   {
    "duration": 45,
    "start_time": "2022-01-15T20:05:28.511Z"
   },
   {
    "duration": 100,
    "start_time": "2022-01-15T20:05:45.176Z"
   },
   {
    "duration": 7519,
    "start_time": "2022-01-15T20:06:11.687Z"
   },
   {
    "duration": 94,
    "start_time": "2022-01-15T20:06:28.506Z"
   },
   {
    "duration": 46,
    "start_time": "2022-01-15T20:06:41.473Z"
   },
   {
    "duration": 108,
    "start_time": "2022-01-15T20:06:41.893Z"
   },
   {
    "duration": 33,
    "start_time": "2022-01-15T20:06:47.016Z"
   },
   {
    "duration": 35,
    "start_time": "2022-01-15T20:06:50.935Z"
   },
   {
    "duration": 40,
    "start_time": "2022-01-15T20:07:27.915Z"
   },
   {
    "duration": 21,
    "start_time": "2022-01-15T20:08:01.318Z"
   },
   {
    "duration": 58,
    "start_time": "2022-01-15T20:08:07.282Z"
   },
   {
    "duration": 16,
    "start_time": "2022-01-15T20:08:11.224Z"
   },
   {
    "duration": 36,
    "start_time": "2022-01-15T20:08:13.846Z"
   },
   {
    "duration": 45,
    "start_time": "2022-01-15T20:08:27.460Z"
   },
   {
    "duration": 11,
    "start_time": "2022-01-15T20:10:41.277Z"
   },
   {
    "duration": 8,
    "start_time": "2022-01-15T20:15:01.337Z"
   },
   {
    "duration": 7333,
    "start_time": "2022-01-15T20:15:02.066Z"
   },
   {
    "duration": 9,
    "start_time": "2022-01-15T20:15:15.970Z"
   },
   {
    "duration": 9,
    "start_time": "2022-01-15T20:15:27.745Z"
   },
   {
    "duration": 42,
    "start_time": "2022-01-15T20:15:32.827Z"
   },
   {
    "duration": 62,
    "start_time": "2022-01-15T20:15:34.634Z"
   },
   {
    "duration": 32,
    "start_time": "2022-01-15T20:15:37.669Z"
   },
   {
    "duration": 10,
    "start_time": "2022-01-15T20:15:44.021Z"
   },
   {
    "duration": 296,
    "start_time": "2022-01-15T20:17:18.760Z"
   },
   {
    "duration": 56,
    "start_time": "2022-01-15T20:17:25.840Z"
   },
   {
    "duration": 13,
    "start_time": "2022-01-15T20:18:45.643Z"
   },
   {
    "duration": 68,
    "start_time": "2022-01-15T20:19:07.804Z"
   },
   {
    "duration": 18,
    "start_time": "2022-01-15T20:19:19.446Z"
   },
   {
    "duration": 36,
    "start_time": "2022-01-15T20:19:21.773Z"
   },
   {
    "duration": 12,
    "start_time": "2022-01-15T20:19:27.313Z"
   },
   {
    "duration": 8,
    "start_time": "2022-01-15T20:19:32.624Z"
   },
   {
    "duration": 11,
    "start_time": "2022-01-15T20:19:33.154Z"
   },
   {
    "duration": 9,
    "start_time": "2022-01-15T20:19:36.138Z"
   },
   {
    "duration": 42,
    "start_time": "2022-01-15T20:19:37.645Z"
   },
   {
    "duration": 318,
    "start_time": "2022-01-15T20:20:10.698Z"
   },
   {
    "duration": 41,
    "start_time": "2022-01-15T20:20:13.702Z"
   },
   {
    "duration": 297,
    "start_time": "2022-01-15T20:20:14.747Z"
   },
   {
    "duration": 9,
    "start_time": "2022-01-15T20:20:27.367Z"
   },
   {
    "duration": 44,
    "start_time": "2022-01-15T20:20:27.815Z"
   },
   {
    "duration": 46,
    "start_time": "2022-01-15T20:20:52.755Z"
   },
   {
    "duration": 31,
    "start_time": "2022-01-15T20:21:06.445Z"
   },
   {
    "duration": 9,
    "start_time": "2022-01-15T20:21:08.702Z"
   },
   {
    "duration": 9,
    "start_time": "2022-01-15T20:21:17.672Z"
   },
   {
    "duration": 44,
    "start_time": "2022-01-15T20:21:18.906Z"
   },
   {
    "duration": 12,
    "start_time": "2022-01-15T20:21:19.923Z"
   },
   {
    "duration": 8,
    "start_time": "2022-01-15T20:21:25.717Z"
   },
   {
    "duration": 161,
    "start_time": "2022-01-15T20:21:26.705Z"
   },
   {
    "duration": 70,
    "start_time": "2022-01-15T20:21:31.241Z"
   },
   {
    "duration": 19,
    "start_time": "2022-01-15T20:21:32.454Z"
   },
   {
    "duration": 12,
    "start_time": "2022-01-15T20:21:35.201Z"
   },
   {
    "duration": 312,
    "start_time": "2022-01-15T20:21:35.992Z"
   },
   {
    "duration": 407,
    "start_time": "2022-01-15T20:21:37.482Z"
   },
   {
    "duration": 467,
    "start_time": "2022-01-15T20:21:37.913Z"
   },
   {
    "duration": 85,
    "start_time": "2022-01-15T20:21:39.323Z"
   },
   {
    "duration": 6,
    "start_time": "2022-01-15T20:21:42.274Z"
   },
   {
    "duration": 6,
    "start_time": "2022-01-15T20:21:42.680Z"
   },
   {
    "duration": 7,
    "start_time": "2022-01-15T20:21:44.963Z"
   },
   {
    "duration": 12,
    "start_time": "2022-01-15T20:21:47.262Z"
   },
   {
    "duration": 8,
    "start_time": "2022-01-15T20:21:47.501Z"
   },
   {
    "duration": 12,
    "start_time": "2022-01-15T20:21:48.224Z"
   },
   {
    "duration": 6,
    "start_time": "2022-01-15T20:21:48.949Z"
   },
   {
    "duration": 7,
    "start_time": "2022-01-15T20:21:50.126Z"
   },
   {
    "duration": 6,
    "start_time": "2022-01-15T20:21:50.863Z"
   },
   {
    "duration": 6,
    "start_time": "2022-01-15T20:21:51.342Z"
   },
   {
    "duration": 7,
    "start_time": "2022-01-15T20:21:52.262Z"
   },
   {
    "duration": 7,
    "start_time": "2022-01-15T20:32:55.943Z"
   },
   {
    "duration": 18,
    "start_time": "2022-01-15T20:32:57.187Z"
   },
   {
    "duration": 18,
    "start_time": "2022-01-15T20:33:07.874Z"
   },
   {
    "duration": 8,
    "start_time": "2022-01-15T20:33:26.568Z"
   },
   {
    "duration": 14,
    "start_time": "2022-01-15T20:33:28.490Z"
   },
   {
    "duration": 16,
    "start_time": "2022-01-15T20:33:30.896Z"
   },
   {
    "duration": 5,
    "start_time": "2022-01-15T20:33:31.780Z"
   },
   {
    "duration": 9,
    "start_time": "2022-01-15T20:33:32.602Z"
   },
   {
    "duration": 45,
    "start_time": "2022-01-15T20:33:34.539Z"
   },
   {
    "duration": 95,
    "start_time": "2022-01-15T20:33:35.729Z"
   },
   {
    "duration": 31,
    "start_time": "2022-01-15T20:33:37.111Z"
   },
   {
    "duration": 36,
    "start_time": "2022-01-15T20:33:37.663Z"
   },
   {
    "duration": 36,
    "start_time": "2022-01-15T20:33:39.330Z"
   },
   {
    "duration": 19,
    "start_time": "2022-01-15T20:33:40.123Z"
   },
   {
    "duration": 50,
    "start_time": "2022-01-15T20:33:41.064Z"
   },
   {
    "duration": 18,
    "start_time": "2022-01-15T20:33:44.118Z"
   },
   {
    "duration": 34,
    "start_time": "2022-01-15T20:33:45.128Z"
   },
   {
    "duration": 10,
    "start_time": "2022-01-15T20:33:46.653Z"
   },
   {
    "duration": 10,
    "start_time": "2022-01-15T20:33:48.185Z"
   },
   {
    "duration": 9,
    "start_time": "2022-01-15T20:33:49.796Z"
   },
   {
    "duration": 45,
    "start_time": "2022-01-15T20:33:50.817Z"
   },
   {
    "duration": 53,
    "start_time": "2022-01-15T20:33:52.142Z"
   },
   {
    "duration": 35,
    "start_time": "2022-01-15T20:33:54.056Z"
   },
   {
    "duration": 10,
    "start_time": "2022-01-15T20:33:57.240Z"
   },
   {
    "duration": 18,
    "start_time": "2022-01-15T20:34:04.642Z"
   },
   {
    "duration": 10,
    "start_time": "2022-01-15T20:34:10.692Z"
   },
   {
    "duration": 42,
    "start_time": "2022-01-15T20:34:11.998Z"
   },
   {
    "duration": 10,
    "start_time": "2022-01-15T20:34:12.795Z"
   },
   {
    "duration": 7980,
    "start_time": "2022-01-15T20:34:26.504Z"
   },
   {
    "duration": -703,
    "start_time": "2022-01-15T20:34:35.190Z"
   },
   {
    "duration": -716,
    "start_time": "2022-01-15T20:34:35.204Z"
   },
   {
    "duration": 11,
    "start_time": "2022-01-15T20:35:15.442Z"
   },
   {
    "duration": 9,
    "start_time": "2022-01-15T20:35:19.868Z"
   },
   {
    "duration": 318,
    "start_time": "2022-01-15T20:35:21.932Z"
   },
   {
    "duration": 69,
    "start_time": "2022-01-15T20:35:40.707Z"
   },
   {
    "duration": 19,
    "start_time": "2022-01-15T20:35:40.948Z"
   },
   {
    "duration": 19,
    "start_time": "2022-01-15T20:35:47.460Z"
   },
   {
    "duration": 315,
    "start_time": "2022-01-15T20:35:48.377Z"
   },
   {
    "duration": 380,
    "start_time": "2022-01-15T20:35:49.016Z"
   },
   {
    "duration": 373,
    "start_time": "2022-01-15T20:35:50.480Z"
   },
   {
    "duration": 93,
    "start_time": "2022-01-15T20:36:15.564Z"
   },
   {
    "duration": 7,
    "start_time": "2022-01-15T20:36:20.350Z"
   },
   {
    "duration": 7,
    "start_time": "2022-01-15T20:36:21.078Z"
   },
   {
    "duration": 7,
    "start_time": "2022-01-15T20:36:23.865Z"
   },
   {
    "duration": 20,
    "start_time": "2022-01-15T20:36:28.633Z"
   },
   {
    "duration": 9,
    "start_time": "2022-01-15T20:36:28.846Z"
   },
   {
    "duration": 10,
    "start_time": "2022-01-15T20:36:29.772Z"
   },
   {
    "duration": 6,
    "start_time": "2022-01-15T20:36:30.624Z"
   },
   {
    "duration": 6,
    "start_time": "2022-01-15T20:36:31.086Z"
   },
   {
    "duration": 7,
    "start_time": "2022-01-15T20:36:31.393Z"
   },
   {
    "duration": 6,
    "start_time": "2022-01-15T20:36:31.664Z"
   },
   {
    "duration": 9,
    "start_time": "2022-01-15T20:36:32.198Z"
   },
   {
    "duration": 54,
    "start_time": "2022-01-15T20:46:46.103Z"
   },
   {
    "duration": 48,
    "start_time": "2022-01-15T20:46:52.753Z"
   },
   {
    "duration": 33,
    "start_time": "2022-01-15T20:46:56.564Z"
   },
   {
    "duration": 8,
    "start_time": "2022-01-15T20:47:00.344Z"
   },
   {
    "duration": 22,
    "start_time": "2022-01-15T20:47:04.495Z"
   },
   {
    "duration": 10,
    "start_time": "2022-01-15T20:47:05.885Z"
   },
   {
    "duration": 14,
    "start_time": "2022-01-15T20:47:06.699Z"
   },
   {
    "duration": 9,
    "start_time": "2022-01-15T20:47:08.274Z"
   },
   {
    "duration": 86,
    "start_time": "2022-01-15T20:47:09.406Z"
   },
   {
    "duration": 75,
    "start_time": "2022-01-15T20:47:12.021Z"
   },
   {
    "duration": 24,
    "start_time": "2022-01-15T20:47:12.235Z"
   },
   {
    "duration": 22,
    "start_time": "2022-01-15T20:47:13.681Z"
   },
   {
    "duration": 347,
    "start_time": "2022-01-15T20:47:13.934Z"
   },
   {
    "duration": 410,
    "start_time": "2022-01-15T20:47:14.839Z"
   },
   {
    "duration": 496,
    "start_time": "2022-01-15T20:47:16.244Z"
   },
   {
    "duration": 96,
    "start_time": "2022-01-15T20:47:16.743Z"
   },
   {
    "duration": 6,
    "start_time": "2022-01-15T20:47:22.164Z"
   },
   {
    "duration": 6,
    "start_time": "2022-01-15T20:47:22.173Z"
   },
   {
    "duration": 8,
    "start_time": "2022-01-15T20:47:27.002Z"
   },
   {
    "duration": 22,
    "start_time": "2022-01-15T20:47:28.417Z"
   },
   {
    "duration": 10,
    "start_time": "2022-01-15T20:47:29.122Z"
   },
   {
    "duration": 11,
    "start_time": "2022-01-15T20:47:29.621Z"
   },
   {
    "duration": 6,
    "start_time": "2022-01-15T20:47:30.294Z"
   },
   {
    "duration": 6,
    "start_time": "2022-01-15T20:47:32.337Z"
   },
   {
    "duration": 6,
    "start_time": "2022-01-15T20:47:33.272Z"
   },
   {
    "duration": 7,
    "start_time": "2022-01-15T20:47:33.885Z"
   },
   {
    "duration": 8,
    "start_time": "2022-01-15T20:47:34.373Z"
   },
   {
    "duration": 50,
    "start_time": "2022-01-15T20:48:17.861Z"
   },
   {
    "duration": 33,
    "start_time": "2022-01-15T20:48:22.504Z"
   },
   {
    "duration": 8,
    "start_time": "2022-01-15T20:48:25.137Z"
   },
   {
    "duration": 19,
    "start_time": "2022-01-15T20:48:38.082Z"
   },
   {
    "duration": 9,
    "start_time": "2022-01-15T20:48:38.917Z"
   },
   {
    "duration": 11,
    "start_time": "2022-01-15T20:48:41.766Z"
   },
   {
    "duration": 280,
    "start_time": "2022-01-15T20:49:00.797Z"
   },
   {
    "duration": 10,
    "start_time": "2022-01-15T20:49:01.211Z"
   },
   {
    "duration": 47,
    "start_time": "2022-01-15T20:49:07.012Z"
   },
   {
    "duration": 31,
    "start_time": "2022-01-15T20:49:07.839Z"
   },
   {
    "duration": 9,
    "start_time": "2022-01-15T20:49:12.616Z"
   },
   {
    "duration": 11,
    "start_time": "2022-01-15T20:49:14.144Z"
   },
   {
    "duration": 8,
    "start_time": "2022-01-15T20:49:16.384Z"
   },
   {
    "duration": 165,
    "start_time": "2022-01-15T20:49:17.268Z"
   },
   {
    "duration": 49,
    "start_time": "2022-01-15T20:56:45.917Z"
   },
   {
    "duration": 46,
    "start_time": "2022-01-15T20:56:58.703Z"
   },
   {
    "duration": 51,
    "start_time": "2022-01-15T20:57:01.319Z"
   },
   {
    "duration": 51,
    "start_time": "2022-01-15T20:57:13.698Z"
   },
   {
    "duration": 32,
    "start_time": "2022-01-15T20:57:14.691Z"
   },
   {
    "duration": 9,
    "start_time": "2022-01-15T20:57:15.784Z"
   },
   {
    "duration": 8,
    "start_time": "2022-01-15T20:57:19.752Z"
   },
   {
    "duration": 11,
    "start_time": "2022-01-15T20:57:22.101Z"
   },
   {
    "duration": 9,
    "start_time": "2022-01-15T20:57:22.448Z"
   },
   {
    "duration": 194,
    "start_time": "2022-01-15T20:57:24.431Z"
   },
   {
    "duration": 911,
    "start_time": "2022-01-15T20:57:27.850Z"
   },
   {
    "duration": 69,
    "start_time": "2022-01-15T20:58:05.407Z"
   },
   {
    "duration": 68,
    "start_time": "2022-01-15T20:58:20.006Z"
   },
   {
    "duration": 20,
    "start_time": "2022-01-15T20:58:28.782Z"
   },
   {
    "duration": 16,
    "start_time": "2022-01-15T20:58:32.469Z"
   },
   {
    "duration": 371,
    "start_time": "2022-01-15T20:58:35.324Z"
   },
   {
    "duration": 429,
    "start_time": "2022-01-15T20:58:37.269Z"
   },
   {
    "duration": 401,
    "start_time": "2022-01-15T20:58:37.953Z"
   },
   {
    "duration": 86,
    "start_time": "2022-01-15T20:58:44.554Z"
   },
   {
    "duration": 5,
    "start_time": "2022-01-15T20:58:49.673Z"
   },
   {
    "duration": 5,
    "start_time": "2022-01-15T20:58:50.549Z"
   },
   {
    "duration": 9,
    "start_time": "2022-01-15T20:58:52.253Z"
   },
   {
    "duration": 10,
    "start_time": "2022-01-15T20:59:01.043Z"
   },
   {
    "duration": 8,
    "start_time": "2022-01-15T20:59:05.019Z"
   },
   {
    "duration": 14,
    "start_time": "2022-01-15T20:59:06.405Z"
   },
   {
    "duration": 8,
    "start_time": "2022-01-15T20:59:07.918Z"
   },
   {
    "duration": 9,
    "start_time": "2022-01-15T20:59:08.808Z"
   },
   {
    "duration": 6,
    "start_time": "2022-01-15T20:59:09.139Z"
   },
   {
    "duration": 6,
    "start_time": "2022-01-15T20:59:10.368Z"
   },
   {
    "duration": 6,
    "start_time": "2022-01-15T20:59:12.116Z"
   },
   {
    "duration": 6,
    "start_time": "2022-01-15T20:59:13.886Z"
   },
   {
    "duration": 8,
    "start_time": "2022-01-15T20:59:15.590Z"
   },
   {
    "duration": 100,
    "start_time": "2022-01-15T21:00:46.112Z"
   },
   {
    "duration": 8,
    "start_time": "2022-01-15T21:00:50.793Z"
   },
   {
    "duration": 10,
    "start_time": "2022-01-15T21:00:51.826Z"
   },
   {
    "duration": 43,
    "start_time": "2022-01-15T21:00:55.539Z"
   },
   {
    "duration": 54,
    "start_time": "2022-01-15T21:00:56.996Z"
   },
   {
    "duration": 32,
    "start_time": "2022-01-15T21:00:58.719Z"
   },
   {
    "duration": 9,
    "start_time": "2022-01-15T21:01:00.363Z"
   },
   {
    "duration": 9,
    "start_time": "2022-01-15T21:01:12.477Z"
   },
   {
    "duration": 8,
    "start_time": "2022-01-15T21:01:13.840Z"
   },
   {
    "duration": 189,
    "start_time": "2022-01-15T21:01:14.959Z"
   },
   {
    "duration": 10,
    "start_time": "2022-01-15T21:01:38.822Z"
   },
   {
    "duration": 345,
    "start_time": "2022-01-15T21:04:30.216Z"
   },
   {
    "duration": 60,
    "start_time": "2022-01-15T21:05:48.678Z"
   },
   {
    "duration": 18,
    "start_time": "2022-01-15T21:05:51.554Z"
   },
   {
    "duration": 14,
    "start_time": "2022-01-15T21:08:35.051Z"
   },
   {
    "duration": 306,
    "start_time": "2022-01-15T21:08:35.825Z"
   },
   {
    "duration": 400,
    "start_time": "2022-01-15T21:08:37.829Z"
   },
   {
    "duration": 360,
    "start_time": "2022-01-15T21:08:38.559Z"
   },
   {
    "duration": 88,
    "start_time": "2022-01-15T21:08:40.812Z"
   },
   {
    "duration": 16,
    "start_time": "2022-01-15T21:10:37.529Z"
   },
   {
    "duration": 10,
    "start_time": "2022-01-15T21:10:37.731Z"
   },
   {
    "duration": 11,
    "start_time": "2022-01-15T21:10:37.944Z"
   },
   {
    "duration": 6,
    "start_time": "2022-01-15T21:10:38.733Z"
   },
   {
    "duration": 7,
    "start_time": "2022-01-15T21:10:45.550Z"
   },
   {
    "duration": 7,
    "start_time": "2022-01-15T21:10:45.986Z"
   },
   {
    "duration": 7,
    "start_time": "2022-01-15T21:10:46.481Z"
   },
   {
    "duration": 8,
    "start_time": "2022-01-15T21:10:47.927Z"
   },
   {
    "duration": 9,
    "start_time": "2022-01-15T21:10:49.846Z"
   },
   {
    "duration": 1497,
    "start_time": "2022-01-15T21:27:00.327Z"
   },
   {
    "duration": 216,
    "start_time": "2022-01-15T21:27:01.827Z"
   },
   {
    "duration": 27,
    "start_time": "2022-01-15T21:27:02.046Z"
   },
   {
    "duration": 191,
    "start_time": "2022-01-15T21:27:02.076Z"
   },
   {
    "duration": 25,
    "start_time": "2022-01-15T21:27:02.269Z"
   },
   {
    "duration": 44,
    "start_time": "2022-01-15T21:27:02.297Z"
   },
   {
    "duration": 185,
    "start_time": "2022-01-15T21:27:02.344Z"
   },
   {
    "duration": 29,
    "start_time": "2022-01-15T21:27:02.534Z"
   },
   {
    "duration": 27,
    "start_time": "2022-01-15T21:27:02.567Z"
   },
   {
    "duration": 42,
    "start_time": "2022-01-15T21:27:02.597Z"
   },
   {
    "duration": 9,
    "start_time": "2022-01-15T21:27:02.641Z"
   },
   {
    "duration": 10,
    "start_time": "2022-01-15T21:27:02.652Z"
   },
   {
    "duration": 80,
    "start_time": "2022-01-15T21:27:02.664Z"
   },
   {
    "duration": 9,
    "start_time": "2022-01-15T21:27:02.747Z"
   },
   {
    "duration": 26,
    "start_time": "2022-01-15T21:27:02.759Z"
   },
   {
    "duration": 20,
    "start_time": "2022-01-15T21:27:02.787Z"
   },
   {
    "duration": 46,
    "start_time": "2022-01-15T21:27:02.809Z"
   },
   {
    "duration": 16,
    "start_time": "2022-01-15T21:27:02.858Z"
   },
   {
    "duration": 18,
    "start_time": "2022-01-15T21:27:02.876Z"
   },
   {
    "duration": 40,
    "start_time": "2022-01-15T21:27:02.897Z"
   },
   {
    "duration": 41,
    "start_time": "2022-01-15T21:27:02.940Z"
   },
   {
    "duration": 44,
    "start_time": "2022-01-15T21:27:02.984Z"
   },
   {
    "duration": 19,
    "start_time": "2022-01-15T21:27:03.037Z"
   },
   {
    "duration": 35,
    "start_time": "2022-01-15T21:27:03.060Z"
   },
   {
    "duration": 32,
    "start_time": "2022-01-15T21:27:03.098Z"
   },
   {
    "duration": 86,
    "start_time": "2022-01-15T21:27:03.133Z"
   },
   {
    "duration": 172,
    "start_time": "2022-01-15T21:27:03.222Z"
   },
   {
    "duration": 41,
    "start_time": "2022-01-15T21:27:03.396Z"
   },
   {
    "duration": 37,
    "start_time": "2022-01-15T21:27:03.440Z"
   },
   {
    "duration": 55,
    "start_time": "2022-01-15T21:27:03.480Z"
   },
   {
    "duration": 45,
    "start_time": "2022-01-15T21:27:03.537Z"
   },
   {
    "duration": 83,
    "start_time": "2022-01-15T21:27:03.585Z"
   },
   {
    "duration": 15,
    "start_time": "2022-01-15T21:27:03.671Z"
   },
   {
    "duration": 56,
    "start_time": "2022-01-15T21:27:03.688Z"
   },
   {
    "duration": 23,
    "start_time": "2022-01-15T21:27:03.746Z"
   },
   {
    "duration": 24,
    "start_time": "2022-01-15T21:27:03.772Z"
   },
   {
    "duration": 61,
    "start_time": "2022-01-15T21:27:03.798Z"
   },
   {
    "duration": 53,
    "start_time": "2022-01-15T21:27:03.861Z"
   },
   {
    "duration": 67,
    "start_time": "2022-01-15T21:27:03.917Z"
   },
   {
    "duration": 41,
    "start_time": "2022-01-15T21:27:03.987Z"
   },
   {
    "duration": 9,
    "start_time": "2022-01-15T21:27:04.030Z"
   },
   {
    "duration": 10,
    "start_time": "2022-01-15T21:27:04.042Z"
   },
   {
    "duration": 216,
    "start_time": "2022-01-15T21:27:04.055Z"
   },
   {
    "duration": 599,
    "start_time": "2022-01-15T21:27:04.274Z"
   },
   {
    "duration": 80,
    "start_time": "2022-01-15T21:27:04.876Z"
   },
   {
    "duration": 23,
    "start_time": "2022-01-15T21:27:04.958Z"
   },
   {
    "duration": 28,
    "start_time": "2022-01-15T21:27:04.984Z"
   },
   {
    "duration": 484,
    "start_time": "2022-01-15T21:27:05.015Z"
   },
   {
    "duration": 463,
    "start_time": "2022-01-15T21:27:05.501Z"
   },
   {
    "duration": 561,
    "start_time": "2022-01-15T21:27:05.967Z"
   },
   {
    "duration": 122,
    "start_time": "2022-01-15T21:27:06.531Z"
   },
   {
    "duration": 6,
    "start_time": "2022-01-15T21:27:06.655Z"
   },
   {
    "duration": 44,
    "start_time": "2022-01-15T21:27:06.664Z"
   },
   {
    "duration": 53,
    "start_time": "2022-01-15T21:27:06.711Z"
   },
   {
    "duration": 30,
    "start_time": "2022-01-15T21:27:06.767Z"
   },
   {
    "duration": 30,
    "start_time": "2022-01-15T21:27:06.800Z"
   },
   {
    "duration": 52,
    "start_time": "2022-01-15T21:27:06.832Z"
   },
   {
    "duration": 20,
    "start_time": "2022-01-15T21:27:06.887Z"
   },
   {
    "duration": 30,
    "start_time": "2022-01-15T21:27:06.909Z"
   },
   {
    "duration": 16,
    "start_time": "2022-01-15T21:27:06.941Z"
   },
   {
    "duration": 1133,
    "start_time": "2022-01-18T13:27:04.023Z"
   },
   {
    "duration": 170,
    "start_time": "2022-01-18T13:27:05.158Z"
   },
   {
    "duration": 20,
    "start_time": "2022-01-18T13:27:05.332Z"
   },
   {
    "duration": 148,
    "start_time": "2022-01-18T13:27:05.354Z"
   },
   {
    "duration": 17,
    "start_time": "2022-01-18T13:27:05.504Z"
   },
   {
    "duration": 38,
    "start_time": "2022-01-18T13:27:05.523Z"
   },
   {
    "duration": 95,
    "start_time": "2022-01-18T13:27:05.564Z"
   },
   {
    "duration": 14,
    "start_time": "2022-01-18T13:27:05.661Z"
   },
   {
    "duration": 21,
    "start_time": "2022-01-18T13:27:05.677Z"
   },
   {
    "duration": 79,
    "start_time": "2022-01-18T13:27:05.700Z"
   },
   {
    "duration": 8,
    "start_time": "2022-01-18T13:27:05.781Z"
   },
   {
    "duration": 12,
    "start_time": "2022-01-18T13:27:05.791Z"
   },
   {
    "duration": 43,
    "start_time": "2022-01-18T13:27:05.805Z"
   },
   {
    "duration": 7,
    "start_time": "2022-01-18T13:27:05.850Z"
   },
   {
    "duration": 18,
    "start_time": "2022-01-18T13:27:05.859Z"
   },
   {
    "duration": 22,
    "start_time": "2022-01-18T13:27:05.879Z"
   },
   {
    "duration": 29,
    "start_time": "2022-01-18T13:27:05.902Z"
   },
   {
    "duration": 6,
    "start_time": "2022-01-18T13:27:05.933Z"
   },
   {
    "duration": 21,
    "start_time": "2022-01-18T13:27:05.941Z"
   },
   {
    "duration": 29,
    "start_time": "2022-01-18T13:27:05.963Z"
   },
   {
    "duration": 19,
    "start_time": "2022-01-18T13:27:05.994Z"
   },
   {
    "duration": 12,
    "start_time": "2022-01-18T13:27:06.017Z"
   },
   {
    "duration": 11,
    "start_time": "2022-01-18T13:27:06.031Z"
   },
   {
    "duration": 9,
    "start_time": "2022-01-18T13:27:06.043Z"
   },
   {
    "duration": 11,
    "start_time": "2022-01-18T13:27:06.053Z"
   },
   {
    "duration": 32,
    "start_time": "2022-01-18T13:27:06.091Z"
   },
   {
    "duration": 91,
    "start_time": "2022-01-18T13:27:06.125Z"
   },
   {
    "duration": 24,
    "start_time": "2022-01-18T13:27:06.218Z"
   },
   {
    "duration": 26,
    "start_time": "2022-01-18T13:27:06.244Z"
   },
   {
    "duration": 42,
    "start_time": "2022-01-18T13:27:06.271Z"
   },
   {
    "duration": 12,
    "start_time": "2022-01-18T13:27:06.314Z"
   },
   {
    "duration": 41,
    "start_time": "2022-01-18T13:27:06.328Z"
   },
   {
    "duration": 28,
    "start_time": "2022-01-18T13:27:06.371Z"
   },
   {
    "duration": 24,
    "start_time": "2022-01-18T13:27:06.401Z"
   },
   {
    "duration": 7,
    "start_time": "2022-01-18T13:27:06.426Z"
   },
   {
    "duration": 12,
    "start_time": "2022-01-18T13:27:06.434Z"
   },
   {
    "duration": 9,
    "start_time": "2022-01-18T13:27:06.447Z"
   },
   {
    "duration": 51,
    "start_time": "2022-01-18T13:27:06.458Z"
   },
   {
    "duration": 33,
    "start_time": "2022-01-18T13:27:06.511Z"
   },
   {
    "duration": 21,
    "start_time": "2022-01-18T13:27:06.546Z"
   },
   {
    "duration": 26,
    "start_time": "2022-01-18T13:27:06.569Z"
   },
   {
    "duration": 7,
    "start_time": "2022-01-18T13:27:06.598Z"
   },
   {
    "duration": 170,
    "start_time": "2022-01-18T13:27:06.608Z"
   },
   {
    "duration": 251,
    "start_time": "2022-01-18T13:27:06.780Z"
   },
   {
    "duration": 43,
    "start_time": "2022-01-18T13:27:07.033Z"
   },
   {
    "duration": 26,
    "start_time": "2022-01-18T13:27:07.077Z"
   },
   {
    "duration": 12,
    "start_time": "2022-01-18T13:27:07.104Z"
   },
   {
    "duration": 234,
    "start_time": "2022-01-18T13:27:07.118Z"
   },
   {
    "duration": 288,
    "start_time": "2022-01-18T13:27:07.354Z"
   },
   {
    "duration": 272,
    "start_time": "2022-01-18T13:27:07.644Z"
   },
   {
    "duration": 56,
    "start_time": "2022-01-18T13:27:07.917Z"
   },
   {
    "duration": 19,
    "start_time": "2022-01-18T13:27:07.975Z"
   },
   {
    "duration": 20,
    "start_time": "2022-01-18T13:27:07.995Z"
   },
   {
    "duration": 28,
    "start_time": "2022-01-18T13:27:08.016Z"
   },
   {
    "duration": 37,
    "start_time": "2022-01-18T13:27:08.046Z"
   },
   {
    "duration": 20,
    "start_time": "2022-01-18T13:27:08.086Z"
   },
   {
    "duration": 26,
    "start_time": "2022-01-18T13:27:08.108Z"
   },
   {
    "duration": 20,
    "start_time": "2022-01-18T13:27:08.136Z"
   },
   {
    "duration": 10,
    "start_time": "2022-01-18T13:27:08.158Z"
   },
   {
    "duration": 28,
    "start_time": "2022-01-18T13:27:08.170Z"
   },
   {
    "duration": 137,
    "start_time": "2022-01-18T13:30:27.319Z"
   },
   {
    "duration": 145,
    "start_time": "2022-01-18T13:30:37.559Z"
   },
   {
    "duration": 6,
    "start_time": "2022-01-18T13:39:01.302Z"
   },
   {
    "duration": 1137,
    "start_time": "2022-01-18T18:59:18.396Z"
   },
   {
    "duration": 163,
    "start_time": "2022-01-18T18:59:19.973Z"
   },
   {
    "duration": 23,
    "start_time": "2022-01-18T18:59:20.520Z"
   },
   {
    "duration": 136,
    "start_time": "2022-01-18T18:59:20.823Z"
   },
   {
    "duration": 18,
    "start_time": "2022-01-18T18:59:21.068Z"
   },
   {
    "duration": 18,
    "start_time": "2022-01-18T18:59:21.489Z"
   },
   {
    "duration": 102,
    "start_time": "2022-01-18T18:59:21.921Z"
   },
   {
    "duration": 15,
    "start_time": "2022-01-18T18:59:23.429Z"
   },
   {
    "duration": 23,
    "start_time": "2022-01-18T18:59:24.275Z"
   },
   {
    "duration": 37,
    "start_time": "2022-01-18T18:59:24.942Z"
   },
   {
    "duration": 6,
    "start_time": "2022-01-18T18:59:26.709Z"
   },
   {
    "duration": 6,
    "start_time": "2022-01-18T18:59:27.552Z"
   },
   {
    "duration": 32,
    "start_time": "2022-01-18T18:59:40.609Z"
   },
   {
    "duration": 8,
    "start_time": "2022-01-18T18:59:40.893Z"
   },
   {
    "duration": 14,
    "start_time": "2022-01-18T18:59:41.120Z"
   },
   {
    "duration": 13,
    "start_time": "2022-01-18T18:59:41.356Z"
   },
   {
    "duration": 26,
    "start_time": "2022-01-18T18:59:41.608Z"
   },
   {
    "duration": 3,
    "start_time": "2022-01-18T18:59:42.082Z"
   },
   {
    "duration": 6,
    "start_time": "2022-01-18T18:59:44.128Z"
   },
   {
    "duration": 13,
    "start_time": "2022-01-18T18:59:47.567Z"
   },
   {
    "duration": 12,
    "start_time": "2022-01-18T18:59:49.673Z"
   },
   {
    "duration": 21,
    "start_time": "2022-01-18T18:59:50.333Z"
   },
   {
    "duration": 12,
    "start_time": "2022-01-18T18:59:51.178Z"
   },
   {
    "duration": 11,
    "start_time": "2022-01-18T18:59:52.208Z"
   },
   {
    "duration": 5,
    "start_time": "2022-01-18T18:59:53.137Z"
   },
   {
    "duration": 8,
    "start_time": "2022-01-18T18:59:56.063Z"
   },
   {
    "duration": 34,
    "start_time": "2022-01-18T18:59:56.485Z"
   },
   {
    "duration": 88,
    "start_time": "2022-01-18T18:59:56.984Z"
   },
   {
    "duration": 23,
    "start_time": "2022-01-18T18:59:57.715Z"
   },
   {
    "duration": 26,
    "start_time": "2022-01-18T18:59:57.917Z"
   },
   {
    "duration": 29,
    "start_time": "2022-01-18T18:59:58.639Z"
   },
   {
    "duration": 14,
    "start_time": "2022-01-18T18:59:59.204Z"
   },
   {
    "duration": 38,
    "start_time": "2022-01-18T18:59:59.420Z"
   },
   {
    "duration": 10,
    "start_time": "2022-01-18T18:59:59.875Z"
   },
   {
    "duration": 25,
    "start_time": "2022-01-18T19:00:00.166Z"
   },
   {
    "duration": 8,
    "start_time": "2022-01-18T19:00:00.413Z"
   },
   {
    "duration": 8,
    "start_time": "2022-01-18T19:00:03.864Z"
   },
   {
    "duration": 8,
    "start_time": "2022-01-18T19:00:04.506Z"
   },
   {
    "duration": 33,
    "start_time": "2022-01-18T19:00:04.988Z"
   },
   {
    "duration": 33,
    "start_time": "2022-01-18T19:00:07.855Z"
   },
   {
    "duration": 20,
    "start_time": "2022-01-18T19:00:09.001Z"
   },
   {
    "duration": 6,
    "start_time": "2022-01-18T19:00:09.756Z"
   },
   {
    "duration": 6,
    "start_time": "2022-01-18T19:00:12.290Z"
   },
   {
    "duration": 6,
    "start_time": "2022-01-18T19:00:58.990Z"
   },
   {
    "duration": 6,
    "start_time": "2022-01-18T19:01:18.330Z"
   },
   {
    "duration": 6,
    "start_time": "2022-01-18T19:01:18.930Z"
   },
   {
    "duration": 139,
    "start_time": "2022-01-18T19:01:26.392Z"
   },
   {
    "duration": 221,
    "start_time": "2022-01-18T19:01:27.769Z"
   },
   {
    "duration": 44,
    "start_time": "2022-01-18T19:01:41.569Z"
   },
   {
    "duration": 14,
    "start_time": "2022-01-18T19:01:44.278Z"
   },
   {
    "duration": 16,
    "start_time": "2022-01-18T19:01:48.681Z"
   },
   {
    "duration": 198,
    "start_time": "2022-01-18T19:01:50.177Z"
   },
   {
    "duration": 259,
    "start_time": "2022-01-18T19:01:52.858Z"
   },
   {
    "duration": 253,
    "start_time": "2022-01-18T19:01:53.441Z"
   },
   {
    "duration": 54,
    "start_time": "2022-01-18T19:01:54.694Z"
   },
   {
    "duration": 5,
    "start_time": "2022-01-18T19:02:00.592Z"
   },
   {
    "duration": 4,
    "start_time": "2022-01-18T19:02:00.817Z"
   },
   {
    "duration": 6,
    "start_time": "2022-01-18T19:02:03.874Z"
   },
   {
    "duration": 12,
    "start_time": "2022-01-18T19:02:17.386Z"
   },
   {
    "duration": 5,
    "start_time": "2022-01-18T19:02:19.339Z"
   },
   {
    "duration": 5,
    "start_time": "2022-01-18T19:02:19.660Z"
   },
   {
    "duration": 5,
    "start_time": "2022-01-18T19:02:21.298Z"
   },
   {
    "duration": 5,
    "start_time": "2022-01-18T19:02:25.367Z"
   },
   {
    "duration": 6,
    "start_time": "2022-01-18T19:02:27.336Z"
   },
   {
    "duration": 13,
    "start_time": "2022-01-18T19:03:03.841Z"
   },
   {
    "duration": 13,
    "start_time": "2022-01-18T19:03:04.042Z"
   },
   {
    "duration": 6,
    "start_time": "2022-01-18T19:03:04.251Z"
   },
   {
    "duration": 11,
    "start_time": "2022-01-18T19:03:04.418Z"
   },
   {
    "duration": 11,
    "start_time": "2022-01-18T19:03:04.598Z"
   },
   {
    "duration": 4,
    "start_time": "2022-01-18T19:03:04.797Z"
   },
   {
    "duration": 7,
    "start_time": "2022-01-18T19:03:04.995Z"
   },
   {
    "duration": 33,
    "start_time": "2022-01-18T19:03:05.416Z"
   },
   {
    "duration": 74,
    "start_time": "2022-01-18T19:03:05.630Z"
   },
   {
    "duration": 22,
    "start_time": "2022-01-18T19:03:06.084Z"
   },
   {
    "duration": 26,
    "start_time": "2022-01-18T19:03:06.548Z"
   },
   {
    "duration": 25,
    "start_time": "2022-01-18T19:03:07.834Z"
   },
   {
    "duration": 12,
    "start_time": "2022-01-18T19:03:08.787Z"
   },
   {
    "duration": 40,
    "start_time": "2022-01-18T19:03:09.402Z"
   },
   {
    "duration": 12,
    "start_time": "2022-01-18T19:03:10.016Z"
   },
   {
    "duration": 23,
    "start_time": "2022-01-18T19:03:10.659Z"
   },
   {
    "duration": 8,
    "start_time": "2022-01-18T19:03:11.667Z"
   },
   {
    "duration": 7,
    "start_time": "2022-01-18T19:03:15.249Z"
   },
   {
    "duration": 7,
    "start_time": "2022-01-18T19:03:15.532Z"
   },
   {
    "duration": 31,
    "start_time": "2022-01-18T19:03:15.746Z"
   },
   {
    "duration": 85,
    "start_time": "2022-01-18T19:04:09.121Z"
   },
   {
    "duration": 84,
    "start_time": "2022-01-18T19:04:13.158Z"
   },
   {
    "duration": 131,
    "start_time": "2022-01-18T19:04:36.498Z"
   },
   {
    "duration": 216,
    "start_time": "2022-01-18T19:04:36.917Z"
   },
   {
    "duration": 179,
    "start_time": "2022-01-18T19:06:14.017Z"
   },
   {
    "duration": 277,
    "start_time": "2022-01-18T19:07:12.641Z"
   },
   {
    "duration": 93,
    "start_time": "2022-01-18T19:10:02.180Z"
   },
   {
    "duration": 24,
    "start_time": "2022-01-18T19:13:09.553Z"
   },
   {
    "duration": 24,
    "start_time": "2022-01-18T19:13:27.063Z"
   },
   {
    "duration": 331,
    "start_time": "2022-01-18T19:13:42.088Z"
   },
   {
    "duration": 24,
    "start_time": "2022-01-18T19:13:53.752Z"
   },
   {
    "duration": 250,
    "start_time": "2022-01-18T19:13:54.236Z"
   },
   {
    "duration": 7,
    "start_time": "2022-01-18T19:14:03.951Z"
   },
   {
    "duration": 7,
    "start_time": "2022-01-18T19:14:07.369Z"
   },
   {
    "duration": 6,
    "start_time": "2022-01-18T19:14:08.146Z"
   },
   {
    "duration": 132,
    "start_time": "2022-01-18T19:14:10.861Z"
   },
   {
    "duration": 189,
    "start_time": "2022-01-18T19:14:11.716Z"
   },
   {
    "duration": 76,
    "start_time": "2022-01-18T19:16:04.478Z"
   },
   {
    "duration": 26,
    "start_time": "2022-01-18T19:16:26.071Z"
   },
   {
    "duration": 1207,
    "start_time": "2022-01-18T19:16:33.232Z"
   },
   {
    "duration": 180,
    "start_time": "2022-01-18T19:16:34.441Z"
   },
   {
    "duration": 22,
    "start_time": "2022-01-18T19:16:34.623Z"
   },
   {
    "duration": 149,
    "start_time": "2022-01-18T19:16:34.647Z"
   },
   {
    "duration": 16,
    "start_time": "2022-01-18T19:16:34.798Z"
   },
   {
    "duration": 34,
    "start_time": "2022-01-18T19:16:34.816Z"
   },
   {
    "duration": 113,
    "start_time": "2022-01-18T19:16:34.852Z"
   },
   {
    "duration": 14,
    "start_time": "2022-01-18T19:16:34.968Z"
   },
   {
    "duration": 33,
    "start_time": "2022-01-18T19:16:34.984Z"
   },
   {
    "duration": 67,
    "start_time": "2022-01-18T19:16:35.018Z"
   },
   {
    "duration": 17,
    "start_time": "2022-01-18T19:16:35.087Z"
   },
   {
    "duration": 21,
    "start_time": "2022-01-18T19:16:35.105Z"
   },
   {
    "duration": 46,
    "start_time": "2022-01-18T19:16:35.128Z"
   },
   {
    "duration": 7,
    "start_time": "2022-01-18T19:16:35.176Z"
   },
   {
    "duration": 32,
    "start_time": "2022-01-18T19:16:35.185Z"
   },
   {
    "duration": 28,
    "start_time": "2022-01-18T19:16:35.218Z"
   },
   {
    "duration": 46,
    "start_time": "2022-01-18T19:16:35.248Z"
   },
   {
    "duration": 3,
    "start_time": "2022-01-18T19:16:35.296Z"
   },
   {
    "duration": 23,
    "start_time": "2022-01-18T19:16:35.300Z"
   },
   {
    "duration": 21,
    "start_time": "2022-01-18T19:16:35.325Z"
   },
   {
    "duration": 27,
    "start_time": "2022-01-18T19:16:35.349Z"
   },
   {
    "duration": 35,
    "start_time": "2022-01-18T19:16:35.378Z"
   },
   {
    "duration": 11,
    "start_time": "2022-01-18T19:16:35.417Z"
   },
   {
    "duration": 36,
    "start_time": "2022-01-18T19:16:35.431Z"
   },
   {
    "duration": 41,
    "start_time": "2022-01-18T19:16:35.469Z"
   },
   {
    "duration": 21,
    "start_time": "2022-01-18T19:16:35.511Z"
   },
   {
    "duration": 58,
    "start_time": "2022-01-18T19:16:35.534Z"
   },
   {
    "duration": 90,
    "start_time": "2022-01-18T19:16:35.594Z"
   },
   {
    "duration": 23,
    "start_time": "2022-01-18T19:16:35.686Z"
   },
   {
    "duration": 30,
    "start_time": "2022-01-18T19:16:35.711Z"
   },
   {
    "duration": 46,
    "start_time": "2022-01-18T19:16:35.743Z"
   },
   {
    "duration": 14,
    "start_time": "2022-01-18T19:16:35.791Z"
   },
   {
    "duration": 64,
    "start_time": "2022-01-18T19:16:35.808Z"
   },
   {
    "duration": 11,
    "start_time": "2022-01-18T19:16:35.874Z"
   },
   {
    "duration": 23,
    "start_time": "2022-01-18T19:16:35.886Z"
   },
   {
    "duration": 7,
    "start_time": "2022-01-18T19:16:35.910Z"
   },
   {
    "duration": 8,
    "start_time": "2022-01-18T19:16:35.919Z"
   },
   {
    "duration": 35,
    "start_time": "2022-01-18T19:16:35.929Z"
   },
   {
    "duration": 22,
    "start_time": "2022-01-18T19:16:35.966Z"
   },
   {
    "duration": 23,
    "start_time": "2022-01-18T19:16:35.990Z"
   },
   {
    "duration": 6,
    "start_time": "2022-01-18T19:16:36.015Z"
   },
   {
    "duration": 5,
    "start_time": "2022-01-18T19:16:36.023Z"
   },
   {
    "duration": 35,
    "start_time": "2022-01-18T19:16:36.030Z"
   },
   {
    "duration": 154,
    "start_time": "2022-01-18T19:16:36.066Z"
   },
   {
    "duration": 196,
    "start_time": "2022-01-18T19:16:36.222Z"
   },
   {
    "duration": 725,
    "start_time": "2022-01-18T19:16:36.420Z"
   },
   {
    "duration": -2610,
    "start_time": "2022-01-18T19:16:39.757Z"
   },
   {
    "duration": -2624,
    "start_time": "2022-01-18T19:16:39.772Z"
   },
   {
    "duration": -2630,
    "start_time": "2022-01-18T19:16:39.780Z"
   },
   {
    "duration": -2637,
    "start_time": "2022-01-18T19:16:39.788Z"
   },
   {
    "duration": -2644,
    "start_time": "2022-01-18T19:16:39.796Z"
   },
   {
    "duration": -2650,
    "start_time": "2022-01-18T19:16:39.803Z"
   },
   {
    "duration": -2658,
    "start_time": "2022-01-18T19:16:39.812Z"
   },
   {
    "duration": -2665,
    "start_time": "2022-01-18T19:16:39.820Z"
   },
   {
    "duration": -2672,
    "start_time": "2022-01-18T19:16:39.828Z"
   },
   {
    "duration": -2679,
    "start_time": "2022-01-18T19:16:39.836Z"
   },
   {
    "duration": -2686,
    "start_time": "2022-01-18T19:16:39.844Z"
   },
   {
    "duration": -2694,
    "start_time": "2022-01-18T19:16:39.853Z"
   },
   {
    "duration": -2721,
    "start_time": "2022-01-18T19:16:39.882Z"
   },
   {
    "duration": -2726,
    "start_time": "2022-01-18T19:16:39.888Z"
   },
   {
    "duration": -2755,
    "start_time": "2022-01-18T19:16:39.918Z"
   },
   {
    "duration": 1565,
    "start_time": "2022-01-19T14:19:39.055Z"
   },
   {
    "duration": 202,
    "start_time": "2022-01-19T14:19:40.623Z"
   },
   {
    "duration": 39,
    "start_time": "2022-01-19T14:19:40.828Z"
   },
   {
    "duration": 170,
    "start_time": "2022-01-19T14:19:40.870Z"
   },
   {
    "duration": 29,
    "start_time": "2022-01-19T14:19:41.042Z"
   },
   {
    "duration": 23,
    "start_time": "2022-01-19T14:19:41.073Z"
   },
   {
    "duration": 133,
    "start_time": "2022-01-19T14:19:41.098Z"
   },
   {
    "duration": 30,
    "start_time": "2022-01-19T14:19:41.235Z"
   },
   {
    "duration": 27,
    "start_time": "2022-01-19T14:19:41.268Z"
   },
   {
    "duration": 46,
    "start_time": "2022-01-19T14:19:41.298Z"
   },
   {
    "duration": 8,
    "start_time": "2022-01-19T14:19:41.346Z"
   },
   {
    "duration": 14,
    "start_time": "2022-01-19T14:19:41.357Z"
   },
   {
    "duration": 46,
    "start_time": "2022-01-19T14:19:41.373Z"
   },
   {
    "duration": 8,
    "start_time": "2022-01-19T14:19:41.422Z"
   },
   {
    "duration": 35,
    "start_time": "2022-01-19T14:19:41.432Z"
   },
   {
    "duration": 17,
    "start_time": "2022-01-19T14:19:41.469Z"
   },
   {
    "duration": 33,
    "start_time": "2022-01-19T14:19:41.488Z"
   },
   {
    "duration": 3,
    "start_time": "2022-01-19T14:19:41.524Z"
   },
   {
    "duration": 39,
    "start_time": "2022-01-19T14:19:41.529Z"
   },
   {
    "duration": 21,
    "start_time": "2022-01-19T14:19:41.570Z"
   },
   {
    "duration": 15,
    "start_time": "2022-01-19T14:19:41.593Z"
   },
   {
    "duration": 28,
    "start_time": "2022-01-19T14:19:41.612Z"
   },
   {
    "duration": 15,
    "start_time": "2022-01-19T14:19:41.668Z"
   },
   {
    "duration": 23,
    "start_time": "2022-01-19T14:19:41.688Z"
   },
   {
    "duration": 26,
    "start_time": "2022-01-19T14:19:41.714Z"
   },
   {
    "duration": 30,
    "start_time": "2022-01-19T14:19:41.742Z"
   },
   {
    "duration": 54,
    "start_time": "2022-01-19T14:19:41.775Z"
   },
   {
    "duration": 112,
    "start_time": "2022-01-19T14:19:41.832Z"
   },
   {
    "duration": 39,
    "start_time": "2022-01-19T14:19:41.947Z"
   },
   {
    "duration": 34,
    "start_time": "2022-01-19T14:19:41.989Z"
   },
   {
    "duration": 61,
    "start_time": "2022-01-19T14:19:42.025Z"
   },
   {
    "duration": 19,
    "start_time": "2022-01-19T14:19:42.089Z"
   },
   {
    "duration": 73,
    "start_time": "2022-01-19T14:19:42.110Z"
   },
   {
    "duration": 15,
    "start_time": "2022-01-19T14:19:42.186Z"
   },
   {
    "duration": 44,
    "start_time": "2022-01-19T14:19:42.203Z"
   },
   {
    "duration": 21,
    "start_time": "2022-01-19T14:19:42.250Z"
   },
   {
    "duration": 16,
    "start_time": "2022-01-19T14:19:42.274Z"
   },
   {
    "duration": 39,
    "start_time": "2022-01-19T14:19:42.293Z"
   },
   {
    "duration": 40,
    "start_time": "2022-01-19T14:19:42.334Z"
   },
   {
    "duration": 37,
    "start_time": "2022-01-19T14:19:42.376Z"
   },
   {
    "duration": 9,
    "start_time": "2022-01-19T14:19:42.415Z"
   },
   {
    "duration": 39,
    "start_time": "2022-01-19T14:19:42.426Z"
   },
   {
    "duration": 7,
    "start_time": "2022-01-19T14:19:42.467Z"
   },
   {
    "duration": 232,
    "start_time": "2022-01-19T14:19:42.476Z"
   },
   {
    "duration": 297,
    "start_time": "2022-01-19T14:19:42.710Z"
   },
   {
    "duration": 481,
    "start_time": "2022-01-19T14:19:43.009Z"
   },
   {
    "duration": 191,
    "start_time": "2022-01-19T14:19:43.302Z"
   },
   {
    "duration": 188,
    "start_time": "2022-01-19T14:19:43.306Z"
   },
   {
    "duration": 187,
    "start_time": "2022-01-19T14:19:43.309Z"
   },
   {
    "duration": 185,
    "start_time": "2022-01-19T14:19:43.312Z"
   },
   {
    "duration": 178,
    "start_time": "2022-01-19T14:19:43.321Z"
   },
   {
    "duration": 175,
    "start_time": "2022-01-19T14:19:43.325Z"
   },
   {
    "duration": 173,
    "start_time": "2022-01-19T14:19:43.328Z"
   },
   {
    "duration": 171,
    "start_time": "2022-01-19T14:19:43.332Z"
   },
   {
    "duration": 171,
    "start_time": "2022-01-19T14:19:43.334Z"
   },
   {
    "duration": 169,
    "start_time": "2022-01-19T14:19:43.337Z"
   },
   {
    "duration": 167,
    "start_time": "2022-01-19T14:19:43.340Z"
   },
   {
    "duration": 166,
    "start_time": "2022-01-19T14:19:43.343Z"
   },
   {
    "duration": 157,
    "start_time": "2022-01-19T14:19:43.353Z"
   },
   {
    "duration": 156,
    "start_time": "2022-01-19T14:19:43.356Z"
   },
   {
    "duration": 154,
    "start_time": "2022-01-19T14:19:43.359Z"
   },
   {
    "duration": 440,
    "start_time": "2022-01-19T14:21:50.916Z"
   },
   {
    "duration": 212,
    "start_time": "2022-01-19T14:21:51.147Z"
   },
   {
    "duration": 190,
    "start_time": "2022-01-19T14:21:51.170Z"
   },
   {
    "duration": 187,
    "start_time": "2022-01-19T14:21:51.175Z"
   },
   {
    "duration": 183,
    "start_time": "2022-01-19T14:21:51.181Z"
   },
   {
    "duration": 180,
    "start_time": "2022-01-19T14:21:51.186Z"
   },
   {
    "duration": 171,
    "start_time": "2022-01-19T14:21:51.196Z"
   },
   {
    "duration": 169,
    "start_time": "2022-01-19T14:21:51.200Z"
   },
   {
    "duration": 167,
    "start_time": "2022-01-19T14:21:51.203Z"
   },
   {
    "duration": 163,
    "start_time": "2022-01-19T14:21:51.208Z"
   },
   {
    "duration": 162,
    "start_time": "2022-01-19T14:21:51.211Z"
   },
   {
    "duration": 161,
    "start_time": "2022-01-19T14:21:51.213Z"
   },
   {
    "duration": 158,
    "start_time": "2022-01-19T14:21:51.217Z"
   },
   {
    "duration": 157,
    "start_time": "2022-01-19T14:21:51.220Z"
   },
   {
    "duration": 155,
    "start_time": "2022-01-19T14:21:51.223Z"
   },
   {
    "duration": 418,
    "start_time": "2022-01-19T19:09:54.768Z"
   },
   {
    "duration": 351,
    "start_time": "2022-01-19T19:09:55.361Z"
   },
   {
    "duration": 1186,
    "start_time": "2022-01-19T19:09:54.529Z"
   },
   {
    "duration": 368,
    "start_time": "2022-01-19T19:09:56.105Z"
   },
   {
    "duration": 542,
    "start_time": "2022-01-19T19:09:56.739Z"
   },
   {
    "duration": 2104,
    "start_time": "2022-01-19T19:10:08.032Z"
   },
   {
    "duration": 211,
    "start_time": "2022-01-19T19:10:10.138Z"
   },
   {
    "duration": 32,
    "start_time": "2022-01-19T19:10:10.352Z"
   },
   {
    "duration": 182,
    "start_time": "2022-01-19T19:10:10.387Z"
   },
   {
    "duration": 24,
    "start_time": "2022-01-19T19:10:10.571Z"
   },
   {
    "duration": 24,
    "start_time": "2022-01-19T19:10:10.597Z"
   },
   {
    "duration": 236,
    "start_time": "2022-01-19T19:10:10.624Z"
   },
   {
    "duration": 39,
    "start_time": "2022-01-19T19:10:10.866Z"
   },
   {
    "duration": 50,
    "start_time": "2022-01-19T19:10:10.909Z"
   },
   {
    "duration": 61,
    "start_time": "2022-01-19T19:10:10.962Z"
   },
   {
    "duration": 17,
    "start_time": "2022-01-19T19:10:11.026Z"
   },
   {
    "duration": 15,
    "start_time": "2022-01-19T19:10:11.046Z"
   },
   {
    "duration": 49,
    "start_time": "2022-01-19T19:10:11.063Z"
   },
   {
    "duration": 8,
    "start_time": "2022-01-19T19:10:11.115Z"
   },
   {
    "duration": 48,
    "start_time": "2022-01-19T19:10:11.126Z"
   },
   {
    "duration": 17,
    "start_time": "2022-01-19T19:10:11.176Z"
   },
   {
    "duration": 81,
    "start_time": "2022-01-19T19:10:11.196Z"
   },
   {
    "duration": 3,
    "start_time": "2022-01-19T19:10:11.280Z"
   },
   {
    "duration": 5,
    "start_time": "2022-01-19T19:10:11.286Z"
   },
   {
    "duration": 21,
    "start_time": "2022-01-19T19:10:11.294Z"
   },
   {
    "duration": 42,
    "start_time": "2022-01-19T19:10:11.317Z"
   },
   {
    "duration": 49,
    "start_time": "2022-01-19T19:10:11.362Z"
   },
   {
    "duration": 43,
    "start_time": "2022-01-19T19:10:11.422Z"
   },
   {
    "duration": 22,
    "start_time": "2022-01-19T19:10:11.468Z"
   },
   {
    "duration": 10,
    "start_time": "2022-01-19T19:10:11.493Z"
   },
   {
    "duration": 19,
    "start_time": "2022-01-19T19:10:11.506Z"
   },
   {
    "duration": 73,
    "start_time": "2022-01-19T19:10:11.527Z"
   },
   {
    "duration": 117,
    "start_time": "2022-01-19T19:10:11.602Z"
   },
   {
    "duration": 49,
    "start_time": "2022-01-19T19:10:11.722Z"
   },
   {
    "duration": 39,
    "start_time": "2022-01-19T19:10:11.773Z"
   },
   {
    "duration": 59,
    "start_time": "2022-01-19T19:10:11.814Z"
   },
   {
    "duration": 18,
    "start_time": "2022-01-19T19:10:11.875Z"
   },
   {
    "duration": 65,
    "start_time": "2022-01-19T19:10:11.895Z"
   },
   {
    "duration": 26,
    "start_time": "2022-01-19T19:10:11.962Z"
   },
   {
    "duration": 32,
    "start_time": "2022-01-19T19:10:11.990Z"
   },
   {
    "duration": 9,
    "start_time": "2022-01-19T19:10:12.024Z"
   },
   {
    "duration": 2539,
    "start_time": "2022-01-19T19:10:12.035Z"
   },
   {
    "duration": 1088,
    "start_time": "2022-01-19T19:10:13.488Z"
   },
   {
    "duration": 1074,
    "start_time": "2022-01-19T19:10:13.504Z"
   },
   {
    "duration": 1063,
    "start_time": "2022-01-19T19:10:13.517Z"
   },
   {
    "duration": 1048,
    "start_time": "2022-01-19T19:10:13.533Z"
   },
   {
    "duration": 1037,
    "start_time": "2022-01-19T19:10:13.546Z"
   },
   {
    "duration": 998,
    "start_time": "2022-01-19T19:10:13.586Z"
   },
   {
    "duration": 990,
    "start_time": "2022-01-19T19:10:13.596Z"
   },
   {
    "duration": 976,
    "start_time": "2022-01-19T19:10:13.611Z"
   },
   {
    "duration": 966,
    "start_time": "2022-01-19T19:10:13.622Z"
   },
   {
    "duration": 959,
    "start_time": "2022-01-19T19:10:13.631Z"
   },
   {
    "duration": 952,
    "start_time": "2022-01-19T19:10:13.639Z"
   },
   {
    "duration": 945,
    "start_time": "2022-01-19T19:10:13.648Z"
   },
   {
    "duration": 939,
    "start_time": "2022-01-19T19:10:13.655Z"
   },
   {
    "duration": 932,
    "start_time": "2022-01-19T19:10:13.664Z"
   },
   {
    "duration": 926,
    "start_time": "2022-01-19T19:10:13.671Z"
   },
   {
    "duration": 903,
    "start_time": "2022-01-19T19:10:13.696Z"
   },
   {
    "duration": 898,
    "start_time": "2022-01-19T19:10:13.702Z"
   },
   {
    "duration": 892,
    "start_time": "2022-01-19T19:10:13.710Z"
   },
   {
    "duration": 883,
    "start_time": "2022-01-19T19:10:13.720Z"
   },
   {
    "duration": 843,
    "start_time": "2022-01-19T19:10:13.761Z"
   },
   {
    "duration": 838,
    "start_time": "2022-01-19T19:10:13.768Z"
   },
   {
    "duration": 815,
    "start_time": "2022-01-19T19:10:13.792Z"
   },
   {
    "duration": 797,
    "start_time": "2022-01-19T19:10:13.812Z"
   },
   {
    "duration": 828,
    "start_time": "2022-01-19T19:10:13.830Z"
   },
   {
    "duration": 527,
    "start_time": "2022-01-19T19:11:06.120Z"
   },
   {
    "duration": 7,
    "start_time": "2022-01-19T19:14:43.437Z"
   },
   {
    "duration": 9,
    "start_time": "2022-01-19T19:14:46.191Z"
   },
   {
    "duration": 33,
    "start_time": "2022-01-19T19:14:51.757Z"
   },
   {
    "duration": 36,
    "start_time": "2022-01-19T19:14:57.558Z"
   },
   {
    "duration": 9,
    "start_time": "2022-01-19T19:14:57.808Z"
   },
   {
    "duration": 15,
    "start_time": "2022-01-19T19:15:00.213Z"
   },
   {
    "duration": 7,
    "start_time": "2022-01-19T19:15:00.963Z"
   },
   {
    "duration": 630,
    "start_time": "2022-01-19T19:16:16.908Z"
   },
   {
    "duration": 9745,
    "start_time": "2022-01-19T19:17:03.251Z"
   },
   {
    "duration": 122,
    "start_time": "2022-01-19T19:34:27.245Z"
   },
   {
    "duration": 225,
    "start_time": "2022-01-19T19:34:33.101Z"
   },
   {
    "duration": 7,
    "start_time": "2022-01-19T19:35:34.502Z"
   },
   {
    "duration": 8,
    "start_time": "2022-01-19T19:36:00.617Z"
   },
   {
    "duration": 7,
    "start_time": "2022-01-19T19:36:02.265Z"
   },
   {
    "duration": 225,
    "start_time": "2022-01-19T19:36:04.412Z"
   },
   {
    "duration": 208,
    "start_time": "2022-01-19T19:36:17.919Z"
   },
   {
    "duration": 7,
    "start_time": "2022-01-19T19:43:47.197Z"
   },
   {
    "duration": 7,
    "start_time": "2022-01-19T19:43:48.530Z"
   },
   {
    "duration": 17,
    "start_time": "2022-01-19T19:44:01.325Z"
   },
   {
    "duration": 7,
    "start_time": "2022-01-19T19:44:02.376Z"
   },
   {
    "duration": 221,
    "start_time": "2022-01-19T19:44:08.052Z"
   },
   {
    "duration": 319,
    "start_time": "2022-01-19T19:44:09.794Z"
   },
   {
    "duration": 380,
    "start_time": "2022-01-19T19:44:20.795Z"
   },
   {
    "duration": 70,
    "start_time": "2022-01-19T19:44:32.892Z"
   },
   {
    "duration": 18,
    "start_time": "2022-01-19T19:44:39.505Z"
   },
   {
    "duration": 14,
    "start_time": "2022-01-19T19:44:44.720Z"
   },
   {
    "duration": 308,
    "start_time": "2022-01-19T19:44:45.190Z"
   },
   {
    "duration": 654,
    "start_time": "2022-01-19T19:44:46.673Z"
   },
   {
    "duration": 410,
    "start_time": "2022-01-19T19:44:47.821Z"
   },
   {
    "duration": 97,
    "start_time": "2022-01-19T19:44:48.234Z"
   },
   {
    "duration": 7,
    "start_time": "2022-01-19T19:44:51.058Z"
   },
   {
    "duration": 5,
    "start_time": "2022-01-19T19:44:51.358Z"
   },
   {
    "duration": 7,
    "start_time": "2022-01-19T19:44:52.615Z"
   },
   {
    "duration": 18,
    "start_time": "2022-01-19T19:44:58.107Z"
   },
   {
    "duration": 6,
    "start_time": "2022-01-19T19:44:58.528Z"
   },
   {
    "duration": 6,
    "start_time": "2022-01-19T19:44:58.998Z"
   },
   {
    "duration": 7,
    "start_time": "2022-01-19T19:45:00.904Z"
   },
   {
    "duration": 5,
    "start_time": "2022-01-19T19:45:01.628Z"
   },
   {
    "duration": 7,
    "start_time": "2022-01-19T19:45:02.119Z"
   },
   {
    "duration": 139,
    "start_time": "2022-01-19T19:45:40.351Z"
   },
   {
    "duration": 1462,
    "start_time": "2022-01-19T19:46:06.454Z"
   },
   {
    "duration": 214,
    "start_time": "2022-01-19T19:46:07.919Z"
   },
   {
    "duration": 37,
    "start_time": "2022-01-19T19:46:08.137Z"
   },
   {
    "duration": 184,
    "start_time": "2022-01-19T19:46:08.178Z"
   },
   {
    "duration": 26,
    "start_time": "2022-01-19T19:46:08.365Z"
   },
   {
    "duration": 24,
    "start_time": "2022-01-19T19:46:08.393Z"
   },
   {
    "duration": 159,
    "start_time": "2022-01-19T19:46:08.420Z"
   },
   {
    "duration": 20,
    "start_time": "2022-01-19T19:46:08.585Z"
   },
   {
    "duration": 30,
    "start_time": "2022-01-19T19:46:08.609Z"
   },
   {
    "duration": 45,
    "start_time": "2022-01-19T19:46:08.660Z"
   },
   {
    "duration": 8,
    "start_time": "2022-01-19T19:46:08.707Z"
   },
   {
    "duration": 9,
    "start_time": "2022-01-19T19:46:08.717Z"
   },
   {
    "duration": 61,
    "start_time": "2022-01-19T19:46:08.728Z"
   },
   {
    "duration": 8,
    "start_time": "2022-01-19T19:46:08.791Z"
   },
   {
    "duration": 19,
    "start_time": "2022-01-19T19:46:08.802Z"
   },
   {
    "duration": 42,
    "start_time": "2022-01-19T19:46:08.823Z"
   },
   {
    "duration": 35,
    "start_time": "2022-01-19T19:46:08.868Z"
   },
   {
    "duration": 3,
    "start_time": "2022-01-19T19:46:08.905Z"
   },
   {
    "duration": 5,
    "start_time": "2022-01-19T19:46:08.910Z"
   },
   {
    "duration": 46,
    "start_time": "2022-01-19T19:46:08.917Z"
   },
   {
    "duration": 16,
    "start_time": "2022-01-19T19:46:08.966Z"
   },
   {
    "duration": 25,
    "start_time": "2022-01-19T19:46:08.984Z"
   },
   {
    "duration": 44,
    "start_time": "2022-01-19T19:46:09.015Z"
   },
   {
    "duration": 13,
    "start_time": "2022-01-19T19:46:09.063Z"
   },
   {
    "duration": 6,
    "start_time": "2022-01-19T19:46:09.079Z"
   },
   {
    "duration": 10,
    "start_time": "2022-01-19T19:46:09.087Z"
   },
   {
    "duration": 76,
    "start_time": "2022-01-19T19:46:09.099Z"
   },
   {
    "duration": 116,
    "start_time": "2022-01-19T19:46:09.178Z"
   },
   {
    "duration": 33,
    "start_time": "2022-01-19T19:46:09.297Z"
   },
   {
    "duration": 58,
    "start_time": "2022-01-19T19:46:09.333Z"
   },
   {
    "duration": 39,
    "start_time": "2022-01-19T19:46:09.394Z"
   },
   {
    "duration": 19,
    "start_time": "2022-01-19T19:46:09.460Z"
   },
   {
    "duration": 41,
    "start_time": "2022-01-19T19:46:09.481Z"
   },
   {
    "duration": 40,
    "start_time": "2022-01-19T19:46:09.524Z"
   },
   {
    "duration": 32,
    "start_time": "2022-01-19T19:46:09.566Z"
   },
   {
    "duration": 8,
    "start_time": "2022-01-19T19:46:09.600Z"
   },
   {
    "duration": 6,
    "start_time": "2022-01-19T19:46:09.611Z"
   },
   {
    "duration": 41,
    "start_time": "2022-01-19T19:46:09.619Z"
   },
   {
    "duration": 35,
    "start_time": "2022-01-19T19:46:09.663Z"
   },
   {
    "duration": 74,
    "start_time": "2022-01-19T19:46:09.702Z"
   },
   {
    "duration": 11,
    "start_time": "2022-01-19T19:46:09.779Z"
   },
   {
    "duration": 26,
    "start_time": "2022-01-19T19:46:09.793Z"
   },
   {
    "duration": 9,
    "start_time": "2022-01-19T19:46:09.821Z"
   },
   {
    "duration": 267,
    "start_time": "2022-01-19T19:46:09.832Z"
   },
   {
    "duration": 328,
    "start_time": "2022-01-19T19:46:10.102Z"
   },
   {
    "duration": 70,
    "start_time": "2022-01-19T19:46:10.433Z"
   },
   {
    "duration": 18,
    "start_time": "2022-01-19T19:46:10.505Z"
   },
   {
    "duration": 37,
    "start_time": "2022-01-19T19:46:10.525Z"
   },
   {
    "duration": 348,
    "start_time": "2022-01-19T19:46:10.564Z"
   },
   {
    "duration": 448,
    "start_time": "2022-01-19T19:46:10.915Z"
   },
   {
    "duration": 424,
    "start_time": "2022-01-19T19:46:11.365Z"
   },
   {
    "duration": 93,
    "start_time": "2022-01-19T19:46:11.792Z"
   },
   {
    "duration": 6,
    "start_time": "2022-01-19T19:46:11.887Z"
   },
   {
    "duration": 8,
    "start_time": "2022-01-19T19:46:11.895Z"
   },
   {
    "duration": 7,
    "start_time": "2022-01-19T19:46:11.905Z"
   },
   {
    "duration": 48,
    "start_time": "2022-01-19T19:46:11.914Z"
   },
   {
    "duration": 5,
    "start_time": "2022-01-19T19:46:11.965Z"
   },
   {
    "duration": 8,
    "start_time": "2022-01-19T19:46:11.973Z"
   },
   {
    "duration": 6,
    "start_time": "2022-01-19T19:46:11.984Z"
   },
   {
    "duration": 6,
    "start_time": "2022-01-19T19:46:11.993Z"
   },
   {
    "duration": 7,
    "start_time": "2022-01-19T19:46:12.002Z"
   },
   {
    "duration": 1245,
    "start_time": "2022-01-20T08:56:36.145Z"
   },
   {
    "duration": 170,
    "start_time": "2022-01-20T08:56:37.393Z"
   },
   {
    "duration": 20,
    "start_time": "2022-01-20T08:56:37.565Z"
   },
   {
    "duration": 168,
    "start_time": "2022-01-20T08:56:37.587Z"
   },
   {
    "duration": 25,
    "start_time": "2022-01-20T08:56:37.758Z"
   },
   {
    "duration": 26,
    "start_time": "2022-01-20T08:56:37.785Z"
   },
   {
    "duration": 104,
    "start_time": "2022-01-20T08:56:37.813Z"
   },
   {
    "duration": 15,
    "start_time": "2022-01-20T08:56:37.921Z"
   },
   {
    "duration": 26,
    "start_time": "2022-01-20T08:56:37.939Z"
   },
   {
    "duration": 68,
    "start_time": "2022-01-20T08:56:37.967Z"
   },
   {
    "duration": 8,
    "start_time": "2022-01-20T08:56:38.037Z"
   },
   {
    "duration": 25,
    "start_time": "2022-01-20T08:56:38.047Z"
   },
   {
    "duration": 62,
    "start_time": "2022-01-20T08:56:38.074Z"
   },
   {
    "duration": 10,
    "start_time": "2022-01-20T08:56:38.141Z"
   },
   {
    "duration": 23,
    "start_time": "2022-01-20T08:56:38.153Z"
   },
   {
    "duration": 27,
    "start_time": "2022-01-20T08:56:38.178Z"
   },
   {
    "duration": 45,
    "start_time": "2022-01-20T08:56:38.208Z"
   },
   {
    "duration": 6,
    "start_time": "2022-01-20T08:56:38.254Z"
   },
   {
    "duration": 39,
    "start_time": "2022-01-20T08:56:38.262Z"
   },
   {
    "duration": 66,
    "start_time": "2022-01-20T08:56:38.302Z"
   },
   {
    "duration": 53,
    "start_time": "2022-01-20T08:56:38.370Z"
   },
   {
    "duration": 38,
    "start_time": "2022-01-20T08:56:38.424Z"
   },
   {
    "duration": 36,
    "start_time": "2022-01-20T08:56:38.466Z"
   },
   {
    "duration": 31,
    "start_time": "2022-01-20T08:56:38.504Z"
   },
   {
    "duration": 59,
    "start_time": "2022-01-20T08:56:38.537Z"
   },
   {
    "duration": 43,
    "start_time": "2022-01-20T08:56:38.598Z"
   },
   {
    "duration": 65,
    "start_time": "2022-01-20T08:56:38.643Z"
   },
   {
    "duration": 102,
    "start_time": "2022-01-20T08:56:38.710Z"
   },
   {
    "duration": 24,
    "start_time": "2022-01-20T08:56:38.814Z"
   },
   {
    "duration": 55,
    "start_time": "2022-01-20T08:56:38.840Z"
   },
   {
    "duration": 31,
    "start_time": "2022-01-20T08:56:38.897Z"
   },
   {
    "duration": 19,
    "start_time": "2022-01-20T08:56:38.930Z"
   },
   {
    "duration": 54,
    "start_time": "2022-01-20T08:56:38.951Z"
   },
   {
    "duration": 16,
    "start_time": "2022-01-20T08:56:39.008Z"
   },
   {
    "duration": 70,
    "start_time": "2022-01-20T08:56:39.026Z"
   },
   {
    "duration": 7,
    "start_time": "2022-01-20T08:56:39.098Z"
   },
   {
    "duration": 23,
    "start_time": "2022-01-20T08:56:39.106Z"
   },
   {
    "duration": 36,
    "start_time": "2022-01-20T08:56:39.131Z"
   },
   {
    "duration": 59,
    "start_time": "2022-01-20T08:56:39.170Z"
   },
   {
    "duration": 32,
    "start_time": "2022-01-20T08:56:39.232Z"
   },
   {
    "duration": 15,
    "start_time": "2022-01-20T08:56:39.267Z"
   },
   {
    "duration": 33,
    "start_time": "2022-01-20T08:56:39.284Z"
   },
   {
    "duration": 17,
    "start_time": "2022-01-20T08:56:39.318Z"
   },
   {
    "duration": 171,
    "start_time": "2022-01-20T08:56:39.337Z"
   },
   {
    "duration": 232,
    "start_time": "2022-01-20T08:56:39.510Z"
   },
   {
    "duration": 34,
    "start_time": "2022-01-20T08:56:39.744Z"
   },
   {
    "duration": 30,
    "start_time": "2022-01-20T08:56:39.780Z"
   },
   {
    "duration": 44,
    "start_time": "2022-01-20T08:56:39.812Z"
   },
   {
    "duration": 229,
    "start_time": "2022-01-20T08:56:39.858Z"
   },
   {
    "duration": 316,
    "start_time": "2022-01-20T08:56:40.090Z"
   },
   {
    "duration": 291,
    "start_time": "2022-01-20T08:56:40.407Z"
   },
   {
    "duration": 52,
    "start_time": "2022-01-20T08:56:40.700Z"
   },
   {
    "duration": 4,
    "start_time": "2022-01-20T08:56:40.754Z"
   },
   {
    "duration": 26,
    "start_time": "2022-01-20T08:56:40.760Z"
   },
   {
    "duration": 33,
    "start_time": "2022-01-20T08:56:40.788Z"
   },
   {
    "duration": 27,
    "start_time": "2022-01-20T08:56:40.823Z"
   },
   {
    "duration": 29,
    "start_time": "2022-01-20T08:56:40.851Z"
   },
   {
    "duration": 24,
    "start_time": "2022-01-20T08:56:40.882Z"
   },
   {
    "duration": 35,
    "start_time": "2022-01-20T08:56:40.908Z"
   },
   {
    "duration": 14,
    "start_time": "2022-01-20T08:56:40.945Z"
   },
   {
    "duration": 34,
    "start_time": "2022-01-20T08:56:40.960Z"
   }
  ],
  "kernelspec": {
   "display_name": "Python 3 (ipykernel)",
   "language": "python",
   "name": "python3"
  },
  "language_info": {
   "codemirror_mode": {
    "name": "ipython",
    "version": 3
   },
   "file_extension": ".py",
   "mimetype": "text/x-python",
   "name": "python",
   "nbconvert_exporter": "python",
   "pygments_lexer": "ipython3",
   "version": "3.9.5"
  },
  "toc": {
   "base_numbering": 1,
   "nav_menu": {},
   "number_sections": true,
   "sideBar": true,
   "skip_h1_title": true,
   "title_cell": "Table of Contents",
   "title_sidebar": "Contents",
   "toc_cell": false,
   "toc_position": {
    "height": "calc(100% - 180px)",
    "left": "10px",
    "top": "150px",
    "width": "249.875px"
   },
   "toc_section_display": true,
   "toc_window_display": true
  }
 },
 "nbformat": 4,
 "nbformat_minor": 2
}
