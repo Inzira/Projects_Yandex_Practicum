{
 "cells": [
  {
   "cell_type": "markdown",
   "metadata": {},
   "source": [
    "# Описание проекта"
   ]
  },
  {
   "cell_type": "markdown",
   "metadata": {},
   "source": [
    "Сеть фитнес-центров «Культурист-датасаентист» разрабатывает стратегию взаимодействия с клиентами на основе аналитических данных."
   ]
  },
  {
   "cell_type": "markdown",
   "metadata": {},
   "source": [
    "##### Цель проекта:"
   ]
  },
  {
   "cell_type": "markdown",
   "metadata": {},
   "source": [
    "Провести анализ и подготовить план действий по удержанию клиентов.\n",
    "\n",
    "А именно:\n",
    "научиться прогнозировать вероятность оттока (на уровне следующего месяца) для каждого клиента;\n",
    "сформировать типичные портреты клиентов: выделить несколько наиболее ярких групп и охарактеризовать их основные свойства;\n",
    "проанализировать основные признаки, наиболее сильно влияющие на отток;\n",
    "сформулировать основные выводы и разработать рекомендации по повышению качества работы с клиентами:\n",
    "\n",
    "1) выделить целевые группы клиентов;\n",
    "\n",
    "2) предложить меры по снижению оттока;\n",
    "\n",
    "3) определить другие особенности взаимодействия с клиентами."
   ]
  },
  {
   "cell_type": "markdown",
   "metadata": {},
   "source": [
    "# План работ"
   ]
  },
  {
   "cell_type": "markdown",
   "metadata": {},
   "source": [
    "1. <a href='#1'> Изучение файлов с данными, получение общей информации, загрузка библиотек  </a>\n",
    "\n",
    "\n",
    "\n",
    "\n",
    "2. <a href='#2'> Исследовательский анализ данных </a>\n",
    "\n",
    "\n",
    "3. <a href='#3'> Построим модель прогнозирования оттока клиентов </a>\n",
    "\n",
    "\n",
    "\n",
    "4. <a href='#4'> Сделаем кластеризацию клиентов</a>\n",
    "\n",
    "\n",
    "5. <a href='#5'>  Вывод </a>"
   ]
  },
  {
   "cell_type": "markdown",
   "metadata": {},
   "source": [
    "<a id='1'></a>\n",
    "### Изучение файлов с данными, получение общей информации, загрузка библиотек "
   ]
  },
  {
   "cell_type": "code",
   "execution_count": 1,
   "metadata": {},
   "outputs": [],
   "source": [
    "import pandas as pd\n",
    "import seaborn as sns\n",
    "import matplotlib.pyplot as plt\n",
    "\n",
    "from sklearn.model_selection import train_test_split\n",
    "from sklearn.linear_model import LogisticRegression\n",
    "from sklearn.preprocessing import StandardScaler\n",
    "from sklearn.ensemble import RandomForestClassifier, GradientBoostingClassifier\n",
    "from sklearn.metrics import accuracy_score, precision_score, recall_score, f1_score\n",
    "from sklearn.metrics import roc_auc_score\n",
    "from sklearn.cluster import KMeans\n",
    "from scipy.cluster.hierarchy import dendrogram, linkage\n",
    "\n",
    "import warnings\n",
    "warnings.filterwarnings('ignore')"
   ]
  },
  {
   "cell_type": "code",
   "execution_count": 2,
   "metadata": {},
   "outputs": [],
   "source": [
    "# настройка отображения\n",
    "pd.set_option('display.max_columns', None)\n",
    "pd.options.display.float_format = '{:,.2f}'.format"
   ]
  },
  {
   "cell_type": "code",
   "execution_count": 3,
   "metadata": {},
   "outputs": [
    {
     "data": {
      "text/html": [
       "<div>\n",
       "<style scoped>\n",
       "    .dataframe tbody tr th:only-of-type {\n",
       "        vertical-align: middle;\n",
       "    }\n",
       "\n",
       "    .dataframe tbody tr th {\n",
       "        vertical-align: top;\n",
       "    }\n",
       "\n",
       "    .dataframe thead th {\n",
       "        text-align: right;\n",
       "    }\n",
       "</style>\n",
       "<table border=\"1\" class=\"dataframe\">\n",
       "  <thead>\n",
       "    <tr style=\"text-align: right;\">\n",
       "      <th></th>\n",
       "      <th>gender</th>\n",
       "      <th>Near_Location</th>\n",
       "      <th>Partner</th>\n",
       "      <th>Promo_friends</th>\n",
       "      <th>Phone</th>\n",
       "      <th>Contract_period</th>\n",
       "      <th>Group_visits</th>\n",
       "      <th>Age</th>\n",
       "      <th>Avg_additional_charges_total</th>\n",
       "      <th>Month_to_end_contract</th>\n",
       "      <th>Lifetime</th>\n",
       "      <th>Avg_class_frequency_total</th>\n",
       "      <th>Avg_class_frequency_current_month</th>\n",
       "      <th>Churn</th>\n",
       "    </tr>\n",
       "  </thead>\n",
       "  <tbody>\n",
       "    <tr>\n",
       "      <th>0</th>\n",
       "      <td>1</td>\n",
       "      <td>1</td>\n",
       "      <td>1</td>\n",
       "      <td>1</td>\n",
       "      <td>0</td>\n",
       "      <td>6</td>\n",
       "      <td>1</td>\n",
       "      <td>29</td>\n",
       "      <td>14.23</td>\n",
       "      <td>5.00</td>\n",
       "      <td>3</td>\n",
       "      <td>0.02</td>\n",
       "      <td>0.00</td>\n",
       "      <td>0</td>\n",
       "    </tr>\n",
       "    <tr>\n",
       "      <th>1</th>\n",
       "      <td>0</td>\n",
       "      <td>1</td>\n",
       "      <td>0</td>\n",
       "      <td>0</td>\n",
       "      <td>1</td>\n",
       "      <td>12</td>\n",
       "      <td>1</td>\n",
       "      <td>31</td>\n",
       "      <td>113.20</td>\n",
       "      <td>12.00</td>\n",
       "      <td>7</td>\n",
       "      <td>1.92</td>\n",
       "      <td>1.91</td>\n",
       "      <td>0</td>\n",
       "    </tr>\n",
       "    <tr>\n",
       "      <th>2</th>\n",
       "      <td>0</td>\n",
       "      <td>1</td>\n",
       "      <td>1</td>\n",
       "      <td>0</td>\n",
       "      <td>1</td>\n",
       "      <td>1</td>\n",
       "      <td>0</td>\n",
       "      <td>28</td>\n",
       "      <td>129.45</td>\n",
       "      <td>1.00</td>\n",
       "      <td>2</td>\n",
       "      <td>1.86</td>\n",
       "      <td>1.74</td>\n",
       "      <td>0</td>\n",
       "    </tr>\n",
       "    <tr>\n",
       "      <th>3</th>\n",
       "      <td>0</td>\n",
       "      <td>1</td>\n",
       "      <td>1</td>\n",
       "      <td>1</td>\n",
       "      <td>1</td>\n",
       "      <td>12</td>\n",
       "      <td>1</td>\n",
       "      <td>33</td>\n",
       "      <td>62.67</td>\n",
       "      <td>12.00</td>\n",
       "      <td>2</td>\n",
       "      <td>3.21</td>\n",
       "      <td>3.36</td>\n",
       "      <td>0</td>\n",
       "    </tr>\n",
       "    <tr>\n",
       "      <th>4</th>\n",
       "      <td>1</td>\n",
       "      <td>1</td>\n",
       "      <td>1</td>\n",
       "      <td>1</td>\n",
       "      <td>1</td>\n",
       "      <td>1</td>\n",
       "      <td>0</td>\n",
       "      <td>26</td>\n",
       "      <td>198.36</td>\n",
       "      <td>1.00</td>\n",
       "      <td>3</td>\n",
       "      <td>1.11</td>\n",
       "      <td>1.12</td>\n",
       "      <td>0</td>\n",
       "    </tr>\n",
       "    <tr>\n",
       "      <th>5</th>\n",
       "      <td>1</td>\n",
       "      <td>1</td>\n",
       "      <td>0</td>\n",
       "      <td>0</td>\n",
       "      <td>1</td>\n",
       "      <td>1</td>\n",
       "      <td>1</td>\n",
       "      <td>34</td>\n",
       "      <td>450.74</td>\n",
       "      <td>1.00</td>\n",
       "      <td>3</td>\n",
       "      <td>2.62</td>\n",
       "      <td>2.64</td>\n",
       "      <td>0</td>\n",
       "    </tr>\n",
       "    <tr>\n",
       "      <th>6</th>\n",
       "      <td>1</td>\n",
       "      <td>1</td>\n",
       "      <td>1</td>\n",
       "      <td>1</td>\n",
       "      <td>0</td>\n",
       "      <td>6</td>\n",
       "      <td>1</td>\n",
       "      <td>32</td>\n",
       "      <td>94.27</td>\n",
       "      <td>6.00</td>\n",
       "      <td>2</td>\n",
       "      <td>1.14</td>\n",
       "      <td>1.28</td>\n",
       "      <td>0</td>\n",
       "    </tr>\n",
       "    <tr>\n",
       "      <th>7</th>\n",
       "      <td>0</td>\n",
       "      <td>1</td>\n",
       "      <td>0</td>\n",
       "      <td>0</td>\n",
       "      <td>1</td>\n",
       "      <td>1</td>\n",
       "      <td>0</td>\n",
       "      <td>30</td>\n",
       "      <td>217.79</td>\n",
       "      <td>1.00</td>\n",
       "      <td>0</td>\n",
       "      <td>1.21</td>\n",
       "      <td>1.05</td>\n",
       "      <td>1</td>\n",
       "    </tr>\n",
       "    <tr>\n",
       "      <th>8</th>\n",
       "      <td>1</td>\n",
       "      <td>1</td>\n",
       "      <td>1</td>\n",
       "      <td>1</td>\n",
       "      <td>1</td>\n",
       "      <td>1</td>\n",
       "      <td>1</td>\n",
       "      <td>23</td>\n",
       "      <td>45.41</td>\n",
       "      <td>1.00</td>\n",
       "      <td>1</td>\n",
       "      <td>1.11</td>\n",
       "      <td>1.06</td>\n",
       "      <td>0</td>\n",
       "    </tr>\n",
       "    <tr>\n",
       "      <th>9</th>\n",
       "      <td>0</td>\n",
       "      <td>1</td>\n",
       "      <td>0</td>\n",
       "      <td>0</td>\n",
       "      <td>1</td>\n",
       "      <td>1</td>\n",
       "      <td>0</td>\n",
       "      <td>31</td>\n",
       "      <td>65.31</td>\n",
       "      <td>1.00</td>\n",
       "      <td>11</td>\n",
       "      <td>1.81</td>\n",
       "      <td>1.95</td>\n",
       "      <td>0</td>\n",
       "    </tr>\n",
       "  </tbody>\n",
       "</table>\n",
       "</div>"
      ],
      "text/plain": [
       "   gender  Near_Location  Partner  Promo_friends  Phone  Contract_period  \\\n",
       "0       1              1        1              1      0                6   \n",
       "1       0              1        0              0      1               12   \n",
       "2       0              1        1              0      1                1   \n",
       "3       0              1        1              1      1               12   \n",
       "4       1              1        1              1      1                1   \n",
       "5       1              1        0              0      1                1   \n",
       "6       1              1        1              1      0                6   \n",
       "7       0              1        0              0      1                1   \n",
       "8       1              1        1              1      1                1   \n",
       "9       0              1        0              0      1                1   \n",
       "\n",
       "   Group_visits  Age  Avg_additional_charges_total  Month_to_end_contract  \\\n",
       "0             1   29                         14.23                   5.00   \n",
       "1             1   31                        113.20                  12.00   \n",
       "2             0   28                        129.45                   1.00   \n",
       "3             1   33                         62.67                  12.00   \n",
       "4             0   26                        198.36                   1.00   \n",
       "5             1   34                        450.74                   1.00   \n",
       "6             1   32                         94.27                   6.00   \n",
       "7             0   30                        217.79                   1.00   \n",
       "8             1   23                         45.41                   1.00   \n",
       "9             0   31                         65.31                   1.00   \n",
       "\n",
       "   Lifetime  Avg_class_frequency_total  Avg_class_frequency_current_month  \\\n",
       "0         3                       0.02                               0.00   \n",
       "1         7                       1.92                               1.91   \n",
       "2         2                       1.86                               1.74   \n",
       "3         2                       3.21                               3.36   \n",
       "4         3                       1.11                               1.12   \n",
       "5         3                       2.62                               2.64   \n",
       "6         2                       1.14                               1.28   \n",
       "7         0                       1.21                               1.05   \n",
       "8         1                       1.11                               1.06   \n",
       "9        11                       1.81                               1.95   \n",
       "\n",
       "   Churn  \n",
       "0      0  \n",
       "1      0  \n",
       "2      0  \n",
       "3      0  \n",
       "4      0  \n",
       "5      0  \n",
       "6      0  \n",
       "7      1  \n",
       "8      0  \n",
       "9      0  "
      ]
     },
     "execution_count": 3,
     "metadata": {},
     "output_type": "execute_result"
    }
   ],
   "source": [
    "gym=pd.read_csv('/datasets/gym_churn.csv')\n",
    "gym.head(10)"
   ]
  },
  {
   "cell_type": "markdown",
   "metadata": {},
   "source": [
    "<a id='2'></a>\n",
    "### Исследовательский анализ данных"
   ]
  },
  {
   "cell_type": "markdown",
   "metadata": {},
   "source": [
    "- Посмотрим на датасет: есть ли в нем отсутствующие признаки, изучим средние значения и стандартные отклонения (пригодится метод describe());\n",
    "- Посмотрим на средние значения признаков в двух группах — тех, кто ушел в отток и тех, кто остался (воспользуйтесь методом groupby());\n",
    "- Построим столбчатые гистограммы и распределения признаков для тех, кто ушёл (отток) и тех, кто остался (не попали в отток);\n",
    "- Построим матрицу корреляций и отобразим её."
   ]
  },
  {
   "cell_type": "code",
   "execution_count": 4,
   "metadata": {},
   "outputs": [
    {
     "data": {
      "text/html": [
       "<div>\n",
       "<style scoped>\n",
       "    .dataframe tbody tr th:only-of-type {\n",
       "        vertical-align: middle;\n",
       "    }\n",
       "\n",
       "    .dataframe tbody tr th {\n",
       "        vertical-align: top;\n",
       "    }\n",
       "\n",
       "    .dataframe thead th {\n",
       "        text-align: right;\n",
       "    }\n",
       "</style>\n",
       "<table border=\"1\" class=\"dataframe\">\n",
       "  <thead>\n",
       "    <tr style=\"text-align: right;\">\n",
       "      <th></th>\n",
       "      <th>gender</th>\n",
       "      <th>Near_Location</th>\n",
       "      <th>Partner</th>\n",
       "      <th>Promo_friends</th>\n",
       "      <th>Phone</th>\n",
       "      <th>Contract_period</th>\n",
       "      <th>Group_visits</th>\n",
       "      <th>Age</th>\n",
       "      <th>Avg_additional_charges_total</th>\n",
       "      <th>Month_to_end_contract</th>\n",
       "      <th>Lifetime</th>\n",
       "      <th>Avg_class_frequency_total</th>\n",
       "      <th>Avg_class_frequency_current_month</th>\n",
       "      <th>Churn</th>\n",
       "    </tr>\n",
       "  </thead>\n",
       "  <tbody>\n",
       "    <tr>\n",
       "      <th>0</th>\n",
       "      <td>1</td>\n",
       "      <td>1</td>\n",
       "      <td>1</td>\n",
       "      <td>1</td>\n",
       "      <td>0</td>\n",
       "      <td>6</td>\n",
       "      <td>1</td>\n",
       "      <td>29</td>\n",
       "      <td>14.23</td>\n",
       "      <td>5.00</td>\n",
       "      <td>3</td>\n",
       "      <td>0.02</td>\n",
       "      <td>0.00</td>\n",
       "      <td>0</td>\n",
       "    </tr>\n",
       "    <tr>\n",
       "      <th>1</th>\n",
       "      <td>0</td>\n",
       "      <td>1</td>\n",
       "      <td>0</td>\n",
       "      <td>0</td>\n",
       "      <td>1</td>\n",
       "      <td>12</td>\n",
       "      <td>1</td>\n",
       "      <td>31</td>\n",
       "      <td>113.20</td>\n",
       "      <td>12.00</td>\n",
       "      <td>7</td>\n",
       "      <td>1.92</td>\n",
       "      <td>1.91</td>\n",
       "      <td>0</td>\n",
       "    </tr>\n",
       "    <tr>\n",
       "      <th>2</th>\n",
       "      <td>0</td>\n",
       "      <td>1</td>\n",
       "      <td>1</td>\n",
       "      <td>0</td>\n",
       "      <td>1</td>\n",
       "      <td>1</td>\n",
       "      <td>0</td>\n",
       "      <td>28</td>\n",
       "      <td>129.45</td>\n",
       "      <td>1.00</td>\n",
       "      <td>2</td>\n",
       "      <td>1.86</td>\n",
       "      <td>1.74</td>\n",
       "      <td>0</td>\n",
       "    </tr>\n",
       "    <tr>\n",
       "      <th>3</th>\n",
       "      <td>0</td>\n",
       "      <td>1</td>\n",
       "      <td>1</td>\n",
       "      <td>1</td>\n",
       "      <td>1</td>\n",
       "      <td>12</td>\n",
       "      <td>1</td>\n",
       "      <td>33</td>\n",
       "      <td>62.67</td>\n",
       "      <td>12.00</td>\n",
       "      <td>2</td>\n",
       "      <td>3.21</td>\n",
       "      <td>3.36</td>\n",
       "      <td>0</td>\n",
       "    </tr>\n",
       "    <tr>\n",
       "      <th>4</th>\n",
       "      <td>1</td>\n",
       "      <td>1</td>\n",
       "      <td>1</td>\n",
       "      <td>1</td>\n",
       "      <td>1</td>\n",
       "      <td>1</td>\n",
       "      <td>0</td>\n",
       "      <td>26</td>\n",
       "      <td>198.36</td>\n",
       "      <td>1.00</td>\n",
       "      <td>3</td>\n",
       "      <td>1.11</td>\n",
       "      <td>1.12</td>\n",
       "      <td>0</td>\n",
       "    </tr>\n",
       "  </tbody>\n",
       "</table>\n",
       "</div>"
      ],
      "text/plain": [
       "   gender  Near_Location  Partner  Promo_friends  Phone  Contract_period  \\\n",
       "0       1              1        1              1      0                6   \n",
       "1       0              1        0              0      1               12   \n",
       "2       0              1        1              0      1                1   \n",
       "3       0              1        1              1      1               12   \n",
       "4       1              1        1              1      1                1   \n",
       "\n",
       "   Group_visits  Age  Avg_additional_charges_total  Month_to_end_contract  \\\n",
       "0             1   29                         14.23                   5.00   \n",
       "1             1   31                        113.20                  12.00   \n",
       "2             0   28                        129.45                   1.00   \n",
       "3             1   33                         62.67                  12.00   \n",
       "4             0   26                        198.36                   1.00   \n",
       "\n",
       "   Lifetime  Avg_class_frequency_total  Avg_class_frequency_current_month  \\\n",
       "0         3                       0.02                               0.00   \n",
       "1         7                       1.92                               1.91   \n",
       "2         2                       1.86                               1.74   \n",
       "3         2                       3.21                               3.36   \n",
       "4         3                       1.11                               1.12   \n",
       "\n",
       "   Churn  \n",
       "0      0  \n",
       "1      0  \n",
       "2      0  \n",
       "3      0  \n",
       "4      0  "
      ]
     },
     "metadata": {},
     "output_type": "display_data"
    },
    {
     "name": "stdout",
     "output_type": "stream",
     "text": [
      "Количество дубликатов - 0\n"
     ]
    },
    {
     "data": {
      "text/plain": [
       "(4000, 14)"
      ]
     },
     "metadata": {},
     "output_type": "display_data"
    },
    {
     "data": {
      "text/html": [
       "<div>\n",
       "<style scoped>\n",
       "    .dataframe tbody tr th:only-of-type {\n",
       "        vertical-align: middle;\n",
       "    }\n",
       "\n",
       "    .dataframe tbody tr th {\n",
       "        vertical-align: top;\n",
       "    }\n",
       "\n",
       "    .dataframe thead th {\n",
       "        text-align: right;\n",
       "    }\n",
       "</style>\n",
       "<table border=\"1\" class=\"dataframe\">\n",
       "  <thead>\n",
       "    <tr style=\"text-align: right;\">\n",
       "      <th></th>\n",
       "      <th>gender</th>\n",
       "      <th>Near_Location</th>\n",
       "      <th>Partner</th>\n",
       "      <th>Promo_friends</th>\n",
       "      <th>Phone</th>\n",
       "      <th>Contract_period</th>\n",
       "      <th>Group_visits</th>\n",
       "      <th>Age</th>\n",
       "      <th>Avg_additional_charges_total</th>\n",
       "      <th>Month_to_end_contract</th>\n",
       "      <th>Lifetime</th>\n",
       "      <th>Avg_class_frequency_total</th>\n",
       "      <th>Avg_class_frequency_current_month</th>\n",
       "      <th>Churn</th>\n",
       "    </tr>\n",
       "  </thead>\n",
       "  <tbody>\n",
       "    <tr>\n",
       "      <th>count</th>\n",
       "      <td>4,000.00</td>\n",
       "      <td>4,000.00</td>\n",
       "      <td>4,000.00</td>\n",
       "      <td>4,000.00</td>\n",
       "      <td>4,000.00</td>\n",
       "      <td>4,000.00</td>\n",
       "      <td>4,000.00</td>\n",
       "      <td>4,000.00</td>\n",
       "      <td>4,000.00</td>\n",
       "      <td>4,000.00</td>\n",
       "      <td>4,000.00</td>\n",
       "      <td>4,000.00</td>\n",
       "      <td>4,000.00</td>\n",
       "      <td>4,000.00</td>\n",
       "    </tr>\n",
       "    <tr>\n",
       "      <th>mean</th>\n",
       "      <td>0.51</td>\n",
       "      <td>0.85</td>\n",
       "      <td>0.49</td>\n",
       "      <td>0.31</td>\n",
       "      <td>0.90</td>\n",
       "      <td>4.68</td>\n",
       "      <td>0.41</td>\n",
       "      <td>29.18</td>\n",
       "      <td>146.94</td>\n",
       "      <td>4.32</td>\n",
       "      <td>3.72</td>\n",
       "      <td>1.88</td>\n",
       "      <td>1.77</td>\n",
       "      <td>0.27</td>\n",
       "    </tr>\n",
       "    <tr>\n",
       "      <th>std</th>\n",
       "      <td>0.50</td>\n",
       "      <td>0.36</td>\n",
       "      <td>0.50</td>\n",
       "      <td>0.46</td>\n",
       "      <td>0.30</td>\n",
       "      <td>4.55</td>\n",
       "      <td>0.49</td>\n",
       "      <td>3.26</td>\n",
       "      <td>96.36</td>\n",
       "      <td>4.19</td>\n",
       "      <td>3.75</td>\n",
       "      <td>0.97</td>\n",
       "      <td>1.05</td>\n",
       "      <td>0.44</td>\n",
       "    </tr>\n",
       "    <tr>\n",
       "      <th>min</th>\n",
       "      <td>0.00</td>\n",
       "      <td>0.00</td>\n",
       "      <td>0.00</td>\n",
       "      <td>0.00</td>\n",
       "      <td>0.00</td>\n",
       "      <td>1.00</td>\n",
       "      <td>0.00</td>\n",
       "      <td>18.00</td>\n",
       "      <td>0.15</td>\n",
       "      <td>1.00</td>\n",
       "      <td>0.00</td>\n",
       "      <td>0.00</td>\n",
       "      <td>0.00</td>\n",
       "      <td>0.00</td>\n",
       "    </tr>\n",
       "    <tr>\n",
       "      <th>25%</th>\n",
       "      <td>0.00</td>\n",
       "      <td>1.00</td>\n",
       "      <td>0.00</td>\n",
       "      <td>0.00</td>\n",
       "      <td>1.00</td>\n",
       "      <td>1.00</td>\n",
       "      <td>0.00</td>\n",
       "      <td>27.00</td>\n",
       "      <td>68.87</td>\n",
       "      <td>1.00</td>\n",
       "      <td>1.00</td>\n",
       "      <td>1.18</td>\n",
       "      <td>0.96</td>\n",
       "      <td>0.00</td>\n",
       "    </tr>\n",
       "    <tr>\n",
       "      <th>50%</th>\n",
       "      <td>1.00</td>\n",
       "      <td>1.00</td>\n",
       "      <td>0.00</td>\n",
       "      <td>0.00</td>\n",
       "      <td>1.00</td>\n",
       "      <td>1.00</td>\n",
       "      <td>0.00</td>\n",
       "      <td>29.00</td>\n",
       "      <td>136.22</td>\n",
       "      <td>1.00</td>\n",
       "      <td>3.00</td>\n",
       "      <td>1.83</td>\n",
       "      <td>1.72</td>\n",
       "      <td>0.00</td>\n",
       "    </tr>\n",
       "    <tr>\n",
       "      <th>75%</th>\n",
       "      <td>1.00</td>\n",
       "      <td>1.00</td>\n",
       "      <td>1.00</td>\n",
       "      <td>1.00</td>\n",
       "      <td>1.00</td>\n",
       "      <td>6.00</td>\n",
       "      <td>1.00</td>\n",
       "      <td>31.00</td>\n",
       "      <td>210.95</td>\n",
       "      <td>6.00</td>\n",
       "      <td>5.00</td>\n",
       "      <td>2.54</td>\n",
       "      <td>2.51</td>\n",
       "      <td>1.00</td>\n",
       "    </tr>\n",
       "    <tr>\n",
       "      <th>max</th>\n",
       "      <td>1.00</td>\n",
       "      <td>1.00</td>\n",
       "      <td>1.00</td>\n",
       "      <td>1.00</td>\n",
       "      <td>1.00</td>\n",
       "      <td>12.00</td>\n",
       "      <td>1.00</td>\n",
       "      <td>41.00</td>\n",
       "      <td>552.59</td>\n",
       "      <td>12.00</td>\n",
       "      <td>31.00</td>\n",
       "      <td>6.02</td>\n",
       "      <td>6.15</td>\n",
       "      <td>1.00</td>\n",
       "    </tr>\n",
       "  </tbody>\n",
       "</table>\n",
       "</div>"
      ],
      "text/plain": [
       "        gender  Near_Location  Partner  Promo_friends    Phone  \\\n",
       "count 4,000.00       4,000.00 4,000.00       4,000.00 4,000.00   \n",
       "mean      0.51           0.85     0.49           0.31     0.90   \n",
       "std       0.50           0.36     0.50           0.46     0.30   \n",
       "min       0.00           0.00     0.00           0.00     0.00   \n",
       "25%       0.00           1.00     0.00           0.00     1.00   \n",
       "50%       1.00           1.00     0.00           0.00     1.00   \n",
       "75%       1.00           1.00     1.00           1.00     1.00   \n",
       "max       1.00           1.00     1.00           1.00     1.00   \n",
       "\n",
       "       Contract_period  Group_visits      Age  Avg_additional_charges_total  \\\n",
       "count         4,000.00      4,000.00 4,000.00                      4,000.00   \n",
       "mean              4.68          0.41    29.18                        146.94   \n",
       "std               4.55          0.49     3.26                         96.36   \n",
       "min               1.00          0.00    18.00                          0.15   \n",
       "25%               1.00          0.00    27.00                         68.87   \n",
       "50%               1.00          0.00    29.00                        136.22   \n",
       "75%               6.00          1.00    31.00                        210.95   \n",
       "max              12.00          1.00    41.00                        552.59   \n",
       "\n",
       "       Month_to_end_contract  Lifetime  Avg_class_frequency_total  \\\n",
       "count               4,000.00  4,000.00                   4,000.00   \n",
       "mean                    4.32      3.72                       1.88   \n",
       "std                     4.19      3.75                       0.97   \n",
       "min                     1.00      0.00                       0.00   \n",
       "25%                     1.00      1.00                       1.18   \n",
       "50%                     1.00      3.00                       1.83   \n",
       "75%                     6.00      5.00                       2.54   \n",
       "max                    12.00     31.00                       6.02   \n",
       "\n",
       "       Avg_class_frequency_current_month    Churn  \n",
       "count                           4,000.00 4,000.00  \n",
       "mean                                1.77     0.27  \n",
       "std                                 1.05     0.44  \n",
       "min                                 0.00     0.00  \n",
       "25%                                 0.96     0.00  \n",
       "50%                                 1.72     0.00  \n",
       "75%                                 2.51     1.00  \n",
       "max                                 6.15     1.00  "
      ]
     },
     "metadata": {},
     "output_type": "display_data"
    },
    {
     "name": "stdout",
     "output_type": "stream",
     "text": [
      "<class 'pandas.core.frame.DataFrame'>\n",
      "RangeIndex: 4000 entries, 0 to 3999\n",
      "Data columns (total 14 columns):\n",
      " #   Column                             Non-Null Count  Dtype  \n",
      "---  ------                             --------------  -----  \n",
      " 0   gender                             4000 non-null   int64  \n",
      " 1   near_location                      4000 non-null   int64  \n",
      " 2   partner                            4000 non-null   int64  \n",
      " 3   promo_friends                      4000 non-null   int64  \n",
      " 4   phone                              4000 non-null   int64  \n",
      " 5   contract_period                    4000 non-null   int64  \n",
      " 6   group_visits                       4000 non-null   int64  \n",
      " 7   age                                4000 non-null   int64  \n",
      " 8   avg_additional_charges_total       4000 non-null   float64\n",
      " 9   month_to_end_contract              4000 non-null   float64\n",
      " 10  lifetime                           4000 non-null   int64  \n",
      " 11  avg_class_frequency_total          4000 non-null   float64\n",
      " 12  avg_class_frequency_current_month  4000 non-null   float64\n",
      " 13  churn                              4000 non-null   int64  \n",
      "dtypes: float64(4), int64(10)\n",
      "memory usage: 437.6 KB\n"
     ]
    }
   ],
   "source": [
    "def inspect(df):\n",
    "    display(df.head()) \n",
    "    print ('Количество дубликатов -', df.duplicated().sum())\n",
    "    numeric_columns=df.describe().columns\n",
    "    display(df.shape)\n",
    "    display(df.describe())\n",
    "    df.columns = df.columns.str.lower()\n",
    "    display()\n",
    "\n",
    "    df.info() \n",
    "    return df\n",
    "gym = inspect(gym)"
   ]
  },
  {
   "cell_type": "markdown",
   "metadata": {},
   "source": [
    "Категориальных признаков нет, пропущенных значений и дубликатов в данных также не имеется. Названия столбцов привели к нижнему регистру.\n",
    "\n",
    "В зал ходят одинаковое кол-во мужчин и женщин,большинство тех , кто живет или рядом работает, с реднем покупают абонементы на 6 мес., средний возраст посетителей клуба- 29 лет, в среднем тратят дополнительно в клубе -146.94\t у.е., среднй лайфтайм 4 мес., ушедших клиентов 27%."
   ]
  },
  {
   "cell_type": "code",
   "execution_count": 5,
   "metadata": {},
   "outputs": [
    {
     "data": {
      "text/html": [
       "<div>\n",
       "<style scoped>\n",
       "    .dataframe tbody tr th:only-of-type {\n",
       "        vertical-align: middle;\n",
       "    }\n",
       "\n",
       "    .dataframe tbody tr th {\n",
       "        vertical-align: top;\n",
       "    }\n",
       "\n",
       "    .dataframe thead th {\n",
       "        text-align: right;\n",
       "    }\n",
       "</style>\n",
       "<table border=\"1\" class=\"dataframe\">\n",
       "  <thead>\n",
       "    <tr style=\"text-align: right;\">\n",
       "      <th></th>\n",
       "      <th>not_churn</th>\n",
       "      <th>churn</th>\n",
       "    </tr>\n",
       "  </thead>\n",
       "  <tbody>\n",
       "    <tr>\n",
       "      <th>gender</th>\n",
       "      <td>0.51</td>\n",
       "      <td>0.51</td>\n",
       "    </tr>\n",
       "    <tr>\n",
       "      <th>near_location</th>\n",
       "      <td>0.87</td>\n",
       "      <td>0.77</td>\n",
       "    </tr>\n",
       "    <tr>\n",
       "      <th>partner</th>\n",
       "      <td>0.53</td>\n",
       "      <td>0.36</td>\n",
       "    </tr>\n",
       "    <tr>\n",
       "      <th>promo_friends</th>\n",
       "      <td>0.35</td>\n",
       "      <td>0.18</td>\n",
       "    </tr>\n",
       "    <tr>\n",
       "      <th>phone</th>\n",
       "      <td>0.90</td>\n",
       "      <td>0.90</td>\n",
       "    </tr>\n",
       "    <tr>\n",
       "      <th>contract_period</th>\n",
       "      <td>5.75</td>\n",
       "      <td>1.73</td>\n",
       "    </tr>\n",
       "    <tr>\n",
       "      <th>group_visits</th>\n",
       "      <td>0.46</td>\n",
       "      <td>0.27</td>\n",
       "    </tr>\n",
       "    <tr>\n",
       "      <th>age</th>\n",
       "      <td>29.98</td>\n",
       "      <td>26.99</td>\n",
       "    </tr>\n",
       "    <tr>\n",
       "      <th>avg_additional_charges_total</th>\n",
       "      <td>158.45</td>\n",
       "      <td>115.08</td>\n",
       "    </tr>\n",
       "    <tr>\n",
       "      <th>month_to_end_contract</th>\n",
       "      <td>5.28</td>\n",
       "      <td>1.66</td>\n",
       "    </tr>\n",
       "    <tr>\n",
       "      <th>lifetime</th>\n",
       "      <td>4.71</td>\n",
       "      <td>0.99</td>\n",
       "    </tr>\n",
       "    <tr>\n",
       "      <th>avg_class_frequency_total</th>\n",
       "      <td>2.02</td>\n",
       "      <td>1.47</td>\n",
       "    </tr>\n",
       "    <tr>\n",
       "      <th>avg_class_frequency_current_month</th>\n",
       "      <td>2.03</td>\n",
       "      <td>1.04</td>\n",
       "    </tr>\n",
       "  </tbody>\n",
       "</table>\n",
       "</div>"
      ],
      "text/plain": [
       "                                   not_churn  churn\n",
       "gender                                  0.51   0.51\n",
       "near_location                           0.87   0.77\n",
       "partner                                 0.53   0.36\n",
       "promo_friends                           0.35   0.18\n",
       "phone                                   0.90   0.90\n",
       "contract_period                         5.75   1.73\n",
       "group_visits                            0.46   0.27\n",
       "age                                    29.98  26.99\n",
       "avg_additional_charges_total          158.45 115.08\n",
       "month_to_end_contract                   5.28   1.66\n",
       "lifetime                                4.71   0.99\n",
       "avg_class_frequency_total               2.02   1.47\n",
       "avg_class_frequency_current_month       2.03   1.04"
      ]
     },
     "execution_count": 5,
     "metadata": {},
     "output_type": "execute_result"
    }
   ],
   "source": [
    "#сгруппируем данные по столбцу 'churn' посчитаем средние значения признаков: \n",
    "\n",
    "churn_clients = gym.groupby('churn').mean().T\n",
    "\n",
    "churn_clients.columns=['not_churn', 'churn']\n",
    "churn_clients\n"
   ]
  },
  {
   "cell_type": "markdown",
   "metadata": {},
   "source": [
    "Судя по таблице, можно сделать вывод, что в клубе остались те клиенты, кто : \n",
    "\n",
    "- живет рядом или работает, \n",
    "- является сотрудником компании-партнёра клуба,\n",
    "- пришел в рамках акции «приведи друга», \n",
    "- посещает групповые занятия, \n",
    "- тратит больше на доп. услуги клуба,\n",
    "- до конца контракта 6 мес,\n",
    "- является постоянным клиентом,\n",
    "- в среднем посещает клуб 2 раза в неделю"
   ]
  },
  {
   "cell_type": "code",
   "execution_count": 6,
   "metadata": {},
   "outputs": [],
   "source": [
    "#список количественных переменных\n",
    "list1=['age', 'lifetime', 'contract_period', 'avg_additional_charges_total', 'month_to_end_contract', 'avg_class_frequency_total', 'avg_class_frequency_current_month']\n",
    "#список категориальных пременных\n",
    "list2=['gender','near_location', 'partner', 'promo_friends','phone', 'group_visits']"
   ]
  },
  {
   "cell_type": "code",
   "execution_count": 7,
   "metadata": {
    "scrolled": true
   },
   "outputs": [
    {
     "data": {
      "image/png": "[encoded data removed]",
      "text/plain": [
       "<Figure size 432x288 with 1 Axes>"
      ]
     },
     "metadata": {
      "needs_background": "light"
     },
     "output_type": "display_data"
    },
    {
     "data": {
      "image/png": "[encoded data removed]",
      "text/plain": [
       "<Figure size 432x288 with 1 Axes>"
      ]
     },
     "metadata": {
      "needs_background": "light"
     },
     "output_type": "display_data"
    },
    {
     "data": {
      "image/png": "[encoded data removed]",
      "text/plain": [
       "<Figure size 432x288 with 1 Axes>"
      ]
     },
     "metadata": {
      "needs_background": "light"
     },
     "output_type": "display_data"
    },
    {
     "data": {
      "image/png": "[encoded data removed]",
      "text/plain": [
       "<Figure size 432x288 with 1 Axes>"
      ]
     },
     "metadata": {
      "needs_background": "light"
     },
     "output_type": "display_data"
    },
    {
     "data": {
      "image/png": "[encoded data removed]",
      "text/plain": [
       "<Figure size 432x288 with 1 Axes>"
      ]
     },
     "metadata": {
      "needs_background": "light"
     },
     "output_type": "display_data"
    },
    {
     "data": {
      "image/png": "[encoded data removed]",
      "text/plain": [
       "<Figure size 432x288 with 1 Axes>"
      ]
     },
     "metadata": {
      "needs_background": "light"
     },
     "output_type": "display_data"
    },
    {
     "data": {
      "image/png": "[encoded data removed]",
      "text/plain": [
       "<Figure size 432x288 with 1 Axes>"
      ]
     },
     "metadata": {
      "needs_background": "light"
     },
     "output_type": "display_data"
    }
   ],
   "source": [
    "#построим столбчатые диаграммы количественных переменных и распределения признаков\n",
    "for i in list1:\n",
    "    fig, ax = plt.subplots()\n",
    "    gym.groupby('churn')[i].hist(alpha=0.5)\n",
    "    plt.xlabel(\"Величина признака\")\n",
    "    plt.ylabel(\"Частота\")\n",
    "    plt.title(i)\n",
    "    plt.show()"
   ]
  },
  {
   "cell_type": "code",
   "execution_count": 8,
   "metadata": {
    "scrolled": true
   },
   "outputs": [
    {
     "data": {
      "image/png": "[encoded data removed]",
      "text/plain": [
       "<Figure size 432x288 with 1 Axes>"
      ]
     },
     "metadata": {
      "needs_background": "light"
     },
     "output_type": "display_data"
    },
    {
     "data": {
      "image/png": "[encoded data removed]",
      "text/plain": [
       "<Figure size 432x288 with 1 Axes>"
      ]
     },
     "metadata": {
      "needs_background": "light"
     },
     "output_type": "display_data"
    },
    {
     "data": {
      "image/png": "[encoded data removed]",
      "text/plain": [
       "<Figure size 432x288 with 1 Axes>"
      ]
     },
     "metadata": {
      "needs_background": "light"
     },
     "output_type": "display_data"
    },
    {
     "data": {
      "image/png": "[encoded data removed]",
      "text/plain": [
       "<Figure size 432x288 with 1 Axes>"
      ]
     },
     "metadata": {
      "needs_background": "light"
     },
     "output_type": "display_data"
    },
    {
     "data": {
      "image/png": "[encoded data removed]",
      "text/plain": [
       "<Figure size 432x288 with 1 Axes>"
      ]
     },
     "metadata": {
      "needs_background": "light"
     },
     "output_type": "display_data"
    },
    {
     "data": {
      "image/png": "[encoded data removed]",
      "text/plain": [
       "<Figure size 432x288 with 1 Axes>"
      ]
     },
     "metadata": {
      "needs_background": "light"
     },
     "output_type": "display_data"
    }
   ],
   "source": [
    "#построим столбчатые диаграммы категориальных  переменных и распределения признаков\n",
    "for i in list2:\n",
    "    sns.barplot(data=gym, x='churn', y=i)\n",
    "    plt.xlabel(\"Характеристика оттока\")\n",
    "    plt.ylabel(\"Частота\")\n",
    "    plt.title(i)\n",
    "    plt.show()"
   ]
  },
  {
   "cell_type": "markdown",
   "metadata": {},
   "source": [
    "По графикам можем заметить, что в клубе не задерживаются молодые люди от 18-35, у кого клубная карта не более чем на 2 мес, и в основном те у кого до конца контракта 1-2 мес, также посещают они зал не очень часто 1-2 р в неделю.\n",
    "\n",
    "Также, как ранее было замечено, отваливаются те, кто не живет/работает рядом с залом, не является сотрудником компании-партнёра клуба, и пришел не в рамках акции «приведи друга»."
   ]
  },
  {
   "cell_type": "code",
   "execution_count": 10,
   "metadata": {},
   "outputs": [
    {
     "data": {
      "image/png": "[encoded data removed]",
      "text/plain": [
       "<Figure size 1080x1440 with 2 Axes>"
      ]
     },
     "metadata": {
      "needs_background": "light"
     },
     "output_type": "display_data"
    }
   ],
   "source": [
    "#Построим матрицу корреляций\n",
    "\n",
    "cm=gym.corr()\n",
    "fig, ax = plt.subplots(figsize=(15, 20))\n",
    "sns.heatmap(cm, annot=True, square=True)\n",
    "plt.title('Тепловая матрица корреляций')\n",
    "plt.xlabel(\"Признаки\")\n",
    "plt.ylabel(\"Признаки\")\n",
    "plt.show()"
   ]
  },
  {
   "cell_type": "markdown",
   "metadata": {},
   "source": [
    "Судя по графику, сильнее всего коррелируют следующие признаки:\n",
    "    \n",
    "    'Month_to_end_contract'-'Contract_period'\n",
    "    'Avg_class_frequency_current_month'-'Avg_class_frequency_total\n",
    "  \n",
    "Чтобы избавиться от мультиколлинеарности, удалим из датафрейма сильно коррелирующие признаки.   "
   ]
  },
  {
   "cell_type": "code",
   "execution_count": 11,
   "metadata": {},
   "outputs": [],
   "source": [
    "gym.drop('month_to_end_contract', axis = 1, inplace = True)\n",
    "gym.drop('avg_class_frequency_current_month', axis = 1, inplace = True)\n"
   ]
  },
  {
   "cell_type": "code",
   "execution_count": 12,
   "metadata": {},
   "outputs": [
    {
     "data": {
      "text/html": [
       "<div>\n",
       "<style scoped>\n",
       "    .dataframe tbody tr th:only-of-type {\n",
       "        vertical-align: middle;\n",
       "    }\n",
       "\n",
       "    .dataframe tbody tr th {\n",
       "        vertical-align: top;\n",
       "    }\n",
       "\n",
       "    .dataframe thead th {\n",
       "        text-align: right;\n",
       "    }\n",
       "</style>\n",
       "<table border=\"1\" class=\"dataframe\">\n",
       "  <thead>\n",
       "    <tr style=\"text-align: right;\">\n",
       "      <th></th>\n",
       "      <th>gender</th>\n",
       "      <th>near_location</th>\n",
       "      <th>partner</th>\n",
       "      <th>promo_friends</th>\n",
       "      <th>phone</th>\n",
       "      <th>contract_period</th>\n",
       "      <th>group_visits</th>\n",
       "      <th>age</th>\n",
       "      <th>avg_additional_charges_total</th>\n",
       "      <th>lifetime</th>\n",
       "      <th>avg_class_frequency_total</th>\n",
       "      <th>churn</th>\n",
       "    </tr>\n",
       "  </thead>\n",
       "  <tbody>\n",
       "    <tr>\n",
       "      <th>0</th>\n",
       "      <td>1</td>\n",
       "      <td>1</td>\n",
       "      <td>1</td>\n",
       "      <td>1</td>\n",
       "      <td>0</td>\n",
       "      <td>6</td>\n",
       "      <td>1</td>\n",
       "      <td>29</td>\n",
       "      <td>14.23</td>\n",
       "      <td>3</td>\n",
       "      <td>0.02</td>\n",
       "      <td>0</td>\n",
       "    </tr>\n",
       "    <tr>\n",
       "      <th>1</th>\n",
       "      <td>0</td>\n",
       "      <td>1</td>\n",
       "      <td>0</td>\n",
       "      <td>0</td>\n",
       "      <td>1</td>\n",
       "      <td>12</td>\n",
       "      <td>1</td>\n",
       "      <td>31</td>\n",
       "      <td>113.20</td>\n",
       "      <td>7</td>\n",
       "      <td>1.92</td>\n",
       "      <td>0</td>\n",
       "    </tr>\n",
       "    <tr>\n",
       "      <th>2</th>\n",
       "      <td>0</td>\n",
       "      <td>1</td>\n",
       "      <td>1</td>\n",
       "      <td>0</td>\n",
       "      <td>1</td>\n",
       "      <td>1</td>\n",
       "      <td>0</td>\n",
       "      <td>28</td>\n",
       "      <td>129.45</td>\n",
       "      <td>2</td>\n",
       "      <td>1.86</td>\n",
       "      <td>0</td>\n",
       "    </tr>\n",
       "    <tr>\n",
       "      <th>3</th>\n",
       "      <td>0</td>\n",
       "      <td>1</td>\n",
       "      <td>1</td>\n",
       "      <td>1</td>\n",
       "      <td>1</td>\n",
       "      <td>12</td>\n",
       "      <td>1</td>\n",
       "      <td>33</td>\n",
       "      <td>62.67</td>\n",
       "      <td>2</td>\n",
       "      <td>3.21</td>\n",
       "      <td>0</td>\n",
       "    </tr>\n",
       "    <tr>\n",
       "      <th>4</th>\n",
       "      <td>1</td>\n",
       "      <td>1</td>\n",
       "      <td>1</td>\n",
       "      <td>1</td>\n",
       "      <td>1</td>\n",
       "      <td>1</td>\n",
       "      <td>0</td>\n",
       "      <td>26</td>\n",
       "      <td>198.36</td>\n",
       "      <td>3</td>\n",
       "      <td>1.11</td>\n",
       "      <td>0</td>\n",
       "    </tr>\n",
       "    <tr>\n",
       "      <th>...</th>\n",
       "      <td>...</td>\n",
       "      <td>...</td>\n",
       "      <td>...</td>\n",
       "      <td>...</td>\n",
       "      <td>...</td>\n",
       "      <td>...</td>\n",
       "      <td>...</td>\n",
       "      <td>...</td>\n",
       "      <td>...</td>\n",
       "      <td>...</td>\n",
       "      <td>...</td>\n",
       "      <td>...</td>\n",
       "    </tr>\n",
       "    <tr>\n",
       "      <th>3995</th>\n",
       "      <td>1</td>\n",
       "      <td>1</td>\n",
       "      <td>1</td>\n",
       "      <td>0</td>\n",
       "      <td>1</td>\n",
       "      <td>12</td>\n",
       "      <td>0</td>\n",
       "      <td>33</td>\n",
       "      <td>2.41</td>\n",
       "      <td>8</td>\n",
       "      <td>2.28</td>\n",
       "      <td>0</td>\n",
       "    </tr>\n",
       "    <tr>\n",
       "      <th>3996</th>\n",
       "      <td>0</td>\n",
       "      <td>1</td>\n",
       "      <td>0</td>\n",
       "      <td>0</td>\n",
       "      <td>1</td>\n",
       "      <td>1</td>\n",
       "      <td>1</td>\n",
       "      <td>29</td>\n",
       "      <td>68.88</td>\n",
       "      <td>1</td>\n",
       "      <td>1.28</td>\n",
       "      <td>1</td>\n",
       "    </tr>\n",
       "    <tr>\n",
       "      <th>3997</th>\n",
       "      <td>1</td>\n",
       "      <td>1</td>\n",
       "      <td>1</td>\n",
       "      <td>1</td>\n",
       "      <td>1</td>\n",
       "      <td>12</td>\n",
       "      <td>0</td>\n",
       "      <td>28</td>\n",
       "      <td>78.25</td>\n",
       "      <td>2</td>\n",
       "      <td>2.79</td>\n",
       "      <td>0</td>\n",
       "    </tr>\n",
       "    <tr>\n",
       "      <th>3998</th>\n",
       "      <td>0</td>\n",
       "      <td>1</td>\n",
       "      <td>1</td>\n",
       "      <td>1</td>\n",
       "      <td>1</td>\n",
       "      <td>6</td>\n",
       "      <td>0</td>\n",
       "      <td>32</td>\n",
       "      <td>61.91</td>\n",
       "      <td>3</td>\n",
       "      <td>1.63</td>\n",
       "      <td>0</td>\n",
       "    </tr>\n",
       "    <tr>\n",
       "      <th>3999</th>\n",
       "      <td>1</td>\n",
       "      <td>0</td>\n",
       "      <td>1</td>\n",
       "      <td>0</td>\n",
       "      <td>0</td>\n",
       "      <td>12</td>\n",
       "      <td>1</td>\n",
       "      <td>30</td>\n",
       "      <td>178.86</td>\n",
       "      <td>1</td>\n",
       "      <td>1.10</td>\n",
       "      <td>0</td>\n",
       "    </tr>\n",
       "  </tbody>\n",
       "</table>\n",
       "<p>4000 rows × 12 columns</p>\n",
       "</div>"
      ],
      "text/plain": [
       "      gender  near_location  partner  promo_friends  phone  contract_period  \\\n",
       "0          1              1        1              1      0                6   \n",
       "1          0              1        0              0      1               12   \n",
       "2          0              1        1              0      1                1   \n",
       "3          0              1        1              1      1               12   \n",
       "4          1              1        1              1      1                1   \n",
       "...      ...            ...      ...            ...    ...              ...   \n",
       "3995       1              1        1              0      1               12   \n",
       "3996       0              1        0              0      1                1   \n",
       "3997       1              1        1              1      1               12   \n",
       "3998       0              1        1              1      1                6   \n",
       "3999       1              0        1              0      0               12   \n",
       "\n",
       "      group_visits  age  avg_additional_charges_total  lifetime  \\\n",
       "0                1   29                         14.23         3   \n",
       "1                1   31                        113.20         7   \n",
       "2                0   28                        129.45         2   \n",
       "3                1   33                         62.67         2   \n",
       "4                0   26                        198.36         3   \n",
       "...            ...  ...                           ...       ...   \n",
       "3995             0   33                          2.41         8   \n",
       "3996             1   29                         68.88         1   \n",
       "3997             0   28                         78.25         2   \n",
       "3998             0   32                         61.91         3   \n",
       "3999             1   30                        178.86         1   \n",
       "\n",
       "      avg_class_frequency_total  churn  \n",
       "0                          0.02      0  \n",
       "1                          1.92      0  \n",
       "2                          1.86      0  \n",
       "3                          3.21      0  \n",
       "4                          1.11      0  \n",
       "...                         ...    ...  \n",
       "3995                       2.28      0  \n",
       "3996                       1.28      1  \n",
       "3997                       2.79      0  \n",
       "3998                       1.63      0  \n",
       "3999                       1.10      0  \n",
       "\n",
       "[4000 rows x 12 columns]"
      ]
     },
     "execution_count": 12,
     "metadata": {},
     "output_type": "execute_result"
    }
   ],
   "source": [
    "gym"
   ]
  },
  {
   "cell_type": "markdown",
   "metadata": {},
   "source": [
    "<a id='3'></a>\n",
    "### Построим модель прогнозирования оттока клиентов"
   ]
  },
  {
   "cell_type": "markdown",
   "metadata": {},
   "source": [
    "Построим модель бинарной классификации клиентов, где целевой признак — факт оттока клиента в следующем месяце:\n",
    "\n",
    "поделим данные на обучающую и валидационную выборку функцией train_test_split().\n",
    "Обучим модель на train-выборке двумя способами: 1) логистической регрессией, 2) случайным лесом. 3) Оценим метрики accuracy, precision и recall для обеих моделей на валидационной выборке. Сравним по ним модели. Какая модель показала себя лучше на основании метрик?"
   ]
  },
  {
   "cell_type": "code",
   "execution_count": 13,
   "metadata": {},
   "outputs": [],
   "source": [
    "# разделим наши данные на признаки (матрица X) и целевую переменную (y)\n",
    "X = gym.drop('churn', axis=1)\n",
    "y = gym['churn']\n",
    "\n",
    "# разделяем модель на обучающую и валидационную выборку\n",
    "X_train, X_test, y_train, y_test = train_test_split(X, y, test_size=0.2, random_state=0, stratify=y)\n",
    "\n",
    "# обучим StandartScaler на обучающей выборке\n",
    "scaler = StandardScaler()\n",
    "scaler.fit(X_train)\n",
    "\n",
    "# Преобразуем обучающий и валидационные наборы данных\n",
    "X_train_st = scaler.transform(X_train)\n",
    "X_test_st = scaler.transform(X_test)\n",
    "\n",
    "# зададим алгоритм для модели логистической регрессии\n",
    "lr_model = LogisticRegression(random_state=0)\n",
    "# обучим модель\n",
    "lr_model.fit(X_train_st, y_train)\n",
    "# воспользуемся уже обученной моделью, чтобы сделать прогнозы\n",
    "lr_predictions = lr_model.predict(X_test_st)\n",
    "lr_probabilities = lr_model.predict_proba(X_test_st)[:, 1]\n"
   ]
  },
  {
   "cell_type": "code",
   "execution_count": 14,
   "metadata": {},
   "outputs": [],
   "source": [
    "\n",
    "# зададим алгоритм для новой модели на основе алгоритма случайного леса\n",
    "rf_model = RandomForestClassifier(n_estimators = 100, random_state = 0) \n",
    "\n",
    "# обучим модель случайного леса\n",
    "rf_model.fit(X_train, y_train)\n",
    "\n",
    "# воспользуемся уже обученной моделью, чтобы сделать прогнозы\n",
    "rf_predictions = rf_model.predict(X_test)\n",
    "rf_probabilities = rf_model.predict_proba(X_test)[:, 1]\n"
   ]
  },
  {
   "cell_type": "code",
   "execution_count": 15,
   "metadata": {
    "scrolled": true
   },
   "outputs": [
    {
     "name": "stdout",
     "output_type": "stream",
     "text": [
      "Accuracy: 0.91\n",
      "Precision: 0.83\n",
      "Recall: 0.83\n"
     ]
    }
   ],
   "source": [
    "#Оценим метрики accuracy, precision и recall для модели логистической регрессии на валидационной выборке\n",
    "print('Accuracy: {:.2f}'.format(accuracy_score(y_test, lr_predictions)))\n",
    "print('Precision: {:.2f}'.format(precision_score (y_test, lr_predictions)))\n",
    "print('Recall: {:.2f}'.format(recall_score (y_test, lr_predictions)))\n"
   ]
  },
  {
   "cell_type": "code",
   "execution_count": 16,
   "metadata": {},
   "outputs": [
    {
     "name": "stdout",
     "output_type": "stream",
     "text": [
      "Accuracy: 0.89\n",
      "Precision: 0.81\n",
      "Recall: 0.79\n"
     ]
    }
   ],
   "source": [
    "#Оценим метрики accuracy, precision и recall для модели случайного леса на валидационной выборке\n",
    "print('Accuracy: {:.2f}'.format(accuracy_score(y_test, rf_predictions)))\n",
    "print('Precision: {:.2f}'.format(precision_score (y_test, rf_predictions)))\n",
    "print('Recall: {:.2f}'.format(recall_score (y_test, rf_predictions)))"
   ]
  },
  {
   "cell_type": "code",
   "execution_count": 17,
   "metadata": {},
   "outputs": [],
   "source": [
    "def print_all_metrics(y_true, y_pred, y_proba, title='Метрики классификации'):\n",
    "    print(title)\n",
    "    print('\\tAccuracy: {:.2f}'.format(accuracy_score(y_true, y_pred)))\n",
    "    print('\\tPrecision: {:.2f}'.format(precision_score(y_true, y_pred)))\n",
    "    print('\\tRecall: {:.2f}'.format(recall_score(y_true, y_pred)))\n",
    "    print('\\tF1: {:.2f}'.format(f1_score(y_true, y_pred)))\n",
    "    print('\\tROC_AUC: {:.2f}'.format(roc_auc_score(y_true, y_proba)))\n"
   ]
  },
  {
   "cell_type": "code",
   "execution_count": 18,
   "metadata": {},
   "outputs": [
    {
     "name": "stdout",
     "output_type": "stream",
     "text": [
      "Метрики для модели логистической регрессии:\n",
      "\tAccuracy: 0.91\n",
      "\tPrecision: 0.83\n",
      "\tRecall: 0.83\n",
      "\tF1: 0.83\n",
      "\tROC_AUC: 0.96\n",
      "Метрики для модели случайного леса:\n",
      "\tAccuracy: 0.89\n",
      "\tPrecision: 0.81\n",
      "\tRecall: 0.79\n",
      "\tF1: 0.80\n",
      "\tROC_AUC: 0.95\n"
     ]
    }
   ],
   "source": [
    "print_all_metrics(y_test, lr_predictions, lr_probabilities, title='Метрики для модели логистической регрессии:')\n",
    "print_all_metrics(y_test, rf_predictions, rf_probabilities, title='Метрики для модели случайного леса:')"
   ]
  },
  {
   "cell_type": "markdown",
   "metadata": {},
   "source": [
    "В результате сравнения двух моделей, метрики доля правильных ответов(accuracy)-92%, точность(precision) и полнота(recall)-84% и 82% соответственно, выше при применении модели логистической регрессии. \n",
    "\n"
   ]
  },
  {
   "cell_type": "markdown",
   "metadata": {},
   "source": [
    "<a id='4'></a>\n",
    "### Кластеризация клиентов"
   ]
  },
  {
   "cell_type": "markdown",
   "metadata": {},
   "source": [
    "Отложим в сторону столбец с оттоком и проведите кластеризацию объектов (клиентов):\n",
    "- Стандартизируем данные.\n",
    "- Построим матрицу расстояний функцией linkage() на стандартизованной матрице признаков и нарисуйте дендрограмму.  На основании полученного графика предположим, какое количество кластеров можно выделить.\n",
    "- Обучим модель кластеризации на основании алгоритма K-Means и спрогнозируйте кластеры клиентов. Договоримся за число кластеров принять n=5, чтобы ваши результаты можно было сравнивать с результатами остальных студентов. Однако, конечно, в жизни никто не скажет вам правильный ответ, и решение остаётся за вами (на основании изучения графика из предыдущего пункта).\n",
    "- Посмотрим на средние значения признаков для кластеров. Можно ли сразу что-то заметить?\n",
    "- Построим распределения признаков для кластеров. Можно ли что-то заметить по ним?\n",
    "- Для каждого полученного кластера посчитаем долю оттока (методом groupby()). \n",
    "Отличаются ли они по доле оттока? Какие кластеры склонны к оттоку, а какие — надёжны?"
   ]
  },
  {
   "cell_type": "code",
   "execution_count": 19,
   "metadata": {},
   "outputs": [],
   "source": [
    "#стандартизация и нормализация  данных\n",
    "scaler=StandardScaler()\n",
    "x_sc=scaler.fit_transform(X)\n",
    "\n",
    "linked = linkage(x_sc, method = 'ward') "
   ]
  },
  {
   "cell_type": "code",
   "execution_count": 20,
   "metadata": {},
   "outputs": [
    {
     "data": {
      "image/png": "[encoded data removed]",
      "text/plain": [
       "<Figure size 1080x720 with 1 Axes>"
      ]
     },
     "metadata": {
      "needs_background": "light"
     },
     "output_type": "display_data"
    }
   ],
   "source": [
    "# визуализируем дендрограмму\n",
    "plt.figure(figsize=(15, 10))  \n",
    "dendrogram(linked, orientation='top')\n",
    "plt.title('Hierarchial clustering for GYM')\n",
    "plt.show()"
   ]
  },
  {
   "cell_type": "markdown",
   "metadata": {},
   "source": [
    "Предложенное оптимальное число кластеров 4 — 4 разных цветов на графике"
   ]
  },
  {
   "cell_type": "markdown",
   "metadata": {},
   "source": [
    "Обучим модель кластеризации на основании алгоритма K-Means и спрогнозируем кластеры клиентов"
   ]
  },
  {
   "cell_type": "code",
   "execution_count": 21,
   "metadata": {},
   "outputs": [
    {
     "data": {
      "text/html": [
       "<div>\n",
       "<style scoped>\n",
       "    .dataframe tbody tr th:only-of-type {\n",
       "        vertical-align: middle;\n",
       "    }\n",
       "\n",
       "    .dataframe tbody tr th {\n",
       "        vertical-align: top;\n",
       "    }\n",
       "\n",
       "    .dataframe thead th {\n",
       "        text-align: right;\n",
       "    }\n",
       "</style>\n",
       "<table border=\"1\" class=\"dataframe\">\n",
       "  <thead>\n",
       "    <tr style=\"text-align: right;\">\n",
       "      <th></th>\n",
       "      <th>gender</th>\n",
       "      <th>near_location</th>\n",
       "      <th>partner</th>\n",
       "      <th>promo_friends</th>\n",
       "      <th>phone</th>\n",
       "      <th>contract_period</th>\n",
       "      <th>group_visits</th>\n",
       "      <th>age</th>\n",
       "      <th>avg_additional_charges_total</th>\n",
       "      <th>lifetime</th>\n",
       "      <th>avg_class_frequency_total</th>\n",
       "      <th>churn</th>\n",
       "    </tr>\n",
       "    <tr>\n",
       "      <th>cluster</th>\n",
       "      <th></th>\n",
       "      <th></th>\n",
       "      <th></th>\n",
       "      <th></th>\n",
       "      <th></th>\n",
       "      <th></th>\n",
       "      <th></th>\n",
       "      <th></th>\n",
       "      <th></th>\n",
       "      <th></th>\n",
       "      <th></th>\n",
       "      <th></th>\n",
       "    </tr>\n",
       "  </thead>\n",
       "  <tbody>\n",
       "    <tr>\n",
       "      <th>cluster_1</th>\n",
       "      <td>0.50</td>\n",
       "      <td>0.00</td>\n",
       "      <td>0.49</td>\n",
       "      <td>0.08</td>\n",
       "      <td>1.00</td>\n",
       "      <td>3.03</td>\n",
       "      <td>0.24</td>\n",
       "      <td>28.72</td>\n",
       "      <td>137.54</td>\n",
       "      <td>3.06</td>\n",
       "      <td>1.77</td>\n",
       "      <td>0.40</td>\n",
       "    </tr>\n",
       "    <tr>\n",
       "      <th>cluster_2</th>\n",
       "      <td>0.49</td>\n",
       "      <td>1.00</td>\n",
       "      <td>0.96</td>\n",
       "      <td>0.89</td>\n",
       "      <td>1.00</td>\n",
       "      <td>7.66</td>\n",
       "      <td>0.46</td>\n",
       "      <td>29.54</td>\n",
       "      <td>155.86</td>\n",
       "      <td>4.38</td>\n",
       "      <td>1.98</td>\n",
       "      <td>0.12</td>\n",
       "    </tr>\n",
       "    <tr>\n",
       "      <th>cluster_3</th>\n",
       "      <td>0.51</td>\n",
       "      <td>1.00</td>\n",
       "      <td>0.24</td>\n",
       "      <td>0.06</td>\n",
       "      <td>1.00</td>\n",
       "      <td>2.82</td>\n",
       "      <td>0.00</td>\n",
       "      <td>28.77</td>\n",
       "      <td>143.38</td>\n",
       "      <td>3.34</td>\n",
       "      <td>1.80</td>\n",
       "      <td>0.38</td>\n",
       "    </tr>\n",
       "    <tr>\n",
       "      <th>cluster_4</th>\n",
       "      <td>0.54</td>\n",
       "      <td>1.00</td>\n",
       "      <td>0.25</td>\n",
       "      <td>0.08</td>\n",
       "      <td>1.00</td>\n",
       "      <td>4.53</td>\n",
       "      <td>1.00</td>\n",
       "      <td>29.54</td>\n",
       "      <td>148.09</td>\n",
       "      <td>3.76</td>\n",
       "      <td>1.94</td>\n",
       "      <td>0.20</td>\n",
       "    </tr>\n",
       "    <tr>\n",
       "      <th>cluster_5</th>\n",
       "      <td>0.52</td>\n",
       "      <td>0.86</td>\n",
       "      <td>0.47</td>\n",
       "      <td>0.31</td>\n",
       "      <td>0.00</td>\n",
       "      <td>4.78</td>\n",
       "      <td>0.43</td>\n",
       "      <td>29.30</td>\n",
       "      <td>144.21</td>\n",
       "      <td>3.94</td>\n",
       "      <td>1.85</td>\n",
       "      <td>0.27</td>\n",
       "    </tr>\n",
       "  </tbody>\n",
       "</table>\n",
       "</div>"
      ],
      "text/plain": [
       "           gender  near_location  partner  promo_friends  phone  \\\n",
       "cluster                                                           \n",
       "cluster_1    0.50           0.00     0.49           0.08   1.00   \n",
       "cluster_2    0.49           1.00     0.96           0.89   1.00   \n",
       "cluster_3    0.51           1.00     0.24           0.06   1.00   \n",
       "cluster_4    0.54           1.00     0.25           0.08   1.00   \n",
       "cluster_5    0.52           0.86     0.47           0.31   0.00   \n",
       "\n",
       "           contract_period  group_visits   age  avg_additional_charges_total  \\\n",
       "cluster                                                                        \n",
       "cluster_1             3.03          0.24 28.72                        137.54   \n",
       "cluster_2             7.66          0.46 29.54                        155.86   \n",
       "cluster_3             2.82          0.00 28.77                        143.38   \n",
       "cluster_4             4.53          1.00 29.54                        148.09   \n",
       "cluster_5             4.78          0.43 29.30                        144.21   \n",
       "\n",
       "           lifetime  avg_class_frequency_total  churn  \n",
       "cluster                                                \n",
       "cluster_1      3.06                       1.77   0.40  \n",
       "cluster_2      4.38                       1.98   0.12  \n",
       "cluster_3      3.34                       1.80   0.38  \n",
       "cluster_4      3.76                       1.94   0.20  \n",
       "cluster_5      3.94                       1.85   0.27  "
      ]
     },
     "execution_count": 21,
     "metadata": {},
     "output_type": "execute_result"
    }
   ],
   "source": [
    "# задаём модель k_means с числом кластеров 5 и фиксируем значение random_state\n",
    "km = KMeans(n_clusters=5, random_state=0)\n",
    "# прогнозируем кластеры для наблюдений\n",
    "labels = km.fit_predict(x_sc)\n",
    "# сохраняем метки кластера в поле нашего датасета\n",
    "gym['cluster'] = labels\n",
    "# Переименуем названия кластеров\n",
    "gym.loc[gym['cluster']==0, 'cluster'] = 'cluster_1'\n",
    "gym.loc[gym['cluster']==1, 'cluster'] = 'cluster_2'\n",
    "gym.loc[gym['cluster']==2, 'cluster'] = 'cluster_3'\n",
    "gym.loc[gym['cluster']==3, 'cluster'] = 'cluster_4'\n",
    "gym.loc[gym['cluster']==4, 'cluster'] = 'cluster_5'\n",
    "\n",
    "# выводим статистику по средним значениям признаков по кластеру\n",
    "clusters = gym.groupby(['cluster']).mean()\n",
    "clusters"
   ]
  },
  {
   "cell_type": "code",
   "execution_count": 22,
   "metadata": {},
   "outputs": [],
   "source": [
    "#список количественных переменных\n",
    "list=['age', 'lifetime', 'contract_period', 'avg_additional_charges_total', 'avg_class_frequency_total']\n",
    "#список категориальных пременных\n",
    "list0=['gender','near_location', 'partner', 'promo_friends','phone', 'group_visits']"
   ]
  },
  {
   "cell_type": "code",
   "execution_count": 23,
   "metadata": {
    "scrolled": false
   },
   "outputs": [
    {
     "data": {
      "image/png": "[encoded data removed]",
      "text/plain": [
       "<Figure size 441.5x360 with 1 Axes>"
      ]
     },
     "metadata": {
      "needs_background": "light"
     },
     "output_type": "display_data"
    },
    {
     "data": {
      "image/png": "[encoded data removed]",
      "text/plain": [
       "<Figure size 441.5x360 with 1 Axes>"
      ]
     },
     "metadata": {
      "needs_background": "light"
     },
     "output_type": "display_data"
    },
    {
     "data": {
      "image/png": "[encoded data removed]",
      "text/plain": [
       "<Figure size 441.5x360 with 1 Axes>"
      ]
     },
     "metadata": {
      "needs_background": "light"
     },
     "output_type": "display_data"
    },
    {
     "data": {
      "image/png": "[encoded data removed]",
      "text/plain": [
       "<Figure size 441.5x360 with 1 Axes>"
      ]
     },
     "metadata": {
      "needs_background": "light"
     },
     "output_type": "display_data"
    },
    {
     "data": {
      "image/png": "[encoded data removed]",
      "text/plain": [
       "<Figure size 441.5x360 with 1 Axes>"
      ]
     },
     "metadata": {
      "needs_background": "light"
     },
     "output_type": "display_data"
    }
   ],
   "source": [
    "#построим столбчатые диаграммы количественных переменных и распределения признаков\n",
    "for i in list:\n",
    "    sns.displot(gym, x=gym[i], hue='cluster', kind='hist' ) # 'hist', 'kde', 'ecdf'\n",
    "    plt.title(f'Признак - {i}')\n",
    "    plt.ylabel(\"Кол-во клиентов\")"
   ]
  },
  {
   "cell_type": "code",
   "execution_count": 24,
   "metadata": {
    "scrolled": false
   },
   "outputs": [
    {
     "data": {
      "image/png": "[encoded data removed]",
      "text/plain": [
       "<Figure size 441.5x360 with 1 Axes>"
      ]
     },
     "metadata": {
      "needs_background": "light"
     },
     "output_type": "display_data"
    },
    {
     "data": {
      "image/png": "[encoded data removed]",
      "text/plain": [
       "<Figure size 441.5x360 with 1 Axes>"
      ]
     },
     "metadata": {
      "needs_background": "light"
     },
     "output_type": "display_data"
    },
    {
     "data": {
      "image/png": "[encoded data removed]",
      "text/plain": [
       "<Figure size 441.5x360 with 1 Axes>"
      ]
     },
     "metadata": {
      "needs_background": "light"
     },
     "output_type": "display_data"
    },
    {
     "data": {
      "image/png": "[encoded data removed]",
      "text/plain": [
       "<Figure size 441.5x360 with 1 Axes>"
      ]
     },
     "metadata": {
      "needs_background": "light"
     },
     "output_type": "display_data"
    },
    {
     "data": {
      "image/png": "[encoded data removed]",
      "text/plain": [
       "<Figure size 441.5x360 with 1 Axes>"
      ]
     },
     "metadata": {
      "needs_background": "light"
     },
     "output_type": "display_data"
    },
    {
     "data": {
      "image/png": "[encoded data removed]",
      "text/plain": [
       "<Figure size 441.5x360 with 1 Axes>"
      ]
     },
     "metadata": {
      "needs_background": "light"
     },
     "output_type": "display_data"
    }
   ],
   "source": [
    "#Построим распределения категориальных  признаков для кластеров \n",
    "\n",
    "for i in list0:\n",
    "    sns.displot(gym, x=gym[i], hue='cluster')\n",
    "    plt.xticks([0, 1])\n",
    "    plt.title(f'Признак - {i}')\n",
    "    plt.ylabel(\"Кол-во клиентов\")\n",
    "    plt.xlabel(\"\")\n"
   ]
  },
  {
   "cell_type": "markdown",
   "metadata": {},
   "source": [
    "Судя по графикам в кластер_2 и кластер_4 попадают клиенты в возрасте от 18 лет и до 30, которые не являются постоянными клиентами клуба, длительность абонемента 1 мес, до конца конракта также 1 -1,5 мес, посещают зал примерно 1-2 р в неделю, не являются партнерами и пришли не по акции приведи друга, не посещают групповые занятия.В кластер_3 попали те,кто живет и работает не рядом с клубом. Клиенты из Кластер_2 не оставляют номера телефонов."
   ]
  },
  {
   "cell_type": "code",
   "execution_count": 25,
   "metadata": {},
   "outputs": [
    {
     "data": {
      "text/html": [
       "<div>\n",
       "<style scoped>\n",
       "    .dataframe tbody tr th:only-of-type {\n",
       "        vertical-align: middle;\n",
       "    }\n",
       "\n",
       "    .dataframe tbody tr th {\n",
       "        vertical-align: top;\n",
       "    }\n",
       "\n",
       "    .dataframe thead th {\n",
       "        text-align: right;\n",
       "    }\n",
       "</style>\n",
       "<table border=\"1\" class=\"dataframe\">\n",
       "  <thead>\n",
       "    <tr style=\"text-align: right;\">\n",
       "      <th></th>\n",
       "      <th>cluster</th>\n",
       "      <th>churn</th>\n",
       "    </tr>\n",
       "  </thead>\n",
       "  <tbody>\n",
       "    <tr>\n",
       "      <th>0</th>\n",
       "      <td>cluster_1</td>\n",
       "      <td>0.40</td>\n",
       "    </tr>\n",
       "    <tr>\n",
       "      <th>1</th>\n",
       "      <td>cluster_3</td>\n",
       "      <td>0.38</td>\n",
       "    </tr>\n",
       "    <tr>\n",
       "      <th>2</th>\n",
       "      <td>cluster_5</td>\n",
       "      <td>0.27</td>\n",
       "    </tr>\n",
       "    <tr>\n",
       "      <th>3</th>\n",
       "      <td>cluster_4</td>\n",
       "      <td>0.20</td>\n",
       "    </tr>\n",
       "    <tr>\n",
       "      <th>4</th>\n",
       "      <td>cluster_2</td>\n",
       "      <td>0.12</td>\n",
       "    </tr>\n",
       "  </tbody>\n",
       "</table>\n",
       "</div>"
      ],
      "text/plain": [
       "     cluster  churn\n",
       "0  cluster_1   0.40\n",
       "1  cluster_3   0.38\n",
       "2  cluster_5   0.27\n",
       "3  cluster_4   0.20\n",
       "4  cluster_2   0.12"
      ]
     },
     "execution_count": 25,
     "metadata": {},
     "output_type": "execute_result"
    }
   ],
   "source": [
    "# Для каждого полученного кластера посчитаем долю оттока\n",
    "(gym\n",
    "     .groupby('cluster')['churn']\n",
    "     .mean()\n",
    "     .reset_index()\n",
    "     .sort_values(by='churn', ascending=False)\n",
    "     .reset_index(drop=True))"
   ]
  },
  {
   "cell_type": "markdown",
   "metadata": {},
   "source": [
    "Доля оттока у кластера_4 -51%  самая высокая, не сильно отстает кластер_3- 44%."
   ]
  },
  {
   "cell_type": "markdown",
   "metadata": {},
   "source": [
    "<a id='5'></a>\n",
    "### Вывод: \n",
    "\n",
    "Цель проекта:\n",
    "\n",
    "Провести анализ и подготовить план действий по удержанию клиентов.\n",
    "\n",
    "А именно: научиться прогнозировать вероятность оттока (на уровне следующего месяца) для каждого клиента; сформировать типичные портреты клиентов: выделить несколько наиболее ярких групп и охарактеризовать их основные свойства; проанализировать основные признаки, наиболее сильно влияющие на отток; сформулировать основные выводы и разработать рекомендации по повышению качества работы с клиентами:\n",
    "\n",
    "1) выделить целевые группы клиентов;\n",
    "\n",
    "2) предложить меры по снижению оттока;\n",
    "\n",
    "3) определить другие особенности взаимодействия с клиентами.\n",
    "\n",
    "В ходе работы пропущенных значений и дубликатов не было выявлено. \n",
    "\n",
    "Названия столбцов привели к нижнему регистру.\n",
    "\n",
    "По построенным гистограммам и распределения признаков выявили, что в клубе не задерживаются молодые люди от 18-35, у кого клубная карта не более чем на 2 мес, и в основном те у кого до конца контракта 1-2 мес, также посещают они зал не очень часто 1-2 р в неделю.\n",
    "\n",
    "Также, как ранее было замечено, отваливаются те, кто не живет/работает рядом с залом, не является сотрудником компании-партнёра клуба, и пришел не в рамках акции «приведи друга». \n",
    "\n",
    "По матриции корреляции видно, что сильнее всего коррелируют следующие признаки:\n",
    "\n",
    "'Month_to_end_contract'-'Contract_period'\n",
    "'Avg_class_frequency_current_month'-'Avg_class_frequency_total\n",
    "'Promo_friends'-'Partner'\n",
    "\n",
    "В результате сравнения метрик двух моделей логистической регрессии и случайного леса, метрики модели логистической регрессии показали более точные результаты, доля правильных ответов(accuracy)-92%, точность(precision) и полнота(recall)-84% и 82% соответственно.\n",
    "\n",
    "Построили матрицу расстояний функцией linkage() на стандартизованной матрице признаков и нарисовали дендрограмму. На основании полученного графика предположили оптимальное число кластеров - 4.\n",
    "\n",
    "Обучили модель кластеризации на основании алгоритма K-Means и спрогнозировали кластеры клиентов -5 кластеров.\n",
    "Результаты кластеризации:\n",
    "\n",
    "cluster_1 - лучший кластер, доля оттока всего 3%:\n",
    "Это те клиенты, кто купил абонемент на 12мес по Промо или Партнер, и проходил уже больше 2 месяцев, и ходят 2-3раза в неделю, те кому больше 30 лет, многие тратят на допуслуги свыше 200, у них осталось 6мес и больше от абонемента, те кто является партнерами и пользуется промо-акциями, любят групповые занятия\n",
    "\n",
    "cluster_5 - также неплохой, доля оттока около 7%  -Это те клиенты, кто купил абонемент на 6мес  так же как и cluster_1 ходят 2-3раза в неделю, те кому больше 30 лет, многие тратят на допуслуги свыше 200, у них осталось 6мес.\n",
    "\n",
    "cluster_2 - плохой, доля оттока -27%:\n",
    "Это те клиенты, кто живет не близко и в основном пришел без промо-акции, те у кого абонемент меньше ,чем на 2 мес, и совсем не оставляют номера телефонов.\n",
    "\n",
    "cluster_3 - также плохой кластер, доля оттока 44%:\n",
    "Это клиенты ,которые живут не рядом с клубом. \n",
    "\n",
    "cluster_4 - очень плохой кластер - отток  51%:\n",
    "Клиенты в возрасте от 18 лет и до 30, которые не являются постоянными клиентами клуба, длительность абонемента 1 мес, до конца контракта также 1 -1,5 мес, посещают зал примерно 1-2 р в неделю, не являются партнерами и пришли не по акции приведи друга, не посещают групповые занятия.\n",
    "\n",
    "\n",
    "Рекомендации:\n",
    "- для постоянных клиентов, делать скидки и акции на доп.услуги клуба,\n",
    "- делать скидку на последующее продление абонемента,\n",
    "- делать упор на клиентов, которые проживают рядом, провести рекламную акцию для привлечения новых(листовки, рекламные щиты),\n",
    "- установить цены на абонементы 6 и 12 мес чуть меньше, чем на абонементы 1 и 3мес."
   ]
  },
  {
   "cell_type": "code",
   "execution_count": null,
   "metadata": {},
   "outputs": [],
   "source": []
  },
  {
   "cell_type": "code",
   "execution_count": null,
   "metadata": {},
   "outputs": [],
   "source": []
  }
 ],
 "metadata": {
  "ExecuteTimeLog": [
   {
    "duration": 11,
    "start_time": "2022-04-30T19:34:36.748Z"
   },
   {
    "duration": 110,
    "start_time": "2022-04-30T19:36:07.227Z"
   },
   {
    "duration": 123,
    "start_time": "2022-04-30T19:40:11.630Z"
   },
   {
    "duration": 3489,
    "start_time": "2022-04-30T19:43:49.515Z"
   },
   {
    "duration": 17,
    "start_time": "2022-04-30T19:48:52.701Z"
   },
   {
    "duration": 47,
    "start_time": "2022-04-30T19:49:03.073Z"
   },
   {
    "duration": 4,
    "start_time": "2022-04-30T19:49:33.583Z"
   },
   {
    "duration": 3,
    "start_time": "2022-04-30T19:50:28.286Z"
   },
   {
    "duration": 33,
    "start_time": "2022-04-30T19:50:32.358Z"
   },
   {
    "duration": 3,
    "start_time": "2022-04-30T19:50:42.630Z"
   },
   {
    "duration": 89,
    "start_time": "2022-04-30T19:51:18.626Z"
   },
   {
    "duration": 1609,
    "start_time": "2022-05-02T10:34:49.063Z"
   },
   {
    "duration": 2,
    "start_time": "2022-05-02T10:34:50.674Z"
   },
   {
    "duration": 46,
    "start_time": "2022-05-02T10:34:50.678Z"
   },
   {
    "duration": 77,
    "start_time": "2022-05-02T10:34:50.726Z"
   },
   {
    "duration": 77,
    "start_time": "2022-05-02T10:43:53.687Z"
   },
   {
    "duration": 105,
    "start_time": "2022-05-02T10:45:36.247Z"
   },
   {
    "duration": 12,
    "start_time": "2022-05-02T10:45:42.541Z"
   },
   {
    "duration": 11,
    "start_time": "2022-05-02T10:47:58.342Z"
   },
   {
    "duration": 54,
    "start_time": "2022-05-02T10:58:44.104Z"
   },
   {
    "duration": 33,
    "start_time": "2022-05-02T10:58:51.641Z"
   },
   {
    "duration": 27,
    "start_time": "2022-05-02T10:59:02.722Z"
   },
   {
    "duration": 9,
    "start_time": "2022-05-02T10:59:06.629Z"
   },
   {
    "duration": 4,
    "start_time": "2022-05-02T10:59:06.840Z"
   },
   {
    "duration": 27,
    "start_time": "2022-05-02T10:59:07.104Z"
   },
   {
    "duration": 25,
    "start_time": "2022-05-02T10:59:09.894Z"
   },
   {
    "duration": 82,
    "start_time": "2022-05-02T10:59:50.855Z"
   },
   {
    "duration": 84,
    "start_time": "2022-05-02T10:59:57.445Z"
   },
   {
    "duration": 19,
    "start_time": "2022-05-02T11:00:04.207Z"
   },
   {
    "duration": 13,
    "start_time": "2022-05-02T11:00:11.326Z"
   },
   {
    "duration": 19,
    "start_time": "2022-05-02T11:28:22.620Z"
   },
   {
    "duration": 7,
    "start_time": "2022-05-02T11:28:32.477Z"
   },
   {
    "duration": 11,
    "start_time": "2022-05-02T11:28:37.535Z"
   },
   {
    "duration": 295,
    "start_time": "2022-05-02T11:51:11.122Z"
   },
   {
    "duration": 214,
    "start_time": "2022-05-02T11:54:36.955Z"
   },
   {
    "duration": 1629,
    "start_time": "2022-05-02T11:54:58.661Z"
   },
   {
    "duration": 282,
    "start_time": "2022-05-02T11:55:14.668Z"
   },
   {
    "duration": 205,
    "start_time": "2022-05-02T11:55:27.803Z"
   },
   {
    "duration": 11,
    "start_time": "2022-05-02T11:57:19.349Z"
   },
   {
    "duration": 13,
    "start_time": "2022-05-02T11:57:49.270Z"
   },
   {
    "duration": 148,
    "start_time": "2022-05-02T11:58:09.142Z"
   },
   {
    "duration": 260,
    "start_time": "2022-05-02T12:11:47.039Z"
   },
   {
    "duration": 15,
    "start_time": "2022-05-02T12:12:07.246Z"
   },
   {
    "duration": 264,
    "start_time": "2022-05-02T12:12:13.149Z"
   },
   {
    "duration": 1116,
    "start_time": "2022-05-02T12:12:19.459Z"
   },
   {
    "duration": 426,
    "start_time": "2022-05-02T12:17:24.396Z"
   },
   {
    "duration": 3988,
    "start_time": "2022-05-02T18:58:34.096Z"
   },
   {
    "duration": 5,
    "start_time": "2022-05-02T18:58:38.088Z"
   },
   {
    "duration": 66,
    "start_time": "2022-05-02T18:58:38.096Z"
   },
   {
    "duration": 176,
    "start_time": "2022-05-02T18:58:38.165Z"
   },
   {
    "duration": 38,
    "start_time": "2022-05-02T18:58:38.343Z"
   },
   {
    "duration": 594,
    "start_time": "2022-05-02T18:58:38.384Z"
   },
   {
    "duration": 885,
    "start_time": "2022-05-02T18:58:38.980Z"
   },
   {
    "duration": 320,
    "start_time": "2022-05-02T18:58:39.867Z"
   },
   {
    "duration": 765,
    "start_time": "2022-05-02T19:02:47.547Z"
   },
   {
    "duration": 894,
    "start_time": "2022-05-02T19:03:22.744Z"
   },
   {
    "duration": 1655,
    "start_time": "2022-05-02T19:05:17.419Z"
   },
   {
    "duration": 27,
    "start_time": "2022-05-02T19:05:37.756Z"
   },
   {
    "duration": 1822,
    "start_time": "2022-05-02T19:05:45.300Z"
   },
   {
    "duration": 23,
    "start_time": "2022-05-02T19:06:04.228Z"
   },
   {
    "duration": 34,
    "start_time": "2022-05-02T19:06:16.789Z"
   },
   {
    "duration": 402,
    "start_time": "2022-05-02T19:06:17.537Z"
   },
   {
    "duration": 914,
    "start_time": "2022-05-02T19:06:26.324Z"
   },
   {
    "duration": 1647,
    "start_time": "2022-05-02T19:06:37.531Z"
   },
   {
    "duration": 3333,
    "start_time": "2022-05-02T19:10:35.224Z"
   },
   {
    "duration": 2807,
    "start_time": "2022-05-02T19:12:17.004Z"
   },
   {
    "duration": 17,
    "start_time": "2022-05-02T19:13:02.507Z"
   },
   {
    "duration": 15,
    "start_time": "2022-05-02T19:13:38.149Z"
   },
   {
    "duration": 475,
    "start_time": "2022-05-02T19:13:44.258Z"
   },
   {
    "duration": 1030,
    "start_time": "2022-05-02T19:13:58.669Z"
   },
   {
    "duration": 544,
    "start_time": "2022-05-02T19:14:06.687Z"
   },
   {
    "duration": 343,
    "start_time": "2022-05-02T19:14:10.052Z"
   },
   {
    "duration": 1216,
    "start_time": "2022-05-02T19:15:20.750Z"
   },
   {
    "duration": 332,
    "start_time": "2022-05-02T19:15:41.598Z"
   },
   {
    "duration": 514,
    "start_time": "2022-05-02T19:18:27.932Z"
   },
   {
    "duration": 533,
    "start_time": "2022-05-02T19:18:40.250Z"
   },
   {
    "duration": 533,
    "start_time": "2022-05-02T19:18:50.382Z"
   },
   {
    "duration": 513,
    "start_time": "2022-05-02T19:19:03.791Z"
   },
   {
    "duration": 648,
    "start_time": "2022-05-02T19:21:46.680Z"
   },
   {
    "duration": 27,
    "start_time": "2022-05-02T19:23:14.711Z"
   },
   {
    "duration": 13,
    "start_time": "2022-05-02T19:32:43.923Z"
   },
   {
    "duration": 4439,
    "start_time": "2022-05-02T19:33:04.242Z"
   },
   {
    "duration": 6,
    "start_time": "2022-05-02T19:33:34.992Z"
   },
   {
    "duration": 3,
    "start_time": "2022-05-02T19:33:35.547Z"
   },
   {
    "duration": 33,
    "start_time": "2022-05-02T19:33:35.765Z"
   },
   {
    "duration": 135,
    "start_time": "2022-05-02T19:33:36.323Z"
   },
   {
    "duration": 15,
    "start_time": "2022-05-02T19:33:36.682Z"
   },
   {
    "duration": 544,
    "start_time": "2022-05-02T19:33:37.249Z"
   },
   {
    "duration": 4056,
    "start_time": "2022-05-02T19:33:37.795Z"
   },
   {
    "duration": 10,
    "start_time": "2022-05-02T19:43:53.534Z"
   },
   {
    "duration": 17,
    "start_time": "2022-05-02T19:44:39.891Z"
   },
   {
    "duration": 252,
    "start_time": "2022-05-02T19:44:59.057Z"
   },
   {
    "duration": 234,
    "start_time": "2022-05-02T19:55:20.594Z"
   },
   {
    "duration": 102,
    "start_time": "2022-05-02T19:55:32.831Z"
   },
   {
    "duration": 248,
    "start_time": "2022-05-02T19:55:38.353Z"
   },
   {
    "duration": 1934,
    "start_time": "2022-05-03T10:38:33.369Z"
   },
   {
    "duration": 3,
    "start_time": "2022-05-03T10:38:35.305Z"
   },
   {
    "duration": 35,
    "start_time": "2022-05-03T10:38:35.310Z"
   },
   {
    "duration": 97,
    "start_time": "2022-05-03T10:38:35.348Z"
   },
   {
    "duration": 12,
    "start_time": "2022-05-03T10:38:35.447Z"
   },
   {
    "duration": 372,
    "start_time": "2022-05-03T10:38:35.461Z"
   },
   {
    "duration": 5,
    "start_time": "2022-05-03T10:38:35.836Z"
   },
   {
    "duration": 23,
    "start_time": "2022-05-03T10:38:35.843Z"
   },
   {
    "duration": 2492,
    "start_time": "2022-05-03T10:38:35.868Z"
   },
   {
    "duration": 2368,
    "start_time": "2022-05-03T10:39:17.903Z"
   },
   {
    "duration": 146,
    "start_time": "2022-05-03T10:43:31.705Z"
   },
   {
    "duration": 131,
    "start_time": "2022-05-03T10:45:10.229Z"
   },
   {
    "duration": 5,
    "start_time": "2022-05-03T10:48:47.227Z"
   },
   {
    "duration": 3,
    "start_time": "2022-05-03T10:49:17.484Z"
   },
   {
    "duration": 13,
    "start_time": "2022-05-03T10:53:44.364Z"
   },
   {
    "duration": 4,
    "start_time": "2022-05-03T10:54:27.152Z"
   },
   {
    "duration": 11,
    "start_time": "2022-05-03T10:54:36.342Z"
   },
   {
    "duration": 13,
    "start_time": "2022-05-03T10:54:46.670Z"
   },
   {
    "duration": 2428,
    "start_time": "2022-05-03T10:56:00.680Z"
   },
   {
    "duration": 5,
    "start_time": "2022-05-03T10:58:45.336Z"
   },
   {
    "duration": 10,
    "start_time": "2022-05-03T11:01:36.926Z"
   },
   {
    "duration": 1554,
    "start_time": "2022-05-03T11:01:58.973Z"
   },
   {
    "duration": 18,
    "start_time": "2022-05-03T11:18:33.074Z"
   },
   {
    "duration": 1703,
    "start_time": "2022-05-03T11:18:46.148Z"
   },
   {
    "duration": 1239,
    "start_time": "2022-05-03T11:19:19.735Z"
   },
   {
    "duration": 135,
    "start_time": "2022-05-03T11:24:42.991Z"
   },
   {
    "duration": 7,
    "start_time": "2022-05-03T11:41:14.182Z"
   },
   {
    "duration": 13,
    "start_time": "2022-05-03T11:44:39.620Z"
   },
   {
    "duration": 3,
    "start_time": "2022-05-03T11:45:12.916Z"
   },
   {
    "duration": 31,
    "start_time": "2022-05-03T11:45:16.092Z"
   },
   {
    "duration": 5,
    "start_time": "2022-05-03T11:47:21.987Z"
   },
   {
    "duration": 10,
    "start_time": "2022-05-03T11:47:28.653Z"
   },
   {
    "duration": 3,
    "start_time": "2022-05-03T11:49:22.759Z"
   },
   {
    "duration": 2555,
    "start_time": "2022-05-03T18:37:52.669Z"
   },
   {
    "duration": 5,
    "start_time": "2022-05-03T18:37:55.228Z"
   },
   {
    "duration": 58,
    "start_time": "2022-05-03T18:37:55.235Z"
   },
   {
    "duration": 150,
    "start_time": "2022-05-03T18:37:55.296Z"
   },
   {
    "duration": 34,
    "start_time": "2022-05-03T18:37:55.448Z"
   },
   {
    "duration": 4,
    "start_time": "2022-05-03T18:37:55.484Z"
   },
   {
    "duration": 3841,
    "start_time": "2022-05-03T18:37:55.490Z"
   },
   {
    "duration": 2300,
    "start_time": "2022-05-03T18:37:59.334Z"
   },
   {
    "duration": 159,
    "start_time": "2022-05-03T18:38:01.637Z"
   },
   {
    "duration": 0,
    "start_time": "2022-05-03T18:38:01.799Z"
   },
   {
    "duration": 138,
    "start_time": "2022-05-03T19:02:01.921Z"
   },
   {
    "duration": 18,
    "start_time": "2022-05-03T19:04:39.475Z"
   },
   {
    "duration": 270,
    "start_time": "2022-05-03T19:07:32.121Z"
   },
   {
    "duration": 548,
    "start_time": "2022-05-03T19:07:33.773Z"
   },
   {
    "duration": 525,
    "start_time": "2022-05-03T19:07:43.732Z"
   },
   {
    "duration": 183,
    "start_time": "2022-05-03T19:09:15.503Z"
   },
   {
    "duration": 2753,
    "start_time": "2022-05-04T10:45:15.216Z"
   },
   {
    "duration": 6,
    "start_time": "2022-05-04T10:45:17.973Z"
   },
   {
    "duration": 62,
    "start_time": "2022-05-04T10:45:17.981Z"
   },
   {
    "duration": 242,
    "start_time": "2022-05-04T10:45:18.048Z"
   },
   {
    "duration": 44,
    "start_time": "2022-05-04T10:45:18.293Z"
   },
   {
    "duration": 5,
    "start_time": "2022-05-04T10:45:18.341Z"
   },
   {
    "duration": 6342,
    "start_time": "2022-05-04T10:45:18.349Z"
   },
   {
    "duration": 3843,
    "start_time": "2022-05-04T10:45:24.694Z"
   },
   {
    "duration": 190,
    "start_time": "2022-05-04T10:45:28.541Z"
   },
   {
    "duration": 965,
    "start_time": "2022-05-04T10:45:28.736Z"
   },
   {
    "duration": 19,
    "start_time": "2022-05-04T11:05:47.843Z"
   },
   {
    "duration": 19,
    "start_time": "2022-05-04T11:06:36.225Z"
   },
   {
    "duration": 2464,
    "start_time": "2022-05-04T18:40:16.679Z"
   },
   {
    "duration": 3,
    "start_time": "2022-05-04T18:40:19.146Z"
   },
   {
    "duration": 59,
    "start_time": "2022-05-04T18:40:19.152Z"
   },
   {
    "duration": 214,
    "start_time": "2022-05-04T18:40:19.216Z"
   },
   {
    "duration": 19,
    "start_time": "2022-05-04T18:40:19.433Z"
   },
   {
    "duration": 4,
    "start_time": "2022-05-04T18:40:19.455Z"
   },
   {
    "duration": 5212,
    "start_time": "2022-05-04T18:40:19.461Z"
   },
   {
    "duration": 2673,
    "start_time": "2022-05-04T18:40:24.676Z"
   },
   {
    "duration": 282,
    "start_time": "2022-05-04T18:40:27.352Z"
   },
   {
    "duration": 742,
    "start_time": "2022-05-04T18:40:27.639Z"
   },
   {
    "duration": 11,
    "start_time": "2022-05-04T18:40:28.384Z"
   },
   {
    "duration": 34,
    "start_time": "2022-05-04T18:40:28.397Z"
   },
   {
    "duration": 216,
    "start_time": "2022-05-04T18:55:25.706Z"
   },
   {
    "duration": 11,
    "start_time": "2022-05-04T18:58:09.989Z"
   },
   {
    "duration": 12,
    "start_time": "2022-05-04T19:03:54.958Z"
   },
   {
    "duration": 18,
    "start_time": "2022-05-04T19:04:34.854Z"
   },
   {
    "duration": 17,
    "start_time": "2022-05-04T19:04:40.667Z"
   },
   {
    "duration": 30,
    "start_time": "2022-05-04T19:09:07.904Z"
   },
   {
    "duration": 7,
    "start_time": "2022-05-04T19:10:11.320Z"
   },
   {
    "duration": 870,
    "start_time": "2022-05-04T19:12:53.572Z"
   },
   {
    "duration": 164377,
    "start_time": "2022-05-04T19:13:40.961Z"
   },
   {
    "duration": 177,
    "start_time": "2022-05-04T19:32:30.555Z"
   },
   {
    "duration": 1837,
    "start_time": "2022-05-04T19:32:49.588Z"
   },
   {
    "duration": 1919,
    "start_time": "2022-05-04T19:33:08.113Z"
   },
   {
    "duration": 1957,
    "start_time": "2022-05-04T19:33:58.970Z"
   },
   {
    "duration": 2004,
    "start_time": "2022-05-04T19:34:03.548Z"
   },
   {
    "duration": 2008,
    "start_time": "2022-05-04T19:34:19.736Z"
   },
   {
    "duration": 2001,
    "start_time": "2022-05-04T19:34:51.456Z"
   },
   {
    "duration": 5,
    "start_time": "2022-05-04T19:34:53.460Z"
   },
   {
    "duration": 45,
    "start_time": "2022-05-04T19:34:53.468Z"
   },
   {
    "duration": 155,
    "start_time": "2022-05-04T19:34:53.516Z"
   },
   {
    "duration": 16,
    "start_time": "2022-05-04T19:34:53.674Z"
   },
   {
    "duration": 4,
    "start_time": "2022-05-04T19:34:53.693Z"
   },
   {
    "duration": 3667,
    "start_time": "2022-05-04T19:34:53.699Z"
   },
   {
    "duration": 2485,
    "start_time": "2022-05-04T19:34:57.368Z"
   },
   {
    "duration": 270,
    "start_time": "2022-05-04T19:34:59.855Z"
   },
   {
    "duration": 620,
    "start_time": "2022-05-04T19:35:00.131Z"
   },
   {
    "duration": 12,
    "start_time": "2022-05-04T19:35:00.753Z"
   },
   {
    "duration": 15,
    "start_time": "2022-05-04T19:35:00.768Z"
   },
   {
    "duration": 861,
    "start_time": "2022-05-04T19:35:00.786Z"
   },
   {
    "duration": 177716,
    "start_time": "2022-05-04T19:35:01.650Z"
   },
   {
    "duration": 1989,
    "start_time": "2022-05-04T19:37:59.368Z"
   },
   {
    "duration": 5673,
    "start_time": "2022-05-04T19:42:35.263Z"
   },
   {
    "duration": 1858,
    "start_time": "2022-05-05T19:01:38.634Z"
   },
   {
    "duration": 3,
    "start_time": "2022-05-05T19:01:40.494Z"
   },
   {
    "duration": 54,
    "start_time": "2022-05-05T19:01:40.499Z"
   },
   {
    "duration": 117,
    "start_time": "2022-05-05T19:01:40.556Z"
   },
   {
    "duration": 13,
    "start_time": "2022-05-05T19:01:40.675Z"
   },
   {
    "duration": 3,
    "start_time": "2022-05-05T19:01:40.690Z"
   },
   {
    "duration": 3065,
    "start_time": "2022-05-05T19:01:40.695Z"
   },
   {
    "duration": 1880,
    "start_time": "2022-05-05T19:01:43.762Z"
   },
   {
    "duration": 591,
    "start_time": "2022-05-05T19:01:45.643Z"
   },
   {
    "duration": 527,
    "start_time": "2022-05-05T19:01:46.240Z"
   },
   {
    "duration": 9,
    "start_time": "2022-05-05T19:01:46.769Z"
   },
   {
    "duration": 16,
    "start_time": "2022-05-05T19:01:46.779Z"
   },
   {
    "duration": 635,
    "start_time": "2022-05-05T19:01:46.798Z"
   },
   {
    "duration": 126238,
    "start_time": "2022-05-05T19:01:47.436Z"
   },
   {
    "duration": 1979,
    "start_time": "2022-05-05T19:03:53.675Z"
   },
   {
    "duration": 3686,
    "start_time": "2022-05-05T19:03:55.657Z"
   },
   {
    "duration": 17,
    "start_time": "2022-05-05T19:05:55.652Z"
   },
   {
    "duration": 546,
    "start_time": "2022-05-05T19:06:13.619Z"
   },
   {
    "duration": 121657,
    "start_time": "2022-05-05T19:06:16.348Z"
   },
   {
    "duration": 1743,
    "start_time": "2022-05-05T19:08:18.007Z"
   },
   {
    "duration": 1175,
    "start_time": "2022-05-05T19:20:35.675Z"
   },
   {
    "duration": 3916,
    "start_time": "2022-05-05T19:20:43.692Z"
   },
   {
    "duration": 1290,
    "start_time": "2022-05-05T19:21:13.565Z"
   },
   {
    "duration": 2904,
    "start_time": "2022-05-05T19:25:34.815Z"
   },
   {
    "duration": 13,
    "start_time": "2022-05-05T19:26:49.932Z"
   },
   {
    "duration": 27,
    "start_time": "2022-05-05T19:27:00.049Z"
   },
   {
    "duration": 16,
    "start_time": "2022-05-05T19:28:28.177Z"
   },
   {
    "duration": 4,
    "start_time": "2022-05-05T19:28:31.530Z"
   },
   {
    "duration": 1780,
    "start_time": "2022-05-05T19:28:31.786Z"
   },
   {
    "duration": 1450,
    "start_time": "2022-05-05T19:28:46.649Z"
   },
   {
    "duration": 1460,
    "start_time": "2022-05-05T19:29:00.264Z"
   },
   {
    "duration": 1210,
    "start_time": "2022-05-05T19:31:42.558Z"
   },
   {
    "duration": 1022,
    "start_time": "2022-05-05T19:32:03.259Z"
   },
   {
    "duration": 2416,
    "start_time": "2022-05-05T19:32:57.994Z"
   },
   {
    "duration": 1883,
    "start_time": "2022-05-05T19:38:45.279Z"
   },
   {
    "duration": 11,
    "start_time": "2022-05-05T19:50:36.821Z"
   },
   {
    "duration": 1062,
    "start_time": "2022-05-05T19:50:50.901Z"
   },
   {
    "duration": 1438,
    "start_time": "2022-05-05T19:52:06.057Z"
   },
   {
    "duration": 1482,
    "start_time": "2022-05-05T19:52:29.873Z"
   },
   {
    "duration": 1625,
    "start_time": "2022-05-05T19:59:57.219Z"
   },
   {
    "duration": 591,
    "start_time": "2022-05-05T20:01:18.306Z"
   },
   {
    "duration": 121264,
    "start_time": "2022-05-05T20:01:19.150Z"
   },
   {
    "duration": 1634,
    "start_time": "2022-05-05T20:03:20.416Z"
   },
   {
    "duration": 5,
    "start_time": "2022-05-05T20:03:49.566Z"
   },
   {
    "duration": 3,
    "start_time": "2022-05-05T20:03:49.776Z"
   },
   {
    "duration": 29,
    "start_time": "2022-05-05T20:03:50.021Z"
   },
   {
    "duration": 100,
    "start_time": "2022-05-05T20:03:50.897Z"
   },
   {
    "duration": 12,
    "start_time": "2022-05-05T20:03:51.382Z"
   },
   {
    "duration": 3,
    "start_time": "2022-05-05T20:03:51.835Z"
   },
   {
    "duration": 1332,
    "start_time": "2022-05-05T20:03:52.062Z"
   },
   {
    "duration": 958,
    "start_time": "2022-05-05T20:03:53.396Z"
   },
   {
    "duration": 1906,
    "start_time": "2022-05-05T20:03:54.356Z"
   },
   {
    "duration": 182,
    "start_time": "2022-05-05T20:04:08.053Z"
   },
   {
    "duration": 519,
    "start_time": "2022-05-05T20:04:08.335Z"
   },
   {
    "duration": 16,
    "start_time": "2022-05-05T20:04:09.234Z"
   },
   {
    "duration": 8,
    "start_time": "2022-05-05T20:04:18.468Z"
   },
   {
    "duration": 7,
    "start_time": "2022-05-05T20:04:19.083Z"
   },
   {
    "duration": 589,
    "start_time": "2022-05-05T20:04:22.786Z"
   },
   {
    "duration": 122936,
    "start_time": "2022-05-05T20:04:24.534Z"
   },
   {
    "duration": 1339,
    "start_time": "2022-05-05T20:06:43.814Z"
   },
   {
    "duration": 1684,
    "start_time": "2022-05-05T20:07:12.422Z"
   },
   {
    "duration": 9,
    "start_time": "2022-05-05T20:07:32.462Z"
   },
   {
    "duration": 1665,
    "start_time": "2022-05-05T20:07:59.774Z"
   },
   {
    "duration": 592,
    "start_time": "2022-05-05T20:10:17.549Z"
   },
   {
    "duration": 120196,
    "start_time": "2022-05-05T20:10:19.290Z"
   },
   {
    "duration": 1547,
    "start_time": "2022-05-05T20:13:49.396Z"
   },
   {
    "duration": 1968,
    "start_time": "2022-05-05T20:14:16.180Z"
   },
   {
    "duration": 4148,
    "start_time": "2022-05-05T20:18:53.318Z"
   },
   {
    "duration": 1645,
    "start_time": "2022-05-05T20:21:48.800Z"
   },
   {
    "duration": 1604,
    "start_time": "2022-05-05T20:22:34.865Z"
   },
   {
    "duration": 3,
    "start_time": "2022-05-05T20:22:36.471Z"
   },
   {
    "duration": 115,
    "start_time": "2022-05-05T20:22:36.475Z"
   },
   {
    "duration": 99,
    "start_time": "2022-05-05T20:22:36.592Z"
   },
   {
    "duration": 11,
    "start_time": "2022-05-05T20:22:36.693Z"
   },
   {
    "duration": 7,
    "start_time": "2022-05-05T20:22:36.706Z"
   },
   {
    "duration": 1488,
    "start_time": "2022-05-05T20:22:36.715Z"
   },
   {
    "duration": 999,
    "start_time": "2022-05-05T20:22:38.205Z"
   },
   {
    "duration": 1772,
    "start_time": "2022-05-05T20:22:39.206Z"
   },
   {
    "duration": 161,
    "start_time": "2022-05-05T20:22:40.981Z"
   },
   {
    "duration": 495,
    "start_time": "2022-05-05T20:22:41.235Z"
   },
   {
    "duration": 8,
    "start_time": "2022-05-05T20:22:41.732Z"
   },
   {
    "duration": 8,
    "start_time": "2022-05-05T20:22:41.742Z"
   },
   {
    "duration": 615,
    "start_time": "2022-05-05T20:22:41.752Z"
   },
   {
    "duration": 122184,
    "start_time": "2022-05-05T20:22:42.369Z"
   },
   {
    "duration": 1588,
    "start_time": "2022-05-05T20:24:44.554Z"
   },
   {
    "duration": 1805,
    "start_time": "2022-05-05T20:24:46.144Z"
   },
   {
    "duration": 1769,
    "start_time": "2022-05-05T20:24:47.950Z"
   },
   {
    "duration": 26,
    "start_time": "2022-05-05T20:24:49.720Z"
   },
   {
    "duration": 8,
    "start_time": "2022-05-05T20:24:49.747Z"
   },
   {
    "duration": 1193,
    "start_time": "2022-05-05T20:24:49.757Z"
   },
   {
    "duration": 1793,
    "start_time": "2022-05-05T20:26:33.828Z"
   },
   {
    "duration": 1544,
    "start_time": "2022-05-05T20:26:47.310Z"
   },
   {
    "duration": 9,
    "start_time": "2022-05-05T20:27:58.713Z"
   },
   {
    "duration": 11,
    "start_time": "2022-05-05T20:30:23.852Z"
   },
   {
    "duration": 1969,
    "start_time": "2022-05-06T10:04:11.602Z"
   },
   {
    "duration": 4,
    "start_time": "2022-05-06T10:04:13.573Z"
   },
   {
    "duration": 42,
    "start_time": "2022-05-06T10:04:13.578Z"
   },
   {
    "duration": 123,
    "start_time": "2022-05-06T10:04:13.622Z"
   },
   {
    "duration": 14,
    "start_time": "2022-05-06T10:04:13.747Z"
   },
   {
    "duration": 4,
    "start_time": "2022-05-06T10:04:13.763Z"
   },
   {
    "duration": 1567,
    "start_time": "2022-05-06T10:04:13.769Z"
   },
   {
    "duration": 1086,
    "start_time": "2022-05-06T10:04:15.338Z"
   },
   {
    "duration": 1952,
    "start_time": "2022-05-06T10:04:16.426Z"
   },
   {
    "duration": 664,
    "start_time": "2022-05-06T10:04:18.381Z"
   },
   {
    "duration": 583,
    "start_time": "2022-05-06T10:04:19.052Z"
   },
   {
    "duration": 10,
    "start_time": "2022-05-06T10:04:19.637Z"
   },
   {
    "duration": 19,
    "start_time": "2022-05-06T10:04:19.649Z"
   },
   {
    "duration": 599,
    "start_time": "2022-05-06T10:04:19.669Z"
   },
   {
    "duration": 133325,
    "start_time": "2022-05-06T10:04:20.271Z"
   },
   {
    "duration": 1558,
    "start_time": "2022-05-06T10:06:33.598Z"
   },
   {
    "duration": 2009,
    "start_time": "2022-05-06T10:06:35.158Z"
   },
   {
    "duration": 139,
    "start_time": "2022-05-06T10:06:37.169Z"
   },
   {
    "duration": 0,
    "start_time": "2022-05-06T10:06:37.310Z"
   },
   {
    "duration": 0,
    "start_time": "2022-05-06T10:06:37.312Z"
   },
   {
    "duration": 0,
    "start_time": "2022-05-06T10:06:37.314Z"
   },
   {
    "duration": 17,
    "start_time": "2022-05-06T10:08:15.833Z"
   },
   {
    "duration": 12,
    "start_time": "2022-05-06T10:08:26.863Z"
   },
   {
    "duration": 5629,
    "start_time": "2022-05-06T10:08:51.271Z"
   },
   {
    "duration": 4,
    "start_time": "2022-05-06T10:12:01.712Z"
   },
   {
    "duration": 1535,
    "start_time": "2022-05-06T10:12:02.399Z"
   },
   {
    "duration": 1062,
    "start_time": "2022-05-06T10:12:03.938Z"
   },
   {
    "duration": 1720,
    "start_time": "2022-05-06T10:21:18.870Z"
   },
   {
    "duration": 1750,
    "start_time": "2022-05-06T10:22:14.662Z"
   },
   {
    "duration": 11,
    "start_time": "2022-05-06T10:29:22.896Z"
   },
   {
    "duration": 7571,
    "start_time": "2022-05-06T10:29:36.844Z"
   },
   {
    "duration": 5,
    "start_time": "2022-05-06T10:36:55.109Z"
   },
   {
    "duration": 6,
    "start_time": "2022-05-06T10:37:13.788Z"
   },
   {
    "duration": 16,
    "start_time": "2022-05-06T10:37:32.608Z"
   },
   {
    "duration": 6,
    "start_time": "2022-05-06T10:37:52.289Z"
   },
   {
    "duration": 4,
    "start_time": "2022-05-06T10:37:57.854Z"
   },
   {
    "duration": 130,
    "start_time": "2022-05-06T10:43:34.691Z"
   },
   {
    "duration": 1628,
    "start_time": "2022-05-06T10:48:44.533Z"
   },
   {
    "duration": 3,
    "start_time": "2022-05-06T10:48:46.163Z"
   },
   {
    "duration": 36,
    "start_time": "2022-05-06T10:48:46.170Z"
   },
   {
    "duration": 116,
    "start_time": "2022-05-06T10:48:46.208Z"
   },
   {
    "duration": 22,
    "start_time": "2022-05-06T10:48:46.325Z"
   },
   {
    "duration": 4,
    "start_time": "2022-05-06T10:48:46.349Z"
   },
   {
    "duration": 1453,
    "start_time": "2022-05-06T10:48:46.355Z"
   },
   {
    "duration": 1010,
    "start_time": "2022-05-06T10:48:47.810Z"
   },
   {
    "duration": 1765,
    "start_time": "2022-05-06T10:48:48.824Z"
   },
   {
    "duration": 358,
    "start_time": "2022-05-06T10:48:50.591Z"
   },
   {
    "duration": 590,
    "start_time": "2022-05-06T10:48:50.950Z"
   },
   {
    "duration": 9,
    "start_time": "2022-05-06T10:48:51.543Z"
   },
   {
    "duration": 9,
    "start_time": "2022-05-06T10:48:51.554Z"
   },
   {
    "duration": 615,
    "start_time": "2022-05-06T10:48:51.564Z"
   },
   {
    "duration": 122695,
    "start_time": "2022-05-06T10:48:52.181Z"
   },
   {
    "duration": 1169,
    "start_time": "2022-05-06T10:50:54.878Z"
   },
   {
    "duration": 167,
    "start_time": "2022-05-06T10:50:56.049Z"
   },
   {
    "duration": 0,
    "start_time": "2022-05-06T10:50:56.217Z"
   },
   {
    "duration": 0,
    "start_time": "2022-05-06T10:50:56.219Z"
   },
   {
    "duration": 0,
    "start_time": "2022-05-06T10:50:56.220Z"
   },
   {
    "duration": 0,
    "start_time": "2022-05-06T10:50:56.222Z"
   },
   {
    "duration": 0,
    "start_time": "2022-05-06T10:50:56.223Z"
   },
   {
    "duration": 618,
    "start_time": "2022-05-06T10:51:22.770Z"
   },
   {
    "duration": 1571,
    "start_time": "2022-05-06T10:55:54.288Z"
   },
   {
    "duration": 3,
    "start_time": "2022-05-06T10:55:55.861Z"
   },
   {
    "duration": 37,
    "start_time": "2022-05-06T10:55:55.865Z"
   },
   {
    "duration": 101,
    "start_time": "2022-05-06T10:55:55.904Z"
   },
   {
    "duration": 33,
    "start_time": "2022-05-06T10:55:56.007Z"
   },
   {
    "duration": 15,
    "start_time": "2022-05-06T10:55:56.043Z"
   },
   {
    "duration": 1421,
    "start_time": "2022-05-06T10:55:56.061Z"
   },
   {
    "duration": 1019,
    "start_time": "2022-05-06T10:55:57.483Z"
   },
   {
    "duration": 1818,
    "start_time": "2022-05-06T10:55:58.504Z"
   },
   {
    "duration": 330,
    "start_time": "2022-05-06T10:56:00.325Z"
   },
   {
    "duration": 517,
    "start_time": "2022-05-06T10:56:00.735Z"
   },
   {
    "duration": 7,
    "start_time": "2022-05-06T10:56:01.254Z"
   },
   {
    "duration": 17,
    "start_time": "2022-05-06T10:56:01.263Z"
   },
   {
    "duration": 666,
    "start_time": "2022-05-06T10:56:01.282Z"
   },
   {
    "duration": 123519,
    "start_time": "2022-05-06T10:56:01.950Z"
   },
   {
    "duration": 1292,
    "start_time": "2022-05-06T10:58:05.471Z"
   },
   {
    "duration": 0,
    "start_time": "2022-05-06T10:58:55.416Z"
   },
   {
    "duration": 0,
    "start_time": "2022-05-06T10:58:55.417Z"
   },
   {
    "duration": 0,
    "start_time": "2022-05-06T10:58:55.418Z"
   },
   {
    "duration": 0,
    "start_time": "2022-05-06T10:58:55.438Z"
   },
   {
    "duration": 0,
    "start_time": "2022-05-06T10:58:55.440Z"
   },
   {
    "duration": 0,
    "start_time": "2022-05-06T10:58:55.441Z"
   },
   {
    "duration": 185,
    "start_time": "2022-05-06T10:58:56.685Z"
   },
   {
    "duration": 1596,
    "start_time": "2022-05-06T10:58:57.722Z"
   },
   {
    "duration": 32,
    "start_time": "2022-05-06T10:58:59.320Z"
   },
   {
    "duration": 12,
    "start_time": "2022-05-06T10:58:59.354Z"
   },
   {
    "duration": 180,
    "start_time": "2022-05-06T10:58:59.369Z"
   },
   {
    "duration": 745,
    "start_time": "2022-05-06T11:00:56.059Z"
   },
   {
    "duration": 4224,
    "start_time": "2022-05-06T11:01:02.309Z"
   },
   {
    "duration": 4450,
    "start_time": "2022-05-06T11:01:23.944Z"
   },
   {
    "duration": 6494,
    "start_time": "2022-05-06T11:01:52.718Z"
   },
   {
    "duration": 9186,
    "start_time": "2022-05-06T11:02:04.880Z"
   },
   {
    "duration": 4211,
    "start_time": "2022-05-06T11:14:58.633Z"
   },
   {
    "duration": 12,
    "start_time": "2022-05-06T11:17:58.454Z"
   },
   {
    "duration": 12,
    "start_time": "2022-05-06T11:21:34.166Z"
   },
   {
    "duration": 14,
    "start_time": "2022-05-06T11:30:13.399Z"
   },
   {
    "duration": 14,
    "start_time": "2022-05-06T11:30:18.390Z"
   },
   {
    "duration": 1719,
    "start_time": "2022-05-06T18:30:21.455Z"
   },
   {
    "duration": 3,
    "start_time": "2022-05-06T18:30:23.176Z"
   },
   {
    "duration": 46,
    "start_time": "2022-05-06T18:30:23.180Z"
   },
   {
    "duration": 105,
    "start_time": "2022-05-06T18:30:23.228Z"
   },
   {
    "duration": 12,
    "start_time": "2022-05-06T18:30:23.335Z"
   },
   {
    "duration": 3,
    "start_time": "2022-05-06T18:30:23.349Z"
   },
   {
    "duration": 1377,
    "start_time": "2022-05-06T18:30:23.353Z"
   },
   {
    "duration": 947,
    "start_time": "2022-05-06T18:30:24.732Z"
   },
   {
    "duration": 1804,
    "start_time": "2022-05-06T18:30:25.681Z"
   },
   {
    "duration": 246,
    "start_time": "2022-05-06T18:30:27.489Z"
   },
   {
    "duration": 582,
    "start_time": "2022-05-06T18:30:27.737Z"
   },
   {
    "duration": 12,
    "start_time": "2022-05-06T18:30:28.321Z"
   },
   {
    "duration": 8,
    "start_time": "2022-05-06T18:30:28.334Z"
   },
   {
    "duration": 575,
    "start_time": "2022-05-06T18:30:28.344Z"
   },
   {
    "duration": 118628,
    "start_time": "2022-05-06T18:30:28.921Z"
   },
   {
    "duration": 1703,
    "start_time": "2022-05-06T18:32:27.550Z"
   },
   {
    "duration": 6549,
    "start_time": "2022-05-06T18:32:29.254Z"
   },
   {
    "duration": 4138,
    "start_time": "2022-05-06T18:32:35.805Z"
   },
   {
    "duration": 11,
    "start_time": "2022-05-06T18:32:39.945Z"
   },
   {
    "duration": 1587,
    "start_time": "2022-05-06T19:46:13.363Z"
   },
   {
    "duration": 3,
    "start_time": "2022-05-06T19:46:14.952Z"
   },
   {
    "duration": 37,
    "start_time": "2022-05-06T19:46:14.957Z"
   },
   {
    "duration": 114,
    "start_time": "2022-05-06T19:46:14.996Z"
   },
   {
    "duration": 25,
    "start_time": "2022-05-06T19:46:15.112Z"
   },
   {
    "duration": 3,
    "start_time": "2022-05-06T19:46:15.139Z"
   },
   {
    "duration": 1464,
    "start_time": "2022-05-06T19:46:15.143Z"
   },
   {
    "duration": 1021,
    "start_time": "2022-05-06T19:46:16.608Z"
   },
   {
    "duration": 1791,
    "start_time": "2022-05-06T19:46:17.631Z"
   },
   {
    "duration": 511,
    "start_time": "2022-05-06T19:46:19.424Z"
   },
   {
    "duration": 500,
    "start_time": "2022-05-06T19:46:19.938Z"
   },
   {
    "duration": 9,
    "start_time": "2022-05-06T19:46:20.439Z"
   },
   {
    "duration": 8,
    "start_time": "2022-05-06T19:46:20.449Z"
   },
   {
    "duration": 630,
    "start_time": "2022-05-06T19:46:20.459Z"
   },
   {
    "duration": 125293,
    "start_time": "2022-05-06T19:46:21.091Z"
   },
   {
    "duration": 1683,
    "start_time": "2022-05-06T19:48:26.386Z"
   },
   {
    "duration": 7239,
    "start_time": "2022-05-06T19:48:28.071Z"
   },
   {
    "duration": 4455,
    "start_time": "2022-05-06T19:48:35.311Z"
   },
   {
    "duration": 11,
    "start_time": "2022-05-06T19:48:39.768Z"
   },
   {
    "duration": 183,
    "start_time": "2022-05-08T11:05:55.307Z"
   },
   {
    "duration": 1842,
    "start_time": "2022-05-08T11:06:11.374Z"
   },
   {
    "duration": 3,
    "start_time": "2022-05-08T11:06:13.219Z"
   },
   {
    "duration": 51,
    "start_time": "2022-05-08T11:06:13.224Z"
   },
   {
    "duration": 97,
    "start_time": "2022-05-08T11:06:13.277Z"
   },
   {
    "duration": 10,
    "start_time": "2022-05-08T11:06:13.376Z"
   },
   {
    "duration": 3,
    "start_time": "2022-05-08T11:06:15.568Z"
   },
   {
    "duration": 99,
    "start_time": "2022-05-08T11:06:15.934Z"
   },
   {
    "duration": 4062,
    "start_time": "2022-05-08T11:22:45.861Z"
   },
   {
    "duration": 2027,
    "start_time": "2022-05-08T11:24:28.151Z"
   },
   {
    "duration": 1077,
    "start_time": "2022-05-08T11:25:26.607Z"
   },
   {
    "duration": 121,
    "start_time": "2022-05-08T11:32:33.604Z"
   },
   {
    "duration": 3355,
    "start_time": "2022-05-08T11:32:42.735Z"
   },
   {
    "duration": 3505,
    "start_time": "2022-05-08T11:40:00.011Z"
   },
   {
    "duration": 133,
    "start_time": "2022-05-08T11:41:03.818Z"
   },
   {
    "duration": 17,
    "start_time": "2022-05-08T11:46:56.316Z"
   },
   {
    "duration": 1648,
    "start_time": "2022-05-08T11:47:05.375Z"
   },
   {
    "duration": 14,
    "start_time": "2022-05-08T11:47:10.883Z"
   },
   {
    "duration": 4,
    "start_time": "2022-05-08T11:47:57.081Z"
   },
   {
    "duration": 15,
    "start_time": "2022-05-08T11:48:04.148Z"
   },
   {
    "duration": 14,
    "start_time": "2022-05-08T11:49:05.417Z"
   },
   {
    "duration": 1449,
    "start_time": "2022-05-08T11:49:19.938Z"
   },
   {
    "duration": 5,
    "start_time": "2022-05-08T11:49:33.474Z"
   },
   {
    "duration": 3,
    "start_time": "2022-05-08T11:49:33.767Z"
   },
   {
    "duration": 31,
    "start_time": "2022-05-08T11:49:34.007Z"
   },
   {
    "duration": 87,
    "start_time": "2022-05-08T11:49:34.589Z"
   },
   {
    "duration": 12,
    "start_time": "2022-05-08T11:49:35.065Z"
   },
   {
    "duration": 3,
    "start_time": "2022-05-08T11:49:35.967Z"
   },
   {
    "duration": 1017,
    "start_time": "2022-05-08T11:49:36.723Z"
   },
   {
    "duration": 1068,
    "start_time": "2022-05-08T11:49:37.741Z"
   },
   {
    "duration": 3441,
    "start_time": "2022-05-08T11:49:39.733Z"
   },
   {
    "duration": 1440,
    "start_time": "2022-05-08T11:49:43.176Z"
   },
   {
    "duration": 6,
    "start_time": "2022-05-08T11:49:44.619Z"
   },
   {
    "duration": 16,
    "start_time": "2022-05-08T11:49:53.518Z"
   },
   {
    "duration": 140,
    "start_time": "2022-05-08T11:50:30.575Z"
   },
   {
    "duration": 366,
    "start_time": "2022-05-08T12:03:04.892Z"
   },
   {
    "duration": 210,
    "start_time": "2022-05-08T12:05:43.752Z"
   },
   {
    "duration": 1645,
    "start_time": "2022-05-08T18:43:46.308Z"
   },
   {
    "duration": 3,
    "start_time": "2022-05-08T18:43:47.955Z"
   },
   {
    "duration": 41,
    "start_time": "2022-05-08T18:43:47.962Z"
   },
   {
    "duration": 85,
    "start_time": "2022-05-08T18:43:48.005Z"
   },
   {
    "duration": 11,
    "start_time": "2022-05-08T18:43:48.092Z"
   },
   {
    "duration": 3,
    "start_time": "2022-05-08T18:43:48.104Z"
   },
   {
    "duration": 1238,
    "start_time": "2022-05-08T18:43:48.109Z"
   },
   {
    "duration": 919,
    "start_time": "2022-05-08T18:43:49.349Z"
   },
   {
    "duration": 3384,
    "start_time": "2022-05-08T18:43:50.270Z"
   },
   {
    "duration": 2646,
    "start_time": "2022-05-08T18:43:53.658Z"
   },
   {
    "duration": 5,
    "start_time": "2022-05-08T18:43:56.306Z"
   },
   {
    "duration": 15,
    "start_time": "2022-05-08T18:43:56.313Z"
   },
   {
    "duration": 127,
    "start_time": "2022-05-08T18:43:56.330Z"
   },
   {
    "duration": 532,
    "start_time": "2022-05-08T18:43:56.462Z"
   },
   {
    "duration": 7,
    "start_time": "2022-05-08T18:43:56.996Z"
   },
   {
    "duration": 6,
    "start_time": "2022-05-08T18:43:57.005Z"
   },
   {
    "duration": 654,
    "start_time": "2022-05-08T18:43:57.013Z"
   },
   {
    "duration": 128280,
    "start_time": "2022-05-08T18:43:57.669Z"
   },
   {
    "duration": 1006,
    "start_time": "2022-05-08T18:46:05.951Z"
   },
   {
    "duration": 4968,
    "start_time": "2022-05-08T18:46:06.963Z"
   },
   {
    "duration": 0,
    "start_time": "2022-05-08T18:46:11.933Z"
   },
   {
    "duration": 0,
    "start_time": "2022-05-08T18:46:11.935Z"
   },
   {
    "duration": 4,
    "start_time": "2022-05-08T19:04:21.091Z"
   },
   {
    "duration": 9,
    "start_time": "2022-05-08T19:05:19.762Z"
   },
   {
    "duration": 18,
    "start_time": "2022-05-08T19:06:47.443Z"
   },
   {
    "duration": 18,
    "start_time": "2022-05-08T19:07:13.697Z"
   },
   {
    "duration": 4,
    "start_time": "2022-05-08T19:07:49.225Z"
   },
   {
    "duration": 9,
    "start_time": "2022-05-08T19:07:54.547Z"
   },
   {
    "duration": 15,
    "start_time": "2022-05-08T19:08:44.798Z"
   },
   {
    "duration": 365,
    "start_time": "2022-05-08T19:21:23.030Z"
   },
   {
    "duration": 167,
    "start_time": "2022-05-08T19:21:46.039Z"
   },
   {
    "duration": 3,
    "start_time": "2022-05-08T19:23:52.955Z"
   },
   {
    "duration": 5066,
    "start_time": "2022-05-08T19:23:57.675Z"
   },
   {
    "duration": 0,
    "start_time": "2022-05-08T19:24:02.743Z"
   },
   {
    "duration": 3,
    "start_time": "2022-05-08T19:24:50.406Z"
   },
   {
    "duration": 4353,
    "start_time": "2022-05-08T19:24:51.685Z"
   },
   {
    "duration": 3662,
    "start_time": "2022-05-08T19:25:03.498Z"
   },
   {
    "duration": 1409,
    "start_time": "2022-05-08T19:28:31.821Z"
   },
   {
    "duration": 2,
    "start_time": "2022-05-08T19:28:33.232Z"
   },
   {
    "duration": 29,
    "start_time": "2022-05-08T19:28:33.236Z"
   },
   {
    "duration": 92,
    "start_time": "2022-05-08T19:28:33.267Z"
   },
   {
    "duration": 10,
    "start_time": "2022-05-08T19:28:33.361Z"
   },
   {
    "duration": 3,
    "start_time": "2022-05-08T19:28:33.372Z"
   },
   {
    "duration": 1011,
    "start_time": "2022-05-08T19:28:33.376Z"
   },
   {
    "duration": 808,
    "start_time": "2022-05-08T19:28:34.389Z"
   },
   {
    "duration": 3021,
    "start_time": "2022-05-08T19:28:35.199Z"
   },
   {
    "duration": 1341,
    "start_time": "2022-05-08T19:28:38.223Z"
   },
   {
    "duration": 6,
    "start_time": "2022-05-08T19:28:39.566Z"
   },
   {
    "duration": 21,
    "start_time": "2022-05-08T19:28:39.573Z"
   },
   {
    "duration": 60,
    "start_time": "2022-05-08T19:28:39.595Z"
   },
   {
    "duration": 611,
    "start_time": "2022-05-08T19:28:39.658Z"
   },
   {
    "duration": 8,
    "start_time": "2022-05-08T19:28:40.271Z"
   },
   {
    "duration": 7,
    "start_time": "2022-05-08T19:28:40.281Z"
   },
   {
    "duration": 4,
    "start_time": "2022-05-08T19:28:40.290Z"
   },
   {
    "duration": 18,
    "start_time": "2022-05-08T19:28:40.296Z"
   },
   {
    "duration": 933,
    "start_time": "2022-05-08T19:28:40.316Z"
   },
   {
    "duration": 92487,
    "start_time": "2022-05-08T19:28:41.251Z"
   },
   {
    "duration": 1418,
    "start_time": "2022-05-08T19:30:13.748Z"
   },
   {
    "duration": 3,
    "start_time": "2022-05-08T19:30:15.168Z"
   },
   {
    "duration": 4317,
    "start_time": "2022-05-08T19:30:15.172Z"
   },
   {
    "duration": 3870,
    "start_time": "2022-05-08T19:30:19.491Z"
   },
   {
    "duration": 12,
    "start_time": "2022-05-08T19:30:23.363Z"
   },
   {
    "duration": 769,
    "start_time": "2022-05-09T09:43:55.500Z"
   }
  ],
  "kernelspec": {
   "display_name": "Python 3 (ipykernel)",
   "language": "python",
   "name": "python3"
  },
  "language_info": {
   "codemirror_mode": {
    "name": "ipython",
    "version": 3
   },
   "file_extension": ".py",
   "mimetype": "text/x-python",
   "name": "python",
   "nbconvert_exporter": "python",
   "pygments_lexer": "ipython3",
   "version": "3.9.5"
  },
  "toc": {
   "base_numbering": 1,
   "nav_menu": {},
   "number_sections": true,
   "sideBar": true,
   "skip_h1_title": true,
   "title_cell": "Table of Contents",
   "title_sidebar": "Contents",
   "toc_cell": false,
   "toc_position": {
    "height": "calc(100% - 180px)",
    "left": "10px",
    "top": "150px",
    "width": "165px"
   },
   "toc_section_display": true,
   "toc_window_display": true
  }
 },
 "nbformat": 4,
 "nbformat_minor": 2
}
