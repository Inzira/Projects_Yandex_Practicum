{
 "cells": [
  {
   "cell_type": "markdown",
   "metadata": {
    "toc": true
   },
   "source": [
    "<h1>Содержание<span class=\"tocSkip\"></span></h1>\n",
    "<div class=\"toc\"><ul class=\"toc-item\"><li><span><a href=\"#Изучение-данных-из-файла\" data-toc-modified-id=\"Изучение-данных-из-файла-1\"><span class=\"toc-item-num\">1&nbsp;&nbsp;</span>Изучение данных из файла</a></span><ul class=\"toc-item\"><li><span><a href=\"#Вывод\" data-toc-modified-id=\"Вывод-1.1\"><span class=\"toc-item-num\">1.1&nbsp;&nbsp;</span>Вывод</a></span></li></ul></li><li><span><a href=\"#Предобработка-данных\" data-toc-modified-id=\"Предобработка-данных-2\"><span class=\"toc-item-num\">2&nbsp;&nbsp;</span>Предобработка данных</a></span></li><li><span><a href=\"#Расчёты-и-добавление-результатов-в-таблицу\" data-toc-modified-id=\"Расчёты-и-добавление-результатов-в-таблицу-3\"><span class=\"toc-item-num\">3&nbsp;&nbsp;</span>Расчёты и добавление результатов в таблицу</a></span></li><li><span><a href=\"#Исследовательский-анализ-данных\" data-toc-modified-id=\"Исследовательский-анализ-данных-4\"><span class=\"toc-item-num\">4&nbsp;&nbsp;</span>Исследовательский анализ данных</a></span></li><li><span><a href=\"#Общий-вывод\" data-toc-modified-id=\"Общий-вывод-5\"><span class=\"toc-item-num\">5&nbsp;&nbsp;</span>Общий вывод</a></span></li><li><span><a href=\"#Чек-лист-готовности-проекта\" data-toc-modified-id=\"Чек-лист-готовности-проекта-6\"><span class=\"toc-item-num\">6&nbsp;&nbsp;</span>Чек-лист готовности проекта</a></span></li></ul></div>"
   ]
  },
  {
   "cell_type": "markdown",
   "metadata": {},
   "source": [
    "# Исследование объявлений о продаже квартир\n",
    "\n",
    "В вашем распоряжении данные сервиса Яндекс.Недвижимость — архив объявлений о продаже квартир в Санкт-Петербурге и соседних населённых пунктах за несколько лет. Нужно научиться определять рыночную стоимость объектов недвижимости. Ваша задача — установить параметры. Это позволит построить автоматизированную систему: она отследит аномалии и мошенническую деятельность. \n",
    "\n",
    "По каждой квартире на продажу доступны два вида данных. Первые вписаны пользователем, вторые получены автоматически на основе картографических данных. Например, расстояние до центра, аэропорта, ближайшего парка и водоёма. "
   ]
  },
  {
   "cell_type": "markdown",
   "metadata": {},
   "source": [
    "## Изучение данных из файла"
   ]
  },
  {
   "cell_type": "code",
   "execution_count": 1,
   "metadata": {},
   "outputs": [],
   "source": [
    "import pandas as pd\n",
    "import matplotlib.pyplot as plt"
   ]
  },
  {
   "cell_type": "code",
   "execution_count": 2,
   "metadata": {
    "scrolled": true
   },
   "outputs": [
    {
     "data": {
      "text/html": [
       "<div>\n",
       "<style scoped>\n",
       "    .dataframe tbody tr th:only-of-type {\n",
       "        vertical-align: middle;\n",
       "    }\n",
       "\n",
       "    .dataframe tbody tr th {\n",
       "        vertical-align: top;\n",
       "    }\n",
       "\n",
       "    .dataframe thead th {\n",
       "        text-align: right;\n",
       "    }\n",
       "</style>\n",
       "<table border=\"1\" class=\"dataframe\">\n",
       "  <thead>\n",
       "    <tr style=\"text-align: right;\">\n",
       "      <th></th>\n",
       "      <th>total_images</th>\n",
       "      <th>last_price</th>\n",
       "      <th>total_area</th>\n",
       "      <th>first_day_exposition</th>\n",
       "      <th>rooms</th>\n",
       "      <th>ceiling_height</th>\n",
       "      <th>floors_total</th>\n",
       "      <th>living_area</th>\n",
       "      <th>floor</th>\n",
       "      <th>is_apartment</th>\n",
       "      <th>...</th>\n",
       "      <th>kitchen_area</th>\n",
       "      <th>balcony</th>\n",
       "      <th>locality_name</th>\n",
       "      <th>airports_nearest</th>\n",
       "      <th>cityCenters_nearest</th>\n",
       "      <th>parks_around3000</th>\n",
       "      <th>parks_nearest</th>\n",
       "      <th>ponds_around3000</th>\n",
       "      <th>ponds_nearest</th>\n",
       "      <th>days_exposition</th>\n",
       "    </tr>\n",
       "  </thead>\n",
       "  <tbody>\n",
       "    <tr>\n",
       "      <td>0</td>\n",
       "      <td>20</td>\n",
       "      <td>13000000.0</td>\n",
       "      <td>108.00</td>\n",
       "      <td>2019-03-07T00:00:00</td>\n",
       "      <td>3</td>\n",
       "      <td>2.70</td>\n",
       "      <td>16.0</td>\n",
       "      <td>51.00</td>\n",
       "      <td>8</td>\n",
       "      <td>NaN</td>\n",
       "      <td>...</td>\n",
       "      <td>25.00</td>\n",
       "      <td>NaN</td>\n",
       "      <td>Санкт-Петербург</td>\n",
       "      <td>18863.0</td>\n",
       "      <td>16028.0</td>\n",
       "      <td>1.0</td>\n",
       "      <td>482.0</td>\n",
       "      <td>2.0</td>\n",
       "      <td>755.0</td>\n",
       "      <td>NaN</td>\n",
       "    </tr>\n",
       "    <tr>\n",
       "      <td>1</td>\n",
       "      <td>7</td>\n",
       "      <td>3350000.0</td>\n",
       "      <td>40.40</td>\n",
       "      <td>2018-12-04T00:00:00</td>\n",
       "      <td>1</td>\n",
       "      <td>NaN</td>\n",
       "      <td>11.0</td>\n",
       "      <td>18.60</td>\n",
       "      <td>1</td>\n",
       "      <td>NaN</td>\n",
       "      <td>...</td>\n",
       "      <td>11.00</td>\n",
       "      <td>2.0</td>\n",
       "      <td>посёлок Шушары</td>\n",
       "      <td>12817.0</td>\n",
       "      <td>18603.0</td>\n",
       "      <td>0.0</td>\n",
       "      <td>NaN</td>\n",
       "      <td>0.0</td>\n",
       "      <td>NaN</td>\n",
       "      <td>81.0</td>\n",
       "    </tr>\n",
       "    <tr>\n",
       "      <td>2</td>\n",
       "      <td>10</td>\n",
       "      <td>5196000.0</td>\n",
       "      <td>56.00</td>\n",
       "      <td>2015-08-20T00:00:00</td>\n",
       "      <td>2</td>\n",
       "      <td>NaN</td>\n",
       "      <td>5.0</td>\n",
       "      <td>34.30</td>\n",
       "      <td>4</td>\n",
       "      <td>NaN</td>\n",
       "      <td>...</td>\n",
       "      <td>8.30</td>\n",
       "      <td>0.0</td>\n",
       "      <td>Санкт-Петербург</td>\n",
       "      <td>21741.0</td>\n",
       "      <td>13933.0</td>\n",
       "      <td>1.0</td>\n",
       "      <td>90.0</td>\n",
       "      <td>2.0</td>\n",
       "      <td>574.0</td>\n",
       "      <td>558.0</td>\n",
       "    </tr>\n",
       "    <tr>\n",
       "      <td>3</td>\n",
       "      <td>0</td>\n",
       "      <td>64900000.0</td>\n",
       "      <td>159.00</td>\n",
       "      <td>2015-07-24T00:00:00</td>\n",
       "      <td>3</td>\n",
       "      <td>NaN</td>\n",
       "      <td>14.0</td>\n",
       "      <td>NaN</td>\n",
       "      <td>9</td>\n",
       "      <td>NaN</td>\n",
       "      <td>...</td>\n",
       "      <td>NaN</td>\n",
       "      <td>0.0</td>\n",
       "      <td>Санкт-Петербург</td>\n",
       "      <td>28098.0</td>\n",
       "      <td>6800.0</td>\n",
       "      <td>2.0</td>\n",
       "      <td>84.0</td>\n",
       "      <td>3.0</td>\n",
       "      <td>234.0</td>\n",
       "      <td>424.0</td>\n",
       "    </tr>\n",
       "    <tr>\n",
       "      <td>4</td>\n",
       "      <td>2</td>\n",
       "      <td>10000000.0</td>\n",
       "      <td>100.00</td>\n",
       "      <td>2018-06-19T00:00:00</td>\n",
       "      <td>2</td>\n",
       "      <td>3.03</td>\n",
       "      <td>14.0</td>\n",
       "      <td>32.00</td>\n",
       "      <td>13</td>\n",
       "      <td>NaN</td>\n",
       "      <td>...</td>\n",
       "      <td>41.00</td>\n",
       "      <td>NaN</td>\n",
       "      <td>Санкт-Петербург</td>\n",
       "      <td>31856.0</td>\n",
       "      <td>8098.0</td>\n",
       "      <td>2.0</td>\n",
       "      <td>112.0</td>\n",
       "      <td>1.0</td>\n",
       "      <td>48.0</td>\n",
       "      <td>121.0</td>\n",
       "    </tr>\n",
       "    <tr>\n",
       "      <td>5</td>\n",
       "      <td>10</td>\n",
       "      <td>2890000.0</td>\n",
       "      <td>30.40</td>\n",
       "      <td>2018-09-10T00:00:00</td>\n",
       "      <td>1</td>\n",
       "      <td>NaN</td>\n",
       "      <td>12.0</td>\n",
       "      <td>14.40</td>\n",
       "      <td>5</td>\n",
       "      <td>NaN</td>\n",
       "      <td>...</td>\n",
       "      <td>9.10</td>\n",
       "      <td>NaN</td>\n",
       "      <td>городской посёлок Янино-1</td>\n",
       "      <td>NaN</td>\n",
       "      <td>NaN</td>\n",
       "      <td>NaN</td>\n",
       "      <td>NaN</td>\n",
       "      <td>NaN</td>\n",
       "      <td>NaN</td>\n",
       "      <td>55.0</td>\n",
       "    </tr>\n",
       "    <tr>\n",
       "      <td>6</td>\n",
       "      <td>6</td>\n",
       "      <td>3700000.0</td>\n",
       "      <td>37.30</td>\n",
       "      <td>2017-11-02T00:00:00</td>\n",
       "      <td>1</td>\n",
       "      <td>NaN</td>\n",
       "      <td>26.0</td>\n",
       "      <td>10.60</td>\n",
       "      <td>6</td>\n",
       "      <td>NaN</td>\n",
       "      <td>...</td>\n",
       "      <td>14.40</td>\n",
       "      <td>1.0</td>\n",
       "      <td>посёлок Парголово</td>\n",
       "      <td>52996.0</td>\n",
       "      <td>19143.0</td>\n",
       "      <td>0.0</td>\n",
       "      <td>NaN</td>\n",
       "      <td>0.0</td>\n",
       "      <td>NaN</td>\n",
       "      <td>155.0</td>\n",
       "    </tr>\n",
       "    <tr>\n",
       "      <td>7</td>\n",
       "      <td>5</td>\n",
       "      <td>7915000.0</td>\n",
       "      <td>71.60</td>\n",
       "      <td>2019-04-18T00:00:00</td>\n",
       "      <td>2</td>\n",
       "      <td>NaN</td>\n",
       "      <td>24.0</td>\n",
       "      <td>NaN</td>\n",
       "      <td>22</td>\n",
       "      <td>NaN</td>\n",
       "      <td>...</td>\n",
       "      <td>18.90</td>\n",
       "      <td>2.0</td>\n",
       "      <td>Санкт-Петербург</td>\n",
       "      <td>23982.0</td>\n",
       "      <td>11634.0</td>\n",
       "      <td>0.0</td>\n",
       "      <td>NaN</td>\n",
       "      <td>0.0</td>\n",
       "      <td>NaN</td>\n",
       "      <td>NaN</td>\n",
       "    </tr>\n",
       "    <tr>\n",
       "      <td>8</td>\n",
       "      <td>20</td>\n",
       "      <td>2900000.0</td>\n",
       "      <td>33.16</td>\n",
       "      <td>2018-05-23T00:00:00</td>\n",
       "      <td>1</td>\n",
       "      <td>NaN</td>\n",
       "      <td>27.0</td>\n",
       "      <td>15.43</td>\n",
       "      <td>26</td>\n",
       "      <td>NaN</td>\n",
       "      <td>...</td>\n",
       "      <td>8.81</td>\n",
       "      <td>NaN</td>\n",
       "      <td>посёлок Мурино</td>\n",
       "      <td>NaN</td>\n",
       "      <td>NaN</td>\n",
       "      <td>NaN</td>\n",
       "      <td>NaN</td>\n",
       "      <td>NaN</td>\n",
       "      <td>NaN</td>\n",
       "      <td>189.0</td>\n",
       "    </tr>\n",
       "    <tr>\n",
       "      <td>9</td>\n",
       "      <td>18</td>\n",
       "      <td>5400000.0</td>\n",
       "      <td>61.00</td>\n",
       "      <td>2017-02-26T00:00:00</td>\n",
       "      <td>3</td>\n",
       "      <td>2.50</td>\n",
       "      <td>9.0</td>\n",
       "      <td>43.60</td>\n",
       "      <td>7</td>\n",
       "      <td>NaN</td>\n",
       "      <td>...</td>\n",
       "      <td>6.50</td>\n",
       "      <td>2.0</td>\n",
       "      <td>Санкт-Петербург</td>\n",
       "      <td>50898.0</td>\n",
       "      <td>15008.0</td>\n",
       "      <td>0.0</td>\n",
       "      <td>NaN</td>\n",
       "      <td>0.0</td>\n",
       "      <td>NaN</td>\n",
       "      <td>289.0</td>\n",
       "    </tr>\n",
       "  </tbody>\n",
       "</table>\n",
       "<p>10 rows × 22 columns</p>\n",
       "</div>"
      ],
      "text/plain": [
       "   total_images  last_price  total_area first_day_exposition  rooms  \\\n",
       "0            20  13000000.0      108.00  2019-03-07T00:00:00      3   \n",
       "1             7   3350000.0       40.40  2018-12-04T00:00:00      1   \n",
       "2            10   5196000.0       56.00  2015-08-20T00:00:00      2   \n",
       "3             0  64900000.0      159.00  2015-07-24T00:00:00      3   \n",
       "4             2  10000000.0      100.00  2018-06-19T00:00:00      2   \n",
       "5            10   2890000.0       30.40  2018-09-10T00:00:00      1   \n",
       "6             6   3700000.0       37.30  2017-11-02T00:00:00      1   \n",
       "7             5   7915000.0       71.60  2019-04-18T00:00:00      2   \n",
       "8            20   2900000.0       33.16  2018-05-23T00:00:00      1   \n",
       "9            18   5400000.0       61.00  2017-02-26T00:00:00      3   \n",
       "\n",
       "   ceiling_height  floors_total  living_area  floor is_apartment  ...  \\\n",
       "0            2.70          16.0        51.00      8          NaN  ...   \n",
       "1             NaN          11.0        18.60      1          NaN  ...   \n",
       "2             NaN           5.0        34.30      4          NaN  ...   \n",
       "3             NaN          14.0          NaN      9          NaN  ...   \n",
       "4            3.03          14.0        32.00     13          NaN  ...   \n",
       "5             NaN          12.0        14.40      5          NaN  ...   \n",
       "6             NaN          26.0        10.60      6          NaN  ...   \n",
       "7             NaN          24.0          NaN     22          NaN  ...   \n",
       "8             NaN          27.0        15.43     26          NaN  ...   \n",
       "9            2.50           9.0        43.60      7          NaN  ...   \n",
       "\n",
       "   kitchen_area  balcony              locality_name  airports_nearest  \\\n",
       "0         25.00      NaN            Санкт-Петербург           18863.0   \n",
       "1         11.00      2.0             посёлок Шушары           12817.0   \n",
       "2          8.30      0.0            Санкт-Петербург           21741.0   \n",
       "3           NaN      0.0            Санкт-Петербург           28098.0   \n",
       "4         41.00      NaN            Санкт-Петербург           31856.0   \n",
       "5          9.10      NaN  городской посёлок Янино-1               NaN   \n",
       "6         14.40      1.0          посёлок Парголово           52996.0   \n",
       "7         18.90      2.0            Санкт-Петербург           23982.0   \n",
       "8          8.81      NaN             посёлок Мурино               NaN   \n",
       "9          6.50      2.0            Санкт-Петербург           50898.0   \n",
       "\n",
       "  cityCenters_nearest  parks_around3000  parks_nearest  ponds_around3000  \\\n",
       "0             16028.0               1.0          482.0               2.0   \n",
       "1             18603.0               0.0            NaN               0.0   \n",
       "2             13933.0               1.0           90.0               2.0   \n",
       "3              6800.0               2.0           84.0               3.0   \n",
       "4              8098.0               2.0          112.0               1.0   \n",
       "5                 NaN               NaN            NaN               NaN   \n",
       "6             19143.0               0.0            NaN               0.0   \n",
       "7             11634.0               0.0            NaN               0.0   \n",
       "8                 NaN               NaN            NaN               NaN   \n",
       "9             15008.0               0.0            NaN               0.0   \n",
       "\n",
       "   ponds_nearest  days_exposition  \n",
       "0          755.0              NaN  \n",
       "1            NaN             81.0  \n",
       "2          574.0            558.0  \n",
       "3          234.0            424.0  \n",
       "4           48.0            121.0  \n",
       "5            NaN             55.0  \n",
       "6            NaN            155.0  \n",
       "7            NaN              NaN  \n",
       "8            NaN            189.0  \n",
       "9            NaN            289.0  \n",
       "\n",
       "[10 rows x 22 columns]"
      ]
     },
     "execution_count": 2,
     "metadata": {},
     "output_type": "execute_result"
    }
   ],
   "source": [
    "df=pd.read_csv('/datasets/real_estate_data.csv', sep='\\t')\n",
    "df.head(10)"
   ]
  },
  {
   "cell_type": "code",
   "execution_count": 3,
   "metadata": {},
   "outputs": [
    {
     "data": {
      "text/plain": [
       "Index(['total_images', 'last_price', 'total_area', 'first_day_exposition',\n",
       "       'rooms', 'ceiling_height', 'floors_total', 'living_area', 'floor',\n",
       "       'is_apartment', 'studio', 'open_plan', 'kitchen_area', 'balcony',\n",
       "       'locality_name', 'airports_nearest', 'cityCenters_nearest',\n",
       "       'parks_around3000', 'parks_nearest', 'ponds_around3000',\n",
       "       'ponds_nearest', 'days_exposition'],\n",
       "      dtype='object')"
      ]
     },
     "execution_count": 3,
     "metadata": {},
     "output_type": "execute_result"
    }
   ],
   "source": [
    "df.columns"
   ]
  },
  {
   "cell_type": "code",
   "execution_count": 4,
   "metadata": {},
   "outputs": [
    {
     "data": {
      "text/plain": [
       "23699"
      ]
     },
     "execution_count": 4,
     "metadata": {},
     "output_type": "execute_result"
    }
   ],
   "source": [
    "len(df)"
   ]
  },
  {
   "cell_type": "code",
   "execution_count": 5,
   "metadata": {
    "scrolled": true
   },
   "outputs": [
    {
     "name": "stdout",
     "output_type": "stream",
     "text": [
      "<class 'pandas.core.frame.DataFrame'>\n",
      "RangeIndex: 23699 entries, 0 to 23698\n",
      "Data columns (total 22 columns):\n",
      "total_images            23699 non-null int64\n",
      "last_price              23699 non-null float64\n",
      "total_area              23699 non-null float64\n",
      "first_day_exposition    23699 non-null object\n",
      "rooms                   23699 non-null int64\n",
      "ceiling_height          14504 non-null float64\n",
      "floors_total            23613 non-null float64\n",
      "living_area             21796 non-null float64\n",
      "floor                   23699 non-null int64\n",
      "is_apartment            2775 non-null object\n",
      "studio                  23699 non-null bool\n",
      "open_plan               23699 non-null bool\n",
      "kitchen_area            21421 non-null float64\n",
      "balcony                 12180 non-null float64\n",
      "locality_name           23650 non-null object\n",
      "airports_nearest        18157 non-null float64\n",
      "cityCenters_nearest     18180 non-null float64\n",
      "parks_around3000        18181 non-null float64\n",
      "parks_nearest           8079 non-null float64\n",
      "ponds_around3000        18181 non-null float64\n",
      "ponds_nearest           9110 non-null float64\n",
      "days_exposition         20518 non-null float64\n",
      "dtypes: bool(2), float64(14), int64(3), object(3)\n",
      "memory usage: 3.7+ MB\n"
     ]
    }
   ],
   "source": [
    "# общая  информация о таблице:\n",
    "df.info()"
   ]
  },
  {
   "cell_type": "code",
   "execution_count": 6,
   "metadata": {},
   "outputs": [
    {
     "data": {
      "text/html": [
       "<div>\n",
       "<style scoped>\n",
       "    .dataframe tbody tr th:only-of-type {\n",
       "        vertical-align: middle;\n",
       "    }\n",
       "\n",
       "    .dataframe tbody tr th {\n",
       "        vertical-align: top;\n",
       "    }\n",
       "\n",
       "    .dataframe thead th {\n",
       "        text-align: right;\n",
       "    }\n",
       "</style>\n",
       "<table border=\"1\" class=\"dataframe\">\n",
       "  <thead>\n",
       "    <tr style=\"text-align: right;\">\n",
       "      <th></th>\n",
       "      <th>total_images</th>\n",
       "      <th>last_price</th>\n",
       "      <th>total_area</th>\n",
       "      <th>rooms</th>\n",
       "      <th>ceiling_height</th>\n",
       "      <th>floors_total</th>\n",
       "      <th>living_area</th>\n",
       "      <th>floor</th>\n",
       "      <th>kitchen_area</th>\n",
       "      <th>balcony</th>\n",
       "      <th>airports_nearest</th>\n",
       "      <th>cityCenters_nearest</th>\n",
       "      <th>parks_around3000</th>\n",
       "      <th>parks_nearest</th>\n",
       "      <th>ponds_around3000</th>\n",
       "      <th>ponds_nearest</th>\n",
       "      <th>days_exposition</th>\n",
       "    </tr>\n",
       "  </thead>\n",
       "  <tbody>\n",
       "    <tr>\n",
       "      <td>count</td>\n",
       "      <td>23699.000000</td>\n",
       "      <td>2.369900e+04</td>\n",
       "      <td>23699.000000</td>\n",
       "      <td>23699.000000</td>\n",
       "      <td>14504.000000</td>\n",
       "      <td>23613.000000</td>\n",
       "      <td>21796.000000</td>\n",
       "      <td>23699.000000</td>\n",
       "      <td>21421.000000</td>\n",
       "      <td>12180.000000</td>\n",
       "      <td>18157.000000</td>\n",
       "      <td>18180.000000</td>\n",
       "      <td>18181.000000</td>\n",
       "      <td>8079.000000</td>\n",
       "      <td>18181.000000</td>\n",
       "      <td>9110.000000</td>\n",
       "      <td>20518.000000</td>\n",
       "    </tr>\n",
       "    <tr>\n",
       "      <td>mean</td>\n",
       "      <td>9.858475</td>\n",
       "      <td>6.541549e+06</td>\n",
       "      <td>60.348651</td>\n",
       "      <td>2.070636</td>\n",
       "      <td>2.771499</td>\n",
       "      <td>10.673824</td>\n",
       "      <td>34.457852</td>\n",
       "      <td>5.892358</td>\n",
       "      <td>10.569807</td>\n",
       "      <td>1.150082</td>\n",
       "      <td>28793.672193</td>\n",
       "      <td>14191.277833</td>\n",
       "      <td>0.611408</td>\n",
       "      <td>490.804555</td>\n",
       "      <td>0.770255</td>\n",
       "      <td>517.980900</td>\n",
       "      <td>180.888634</td>\n",
       "    </tr>\n",
       "    <tr>\n",
       "      <td>std</td>\n",
       "      <td>5.682529</td>\n",
       "      <td>1.088701e+07</td>\n",
       "      <td>35.654083</td>\n",
       "      <td>1.078405</td>\n",
       "      <td>1.261056</td>\n",
       "      <td>6.597173</td>\n",
       "      <td>22.030445</td>\n",
       "      <td>4.885249</td>\n",
       "      <td>5.905438</td>\n",
       "      <td>1.071300</td>\n",
       "      <td>12630.880622</td>\n",
       "      <td>8608.386210</td>\n",
       "      <td>0.802074</td>\n",
       "      <td>342.317995</td>\n",
       "      <td>0.938346</td>\n",
       "      <td>277.720643</td>\n",
       "      <td>219.727988</td>\n",
       "    </tr>\n",
       "    <tr>\n",
       "      <td>min</td>\n",
       "      <td>0.000000</td>\n",
       "      <td>1.219000e+04</td>\n",
       "      <td>12.000000</td>\n",
       "      <td>0.000000</td>\n",
       "      <td>1.000000</td>\n",
       "      <td>1.000000</td>\n",
       "      <td>2.000000</td>\n",
       "      <td>1.000000</td>\n",
       "      <td>1.300000</td>\n",
       "      <td>0.000000</td>\n",
       "      <td>0.000000</td>\n",
       "      <td>181.000000</td>\n",
       "      <td>0.000000</td>\n",
       "      <td>1.000000</td>\n",
       "      <td>0.000000</td>\n",
       "      <td>13.000000</td>\n",
       "      <td>1.000000</td>\n",
       "    </tr>\n",
       "    <tr>\n",
       "      <td>25%</td>\n",
       "      <td>6.000000</td>\n",
       "      <td>3.400000e+06</td>\n",
       "      <td>40.000000</td>\n",
       "      <td>1.000000</td>\n",
       "      <td>2.520000</td>\n",
       "      <td>5.000000</td>\n",
       "      <td>18.600000</td>\n",
       "      <td>2.000000</td>\n",
       "      <td>7.000000</td>\n",
       "      <td>0.000000</td>\n",
       "      <td>18585.000000</td>\n",
       "      <td>9238.000000</td>\n",
       "      <td>0.000000</td>\n",
       "      <td>288.000000</td>\n",
       "      <td>0.000000</td>\n",
       "      <td>294.000000</td>\n",
       "      <td>45.000000</td>\n",
       "    </tr>\n",
       "    <tr>\n",
       "      <td>50%</td>\n",
       "      <td>9.000000</td>\n",
       "      <td>4.650000e+06</td>\n",
       "      <td>52.000000</td>\n",
       "      <td>2.000000</td>\n",
       "      <td>2.650000</td>\n",
       "      <td>9.000000</td>\n",
       "      <td>30.000000</td>\n",
       "      <td>4.000000</td>\n",
       "      <td>9.100000</td>\n",
       "      <td>1.000000</td>\n",
       "      <td>26726.000000</td>\n",
       "      <td>13098.500000</td>\n",
       "      <td>0.000000</td>\n",
       "      <td>455.000000</td>\n",
       "      <td>1.000000</td>\n",
       "      <td>502.000000</td>\n",
       "      <td>95.000000</td>\n",
       "    </tr>\n",
       "    <tr>\n",
       "      <td>75%</td>\n",
       "      <td>14.000000</td>\n",
       "      <td>6.800000e+06</td>\n",
       "      <td>69.900000</td>\n",
       "      <td>3.000000</td>\n",
       "      <td>2.800000</td>\n",
       "      <td>16.000000</td>\n",
       "      <td>42.300000</td>\n",
       "      <td>8.000000</td>\n",
       "      <td>12.000000</td>\n",
       "      <td>2.000000</td>\n",
       "      <td>37273.000000</td>\n",
       "      <td>16293.000000</td>\n",
       "      <td>1.000000</td>\n",
       "      <td>612.000000</td>\n",
       "      <td>1.000000</td>\n",
       "      <td>729.000000</td>\n",
       "      <td>232.000000</td>\n",
       "    </tr>\n",
       "    <tr>\n",
       "      <td>max</td>\n",
       "      <td>50.000000</td>\n",
       "      <td>7.630000e+08</td>\n",
       "      <td>900.000000</td>\n",
       "      <td>19.000000</td>\n",
       "      <td>100.000000</td>\n",
       "      <td>60.000000</td>\n",
       "      <td>409.700000</td>\n",
       "      <td>33.000000</td>\n",
       "      <td>112.000000</td>\n",
       "      <td>5.000000</td>\n",
       "      <td>84869.000000</td>\n",
       "      <td>65968.000000</td>\n",
       "      <td>3.000000</td>\n",
       "      <td>3190.000000</td>\n",
       "      <td>3.000000</td>\n",
       "      <td>1344.000000</td>\n",
       "      <td>1580.000000</td>\n",
       "    </tr>\n",
       "  </tbody>\n",
       "</table>\n",
       "</div>"
      ],
      "text/plain": [
       "       total_images    last_price    total_area         rooms  ceiling_height  \\\n",
       "count  23699.000000  2.369900e+04  23699.000000  23699.000000    14504.000000   \n",
       "mean       9.858475  6.541549e+06     60.348651      2.070636        2.771499   \n",
       "std        5.682529  1.088701e+07     35.654083      1.078405        1.261056   \n",
       "min        0.000000  1.219000e+04     12.000000      0.000000        1.000000   \n",
       "25%        6.000000  3.400000e+06     40.000000      1.000000        2.520000   \n",
       "50%        9.000000  4.650000e+06     52.000000      2.000000        2.650000   \n",
       "75%       14.000000  6.800000e+06     69.900000      3.000000        2.800000   \n",
       "max       50.000000  7.630000e+08    900.000000     19.000000      100.000000   \n",
       "\n",
       "       floors_total   living_area         floor  kitchen_area       balcony  \\\n",
       "count  23613.000000  21796.000000  23699.000000  21421.000000  12180.000000   \n",
       "mean      10.673824     34.457852      5.892358     10.569807      1.150082   \n",
       "std        6.597173     22.030445      4.885249      5.905438      1.071300   \n",
       "min        1.000000      2.000000      1.000000      1.300000      0.000000   \n",
       "25%        5.000000     18.600000      2.000000      7.000000      0.000000   \n",
       "50%        9.000000     30.000000      4.000000      9.100000      1.000000   \n",
       "75%       16.000000     42.300000      8.000000     12.000000      2.000000   \n",
       "max       60.000000    409.700000     33.000000    112.000000      5.000000   \n",
       "\n",
       "       airports_nearest  cityCenters_nearest  parks_around3000  parks_nearest  \\\n",
       "count      18157.000000         18180.000000      18181.000000    8079.000000   \n",
       "mean       28793.672193         14191.277833          0.611408     490.804555   \n",
       "std        12630.880622          8608.386210          0.802074     342.317995   \n",
       "min            0.000000           181.000000          0.000000       1.000000   \n",
       "25%        18585.000000          9238.000000          0.000000     288.000000   \n",
       "50%        26726.000000         13098.500000          0.000000     455.000000   \n",
       "75%        37273.000000         16293.000000          1.000000     612.000000   \n",
       "max        84869.000000         65968.000000          3.000000    3190.000000   \n",
       "\n",
       "       ponds_around3000  ponds_nearest  days_exposition  \n",
       "count      18181.000000    9110.000000     20518.000000  \n",
       "mean           0.770255     517.980900       180.888634  \n",
       "std            0.938346     277.720643       219.727988  \n",
       "min            0.000000      13.000000         1.000000  \n",
       "25%            0.000000     294.000000        45.000000  \n",
       "50%            1.000000     502.000000        95.000000  \n",
       "75%            1.000000     729.000000       232.000000  \n",
       "max            3.000000    1344.000000      1580.000000  "
      ]
     },
     "execution_count": 6,
     "metadata": {},
     "output_type": "execute_result"
    }
   ],
   "source": [
    "df.describe()"
   ]
  },
  {
   "cell_type": "markdown",
   "metadata": {},
   "source": [
    "### Вывод"
   ]
  },
  {
   "cell_type": "markdown",
   "metadata": {},
   "source": [
    "Пропуски в столбцах\n",
    "\n",
    "`ceiling_height          14504 \n",
    "floors_total            23613\n",
    "living_area             21796 \n",
    "is_apartment            2775\n",
    "kitchen_area            21421\n",
    "balcony                 12180\n",
    "locality_name           23650 \n",
    "airports_nearest        18157 \n",
    "cityCenters_nearest     18180 \n",
    "parks_around3000        18181 \n",
    "parks_nearest           8079 \n",
    "ponds_around3000        18181\n",
    "ponds_nearest           9110 \n",
    "days_exposition         20518`\n",
    "\n",
    "- Заменим пропуски в столбце `balcony` на 0, возможно в этих домах действительно нет балконов. \n",
    "- Стобец `ceiling_height` min высота 1 м и max высота 100 м, похожа на ошибку , проверить этот столбец. Пропуски в данном столбце заменим медианным значением по группировке этажности дома.Также в столбцах `living_area,kitchen_area` пропущенные значения заполниммедианным значением горуппируя по кол-ву комнат.\n",
    "- Пропущенные знаечения в столбцах `floors_total,locality_name`  удалим.\n",
    "- Пропущенные значения в столбцах `is_apartment,airports_nearest, cityCenters_nearest,parks_around3000  parks_nearest,ponds_around3000 ,ponds_nearest` оставим без изменений, так как они нам не нужны при работе с данными.\n",
    "- Пропущенные знаечения в столбцах `days_exposition` оставим без изменений, так как возможно объявление еще актуально и поэтому пропущенное значение в таблице.\n"
   ]
  },
  {
   "cell_type": "markdown",
   "metadata": {},
   "source": [
    "## Предобработка данных"
   ]
  },
  {
   "cell_type": "code",
   "execution_count": 7,
   "metadata": {
    "scrolled": false
   },
   "outputs": [
    {
     "data": {
      "text/plain": [
       "total_images                0\n",
       "last_price                  0\n",
       "total_area                  0\n",
       "first_day_exposition        0\n",
       "rooms                       0\n",
       "ceiling_height           9195\n",
       "floors_total               86\n",
       "living_area              1903\n",
       "floor                       0\n",
       "is_apartment            20924\n",
       "studio                      0\n",
       "open_plan                   0\n",
       "kitchen_area             2278\n",
       "balcony                 11519\n",
       "locality_name              49\n",
       "airports_nearest         5542\n",
       "cityCenters_nearest      5519\n",
       "parks_around3000         5518\n",
       "parks_nearest           15620\n",
       "ponds_around3000         5518\n",
       "ponds_nearest           14589\n",
       "days_exposition          3181\n",
       "dtype: int64"
      ]
     },
     "execution_count": 7,
     "metadata": {},
     "output_type": "execute_result"
    }
   ],
   "source": [
    "df.isna().sum()"
   ]
  },
  {
   "cell_type": "code",
   "execution_count": 8,
   "metadata": {},
   "outputs": [
    {
     "name": "stdout",
     "output_type": "stream",
     "text": [
      "Количество дубликатов: 0\n"
     ]
    }
   ],
   "source": [
    "# подсчёт явных дубликатов\n",
    "print(\"Количество дубликатов: {}\".format(df.duplicated().sum()))"
   ]
  },
  {
   "cell_type": "code",
   "execution_count": 9,
   "metadata": {},
   "outputs": [],
   "source": [
    "#заполним пропуски в 'balcony' значением 0:\n",
    "df['balcony']=df['balcony'].fillna(0)"
   ]
  },
  {
   "cell_type": "code",
   "execution_count": 10,
   "metadata": {},
   "outputs": [
    {
     "data": {
      "text/plain": [
       "0"
      ]
     },
     "execution_count": 10,
     "metadata": {},
     "output_type": "execute_result"
    }
   ],
   "source": [
    "df['balcony'].isna().sum()"
   ]
  },
  {
   "cell_type": "code",
   "execution_count": 11,
   "metadata": {},
   "outputs": [
    {
     "data": {
      "text/plain": [
       "0"
      ]
     },
     "execution_count": 11,
     "metadata": {},
     "output_type": "execute_result"
    }
   ],
   "source": [
    "#удалим пропущенные значения в столбцах  'floors_total','locality_name':\n",
    "df.dropna(subset=['floors_total','locality_name'], inplace=True)\n",
    "df['floors_total'].isna().sum()"
   ]
  },
  {
   "cell_type": "code",
   "execution_count": 12,
   "metadata": {},
   "outputs": [
    {
     "data": {
      "text/html": [
       "<div>\n",
       "<style scoped>\n",
       "    .dataframe tbody tr th:only-of-type {\n",
       "        vertical-align: middle;\n",
       "    }\n",
       "\n",
       "    .dataframe tbody tr th {\n",
       "        vertical-align: top;\n",
       "    }\n",
       "\n",
       "    .dataframe thead th {\n",
       "        text-align: right;\n",
       "    }\n",
       "</style>\n",
       "<table border=\"1\" class=\"dataframe\">\n",
       "  <thead>\n",
       "    <tr style=\"text-align: right;\">\n",
       "      <th></th>\n",
       "      <th>total_images</th>\n",
       "      <th>last_price</th>\n",
       "      <th>total_area</th>\n",
       "      <th>rooms</th>\n",
       "      <th>ceiling_height</th>\n",
       "      <th>floors_total</th>\n",
       "      <th>living_area</th>\n",
       "      <th>floor</th>\n",
       "      <th>studio</th>\n",
       "      <th>open_plan</th>\n",
       "      <th>kitchen_area</th>\n",
       "      <th>balcony</th>\n",
       "      <th>airports_nearest</th>\n",
       "      <th>cityCenters_nearest</th>\n",
       "      <th>parks_around3000</th>\n",
       "      <th>parks_nearest</th>\n",
       "      <th>ponds_around3000</th>\n",
       "      <th>ponds_nearest</th>\n",
       "      <th>days_exposition</th>\n",
       "    </tr>\n",
       "  </thead>\n",
       "  <tbody>\n",
       "    <tr>\n",
       "      <td>total_images</td>\n",
       "      <td>1.000000</td>\n",
       "      <td>0.105026</td>\n",
       "      <td>0.116969</td>\n",
       "      <td>0.099759</td>\n",
       "      <td>-0.001865</td>\n",
       "      <td>0.009822</td>\n",
       "      <td>0.105551</td>\n",
       "      <td>0.032781</td>\n",
       "      <td>-0.028201</td>\n",
       "      <td>-0.024670</td>\n",
       "      <td>0.106896</td>\n",
       "      <td>0.046879</td>\n",
       "      <td>-0.002701</td>\n",
       "      <td>-0.048103</td>\n",
       "      <td>0.020955</td>\n",
       "      <td>-0.006017</td>\n",
       "      <td>-0.011352</td>\n",
       "      <td>-0.003995</td>\n",
       "      <td>-0.027340</td>\n",
       "    </tr>\n",
       "    <tr>\n",
       "      <td>last_price</td>\n",
       "      <td>0.105026</td>\n",
       "      <td>1.000000</td>\n",
       "      <td>0.653621</td>\n",
       "      <td>0.363191</td>\n",
       "      <td>0.085401</td>\n",
       "      <td>-0.006745</td>\n",
       "      <td>0.566380</td>\n",
       "      <td>0.026842</td>\n",
       "      <td>-0.025084</td>\n",
       "      <td>-0.008801</td>\n",
       "      <td>0.520362</td>\n",
       "      <td>0.008568</td>\n",
       "      <td>-0.026216</td>\n",
       "      <td>-0.206353</td>\n",
       "      <td>0.151492</td>\n",
       "      <td>-0.016529</td>\n",
       "      <td>0.160735</td>\n",
       "      <td>-0.085836</td>\n",
       "      <td>0.080858</td>\n",
       "    </tr>\n",
       "    <tr>\n",
       "      <td>total_area</td>\n",
       "      <td>0.116969</td>\n",
       "      <td>0.653621</td>\n",
       "      <td>1.000000</td>\n",
       "      <td>0.758735</td>\n",
       "      <td>0.095432</td>\n",
       "      <td>-0.075252</td>\n",
       "      <td>0.939771</td>\n",
       "      <td>-0.024368</td>\n",
       "      <td>-0.072000</td>\n",
       "      <td>-0.034942</td>\n",
       "      <td>0.609248</td>\n",
       "      <td>0.010243</td>\n",
       "      <td>-0.030466</td>\n",
       "      <td>-0.231181</td>\n",
       "      <td>0.165890</td>\n",
       "      <td>-0.021266</td>\n",
       "      <td>0.163757</td>\n",
       "      <td>-0.100140</td>\n",
       "      <td>0.149974</td>\n",
       "    </tr>\n",
       "    <tr>\n",
       "      <td>rooms</td>\n",
       "      <td>0.099759</td>\n",
       "      <td>0.363191</td>\n",
       "      <td>0.758735</td>\n",
       "      <td>1.000000</td>\n",
       "      <td>0.054378</td>\n",
       "      <td>-0.227913</td>\n",
       "      <td>0.846117</td>\n",
       "      <td>-0.151341</td>\n",
       "      <td>-0.146068</td>\n",
       "      <td>-0.087735</td>\n",
       "      <td>0.270342</td>\n",
       "      <td>-0.015542</td>\n",
       "      <td>-0.060975</td>\n",
       "      <td>-0.184096</td>\n",
       "      <td>0.137806</td>\n",
       "      <td>-0.053719</td>\n",
       "      <td>0.093600</td>\n",
       "      <td>-0.060119</td>\n",
       "      <td>0.126969</td>\n",
       "    </tr>\n",
       "    <tr>\n",
       "      <td>ceiling_height</td>\n",
       "      <td>-0.001865</td>\n",
       "      <td>0.085401</td>\n",
       "      <td>0.095432</td>\n",
       "      <td>0.054378</td>\n",
       "      <td>1.000000</td>\n",
       "      <td>-0.028586</td>\n",
       "      <td>0.090573</td>\n",
       "      <td>-0.011685</td>\n",
       "      <td>0.001686</td>\n",
       "      <td>0.042785</td>\n",
       "      <td>0.087723</td>\n",
       "      <td>0.031370</td>\n",
       "      <td>-0.023798</td>\n",
       "      <td>-0.091484</td>\n",
       "      <td>0.065992</td>\n",
       "      <td>-0.019307</td>\n",
       "      <td>0.078297</td>\n",
       "      <td>-0.059438</td>\n",
       "      <td>0.019027</td>\n",
       "    </tr>\n",
       "    <tr>\n",
       "      <td>floors_total</td>\n",
       "      <td>0.009822</td>\n",
       "      <td>-0.006745</td>\n",
       "      <td>-0.075252</td>\n",
       "      <td>-0.227913</td>\n",
       "      <td>-0.028586</td>\n",
       "      <td>1.000000</td>\n",
       "      <td>-0.168940</td>\n",
       "      <td>0.678010</td>\n",
       "      <td>0.070224</td>\n",
       "      <td>0.050844</td>\n",
       "      <td>0.164803</td>\n",
       "      <td>0.173408</td>\n",
       "      <td>0.108547</td>\n",
       "      <td>0.018743</td>\n",
       "      <td>-0.252490</td>\n",
       "      <td>0.097608</td>\n",
       "      <td>-0.122799</td>\n",
       "      <td>0.040003</td>\n",
       "      <td>-0.052410</td>\n",
       "    </tr>\n",
       "    <tr>\n",
       "      <td>living_area</td>\n",
       "      <td>0.105551</td>\n",
       "      <td>0.566380</td>\n",
       "      <td>0.939771</td>\n",
       "      <td>0.846117</td>\n",
       "      <td>0.090573</td>\n",
       "      <td>-0.168940</td>\n",
       "      <td>1.000000</td>\n",
       "      <td>-0.096676</td>\n",
       "      <td>-0.056307</td>\n",
       "      <td>-0.033756</td>\n",
       "      <td>0.428909</td>\n",
       "      <td>-0.014786</td>\n",
       "      <td>-0.057428</td>\n",
       "      <td>-0.230576</td>\n",
       "      <td>0.184878</td>\n",
       "      <td>-0.050694</td>\n",
       "      <td>0.149785</td>\n",
       "      <td>-0.082830</td>\n",
       "      <td>0.142135</td>\n",
       "    </tr>\n",
       "    <tr>\n",
       "      <td>floor</td>\n",
       "      <td>0.032781</td>\n",
       "      <td>0.026842</td>\n",
       "      <td>-0.024368</td>\n",
       "      <td>-0.151341</td>\n",
       "      <td>-0.011685</td>\n",
       "      <td>0.678010</td>\n",
       "      <td>-0.096676</td>\n",
       "      <td>1.000000</td>\n",
       "      <td>0.035946</td>\n",
       "      <td>0.036184</td>\n",
       "      <td>0.136545</td>\n",
       "      <td>0.171507</td>\n",
       "      <td>0.073129</td>\n",
       "      <td>0.008336</td>\n",
       "      <td>-0.163601</td>\n",
       "      <td>0.072988</td>\n",
       "      <td>-0.076240</td>\n",
       "      <td>0.026467</td>\n",
       "      <td>-0.039042</td>\n",
       "    </tr>\n",
       "    <tr>\n",
       "      <td>studio</td>\n",
       "      <td>-0.028201</td>\n",
       "      <td>-0.025084</td>\n",
       "      <td>-0.072000</td>\n",
       "      <td>-0.146068</td>\n",
       "      <td>0.001686</td>\n",
       "      <td>0.070224</td>\n",
       "      <td>-0.056307</td>\n",
       "      <td>0.035946</td>\n",
       "      <td>1.000000</td>\n",
       "      <td>-0.004216</td>\n",
       "      <td>NaN</td>\n",
       "      <td>0.030019</td>\n",
       "      <td>-0.021707</td>\n",
       "      <td>-0.006864</td>\n",
       "      <td>-0.030857</td>\n",
       "      <td>0.006923</td>\n",
       "      <td>0.000813</td>\n",
       "      <td>0.001838</td>\n",
       "      <td>-0.021572</td>\n",
       "    </tr>\n",
       "    <tr>\n",
       "      <td>open_plan</td>\n",
       "      <td>-0.024670</td>\n",
       "      <td>-0.008801</td>\n",
       "      <td>-0.034942</td>\n",
       "      <td>-0.087735</td>\n",
       "      <td>0.042785</td>\n",
       "      <td>0.050844</td>\n",
       "      <td>-0.033756</td>\n",
       "      <td>0.036184</td>\n",
       "      <td>-0.004216</td>\n",
       "      <td>1.000000</td>\n",
       "      <td>NaN</td>\n",
       "      <td>0.032541</td>\n",
       "      <td>-0.013638</td>\n",
       "      <td>-0.004222</td>\n",
       "      <td>-0.010118</td>\n",
       "      <td>0.010692</td>\n",
       "      <td>0.008516</td>\n",
       "      <td>-0.003395</td>\n",
       "      <td>-0.024146</td>\n",
       "    </tr>\n",
       "    <tr>\n",
       "      <td>kitchen_area</td>\n",
       "      <td>0.106896</td>\n",
       "      <td>0.520362</td>\n",
       "      <td>0.609248</td>\n",
       "      <td>0.270342</td>\n",
       "      <td>0.087723</td>\n",
       "      <td>0.164803</td>\n",
       "      <td>0.428909</td>\n",
       "      <td>0.136545</td>\n",
       "      <td>NaN</td>\n",
       "      <td>NaN</td>\n",
       "      <td>1.000000</td>\n",
       "      <td>0.046207</td>\n",
       "      <td>0.007797</td>\n",
       "      <td>-0.191140</td>\n",
       "      <td>0.088512</td>\n",
       "      <td>0.029578</td>\n",
       "      <td>0.151156</td>\n",
       "      <td>-0.104674</td>\n",
       "      <td>0.101071</td>\n",
       "    </tr>\n",
       "    <tr>\n",
       "      <td>balcony</td>\n",
       "      <td>0.046879</td>\n",
       "      <td>0.008568</td>\n",
       "      <td>0.010243</td>\n",
       "      <td>-0.015542</td>\n",
       "      <td>0.031370</td>\n",
       "      <td>0.173408</td>\n",
       "      <td>-0.014786</td>\n",
       "      <td>0.171507</td>\n",
       "      <td>0.030019</td>\n",
       "      <td>0.032541</td>\n",
       "      <td>0.046207</td>\n",
       "      <td>1.000000</td>\n",
       "      <td>0.049629</td>\n",
       "      <td>0.065257</td>\n",
       "      <td>-0.078478</td>\n",
       "      <td>0.034663</td>\n",
       "      <td>-0.039443</td>\n",
       "      <td>0.020395</td>\n",
       "      <td>-0.027504</td>\n",
       "    </tr>\n",
       "    <tr>\n",
       "      <td>airports_nearest</td>\n",
       "      <td>-0.002701</td>\n",
       "      <td>-0.026216</td>\n",
       "      <td>-0.030466</td>\n",
       "      <td>-0.060975</td>\n",
       "      <td>-0.023798</td>\n",
       "      <td>0.108547</td>\n",
       "      <td>-0.057428</td>\n",
       "      <td>0.073129</td>\n",
       "      <td>-0.021707</td>\n",
       "      <td>-0.013638</td>\n",
       "      <td>0.007797</td>\n",
       "      <td>0.049629</td>\n",
       "      <td>1.000000</td>\n",
       "      <td>0.271460</td>\n",
       "      <td>0.001233</td>\n",
       "      <td>-0.071331</td>\n",
       "      <td>-0.050344</td>\n",
       "      <td>0.014158</td>\n",
       "      <td>-0.018677</td>\n",
       "    </tr>\n",
       "    <tr>\n",
       "      <td>cityCenters_nearest</td>\n",
       "      <td>-0.048103</td>\n",
       "      <td>-0.206353</td>\n",
       "      <td>-0.231181</td>\n",
       "      <td>-0.184096</td>\n",
       "      <td>-0.091484</td>\n",
       "      <td>0.018743</td>\n",
       "      <td>-0.230576</td>\n",
       "      <td>0.008336</td>\n",
       "      <td>-0.006864</td>\n",
       "      <td>-0.004222</td>\n",
       "      <td>-0.191140</td>\n",
       "      <td>0.065257</td>\n",
       "      <td>0.271460</td>\n",
       "      <td>1.000000</td>\n",
       "      <td>-0.161807</td>\n",
       "      <td>-0.039632</td>\n",
       "      <td>-0.074194</td>\n",
       "      <td>0.030964</td>\n",
       "      <td>-0.059334</td>\n",
       "    </tr>\n",
       "    <tr>\n",
       "      <td>parks_around3000</td>\n",
       "      <td>0.020955</td>\n",
       "      <td>0.151492</td>\n",
       "      <td>0.165890</td>\n",
       "      <td>0.137806</td>\n",
       "      <td>0.065992</td>\n",
       "      <td>-0.252490</td>\n",
       "      <td>0.184878</td>\n",
       "      <td>-0.163601</td>\n",
       "      <td>-0.030857</td>\n",
       "      <td>-0.010118</td>\n",
       "      <td>0.088512</td>\n",
       "      <td>-0.078478</td>\n",
       "      <td>0.001233</td>\n",
       "      <td>-0.161807</td>\n",
       "      <td>1.000000</td>\n",
       "      <td>-0.259350</td>\n",
       "      <td>0.305109</td>\n",
       "      <td>-0.169200</td>\n",
       "      <td>0.060073</td>\n",
       "    </tr>\n",
       "    <tr>\n",
       "      <td>parks_nearest</td>\n",
       "      <td>-0.006017</td>\n",
       "      <td>-0.016529</td>\n",
       "      <td>-0.021266</td>\n",
       "      <td>-0.053719</td>\n",
       "      <td>-0.019307</td>\n",
       "      <td>0.097608</td>\n",
       "      <td>-0.050694</td>\n",
       "      <td>0.072988</td>\n",
       "      <td>0.006923</td>\n",
       "      <td>0.010692</td>\n",
       "      <td>0.029578</td>\n",
       "      <td>0.034663</td>\n",
       "      <td>-0.071331</td>\n",
       "      <td>-0.039632</td>\n",
       "      <td>-0.259350</td>\n",
       "      <td>1.000000</td>\n",
       "      <td>0.074821</td>\n",
       "      <td>0.001780</td>\n",
       "      <td>0.022651</td>\n",
       "    </tr>\n",
       "    <tr>\n",
       "      <td>ponds_around3000</td>\n",
       "      <td>-0.011352</td>\n",
       "      <td>0.160735</td>\n",
       "      <td>0.163757</td>\n",
       "      <td>0.093600</td>\n",
       "      <td>0.078297</td>\n",
       "      <td>-0.122799</td>\n",
       "      <td>0.149785</td>\n",
       "      <td>-0.076240</td>\n",
       "      <td>0.000813</td>\n",
       "      <td>0.008516</td>\n",
       "      <td>0.151156</td>\n",
       "      <td>-0.039443</td>\n",
       "      <td>-0.050344</td>\n",
       "      <td>-0.074194</td>\n",
       "      <td>0.305109</td>\n",
       "      <td>0.074821</td>\n",
       "      <td>1.000000</td>\n",
       "      <td>-0.343068</td>\n",
       "      <td>0.072116</td>\n",
       "    </tr>\n",
       "    <tr>\n",
       "      <td>ponds_nearest</td>\n",
       "      <td>-0.003995</td>\n",
       "      <td>-0.085836</td>\n",
       "      <td>-0.100140</td>\n",
       "      <td>-0.060119</td>\n",
       "      <td>-0.059438</td>\n",
       "      <td>0.040003</td>\n",
       "      <td>-0.082830</td>\n",
       "      <td>0.026467</td>\n",
       "      <td>0.001838</td>\n",
       "      <td>-0.003395</td>\n",
       "      <td>-0.104674</td>\n",
       "      <td>0.020395</td>\n",
       "      <td>0.014158</td>\n",
       "      <td>0.030964</td>\n",
       "      <td>-0.169200</td>\n",
       "      <td>0.001780</td>\n",
       "      <td>-0.343068</td>\n",
       "      <td>1.000000</td>\n",
       "      <td>-0.080561</td>\n",
       "    </tr>\n",
       "    <tr>\n",
       "      <td>days_exposition</td>\n",
       "      <td>-0.027340</td>\n",
       "      <td>0.080858</td>\n",
       "      <td>0.149974</td>\n",
       "      <td>0.126969</td>\n",
       "      <td>0.019027</td>\n",
       "      <td>-0.052410</td>\n",
       "      <td>0.142135</td>\n",
       "      <td>-0.039042</td>\n",
       "      <td>-0.021572</td>\n",
       "      <td>-0.024146</td>\n",
       "      <td>0.101071</td>\n",
       "      <td>-0.027504</td>\n",
       "      <td>-0.018677</td>\n",
       "      <td>-0.059334</td>\n",
       "      <td>0.060073</td>\n",
       "      <td>0.022651</td>\n",
       "      <td>0.072116</td>\n",
       "      <td>-0.080561</td>\n",
       "      <td>1.000000</td>\n",
       "    </tr>\n",
       "  </tbody>\n",
       "</table>\n",
       "</div>"
      ],
      "text/plain": [
       "                     total_images  last_price  total_area     rooms  \\\n",
       "total_images             1.000000    0.105026    0.116969  0.099759   \n",
       "last_price               0.105026    1.000000    0.653621  0.363191   \n",
       "total_area               0.116969    0.653621    1.000000  0.758735   \n",
       "rooms                    0.099759    0.363191    0.758735  1.000000   \n",
       "ceiling_height          -0.001865    0.085401    0.095432  0.054378   \n",
       "floors_total             0.009822   -0.006745   -0.075252 -0.227913   \n",
       "living_area              0.105551    0.566380    0.939771  0.846117   \n",
       "floor                    0.032781    0.026842   -0.024368 -0.151341   \n",
       "studio                  -0.028201   -0.025084   -0.072000 -0.146068   \n",
       "open_plan               -0.024670   -0.008801   -0.034942 -0.087735   \n",
       "kitchen_area             0.106896    0.520362    0.609248  0.270342   \n",
       "balcony                  0.046879    0.008568    0.010243 -0.015542   \n",
       "airports_nearest        -0.002701   -0.026216   -0.030466 -0.060975   \n",
       "cityCenters_nearest     -0.048103   -0.206353   -0.231181 -0.184096   \n",
       "parks_around3000         0.020955    0.151492    0.165890  0.137806   \n",
       "parks_nearest           -0.006017   -0.016529   -0.021266 -0.053719   \n",
       "ponds_around3000        -0.011352    0.160735    0.163757  0.093600   \n",
       "ponds_nearest           -0.003995   -0.085836   -0.100140 -0.060119   \n",
       "days_exposition         -0.027340    0.080858    0.149974  0.126969   \n",
       "\n",
       "                     ceiling_height  floors_total  living_area     floor  \\\n",
       "total_images              -0.001865      0.009822     0.105551  0.032781   \n",
       "last_price                 0.085401     -0.006745     0.566380  0.026842   \n",
       "total_area                 0.095432     -0.075252     0.939771 -0.024368   \n",
       "rooms                      0.054378     -0.227913     0.846117 -0.151341   \n",
       "ceiling_height             1.000000     -0.028586     0.090573 -0.011685   \n",
       "floors_total              -0.028586      1.000000    -0.168940  0.678010   \n",
       "living_area                0.090573     -0.168940     1.000000 -0.096676   \n",
       "floor                     -0.011685      0.678010    -0.096676  1.000000   \n",
       "studio                     0.001686      0.070224    -0.056307  0.035946   \n",
       "open_plan                  0.042785      0.050844    -0.033756  0.036184   \n",
       "kitchen_area               0.087723      0.164803     0.428909  0.136545   \n",
       "balcony                    0.031370      0.173408    -0.014786  0.171507   \n",
       "airports_nearest          -0.023798      0.108547    -0.057428  0.073129   \n",
       "cityCenters_nearest       -0.091484      0.018743    -0.230576  0.008336   \n",
       "parks_around3000           0.065992     -0.252490     0.184878 -0.163601   \n",
       "parks_nearest             -0.019307      0.097608    -0.050694  0.072988   \n",
       "ponds_around3000           0.078297     -0.122799     0.149785 -0.076240   \n",
       "ponds_nearest             -0.059438      0.040003    -0.082830  0.026467   \n",
       "days_exposition            0.019027     -0.052410     0.142135 -0.039042   \n",
       "\n",
       "                       studio  open_plan  kitchen_area   balcony  \\\n",
       "total_images        -0.028201  -0.024670      0.106896  0.046879   \n",
       "last_price          -0.025084  -0.008801      0.520362  0.008568   \n",
       "total_area          -0.072000  -0.034942      0.609248  0.010243   \n",
       "rooms               -0.146068  -0.087735      0.270342 -0.015542   \n",
       "ceiling_height       0.001686   0.042785      0.087723  0.031370   \n",
       "floors_total         0.070224   0.050844      0.164803  0.173408   \n",
       "living_area         -0.056307  -0.033756      0.428909 -0.014786   \n",
       "floor                0.035946   0.036184      0.136545  0.171507   \n",
       "studio               1.000000  -0.004216           NaN  0.030019   \n",
       "open_plan           -0.004216   1.000000           NaN  0.032541   \n",
       "kitchen_area              NaN        NaN      1.000000  0.046207   \n",
       "balcony              0.030019   0.032541      0.046207  1.000000   \n",
       "airports_nearest    -0.021707  -0.013638      0.007797  0.049629   \n",
       "cityCenters_nearest -0.006864  -0.004222     -0.191140  0.065257   \n",
       "parks_around3000    -0.030857  -0.010118      0.088512 -0.078478   \n",
       "parks_nearest        0.006923   0.010692      0.029578  0.034663   \n",
       "ponds_around3000     0.000813   0.008516      0.151156 -0.039443   \n",
       "ponds_nearest        0.001838  -0.003395     -0.104674  0.020395   \n",
       "days_exposition     -0.021572  -0.024146      0.101071 -0.027504   \n",
       "\n",
       "                     airports_nearest  cityCenters_nearest  parks_around3000  \\\n",
       "total_images                -0.002701            -0.048103          0.020955   \n",
       "last_price                  -0.026216            -0.206353          0.151492   \n",
       "total_area                  -0.030466            -0.231181          0.165890   \n",
       "rooms                       -0.060975            -0.184096          0.137806   \n",
       "ceiling_height              -0.023798            -0.091484          0.065992   \n",
       "floors_total                 0.108547             0.018743         -0.252490   \n",
       "living_area                 -0.057428            -0.230576          0.184878   \n",
       "floor                        0.073129             0.008336         -0.163601   \n",
       "studio                      -0.021707            -0.006864         -0.030857   \n",
       "open_plan                   -0.013638            -0.004222         -0.010118   \n",
       "kitchen_area                 0.007797            -0.191140          0.088512   \n",
       "balcony                      0.049629             0.065257         -0.078478   \n",
       "airports_nearest             1.000000             0.271460          0.001233   \n",
       "cityCenters_nearest          0.271460             1.000000         -0.161807   \n",
       "parks_around3000             0.001233            -0.161807          1.000000   \n",
       "parks_nearest               -0.071331            -0.039632         -0.259350   \n",
       "ponds_around3000            -0.050344            -0.074194          0.305109   \n",
       "ponds_nearest                0.014158             0.030964         -0.169200   \n",
       "days_exposition             -0.018677            -0.059334          0.060073   \n",
       "\n",
       "                     parks_nearest  ponds_around3000  ponds_nearest  \\\n",
       "total_images             -0.006017         -0.011352      -0.003995   \n",
       "last_price               -0.016529          0.160735      -0.085836   \n",
       "total_area               -0.021266          0.163757      -0.100140   \n",
       "rooms                    -0.053719          0.093600      -0.060119   \n",
       "ceiling_height           -0.019307          0.078297      -0.059438   \n",
       "floors_total              0.097608         -0.122799       0.040003   \n",
       "living_area              -0.050694          0.149785      -0.082830   \n",
       "floor                     0.072988         -0.076240       0.026467   \n",
       "studio                    0.006923          0.000813       0.001838   \n",
       "open_plan                 0.010692          0.008516      -0.003395   \n",
       "kitchen_area              0.029578          0.151156      -0.104674   \n",
       "balcony                   0.034663         -0.039443       0.020395   \n",
       "airports_nearest         -0.071331         -0.050344       0.014158   \n",
       "cityCenters_nearest      -0.039632         -0.074194       0.030964   \n",
       "parks_around3000         -0.259350          0.305109      -0.169200   \n",
       "parks_nearest             1.000000          0.074821       0.001780   \n",
       "ponds_around3000          0.074821          1.000000      -0.343068   \n",
       "ponds_nearest             0.001780         -0.343068       1.000000   \n",
       "days_exposition           0.022651          0.072116      -0.080561   \n",
       "\n",
       "                     days_exposition  \n",
       "total_images               -0.027340  \n",
       "last_price                  0.080858  \n",
       "total_area                  0.149974  \n",
       "rooms                       0.126969  \n",
       "ceiling_height              0.019027  \n",
       "floors_total               -0.052410  \n",
       "living_area                 0.142135  \n",
       "floor                      -0.039042  \n",
       "studio                     -0.021572  \n",
       "open_plan                  -0.024146  \n",
       "kitchen_area                0.101071  \n",
       "balcony                    -0.027504  \n",
       "airports_nearest           -0.018677  \n",
       "cityCenters_nearest        -0.059334  \n",
       "parks_around3000            0.060073  \n",
       "parks_nearest               0.022651  \n",
       "ponds_around3000            0.072116  \n",
       "ponds_nearest              -0.080561  \n",
       "days_exposition             1.000000  "
      ]
     },
     "execution_count": 12,
     "metadata": {},
     "output_type": "execute_result"
    }
   ],
   "source": [
    "df.corr()"
   ]
  },
  {
   "cell_type": "code",
   "execution_count": 13,
   "metadata": {},
   "outputs": [
    {
     "data": {
      "text/plain": [
       "19904     12.0\n",
       "17961     13.0\n",
       "19546     13.0\n",
       "19807     13.0\n",
       "19558     13.2\n",
       "         ...  \n",
       "5358     590.0\n",
       "15651    618.0\n",
       "3117     631.0\n",
       "12859    631.2\n",
       "19540    900.0\n",
       "Name: total_area, Length: 23565, dtype: float64"
      ]
     },
     "execution_count": 13,
     "metadata": {},
     "output_type": "execute_result"
    }
   ],
   "source": [
    "df['total_area'].sort_values()"
   ]
  },
  {
   "cell_type": "code",
   "execution_count": 14,
   "metadata": {},
   "outputs": [
    {
     "data": {
      "text/plain": [
       "однокомнатные     8004\n",
       "двухкомнатные     7897\n",
       "многокомнатные    7664\n",
       "Name: rooms_cat, dtype: int64"
      ]
     },
     "execution_count": 14,
     "metadata": {},
     "output_type": "execute_result"
    }
   ],
   "source": [
    "#разобьем кол-во комнат по категориям , напишем функцию:\n",
    "def rooms_cat(df):\n",
    "    if df['rooms']==1:\n",
    "        return 'однокомнатные'\n",
    "    elif df['rooms']==2:\n",
    "        return 'двухкомнатные'\n",
    "    elif (df['rooms'] == df['rooms']) & (df['rooms'] != 1)& (df['rooms'] != 2):\n",
    "        return 'многокомнатные'\n",
    "df['rooms_cat'] = df.apply(rooms_cat, axis = 1)\n",
    "df['rooms_cat'].value_counts()"
   ]
  },
  {
   "cell_type": "code",
   "execution_count": 15,
   "metadata": {},
   "outputs": [
    {
     "data": {
      "text/plain": [
       "rooms_cat\n",
       "двухкомнатные     30.5\n",
       "многокомнатные    47.0\n",
       "однокомнатные     17.6\n",
       "Name: living_area, dtype: float64"
      ]
     },
     "execution_count": 15,
     "metadata": {},
     "output_type": "execute_result"
    }
   ],
   "source": [
    "df.groupby(['rooms_cat'])['living_area'].median()"
   ]
  },
  {
   "cell_type": "code",
   "execution_count": 16,
   "metadata": {},
   "outputs": [
    {
     "data": {
      "text/plain": [
       "total_images                0\n",
       "last_price                  0\n",
       "total_area                  0\n",
       "first_day_exposition        0\n",
       "rooms                       0\n",
       "ceiling_height           9084\n",
       "floors_total                0\n",
       "living_area                 0\n",
       "floor                       0\n",
       "is_apartment            20805\n",
       "studio                      0\n",
       "open_plan                   0\n",
       "kitchen_area             2222\n",
       "balcony                     0\n",
       "locality_name               0\n",
       "airports_nearest         5524\n",
       "cityCenters_nearest      5501\n",
       "parks_around3000         5500\n",
       "parks_nearest           15535\n",
       "ponds_around3000         5500\n",
       "ponds_nearest           14529\n",
       "days_exposition          3171\n",
       "rooms_cat                   0\n",
       "dtype: int64"
      ]
     },
     "execution_count": 16,
     "metadata": {},
     "output_type": "execute_result"
    }
   ],
   "source": [
    "#заполним пропуски в 'living_area' медианным значением с группировкой по типу rooms_cat:\n",
    "df['living_area']=df['living_area'] \\\n",
    "    .fillna(df.groupby(['rooms_cat',])['living_area'] \\\n",
    "    .transform('median'))\n",
    "df.isna().sum()"
   ]
  },
  {
   "cell_type": "code",
   "execution_count": 17,
   "metadata": {},
   "outputs": [
    {
     "data": {
      "text/plain": [
       "total_images                0\n",
       "last_price                  0\n",
       "total_area                  0\n",
       "first_day_exposition        0\n",
       "rooms                       0\n",
       "ceiling_height           9084\n",
       "floors_total                0\n",
       "living_area                 0\n",
       "floor                       0\n",
       "is_apartment            20805\n",
       "studio                      0\n",
       "open_plan                   0\n",
       "kitchen_area                0\n",
       "balcony                     0\n",
       "locality_name               0\n",
       "airports_nearest         5524\n",
       "cityCenters_nearest      5501\n",
       "parks_around3000         5500\n",
       "parks_nearest           15535\n",
       "ponds_around3000         5500\n",
       "ponds_nearest           14529\n",
       "days_exposition          3171\n",
       "rooms_cat                   0\n",
       "dtype: int64"
      ]
     },
     "execution_count": 17,
     "metadata": {},
     "output_type": "execute_result"
    }
   ],
   "source": [
    "#заполним пропуски в 'kitchen_area' медианным значением с группировкой по типу rooms_cat:\n",
    "df['kitchen_area']=df['kitchen_area'] \\\n",
    "    .fillna(df.groupby(['rooms_cat',])['kitchen_area'] \\\n",
    "    .transform('median'))\n",
    "df.isna().sum()"
   ]
  },
  {
   "cell_type": "code",
   "execution_count": 18,
   "metadata": {},
   "outputs": [
    {
     "data": {
      "text/plain": [
       "floors_total  floor\n",
       "1.0           1        2.80\n",
       "2.0           1        2.70\n",
       "              2        2.72\n",
       "3.0           1        2.75\n",
       "              2        2.80\n",
       "                       ... \n",
       "36.0          28        NaN\n",
       "              29       2.70\n",
       "37.0          5        1.75\n",
       "52.0          18       2.65\n",
       "60.0          4        2.88\n",
       "Name: ceiling_height, Length: 417, dtype: float64"
      ]
     },
     "execution_count": 18,
     "metadata": {},
     "output_type": "execute_result"
    }
   ],
   "source": [
    "df.groupby(['floors_total', 'floor'])['ceiling_height'].median()"
   ]
  },
  {
   "cell_type": "code",
   "execution_count": 19,
   "metadata": {},
   "outputs": [
    {
     "data": {
      "text/plain": [
       "total_images                0\n",
       "last_price                  0\n",
       "total_area                  0\n",
       "first_day_exposition        0\n",
       "rooms                       0\n",
       "ceiling_height              1\n",
       "floors_total                0\n",
       "living_area                 0\n",
       "floor                       0\n",
       "is_apartment            20805\n",
       "studio                      0\n",
       "open_plan                   0\n",
       "kitchen_area                0\n",
       "balcony                     0\n",
       "locality_name               0\n",
       "airports_nearest         5524\n",
       "cityCenters_nearest      5501\n",
       "parks_around3000         5500\n",
       "parks_nearest           15535\n",
       "ponds_around3000         5500\n",
       "ponds_nearest           14529\n",
       "days_exposition          3171\n",
       "rooms_cat                   0\n",
       "dtype: int64"
      ]
     },
     "execution_count": 19,
     "metadata": {},
     "output_type": "execute_result"
    }
   ],
   "source": [
    "#заполним пропуски в 'ceiling_height' медианным значением с группировкой по типу floors_total, \n",
    "#есть вероятность, что высота потолков в среднем идентичны в зданиях одной этажности:\n",
    "df['ceiling_height']=df['ceiling_height'] \\\n",
    "    .fillna(df.groupby(['floors_total'])['ceiling_height'] \\\n",
    "    .transform('median'))\n",
    "df.isna().sum()"
   ]
  },
  {
   "cell_type": "markdown",
   "metadata": {},
   "source": [
    "Одно значение в столбце ceiling_height не заполнилось медианным значением, посмотрим на это объявление."
   ]
  },
  {
   "cell_type": "code",
   "execution_count": 20,
   "metadata": {},
   "outputs": [
    {
     "data": {
      "text/html": [
       "<div>\n",
       "<style scoped>\n",
       "    .dataframe tbody tr th:only-of-type {\n",
       "        vertical-align: middle;\n",
       "    }\n",
       "\n",
       "    .dataframe tbody tr th {\n",
       "        vertical-align: top;\n",
       "    }\n",
       "\n",
       "    .dataframe thead th {\n",
       "        text-align: right;\n",
       "    }\n",
       "</style>\n",
       "<table border=\"1\" class=\"dataframe\">\n",
       "  <thead>\n",
       "    <tr style=\"text-align: right;\">\n",
       "      <th></th>\n",
       "      <th>total_images</th>\n",
       "      <th>last_price</th>\n",
       "      <th>total_area</th>\n",
       "      <th>first_day_exposition</th>\n",
       "      <th>rooms</th>\n",
       "      <th>ceiling_height</th>\n",
       "      <th>floors_total</th>\n",
       "      <th>living_area</th>\n",
       "      <th>floor</th>\n",
       "      <th>is_apartment</th>\n",
       "      <th>...</th>\n",
       "      <th>balcony</th>\n",
       "      <th>locality_name</th>\n",
       "      <th>airports_nearest</th>\n",
       "      <th>cityCenters_nearest</th>\n",
       "      <th>parks_around3000</th>\n",
       "      <th>parks_nearest</th>\n",
       "      <th>ponds_around3000</th>\n",
       "      <th>ponds_nearest</th>\n",
       "      <th>days_exposition</th>\n",
       "      <th>rooms_cat</th>\n",
       "    </tr>\n",
       "  </thead>\n",
       "  <tbody>\n",
       "    <tr>\n",
       "      <td>11575</td>\n",
       "      <td>9</td>\n",
       "      <td>9900000.0</td>\n",
       "      <td>101.0</td>\n",
       "      <td>2016-04-28T00:00:00</td>\n",
       "      <td>3</td>\n",
       "      <td>NaN</td>\n",
       "      <td>33.0</td>\n",
       "      <td>53.0</td>\n",
       "      <td>32</td>\n",
       "      <td>False</td>\n",
       "      <td>...</td>\n",
       "      <td>0.0</td>\n",
       "      <td>Санкт-Петербург</td>\n",
       "      <td>18732.0</td>\n",
       "      <td>20444.0</td>\n",
       "      <td>0.0</td>\n",
       "      <td>NaN</td>\n",
       "      <td>3.0</td>\n",
       "      <td>80.0</td>\n",
       "      <td>53.0</td>\n",
       "      <td>многокомнатные</td>\n",
       "    </tr>\n",
       "  </tbody>\n",
       "</table>\n",
       "<p>1 rows × 23 columns</p>\n",
       "</div>"
      ],
      "text/plain": [
       "       total_images  last_price  total_area first_day_exposition  rooms  \\\n",
       "11575             9   9900000.0       101.0  2016-04-28T00:00:00      3   \n",
       "\n",
       "       ceiling_height  floors_total  living_area  floor is_apartment  ...  \\\n",
       "11575             NaN          33.0         53.0     32        False  ...   \n",
       "\n",
       "       balcony    locality_name  airports_nearest  cityCenters_nearest  \\\n",
       "11575      0.0  Санкт-Петербург           18732.0              20444.0   \n",
       "\n",
       "      parks_around3000  parks_nearest  ponds_around3000  ponds_nearest  \\\n",
       "11575              0.0            NaN               3.0           80.0   \n",
       "\n",
       "       days_exposition       rooms_cat  \n",
       "11575             53.0  многокомнатные  \n",
       "\n",
       "[1 rows x 23 columns]"
      ]
     },
     "execution_count": 20,
     "metadata": {},
     "output_type": "execute_result"
    }
   ],
   "source": [
    "df.query('ceiling_height==\"NaN\"')"
   ]
  },
  {
   "cell_type": "code",
   "execution_count": 21,
   "metadata": {},
   "outputs": [
    {
     "data": {
      "text/plain": [
       "2.8"
      ]
     },
     "execution_count": 21,
     "metadata": {},
     "output_type": "execute_result"
    }
   ],
   "source": [
    "#С помощью query выведем срез , согласно условию и найдем медиану всоты потолоков в этих квартирах:\n",
    "df.query('total_area==101' and 'last_price==9000000')['ceiling_height'].median()"
   ]
  },
  {
   "cell_type": "markdown",
   "metadata": {},
   "source": [
    "Через fillna одно пропущенное значение в ceiling_height заполним данной цифрой 2.8"
   ]
  },
  {
   "cell_type": "code",
   "execution_count": 22,
   "metadata": {},
   "outputs": [
    {
     "data": {
      "text/plain": [
       "0"
      ]
     },
     "execution_count": 22,
     "metadata": {},
     "output_type": "execute_result"
    }
   ],
   "source": [
    "df['ceiling_height']=df['ceiling_height'].fillna(2.8)\n",
    "df['ceiling_height'].isna().sum()"
   ]
  },
  {
   "cell_type": "code",
   "execution_count": 23,
   "metadata": {},
   "outputs": [],
   "source": [
    "#df.loc[(df[\"ceiling_height\"] >= 20) & (df[\"is_apartment\"] == False), \"ceiling_height\"] /= 10"
   ]
  },
  {
   "cell_type": "code",
   "execution_count": 24,
   "metadata": {},
   "outputs": [],
   "source": [
    "#Заменим тип данных столбца first_day_exposition в datetime:\n",
    "df['first_day_exposition']=pd.to_datetime(df['first_day_exposition'], format='%Y-%m-%dT%H:%M:%S')\n"
   ]
  },
  {
   "cell_type": "code",
   "execution_count": 25,
   "metadata": {},
   "outputs": [
    {
     "name": "stdout",
     "output_type": "stream",
     "text": [
      "<class 'pandas.core.frame.DataFrame'>\n",
      "Int64Index: 23565 entries, 0 to 23698\n",
      "Data columns (total 23 columns):\n",
      "total_images            23565 non-null int64\n",
      "last_price              23565 non-null float64\n",
      "total_area              23565 non-null float64\n",
      "first_day_exposition    23565 non-null datetime64[ns]\n",
      "rooms                   23565 non-null int64\n",
      "ceiling_height          23565 non-null float64\n",
      "floors_total            23565 non-null float64\n",
      "living_area             23565 non-null float64\n",
      "floor                   23565 non-null int64\n",
      "is_apartment            2760 non-null object\n",
      "studio                  23565 non-null bool\n",
      "open_plan               23565 non-null bool\n",
      "kitchen_area            23565 non-null float64\n",
      "balcony                 23565 non-null float64\n",
      "locality_name           23565 non-null object\n",
      "airports_nearest        18041 non-null float64\n",
      "cityCenters_nearest     18064 non-null float64\n",
      "parks_around3000        18065 non-null float64\n",
      "parks_nearest           8030 non-null float64\n",
      "ponds_around3000        18065 non-null float64\n",
      "ponds_nearest           9036 non-null float64\n",
      "days_exposition         20394 non-null float64\n",
      "rooms_cat               23565 non-null object\n",
      "dtypes: bool(2), datetime64[ns](1), float64(14), int64(3), object(3)\n",
      "memory usage: 4.0+ MB\n"
     ]
    }
   ],
   "source": [
    "df.info()"
   ]
  },
  {
   "cell_type": "markdown",
   "metadata": {},
   "source": [
    "## Расчёты и добавление результатов в таблицу"
   ]
  },
  {
   "cell_type": "code",
   "execution_count": 26,
   "metadata": {},
   "outputs": [
    {
     "data": {
      "text/html": [
       "<div>\n",
       "<style scoped>\n",
       "    .dataframe tbody tr th:only-of-type {\n",
       "        vertical-align: middle;\n",
       "    }\n",
       "\n",
       "    .dataframe tbody tr th {\n",
       "        vertical-align: top;\n",
       "    }\n",
       "\n",
       "    .dataframe thead th {\n",
       "        text-align: right;\n",
       "    }\n",
       "</style>\n",
       "<table border=\"1\" class=\"dataframe\">\n",
       "  <thead>\n",
       "    <tr style=\"text-align: right;\">\n",
       "      <th></th>\n",
       "      <th>total_images</th>\n",
       "      <th>last_price</th>\n",
       "      <th>total_area</th>\n",
       "      <th>first_day_exposition</th>\n",
       "      <th>rooms</th>\n",
       "      <th>ceiling_height</th>\n",
       "      <th>floors_total</th>\n",
       "      <th>living_area</th>\n",
       "      <th>floor</th>\n",
       "      <th>is_apartment</th>\n",
       "      <th>...</th>\n",
       "      <th>balcony</th>\n",
       "      <th>locality_name</th>\n",
       "      <th>airports_nearest</th>\n",
       "      <th>cityCenters_nearest</th>\n",
       "      <th>parks_around3000</th>\n",
       "      <th>parks_nearest</th>\n",
       "      <th>ponds_around3000</th>\n",
       "      <th>ponds_nearest</th>\n",
       "      <th>days_exposition</th>\n",
       "      <th>rooms_cat</th>\n",
       "    </tr>\n",
       "  </thead>\n",
       "  <tbody>\n",
       "    <tr>\n",
       "      <td>0</td>\n",
       "      <td>20</td>\n",
       "      <td>13000000.0</td>\n",
       "      <td>108.00</td>\n",
       "      <td>2019-03-07</td>\n",
       "      <td>3</td>\n",
       "      <td>2.70</td>\n",
       "      <td>16.0</td>\n",
       "      <td>51.0</td>\n",
       "      <td>8</td>\n",
       "      <td>NaN</td>\n",
       "      <td>...</td>\n",
       "      <td>0.0</td>\n",
       "      <td>Санкт-Петербург</td>\n",
       "      <td>18863.0</td>\n",
       "      <td>16028.0</td>\n",
       "      <td>1.0</td>\n",
       "      <td>482.0</td>\n",
       "      <td>2.0</td>\n",
       "      <td>755.0</td>\n",
       "      <td>NaN</td>\n",
       "      <td>многокомнатные</td>\n",
       "    </tr>\n",
       "    <tr>\n",
       "      <td>1</td>\n",
       "      <td>7</td>\n",
       "      <td>3350000.0</td>\n",
       "      <td>40.40</td>\n",
       "      <td>2018-12-04</td>\n",
       "      <td>1</td>\n",
       "      <td>2.75</td>\n",
       "      <td>11.0</td>\n",
       "      <td>18.6</td>\n",
       "      <td>1</td>\n",
       "      <td>NaN</td>\n",
       "      <td>...</td>\n",
       "      <td>2.0</td>\n",
       "      <td>посёлок Шушары</td>\n",
       "      <td>12817.0</td>\n",
       "      <td>18603.0</td>\n",
       "      <td>0.0</td>\n",
       "      <td>NaN</td>\n",
       "      <td>0.0</td>\n",
       "      <td>NaN</td>\n",
       "      <td>81.0</td>\n",
       "      <td>однокомнатные</td>\n",
       "    </tr>\n",
       "    <tr>\n",
       "      <td>2</td>\n",
       "      <td>10</td>\n",
       "      <td>5196000.0</td>\n",
       "      <td>56.00</td>\n",
       "      <td>2015-08-20</td>\n",
       "      <td>2</td>\n",
       "      <td>2.55</td>\n",
       "      <td>5.0</td>\n",
       "      <td>34.3</td>\n",
       "      <td>4</td>\n",
       "      <td>NaN</td>\n",
       "      <td>...</td>\n",
       "      <td>0.0</td>\n",
       "      <td>Санкт-Петербург</td>\n",
       "      <td>21741.0</td>\n",
       "      <td>13933.0</td>\n",
       "      <td>1.0</td>\n",
       "      <td>90.0</td>\n",
       "      <td>2.0</td>\n",
       "      <td>574.0</td>\n",
       "      <td>558.0</td>\n",
       "      <td>двухкомнатные</td>\n",
       "    </tr>\n",
       "    <tr>\n",
       "      <td>3</td>\n",
       "      <td>0</td>\n",
       "      <td>64900000.0</td>\n",
       "      <td>159.00</td>\n",
       "      <td>2015-07-24</td>\n",
       "      <td>3</td>\n",
       "      <td>2.60</td>\n",
       "      <td>14.0</td>\n",
       "      <td>47.0</td>\n",
       "      <td>9</td>\n",
       "      <td>NaN</td>\n",
       "      <td>...</td>\n",
       "      <td>0.0</td>\n",
       "      <td>Санкт-Петербург</td>\n",
       "      <td>28098.0</td>\n",
       "      <td>6800.0</td>\n",
       "      <td>2.0</td>\n",
       "      <td>84.0</td>\n",
       "      <td>3.0</td>\n",
       "      <td>234.0</td>\n",
       "      <td>424.0</td>\n",
       "      <td>многокомнатные</td>\n",
       "    </tr>\n",
       "    <tr>\n",
       "      <td>4</td>\n",
       "      <td>2</td>\n",
       "      <td>10000000.0</td>\n",
       "      <td>100.00</td>\n",
       "      <td>2018-06-19</td>\n",
       "      <td>2</td>\n",
       "      <td>3.03</td>\n",
       "      <td>14.0</td>\n",
       "      <td>32.0</td>\n",
       "      <td>13</td>\n",
       "      <td>NaN</td>\n",
       "      <td>...</td>\n",
       "      <td>0.0</td>\n",
       "      <td>Санкт-Петербург</td>\n",
       "      <td>31856.0</td>\n",
       "      <td>8098.0</td>\n",
       "      <td>2.0</td>\n",
       "      <td>112.0</td>\n",
       "      <td>1.0</td>\n",
       "      <td>48.0</td>\n",
       "      <td>121.0</td>\n",
       "      <td>двухкомнатные</td>\n",
       "    </tr>\n",
       "    <tr>\n",
       "      <td>...</td>\n",
       "      <td>...</td>\n",
       "      <td>...</td>\n",
       "      <td>...</td>\n",
       "      <td>...</td>\n",
       "      <td>...</td>\n",
       "      <td>...</td>\n",
       "      <td>...</td>\n",
       "      <td>...</td>\n",
       "      <td>...</td>\n",
       "      <td>...</td>\n",
       "      <td>...</td>\n",
       "      <td>...</td>\n",
       "      <td>...</td>\n",
       "      <td>...</td>\n",
       "      <td>...</td>\n",
       "      <td>...</td>\n",
       "      <td>...</td>\n",
       "      <td>...</td>\n",
       "      <td>...</td>\n",
       "      <td>...</td>\n",
       "      <td>...</td>\n",
       "    </tr>\n",
       "    <tr>\n",
       "      <td>23694</td>\n",
       "      <td>9</td>\n",
       "      <td>9700000.0</td>\n",
       "      <td>133.81</td>\n",
       "      <td>2017-03-21</td>\n",
       "      <td>3</td>\n",
       "      <td>3.70</td>\n",
       "      <td>5.0</td>\n",
       "      <td>73.3</td>\n",
       "      <td>3</td>\n",
       "      <td>NaN</td>\n",
       "      <td>...</td>\n",
       "      <td>0.0</td>\n",
       "      <td>Санкт-Петербург</td>\n",
       "      <td>24665.0</td>\n",
       "      <td>4232.0</td>\n",
       "      <td>1.0</td>\n",
       "      <td>796.0</td>\n",
       "      <td>3.0</td>\n",
       "      <td>381.0</td>\n",
       "      <td>NaN</td>\n",
       "      <td>многокомнатные</td>\n",
       "    </tr>\n",
       "    <tr>\n",
       "      <td>23695</td>\n",
       "      <td>14</td>\n",
       "      <td>3100000.0</td>\n",
       "      <td>59.00</td>\n",
       "      <td>2018-01-15</td>\n",
       "      <td>3</td>\n",
       "      <td>2.55</td>\n",
       "      <td>5.0</td>\n",
       "      <td>38.0</td>\n",
       "      <td>4</td>\n",
       "      <td>NaN</td>\n",
       "      <td>...</td>\n",
       "      <td>0.0</td>\n",
       "      <td>Тосно</td>\n",
       "      <td>NaN</td>\n",
       "      <td>NaN</td>\n",
       "      <td>NaN</td>\n",
       "      <td>NaN</td>\n",
       "      <td>NaN</td>\n",
       "      <td>NaN</td>\n",
       "      <td>45.0</td>\n",
       "      <td>многокомнатные</td>\n",
       "    </tr>\n",
       "    <tr>\n",
       "      <td>23696</td>\n",
       "      <td>18</td>\n",
       "      <td>2500000.0</td>\n",
       "      <td>56.70</td>\n",
       "      <td>2018-02-11</td>\n",
       "      <td>2</td>\n",
       "      <td>2.80</td>\n",
       "      <td>3.0</td>\n",
       "      <td>29.7</td>\n",
       "      <td>1</td>\n",
       "      <td>NaN</td>\n",
       "      <td>...</td>\n",
       "      <td>0.0</td>\n",
       "      <td>село Рождествено</td>\n",
       "      <td>NaN</td>\n",
       "      <td>NaN</td>\n",
       "      <td>NaN</td>\n",
       "      <td>NaN</td>\n",
       "      <td>NaN</td>\n",
       "      <td>NaN</td>\n",
       "      <td>NaN</td>\n",
       "      <td>двухкомнатные</td>\n",
       "    </tr>\n",
       "    <tr>\n",
       "      <td>23697</td>\n",
       "      <td>13</td>\n",
       "      <td>11475000.0</td>\n",
       "      <td>76.75</td>\n",
       "      <td>2017-03-28</td>\n",
       "      <td>2</td>\n",
       "      <td>3.00</td>\n",
       "      <td>17.0</td>\n",
       "      <td>30.5</td>\n",
       "      <td>12</td>\n",
       "      <td>NaN</td>\n",
       "      <td>...</td>\n",
       "      <td>2.0</td>\n",
       "      <td>Санкт-Петербург</td>\n",
       "      <td>39140.0</td>\n",
       "      <td>10364.0</td>\n",
       "      <td>2.0</td>\n",
       "      <td>173.0</td>\n",
       "      <td>3.0</td>\n",
       "      <td>196.0</td>\n",
       "      <td>602.0</td>\n",
       "      <td>двухкомнатные</td>\n",
       "    </tr>\n",
       "    <tr>\n",
       "      <td>23698</td>\n",
       "      <td>4</td>\n",
       "      <td>1350000.0</td>\n",
       "      <td>32.30</td>\n",
       "      <td>2017-07-21</td>\n",
       "      <td>1</td>\n",
       "      <td>2.50</td>\n",
       "      <td>5.0</td>\n",
       "      <td>12.3</td>\n",
       "      <td>1</td>\n",
       "      <td>NaN</td>\n",
       "      <td>...</td>\n",
       "      <td>0.0</td>\n",
       "      <td>поселок Новый Учхоз</td>\n",
       "      <td>NaN</td>\n",
       "      <td>NaN</td>\n",
       "      <td>NaN</td>\n",
       "      <td>NaN</td>\n",
       "      <td>NaN</td>\n",
       "      <td>NaN</td>\n",
       "      <td>NaN</td>\n",
       "      <td>однокомнатные</td>\n",
       "    </tr>\n",
       "  </tbody>\n",
       "</table>\n",
       "<p>23565 rows × 23 columns</p>\n",
       "</div>"
      ],
      "text/plain": [
       "       total_images  last_price  total_area first_day_exposition  rooms  \\\n",
       "0                20  13000000.0      108.00           2019-03-07      3   \n",
       "1                 7   3350000.0       40.40           2018-12-04      1   \n",
       "2                10   5196000.0       56.00           2015-08-20      2   \n",
       "3                 0  64900000.0      159.00           2015-07-24      3   \n",
       "4                 2  10000000.0      100.00           2018-06-19      2   \n",
       "...             ...         ...         ...                  ...    ...   \n",
       "23694             9   9700000.0      133.81           2017-03-21      3   \n",
       "23695            14   3100000.0       59.00           2018-01-15      3   \n",
       "23696            18   2500000.0       56.70           2018-02-11      2   \n",
       "23697            13  11475000.0       76.75           2017-03-28      2   \n",
       "23698             4   1350000.0       32.30           2017-07-21      1   \n",
       "\n",
       "       ceiling_height  floors_total  living_area  floor is_apartment  ...  \\\n",
       "0                2.70          16.0         51.0      8          NaN  ...   \n",
       "1                2.75          11.0         18.6      1          NaN  ...   \n",
       "2                2.55           5.0         34.3      4          NaN  ...   \n",
       "3                2.60          14.0         47.0      9          NaN  ...   \n",
       "4                3.03          14.0         32.0     13          NaN  ...   \n",
       "...               ...           ...          ...    ...          ...  ...   \n",
       "23694            3.70           5.0         73.3      3          NaN  ...   \n",
       "23695            2.55           5.0         38.0      4          NaN  ...   \n",
       "23696            2.80           3.0         29.7      1          NaN  ...   \n",
       "23697            3.00          17.0         30.5     12          NaN  ...   \n",
       "23698            2.50           5.0         12.3      1          NaN  ...   \n",
       "\n",
       "       balcony        locality_name  airports_nearest  cityCenters_nearest  \\\n",
       "0          0.0      Санкт-Петербург           18863.0              16028.0   \n",
       "1          2.0       посёлок Шушары           12817.0              18603.0   \n",
       "2          0.0      Санкт-Петербург           21741.0              13933.0   \n",
       "3          0.0      Санкт-Петербург           28098.0               6800.0   \n",
       "4          0.0      Санкт-Петербург           31856.0               8098.0   \n",
       "...        ...                  ...               ...                  ...   \n",
       "23694      0.0      Санкт-Петербург           24665.0               4232.0   \n",
       "23695      0.0                Тосно               NaN                  NaN   \n",
       "23696      0.0     село Рождествено               NaN                  NaN   \n",
       "23697      2.0      Санкт-Петербург           39140.0              10364.0   \n",
       "23698      0.0  поселок Новый Учхоз               NaN                  NaN   \n",
       "\n",
       "      parks_around3000  parks_nearest  ponds_around3000  ponds_nearest  \\\n",
       "0                  1.0          482.0               2.0          755.0   \n",
       "1                  0.0            NaN               0.0            NaN   \n",
       "2                  1.0           90.0               2.0          574.0   \n",
       "3                  2.0           84.0               3.0          234.0   \n",
       "4                  2.0          112.0               1.0           48.0   \n",
       "...                ...            ...               ...            ...   \n",
       "23694              1.0          796.0               3.0          381.0   \n",
       "23695              NaN            NaN               NaN            NaN   \n",
       "23696              NaN            NaN               NaN            NaN   \n",
       "23697              2.0          173.0               3.0          196.0   \n",
       "23698              NaN            NaN               NaN            NaN   \n",
       "\n",
       "       days_exposition       rooms_cat  \n",
       "0                  NaN  многокомнатные  \n",
       "1                 81.0   однокомнатные  \n",
       "2                558.0   двухкомнатные  \n",
       "3                424.0  многокомнатные  \n",
       "4                121.0   двухкомнатные  \n",
       "...                ...             ...  \n",
       "23694              NaN  многокомнатные  \n",
       "23695             45.0  многокомнатные  \n",
       "23696              NaN   двухкомнатные  \n",
       "23697            602.0   двухкомнатные  \n",
       "23698              NaN   однокомнатные  \n",
       "\n",
       "[23565 rows x 23 columns]"
      ]
     },
     "execution_count": 26,
     "metadata": {},
     "output_type": "execute_result"
    }
   ],
   "source": [
    "df"
   ]
  },
  {
   "cell_type": "code",
   "execution_count": 27,
   "metadata": {},
   "outputs": [],
   "source": [
    "#цена за 1 кв.м:\n",
    "df['price_sq_metr']=df['last_price']/df['total_area']"
   ]
  },
  {
   "cell_type": "code",
   "execution_count": 28,
   "metadata": {},
   "outputs": [],
   "source": [
    "#добавим день недели, месяц и год публикации объявления:\n",
    "df['first_day_weekday']=df['first_day_exposition'].dt.weekday \n",
    "df['first_day_month']=df['first_day_exposition'].dt.month \n",
    "df['first_day_year']=df['first_day_exposition'].dt.year "
   ]
  },
  {
   "cell_type": "code",
   "execution_count": 29,
   "metadata": {},
   "outputs": [
    {
     "data": {
      "text/plain": [
       "другой       17326\n",
       "последний     3330\n",
       "первый        2909\n",
       "Name: floor_cat, dtype: int64"
      ]
     },
     "execution_count": 29,
     "metadata": {},
     "output_type": "execute_result"
    }
   ],
   "source": [
    "#напишем функцию, чтобы добавить этаж квартиры; варианты — первый, последний, другой:\n",
    "def floor_definition(df):\n",
    "    if df['floor'] == 1:\n",
    "        return 'первый'\n",
    "    elif (df['floors_total'] == df['floor']) & (df['floor'] != 1):\n",
    "        return 'последний'\n",
    "    else:\n",
    "        return 'другой'\n",
    "df['floor_cat'] = df.apply(floor_definition, axis = 1)\n",
    "df['floor_cat'].value_counts()"
   ]
  },
  {
   "cell_type": "code",
   "execution_count": 30,
   "metadata": {},
   "outputs": [],
   "source": [
    "#Добавим столбцы соотношение жилой к общей площади, а также отношение площади кухни к общей:\n",
    "df['living_ratio']=df['living_area']/df['total_area']\n",
    "df['kitchen_ratio']=df['kitchen_area']/df['total_area']"
   ]
  },
  {
   "cell_type": "markdown",
   "metadata": {},
   "source": [
    "## Исследовательский анализ данных"
   ]
  },
  {
   "cell_type": "markdown",
   "metadata": {},
   "source": [
    "Изучим следующие параметры: площадь, цена, число комнат, высота потолков. Построем гистограмму и диаграмму размаха для каждого параметра.total_area, price_sq_metr,rooms,ceiling_height"
   ]
  },
  {
   "cell_type": "markdown",
   "metadata": {},
   "source": [
    "Построем гистограммы для столбцов total_area, last_price,rooms,ceiling_height.Цену возьмем за 1 кв.м."
   ]
  },
  {
   "cell_type": "code",
   "execution_count": 31,
   "metadata": {
    "scrolled": false
   },
   "outputs": [
    {
     "data": {
      "image/png": "[encoded data removed]",
      "text/plain": [
       "<Figure size 432x288 with 1 Axes>"
      ]
     },
     "metadata": {
      "needs_background": "light"
     },
     "output_type": "display_data"
    }
   ],
   "source": [
    "df['total_area'].hist(range=(0,400), bins=10);\n"
   ]
  },
  {
   "cell_type": "code",
   "execution_count": 32,
   "metadata": {},
   "outputs": [
    {
     "data": {
      "text/plain": [
       "count    23565.000000\n",
       "mean        60.322824\n",
       "std         35.657060\n",
       "min         12.000000\n",
       "25%         40.000000\n",
       "50%         52.000000\n",
       "75%         69.700000\n",
       "max        900.000000\n",
       "Name: total_area, dtype: float64"
      ]
     },
     "execution_count": 32,
     "metadata": {},
     "output_type": "execute_result"
    },
    {
     "data": {
      "image/png": "[encoded data removed]",
      "text/plain": [
       "<Figure size 432x288 with 1 Axes>"
      ]
     },
     "metadata": {
      "needs_background": "light"
     },
     "output_type": "display_data"
    }
   ],
   "source": [
    "df.boxplot('total_area') \n",
    "plt.ylim(-100, 400)\n",
    "df['total_area'].describe()"
   ]
  },
  {
   "cell_type": "markdown",
   "metadata": {},
   "source": [
    "Большая часть значений лежит в диапазоне до 100 кв.м, миниальная площадь 12 кв.м, скорее всего это студии.Выбросов много.Максимальная площадь квартиры 900 кв.м.,что судя по всему не норма.\n",
    "\n"
   ]
  },
  {
   "cell_type": "code",
   "execution_count": 33,
   "metadata": {},
   "outputs": [
    {
     "data": {
      "image/png": "[encoded data removed]",
      "text/plain": [
       "<Figure size 432x288 with 1 Axes>"
      ]
     },
     "metadata": {
      "needs_background": "light"
     },
     "output_type": "display_data"
    }
   ],
   "source": [
    "df['price_sq_metr'].hist(range=(0,100000), bins=10);\n"
   ]
  },
  {
   "cell_type": "code",
   "execution_count": 34,
   "metadata": {},
   "outputs": [
    {
     "data": {
      "text/plain": [
       "count    2.356500e+04\n",
       "mean     9.940584e+04\n",
       "std      5.038943e+04\n",
       "min      1.118349e+02\n",
       "25%      7.656613e+04\n",
       "50%      9.500000e+04\n",
       "75%      1.142132e+05\n",
       "max      1.907500e+06\n",
       "Name: price_sq_metr, dtype: float64"
      ]
     },
     "execution_count": 34,
     "metadata": {},
     "output_type": "execute_result"
    },
    {
     "data": {
      "image/png": "[encoded data removed]",
      "text/plain": [
       "<Figure size 432x288 with 1 Axes>"
      ]
     },
     "metadata": {
      "needs_background": "light"
     },
     "output_type": "display_data"
    }
   ],
   "source": [
    "df.boxplot('price_sq_metr') \n",
    "plt.ylim(0,200000)\n",
    "df['price_sq_metr'].describe()"
   ]
  },
  {
   "cell_type": "markdown",
   "metadata": {},
   "source": [
    "Миниальная цена за 1 квм -11 тыс, что  подозрительно мало и выглядит аномально.Выбросов очень много. В среднем за 1кв.м 99 тыс.руб., что тоже не есть хорошо. Есть квартиры , которые портят всю статистику."
   ]
  },
  {
   "cell_type": "code",
   "execution_count": 35,
   "metadata": {},
   "outputs": [
    {
     "data": {
      "image/png": "[encoded data removed]",
      "text/plain": [
       "<Figure size 432x288 with 1 Axes>"
      ]
     },
     "metadata": {
      "needs_background": "light"
     },
     "output_type": "display_data"
    }
   ],
   "source": [
    "df['rooms'].hist(range=(0,10),bins=10);\n"
   ]
  },
  {
   "cell_type": "code",
   "execution_count": 36,
   "metadata": {},
   "outputs": [
    {
     "data": {
      "text/plain": [
       "count    23565.000000\n",
       "mean         2.070656\n",
       "std          1.078591\n",
       "min          0.000000\n",
       "25%          1.000000\n",
       "50%          2.000000\n",
       "75%          3.000000\n",
       "max         19.000000\n",
       "Name: rooms, dtype: float64"
      ]
     },
     "execution_count": 36,
     "metadata": {},
     "output_type": "execute_result"
    },
    {
     "data": {
      "image/png": "[encoded data removed]",
      "text/plain": [
       "<Figure size 432x288 with 1 Axes>"
      ]
     },
     "metadata": {
      "needs_background": "light"
     },
     "output_type": "display_data"
    }
   ],
   "source": [
    "df.boxplot('rooms') \n",
    "plt.ylim(0, 10)\n",
    "df['rooms'].describe()"
   ]
  },
  {
   "cell_type": "markdown",
   "metadata": {},
   "source": [
    "Большинство значений лежат в диапазоне до 4 комнат. В среднем имеем 2-х комнатные квартиры. миниальное число комнат 0, максимальное 19.\n"
   ]
  },
  {
   "cell_type": "code",
   "execution_count": 37,
   "metadata": {},
   "outputs": [
    {
     "data": {
      "image/png": "[encoded data removed]",
      "text/plain": [
       "<Figure size 432x288 with 1 Axes>"
      ]
     },
     "metadata": {
      "needs_background": "light"
     },
     "output_type": "display_data"
    }
   ],
   "source": [
    "df['ceiling_height'].hist(range=(1,5),bins=10);"
   ]
  },
  {
   "cell_type": "code",
   "execution_count": 38,
   "metadata": {},
   "outputs": [
    {
     "data": {
      "text/plain": [
       "count    23565.000000\n",
       "mean         2.735744\n",
       "std          0.996999\n",
       "min          1.000000\n",
       "25%          2.550000\n",
       "50%          2.650000\n",
       "75%          2.750000\n",
       "max        100.000000\n",
       "Name: ceiling_height, dtype: float64"
      ]
     },
     "execution_count": 38,
     "metadata": {},
     "output_type": "execute_result"
    },
    {
     "data": {
      "image/png": "[encoded data removed]",
      "text/plain": [
       "<Figure size 432x288 with 1 Axes>"
      ]
     },
     "metadata": {
      "needs_background": "light"
     },
     "output_type": "display_data"
    }
   ],
   "source": [
    "df.boxplot('ceiling_height') \n",
    "plt.ylim(0, 5)\n",
    "df['ceiling_height'].describe()"
   ]
  },
  {
   "cell_type": "markdown",
   "metadata": {},
   "source": [
    "Судя по графику , выбросов очень много.Высота потолков 1 м и максимальная высота 100 м, что выглядит аномально. Средняя высота равняется 2,75 м.\n"
   ]
  },
  {
   "cell_type": "markdown",
   "metadata": {},
   "source": [
    "\n",
    "Изучим время продажи квартиры. Построем гистограмму и диаграмму размаха. "
   ]
  },
  {
   "cell_type": "code",
   "execution_count": 39,
   "metadata": {},
   "outputs": [
    {
     "data": {
      "image/png": "[encoded data removed]",
      "text/plain": [
       "<Figure size 432x288 with 1 Axes>"
      ]
     },
     "metadata": {
      "needs_background": "light"
     },
     "output_type": "display_data"
    }
   ],
   "source": [
    "df['days_exposition'].hist(range=(1,1600),bins=10);\n",
    "plt.show()"
   ]
  },
  {
   "cell_type": "code",
   "execution_count": 40,
   "metadata": {},
   "outputs": [
    {
     "data": {
      "text/plain": [
       "count    20394.000000\n",
       "mean       180.741395\n",
       "std        219.732782\n",
       "min          1.000000\n",
       "25%         45.000000\n",
       "50%         95.000000\n",
       "75%        231.000000\n",
       "max       1580.000000\n",
       "Name: days_exposition, dtype: float64"
      ]
     },
     "execution_count": 40,
     "metadata": {},
     "output_type": "execute_result"
    },
    {
     "data": {
      "image/png": "[encoded data removed]",
      "text/plain": [
       "<Figure size 432x288 with 1 Axes>"
      ]
     },
     "metadata": {
      "needs_background": "light"
     },
     "output_type": "display_data"
    }
   ],
   "source": [
    "df.boxplot('days_exposition') \n",
    "plt.ylim(-10, 2000)\n",
    "df['days_exposition'].describe()"
   ]
  },
  {
   "cell_type": "markdown",
   "metadata": {},
   "source": [
    "Большинство значений лежат в диапазоне до 300 дней. В среднем квартиры продаются за 3,5 мес(100 дней).Быстрее всего можно продать квартиры за 1 день, а максимальное время продаж 4 года."
   ]
  },
  {
   "cell_type": "markdown",
   "metadata": {},
   "source": [
    "Напишем функцию , которая будет выдавать на выходе интервалы \"усов\" диаграммы для каждого параметра.Тем самым это поможет определить нормальный интервал значений, а все , что лежит за пределами данных интервалов и будет считаться выбивающимися значениями."
   ]
  },
  {
   "cell_type": "code",
   "execution_count": 41,
   "metadata": {},
   "outputs": [],
   "source": [
    "def normal_interval (column):\n",
    "    describe = df[column].describe()\n",
    "    irq=describe[6]-describe[4] #межквартальный размах\n",
    "    left_value=describe[4]-1.5*irq\n",
    "    right_value=describe[6]+1.5*irq\n",
    "    if left_value<describe[3]:\n",
    "         left_value=describe[3]\n",
    "    if right_value>describe[-1]:\n",
    "        right_value=describe[-1]\n",
    "    return (left_value,right_value)\n",
    "        "
   ]
  },
  {
   "cell_type": "code",
   "execution_count": 42,
   "metadata": {},
   "outputs": [
    {
     "data": {
      "text/plain": [
       "(12.0, 114.25)"
      ]
     },
     "execution_count": 42,
     "metadata": {},
     "output_type": "execute_result"
    }
   ],
   "source": [
    "normal_interval('total_area')"
   ]
  },
  {
   "cell_type": "code",
   "execution_count": 43,
   "metadata": {},
   "outputs": [
    {
     "data": {
      "text/html": [
       "<div>\n",
       "<style scoped>\n",
       "    .dataframe tbody tr th:only-of-type {\n",
       "        vertical-align: middle;\n",
       "    }\n",
       "\n",
       "    .dataframe tbody tr th {\n",
       "        vertical-align: top;\n",
       "    }\n",
       "\n",
       "    .dataframe thead th {\n",
       "        text-align: right;\n",
       "    }\n",
       "</style>\n",
       "<table border=\"1\" class=\"dataframe\">\n",
       "  <thead>\n",
       "    <tr style=\"text-align: right;\">\n",
       "      <th></th>\n",
       "      <th>total_images</th>\n",
       "      <th>last_price</th>\n",
       "      <th>total_area</th>\n",
       "      <th>first_day_exposition</th>\n",
       "      <th>rooms</th>\n",
       "      <th>ceiling_height</th>\n",
       "      <th>floors_total</th>\n",
       "      <th>living_area</th>\n",
       "      <th>floor</th>\n",
       "      <th>is_apartment</th>\n",
       "      <th>...</th>\n",
       "      <th>days_exposition</th>\n",
       "      <th>rooms_cat</th>\n",
       "      <th>price_sq_metr</th>\n",
       "      <th>first_day_weekday</th>\n",
       "      <th>first_day_month</th>\n",
       "      <th>first_day_year</th>\n",
       "      <th>floor_cat</th>\n",
       "      <th>living_ratio</th>\n",
       "      <th>kitchen_ratio</th>\n",
       "      <th>too_large_area</th>\n",
       "    </tr>\n",
       "  </thead>\n",
       "  <tbody>\n",
       "    <tr>\n",
       "      <td>0</td>\n",
       "      <td>20</td>\n",
       "      <td>13000000.0</td>\n",
       "      <td>108.0</td>\n",
       "      <td>2019-03-07</td>\n",
       "      <td>3</td>\n",
       "      <td>2.70</td>\n",
       "      <td>16.0</td>\n",
       "      <td>51.0</td>\n",
       "      <td>8</td>\n",
       "      <td>NaN</td>\n",
       "      <td>...</td>\n",
       "      <td>NaN</td>\n",
       "      <td>многокомнатные</td>\n",
       "      <td>120370.370370</td>\n",
       "      <td>3</td>\n",
       "      <td>3</td>\n",
       "      <td>2019</td>\n",
       "      <td>другой</td>\n",
       "      <td>0.472222</td>\n",
       "      <td>0.231481</td>\n",
       "      <td>False</td>\n",
       "    </tr>\n",
       "    <tr>\n",
       "      <td>1</td>\n",
       "      <td>7</td>\n",
       "      <td>3350000.0</td>\n",
       "      <td>40.4</td>\n",
       "      <td>2018-12-04</td>\n",
       "      <td>1</td>\n",
       "      <td>2.75</td>\n",
       "      <td>11.0</td>\n",
       "      <td>18.6</td>\n",
       "      <td>1</td>\n",
       "      <td>NaN</td>\n",
       "      <td>...</td>\n",
       "      <td>81.0</td>\n",
       "      <td>однокомнатные</td>\n",
       "      <td>82920.792079</td>\n",
       "      <td>1</td>\n",
       "      <td>12</td>\n",
       "      <td>2018</td>\n",
       "      <td>первый</td>\n",
       "      <td>0.460396</td>\n",
       "      <td>0.272277</td>\n",
       "      <td>False</td>\n",
       "    </tr>\n",
       "    <tr>\n",
       "      <td>2</td>\n",
       "      <td>10</td>\n",
       "      <td>5196000.0</td>\n",
       "      <td>56.0</td>\n",
       "      <td>2015-08-20</td>\n",
       "      <td>2</td>\n",
       "      <td>2.55</td>\n",
       "      <td>5.0</td>\n",
       "      <td>34.3</td>\n",
       "      <td>4</td>\n",
       "      <td>NaN</td>\n",
       "      <td>...</td>\n",
       "      <td>558.0</td>\n",
       "      <td>двухкомнатные</td>\n",
       "      <td>92785.714286</td>\n",
       "      <td>3</td>\n",
       "      <td>8</td>\n",
       "      <td>2015</td>\n",
       "      <td>другой</td>\n",
       "      <td>0.612500</td>\n",
       "      <td>0.148214</td>\n",
       "      <td>False</td>\n",
       "    </tr>\n",
       "    <tr>\n",
       "      <td>3</td>\n",
       "      <td>0</td>\n",
       "      <td>64900000.0</td>\n",
       "      <td>159.0</td>\n",
       "      <td>2015-07-24</td>\n",
       "      <td>3</td>\n",
       "      <td>2.60</td>\n",
       "      <td>14.0</td>\n",
       "      <td>47.0</td>\n",
       "      <td>9</td>\n",
       "      <td>NaN</td>\n",
       "      <td>...</td>\n",
       "      <td>424.0</td>\n",
       "      <td>многокомнатные</td>\n",
       "      <td>408176.100629</td>\n",
       "      <td>4</td>\n",
       "      <td>7</td>\n",
       "      <td>2015</td>\n",
       "      <td>другой</td>\n",
       "      <td>0.295597</td>\n",
       "      <td>0.062893</td>\n",
       "      <td>True</td>\n",
       "    </tr>\n",
       "    <tr>\n",
       "      <td>4</td>\n",
       "      <td>2</td>\n",
       "      <td>10000000.0</td>\n",
       "      <td>100.0</td>\n",
       "      <td>2018-06-19</td>\n",
       "      <td>2</td>\n",
       "      <td>3.03</td>\n",
       "      <td>14.0</td>\n",
       "      <td>32.0</td>\n",
       "      <td>13</td>\n",
       "      <td>NaN</td>\n",
       "      <td>...</td>\n",
       "      <td>121.0</td>\n",
       "      <td>двухкомнатные</td>\n",
       "      <td>100000.000000</td>\n",
       "      <td>1</td>\n",
       "      <td>6</td>\n",
       "      <td>2018</td>\n",
       "      <td>другой</td>\n",
       "      <td>0.320000</td>\n",
       "      <td>0.410000</td>\n",
       "      <td>False</td>\n",
       "    </tr>\n",
       "  </tbody>\n",
       "</table>\n",
       "<p>5 rows × 31 columns</p>\n",
       "</div>"
      ],
      "text/plain": [
       "   total_images  last_price  total_area first_day_exposition  rooms  \\\n",
       "0            20  13000000.0       108.0           2019-03-07      3   \n",
       "1             7   3350000.0        40.4           2018-12-04      1   \n",
       "2            10   5196000.0        56.0           2015-08-20      2   \n",
       "3             0  64900000.0       159.0           2015-07-24      3   \n",
       "4             2  10000000.0       100.0           2018-06-19      2   \n",
       "\n",
       "   ceiling_height  floors_total  living_area  floor is_apartment  ...  \\\n",
       "0            2.70          16.0         51.0      8          NaN  ...   \n",
       "1            2.75          11.0         18.6      1          NaN  ...   \n",
       "2            2.55           5.0         34.3      4          NaN  ...   \n",
       "3            2.60          14.0         47.0      9          NaN  ...   \n",
       "4            3.03          14.0         32.0     13          NaN  ...   \n",
       "\n",
       "   days_exposition       rooms_cat  price_sq_metr  first_day_weekday  \\\n",
       "0              NaN  многокомнатные  120370.370370                  3   \n",
       "1             81.0   однокомнатные   82920.792079                  1   \n",
       "2            558.0   двухкомнатные   92785.714286                  3   \n",
       "3            424.0  многокомнатные  408176.100629                  4   \n",
       "4            121.0   двухкомнатные  100000.000000                  1   \n",
       "\n",
       "  first_day_month  first_day_year  floor_cat  living_ratio  kitchen_ratio  \\\n",
       "0               3            2019     другой      0.472222       0.231481   \n",
       "1              12            2018     первый      0.460396       0.272277   \n",
       "2               8            2015     другой      0.612500       0.148214   \n",
       "3               7            2015     другой      0.295597       0.062893   \n",
       "4               6            2018     другой      0.320000       0.410000   \n",
       "\n",
       "   too_large_area  \n",
       "0           False  \n",
       "1           False  \n",
       "2           False  \n",
       "3            True  \n",
       "4           False  \n",
       "\n",
       "[5 rows x 31 columns]"
      ]
     },
     "execution_count": 43,
     "metadata": {},
     "output_type": "execute_result"
    }
   ],
   "source": [
    "#Добавим новые столбцы в таблицу, согласно условию:\n",
    "df['too_large_area'] = df['total_area'] > 114 \n",
    "df.head()"
   ]
  },
  {
   "cell_type": "code",
   "execution_count": 44,
   "metadata": {},
   "outputs": [
    {
     "data": {
      "text/plain": [
       "False    22320\n",
       "True      1245\n",
       "Name: too_large_area, dtype: int64"
      ]
     },
     "execution_count": 44,
     "metadata": {},
     "output_type": "execute_result"
    }
   ],
   "source": [
    "df['too_large_area'].value_counts()"
   ]
  },
  {
   "cell_type": "code",
   "execution_count": 45,
   "metadata": {},
   "outputs": [
    {
     "data": {
      "text/plain": [
       "(20095.516270743254, 170683.80698882308)"
      ]
     },
     "execution_count": 45,
     "metadata": {},
     "output_type": "execute_result"
    }
   ],
   "source": [
    "normal_interval('price_sq_metr')"
   ]
  },
  {
   "cell_type": "code",
   "execution_count": 46,
   "metadata": {},
   "outputs": [
    {
     "data": {
      "text/html": [
       "<div>\n",
       "<style scoped>\n",
       "    .dataframe tbody tr th:only-of-type {\n",
       "        vertical-align: middle;\n",
       "    }\n",
       "\n",
       "    .dataframe tbody tr th {\n",
       "        vertical-align: top;\n",
       "    }\n",
       "\n",
       "    .dataframe thead th {\n",
       "        text-align: right;\n",
       "    }\n",
       "</style>\n",
       "<table border=\"1\" class=\"dataframe\">\n",
       "  <thead>\n",
       "    <tr style=\"text-align: right;\">\n",
       "      <th></th>\n",
       "      <th>total_images</th>\n",
       "      <th>last_price</th>\n",
       "      <th>total_area</th>\n",
       "      <th>first_day_exposition</th>\n",
       "      <th>rooms</th>\n",
       "      <th>ceiling_height</th>\n",
       "      <th>floors_total</th>\n",
       "      <th>living_area</th>\n",
       "      <th>floor</th>\n",
       "      <th>is_apartment</th>\n",
       "      <th>...</th>\n",
       "      <th>price_sq_metr</th>\n",
       "      <th>first_day_weekday</th>\n",
       "      <th>first_day_month</th>\n",
       "      <th>first_day_year</th>\n",
       "      <th>floor_cat</th>\n",
       "      <th>living_ratio</th>\n",
       "      <th>kitchen_ratio</th>\n",
       "      <th>too_large_area</th>\n",
       "      <th>too_expensive_price</th>\n",
       "      <th>too_chip_price</th>\n",
       "    </tr>\n",
       "  </thead>\n",
       "  <tbody>\n",
       "    <tr>\n",
       "      <td>0</td>\n",
       "      <td>20</td>\n",
       "      <td>13000000.0</td>\n",
       "      <td>108.0</td>\n",
       "      <td>2019-03-07</td>\n",
       "      <td>3</td>\n",
       "      <td>2.70</td>\n",
       "      <td>16.0</td>\n",
       "      <td>51.0</td>\n",
       "      <td>8</td>\n",
       "      <td>NaN</td>\n",
       "      <td>...</td>\n",
       "      <td>120370.370370</td>\n",
       "      <td>3</td>\n",
       "      <td>3</td>\n",
       "      <td>2019</td>\n",
       "      <td>другой</td>\n",
       "      <td>0.472222</td>\n",
       "      <td>0.231481</td>\n",
       "      <td>False</td>\n",
       "      <td>False</td>\n",
       "      <td>False</td>\n",
       "    </tr>\n",
       "    <tr>\n",
       "      <td>1</td>\n",
       "      <td>7</td>\n",
       "      <td>3350000.0</td>\n",
       "      <td>40.4</td>\n",
       "      <td>2018-12-04</td>\n",
       "      <td>1</td>\n",
       "      <td>2.75</td>\n",
       "      <td>11.0</td>\n",
       "      <td>18.6</td>\n",
       "      <td>1</td>\n",
       "      <td>NaN</td>\n",
       "      <td>...</td>\n",
       "      <td>82920.792079</td>\n",
       "      <td>1</td>\n",
       "      <td>12</td>\n",
       "      <td>2018</td>\n",
       "      <td>первый</td>\n",
       "      <td>0.460396</td>\n",
       "      <td>0.272277</td>\n",
       "      <td>False</td>\n",
       "      <td>False</td>\n",
       "      <td>False</td>\n",
       "    </tr>\n",
       "    <tr>\n",
       "      <td>2</td>\n",
       "      <td>10</td>\n",
       "      <td>5196000.0</td>\n",
       "      <td>56.0</td>\n",
       "      <td>2015-08-20</td>\n",
       "      <td>2</td>\n",
       "      <td>2.55</td>\n",
       "      <td>5.0</td>\n",
       "      <td>34.3</td>\n",
       "      <td>4</td>\n",
       "      <td>NaN</td>\n",
       "      <td>...</td>\n",
       "      <td>92785.714286</td>\n",
       "      <td>3</td>\n",
       "      <td>8</td>\n",
       "      <td>2015</td>\n",
       "      <td>другой</td>\n",
       "      <td>0.612500</td>\n",
       "      <td>0.148214</td>\n",
       "      <td>False</td>\n",
       "      <td>False</td>\n",
       "      <td>False</td>\n",
       "    </tr>\n",
       "    <tr>\n",
       "      <td>3</td>\n",
       "      <td>0</td>\n",
       "      <td>64900000.0</td>\n",
       "      <td>159.0</td>\n",
       "      <td>2015-07-24</td>\n",
       "      <td>3</td>\n",
       "      <td>2.60</td>\n",
       "      <td>14.0</td>\n",
       "      <td>47.0</td>\n",
       "      <td>9</td>\n",
       "      <td>NaN</td>\n",
       "      <td>...</td>\n",
       "      <td>408176.100629</td>\n",
       "      <td>4</td>\n",
       "      <td>7</td>\n",
       "      <td>2015</td>\n",
       "      <td>другой</td>\n",
       "      <td>0.295597</td>\n",
       "      <td>0.062893</td>\n",
       "      <td>True</td>\n",
       "      <td>True</td>\n",
       "      <td>False</td>\n",
       "    </tr>\n",
       "    <tr>\n",
       "      <td>4</td>\n",
       "      <td>2</td>\n",
       "      <td>10000000.0</td>\n",
       "      <td>100.0</td>\n",
       "      <td>2018-06-19</td>\n",
       "      <td>2</td>\n",
       "      <td>3.03</td>\n",
       "      <td>14.0</td>\n",
       "      <td>32.0</td>\n",
       "      <td>13</td>\n",
       "      <td>NaN</td>\n",
       "      <td>...</td>\n",
       "      <td>100000.000000</td>\n",
       "      <td>1</td>\n",
       "      <td>6</td>\n",
       "      <td>2018</td>\n",
       "      <td>другой</td>\n",
       "      <td>0.320000</td>\n",
       "      <td>0.410000</td>\n",
       "      <td>False</td>\n",
       "      <td>False</td>\n",
       "      <td>False</td>\n",
       "    </tr>\n",
       "  </tbody>\n",
       "</table>\n",
       "<p>5 rows × 33 columns</p>\n",
       "</div>"
      ],
      "text/plain": [
       "   total_images  last_price  total_area first_day_exposition  rooms  \\\n",
       "0            20  13000000.0       108.0           2019-03-07      3   \n",
       "1             7   3350000.0        40.4           2018-12-04      1   \n",
       "2            10   5196000.0        56.0           2015-08-20      2   \n",
       "3             0  64900000.0       159.0           2015-07-24      3   \n",
       "4             2  10000000.0       100.0           2018-06-19      2   \n",
       "\n",
       "   ceiling_height  floors_total  living_area  floor is_apartment  ...  \\\n",
       "0            2.70          16.0         51.0      8          NaN  ...   \n",
       "1            2.75          11.0         18.6      1          NaN  ...   \n",
       "2            2.55           5.0         34.3      4          NaN  ...   \n",
       "3            2.60          14.0         47.0      9          NaN  ...   \n",
       "4            3.03          14.0         32.0     13          NaN  ...   \n",
       "\n",
       "   price_sq_metr  first_day_weekday  first_day_month  first_day_year  \\\n",
       "0  120370.370370                  3                3            2019   \n",
       "1   82920.792079                  1               12            2018   \n",
       "2   92785.714286                  3                8            2015   \n",
       "3  408176.100629                  4                7            2015   \n",
       "4  100000.000000                  1                6            2018   \n",
       "\n",
       "  floor_cat  living_ratio  kitchen_ratio  too_large_area  too_expensive_price  \\\n",
       "0    другой      0.472222       0.231481           False                False   \n",
       "1    первый      0.460396       0.272277           False                False   \n",
       "2    другой      0.612500       0.148214           False                False   \n",
       "3    другой      0.295597       0.062893            True                 True   \n",
       "4    другой      0.320000       0.410000           False                False   \n",
       "\n",
       "   too_chip_price  \n",
       "0           False  \n",
       "1           False  \n",
       "2           False  \n",
       "3           False  \n",
       "4           False  \n",
       "\n",
       "[5 rows x 33 columns]"
      ]
     },
     "execution_count": 46,
     "metadata": {},
     "output_type": "execute_result"
    }
   ],
   "source": [
    "#Добавим новые столбцы в таблицу, согласно условию:\n",
    "df['too_expensive_price'] = df['price_sq_metr'] >= 170683\n",
    "df['too_chip_price'] = df['price_sq_metr'] <= 20095\n",
    "df.head()"
   ]
  },
  {
   "cell_type": "code",
   "execution_count": 47,
   "metadata": {},
   "outputs": [
    {
     "data": {
      "text/plain": [
       "(0.0, 6.0)"
      ]
     },
     "execution_count": 47,
     "metadata": {},
     "output_type": "execute_result"
    }
   ],
   "source": [
    "normal_interval('rooms')"
   ]
  },
  {
   "cell_type": "code",
   "execution_count": 48,
   "metadata": {},
   "outputs": [
    {
     "data": {
      "text/html": [
       "<div>\n",
       "<style scoped>\n",
       "    .dataframe tbody tr th:only-of-type {\n",
       "        vertical-align: middle;\n",
       "    }\n",
       "\n",
       "    .dataframe tbody tr th {\n",
       "        vertical-align: top;\n",
       "    }\n",
       "\n",
       "    .dataframe thead th {\n",
       "        text-align: right;\n",
       "    }\n",
       "</style>\n",
       "<table border=\"1\" class=\"dataframe\">\n",
       "  <thead>\n",
       "    <tr style=\"text-align: right;\">\n",
       "      <th></th>\n",
       "      <th>total_images</th>\n",
       "      <th>last_price</th>\n",
       "      <th>total_area</th>\n",
       "      <th>first_day_exposition</th>\n",
       "      <th>rooms</th>\n",
       "      <th>ceiling_height</th>\n",
       "      <th>floors_total</th>\n",
       "      <th>living_area</th>\n",
       "      <th>floor</th>\n",
       "      <th>is_apartment</th>\n",
       "      <th>...</th>\n",
       "      <th>first_day_weekday</th>\n",
       "      <th>first_day_month</th>\n",
       "      <th>first_day_year</th>\n",
       "      <th>floor_cat</th>\n",
       "      <th>living_ratio</th>\n",
       "      <th>kitchen_ratio</th>\n",
       "      <th>too_large_area</th>\n",
       "      <th>too_expensive_price</th>\n",
       "      <th>too_chip_price</th>\n",
       "      <th>too_many_rooms</th>\n",
       "    </tr>\n",
       "  </thead>\n",
       "  <tbody>\n",
       "    <tr>\n",
       "      <td>0</td>\n",
       "      <td>20</td>\n",
       "      <td>13000000.0</td>\n",
       "      <td>108.0</td>\n",
       "      <td>2019-03-07</td>\n",
       "      <td>3</td>\n",
       "      <td>2.70</td>\n",
       "      <td>16.0</td>\n",
       "      <td>51.0</td>\n",
       "      <td>8</td>\n",
       "      <td>NaN</td>\n",
       "      <td>...</td>\n",
       "      <td>3</td>\n",
       "      <td>3</td>\n",
       "      <td>2019</td>\n",
       "      <td>другой</td>\n",
       "      <td>0.472222</td>\n",
       "      <td>0.231481</td>\n",
       "      <td>False</td>\n",
       "      <td>False</td>\n",
       "      <td>False</td>\n",
       "      <td>False</td>\n",
       "    </tr>\n",
       "    <tr>\n",
       "      <td>1</td>\n",
       "      <td>7</td>\n",
       "      <td>3350000.0</td>\n",
       "      <td>40.4</td>\n",
       "      <td>2018-12-04</td>\n",
       "      <td>1</td>\n",
       "      <td>2.75</td>\n",
       "      <td>11.0</td>\n",
       "      <td>18.6</td>\n",
       "      <td>1</td>\n",
       "      <td>NaN</td>\n",
       "      <td>...</td>\n",
       "      <td>1</td>\n",
       "      <td>12</td>\n",
       "      <td>2018</td>\n",
       "      <td>первый</td>\n",
       "      <td>0.460396</td>\n",
       "      <td>0.272277</td>\n",
       "      <td>False</td>\n",
       "      <td>False</td>\n",
       "      <td>False</td>\n",
       "      <td>False</td>\n",
       "    </tr>\n",
       "    <tr>\n",
       "      <td>2</td>\n",
       "      <td>10</td>\n",
       "      <td>5196000.0</td>\n",
       "      <td>56.0</td>\n",
       "      <td>2015-08-20</td>\n",
       "      <td>2</td>\n",
       "      <td>2.55</td>\n",
       "      <td>5.0</td>\n",
       "      <td>34.3</td>\n",
       "      <td>4</td>\n",
       "      <td>NaN</td>\n",
       "      <td>...</td>\n",
       "      <td>3</td>\n",
       "      <td>8</td>\n",
       "      <td>2015</td>\n",
       "      <td>другой</td>\n",
       "      <td>0.612500</td>\n",
       "      <td>0.148214</td>\n",
       "      <td>False</td>\n",
       "      <td>False</td>\n",
       "      <td>False</td>\n",
       "      <td>False</td>\n",
       "    </tr>\n",
       "    <tr>\n",
       "      <td>3</td>\n",
       "      <td>0</td>\n",
       "      <td>64900000.0</td>\n",
       "      <td>159.0</td>\n",
       "      <td>2015-07-24</td>\n",
       "      <td>3</td>\n",
       "      <td>2.60</td>\n",
       "      <td>14.0</td>\n",
       "      <td>47.0</td>\n",
       "      <td>9</td>\n",
       "      <td>NaN</td>\n",
       "      <td>...</td>\n",
       "      <td>4</td>\n",
       "      <td>7</td>\n",
       "      <td>2015</td>\n",
       "      <td>другой</td>\n",
       "      <td>0.295597</td>\n",
       "      <td>0.062893</td>\n",
       "      <td>True</td>\n",
       "      <td>True</td>\n",
       "      <td>False</td>\n",
       "      <td>False</td>\n",
       "    </tr>\n",
       "    <tr>\n",
       "      <td>4</td>\n",
       "      <td>2</td>\n",
       "      <td>10000000.0</td>\n",
       "      <td>100.0</td>\n",
       "      <td>2018-06-19</td>\n",
       "      <td>2</td>\n",
       "      <td>3.03</td>\n",
       "      <td>14.0</td>\n",
       "      <td>32.0</td>\n",
       "      <td>13</td>\n",
       "      <td>NaN</td>\n",
       "      <td>...</td>\n",
       "      <td>1</td>\n",
       "      <td>6</td>\n",
       "      <td>2018</td>\n",
       "      <td>другой</td>\n",
       "      <td>0.320000</td>\n",
       "      <td>0.410000</td>\n",
       "      <td>False</td>\n",
       "      <td>False</td>\n",
       "      <td>False</td>\n",
       "      <td>False</td>\n",
       "    </tr>\n",
       "  </tbody>\n",
       "</table>\n",
       "<p>5 rows × 34 columns</p>\n",
       "</div>"
      ],
      "text/plain": [
       "   total_images  last_price  total_area first_day_exposition  rooms  \\\n",
       "0            20  13000000.0       108.0           2019-03-07      3   \n",
       "1             7   3350000.0        40.4           2018-12-04      1   \n",
       "2            10   5196000.0        56.0           2015-08-20      2   \n",
       "3             0  64900000.0       159.0           2015-07-24      3   \n",
       "4             2  10000000.0       100.0           2018-06-19      2   \n",
       "\n",
       "   ceiling_height  floors_total  living_area  floor is_apartment  ...  \\\n",
       "0            2.70          16.0         51.0      8          NaN  ...   \n",
       "1            2.75          11.0         18.6      1          NaN  ...   \n",
       "2            2.55           5.0         34.3      4          NaN  ...   \n",
       "3            2.60          14.0         47.0      9          NaN  ...   \n",
       "4            3.03          14.0         32.0     13          NaN  ...   \n",
       "\n",
       "   first_day_weekday  first_day_month  first_day_year  floor_cat living_ratio  \\\n",
       "0                  3                3            2019     другой     0.472222   \n",
       "1                  1               12            2018     первый     0.460396   \n",
       "2                  3                8            2015     другой     0.612500   \n",
       "3                  4                7            2015     другой     0.295597   \n",
       "4                  1                6            2018     другой     0.320000   \n",
       "\n",
       "   kitchen_ratio  too_large_area  too_expensive_price  too_chip_price  \\\n",
       "0       0.231481           False                False           False   \n",
       "1       0.272277           False                False           False   \n",
       "2       0.148214           False                False           False   \n",
       "3       0.062893            True                 True           False   \n",
       "4       0.410000           False                False           False   \n",
       "\n",
       "   too_many_rooms  \n",
       "0           False  \n",
       "1           False  \n",
       "2           False  \n",
       "3           False  \n",
       "4           False  \n",
       "\n",
       "[5 rows x 34 columns]"
      ]
     },
     "execution_count": 48,
     "metadata": {},
     "output_type": "execute_result"
    }
   ],
   "source": [
    "#Добавим новые столбцы в таблицу, согласно условию:\n",
    "df['too_many_rooms'] = df['rooms'] >= 6\n",
    "df.head()"
   ]
  },
  {
   "cell_type": "code",
   "execution_count": 49,
   "metadata": {},
   "outputs": [
    {
     "data": {
      "text/plain": [
       "(2.2499999999999996, 3.0500000000000003)"
      ]
     },
     "execution_count": 49,
     "metadata": {},
     "output_type": "execute_result"
    }
   ],
   "source": [
    "normal_interval('ceiling_height')"
   ]
  },
  {
   "cell_type": "code",
   "execution_count": 50,
   "metadata": {},
   "outputs": [
    {
     "data": {
      "text/html": [
       "<div>\n",
       "<style scoped>\n",
       "    .dataframe tbody tr th:only-of-type {\n",
       "        vertical-align: middle;\n",
       "    }\n",
       "\n",
       "    .dataframe tbody tr th {\n",
       "        vertical-align: top;\n",
       "    }\n",
       "\n",
       "    .dataframe thead th {\n",
       "        text-align: right;\n",
       "    }\n",
       "</style>\n",
       "<table border=\"1\" class=\"dataframe\">\n",
       "  <thead>\n",
       "    <tr style=\"text-align: right;\">\n",
       "      <th></th>\n",
       "      <th>total_images</th>\n",
       "      <th>last_price</th>\n",
       "      <th>total_area</th>\n",
       "      <th>first_day_exposition</th>\n",
       "      <th>rooms</th>\n",
       "      <th>ceiling_height</th>\n",
       "      <th>floors_total</th>\n",
       "      <th>living_area</th>\n",
       "      <th>floor</th>\n",
       "      <th>is_apartment</th>\n",
       "      <th>...</th>\n",
       "      <th>first_day_year</th>\n",
       "      <th>floor_cat</th>\n",
       "      <th>living_ratio</th>\n",
       "      <th>kitchen_ratio</th>\n",
       "      <th>too_large_area</th>\n",
       "      <th>too_expensive_price</th>\n",
       "      <th>too_chip_price</th>\n",
       "      <th>too_many_rooms</th>\n",
       "      <th>too_high_ceiling_height</th>\n",
       "      <th>too_low_ceiling_height</th>\n",
       "    </tr>\n",
       "  </thead>\n",
       "  <tbody>\n",
       "    <tr>\n",
       "      <td>0</td>\n",
       "      <td>20</td>\n",
       "      <td>13000000.0</td>\n",
       "      <td>108.0</td>\n",
       "      <td>2019-03-07</td>\n",
       "      <td>3</td>\n",
       "      <td>2.70</td>\n",
       "      <td>16.0</td>\n",
       "      <td>51.0</td>\n",
       "      <td>8</td>\n",
       "      <td>NaN</td>\n",
       "      <td>...</td>\n",
       "      <td>2019</td>\n",
       "      <td>другой</td>\n",
       "      <td>0.472222</td>\n",
       "      <td>0.231481</td>\n",
       "      <td>False</td>\n",
       "      <td>False</td>\n",
       "      <td>False</td>\n",
       "      <td>False</td>\n",
       "      <td>False</td>\n",
       "      <td>False</td>\n",
       "    </tr>\n",
       "    <tr>\n",
       "      <td>1</td>\n",
       "      <td>7</td>\n",
       "      <td>3350000.0</td>\n",
       "      <td>40.4</td>\n",
       "      <td>2018-12-04</td>\n",
       "      <td>1</td>\n",
       "      <td>2.75</td>\n",
       "      <td>11.0</td>\n",
       "      <td>18.6</td>\n",
       "      <td>1</td>\n",
       "      <td>NaN</td>\n",
       "      <td>...</td>\n",
       "      <td>2018</td>\n",
       "      <td>первый</td>\n",
       "      <td>0.460396</td>\n",
       "      <td>0.272277</td>\n",
       "      <td>False</td>\n",
       "      <td>False</td>\n",
       "      <td>False</td>\n",
       "      <td>False</td>\n",
       "      <td>False</td>\n",
       "      <td>False</td>\n",
       "    </tr>\n",
       "    <tr>\n",
       "      <td>2</td>\n",
       "      <td>10</td>\n",
       "      <td>5196000.0</td>\n",
       "      <td>56.0</td>\n",
       "      <td>2015-08-20</td>\n",
       "      <td>2</td>\n",
       "      <td>2.55</td>\n",
       "      <td>5.0</td>\n",
       "      <td>34.3</td>\n",
       "      <td>4</td>\n",
       "      <td>NaN</td>\n",
       "      <td>...</td>\n",
       "      <td>2015</td>\n",
       "      <td>другой</td>\n",
       "      <td>0.612500</td>\n",
       "      <td>0.148214</td>\n",
       "      <td>False</td>\n",
       "      <td>False</td>\n",
       "      <td>False</td>\n",
       "      <td>False</td>\n",
       "      <td>False</td>\n",
       "      <td>False</td>\n",
       "    </tr>\n",
       "    <tr>\n",
       "      <td>3</td>\n",
       "      <td>0</td>\n",
       "      <td>64900000.0</td>\n",
       "      <td>159.0</td>\n",
       "      <td>2015-07-24</td>\n",
       "      <td>3</td>\n",
       "      <td>2.60</td>\n",
       "      <td>14.0</td>\n",
       "      <td>47.0</td>\n",
       "      <td>9</td>\n",
       "      <td>NaN</td>\n",
       "      <td>...</td>\n",
       "      <td>2015</td>\n",
       "      <td>другой</td>\n",
       "      <td>0.295597</td>\n",
       "      <td>0.062893</td>\n",
       "      <td>True</td>\n",
       "      <td>True</td>\n",
       "      <td>False</td>\n",
       "      <td>False</td>\n",
       "      <td>False</td>\n",
       "      <td>False</td>\n",
       "    </tr>\n",
       "    <tr>\n",
       "      <td>4</td>\n",
       "      <td>2</td>\n",
       "      <td>10000000.0</td>\n",
       "      <td>100.0</td>\n",
       "      <td>2018-06-19</td>\n",
       "      <td>2</td>\n",
       "      <td>3.03</td>\n",
       "      <td>14.0</td>\n",
       "      <td>32.0</td>\n",
       "      <td>13</td>\n",
       "      <td>NaN</td>\n",
       "      <td>...</td>\n",
       "      <td>2018</td>\n",
       "      <td>другой</td>\n",
       "      <td>0.320000</td>\n",
       "      <td>0.410000</td>\n",
       "      <td>False</td>\n",
       "      <td>False</td>\n",
       "      <td>False</td>\n",
       "      <td>False</td>\n",
       "      <td>False</td>\n",
       "      <td>False</td>\n",
       "    </tr>\n",
       "  </tbody>\n",
       "</table>\n",
       "<p>5 rows × 36 columns</p>\n",
       "</div>"
      ],
      "text/plain": [
       "   total_images  last_price  total_area first_day_exposition  rooms  \\\n",
       "0            20  13000000.0       108.0           2019-03-07      3   \n",
       "1             7   3350000.0        40.4           2018-12-04      1   \n",
       "2            10   5196000.0        56.0           2015-08-20      2   \n",
       "3             0  64900000.0       159.0           2015-07-24      3   \n",
       "4             2  10000000.0       100.0           2018-06-19      2   \n",
       "\n",
       "   ceiling_height  floors_total  living_area  floor is_apartment  ...  \\\n",
       "0            2.70          16.0         51.0      8          NaN  ...   \n",
       "1            2.75          11.0         18.6      1          NaN  ...   \n",
       "2            2.55           5.0         34.3      4          NaN  ...   \n",
       "3            2.60          14.0         47.0      9          NaN  ...   \n",
       "4            3.03          14.0         32.0     13          NaN  ...   \n",
       "\n",
       "   first_day_year  floor_cat  living_ratio  kitchen_ratio too_large_area  \\\n",
       "0            2019     другой      0.472222       0.231481          False   \n",
       "1            2018     первый      0.460396       0.272277          False   \n",
       "2            2015     другой      0.612500       0.148214          False   \n",
       "3            2015     другой      0.295597       0.062893           True   \n",
       "4            2018     другой      0.320000       0.410000          False   \n",
       "\n",
       "   too_expensive_price  too_chip_price  too_many_rooms  \\\n",
       "0                False           False           False   \n",
       "1                False           False           False   \n",
       "2                False           False           False   \n",
       "3                 True           False           False   \n",
       "4                False           False           False   \n",
       "\n",
       "   too_high_ceiling_height  too_low_ceiling_height  \n",
       "0                    False                   False  \n",
       "1                    False                   False  \n",
       "2                    False                   False  \n",
       "3                    False                   False  \n",
       "4                    False                   False  \n",
       "\n",
       "[5 rows x 36 columns]"
      ]
     },
     "execution_count": 50,
     "metadata": {},
     "output_type": "execute_result"
    }
   ],
   "source": [
    "#Добавим новые столбцы в таблицу, согласно условию:\n",
    "df['too_high_ceiling_height'] = df['ceiling_height'] > 3.05\n",
    "df['too_low_ceiling_height'] = df['ceiling_height'] < 2.25\n",
    "df.head()"
   ]
  },
  {
   "cell_type": "code",
   "execution_count": 51,
   "metadata": {},
   "outputs": [
    {
     "data": {
      "text/plain": [
       "(1.0, 510.0)"
      ]
     },
     "execution_count": 51,
     "metadata": {},
     "output_type": "execute_result"
    }
   ],
   "source": [
    "normal_interval('days_exposition')"
   ]
  },
  {
   "cell_type": "code",
   "execution_count": 52,
   "metadata": {},
   "outputs": [
    {
     "data": {
      "text/html": [
       "<div>\n",
       "<style scoped>\n",
       "    .dataframe tbody tr th:only-of-type {\n",
       "        vertical-align: middle;\n",
       "    }\n",
       "\n",
       "    .dataframe tbody tr th {\n",
       "        vertical-align: top;\n",
       "    }\n",
       "\n",
       "    .dataframe thead th {\n",
       "        text-align: right;\n",
       "    }\n",
       "</style>\n",
       "<table border=\"1\" class=\"dataframe\">\n",
       "  <thead>\n",
       "    <tr style=\"text-align: right;\">\n",
       "      <th></th>\n",
       "      <th>total_images</th>\n",
       "      <th>last_price</th>\n",
       "      <th>total_area</th>\n",
       "      <th>first_day_exposition</th>\n",
       "      <th>rooms</th>\n",
       "      <th>ceiling_height</th>\n",
       "      <th>floors_total</th>\n",
       "      <th>living_area</th>\n",
       "      <th>floor</th>\n",
       "      <th>is_apartment</th>\n",
       "      <th>...</th>\n",
       "      <th>living_ratio</th>\n",
       "      <th>kitchen_ratio</th>\n",
       "      <th>too_large_area</th>\n",
       "      <th>too_expensive_price</th>\n",
       "      <th>too_chip_price</th>\n",
       "      <th>too_many_rooms</th>\n",
       "      <th>too_high_ceiling_height</th>\n",
       "      <th>too_low_ceiling_height</th>\n",
       "      <th>too_slow</th>\n",
       "      <th>too_fast</th>\n",
       "    </tr>\n",
       "  </thead>\n",
       "  <tbody>\n",
       "    <tr>\n",
       "      <td>0</td>\n",
       "      <td>20</td>\n",
       "      <td>13000000.0</td>\n",
       "      <td>108.0</td>\n",
       "      <td>2019-03-07</td>\n",
       "      <td>3</td>\n",
       "      <td>2.70</td>\n",
       "      <td>16.0</td>\n",
       "      <td>51.0</td>\n",
       "      <td>8</td>\n",
       "      <td>NaN</td>\n",
       "      <td>...</td>\n",
       "      <td>0.472222</td>\n",
       "      <td>0.231481</td>\n",
       "      <td>False</td>\n",
       "      <td>False</td>\n",
       "      <td>False</td>\n",
       "      <td>False</td>\n",
       "      <td>False</td>\n",
       "      <td>False</td>\n",
       "      <td>False</td>\n",
       "      <td>False</td>\n",
       "    </tr>\n",
       "    <tr>\n",
       "      <td>1</td>\n",
       "      <td>7</td>\n",
       "      <td>3350000.0</td>\n",
       "      <td>40.4</td>\n",
       "      <td>2018-12-04</td>\n",
       "      <td>1</td>\n",
       "      <td>2.75</td>\n",
       "      <td>11.0</td>\n",
       "      <td>18.6</td>\n",
       "      <td>1</td>\n",
       "      <td>NaN</td>\n",
       "      <td>...</td>\n",
       "      <td>0.460396</td>\n",
       "      <td>0.272277</td>\n",
       "      <td>False</td>\n",
       "      <td>False</td>\n",
       "      <td>False</td>\n",
       "      <td>False</td>\n",
       "      <td>False</td>\n",
       "      <td>False</td>\n",
       "      <td>False</td>\n",
       "      <td>False</td>\n",
       "    </tr>\n",
       "    <tr>\n",
       "      <td>2</td>\n",
       "      <td>10</td>\n",
       "      <td>5196000.0</td>\n",
       "      <td>56.0</td>\n",
       "      <td>2015-08-20</td>\n",
       "      <td>2</td>\n",
       "      <td>2.55</td>\n",
       "      <td>5.0</td>\n",
       "      <td>34.3</td>\n",
       "      <td>4</td>\n",
       "      <td>NaN</td>\n",
       "      <td>...</td>\n",
       "      <td>0.612500</td>\n",
       "      <td>0.148214</td>\n",
       "      <td>False</td>\n",
       "      <td>False</td>\n",
       "      <td>False</td>\n",
       "      <td>False</td>\n",
       "      <td>False</td>\n",
       "      <td>False</td>\n",
       "      <td>True</td>\n",
       "      <td>False</td>\n",
       "    </tr>\n",
       "    <tr>\n",
       "      <td>3</td>\n",
       "      <td>0</td>\n",
       "      <td>64900000.0</td>\n",
       "      <td>159.0</td>\n",
       "      <td>2015-07-24</td>\n",
       "      <td>3</td>\n",
       "      <td>2.60</td>\n",
       "      <td>14.0</td>\n",
       "      <td>47.0</td>\n",
       "      <td>9</td>\n",
       "      <td>NaN</td>\n",
       "      <td>...</td>\n",
       "      <td>0.295597</td>\n",
       "      <td>0.062893</td>\n",
       "      <td>True</td>\n",
       "      <td>True</td>\n",
       "      <td>False</td>\n",
       "      <td>False</td>\n",
       "      <td>False</td>\n",
       "      <td>False</td>\n",
       "      <td>False</td>\n",
       "      <td>False</td>\n",
       "    </tr>\n",
       "    <tr>\n",
       "      <td>4</td>\n",
       "      <td>2</td>\n",
       "      <td>10000000.0</td>\n",
       "      <td>100.0</td>\n",
       "      <td>2018-06-19</td>\n",
       "      <td>2</td>\n",
       "      <td>3.03</td>\n",
       "      <td>14.0</td>\n",
       "      <td>32.0</td>\n",
       "      <td>13</td>\n",
       "      <td>NaN</td>\n",
       "      <td>...</td>\n",
       "      <td>0.320000</td>\n",
       "      <td>0.410000</td>\n",
       "      <td>False</td>\n",
       "      <td>False</td>\n",
       "      <td>False</td>\n",
       "      <td>False</td>\n",
       "      <td>False</td>\n",
       "      <td>False</td>\n",
       "      <td>False</td>\n",
       "      <td>False</td>\n",
       "    </tr>\n",
       "  </tbody>\n",
       "</table>\n",
       "<p>5 rows × 38 columns</p>\n",
       "</div>"
      ],
      "text/plain": [
       "   total_images  last_price  total_area first_day_exposition  rooms  \\\n",
       "0            20  13000000.0       108.0           2019-03-07      3   \n",
       "1             7   3350000.0        40.4           2018-12-04      1   \n",
       "2            10   5196000.0        56.0           2015-08-20      2   \n",
       "3             0  64900000.0       159.0           2015-07-24      3   \n",
       "4             2  10000000.0       100.0           2018-06-19      2   \n",
       "\n",
       "   ceiling_height  floors_total  living_area  floor is_apartment  ...  \\\n",
       "0            2.70          16.0         51.0      8          NaN  ...   \n",
       "1            2.75          11.0         18.6      1          NaN  ...   \n",
       "2            2.55           5.0         34.3      4          NaN  ...   \n",
       "3            2.60          14.0         47.0      9          NaN  ...   \n",
       "4            3.03          14.0         32.0     13          NaN  ...   \n",
       "\n",
       "   living_ratio  kitchen_ratio  too_large_area  too_expensive_price  \\\n",
       "0      0.472222       0.231481           False                False   \n",
       "1      0.460396       0.272277           False                False   \n",
       "2      0.612500       0.148214           False                False   \n",
       "3      0.295597       0.062893            True                 True   \n",
       "4      0.320000       0.410000           False                False   \n",
       "\n",
       "  too_chip_price  too_many_rooms  too_high_ceiling_height  \\\n",
       "0          False           False                    False   \n",
       "1          False           False                    False   \n",
       "2          False           False                    False   \n",
       "3          False           False                    False   \n",
       "4          False           False                    False   \n",
       "\n",
       "   too_low_ceiling_height  too_slow  too_fast  \n",
       "0                   False     False     False  \n",
       "1                   False     False     False  \n",
       "2                   False      True     False  \n",
       "3                   False     False     False  \n",
       "4                   False     False     False  \n",
       "\n",
       "[5 rows x 38 columns]"
      ]
     },
     "execution_count": 52,
     "metadata": {},
     "output_type": "execute_result"
    }
   ],
   "source": [
    "#Добавим новые столбцы в таблицу, согласно условию:\n",
    "df['too_slow'] = df['days_exposition'] >= 510\n",
    "df['too_fast'] = df['days_exposition'] < 1\n",
    "df.head()"
   ]
  },
  {
   "cell_type": "markdown",
   "metadata": {},
   "source": [
    "Удалим редкие и выбивающиеся значения"
   ]
  },
  {
   "cell_type": "code",
   "execution_count": 53,
   "metadata": {},
   "outputs": [],
   "source": [
    "df.drop(df[df['too_large_area'] == True].index, inplace=True)\n",
    "df.drop(df[df['too_expensive_price'] == True].index, inplace=True)\n",
    "df.drop(df[df['too_chip_price'] == True].index, inplace=True)\n",
    "df.drop(df[df['too_many_rooms'] == True].index, inplace=True)\n",
    "df.drop(df[df['too_high_ceiling_height'] == True].index, inplace=True)\n",
    "df.drop(df[df['too_low_ceiling_height'] == True].index, inplace=True)\n",
    "df.drop(df[df['too_slow'] == True].index, inplace=True)\n",
    "df.drop(df[df['too_fast'] == True].index, inplace=True)\n"
   ]
  },
  {
   "cell_type": "code",
   "execution_count": 54,
   "metadata": {},
   "outputs": [
    {
     "data": {
      "text/html": [
       "<div>\n",
       "<style scoped>\n",
       "    .dataframe tbody tr th:only-of-type {\n",
       "        vertical-align: middle;\n",
       "    }\n",
       "\n",
       "    .dataframe tbody tr th {\n",
       "        vertical-align: top;\n",
       "    }\n",
       "\n",
       "    .dataframe thead th {\n",
       "        text-align: right;\n",
       "    }\n",
       "</style>\n",
       "<table border=\"1\" class=\"dataframe\">\n",
       "  <thead>\n",
       "    <tr style=\"text-align: right;\">\n",
       "      <th></th>\n",
       "      <th>total_images</th>\n",
       "      <th>last_price</th>\n",
       "      <th>total_area</th>\n",
       "      <th>first_day_exposition</th>\n",
       "      <th>rooms</th>\n",
       "      <th>ceiling_height</th>\n",
       "      <th>floors_total</th>\n",
       "      <th>living_area</th>\n",
       "      <th>floor</th>\n",
       "      <th>is_apartment</th>\n",
       "      <th>...</th>\n",
       "      <th>living_ratio</th>\n",
       "      <th>kitchen_ratio</th>\n",
       "      <th>too_large_area</th>\n",
       "      <th>too_expensive_price</th>\n",
       "      <th>too_chip_price</th>\n",
       "      <th>too_many_rooms</th>\n",
       "      <th>too_high_ceiling_height</th>\n",
       "      <th>too_low_ceiling_height</th>\n",
       "      <th>too_slow</th>\n",
       "      <th>too_fast</th>\n",
       "    </tr>\n",
       "  </thead>\n",
       "  <tbody>\n",
       "    <tr>\n",
       "      <td>0</td>\n",
       "      <td>20</td>\n",
       "      <td>13000000.0</td>\n",
       "      <td>108.0</td>\n",
       "      <td>2019-03-07</td>\n",
       "      <td>3</td>\n",
       "      <td>2.70</td>\n",
       "      <td>16.0</td>\n",
       "      <td>51.0</td>\n",
       "      <td>8</td>\n",
       "      <td>NaN</td>\n",
       "      <td>...</td>\n",
       "      <td>0.472222</td>\n",
       "      <td>0.231481</td>\n",
       "      <td>False</td>\n",
       "      <td>False</td>\n",
       "      <td>False</td>\n",
       "      <td>False</td>\n",
       "      <td>False</td>\n",
       "      <td>False</td>\n",
       "      <td>False</td>\n",
       "      <td>False</td>\n",
       "    </tr>\n",
       "    <tr>\n",
       "      <td>1</td>\n",
       "      <td>7</td>\n",
       "      <td>3350000.0</td>\n",
       "      <td>40.4</td>\n",
       "      <td>2018-12-04</td>\n",
       "      <td>1</td>\n",
       "      <td>2.75</td>\n",
       "      <td>11.0</td>\n",
       "      <td>18.6</td>\n",
       "      <td>1</td>\n",
       "      <td>NaN</td>\n",
       "      <td>...</td>\n",
       "      <td>0.460396</td>\n",
       "      <td>0.272277</td>\n",
       "      <td>False</td>\n",
       "      <td>False</td>\n",
       "      <td>False</td>\n",
       "      <td>False</td>\n",
       "      <td>False</td>\n",
       "      <td>False</td>\n",
       "      <td>False</td>\n",
       "      <td>False</td>\n",
       "    </tr>\n",
       "    <tr>\n",
       "      <td>4</td>\n",
       "      <td>2</td>\n",
       "      <td>10000000.0</td>\n",
       "      <td>100.0</td>\n",
       "      <td>2018-06-19</td>\n",
       "      <td>2</td>\n",
       "      <td>3.03</td>\n",
       "      <td>14.0</td>\n",
       "      <td>32.0</td>\n",
       "      <td>13</td>\n",
       "      <td>NaN</td>\n",
       "      <td>...</td>\n",
       "      <td>0.320000</td>\n",
       "      <td>0.410000</td>\n",
       "      <td>False</td>\n",
       "      <td>False</td>\n",
       "      <td>False</td>\n",
       "      <td>False</td>\n",
       "      <td>False</td>\n",
       "      <td>False</td>\n",
       "      <td>False</td>\n",
       "      <td>False</td>\n",
       "    </tr>\n",
       "    <tr>\n",
       "      <td>5</td>\n",
       "      <td>10</td>\n",
       "      <td>2890000.0</td>\n",
       "      <td>30.4</td>\n",
       "      <td>2018-09-10</td>\n",
       "      <td>1</td>\n",
       "      <td>2.65</td>\n",
       "      <td>12.0</td>\n",
       "      <td>14.4</td>\n",
       "      <td>5</td>\n",
       "      <td>NaN</td>\n",
       "      <td>...</td>\n",
       "      <td>0.473684</td>\n",
       "      <td>0.299342</td>\n",
       "      <td>False</td>\n",
       "      <td>False</td>\n",
       "      <td>False</td>\n",
       "      <td>False</td>\n",
       "      <td>False</td>\n",
       "      <td>False</td>\n",
       "      <td>False</td>\n",
       "      <td>False</td>\n",
       "    </tr>\n",
       "    <tr>\n",
       "      <td>6</td>\n",
       "      <td>6</td>\n",
       "      <td>3700000.0</td>\n",
       "      <td>37.3</td>\n",
       "      <td>2017-11-02</td>\n",
       "      <td>1</td>\n",
       "      <td>2.66</td>\n",
       "      <td>26.0</td>\n",
       "      <td>10.6</td>\n",
       "      <td>6</td>\n",
       "      <td>NaN</td>\n",
       "      <td>...</td>\n",
       "      <td>0.284182</td>\n",
       "      <td>0.386059</td>\n",
       "      <td>False</td>\n",
       "      <td>False</td>\n",
       "      <td>False</td>\n",
       "      <td>False</td>\n",
       "      <td>False</td>\n",
       "      <td>False</td>\n",
       "      <td>False</td>\n",
       "      <td>False</td>\n",
       "    </tr>\n",
       "    <tr>\n",
       "      <td>...</td>\n",
       "      <td>...</td>\n",
       "      <td>...</td>\n",
       "      <td>...</td>\n",
       "      <td>...</td>\n",
       "      <td>...</td>\n",
       "      <td>...</td>\n",
       "      <td>...</td>\n",
       "      <td>...</td>\n",
       "      <td>...</td>\n",
       "      <td>...</td>\n",
       "      <td>...</td>\n",
       "      <td>...</td>\n",
       "      <td>...</td>\n",
       "      <td>...</td>\n",
       "      <td>...</td>\n",
       "      <td>...</td>\n",
       "      <td>...</td>\n",
       "      <td>...</td>\n",
       "      <td>...</td>\n",
       "      <td>...</td>\n",
       "      <td>...</td>\n",
       "    </tr>\n",
       "    <tr>\n",
       "      <td>23692</td>\n",
       "      <td>2</td>\n",
       "      <td>1350000.0</td>\n",
       "      <td>30.0</td>\n",
       "      <td>2017-07-07</td>\n",
       "      <td>1</td>\n",
       "      <td>2.55</td>\n",
       "      <td>5.0</td>\n",
       "      <td>17.5</td>\n",
       "      <td>4</td>\n",
       "      <td>NaN</td>\n",
       "      <td>...</td>\n",
       "      <td>0.583333</td>\n",
       "      <td>0.200000</td>\n",
       "      <td>False</td>\n",
       "      <td>False</td>\n",
       "      <td>False</td>\n",
       "      <td>False</td>\n",
       "      <td>False</td>\n",
       "      <td>False</td>\n",
       "      <td>False</td>\n",
       "      <td>False</td>\n",
       "    </tr>\n",
       "    <tr>\n",
       "      <td>23693</td>\n",
       "      <td>9</td>\n",
       "      <td>4600000.0</td>\n",
       "      <td>62.4</td>\n",
       "      <td>2016-08-05</td>\n",
       "      <td>3</td>\n",
       "      <td>2.60</td>\n",
       "      <td>9.0</td>\n",
       "      <td>40.0</td>\n",
       "      <td>8</td>\n",
       "      <td>NaN</td>\n",
       "      <td>...</td>\n",
       "      <td>0.641026</td>\n",
       "      <td>0.128205</td>\n",
       "      <td>False</td>\n",
       "      <td>False</td>\n",
       "      <td>False</td>\n",
       "      <td>False</td>\n",
       "      <td>False</td>\n",
       "      <td>False</td>\n",
       "      <td>False</td>\n",
       "      <td>False</td>\n",
       "    </tr>\n",
       "    <tr>\n",
       "      <td>23695</td>\n",
       "      <td>14</td>\n",
       "      <td>3100000.0</td>\n",
       "      <td>59.0</td>\n",
       "      <td>2018-01-15</td>\n",
       "      <td>3</td>\n",
       "      <td>2.55</td>\n",
       "      <td>5.0</td>\n",
       "      <td>38.0</td>\n",
       "      <td>4</td>\n",
       "      <td>NaN</td>\n",
       "      <td>...</td>\n",
       "      <td>0.644068</td>\n",
       "      <td>0.144068</td>\n",
       "      <td>False</td>\n",
       "      <td>False</td>\n",
       "      <td>False</td>\n",
       "      <td>False</td>\n",
       "      <td>False</td>\n",
       "      <td>False</td>\n",
       "      <td>False</td>\n",
       "      <td>False</td>\n",
       "    </tr>\n",
       "    <tr>\n",
       "      <td>23696</td>\n",
       "      <td>18</td>\n",
       "      <td>2500000.0</td>\n",
       "      <td>56.7</td>\n",
       "      <td>2018-02-11</td>\n",
       "      <td>2</td>\n",
       "      <td>2.80</td>\n",
       "      <td>3.0</td>\n",
       "      <td>29.7</td>\n",
       "      <td>1</td>\n",
       "      <td>NaN</td>\n",
       "      <td>...</td>\n",
       "      <td>0.523810</td>\n",
       "      <td>0.153439</td>\n",
       "      <td>False</td>\n",
       "      <td>False</td>\n",
       "      <td>False</td>\n",
       "      <td>False</td>\n",
       "      <td>False</td>\n",
       "      <td>False</td>\n",
       "      <td>False</td>\n",
       "      <td>False</td>\n",
       "    </tr>\n",
       "    <tr>\n",
       "      <td>23698</td>\n",
       "      <td>4</td>\n",
       "      <td>1350000.0</td>\n",
       "      <td>32.3</td>\n",
       "      <td>2017-07-21</td>\n",
       "      <td>1</td>\n",
       "      <td>2.50</td>\n",
       "      <td>5.0</td>\n",
       "      <td>12.3</td>\n",
       "      <td>1</td>\n",
       "      <td>NaN</td>\n",
       "      <td>...</td>\n",
       "      <td>0.380805</td>\n",
       "      <td>0.278638</td>\n",
       "      <td>False</td>\n",
       "      <td>False</td>\n",
       "      <td>False</td>\n",
       "      <td>False</td>\n",
       "      <td>False</td>\n",
       "      <td>False</td>\n",
       "      <td>False</td>\n",
       "      <td>False</td>\n",
       "    </tr>\n",
       "  </tbody>\n",
       "</table>\n",
       "<p>19294 rows × 38 columns</p>\n",
       "</div>"
      ],
      "text/plain": [
       "       total_images  last_price  total_area first_day_exposition  rooms  \\\n",
       "0                20  13000000.0       108.0           2019-03-07      3   \n",
       "1                 7   3350000.0        40.4           2018-12-04      1   \n",
       "4                 2  10000000.0       100.0           2018-06-19      2   \n",
       "5                10   2890000.0        30.4           2018-09-10      1   \n",
       "6                 6   3700000.0        37.3           2017-11-02      1   \n",
       "...             ...         ...         ...                  ...    ...   \n",
       "23692             2   1350000.0        30.0           2017-07-07      1   \n",
       "23693             9   4600000.0        62.4           2016-08-05      3   \n",
       "23695            14   3100000.0        59.0           2018-01-15      3   \n",
       "23696            18   2500000.0        56.7           2018-02-11      2   \n",
       "23698             4   1350000.0        32.3           2017-07-21      1   \n",
       "\n",
       "       ceiling_height  floors_total  living_area  floor is_apartment  ...  \\\n",
       "0                2.70          16.0         51.0      8          NaN  ...   \n",
       "1                2.75          11.0         18.6      1          NaN  ...   \n",
       "4                3.03          14.0         32.0     13          NaN  ...   \n",
       "5                2.65          12.0         14.4      5          NaN  ...   \n",
       "6                2.66          26.0         10.6      6          NaN  ...   \n",
       "...               ...           ...          ...    ...          ...  ...   \n",
       "23692            2.55           5.0         17.5      4          NaN  ...   \n",
       "23693            2.60           9.0         40.0      8          NaN  ...   \n",
       "23695            2.55           5.0         38.0      4          NaN  ...   \n",
       "23696            2.80           3.0         29.7      1          NaN  ...   \n",
       "23698            2.50           5.0         12.3      1          NaN  ...   \n",
       "\n",
       "       living_ratio  kitchen_ratio  too_large_area  too_expensive_price  \\\n",
       "0          0.472222       0.231481           False                False   \n",
       "1          0.460396       0.272277           False                False   \n",
       "4          0.320000       0.410000           False                False   \n",
       "5          0.473684       0.299342           False                False   \n",
       "6          0.284182       0.386059           False                False   \n",
       "...             ...            ...             ...                  ...   \n",
       "23692      0.583333       0.200000           False                False   \n",
       "23693      0.641026       0.128205           False                False   \n",
       "23695      0.644068       0.144068           False                False   \n",
       "23696      0.523810       0.153439           False                False   \n",
       "23698      0.380805       0.278638           False                False   \n",
       "\n",
       "      too_chip_price  too_many_rooms  too_high_ceiling_height  \\\n",
       "0              False           False                    False   \n",
       "1              False           False                    False   \n",
       "4              False           False                    False   \n",
       "5              False           False                    False   \n",
       "6              False           False                    False   \n",
       "...              ...             ...                      ...   \n",
       "23692          False           False                    False   \n",
       "23693          False           False                    False   \n",
       "23695          False           False                    False   \n",
       "23696          False           False                    False   \n",
       "23698          False           False                    False   \n",
       "\n",
       "       too_low_ceiling_height  too_slow  too_fast  \n",
       "0                       False     False     False  \n",
       "1                       False     False     False  \n",
       "4                       False     False     False  \n",
       "5                       False     False     False  \n",
       "6                       False     False     False  \n",
       "...                       ...       ...       ...  \n",
       "23692                   False     False     False  \n",
       "23693                   False     False     False  \n",
       "23695                   False     False     False  \n",
       "23696                   False     False     False  \n",
       "23698                   False     False     False  \n",
       "\n",
       "[19294 rows x 38 columns]"
      ]
     },
     "execution_count": 54,
     "metadata": {},
     "output_type": "execute_result"
    }
   ],
   "source": [
    "df"
   ]
  },
  {
   "cell_type": "markdown",
   "metadata": {},
   "source": [
    "Какие факторы больше всего влияют на стоимость квартиры? Изучите, зависит ли цена от площади, числа комнат, удалённости от центра. Изучите зависимость цены от того, на каком этаже расположена квартира: первом, последнем или другом. Также изучите зависимость от даты размещения: дня недели, месяца и года."
   ]
  },
  {
   "cell_type": "code",
   "execution_count": 55,
   "metadata": {},
   "outputs": [
    {
     "data": {
      "text/plain": [
       "<matplotlib.axes._subplots.AxesSubplot at 0x7fc2867afcd0>"
      ]
     },
     "execution_count": 55,
     "metadata": {},
     "output_type": "execute_result"
    },
    {
     "data": {
      "image/png": "[encoded data removed]",
      "text/plain": [
       "<Figure size 432x288 with 1 Axes>"
      ]
     },
     "metadata": {
      "needs_background": "light"
     },
     "output_type": "display_data"
    }
   ],
   "source": [
    "# построим диаграмму и изучим зависимость площади и стоимости квартир:\n",
    "df \\\n",
    "    .pivot_table(index='total_area', values='price_sq_metr') \\\n",
    "    .reset_index() \\\n",
    "    .plot(x='total_area', y='price_sq_metr', kind='scatter', grid=True)"
   ]
  },
  {
   "cell_type": "code",
   "execution_count": 56,
   "metadata": {},
   "outputs": [
    {
     "data": {
      "text/plain": [
       "0.01913042456646681"
      ]
     },
     "execution_count": 56,
     "metadata": {},
     "output_type": "execute_result"
    }
   ],
   "source": [
    "#посчитаем кофф корреляции:\n",
    "df['total_area'].corr(df['price_sq_metr'])"
   ]
  },
  {
   "cell_type": "markdown",
   "metadata": {},
   "source": [
    "Коэффициент корреляции близок к 0, можно сказать , что связи нет между площадью квартир и стоимостью квартир."
   ]
  },
  {
   "cell_type": "code",
   "execution_count": 57,
   "metadata": {},
   "outputs": [
    {
     "data": {
      "text/plain": [
       "<matplotlib.axes._subplots.AxesSubplot at 0x7fc28671d7d0>"
      ]
     },
     "execution_count": 57,
     "metadata": {},
     "output_type": "execute_result"
    },
    {
     "data": {
      "image/png": "[encoded data removed]",
      "text/plain": [
       "<Figure size 432x288 with 1 Axes>"
      ]
     },
     "metadata": {
      "needs_background": "light"
     },
     "output_type": "display_data"
    }
   ],
   "source": [
    "# построим диаграмму и изучим зависимость кол-ва комнат и стоимости квартир:\n",
    "df \\\n",
    "    .pivot_table(index='rooms', values='price_sq_metr') \\\n",
    "    .reset_index() \\\n",
    "    .plot(x='rooms', y='price_sq_metr', kind='scatter', grid=True)"
   ]
  },
  {
   "cell_type": "code",
   "execution_count": 58,
   "metadata": {},
   "outputs": [
    {
     "data": {
      "text/plain": [
       "-0.17555445880084447"
      ]
     },
     "execution_count": 58,
     "metadata": {},
     "output_type": "execute_result"
    }
   ],
   "source": [
    "#посчитаем кофф корреляции:\n",
    "df['rooms'].corr(df['price_sq_metr'])"
   ]
  },
  {
   "cell_type": "markdown",
   "metadata": {},
   "source": [
    "Отрицательный Коэффициент корреляции, связь есть, но не такая сильная.\n",
    "Хотя по графику видим четкую отрицательную взаимосвязь, с увиличением колич-ва комнат стоимость квартир снижается. "
   ]
  },
  {
   "cell_type": "markdown",
   "metadata": {},
   "source": [
    "<div class=\"alert alert-success\">\n",
    "<b>Комментарий ревьюера:</b>☀️\n",
    "    \n",
    "Наверное всё же не квартир, а квадратного метра. Может быть сосвсем многокомнатные квартиры кроме своей площади имеют определенные элитные атрибуты, более дорогой ремонт, элитный жк.</div>\n"
   ]
  },
  {
   "cell_type": "code",
   "execution_count": 59,
   "metadata": {},
   "outputs": [
    {
     "data": {
      "text/plain": [
       "<matplotlib.axes._subplots.AxesSubplot at 0x7fc2867f7390>"
      ]
     },
     "execution_count": 59,
     "metadata": {},
     "output_type": "execute_result"
    },
    {
     "data": {
      "image/png": "[encoded data removed]",
      "text/plain": [
       "<Figure size 432x288 with 1 Axes>"
      ]
     },
     "metadata": {
      "needs_background": "light"
     },
     "output_type": "display_data"
    }
   ],
   "source": [
    "# построим диаграмму и изучим зависимость удалённости от центра и стоимости квартир:\n",
    "df \\\n",
    "    .pivot_table(index='cityCenters_nearest', values='price_sq_metr') \\\n",
    "    .reset_index() \\\n",
    "    .plot(x='cityCenters_nearest', y='price_sq_metr',kind='scatter', grid=True)"
   ]
  },
  {
   "cell_type": "code",
   "execution_count": 60,
   "metadata": {},
   "outputs": [
    {
     "data": {
      "text/plain": [
       "-0.398862633801528"
      ]
     },
     "execution_count": 60,
     "metadata": {},
     "output_type": "execute_result"
    }
   ],
   "source": [
    "#посчитаем кофф корреляции:\n",
    "df['cityCenters_nearest'].corr(df['price_sq_metr'])"
   ]
  },
  {
   "cell_type": "markdown",
   "metadata": {},
   "source": [
    "Также имеем отрицательный Коэффициент корреляции, связь есть, но не такая сильная.\n",
    "Судя по графику, стоимость квартир снижается, если квартира расположена дальше от центра города."
   ]
  },
  {
   "cell_type": "code",
   "execution_count": 61,
   "metadata": {
    "scrolled": false
   },
   "outputs": [
    {
     "name": "stderr",
     "output_type": "stream",
     "text": [
      "/opt/conda/lib/python3.7/site-packages/numpy/core/_asarray.py:83: VisibleDeprecationWarning: Creating an ndarray from ragged nested sequences (which is a list-or-tuple of lists-or-tuples-or ndarrays with different lengths or shapes) is deprecated. If you meant to do this, you must specify 'dtype=object' when creating the ndarray\n",
      "  return array(a, dtype, copy=False, order=order)\n"
     ]
    },
    {
     "data": {
      "image/png": "[encoded data removed]",
      "text/plain": [
       "<Figure size 432x288 with 1 Axes>"
      ]
     },
     "metadata": {
      "needs_background": "light"
     },
     "output_type": "display_data"
    }
   ],
   "source": [
    "# построим диаграмму и изучим зависимость этажности квартир и стоимости квартир:\n",
    "df.boxplot('price_sq_metr', by='floor_cat');"
   ]
  },
  {
   "cell_type": "code",
   "execution_count": 62,
   "metadata": {},
   "outputs": [
    {
     "data": {
      "text/html": [
       "<div>\n",
       "<style scoped>\n",
       "    .dataframe tbody tr th:only-of-type {\n",
       "        vertical-align: middle;\n",
       "    }\n",
       "\n",
       "    .dataframe tbody tr th {\n",
       "        vertical-align: top;\n",
       "    }\n",
       "\n",
       "    .dataframe thead th {\n",
       "        text-align: right;\n",
       "    }\n",
       "</style>\n",
       "<table border=\"1\" class=\"dataframe\">\n",
       "  <thead>\n",
       "    <tr style=\"text-align: right;\">\n",
       "      <th></th>\n",
       "      <th>price_sq_metr</th>\n",
       "    </tr>\n",
       "    <tr>\n",
       "      <th>floor_cat</th>\n",
       "      <th></th>\n",
       "    </tr>\n",
       "  </thead>\n",
       "  <tbody>\n",
       "    <tr>\n",
       "      <td>другой</td>\n",
       "      <td>96227.553721</td>\n",
       "    </tr>\n",
       "    <tr>\n",
       "      <td>последний</td>\n",
       "      <td>83718.150199</td>\n",
       "    </tr>\n",
       "    <tr>\n",
       "      <td>первый</td>\n",
       "      <td>78852.760297</td>\n",
       "    </tr>\n",
       "  </tbody>\n",
       "</table>\n",
       "</div>"
      ],
      "text/plain": [
       "           price_sq_metr\n",
       "floor_cat               \n",
       "другой      96227.553721\n",
       "последний   83718.150199\n",
       "первый      78852.760297"
      ]
     },
     "execution_count": 62,
     "metadata": {},
     "output_type": "execute_result"
    }
   ],
   "source": [
    "#посмотрим есть ли зависимость между этажностью квартиры и стоимостью квартиры:\n",
    "pivot_table_floor_cat=df.pivot_table(index='floor_cat', values='price_sq_metr', aggfunc='mean')\n",
    "\n",
    "pivot_table_floor_cat.sort_values('price_sq_metr', ascending=False)"
   ]
  },
  {
   "cell_type": "markdown",
   "metadata": {},
   "source": [
    "\n",
    "Судя по графику, действительно, стоимость квартир ниже, если квартира расположена на первых этажах и на последних.Видимо многие предпочитают покупать квартиры , где то посередине.\n"
   ]
  },
  {
   "cell_type": "code",
   "execution_count": 63,
   "metadata": {},
   "outputs": [
    {
     "data": {
      "text/plain": [
       "<matplotlib.axes._subplots.AxesSubplot at 0x7fc286aef810>"
      ]
     },
     "execution_count": 63,
     "metadata": {},
     "output_type": "execute_result"
    },
    {
     "data": {
      "image/png": "[encoded data removed]",
      "text/plain": [
       "<Figure size 432x288 with 1 Axes>"
      ]
     },
     "metadata": {
      "needs_background": "light"
     },
     "output_type": "display_data"
    }
   ],
   "source": [
    "# построим диаграмму и изучим зависимость дня недели продажи и стоимости квартир:\n",
    "df \\\n",
    "    .pivot_table(index='first_day_weekday', values='price_sq_metr') \\\n",
    "    .reset_index() \\\n",
    "    .plot(x='first_day_weekday', y='price_sq_metr', grid=True)"
   ]
  },
  {
   "cell_type": "code",
   "execution_count": 64,
   "metadata": {},
   "outputs": [
    {
     "data": {
      "text/plain": [
       "-0.008466954979164082"
      ]
     },
     "execution_count": 64,
     "metadata": {},
     "output_type": "execute_result"
    }
   ],
   "source": [
    "#посчитаем кофф корреляции:\n",
    "df['first_day_weekday'].corr(df['price_sq_metr'])"
   ]
  },
  {
   "cell_type": "markdown",
   "metadata": {},
   "source": [
    "Согласно коэфф Пирсона, Связи практически нет между днем недели продаж и стоимостью квартир."
   ]
  },
  {
   "cell_type": "code",
   "execution_count": 65,
   "metadata": {
    "scrolled": true
   },
   "outputs": [
    {
     "data": {
      "text/plain": [
       "<matplotlib.axes._subplots.AxesSubplot at 0x7fc286bca2d0>"
      ]
     },
     "execution_count": 65,
     "metadata": {},
     "output_type": "execute_result"
    },
    {
     "data": {
      "image/png": "[encoded data removed]",
      "text/plain": [
       "<Figure size 432x288 with 1 Axes>"
      ]
     },
     "metadata": {
      "needs_background": "light"
     },
     "output_type": "display_data"
    }
   ],
   "source": [
    "# построим диаграмму и изучим зависимость месяца продажи и стоимости квартир:\n",
    "df \\\n",
    "    .pivot_table(index='first_day_month', values='price_sq_metr') \\\n",
    "    .reset_index() \\\n",
    "    .plot(x='first_day_month', y='price_sq_metr', grid=True)"
   ]
  },
  {
   "cell_type": "code",
   "execution_count": 66,
   "metadata": {},
   "outputs": [
    {
     "data": {
      "text/plain": [
       "-0.0033580851317720926"
      ]
     },
     "execution_count": 66,
     "metadata": {},
     "output_type": "execute_result"
    }
   ],
   "source": [
    "#посчитаем кофф корреляции:\n",
    "df['first_day_month'].corr(df['price_sq_metr'])"
   ]
  },
  {
   "cell_type": "markdown",
   "metadata": {},
   "source": [
    "Согласно коэфф Пирсона, Связи практически нет между месяцем продаж и стоимостью квартир."
   ]
  },
  {
   "cell_type": "code",
   "execution_count": 67,
   "metadata": {},
   "outputs": [
    {
     "data": {
      "text/plain": [
       "<matplotlib.axes._subplots.AxesSubplot at 0x7fc287306b10>"
      ]
     },
     "execution_count": 67,
     "metadata": {},
     "output_type": "execute_result"
    },
    {
     "data": {
      "image/png": "[encoded data removed]",
      "text/plain": [
       "<Figure size 432x288 with 1 Axes>"
      ]
     },
     "metadata": {
      "needs_background": "light"
     },
     "output_type": "display_data"
    }
   ],
   "source": [
    "# построим диаграмму и изучим зависимость года продаж и стоимости квартир:\n",
    "df \\\n",
    "    .pivot_table(index='first_day_year', values='price_sq_metr') \\\n",
    "    .reset_index() \\\n",
    "    .plot(x='first_day_year', y='price_sq_metr', grid=True)"
   ]
  },
  {
   "cell_type": "code",
   "execution_count": 68,
   "metadata": {},
   "outputs": [
    {
     "data": {
      "text/plain": [
       "0.08719676834607201"
      ]
     },
     "execution_count": 68,
     "metadata": {},
     "output_type": "execute_result"
    }
   ],
   "source": [
    "#посчитаем кофф корреляции:\n",
    "df['first_day_year'].corr(df['price_sq_metr'])"
   ]
  },
  {
   "cell_type": "markdown",
   "metadata": {},
   "source": [
    "Наблюдаются определенные закономерности в зависимости стоимости квартиры от временных характеристик, так летом случается некое падение по цене, наверное оно стремится за предложениями. ЧТо касается годов, есть предположение, что цена на квартиры связана с состоянием экономики страны)"
   ]
  },
  {
   "cell_type": "markdown",
   "metadata": {},
   "source": [
    "Согласно коэфф Пирсона, Связи есть между годом продаж  и стоимостью квартир, но очень незначительная. Согласно графику, с 2015 г цены на квартиры повышаются"
   ]
  },
  {
   "cell_type": "code",
   "execution_count": 69,
   "metadata": {},
   "outputs": [
    {
     "data": {
      "text/html": [
       "<div>\n",
       "<style scoped>\n",
       "    .dataframe tbody tr th:only-of-type {\n",
       "        vertical-align: middle;\n",
       "    }\n",
       "\n",
       "    .dataframe tbody tr th {\n",
       "        vertical-align: top;\n",
       "    }\n",
       "\n",
       "    .dataframe thead th {\n",
       "        text-align: right;\n",
       "    }\n",
       "</style>\n",
       "<table border=\"1\" class=\"dataframe\">\n",
       "  <thead>\n",
       "    <tr style=\"text-align: right;\">\n",
       "      <th></th>\n",
       "      <th>count</th>\n",
       "    </tr>\n",
       "    <tr>\n",
       "      <th>locality_name</th>\n",
       "      <th></th>\n",
       "    </tr>\n",
       "  </thead>\n",
       "  <tbody>\n",
       "    <tr>\n",
       "      <td>Санкт-Петербург</td>\n",
       "      <td>12250</td>\n",
       "    </tr>\n",
       "    <tr>\n",
       "      <td>посёлок Мурино</td>\n",
       "      <td>487</td>\n",
       "    </tr>\n",
       "    <tr>\n",
       "      <td>посёлок Шушары</td>\n",
       "      <td>415</td>\n",
       "    </tr>\n",
       "    <tr>\n",
       "      <td>Всеволожск</td>\n",
       "      <td>359</td>\n",
       "    </tr>\n",
       "    <tr>\n",
       "      <td>посёлок Парголово</td>\n",
       "      <td>312</td>\n",
       "    </tr>\n",
       "    <tr>\n",
       "      <td>Колпино</td>\n",
       "      <td>312</td>\n",
       "    </tr>\n",
       "    <tr>\n",
       "      <td>Пушкин</td>\n",
       "      <td>308</td>\n",
       "    </tr>\n",
       "    <tr>\n",
       "      <td>Гатчина</td>\n",
       "      <td>273</td>\n",
       "    </tr>\n",
       "    <tr>\n",
       "      <td>деревня Кудрово</td>\n",
       "      <td>267</td>\n",
       "    </tr>\n",
       "    <tr>\n",
       "      <td>Выборг</td>\n",
       "      <td>200</td>\n",
       "    </tr>\n",
       "  </tbody>\n",
       "</table>\n",
       "</div>"
      ],
      "text/plain": [
       "                   count\n",
       "locality_name           \n",
       "Санкт-Петербург    12250\n",
       "посёлок Мурино       487\n",
       "посёлок Шушары       415\n",
       "Всеволожск           359\n",
       "посёлок Парголово    312\n",
       "Колпино              312\n",
       "Пушкин               308\n",
       "Гатчина              273\n",
       "деревня Кудрово      267\n",
       "Выборг               200"
      ]
     },
     "execution_count": 69,
     "metadata": {},
     "output_type": "execute_result"
    }
   ],
   "source": [
    "#Выберем 10 населённых пунктов с наибольшим числом объявлений.\n",
    "\n",
    "top_10_locality_name=df \\\n",
    "    .groupby(['locality_name']) \\\n",
    "    .agg({'rooms':'count'}) \\\n",
    "    .rename(columns={'rooms':'count'}) \\\n",
    "    .sort_values('count',ascending=False) \\\n",
    "    .head(10)\n",
    "top_10_locality_name"
   ]
  },
  {
   "cell_type": "code",
   "execution_count": 70,
   "metadata": {},
   "outputs": [
    {
     "name": "stdout",
     "output_type": "stream",
     "text": [
      "Cредняя стоимость квадратного метра в топ-10 населенных пунтах: 100714.64\n"
     ]
    }
   ],
   "source": [
    "#Посчитаем среднюю цену квадратного метра в этих населённых пунктах:\n",
    "mean_price_top_locality_name=df[df['locality_name'].isin(top_10_locality_name.index)]['price_sq_metr'].mean().round(2)\n",
    "print('Cредняя стоимость квадратного метра в топ-10 населенных пунтах: {:2}'. format(mean_price_top_locality_name))"
   ]
  },
  {
   "cell_type": "code",
   "execution_count": 71,
   "metadata": {},
   "outputs": [
    {
     "data": {
      "text/plain": [
       "23319    Санкт-Петербург\n",
       "Name: locality_name, dtype: object"
      ]
     },
     "execution_count": 71,
     "metadata": {},
     "output_type": "execute_result"
    }
   ],
   "source": [
    "#Выделим населённые пункты с самой высокой стоимостью жилья:\n",
    "high_price=df.query('price_sq_metr==price_sq_metr.max()')['locality_name']\n",
    "high_price"
   ]
  },
  {
   "cell_type": "code",
   "execution_count": 72,
   "metadata": {},
   "outputs": [
    {
     "data": {
      "text/plain": [
       "18779    Сланцы\n",
       "Name: locality_name, dtype: object"
      ]
     },
     "execution_count": 72,
     "metadata": {},
     "output_type": "execute_result"
    }
   ],
   "source": [
    "#Выделим населённые пункты с самой низкой стоимостью жилья:\n",
    "low_price=df.query('price_sq_metr==price_sq_metr.min()')['locality_name']\n",
    "low_price"
   ]
  },
  {
   "cell_type": "code",
   "execution_count": 73,
   "metadata": {},
   "outputs": [
    {
     "data": {
      "text/html": [
       "<div>\n",
       "<style scoped>\n",
       "    .dataframe tbody tr th:only-of-type {\n",
       "        vertical-align: middle;\n",
       "    }\n",
       "\n",
       "    .dataframe tbody tr th {\n",
       "        vertical-align: top;\n",
       "    }\n",
       "\n",
       "    .dataframe thead th {\n",
       "        text-align: right;\n",
       "    }\n",
       "</style>\n",
       "<table border=\"1\" class=\"dataframe\">\n",
       "  <thead>\n",
       "    <tr style=\"text-align: right;\">\n",
       "      <th></th>\n",
       "      <th>total_images</th>\n",
       "      <th>last_price</th>\n",
       "      <th>total_area</th>\n",
       "      <th>first_day_exposition</th>\n",
       "      <th>rooms</th>\n",
       "      <th>ceiling_height</th>\n",
       "      <th>floors_total</th>\n",
       "      <th>living_area</th>\n",
       "      <th>floor</th>\n",
       "      <th>is_apartment</th>\n",
       "      <th>...</th>\n",
       "      <th>living_ratio</th>\n",
       "      <th>kitchen_ratio</th>\n",
       "      <th>too_large_area</th>\n",
       "      <th>too_expensive_price</th>\n",
       "      <th>too_chip_price</th>\n",
       "      <th>too_many_rooms</th>\n",
       "      <th>too_high_ceiling_height</th>\n",
       "      <th>too_low_ceiling_height</th>\n",
       "      <th>too_slow</th>\n",
       "      <th>too_fast</th>\n",
       "    </tr>\n",
       "  </thead>\n",
       "  <tbody>\n",
       "    <tr>\n",
       "      <td>18779</td>\n",
       "      <td>11</td>\n",
       "      <td>1050000.0</td>\n",
       "      <td>52.0</td>\n",
       "      <td>2017-06-12</td>\n",
       "      <td>2</td>\n",
       "      <td>2.5</td>\n",
       "      <td>5.0</td>\n",
       "      <td>32.0</td>\n",
       "      <td>1</td>\n",
       "      <td>False</td>\n",
       "      <td>...</td>\n",
       "      <td>0.615385</td>\n",
       "      <td>0.153846</td>\n",
       "      <td>False</td>\n",
       "      <td>False</td>\n",
       "      <td>False</td>\n",
       "      <td>False</td>\n",
       "      <td>False</td>\n",
       "      <td>False</td>\n",
       "      <td>False</td>\n",
       "      <td>False</td>\n",
       "    </tr>\n",
       "  </tbody>\n",
       "</table>\n",
       "<p>1 rows × 38 columns</p>\n",
       "</div>"
      ],
      "text/plain": [
       "       total_images  last_price  total_area first_day_exposition  rooms  \\\n",
       "18779            11   1050000.0        52.0           2017-06-12      2   \n",
       "\n",
       "       ceiling_height  floors_total  living_area  floor is_apartment  ...  \\\n",
       "18779             2.5           5.0         32.0      1        False  ...   \n",
       "\n",
       "       living_ratio  kitchen_ratio  too_large_area  too_expensive_price  \\\n",
       "18779      0.615385       0.153846           False                False   \n",
       "\n",
       "      too_chip_price  too_many_rooms  too_high_ceiling_height  \\\n",
       "18779          False           False                    False   \n",
       "\n",
       "       too_low_ceiling_height  too_slow  too_fast  \n",
       "18779                   False     False     False  \n",
       "\n",
       "[1 rows x 38 columns]"
      ]
     },
     "execution_count": 73,
     "metadata": {},
     "output_type": "execute_result"
    }
   ],
   "source": [
    "df.query('price_sq_metr==price_sq_metr.min()')"
   ]
  },
  {
   "cell_type": "code",
   "execution_count": 74,
   "metadata": {},
   "outputs": [
    {
     "name": "stderr",
     "output_type": "stream",
     "text": [
      "/opt/conda/lib/python3.7/site-packages/ipykernel_launcher.py:4: SettingWithCopyWarning: \n",
      "A value is trying to be set on a copy of a slice from a DataFrame.\n",
      "Try using .loc[row_indexer,col_indexer] = value instead\n",
      "\n",
      "See the caveats in the documentation: http://pandas.pydata.org/pandas-docs/stable/user_guide/indexing.html#returning-a-view-versus-a-copy\n",
      "  after removing the cwd from sys.path.\n"
     ]
    },
    {
     "data": {
      "text/plain": [
       "<matplotlib.axes._subplots.AxesSubplot at 0x7fc28732ed10>"
      ]
     },
     "execution_count": 74,
     "metadata": {},
     "output_type": "execute_result"
    },
    {
     "data": {
      "image/png": "[encoded data removed]",
      "text/plain": [
       "<Figure size 432x288 with 1 Axes>"
      ]
     },
     "metadata": {
      "needs_background": "light"
     },
     "output_type": "display_data"
    }
   ],
   "source": [
    "#сделаем срез только по объявлениям Санкт-Петербурга:\n",
    "data_spb=df.query('locality_name==\"Санкт-Петербург\"')\n",
    "#Создадим  столбец с расстоянием до центра в километрах:\n",
    "data_spb['cityCenters_nearest_km']=round(data_spb['cityCenters_nearest']/1000)\n",
    "#Посчитаем среднюю стоимость на каждый км и построим линейный график:\n",
    "data_spb \\\n",
    "    .groupby('cityCenters_nearest_km')['price_sq_metr'] \\\n",
    "    .mean() \\\n",
    "    .plot()"
   ]
  },
  {
   "cell_type": "code",
   "execution_count": 75,
   "metadata": {},
   "outputs": [
    {
     "data": {
      "text/plain": [
       "-0.28779375405681246"
      ]
     },
     "execution_count": 75,
     "metadata": {},
     "output_type": "execute_result"
    }
   ],
   "source": [
    "#посчитаем кофф корреляции:\n",
    "data_spb['cityCenters_nearest_km'].corr(data_spb['price_sq_metr'])"
   ]
  },
  {
   "cell_type": "markdown",
   "metadata": {},
   "source": [
    "Судя по коэфф корреляции и графику взамосвязь между ценой и  удалённости от центра есть. Связь отрицательная, чем дальше квартиры о  центра тем стоимость квартиры снижается.Центральной зоной можно считать до 7 км, после , как видно по графику стоимость снижается линейно. "
   ]
  },
  {
   "cell_type": "code",
   "execution_count": 76,
   "metadata": {},
   "outputs": [
    {
     "data": {
      "text/html": [
       "<div>\n",
       "<style scoped>\n",
       "    .dataframe tbody tr th:only-of-type {\n",
       "        vertical-align: middle;\n",
       "    }\n",
       "\n",
       "    .dataframe tbody tr th {\n",
       "        vertical-align: top;\n",
       "    }\n",
       "\n",
       "    .dataframe thead th {\n",
       "        text-align: right;\n",
       "    }\n",
       "</style>\n",
       "<table border=\"1\" class=\"dataframe\">\n",
       "  <thead>\n",
       "    <tr style=\"text-align: right;\">\n",
       "      <th></th>\n",
       "      <th>total_images</th>\n",
       "      <th>last_price</th>\n",
       "      <th>total_area</th>\n",
       "      <th>first_day_exposition</th>\n",
       "      <th>rooms</th>\n",
       "      <th>ceiling_height</th>\n",
       "      <th>floors_total</th>\n",
       "      <th>living_area</th>\n",
       "      <th>floor</th>\n",
       "      <th>is_apartment</th>\n",
       "      <th>...</th>\n",
       "      <th>kitchen_ratio</th>\n",
       "      <th>too_large_area</th>\n",
       "      <th>too_expensive_price</th>\n",
       "      <th>too_chip_price</th>\n",
       "      <th>too_many_rooms</th>\n",
       "      <th>too_high_ceiling_height</th>\n",
       "      <th>too_low_ceiling_height</th>\n",
       "      <th>too_slow</th>\n",
       "      <th>too_fast</th>\n",
       "      <th>cityCenters_nearest_km</th>\n",
       "    </tr>\n",
       "  </thead>\n",
       "  <tbody>\n",
       "    <tr>\n",
       "      <td>24</td>\n",
       "      <td>8</td>\n",
       "      <td>6500000.0</td>\n",
       "      <td>97.2</td>\n",
       "      <td>2015-10-31</td>\n",
       "      <td>2</td>\n",
       "      <td>2.80</td>\n",
       "      <td>3.0</td>\n",
       "      <td>46.50</td>\n",
       "      <td>1</td>\n",
       "      <td>NaN</td>\n",
       "      <td>...</td>\n",
       "      <td>0.201646</td>\n",
       "      <td>False</td>\n",
       "      <td>False</td>\n",
       "      <td>False</td>\n",
       "      <td>False</td>\n",
       "      <td>False</td>\n",
       "      <td>False</td>\n",
       "      <td>False</td>\n",
       "      <td>False</td>\n",
       "      <td>2.0</td>\n",
       "    </tr>\n",
       "    <tr>\n",
       "      <td>94</td>\n",
       "      <td>3</td>\n",
       "      <td>3500000.0</td>\n",
       "      <td>29.5</td>\n",
       "      <td>2019-04-26</td>\n",
       "      <td>1</td>\n",
       "      <td>2.50</td>\n",
       "      <td>5.0</td>\n",
       "      <td>15.60</td>\n",
       "      <td>2</td>\n",
       "      <td>NaN</td>\n",
       "      <td>...</td>\n",
       "      <td>0.186441</td>\n",
       "      <td>False</td>\n",
       "      <td>False</td>\n",
       "      <td>False</td>\n",
       "      <td>False</td>\n",
       "      <td>False</td>\n",
       "      <td>False</td>\n",
       "      <td>False</td>\n",
       "      <td>False</td>\n",
       "      <td>7.0</td>\n",
       "    </tr>\n",
       "    <tr>\n",
       "      <td>99</td>\n",
       "      <td>32</td>\n",
       "      <td>9600000.0</td>\n",
       "      <td>90.0</td>\n",
       "      <td>2017-09-26</td>\n",
       "      <td>4</td>\n",
       "      <td>2.55</td>\n",
       "      <td>5.0</td>\n",
       "      <td>67.00</td>\n",
       "      <td>2</td>\n",
       "      <td>NaN</td>\n",
       "      <td>...</td>\n",
       "      <td>0.088889</td>\n",
       "      <td>False</td>\n",
       "      <td>False</td>\n",
       "      <td>False</td>\n",
       "      <td>False</td>\n",
       "      <td>False</td>\n",
       "      <td>False</td>\n",
       "      <td>False</td>\n",
       "      <td>False</td>\n",
       "      <td>3.0</td>\n",
       "    </tr>\n",
       "    <tr>\n",
       "      <td>111</td>\n",
       "      <td>4</td>\n",
       "      <td>4590000.0</td>\n",
       "      <td>40.0</td>\n",
       "      <td>2017-05-29</td>\n",
       "      <td>1</td>\n",
       "      <td>3.00</td>\n",
       "      <td>6.0</td>\n",
       "      <td>18.00</td>\n",
       "      <td>1</td>\n",
       "      <td>NaN</td>\n",
       "      <td>...</td>\n",
       "      <td>0.250000</td>\n",
       "      <td>False</td>\n",
       "      <td>False</td>\n",
       "      <td>False</td>\n",
       "      <td>False</td>\n",
       "      <td>False</td>\n",
       "      <td>False</td>\n",
       "      <td>False</td>\n",
       "      <td>False</td>\n",
       "      <td>6.0</td>\n",
       "    </tr>\n",
       "    <tr>\n",
       "      <td>137</td>\n",
       "      <td>11</td>\n",
       "      <td>13310800.0</td>\n",
       "      <td>85.1</td>\n",
       "      <td>2018-01-01</td>\n",
       "      <td>2</td>\n",
       "      <td>2.70</td>\n",
       "      <td>10.0</td>\n",
       "      <td>31.52</td>\n",
       "      <td>5</td>\n",
       "      <td>NaN</td>\n",
       "      <td>...</td>\n",
       "      <td>0.315511</td>\n",
       "      <td>False</td>\n",
       "      <td>False</td>\n",
       "      <td>False</td>\n",
       "      <td>False</td>\n",
       "      <td>False</td>\n",
       "      <td>False</td>\n",
       "      <td>False</td>\n",
       "      <td>False</td>\n",
       "      <td>4.0</td>\n",
       "    </tr>\n",
       "    <tr>\n",
       "      <td>138</td>\n",
       "      <td>8</td>\n",
       "      <td>4800000.0</td>\n",
       "      <td>40.0</td>\n",
       "      <td>2017-11-18</td>\n",
       "      <td>2</td>\n",
       "      <td>2.80</td>\n",
       "      <td>3.0</td>\n",
       "      <td>29.00</td>\n",
       "      <td>2</td>\n",
       "      <td>NaN</td>\n",
       "      <td>...</td>\n",
       "      <td>0.150000</td>\n",
       "      <td>False</td>\n",
       "      <td>False</td>\n",
       "      <td>False</td>\n",
       "      <td>False</td>\n",
       "      <td>False</td>\n",
       "      <td>False</td>\n",
       "      <td>False</td>\n",
       "      <td>False</td>\n",
       "      <td>3.0</td>\n",
       "    </tr>\n",
       "    <tr>\n",
       "      <td>143</td>\n",
       "      <td>9</td>\n",
       "      <td>2990000.0</td>\n",
       "      <td>30.0</td>\n",
       "      <td>2016-06-08</td>\n",
       "      <td>1</td>\n",
       "      <td>2.50</td>\n",
       "      <td>9.0</td>\n",
       "      <td>20.00</td>\n",
       "      <td>9</td>\n",
       "      <td>NaN</td>\n",
       "      <td>...</td>\n",
       "      <td>0.186667</td>\n",
       "      <td>False</td>\n",
       "      <td>False</td>\n",
       "      <td>False</td>\n",
       "      <td>False</td>\n",
       "      <td>False</td>\n",
       "      <td>False</td>\n",
       "      <td>False</td>\n",
       "      <td>False</td>\n",
       "      <td>6.0</td>\n",
       "    </tr>\n",
       "    <tr>\n",
       "      <td>159</td>\n",
       "      <td>14</td>\n",
       "      <td>7050000.0</td>\n",
       "      <td>66.0</td>\n",
       "      <td>2017-09-04</td>\n",
       "      <td>3</td>\n",
       "      <td>3.00</td>\n",
       "      <td>4.0</td>\n",
       "      <td>37.80</td>\n",
       "      <td>4</td>\n",
       "      <td>False</td>\n",
       "      <td>...</td>\n",
       "      <td>0.166667</td>\n",
       "      <td>False</td>\n",
       "      <td>False</td>\n",
       "      <td>False</td>\n",
       "      <td>False</td>\n",
       "      <td>False</td>\n",
       "      <td>False</td>\n",
       "      <td>False</td>\n",
       "      <td>False</td>\n",
       "      <td>5.0</td>\n",
       "    </tr>\n",
       "    <tr>\n",
       "      <td>181</td>\n",
       "      <td>2</td>\n",
       "      <td>7900000.0</td>\n",
       "      <td>71.8</td>\n",
       "      <td>2017-08-23</td>\n",
       "      <td>3</td>\n",
       "      <td>3.00</td>\n",
       "      <td>5.0</td>\n",
       "      <td>38.70</td>\n",
       "      <td>1</td>\n",
       "      <td>NaN</td>\n",
       "      <td>...</td>\n",
       "      <td>0.167131</td>\n",
       "      <td>False</td>\n",
       "      <td>False</td>\n",
       "      <td>False</td>\n",
       "      <td>False</td>\n",
       "      <td>False</td>\n",
       "      <td>False</td>\n",
       "      <td>False</td>\n",
       "      <td>False</td>\n",
       "      <td>3.0</td>\n",
       "    </tr>\n",
       "    <tr>\n",
       "      <td>206</td>\n",
       "      <td>16</td>\n",
       "      <td>5080000.0</td>\n",
       "      <td>31.3</td>\n",
       "      <td>2019-04-23</td>\n",
       "      <td>1</td>\n",
       "      <td>2.50</td>\n",
       "      <td>7.0</td>\n",
       "      <td>16.00</td>\n",
       "      <td>4</td>\n",
       "      <td>False</td>\n",
       "      <td>...</td>\n",
       "      <td>0.242812</td>\n",
       "      <td>False</td>\n",
       "      <td>False</td>\n",
       "      <td>False</td>\n",
       "      <td>False</td>\n",
       "      <td>False</td>\n",
       "      <td>False</td>\n",
       "      <td>False</td>\n",
       "      <td>False</td>\n",
       "      <td>7.0</td>\n",
       "    </tr>\n",
       "  </tbody>\n",
       "</table>\n",
       "<p>10 rows × 39 columns</p>\n",
       "</div>"
      ],
      "text/plain": [
       "     total_images  last_price  total_area first_day_exposition  rooms  \\\n",
       "24              8   6500000.0        97.2           2015-10-31      2   \n",
       "94              3   3500000.0        29.5           2019-04-26      1   \n",
       "99             32   9600000.0        90.0           2017-09-26      4   \n",
       "111             4   4590000.0        40.0           2017-05-29      1   \n",
       "137            11  13310800.0        85.1           2018-01-01      2   \n",
       "138             8   4800000.0        40.0           2017-11-18      2   \n",
       "143             9   2990000.0        30.0           2016-06-08      1   \n",
       "159            14   7050000.0        66.0           2017-09-04      3   \n",
       "181             2   7900000.0        71.8           2017-08-23      3   \n",
       "206            16   5080000.0        31.3           2019-04-23      1   \n",
       "\n",
       "     ceiling_height  floors_total  living_area  floor is_apartment  ...  \\\n",
       "24             2.80           3.0        46.50      1          NaN  ...   \n",
       "94             2.50           5.0        15.60      2          NaN  ...   \n",
       "99             2.55           5.0        67.00      2          NaN  ...   \n",
       "111            3.00           6.0        18.00      1          NaN  ...   \n",
       "137            2.70          10.0        31.52      5          NaN  ...   \n",
       "138            2.80           3.0        29.00      2          NaN  ...   \n",
       "143            2.50           9.0        20.00      9          NaN  ...   \n",
       "159            3.00           4.0        37.80      4        False  ...   \n",
       "181            3.00           5.0        38.70      1          NaN  ...   \n",
       "206            2.50           7.0        16.00      4        False  ...   \n",
       "\n",
       "     kitchen_ratio  too_large_area  too_expensive_price  too_chip_price  \\\n",
       "24        0.201646           False                False           False   \n",
       "94        0.186441           False                False           False   \n",
       "99        0.088889           False                False           False   \n",
       "111       0.250000           False                False           False   \n",
       "137       0.315511           False                False           False   \n",
       "138       0.150000           False                False           False   \n",
       "143       0.186667           False                False           False   \n",
       "159       0.166667           False                False           False   \n",
       "181       0.167131           False                False           False   \n",
       "206       0.242812           False                False           False   \n",
       "\n",
       "    too_many_rooms  too_high_ceiling_height  too_low_ceiling_height  too_slow  \\\n",
       "24           False                    False                   False     False   \n",
       "94           False                    False                   False     False   \n",
       "99           False                    False                   False     False   \n",
       "111          False                    False                   False     False   \n",
       "137          False                    False                   False     False   \n",
       "138          False                    False                   False     False   \n",
       "143          False                    False                   False     False   \n",
       "159          False                    False                   False     False   \n",
       "181          False                    False                   False     False   \n",
       "206          False                    False                   False     False   \n",
       "\n",
       "     too_fast  cityCenters_nearest_km  \n",
       "24      False                     2.0  \n",
       "94      False                     7.0  \n",
       "99      False                     3.0  \n",
       "111     False                     6.0  \n",
       "137     False                     4.0  \n",
       "138     False                     3.0  \n",
       "143     False                     6.0  \n",
       "159     False                     5.0  \n",
       "181     False                     3.0  \n",
       "206     False                     7.0  \n",
       "\n",
       "[10 rows x 39 columns]"
      ]
     },
     "execution_count": 76,
     "metadata": {},
     "output_type": "execute_result"
    }
   ],
   "source": [
    "#Выделим сегмент квартир в центре:\n",
    "cityCenters_nearest_segment = data_spb[(data_spb['cityCenters_nearest_km'] <= 7) & (data_spb['locality_name'] == 'Санкт-Петербург')]\n",
    "cityCenters_nearest_segment.head(10)\n"
   ]
  },
  {
   "cell_type": "markdown",
   "metadata": {},
   "source": [
    "Допустимая граница, посмотрим, чем отличаются квартиры в центре"
   ]
  },
  {
   "cell_type": "markdown",
   "metadata": {},
   "source": [
    "Проанализируем квартиры  в центре и изучим следующие параметры: площадь, цена, число комнат, высота потолков. \n",
    "Построим диаграммы размаха  для каждого параметра total_area, price_sq_metr,rooms,ceiling_height. "
   ]
  },
  {
   "cell_type": "code",
   "execution_count": 77,
   "metadata": {
    "scrolled": false
   },
   "outputs": [
    {
     "data": {
      "text/plain": [
       "count    1539.000000\n",
       "mean       65.980058\n",
       "std        21.828346\n",
       "min        13.200000\n",
       "25%        48.000000\n",
       "50%        64.800000\n",
       "75%        83.000000\n",
       "max       114.000000\n",
       "Name: total_area, dtype: float64"
      ]
     },
     "execution_count": 77,
     "metadata": {},
     "output_type": "execute_result"
    },
    {
     "data": {
      "image/png": "[encoded data removed]",
      "text/plain": [
       "<Figure size 432x288 with 1 Axes>"
      ]
     },
     "metadata": {
      "needs_background": "light"
     },
     "output_type": "display_data"
    }
   ],
   "source": [
    "cityCenters_nearest_segment.boxplot('total_area') \n",
    "plt.ylim(0, 200)\n",
    "cityCenters_nearest_segment['total_area'].describe()"
   ]
  },
  {
   "cell_type": "code",
   "execution_count": 78,
   "metadata": {},
   "outputs": [
    {
     "data": {
      "text/plain": [
       "count      1539.000000\n",
       "mean     117965.219381\n",
       "std       24686.865508\n",
       "min       26250.000000\n",
       "25%       99282.038085\n",
       "50%      116391.852570\n",
       "75%      137110.754414\n",
       "max      170312.500000\n",
       "Name: price_sq_metr, dtype: float64"
      ]
     },
     "execution_count": 78,
     "metadata": {},
     "output_type": "execute_result"
    },
    {
     "data": {
      "image/png": "[encoded data removed]",
      "text/plain": [
       "<Figure size 432x288 with 1 Axes>"
      ]
     },
     "metadata": {
      "needs_background": "light"
     },
     "output_type": "display_data"
    }
   ],
   "source": [
    "cityCenters_nearest_segment.boxplot('price_sq_metr') \n",
    "plt.ylim(0,200000)\n",
    "cityCenters_nearest_segment['price_sq_metr'].describe()"
   ]
  },
  {
   "cell_type": "code",
   "execution_count": 79,
   "metadata": {},
   "outputs": [
    {
     "data": {
      "text/plain": [
       "count    1539.000000\n",
       "mean        2.307342\n",
       "std         0.936066\n",
       "min         0.000000\n",
       "25%         2.000000\n",
       "50%         2.000000\n",
       "75%         3.000000\n",
       "max         5.000000\n",
       "Name: rooms, dtype: float64"
      ]
     },
     "execution_count": 79,
     "metadata": {},
     "output_type": "execute_result"
    },
    {
     "data": {
      "image/png": "[encoded data removed]",
      "text/plain": [
       "<Figure size 432x288 with 1 Axes>"
      ]
     },
     "metadata": {
      "needs_background": "light"
     },
     "output_type": "display_data"
    }
   ],
   "source": [
    "cityCenters_nearest_segment.boxplot('rooms') \n",
    "plt.ylim(0, 6)\n",
    "cityCenters_nearest_segment['rooms'].describe()"
   ]
  },
  {
   "cell_type": "markdown",
   "metadata": {},
   "source": [
    "В отличии от всего города, в центре в среднем квартры с площадью 65 кв.м -2-х комнатные квартиры.В центре города квартиры с потолками 2.77, что немного выше , нежеле во всем городе -2.73 см. Средняя цена в центре города за 1 кв.м так же отличается, она выше на 22 % -118021 руб."
   ]
  },
  {
   "cell_type": "code",
   "execution_count": 80,
   "metadata": {},
   "outputs": [
    {
     "data": {
      "text/plain": [
       "count    1539.000000\n",
       "mean        2.774237\n",
       "std         0.185091\n",
       "min         2.400000\n",
       "25%         2.600000\n",
       "50%         2.750000\n",
       "75%         3.000000\n",
       "max         3.050000\n",
       "Name: ceiling_height, dtype: float64"
      ]
     },
     "execution_count": 80,
     "metadata": {},
     "output_type": "execute_result"
    },
    {
     "data": {
      "image/png": "[encoded data removed]",
      "text/plain": [
       "<Figure size 432x288 with 1 Axes>"
      ]
     },
     "metadata": {
      "needs_background": "light"
     },
     "output_type": "display_data"
    }
   ],
   "source": [
    "cityCenters_nearest_segment.boxplot('ceiling_height') \n",
    "plt.ylim(2, 3.5)\n",
    "cityCenters_nearest_segment['ceiling_height'].describe()"
   ]
  },
  {
   "cell_type": "markdown",
   "metadata": {},
   "source": [
    "Средняя квартира на продажу,  в центре Санкт-Петербурга это 2-комнатная квартира площадь- 65 кв. м , потолки - 2.77 м, цена за 1 кв.м 118 021 рублей."
   ]
  },
  {
   "cell_type": "markdown",
   "metadata": {},
   "source": [
    "Выделим факторы, которые влияют на стоимость квартиры (число комнат, этаж, удалённость от центра, дата размещения объявления)"
   ]
  },
  {
   "cell_type": "code",
   "execution_count": 81,
   "metadata": {},
   "outputs": [
    {
     "data": {
      "text/plain": [
       "<matplotlib.axes._subplots.AxesSubplot at 0x7fc286b85d90>"
      ]
     },
     "execution_count": 81,
     "metadata": {},
     "output_type": "execute_result"
    },
    {
     "data": {
      "image/png": "[encoded data removed]",
      "text/plain": [
       "<Figure size 432x288 with 1 Axes>"
      ]
     },
     "metadata": {
      "needs_background": "light"
     },
     "output_type": "display_data"
    }
   ],
   "source": [
    "cityCenters_nearest_segment \\\n",
    "    .pivot_table(index='rooms', values='price_sq_metr') \\\n",
    "    .reset_index() \\\n",
    "    .plot(x='rooms', y='price_sq_metr', kind='scatter', grid=True)"
   ]
  },
  {
   "cell_type": "code",
   "execution_count": 82,
   "metadata": {},
   "outputs": [
    {
     "data": {
      "text/html": [
       "<div>\n",
       "<style scoped>\n",
       "    .dataframe tbody tr th:only-of-type {\n",
       "        vertical-align: middle;\n",
       "    }\n",
       "\n",
       "    .dataframe tbody tr th {\n",
       "        vertical-align: top;\n",
       "    }\n",
       "\n",
       "    .dataframe thead th {\n",
       "        text-align: right;\n",
       "    }\n",
       "</style>\n",
       "<table border=\"1\" class=\"dataframe\">\n",
       "  <thead>\n",
       "    <tr style=\"text-align: right;\">\n",
       "      <th></th>\n",
       "      <th>total_images</th>\n",
       "      <th>last_price</th>\n",
       "      <th>total_area</th>\n",
       "      <th>rooms</th>\n",
       "      <th>ceiling_height</th>\n",
       "      <th>floors_total</th>\n",
       "      <th>living_area</th>\n",
       "      <th>floor</th>\n",
       "      <th>studio</th>\n",
       "      <th>open_plan</th>\n",
       "      <th>...</th>\n",
       "      <th>kitchen_ratio</th>\n",
       "      <th>too_large_area</th>\n",
       "      <th>too_expensive_price</th>\n",
       "      <th>too_chip_price</th>\n",
       "      <th>too_many_rooms</th>\n",
       "      <th>too_high_ceiling_height</th>\n",
       "      <th>too_low_ceiling_height</th>\n",
       "      <th>too_slow</th>\n",
       "      <th>too_fast</th>\n",
       "      <th>cityCenters_nearest_km</th>\n",
       "    </tr>\n",
       "  </thead>\n",
       "  <tbody>\n",
       "    <tr>\n",
       "      <td>total_images</td>\n",
       "      <td>1.000000</td>\n",
       "      <td>0.093524</td>\n",
       "      <td>0.025972</td>\n",
       "      <td>0.045003</td>\n",
       "      <td>0.048474</td>\n",
       "      <td>-0.038864</td>\n",
       "      <td>0.034208</td>\n",
       "      <td>0.005668</td>\n",
       "      <td>-0.028985</td>\n",
       "      <td>-0.026148</td>\n",
       "      <td>...</td>\n",
       "      <td>-0.009631</td>\n",
       "      <td>NaN</td>\n",
       "      <td>NaN</td>\n",
       "      <td>NaN</td>\n",
       "      <td>NaN</td>\n",
       "      <td>NaN</td>\n",
       "      <td>NaN</td>\n",
       "      <td>NaN</td>\n",
       "      <td>NaN</td>\n",
       "      <td>0.013581</td>\n",
       "    </tr>\n",
       "    <tr>\n",
       "      <td>last_price</td>\n",
       "      <td>0.093524</td>\n",
       "      <td>1.000000</td>\n",
       "      <td>0.793065</td>\n",
       "      <td>0.493862</td>\n",
       "      <td>0.096888</td>\n",
       "      <td>0.153799</td>\n",
       "      <td>0.611488</td>\n",
       "      <td>0.189217</td>\n",
       "      <td>-0.086473</td>\n",
       "      <td>-0.067817</td>\n",
       "      <td>...</td>\n",
       "      <td>-0.216889</td>\n",
       "      <td>NaN</td>\n",
       "      <td>NaN</td>\n",
       "      <td>NaN</td>\n",
       "      <td>NaN</td>\n",
       "      <td>NaN</td>\n",
       "      <td>NaN</td>\n",
       "      <td>NaN</td>\n",
       "      <td>NaN</td>\n",
       "      <td>-0.128660</td>\n",
       "    </tr>\n",
       "    <tr>\n",
       "      <td>total_area</td>\n",
       "      <td>0.025972</td>\n",
       "      <td>0.793065</td>\n",
       "      <td>1.000000</td>\n",
       "      <td>0.773303</td>\n",
       "      <td>0.156478</td>\n",
       "      <td>-0.025914</td>\n",
       "      <td>0.872217</td>\n",
       "      <td>0.032382</td>\n",
       "      <td>-0.102378</td>\n",
       "      <td>-0.076099</td>\n",
       "      <td>...</td>\n",
       "      <td>-0.436751</td>\n",
       "      <td>NaN</td>\n",
       "      <td>NaN</td>\n",
       "      <td>NaN</td>\n",
       "      <td>NaN</td>\n",
       "      <td>NaN</td>\n",
       "      <td>NaN</td>\n",
       "      <td>NaN</td>\n",
       "      <td>NaN</td>\n",
       "      <td>-0.196251</td>\n",
       "    </tr>\n",
       "    <tr>\n",
       "      <td>rooms</td>\n",
       "      <td>0.045003</td>\n",
       "      <td>0.493862</td>\n",
       "      <td>0.773303</td>\n",
       "      <td>1.000000</td>\n",
       "      <td>0.143642</td>\n",
       "      <td>-0.202862</td>\n",
       "      <td>0.843596</td>\n",
       "      <td>-0.093638</td>\n",
       "      <td>-0.168583</td>\n",
       "      <td>-0.084956</td>\n",
       "      <td>...</td>\n",
       "      <td>-0.572849</td>\n",
       "      <td>NaN</td>\n",
       "      <td>NaN</td>\n",
       "      <td>NaN</td>\n",
       "      <td>NaN</td>\n",
       "      <td>NaN</td>\n",
       "      <td>NaN</td>\n",
       "      <td>NaN</td>\n",
       "      <td>NaN</td>\n",
       "      <td>-0.186677</td>\n",
       "    </tr>\n",
       "    <tr>\n",
       "      <td>ceiling_height</td>\n",
       "      <td>0.048474</td>\n",
       "      <td>0.096888</td>\n",
       "      <td>0.156478</td>\n",
       "      <td>0.143642</td>\n",
       "      <td>1.000000</td>\n",
       "      <td>-0.218232</td>\n",
       "      <td>0.153722</td>\n",
       "      <td>-0.158019</td>\n",
       "      <td>0.002740</td>\n",
       "      <td>0.014005</td>\n",
       "      <td>...</td>\n",
       "      <td>-0.027176</td>\n",
       "      <td>NaN</td>\n",
       "      <td>NaN</td>\n",
       "      <td>NaN</td>\n",
       "      <td>NaN</td>\n",
       "      <td>NaN</td>\n",
       "      <td>NaN</td>\n",
       "      <td>NaN</td>\n",
       "      <td>NaN</td>\n",
       "      <td>-0.183678</td>\n",
       "    </tr>\n",
       "    <tr>\n",
       "      <td>floors_total</td>\n",
       "      <td>-0.038864</td>\n",
       "      <td>0.153799</td>\n",
       "      <td>-0.025914</td>\n",
       "      <td>-0.202862</td>\n",
       "      <td>-0.218232</td>\n",
       "      <td>1.000000</td>\n",
       "      <td>-0.166804</td>\n",
       "      <td>0.651878</td>\n",
       "      <td>0.011411</td>\n",
       "      <td>0.003505</td>\n",
       "      <td>...</td>\n",
       "      <td>0.185925</td>\n",
       "      <td>NaN</td>\n",
       "      <td>NaN</td>\n",
       "      <td>NaN</td>\n",
       "      <td>NaN</td>\n",
       "      <td>NaN</td>\n",
       "      <td>NaN</td>\n",
       "      <td>NaN</td>\n",
       "      <td>NaN</td>\n",
       "      <td>0.354922</td>\n",
       "    </tr>\n",
       "    <tr>\n",
       "      <td>living_area</td>\n",
       "      <td>0.034208</td>\n",
       "      <td>0.611488</td>\n",
       "      <td>0.872217</td>\n",
       "      <td>0.843596</td>\n",
       "      <td>0.153722</td>\n",
       "      <td>-0.166804</td>\n",
       "      <td>1.000000</td>\n",
       "      <td>-0.056734</td>\n",
       "      <td>-0.046298</td>\n",
       "      <td>-0.042752</td>\n",
       "      <td>...</td>\n",
       "      <td>-0.572962</td>\n",
       "      <td>NaN</td>\n",
       "      <td>NaN</td>\n",
       "      <td>NaN</td>\n",
       "      <td>NaN</td>\n",
       "      <td>NaN</td>\n",
       "      <td>NaN</td>\n",
       "      <td>NaN</td>\n",
       "      <td>NaN</td>\n",
       "      <td>-0.198453</td>\n",
       "    </tr>\n",
       "    <tr>\n",
       "      <td>floor</td>\n",
       "      <td>0.005668</td>\n",
       "      <td>0.189217</td>\n",
       "      <td>0.032382</td>\n",
       "      <td>-0.093638</td>\n",
       "      <td>-0.158019</td>\n",
       "      <td>0.651878</td>\n",
       "      <td>-0.056734</td>\n",
       "      <td>1.000000</td>\n",
       "      <td>-0.014273</td>\n",
       "      <td>-0.016347</td>\n",
       "      <td>...</td>\n",
       "      <td>0.055258</td>\n",
       "      <td>NaN</td>\n",
       "      <td>NaN</td>\n",
       "      <td>NaN</td>\n",
       "      <td>NaN</td>\n",
       "      <td>NaN</td>\n",
       "      <td>NaN</td>\n",
       "      <td>NaN</td>\n",
       "      <td>NaN</td>\n",
       "      <td>0.248542</td>\n",
       "    </tr>\n",
       "    <tr>\n",
       "      <td>studio</td>\n",
       "      <td>-0.028985</td>\n",
       "      <td>-0.086473</td>\n",
       "      <td>-0.102378</td>\n",
       "      <td>-0.168583</td>\n",
       "      <td>0.002740</td>\n",
       "      <td>0.011411</td>\n",
       "      <td>-0.046298</td>\n",
       "      <td>-0.014273</td>\n",
       "      <td>1.000000</td>\n",
       "      <td>-0.003690</td>\n",
       "      <td>...</td>\n",
       "      <td>0.160775</td>\n",
       "      <td>NaN</td>\n",
       "      <td>NaN</td>\n",
       "      <td>NaN</td>\n",
       "      <td>NaN</td>\n",
       "      <td>NaN</td>\n",
       "      <td>NaN</td>\n",
       "      <td>NaN</td>\n",
       "      <td>NaN</td>\n",
       "      <td>0.036279</td>\n",
       "    </tr>\n",
       "    <tr>\n",
       "      <td>open_plan</td>\n",
       "      <td>-0.026148</td>\n",
       "      <td>-0.067817</td>\n",
       "      <td>-0.076099</td>\n",
       "      <td>-0.084956</td>\n",
       "      <td>0.014005</td>\n",
       "      <td>0.003505</td>\n",
       "      <td>-0.042752</td>\n",
       "      <td>-0.016347</td>\n",
       "      <td>-0.003690</td>\n",
       "      <td>1.000000</td>\n",
       "      <td>...</td>\n",
       "      <td>0.138785</td>\n",
       "      <td>NaN</td>\n",
       "      <td>NaN</td>\n",
       "      <td>NaN</td>\n",
       "      <td>NaN</td>\n",
       "      <td>NaN</td>\n",
       "      <td>NaN</td>\n",
       "      <td>NaN</td>\n",
       "      <td>NaN</td>\n",
       "      <td>-0.018106</td>\n",
       "    </tr>\n",
       "    <tr>\n",
       "      <td>kitchen_area</td>\n",
       "      <td>0.029225</td>\n",
       "      <td>0.466213</td>\n",
       "      <td>0.390222</td>\n",
       "      <td>0.062713</td>\n",
       "      <td>0.091848</td>\n",
       "      <td>0.160566</td>\n",
       "      <td>0.115235</td>\n",
       "      <td>0.098108</td>\n",
       "      <td>-0.017490</td>\n",
       "      <td>-0.010985</td>\n",
       "      <td>...</td>\n",
       "      <td>0.577245</td>\n",
       "      <td>NaN</td>\n",
       "      <td>NaN</td>\n",
       "      <td>NaN</td>\n",
       "      <td>NaN</td>\n",
       "      <td>NaN</td>\n",
       "      <td>NaN</td>\n",
       "      <td>NaN</td>\n",
       "      <td>NaN</td>\n",
       "      <td>-0.092406</td>\n",
       "    </tr>\n",
       "    <tr>\n",
       "      <td>balcony</td>\n",
       "      <td>-0.016768</td>\n",
       "      <td>0.137230</td>\n",
       "      <td>-0.005243</td>\n",
       "      <td>-0.103560</td>\n",
       "      <td>-0.091420</td>\n",
       "      <td>0.424085</td>\n",
       "      <td>-0.073254</td>\n",
       "      <td>0.309766</td>\n",
       "      <td>0.018029</td>\n",
       "      <td>-0.022321</td>\n",
       "      <td>...</td>\n",
       "      <td>0.116541</td>\n",
       "      <td>NaN</td>\n",
       "      <td>NaN</td>\n",
       "      <td>NaN</td>\n",
       "      <td>NaN</td>\n",
       "      <td>NaN</td>\n",
       "      <td>NaN</td>\n",
       "      <td>NaN</td>\n",
       "      <td>NaN</td>\n",
       "      <td>0.154824</td>\n",
       "    </tr>\n",
       "    <tr>\n",
       "      <td>airports_nearest</td>\n",
       "      <td>0.048753</td>\n",
       "      <td>0.024921</td>\n",
       "      <td>-0.081045</td>\n",
       "      <td>-0.086102</td>\n",
       "      <td>-0.113623</td>\n",
       "      <td>0.102182</td>\n",
       "      <td>-0.127780</td>\n",
       "      <td>0.067225</td>\n",
       "      <td>-0.022140</td>\n",
       "      <td>-0.027342</td>\n",
       "      <td>...</td>\n",
       "      <td>0.045885</td>\n",
       "      <td>NaN</td>\n",
       "      <td>NaN</td>\n",
       "      <td>NaN</td>\n",
       "      <td>NaN</td>\n",
       "      <td>NaN</td>\n",
       "      <td>NaN</td>\n",
       "      <td>NaN</td>\n",
       "      <td>NaN</td>\n",
       "      <td>0.303522</td>\n",
       "    </tr>\n",
       "    <tr>\n",
       "      <td>cityCenters_nearest</td>\n",
       "      <td>0.016326</td>\n",
       "      <td>-0.117767</td>\n",
       "      <td>-0.189177</td>\n",
       "      <td>-0.185472</td>\n",
       "      <td>-0.193203</td>\n",
       "      <td>0.367757</td>\n",
       "      <td>-0.196005</td>\n",
       "      <td>0.263748</td>\n",
       "      <td>0.036350</td>\n",
       "      <td>-0.018569</td>\n",
       "      <td>...</td>\n",
       "      <td>0.057755</td>\n",
       "      <td>NaN</td>\n",
       "      <td>NaN</td>\n",
       "      <td>NaN</td>\n",
       "      <td>NaN</td>\n",
       "      <td>NaN</td>\n",
       "      <td>NaN</td>\n",
       "      <td>NaN</td>\n",
       "      <td>NaN</td>\n",
       "      <td>0.985315</td>\n",
       "    </tr>\n",
       "    <tr>\n",
       "      <td>parks_around3000</td>\n",
       "      <td>0.056551</td>\n",
       "      <td>0.078890</td>\n",
       "      <td>0.092975</td>\n",
       "      <td>0.096619</td>\n",
       "      <td>0.060132</td>\n",
       "      <td>-0.277381</td>\n",
       "      <td>0.102635</td>\n",
       "      <td>-0.183502</td>\n",
       "      <td>-0.053623</td>\n",
       "      <td>0.050679</td>\n",
       "      <td>...</td>\n",
       "      <td>-0.027978</td>\n",
       "      <td>NaN</td>\n",
       "      <td>NaN</td>\n",
       "      <td>NaN</td>\n",
       "      <td>NaN</td>\n",
       "      <td>NaN</td>\n",
       "      <td>NaN</td>\n",
       "      <td>NaN</td>\n",
       "      <td>NaN</td>\n",
       "      <td>-0.231310</td>\n",
       "    </tr>\n",
       "    <tr>\n",
       "      <td>parks_nearest</td>\n",
       "      <td>-0.072937</td>\n",
       "      <td>0.092364</td>\n",
       "      <td>0.050417</td>\n",
       "      <td>-0.066268</td>\n",
       "      <td>-0.082796</td>\n",
       "      <td>0.221198</td>\n",
       "      <td>-0.053737</td>\n",
       "      <td>0.159274</td>\n",
       "      <td>-0.017377</td>\n",
       "      <td>-0.014819</td>\n",
       "      <td>...</td>\n",
       "      <td>0.098444</td>\n",
       "      <td>NaN</td>\n",
       "      <td>NaN</td>\n",
       "      <td>NaN</td>\n",
       "      <td>NaN</td>\n",
       "      <td>NaN</td>\n",
       "      <td>NaN</td>\n",
       "      <td>NaN</td>\n",
       "      <td>NaN</td>\n",
       "      <td>0.069076</td>\n",
       "    </tr>\n",
       "    <tr>\n",
       "      <td>ponds_around3000</td>\n",
       "      <td>0.010806</td>\n",
       "      <td>0.030050</td>\n",
       "      <td>0.020176</td>\n",
       "      <td>-0.035828</td>\n",
       "      <td>-0.011915</td>\n",
       "      <td>-0.011391</td>\n",
       "      <td>-0.008355</td>\n",
       "      <td>-0.017791</td>\n",
       "      <td>0.025345</td>\n",
       "      <td>0.011803</td>\n",
       "      <td>...</td>\n",
       "      <td>0.053032</td>\n",
       "      <td>NaN</td>\n",
       "      <td>NaN</td>\n",
       "      <td>NaN</td>\n",
       "      <td>NaN</td>\n",
       "      <td>NaN</td>\n",
       "      <td>NaN</td>\n",
       "      <td>NaN</td>\n",
       "      <td>NaN</td>\n",
       "      <td>-0.262267</td>\n",
       "    </tr>\n",
       "    <tr>\n",
       "      <td>ponds_nearest</td>\n",
       "      <td>-0.013440</td>\n",
       "      <td>-0.002436</td>\n",
       "      <td>-0.018613</td>\n",
       "      <td>-0.026836</td>\n",
       "      <td>0.034554</td>\n",
       "      <td>0.035208</td>\n",
       "      <td>-0.015587</td>\n",
       "      <td>0.007248</td>\n",
       "      <td>-0.011316</td>\n",
       "      <td>-0.016436</td>\n",
       "      <td>...</td>\n",
       "      <td>-0.012807</td>\n",
       "      <td>NaN</td>\n",
       "      <td>NaN</td>\n",
       "      <td>NaN</td>\n",
       "      <td>NaN</td>\n",
       "      <td>NaN</td>\n",
       "      <td>NaN</td>\n",
       "      <td>NaN</td>\n",
       "      <td>NaN</td>\n",
       "      <td>0.219269</td>\n",
       "    </tr>\n",
       "    <tr>\n",
       "      <td>days_exposition</td>\n",
       "      <td>-0.002673</td>\n",
       "      <td>0.133155</td>\n",
       "      <td>0.166649</td>\n",
       "      <td>0.112358</td>\n",
       "      <td>0.035565</td>\n",
       "      <td>-0.033382</td>\n",
       "      <td>0.126709</td>\n",
       "      <td>-0.026185</td>\n",
       "      <td>-0.051907</td>\n",
       "      <td>-0.021796</td>\n",
       "      <td>...</td>\n",
       "      <td>-0.001781</td>\n",
       "      <td>NaN</td>\n",
       "      <td>NaN</td>\n",
       "      <td>NaN</td>\n",
       "      <td>NaN</td>\n",
       "      <td>NaN</td>\n",
       "      <td>NaN</td>\n",
       "      <td>NaN</td>\n",
       "      <td>NaN</td>\n",
       "      <td>-0.049081</td>\n",
       "    </tr>\n",
       "    <tr>\n",
       "      <td>price_sq_metr</td>\n",
       "      <td>0.121155</td>\n",
       "      <td>0.400018</td>\n",
       "      <td>-0.210781</td>\n",
       "      <td>-0.366881</td>\n",
       "      <td>-0.081996</td>\n",
       "      <td>0.327252</td>\n",
       "      <td>-0.314956</td>\n",
       "      <td>0.284808</td>\n",
       "      <td>0.023892</td>\n",
       "      <td>0.018436</td>\n",
       "      <td>...</td>\n",
       "      <td>0.335353</td>\n",
       "      <td>NaN</td>\n",
       "      <td>NaN</td>\n",
       "      <td>NaN</td>\n",
       "      <td>NaN</td>\n",
       "      <td>NaN</td>\n",
       "      <td>NaN</td>\n",
       "      <td>NaN</td>\n",
       "      <td>NaN</td>\n",
       "      <td>0.077038</td>\n",
       "    </tr>\n",
       "    <tr>\n",
       "      <td>first_day_weekday</td>\n",
       "      <td>0.061642</td>\n",
       "      <td>0.008573</td>\n",
       "      <td>-0.016977</td>\n",
       "      <td>-0.016849</td>\n",
       "      <td>0.025530</td>\n",
       "      <td>0.035243</td>\n",
       "      <td>-0.020853</td>\n",
       "      <td>0.034198</td>\n",
       "      <td>-0.008129</td>\n",
       "      <td>0.034370</td>\n",
       "      <td>...</td>\n",
       "      <td>0.004584</td>\n",
       "      <td>NaN</td>\n",
       "      <td>NaN</td>\n",
       "      <td>NaN</td>\n",
       "      <td>NaN</td>\n",
       "      <td>NaN</td>\n",
       "      <td>NaN</td>\n",
       "      <td>NaN</td>\n",
       "      <td>NaN</td>\n",
       "      <td>0.009475</td>\n",
       "    </tr>\n",
       "    <tr>\n",
       "      <td>first_day_month</td>\n",
       "      <td>-0.000761</td>\n",
       "      <td>-0.018260</td>\n",
       "      <td>0.007835</td>\n",
       "      <td>0.012304</td>\n",
       "      <td>-0.043464</td>\n",
       "      <td>0.002007</td>\n",
       "      <td>0.018002</td>\n",
       "      <td>0.016139</td>\n",
       "      <td>0.013993</td>\n",
       "      <td>0.061774</td>\n",
       "      <td>...</td>\n",
       "      <td>-0.003816</td>\n",
       "      <td>NaN</td>\n",
       "      <td>NaN</td>\n",
       "      <td>NaN</td>\n",
       "      <td>NaN</td>\n",
       "      <td>NaN</td>\n",
       "      <td>NaN</td>\n",
       "      <td>NaN</td>\n",
       "      <td>NaN</td>\n",
       "      <td>-0.019608</td>\n",
       "    </tr>\n",
       "    <tr>\n",
       "      <td>first_day_year</td>\n",
       "      <td>0.151430</td>\n",
       "      <td>0.012519</td>\n",
       "      <td>-0.080500</td>\n",
       "      <td>-0.055907</td>\n",
       "      <td>0.033061</td>\n",
       "      <td>-0.018530</td>\n",
       "      <td>-0.062349</td>\n",
       "      <td>-0.001978</td>\n",
       "      <td>-0.007691</td>\n",
       "      <td>-0.046341</td>\n",
       "      <td>...</td>\n",
       "      <td>0.023270</td>\n",
       "      <td>NaN</td>\n",
       "      <td>NaN</td>\n",
       "      <td>NaN</td>\n",
       "      <td>NaN</td>\n",
       "      <td>NaN</td>\n",
       "      <td>NaN</td>\n",
       "      <td>NaN</td>\n",
       "      <td>NaN</td>\n",
       "      <td>0.059766</td>\n",
       "    </tr>\n",
       "    <tr>\n",
       "      <td>living_ratio</td>\n",
       "      <td>-0.002683</td>\n",
       "      <td>-0.059745</td>\n",
       "      <td>0.107110</td>\n",
       "      <td>0.390681</td>\n",
       "      <td>0.060505</td>\n",
       "      <td>-0.290290</td>\n",
       "      <td>0.531518</td>\n",
       "      <td>-0.167372</td>\n",
       "      <td>0.195429</td>\n",
       "      <td>0.074242</td>\n",
       "      <td>...</td>\n",
       "      <td>-0.396701</td>\n",
       "      <td>NaN</td>\n",
       "      <td>NaN</td>\n",
       "      <td>NaN</td>\n",
       "      <td>NaN</td>\n",
       "      <td>NaN</td>\n",
       "      <td>NaN</td>\n",
       "      <td>NaN</td>\n",
       "      <td>NaN</td>\n",
       "      <td>-0.066910</td>\n",
       "    </tr>\n",
       "    <tr>\n",
       "      <td>kitchen_ratio</td>\n",
       "      <td>-0.009631</td>\n",
       "      <td>-0.216889</td>\n",
       "      <td>-0.436751</td>\n",
       "      <td>-0.572849</td>\n",
       "      <td>-0.027176</td>\n",
       "      <td>0.185925</td>\n",
       "      <td>-0.572962</td>\n",
       "      <td>0.055258</td>\n",
       "      <td>0.160775</td>\n",
       "      <td>0.138785</td>\n",
       "      <td>...</td>\n",
       "      <td>1.000000</td>\n",
       "      <td>NaN</td>\n",
       "      <td>NaN</td>\n",
       "      <td>NaN</td>\n",
       "      <td>NaN</td>\n",
       "      <td>NaN</td>\n",
       "      <td>NaN</td>\n",
       "      <td>NaN</td>\n",
       "      <td>NaN</td>\n",
       "      <td>0.055921</td>\n",
       "    </tr>\n",
       "    <tr>\n",
       "      <td>too_large_area</td>\n",
       "      <td>NaN</td>\n",
       "      <td>NaN</td>\n",
       "      <td>NaN</td>\n",
       "      <td>NaN</td>\n",
       "      <td>NaN</td>\n",
       "      <td>NaN</td>\n",
       "      <td>NaN</td>\n",
       "      <td>NaN</td>\n",
       "      <td>NaN</td>\n",
       "      <td>NaN</td>\n",
       "      <td>...</td>\n",
       "      <td>NaN</td>\n",
       "      <td>NaN</td>\n",
       "      <td>NaN</td>\n",
       "      <td>NaN</td>\n",
       "      <td>NaN</td>\n",
       "      <td>NaN</td>\n",
       "      <td>NaN</td>\n",
       "      <td>NaN</td>\n",
       "      <td>NaN</td>\n",
       "      <td>NaN</td>\n",
       "    </tr>\n",
       "    <tr>\n",
       "      <td>too_expensive_price</td>\n",
       "      <td>NaN</td>\n",
       "      <td>NaN</td>\n",
       "      <td>NaN</td>\n",
       "      <td>NaN</td>\n",
       "      <td>NaN</td>\n",
       "      <td>NaN</td>\n",
       "      <td>NaN</td>\n",
       "      <td>NaN</td>\n",
       "      <td>NaN</td>\n",
       "      <td>NaN</td>\n",
       "      <td>...</td>\n",
       "      <td>NaN</td>\n",
       "      <td>NaN</td>\n",
       "      <td>NaN</td>\n",
       "      <td>NaN</td>\n",
       "      <td>NaN</td>\n",
       "      <td>NaN</td>\n",
       "      <td>NaN</td>\n",
       "      <td>NaN</td>\n",
       "      <td>NaN</td>\n",
       "      <td>NaN</td>\n",
       "    </tr>\n",
       "    <tr>\n",
       "      <td>too_chip_price</td>\n",
       "      <td>NaN</td>\n",
       "      <td>NaN</td>\n",
       "      <td>NaN</td>\n",
       "      <td>NaN</td>\n",
       "      <td>NaN</td>\n",
       "      <td>NaN</td>\n",
       "      <td>NaN</td>\n",
       "      <td>NaN</td>\n",
       "      <td>NaN</td>\n",
       "      <td>NaN</td>\n",
       "      <td>...</td>\n",
       "      <td>NaN</td>\n",
       "      <td>NaN</td>\n",
       "      <td>NaN</td>\n",
       "      <td>NaN</td>\n",
       "      <td>NaN</td>\n",
       "      <td>NaN</td>\n",
       "      <td>NaN</td>\n",
       "      <td>NaN</td>\n",
       "      <td>NaN</td>\n",
       "      <td>NaN</td>\n",
       "    </tr>\n",
       "    <tr>\n",
       "      <td>too_many_rooms</td>\n",
       "      <td>NaN</td>\n",
       "      <td>NaN</td>\n",
       "      <td>NaN</td>\n",
       "      <td>NaN</td>\n",
       "      <td>NaN</td>\n",
       "      <td>NaN</td>\n",
       "      <td>NaN</td>\n",
       "      <td>NaN</td>\n",
       "      <td>NaN</td>\n",
       "      <td>NaN</td>\n",
       "      <td>...</td>\n",
       "      <td>NaN</td>\n",
       "      <td>NaN</td>\n",
       "      <td>NaN</td>\n",
       "      <td>NaN</td>\n",
       "      <td>NaN</td>\n",
       "      <td>NaN</td>\n",
       "      <td>NaN</td>\n",
       "      <td>NaN</td>\n",
       "      <td>NaN</td>\n",
       "      <td>NaN</td>\n",
       "    </tr>\n",
       "    <tr>\n",
       "      <td>too_high_ceiling_height</td>\n",
       "      <td>NaN</td>\n",
       "      <td>NaN</td>\n",
       "      <td>NaN</td>\n",
       "      <td>NaN</td>\n",
       "      <td>NaN</td>\n",
       "      <td>NaN</td>\n",
       "      <td>NaN</td>\n",
       "      <td>NaN</td>\n",
       "      <td>NaN</td>\n",
       "      <td>NaN</td>\n",
       "      <td>...</td>\n",
       "      <td>NaN</td>\n",
       "      <td>NaN</td>\n",
       "      <td>NaN</td>\n",
       "      <td>NaN</td>\n",
       "      <td>NaN</td>\n",
       "      <td>NaN</td>\n",
       "      <td>NaN</td>\n",
       "      <td>NaN</td>\n",
       "      <td>NaN</td>\n",
       "      <td>NaN</td>\n",
       "    </tr>\n",
       "    <tr>\n",
       "      <td>too_low_ceiling_height</td>\n",
       "      <td>NaN</td>\n",
       "      <td>NaN</td>\n",
       "      <td>NaN</td>\n",
       "      <td>NaN</td>\n",
       "      <td>NaN</td>\n",
       "      <td>NaN</td>\n",
       "      <td>NaN</td>\n",
       "      <td>NaN</td>\n",
       "      <td>NaN</td>\n",
       "      <td>NaN</td>\n",
       "      <td>...</td>\n",
       "      <td>NaN</td>\n",
       "      <td>NaN</td>\n",
       "      <td>NaN</td>\n",
       "      <td>NaN</td>\n",
       "      <td>NaN</td>\n",
       "      <td>NaN</td>\n",
       "      <td>NaN</td>\n",
       "      <td>NaN</td>\n",
       "      <td>NaN</td>\n",
       "      <td>NaN</td>\n",
       "    </tr>\n",
       "    <tr>\n",
       "      <td>too_slow</td>\n",
       "      <td>NaN</td>\n",
       "      <td>NaN</td>\n",
       "      <td>NaN</td>\n",
       "      <td>NaN</td>\n",
       "      <td>NaN</td>\n",
       "      <td>NaN</td>\n",
       "      <td>NaN</td>\n",
       "      <td>NaN</td>\n",
       "      <td>NaN</td>\n",
       "      <td>NaN</td>\n",
       "      <td>...</td>\n",
       "      <td>NaN</td>\n",
       "      <td>NaN</td>\n",
       "      <td>NaN</td>\n",
       "      <td>NaN</td>\n",
       "      <td>NaN</td>\n",
       "      <td>NaN</td>\n",
       "      <td>NaN</td>\n",
       "      <td>NaN</td>\n",
       "      <td>NaN</td>\n",
       "      <td>NaN</td>\n",
       "    </tr>\n",
       "    <tr>\n",
       "      <td>too_fast</td>\n",
       "      <td>NaN</td>\n",
       "      <td>NaN</td>\n",
       "      <td>NaN</td>\n",
       "      <td>NaN</td>\n",
       "      <td>NaN</td>\n",
       "      <td>NaN</td>\n",
       "      <td>NaN</td>\n",
       "      <td>NaN</td>\n",
       "      <td>NaN</td>\n",
       "      <td>NaN</td>\n",
       "      <td>...</td>\n",
       "      <td>NaN</td>\n",
       "      <td>NaN</td>\n",
       "      <td>NaN</td>\n",
       "      <td>NaN</td>\n",
       "      <td>NaN</td>\n",
       "      <td>NaN</td>\n",
       "      <td>NaN</td>\n",
       "      <td>NaN</td>\n",
       "      <td>NaN</td>\n",
       "      <td>NaN</td>\n",
       "    </tr>\n",
       "    <tr>\n",
       "      <td>cityCenters_nearest_km</td>\n",
       "      <td>0.013581</td>\n",
       "      <td>-0.128660</td>\n",
       "      <td>-0.196251</td>\n",
       "      <td>-0.186677</td>\n",
       "      <td>-0.183678</td>\n",
       "      <td>0.354922</td>\n",
       "      <td>-0.198453</td>\n",
       "      <td>0.248542</td>\n",
       "      <td>0.036279</td>\n",
       "      <td>-0.018106</td>\n",
       "      <td>...</td>\n",
       "      <td>0.055921</td>\n",
       "      <td>NaN</td>\n",
       "      <td>NaN</td>\n",
       "      <td>NaN</td>\n",
       "      <td>NaN</td>\n",
       "      <td>NaN</td>\n",
       "      <td>NaN</td>\n",
       "      <td>NaN</td>\n",
       "      <td>NaN</td>\n",
       "      <td>1.000000</td>\n",
       "    </tr>\n",
       "  </tbody>\n",
       "</table>\n",
       "<p>34 rows × 34 columns</p>\n",
       "</div>"
      ],
      "text/plain": [
       "                         total_images  last_price  total_area     rooms  \\\n",
       "total_images                 1.000000    0.093524    0.025972  0.045003   \n",
       "last_price                   0.093524    1.000000    0.793065  0.493862   \n",
       "total_area                   0.025972    0.793065    1.000000  0.773303   \n",
       "rooms                        0.045003    0.493862    0.773303  1.000000   \n",
       "ceiling_height               0.048474    0.096888    0.156478  0.143642   \n",
       "floors_total                -0.038864    0.153799   -0.025914 -0.202862   \n",
       "living_area                  0.034208    0.611488    0.872217  0.843596   \n",
       "floor                        0.005668    0.189217    0.032382 -0.093638   \n",
       "studio                      -0.028985   -0.086473   -0.102378 -0.168583   \n",
       "open_plan                   -0.026148   -0.067817   -0.076099 -0.084956   \n",
       "kitchen_area                 0.029225    0.466213    0.390222  0.062713   \n",
       "balcony                     -0.016768    0.137230   -0.005243 -0.103560   \n",
       "airports_nearest             0.048753    0.024921   -0.081045 -0.086102   \n",
       "cityCenters_nearest          0.016326   -0.117767   -0.189177 -0.185472   \n",
       "parks_around3000             0.056551    0.078890    0.092975  0.096619   \n",
       "parks_nearest               -0.072937    0.092364    0.050417 -0.066268   \n",
       "ponds_around3000             0.010806    0.030050    0.020176 -0.035828   \n",
       "ponds_nearest               -0.013440   -0.002436   -0.018613 -0.026836   \n",
       "days_exposition             -0.002673    0.133155    0.166649  0.112358   \n",
       "price_sq_metr                0.121155    0.400018   -0.210781 -0.366881   \n",
       "first_day_weekday            0.061642    0.008573   -0.016977 -0.016849   \n",
       "first_day_month             -0.000761   -0.018260    0.007835  0.012304   \n",
       "first_day_year               0.151430    0.012519   -0.080500 -0.055907   \n",
       "living_ratio                -0.002683   -0.059745    0.107110  0.390681   \n",
       "kitchen_ratio               -0.009631   -0.216889   -0.436751 -0.572849   \n",
       "too_large_area                    NaN         NaN         NaN       NaN   \n",
       "too_expensive_price               NaN         NaN         NaN       NaN   \n",
       "too_chip_price                    NaN         NaN         NaN       NaN   \n",
       "too_many_rooms                    NaN         NaN         NaN       NaN   \n",
       "too_high_ceiling_height           NaN         NaN         NaN       NaN   \n",
       "too_low_ceiling_height            NaN         NaN         NaN       NaN   \n",
       "too_slow                          NaN         NaN         NaN       NaN   \n",
       "too_fast                          NaN         NaN         NaN       NaN   \n",
       "cityCenters_nearest_km       0.013581   -0.128660   -0.196251 -0.186677   \n",
       "\n",
       "                         ceiling_height  floors_total  living_area     floor  \\\n",
       "total_images                   0.048474     -0.038864     0.034208  0.005668   \n",
       "last_price                     0.096888      0.153799     0.611488  0.189217   \n",
       "total_area                     0.156478     -0.025914     0.872217  0.032382   \n",
       "rooms                          0.143642     -0.202862     0.843596 -0.093638   \n",
       "ceiling_height                 1.000000     -0.218232     0.153722 -0.158019   \n",
       "floors_total                  -0.218232      1.000000    -0.166804  0.651878   \n",
       "living_area                    0.153722     -0.166804     1.000000 -0.056734   \n",
       "floor                         -0.158019      0.651878    -0.056734  1.000000   \n",
       "studio                         0.002740      0.011411    -0.046298 -0.014273   \n",
       "open_plan                      0.014005      0.003505    -0.042752 -0.016347   \n",
       "kitchen_area                   0.091848      0.160566     0.115235  0.098108   \n",
       "balcony                       -0.091420      0.424085    -0.073254  0.309766   \n",
       "airports_nearest              -0.113623      0.102182    -0.127780  0.067225   \n",
       "cityCenters_nearest           -0.193203      0.367757    -0.196005  0.263748   \n",
       "parks_around3000               0.060132     -0.277381     0.102635 -0.183502   \n",
       "parks_nearest                 -0.082796      0.221198    -0.053737  0.159274   \n",
       "ponds_around3000              -0.011915     -0.011391    -0.008355 -0.017791   \n",
       "ponds_nearest                  0.034554      0.035208    -0.015587  0.007248   \n",
       "days_exposition                0.035565     -0.033382     0.126709 -0.026185   \n",
       "price_sq_metr                 -0.081996      0.327252    -0.314956  0.284808   \n",
       "first_day_weekday              0.025530      0.035243    -0.020853  0.034198   \n",
       "first_day_month               -0.043464      0.002007     0.018002  0.016139   \n",
       "first_day_year                 0.033061     -0.018530    -0.062349 -0.001978   \n",
       "living_ratio                   0.060505     -0.290290     0.531518 -0.167372   \n",
       "kitchen_ratio                 -0.027176      0.185925    -0.572962  0.055258   \n",
       "too_large_area                      NaN           NaN          NaN       NaN   \n",
       "too_expensive_price                 NaN           NaN          NaN       NaN   \n",
       "too_chip_price                      NaN           NaN          NaN       NaN   \n",
       "too_many_rooms                      NaN           NaN          NaN       NaN   \n",
       "too_high_ceiling_height             NaN           NaN          NaN       NaN   \n",
       "too_low_ceiling_height              NaN           NaN          NaN       NaN   \n",
       "too_slow                            NaN           NaN          NaN       NaN   \n",
       "too_fast                            NaN           NaN          NaN       NaN   \n",
       "cityCenters_nearest_km        -0.183678      0.354922    -0.198453  0.248542   \n",
       "\n",
       "                           studio  open_plan  ...  kitchen_ratio  \\\n",
       "total_images            -0.028985  -0.026148  ...      -0.009631   \n",
       "last_price              -0.086473  -0.067817  ...      -0.216889   \n",
       "total_area              -0.102378  -0.076099  ...      -0.436751   \n",
       "rooms                   -0.168583  -0.084956  ...      -0.572849   \n",
       "ceiling_height           0.002740   0.014005  ...      -0.027176   \n",
       "floors_total             0.011411   0.003505  ...       0.185925   \n",
       "living_area             -0.046298  -0.042752  ...      -0.572962   \n",
       "floor                   -0.014273  -0.016347  ...       0.055258   \n",
       "studio                   1.000000  -0.003690  ...       0.160775   \n",
       "open_plan               -0.003690   1.000000  ...       0.138785   \n",
       "kitchen_area            -0.017490  -0.010985  ...       0.577245   \n",
       "balcony                  0.018029  -0.022321  ...       0.116541   \n",
       "airports_nearest        -0.022140  -0.027342  ...       0.045885   \n",
       "cityCenters_nearest      0.036350  -0.018569  ...       0.057755   \n",
       "parks_around3000        -0.053623   0.050679  ...      -0.027978   \n",
       "parks_nearest           -0.017377  -0.014819  ...       0.098444   \n",
       "ponds_around3000         0.025345   0.011803  ...       0.053032   \n",
       "ponds_nearest           -0.011316  -0.016436  ...      -0.012807   \n",
       "days_exposition         -0.051907  -0.021796  ...      -0.001781   \n",
       "price_sq_metr            0.023892   0.018436  ...       0.335353   \n",
       "first_day_weekday       -0.008129   0.034370  ...       0.004584   \n",
       "first_day_month          0.013993   0.061774  ...      -0.003816   \n",
       "first_day_year          -0.007691  -0.046341  ...       0.023270   \n",
       "living_ratio             0.195429   0.074242  ...      -0.396701   \n",
       "kitchen_ratio            0.160775   0.138785  ...       1.000000   \n",
       "too_large_area                NaN        NaN  ...            NaN   \n",
       "too_expensive_price           NaN        NaN  ...            NaN   \n",
       "too_chip_price                NaN        NaN  ...            NaN   \n",
       "too_many_rooms                NaN        NaN  ...            NaN   \n",
       "too_high_ceiling_height       NaN        NaN  ...            NaN   \n",
       "too_low_ceiling_height        NaN        NaN  ...            NaN   \n",
       "too_slow                      NaN        NaN  ...            NaN   \n",
       "too_fast                      NaN        NaN  ...            NaN   \n",
       "cityCenters_nearest_km   0.036279  -0.018106  ...       0.055921   \n",
       "\n",
       "                         too_large_area  too_expensive_price  too_chip_price  \\\n",
       "total_images                        NaN                  NaN             NaN   \n",
       "last_price                          NaN                  NaN             NaN   \n",
       "total_area                          NaN                  NaN             NaN   \n",
       "rooms                               NaN                  NaN             NaN   \n",
       "ceiling_height                      NaN                  NaN             NaN   \n",
       "floors_total                        NaN                  NaN             NaN   \n",
       "living_area                         NaN                  NaN             NaN   \n",
       "floor                               NaN                  NaN             NaN   \n",
       "studio                              NaN                  NaN             NaN   \n",
       "open_plan                           NaN                  NaN             NaN   \n",
       "kitchen_area                        NaN                  NaN             NaN   \n",
       "balcony                             NaN                  NaN             NaN   \n",
       "airports_nearest                    NaN                  NaN             NaN   \n",
       "cityCenters_nearest                 NaN                  NaN             NaN   \n",
       "parks_around3000                    NaN                  NaN             NaN   \n",
       "parks_nearest                       NaN                  NaN             NaN   \n",
       "ponds_around3000                    NaN                  NaN             NaN   \n",
       "ponds_nearest                       NaN                  NaN             NaN   \n",
       "days_exposition                     NaN                  NaN             NaN   \n",
       "price_sq_metr                       NaN                  NaN             NaN   \n",
       "first_day_weekday                   NaN                  NaN             NaN   \n",
       "first_day_month                     NaN                  NaN             NaN   \n",
       "first_day_year                      NaN                  NaN             NaN   \n",
       "living_ratio                        NaN                  NaN             NaN   \n",
       "kitchen_ratio                       NaN                  NaN             NaN   \n",
       "too_large_area                      NaN                  NaN             NaN   \n",
       "too_expensive_price                 NaN                  NaN             NaN   \n",
       "too_chip_price                      NaN                  NaN             NaN   \n",
       "too_many_rooms                      NaN                  NaN             NaN   \n",
       "too_high_ceiling_height             NaN                  NaN             NaN   \n",
       "too_low_ceiling_height              NaN                  NaN             NaN   \n",
       "too_slow                            NaN                  NaN             NaN   \n",
       "too_fast                            NaN                  NaN             NaN   \n",
       "cityCenters_nearest_km              NaN                  NaN             NaN   \n",
       "\n",
       "                         too_many_rooms  too_high_ceiling_height  \\\n",
       "total_images                        NaN                      NaN   \n",
       "last_price                          NaN                      NaN   \n",
       "total_area                          NaN                      NaN   \n",
       "rooms                               NaN                      NaN   \n",
       "ceiling_height                      NaN                      NaN   \n",
       "floors_total                        NaN                      NaN   \n",
       "living_area                         NaN                      NaN   \n",
       "floor                               NaN                      NaN   \n",
       "studio                              NaN                      NaN   \n",
       "open_plan                           NaN                      NaN   \n",
       "kitchen_area                        NaN                      NaN   \n",
       "balcony                             NaN                      NaN   \n",
       "airports_nearest                    NaN                      NaN   \n",
       "cityCenters_nearest                 NaN                      NaN   \n",
       "parks_around3000                    NaN                      NaN   \n",
       "parks_nearest                       NaN                      NaN   \n",
       "ponds_around3000                    NaN                      NaN   \n",
       "ponds_nearest                       NaN                      NaN   \n",
       "days_exposition                     NaN                      NaN   \n",
       "price_sq_metr                       NaN                      NaN   \n",
       "first_day_weekday                   NaN                      NaN   \n",
       "first_day_month                     NaN                      NaN   \n",
       "first_day_year                      NaN                      NaN   \n",
       "living_ratio                        NaN                      NaN   \n",
       "kitchen_ratio                       NaN                      NaN   \n",
       "too_large_area                      NaN                      NaN   \n",
       "too_expensive_price                 NaN                      NaN   \n",
       "too_chip_price                      NaN                      NaN   \n",
       "too_many_rooms                      NaN                      NaN   \n",
       "too_high_ceiling_height             NaN                      NaN   \n",
       "too_low_ceiling_height              NaN                      NaN   \n",
       "too_slow                            NaN                      NaN   \n",
       "too_fast                            NaN                      NaN   \n",
       "cityCenters_nearest_km              NaN                      NaN   \n",
       "\n",
       "                         too_low_ceiling_height  too_slow  too_fast  \\\n",
       "total_images                                NaN       NaN       NaN   \n",
       "last_price                                  NaN       NaN       NaN   \n",
       "total_area                                  NaN       NaN       NaN   \n",
       "rooms                                       NaN       NaN       NaN   \n",
       "ceiling_height                              NaN       NaN       NaN   \n",
       "floors_total                                NaN       NaN       NaN   \n",
       "living_area                                 NaN       NaN       NaN   \n",
       "floor                                       NaN       NaN       NaN   \n",
       "studio                                      NaN       NaN       NaN   \n",
       "open_plan                                   NaN       NaN       NaN   \n",
       "kitchen_area                                NaN       NaN       NaN   \n",
       "balcony                                     NaN       NaN       NaN   \n",
       "airports_nearest                            NaN       NaN       NaN   \n",
       "cityCenters_nearest                         NaN       NaN       NaN   \n",
       "parks_around3000                            NaN       NaN       NaN   \n",
       "parks_nearest                               NaN       NaN       NaN   \n",
       "ponds_around3000                            NaN       NaN       NaN   \n",
       "ponds_nearest                               NaN       NaN       NaN   \n",
       "days_exposition                             NaN       NaN       NaN   \n",
       "price_sq_metr                               NaN       NaN       NaN   \n",
       "first_day_weekday                           NaN       NaN       NaN   \n",
       "first_day_month                             NaN       NaN       NaN   \n",
       "first_day_year                              NaN       NaN       NaN   \n",
       "living_ratio                                NaN       NaN       NaN   \n",
       "kitchen_ratio                               NaN       NaN       NaN   \n",
       "too_large_area                              NaN       NaN       NaN   \n",
       "too_expensive_price                         NaN       NaN       NaN   \n",
       "too_chip_price                              NaN       NaN       NaN   \n",
       "too_many_rooms                              NaN       NaN       NaN   \n",
       "too_high_ceiling_height                     NaN       NaN       NaN   \n",
       "too_low_ceiling_height                      NaN       NaN       NaN   \n",
       "too_slow                                    NaN       NaN       NaN   \n",
       "too_fast                                    NaN       NaN       NaN   \n",
       "cityCenters_nearest_km                      NaN       NaN       NaN   \n",
       "\n",
       "                         cityCenters_nearest_km  \n",
       "total_images                           0.013581  \n",
       "last_price                            -0.128660  \n",
       "total_area                            -0.196251  \n",
       "rooms                                 -0.186677  \n",
       "ceiling_height                        -0.183678  \n",
       "floors_total                           0.354922  \n",
       "living_area                           -0.198453  \n",
       "floor                                  0.248542  \n",
       "studio                                 0.036279  \n",
       "open_plan                             -0.018106  \n",
       "kitchen_area                          -0.092406  \n",
       "balcony                                0.154824  \n",
       "airports_nearest                       0.303522  \n",
       "cityCenters_nearest                    0.985315  \n",
       "parks_around3000                      -0.231310  \n",
       "parks_nearest                          0.069076  \n",
       "ponds_around3000                      -0.262267  \n",
       "ponds_nearest                          0.219269  \n",
       "days_exposition                       -0.049081  \n",
       "price_sq_metr                          0.077038  \n",
       "first_day_weekday                      0.009475  \n",
       "first_day_month                       -0.019608  \n",
       "first_day_year                         0.059766  \n",
       "living_ratio                          -0.066910  \n",
       "kitchen_ratio                          0.055921  \n",
       "too_large_area                              NaN  \n",
       "too_expensive_price                         NaN  \n",
       "too_chip_price                              NaN  \n",
       "too_many_rooms                              NaN  \n",
       "too_high_ceiling_height                     NaN  \n",
       "too_low_ceiling_height                      NaN  \n",
       "too_slow                                    NaN  \n",
       "too_fast                                    NaN  \n",
       "cityCenters_nearest_km                 1.000000  \n",
       "\n",
       "[34 rows x 34 columns]"
      ]
     },
     "execution_count": 82,
     "metadata": {},
     "output_type": "execute_result"
    }
   ],
   "source": [
    "cityCenters_nearest_segment.corr()"
   ]
  },
  {
   "cell_type": "code",
   "execution_count": 83,
   "metadata": {},
   "outputs": [
    {
     "data": {
      "text/plain": [
       "-0.3668807531784395"
      ]
     },
     "execution_count": 83,
     "metadata": {},
     "output_type": "execute_result"
    }
   ],
   "source": [
    "#посчитаем кофф корреляции:\n",
    "cityCenters_nearest_segment['rooms'].corr(cityCenters_nearest_segment['price_sq_metr'])"
   ]
  },
  {
   "cell_type": "markdown",
   "metadata": {},
   "source": [
    "\n",
    "Отрицательный Коэффициент корреляции. Цена за 1 кв. м за 5-комнатные квартиры выше , чем за 3-х и4-х комнатные квартиры. Скорее всего это зависит от спроса платежеспособног населения, которым хочется более просторную квартиру."
   ]
  },
  {
   "cell_type": "code",
   "execution_count": 84,
   "metadata": {},
   "outputs": [
    {
     "data": {
      "text/plain": [
       "<matplotlib.axes._subplots.AxesSubplot at 0x7fc286adcd50>"
      ]
     },
     "execution_count": 84,
     "metadata": {},
     "output_type": "execute_result"
    },
    {
     "data": {
      "image/png": "[encoded data removed]",
      "text/plain": [
       "<Figure size 432x288 with 1 Axes>"
      ]
     },
     "metadata": {
      "needs_background": "light"
     },
     "output_type": "display_data"
    }
   ],
   "source": [
    "cityCenters_nearest_segment \\\n",
    "    .pivot_table(index='cityCenters_nearest', values='price_sq_metr') \\\n",
    "    .reset_index() \\\n",
    "    .plot(x='cityCenters_nearest', y='price_sq_metr',kind='scatter', grid=True)"
   ]
  },
  {
   "cell_type": "code",
   "execution_count": 85,
   "metadata": {},
   "outputs": [
    {
     "data": {
      "text/plain": [
       "0.08542030106654638"
      ]
     },
     "execution_count": 85,
     "metadata": {},
     "output_type": "execute_result"
    }
   ],
   "source": [
    "#посчитаем кофф корреляции:\n",
    "cityCenters_nearest_segment['cityCenters_nearest'].corr(cityCenters_nearest_segment['price_sq_metr'])"
   ]
  },
  {
   "cell_type": "markdown",
   "metadata": {},
   "source": [
    "Положительный Коэффициент корреляции, связь незначительная.Мало объявлений в центре города меньше 7 км. Или же в центре влияние близости к нему не так влияет, как по всем данным"
   ]
  },
  {
   "cell_type": "code",
   "execution_count": 86,
   "metadata": {},
   "outputs": [
    {
     "name": "stderr",
     "output_type": "stream",
     "text": [
      "/opt/conda/lib/python3.7/site-packages/numpy/core/_asarray.py:83: VisibleDeprecationWarning: Creating an ndarray from ragged nested sequences (which is a list-or-tuple of lists-or-tuples-or ndarrays with different lengths or shapes) is deprecated. If you meant to do this, you must specify 'dtype=object' when creating the ndarray\n",
      "  return array(a, dtype, copy=False, order=order)\n"
     ]
    },
    {
     "data": {
      "text/plain": [
       "<matplotlib.axes._subplots.AxesSubplot at 0x7fc286a2d1d0>"
      ]
     },
     "execution_count": 86,
     "metadata": {},
     "output_type": "execute_result"
    },
    {
     "data": {
      "image/png": "[encoded data removed]",
      "text/plain": [
       "<Figure size 432x288 with 1 Axes>"
      ]
     },
     "metadata": {
      "needs_background": "light"
     },
     "output_type": "display_data"
    }
   ],
   "source": [
    "# построим диаграмму и изучим зависимость этажности квартир и стоимости квартир:\n",
    "cityCenters_nearest_segment.boxplot('price_sq_metr', by='floor_cat')"
   ]
  },
  {
   "cell_type": "code",
   "execution_count": 87,
   "metadata": {},
   "outputs": [
    {
     "data": {
      "text/html": [
       "<div>\n",
       "<style scoped>\n",
       "    .dataframe tbody tr th:only-of-type {\n",
       "        vertical-align: middle;\n",
       "    }\n",
       "\n",
       "    .dataframe tbody tr th {\n",
       "        vertical-align: top;\n",
       "    }\n",
       "\n",
       "    .dataframe thead th {\n",
       "        text-align: right;\n",
       "    }\n",
       "</style>\n",
       "<table border=\"1\" class=\"dataframe\">\n",
       "  <thead>\n",
       "    <tr style=\"text-align: right;\">\n",
       "      <th></th>\n",
       "      <th>price_sq_metr</th>\n",
       "    </tr>\n",
       "    <tr>\n",
       "      <th>floor_cat</th>\n",
       "      <th></th>\n",
       "    </tr>\n",
       "  </thead>\n",
       "  <tbody>\n",
       "    <tr>\n",
       "      <td>первый</td>\n",
       "      <td>107263.20</td>\n",
       "    </tr>\n",
       "    <tr>\n",
       "      <td>последний</td>\n",
       "      <td>113959.09</td>\n",
       "    </tr>\n",
       "    <tr>\n",
       "      <td>другой</td>\n",
       "      <td>121225.87</td>\n",
       "    </tr>\n",
       "  </tbody>\n",
       "</table>\n",
       "</div>"
      ],
      "text/plain": [
       "           price_sq_metr\n",
       "floor_cat               \n",
       "первый         107263.20\n",
       "последний      113959.09\n",
       "другой         121225.87"
      ]
     },
     "execution_count": 87,
     "metadata": {},
     "output_type": "execute_result"
    }
   ],
   "source": [
    "#посмотрим есть ли зависимость между этажностью квартиры и стоимостью квартиры:\n",
    "pivot_table_floor_cat=cityCenters_nearest_segment.pivot_table(index='floor_cat', values='price_sq_metr', aggfunc='mean').round(2)\n",
    "pivot_table_floor_cat.sort_values('price_sq_metr')"
   ]
  },
  {
   "cell_type": "markdown",
   "metadata": {},
   "source": [
    "Стоимость квартир ниже, если квартира расположена на первых этажах и на последних."
   ]
  },
  {
   "cell_type": "code",
   "execution_count": 88,
   "metadata": {},
   "outputs": [
    {
     "data": {
      "text/plain": [
       "<matplotlib.axes._subplots.AxesSubplot at 0x7fc286ab06d0>"
      ]
     },
     "execution_count": 88,
     "metadata": {},
     "output_type": "execute_result"
    },
    {
     "data": {
      "image/png": "[encoded data removed]",
      "text/plain": [
       "<Figure size 432x288 with 1 Axes>"
      ]
     },
     "metadata": {
      "needs_background": "light"
     },
     "output_type": "display_data"
    }
   ],
   "source": [
    "# построим диаграмму и изучим зависимость дня недели продажи и стоимости квартир:\n",
    "cityCenters_nearest_segment \\\n",
    "    .pivot_table(index='first_day_weekday', values='price_sq_metr') \\\n",
    "    .reset_index() \\\n",
    "    .plot(x='first_day_weekday', y='price_sq_metr', grid=True)"
   ]
  },
  {
   "cell_type": "code",
   "execution_count": 89,
   "metadata": {},
   "outputs": [
    {
     "data": {
      "text/plain": [
       "0.049006471193430046"
      ]
     },
     "execution_count": 89,
     "metadata": {},
     "output_type": "execute_result"
    }
   ],
   "source": [
    "#посчитаем кофф корреляции:\n",
    "cityCenters_nearest_segment['first_day_weekday'].corr(cityCenters_nearest_segment['price_sq_metr'])"
   ]
  },
  {
   "cell_type": "code",
   "execution_count": 90,
   "metadata": {},
   "outputs": [
    {
     "data": {
      "text/plain": [
       "<matplotlib.axes._subplots.AxesSubplot at 0x7fc2869e3e10>"
      ]
     },
     "execution_count": 90,
     "metadata": {},
     "output_type": "execute_result"
    },
    {
     "data": {
      "image/png": "[encoded data removed]",
      "text/plain": [
       "<Figure size 432x288 with 1 Axes>"
      ]
     },
     "metadata": {
      "needs_background": "light"
     },
     "output_type": "display_data"
    }
   ],
   "source": [
    "# построим диаграмму и изучим зависимость месяца продажи и стоимости квартир:\n",
    "cityCenters_nearest_segment \\\n",
    "    .pivot_table(index='first_day_month', values='price_sq_metr') \\\n",
    "    .reset_index() \\\n",
    "    .plot(x='first_day_month', y='price_sq_metr', grid=True)"
   ]
  },
  {
   "cell_type": "code",
   "execution_count": 91,
   "metadata": {},
   "outputs": [
    {
     "data": {
      "text/plain": [
       "-0.04874523008289847"
      ]
     },
     "execution_count": 91,
     "metadata": {},
     "output_type": "execute_result"
    }
   ],
   "source": [
    "#посчитаем кофф корреляции:\n",
    "cityCenters_nearest_segment['first_day_month'].corr(cityCenters_nearest_segment['price_sq_metr'])"
   ]
  },
  {
   "cell_type": "code",
   "execution_count": 92,
   "metadata": {},
   "outputs": [
    {
     "data": {
      "text/plain": [
       "<matplotlib.axes._subplots.AxesSubplot at 0x7fc286a85310>"
      ]
     },
     "execution_count": 92,
     "metadata": {},
     "output_type": "execute_result"
    },
    {
     "data": {
      "image/png": "[encoded data removed]",
      "text/plain": [
       "<Figure size 432x288 with 1 Axes>"
      ]
     },
     "metadata": {
      "needs_background": "light"
     },
     "output_type": "display_data"
    }
   ],
   "source": [
    "# построим диаграмму и изучим зависимость года продаж и стоимости квартир:\n",
    "cityCenters_nearest_segment \\\n",
    "    .pivot_table(index='first_day_year', values='price_sq_metr') \\\n",
    "    .reset_index() \\\n",
    "    .plot(x='first_day_year', y='price_sq_metr', grid=True)"
   ]
  },
  {
   "cell_type": "code",
   "execution_count": 93,
   "metadata": {},
   "outputs": [
    {
     "data": {
      "text/plain": [
       "0.16196316669322416"
      ]
     },
     "execution_count": 93,
     "metadata": {},
     "output_type": "execute_result"
    }
   ],
   "source": [
    "#посчитаем кофф корреляции:\n",
    "cityCenters_nearest_segment['first_day_year'].corr(cityCenters_nearest_segment['price_sq_metr'])"
   ]
  },
  {
   "cell_type": "markdown",
   "metadata": {},
   "source": [
    "Стоимость на квартиры по выходным становятся выше, видимо многие смотрят и покупают именно на выходных. \n",
    "\n",
    "В марте цены подскочили на квартиры, с 2015  г имеем линейный рост стоимости на квартиры.\n"
   ]
  },
  {
   "cell_type": "markdown",
   "metadata": {},
   "source": [
    "## Общий вывод"
   ]
  },
  {
   "cell_type": "markdown",
   "metadata": {},
   "source": [
    "Изначальная цель проекта была:\n",
    "\n",
    "Научиться определять рыночную стоимость объектов недвижимости. Задача — установить параметры. Это позволит построить автоматизированную систему: она отследит аномалии и мошенническую деятельность.\n",
    "\n",
    "В ходе работы были найдены пропуски в данных. Заменили пропуски в столбце `balcony` на 0.\n",
    "Пропуски в столбце `ceiling_height` заменили медианным значением по группировке этажности дома.Также в столбцах `living_area,kitchen_area` пропущенные значения заполнили медианным значением группируя по кол-ву комнат.Пропущенные знаечения в столбцах `floors_total,locality_name`  удалили.\n",
    "Пропущенные значения в столбцах `is_apartment,airports_nearest, cityCenters_nearest,parks_around3000  parks_nearest,ponds_around3000 ,ponds_nearest` оставим без изменений, так как они нам не нужны при работе с данными.\n",
    "Пропущенные значения в столбцах `days_exposition` оставим без изменений, так как возможно объявление еще актуально и поэтому пропущенное значение в таблице.\n",
    "В данных также были обнаружены аномальные значения в столбцах площадь квартиры, стоимость квартиры, кол-во комнат, высота потолков и срок продажи квартир. Выбросы, не попадающие в нормальные границы значений, из таблицы были удалены, что составляет 18 % от всех данных.\n",
    "\n",
    "Площадь минимальная  площадь 17 кв.м максимальная-114 км, все что больше уже аномальные значения.\n",
    "Число комнат в среднем предобладают объявления 2-х комнатных квартир, но цены выше на однокомнатные.\n",
    "Так же стоимость квартиры выше, чем ближе к центру и выше первого этажа  она находится. Средние потолки это 2,75 м. \n",
    "\n",
    "Срок продажи квартир в среднем 3 месяца, слишком быстрые продажи 1 день и долгие продажи 510 дней, подозрительны."
   ]
  },
  {
   "cell_type": "code",
   "execution_count": null,
   "metadata": {},
   "outputs": [],
   "source": []
  },
  {
   "cell_type": "code",
   "execution_count": null,
   "metadata": {},
   "outputs": [],
   "source": []
  },
  {
   "cell_type": "code",
   "execution_count": null,
   "metadata": {},
   "outputs": [],
   "source": []
  },
  {
   "cell_type": "code",
   "execution_count": null,
   "metadata": {},
   "outputs": [],
   "source": []
  },
  {
   "cell_type": "code",
   "execution_count": null,
   "metadata": {},
   "outputs": [],
   "source": []
  },
  {
   "cell_type": "code",
   "execution_count": null,
   "metadata": {},
   "outputs": [],
   "source": []
  },
  {
   "cell_type": "code",
   "execution_count": null,
   "metadata": {},
   "outputs": [],
   "source": []
  },
  {
   "cell_type": "code",
   "execution_count": null,
   "metadata": {},
   "outputs": [],
   "source": []
  },
  {
   "cell_type": "code",
   "execution_count": null,
   "metadata": {},
   "outputs": [],
   "source": []
  },
  {
   "cell_type": "code",
   "execution_count": null,
   "metadata": {},
   "outputs": [],
   "source": []
  },
  {
   "cell_type": "code",
   "execution_count": null,
   "metadata": {},
   "outputs": [],
   "source": []
  },
  {
   "cell_type": "code",
   "execution_count": null,
   "metadata": {},
   "outputs": [],
   "source": []
  },
  {
   "cell_type": "code",
   "execution_count": null,
   "metadata": {},
   "outputs": [],
   "source": []
  },
  {
   "cell_type": "code",
   "execution_count": null,
   "metadata": {},
   "outputs": [],
   "source": []
  },
  {
   "cell_type": "code",
   "execution_count": null,
   "metadata": {},
   "outputs": [],
   "source": []
  },
  {
   "cell_type": "code",
   "execution_count": null,
   "metadata": {},
   "outputs": [],
   "source": []
  },
  {
   "cell_type": "code",
   "execution_count": null,
   "metadata": {},
   "outputs": [],
   "source": []
  },
  {
   "cell_type": "code",
   "execution_count": null,
   "metadata": {},
   "outputs": [],
   "source": []
  }
 ],
 "metadata": {
  "ExecuteTimeLog": [
   {
    "duration": 633,
    "start_time": "2021-12-21T18:56:50.558Z"
   },
   {
    "duration": 1903,
    "start_time": "2021-12-21T18:57:02.936Z"
   },
   {
    "duration": 101,
    "start_time": "2021-12-21T18:57:17.859Z"
   },
   {
    "duration": 288,
    "start_time": "2021-12-21T18:57:41.954Z"
   },
   {
    "duration": 13,
    "start_time": "2021-12-21T18:57:50.454Z"
   },
   {
    "duration": 80,
    "start_time": "2021-12-21T19:04:18.671Z"
   },
   {
    "duration": 70,
    "start_time": "2021-12-21T19:04:23.007Z"
   },
   {
    "duration": 6,
    "start_time": "2021-12-21T19:06:19.198Z"
   },
   {
    "duration": 6,
    "start_time": "2021-12-21T19:14:48.569Z"
   },
   {
    "duration": 19,
    "start_time": "2021-12-21T19:15:23.626Z"
   },
   {
    "duration": 7,
    "start_time": "2021-12-21T19:17:17.320Z"
   },
   {
    "duration": 9,
    "start_time": "2021-12-21T19:19:59.732Z"
   },
   {
    "duration": 9,
    "start_time": "2021-12-21T19:22:07.239Z"
   },
   {
    "duration": 16,
    "start_time": "2021-12-21T19:23:47.961Z"
   },
   {
    "duration": 32,
    "start_time": "2021-12-21T19:24:23.596Z"
   },
   {
    "duration": 335,
    "start_time": "2021-12-21T19:24:28.829Z"
   },
   {
    "duration": 272,
    "start_time": "2021-12-21T19:25:00.082Z"
   },
   {
    "duration": 22,
    "start_time": "2021-12-21T19:25:24.171Z"
   },
   {
    "duration": 245,
    "start_time": "2021-12-21T19:26:41.708Z"
   },
   {
    "duration": 261,
    "start_time": "2021-12-21T19:26:50.237Z"
   },
   {
    "duration": 80,
    "start_time": "2021-12-21T19:28:32.695Z"
   },
   {
    "duration": 43,
    "start_time": "2021-12-21T19:28:41.617Z"
   },
   {
    "duration": 10,
    "start_time": "2021-12-21T19:30:32.111Z"
   },
   {
    "duration": 22,
    "start_time": "2021-12-21T19:31:38.478Z"
   },
   {
    "duration": 26,
    "start_time": "2021-12-21T19:32:53.831Z"
   },
   {
    "duration": 22,
    "start_time": "2021-12-21T19:33:27.794Z"
   },
   {
    "duration": 8,
    "start_time": "2021-12-21T19:39:53.269Z"
   },
   {
    "duration": 6,
    "start_time": "2021-12-21T19:45:44.412Z"
   },
   {
    "duration": 8,
    "start_time": "2021-12-21T19:45:55.981Z"
   },
   {
    "duration": 6,
    "start_time": "2021-12-21T20:07:46.903Z"
   },
   {
    "duration": 266,
    "start_time": "2021-12-21T20:09:50.053Z"
   },
   {
    "duration": 5,
    "start_time": "2021-12-21T20:09:53.539Z"
   },
   {
    "duration": 50,
    "start_time": "2021-12-21T20:21:10.467Z"
   },
   {
    "duration": 13,
    "start_time": "2021-12-21T20:21:47.879Z"
   },
   {
    "duration": 3,
    "start_time": "2021-12-21T20:22:37.328Z"
   },
   {
    "duration": 4,
    "start_time": "2021-12-21T20:24:29.836Z"
   },
   {
    "duration": 14,
    "start_time": "2021-12-21T20:24:30.732Z"
   },
   {
    "duration": 4,
    "start_time": "2021-12-21T20:24:31.260Z"
   },
   {
    "duration": 520,
    "start_time": "2021-12-21T20:24:32.603Z"
   },
   {
    "duration": 504,
    "start_time": "2021-12-21T20:24:43.482Z"
   },
   {
    "duration": 6,
    "start_time": "2021-12-21T20:29:05.954Z"
   },
   {
    "duration": 5,
    "start_time": "2021-12-21T20:29:38.421Z"
   },
   {
    "duration": 4,
    "start_time": "2021-12-21T20:29:48.641Z"
   },
   {
    "duration": 5,
    "start_time": "2021-12-21T20:29:49.162Z"
   },
   {
    "duration": 5,
    "start_time": "2021-12-21T20:32:16.058Z"
   },
   {
    "duration": 14,
    "start_time": "2021-12-21T20:32:24.103Z"
   },
   {
    "duration": 18,
    "start_time": "2021-12-21T20:32:51.119Z"
   },
   {
    "duration": 17,
    "start_time": "2021-12-21T20:33:10.095Z"
   },
   {
    "duration": 6,
    "start_time": "2021-12-21T20:34:29.659Z"
   },
   {
    "duration": 808,
    "start_time": "2021-12-22T18:12:00.058Z"
   },
   {
    "duration": 142,
    "start_time": "2021-12-22T18:12:01.124Z"
   },
   {
    "duration": 5,
    "start_time": "2021-12-22T18:12:01.723Z"
   },
   {
    "duration": 14,
    "start_time": "2021-12-22T18:12:02.850Z"
   },
   {
    "duration": 104,
    "start_time": "2021-12-22T18:12:03.448Z"
   },
   {
    "duration": 5,
    "start_time": "2021-12-22T18:12:19.921Z"
   },
   {
    "duration": 6,
    "start_time": "2021-12-22T18:12:28.508Z"
   },
   {
    "duration": 17,
    "start_time": "2021-12-22T18:12:30.120Z"
   },
   {
    "duration": 98,
    "start_time": "2021-12-22T18:14:08.286Z"
   },
   {
    "duration": 36,
    "start_time": "2021-12-22T18:14:17.862Z"
   },
   {
    "duration": 62,
    "start_time": "2021-12-22T18:15:12.932Z"
   },
   {
    "duration": 116,
    "start_time": "2021-12-22T18:17:47.093Z"
   },
   {
    "duration": 1271,
    "start_time": "2021-12-22T18:19:00.013Z"
   },
   {
    "duration": 9,
    "start_time": "2021-12-22T18:22:02.887Z"
   },
   {
    "duration": 24,
    "start_time": "2021-12-22T18:22:10.914Z"
   },
   {
    "duration": 18,
    "start_time": "2021-12-22T18:22:54.062Z"
   },
   {
    "duration": 38,
    "start_time": "2021-12-22T18:23:56.148Z"
   },
   {
    "duration": 32,
    "start_time": "2021-12-22T18:24:23.636Z"
   },
   {
    "duration": 97,
    "start_time": "2021-12-22T18:24:58.945Z"
   },
   {
    "duration": 27,
    "start_time": "2021-12-22T18:25:05.330Z"
   },
   {
    "duration": 38,
    "start_time": "2021-12-22T18:25:45.954Z"
   },
   {
    "duration": 23,
    "start_time": "2021-12-22T18:26:08.901Z"
   },
   {
    "duration": 17,
    "start_time": "2021-12-22T18:32:33.610Z"
   },
   {
    "duration": 17,
    "start_time": "2021-12-22T18:49:27.363Z"
   },
   {
    "duration": 23,
    "start_time": "2021-12-22T18:49:39.516Z"
   },
   {
    "duration": 17,
    "start_time": "2021-12-22T18:50:03.792Z"
   },
   {
    "duration": 7,
    "start_time": "2021-12-22T18:50:06.638Z"
   },
   {
    "duration": 71,
    "start_time": "2021-12-22T18:50:51.795Z"
   },
   {
    "duration": 12,
    "start_time": "2021-12-22T18:55:46.432Z"
   },
   {
    "duration": 69,
    "start_time": "2021-12-22T18:55:59.650Z"
   },
   {
    "duration": 63,
    "start_time": "2021-12-22T19:24:03.481Z"
   },
   {
    "duration": 8,
    "start_time": "2021-12-22T19:24:37.711Z"
   },
   {
    "duration": 12,
    "start_time": "2021-12-22T19:24:57.420Z"
   },
   {
    "duration": 6,
    "start_time": "2021-12-22T19:25:10.137Z"
   },
   {
    "duration": 20,
    "start_time": "2021-12-22T19:35:05.104Z"
   },
   {
    "duration": 6,
    "start_time": "2021-12-22T19:35:22.525Z"
   },
   {
    "duration": 13,
    "start_time": "2021-12-22T19:36:07.690Z"
   },
   {
    "duration": 25,
    "start_time": "2021-12-22T19:36:17.696Z"
   },
   {
    "duration": 59,
    "start_time": "2021-12-22T19:37:53.878Z"
   },
   {
    "duration": 26,
    "start_time": "2021-12-22T19:38:39.151Z"
   },
   {
    "duration": 6,
    "start_time": "2021-12-22T19:38:44.705Z"
   },
   {
    "duration": 61,
    "start_time": "2021-12-22T19:38:45.773Z"
   },
   {
    "duration": 6,
    "start_time": "2021-12-22T19:39:29.760Z"
   },
   {
    "duration": 15,
    "start_time": "2021-12-22T19:39:37.400Z"
   },
   {
    "duration": 19,
    "start_time": "2021-12-22T19:39:48.115Z"
   },
   {
    "duration": 7,
    "start_time": "2021-12-22T19:39:51.368Z"
   },
   {
    "duration": 56,
    "start_time": "2021-12-22T19:39:52.184Z"
   },
   {
    "duration": 125,
    "start_time": "2021-12-22T19:39:58.333Z"
   },
   {
    "duration": 6,
    "start_time": "2021-12-22T19:39:58.544Z"
   },
   {
    "duration": 17,
    "start_time": "2021-12-22T19:39:58.747Z"
   },
   {
    "duration": 156,
    "start_time": "2021-12-22T19:39:58.941Z"
   },
   {
    "duration": 4,
    "start_time": "2021-12-22T19:39:59.137Z"
   },
   {
    "duration": 14,
    "start_time": "2021-12-22T19:40:01.793Z"
   },
   {
    "duration": 5,
    "start_time": "2021-12-22T19:40:03.662Z"
   },
   {
    "duration": 6,
    "start_time": "2021-12-22T19:40:04.722Z"
   },
   {
    "duration": 16,
    "start_time": "2021-12-22T19:40:05.170Z"
   },
   {
    "duration": 20,
    "start_time": "2021-12-22T19:40:06.436Z"
   },
   {
    "duration": 7,
    "start_time": "2021-12-22T19:40:16.534Z"
   },
   {
    "duration": 74,
    "start_time": "2021-12-22T19:40:17.148Z"
   },
   {
    "duration": 10,
    "start_time": "2021-12-22T19:41:20.448Z"
   },
   {
    "duration": 7,
    "start_time": "2021-12-22T19:41:29.878Z"
   },
   {
    "duration": 6,
    "start_time": "2021-12-22T19:41:57.014Z"
   },
   {
    "duration": 41,
    "start_time": "2021-12-22T19:42:36.437Z"
   },
   {
    "duration": 42,
    "start_time": "2021-12-22T19:42:57.987Z"
   },
   {
    "duration": 281,
    "start_time": "2021-12-22T19:44:04.652Z"
   },
   {
    "duration": 7604,
    "start_time": "2021-12-22T19:44:11.780Z"
   },
   {
    "duration": 14,
    "start_time": "2021-12-22T19:53:34.672Z"
   },
   {
    "duration": 10,
    "start_time": "2021-12-22T19:56:52.401Z"
   },
   {
    "duration": 11,
    "start_time": "2021-12-22T19:58:21.953Z"
   },
   {
    "duration": 6,
    "start_time": "2021-12-22T19:58:22.718Z"
   },
   {
    "duration": 11,
    "start_time": "2021-12-22T19:59:12.149Z"
   },
   {
    "duration": 7,
    "start_time": "2021-12-22T19:59:12.364Z"
   },
   {
    "duration": 11,
    "start_time": "2021-12-22T19:59:38.149Z"
   },
   {
    "duration": 13,
    "start_time": "2021-12-22T19:59:53.756Z"
   },
   {
    "duration": 14,
    "start_time": "2021-12-22T19:59:57.375Z"
   },
   {
    "duration": 14,
    "start_time": "2021-12-22T20:00:22.693Z"
   },
   {
    "duration": 11,
    "start_time": "2021-12-22T20:00:42.576Z"
   },
   {
    "duration": 13,
    "start_time": "2021-12-22T20:02:27.663Z"
   },
   {
    "duration": 13,
    "start_time": "2021-12-22T20:02:57.204Z"
   },
   {
    "duration": 120,
    "start_time": "2021-12-22T20:31:17.513Z"
   },
   {
    "duration": 6,
    "start_time": "2021-12-22T20:31:18.344Z"
   },
   {
    "duration": 16,
    "start_time": "2021-12-22T20:31:18.538Z"
   },
   {
    "duration": 106,
    "start_time": "2021-12-22T20:31:18.727Z"
   },
   {
    "duration": 3,
    "start_time": "2021-12-22T20:31:18.916Z"
   },
   {
    "duration": 14,
    "start_time": "2021-12-22T20:31:20.391Z"
   },
   {
    "duration": 36,
    "start_time": "2021-12-22T20:31:21.074Z"
   },
   {
    "duration": 5,
    "start_time": "2021-12-22T20:31:25.807Z"
   },
   {
    "duration": 7,
    "start_time": "2021-12-22T20:31:26.449Z"
   },
   {
    "duration": 13,
    "start_time": "2021-12-22T20:31:27.028Z"
   },
   {
    "duration": 14,
    "start_time": "2021-12-22T20:31:28.886Z"
   },
   {
    "duration": 7,
    "start_time": "2021-12-22T20:33:53.847Z"
   },
   {
    "duration": 17,
    "start_time": "2021-12-22T20:34:40.221Z"
   },
   {
    "duration": 15,
    "start_time": "2021-12-22T20:34:47.223Z"
   },
   {
    "duration": 6092,
    "start_time": "2021-12-22T20:36:19.073Z"
   },
   {
    "duration": 11,
    "start_time": "2021-12-22T20:36:47.655Z"
   },
   {
    "duration": 15,
    "start_time": "2021-12-22T20:38:45.656Z"
   },
   {
    "duration": 15,
    "start_time": "2021-12-22T20:39:15.359Z"
   },
   {
    "duration": 284,
    "start_time": "2021-12-22T20:40:13.473Z"
   },
   {
    "duration": 293,
    "start_time": "2021-12-22T20:40:34.220Z"
   },
   {
    "duration": 5238,
    "start_time": "2021-12-22T20:40:56.876Z"
   },
   {
    "duration": 1278,
    "start_time": "2021-12-22T20:41:46.023Z"
   },
   {
    "duration": 5,
    "start_time": "2021-12-22T20:44:36.262Z"
   },
   {
    "duration": 74,
    "start_time": "2021-12-22T20:44:38.499Z"
   },
   {
    "duration": 12,
    "start_time": "2021-12-22T20:48:35.306Z"
   },
   {
    "duration": 10,
    "start_time": "2021-12-22T20:49:09.048Z"
   },
   {
    "duration": 15,
    "start_time": "2021-12-22T20:49:09.802Z"
   },
   {
    "duration": 15,
    "start_time": "2021-12-22T20:49:12.180Z"
   },
   {
    "duration": 6,
    "start_time": "2021-12-22T20:49:43.362Z"
   },
   {
    "duration": 69,
    "start_time": "2021-12-22T20:49:44.012Z"
   },
   {
    "duration": 3,
    "start_time": "2021-12-22T20:49:52.074Z"
   },
   {
    "duration": 122,
    "start_time": "2021-12-22T20:49:52.284Z"
   },
   {
    "duration": 6,
    "start_time": "2021-12-22T20:49:53.782Z"
   },
   {
    "duration": 18,
    "start_time": "2021-12-22T20:49:53.792Z"
   },
   {
    "duration": 122,
    "start_time": "2021-12-22T20:49:53.814Z"
   },
   {
    "duration": 4,
    "start_time": "2021-12-22T20:49:53.939Z"
   },
   {
    "duration": 12,
    "start_time": "2021-12-22T20:49:54.984Z"
   },
   {
    "duration": 38,
    "start_time": "2021-12-22T20:49:55.277Z"
   },
   {
    "duration": 5,
    "start_time": "2021-12-22T20:49:57.470Z"
   },
   {
    "duration": 10,
    "start_time": "2021-12-22T20:49:57.977Z"
   },
   {
    "duration": 14,
    "start_time": "2021-12-22T20:49:58.216Z"
   },
   {
    "duration": 15,
    "start_time": "2021-12-22T20:49:58.451Z"
   },
   {
    "duration": 11,
    "start_time": "2021-12-22T20:49:58.884Z"
   },
   {
    "duration": 16,
    "start_time": "2021-12-22T20:50:00.015Z"
   },
   {
    "duration": 13,
    "start_time": "2021-12-22T20:50:00.464Z"
   },
   {
    "duration": 11,
    "start_time": "2021-12-22T20:50:01.130Z"
   },
   {
    "duration": 10,
    "start_time": "2021-12-22T20:50:01.758Z"
   },
   {
    "duration": 15,
    "start_time": "2021-12-22T20:50:02.132Z"
   },
   {
    "duration": 15,
    "start_time": "2021-12-22T20:50:02.368Z"
   },
   {
    "duration": 6,
    "start_time": "2021-12-22T20:50:02.605Z"
   },
   {
    "duration": 74,
    "start_time": "2021-12-22T20:50:03.179Z"
   },
   {
    "duration": 12,
    "start_time": "2021-12-22T20:50:33.805Z"
   },
   {
    "duration": 14,
    "start_time": "2021-12-22T20:50:57.900Z"
   },
   {
    "duration": 120,
    "start_time": "2021-12-22T20:51:26.217Z"
   },
   {
    "duration": 6,
    "start_time": "2021-12-22T20:51:26.430Z"
   },
   {
    "duration": 16,
    "start_time": "2021-12-22T20:51:26.616Z"
   },
   {
    "duration": 104,
    "start_time": "2021-12-22T20:51:26.790Z"
   },
   {
    "duration": 3,
    "start_time": "2021-12-22T20:51:27.153Z"
   },
   {
    "duration": 12,
    "start_time": "2021-12-22T20:51:28.344Z"
   },
   {
    "duration": 35,
    "start_time": "2021-12-22T20:51:28.986Z"
   },
   {
    "duration": 5,
    "start_time": "2021-12-22T20:51:30.106Z"
   },
   {
    "duration": 7,
    "start_time": "2021-12-22T20:51:30.697Z"
   },
   {
    "duration": 13,
    "start_time": "2021-12-22T20:51:32.616Z"
   },
   {
    "duration": 13,
    "start_time": "2021-12-22T20:51:34.985Z"
   },
   {
    "duration": 11,
    "start_time": "2021-12-22T20:51:37.449Z"
   },
   {
    "duration": 15,
    "start_time": "2021-12-22T20:51:39.204Z"
   },
   {
    "duration": 14,
    "start_time": "2021-12-22T20:51:42.509Z"
   },
   {
    "duration": 16,
    "start_time": "2021-12-22T20:51:57.638Z"
   },
   {
    "duration": 14,
    "start_time": "2021-12-22T20:51:59.151Z"
   },
   {
    "duration": 6,
    "start_time": "2021-12-22T20:52:04.697Z"
   },
   {
    "duration": 8,
    "start_time": "2021-12-22T20:58:47.699Z"
   },
   {
    "duration": 291,
    "start_time": "2021-12-22T20:58:59.830Z"
   },
   {
    "duration": 14,
    "start_time": "2021-12-22T20:59:05.606Z"
   },
   {
    "duration": 11,
    "start_time": "2021-12-22T20:59:23.894Z"
   },
   {
    "duration": 14,
    "start_time": "2021-12-22T20:59:25.854Z"
   },
   {
    "duration": 123,
    "start_time": "2021-12-22T21:02:15.667Z"
   },
   {
    "duration": 6,
    "start_time": "2021-12-22T21:02:17.163Z"
   },
   {
    "duration": 15,
    "start_time": "2021-12-22T21:02:17.372Z"
   },
   {
    "duration": 105,
    "start_time": "2021-12-22T21:02:18.077Z"
   },
   {
    "duration": 3,
    "start_time": "2021-12-22T21:02:19.089Z"
   },
   {
    "duration": 13,
    "start_time": "2021-12-22T21:02:22.414Z"
   },
   {
    "duration": 37,
    "start_time": "2021-12-22T21:02:26.375Z"
   },
   {
    "duration": 5,
    "start_time": "2021-12-22T21:02:29.228Z"
   },
   {
    "duration": 7,
    "start_time": "2021-12-22T21:02:32.683Z"
   },
   {
    "duration": 13,
    "start_time": "2021-12-22T21:02:34.783Z"
   },
   {
    "duration": 61,
    "start_time": "2021-12-22T21:03:20.085Z"
   },
   {
    "duration": 135,
    "start_time": "2021-12-22T21:03:35.339Z"
   },
   {
    "duration": 16,
    "start_time": "2021-12-22T21:04:27.290Z"
   },
   {
    "duration": 104,
    "start_time": "2021-12-22T21:04:32.838Z"
   },
   {
    "duration": 4,
    "start_time": "2021-12-22T21:04:34.175Z"
   },
   {
    "duration": 14,
    "start_time": "2021-12-22T21:04:39.527Z"
   },
   {
    "duration": 34,
    "start_time": "2021-12-22T21:04:44.588Z"
   },
   {
    "duration": 6,
    "start_time": "2021-12-22T21:04:45.126Z"
   },
   {
    "duration": 7,
    "start_time": "2021-12-22T21:04:46.230Z"
   },
   {
    "duration": 14,
    "start_time": "2021-12-22T21:05:00.306Z"
   },
   {
    "duration": 13,
    "start_time": "2021-12-22T21:05:02.888Z"
   },
   {
    "duration": 11,
    "start_time": "2021-12-22T21:05:04.086Z"
   },
   {
    "duration": 16,
    "start_time": "2021-12-22T21:05:08.593Z"
   },
   {
    "duration": 15,
    "start_time": "2021-12-22T21:05:19.545Z"
   },
   {
    "duration": 15,
    "start_time": "2021-12-22T21:05:28.869Z"
   },
   {
    "duration": 15,
    "start_time": "2021-12-22T21:05:32.613Z"
   },
   {
    "duration": 7,
    "start_time": "2021-12-22T21:05:33.727Z"
   },
   {
    "duration": 18,
    "start_time": "2021-12-22T21:05:36.568Z"
   },
   {
    "duration": 12,
    "start_time": "2021-12-22T21:05:37.278Z"
   },
   {
    "duration": 57,
    "start_time": "2021-12-22T21:05:39.265Z"
   },
   {
    "duration": 15,
    "start_time": "2021-12-22T21:09:53.670Z"
   },
   {
    "duration": 5,
    "start_time": "2021-12-22T21:09:54.409Z"
   },
   {
    "duration": 6,
    "start_time": "2021-12-22T21:09:54.965Z"
   },
   {
    "duration": 13,
    "start_time": "2021-12-22T21:09:55.632Z"
   },
   {
    "duration": 11,
    "start_time": "2021-12-22T21:09:56.750Z"
   },
   {
    "duration": 15,
    "start_time": "2021-12-22T21:09:57.379Z"
   },
   {
    "duration": 14,
    "start_time": "2021-12-22T21:09:58.269Z"
   },
   {
    "duration": 18,
    "start_time": "2021-12-22T21:09:59.822Z"
   },
   {
    "duration": 16,
    "start_time": "2021-12-22T21:10:00.991Z"
   },
   {
    "duration": 6,
    "start_time": "2021-12-22T21:10:01.754Z"
   },
   {
    "duration": 9,
    "start_time": "2021-12-22T21:10:03.446Z"
   },
   {
    "duration": 12,
    "start_time": "2021-12-22T21:10:04.098Z"
   },
   {
    "duration": 4,
    "start_time": "2021-12-22T21:10:12.909Z"
   },
   {
    "duration": 141,
    "start_time": "2021-12-22T21:10:12.916Z"
   },
   {
    "duration": 6,
    "start_time": "2021-12-22T21:10:13.064Z"
   },
   {
    "duration": 18,
    "start_time": "2021-12-22T21:10:13.073Z"
   },
   {
    "duration": 139,
    "start_time": "2021-12-22T21:10:13.094Z"
   },
   {
    "duration": 4,
    "start_time": "2021-12-22T21:10:13.236Z"
   },
   {
    "duration": 13,
    "start_time": "2021-12-22T21:10:13.262Z"
   },
   {
    "duration": 37,
    "start_time": "2021-12-22T21:10:13.279Z"
   },
   {
    "duration": 6,
    "start_time": "2021-12-22T21:10:13.319Z"
   },
   {
    "duration": 8,
    "start_time": "2021-12-22T21:10:13.364Z"
   },
   {
    "duration": 14,
    "start_time": "2021-12-22T21:10:13.374Z"
   },
   {
    "duration": 12,
    "start_time": "2021-12-22T21:10:13.390Z"
   },
   {
    "duration": 61,
    "start_time": "2021-12-22T21:10:13.404Z"
   },
   {
    "duration": 18,
    "start_time": "2021-12-22T21:10:13.467Z"
   },
   {
    "duration": 15,
    "start_time": "2021-12-22T21:10:13.487Z"
   },
   {
    "duration": 18,
    "start_time": "2021-12-22T21:10:13.505Z"
   },
   {
    "duration": 37,
    "start_time": "2021-12-22T21:10:13.526Z"
   },
   {
    "duration": 19,
    "start_time": "2021-12-22T21:10:13.566Z"
   },
   {
    "duration": 14,
    "start_time": "2021-12-22T21:10:13.589Z"
   },
   {
    "duration": 90,
    "start_time": "2021-12-22T21:10:13.605Z"
   },
   {
    "duration": 4,
    "start_time": "2021-12-23T17:10:34.628Z"
   },
   {
    "duration": 137,
    "start_time": "2021-12-23T17:10:35.095Z"
   },
   {
    "duration": 6,
    "start_time": "2021-12-23T17:10:35.735Z"
   },
   {
    "duration": 16,
    "start_time": "2021-12-23T17:10:36.228Z"
   },
   {
    "duration": 131,
    "start_time": "2021-12-23T17:10:36.536Z"
   },
   {
    "duration": 4,
    "start_time": "2021-12-23T17:10:36.911Z"
   },
   {
    "duration": 14,
    "start_time": "2021-12-23T17:10:42.828Z"
   },
   {
    "duration": 35,
    "start_time": "2021-12-23T17:10:52.488Z"
   },
   {
    "duration": 6,
    "start_time": "2021-12-23T17:10:53.669Z"
   },
   {
    "duration": 7,
    "start_time": "2021-12-23T17:10:54.474Z"
   },
   {
    "duration": 14,
    "start_time": "2021-12-23T17:10:59.515Z"
   },
   {
    "duration": 21,
    "start_time": "2021-12-23T17:11:53.909Z"
   },
   {
    "duration": 22,
    "start_time": "2021-12-23T17:11:59.866Z"
   },
   {
    "duration": 9,
    "start_time": "2021-12-23T17:12:39.763Z"
   },
   {
    "duration": 298,
    "start_time": "2021-12-23T17:13:54.925Z"
   },
   {
    "duration": 57,
    "start_time": "2021-12-23T17:14:31.696Z"
   },
   {
    "duration": 300,
    "start_time": "2021-12-23T17:29:24.645Z"
   },
   {
    "duration": 45,
    "start_time": "2021-12-23T17:29:34.776Z"
   },
   {
    "duration": 11,
    "start_time": "2021-12-23T17:30:55.415Z"
   },
   {
    "duration": 10,
    "start_time": "2021-12-23T17:32:32.398Z"
   },
   {
    "duration": 40,
    "start_time": "2021-12-23T17:32:40.433Z"
   },
   {
    "duration": 20,
    "start_time": "2021-12-23T17:32:59.740Z"
   },
   {
    "duration": 36,
    "start_time": "2021-12-23T17:38:22.879Z"
   },
   {
    "duration": 14,
    "start_time": "2021-12-23T17:39:03.721Z"
   },
   {
    "duration": 67,
    "start_time": "2021-12-23T17:39:09.253Z"
   },
   {
    "duration": 116,
    "start_time": "2021-12-23T17:43:22.382Z"
   },
   {
    "duration": 98,
    "start_time": "2021-12-23T17:44:18.351Z"
   },
   {
    "duration": 89,
    "start_time": "2021-12-23T17:44:27.658Z"
   },
   {
    "duration": 286,
    "start_time": "2021-12-23T17:44:41.888Z"
   },
   {
    "duration": 287,
    "start_time": "2021-12-23T17:48:33.748Z"
   },
   {
    "duration": 24,
    "start_time": "2021-12-23T17:49:17.414Z"
   },
   {
    "duration": 18,
    "start_time": "2021-12-23T17:49:19.117Z"
   },
   {
    "duration": 63,
    "start_time": "2021-12-23T17:49:20.711Z"
   },
   {
    "duration": 38,
    "start_time": "2021-12-23T17:49:23.521Z"
   },
   {
    "duration": 5,
    "start_time": "2021-12-23T17:49:23.916Z"
   },
   {
    "duration": 9,
    "start_time": "2021-12-23T17:49:24.880Z"
   },
   {
    "duration": 59,
    "start_time": "2021-12-23T17:49:26.545Z"
   },
   {
    "duration": 9,
    "start_time": "2021-12-23T17:49:46.229Z"
   },
   {
    "duration": 8,
    "start_time": "2021-12-23T17:49:47.989Z"
   },
   {
    "duration": 68,
    "start_time": "2021-12-23T17:49:51.871Z"
   },
   {
    "duration": 29,
    "start_time": "2021-12-23T17:56:58.609Z"
   },
   {
    "duration": 27,
    "start_time": "2021-12-23T17:57:09.434Z"
   },
   {
    "duration": 137,
    "start_time": "2021-12-23T17:57:20.883Z"
   },
   {
    "duration": 6,
    "start_time": "2021-12-23T17:57:21.053Z"
   },
   {
    "duration": 15,
    "start_time": "2021-12-23T17:57:21.229Z"
   },
   {
    "duration": 107,
    "start_time": "2021-12-23T17:57:21.382Z"
   },
   {
    "duration": 4,
    "start_time": "2021-12-23T17:57:21.550Z"
   },
   {
    "duration": 13,
    "start_time": "2021-12-23T17:57:22.321Z"
   },
   {
    "duration": 36,
    "start_time": "2021-12-23T17:57:22.897Z"
   },
   {
    "duration": 5,
    "start_time": "2021-12-23T17:57:26.143Z"
   },
   {
    "duration": 7,
    "start_time": "2021-12-23T17:57:27.014Z"
   },
   {
    "duration": 16,
    "start_time": "2021-12-23T17:57:27.835Z"
   },
   {
    "duration": 14,
    "start_time": "2021-12-23T17:57:30.459Z"
   },
   {
    "duration": 21,
    "start_time": "2021-12-23T17:57:33.585Z"
   },
   {
    "duration": 26,
    "start_time": "2021-12-23T17:57:35.793Z"
   },
   {
    "duration": 83,
    "start_time": "2021-12-23T17:57:46.097Z"
   },
   {
    "duration": 28,
    "start_time": "2021-12-23T17:58:05.303Z"
   },
   {
    "duration": 5,
    "start_time": "2021-12-23T18:01:21.408Z"
   },
   {
    "duration": 299,
    "start_time": "2021-12-23T18:01:21.990Z"
   },
   {
    "duration": 23,
    "start_time": "2021-12-23T18:01:31.194Z"
   },
   {
    "duration": 18,
    "start_time": "2021-12-23T18:01:32.005Z"
   },
   {
    "duration": 78,
    "start_time": "2021-12-23T18:01:33.254Z"
   },
   {
    "duration": 44,
    "start_time": "2021-12-23T18:01:34.672Z"
   },
   {
    "duration": 7,
    "start_time": "2021-12-23T18:01:35.572Z"
   },
   {
    "duration": 11,
    "start_time": "2021-12-23T18:01:36.763Z"
   },
   {
    "duration": 8,
    "start_time": "2021-12-23T18:01:49.518Z"
   },
   {
    "duration": 57,
    "start_time": "2021-12-23T18:08:45.479Z"
   },
   {
    "duration": 8,
    "start_time": "2021-12-23T18:09:21.783Z"
   },
   {
    "duration": 8,
    "start_time": "2021-12-23T18:09:22.395Z"
   },
   {
    "duration": 58,
    "start_time": "2021-12-23T18:09:23.403Z"
   },
   {
    "duration": 16,
    "start_time": "2021-12-23T18:11:33.401Z"
   },
   {
    "duration": 9,
    "start_time": "2021-12-23T18:27:01.815Z"
   },
   {
    "duration": 291,
    "start_time": "2021-12-23T18:27:49.160Z"
   },
   {
    "duration": 10,
    "start_time": "2021-12-23T18:27:54.715Z"
   },
   {
    "duration": 24,
    "start_time": "2021-12-23T18:28:19.211Z"
   },
   {
    "duration": 114,
    "start_time": "2021-12-23T18:28:27.158Z"
   },
   {
    "duration": 51,
    "start_time": "2021-12-23T18:28:31.809Z"
   },
   {
    "duration": 1627,
    "start_time": "2021-12-23T18:30:13.628Z"
   },
   {
    "duration": 81,
    "start_time": "2021-12-23T18:30:25.246Z"
   },
   {
    "duration": 26,
    "start_time": "2021-12-23T18:33:28.259Z"
   },
   {
    "duration": 60,
    "start_time": "2021-12-23T18:34:25.640Z"
   },
   {
    "duration": 13,
    "start_time": "2021-12-23T18:34:42.383Z"
   },
   {
    "duration": 15,
    "start_time": "2021-12-23T18:35:08.071Z"
   },
   {
    "duration": 6,
    "start_time": "2021-12-23T18:40:57.047Z"
   },
   {
    "duration": 5,
    "start_time": "2021-12-23T18:41:05.933Z"
   },
   {
    "duration": 64,
    "start_time": "2021-12-23T18:41:06.421Z"
   },
   {
    "duration": 6,
    "start_time": "2021-12-23T18:43:02.425Z"
   },
   {
    "duration": 66,
    "start_time": "2021-12-23T18:43:03.774Z"
   },
   {
    "duration": 21,
    "start_time": "2021-12-23T18:49:29.928Z"
   },
   {
    "duration": 68,
    "start_time": "2021-12-23T18:49:55.974Z"
   },
   {
    "duration": 68,
    "start_time": "2021-12-23T19:04:45.932Z"
   },
   {
    "duration": 4,
    "start_time": "2021-12-23T19:06:12.397Z"
   },
   {
    "duration": 140,
    "start_time": "2021-12-23T19:06:13.041Z"
   },
   {
    "duration": 403,
    "start_time": "2021-12-23T19:06:20.359Z"
   },
   {
    "duration": 112,
    "start_time": "2021-12-23T19:06:28.072Z"
   },
   {
    "duration": 5,
    "start_time": "2021-12-23T19:06:31.809Z"
   },
   {
    "duration": 17,
    "start_time": "2021-12-23T19:06:33.172Z"
   },
   {
    "duration": 15,
    "start_time": "2021-12-23T19:06:38.777Z"
   },
   {
    "duration": 112,
    "start_time": "2021-12-23T19:06:43.938Z"
   },
   {
    "duration": 14,
    "start_time": "2021-12-23T19:07:51.694Z"
   },
   {
    "duration": 38,
    "start_time": "2021-12-23T19:07:58.892Z"
   },
   {
    "duration": 5,
    "start_time": "2021-12-23T19:07:59.456Z"
   },
   {
    "duration": 6,
    "start_time": "2021-12-23T19:08:00.602Z"
   },
   {
    "duration": 13,
    "start_time": "2021-12-23T19:08:01.704Z"
   },
   {
    "duration": 13,
    "start_time": "2021-12-23T19:08:03.828Z"
   },
   {
    "duration": 21,
    "start_time": "2021-12-23T19:08:11.339Z"
   },
   {
    "duration": 15,
    "start_time": "2021-12-23T19:08:25.041Z"
   },
   {
    "duration": 9,
    "start_time": "2021-12-23T19:08:32.699Z"
   },
   {
    "duration": 19,
    "start_time": "2021-12-23T19:08:35.774Z"
   },
   {
    "duration": 7,
    "start_time": "2021-12-23T19:08:36.089Z"
   },
   {
    "duration": 19,
    "start_time": "2021-12-23T19:08:45.294Z"
   },
   {
    "duration": 18,
    "start_time": "2021-12-23T19:08:54.067Z"
   },
   {
    "duration": 7,
    "start_time": "2021-12-23T19:08:54.801Z"
   },
   {
    "duration": 64,
    "start_time": "2021-12-23T19:10:08.984Z"
   },
   {
    "duration": 1039,
    "start_time": "2021-12-23T19:42:18.284Z"
   },
   {
    "duration": 379,
    "start_time": "2021-12-23T19:48:54.620Z"
   },
   {
    "duration": 402,
    "start_time": "2021-12-23T19:49:06.189Z"
   },
   {
    "duration": 1729,
    "start_time": "2021-12-23T19:50:54.160Z"
   },
   {
    "duration": 2216,
    "start_time": "2021-12-23T19:52:53.239Z"
   },
   {
    "duration": 2326,
    "start_time": "2021-12-23T19:54:28.066Z"
   },
   {
    "duration": 2208,
    "start_time": "2021-12-23T19:54:47.765Z"
   },
   {
    "duration": 2346,
    "start_time": "2021-12-23T19:56:36.850Z"
   },
   {
    "duration": 14,
    "start_time": "2021-12-23T19:57:16.804Z"
   },
   {
    "duration": 4,
    "start_time": "2021-12-24T18:16:45.010Z"
   },
   {
    "duration": 118,
    "start_time": "2021-12-24T18:16:45.023Z"
   },
   {
    "duration": 5,
    "start_time": "2021-12-24T18:16:45.162Z"
   },
   {
    "duration": 16,
    "start_time": "2021-12-24T18:16:45.170Z"
   },
   {
    "duration": 130,
    "start_time": "2021-12-24T18:16:45.188Z"
   },
   {
    "duration": 12,
    "start_time": "2021-12-24T18:16:45.320Z"
   },
   {
    "duration": 56,
    "start_time": "2021-12-24T18:16:45.335Z"
   },
   {
    "duration": 5,
    "start_time": "2021-12-24T18:16:45.394Z"
   },
   {
    "duration": 6,
    "start_time": "2021-12-24T18:16:45.403Z"
   },
   {
    "duration": 14,
    "start_time": "2021-12-24T18:16:45.412Z"
   },
   {
    "duration": 17,
    "start_time": "2021-12-24T18:16:45.462Z"
   },
   {
    "duration": 18,
    "start_time": "2021-12-24T18:16:45.482Z"
   },
   {
    "duration": 6,
    "start_time": "2021-12-24T18:16:45.503Z"
   },
   {
    "duration": 56,
    "start_time": "2021-12-24T18:16:45.511Z"
   },
   {
    "duration": 16,
    "start_time": "2021-12-24T18:16:45.570Z"
   },
   {
    "duration": 82,
    "start_time": "2021-12-24T18:16:45.588Z"
   },
   {
    "duration": 36,
    "start_time": "2021-12-24T18:16:45.673Z"
   },
   {
    "duration": 5,
    "start_time": "2021-12-24T18:16:45.711Z"
   },
   {
    "duration": 45,
    "start_time": "2021-12-24T18:16:45.718Z"
   },
   {
    "duration": 1272,
    "start_time": "2021-12-24T18:16:45.765Z"
   },
   {
    "duration": 3,
    "start_time": "2021-12-24T18:16:47.039Z"
   },
   {
    "duration": 19,
    "start_time": "2021-12-24T18:16:47.044Z"
   },
   {
    "duration": 61,
    "start_time": "2021-12-24T18:16:47.065Z"
   },
   {
    "duration": 334,
    "start_time": "2021-12-24T18:16:47.131Z"
   },
   {
    "duration": -101,
    "start_time": "2021-12-24T18:16:47.569Z"
   },
   {
    "duration": -109,
    "start_time": "2021-12-24T18:16:47.580Z"
   },
   {
    "duration": 115,
    "start_time": "2021-12-24T18:17:23.898Z"
   },
   {
    "duration": 5,
    "start_time": "2021-12-24T18:17:24.095Z"
   },
   {
    "duration": 15,
    "start_time": "2021-12-24T18:17:24.270Z"
   },
   {
    "duration": 103,
    "start_time": "2021-12-24T18:17:24.675Z"
   },
   {
    "duration": 12,
    "start_time": "2021-12-24T18:17:26.515Z"
   },
   {
    "duration": 35,
    "start_time": "2021-12-24T18:17:27.293Z"
   },
   {
    "duration": 4,
    "start_time": "2021-12-24T18:17:36.928Z"
   },
   {
    "duration": 8,
    "start_time": "2021-12-24T18:17:38.267Z"
   },
   {
    "duration": 19,
    "start_time": "2021-12-24T18:17:41.486Z"
   },
   {
    "duration": 19,
    "start_time": "2021-12-24T18:17:42.352Z"
   },
   {
    "duration": 16,
    "start_time": "2021-12-24T18:17:46.222Z"
   },
   {
    "duration": 18,
    "start_time": "2021-12-24T18:17:50.301Z"
   },
   {
    "duration": 19,
    "start_time": "2021-12-24T18:17:56.632Z"
   },
   {
    "duration": 6,
    "start_time": "2021-12-24T18:18:01.051Z"
   },
   {
    "duration": 15,
    "start_time": "2021-12-24T18:18:01.505Z"
   },
   {
    "duration": 30,
    "start_time": "2021-12-24T18:18:02.121Z"
   },
   {
    "duration": 19,
    "start_time": "2021-12-24T18:18:02.655Z"
   },
   {
    "duration": 26,
    "start_time": "2021-12-24T18:18:09.759Z"
   },
   {
    "duration": 8,
    "start_time": "2021-12-24T18:18:10.294Z"
   },
   {
    "duration": 28,
    "start_time": "2021-12-24T18:18:12.127Z"
   },
   {
    "duration": 20,
    "start_time": "2021-12-24T18:18:12.502Z"
   },
   {
    "duration": 83,
    "start_time": "2021-12-24T18:18:15.475Z"
   },
   {
    "duration": 52,
    "start_time": "2021-12-24T18:18:21.737Z"
   },
   {
    "duration": 6,
    "start_time": "2021-12-24T18:18:22.182Z"
   },
   {
    "duration": 18,
    "start_time": "2021-12-24T18:18:22.426Z"
   },
   {
    "duration": 1318,
    "start_time": "2021-12-24T18:18:23.246Z"
   },
   {
    "duration": 3,
    "start_time": "2021-12-24T18:18:26.957Z"
   },
   {
    "duration": 7,
    "start_time": "2021-12-24T18:18:28.021Z"
   },
   {
    "duration": 85,
    "start_time": "2021-12-24T18:18:30.391Z"
   },
   {
    "duration": 333,
    "start_time": "2021-12-24T18:18:33.179Z"
   },
   {
    "duration": 10,
    "start_time": "2021-12-24T18:18:33.744Z"
   },
   {
    "duration": 2268,
    "start_time": "2021-12-24T18:18:35.084Z"
   },
   {
    "duration": 15,
    "start_time": "2021-12-24T18:18:58.382Z"
   },
   {
    "duration": 46,
    "start_time": "2021-12-24T18:18:59.424Z"
   },
   {
    "duration": 6,
    "start_time": "2021-12-24T18:19:00.456Z"
   },
   {
    "duration": 7,
    "start_time": "2021-12-24T18:19:01.682Z"
   },
   {
    "duration": 16,
    "start_time": "2021-12-24T18:19:02.014Z"
   },
   {
    "duration": 16,
    "start_time": "2021-12-24T18:19:03.166Z"
   },
   {
    "duration": 19,
    "start_time": "2021-12-24T18:19:06.344Z"
   },
   {
    "duration": 21,
    "start_time": "2021-12-24T18:19:18.126Z"
   },
   {
    "duration": 19,
    "start_time": "2021-12-24T18:19:21.178Z"
   },
   {
    "duration": 27,
    "start_time": "2021-12-24T18:19:21.398Z"
   },
   {
    "duration": 8,
    "start_time": "2021-12-24T18:19:21.636Z"
   },
   {
    "duration": 8,
    "start_time": "2021-12-24T18:21:23.705Z"
   },
   {
    "duration": 3635,
    "start_time": "2021-12-24T18:22:27.697Z"
   },
   {
    "duration": 4864,
    "start_time": "2021-12-24T18:22:45.834Z"
   },
   {
    "duration": 2755,
    "start_time": "2021-12-24T18:23:08.746Z"
   },
   {
    "duration": 2573,
    "start_time": "2021-12-24T18:23:29.120Z"
   },
   {
    "duration": 2108,
    "start_time": "2021-12-24T18:24:22.882Z"
   },
   {
    "duration": 1360,
    "start_time": "2021-12-24T18:34:23.341Z"
   },
   {
    "duration": 204,
    "start_time": "2021-12-24T18:34:47.798Z"
   },
   {
    "duration": 4,
    "start_time": "2021-12-24T18:35:17.591Z"
   },
   {
    "duration": 487,
    "start_time": "2021-12-24T18:36:54.148Z"
   },
   {
    "duration": 1505,
    "start_time": "2021-12-24T18:46:52.965Z"
   },
   {
    "duration": 1444,
    "start_time": "2021-12-24T18:47:24.976Z"
   },
   {
    "duration": 337,
    "start_time": "2021-12-24T18:50:41.546Z"
   },
   {
    "duration": 526,
    "start_time": "2021-12-24T18:50:58.668Z"
   },
   {
    "duration": 223,
    "start_time": "2021-12-24T18:51:26.156Z"
   },
   {
    "duration": 216,
    "start_time": "2021-12-24T18:52:16.299Z"
   },
   {
    "duration": 5,
    "start_time": "2021-12-24T18:52:40.292Z"
   },
   {
    "duration": 2241,
    "start_time": "2021-12-24T18:52:50.932Z"
   },
   {
    "duration": 260,
    "start_time": "2021-12-24T18:52:53.176Z"
   },
   {
    "duration": 244,
    "start_time": "2021-12-24T18:52:53.439Z"
   },
   {
    "duration": 262,
    "start_time": "2021-12-24T19:08:08.063Z"
   },
   {
    "duration": 226,
    "start_time": "2021-12-24T19:12:24.218Z"
   },
   {
    "duration": 226,
    "start_time": "2021-12-24T19:12:37.002Z"
   },
   {
    "duration": 234,
    "start_time": "2021-12-24T19:12:43.556Z"
   },
   {
    "duration": 215,
    "start_time": "2021-12-24T19:12:50.655Z"
   },
   {
    "duration": 323,
    "start_time": "2021-12-24T19:12:59.503Z"
   },
   {
    "duration": 214,
    "start_time": "2021-12-24T19:13:42.712Z"
   },
   {
    "duration": 239,
    "start_time": "2021-12-24T19:13:47.682Z"
   },
   {
    "duration": 245,
    "start_time": "2021-12-24T19:13:55.597Z"
   },
   {
    "duration": 465,
    "start_time": "2021-12-24T19:14:03.810Z"
   },
   {
    "duration": 249,
    "start_time": "2021-12-24T19:14:11.956Z"
   },
   {
    "duration": 236,
    "start_time": "2021-12-24T19:14:26.776Z"
   },
   {
    "duration": 247,
    "start_time": "2021-12-24T19:14:47.438Z"
   },
   {
    "duration": 236,
    "start_time": "2021-12-24T19:15:10.429Z"
   },
   {
    "duration": 240,
    "start_time": "2021-12-24T19:15:17.949Z"
   },
   {
    "duration": 240,
    "start_time": "2021-12-24T19:15:24.733Z"
   },
   {
    "duration": 237,
    "start_time": "2021-12-24T19:16:07.755Z"
   },
   {
    "duration": 291,
    "start_time": "2021-12-24T19:16:17.759Z"
   },
   {
    "duration": 229,
    "start_time": "2021-12-24T19:16:31.969Z"
   },
   {
    "duration": 219,
    "start_time": "2021-12-24T19:16:39.760Z"
   },
   {
    "duration": 230,
    "start_time": "2021-12-24T19:16:44.624Z"
   },
   {
    "duration": 208,
    "start_time": "2021-12-24T19:17:05.886Z"
   },
   {
    "duration": 226,
    "start_time": "2021-12-24T19:17:12.684Z"
   },
   {
    "duration": 220,
    "start_time": "2021-12-24T19:17:18.212Z"
   },
   {
    "duration": 222,
    "start_time": "2021-12-24T19:17:30.520Z"
   },
   {
    "duration": 204,
    "start_time": "2021-12-24T19:17:38.098Z"
   },
   {
    "duration": 237,
    "start_time": "2021-12-24T19:17:44.713Z"
   },
   {
    "duration": 243,
    "start_time": "2021-12-24T19:17:49.981Z"
   },
   {
    "duration": 231,
    "start_time": "2021-12-24T19:17:56.597Z"
   },
   {
    "duration": 234,
    "start_time": "2021-12-24T19:18:01.181Z"
   },
   {
    "duration": 356,
    "start_time": "2021-12-24T19:25:04.017Z"
   },
   {
    "duration": 240,
    "start_time": "2021-12-24T19:32:18.197Z"
   },
   {
    "duration": 396,
    "start_time": "2021-12-24T19:32:27.814Z"
   },
   {
    "duration": 224,
    "start_time": "2021-12-24T19:32:33.709Z"
   },
   {
    "duration": 222,
    "start_time": "2021-12-24T19:32:43.075Z"
   },
   {
    "duration": 20,
    "start_time": "2021-12-24T19:51:39.072Z"
   },
   {
    "duration": 16,
    "start_time": "2021-12-24T19:51:41.528Z"
   },
   {
    "duration": 20,
    "start_time": "2021-12-24T19:51:42.702Z"
   },
   {
    "duration": 19,
    "start_time": "2021-12-24T19:51:57.987Z"
   },
   {
    "duration": 44,
    "start_time": "2021-12-24T19:52:01.338Z"
   },
   {
    "duration": 5,
    "start_time": "2021-12-24T19:52:01.844Z"
   },
   {
    "duration": 6,
    "start_time": "2021-12-24T19:52:02.381Z"
   },
   {
    "duration": 15,
    "start_time": "2021-12-24T19:52:02.881Z"
   },
   {
    "duration": 16,
    "start_time": "2021-12-24T19:52:03.457Z"
   },
   {
    "duration": 14,
    "start_time": "2021-12-24T19:52:25.563Z"
   },
   {
    "duration": 16,
    "start_time": "2021-12-24T19:52:26.110Z"
   },
   {
    "duration": 17,
    "start_time": "2021-12-24T19:52:26.886Z"
   },
   {
    "duration": 7,
    "start_time": "2021-12-24T19:52:27.991Z"
   },
   {
    "duration": 12,
    "start_time": "2021-12-24T19:52:29.201Z"
   },
   {
    "duration": 11,
    "start_time": "2021-12-24T19:52:34.022Z"
   },
   {
    "duration": 22,
    "start_time": "2021-12-24T19:52:34.548Z"
   },
   {
    "duration": 62,
    "start_time": "2021-12-24T19:52:34.980Z"
   },
   {
    "duration": 5,
    "start_time": "2021-12-24T19:52:41.854Z"
   },
   {
    "duration": 36,
    "start_time": "2021-12-24T19:52:43.776Z"
   },
   {
    "duration": 6,
    "start_time": "2021-12-24T19:52:44.387Z"
   },
   {
    "duration": 16,
    "start_time": "2021-12-24T19:52:45.119Z"
   },
   {
    "duration": 1184,
    "start_time": "2021-12-24T19:52:45.619Z"
   },
   {
    "duration": 4,
    "start_time": "2021-12-24T19:52:46.805Z"
   },
   {
    "duration": 8,
    "start_time": "2021-12-24T19:52:46.812Z"
   },
   {
    "duration": 61,
    "start_time": "2021-12-24T19:52:47.055Z"
   },
   {
    "duration": 284,
    "start_time": "2021-12-24T19:52:48.730Z"
   },
   {
    "duration": 14,
    "start_time": "2021-12-24T19:52:49.250Z"
   },
   {
    "duration": 3347,
    "start_time": "2021-12-24T19:52:52.815Z"
   },
   {
    "duration": 219,
    "start_time": "2021-12-24T19:53:15.472Z"
   },
   {
    "duration": 232,
    "start_time": "2021-12-24T19:54:02.866Z"
   },
   {
    "duration": 309,
    "start_time": "2021-12-24T19:54:09.120Z"
   },
   {
    "duration": 324,
    "start_time": "2021-12-24T19:54:19.384Z"
   },
   {
    "duration": 240,
    "start_time": "2021-12-24T19:54:34.890Z"
   },
   {
    "duration": 237,
    "start_time": "2021-12-24T19:54:48.392Z"
   },
   {
    "duration": 239,
    "start_time": "2021-12-24T19:54:57.664Z"
   },
   {
    "duration": 351,
    "start_time": "2021-12-24T19:55:03.356Z"
   },
   {
    "duration": 322,
    "start_time": "2021-12-24T19:55:08.693Z"
   },
   {
    "duration": 230,
    "start_time": "2021-12-24T19:55:24.673Z"
   },
   {
    "duration": 237,
    "start_time": "2021-12-24T19:55:32.758Z"
   },
   {
    "duration": 222,
    "start_time": "2021-12-24T19:55:37.729Z"
   },
   {
    "duration": 124,
    "start_time": "2021-12-24T19:56:02.629Z"
   },
   {
    "duration": 6,
    "start_time": "2021-12-24T19:56:02.838Z"
   },
   {
    "duration": 19,
    "start_time": "2021-12-24T19:56:03.014Z"
   },
   {
    "duration": 108,
    "start_time": "2021-12-24T19:56:03.197Z"
   },
   {
    "duration": 13,
    "start_time": "2021-12-24T19:56:04.071Z"
   },
   {
    "duration": 35,
    "start_time": "2021-12-24T19:56:04.287Z"
   },
   {
    "duration": 5,
    "start_time": "2021-12-24T19:56:04.495Z"
   },
   {
    "duration": 7,
    "start_time": "2021-12-24T19:56:04.723Z"
   },
   {
    "duration": 14,
    "start_time": "2021-12-24T19:56:05.601Z"
   },
   {
    "duration": 16,
    "start_time": "2021-12-24T19:56:05.825Z"
   },
   {
    "duration": 18,
    "start_time": "2021-12-24T19:56:06.144Z"
   },
   {
    "duration": 7,
    "start_time": "2021-12-24T19:56:07.455Z"
   },
   {
    "duration": 18,
    "start_time": "2021-12-24T19:56:07.692Z"
   },
   {
    "duration": 16,
    "start_time": "2021-12-24T19:56:07.907Z"
   },
   {
    "duration": 62,
    "start_time": "2021-12-24T19:56:08.132Z"
   },
   {
    "duration": 46,
    "start_time": "2021-12-24T19:56:09.691Z"
   },
   {
    "duration": 5,
    "start_time": "2021-12-24T19:56:10.234Z"
   },
   {
    "duration": 16,
    "start_time": "2021-12-24T19:56:10.446Z"
   },
   {
    "duration": 1281,
    "start_time": "2021-12-24T19:56:10.638Z"
   },
   {
    "duration": 3,
    "start_time": "2021-12-24T19:56:11.922Z"
   },
   {
    "duration": 7,
    "start_time": "2021-12-24T19:56:11.928Z"
   },
   {
    "duration": 77,
    "start_time": "2021-12-24T19:56:11.937Z"
   },
   {
    "duration": 278,
    "start_time": "2021-12-24T19:56:12.966Z"
   },
   {
    "duration": 10,
    "start_time": "2021-12-24T19:56:13.427Z"
   },
   {
    "duration": 2163,
    "start_time": "2021-12-24T19:56:14.177Z"
   },
   {
    "duration": 245,
    "start_time": "2021-12-24T19:56:16.343Z"
   },
   {
    "duration": 242,
    "start_time": "2021-12-24T19:56:16.592Z"
   },
   {
    "duration": 212,
    "start_time": "2021-12-24T19:56:26.301Z"
   },
   {
    "duration": 377,
    "start_time": "2021-12-24T19:56:38.289Z"
   },
   {
    "duration": 223,
    "start_time": "2021-12-24T19:57:20.855Z"
   },
   {
    "duration": 219,
    "start_time": "2021-12-24T19:57:55.588Z"
   },
   {
    "duration": 244,
    "start_time": "2021-12-24T19:58:01.869Z"
   },
   {
    "duration": 255,
    "start_time": "2021-12-24T19:58:06.573Z"
   },
   {
    "duration": 224,
    "start_time": "2021-12-24T19:58:12.925Z"
   },
   {
    "duration": 226,
    "start_time": "2021-12-24T19:58:17.784Z"
   },
   {
    "duration": 227,
    "start_time": "2021-12-24T19:58:21.132Z"
   },
   {
    "duration": 233,
    "start_time": "2021-12-24T19:58:25.763Z"
   },
   {
    "duration": 290,
    "start_time": "2021-12-24T19:58:30.769Z"
   },
   {
    "duration": 8,
    "start_time": "2021-12-24T19:59:22.874Z"
   },
   {
    "duration": 8,
    "start_time": "2021-12-24T19:59:32.516Z"
   },
   {
    "duration": 5,
    "start_time": "2021-12-24T19:59:39.488Z"
   },
   {
    "duration": 216,
    "start_time": "2021-12-24T19:59:40.373Z"
   },
   {
    "duration": 332,
    "start_time": "2021-12-24T20:00:16.431Z"
   },
   {
    "duration": 341,
    "start_time": "2021-12-24T20:00:24.464Z"
   },
   {
    "duration": 413,
    "start_time": "2021-12-24T20:00:31.101Z"
   },
   {
    "duration": 248,
    "start_time": "2021-12-24T20:00:39.061Z"
   },
   {
    "duration": 237,
    "start_time": "2021-12-24T20:00:44.752Z"
   },
   {
    "duration": 5,
    "start_time": "2021-12-24T20:01:47.486Z"
   },
   {
    "duration": 329,
    "start_time": "2021-12-24T20:01:49.317Z"
   },
   {
    "duration": 226,
    "start_time": "2021-12-24T20:02:03.824Z"
   },
   {
    "duration": 234,
    "start_time": "2021-12-24T20:02:09.436Z"
   },
   {
    "duration": 5,
    "start_time": "2021-12-24T20:02:24.994Z"
   },
   {
    "duration": 220,
    "start_time": "2021-12-24T20:02:25.739Z"
   },
   {
    "duration": 6,
    "start_time": "2021-12-24T20:02:31.118Z"
   },
   {
    "duration": 425,
    "start_time": "2021-12-24T20:02:31.858Z"
   },
   {
    "duration": 5,
    "start_time": "2021-12-24T20:02:37.374Z"
   },
   {
    "duration": 219,
    "start_time": "2021-12-24T20:02:38.584Z"
   },
   {
    "duration": 3,
    "start_time": "2021-12-24T20:02:50.153Z"
   },
   {
    "duration": 231,
    "start_time": "2021-12-24T20:02:50.426Z"
   },
   {
    "duration": 228,
    "start_time": "2021-12-24T20:02:55.852Z"
   },
   {
    "duration": 3,
    "start_time": "2021-12-24T20:02:58.406Z"
   },
   {
    "duration": 121,
    "start_time": "2021-12-24T20:03:04.332Z"
   },
   {
    "duration": 4,
    "start_time": "2021-12-24T20:03:07.022Z"
   },
   {
    "duration": 143,
    "start_time": "2021-12-24T20:03:07.031Z"
   },
   {
    "duration": 6,
    "start_time": "2021-12-24T20:03:07.178Z"
   },
   {
    "duration": 15,
    "start_time": "2021-12-24T20:03:07.188Z"
   },
   {
    "duration": 137,
    "start_time": "2021-12-24T20:03:07.206Z"
   },
   {
    "duration": 24,
    "start_time": "2021-12-24T20:03:07.345Z"
   },
   {
    "duration": 35,
    "start_time": "2021-12-24T20:03:07.372Z"
   },
   {
    "duration": 5,
    "start_time": "2021-12-24T20:03:07.410Z"
   },
   {
    "duration": 6,
    "start_time": "2021-12-24T20:03:07.419Z"
   },
   {
    "duration": 17,
    "start_time": "2021-12-24T20:03:07.463Z"
   },
   {
    "duration": 21,
    "start_time": "2021-12-24T20:03:07.483Z"
   },
   {
    "duration": 18,
    "start_time": "2021-12-24T20:03:07.506Z"
   },
   {
    "duration": 6,
    "start_time": "2021-12-24T20:03:07.562Z"
   },
   {
    "duration": 18,
    "start_time": "2021-12-24T20:03:07.571Z"
   },
   {
    "duration": 16,
    "start_time": "2021-12-24T20:03:07.591Z"
   },
   {
    "duration": 99,
    "start_time": "2021-12-24T20:03:07.610Z"
   },
   {
    "duration": 58,
    "start_time": "2021-12-24T20:03:07.712Z"
   },
   {
    "duration": 6,
    "start_time": "2021-12-24T20:03:07.773Z"
   },
   {
    "duration": 17,
    "start_time": "2021-12-24T20:03:07.781Z"
   },
   {
    "duration": 1301,
    "start_time": "2021-12-24T20:03:07.800Z"
   },
   {
    "duration": 3,
    "start_time": "2021-12-24T20:03:09.104Z"
   },
   {
    "duration": 8,
    "start_time": "2021-12-24T20:03:09.110Z"
   },
   {
    "duration": 99,
    "start_time": "2021-12-24T20:03:09.120Z"
   },
   {
    "duration": 388,
    "start_time": "2021-12-24T20:03:09.223Z"
   },
   {
    "duration": -131,
    "start_time": "2021-12-24T20:03:09.745Z"
   },
   {
    "duration": -144,
    "start_time": "2021-12-24T20:03:09.759Z"
   },
   {
    "duration": -159,
    "start_time": "2021-12-24T20:03:09.775Z"
   },
   {
    "duration": -218,
    "start_time": "2021-12-24T20:03:09.836Z"
   },
   {
    "duration": -238,
    "start_time": "2021-12-24T20:03:09.858Z"
   },
   {
    "duration": -244,
    "start_time": "2021-12-24T20:03:09.866Z"
   },
   {
    "duration": 11,
    "start_time": "2021-12-24T20:03:21.261Z"
   },
   {
    "duration": 2438,
    "start_time": "2021-12-24T20:03:22.498Z"
   },
   {
    "duration": 259,
    "start_time": "2021-12-24T20:03:24.940Z"
   },
   {
    "duration": 3,
    "start_time": "2021-12-24T20:03:25.706Z"
   },
   {
    "duration": 222,
    "start_time": "2021-12-24T20:03:26.738Z"
   },
   {
    "duration": 4,
    "start_time": "2021-12-24T20:03:34.974Z"
   },
   {
    "duration": 377,
    "start_time": "2021-12-24T20:03:36.547Z"
   },
   {
    "duration": 5,
    "start_time": "2021-12-24T20:03:40.397Z"
   },
   {
    "duration": 219,
    "start_time": "2021-12-24T20:03:41.334Z"
   },
   {
    "duration": 216,
    "start_time": "2021-12-24T20:03:46.220Z"
   },
   {
    "duration": 5,
    "start_time": "2021-12-24T20:03:48.724Z"
   },
   {
    "duration": 252,
    "start_time": "2021-12-24T20:03:49.327Z"
   },
   {
    "duration": 5,
    "start_time": "2021-12-24T20:03:52.259Z"
   },
   {
    "duration": 224,
    "start_time": "2021-12-24T20:03:53.717Z"
   },
   {
    "duration": 5,
    "start_time": "2021-12-24T20:03:57.665Z"
   },
   {
    "duration": 230,
    "start_time": "2021-12-24T20:03:58.593Z"
   },
   {
    "duration": 220,
    "start_time": "2021-12-24T20:04:09.803Z"
   },
   {
    "duration": 4,
    "start_time": "2021-12-24T20:04:26.675Z"
   },
   {
    "duration": 130,
    "start_time": "2021-12-24T20:04:26.684Z"
   },
   {
    "duration": 5,
    "start_time": "2021-12-24T20:04:26.816Z"
   },
   {
    "duration": 40,
    "start_time": "2021-12-24T20:04:26.824Z"
   },
   {
    "duration": 128,
    "start_time": "2021-12-24T20:04:26.867Z"
   },
   {
    "duration": 11,
    "start_time": "2021-12-24T20:04:26.998Z"
   },
   {
    "duration": 59,
    "start_time": "2021-12-24T20:04:27.012Z"
   },
   {
    "duration": 4,
    "start_time": "2021-12-24T20:04:27.074Z"
   },
   {
    "duration": 11,
    "start_time": "2021-12-24T20:04:27.080Z"
   },
   {
    "duration": 14,
    "start_time": "2021-12-24T20:04:27.096Z"
   },
   {
    "duration": 52,
    "start_time": "2021-12-24T20:04:27.113Z"
   },
   {
    "duration": 17,
    "start_time": "2021-12-24T20:04:27.168Z"
   },
   {
    "duration": 6,
    "start_time": "2021-12-24T20:04:27.188Z"
   },
   {
    "duration": 18,
    "start_time": "2021-12-24T20:04:27.196Z"
   },
   {
    "duration": 56,
    "start_time": "2021-12-24T20:04:27.216Z"
   },
   {
    "duration": 64,
    "start_time": "2021-12-24T20:04:27.275Z"
   },
   {
    "duration": 54,
    "start_time": "2021-12-24T20:04:27.342Z"
   },
   {
    "duration": 6,
    "start_time": "2021-12-24T20:04:27.399Z"
   },
   {
    "duration": 55,
    "start_time": "2021-12-24T20:04:27.408Z"
   },
   {
    "duration": 1116,
    "start_time": "2021-12-24T20:04:27.465Z"
   },
   {
    "duration": 4,
    "start_time": "2021-12-24T20:04:28.583Z"
   },
   {
    "duration": 10,
    "start_time": "2021-12-24T20:04:28.590Z"
   },
   {
    "duration": 86,
    "start_time": "2021-12-24T20:04:28.602Z"
   },
   {
    "duration": 314,
    "start_time": "2021-12-24T20:04:28.691Z"
   },
   {
    "duration": -60,
    "start_time": "2021-12-24T20:04:29.067Z"
   },
   {
    "duration": -63,
    "start_time": "2021-12-24T20:04:29.072Z"
   },
   {
    "duration": -70,
    "start_time": "2021-12-24T20:04:29.080Z"
   },
   {
    "duration": -71,
    "start_time": "2021-12-24T20:04:29.083Z"
   },
   {
    "duration": -74,
    "start_time": "2021-12-24T20:04:29.088Z"
   },
   {
    "duration": -80,
    "start_time": "2021-12-24T20:04:29.095Z"
   },
   {
    "duration": 17,
    "start_time": "2021-12-24T20:04:32.926Z"
   },
   {
    "duration": 2290,
    "start_time": "2021-12-24T20:04:33.632Z"
   },
   {
    "duration": 347,
    "start_time": "2021-12-24T20:04:35.924Z"
   },
   {
    "duration": 3,
    "start_time": "2021-12-24T20:04:36.274Z"
   },
   {
    "duration": 237,
    "start_time": "2021-12-24T20:04:36.280Z"
   },
   {
    "duration": 228,
    "start_time": "2021-12-24T20:04:41.557Z"
   },
   {
    "duration": 252,
    "start_time": "2021-12-24T20:05:44.033Z"
   },
   {
    "duration": 230,
    "start_time": "2021-12-24T20:06:07.426Z"
   },
   {
    "duration": 234,
    "start_time": "2021-12-24T20:06:13.341Z"
   },
   {
    "duration": 238,
    "start_time": "2021-12-24T20:06:19.300Z"
   },
   {
    "duration": 211,
    "start_time": "2021-12-24T20:06:25.720Z"
   },
   {
    "duration": 97,
    "start_time": "2021-12-24T20:06:38.548Z"
   },
   {
    "duration": 102,
    "start_time": "2021-12-24T20:06:42.311Z"
   },
   {
    "duration": 51,
    "start_time": "2021-12-24T20:07:44.962Z"
   },
   {
    "duration": 26,
    "start_time": "2021-12-24T20:09:47.542Z"
   },
   {
    "duration": 19,
    "start_time": "2021-12-24T20:10:01.012Z"
   },
   {
    "duration": 60,
    "start_time": "2021-12-24T20:10:01.505Z"
   },
   {
    "duration": 36,
    "start_time": "2021-12-24T20:11:57.858Z"
   },
   {
    "duration": 61,
    "start_time": "2021-12-24T20:13:48.638Z"
   },
   {
    "duration": 59,
    "start_time": "2021-12-24T20:14:41.533Z"
   },
   {
    "duration": 59,
    "start_time": "2021-12-24T20:16:12.356Z"
   },
   {
    "duration": 13,
    "start_time": "2021-12-24T20:16:36.556Z"
   },
   {
    "duration": 15,
    "start_time": "2021-12-24T20:18:08.035Z"
   },
   {
    "duration": 8,
    "start_time": "2021-12-24T20:18:08.662Z"
   },
   {
    "duration": 101,
    "start_time": "2021-12-24T20:19:44.837Z"
   },
   {
    "duration": 8,
    "start_time": "2021-12-24T20:19:54.574Z"
   },
   {
    "duration": 6,
    "start_time": "2021-12-24T20:20:18.970Z"
   },
   {
    "duration": 7,
    "start_time": "2021-12-24T20:20:19.957Z"
   },
   {
    "duration": 10,
    "start_time": "2021-12-24T20:20:26.699Z"
   },
   {
    "duration": 12,
    "start_time": "2021-12-24T20:20:30.865Z"
   },
   {
    "duration": 17,
    "start_time": "2021-12-24T20:20:31.354Z"
   },
   {
    "duration": 65,
    "start_time": "2021-12-24T20:20:34.896Z"
   },
   {
    "duration": 35,
    "start_time": "2021-12-24T20:20:36.453Z"
   },
   {
    "duration": 6,
    "start_time": "2021-12-24T20:20:36.659Z"
   },
   {
    "duration": 15,
    "start_time": "2021-12-24T20:20:36.883Z"
   },
   {
    "duration": 1514,
    "start_time": "2021-12-24T20:20:37.100Z"
   },
   {
    "duration": 22,
    "start_time": "2021-12-24T20:20:38.628Z"
   },
   {
    "duration": 22,
    "start_time": "2021-12-24T20:20:38.668Z"
   },
   {
    "duration": 154,
    "start_time": "2021-12-24T20:20:38.704Z"
   },
   {
    "duration": 278,
    "start_time": "2021-12-24T20:20:40.895Z"
   },
   {
    "duration": 9,
    "start_time": "2021-12-24T20:20:41.257Z"
   },
   {
    "duration": 3296,
    "start_time": "2021-12-24T20:20:42.882Z"
   },
   {
    "duration": 246,
    "start_time": "2021-12-24T20:20:46.180Z"
   },
   {
    "duration": 4,
    "start_time": "2021-12-24T20:20:47.690Z"
   },
   {
    "duration": 231,
    "start_time": "2021-12-24T20:20:48.261Z"
   },
   {
    "duration": 231,
    "start_time": "2021-12-24T20:20:49.200Z"
   },
   {
    "duration": 220,
    "start_time": "2021-12-24T20:20:50.543Z"
   },
   {
    "duration": 227,
    "start_time": "2021-12-24T20:21:03.682Z"
   },
   {
    "duration": 329,
    "start_time": "2021-12-24T20:21:14.498Z"
   },
   {
    "duration": 340,
    "start_time": "2021-12-24T20:21:19.804Z"
   },
   {
    "duration": 330,
    "start_time": "2021-12-24T20:21:33.119Z"
   },
   {
    "duration": 259,
    "start_time": "2021-12-24T20:24:35.386Z"
   },
   {
    "duration": 4,
    "start_time": "2021-12-25T09:46:06.207Z"
   },
   {
    "duration": 117,
    "start_time": "2021-12-25T09:46:06.226Z"
   },
   {
    "duration": 18,
    "start_time": "2021-12-25T09:46:06.346Z"
   },
   {
    "duration": 15,
    "start_time": "2021-12-25T09:46:06.367Z"
   },
   {
    "duration": 132,
    "start_time": "2021-12-25T09:46:06.384Z"
   },
   {
    "duration": 12,
    "start_time": "2021-12-25T09:46:06.519Z"
   },
   {
    "duration": 68,
    "start_time": "2021-12-25T09:46:06.534Z"
   },
   {
    "duration": 5,
    "start_time": "2021-12-25T09:46:06.604Z"
   },
   {
    "duration": 7,
    "start_time": "2021-12-25T09:46:06.613Z"
   },
   {
    "duration": 16,
    "start_time": "2021-12-25T09:46:06.662Z"
   },
   {
    "duration": 14,
    "start_time": "2021-12-25T09:46:06.680Z"
   },
   {
    "duration": 16,
    "start_time": "2021-12-25T09:46:06.697Z"
   },
   {
    "duration": 73,
    "start_time": "2021-12-25T09:46:06.716Z"
   },
   {
    "duration": 10,
    "start_time": "2021-12-25T09:46:06.792Z"
   },
   {
    "duration": 12,
    "start_time": "2021-12-25T09:46:06.804Z"
   },
   {
    "duration": 52,
    "start_time": "2021-12-25T09:46:06.818Z"
   },
   {
    "duration": 16,
    "start_time": "2021-12-25T09:46:06.872Z"
   },
   {
    "duration": 92,
    "start_time": "2021-12-25T09:46:06.890Z"
   },
   {
    "duration": 38,
    "start_time": "2021-12-25T09:46:06.985Z"
   },
   {
    "duration": 8,
    "start_time": "2021-12-25T09:46:07.026Z"
   },
   {
    "duration": 40,
    "start_time": "2021-12-25T09:46:07.036Z"
   },
   {
    "duration": 1422,
    "start_time": "2021-12-25T09:46:07.079Z"
   },
   {
    "duration": 3,
    "start_time": "2021-12-25T09:46:08.503Z"
   },
   {
    "duration": 8,
    "start_time": "2021-12-25T09:46:08.510Z"
   },
   {
    "duration": 97,
    "start_time": "2021-12-25T09:46:08.521Z"
   },
   {
    "duration": 386,
    "start_time": "2021-12-25T09:46:08.621Z"
   },
   {
    "duration": -77,
    "start_time": "2021-12-25T09:46:09.087Z"
   },
   {
    "duration": -117,
    "start_time": "2021-12-25T09:46:09.129Z"
   },
   {
    "duration": -128,
    "start_time": "2021-12-25T09:46:09.142Z"
   },
   {
    "duration": -134,
    "start_time": "2021-12-25T09:46:09.150Z"
   },
   {
    "duration": -144,
    "start_time": "2021-12-25T09:46:09.162Z"
   },
   {
    "duration": -150,
    "start_time": "2021-12-25T09:46:09.170Z"
   },
   {
    "duration": -158,
    "start_time": "2021-12-25T09:46:09.180Z"
   },
   {
    "duration": 18,
    "start_time": "2021-12-25T09:50:25.922Z"
   },
   {
    "duration": 17,
    "start_time": "2021-12-25T09:50:27.447Z"
   },
   {
    "duration": 18,
    "start_time": "2021-12-25T09:50:28.452Z"
   },
   {
    "duration": 28,
    "start_time": "2021-12-25T09:50:40.027Z"
   },
   {
    "duration": 13,
    "start_time": "2021-12-25T09:50:41.265Z"
   },
   {
    "duration": 9,
    "start_time": "2021-12-25T09:50:43.765Z"
   },
   {
    "duration": 11,
    "start_time": "2021-12-25T09:50:50.380Z"
   },
   {
    "duration": 17,
    "start_time": "2021-12-25T09:50:52.234Z"
   },
   {
    "duration": 61,
    "start_time": "2021-12-25T09:50:58.692Z"
   },
   {
    "duration": 38,
    "start_time": "2021-12-25T09:51:01.083Z"
   },
   {
    "duration": 5,
    "start_time": "2021-12-25T09:51:01.450Z"
   },
   {
    "duration": 16,
    "start_time": "2021-12-25T09:51:01.908Z"
   },
   {
    "duration": 1108,
    "start_time": "2021-12-25T09:51:02.158Z"
   },
   {
    "duration": 4,
    "start_time": "2021-12-25T09:51:03.268Z"
   },
   {
    "duration": 6,
    "start_time": "2021-12-25T09:51:03.275Z"
   },
   {
    "duration": 89,
    "start_time": "2021-12-25T09:51:03.284Z"
   },
   {
    "duration": 303,
    "start_time": "2021-12-25T09:51:05.107Z"
   },
   {
    "duration": -44,
    "start_time": "2021-12-25T09:51:05.456Z"
   },
   {
    "duration": 2255,
    "start_time": "2021-12-25T09:51:06.731Z"
   },
   {
    "duration": 277,
    "start_time": "2021-12-25T09:51:08.990Z"
   },
   {
    "duration": 3,
    "start_time": "2021-12-25T09:51:09.469Z"
   },
   {
    "duration": 259,
    "start_time": "2021-12-25T09:51:10.015Z"
   },
   {
    "duration": 231,
    "start_time": "2021-12-25T09:51:13.116Z"
   },
   {
    "duration": 215,
    "start_time": "2021-12-25T09:51:14.677Z"
   },
   {
    "duration": 5,
    "start_time": "2021-12-25T09:51:34.602Z"
   },
   {
    "duration": 214,
    "start_time": "2021-12-25T09:51:35.393Z"
   },
   {
    "duration": 238,
    "start_time": "2021-12-25T09:51:41.283Z"
   },
   {
    "duration": 213,
    "start_time": "2021-12-25T09:51:45.379Z"
   },
   {
    "duration": 3,
    "start_time": "2021-12-26T09:02:21.385Z"
   },
   {
    "duration": 122,
    "start_time": "2021-12-26T09:02:21.396Z"
   },
   {
    "duration": 6,
    "start_time": "2021-12-26T09:02:21.521Z"
   },
   {
    "duration": 46,
    "start_time": "2021-12-26T09:02:21.530Z"
   },
   {
    "duration": 141,
    "start_time": "2021-12-26T09:02:21.579Z"
   },
   {
    "duration": 15,
    "start_time": "2021-12-26T09:02:21.723Z"
   },
   {
    "duration": 56,
    "start_time": "2021-12-26T09:02:21.741Z"
   },
   {
    "duration": 5,
    "start_time": "2021-12-26T09:02:21.800Z"
   },
   {
    "duration": 14,
    "start_time": "2021-12-26T09:02:21.808Z"
   },
   {
    "duration": 44,
    "start_time": "2021-12-26T09:02:21.826Z"
   },
   {
    "duration": 17,
    "start_time": "2021-12-26T09:02:21.872Z"
   },
   {
    "duration": 19,
    "start_time": "2021-12-26T09:02:21.892Z"
   },
   {
    "duration": 76,
    "start_time": "2021-12-26T09:02:21.914Z"
   },
   {
    "duration": 11,
    "start_time": "2021-12-26T09:02:21.993Z"
   },
   {
    "duration": 10,
    "start_time": "2021-12-26T09:02:22.007Z"
   },
   {
    "duration": 61,
    "start_time": "2021-12-26T09:02:22.020Z"
   },
   {
    "duration": 17,
    "start_time": "2021-12-26T09:02:22.084Z"
   },
   {
    "duration": 93,
    "start_time": "2021-12-26T09:02:22.104Z"
   },
   {
    "duration": 34,
    "start_time": "2021-12-26T09:02:22.200Z"
   },
   {
    "duration": 7,
    "start_time": "2021-12-26T09:02:22.236Z"
   },
   {
    "duration": 34,
    "start_time": "2021-12-26T09:02:22.244Z"
   },
   {
    "duration": 1147,
    "start_time": "2021-12-26T09:02:22.280Z"
   },
   {
    "duration": 3,
    "start_time": "2021-12-26T09:02:23.429Z"
   },
   {
    "duration": 27,
    "start_time": "2021-12-26T09:02:23.436Z"
   },
   {
    "duration": 60,
    "start_time": "2021-12-26T09:02:23.465Z"
   },
   {
    "duration": 374,
    "start_time": "2021-12-26T09:02:23.528Z"
   },
   {
    "duration": -146,
    "start_time": "2021-12-26T09:02:24.050Z"
   },
   {
    "duration": -160,
    "start_time": "2021-12-26T09:02:24.065Z"
   },
   {
    "duration": -169,
    "start_time": "2021-12-26T09:02:24.076Z"
   },
   {
    "duration": -182,
    "start_time": "2021-12-26T09:02:24.090Z"
   },
   {
    "duration": -244,
    "start_time": "2021-12-26T09:02:24.154Z"
   },
   {
    "duration": -260,
    "start_time": "2021-12-26T09:02:24.171Z"
   },
   {
    "duration": -273,
    "start_time": "2021-12-26T09:02:24.185Z"
   },
   {
    "duration": 10,
    "start_time": "2021-12-26T09:04:41.685Z"
   },
   {
    "duration": 2227,
    "start_time": "2021-12-26T09:04:43.792Z"
   },
   {
    "duration": 242,
    "start_time": "2021-12-26T09:04:46.021Z"
   },
   {
    "duration": 4,
    "start_time": "2021-12-26T09:04:46.266Z"
   },
   {
    "duration": 246,
    "start_time": "2021-12-26T09:04:46.273Z"
   },
   {
    "duration": 263,
    "start_time": "2021-12-26T09:04:46.521Z"
   },
   {
    "duration": 241,
    "start_time": "2021-12-26T09:04:46.787Z"
   },
   {
    "duration": 8,
    "start_time": "2021-12-26T09:12:33.164Z"
   },
   {
    "duration": 8,
    "start_time": "2021-12-26T09:13:24.213Z"
   },
   {
    "duration": 12,
    "start_time": "2021-12-26T09:17:54.040Z"
   },
   {
    "duration": 2336,
    "start_time": "2021-12-26T09:18:18.955Z"
   },
   {
    "duration": 2019,
    "start_time": "2021-12-26T09:19:16.721Z"
   },
   {
    "duration": 1330,
    "start_time": "2021-12-26T09:21:52.548Z"
   },
   {
    "duration": 814,
    "start_time": "2021-12-26T09:22:06.412Z"
   },
   {
    "duration": 547,
    "start_time": "2021-12-26T09:22:15.382Z"
   },
   {
    "duration": 427,
    "start_time": "2021-12-26T09:22:26.525Z"
   },
   {
    "duration": 568,
    "start_time": "2021-12-26T09:22:31.872Z"
   },
   {
    "duration": 583,
    "start_time": "2021-12-26T09:23:45.350Z"
   },
   {
    "duration": 295,
    "start_time": "2021-12-26T09:23:59.675Z"
   },
   {
    "duration": 555,
    "start_time": "2021-12-26T09:24:10.107Z"
   },
   {
    "duration": 1318,
    "start_time": "2021-12-26T09:24:37.628Z"
   },
   {
    "duration": 299,
    "start_time": "2021-12-26T09:24:50.517Z"
   },
   {
    "duration": 307,
    "start_time": "2021-12-26T09:24:54.826Z"
   },
   {
    "duration": 284,
    "start_time": "2021-12-26T09:25:15.594Z"
   },
   {
    "duration": 313,
    "start_time": "2021-12-26T09:25:20.097Z"
   },
   {
    "duration": 326,
    "start_time": "2021-12-26T09:25:26.211Z"
   },
   {
    "duration": 304,
    "start_time": "2021-12-26T09:25:31.534Z"
   },
   {
    "duration": 326,
    "start_time": "2021-12-26T09:25:36.190Z"
   },
   {
    "duration": 332,
    "start_time": "2021-12-26T09:25:42.235Z"
   },
   {
    "duration": 310,
    "start_time": "2021-12-26T09:25:46.264Z"
   },
   {
    "duration": 297,
    "start_time": "2021-12-26T09:25:57.715Z"
   },
   {
    "duration": 295,
    "start_time": "2021-12-26T09:26:01.705Z"
   },
   {
    "duration": 316,
    "start_time": "2021-12-26T09:26:18.694Z"
   },
   {
    "duration": 302,
    "start_time": "2021-12-26T09:26:26.956Z"
   },
   {
    "duration": 301,
    "start_time": "2021-12-26T09:26:35.287Z"
   },
   {
    "duration": 11,
    "start_time": "2021-12-26T09:27:45.426Z"
   },
   {
    "duration": 253,
    "start_time": "2021-12-26T09:31:02.094Z"
   },
   {
    "duration": 36,
    "start_time": "2021-12-26T09:32:45.776Z"
   },
   {
    "duration": 11,
    "start_time": "2021-12-26T09:34:04.726Z"
   },
   {
    "duration": 11,
    "start_time": "2021-12-26T09:34:17.035Z"
   },
   {
    "duration": 13,
    "start_time": "2021-12-26T09:34:24.897Z"
   },
   {
    "duration": 244,
    "start_time": "2021-12-26T09:35:45.924Z"
   },
   {
    "duration": 305,
    "start_time": "2021-12-26T09:35:48.643Z"
   },
   {
    "duration": 271,
    "start_time": "2021-12-26T09:36:20.627Z"
   },
   {
    "duration": 224,
    "start_time": "2021-12-26T09:36:35.615Z"
   },
   {
    "duration": 225,
    "start_time": "2021-12-26T09:36:42.640Z"
   },
   {
    "duration": 249,
    "start_time": "2021-12-26T09:36:49.283Z"
   },
   {
    "duration": 247,
    "start_time": "2021-12-26T09:37:09.096Z"
   },
   {
    "duration": 230,
    "start_time": "2021-12-26T09:37:13.175Z"
   },
   {
    "duration": 329,
    "start_time": "2021-12-26T09:41:36.300Z"
   },
   {
    "duration": 227,
    "start_time": "2021-12-26T09:41:37.350Z"
   },
   {
    "duration": 240,
    "start_time": "2021-12-26T09:41:50.844Z"
   },
   {
    "duration": 245,
    "start_time": "2021-12-26T09:41:59.707Z"
   },
   {
    "duration": 214,
    "start_time": "2021-12-26T09:42:06.822Z"
   },
   {
    "duration": 221,
    "start_time": "2021-12-26T09:42:15.431Z"
   },
   {
    "duration": 207,
    "start_time": "2021-12-26T09:42:20.984Z"
   },
   {
    "duration": 294,
    "start_time": "2021-12-26T09:43:25.890Z"
   },
   {
    "duration": 403,
    "start_time": "2021-12-26T09:45:25.625Z"
   },
   {
    "duration": 496,
    "start_time": "2021-12-26T09:45:26.931Z"
   },
   {
    "duration": 61,
    "start_time": "2021-12-26T09:54:25.885Z"
   },
   {
    "duration": 309,
    "start_time": "2021-12-26T09:54:42.091Z"
   },
   {
    "duration": 310,
    "start_time": "2021-12-26T09:57:55.135Z"
   },
   {
    "duration": 711,
    "start_time": "2021-12-26T09:57:59.113Z"
   },
   {
    "duration": 299,
    "start_time": "2021-12-26T09:58:06.672Z"
   },
   {
    "duration": 531,
    "start_time": "2021-12-26T09:58:29.442Z"
   },
   {
    "duration": 604,
    "start_time": "2021-12-26T09:58:38.703Z"
   },
   {
    "duration": 559,
    "start_time": "2021-12-26T09:58:49.095Z"
   },
   {
    "duration": 7,
    "start_time": "2021-12-26T10:10:11.493Z"
   },
   {
    "duration": 342,
    "start_time": "2021-12-26T10:10:34.404Z"
   },
   {
    "duration": 4,
    "start_time": "2021-12-26T10:10:55.747Z"
   },
   {
    "duration": 129,
    "start_time": "2021-12-26T10:10:55.754Z"
   },
   {
    "duration": 5,
    "start_time": "2021-12-26T10:10:55.886Z"
   },
   {
    "duration": 18,
    "start_time": "2021-12-26T10:10:55.895Z"
   },
   {
    "duration": 158,
    "start_time": "2021-12-26T10:10:55.916Z"
   },
   {
    "duration": 13,
    "start_time": "2021-12-26T10:10:56.076Z"
   },
   {
    "duration": 69,
    "start_time": "2021-12-26T10:10:56.094Z"
   },
   {
    "duration": 4,
    "start_time": "2021-12-26T10:10:56.166Z"
   },
   {
    "duration": 7,
    "start_time": "2021-12-26T10:10:56.172Z"
   },
   {
    "duration": 15,
    "start_time": "2021-12-26T10:10:56.181Z"
   },
   {
    "duration": 16,
    "start_time": "2021-12-26T10:10:56.198Z"
   },
   {
    "duration": 57,
    "start_time": "2021-12-26T10:10:56.216Z"
   },
   {
    "duration": 37,
    "start_time": "2021-12-26T10:10:56.275Z"
   },
   {
    "duration": 9,
    "start_time": "2021-12-26T10:10:56.315Z"
   },
   {
    "duration": 43,
    "start_time": "2021-12-26T10:10:56.327Z"
   },
   {
    "duration": 18,
    "start_time": "2021-12-26T10:10:56.372Z"
   },
   {
    "duration": 14,
    "start_time": "2021-12-26T10:10:56.393Z"
   },
   {
    "duration": 100,
    "start_time": "2021-12-26T10:10:56.409Z"
   },
   {
    "duration": 54,
    "start_time": "2021-12-26T10:10:56.516Z"
   },
   {
    "duration": 4,
    "start_time": "2021-12-26T10:10:56.574Z"
   },
   {
    "duration": 18,
    "start_time": "2021-12-26T10:10:56.582Z"
   },
   {
    "duration": 1168,
    "start_time": "2021-12-26T10:10:56.602Z"
   },
   {
    "duration": 4,
    "start_time": "2021-12-26T10:10:57.773Z"
   },
   {
    "duration": 11,
    "start_time": "2021-12-26T10:10:57.780Z"
   },
   {
    "duration": 90,
    "start_time": "2021-12-26T10:10:57.793Z"
   },
   {
    "duration": 335,
    "start_time": "2021-12-26T10:10:57.886Z"
   },
   {
    "duration": 262,
    "start_time": "2021-12-26T10:10:58.223Z"
   },
   {
    "duration": 315,
    "start_time": "2021-12-26T10:10:58.487Z"
   },
   {
    "duration": 254,
    "start_time": "2021-12-26T10:10:58.804Z"
   },
   {
    "duration": 413,
    "start_time": "2021-12-26T10:10:59.062Z"
   },
   {
    "duration": 248,
    "start_time": "2021-12-26T10:10:59.478Z"
   },
   {
    "duration": 320,
    "start_time": "2021-12-26T10:10:59.729Z"
   },
   {
    "duration": 242,
    "start_time": "2021-12-26T10:11:00.053Z"
   },
   {
    "duration": 9,
    "start_time": "2021-12-26T10:11:00.298Z"
   },
   {
    "duration": 14,
    "start_time": "2021-12-26T10:11:00.309Z"
   },
   {
    "duration": 12,
    "start_time": "2021-12-26T10:11:00.325Z"
   },
   {
    "duration": 324,
    "start_time": "2021-12-26T10:11:00.364Z"
   },
   {
    "duration": 280,
    "start_time": "2021-12-26T10:11:13.482Z"
   },
   {
    "duration": 223,
    "start_time": "2021-12-26T10:11:45.407Z"
   },
   {
    "duration": 280,
    "start_time": "2021-12-26T10:11:55.502Z"
   },
   {
    "duration": 211,
    "start_time": "2021-12-26T10:12:08.788Z"
   },
   {
    "duration": 10,
    "start_time": "2021-12-26T10:14:06.036Z"
   },
   {
    "duration": 128,
    "start_time": "2021-12-26T10:15:44.412Z"
   },
   {
    "duration": 5,
    "start_time": "2021-12-26T10:15:44.894Z"
   },
   {
    "duration": 15,
    "start_time": "2021-12-26T10:15:45.124Z"
   },
   {
    "duration": 107,
    "start_time": "2021-12-26T10:15:45.844Z"
   },
   {
    "duration": 14,
    "start_time": "2021-12-26T10:15:50.437Z"
   },
   {
    "duration": 38,
    "start_time": "2021-12-26T10:15:51.132Z"
   },
   {
    "duration": 6,
    "start_time": "2021-12-26T10:15:54.208Z"
   },
   {
    "duration": 8,
    "start_time": "2021-12-26T10:15:54.218Z"
   },
   {
    "duration": 17,
    "start_time": "2021-12-26T10:15:55.046Z"
   },
   {
    "duration": 17,
    "start_time": "2021-12-26T10:15:56.750Z"
   },
   {
    "duration": 17,
    "start_time": "2021-12-26T10:15:58.130Z"
   },
   {
    "duration": 37,
    "start_time": "2021-12-26T10:16:00.680Z"
   },
   {
    "duration": 10,
    "start_time": "2021-12-26T10:16:01.405Z"
   },
   {
    "duration": 9,
    "start_time": "2021-12-26T10:16:03.201Z"
   },
   {
    "duration": 19,
    "start_time": "2021-12-26T10:16:04.097Z"
   },
   {
    "duration": 9,
    "start_time": "2021-12-26T10:16:17.103Z"
   },
   {
    "duration": 119,
    "start_time": "2021-12-26T10:16:25.109Z"
   },
   {
    "duration": 7,
    "start_time": "2021-12-26T10:16:26.035Z"
   },
   {
    "duration": 16,
    "start_time": "2021-12-26T10:16:26.211Z"
   },
   {
    "duration": 104,
    "start_time": "2021-12-26T10:16:26.500Z"
   },
   {
    "duration": 12,
    "start_time": "2021-12-26T10:16:27.260Z"
   },
   {
    "duration": 35,
    "start_time": "2021-12-26T10:16:27.453Z"
   },
   {
    "duration": 5,
    "start_time": "2021-12-26T10:16:27.653Z"
   },
   {
    "duration": 6,
    "start_time": "2021-12-26T10:16:27.863Z"
   },
   {
    "duration": 15,
    "start_time": "2021-12-26T10:16:28.468Z"
   },
   {
    "duration": 17,
    "start_time": "2021-12-26T10:16:28.817Z"
   },
   {
    "duration": 18,
    "start_time": "2021-12-26T10:16:29.096Z"
   },
   {
    "duration": 37,
    "start_time": "2021-12-26T10:16:29.538Z"
   },
   {
    "duration": 11,
    "start_time": "2021-12-26T10:16:29.799Z"
   },
   {
    "duration": 7,
    "start_time": "2021-12-26T10:16:32.332Z"
   },
   {
    "duration": 11,
    "start_time": "2021-12-26T10:16:32.730Z"
   },
   {
    "duration": 14,
    "start_time": "2021-12-26T10:16:33.162Z"
   },
   {
    "duration": 58,
    "start_time": "2021-12-26T10:16:36.708Z"
   },
   {
    "duration": 39,
    "start_time": "2021-12-26T10:16:41.605Z"
   },
   {
    "duration": 6,
    "start_time": "2021-12-26T10:16:41.817Z"
   },
   {
    "duration": 16,
    "start_time": "2021-12-26T10:16:42.034Z"
   },
   {
    "duration": 1059,
    "start_time": "2021-12-26T10:16:42.275Z"
   },
   {
    "duration": 4,
    "start_time": "2021-12-26T10:16:43.336Z"
   },
   {
    "duration": 7,
    "start_time": "2021-12-26T10:16:44.853Z"
   },
   {
    "duration": 58,
    "start_time": "2021-12-26T10:16:45.209Z"
   },
   {
    "duration": 605,
    "start_time": "2021-12-26T10:16:49.504Z"
   },
   {
    "duration": 248,
    "start_time": "2021-12-26T10:16:50.112Z"
   },
   {
    "duration": 308,
    "start_time": "2021-12-26T10:16:50.565Z"
   },
   {
    "duration": 262,
    "start_time": "2021-12-26T10:16:50.876Z"
   },
   {
    "duration": 293,
    "start_time": "2021-12-26T10:16:51.229Z"
   },
   {
    "duration": 219,
    "start_time": "2021-12-26T10:16:52.468Z"
   },
   {
    "duration": 299,
    "start_time": "2021-12-26T10:16:54.234Z"
   },
   {
    "duration": 218,
    "start_time": "2021-12-26T10:16:54.629Z"
   },
   {
    "duration": 8,
    "start_time": "2021-12-26T10:16:55.448Z"
   },
   {
    "duration": 9,
    "start_time": "2021-12-26T10:16:59.568Z"
   },
   {
    "duration": 301,
    "start_time": "2021-12-26T10:17:09.517Z"
   },
   {
    "duration": 318,
    "start_time": "2021-12-26T10:17:41.159Z"
   },
   {
    "duration": 300,
    "start_time": "2021-12-26T10:17:46.962Z"
   },
   {
    "duration": 377,
    "start_time": "2021-12-26T10:17:54.566Z"
   },
   {
    "duration": 324,
    "start_time": "2021-12-26T10:18:14.225Z"
   },
   {
    "duration": 289,
    "start_time": "2021-12-26T10:18:23.176Z"
   },
   {
    "duration": 236,
    "start_time": "2021-12-26T10:18:29.926Z"
   },
   {
    "duration": 231,
    "start_time": "2021-12-26T10:18:36.185Z"
   },
   {
    "duration": 277,
    "start_time": "2021-12-26T10:26:11.640Z"
   },
   {
    "duration": 303,
    "start_time": "2021-12-26T10:27:05.570Z"
   },
   {
    "duration": 232,
    "start_time": "2021-12-26T10:27:09.706Z"
   },
   {
    "duration": 65,
    "start_time": "2021-12-26T10:28:00.470Z"
   },
   {
    "duration": 300,
    "start_time": "2021-12-26T10:36:14.091Z"
   },
   {
    "duration": 8,
    "start_time": "2021-12-26T10:38:15.282Z"
   },
   {
    "duration": 551,
    "start_time": "2021-12-26T10:38:24.906Z"
   },
   {
    "duration": 37,
    "start_time": "2021-12-26T10:38:33.408Z"
   },
   {
    "duration": 9,
    "start_time": "2021-12-26T10:40:50.296Z"
   },
   {
    "duration": 9,
    "start_time": "2021-12-26T10:41:05.803Z"
   },
   {
    "duration": 141,
    "start_time": "2021-12-26T18:08:31.505Z"
   },
   {
    "duration": 39,
    "start_time": "2021-12-26T18:17:45.271Z"
   },
   {
    "duration": 8,
    "start_time": "2021-12-26T18:21:22.358Z"
   },
   {
    "duration": 5,
    "start_time": "2021-12-26T18:21:33.052Z"
   },
   {
    "duration": 7,
    "start_time": "2021-12-26T18:21:41.271Z"
   },
   {
    "duration": 6,
    "start_time": "2021-12-26T18:28:31.805Z"
   },
   {
    "duration": 5,
    "start_time": "2021-12-26T18:29:42.143Z"
   },
   {
    "duration": 5,
    "start_time": "2021-12-26T18:29:55.735Z"
   },
   {
    "duration": 6,
    "start_time": "2021-12-26T18:30:32.597Z"
   },
   {
    "duration": 6,
    "start_time": "2021-12-26T18:30:40.262Z"
   },
   {
    "duration": 97,
    "start_time": "2021-12-26T18:33:57.701Z"
   },
   {
    "duration": 269,
    "start_time": "2021-12-26T18:34:04.762Z"
   },
   {
    "duration": 223,
    "start_time": "2021-12-26T18:34:10.681Z"
   },
   {
    "duration": 37,
    "start_time": "2021-12-26T18:37:19.001Z"
   },
   {
    "duration": 101,
    "start_time": "2021-12-26T18:39:51.835Z"
   },
   {
    "duration": 104,
    "start_time": "2021-12-26T18:50:15.942Z"
   },
   {
    "duration": 110,
    "start_time": "2021-12-26T18:50:26.660Z"
   },
   {
    "duration": 115,
    "start_time": "2021-12-26T18:51:16.575Z"
   },
   {
    "duration": 122,
    "start_time": "2021-12-26T18:51:43.522Z"
   },
   {
    "duration": 113,
    "start_time": "2021-12-26T18:52:00.166Z"
   },
   {
    "duration": 131,
    "start_time": "2021-12-26T18:52:38.395Z"
   },
   {
    "duration": 220,
    "start_time": "2021-12-26T18:52:46.164Z"
   },
   {
    "duration": 7,
    "start_time": "2021-12-26T18:53:13.029Z"
   },
   {
    "duration": 699,
    "start_time": "2021-12-26T18:53:33.819Z"
   },
   {
    "duration": 5,
    "start_time": "2021-12-26T18:54:12.821Z"
   },
   {
    "duration": 16,
    "start_time": "2021-12-26T18:54:13.960Z"
   },
   {
    "duration": 8,
    "start_time": "2021-12-26T19:00:27.676Z"
   },
   {
    "duration": 19,
    "start_time": "2021-12-26T19:00:29.689Z"
   },
   {
    "duration": 18,
    "start_time": "2021-12-26T19:00:51.489Z"
   },
   {
    "duration": 5,
    "start_time": "2021-12-26T19:01:48.150Z"
   },
   {
    "duration": 18,
    "start_time": "2021-12-26T19:01:48.657Z"
   },
   {
    "duration": 15,
    "start_time": "2021-12-26T19:01:49.822Z"
   },
   {
    "duration": 17,
    "start_time": "2021-12-26T19:02:40.587Z"
   },
   {
    "duration": 347,
    "start_time": "2021-12-26T19:02:57.432Z"
   },
   {
    "duration": 319,
    "start_time": "2021-12-26T19:03:10.948Z"
   },
   {
    "duration": 333,
    "start_time": "2021-12-26T19:03:24.586Z"
   },
   {
    "duration": 13,
    "start_time": "2021-12-26T19:03:34.125Z"
   },
   {
    "duration": 15,
    "start_time": "2021-12-26T19:04:09.157Z"
   },
   {
    "duration": 11,
    "start_time": "2021-12-26T19:04:46.894Z"
   },
   {
    "duration": 50,
    "start_time": "2021-12-26T19:09:53.962Z"
   },
   {
    "duration": 47,
    "start_time": "2021-12-26T19:13:09.916Z"
   },
   {
    "duration": 4,
    "start_time": "2021-12-26T19:13:19.202Z"
   },
   {
    "duration": 126,
    "start_time": "2021-12-26T19:13:19.212Z"
   },
   {
    "duration": 7,
    "start_time": "2021-12-26T19:13:19.342Z"
   },
   {
    "duration": 23,
    "start_time": "2021-12-26T19:13:19.368Z"
   },
   {
    "duration": 153,
    "start_time": "2021-12-26T19:13:19.395Z"
   },
   {
    "duration": 18,
    "start_time": "2021-12-26T19:13:19.562Z"
   },
   {
    "duration": 36,
    "start_time": "2021-12-26T19:13:19.586Z"
   },
   {
    "duration": 5,
    "start_time": "2021-12-26T19:13:19.624Z"
   },
   {
    "duration": 38,
    "start_time": "2021-12-26T19:13:19.631Z"
   },
   {
    "duration": 16,
    "start_time": "2021-12-26T19:13:19.676Z"
   },
   {
    "duration": 19,
    "start_time": "2021-12-26T19:13:19.696Z"
   },
   {
    "duration": 64,
    "start_time": "2021-12-26T19:13:19.718Z"
   },
   {
    "duration": 39,
    "start_time": "2021-12-26T19:13:19.785Z"
   },
   {
    "duration": 47,
    "start_time": "2021-12-26T19:13:19.827Z"
   },
   {
    "duration": 8,
    "start_time": "2021-12-26T19:13:19.876Z"
   },
   {
    "duration": 10,
    "start_time": "2021-12-26T19:13:19.887Z"
   },
   {
    "duration": 14,
    "start_time": "2021-12-26T19:13:19.900Z"
   },
   {
    "duration": 100,
    "start_time": "2021-12-26T19:13:19.916Z"
   },
   {
    "duration": 59,
    "start_time": "2021-12-26T19:13:20.019Z"
   },
   {
    "duration": 5,
    "start_time": "2021-12-26T19:13:20.082Z"
   },
   {
    "duration": 16,
    "start_time": "2021-12-26T19:13:20.090Z"
   },
   {
    "duration": 1370,
    "start_time": "2021-12-26T19:13:20.108Z"
   },
   {
    "duration": 14,
    "start_time": "2021-12-26T19:13:21.492Z"
   },
   {
    "duration": 21,
    "start_time": "2021-12-26T19:13:21.517Z"
   },
   {
    "duration": 103,
    "start_time": "2021-12-26T19:13:21.547Z"
   },
   {
    "duration": 436,
    "start_time": "2021-12-26T19:13:21.653Z"
   },
   {
    "duration": 255,
    "start_time": "2021-12-26T19:13:22.092Z"
   },
   {
    "duration": 321,
    "start_time": "2021-12-26T19:13:22.353Z"
   },
   {
    "duration": 272,
    "start_time": "2021-12-26T19:13:22.678Z"
   },
   {
    "duration": 332,
    "start_time": "2021-12-26T19:13:22.952Z"
   },
   {
    "duration": 240,
    "start_time": "2021-12-26T19:13:23.287Z"
   },
   {
    "duration": 358,
    "start_time": "2021-12-26T19:13:23.529Z"
   },
   {
    "duration": 245,
    "start_time": "2021-12-26T19:13:23.890Z"
   },
   {
    "duration": 429,
    "start_time": "2021-12-26T19:13:24.137Z"
   },
   {
    "duration": 256,
    "start_time": "2021-12-26T19:13:24.572Z"
   },
   {
    "duration": 6,
    "start_time": "2021-12-26T19:13:24.830Z"
   },
   {
    "duration": 34,
    "start_time": "2021-12-26T19:13:24.839Z"
   },
   {
    "duration": 38,
    "start_time": "2021-12-26T19:13:24.878Z"
   },
   {
    "duration": 10,
    "start_time": "2021-12-26T19:13:24.918Z"
   },
   {
    "duration": 41,
    "start_time": "2021-12-26T19:13:24.930Z"
   },
   {
    "duration": 11,
    "start_time": "2021-12-26T19:13:24.975Z"
   },
   {
    "duration": 10,
    "start_time": "2021-12-26T19:13:24.989Z"
   },
   {
    "duration": 80,
    "start_time": "2021-12-26T19:13:25.001Z"
   },
   {
    "duration": 58,
    "start_time": "2021-12-26T19:13:45.587Z"
   },
   {
    "duration": 9513,
    "start_time": "2021-12-26T19:16:07.619Z"
   },
   {
    "duration": 42,
    "start_time": "2021-12-26T19:16:54.846Z"
   },
   {
    "duration": 41,
    "start_time": "2021-12-26T19:17:12.928Z"
   },
   {
    "duration": 39,
    "start_time": "2021-12-26T19:18:35.440Z"
   },
   {
    "duration": 38,
    "start_time": "2021-12-26T19:19:03.690Z"
   },
   {
    "duration": 40,
    "start_time": "2021-12-26T19:20:51.147Z"
   },
   {
    "duration": 13,
    "start_time": "2021-12-26T19:21:12.437Z"
   },
   {
    "duration": 36,
    "start_time": "2021-12-26T19:21:48.737Z"
   },
   {
    "duration": 105,
    "start_time": "2021-12-26T19:39:35.947Z"
   },
   {
    "duration": 9,
    "start_time": "2021-12-26T19:39:58.717Z"
   },
   {
    "duration": 9,
    "start_time": "2021-12-26T19:40:12.554Z"
   },
   {
    "duration": 27,
    "start_time": "2021-12-26T19:41:28.875Z"
   },
   {
    "duration": 26,
    "start_time": "2021-12-26T19:43:21.268Z"
   },
   {
    "duration": 23,
    "start_time": "2021-12-26T19:43:29.193Z"
   },
   {
    "duration": 25,
    "start_time": "2021-12-26T19:43:54.415Z"
   },
   {
    "duration": 25,
    "start_time": "2021-12-26T19:44:04.858Z"
   },
   {
    "duration": 4,
    "start_time": "2021-12-26T19:44:08.569Z"
   },
   {
    "duration": 144,
    "start_time": "2021-12-26T19:44:08.576Z"
   },
   {
    "duration": 6,
    "start_time": "2021-12-26T19:44:08.724Z"
   },
   {
    "duration": 15,
    "start_time": "2021-12-26T19:44:08.764Z"
   },
   {
    "duration": 138,
    "start_time": "2021-12-26T19:44:08.781Z"
   },
   {
    "duration": 12,
    "start_time": "2021-12-26T19:44:08.922Z"
   },
   {
    "duration": 52,
    "start_time": "2021-12-26T19:44:08.938Z"
   },
   {
    "duration": 4,
    "start_time": "2021-12-26T19:44:08.993Z"
   },
   {
    "duration": 8,
    "start_time": "2021-12-26T19:44:09.000Z"
   },
   {
    "duration": 16,
    "start_time": "2021-12-26T19:44:09.011Z"
   },
   {
    "duration": 49,
    "start_time": "2021-12-26T19:44:09.029Z"
   },
   {
    "duration": 17,
    "start_time": "2021-12-26T19:44:09.080Z"
   },
   {
    "duration": 72,
    "start_time": "2021-12-26T19:44:09.099Z"
   },
   {
    "duration": 16,
    "start_time": "2021-12-26T19:44:09.173Z"
   },
   {
    "duration": 13,
    "start_time": "2021-12-26T19:44:09.192Z"
   },
   {
    "duration": 11,
    "start_time": "2021-12-26T19:44:09.207Z"
   },
   {
    "duration": 55,
    "start_time": "2021-12-26T19:44:09.221Z"
   },
   {
    "duration": 59,
    "start_time": "2021-12-26T19:44:09.278Z"
   },
   {
    "duration": 37,
    "start_time": "2021-12-26T19:44:09.366Z"
   },
   {
    "duration": 5,
    "start_time": "2021-12-26T19:44:09.407Z"
   },
   {
    "duration": 55,
    "start_time": "2021-12-26T19:44:09.415Z"
   },
   {
    "duration": 1012,
    "start_time": "2021-12-26T19:44:09.472Z"
   },
   {
    "duration": 3,
    "start_time": "2021-12-26T19:44:10.487Z"
   },
   {
    "duration": 7,
    "start_time": "2021-12-26T19:44:10.492Z"
   },
   {
    "duration": 80,
    "start_time": "2021-12-26T19:44:10.502Z"
   },
   {
    "duration": 329,
    "start_time": "2021-12-26T19:44:10.584Z"
   },
   {
    "duration": 581,
    "start_time": "2021-12-26T19:44:10.915Z"
   },
   {
    "duration": 315,
    "start_time": "2021-12-26T19:44:11.499Z"
   },
   {
    "duration": 262,
    "start_time": "2021-12-26T19:44:11.817Z"
   },
   {
    "duration": 315,
    "start_time": "2021-12-26T19:44:12.082Z"
   },
   {
    "duration": 240,
    "start_time": "2021-12-26T19:44:12.400Z"
   },
   {
    "duration": 332,
    "start_time": "2021-12-26T19:44:12.642Z"
   },
   {
    "duration": 226,
    "start_time": "2021-12-26T19:44:12.977Z"
   },
   {
    "duration": 315,
    "start_time": "2021-12-26T19:44:13.206Z"
   },
   {
    "duration": 256,
    "start_time": "2021-12-26T19:44:13.523Z"
   },
   {
    "duration": 5,
    "start_time": "2021-12-26T19:44:13.781Z"
   },
   {
    "duration": 11,
    "start_time": "2021-12-26T19:44:13.789Z"
   },
   {
    "duration": 63,
    "start_time": "2021-12-26T19:44:13.802Z"
   },
   {
    "duration": 8,
    "start_time": "2021-12-26T19:44:13.867Z"
   },
   {
    "duration": 11,
    "start_time": "2021-12-26T19:44:13.877Z"
   },
   {
    "duration": 78,
    "start_time": "2021-12-26T19:44:13.890Z"
   },
   {
    "duration": 12,
    "start_time": "2021-12-26T19:44:13.971Z"
   },
   {
    "duration": 35,
    "start_time": "2021-12-26T19:44:13.986Z"
   },
   {
    "duration": 42,
    "start_time": "2021-12-26T19:44:14.024Z"
   },
   {
    "duration": 36,
    "start_time": "2021-12-26T19:44:14.069Z"
   },
   {
    "duration": 11,
    "start_time": "2021-12-26T19:44:14.108Z"
   },
   {
    "duration": 76,
    "start_time": "2021-12-26T19:44:14.122Z"
   },
   {
    "duration": 31,
    "start_time": "2021-12-26T19:44:14.201Z"
   },
   {
    "duration": 27,
    "start_time": "2021-12-26T19:44:17.492Z"
   },
   {
    "duration": 51,
    "start_time": "2021-12-26T19:44:56.703Z"
   },
   {
    "duration": 52,
    "start_time": "2021-12-26T19:45:09.450Z"
   },
   {
    "duration": 107,
    "start_time": "2021-12-26T19:49:08.287Z"
   },
   {
    "duration": 140,
    "start_time": "2021-12-26T19:50:20.298Z"
   },
   {
    "duration": 113,
    "start_time": "2021-12-26T19:50:33.261Z"
   },
   {
    "duration": 201,
    "start_time": "2021-12-26T19:51:57.376Z"
   },
   {
    "duration": 306,
    "start_time": "2021-12-26T20:02:02.652Z"
   },
   {
    "duration": 32,
    "start_time": "2021-12-26T20:02:22.585Z"
   },
   {
    "duration": 14,
    "start_time": "2021-12-26T20:02:38.046Z"
   },
   {
    "duration": 132,
    "start_time": "2021-12-26T20:03:33.769Z"
   },
   {
    "duration": 309,
    "start_time": "2021-12-26T20:05:14.305Z"
   },
   {
    "duration": 13,
    "start_time": "2021-12-26T20:05:35.323Z"
   },
   {
    "duration": 54,
    "start_time": "2021-12-26T20:05:41.280Z"
   },
   {
    "duration": 11,
    "start_time": "2021-12-26T20:05:59.247Z"
   },
   {
    "duration": 18,
    "start_time": "2021-12-26T20:06:27.711Z"
   },
   {
    "duration": 14,
    "start_time": "2021-12-26T20:06:41.525Z"
   },
   {
    "duration": 32,
    "start_time": "2021-12-26T20:06:46.883Z"
   },
   {
    "duration": 19,
    "start_time": "2021-12-26T20:07:09.327Z"
   },
   {
    "duration": 10,
    "start_time": "2021-12-26T20:07:23.600Z"
   },
   {
    "duration": 62,
    "start_time": "2021-12-26T20:08:21.178Z"
   },
   {
    "duration": 33,
    "start_time": "2021-12-26T20:08:56.219Z"
   },
   {
    "duration": 53,
    "start_time": "2021-12-26T20:09:05.818Z"
   },
   {
    "duration": 32,
    "start_time": "2021-12-26T20:17:51.653Z"
   },
   {
    "duration": 33,
    "start_time": "2021-12-26T20:18:34.891Z"
   },
   {
    "duration": 34,
    "start_time": "2021-12-26T20:18:47.370Z"
   },
   {
    "duration": 8602,
    "start_time": "2021-12-26T20:20:23.854Z"
   },
   {
    "duration": 8606,
    "start_time": "2021-12-26T20:20:59.995Z"
   },
   {
    "duration": 85,
    "start_time": "2021-12-26T20:25:13.740Z"
   },
   {
    "duration": 22,
    "start_time": "2021-12-26T20:25:54.524Z"
   },
   {
    "duration": 306,
    "start_time": "2021-12-26T20:26:10.126Z"
   },
   {
    "duration": 84,
    "start_time": "2021-12-26T20:26:15.627Z"
   },
   {
    "duration": 98,
    "start_time": "2021-12-26T20:28:03.284Z"
   },
   {
    "duration": 9,
    "start_time": "2021-12-26T20:28:07.407Z"
   },
   {
    "duration": 512,
    "start_time": "2021-12-26T20:28:57.505Z"
   },
   {
    "duration": 298,
    "start_time": "2021-12-26T20:29:09.483Z"
   },
   {
    "duration": 17,
    "start_time": "2021-12-26T20:30:12.743Z"
   },
   {
    "duration": 7890,
    "start_time": "2021-12-26T20:30:14.215Z"
   },
   {
    "duration": 30,
    "start_time": "2021-12-26T20:36:56.480Z"
   },
   {
    "duration": 14,
    "start_time": "2021-12-26T20:37:06.813Z"
   },
   {
    "duration": 14,
    "start_time": "2021-12-26T20:37:16.548Z"
   },
   {
    "duration": 9477,
    "start_time": "2021-12-26T20:37:17.569Z"
   },
   {
    "duration": 106,
    "start_time": "2021-12-26T20:37:57.716Z"
   },
   {
    "duration": 149,
    "start_time": "2021-12-26T20:37:58.358Z"
   },
   {
    "duration": 317,
    "start_time": "2021-12-26T20:38:16.329Z"
   },
   {
    "duration": 17,
    "start_time": "2021-12-26T20:39:21.939Z"
   },
   {
    "duration": 15,
    "start_time": "2021-12-26T20:39:57.752Z"
   },
   {
    "duration": 19,
    "start_time": "2021-12-26T20:41:17.130Z"
   },
   {
    "duration": 282,
    "start_time": "2021-12-26T20:41:46.512Z"
   },
   {
    "duration": 276,
    "start_time": "2021-12-26T20:45:57.908Z"
   },
   {
    "duration": 470,
    "start_time": "2021-12-26T20:46:34.537Z"
   },
   {
    "duration": 307,
    "start_time": "2021-12-26T20:46:57.300Z"
   },
   {
    "duration": 375,
    "start_time": "2021-12-26T20:47:36.896Z"
   },
   {
    "duration": 7540,
    "start_time": "2021-12-26T20:49:05.538Z"
   },
   {
    "duration": 8662,
    "start_time": "2021-12-26T20:49:28.707Z"
   },
   {
    "duration": 479,
    "start_time": "2021-12-26T20:50:39.967Z"
   },
   {
    "duration": 487,
    "start_time": "2021-12-26T20:51:09.085Z"
   },
   {
    "duration": 587,
    "start_time": "2021-12-26T20:51:16.697Z"
   },
   {
    "duration": 8,
    "start_time": "2021-12-26T20:52:44.587Z"
   },
   {
    "duration": 333,
    "start_time": "2021-12-26T20:53:40.693Z"
   },
   {
    "duration": 591,
    "start_time": "2021-12-26T20:54:13.101Z"
   },
   {
    "duration": 8079,
    "start_time": "2021-12-26T20:54:43.377Z"
   },
   {
    "duration": 10457,
    "start_time": "2021-12-26T20:55:47.466Z"
   },
   {
    "duration": 465,
    "start_time": "2021-12-26T20:56:14.028Z"
   },
   {
    "duration": 4,
    "start_time": "2021-12-27T09:36:23.869Z"
   },
   {
    "duration": 127,
    "start_time": "2021-12-27T09:36:23.879Z"
   },
   {
    "duration": 5,
    "start_time": "2021-12-27T09:36:24.009Z"
   },
   {
    "duration": 22,
    "start_time": "2021-12-27T09:36:24.017Z"
   },
   {
    "duration": 127,
    "start_time": "2021-12-27T09:36:24.063Z"
   },
   {
    "duration": 16,
    "start_time": "2021-12-27T09:36:24.193Z"
   },
   {
    "duration": 79,
    "start_time": "2021-12-27T09:36:24.212Z"
   },
   {
    "duration": 5,
    "start_time": "2021-12-27T09:36:24.295Z"
   },
   {
    "duration": 7,
    "start_time": "2021-12-27T09:36:24.306Z"
   },
   {
    "duration": 58,
    "start_time": "2021-12-27T09:36:24.318Z"
   },
   {
    "duration": 22,
    "start_time": "2021-12-27T09:36:24.379Z"
   },
   {
    "duration": 23,
    "start_time": "2021-12-27T09:36:24.404Z"
   },
   {
    "duration": 39,
    "start_time": "2021-12-27T09:36:24.463Z"
   },
   {
    "duration": 11,
    "start_time": "2021-12-27T09:36:24.504Z"
   },
   {
    "duration": 9,
    "start_time": "2021-12-27T09:36:24.517Z"
   },
   {
    "duration": 11,
    "start_time": "2021-12-27T09:36:24.563Z"
   },
   {
    "duration": 15,
    "start_time": "2021-12-27T09:36:24.577Z"
   },
   {
    "duration": 92,
    "start_time": "2021-12-27T09:36:24.595Z"
   },
   {
    "duration": 35,
    "start_time": "2021-12-27T09:36:24.690Z"
   },
   {
    "duration": 6,
    "start_time": "2021-12-27T09:36:24.727Z"
   },
   {
    "duration": 44,
    "start_time": "2021-12-27T09:36:24.735Z"
   },
   {
    "duration": 1021,
    "start_time": "2021-12-27T09:36:24.781Z"
   },
   {
    "duration": 6,
    "start_time": "2021-12-27T09:36:25.804Z"
   },
   {
    "duration": 75,
    "start_time": "2021-12-27T09:36:25.815Z"
   },
   {
    "duration": 318,
    "start_time": "2021-12-27T09:36:25.894Z"
   },
   {
    "duration": 240,
    "start_time": "2021-12-27T09:36:26.214Z"
   },
   {
    "duration": 320,
    "start_time": "2021-12-27T09:36:26.457Z"
   },
   {
    "duration": 261,
    "start_time": "2021-12-27T09:36:26.780Z"
   },
   {
    "duration": 308,
    "start_time": "2021-12-27T09:36:27.043Z"
   },
   {
    "duration": 227,
    "start_time": "2021-12-27T09:36:27.353Z"
   },
   {
    "duration": 315,
    "start_time": "2021-12-27T09:36:27.583Z"
   },
   {
    "duration": 234,
    "start_time": "2021-12-27T09:36:27.900Z"
   },
   {
    "duration": 308,
    "start_time": "2021-12-27T09:36:28.137Z"
   },
   {
    "duration": 259,
    "start_time": "2021-12-27T09:36:28.448Z"
   },
   {
    "duration": 6,
    "start_time": "2021-12-27T09:36:28.710Z"
   },
   {
    "duration": 12,
    "start_time": "2021-12-27T09:36:28.718Z"
   },
   {
    "duration": 59,
    "start_time": "2021-12-27T09:36:28.732Z"
   },
   {
    "duration": 8,
    "start_time": "2021-12-27T09:36:28.793Z"
   },
   {
    "duration": 11,
    "start_time": "2021-12-27T09:36:28.804Z"
   },
   {
    "duration": 74,
    "start_time": "2021-12-27T09:36:28.817Z"
   },
   {
    "duration": 10,
    "start_time": "2021-12-27T09:36:28.894Z"
   },
   {
    "duration": 63,
    "start_time": "2021-12-27T09:36:28.907Z"
   },
   {
    "duration": 11,
    "start_time": "2021-12-27T09:36:28.972Z"
   },
   {
    "duration": 38,
    "start_time": "2021-12-27T09:36:28.985Z"
   },
   {
    "duration": 38,
    "start_time": "2021-12-27T09:36:29.026Z"
   },
   {
    "duration": 37,
    "start_time": "2021-12-27T09:36:29.067Z"
   },
   {
    "duration": 99,
    "start_time": "2021-12-27T09:36:29.107Z"
   },
   {
    "duration": 592,
    "start_time": "2021-12-27T09:36:29.209Z"
   },
   {
    "duration": 447,
    "start_time": "2021-12-27T09:36:29.805Z"
   },
   {
    "duration": 416,
    "start_time": "2021-12-27T09:36:30.254Z"
   },
   {
    "duration": 486,
    "start_time": "2021-12-27T09:36:30.672Z"
   },
   {
    "duration": 457,
    "start_time": "2021-12-27T10:01:14.826Z"
   },
   {
    "duration": 1597,
    "start_time": "2021-12-27T10:01:38.302Z"
   },
   {
    "duration": 411,
    "start_time": "2021-12-27T10:02:13.178Z"
   },
   {
    "duration": 422,
    "start_time": "2021-12-27T10:15:54.177Z"
   },
   {
    "duration": 7,
    "start_time": "2021-12-27T10:15:58.505Z"
   },
   {
    "duration": 584,
    "start_time": "2021-12-27T10:20:04.228Z"
   },
   {
    "duration": 6,
    "start_time": "2021-12-27T10:20:06.077Z"
   },
   {
    "duration": 7,
    "start_time": "2021-12-27T10:20:36.464Z"
   },
   {
    "duration": 6,
    "start_time": "2021-12-27T10:25:50.426Z"
   },
   {
    "duration": 7,
    "start_time": "2021-12-27T10:29:58.837Z"
   },
   {
    "duration": 445,
    "start_time": "2021-12-27T10:37:47.824Z"
   },
   {
    "duration": 393,
    "start_time": "2021-12-27T10:49:01.710Z"
   },
   {
    "duration": 366,
    "start_time": "2021-12-27T10:49:13.527Z"
   },
   {
    "duration": 104,
    "start_time": "2021-12-27T10:52:52.260Z"
   },
   {
    "duration": 441,
    "start_time": "2021-12-27T10:52:57.705Z"
   },
   {
    "duration": 320,
    "start_time": "2021-12-27T10:53:04.618Z"
   },
   {
    "duration": 336,
    "start_time": "2021-12-27T10:56:54.982Z"
   },
   {
    "duration": 315,
    "start_time": "2021-12-27T10:57:49.338Z"
   },
   {
    "duration": 324,
    "start_time": "2021-12-27T10:58:11.227Z"
   },
   {
    "duration": 8837,
    "start_time": "2021-12-27T10:58:28.922Z"
   },
   {
    "duration": 287,
    "start_time": "2021-12-27T10:58:37.883Z"
   },
   {
    "duration": 352,
    "start_time": "2021-12-27T10:58:51.616Z"
   },
   {
    "duration": 409,
    "start_time": "2021-12-27T10:59:57.088Z"
   },
   {
    "duration": 24,
    "start_time": "2021-12-27T11:00:33.716Z"
   },
   {
    "duration": 23,
    "start_time": "2021-12-27T11:00:41.913Z"
   },
   {
    "duration": 468,
    "start_time": "2021-12-27T11:01:12.187Z"
   },
   {
    "duration": 302,
    "start_time": "2021-12-27T11:02:59.698Z"
   },
   {
    "duration": 378,
    "start_time": "2021-12-27T11:03:54.859Z"
   },
   {
    "duration": 302,
    "start_time": "2021-12-27T11:04:02.150Z"
   },
   {
    "duration": -40,
    "start_time": "2021-12-27T11:06:53.050Z"
   },
   {
    "duration": -53,
    "start_time": "2021-12-27T11:06:53.065Z"
   },
   {
    "duration": 942,
    "start_time": "2021-12-27T17:49:01.350Z"
   },
   {
    "duration": 128,
    "start_time": "2021-12-27T17:49:02.294Z"
   },
   {
    "duration": 6,
    "start_time": "2021-12-27T17:49:02.425Z"
   },
   {
    "duration": 34,
    "start_time": "2021-12-27T17:49:02.434Z"
   },
   {
    "duration": 122,
    "start_time": "2021-12-27T17:49:02.470Z"
   },
   {
    "duration": 11,
    "start_time": "2021-12-27T17:49:02.595Z"
   },
   {
    "duration": 60,
    "start_time": "2021-12-27T17:49:02.608Z"
   },
   {
    "duration": 5,
    "start_time": "2021-12-27T17:49:02.672Z"
   },
   {
    "duration": 18,
    "start_time": "2021-12-27T17:49:02.680Z"
   },
   {
    "duration": 21,
    "start_time": "2021-12-27T17:49:02.701Z"
   },
   {
    "duration": 16,
    "start_time": "2021-12-27T17:49:02.725Z"
   },
   {
    "duration": 36,
    "start_time": "2021-12-27T17:49:02.743Z"
   },
   {
    "duration": 61,
    "start_time": "2021-12-27T17:49:02.782Z"
   },
   {
    "duration": 18,
    "start_time": "2021-12-27T17:49:02.845Z"
   },
   {
    "duration": 32,
    "start_time": "2021-12-27T17:49:02.865Z"
   },
   {
    "duration": 32,
    "start_time": "2021-12-27T17:49:02.900Z"
   },
   {
    "duration": 52,
    "start_time": "2021-12-27T17:49:02.934Z"
   },
   {
    "duration": 76,
    "start_time": "2021-12-27T17:49:02.988Z"
   },
   {
    "duration": 40,
    "start_time": "2021-12-27T17:49:03.066Z"
   },
   {
    "duration": 8,
    "start_time": "2021-12-27T17:49:03.109Z"
   },
   {
    "duration": 53,
    "start_time": "2021-12-27T17:49:03.120Z"
   },
   {
    "duration": 1031,
    "start_time": "2021-12-27T17:49:03.176Z"
   },
   {
    "duration": 7,
    "start_time": "2021-12-27T17:49:04.213Z"
   },
   {
    "duration": 84,
    "start_time": "2021-12-27T17:49:04.225Z"
   },
   {
    "duration": 354,
    "start_time": "2021-12-27T17:49:04.312Z"
   },
   {
    "duration": 302,
    "start_time": "2021-12-27T17:49:04.669Z"
   },
   {
    "duration": 320,
    "start_time": "2021-12-27T17:49:04.974Z"
   },
   {
    "duration": 273,
    "start_time": "2021-12-27T17:49:05.296Z"
   },
   {
    "duration": 328,
    "start_time": "2021-12-27T17:49:05.572Z"
   },
   {
    "duration": 247,
    "start_time": "2021-12-27T17:49:05.902Z"
   },
   {
    "duration": 342,
    "start_time": "2021-12-27T17:49:06.152Z"
   },
   {
    "duration": 249,
    "start_time": "2021-12-27T17:49:06.496Z"
   },
   {
    "duration": 327,
    "start_time": "2021-12-27T17:49:06.748Z"
   },
   {
    "duration": 267,
    "start_time": "2021-12-27T17:49:07.077Z"
   },
   {
    "duration": 17,
    "start_time": "2021-12-27T17:49:07.346Z"
   },
   {
    "duration": 12,
    "start_time": "2021-12-27T17:49:07.365Z"
   },
   {
    "duration": 40,
    "start_time": "2021-12-27T17:49:07.379Z"
   },
   {
    "duration": 42,
    "start_time": "2021-12-27T17:49:07.422Z"
   },
   {
    "duration": 10,
    "start_time": "2021-12-27T17:49:07.467Z"
   },
   {
    "duration": 40,
    "start_time": "2021-12-27T17:49:07.480Z"
   },
   {
    "duration": 47,
    "start_time": "2021-12-27T17:49:07.522Z"
   },
   {
    "duration": 36,
    "start_time": "2021-12-27T17:49:07.571Z"
   },
   {
    "duration": 10,
    "start_time": "2021-12-27T17:49:07.610Z"
   },
   {
    "duration": 72,
    "start_time": "2021-12-27T17:49:07.622Z"
   },
   {
    "duration": 11,
    "start_time": "2021-12-27T17:49:07.696Z"
   },
   {
    "duration": 63,
    "start_time": "2021-12-27T17:49:07.710Z"
   },
   {
    "duration": 62,
    "start_time": "2021-12-27T17:49:07.776Z"
   },
   {
    "duration": 469,
    "start_time": "2021-12-27T17:49:07.840Z"
   },
   {
    "duration": 7,
    "start_time": "2021-12-27T17:49:08.312Z"
   },
   {
    "duration": 472,
    "start_time": "2021-12-27T17:49:08.321Z"
   },
   {
    "duration": 7,
    "start_time": "2021-12-27T17:49:08.795Z"
   },
   {
    "duration": 645,
    "start_time": "2021-12-27T17:49:08.804Z"
   },
   {
    "duration": 14,
    "start_time": "2021-12-27T17:49:09.452Z"
   },
   {
    "duration": 430,
    "start_time": "2021-12-27T17:49:09.469Z"
   },
   {
    "duration": 7,
    "start_time": "2021-12-27T17:49:09.901Z"
   },
   {
    "duration": 356,
    "start_time": "2021-12-27T17:49:09.910Z"
   },
   {
    "duration": 410,
    "start_time": "2021-12-27T17:54:11.391Z"
   },
   {
    "duration": 1005,
    "start_time": "2021-12-27T17:54:16.822Z"
   },
   {
    "duration": 126,
    "start_time": "2021-12-27T17:54:17.830Z"
   },
   {
    "duration": 5,
    "start_time": "2021-12-27T17:54:17.964Z"
   },
   {
    "duration": 27,
    "start_time": "2021-12-27T17:54:17.972Z"
   },
   {
    "duration": 121,
    "start_time": "2021-12-27T17:54:18.002Z"
   },
   {
    "duration": 12,
    "start_time": "2021-12-27T17:54:18.126Z"
   },
   {
    "duration": 53,
    "start_time": "2021-12-27T17:54:18.141Z"
   },
   {
    "duration": 5,
    "start_time": "2021-12-27T17:54:18.200Z"
   },
   {
    "duration": 30,
    "start_time": "2021-12-27T17:54:18.207Z"
   },
   {
    "duration": 29,
    "start_time": "2021-12-27T17:54:18.240Z"
   },
   {
    "duration": 33,
    "start_time": "2021-12-27T17:54:18.271Z"
   },
   {
    "duration": 23,
    "start_time": "2021-12-27T17:54:18.307Z"
   },
   {
    "duration": 54,
    "start_time": "2021-12-27T17:54:18.332Z"
   },
   {
    "duration": 10,
    "start_time": "2021-12-27T17:54:18.389Z"
   },
   {
    "duration": 18,
    "start_time": "2021-12-27T17:54:18.402Z"
   },
   {
    "duration": 28,
    "start_time": "2021-12-27T17:54:18.423Z"
   },
   {
    "duration": 45,
    "start_time": "2021-12-27T17:54:18.453Z"
   },
   {
    "duration": 74,
    "start_time": "2021-12-27T17:54:18.500Z"
   },
   {
    "duration": 39,
    "start_time": "2021-12-27T17:54:18.577Z"
   },
   {
    "duration": 5,
    "start_time": "2021-12-27T17:54:18.618Z"
   },
   {
    "duration": 44,
    "start_time": "2021-12-27T17:54:18.626Z"
   },
   {
    "duration": 1058,
    "start_time": "2021-12-27T17:54:18.672Z"
   },
   {
    "duration": 7,
    "start_time": "2021-12-27T17:54:19.735Z"
   },
   {
    "duration": 63,
    "start_time": "2021-12-27T17:54:19.763Z"
   },
   {
    "duration": 340,
    "start_time": "2021-12-27T17:54:19.829Z"
   },
   {
    "duration": 315,
    "start_time": "2021-12-27T17:54:20.172Z"
   },
   {
    "duration": 322,
    "start_time": "2021-12-27T17:54:20.490Z"
   },
   {
    "duration": 278,
    "start_time": "2021-12-27T17:54:20.815Z"
   },
   {
    "duration": 324,
    "start_time": "2021-12-27T17:54:21.096Z"
   },
   {
    "duration": 266,
    "start_time": "2021-12-27T17:54:21.423Z"
   },
   {
    "duration": 346,
    "start_time": "2021-12-27T17:54:21.691Z"
   },
   {
    "duration": 304,
    "start_time": "2021-12-27T17:54:22.039Z"
   },
   {
    "duration": 365,
    "start_time": "2021-12-27T17:54:22.346Z"
   },
   {
    "duration": 269,
    "start_time": "2021-12-27T17:54:22.714Z"
   },
   {
    "duration": 5,
    "start_time": "2021-12-27T17:54:22.986Z"
   },
   {
    "duration": 15,
    "start_time": "2021-12-27T17:54:22.994Z"
   },
   {
    "duration": 70,
    "start_time": "2021-12-27T17:54:23.011Z"
   },
   {
    "duration": 10,
    "start_time": "2021-12-27T17:54:23.084Z"
   },
   {
    "duration": 15,
    "start_time": "2021-12-27T17:54:23.096Z"
   },
   {
    "duration": 72,
    "start_time": "2021-12-27T17:54:23.114Z"
   },
   {
    "duration": 10,
    "start_time": "2021-12-27T17:54:23.189Z"
   },
   {
    "duration": 62,
    "start_time": "2021-12-27T17:54:23.202Z"
   },
   {
    "duration": 11,
    "start_time": "2021-12-27T17:54:23.267Z"
   },
   {
    "duration": 37,
    "start_time": "2021-12-27T17:54:23.281Z"
   },
   {
    "duration": 44,
    "start_time": "2021-12-27T17:54:23.321Z"
   },
   {
    "duration": 37,
    "start_time": "2021-12-27T17:54:23.368Z"
   },
   {
    "duration": 96,
    "start_time": "2021-12-27T17:54:23.408Z"
   },
   {
    "duration": 464,
    "start_time": "2021-12-27T17:54:23.506Z"
   },
   {
    "duration": 9,
    "start_time": "2021-12-27T17:54:23.972Z"
   },
   {
    "duration": 400,
    "start_time": "2021-12-27T17:54:23.984Z"
   },
   {
    "duration": 10,
    "start_time": "2021-12-27T17:54:24.387Z"
   },
   {
    "duration": 466,
    "start_time": "2021-12-27T17:54:24.399Z"
   },
   {
    "duration": 6,
    "start_time": "2021-12-27T17:54:24.868Z"
   },
   {
    "duration": 439,
    "start_time": "2021-12-27T17:54:24.876Z"
   },
   {
    "duration": 7,
    "start_time": "2021-12-27T17:54:25.318Z"
   },
   {
    "duration": 327,
    "start_time": "2021-12-27T17:54:25.327Z"
   },
   {
    "duration": 598,
    "start_time": "2021-12-27T17:54:25.656Z"
   },
   {
    "duration": 131,
    "start_time": "2021-12-27T17:58:30.432Z"
   },
   {
    "duration": 396,
    "start_time": "2021-12-27T17:58:37.823Z"
   },
   {
    "duration": 421,
    "start_time": "2021-12-27T17:59:10.745Z"
   },
   {
    "duration": 323,
    "start_time": "2021-12-27T17:59:20.389Z"
   },
   {
    "duration": 714,
    "start_time": "2021-12-27T17:59:31.403Z"
   },
   {
    "duration": 723,
    "start_time": "2021-12-27T17:59:46.200Z"
   },
   {
    "duration": 790,
    "start_time": "2021-12-27T17:59:58.645Z"
   },
   {
    "duration": 503,
    "start_time": "2021-12-27T18:00:37.089Z"
   },
   {
    "duration": 611,
    "start_time": "2021-12-27T18:01:11.211Z"
   },
   {
    "duration": 375,
    "start_time": "2021-12-27T18:01:38.261Z"
   },
   {
    "duration": -134,
    "start_time": "2021-12-27T18:16:02.296Z"
   },
   {
    "duration": 322,
    "start_time": "2021-12-27T18:16:15.690Z"
   },
   {
    "duration": 303,
    "start_time": "2021-12-27T18:17:18.692Z"
   },
   {
    "duration": 411,
    "start_time": "2021-12-27T18:17:40.665Z"
   },
   {
    "duration": 491,
    "start_time": "2021-12-27T18:18:19.088Z"
   },
   {
    "duration": 300,
    "start_time": "2021-12-27T18:19:45.620Z"
   },
   {
    "duration": 314,
    "start_time": "2021-12-27T18:19:47.642Z"
   },
   {
    "duration": 7,
    "start_time": "2021-12-27T18:21:21.774Z"
   },
   {
    "duration": 8,
    "start_time": "2021-12-27T18:21:41.355Z"
   },
   {
    "duration": 8,
    "start_time": "2021-12-27T18:21:56.822Z"
   },
   {
    "duration": 92,
    "start_time": "2021-12-27T18:40:12.440Z"
   },
   {
    "duration": 18,
    "start_time": "2021-12-27T18:43:19.802Z"
   },
   {
    "duration": 12,
    "start_time": "2021-12-27T18:51:23.231Z"
   },
   {
    "duration": 368,
    "start_time": "2021-12-27T18:51:43.181Z"
   },
   {
    "duration": 20,
    "start_time": "2021-12-27T18:52:04.041Z"
   },
   {
    "duration": 16,
    "start_time": "2021-12-27T18:52:15.307Z"
   },
   {
    "duration": 16,
    "start_time": "2021-12-27T18:52:54.722Z"
   },
   {
    "duration": 27,
    "start_time": "2021-12-27T18:54:33.274Z"
   },
   {
    "duration": 16,
    "start_time": "2021-12-27T18:55:00.032Z"
   },
   {
    "duration": 145,
    "start_time": "2021-12-27T18:58:38.665Z"
   },
   {
    "duration": 358,
    "start_time": "2021-12-27T18:58:49.781Z"
   },
   {
    "duration": 16,
    "start_time": "2021-12-27T18:59:18.780Z"
   },
   {
    "duration": 19,
    "start_time": "2021-12-27T18:59:58.637Z"
   },
   {
    "duration": 17,
    "start_time": "2021-12-27T19:00:59.846Z"
   },
   {
    "duration": 108,
    "start_time": "2021-12-27T19:02:49.168Z"
   },
   {
    "duration": 298,
    "start_time": "2021-12-27T19:03:05.039Z"
   },
   {
    "duration": 13,
    "start_time": "2021-12-27T19:03:13.896Z"
   },
   {
    "duration": 7,
    "start_time": "2021-12-27T19:09:50.466Z"
   },
   {
    "duration": 11,
    "start_time": "2021-12-27T19:09:57.076Z"
   },
   {
    "duration": 11,
    "start_time": "2021-12-27T19:10:44.331Z"
   },
   {
    "duration": 11,
    "start_time": "2021-12-27T19:10:52.374Z"
   },
   {
    "duration": 56,
    "start_time": "2021-12-27T19:16:48.943Z"
   },
   {
    "duration": 974,
    "start_time": "2021-12-27T19:23:05.930Z"
   },
   {
    "duration": 11,
    "start_time": "2021-12-27T19:25:19.278Z"
   },
   {
    "duration": 12,
    "start_time": "2021-12-27T19:27:43.512Z"
   },
   {
    "duration": 11,
    "start_time": "2021-12-27T19:27:53.069Z"
   },
   {
    "duration": 11,
    "start_time": "2021-12-27T19:28:13.252Z"
   },
   {
    "duration": 14,
    "start_time": "2021-12-27T19:29:33.000Z"
   },
   {
    "duration": 10,
    "start_time": "2021-12-27T19:29:40.570Z"
   },
   {
    "duration": 11,
    "start_time": "2021-12-27T19:29:46.970Z"
   },
   {
    "duration": 10,
    "start_time": "2021-12-27T19:29:51.654Z"
   },
   {
    "duration": 10,
    "start_time": "2021-12-27T19:30:13.294Z"
   },
   {
    "duration": 10,
    "start_time": "2021-12-27T19:30:45.283Z"
   },
   {
    "duration": 12,
    "start_time": "2021-12-27T19:30:59.663Z"
   },
   {
    "duration": 10,
    "start_time": "2021-12-27T19:31:13.462Z"
   },
   {
    "duration": 17,
    "start_time": "2021-12-27T19:33:55.772Z"
   },
   {
    "duration": 7830,
    "start_time": "2021-12-27T19:35:08.859Z"
   },
   {
    "duration": 32,
    "start_time": "2021-12-27T19:35:35.492Z"
   },
   {
    "duration": 35,
    "start_time": "2021-12-27T19:37:50.100Z"
   },
   {
    "duration": 11,
    "start_time": "2021-12-27T19:38:12.567Z"
   },
   {
    "duration": 12,
    "start_time": "2021-12-27T19:38:34.239Z"
   },
   {
    "duration": 34,
    "start_time": "2021-12-27T19:38:51.426Z"
   },
   {
    "duration": 3664,
    "start_time": "2021-12-27T20:05:03.200Z"
   },
   {
    "duration": 9151,
    "start_time": "2021-12-27T20:05:22.217Z"
   },
   {
    "duration": 12,
    "start_time": "2021-12-27T20:05:47.508Z"
   },
   {
    "duration": 10,
    "start_time": "2021-12-27T20:07:42.542Z"
   },
   {
    "duration": 8,
    "start_time": "2021-12-27T20:21:46.471Z"
   },
   {
    "duration": 4,
    "start_time": "2021-12-27T20:22:22.450Z"
   },
   {
    "duration": 6,
    "start_time": "2021-12-27T20:22:41.135Z"
   },
   {
    "duration": 8,
    "start_time": "2021-12-27T20:22:48.124Z"
   },
   {
    "duration": 5,
    "start_time": "2021-12-27T20:23:25.974Z"
   },
   {
    "duration": 5,
    "start_time": "2021-12-27T20:23:29.343Z"
   },
   {
    "duration": 8,
    "start_time": "2021-12-27T20:23:29.922Z"
   },
   {
    "duration": 325,
    "start_time": "2021-12-28T10:14:30.054Z"
   },
   {
    "duration": 322,
    "start_time": "2021-12-28T10:14:52.222Z"
   },
   {
    "duration": 20,
    "start_time": "2021-12-28T10:15:40.195Z"
   },
   {
    "duration": 16,
    "start_time": "2021-12-28T10:15:48.942Z"
   },
   {
    "duration": 308,
    "start_time": "2021-12-28T10:15:55.069Z"
   },
   {
    "duration": 424,
    "start_time": "2021-12-28T10:17:43.326Z"
   },
   {
    "duration": 2757,
    "start_time": "2021-12-28T10:18:29.361Z"
   },
   {
    "duration": 427,
    "start_time": "2021-12-28T10:21:43.379Z"
   },
   {
    "duration": 294,
    "start_time": "2021-12-28T10:21:55.905Z"
   },
   {
    "duration": 19,
    "start_time": "2021-12-28T10:23:05.115Z"
   },
   {
    "duration": 26,
    "start_time": "2021-12-28T10:23:14.671Z"
   },
   {
    "duration": 20,
    "start_time": "2021-12-28T10:23:47.717Z"
   },
   {
    "duration": 295,
    "start_time": "2021-12-28T10:24:17.916Z"
   },
   {
    "duration": 22,
    "start_time": "2021-12-28T10:24:30.651Z"
   },
   {
    "duration": 22,
    "start_time": "2021-12-28T10:24:44.696Z"
   },
   {
    "duration": 21,
    "start_time": "2021-12-28T10:24:54.582Z"
   },
   {
    "duration": 61,
    "start_time": "2021-12-28T10:31:51.157Z"
   },
   {
    "duration": 57,
    "start_time": "2021-12-28T10:32:58.219Z"
   },
   {
    "duration": 67,
    "start_time": "2021-12-28T10:33:43.090Z"
   },
   {
    "duration": 9,
    "start_time": "2021-12-28T10:34:21.511Z"
   },
   {
    "duration": 6,
    "start_time": "2021-12-28T10:34:26.766Z"
   },
   {
    "duration": 4,
    "start_time": "2021-12-28T10:34:36.708Z"
   },
   {
    "duration": 125,
    "start_time": "2021-12-28T10:34:36.724Z"
   },
   {
    "duration": 14,
    "start_time": "2021-12-28T10:34:36.852Z"
   },
   {
    "duration": 15,
    "start_time": "2021-12-28T10:34:36.869Z"
   },
   {
    "duration": 136,
    "start_time": "2021-12-28T10:34:36.887Z"
   },
   {
    "duration": 38,
    "start_time": "2021-12-28T10:34:37.026Z"
   },
   {
    "duration": 35,
    "start_time": "2021-12-28T10:34:37.067Z"
   },
   {
    "duration": 5,
    "start_time": "2021-12-28T10:34:37.104Z"
   },
   {
    "duration": 6,
    "start_time": "2021-12-28T10:34:37.113Z"
   },
   {
    "duration": 16,
    "start_time": "2021-12-28T10:34:37.163Z"
   },
   {
    "duration": 18,
    "start_time": "2021-12-28T10:34:37.182Z"
   },
   {
    "duration": 22,
    "start_time": "2021-12-28T10:34:37.203Z"
   },
   {
    "duration": 51,
    "start_time": "2021-12-28T10:34:37.263Z"
   },
   {
    "duration": 10,
    "start_time": "2021-12-28T10:34:37.316Z"
   },
   {
    "duration": 7,
    "start_time": "2021-12-28T10:34:37.364Z"
   },
   {
    "duration": 14,
    "start_time": "2021-12-28T10:34:37.374Z"
   },
   {
    "duration": 16,
    "start_time": "2021-12-28T10:34:37.391Z"
   },
   {
    "duration": 99,
    "start_time": "2021-12-28T10:34:37.410Z"
   },
   {
    "duration": 52,
    "start_time": "2021-12-28T10:34:37.512Z"
   },
   {
    "duration": 5,
    "start_time": "2021-12-28T10:34:37.567Z"
   },
   {
    "duration": 20,
    "start_time": "2021-12-28T10:34:37.575Z"
   },
   {
    "duration": 1083,
    "start_time": "2021-12-28T10:34:37.597Z"
   },
   {
    "duration": 6,
    "start_time": "2021-12-28T10:34:38.682Z"
   },
   {
    "duration": 80,
    "start_time": "2021-12-28T10:34:38.696Z"
   },
   {
    "duration": 335,
    "start_time": "2021-12-28T10:34:38.780Z"
   },
   {
    "duration": 256,
    "start_time": "2021-12-28T10:34:39.118Z"
   },
   {
    "duration": 309,
    "start_time": "2021-12-28T10:34:39.377Z"
   },
   {
    "duration": 280,
    "start_time": "2021-12-28T10:34:39.689Z"
   },
   {
    "duration": 327,
    "start_time": "2021-12-28T10:34:39.972Z"
   },
   {
    "duration": 255,
    "start_time": "2021-12-28T10:34:40.301Z"
   },
   {
    "duration": 310,
    "start_time": "2021-12-28T10:34:40.559Z"
   },
   {
    "duration": 329,
    "start_time": "2021-12-28T10:34:40.871Z"
   },
   {
    "duration": 388,
    "start_time": "2021-12-28T10:34:41.202Z"
   },
   {
    "duration": 374,
    "start_time": "2021-12-28T10:34:41.592Z"
   },
   {
    "duration": 7,
    "start_time": "2021-12-28T10:34:41.969Z"
   },
   {
    "duration": 12,
    "start_time": "2021-12-28T10:34:41.978Z"
   },
   {
    "duration": 89,
    "start_time": "2021-12-28T10:34:41.992Z"
   },
   {
    "duration": 8,
    "start_time": "2021-12-28T10:34:42.084Z"
   },
   {
    "duration": 10,
    "start_time": "2021-12-28T10:34:42.094Z"
   },
   {
    "duration": 84,
    "start_time": "2021-12-28T10:34:42.107Z"
   },
   {
    "duration": 10,
    "start_time": "2021-12-28T10:34:42.194Z"
   },
   {
    "duration": 60,
    "start_time": "2021-12-28T10:34:42.206Z"
   },
   {
    "duration": 17,
    "start_time": "2021-12-28T10:34:42.269Z"
   },
   {
    "duration": 39,
    "start_time": "2021-12-28T10:34:42.288Z"
   },
   {
    "duration": 41,
    "start_time": "2021-12-28T10:34:42.330Z"
   },
   {
    "duration": 40,
    "start_time": "2021-12-28T10:34:42.374Z"
   },
   {
    "duration": 93,
    "start_time": "2021-12-28T10:34:42.416Z"
   },
   {
    "duration": 467,
    "start_time": "2021-12-28T10:34:42.511Z"
   },
   {
    "duration": 7,
    "start_time": "2021-12-28T10:34:42.980Z"
   },
   {
    "duration": 379,
    "start_time": "2021-12-28T10:34:42.990Z"
   },
   {
    "duration": 6,
    "start_time": "2021-12-28T10:34:43.371Z"
   },
   {
    "duration": 486,
    "start_time": "2021-12-28T10:34:43.380Z"
   },
   {
    "duration": 8,
    "start_time": "2021-12-28T10:34:43.869Z"
   },
   {
    "duration": 337,
    "start_time": "2021-12-28T10:34:43.880Z"
   },
   {
    "duration": 21,
    "start_time": "2021-12-28T10:34:44.219Z"
   },
   {
    "duration": 352,
    "start_time": "2021-12-28T10:34:44.242Z"
   },
   {
    "duration": 7,
    "start_time": "2021-12-28T10:34:44.597Z"
   },
   {
    "duration": 331,
    "start_time": "2021-12-28T10:34:44.606Z"
   },
   {
    "duration": 6,
    "start_time": "2021-12-28T10:34:44.939Z"
   },
   {
    "duration": 405,
    "start_time": "2021-12-28T10:34:44.963Z"
   },
   {
    "duration": 6,
    "start_time": "2021-12-28T10:34:45.370Z"
   },
   {
    "duration": 18,
    "start_time": "2021-12-28T10:34:45.378Z"
   },
   {
    "duration": 18,
    "start_time": "2021-12-28T10:34:45.399Z"
   },
   {
    "duration": 49,
    "start_time": "2021-12-28T10:34:45.420Z"
   },
   {
    "duration": 14,
    "start_time": "2021-12-28T10:34:45.471Z"
   },
   {
    "duration": 12,
    "start_time": "2021-12-28T10:34:45.488Z"
   },
   {
    "duration": 70,
    "start_time": "2021-12-28T10:34:45.503Z"
   },
   {
    "duration": 57,
    "start_time": "2021-12-28T10:34:45.575Z"
   },
   {
    "duration": 24,
    "start_time": "2021-12-28T10:34:45.639Z"
   },
   {
    "duration": 8,
    "start_time": "2021-12-28T10:34:45.665Z"
   },
   {
    "duration": 3,
    "start_time": "2021-12-28T10:34:45.676Z"
   },
   {
    "duration": 6,
    "start_time": "2021-12-28T10:39:14.867Z"
   },
   {
    "duration": 55,
    "start_time": "2021-12-28T10:39:34.618Z"
   },
   {
    "duration": 8,
    "start_time": "2021-12-28T10:39:42.208Z"
   },
   {
    "duration": 6,
    "start_time": "2021-12-28T10:40:09.283Z"
   },
   {
    "duration": 10,
    "start_time": "2021-12-28T10:41:01.331Z"
   },
   {
    "duration": 3702,
    "start_time": "2021-12-28T10:42:30.659Z"
   },
   {
    "duration": 63,
    "start_time": "2021-12-28T10:51:17.861Z"
   },
   {
    "duration": 13,
    "start_time": "2021-12-28T10:52:10.243Z"
   },
   {
    "duration": 21,
    "start_time": "2021-12-28T10:53:28.968Z"
   },
   {
    "duration": 23,
    "start_time": "2021-12-28T10:53:36.475Z"
   },
   {
    "duration": 293,
    "start_time": "2021-12-28T10:54:06.799Z"
   },
   {
    "duration": 714,
    "start_time": "2021-12-28T10:54:41.020Z"
   },
   {
    "duration": 381,
    "start_time": "2021-12-28T10:55:14.765Z"
   },
   {
    "duration": 277,
    "start_time": "2021-12-28T10:55:22.958Z"
   },
   {
    "duration": 311,
    "start_time": "2021-12-28T10:56:51.314Z"
   },
   {
    "duration": 266,
    "start_time": "2021-12-28T10:57:04.679Z"
   },
   {
    "duration": 8849,
    "start_time": "2021-12-28T11:05:25.347Z"
   },
   {
    "duration": 6,
    "start_time": "2021-12-28T11:05:35.208Z"
   },
   {
    "duration": 277,
    "start_time": "2021-12-28T11:06:49.387Z"
   },
   {
    "duration": 7,
    "start_time": "2021-12-28T11:06:50.347Z"
   },
   {
    "duration": 328,
    "start_time": "2021-12-28T18:43:10.521Z"
   },
   {
    "duration": 55,
    "start_time": "2021-12-28T18:43:34.200Z"
   },
   {
    "duration": 135,
    "start_time": "2021-12-28T18:48:04.819Z"
   },
   {
    "duration": 10,
    "start_time": "2021-12-28T18:51:33.380Z"
   },
   {
    "duration": 196644,
    "start_time": "2021-12-28T18:51:39.054Z"
   },
   {
    "duration": 11,
    "start_time": "2021-12-28T19:18:53.807Z"
   },
   {
    "duration": 80,
    "start_time": "2021-12-28T19:19:00.856Z"
   },
   {
    "duration": 4,
    "start_time": "2021-12-28T19:19:17.284Z"
   },
   {
    "duration": 223,
    "start_time": "2021-12-28T19:19:17.295Z"
   },
   {
    "duration": 10,
    "start_time": "2021-12-28T19:19:17.522Z"
   },
   {
    "duration": 28,
    "start_time": "2021-12-28T19:19:17.568Z"
   },
   {
    "duration": 160,
    "start_time": "2021-12-28T19:19:17.599Z"
   },
   {
    "duration": 19,
    "start_time": "2021-12-28T19:19:17.762Z"
   },
   {
    "duration": 41,
    "start_time": "2021-12-28T19:19:17.784Z"
   },
   {
    "duration": 5,
    "start_time": "2021-12-28T19:19:17.827Z"
   },
   {
    "duration": 41,
    "start_time": "2021-12-28T19:19:17.834Z"
   },
   {
    "duration": 21,
    "start_time": "2021-12-28T19:19:17.880Z"
   },
   {
    "duration": 18,
    "start_time": "2021-12-28T19:19:17.905Z"
   },
   {
    "duration": 56,
    "start_time": "2021-12-28T19:19:17.926Z"
   },
   {
    "duration": 38,
    "start_time": "2021-12-28T19:19:17.989Z"
   },
   {
    "duration": 43,
    "start_time": "2021-12-28T19:19:18.030Z"
   },
   {
    "duration": 18,
    "start_time": "2021-12-28T19:19:18.076Z"
   },
   {
    "duration": 12,
    "start_time": "2021-12-28T19:19:18.096Z"
   },
   {
    "duration": 16,
    "start_time": "2021-12-28T19:19:18.110Z"
   },
   {
    "duration": 94,
    "start_time": "2021-12-28T19:19:18.128Z"
   },
   {
    "duration": 59,
    "start_time": "2021-12-28T19:19:18.224Z"
   },
   {
    "duration": 6,
    "start_time": "2021-12-28T19:19:18.286Z"
   },
   {
    "duration": 19,
    "start_time": "2021-12-28T19:19:18.295Z"
   },
   {
    "duration": 1312,
    "start_time": "2021-12-28T19:19:18.317Z"
   },
   {
    "duration": 7,
    "start_time": "2021-12-28T19:19:19.631Z"
   },
   {
    "duration": 81,
    "start_time": "2021-12-28T19:19:19.640Z"
   },
   {
    "duration": 368,
    "start_time": "2021-12-28T19:19:19.723Z"
   },
   {
    "duration": 257,
    "start_time": "2021-12-28T19:19:20.096Z"
   },
   {
    "duration": 555,
    "start_time": "2021-12-28T19:19:20.363Z"
   },
   {
    "duration": 290,
    "start_time": "2021-12-28T19:19:20.928Z"
   },
   {
    "duration": 352,
    "start_time": "2021-12-28T19:19:21.221Z"
   },
   {
    "duration": 263,
    "start_time": "2021-12-28T19:19:21.576Z"
   },
   {
    "duration": 361,
    "start_time": "2021-12-28T19:19:21.842Z"
   },
   {
    "duration": 261,
    "start_time": "2021-12-28T19:19:22.206Z"
   },
   {
    "duration": 343,
    "start_time": "2021-12-28T19:19:22.470Z"
   },
   {
    "duration": 288,
    "start_time": "2021-12-28T19:19:22.815Z"
   },
   {
    "duration": 5,
    "start_time": "2021-12-28T19:19:23.106Z"
   },
   {
    "duration": 13,
    "start_time": "2021-12-28T19:19:23.113Z"
   },
   {
    "duration": 69,
    "start_time": "2021-12-28T19:19:23.128Z"
   },
   {
    "duration": 8,
    "start_time": "2021-12-28T19:19:23.199Z"
   },
   {
    "duration": 12,
    "start_time": "2021-12-28T19:19:23.210Z"
   },
   {
    "duration": 101,
    "start_time": "2021-12-28T19:19:23.225Z"
   },
   {
    "duration": 12,
    "start_time": "2021-12-28T19:19:23.329Z"
   },
   {
    "duration": 61,
    "start_time": "2021-12-28T19:19:23.344Z"
   },
   {
    "duration": 12,
    "start_time": "2021-12-28T19:19:23.408Z"
   },
   {
    "duration": 81,
    "start_time": "2021-12-28T19:19:23.423Z"
   },
   {
    "duration": 11,
    "start_time": "2021-12-28T19:19:23.506Z"
   },
   {
    "duration": 80,
    "start_time": "2021-12-28T19:19:23.520Z"
   },
   {
    "duration": 81,
    "start_time": "2021-12-28T19:19:23.603Z"
   },
   {
    "duration": 436,
    "start_time": "2021-12-28T19:19:23.689Z"
   },
   {
    "duration": 9,
    "start_time": "2021-12-28T19:19:24.128Z"
   },
   {
    "duration": 496,
    "start_time": "2021-12-28T19:19:24.140Z"
   },
   {
    "duration": 7,
    "start_time": "2021-12-28T19:19:24.638Z"
   },
   {
    "duration": 561,
    "start_time": "2021-12-28T19:19:24.648Z"
   },
   {
    "duration": 7,
    "start_time": "2021-12-28T19:19:25.211Z"
   },
   {
    "duration": 376,
    "start_time": "2021-12-28T19:19:25.221Z"
   },
   {
    "duration": 23,
    "start_time": "2021-12-28T19:19:25.600Z"
   },
   {
    "duration": 367,
    "start_time": "2021-12-28T19:19:25.626Z"
   },
   {
    "duration": 8,
    "start_time": "2021-12-28T19:19:25.999Z"
   },
   {
    "duration": 389,
    "start_time": "2021-12-28T19:19:26.011Z"
   },
   {
    "duration": 7,
    "start_time": "2021-12-28T19:19:26.403Z"
   },
   {
    "duration": 352,
    "start_time": "2021-12-28T19:19:26.413Z"
   },
   {
    "duration": 7,
    "start_time": "2021-12-28T19:19:26.768Z"
   },
   {
    "duration": 15,
    "start_time": "2021-12-28T19:19:26.777Z"
   },
   {
    "duration": 16,
    "start_time": "2021-12-28T19:19:26.794Z"
   },
   {
    "duration": 58,
    "start_time": "2021-12-28T19:19:26.813Z"
   },
   {
    "duration": 16,
    "start_time": "2021-12-28T19:19:26.874Z"
   },
   {
    "duration": 12,
    "start_time": "2021-12-28T19:19:26.893Z"
   },
   {
    "duration": 77,
    "start_time": "2021-12-28T19:19:26.909Z"
   },
   {
    "duration": 318,
    "start_time": "2021-12-28T19:19:26.989Z"
   },
   {
    "duration": 7,
    "start_time": "2021-12-28T19:19:27.310Z"
   },
   {
    "duration": 107,
    "start_time": "2021-12-28T19:19:27.320Z"
   },
   {
    "duration": -305,
    "start_time": "2021-12-28T19:19:27.735Z"
   },
   {
    "duration": 64,
    "start_time": "2021-12-28T19:19:37.274Z"
   },
   {
    "duration": 69,
    "start_time": "2021-12-28T19:20:20.174Z"
   },
   {
    "duration": 242,
    "start_time": "2021-12-28T19:25:08.139Z"
   },
   {
    "duration": 53,
    "start_time": "2021-12-28T19:28:53.333Z"
   },
   {
    "duration": 244,
    "start_time": "2021-12-28T19:29:28.462Z"
   },
   {
    "duration": 257,
    "start_time": "2021-12-28T19:30:04.653Z"
   },
   {
    "duration": 243,
    "start_time": "2021-12-28T19:31:06.307Z"
   },
   {
    "duration": 234,
    "start_time": "2021-12-28T19:31:20.157Z"
   },
   {
    "duration": 242,
    "start_time": "2021-12-28T19:31:28.932Z"
   },
   {
    "duration": 226,
    "start_time": "2021-12-28T19:31:32.812Z"
   },
   {
    "duration": 222,
    "start_time": "2021-12-28T19:33:00.915Z"
   },
   {
    "duration": 220,
    "start_time": "2021-12-28T19:33:08.971Z"
   },
   {
    "duration": 224,
    "start_time": "2021-12-28T19:33:17.246Z"
   },
   {
    "duration": 227,
    "start_time": "2021-12-28T19:33:57.593Z"
   },
   {
    "duration": 410,
    "start_time": "2021-12-28T19:34:36.512Z"
   },
   {
    "duration": 319,
    "start_time": "2021-12-28T19:35:11.957Z"
   },
   {
    "duration": 37,
    "start_time": "2021-12-28T19:36:23.998Z"
   },
   {
    "duration": 45,
    "start_time": "2021-12-28T19:36:36.334Z"
   },
   {
    "duration": 6,
    "start_time": "2021-12-28T19:36:41.700Z"
   },
   {
    "duration": 159,
    "start_time": "2021-12-28T19:36:41.709Z"
   },
   {
    "duration": 8,
    "start_time": "2021-12-28T19:36:41.872Z"
   },
   {
    "duration": 29,
    "start_time": "2021-12-28T19:36:41.885Z"
   },
   {
    "duration": 135,
    "start_time": "2021-12-28T19:36:41.916Z"
   },
   {
    "duration": 33,
    "start_time": "2021-12-28T19:36:42.054Z"
   },
   {
    "duration": 50,
    "start_time": "2021-12-28T19:36:42.094Z"
   },
   {
    "duration": 5,
    "start_time": "2021-12-28T19:36:42.148Z"
   },
   {
    "duration": 17,
    "start_time": "2021-12-28T19:36:42.156Z"
   },
   {
    "duration": 20,
    "start_time": "2021-12-28T19:36:42.177Z"
   },
   {
    "duration": 16,
    "start_time": "2021-12-28T19:36:42.205Z"
   },
   {
    "duration": 52,
    "start_time": "2021-12-28T19:36:42.224Z"
   },
   {
    "duration": 60,
    "start_time": "2021-12-28T19:36:42.279Z"
   },
   {
    "duration": 29,
    "start_time": "2021-12-28T19:36:42.343Z"
   },
   {
    "duration": 14,
    "start_time": "2021-12-28T19:36:42.377Z"
   },
   {
    "duration": 15,
    "start_time": "2021-12-28T19:36:42.396Z"
   },
   {
    "duration": 15,
    "start_time": "2021-12-28T19:36:42.413Z"
   },
   {
    "duration": 102,
    "start_time": "2021-12-28T19:36:42.431Z"
   },
   {
    "duration": 44,
    "start_time": "2021-12-28T19:36:42.535Z"
   },
   {
    "duration": 12,
    "start_time": "2021-12-28T19:36:42.585Z"
   },
   {
    "duration": 18,
    "start_time": "2021-12-28T19:36:42.599Z"
   },
   {
    "duration": 1453,
    "start_time": "2021-12-28T19:36:42.620Z"
   },
   {
    "duration": 8,
    "start_time": "2021-12-28T19:36:44.080Z"
   },
   {
    "duration": 90,
    "start_time": "2021-12-28T19:36:44.095Z"
   },
   {
    "duration": 448,
    "start_time": "2021-12-28T19:36:44.189Z"
   },
   {
    "duration": 290,
    "start_time": "2021-12-28T19:36:44.641Z"
   },
   {
    "duration": 370,
    "start_time": "2021-12-28T19:36:44.934Z"
   },
   {
    "duration": 300,
    "start_time": "2021-12-28T19:36:45.306Z"
   },
   {
    "duration": 341,
    "start_time": "2021-12-28T19:36:45.609Z"
   },
   {
    "duration": 248,
    "start_time": "2021-12-28T19:36:45.953Z"
   },
   {
    "duration": 354,
    "start_time": "2021-12-28T19:36:46.204Z"
   },
   {
    "duration": 247,
    "start_time": "2021-12-28T19:36:46.562Z"
   },
   {
    "duration": 375,
    "start_time": "2021-12-28T19:36:46.812Z"
   },
   {
    "duration": 283,
    "start_time": "2021-12-28T19:36:47.190Z"
   },
   {
    "duration": 10,
    "start_time": "2021-12-28T19:36:47.476Z"
   },
   {
    "duration": 16,
    "start_time": "2021-12-28T19:36:47.488Z"
   },
   {
    "duration": 70,
    "start_time": "2021-12-28T19:36:47.507Z"
   },
   {
    "duration": 20,
    "start_time": "2021-12-28T19:36:47.580Z"
   },
   {
    "duration": 12,
    "start_time": "2021-12-28T19:36:47.603Z"
   },
   {
    "duration": 66,
    "start_time": "2021-12-28T19:36:47.617Z"
   },
   {
    "duration": 15,
    "start_time": "2021-12-28T19:36:47.685Z"
   },
   {
    "duration": 41,
    "start_time": "2021-12-28T19:36:47.702Z"
   },
   {
    "duration": 16,
    "start_time": "2021-12-28T19:36:47.765Z"
   },
   {
    "duration": 44,
    "start_time": "2021-12-28T19:36:47.784Z"
   },
   {
    "duration": 12,
    "start_time": "2021-12-28T19:36:47.831Z"
   },
   {
    "duration": 48,
    "start_time": "2021-12-28T19:36:47.867Z"
   },
   {
    "duration": 81,
    "start_time": "2021-12-28T19:36:47.917Z"
   },
   {
    "duration": 456,
    "start_time": "2021-12-28T19:36:48.001Z"
   },
   {
    "duration": 8,
    "start_time": "2021-12-28T19:36:48.470Z"
   },
   {
    "duration": 432,
    "start_time": "2021-12-28T19:36:48.481Z"
   },
   {
    "duration": 7,
    "start_time": "2021-12-28T19:36:48.916Z"
   },
   {
    "duration": 571,
    "start_time": "2021-12-28T19:36:48.926Z"
   },
   {
    "duration": 9,
    "start_time": "2021-12-28T19:36:49.504Z"
   },
   {
    "duration": 347,
    "start_time": "2021-12-28T19:36:49.515Z"
   },
   {
    "duration": 34,
    "start_time": "2021-12-28T19:36:49.865Z"
   },
   {
    "duration": 340,
    "start_time": "2021-12-28T19:36:49.902Z"
   },
   {
    "duration": 22,
    "start_time": "2021-12-28T19:36:50.245Z"
   },
   {
    "duration": 360,
    "start_time": "2021-12-28T19:36:50.270Z"
   },
   {
    "duration": 7,
    "start_time": "2021-12-28T19:36:50.633Z"
   },
   {
    "duration": 354,
    "start_time": "2021-12-28T19:36:50.643Z"
   },
   {
    "duration": 8,
    "start_time": "2021-12-28T19:36:50.999Z"
   },
   {
    "duration": 10,
    "start_time": "2021-12-28T19:36:51.010Z"
   },
   {
    "duration": 40,
    "start_time": "2021-12-28T19:36:51.023Z"
   },
   {
    "duration": 16,
    "start_time": "2021-12-28T19:36:51.067Z"
   },
   {
    "duration": 15,
    "start_time": "2021-12-28T19:36:51.085Z"
   },
   {
    "duration": 1103,
    "start_time": "2021-12-28T19:36:51.102Z"
   },
   {
    "duration": 32,
    "start_time": "2021-12-28T19:36:52.208Z"
   },
   {
    "duration": 399,
    "start_time": "2021-12-28T19:36:52.277Z"
   },
   {
    "duration": 12,
    "start_time": "2021-12-28T19:36:52.680Z"
   },
   {
    "duration": 42,
    "start_time": "2021-12-28T19:36:52.694Z"
   },
   {
    "duration": 265,
    "start_time": "2021-12-28T19:36:52.739Z"
   },
   {
    "duration": 273,
    "start_time": "2021-12-28T19:36:53.007Z"
   },
   {
    "duration": 236,
    "start_time": "2021-12-28T19:36:53.285Z"
   },
   {
    "duration": 251,
    "start_time": "2021-12-28T19:36:53.524Z"
   },
   {
    "duration": 231,
    "start_time": "2021-12-28T19:38:50.371Z"
   },
   {
    "duration": 246,
    "start_time": "2021-12-28T19:38:58.332Z"
   },
   {
    "duration": 261,
    "start_time": "2021-12-28T19:52:51.486Z"
   },
   {
    "duration": 224,
    "start_time": "2021-12-28T19:53:08.820Z"
   },
   {
    "duration": 227,
    "start_time": "2021-12-28T19:53:20.075Z"
   },
   {
    "duration": 274,
    "start_time": "2021-12-28T19:53:26.255Z"
   },
   {
    "duration": 227,
    "start_time": "2021-12-28T19:53:37.976Z"
   },
   {
    "duration": 464,
    "start_time": "2021-12-28T20:12:45.252Z"
   },
   {
    "duration": 7,
    "start_time": "2021-12-28T20:13:20.641Z"
   },
   {
    "duration": 507,
    "start_time": "2021-12-28T20:15:16.621Z"
   },
   {
    "duration": 7,
    "start_time": "2021-12-28T20:15:19.231Z"
   },
   {
    "duration": 327,
    "start_time": "2021-12-28T20:16:01.796Z"
   },
   {
    "duration": 20,
    "start_time": "2021-12-28T20:18:15.304Z"
   },
   {
    "duration": 20,
    "start_time": "2021-12-28T20:18:30.080Z"
   },
   {
    "duration": 22,
    "start_time": "2021-12-28T20:19:05.816Z"
   },
   {
    "duration": 337,
    "start_time": "2021-12-28T20:19:45.509Z"
   },
   {
    "duration": 172621,
    "start_time": "2021-12-28T20:20:13.925Z"
   },
   {
    "duration": 7,
    "start_time": "2021-12-28T20:25:03.211Z"
   },
   {
    "duration": 327,
    "start_time": "2021-12-28T20:25:38.696Z"
   },
   {
    "duration": 8,
    "start_time": "2021-12-28T20:25:49.700Z"
   },
   {
    "duration": 358,
    "start_time": "2021-12-28T20:26:26.118Z"
   },
   {
    "duration": 7,
    "start_time": "2021-12-28T20:26:41.322Z"
   },
   {
    "duration": 704,
    "start_time": "2021-12-28T20:35:37.700Z"
   },
   {
    "duration": 332,
    "start_time": "2021-12-28T20:55:04.809Z"
   },
   {
    "duration": 101,
    "start_time": "2021-12-28T20:59:07.739Z"
   },
   {
    "duration": 9,
    "start_time": "2021-12-28T21:10:30.275Z"
   },
   {
    "duration": 6,
    "start_time": "2021-12-28T21:10:30.923Z"
   },
   {
    "duration": 21,
    "start_time": "2021-12-28T21:10:31.850Z"
   },
   {
    "duration": 54,
    "start_time": "2021-12-28T21:10:32.772Z"
   },
   {
    "duration": 49,
    "start_time": "2021-12-28T21:10:48.540Z"
   },
   {
    "duration": 5,
    "start_time": "2021-12-28T21:10:49.299Z"
   },
   {
    "duration": 14,
    "start_time": "2021-12-28T21:10:56.535Z"
   },
   {
    "duration": 1658,
    "start_time": "2021-12-28T21:10:56.808Z"
   },
   {
    "duration": 8,
    "start_time": "2021-12-28T21:10:58.471Z"
   },
   {
    "duration": 389,
    "start_time": "2021-12-28T21:11:09.423Z"
   },
   {
    "duration": 322,
    "start_time": "2021-12-28T21:11:22.388Z"
   },
   {
    "duration": 226,
    "start_time": "2021-12-28T21:11:22.999Z"
   },
   {
    "duration": 312,
    "start_time": "2021-12-28T21:11:24.185Z"
   },
   {
    "duration": 66,
    "start_time": "2021-12-28T21:12:59.672Z"
   },
   {
    "duration": 4,
    "start_time": "2021-12-28T21:13:13.287Z"
   },
   {
    "duration": 193,
    "start_time": "2021-12-28T21:13:13.691Z"
   },
   {
    "duration": 8,
    "start_time": "2021-12-28T21:13:13.942Z"
   },
   {
    "duration": 20,
    "start_time": "2021-12-28T21:13:14.372Z"
   },
   {
    "duration": 110,
    "start_time": "2021-12-28T21:13:14.573Z"
   },
   {
    "duration": 13,
    "start_time": "2021-12-28T21:13:15.340Z"
   },
   {
    "duration": 39,
    "start_time": "2021-12-28T21:13:15.564Z"
   },
   {
    "duration": 6,
    "start_time": "2021-12-28T21:13:15.772Z"
   },
   {
    "duration": 6,
    "start_time": "2021-12-28T21:13:15.916Z"
   },
   {
    "duration": 22,
    "start_time": "2021-12-28T21:13:16.072Z"
   },
   {
    "duration": 23,
    "start_time": "2021-12-28T21:13:16.369Z"
   },
   {
    "duration": 18,
    "start_time": "2021-12-28T21:13:16.835Z"
   },
   {
    "duration": 64,
    "start_time": "2021-12-28T21:13:18.081Z"
   },
   {
    "duration": 11,
    "start_time": "2021-12-28T21:13:18.349Z"
   },
   {
    "duration": 8,
    "start_time": "2021-12-28T21:13:18.912Z"
   },
   {
    "duration": 12,
    "start_time": "2021-12-28T21:13:19.128Z"
   },
   {
    "duration": 21,
    "start_time": "2021-12-28T21:13:19.330Z"
   },
   {
    "duration": 40,
    "start_time": "2021-12-28T21:13:20.422Z"
   },
   {
    "duration": 5,
    "start_time": "2021-12-28T21:13:20.695Z"
   },
   {
    "duration": 18,
    "start_time": "2021-12-28T21:13:20.897Z"
   },
   {
    "duration": 1125,
    "start_time": "2021-12-28T21:13:21.358Z"
   },
   {
    "duration": 7,
    "start_time": "2021-12-28T21:13:22.486Z"
   },
   {
    "duration": 328,
    "start_time": "2021-12-28T21:13:22.821Z"
   },
   {
    "duration": 252,
    "start_time": "2021-12-28T21:13:25.118Z"
   },
   {
    "duration": 309,
    "start_time": "2021-12-28T21:13:25.727Z"
   },
   {
    "duration": 303,
    "start_time": "2021-12-28T21:13:26.040Z"
   },
   {
    "duration": 2155,
    "start_time": "2021-12-28T21:13:26.347Z"
   },
   {
    "duration": 259,
    "start_time": "2021-12-28T21:13:28.506Z"
   },
   {
    "duration": 360,
    "start_time": "2021-12-28T21:13:28.771Z"
   },
   {
    "duration": 243,
    "start_time": "2021-12-28T21:13:30.126Z"
   },
   {
    "duration": 328,
    "start_time": "2021-12-28T21:13:33.468Z"
   },
   {
    "duration": 267,
    "start_time": "2021-12-28T21:13:34.520Z"
   },
   {
    "duration": 8,
    "start_time": "2021-12-28T21:13:36.672Z"
   },
   {
    "duration": 14,
    "start_time": "2021-12-28T21:13:37.359Z"
   },
   {
    "duration": 39,
    "start_time": "2021-12-28T21:13:37.811Z"
   },
   {
    "duration": 13,
    "start_time": "2021-12-28T21:13:38.187Z"
   },
   {
    "duration": 13,
    "start_time": "2021-12-28T21:13:38.419Z"
   },
   {
    "duration": 44,
    "start_time": "2021-12-28T21:13:38.657Z"
   },
   {
    "duration": 13,
    "start_time": "2021-12-28T21:13:39.216Z"
   },
   {
    "duration": 39,
    "start_time": "2021-12-28T21:13:39.419Z"
   },
   {
    "duration": 11,
    "start_time": "2021-12-28T21:13:39.642Z"
   },
   {
    "duration": 38,
    "start_time": "2021-12-28T21:13:40.119Z"
   },
   {
    "duration": 12,
    "start_time": "2021-12-28T21:13:41.655Z"
   },
   {
    "duration": 57,
    "start_time": "2021-12-28T21:13:43.544Z"
   },
   {
    "duration": 109,
    "start_time": "2021-12-28T21:13:45.084Z"
   },
   {
    "duration": 291,
    "start_time": "2021-12-28T21:14:07.784Z"
   },
   {
    "duration": 93,
    "start_time": "2021-12-28T21:14:29.357Z"
   },
   {
    "duration": 441,
    "start_time": "2021-12-28T21:14:43.661Z"
   },
   {
    "duration": 53,
    "start_time": "2021-12-28T21:17:08.378Z"
   },
   {
    "duration": 467,
    "start_time": "2021-12-28T21:17:09.157Z"
   },
   {
    "duration": 7,
    "start_time": "2021-12-28T21:17:09.683Z"
   },
   {
    "duration": 433,
    "start_time": "2021-12-28T21:17:11.818Z"
   },
   {
    "duration": 3,
    "start_time": "2021-12-28T21:32:11.675Z"
   },
   {
    "duration": 139,
    "start_time": "2021-12-28T21:32:11.690Z"
   },
   {
    "duration": 6,
    "start_time": "2021-12-28T21:32:11.831Z"
   },
   {
    "duration": 42,
    "start_time": "2021-12-28T21:32:11.839Z"
   },
   {
    "duration": 146,
    "start_time": "2021-12-28T21:32:11.884Z"
   },
   {
    "duration": 37,
    "start_time": "2021-12-28T21:32:12.034Z"
   },
   {
    "duration": 41,
    "start_time": "2021-12-28T21:32:12.074Z"
   },
   {
    "duration": 5,
    "start_time": "2021-12-28T21:32:12.118Z"
   },
   {
    "duration": 7,
    "start_time": "2021-12-28T21:32:12.164Z"
   },
   {
    "duration": 17,
    "start_time": "2021-12-28T21:32:12.174Z"
   },
   {
    "duration": 17,
    "start_time": "2021-12-28T21:32:12.193Z"
   },
   {
    "duration": 71,
    "start_time": "2021-12-28T21:32:12.212Z"
   },
   {
    "duration": 36,
    "start_time": "2021-12-28T21:32:12.285Z"
   },
   {
    "duration": 9,
    "start_time": "2021-12-28T21:32:12.324Z"
   },
   {
    "duration": 45,
    "start_time": "2021-12-28T21:32:12.335Z"
   },
   {
    "duration": 11,
    "start_time": "2021-12-28T21:32:12.382Z"
   },
   {
    "duration": 15,
    "start_time": "2021-12-28T21:32:12.396Z"
   },
   {
    "duration": 68,
    "start_time": "2021-12-28T21:32:12.414Z"
   },
   {
    "duration": 5,
    "start_time": "2021-12-28T21:32:12.484Z"
   },
   {
    "duration": 18,
    "start_time": "2021-12-28T21:32:12.491Z"
   },
   {
    "duration": 1098,
    "start_time": "2021-12-28T21:32:12.512Z"
   },
   {
    "duration": 7,
    "start_time": "2021-12-28T21:32:13.612Z"
   },
   {
    "duration": 342,
    "start_time": "2021-12-28T21:32:13.621Z"
   },
   {
    "duration": 247,
    "start_time": "2021-12-28T21:32:13.971Z"
   },
   {
    "duration": 322,
    "start_time": "2021-12-28T21:32:14.222Z"
   },
   {
    "duration": 282,
    "start_time": "2021-12-28T21:32:14.547Z"
   },
   {
    "duration": 328,
    "start_time": "2021-12-28T21:32:14.831Z"
   },
   {
    "duration": 242,
    "start_time": "2021-12-28T21:32:15.164Z"
   },
   {
    "duration": 333,
    "start_time": "2021-12-28T21:32:15.409Z"
   },
   {
    "duration": 243,
    "start_time": "2021-12-28T21:32:15.744Z"
   },
   {
    "duration": 329,
    "start_time": "2021-12-28T21:32:15.990Z"
   },
   {
    "duration": 266,
    "start_time": "2021-12-28T21:32:16.322Z"
   },
   {
    "duration": 5,
    "start_time": "2021-12-28T21:32:16.591Z"
   },
   {
    "duration": 14,
    "start_time": "2021-12-28T21:32:16.599Z"
   },
   {
    "duration": 69,
    "start_time": "2021-12-28T21:32:16.615Z"
   },
   {
    "duration": 7,
    "start_time": "2021-12-28T21:32:16.687Z"
   },
   {
    "duration": 10,
    "start_time": "2021-12-28T21:32:16.697Z"
   },
   {
    "duration": 78,
    "start_time": "2021-12-28T21:32:16.709Z"
   },
   {
    "duration": 10,
    "start_time": "2021-12-28T21:32:16.789Z"
   },
   {
    "duration": 36,
    "start_time": "2021-12-28T21:32:16.801Z"
   },
   {
    "duration": 37,
    "start_time": "2021-12-28T21:32:16.840Z"
   },
   {
    "duration": 38,
    "start_time": "2021-12-28T21:32:16.880Z"
   },
   {
    "duration": 49,
    "start_time": "2021-12-28T21:32:16.920Z"
   },
   {
    "duration": 44,
    "start_time": "2021-12-28T21:32:16.972Z"
   },
   {
    "duration": 78,
    "start_time": "2021-12-28T21:32:17.019Z"
   },
   {
    "duration": 453,
    "start_time": "2021-12-28T21:32:17.099Z"
   },
   {
    "duration": 13,
    "start_time": "2021-12-28T21:32:17.555Z"
   },
   {
    "duration": 422,
    "start_time": "2021-12-28T21:32:17.571Z"
   },
   {
    "duration": 6,
    "start_time": "2021-12-28T21:32:17.996Z"
   },
   {
    "duration": 565,
    "start_time": "2021-12-28T21:32:18.004Z"
   },
   {
    "duration": 8,
    "start_time": "2021-12-28T21:32:18.572Z"
   },
   {
    "duration": 341,
    "start_time": "2021-12-28T21:32:18.583Z"
   },
   {
    "duration": 21,
    "start_time": "2021-12-28T21:32:18.926Z"
   },
   {
    "duration": 352,
    "start_time": "2021-12-28T21:32:18.964Z"
   },
   {
    "duration": 8,
    "start_time": "2021-12-28T21:32:19.318Z"
   },
   {
    "duration": 345,
    "start_time": "2021-12-28T21:32:19.328Z"
   },
   {
    "duration": 7,
    "start_time": "2021-12-28T21:32:19.675Z"
   },
   {
    "duration": 356,
    "start_time": "2021-12-28T21:32:19.685Z"
   },
   {
    "duration": 19,
    "start_time": "2021-12-28T21:32:20.044Z"
   },
   {
    "duration": 22,
    "start_time": "2021-12-28T21:32:20.065Z"
   },
   {
    "duration": 11,
    "start_time": "2021-12-28T21:32:20.090Z"
   },
   {
    "duration": 11,
    "start_time": "2021-12-28T21:32:20.104Z"
   },
   {
    "duration": 50,
    "start_time": "2021-12-28T21:32:20.117Z"
   },
   {
    "duration": 36,
    "start_time": "2021-12-28T21:32:20.171Z"
   },
   {
    "duration": 325,
    "start_time": "2021-12-28T21:32:20.209Z"
   },
   {
    "duration": 7,
    "start_time": "2021-12-28T21:32:20.536Z"
   },
   {
    "duration": 66,
    "start_time": "2021-12-28T21:32:20.545Z"
   },
   {
    "duration": 271,
    "start_time": "2021-12-28T21:32:20.614Z"
   },
   {
    "duration": 271,
    "start_time": "2021-12-28T21:32:20.894Z"
   },
   {
    "duration": 240,
    "start_time": "2021-12-28T21:32:21.169Z"
   },
   {
    "duration": 301,
    "start_time": "2021-12-28T21:32:21.411Z"
   },
   {
    "duration": 487,
    "start_time": "2021-12-28T21:32:21.715Z"
   },
   {
    "duration": 7,
    "start_time": "2021-12-28T21:32:22.205Z"
   },
   {
    "duration": 519,
    "start_time": "2021-12-28T21:32:22.216Z"
   },
   {
    "duration": 8,
    "start_time": "2021-12-28T21:32:22.738Z"
   },
   {
    "duration": 343,
    "start_time": "2021-12-28T21:32:22.749Z"
   },
   {
    "duration": 21,
    "start_time": "2021-12-28T21:32:23.095Z"
   },
   {
    "duration": 373,
    "start_time": "2021-12-28T21:32:23.118Z"
   },
   {
    "duration": 6,
    "start_time": "2021-12-28T21:32:23.494Z"
   },
   {
    "duration": 334,
    "start_time": "2021-12-28T21:32:23.502Z"
   },
   {
    "duration": 7,
    "start_time": "2021-12-28T21:32:23.838Z"
   },
   {
    "duration": 373,
    "start_time": "2021-12-28T21:32:23.848Z"
   },
   {
    "duration": 7,
    "start_time": "2021-12-28T21:32:24.224Z"
   },
   {
    "duration": 884,
    "start_time": "2021-12-30T06:51:30.055Z"
   },
   {
    "duration": 125,
    "start_time": "2021-12-30T06:51:30.942Z"
   },
   {
    "duration": 6,
    "start_time": "2021-12-30T06:51:31.069Z"
   },
   {
    "duration": 20,
    "start_time": "2021-12-30T06:51:31.078Z"
   },
   {
    "duration": 129,
    "start_time": "2021-12-30T06:51:31.100Z"
   },
   {
    "duration": 11,
    "start_time": "2021-12-30T06:51:31.232Z"
   },
   {
    "duration": 42,
    "start_time": "2021-12-30T06:51:31.246Z"
   },
   {
    "duration": 29,
    "start_time": "2021-12-30T06:51:31.291Z"
   },
   {
    "duration": 25,
    "start_time": "2021-12-30T06:51:31.323Z"
   },
   {
    "duration": 33,
    "start_time": "2021-12-30T06:51:31.351Z"
   },
   {
    "duration": 21,
    "start_time": "2021-12-30T06:51:31.387Z"
   },
   {
    "duration": 20,
    "start_time": "2021-12-30T06:51:31.411Z"
   },
   {
    "duration": 37,
    "start_time": "2021-12-30T06:51:31.433Z"
   },
   {
    "duration": 10,
    "start_time": "2021-12-30T06:51:31.472Z"
   },
   {
    "duration": 37,
    "start_time": "2021-12-30T06:51:31.484Z"
   },
   {
    "duration": 10,
    "start_time": "2021-12-30T06:51:31.523Z"
   },
   {
    "duration": 26,
    "start_time": "2021-12-30T06:51:31.536Z"
   },
   {
    "duration": 35,
    "start_time": "2021-12-30T06:51:31.565Z"
   },
   {
    "duration": 6,
    "start_time": "2021-12-30T06:51:31.617Z"
   },
   {
    "duration": 22,
    "start_time": "2021-12-30T06:51:31.625Z"
   },
   {
    "duration": 1037,
    "start_time": "2021-12-30T06:51:31.649Z"
   },
   {
    "duration": 6,
    "start_time": "2021-12-30T06:51:32.689Z"
   },
   {
    "duration": 332,
    "start_time": "2021-12-30T06:51:32.718Z"
   },
   {
    "duration": 271,
    "start_time": "2021-12-30T06:51:33.053Z"
   },
   {
    "duration": 318,
    "start_time": "2021-12-30T06:51:33.326Z"
   },
   {
    "duration": 347,
    "start_time": "2021-12-30T06:51:33.646Z"
   },
   {
    "duration": 334,
    "start_time": "2021-12-30T06:51:33.996Z"
   },
   {
    "duration": 237,
    "start_time": "2021-12-30T06:51:34.332Z"
   },
   {
    "duration": 327,
    "start_time": "2021-12-30T06:51:34.572Z"
   },
   {
    "duration": 250,
    "start_time": "2021-12-30T06:51:34.901Z"
   },
   {
    "duration": 323,
    "start_time": "2021-12-30T06:51:35.153Z"
   },
   {
    "duration": 273,
    "start_time": "2021-12-30T06:51:35.479Z"
   },
   {
    "duration": 6,
    "start_time": "2021-12-30T06:51:35.755Z"
   },
   {
    "duration": 73,
    "start_time": "2021-12-30T06:51:35.763Z"
   },
   {
    "duration": 103,
    "start_time": "2021-12-30T06:51:35.839Z"
   },
   {
    "duration": 9,
    "start_time": "2021-12-30T06:51:35.944Z"
   },
   {
    "duration": 37,
    "start_time": "2021-12-30T06:51:35.956Z"
   },
   {
    "duration": 64,
    "start_time": "2021-12-30T06:51:35.996Z"
   },
   {
    "duration": 34,
    "start_time": "2021-12-30T06:51:36.062Z"
   },
   {
    "duration": 39,
    "start_time": "2021-12-30T06:51:36.099Z"
   },
   {
    "duration": 15,
    "start_time": "2021-12-30T06:51:36.142Z"
   },
   {
    "duration": 37,
    "start_time": "2021-12-30T06:51:36.159Z"
   },
   {
    "duration": 12,
    "start_time": "2021-12-30T06:51:36.218Z"
   },
   {
    "duration": 37,
    "start_time": "2021-12-30T06:51:36.232Z"
   },
   {
    "duration": 97,
    "start_time": "2021-12-30T06:51:36.271Z"
   },
   {
    "duration": 494,
    "start_time": "2021-12-30T06:51:36.371Z"
   },
   {
    "duration": 7,
    "start_time": "2021-12-30T06:51:36.868Z"
   },
   {
    "duration": 458,
    "start_time": "2021-12-30T06:51:36.878Z"
   },
   {
    "duration": 8,
    "start_time": "2021-12-30T06:51:37.339Z"
   },
   {
    "duration": 611,
    "start_time": "2021-12-30T06:51:37.350Z"
   },
   {
    "duration": 7,
    "start_time": "2021-12-30T06:51:37.964Z"
   },
   {
    "duration": 355,
    "start_time": "2021-12-30T06:51:37.974Z"
   },
   {
    "duration": 20,
    "start_time": "2021-12-30T06:51:38.331Z"
   },
   {
    "duration": 358,
    "start_time": "2021-12-30T06:51:38.353Z"
   },
   {
    "duration": 7,
    "start_time": "2021-12-30T06:51:38.717Z"
   },
   {
    "duration": 375,
    "start_time": "2021-12-30T06:51:38.727Z"
   },
   {
    "duration": 16,
    "start_time": "2021-12-30T06:51:39.106Z"
   },
   {
    "duration": 592,
    "start_time": "2021-12-30T06:51:39.125Z"
   },
   {
    "duration": 7,
    "start_time": "2021-12-30T06:51:39.720Z"
   },
   {
    "duration": 17,
    "start_time": "2021-12-30T06:51:39.729Z"
   },
   {
    "duration": 13,
    "start_time": "2021-12-30T06:51:39.748Z"
   },
   {
    "duration": 12,
    "start_time": "2021-12-30T06:51:39.818Z"
   },
   {
    "duration": 23,
    "start_time": "2021-12-30T06:51:39.832Z"
   },
   {
    "duration": 78,
    "start_time": "2021-12-30T06:51:39.858Z"
   },
   {
    "duration": 353,
    "start_time": "2021-12-30T06:51:39.939Z"
   },
   {
    "duration": 22,
    "start_time": "2021-12-30T06:51:40.295Z"
   },
   {
    "duration": 47,
    "start_time": "2021-12-30T06:51:40.320Z"
   },
   {
    "duration": 293,
    "start_time": "2021-12-30T06:51:40.377Z"
   },
   {
    "duration": 262,
    "start_time": "2021-12-30T06:51:40.672Z"
   },
   {
    "duration": 251,
    "start_time": "2021-12-30T06:51:40.937Z"
   },
   {
    "duration": 259,
    "start_time": "2021-12-30T06:51:41.190Z"
   },
   {
    "duration": 460,
    "start_time": "2021-12-30T06:51:41.452Z"
   },
   {
    "duration": 6,
    "start_time": "2021-12-30T06:51:41.918Z"
   },
   {
    "duration": 540,
    "start_time": "2021-12-30T06:51:41.927Z"
   },
   {
    "duration": 7,
    "start_time": "2021-12-30T06:51:42.470Z"
   },
   {
    "duration": 341,
    "start_time": "2021-12-30T06:51:42.479Z"
   },
   {
    "duration": 21,
    "start_time": "2021-12-30T06:51:42.822Z"
   },
   {
    "duration": 339,
    "start_time": "2021-12-30T06:51:42.846Z"
   },
   {
    "duration": 6,
    "start_time": "2021-12-30T06:51:43.188Z"
   },
   {
    "duration": 337,
    "start_time": "2021-12-30T06:51:43.197Z"
   },
   {
    "duration": 7,
    "start_time": "2021-12-30T06:51:43.536Z"
   },
   {
    "duration": 359,
    "start_time": "2021-12-30T06:51:43.545Z"
   },
   {
    "duration": 15,
    "start_time": "2021-12-30T06:51:43.907Z"
   },
   {
    "duration": 3,
    "start_time": "2021-12-30T06:54:44.481Z"
   },
   {
    "duration": 122,
    "start_time": "2021-12-30T06:54:44.489Z"
   },
   {
    "duration": 5,
    "start_time": "2021-12-30T06:54:44.617Z"
   },
   {
    "duration": 17,
    "start_time": "2021-12-30T06:54:44.624Z"
   },
   {
    "duration": 129,
    "start_time": "2021-12-30T06:54:44.643Z"
   },
   {
    "duration": 12,
    "start_time": "2021-12-30T06:54:44.774Z"
   },
   {
    "duration": 57,
    "start_time": "2021-12-30T06:54:44.788Z"
   },
   {
    "duration": 5,
    "start_time": "2021-12-30T06:54:44.848Z"
   },
   {
    "duration": 10,
    "start_time": "2021-12-30T06:54:44.856Z"
   },
   {
    "duration": 9,
    "start_time": "2021-12-30T06:54:44.869Z"
   },
   {
    "duration": 47,
    "start_time": "2021-12-30T06:54:44.881Z"
   },
   {
    "duration": 5,
    "start_time": "2021-12-30T06:54:44.931Z"
   },
   {
    "duration": 882,
    "start_time": "2021-12-30T06:58:00.968Z"
   },
   {
    "duration": 130,
    "start_time": "2021-12-30T06:58:01.852Z"
   },
   {
    "duration": 5,
    "start_time": "2021-12-30T06:58:01.985Z"
   },
   {
    "duration": 35,
    "start_time": "2021-12-30T06:58:01.993Z"
   },
   {
    "duration": 129,
    "start_time": "2021-12-30T06:58:02.031Z"
   },
   {
    "duration": 12,
    "start_time": "2021-12-30T06:58:02.163Z"
   },
   {
    "duration": 63,
    "start_time": "2021-12-30T06:58:02.178Z"
   },
   {
    "duration": 4,
    "start_time": "2021-12-30T06:58:02.244Z"
   },
   {
    "duration": 15,
    "start_time": "2021-12-30T06:58:02.251Z"
   },
   {
    "duration": 125,
    "start_time": "2021-12-30T06:58:11.985Z"
   },
   {
    "duration": 17,
    "start_time": "2021-12-30T06:58:14.536Z"
   },
   {
    "duration": 15,
    "start_time": "2021-12-30T06:58:22.952Z"
   },
   {
    "duration": 17,
    "start_time": "2021-12-30T06:58:22.969Z"
   },
   {
    "duration": 41,
    "start_time": "2021-12-30T06:58:22.988Z"
   },
   {
    "duration": 10,
    "start_time": "2021-12-30T06:58:23.031Z"
   },
   {
    "duration": 9,
    "start_time": "2021-12-30T06:58:23.043Z"
   },
   {
    "duration": 15,
    "start_time": "2021-12-30T06:58:23.055Z"
   },
   {
    "duration": 55,
    "start_time": "2021-12-30T06:58:23.072Z"
   },
   {
    "duration": 34,
    "start_time": "2021-12-30T06:58:23.131Z"
   },
   {
    "duration": 5,
    "start_time": "2021-12-30T06:58:23.168Z"
   },
   {
    "duration": 16,
    "start_time": "2021-12-30T06:58:23.218Z"
   },
   {
    "duration": 1058,
    "start_time": "2021-12-30T06:58:23.236Z"
   },
   {
    "duration": 6,
    "start_time": "2021-12-30T06:58:24.297Z"
   },
   {
    "duration": 328,
    "start_time": "2021-12-30T06:58:24.318Z"
   },
   {
    "duration": 279,
    "start_time": "2021-12-30T06:58:24.649Z"
   },
   {
    "duration": 320,
    "start_time": "2021-12-30T06:58:24.930Z"
   },
   {
    "duration": 256,
    "start_time": "2021-12-30T06:58:25.253Z"
   },
   {
    "duration": 292,
    "start_time": "2021-12-30T06:58:25.511Z"
   },
   {
    "duration": 225,
    "start_time": "2021-12-30T06:58:25.805Z"
   },
   {
    "duration": 392,
    "start_time": "2021-12-30T06:58:26.032Z"
   },
   {
    "duration": 410,
    "start_time": "2021-12-30T06:58:26.427Z"
   },
   {
    "duration": 401,
    "start_time": "2021-12-30T06:58:26.840Z"
   },
   {
    "duration": 250,
    "start_time": "2021-12-30T06:58:27.244Z"
   },
   {
    "duration": 5,
    "start_time": "2021-12-30T06:58:27.500Z"
   },
   {
    "duration": 10,
    "start_time": "2021-12-30T06:58:27.518Z"
   },
   {
    "duration": 36,
    "start_time": "2021-12-30T06:58:27.530Z"
   },
   {
    "duration": 8,
    "start_time": "2021-12-30T06:58:27.569Z"
   },
   {
    "duration": 43,
    "start_time": "2021-12-30T06:58:27.579Z"
   },
   {
    "duration": 38,
    "start_time": "2021-12-30T06:58:27.625Z"
   },
   {
    "duration": 9,
    "start_time": "2021-12-30T06:58:27.666Z"
   },
   {
    "duration": 62,
    "start_time": "2021-12-30T06:58:27.677Z"
   },
   {
    "duration": 13,
    "start_time": "2021-12-30T06:58:27.742Z"
   },
   {
    "duration": 61,
    "start_time": "2021-12-30T06:58:27.757Z"
   },
   {
    "duration": 11,
    "start_time": "2021-12-30T06:58:27.821Z"
   },
   {
    "duration": 113,
    "start_time": "2021-12-30T06:58:27.834Z"
   },
   {
    "duration": 73,
    "start_time": "2021-12-30T06:58:27.950Z"
   },
   {
    "duration": 430,
    "start_time": "2021-12-30T06:58:28.026Z"
   },
   {
    "duration": 8,
    "start_time": "2021-12-30T06:58:28.460Z"
   },
   {
    "duration": 451,
    "start_time": "2021-12-30T06:58:28.470Z"
   },
   {
    "duration": 7,
    "start_time": "2021-12-30T06:58:28.924Z"
   },
   {
    "duration": 605,
    "start_time": "2021-12-30T06:58:28.933Z"
   },
   {
    "duration": 7,
    "start_time": "2021-12-30T06:58:29.540Z"
   },
   {
    "duration": 350,
    "start_time": "2021-12-30T06:58:29.550Z"
   },
   {
    "duration": 35,
    "start_time": "2021-12-30T06:58:29.902Z"
   },
   {
    "duration": 338,
    "start_time": "2021-12-30T06:58:29.939Z"
   },
   {
    "duration": 6,
    "start_time": "2021-12-30T06:58:30.280Z"
   },
   {
    "duration": 333,
    "start_time": "2021-12-30T06:58:30.289Z"
   },
   {
    "duration": 9,
    "start_time": "2021-12-30T06:58:30.624Z"
   },
   {
    "duration": 332,
    "start_time": "2021-12-30T06:58:30.637Z"
   },
   {
    "duration": 7,
    "start_time": "2021-12-30T06:58:30.972Z"
   },
   {
    "duration": 40,
    "start_time": "2021-12-30T06:58:30.982Z"
   },
   {
    "duration": 15,
    "start_time": "2021-12-30T06:58:31.024Z"
   },
   {
    "duration": 38,
    "start_time": "2021-12-30T06:58:31.041Z"
   },
   {
    "duration": 35,
    "start_time": "2021-12-30T06:58:31.081Z"
   },
   {
    "duration": 45,
    "start_time": "2021-12-30T06:58:31.118Z"
   },
   {
    "duration": 292,
    "start_time": "2021-12-30T06:58:31.165Z"
   },
   {
    "duration": 8,
    "start_time": "2021-12-30T06:58:31.459Z"
   },
   {
    "duration": 69,
    "start_time": "2021-12-30T06:58:31.470Z"
   },
   {
    "duration": 257,
    "start_time": "2021-12-30T06:58:31.542Z"
   },
   {
    "duration": 259,
    "start_time": "2021-12-30T06:58:31.801Z"
   },
   {
    "duration": 238,
    "start_time": "2021-12-30T06:58:32.062Z"
   },
   {
    "duration": 254,
    "start_time": "2021-12-30T06:58:32.302Z"
   },
   {
    "duration": 470,
    "start_time": "2021-12-30T06:58:32.559Z"
   },
   {
    "duration": 6,
    "start_time": "2021-12-30T06:58:33.031Z"
   },
   {
    "duration": 510,
    "start_time": "2021-12-30T06:58:33.040Z"
   },
   {
    "duration": 6,
    "start_time": "2021-12-30T06:58:33.553Z"
   },
   {
    "duration": 322,
    "start_time": "2021-12-30T06:58:33.562Z"
   },
   {
    "duration": 20,
    "start_time": "2021-12-30T06:58:33.886Z"
   },
   {
    "duration": 326,
    "start_time": "2021-12-30T06:58:33.921Z"
   },
   {
    "duration": 6,
    "start_time": "2021-12-30T06:58:34.249Z"
   },
   {
    "duration": 330,
    "start_time": "2021-12-30T06:58:34.257Z"
   },
   {
    "duration": 6,
    "start_time": "2021-12-30T06:58:34.589Z"
   },
   {
    "duration": 355,
    "start_time": "2021-12-30T06:58:34.598Z"
   },
   {
    "duration": 8,
    "start_time": "2021-12-30T06:58:34.956Z"
   },
   {
    "duration": 11,
    "start_time": "2021-12-30T07:01:50.046Z"
   },
   {
    "duration": 3,
    "start_time": "2021-12-30T10:40:18.530Z"
   },
   {
    "duration": 294,
    "start_time": "2021-12-30T10:45:48.154Z"
   },
   {
    "duration": 703,
    "start_time": "2021-12-30T10:45:58.432Z"
   },
   {
    "duration": 92,
    "start_time": "2021-12-30T10:45:59.137Z"
   },
   {
    "duration": 4,
    "start_time": "2021-12-30T10:46:00.369Z"
   },
   {
    "duration": 11,
    "start_time": "2021-12-30T10:46:01.784Z"
   },
   {
    "duration": 75,
    "start_time": "2021-12-30T10:46:02.622Z"
   },
   {
    "duration": 9,
    "start_time": "2021-12-30T10:46:07.305Z"
   },
   {
    "duration": 27,
    "start_time": "2021-12-30T10:46:13.080Z"
   },
   {
    "duration": 4,
    "start_time": "2021-12-30T10:46:14.450Z"
   },
   {
    "duration": 5,
    "start_time": "2021-12-30T10:46:16.429Z"
   },
   {
    "duration": 11,
    "start_time": "2021-12-30T10:46:17.454Z"
   },
   {
    "duration": 80,
    "start_time": "2021-12-30T10:46:21.411Z"
   },
   {
    "duration": 16,
    "start_time": "2021-12-30T10:46:23.342Z"
   },
   {
    "duration": 16,
    "start_time": "2021-12-30T10:46:45.706Z"
   },
   {
    "duration": 10,
    "start_time": "2021-12-30T10:46:47.967Z"
   },
   {
    "duration": 14,
    "start_time": "2021-12-30T10:46:50.812Z"
   },
   {
    "duration": 7,
    "start_time": "2021-12-30T10:58:01.054Z"
   },
   {
    "duration": 6,
    "start_time": "2021-12-30T10:58:08.813Z"
   },
   {
    "duration": 408,
    "start_time": "2021-12-30T11:11:25.823Z"
   },
   {
    "duration": 532,
    "start_time": "2021-12-30T11:12:47.510Z"
   },
   {
    "duration": 627,
    "start_time": "2021-12-30T11:13:23.852Z"
   },
   {
    "duration": 16,
    "start_time": "2021-12-30T11:14:18.824Z"
   },
   {
    "duration": 25,
    "start_time": "2021-12-30T11:14:27.365Z"
   },
   {
    "duration": 26,
    "start_time": "2021-12-30T11:15:17.309Z"
   },
   {
    "duration": 93,
    "start_time": "2021-12-30T11:15:37.988Z"
   },
   {
    "duration": 5,
    "start_time": "2021-12-30T11:15:38.880Z"
   },
   {
    "duration": 12,
    "start_time": "2021-12-30T11:15:39.092Z"
   },
   {
    "duration": 68,
    "start_time": "2021-12-30T11:15:39.291Z"
   },
   {
    "duration": 9,
    "start_time": "2021-12-30T11:15:40.256Z"
   },
   {
    "duration": 24,
    "start_time": "2021-12-30T11:15:40.471Z"
   },
   {
    "duration": 4,
    "start_time": "2021-12-30T11:15:40.705Z"
   },
   {
    "duration": 5,
    "start_time": "2021-12-30T11:15:41.316Z"
   },
   {
    "duration": 12,
    "start_time": "2021-12-30T11:15:41.677Z"
   },
   {
    "duration": 70,
    "start_time": "2021-12-30T11:15:44.442Z"
   },
   {
    "duration": 6,
    "start_time": "2021-12-30T11:15:45.597Z"
   },
   {
    "duration": 519,
    "start_time": "2021-12-30T11:15:55.937Z"
   },
   {
    "duration": 19,
    "start_time": "2021-12-30T11:16:22.965Z"
   },
   {
    "duration": 16,
    "start_time": "2021-12-30T11:16:32.320Z"
   },
   {
    "duration": 3,
    "start_time": "2021-12-30T11:18:29.842Z"
   },
   {
    "duration": 89,
    "start_time": "2021-12-30T11:18:30.278Z"
   },
   {
    "duration": 4,
    "start_time": "2021-12-30T11:18:30.484Z"
   },
   {
    "duration": 10,
    "start_time": "2021-12-30T11:18:30.689Z"
   },
   {
    "duration": 65,
    "start_time": "2021-12-30T11:18:30.852Z"
   },
   {
    "duration": 9,
    "start_time": "2021-12-30T11:18:33.057Z"
   },
   {
    "duration": 24,
    "start_time": "2021-12-30T11:18:33.794Z"
   },
   {
    "duration": 4,
    "start_time": "2021-12-30T11:18:34.035Z"
   },
   {
    "duration": 5,
    "start_time": "2021-12-30T11:18:34.214Z"
   },
   {
    "duration": 13,
    "start_time": "2021-12-30T11:18:34.796Z"
   },
   {
    "duration": 76,
    "start_time": "2021-12-30T11:18:37.022Z"
   },
   {
    "duration": 6,
    "start_time": "2021-12-30T11:18:38.311Z"
   },
   {
    "duration": 516,
    "start_time": "2021-12-30T11:18:41.370Z"
   },
   {
    "duration": 84,
    "start_time": "2021-12-30T11:19:05.561Z"
   },
   {
    "duration": 115,
    "start_time": "2021-12-30T11:19:32.774Z"
   },
   {
    "duration": 7,
    "start_time": "2021-12-30T11:20:05.251Z"
   },
   {
    "duration": 6,
    "start_time": "2021-12-30T11:20:22.739Z"
   },
   {
    "duration": 8,
    "start_time": "2021-12-30T11:20:31.985Z"
   },
   {
    "duration": 282,
    "start_time": "2021-12-30T11:33:03.070Z"
   },
   {
    "duration": 6,
    "start_time": "2021-12-30T11:33:11.201Z"
   },
   {
    "duration": 21,
    "start_time": "2021-12-30T11:33:12.723Z"
   },
   {
    "duration": 8,
    "start_time": "2021-12-30T11:33:37.848Z"
   },
   {
    "duration": 255,
    "start_time": "2021-12-30T11:34:02.116Z"
   },
   {
    "duration": 21,
    "start_time": "2021-12-30T11:34:18.825Z"
   },
   {
    "duration": 87,
    "start_time": "2021-12-30T11:34:38.701Z"
   },
   {
    "duration": 4,
    "start_time": "2021-12-30T11:34:38.933Z"
   },
   {
    "duration": 12,
    "start_time": "2021-12-30T11:34:39.080Z"
   },
   {
    "duration": 70,
    "start_time": "2021-12-30T11:34:39.253Z"
   },
   {
    "duration": 9,
    "start_time": "2021-12-30T11:34:40.530Z"
   },
   {
    "duration": 26,
    "start_time": "2021-12-30T11:34:41.057Z"
   },
   {
    "duration": 4,
    "start_time": "2021-12-30T11:34:41.931Z"
   },
   {
    "duration": 5,
    "start_time": "2021-12-30T11:34:42.362Z"
   },
   {
    "duration": 11,
    "start_time": "2021-12-30T11:34:42.610Z"
   },
   {
    "duration": 74,
    "start_time": "2021-12-30T11:34:44.165Z"
   },
   {
    "duration": 8,
    "start_time": "2021-12-30T11:34:45.212Z"
   },
   {
    "duration": 526,
    "start_time": "2021-12-30T11:34:49.603Z"
   },
   {
    "duration": 8,
    "start_time": "2021-12-30T11:34:51.089Z"
   },
   {
    "duration": 24,
    "start_time": "2021-12-30T11:34:53.447Z"
   },
   {
    "duration": 17,
    "start_time": "2021-12-30T11:36:46.164Z"
   },
   {
    "duration": 14,
    "start_time": "2021-12-30T11:37:27.448Z"
   },
   {
    "duration": 3,
    "start_time": "2021-12-30T18:05:35.880Z"
   },
   {
    "duration": 85,
    "start_time": "2021-12-30T18:05:38.777Z"
   },
   {
    "duration": 4,
    "start_time": "2021-12-30T18:05:42.727Z"
   },
   {
    "duration": 13,
    "start_time": "2021-12-30T18:05:42.967Z"
   },
   {
    "duration": 67,
    "start_time": "2021-12-30T18:05:43.137Z"
   },
   {
    "duration": 11,
    "start_time": "2021-12-30T18:05:45.738Z"
   },
   {
    "duration": 28,
    "start_time": "2021-12-30T18:06:02.122Z"
   },
   {
    "duration": 4,
    "start_time": "2021-12-30T18:06:02.974Z"
   },
   {
    "duration": 5,
    "start_time": "2021-12-30T18:06:03.777Z"
   },
   {
    "duration": 12,
    "start_time": "2021-12-30T18:06:04.577Z"
   },
   {
    "duration": 74,
    "start_time": "2021-12-30T18:07:06.191Z"
   },
   {
    "duration": 9,
    "start_time": "2021-12-30T18:07:41.486Z"
   },
   {
    "duration": 527,
    "start_time": "2021-12-30T18:07:43.772Z"
   },
   {
    "duration": 9,
    "start_time": "2021-12-30T18:07:48.349Z"
   },
   {
    "duration": 18,
    "start_time": "2021-12-30T18:07:49.314Z"
   },
   {
    "duration": 18,
    "start_time": "2021-12-30T18:07:54.450Z"
   },
   {
    "duration": 18,
    "start_time": "2021-12-30T18:07:58.188Z"
   },
   {
    "duration": 11,
    "start_time": "2021-12-30T18:08:18.072Z"
   },
   {
    "duration": 271,
    "start_time": "2021-12-30T18:08:26.111Z"
   },
   {
    "duration": 36,
    "start_time": "2021-12-30T18:08:26.753Z"
   },
   {
    "duration": 8,
    "start_time": "2021-12-30T18:08:26.982Z"
   },
   {
    "duration": 6,
    "start_time": "2021-12-30T18:08:27.477Z"
   },
   {
    "duration": 3,
    "start_time": "2021-12-30T18:08:27.709Z"
   },
   {
    "duration": 3,
    "start_time": "2021-12-30T18:08:40.054Z"
   },
   {
    "duration": 85,
    "start_time": "2021-12-30T18:08:40.244Z"
   },
   {
    "duration": 5,
    "start_time": "2021-12-30T18:08:40.454Z"
   },
   {
    "duration": 11,
    "start_time": "2021-12-30T18:08:40.631Z"
   },
   {
    "duration": 72,
    "start_time": "2021-12-30T18:08:40.811Z"
   },
   {
    "duration": 10,
    "start_time": "2021-12-30T18:08:42.088Z"
   },
   {
    "duration": 25,
    "start_time": "2021-12-30T18:08:42.886Z"
   },
   {
    "duration": 4,
    "start_time": "2021-12-30T18:08:48.552Z"
   },
   {
    "duration": 5,
    "start_time": "2021-12-30T18:08:48.741Z"
   },
   {
    "duration": 11,
    "start_time": "2021-12-30T18:08:48.965Z"
   },
   {
    "duration": 76,
    "start_time": "2021-12-30T18:08:49.530Z"
   },
   {
    "duration": 8,
    "start_time": "2021-12-30T18:08:49.749Z"
   },
   {
    "duration": 518,
    "start_time": "2021-12-30T18:08:51.070Z"
   },
   {
    "duration": 8,
    "start_time": "2021-12-30T18:08:51.851Z"
   },
   {
    "duration": 16,
    "start_time": "2021-12-30T18:08:53.746Z"
   },
   {
    "duration": 16,
    "start_time": "2021-12-30T18:09:15.289Z"
   },
   {
    "duration": 8,
    "start_time": "2021-12-30T18:09:41.606Z"
   },
   {
    "duration": 8,
    "start_time": "2021-12-30T18:10:07.207Z"
   },
   {
    "duration": 11,
    "start_time": "2021-12-30T18:10:40.369Z"
   },
   {
    "duration": 21,
    "start_time": "2021-12-30T18:11:09.152Z"
   },
   {
    "duration": 86,
    "start_time": "2021-12-30T18:11:18.057Z"
   },
   {
    "duration": 5,
    "start_time": "2021-12-30T18:11:18.431Z"
   },
   {
    "duration": 12,
    "start_time": "2021-12-30T18:11:18.608Z"
   },
   {
    "duration": 68,
    "start_time": "2021-12-30T18:11:18.764Z"
   },
   {
    "duration": 10,
    "start_time": "2021-12-30T18:11:19.966Z"
   },
   {
    "duration": 25,
    "start_time": "2021-12-30T18:11:20.178Z"
   },
   {
    "duration": 4,
    "start_time": "2021-12-30T18:11:20.400Z"
   },
   {
    "duration": 5,
    "start_time": "2021-12-30T18:11:20.875Z"
   },
   {
    "duration": 11,
    "start_time": "2021-12-30T18:11:21.313Z"
   },
   {
    "duration": 73,
    "start_time": "2021-12-30T18:11:22.205Z"
   },
   {
    "duration": 8,
    "start_time": "2021-12-30T18:11:22.730Z"
   },
   {
    "duration": 498,
    "start_time": "2021-12-30T18:11:24.073Z"
   },
   {
    "duration": 7,
    "start_time": "2021-12-30T18:11:24.573Z"
   },
   {
    "duration": 14,
    "start_time": "2021-12-30T18:11:25.445Z"
   },
   {
    "duration": 20,
    "start_time": "2021-12-30T18:11:27.395Z"
   },
   {
    "duration": 17,
    "start_time": "2021-12-30T18:12:12.173Z"
   },
   {
    "duration": 22,
    "start_time": "2021-12-30T18:12:15.734Z"
   },
   {
    "duration": 8,
    "start_time": "2021-12-30T18:12:17.004Z"
   },
   {
    "duration": 6,
    "start_time": "2021-12-30T18:12:23.097Z"
   },
   {
    "duration": 9,
    "start_time": "2021-12-30T18:13:04.958Z"
   },
   {
    "duration": 16,
    "start_time": "2021-12-30T18:13:05.471Z"
   },
   {
    "duration": 16,
    "start_time": "2021-12-30T18:13:28.422Z"
   },
   {
    "duration": 12,
    "start_time": "2021-12-30T18:13:35.876Z"
   },
   {
    "duration": 15,
    "start_time": "2021-12-30T18:13:36.793Z"
   },
   {
    "duration": 16,
    "start_time": "2021-12-30T18:13:39.205Z"
   },
   {
    "duration": 8,
    "start_time": "2021-12-30T18:13:39.452Z"
   },
   {
    "duration": 7,
    "start_time": "2021-12-30T18:13:40.003Z"
   },
   {
    "duration": 3,
    "start_time": "2021-12-30T18:13:43.380Z"
   },
   {
    "duration": 87,
    "start_time": "2021-12-30T18:14:12.806Z"
   },
   {
    "duration": 8,
    "start_time": "2021-12-30T18:14:17.981Z"
   },
   {
    "duration": 519,
    "start_time": "2021-12-30T18:14:20.631Z"
   },
   {
    "duration": 7,
    "start_time": "2021-12-30T18:14:22.753Z"
   },
   {
    "duration": 8,
    "start_time": "2021-12-30T18:14:24.149Z"
   },
   {
    "duration": 497,
    "start_time": "2021-12-30T18:14:35.952Z"
   },
   {
    "duration": 10,
    "start_time": "2021-12-30T18:14:36.901Z"
   },
   {
    "duration": 14,
    "start_time": "2021-12-30T18:14:39.024Z"
   },
   {
    "duration": 15,
    "start_time": "2021-12-30T18:14:39.831Z"
   },
   {
    "duration": 11,
    "start_time": "2021-12-30T18:14:40.958Z"
   },
   {
    "duration": 87,
    "start_time": "2021-12-30T18:14:54.433Z"
   },
   {
    "duration": 518,
    "start_time": "2021-12-30T18:20:09.105Z"
   },
   {
    "duration": 9,
    "start_time": "2021-12-30T18:20:11.145Z"
   },
   {
    "duration": 15,
    "start_time": "2021-12-30T18:21:08.112Z"
   },
   {
    "duration": 16,
    "start_time": "2021-12-30T18:21:09.597Z"
   },
   {
    "duration": 14,
    "start_time": "2021-12-30T18:21:18.197Z"
   },
   {
    "duration": 12,
    "start_time": "2021-12-30T18:21:22.260Z"
   },
   {
    "duration": 13,
    "start_time": "2021-12-30T18:21:22.938Z"
   },
   {
    "duration": 16,
    "start_time": "2021-12-30T18:21:30.704Z"
   },
   {
    "duration": 7,
    "start_time": "2021-12-30T18:21:30.948Z"
   },
   {
    "duration": 6,
    "start_time": "2021-12-30T18:21:31.352Z"
   },
   {
    "duration": 2,
    "start_time": "2021-12-30T18:21:31.886Z"
   },
   {
    "duration": 8,
    "start_time": "2021-12-30T18:21:37.727Z"
   },
   {
    "duration": 11,
    "start_time": "2021-12-30T18:21:39.950Z"
   },
   {
    "duration": 22,
    "start_time": "2021-12-30T18:21:42.658Z"
   },
   {
    "duration": 4,
    "start_time": "2021-12-30T18:21:43.188Z"
   },
   {
    "duration": 14,
    "start_time": "2021-12-30T18:21:44.321Z"
   },
   {
    "duration": 732,
    "start_time": "2021-12-30T18:21:45.105Z"
   },
   {
    "duration": 5,
    "start_time": "2021-12-30T18:21:52.446Z"
   },
   {
    "duration": 186,
    "start_time": "2021-12-30T18:21:56.885Z"
   },
   {
    "duration": 138,
    "start_time": "2021-12-30T18:21:57.541Z"
   },
   {
    "duration": 173,
    "start_time": "2021-12-30T18:22:31.570Z"
   },
   {
    "duration": 135,
    "start_time": "2021-12-30T18:22:33.204Z"
   },
   {
    "duration": 167,
    "start_time": "2021-12-30T18:22:57.599Z"
   },
   {
    "duration": 139,
    "start_time": "2021-12-30T18:22:58.837Z"
   },
   {
    "duration": 179,
    "start_time": "2021-12-30T18:23:06.914Z"
   },
   {
    "duration": 121,
    "start_time": "2021-12-30T18:23:07.788Z"
   },
   {
    "duration": 177,
    "start_time": "2021-12-30T18:23:12.202Z"
   },
   {
    "duration": 129,
    "start_time": "2021-12-30T18:23:13.461Z"
   },
   {
    "duration": 235,
    "start_time": "2021-12-30T18:23:20.523Z"
   },
   {
    "duration": 147,
    "start_time": "2021-12-30T18:23:30.013Z"
   },
   {
    "duration": 4,
    "start_time": "2021-12-30T18:24:05.916Z"
   },
   {
    "duration": 8,
    "start_time": "2021-12-30T18:24:08.569Z"
   },
   {
    "duration": 23,
    "start_time": "2021-12-30T18:24:09.222Z"
   },
   {
    "duration": 6,
    "start_time": "2021-12-30T18:24:09.477Z"
   },
   {
    "duration": 8,
    "start_time": "2021-12-30T18:24:09.943Z"
   },
   {
    "duration": 22,
    "start_time": "2021-12-30T18:24:10.521Z"
   },
   {
    "duration": 8,
    "start_time": "2021-12-30T18:24:10.771Z"
   },
   {
    "duration": 21,
    "start_time": "2021-12-30T18:24:10.982Z"
   },
   {
    "duration": 8,
    "start_time": "2021-12-30T18:24:11.219Z"
   },
   {
    "duration": 24,
    "start_time": "2021-12-30T18:24:11.637Z"
   },
   {
    "duration": 9,
    "start_time": "2021-12-30T18:24:11.892Z"
   },
   {
    "duration": 23,
    "start_time": "2021-12-30T18:24:12.106Z"
   },
   {
    "duration": 45,
    "start_time": "2021-12-30T18:24:12.798Z"
   },
   {
    "duration": 21,
    "start_time": "2021-12-30T18:29:40.133Z"
   },
   {
    "duration": 178,
    "start_time": "2021-12-30T18:31:52.065Z"
   },
   {
    "duration": 3,
    "start_time": "2021-12-30T18:37:35.821Z"
   },
   {
    "duration": 103,
    "start_time": "2021-12-30T18:37:35.828Z"
   },
   {
    "duration": 4,
    "start_time": "2021-12-30T18:37:35.933Z"
   },
   {
    "duration": 38,
    "start_time": "2021-12-30T18:37:35.938Z"
   },
   {
    "duration": 92,
    "start_time": "2021-12-30T18:37:35.978Z"
   },
   {
    "duration": 10,
    "start_time": "2021-12-30T18:37:36.072Z"
   },
   {
    "duration": 25,
    "start_time": "2021-12-30T18:37:36.083Z"
   },
   {
    "duration": 4,
    "start_time": "2021-12-30T18:37:36.110Z"
   },
   {
    "duration": 9,
    "start_time": "2021-12-30T18:37:36.116Z"
   },
   {
    "duration": 34,
    "start_time": "2021-12-30T18:37:36.127Z"
   },
   {
    "duration": 72,
    "start_time": "2021-12-30T18:37:36.170Z"
   },
   {
    "duration": 22,
    "start_time": "2021-12-30T18:37:36.244Z"
   },
   {
    "duration": 628,
    "start_time": "2021-12-30T18:37:36.268Z"
   },
   {
    "duration": 9,
    "start_time": "2021-12-30T18:37:36.898Z"
   },
   {
    "duration": 19,
    "start_time": "2021-12-30T18:37:36.909Z"
   },
   {
    "duration": 14,
    "start_time": "2021-12-30T18:37:36.929Z"
   },
   {
    "duration": 11,
    "start_time": "2021-12-30T18:37:36.961Z"
   },
   {
    "duration": 14,
    "start_time": "2021-12-30T18:37:36.974Z"
   },
   {
    "duration": 23,
    "start_time": "2021-12-30T18:37:36.990Z"
   },
   {
    "duration": 7,
    "start_time": "2021-12-30T18:37:37.015Z"
   },
   {
    "duration": 41,
    "start_time": "2021-12-30T18:37:37.024Z"
   },
   {
    "duration": 3,
    "start_time": "2021-12-30T18:37:37.067Z"
   },
   {
    "duration": 13,
    "start_time": "2021-12-30T18:37:37.072Z"
   },
   {
    "duration": 14,
    "start_time": "2021-12-30T18:37:37.087Z"
   },
   {
    "duration": 22,
    "start_time": "2021-12-30T18:37:37.103Z"
   },
   {
    "duration": 3,
    "start_time": "2021-12-30T18:37:37.127Z"
   },
   {
    "duration": 35,
    "start_time": "2021-12-30T18:37:37.132Z"
   },
   {
    "duration": 694,
    "start_time": "2021-12-30T18:37:37.169Z"
   },
   {
    "duration": 5,
    "start_time": "2021-12-30T18:37:37.864Z"
   },
   {
    "duration": 187,
    "start_time": "2021-12-30T18:37:37.870Z"
   },
   {
    "duration": 151,
    "start_time": "2021-12-30T18:37:38.058Z"
   },
   {
    "duration": 176,
    "start_time": "2021-12-30T18:37:38.211Z"
   },
   {
    "duration": 156,
    "start_time": "2021-12-30T18:37:38.390Z"
   },
   {
    "duration": 182,
    "start_time": "2021-12-30T18:37:38.548Z"
   },
   {
    "duration": 209,
    "start_time": "2021-12-30T18:37:38.732Z"
   },
   {
    "duration": 189,
    "start_time": "2021-12-30T18:37:38.943Z"
   },
   {
    "duration": 139,
    "start_time": "2021-12-30T18:37:39.134Z"
   },
   {
    "duration": 292,
    "start_time": "2021-12-30T18:37:39.275Z"
   },
   {
    "duration": 160,
    "start_time": "2021-12-30T18:37:39.569Z"
   },
   {
    "duration": 3,
    "start_time": "2021-12-30T18:37:39.731Z"
   },
   {
    "duration": 41,
    "start_time": "2021-12-30T18:37:39.736Z"
   },
   {
    "duration": 39,
    "start_time": "2021-12-30T18:37:39.779Z"
   },
   {
    "duration": 6,
    "start_time": "2021-12-30T18:37:39.820Z"
   },
   {
    "duration": 40,
    "start_time": "2021-12-30T18:37:39.827Z"
   },
   {
    "duration": 46,
    "start_time": "2021-12-30T18:37:39.869Z"
   },
   {
    "duration": 23,
    "start_time": "2021-12-30T18:37:39.916Z"
   },
   {
    "duration": 42,
    "start_time": "2021-12-30T18:37:39.941Z"
   },
   {
    "duration": 14,
    "start_time": "2021-12-30T18:37:39.984Z"
   },
   {
    "duration": 43,
    "start_time": "2021-12-30T18:37:40.000Z"
   },
   {
    "duration": 25,
    "start_time": "2021-12-30T18:37:40.045Z"
   },
   {
    "duration": 41,
    "start_time": "2021-12-30T18:37:40.072Z"
   },
   {
    "duration": 48,
    "start_time": "2021-12-30T18:37:40.114Z"
   },
   {
    "duration": 335,
    "start_time": "2021-12-30T18:37:40.163Z"
   },
   {
    "duration": 5,
    "start_time": "2021-12-30T18:37:40.500Z"
   },
   {
    "duration": 326,
    "start_time": "2021-12-30T18:37:40.507Z"
   },
   {
    "duration": 5,
    "start_time": "2021-12-30T18:37:40.835Z"
   },
   {
    "duration": 363,
    "start_time": "2021-12-30T18:37:40.841Z"
   },
   {
    "duration": 4,
    "start_time": "2021-12-30T18:37:41.206Z"
   },
   {
    "duration": 206,
    "start_time": "2021-12-30T18:37:41.212Z"
   },
   {
    "duration": 13,
    "start_time": "2021-12-30T18:37:41.420Z"
   },
   {
    "duration": 243,
    "start_time": "2021-12-30T18:37:41.435Z"
   },
   {
    "duration": 5,
    "start_time": "2021-12-30T18:37:41.681Z"
   },
   {
    "duration": 265,
    "start_time": "2021-12-30T18:37:41.688Z"
   },
   {
    "duration": 6,
    "start_time": "2021-12-30T18:37:41.959Z"
   },
   {
    "duration": 298,
    "start_time": "2021-12-30T18:37:41.967Z"
   },
   {
    "duration": 5,
    "start_time": "2021-12-30T18:37:42.267Z"
   },
   {
    "duration": 45,
    "start_time": "2021-12-30T18:37:42.274Z"
   },
   {
    "duration": 31,
    "start_time": "2021-12-30T18:37:42.321Z"
   },
   {
    "duration": 36,
    "start_time": "2021-12-30T18:37:42.354Z"
   },
   {
    "duration": 44,
    "start_time": "2021-12-30T18:37:42.392Z"
   },
   {
    "duration": 44,
    "start_time": "2021-12-30T18:37:42.438Z"
   },
   {
    "duration": 186,
    "start_time": "2021-12-30T18:37:42.484Z"
   },
   {
    "duration": 5,
    "start_time": "2021-12-30T18:37:42.672Z"
   },
   {
    "duration": 41,
    "start_time": "2021-12-30T18:37:42.678Z"
   },
   {
    "duration": 145,
    "start_time": "2021-12-30T18:37:42.720Z"
   },
   {
    "duration": 149,
    "start_time": "2021-12-30T18:37:42.867Z"
   },
   {
    "duration": 144,
    "start_time": "2021-12-30T18:37:43.018Z"
   },
   {
    "duration": 151,
    "start_time": "2021-12-30T18:37:43.167Z"
   },
   {
    "duration": 292,
    "start_time": "2021-12-30T18:37:43.320Z"
   },
   {
    "duration": 5,
    "start_time": "2021-12-30T18:37:43.614Z"
   },
   {
    "duration": 352,
    "start_time": "2021-12-30T18:37:43.621Z"
   },
   {
    "duration": 4,
    "start_time": "2021-12-30T18:37:43.975Z"
   },
   {
    "duration": 219,
    "start_time": "2021-12-30T18:37:43.980Z"
   },
   {
    "duration": 15,
    "start_time": "2021-12-30T18:37:44.200Z"
   },
   {
    "duration": 202,
    "start_time": "2021-12-30T18:37:44.216Z"
   },
   {
    "duration": 5,
    "start_time": "2021-12-30T18:37:44.419Z"
   },
   {
    "duration": 193,
    "start_time": "2021-12-30T18:37:44.426Z"
   },
   {
    "duration": 4,
    "start_time": "2021-12-30T18:37:44.621Z"
   },
   {
    "duration": 279,
    "start_time": "2021-12-30T18:37:44.626Z"
   },
   {
    "duration": 4,
    "start_time": "2021-12-30T18:37:44.907Z"
   },
   {
    "duration": 24,
    "start_time": "2021-12-30T18:44:49.048Z"
   },
   {
    "duration": 21,
    "start_time": "2021-12-30T18:45:27.102Z"
   },
   {
    "duration": 7,
    "start_time": "2021-12-30T18:45:27.964Z"
   },
   {
    "duration": 37,
    "start_time": "2021-12-30T18:45:29.041Z"
   },
   {
    "duration": 21,
    "start_time": "2021-12-30T18:45:39.137Z"
   },
   {
    "duration": 7,
    "start_time": "2021-12-30T18:45:40.430Z"
   },
   {
    "duration": 22,
    "start_time": "2021-12-30T18:45:41.446Z"
   },
   {
    "duration": 8,
    "start_time": "2021-12-30T18:45:46.345Z"
   },
   {
    "duration": 21,
    "start_time": "2021-12-30T18:45:57.901Z"
   },
   {
    "duration": 42,
    "start_time": "2021-12-30T18:46:00.581Z"
   },
   {
    "duration": 303,
    "start_time": "2021-12-30T18:46:05.513Z"
   },
   {
    "duration": 6,
    "start_time": "2021-12-30T18:46:09.606Z"
   },
   {
    "duration": 313,
    "start_time": "2021-12-30T18:46:13.469Z"
   },
   {
    "duration": 4,
    "start_time": "2021-12-30T18:46:13.784Z"
   },
   {
    "duration": 392,
    "start_time": "2021-12-30T18:46:22.823Z"
   },
   {
    "duration": 5,
    "start_time": "2021-12-30T18:46:23.460Z"
   },
   {
    "duration": 173,
    "start_time": "2021-12-30T18:46:29.151Z"
   },
   {
    "duration": 19,
    "start_time": "2021-12-30T18:46:30.354Z"
   },
   {
    "duration": 211,
    "start_time": "2021-12-30T18:47:00.645Z"
   },
   {
    "duration": 5,
    "start_time": "2021-12-30T18:47:02.217Z"
   },
   {
    "duration": 174,
    "start_time": "2021-12-30T18:47:05.816Z"
   },
   {
    "duration": 5,
    "start_time": "2021-12-30T18:47:06.604Z"
   },
   {
    "duration": 177,
    "start_time": "2021-12-30T18:47:11.433Z"
   },
   {
    "duration": 5,
    "start_time": "2021-12-30T18:47:11.901Z"
   },
   {
    "duration": 13,
    "start_time": "2021-12-30T18:47:17.432Z"
   },
   {
    "duration": 10,
    "start_time": "2021-12-30T18:47:19.279Z"
   },
   {
    "duration": 9,
    "start_time": "2021-12-30T18:47:19.906Z"
   },
   {
    "duration": 8,
    "start_time": "2021-12-30T18:47:24.132Z"
   },
   {
    "duration": 21,
    "start_time": "2021-12-30T18:47:25.521Z"
   },
   {
    "duration": 165,
    "start_time": "2021-12-30T18:47:28.023Z"
   },
   {
    "duration": 5,
    "start_time": "2021-12-30T18:47:47.554Z"
   },
   {
    "duration": 27,
    "start_time": "2021-12-30T18:47:51.239Z"
   },
   {
    "duration": 203,
    "start_time": "2021-12-30T18:48:01.706Z"
   },
   {
    "duration": 144,
    "start_time": "2021-12-30T18:48:03.726Z"
   },
   {
    "duration": 141,
    "start_time": "2021-12-30T18:48:05.651Z"
   },
   {
    "duration": 7,
    "start_time": "2021-12-30T19:30:48.557Z"
   },
   {
    "duration": 5,
    "start_time": "2021-12-30T19:30:59.595Z"
   },
   {
    "duration": 226,
    "start_time": "2021-12-30T19:32:03.580Z"
   },
   {
    "duration": 293,
    "start_time": "2021-12-30T19:36:25.225Z"
   },
   {
    "duration": 5,
    "start_time": "2021-12-30T19:36:26.856Z"
   },
   {
    "duration": 32,
    "start_time": "2021-12-30T19:38:52.256Z"
   },
   {
    "duration": 290,
    "start_time": "2021-12-30T19:39:41.983Z"
   },
   {
    "duration": 5,
    "start_time": "2021-12-30T19:39:43.735Z"
   },
   {
    "duration": 302,
    "start_time": "2021-12-30T19:42:35.662Z"
   },
   {
    "duration": 5,
    "start_time": "2021-12-30T19:42:41.790Z"
   },
   {
    "duration": 2,
    "start_time": "2021-12-30T19:45:22.554Z"
   },
   {
    "duration": 128,
    "start_time": "2021-12-30T19:45:22.565Z"
   },
   {
    "duration": 4,
    "start_time": "2021-12-30T19:45:22.695Z"
   },
   {
    "duration": 24,
    "start_time": "2021-12-30T19:45:22.701Z"
   },
   {
    "duration": 85,
    "start_time": "2021-12-30T19:45:22.727Z"
   },
   {
    "duration": 10,
    "start_time": "2021-12-30T19:45:22.813Z"
   },
   {
    "duration": 45,
    "start_time": "2021-12-30T19:45:22.826Z"
   },
   {
    "duration": 3,
    "start_time": "2021-12-30T19:45:22.873Z"
   },
   {
    "duration": 8,
    "start_time": "2021-12-30T19:45:22.878Z"
   },
   {
    "duration": 25,
    "start_time": "2021-12-30T19:45:22.888Z"
   },
   {
    "duration": 77,
    "start_time": "2021-12-30T19:45:23.156Z"
   },
   {
    "duration": 8,
    "start_time": "2021-12-30T19:45:23.235Z"
   },
   {
    "duration": 608,
    "start_time": "2021-12-30T19:45:23.245Z"
   },
   {
    "duration": 10,
    "start_time": "2021-12-30T19:45:23.861Z"
   },
   {
    "duration": 19,
    "start_time": "2021-12-30T19:45:23.872Z"
   },
   {
    "duration": 14,
    "start_time": "2021-12-30T19:45:23.893Z"
   },
   {
    "duration": 11,
    "start_time": "2021-12-30T19:45:23.910Z"
   },
   {
    "duration": 43,
    "start_time": "2021-12-30T19:45:23.923Z"
   },
   {
    "duration": 35,
    "start_time": "2021-12-30T19:45:23.968Z"
   },
   {
    "duration": 9,
    "start_time": "2021-12-30T19:45:24.005Z"
   },
   {
    "duration": 6,
    "start_time": "2021-12-30T19:45:24.016Z"
   },
   {
    "duration": 37,
    "start_time": "2021-12-30T19:45:24.024Z"
   },
   {
    "duration": 11,
    "start_time": "2021-12-30T19:45:24.063Z"
   },
   {
    "duration": 14,
    "start_time": "2021-12-30T19:45:24.076Z"
   },
   {
    "duration": 22,
    "start_time": "2021-12-30T19:45:24.092Z"
   },
   {
    "duration": 3,
    "start_time": "2021-12-30T19:45:24.116Z"
   },
   {
    "duration": 39,
    "start_time": "2021-12-30T19:45:24.121Z"
   },
   {
    "duration": 884,
    "start_time": "2021-12-30T19:45:24.163Z"
   },
   {
    "duration": 14,
    "start_time": "2021-12-30T19:45:25.050Z"
   },
   {
    "duration": 184,
    "start_time": "2021-12-30T19:45:25.066Z"
   },
   {
    "duration": 149,
    "start_time": "2021-12-30T19:45:25.252Z"
   },
   {
    "duration": 178,
    "start_time": "2021-12-30T19:45:25.403Z"
   },
   {
    "duration": 156,
    "start_time": "2021-12-30T19:45:25.583Z"
   },
   {
    "duration": 274,
    "start_time": "2021-12-30T19:45:25.741Z"
   },
   {
    "duration": 143,
    "start_time": "2021-12-30T19:45:26.017Z"
   },
   {
    "duration": 201,
    "start_time": "2021-12-30T19:45:26.163Z"
   },
   {
    "duration": 156,
    "start_time": "2021-12-30T19:45:26.367Z"
   },
   {
    "duration": 195,
    "start_time": "2021-12-30T19:45:26.525Z"
   },
   {
    "duration": 155,
    "start_time": "2021-12-30T19:45:26.722Z"
   },
   {
    "duration": 3,
    "start_time": "2021-12-30T19:45:26.879Z"
   },
   {
    "duration": 19,
    "start_time": "2021-12-30T19:45:26.884Z"
   },
   {
    "duration": 23,
    "start_time": "2021-12-30T19:45:26.905Z"
   },
   {
    "duration": 5,
    "start_time": "2021-12-30T19:45:26.930Z"
   },
   {
    "duration": 8,
    "start_time": "2021-12-30T19:45:26.961Z"
   },
   {
    "duration": 26,
    "start_time": "2021-12-30T19:45:26.971Z"
   },
   {
    "duration": 7,
    "start_time": "2021-12-30T19:45:26.998Z"
   },
   {
    "duration": 53,
    "start_time": "2021-12-30T19:45:27.007Z"
   },
   {
    "duration": 7,
    "start_time": "2021-12-30T19:45:27.063Z"
   },
   {
    "duration": 23,
    "start_time": "2021-12-30T19:45:27.072Z"
   },
   {
    "duration": 8,
    "start_time": "2021-12-30T19:45:27.097Z"
   },
   {
    "duration": 59,
    "start_time": "2021-12-30T19:45:27.106Z"
   },
   {
    "duration": 45,
    "start_time": "2021-12-30T19:45:27.167Z"
   },
   {
    "duration": 339,
    "start_time": "2021-12-30T19:45:27.213Z"
   },
   {
    "duration": 10,
    "start_time": "2021-12-30T19:45:27.553Z"
   },
   {
    "duration": 325,
    "start_time": "2021-12-30T19:45:27.565Z"
   },
   {
    "duration": 4,
    "start_time": "2021-12-30T19:45:27.892Z"
   },
   {
    "duration": 472,
    "start_time": "2021-12-30T19:45:27.898Z"
   },
   {
    "duration": 6,
    "start_time": "2021-12-30T19:45:28.373Z"
   },
   {
    "duration": 291,
    "start_time": "2021-12-30T19:45:28.385Z"
   },
   {
    "duration": 15,
    "start_time": "2021-12-30T19:45:28.679Z"
   },
   {
    "duration": 208,
    "start_time": "2021-12-30T19:45:28.696Z"
   },
   {
    "duration": 5,
    "start_time": "2021-12-30T19:45:28.907Z"
   },
   {
    "duration": 204,
    "start_time": "2021-12-30T19:45:28.914Z"
   },
   {
    "duration": 5,
    "start_time": "2021-12-30T19:45:29.119Z"
   },
   {
    "duration": 194,
    "start_time": "2021-12-30T19:45:29.126Z"
   },
   {
    "duration": 5,
    "start_time": "2021-12-30T19:45:29.321Z"
   },
   {
    "duration": 12,
    "start_time": "2021-12-30T19:45:29.327Z"
   },
   {
    "duration": 9,
    "start_time": "2021-12-30T19:45:29.361Z"
   },
   {
    "duration": 8,
    "start_time": "2021-12-30T19:45:29.372Z"
   },
   {
    "duration": 129,
    "start_time": "2021-12-30T19:45:29.381Z"
   },
   {
    "duration": 20,
    "start_time": "2021-12-30T19:45:29.512Z"
   },
   {
    "duration": 181,
    "start_time": "2021-12-30T19:45:29.534Z"
   },
   {
    "duration": 6,
    "start_time": "2021-12-30T19:45:29.716Z"
   },
   {
    "duration": 46,
    "start_time": "2021-12-30T19:45:29.723Z"
   },
   {
    "duration": 152,
    "start_time": "2021-12-30T19:45:29.771Z"
   },
   {
    "duration": 153,
    "start_time": "2021-12-30T19:45:29.924Z"
   },
   {
    "duration": 145,
    "start_time": "2021-12-30T19:45:30.078Z"
   },
   {
    "duration": 156,
    "start_time": "2021-12-30T19:45:30.225Z"
   },
   {
    "duration": 312,
    "start_time": "2021-12-30T19:45:30.382Z"
   },
   {
    "duration": 5,
    "start_time": "2021-12-30T19:45:30.696Z"
   },
   {
    "duration": 304,
    "start_time": "2021-12-30T19:45:30.702Z"
   },
   {
    "duration": 4,
    "start_time": "2021-12-30T19:45:31.008Z"
   },
   {
    "duration": 201,
    "start_time": "2021-12-30T19:45:31.014Z"
   },
   {
    "duration": 15,
    "start_time": "2021-12-30T19:45:31.216Z"
   },
   {
    "duration": 199,
    "start_time": "2021-12-30T19:45:31.233Z"
   },
   {
    "duration": 5,
    "start_time": "2021-12-30T19:45:31.434Z"
   },
   {
    "duration": 209,
    "start_time": "2021-12-30T19:45:31.441Z"
   },
   {
    "duration": 5,
    "start_time": "2021-12-30T19:45:31.651Z"
   },
   {
    "duration": 221,
    "start_time": "2021-12-30T19:45:31.661Z"
   },
   {
    "duration": 5,
    "start_time": "2021-12-30T19:45:31.884Z"
   },
   {
    "duration": 9,
    "start_time": "2021-12-30T19:51:30.709Z"
   },
   {
    "duration": 9,
    "start_time": "2021-12-30T19:51:34.056Z"
   },
   {
    "duration": 4,
    "start_time": "2021-12-30T19:51:42.513Z"
   },
   {
    "duration": 8,
    "start_time": "2021-12-30T19:51:43.329Z"
   },
   {
    "duration": 4,
    "start_time": "2021-12-30T19:51:46.691Z"
   },
   {
    "duration": 8,
    "start_time": "2021-12-30T19:51:47.563Z"
   },
   {
    "duration": 4,
    "start_time": "2021-12-30T19:51:50.290Z"
   },
   {
    "duration": 9,
    "start_time": "2021-12-30T19:51:50.768Z"
   },
   {
    "duration": 24,
    "start_time": "2021-12-30T19:51:53.477Z"
   },
   {
    "duration": 183,
    "start_time": "2021-12-30T19:52:07.956Z"
   },
   {
    "duration": 2,
    "start_time": "2021-12-30T19:52:15.583Z"
   },
   {
    "duration": 88,
    "start_time": "2021-12-30T19:52:15.803Z"
   },
   {
    "duration": 4,
    "start_time": "2021-12-30T19:52:16.115Z"
   },
   {
    "duration": 12,
    "start_time": "2021-12-30T19:52:16.326Z"
   },
   {
    "duration": 67,
    "start_time": "2021-12-30T19:52:17.570Z"
   },
   {
    "duration": 11,
    "start_time": "2021-12-30T19:52:20.478Z"
   },
   {
    "duration": 26,
    "start_time": "2021-12-30T19:52:20.737Z"
   },
   {
    "duration": 4,
    "start_time": "2021-12-30T19:52:22.053Z"
   },
   {
    "duration": 5,
    "start_time": "2021-12-30T19:52:22.624Z"
   },
   {
    "duration": 11,
    "start_time": "2021-12-30T19:52:22.921Z"
   },
   {
    "duration": 71,
    "start_time": "2021-12-30T19:52:24.573Z"
   },
   {
    "duration": 8,
    "start_time": "2021-12-30T19:52:25.700Z"
   },
   {
    "duration": 503,
    "start_time": "2021-12-30T19:52:26.876Z"
   },
   {
    "duration": 11,
    "start_time": "2021-12-30T19:52:28.342Z"
   },
   {
    "duration": 16,
    "start_time": "2021-12-30T19:52:32.288Z"
   },
   {
    "duration": 14,
    "start_time": "2021-12-30T19:52:33.856Z"
   },
   {
    "duration": 10,
    "start_time": "2021-12-30T19:52:34.592Z"
   },
   {
    "duration": 14,
    "start_time": "2021-12-30T19:52:36.507Z"
   },
   {
    "duration": 23,
    "start_time": "2021-12-30T19:52:39.057Z"
   },
   {
    "duration": 8,
    "start_time": "2021-12-30T19:52:39.655Z"
   },
   {
    "duration": 6,
    "start_time": "2021-12-30T19:52:41.312Z"
   },
   {
    "duration": 3,
    "start_time": "2021-12-30T19:52:41.577Z"
   },
   {
    "duration": 8,
    "start_time": "2021-12-30T19:52:42.223Z"
   },
   {
    "duration": 11,
    "start_time": "2021-12-30T19:52:43.082Z"
   },
   {
    "duration": 44,
    "start_time": "2021-12-30T19:52:46.128Z"
   },
   {
    "duration": 4,
    "start_time": "2021-12-30T19:52:46.590Z"
   },
   {
    "duration": 12,
    "start_time": "2021-12-30T19:52:47.145Z"
   },
   {
    "duration": 772,
    "start_time": "2021-12-30T19:52:47.817Z"
   },
   {
    "duration": 5,
    "start_time": "2021-12-30T19:52:48.591Z"
   },
   {
    "duration": 199,
    "start_time": "2021-12-30T19:52:54.159Z"
   },
   {
    "duration": 144,
    "start_time": "2021-12-30T19:52:55.212Z"
   },
   {
    "duration": 166,
    "start_time": "2021-12-30T19:53:13.924Z"
   },
   {
    "duration": 136,
    "start_time": "2021-12-30T19:53:14.440Z"
   },
   {
    "duration": 170,
    "start_time": "2021-12-30T19:53:17.201Z"
   },
   {
    "duration": 122,
    "start_time": "2021-12-30T19:53:17.454Z"
   },
   {
    "duration": 195,
    "start_time": "2021-12-30T19:53:21.489Z"
   },
   {
    "duration": 125,
    "start_time": "2021-12-30T19:53:22.922Z"
   },
   {
    "duration": 178,
    "start_time": "2021-12-30T19:53:24.905Z"
   },
   {
    "duration": 139,
    "start_time": "2021-12-30T19:53:26.045Z"
   },
   {
    "duration": 3,
    "start_time": "2021-12-30T19:53:29.301Z"
   },
   {
    "duration": 10,
    "start_time": "2021-12-30T19:53:30.414Z"
   },
   {
    "duration": 24,
    "start_time": "2021-12-30T19:53:32.055Z"
   },
   {
    "duration": 6,
    "start_time": "2021-12-30T19:53:33.454Z"
   },
   {
    "duration": 8,
    "start_time": "2021-12-30T19:53:38.335Z"
   },
   {
    "duration": 24,
    "start_time": "2021-12-30T19:53:42.079Z"
   },
   {
    "duration": 8,
    "start_time": "2021-12-30T19:53:44.188Z"
   },
   {
    "duration": 21,
    "start_time": "2021-12-30T19:53:45.397Z"
   },
   {
    "duration": 22,
    "start_time": "2021-12-30T19:53:50.436Z"
   },
   {
    "duration": 9,
    "start_time": "2021-12-30T19:53:51.889Z"
   },
   {
    "duration": 25,
    "start_time": "2021-12-30T19:53:56.637Z"
   },
   {
    "duration": 9,
    "start_time": "2021-12-30T19:53:57.768Z"
   },
   {
    "duration": 22,
    "start_time": "2021-12-30T19:54:06.129Z"
   },
   {
    "duration": 41,
    "start_time": "2021-12-30T19:54:12.304Z"
   },
   {
    "duration": 325,
    "start_time": "2021-12-30T19:54:15.741Z"
   },
   {
    "duration": 5,
    "start_time": "2021-12-30T19:54:16.507Z"
   },
   {
    "duration": 250,
    "start_time": "2021-12-30T19:54:19.087Z"
   },
   {
    "duration": 6,
    "start_time": "2021-12-30T19:54:19.921Z"
   },
   {
    "duration": 381,
    "start_time": "2021-12-30T19:54:31.861Z"
   },
   {
    "duration": 6,
    "start_time": "2021-12-30T19:54:32.535Z"
   },
   {
    "duration": 175,
    "start_time": "2021-12-30T19:54:34.318Z"
   },
   {
    "duration": 16,
    "start_time": "2021-12-30T19:54:34.830Z"
   },
   {
    "duration": 183,
    "start_time": "2021-12-30T19:54:37.495Z"
   },
   {
    "duration": 6,
    "start_time": "2021-12-30T19:54:37.774Z"
   },
   {
    "duration": 176,
    "start_time": "2021-12-30T19:54:41.560Z"
   },
   {
    "duration": 6,
    "start_time": "2021-12-30T19:54:42.972Z"
   },
   {
    "duration": 174,
    "start_time": "2021-12-30T19:54:44.673Z"
   },
   {
    "duration": 5,
    "start_time": "2021-12-30T19:54:45.923Z"
   },
   {
    "duration": 12,
    "start_time": "2021-12-30T19:54:52.558Z"
   },
   {
    "duration": 9,
    "start_time": "2021-12-30T19:54:52.946Z"
   },
   {
    "duration": 10,
    "start_time": "2021-12-30T19:54:53.610Z"
   },
   {
    "duration": 9,
    "start_time": "2021-12-30T19:54:54.899Z"
   },
   {
    "duration": 20,
    "start_time": "2021-12-30T19:54:55.200Z"
   },
   {
    "duration": 175,
    "start_time": "2021-12-30T19:54:56.637Z"
   },
   {
    "duration": 5,
    "start_time": "2021-12-30T19:54:57.573Z"
   },
   {
    "duration": 28,
    "start_time": "2021-12-30T19:54:58.093Z"
   },
   {
    "duration": 281,
    "start_time": "2021-12-30T19:55:01.319Z"
   },
   {
    "duration": 155,
    "start_time": "2021-12-30T19:55:04.295Z"
   },
   {
    "duration": 127,
    "start_time": "2021-12-30T19:55:06.005Z"
   },
   {
    "duration": 138,
    "start_time": "2021-12-30T19:55:20.452Z"
   },
   {
    "duration": 268,
    "start_time": "2021-12-30T19:55:27.194Z"
   },
   {
    "duration": 5,
    "start_time": "2021-12-30T19:55:33.527Z"
   },
   {
    "duration": 9,
    "start_time": "2021-12-30T20:12:48.797Z"
   },
   {
    "duration": 10,
    "start_time": "2021-12-30T20:12:57.785Z"
   },
   {
    "duration": 679,
    "start_time": "2021-12-30T20:13:24.781Z"
   },
   {
    "duration": 91,
    "start_time": "2021-12-30T20:13:25.462Z"
   },
   {
    "duration": 8,
    "start_time": "2021-12-30T20:13:25.555Z"
   },
   {
    "duration": 19,
    "start_time": "2021-12-30T20:13:25.565Z"
   },
   {
    "duration": 75,
    "start_time": "2021-12-30T20:13:25.586Z"
   },
   {
    "duration": 8,
    "start_time": "2021-12-30T20:13:25.663Z"
   },
   {
    "duration": 31,
    "start_time": "2021-12-30T20:13:25.672Z"
   },
   {
    "duration": 4,
    "start_time": "2021-12-30T20:13:25.705Z"
   },
   {
    "duration": 7,
    "start_time": "2021-12-30T20:13:25.711Z"
   },
   {
    "duration": 10,
    "start_time": "2021-12-30T20:13:25.719Z"
   },
   {
    "duration": 100,
    "start_time": "2021-12-30T20:13:25.731Z"
   },
   {
    "duration": 7,
    "start_time": "2021-12-30T20:13:25.833Z"
   },
   {
    "duration": 512,
    "start_time": "2021-12-30T20:13:25.860Z"
   },
   {
    "duration": 9,
    "start_time": "2021-12-30T20:13:26.373Z"
   },
   {
    "duration": 17,
    "start_time": "2021-12-30T20:13:26.383Z"
   },
   {
    "duration": 14,
    "start_time": "2021-12-30T20:13:26.401Z"
   },
   {
    "duration": 10,
    "start_time": "2021-12-30T20:13:26.416Z"
   },
   {
    "duration": 41,
    "start_time": "2021-12-30T20:13:26.428Z"
   },
   {
    "duration": 25,
    "start_time": "2021-12-30T20:13:26.471Z"
   },
   {
    "duration": 6,
    "start_time": "2021-12-30T20:13:26.497Z"
   },
   {
    "duration": 6,
    "start_time": "2021-12-30T20:13:26.505Z"
   },
   {
    "duration": 2,
    "start_time": "2021-12-30T20:13:26.513Z"
   },
   {
    "duration": 9,
    "start_time": "2021-12-30T20:13:26.518Z"
   },
   {
    "duration": 39,
    "start_time": "2021-12-30T20:13:26.529Z"
   },
   {
    "duration": 22,
    "start_time": "2021-12-30T20:13:26.570Z"
   },
   {
    "duration": 5,
    "start_time": "2021-12-30T20:13:26.593Z"
   },
   {
    "duration": 13,
    "start_time": "2021-12-30T20:13:26.600Z"
   },
   {
    "duration": 788,
    "start_time": "2021-12-30T20:13:26.615Z"
   },
   {
    "duration": 5,
    "start_time": "2021-12-30T20:13:27.405Z"
   },
   {
    "duration": 228,
    "start_time": "2021-12-30T20:13:27.412Z"
   },
   {
    "duration": 151,
    "start_time": "2021-12-30T20:13:27.642Z"
   },
   {
    "duration": 174,
    "start_time": "2021-12-30T20:13:27.795Z"
   },
   {
    "duration": 146,
    "start_time": "2021-12-30T20:13:27.971Z"
   },
   {
    "duration": 175,
    "start_time": "2021-12-30T20:13:28.118Z"
   },
   {
    "duration": 136,
    "start_time": "2021-12-30T20:13:28.295Z"
   },
   {
    "duration": 182,
    "start_time": "2021-12-30T20:13:28.433Z"
   },
   {
    "duration": 134,
    "start_time": "2021-12-30T20:13:28.617Z"
   },
   {
    "duration": 179,
    "start_time": "2021-12-30T20:13:28.752Z"
   },
   {
    "duration": 151,
    "start_time": "2021-12-30T20:13:28.933Z"
   },
   {
    "duration": 4,
    "start_time": "2021-12-30T20:13:29.085Z"
   },
   {
    "duration": 12,
    "start_time": "2021-12-30T20:13:29.091Z"
   },
   {
    "duration": 23,
    "start_time": "2021-12-30T20:13:29.104Z"
   },
   {
    "duration": 5,
    "start_time": "2021-12-30T20:13:29.129Z"
   },
   {
    "duration": 31,
    "start_time": "2021-12-30T20:13:29.135Z"
   },
   {
    "duration": 22,
    "start_time": "2021-12-30T20:13:29.168Z"
   },
   {
    "duration": 6,
    "start_time": "2021-12-30T20:13:29.192Z"
   },
   {
    "duration": 21,
    "start_time": "2021-12-30T20:13:29.200Z"
   },
   {
    "duration": 7,
    "start_time": "2021-12-30T20:13:29.223Z"
   },
   {
    "duration": 22,
    "start_time": "2021-12-30T20:13:29.262Z"
   },
   {
    "duration": 8,
    "start_time": "2021-12-30T20:13:29.286Z"
   },
   {
    "duration": 22,
    "start_time": "2021-12-30T20:13:29.296Z"
   },
   {
    "duration": 70,
    "start_time": "2021-12-30T20:13:29.319Z"
   },
   {
    "duration": 299,
    "start_time": "2021-12-30T20:13:29.390Z"
   },
   {
    "duration": 5,
    "start_time": "2021-12-30T20:13:29.691Z"
   },
   {
    "duration": 357,
    "start_time": "2021-12-30T20:13:29.697Z"
   },
   {
    "duration": 4,
    "start_time": "2021-12-30T20:13:30.061Z"
   },
   {
    "duration": 357,
    "start_time": "2021-12-30T20:13:30.067Z"
   },
   {
    "duration": 5,
    "start_time": "2021-12-30T20:13:30.426Z"
   },
   {
    "duration": 199,
    "start_time": "2021-12-30T20:13:30.432Z"
   },
   {
    "duration": 15,
    "start_time": "2021-12-30T20:13:30.632Z"
   },
   {
    "duration": 204,
    "start_time": "2021-12-30T20:13:30.649Z"
   },
   {
    "duration": 9,
    "start_time": "2021-12-30T20:13:30.855Z"
   },
   {
    "duration": 191,
    "start_time": "2021-12-30T20:13:30.866Z"
   },
   {
    "duration": 4,
    "start_time": "2021-12-30T20:13:31.059Z"
   },
   {
    "duration": 192,
    "start_time": "2021-12-30T20:13:31.065Z"
   },
   {
    "duration": 5,
    "start_time": "2021-12-30T20:13:31.260Z"
   },
   {
    "duration": 14,
    "start_time": "2021-12-30T20:13:31.266Z"
   },
   {
    "duration": 9,
    "start_time": "2021-12-30T20:13:31.286Z"
   },
   {
    "duration": 9,
    "start_time": "2021-12-30T20:13:31.297Z"
   },
   {
    "duration": 14,
    "start_time": "2021-12-30T20:13:31.308Z"
   },
   {
    "duration": 51,
    "start_time": "2021-12-30T20:13:31.323Z"
   },
   {
    "duration": 170,
    "start_time": "2021-12-30T20:13:31.376Z"
   },
   {
    "duration": 12,
    "start_time": "2021-12-30T20:13:31.548Z"
   },
   {
    "duration": 25,
    "start_time": "2021-12-30T20:13:31.562Z"
   },
   {
    "duration": 151,
    "start_time": "2021-12-30T20:13:31.588Z"
   },
   {
    "duration": 154,
    "start_time": "2021-12-30T20:13:31.741Z"
   },
   {
    "duration": 140,
    "start_time": "2021-12-30T20:13:31.898Z"
   },
   {
    "duration": 149,
    "start_time": "2021-12-30T20:13:32.039Z"
   },
   {
    "duration": 361,
    "start_time": "2021-12-30T20:13:32.190Z"
   },
   {
    "duration": 10,
    "start_time": "2021-12-30T20:13:32.553Z"
   },
   {
    "duration": 348,
    "start_time": "2021-12-30T20:13:32.565Z"
   },
   {
    "duration": 5,
    "start_time": "2021-12-30T20:13:32.915Z"
   },
   {
    "duration": 202,
    "start_time": "2021-12-30T20:13:32.921Z"
   },
   {
    "duration": 14,
    "start_time": "2021-12-30T20:13:33.124Z"
   },
   {
    "duration": 191,
    "start_time": "2021-12-30T20:13:33.140Z"
   },
   {
    "duration": 5,
    "start_time": "2021-12-30T20:13:33.332Z"
   },
   {
    "duration": 194,
    "start_time": "2021-12-30T20:13:33.339Z"
   },
   {
    "duration": 5,
    "start_time": "2021-12-30T20:13:33.535Z"
   },
   {
    "duration": 222,
    "start_time": "2021-12-30T20:13:33.541Z"
   },
   {
    "duration": 5,
    "start_time": "2021-12-30T20:13:33.765Z"
   },
   {
    "duration": 87,
    "start_time": "2021-12-30T20:18:33.850Z"
   },
   {
    "duration": 1057,
    "start_time": "2021-12-30T20:19:11.348Z"
   },
   {
    "duration": 4,
    "start_time": "2021-12-30T20:19:30.928Z"
   },
   {
    "duration": 11,
    "start_time": "2021-12-30T20:19:40.780Z"
   },
   {
    "duration": 66,
    "start_time": "2021-12-30T20:19:45.190Z"
   },
   {
    "duration": 9,
    "start_time": "2021-12-30T20:19:46.252Z"
   },
   {
    "duration": 24,
    "start_time": "2021-12-30T20:19:46.629Z"
   },
   {
    "duration": 3,
    "start_time": "2021-12-30T20:19:47.178Z"
   },
   {
    "duration": 5,
    "start_time": "2021-12-30T20:19:48.080Z"
   },
   {
    "duration": 11,
    "start_time": "2021-12-30T20:19:48.304Z"
   },
   {
    "duration": 77,
    "start_time": "2021-12-30T20:19:50.656Z"
   },
   {
    "duration": 8,
    "start_time": "2021-12-30T20:19:51.389Z"
   },
   {
    "duration": 509,
    "start_time": "2021-12-30T20:19:51.864Z"
   },
   {
    "duration": 10,
    "start_time": "2021-12-30T20:19:53.402Z"
   },
   {
    "duration": 14,
    "start_time": "2021-12-30T20:19:53.683Z"
   },
   {
    "duration": 15,
    "start_time": "2021-12-30T20:19:54.204Z"
   },
   {
    "duration": 10,
    "start_time": "2021-12-30T20:19:54.470Z"
   },
   {
    "duration": 13,
    "start_time": "2021-12-30T20:19:54.910Z"
   },
   {
    "duration": 24,
    "start_time": "2021-12-30T20:19:55.444Z"
   },
   {
    "duration": 7,
    "start_time": "2021-12-30T20:19:55.954Z"
   },
   {
    "duration": 6,
    "start_time": "2021-12-30T20:19:57.250Z"
   },
   {
    "duration": 2,
    "start_time": "2021-12-30T20:19:57.465Z"
   },
   {
    "duration": 8,
    "start_time": "2021-12-30T20:19:57.851Z"
   },
   {
    "duration": 12,
    "start_time": "2021-12-30T20:19:59.425Z"
   },
   {
    "duration": 39,
    "start_time": "2021-12-30T20:21:45.368Z"
   },
   {
    "duration": 11,
    "start_time": "2021-12-30T20:21:53.449Z"
   },
   {
    "duration": 38,
    "start_time": "2021-12-30T20:21:59.795Z"
   },
   {
    "duration": 25,
    "start_time": "2021-12-30T20:23:45.222Z"
   },
   {
    "duration": 6459,
    "start_time": "2021-12-30T20:23:46.728Z"
   },
   {
    "duration": 704,
    "start_time": "2021-12-30T20:24:02.896Z"
   },
   {
    "duration": 93,
    "start_time": "2021-12-30T20:24:03.603Z"
   },
   {
    "duration": 4,
    "start_time": "2021-12-30T20:24:03.698Z"
   },
   {
    "duration": 13,
    "start_time": "2021-12-30T20:24:03.704Z"
   },
   {
    "duration": 83,
    "start_time": "2021-12-30T20:24:03.719Z"
   },
   {
    "duration": 8,
    "start_time": "2021-12-30T20:24:03.804Z"
   },
   {
    "duration": 24,
    "start_time": "2021-12-30T20:24:03.814Z"
   },
   {
    "duration": 21,
    "start_time": "2021-12-30T20:24:03.841Z"
   },
   {
    "duration": 6,
    "start_time": "2021-12-30T20:24:03.864Z"
   },
   {
    "duration": 14,
    "start_time": "2021-12-30T20:24:03.871Z"
   },
   {
    "duration": 94,
    "start_time": "2021-12-30T20:24:03.887Z"
   },
   {
    "duration": 7,
    "start_time": "2021-12-30T20:24:03.983Z"
   },
   {
    "duration": 636,
    "start_time": "2021-12-30T20:24:03.992Z"
   },
   {
    "duration": 10,
    "start_time": "2021-12-30T20:24:04.629Z"
   },
   {
    "duration": 32,
    "start_time": "2021-12-30T20:24:04.640Z"
   },
   {
    "duration": 15,
    "start_time": "2021-12-30T20:24:04.674Z"
   },
   {
    "duration": 11,
    "start_time": "2021-12-30T20:24:04.690Z"
   },
   {
    "duration": 13,
    "start_time": "2021-12-30T20:24:04.703Z"
   },
   {
    "duration": 55,
    "start_time": "2021-12-30T20:24:04.717Z"
   },
   {
    "duration": 6,
    "start_time": "2021-12-30T20:24:04.774Z"
   },
   {
    "duration": 8,
    "start_time": "2021-12-30T20:24:04.782Z"
   },
   {
    "duration": 3,
    "start_time": "2021-12-30T20:24:04.791Z"
   },
   {
    "duration": 14,
    "start_time": "2021-12-30T20:24:04.799Z"
   },
   {
    "duration": 14,
    "start_time": "2021-12-30T20:24:04.815Z"
   },
   {
    "duration": 63,
    "start_time": "2021-12-30T20:24:04.830Z"
   },
   {
    "duration": 4,
    "start_time": "2021-12-30T20:24:04.895Z"
   },
   {
    "duration": 19,
    "start_time": "2021-12-30T20:24:04.901Z"
   },
   {
    "duration": 706,
    "start_time": "2021-12-30T20:24:04.921Z"
   },
   {
    "duration": 5,
    "start_time": "2021-12-30T20:24:05.629Z"
   },
   {
    "duration": 234,
    "start_time": "2021-12-30T20:24:05.636Z"
   },
   {
    "duration": 138,
    "start_time": "2021-12-30T20:24:05.872Z"
   },
   {
    "duration": 177,
    "start_time": "2021-12-30T20:24:06.012Z"
   },
   {
    "duration": 149,
    "start_time": "2021-12-30T20:24:06.190Z"
   },
   {
    "duration": 185,
    "start_time": "2021-12-30T20:24:06.341Z"
   },
   {
    "duration": 161,
    "start_time": "2021-12-30T20:24:06.528Z"
   },
   {
    "duration": 187,
    "start_time": "2021-12-30T20:24:06.691Z"
   },
   {
    "duration": 145,
    "start_time": "2021-12-30T20:24:06.880Z"
   },
   {
    "duration": 189,
    "start_time": "2021-12-30T20:24:07.027Z"
   },
   {
    "duration": 157,
    "start_time": "2021-12-30T20:24:07.217Z"
   },
   {
    "duration": 4,
    "start_time": "2021-12-30T20:24:07.376Z"
   },
   {
    "duration": 10,
    "start_time": "2021-12-30T20:24:07.381Z"
   },
   {
    "duration": 23,
    "start_time": "2021-12-30T20:24:07.393Z"
   },
   {
    "duration": 5,
    "start_time": "2021-12-30T20:24:07.417Z"
   },
   {
    "duration": 8,
    "start_time": "2021-12-30T20:24:07.424Z"
   },
   {
    "duration": 53,
    "start_time": "2021-12-30T20:24:07.433Z"
   },
   {
    "duration": 7,
    "start_time": "2021-12-30T20:24:07.488Z"
   },
   {
    "duration": 22,
    "start_time": "2021-12-30T20:24:07.497Z"
   },
   {
    "duration": 45,
    "start_time": "2021-12-30T20:24:07.520Z"
   },
   {
    "duration": 24,
    "start_time": "2021-12-30T20:24:07.567Z"
   },
   {
    "duration": 8,
    "start_time": "2021-12-30T20:24:07.592Z"
   },
   {
    "duration": 33,
    "start_time": "2021-12-30T20:24:07.602Z"
   },
   {
    "duration": 51,
    "start_time": "2021-12-30T20:24:07.636Z"
   },
   {
    "duration": 320,
    "start_time": "2021-12-30T20:24:07.689Z"
   },
   {
    "duration": 5,
    "start_time": "2021-12-30T20:24:08.011Z"
   },
   {
    "duration": 349,
    "start_time": "2021-12-30T20:24:08.017Z"
   },
   {
    "duration": 5,
    "start_time": "2021-12-30T20:24:08.367Z"
   },
   {
    "duration": 426,
    "start_time": "2021-12-30T20:24:08.374Z"
   },
   {
    "duration": 5,
    "start_time": "2021-12-30T20:24:08.802Z"
   },
   {
    "duration": 294,
    "start_time": "2021-12-30T20:24:08.808Z"
   },
   {
    "duration": 12,
    "start_time": "2021-12-30T20:24:09.104Z"
   },
   {
    "duration": 204,
    "start_time": "2021-12-30T20:24:09.118Z"
   },
   {
    "duration": 5,
    "start_time": "2021-12-30T20:24:09.323Z"
   },
   {
    "duration": 187,
    "start_time": "2021-12-30T20:24:09.329Z"
   },
   {
    "duration": 5,
    "start_time": "2021-12-30T20:24:09.518Z"
   },
   {
    "duration": 213,
    "start_time": "2021-12-30T20:24:09.525Z"
   },
   {
    "duration": 6,
    "start_time": "2021-12-30T20:24:09.740Z"
   },
   {
    "duration": 14,
    "start_time": "2021-12-30T20:24:09.761Z"
   },
   {
    "duration": 8,
    "start_time": "2021-12-30T20:24:09.781Z"
   },
   {
    "duration": 9,
    "start_time": "2021-12-30T20:24:09.792Z"
   },
   {
    "duration": 8,
    "start_time": "2021-12-30T20:24:09.803Z"
   },
   {
    "duration": 58,
    "start_time": "2021-12-30T20:24:09.813Z"
   },
   {
    "duration": 190,
    "start_time": "2021-12-30T20:24:09.873Z"
   },
   {
    "duration": 6,
    "start_time": "2021-12-30T20:24:10.065Z"
   },
   {
    "duration": 30,
    "start_time": "2021-12-30T20:24:10.073Z"
   },
   {
    "duration": 163,
    "start_time": "2021-12-30T20:24:10.106Z"
   },
   {
    "duration": 154,
    "start_time": "2021-12-30T20:24:10.270Z"
   },
   {
    "duration": 142,
    "start_time": "2021-12-30T20:24:10.426Z"
   },
   {
    "duration": 149,
    "start_time": "2021-12-30T20:24:10.570Z"
   },
   {
    "duration": 353,
    "start_time": "2021-12-30T20:24:10.720Z"
   },
   {
    "duration": 4,
    "start_time": "2021-12-30T20:24:11.075Z"
   },
   {
    "duration": 306,
    "start_time": "2021-12-30T20:24:11.081Z"
   },
   {
    "duration": 5,
    "start_time": "2021-12-30T20:24:11.388Z"
   },
   {
    "duration": 199,
    "start_time": "2021-12-30T20:24:11.395Z"
   },
   {
    "duration": 18,
    "start_time": "2021-12-30T20:24:11.596Z"
   },
   {
    "duration": 269,
    "start_time": "2021-12-30T20:24:11.616Z"
   },
   {
    "duration": 5,
    "start_time": "2021-12-30T20:24:11.888Z"
   },
   {
    "duration": 203,
    "start_time": "2021-12-30T20:24:11.895Z"
   },
   {
    "duration": 5,
    "start_time": "2021-12-30T20:24:12.099Z"
   },
   {
    "duration": 214,
    "start_time": "2021-12-30T20:24:12.106Z"
   },
   {
    "duration": 5,
    "start_time": "2021-12-30T20:24:12.322Z"
   },
   {
    "duration": 35,
    "start_time": "2021-12-30T20:24:38.538Z"
   },
   {
    "duration": 34,
    "start_time": "2021-12-30T20:25:08.925Z"
   },
   {
    "duration": 23,
    "start_time": "2021-12-30T20:25:19.118Z"
   },
   {
    "duration": 774,
    "start_time": "2021-12-30T20:31:49.895Z"
   },
   {
    "duration": 112,
    "start_time": "2021-12-30T20:31:50.671Z"
   },
   {
    "duration": 5,
    "start_time": "2021-12-30T20:31:50.785Z"
   },
   {
    "duration": 27,
    "start_time": "2021-12-30T20:31:50.791Z"
   },
   {
    "duration": 17,
    "start_time": "2021-12-30T20:31:50.820Z"
   },
   {
    "duration": 68,
    "start_time": "2021-12-30T20:31:50.839Z"
   },
   {
    "duration": 11,
    "start_time": "2021-12-30T20:31:50.909Z"
   },
   {
    "duration": 43,
    "start_time": "2021-12-30T20:31:50.923Z"
   },
   {
    "duration": 5,
    "start_time": "2021-12-30T20:31:50.969Z"
   },
   {
    "duration": 6,
    "start_time": "2021-12-30T20:31:50.976Z"
   },
   {
    "duration": 15,
    "start_time": "2021-12-30T20:31:50.984Z"
   },
   {
    "duration": 107,
    "start_time": "2021-12-30T20:31:51.001Z"
   },
   {
    "duration": 10,
    "start_time": "2021-12-30T20:31:51.110Z"
   },
   {
    "duration": 573,
    "start_time": "2021-12-30T20:31:51.122Z"
   },
   {
    "duration": 12,
    "start_time": "2021-12-30T20:31:51.697Z"
   },
   {
    "duration": 18,
    "start_time": "2021-12-30T20:31:51.711Z"
   },
   {
    "duration": 44,
    "start_time": "2021-12-30T20:31:51.730Z"
   },
   {
    "duration": 10,
    "start_time": "2021-12-30T20:31:51.776Z"
   },
   {
    "duration": 14,
    "start_time": "2021-12-30T20:31:51.787Z"
   },
   {
    "duration": 31,
    "start_time": "2021-12-30T20:31:51.802Z"
   },
   {
    "duration": 30,
    "start_time": "2021-12-30T20:31:51.835Z"
   },
   {
    "duration": 11,
    "start_time": "2021-12-30T20:31:51.867Z"
   },
   {
    "duration": 3,
    "start_time": "2021-12-30T20:31:51.882Z"
   },
   {
    "duration": 18,
    "start_time": "2021-12-30T20:31:51.887Z"
   },
   {
    "duration": 12,
    "start_time": "2021-12-30T20:31:51.907Z"
   },
   {
    "duration": 58,
    "start_time": "2021-12-30T20:31:51.921Z"
   },
   {
    "duration": 5,
    "start_time": "2021-12-30T20:31:51.981Z"
   },
   {
    "duration": 15,
    "start_time": "2021-12-30T20:31:51.987Z"
   },
   {
    "duration": 709,
    "start_time": "2021-12-30T20:31:52.004Z"
   },
   {
    "duration": 6,
    "start_time": "2021-12-30T20:31:52.715Z"
   },
   {
    "duration": 246,
    "start_time": "2021-12-30T20:31:52.723Z"
   },
   {
    "duration": 156,
    "start_time": "2021-12-30T20:31:52.972Z"
   },
   {
    "duration": 183,
    "start_time": "2021-12-30T20:31:53.130Z"
   },
   {
    "duration": 157,
    "start_time": "2021-12-30T20:31:53.315Z"
   },
   {
    "duration": 199,
    "start_time": "2021-12-30T20:31:53.474Z"
   },
   {
    "duration": 145,
    "start_time": "2021-12-30T20:31:53.675Z"
   },
   {
    "duration": 192,
    "start_time": "2021-12-30T20:31:53.821Z"
   },
   {
    "duration": 152,
    "start_time": "2021-12-30T20:31:54.015Z"
   },
   {
    "duration": 183,
    "start_time": "2021-12-30T20:31:54.169Z"
   },
   {
    "duration": 154,
    "start_time": "2021-12-30T20:31:54.354Z"
   },
   {
    "duration": 3,
    "start_time": "2021-12-30T20:31:54.510Z"
   },
   {
    "duration": 14,
    "start_time": "2021-12-30T20:31:54.515Z"
   },
   {
    "duration": 31,
    "start_time": "2021-12-30T20:31:54.530Z"
   },
   {
    "duration": 5,
    "start_time": "2021-12-30T20:31:54.563Z"
   },
   {
    "duration": 16,
    "start_time": "2021-12-30T20:31:54.569Z"
   },
   {
    "duration": 23,
    "start_time": "2021-12-30T20:31:54.586Z"
   },
   {
    "duration": 6,
    "start_time": "2021-12-30T20:31:54.611Z"
   },
   {
    "duration": 46,
    "start_time": "2021-12-30T20:31:54.619Z"
   },
   {
    "duration": 7,
    "start_time": "2021-12-30T20:31:54.666Z"
   },
   {
    "duration": 23,
    "start_time": "2021-12-30T20:31:54.674Z"
   },
   {
    "duration": 8,
    "start_time": "2021-12-30T20:31:54.698Z"
   },
   {
    "duration": 22,
    "start_time": "2021-12-30T20:31:54.707Z"
   },
   {
    "duration": 73,
    "start_time": "2021-12-30T20:31:54.731Z"
   },
   {
    "duration": 30,
    "start_time": "2021-12-30T20:31:54.805Z"
   },
   {
    "duration": 340,
    "start_time": "2021-12-30T20:31:54.837Z"
   },
   {
    "duration": 6,
    "start_time": "2021-12-30T20:31:55.180Z"
   },
   {
    "duration": 353,
    "start_time": "2021-12-30T20:31:55.187Z"
   },
   {
    "duration": 5,
    "start_time": "2021-12-30T20:31:55.542Z"
   },
   {
    "duration": 367,
    "start_time": "2021-12-30T20:31:55.548Z"
   },
   {
    "duration": 6,
    "start_time": "2021-12-30T20:31:55.917Z"
   },
   {
    "duration": 201,
    "start_time": "2021-12-30T20:31:55.924Z"
   },
   {
    "duration": 13,
    "start_time": "2021-12-30T20:31:56.127Z"
   },
   {
    "duration": 201,
    "start_time": "2021-12-30T20:31:56.142Z"
   },
   {
    "duration": 5,
    "start_time": "2021-12-30T20:31:56.344Z"
   },
   {
    "duration": 188,
    "start_time": "2021-12-30T20:31:56.351Z"
   },
   {
    "duration": 4,
    "start_time": "2021-12-30T20:31:56.541Z"
   },
   {
    "duration": 189,
    "start_time": "2021-12-30T20:31:56.547Z"
   },
   {
    "duration": 5,
    "start_time": "2021-12-30T20:31:56.742Z"
   },
   {
    "duration": 20,
    "start_time": "2021-12-30T20:31:56.749Z"
   },
   {
    "duration": 11,
    "start_time": "2021-12-30T20:31:56.771Z"
   },
   {
    "duration": 8,
    "start_time": "2021-12-30T20:31:56.784Z"
   },
   {
    "duration": 8,
    "start_time": "2021-12-30T20:31:56.793Z"
   },
   {
    "duration": 21,
    "start_time": "2021-12-30T20:31:56.802Z"
   },
   {
    "duration": 197,
    "start_time": "2021-12-30T20:31:56.824Z"
   },
   {
    "duration": 4,
    "start_time": "2021-12-30T20:31:57.023Z"
   },
   {
    "duration": 45,
    "start_time": "2021-12-30T20:31:57.029Z"
   },
   {
    "duration": 150,
    "start_time": "2021-12-30T20:31:57.076Z"
   },
   {
    "duration": 160,
    "start_time": "2021-12-30T20:31:57.227Z"
   },
   {
    "duration": 139,
    "start_time": "2021-12-30T20:31:57.388Z"
   },
   {
    "duration": 148,
    "start_time": "2021-12-30T20:31:57.528Z"
   },
   {
    "duration": 401,
    "start_time": "2021-12-30T20:31:57.677Z"
   },
   {
    "duration": 32,
    "start_time": "2021-12-30T20:31:58.080Z"
   },
   {
    "duration": 5,
    "start_time": "2021-12-30T20:31:58.114Z"
   },
   {
    "duration": 347,
    "start_time": "2021-12-30T20:31:58.120Z"
   },
   {
    "duration": 4,
    "start_time": "2021-12-30T20:31:58.469Z"
   },
   {
    "duration": 203,
    "start_time": "2021-12-30T20:31:58.475Z"
   },
   {
    "duration": 14,
    "start_time": "2021-12-30T20:31:58.680Z"
   },
   {
    "duration": 205,
    "start_time": "2021-12-30T20:31:58.696Z"
   },
   {
    "duration": 4,
    "start_time": "2021-12-30T20:31:58.902Z"
   },
   {
    "duration": 226,
    "start_time": "2021-12-30T20:31:58.908Z"
   },
   {
    "duration": 5,
    "start_time": "2021-12-30T20:31:59.135Z"
   },
   {
    "duration": 221,
    "start_time": "2021-12-30T20:31:59.142Z"
   },
   {
    "duration": 4,
    "start_time": "2021-12-30T20:31:59.365Z"
   }
  ],
  "kernelspec": {
   "display_name": "Python 3 (ipykernel)",
   "language": "python",
   "name": "python3"
  },
  "language_info": {
   "codemirror_mode": {
    "name": "ipython",
    "version": 3
   },
   "file_extension": ".py",
   "mimetype": "text/x-python",
   "name": "python",
   "nbconvert_exporter": "python",
   "pygments_lexer": "ipython3",
   "version": "3.9.5"
  },
  "toc": {
   "base_numbering": 1,
   "nav_menu": {},
   "number_sections": true,
   "sideBar": true,
   "skip_h1_title": true,
   "title_cell": "Содержание",
   "title_sidebar": "Contents",
   "toc_cell": true,
   "toc_position": {
    "height": "calc(100% - 180px)",
    "left": "10px",
    "top": "150px",
    "width": "167px"
   },
   "toc_section_display": true,
   "toc_window_display": true
  }
 },
 "nbformat": 4,
 "nbformat_minor": 2
}
