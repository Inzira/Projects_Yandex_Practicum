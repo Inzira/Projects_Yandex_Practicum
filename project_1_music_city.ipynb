{
 "cells": [
  {
   "cell_type": "markdown",
   "metadata": {
    "id": "E0vqbgi9ay0H"
   },
   "source": [
    "# Яндекс.Музыка"
   ]
  },
  {
   "cell_type": "markdown",
   "metadata": {
    "id": "VUC88oWjTJw2"
   },
   
    "**Цель исследования** — проверьте три гипотезы:\n",
    "1. Активность пользователей зависит от дня недели. Причём в Москве и Петербурге это проявляется по-разному.\n",
    "2. В понедельник утром в Москве преобладают одни жанры, а в Петербурге — другие. Так же и вечером пятницы преобладают разные жанры — в зависимости от города. \n",
    "3. Москва и Петербург предпочитают разные жанры музыки. В Москве чаще слушают поп-музыку, в Петербурге — русский рэп.\n",
    "\n",
    "**Ход исследования**\n",
    "\n",
    "Данные о поведении пользователей вы получите из файла `yandex_music_project.csv`. О качестве данных ничего не известно. Поэтому перед проверкой гипотез понадобится обзор данных. \n",
    "\n",
    "Вы проверите данные на ошибки и оцените их влияние на исследование. Затем, на этапе предобработки вы поищете возможность исправить самые критичные ошибки данных.\n",
    " \n",
    "Таким образом, исследование пройдёт в три этапа:\n",
    " 1. Обзор данных.\n",
    " 2. Предобработка данных.\n",
    " 3. Проверка гипотез.\n",
    "\n"
   ]
  },
  {
   "cell_type": "markdown",
   "metadata": {
    "id": "Ml1hmfXC_Zcs"
   },
   "source": [
    "## Обзор данных\n",
    "\n",
    "Составьте первое представление о данных Яндекс.Музыки.\n",
    "\n",
    "\n"
   ]
  },
  {
   "cell_type": "markdown",
   "metadata": {
    "id": "57eAOGIz_Zcs"
   },
   "source": [
    "Основной инструмент аналитика — `pandas`. Импортируйте эту библиотеку."
   ]
  },
  {
   "cell_type": "code",
   "execution_count": 1,
   "metadata": {
    "id": "AXN7PHPN_Zcs"
   },
   "outputs": [],
   "source": [
    "import pandas as pd # импорт библиотеки pandas"
   ]
  },
  {
   "cell_type": "markdown",
   "metadata": {
    "id": "SG23P8tt_Zcs"
   },
   "source": [
    "Прочитайте файл `yandex_music_project.csv` из папки `/datasets` и сохраните его в переменной `df`:"
   ]
  },
  {
   "cell_type": "code",
   "execution_count": 2,
   "metadata": {
    "id": "fFVu7vqh_Zct"
   },
   "outputs": [],
   "source": [
    "df = pd.read_csv('/datasets/yandex_music_project.csv') # чтение файла с данными и сохранение в df"
   ]
  },
  {
   "cell_type": "markdown",
   "metadata": {
    "id": "rDoOMd3uTqnZ"
   },
   "source": [
    "Выведите на экран первые десять строк таблицы:"
   ]
  },
  {
   "cell_type": "code",
   "execution_count": 3,
   "metadata": {
    "id": "oWTVX3gW_Zct"
   },
   "outputs": [
    {
     "data": {
      "text/html": [
       "<div>\n",
       "<style scoped>\n",
       "    .dataframe tbody tr th:only-of-type {\n",
       "        vertical-align: middle;\n",
       "    }\n",
       "\n",
       "    .dataframe tbody tr th {\n",
       "        vertical-align: top;\n",
       "    }\n",
       "\n",
       "    .dataframe thead th {\n",
       "        text-align: right;\n",
       "    }\n",
       "</style>\n",
       "<table border=\"1\" class=\"dataframe\">\n",
       "  <thead>\n",
       "    <tr style=\"text-align: right;\">\n",
       "      <th></th>\n",
       "      <th>userID</th>\n",
       "      <th>Track</th>\n",
       "      <th>artist</th>\n",
       "      <th>genre</th>\n",
       "      <th>City</th>\n",
       "      <th>time</th>\n",
       "      <th>Day</th>\n",
       "    </tr>\n",
       "  </thead>\n",
       "  <tbody>\n",
       "    <tr>\n",
       "      <td>0</td>\n",
       "      <td>FFB692EC</td>\n",
       "      <td>Kamigata To Boots</td>\n",
       "      <td>The Mass Missile</td>\n",
       "      <td>rock</td>\n",
       "      <td>Saint-Petersburg</td>\n",
       "      <td>20:28:33</td>\n",
       "      <td>Wednesday</td>\n",
       "    </tr>\n",
       "    <tr>\n",
       "      <td>1</td>\n",
       "      <td>55204538</td>\n",
       "      <td>Delayed Because of Accident</td>\n",
       "      <td>Andreas Rönnberg</td>\n",
       "      <td>rock</td>\n",
       "      <td>Moscow</td>\n",
       "      <td>14:07:09</td>\n",
       "      <td>Friday</td>\n",
       "    </tr>\n",
       "    <tr>\n",
       "      <td>2</td>\n",
       "      <td>20EC38</td>\n",
       "      <td>Funiculì funiculà</td>\n",
       "      <td>Mario Lanza</td>\n",
       "      <td>pop</td>\n",
       "      <td>Saint-Petersburg</td>\n",
       "      <td>20:58:07</td>\n",
       "      <td>Wednesday</td>\n",
       "    </tr>\n",
       "    <tr>\n",
       "      <td>3</td>\n",
       "      <td>A3DD03C9</td>\n",
       "      <td>Dragons in the Sunset</td>\n",
       "      <td>Fire + Ice</td>\n",
       "      <td>folk</td>\n",
       "      <td>Saint-Petersburg</td>\n",
       "      <td>08:37:09</td>\n",
       "      <td>Monday</td>\n",
       "    </tr>\n",
       "    <tr>\n",
       "      <td>4</td>\n",
       "      <td>E2DC1FAE</td>\n",
       "      <td>Soul People</td>\n",
       "      <td>Space Echo</td>\n",
       "      <td>dance</td>\n",
       "      <td>Moscow</td>\n",
       "      <td>08:34:34</td>\n",
       "      <td>Monday</td>\n",
       "    </tr>\n",
       "    <tr>\n",
       "      <td>5</td>\n",
       "      <td>842029A1</td>\n",
       "      <td>Преданная</td>\n",
       "      <td>IMPERVTOR</td>\n",
       "      <td>rusrap</td>\n",
       "      <td>Saint-Petersburg</td>\n",
       "      <td>13:09:41</td>\n",
       "      <td>Friday</td>\n",
       "    </tr>\n",
       "    <tr>\n",
       "      <td>6</td>\n",
       "      <td>4CB90AA5</td>\n",
       "      <td>True</td>\n",
       "      <td>Roman Messer</td>\n",
       "      <td>dance</td>\n",
       "      <td>Moscow</td>\n",
       "      <td>13:00:07</td>\n",
       "      <td>Wednesday</td>\n",
       "    </tr>\n",
       "    <tr>\n",
       "      <td>7</td>\n",
       "      <td>F03E1C1F</td>\n",
       "      <td>Feeling This Way</td>\n",
       "      <td>Polina Griffith</td>\n",
       "      <td>dance</td>\n",
       "      <td>Moscow</td>\n",
       "      <td>20:47:49</td>\n",
       "      <td>Wednesday</td>\n",
       "    </tr>\n",
       "    <tr>\n",
       "      <td>8</td>\n",
       "      <td>8FA1D3BE</td>\n",
       "      <td>И вновь продолжается бой</td>\n",
       "      <td>NaN</td>\n",
       "      <td>ruspop</td>\n",
       "      <td>Moscow</td>\n",
       "      <td>09:17:40</td>\n",
       "      <td>Friday</td>\n",
       "    </tr>\n",
       "    <tr>\n",
       "      <td>9</td>\n",
       "      <td>E772D5C0</td>\n",
       "      <td>Pessimist</td>\n",
       "      <td>NaN</td>\n",
       "      <td>dance</td>\n",
       "      <td>Saint-Petersburg</td>\n",
       "      <td>21:20:49</td>\n",
       "      <td>Wednesday</td>\n",
       "    </tr>\n",
       "  </tbody>\n",
       "</table>\n",
       "</div>"
      ],
      "text/plain": [
       "     userID                        Track            artist   genre  \\\n",
       "0  FFB692EC            Kamigata To Boots  The Mass Missile    rock   \n",
       "1  55204538  Delayed Because of Accident  Andreas Rönnberg    rock   \n",
       "2    20EC38            Funiculì funiculà       Mario Lanza     pop   \n",
       "3  A3DD03C9        Dragons in the Sunset        Fire + Ice    folk   \n",
       "4  E2DC1FAE                  Soul People        Space Echo   dance   \n",
       "5  842029A1                    Преданная         IMPERVTOR  rusrap   \n",
       "6  4CB90AA5                         True      Roman Messer   dance   \n",
       "7  F03E1C1F             Feeling This Way   Polina Griffith   dance   \n",
       "8  8FA1D3BE     И вновь продолжается бой               NaN  ruspop   \n",
       "9  E772D5C0                    Pessimist               NaN   dance   \n",
       "\n",
       "             City        time        Day  \n",
       "0  Saint-Petersburg  20:28:33  Wednesday  \n",
       "1            Moscow  14:07:09     Friday  \n",
       "2  Saint-Petersburg  20:58:07  Wednesday  \n",
       "3  Saint-Petersburg  08:37:09     Monday  \n",
       "4            Moscow  08:34:34     Monday  \n",
       "5  Saint-Petersburg  13:09:41     Friday  \n",
       "6            Moscow  13:00:07  Wednesday  \n",
       "7            Moscow  20:47:49  Wednesday  \n",
       "8            Moscow  09:17:40     Friday  \n",
       "9  Saint-Petersburg  21:20:49  Wednesday  "
      ]
     },
     "execution_count": 3,
     "metadata": {},
     "output_type": "execute_result"
    }
   ],
   "source": [
    "df.head(10) # получение первых 10 строк таблицы df"
   ]
  },
  {
   "cell_type": "markdown",
   "metadata": {
    "id": "EO73Kwic_Zct"
   },
   "source": [
    "Одной командой получить общую информацию о таблице:"
   ]
  },
  {
   "cell_type": "code",
   "execution_count": 4,
   "metadata": {
    "id": "DSf2kIb-_Zct"
   },
   "outputs": [
    {
     "name": "stdout",
     "output_type": "stream",
     "text": [
      "<class 'pandas.core.frame.DataFrame'>\n",
      "RangeIndex: 65079 entries, 0 to 65078\n",
      "Data columns (total 7 columns):\n",
      "  userID    65079 non-null object\n",
      "Track       63848 non-null object\n",
      "artist      57876 non-null object\n",
      "genre       63881 non-null object\n",
      "  City      65079 non-null object\n",
      "time        65079 non-null object\n",
      "Day         65079 non-null object\n",
      "dtypes: object(7)\n",
      "memory usage: 3.5+ MB\n"
     ]
    }
   ],
   "source": [
    "df.info() # получение общей информации о данных в таблице df"
   ]
  },
  {
   "cell_type": "code",
   "execution_count": 5,
   "metadata": {},
   "outputs": [
    {
     "data": {
      "text/plain": [
       "0        Wednesday\n",
       "1           Friday\n",
       "2        Wednesday\n",
       "3           Monday\n",
       "4           Monday\n",
       "           ...    \n",
       "65074    Wednesday\n",
       "65075       Monday\n",
       "65076       Friday\n",
       "65077       Friday\n",
       "65078       Friday\n",
       "Name: Day, Length: 65079, dtype: object"
      ]
     },
     "execution_count": 5,
     "metadata": {},
     "output_type": "execute_result"
    }
   ],
   "source": [
    "df.Day\n"
   ]
  },
  {
   "cell_type": "markdown",
   "metadata": {
    "id": "TaQ2Iwbr_Zct"
   },
   "source": [
    "Итак, в таблице семь столбцов. Тип данных во всех столбцах — `object`.\n",
    "\n",
    "Согласно документации к данным:\n",
    "* `userID` — идентификатор пользователя;\n",
    "* `Track` — название трека;  \n",
    "* `artist` — имя исполнителя;\n",
    "* `genre` — название жанра;\n",
    "* `City` — город пользователя;\n",
    "* `time` — время начала прослушивания;\n",
    "* `Day` — день недели.\n",
    "\n",
    "В названиях колонок видны три нарушения стиля:\n",
    "1. Строчные буквы сочетаются с прописными.\n",
    "2. Встречаются пробелы.\n",
    "3. Найдите ещё одну проблему в названии колонок и опишите её в этом пункте. \n",
    "\n",
    "userID лучше прописать через нижний регистр user_id\n",
    "\n",
    "\n",
    "Количество значений в столбцах различается. Значит, в данных есть пропущенные значения.\n"
   ]
  },
  {
   "cell_type": "markdown",
   "metadata": {
    "id": "MCB6-dXG_Zct"
   },
   "source": [
    "**Выводы**\n",
    "\n",
    "В каждой строке таблицы — данные о прослушанном треке. Часть колонок описывает саму композицию: название, исполнителя и жанр. Остальные данные рассказывают о пользователе: из какого он города, когда он слушал музыку. \n",
    "\n",
    "Предварительно можно утверждать, что, данных достаточно для проверки гипотез. Но встречаются пропуски в данных, а в названиях колонок — расхождения с хорошим стилем.\n",
    "\n",
    "Чтобы двигаться дальше, нужно устранить проблемы в данных."
   ]
  },
  {
   "cell_type": "markdown",
   "metadata": {
    "id": "SjYF6Ub9_Zct"
   },
   "source": [
    "## Предобработка данных\n",
    "Исправьте стиль в заголовках столбцов, исключите пропуски. Затем проверьте данные на дубликаты."
   ]
  },
  {
   "cell_type": "markdown",
   "metadata": {
    "id": "dIaKXr29_Zct"
   },
   "source": [
    "### Стиль заголовков\n",
    "Выведите на экран названия столбцов:"
   ]
  },
  {
   "cell_type": "code",
   "execution_count": 6,
   "metadata": {
    "id": "oKOTdF_Q_Zct"
   },
   "outputs": [
    {
     "data": {
      "text/plain": [
       "Index(['  userID', 'Track', 'artist', 'genre', '  City  ', 'time', 'Day'], dtype='object')"
      ]
     },
     "execution_count": 6,
     "metadata": {},
     "output_type": "execute_result"
    }
   ],
   "source": [
    "df.columns # перечень названий столбцов таблицы df"
   ]
  },
  {
   "cell_type": "markdown",
   "metadata": {
    "id": "zj5534cv_Zct"
   },
   "source": [
    "Приведите названия в соответствие с хорошим стилем:\n",
    "* несколько слов в названии запишите в «змеином_регистре»,\n",
    "* все символы сделайте строчными,\n",
    "* устраните пробелы.\n",
    "\n",
    "Для этого переименуйте колонки так:\n",
    "* `'  userID'` → `'user_id'`;\n",
    "* `'Track'` → `'track'`;\n",
    "* `'  City  '` → `'city'`;\n",
    "* `'Day'` → `'day'`."
   ]
  },
  {
   "cell_type": "code",
   "execution_count": 7,
   "metadata": {
    "id": "ISlFqs5y_Zct"
   },
   "outputs": [],
   "source": [
    "df = df.rename(columns={\n",
    "    '  userID':'user_id',\n",
    "    'Track':'track',\n",
    "    '  City  ':'city',\n",
    "    'Day':'day'}\n",
    "         ) # переименование столбцов"
   ]
  },
  {
   "cell_type": "markdown",
   "metadata": {
    "id": "1dqbh00J_Zct"
   },
   "source": [
    "Проверьте результат. Для этого ещё раз выведите на экран названия столбцов:"
   ]
  },
  {
   "cell_type": "code",
   "execution_count": 8,
   "metadata": {
    "id": "d4NOAmTW_Zct"
   },
   "outputs": [
    {
     "data": {
      "text/plain": [
       "Index(['user_id', 'track', 'artist', 'genre', 'city', 'time', 'day'], dtype='object')"
      ]
     },
     "execution_count": 8,
     "metadata": {},
     "output_type": "execute_result"
    }
   ],
   "source": [
    "df.columns # проверка результатов - перечень названий столбцов"
   ]
  },
  {
   "cell_type": "markdown",
   "metadata": {
    "id": "5ISfbcfY_Zct"
   },
   "source": [
    "### Пропуски значений\n",
    "Сначала посчитайте, сколько в таблице пропущенных значений. Для этого достаточно двух методов `pandas`:"
   ]
  },
  {
   "cell_type": "code",
   "execution_count": 9,
   "metadata": {
    "id": "RskX29qr_Zct"
   },
   "outputs": [
    {
     "data": {
      "text/plain": [
       "user_id       0\n",
       "track      1231\n",
       "artist     7203\n",
       "genre      1198\n",
       "city          0\n",
       "time          0\n",
       "day           0\n",
       "dtype: int64"
      ]
     },
     "execution_count": 9,
     "metadata": {},
     "output_type": "execute_result"
    }
   ],
   "source": [
    "df.isna().sum() # подсчёт пропусков"
   ]
  },
  {
   "cell_type": "markdown",
   "metadata": {
    "id": "qubhgnlO_Zct"
   },
   "source": [
    "Не все пропущенные значения влияют на исследование. Так в `track` и `artist` пропуски не важны для вашей работы. Достаточно заменить их явными обозначениями.\n",
    "\n",
    "Но пропуски в `genre` могут помешать сравнению музыкальных вкусов в Москве и Санкт-Петербурге. На практике было бы правильно установить причину пропусков и восстановить данные. Такой возможности нет в учебном проекте. Придётся:\n",
    "* заполнить и эти пропуски явными обозначениями,\n",
    "* оценить, насколько они повредят расчётам. "
   ]
  },
  {
   "cell_type": "markdown",
   "metadata": {
    "id": "fSv2laPA_Zct"
   },
   "source": [
    "Замените пропущенные значения в столбцах `track`, `artist` и `genre` на строку `'unknown'`. Для этого создайте список `columns_to_replace`, переберите его элементы циклом `for` и для каждого столбца выполните замену пропущенных значений:"
   ]
  },
  {
   "cell_type": "code",
   "execution_count": 10,
   "metadata": {
    "id": "KplB5qWs_Zct"
   },
   "outputs": [],
   "source": [
    "# перебор названий столбцов в цикле и замена пропущенных значений на 'unknown'\n",
    "columns_to_replace = ['track', 'artist', 'genre'] \n",
    "for column in columns_to_replace:\n",
    "    df[column] = df[column].fillna('unknown')"
   ]
  },
  {
   "cell_type": "markdown",
   "metadata": {
    "id": "Ilsm-MZo_Zct"
   },
   "source": [
    "Убедитесь, что в таблице не осталось пропусков. Для этого ещё раз посчитайте пропущенные значения."
   ]
  },
  {
   "cell_type": "code",
   "execution_count": 11,
   "metadata": {
    "id": "Tq4nYRX4_Zct"
   },
   "outputs": [
    {
     "data": {
      "text/plain": [
       "user_id    0\n",
       "track      0\n",
       "artist     0\n",
       "genre      0\n",
       "city       0\n",
       "time       0\n",
       "day        0\n",
       "dtype: int64"
      ]
     },
     "execution_count": 11,
     "metadata": {},
     "output_type": "execute_result"
    }
   ],
   "source": [
    "df.isna().sum() # подсчёт пропусков"
   ]
  },
  {
   "cell_type": "markdown",
   "metadata": {
    "id": "BWKRtBJ3_Zct"
   },
   "source": [
    "### Дубликаты\n",
    "Посчитайте явные дубликаты в таблице одной командой:"
   ]
  },
  {
   "cell_type": "code",
   "execution_count": 12,
   "metadata": {
    "id": "36eES_S0_Zct"
   },
   "outputs": [
    {
     "data": {
      "text/plain": [
       "3826"
      ]
     },
     "execution_count": 12,
     "metadata": {},
     "output_type": "execute_result"
    }
   ],
   "source": [
    "df.duplicated().sum() # подсчёт явных дубликатов"
   ]
  },
  {
   "cell_type": "markdown",
   "metadata": {
    "id": "Ot25h6XR_Zct"
   },
   "source": [
    "Вызовите специальный метод `pandas`, чтобы удалить явные дубликаты:"
   ]
  },
  {
   "cell_type": "code",
   "execution_count": 13,
   "metadata": {
    "id": "exFHq6tt_Zct"
   },
   "outputs": [],
   "source": [
    "df = df.drop_duplicates().reset_index(drop=True)  # удаление явных дубликатов (с удалением старых индексов и формированием новых)"
   ]
  },
  {
   "cell_type": "markdown",
   "metadata": {
    "id": "Im2YwBEG_Zct"
   },
   "source": [
    "Ещё раз посчитайте явные дубликаты в таблице — убедитесь, что полностью от них избавились:"
   ]
  },
  {
   "cell_type": "code",
   "execution_count": 14,
   "metadata": {
    "id": "-8PuNWQ0_Zct",
    "scrolled": true
   },
   "outputs": [
    {
     "data": {
      "text/plain": [
       "0"
      ]
     },
     "execution_count": 14,
     "metadata": {},
     "output_type": "execute_result"
    }
   ],
   "source": [
    "df.duplicated().sum() # проверка на отсутствие дубликатов"
   ]
  },
  {
   "cell_type": "code",
   "execution_count": 44,
   "metadata": {},
   "outputs": [
    {
     "name": "stdout",
     "output_type": "stream",
     "text": [
      "Количество пропусков: 0\n"
     ]
    }
   ],
   "source": [
    "print(\"Количество пропусков: {}\".format(df.duplicated().sum()))"
   ]
  },
  {
   "cell_type": "markdown",
   "metadata": {
    "id": "QlFBsxAr_Zct"
   },
   "source": [
    "Теперь избавьтесь от неявных дубликатов в колонке `genre`. Например, название одного и того же жанра может быть записано немного по-разному. Такие ошибки тоже повлияют на результат исследования."
   ]
  },
  {
   "cell_type": "markdown",
   "metadata": {
    "id": "eSjWwsOh_Zct"
   },
   "source": [
    "Выведите на экран список уникальных названий жанров, отсортированный в алфавитном порядке. Для этого:\n",
    "* извлеките нужный столбец датафрейма, \n",
    "* примените к нему метод сортировки,\n",
    "* для отсортированного столбца вызовите метод, который вернёт уникальные значения из столбца."
   ]
  },
  {
   "cell_type": "code",
   "execution_count": 15,
   "metadata": {
    "id": "JIUcqzZN_Zct",
    "scrolled": true
   },
   "outputs": [
    {
     "data": {
      "text/html": [
       "<div>\n",
       "<style scoped>\n",
       "    .dataframe tbody tr th:only-of-type {\n",
       "        vertical-align: middle;\n",
       "    }\n",
       "\n",
       "    .dataframe tbody tr th {\n",
       "        vertical-align: top;\n",
       "    }\n",
       "\n",
       "    .dataframe thead th {\n",
       "        text-align: right;\n",
       "    }\n",
       "</style>\n",
       "<table border=\"1\" class=\"dataframe\">\n",
       "  <thead>\n",
       "    <tr style=\"text-align: right;\">\n",
       "      <th></th>\n",
       "      <th>user_id</th>\n",
       "      <th>track</th>\n",
       "      <th>artist</th>\n",
       "      <th>genre</th>\n",
       "      <th>city</th>\n",
       "      <th>time</th>\n",
       "      <th>day</th>\n",
       "    </tr>\n",
       "  </thead>\n",
       "  <tbody>\n",
       "    <tr>\n",
       "      <td>0</td>\n",
       "      <td>FFB692EC</td>\n",
       "      <td>Kamigata To Boots</td>\n",
       "      <td>The Mass Missile</td>\n",
       "      <td>rock</td>\n",
       "      <td>Saint-Petersburg</td>\n",
       "      <td>20:28:33</td>\n",
       "      <td>Wednesday</td>\n",
       "    </tr>\n",
       "    <tr>\n",
       "      <td>1</td>\n",
       "      <td>55204538</td>\n",
       "      <td>Delayed Because of Accident</td>\n",
       "      <td>Andreas Rönnberg</td>\n",
       "      <td>rock</td>\n",
       "      <td>Moscow</td>\n",
       "      <td>14:07:09</td>\n",
       "      <td>Friday</td>\n",
       "    </tr>\n",
       "    <tr>\n",
       "      <td>2</td>\n",
       "      <td>20EC38</td>\n",
       "      <td>Funiculì funiculà</td>\n",
       "      <td>Mario Lanza</td>\n",
       "      <td>pop</td>\n",
       "      <td>Saint-Petersburg</td>\n",
       "      <td>20:58:07</td>\n",
       "      <td>Wednesday</td>\n",
       "    </tr>\n",
       "    <tr>\n",
       "      <td>3</td>\n",
       "      <td>A3DD03C9</td>\n",
       "      <td>Dragons in the Sunset</td>\n",
       "      <td>Fire + Ice</td>\n",
       "      <td>folk</td>\n",
       "      <td>Saint-Petersburg</td>\n",
       "      <td>08:37:09</td>\n",
       "      <td>Monday</td>\n",
       "    </tr>\n",
       "    <tr>\n",
       "      <td>4</td>\n",
       "      <td>E2DC1FAE</td>\n",
       "      <td>Soul People</td>\n",
       "      <td>Space Echo</td>\n",
       "      <td>dance</td>\n",
       "      <td>Moscow</td>\n",
       "      <td>08:34:34</td>\n",
       "      <td>Monday</td>\n",
       "    </tr>\n",
       "  </tbody>\n",
       "</table>\n",
       "</div>"
      ],
      "text/plain": [
       "    user_id                        track            artist  genre  \\\n",
       "0  FFB692EC            Kamigata To Boots  The Mass Missile   rock   \n",
       "1  55204538  Delayed Because of Accident  Andreas Rönnberg   rock   \n",
       "2    20EC38            Funiculì funiculà       Mario Lanza    pop   \n",
       "3  A3DD03C9        Dragons in the Sunset        Fire + Ice   folk   \n",
       "4  E2DC1FAE                  Soul People        Space Echo  dance   \n",
       "\n",
       "               city      time        day  \n",
       "0  Saint-Petersburg  20:28:33  Wednesday  \n",
       "1            Moscow  14:07:09     Friday  \n",
       "2  Saint-Petersburg  20:58:07  Wednesday  \n",
       "3  Saint-Petersburg  08:37:09     Monday  \n",
       "4            Moscow  08:34:34     Monday  "
      ]
     },
     "execution_count": 15,
     "metadata": {},
     "output_type": "execute_result"
    }
   ],
   "source": [
    "df.head()"
   ]
  },
  {
   "cell_type": "code",
   "execution_count": 16,
   "metadata": {
    "scrolled": true
   },
   "outputs": [
    {
     "data": {
      "text/plain": [
       "array(['acid', 'acoustic', 'action', 'adult', 'africa', 'afrikaans',\n",
       "       'alternative', 'alternativepunk', 'ambient', 'americana',\n",
       "       'animated', 'anime', 'arabesk', 'arabic', 'arena',\n",
       "       'argentinetango', 'art', 'audiobook', 'author', 'avantgarde',\n",
       "       'axé', 'baile', 'balkan', 'beats', 'bigroom', 'black', 'bluegrass',\n",
       "       'blues', 'bollywood', 'bossa', 'brazilian', 'breakbeat', 'breaks',\n",
       "       'broadway', 'cantautori', 'cantopop', 'canzone', 'caribbean',\n",
       "       'caucasian', 'celtic', 'chamber', 'chanson', 'children', 'chill',\n",
       "       'chinese', 'choral', 'christian', 'christmas', 'classical',\n",
       "       'classicmetal', 'club', 'colombian', 'comedy', 'conjazz',\n",
       "       'contemporary', 'country', 'cuban', 'dance', 'dancehall',\n",
       "       'dancepop', 'dark', 'death', 'deep', 'deutschrock', 'deutschspr',\n",
       "       'dirty', 'disco', 'dnb', 'documentary', 'downbeat', 'downtempo',\n",
       "       'drum', 'dub', 'dubstep', 'eastern', 'easy', 'electronic',\n",
       "       'electropop', 'emo', 'entehno', 'epicmetal', 'estrada', 'ethnic',\n",
       "       'eurofolk', 'european', 'experimental', 'extrememetal', 'fado',\n",
       "       'fairytail', 'film', 'fitness', 'flamenco', 'folk', 'folklore',\n",
       "       'folkmetal', 'folkrock', 'folktronica', 'forró', 'frankreich',\n",
       "       'französisch', 'french', 'funk', 'future', 'gangsta', 'garage',\n",
       "       'german', 'ghazal', 'gitarre', 'glitch', 'gospel', 'gothic',\n",
       "       'grime', 'grunge', 'gypsy', 'handsup', \"hard'n'heavy\", 'hardcore',\n",
       "       'hardstyle', 'hardtechno', 'hip', 'hip-hop', 'hiphop',\n",
       "       'historisch', 'holiday', 'hop', 'horror', 'house', 'hymn', 'idm',\n",
       "       'independent', 'indian', 'indie', 'indipop', 'industrial',\n",
       "       'inspirational', 'instrumental', 'international', 'irish', 'jam',\n",
       "       'japanese', 'jazz', 'jewish', 'jpop', 'jungle', 'k-pop',\n",
       "       'karadeniz', 'karaoke', 'kayokyoku', 'korean', 'laiko', 'latin',\n",
       "       'latino', 'leftfield', 'local', 'lounge', 'loungeelectronic',\n",
       "       'lovers', 'malaysian', 'mandopop', 'marschmusik', 'meditative',\n",
       "       'mediterranean', 'melodic', 'metal', 'metalcore', 'mexican',\n",
       "       'middle', 'minimal', 'miscellaneous', 'modern', 'mood', 'mpb',\n",
       "       'muslim', 'native', 'neoklassik', 'neue', 'new', 'newage',\n",
       "       'newwave', 'nu', 'nujazz', 'numetal', 'oceania', 'old', 'opera',\n",
       "       'orchestral', 'other', 'piano', 'podcasts', 'pop', 'popdance',\n",
       "       'popelectronic', 'popeurodance', 'poprussian', 'post',\n",
       "       'posthardcore', 'postrock', 'power', 'progmetal', 'progressive',\n",
       "       'psychedelic', 'punjabi', 'punk', 'quebecois', 'ragga', 'ram',\n",
       "       'rancheras', 'rap', 'rave', 'reggae', 'reggaeton', 'regional',\n",
       "       'relax', 'religious', 'retro', 'rhythm', 'rnb', 'rnr', 'rock',\n",
       "       'rockabilly', 'rockalternative', 'rockindie', 'rockother',\n",
       "       'romance', 'roots', 'ruspop', 'rusrap', 'rusrock', 'russian',\n",
       "       'salsa', 'samba', 'scenic', 'schlager', 'self', 'sertanejo',\n",
       "       'shanson', 'shoegazing', 'showtunes', 'singer', 'ska', 'skarock',\n",
       "       'slow', 'smooth', 'soft', 'soul', 'soulful', 'sound', 'soundtrack',\n",
       "       'southern', 'specialty', 'speech', 'spiritual', 'sport',\n",
       "       'stonerrock', 'surf', 'swing', 'synthpop', 'synthrock',\n",
       "       'sängerportrait', 'tango', 'tanzorchester', 'taraftar', 'tatar',\n",
       "       'tech', 'techno', 'teen', 'thrash', 'top', 'traditional',\n",
       "       'tradjazz', 'trance', 'tribal', 'trip', 'triphop', 'tropical',\n",
       "       'türk', 'türkçe', 'ukrrock', 'unknown', 'urban', 'uzbek',\n",
       "       'variété', 'vi', 'videogame', 'vocal', 'western', 'world',\n",
       "       'worldbeat', 'ïîï', 'электроника'], dtype=object)"
      ]
     },
     "execution_count": 16,
     "metadata": {},
     "output_type": "execute_result"
    }
   ],
   "source": [
    "df = df.sort_values(by='genre')\n",
    "df['genre'].unique()\n",
    "\n"
   ]
  },
  {
   "cell_type": "markdown",
   "metadata": {},
   "source": [
    "Чтобы очистить от них таблицу, напишите функцию replace_wrong_genres() с двумя параметрами: wrong_genres — список дубликатов, correct_genre — строка с правильным значением. Функция должна исправить колонку genre в таблице df: заменить каждое значение из списка wrong_genres на значение из correct_genre."
   ]
  },
  {
   "cell_type": "code",
   "execution_count": 17,
   "metadata": {
    "id": "ErNDkmns_Zct"
   },
   "outputs": [],
   "source": [
    "# Функция для замены неявных дубликатов\n",
    "def replace_wrong_genres(wrong_genres,correct_genre):\n",
    "    for wrong_genre in wrong_genres:\n",
    "        df['genre'] = df['genre'].replace(wrong_genre, correct_genre)\n",
    "  "
   ]
  },
  {
   "cell_type": "markdown",
   "metadata": {
    "id": "aDoBJxbA_Zct"
   },
   "source": [
    "Вызовите `replace_wrong_genres()` и передайте ей такие аргументы, чтобы она устранила неявные дубликаты: вместо `hip`, `hop` и `hip-hop` в таблице должно быть значение `hiphop`:"
   ]
  },
  {
   "cell_type": "code",
   "execution_count": 18,
   "metadata": {
    "id": "YN5i2hpmSo09"
   },
   "outputs": [],
   "source": [
    "# Устранение неявных дубликатов\n",
    "wrong_genres= ['hip','hop','hip-hop','электроника']\n",
    "correct_genre='hiphop'\n",
    "correct_electronic='electronic'\n",
    "\n",
    "replace_wrong_genres(wrong_genres,correct_electronic)"
   ]
  },
  {
   "cell_type": "markdown",
   "metadata": {
    "id": "zQKF16_RG15m"
   },
   "source": [
    "Проверьте, что заменили неправильные названия:\n",
    "\n",
    "*   hip\n",
    "*   hop\n",
    "*   hip-hop\n",
    "\n",
    "Выведите отсортированный список уникальных значений столбца `genre`:"
   ]
  },
  {
   "cell_type": "code",
   "execution_count": 19,
   "metadata": {
    "id": "wvixALnFG15m",
    "scrolled": true
   },
   "outputs": [
    {
     "data": {
      "text/plain": [
       "array(['acid', 'acoustic', 'action', 'adult', 'africa', 'afrikaans',\n",
       "       'alternative', 'alternativepunk', 'ambient', 'americana',\n",
       "       'animated', 'anime', 'arabesk', 'arabic', 'arena',\n",
       "       'argentinetango', 'art', 'audiobook', 'author', 'avantgarde',\n",
       "       'axé', 'baile', 'balkan', 'beats', 'bigroom', 'black', 'bluegrass',\n",
       "       'blues', 'bollywood', 'bossa', 'brazilian', 'breakbeat', 'breaks',\n",
       "       'broadway', 'cantautori', 'cantopop', 'canzone', 'caribbean',\n",
       "       'caucasian', 'celtic', 'chamber', 'chanson', 'children', 'chill',\n",
       "       'chinese', 'choral', 'christian', 'christmas', 'classical',\n",
       "       'classicmetal', 'club', 'colombian', 'comedy', 'conjazz',\n",
       "       'contemporary', 'country', 'cuban', 'dance', 'dancehall',\n",
       "       'dancepop', 'dark', 'death', 'deep', 'deutschrock', 'deutschspr',\n",
       "       'dirty', 'disco', 'dnb', 'documentary', 'downbeat', 'downtempo',\n",
       "       'drum', 'dub', 'dubstep', 'eastern', 'easy', 'electronic',\n",
       "       'electropop', 'emo', 'entehno', 'epicmetal', 'estrada', 'ethnic',\n",
       "       'eurofolk', 'european', 'experimental', 'extrememetal', 'fado',\n",
       "       'fairytail', 'film', 'fitness', 'flamenco', 'folk', 'folklore',\n",
       "       'folkmetal', 'folkrock', 'folktronica', 'forró', 'frankreich',\n",
       "       'französisch', 'french', 'funk', 'future', 'gangsta', 'garage',\n",
       "       'german', 'ghazal', 'gitarre', 'glitch', 'gospel', 'gothic',\n",
       "       'grime', 'grunge', 'gypsy', 'handsup', \"hard'n'heavy\", 'hardcore',\n",
       "       'hardstyle', 'hardtechno', 'hiphop', 'historisch', 'holiday',\n",
       "       'horror', 'house', 'hymn', 'idm', 'independent', 'indian', 'indie',\n",
       "       'indipop', 'industrial', 'inspirational', 'instrumental',\n",
       "       'international', 'irish', 'jam', 'japanese', 'jazz', 'jewish',\n",
       "       'jpop', 'jungle', 'k-pop', 'karadeniz', 'karaoke', 'kayokyoku',\n",
       "       'korean', 'laiko', 'latin', 'latino', 'leftfield', 'local',\n",
       "       'lounge', 'loungeelectronic', 'lovers', 'malaysian', 'mandopop',\n",
       "       'marschmusik', 'meditative', 'mediterranean', 'melodic', 'metal',\n",
       "       'metalcore', 'mexican', 'middle', 'minimal', 'miscellaneous',\n",
       "       'modern', 'mood', 'mpb', 'muslim', 'native', 'neoklassik', 'neue',\n",
       "       'new', 'newage', 'newwave', 'nu', 'nujazz', 'numetal', 'oceania',\n",
       "       'old', 'opera', 'orchestral', 'other', 'piano', 'podcasts', 'pop',\n",
       "       'popdance', 'popelectronic', 'popeurodance', 'poprussian', 'post',\n",
       "       'posthardcore', 'postrock', 'power', 'progmetal', 'progressive',\n",
       "       'psychedelic', 'punjabi', 'punk', 'quebecois', 'ragga', 'ram',\n",
       "       'rancheras', 'rap', 'rave', 'reggae', 'reggaeton', 'regional',\n",
       "       'relax', 'religious', 'retro', 'rhythm', 'rnb', 'rnr', 'rock',\n",
       "       'rockabilly', 'rockalternative', 'rockindie', 'rockother',\n",
       "       'romance', 'roots', 'ruspop', 'rusrap', 'rusrock', 'russian',\n",
       "       'salsa', 'samba', 'scenic', 'schlager', 'self', 'sertanejo',\n",
       "       'shanson', 'shoegazing', 'showtunes', 'singer', 'ska', 'skarock',\n",
       "       'slow', 'smooth', 'soft', 'soul', 'soulful', 'sound', 'soundtrack',\n",
       "       'southern', 'specialty', 'speech', 'spiritual', 'sport',\n",
       "       'stonerrock', 'surf', 'swing', 'synthpop', 'synthrock',\n",
       "       'sängerportrait', 'tango', 'tanzorchester', 'taraftar', 'tatar',\n",
       "       'tech', 'techno', 'teen', 'thrash', 'top', 'traditional',\n",
       "       'tradjazz', 'trance', 'tribal', 'trip', 'triphop', 'tropical',\n",
       "       'türk', 'türkçe', 'ukrrock', 'unknown', 'urban', 'uzbek',\n",
       "       'variété', 'vi', 'videogame', 'vocal', 'western', 'world',\n",
       "       'worldbeat', 'ïîï'], dtype=object)"
      ]
     },
     "execution_count": 19,
     "metadata": {},
     "output_type": "execute_result"
    }
   ],
   "source": [
    "# Проверка на неявные дубликаты\n",
    "df = df.sort_values(by='genre')\n",
    "df['genre'].unique() "
   ]
  },
  {
   "cell_type": "markdown",
   "metadata": {
    "id": "jz6a9-7HQUDd"
   },
   "source": [
    "**Выводы**\n",
    "\n",
    "Предобработка обнаружила три проблемы в данных:\n",
    "\n",
    "- нарушения в стиле заголовков,\n",
    "- пропущенные значения,\n",
    "- дубликаты — явные и неявные.\n",
    "\n",
    "Вы исправили заголовки, чтобы упростить работу с таблицей. Без дубликатов исследование станет более точным.\n",
    "\n",
    "Пропущенные значения вы заменили на `'unknown'`. Ещё предстоит увидеть, не повредят ли исследованию пропуски в колонке `genre`.\n",
    "\n",
    "Теперь можно перейти к проверке гипотез. "
   ]
  },
  {
   "cell_type": "markdown",
   "metadata": {
    "id": "WttZHXH0SqKk"
   },
   "source": [
    "## Проверка гипотез"
   ]
  },
  {
   "cell_type": "markdown",
   "metadata": {
    "id": "Im936VVi_Zcu"
   },
   "source": [
    "### Сравнение поведения пользователей двух столиц"
   ]
  },
  {
   "cell_type": "markdown",
   "metadata": {
    "id": "nwt_MuaL_Zcu"
   },
   "source": [
    "Первая гипотеза утверждает, что пользователи по-разному слушают музыку в Москве и Санкт-Петербурге. Проверьте это предположение по данным о трёх днях недели — понедельнике, среде и пятнице. Для этого:\n",
    "\n",
    "* Разделите пользователей Москвы и Санкт-Петербурга\n",
    "* Сравните, сколько треков послушала каждая группа пользователей в понедельник, среду и пятницу.\n"
   ]
  },
  {
   "cell_type": "markdown",
   "metadata": {
    "id": "8Dw_YMmT_Zcu"
   },
   "source": [
    "Для тренировки сначала выполните каждый из расчётов по отдельности. \n",
    "\n",
    "Оцените активность пользователей в каждом городе. Сгруппируйте данные по городу и посчитайте прослушивания в каждой группе.\n",
    "\n"
   ]
  },
  {
   "cell_type": "code",
   "execution_count": 20,
   "metadata": {
    "id": "0_Qs96oh_Zcu"
   },
   "outputs": [
    {
     "data": {
      "text/plain": [
       "city\n",
       "Moscow              42741\n",
       "Saint-Petersburg    18512\n",
       "Name: user_id, dtype: int64"
      ]
     },
     "execution_count": 20,
     "metadata": {},
     "output_type": "execute_result"
    }
   ],
   "source": [
    "# Подсчёт прослушиваний в каждом городе\n",
    "df.head()\n",
    "df.groupby('city')['user_id'].count()"
   ]
  },
  {
   "cell_type": "markdown",
   "metadata": {
    "id": "dzli3w8o_Zcu"
   },
   "source": [
    "В Москве прослушиваний больше, чем в Петербурге. Из этого не следует, что московские пользователи чаще слушают музыку. Просто самих пользователей в Москве больше.\n",
    "\n",
    "Теперь сгруппируйте данные по дню недели и подсчитайте прослушивания в понедельник, среду и пятницу. Учтите, что в данных есть информация только о прослушиваниях только за эти дни.\n"
   ]
  },
  {
   "cell_type": "code",
   "execution_count": 21,
   "metadata": {
    "id": "uZMKjiJz_Zcu"
   },
   "outputs": [
    {
     "data": {
      "text/plain": [
       "day\n",
       "Friday       21840\n",
       "Monday       21354\n",
       "Wednesday    18059\n",
       "Name: user_id, dtype: int64"
      ]
     },
     "execution_count": 21,
     "metadata": {},
     "output_type": "execute_result"
    }
   ],
   "source": [
    "# Подсчёт прослушиваний в каждый из трёх дней\n",
    "df.groupby('day')['user_id'].count()"
   ]
  },
  {
   "cell_type": "code",
   "execution_count": 22,
   "metadata": {},
   "outputs": [
    {
     "data": {
      "text/plain": [
       "day        city            \n",
       "Friday     Moscow              15945\n",
       "           Saint-Petersburg     5895\n",
       "Monday     Moscow              15740\n",
       "           Saint-Petersburg     5614\n",
       "Wednesday  Moscow              11056\n",
       "           Saint-Petersburg     7003\n",
       "Name: user_id, dtype: int64"
      ]
     },
     "execution_count": 22,
     "metadata": {},
     "output_type": "execute_result"
    }
   ],
   "source": [
    "filtered_by_city_day = df.groupby(['day','city'])['user_id'].count()\n",
    "filtered_by_city_day"
   ]
  },
  {
   "cell_type": "markdown",
   "metadata": {
    "id": "cC2tNrlL_Zcu"
   },
   "source": [
    "В среднем пользователи из двух городов менее активны по средам. Но картина может измениться, если рассмотреть каждый город в отдельности."
   ]
  },
  {
   "cell_type": "markdown",
   "metadata": {
    "id": "POzs8bGa_Zcu"
   },
   "source": [
    "Вы видели, как работает группировка по городу и по дням недели. Теперь напишите функцию, которая объединит два эти расчёта.\n",
    "\n",
    "Создайте функцию `number_tracks()`, которая посчитает прослушивания для заданного дня и города. Ей понадобятся два параметра:\n",
    "* день недели,\n",
    "* название города.\n",
    "\n",
    "В функции сохраните в переменную строки исходной таблицы, у которых значение:\n",
    "  * в колонке `day` равно параметру `day`,\n",
    "  * в колонке `city` равно параметру `city`.\n",
    "\n",
    "Для этого примените последовательную фильтрацию с логической индексацией.\n",
    "\n",
    "Затем посчитайте значения в столбце `user_id` получившейся таблицы. Результат сохраните в новую переменную. Верните эту переменную из функции."
   ]
  },
  {
   "cell_type": "code",
   "execution_count": 23,
   "metadata": {},
   "outputs": [
    {
     "data": {
      "text/html": [
       "<div>\n",
       "<style scoped>\n",
       "    .dataframe tbody tr th:only-of-type {\n",
       "        vertical-align: middle;\n",
       "    }\n",
       "\n",
       "    .dataframe tbody tr th {\n",
       "        vertical-align: top;\n",
       "    }\n",
       "\n",
       "    .dataframe thead th {\n",
       "        text-align: right;\n",
       "    }\n",
       "</style>\n",
       "<table border=\"1\" class=\"dataframe\">\n",
       "  <thead>\n",
       "    <tr style=\"text-align: right;\">\n",
       "      <th></th>\n",
       "      <th>user_id</th>\n",
       "      <th>track</th>\n",
       "      <th>artist</th>\n",
       "      <th>genre</th>\n",
       "      <th>city</th>\n",
       "      <th>time</th>\n",
       "      <th>day</th>\n",
       "    </tr>\n",
       "  </thead>\n",
       "  <tbody>\n",
       "    <tr>\n",
       "      <td>31916</td>\n",
       "      <td>C40BC5DF</td>\n",
       "      <td>Shot in the Dark</td>\n",
       "      <td>Four80East</td>\n",
       "      <td>acid</td>\n",
       "      <td>Moscow</td>\n",
       "      <td>09:44:12</td>\n",
       "      <td>Friday</td>\n",
       "    </tr>\n",
       "    <tr>\n",
       "      <td>57580</td>\n",
       "      <td>23C64044</td>\n",
       "      <td>Don't Stop Me Now</td>\n",
       "      <td>Acoustic Heartstrings</td>\n",
       "      <td>acoustic</td>\n",
       "      <td>Moscow</td>\n",
       "      <td>13:30:01</td>\n",
       "      <td>Wednesday</td>\n",
       "    </tr>\n",
       "    <tr>\n",
       "      <td>3636</td>\n",
       "      <td>F10919ED</td>\n",
       "      <td>Ready For The Fire</td>\n",
       "      <td>Valley Of Wolves</td>\n",
       "      <td>acoustic</td>\n",
       "      <td>Saint-Petersburg</td>\n",
       "      <td>21:33:18</td>\n",
       "      <td>Monday</td>\n",
       "    </tr>\n",
       "    <tr>\n",
       "      <td>14611</td>\n",
       "      <td>1C7D9E90</td>\n",
       "      <td>Prelude – Ne Me Qui Te Pas</td>\n",
       "      <td>unknown</td>\n",
       "      <td>acoustic</td>\n",
       "      <td>Saint-Petersburg</td>\n",
       "      <td>21:47:42</td>\n",
       "      <td>Friday</td>\n",
       "    </tr>\n",
       "    <tr>\n",
       "      <td>20264</td>\n",
       "      <td>B02ED3AB</td>\n",
       "      <td>Ой да</td>\n",
       "      <td>unknown</td>\n",
       "      <td>acoustic</td>\n",
       "      <td>Moscow</td>\n",
       "      <td>13:31:03</td>\n",
       "      <td>Wednesday</td>\n",
       "    </tr>\n",
       "    <tr>\n",
       "      <td>37784</td>\n",
       "      <td>77D3A7D9</td>\n",
       "      <td>Ой да</td>\n",
       "      <td>unknown</td>\n",
       "      <td>acoustic</td>\n",
       "      <td>Moscow</td>\n",
       "      <td>14:27:34</td>\n",
       "      <td>Monday</td>\n",
       "    </tr>\n",
       "    <tr>\n",
       "      <td>26378</td>\n",
       "      <td>4D96EB78</td>\n",
       "      <td>Eventuality</td>\n",
       "      <td>Jack Trammell</td>\n",
       "      <td>action</td>\n",
       "      <td>Moscow</td>\n",
       "      <td>21:22:51</td>\n",
       "      <td>Monday</td>\n",
       "    </tr>\n",
       "    <tr>\n",
       "      <td>4741</td>\n",
       "      <td>A51C478B</td>\n",
       "      <td>Baba O'Riley</td>\n",
       "      <td>Jack Trammell</td>\n",
       "      <td>action</td>\n",
       "      <td>Moscow</td>\n",
       "      <td>14:36:09</td>\n",
       "      <td>Wednesday</td>\n",
       "    </tr>\n",
       "    <tr>\n",
       "      <td>12869</td>\n",
       "      <td>EED2E4E4</td>\n",
       "      <td>Rise from the Underworld</td>\n",
       "      <td>unknown</td>\n",
       "      <td>action</td>\n",
       "      <td>Moscow</td>\n",
       "      <td>21:38:38</td>\n",
       "      <td>Monday</td>\n",
       "    </tr>\n",
       "    <tr>\n",
       "      <td>9420</td>\n",
       "      <td>D3611A58</td>\n",
       "      <td>Voyager</td>\n",
       "      <td>Jo Blankenburg</td>\n",
       "      <td>action</td>\n",
       "      <td>Moscow</td>\n",
       "      <td>14:20:29</td>\n",
       "      <td>Monday</td>\n",
       "    </tr>\n",
       "    <tr>\n",
       "      <td>1471</td>\n",
       "      <td>2ED60CF7</td>\n",
       "      <td>Ball N' Chain</td>\n",
       "      <td>Big Mama Thornton</td>\n",
       "      <td>adult</td>\n",
       "      <td>Saint-Petersburg</td>\n",
       "      <td>21:55:27</td>\n",
       "      <td>Monday</td>\n",
       "    </tr>\n",
       "    <tr>\n",
       "      <td>47111</td>\n",
       "      <td>D939EE66</td>\n",
       "      <td>Perfect Rain</td>\n",
       "      <td>Curtis Walsh</td>\n",
       "      <td>adult</td>\n",
       "      <td>Saint-Petersburg</td>\n",
       "      <td>08:58:39</td>\n",
       "      <td>Monday</td>\n",
       "    </tr>\n",
       "    <tr>\n",
       "      <td>10911</td>\n",
       "      <td>74F83EA9</td>\n",
       "      <td>Look Watcha Done</td>\n",
       "      <td>Magic Sam</td>\n",
       "      <td>adult</td>\n",
       "      <td>Moscow</td>\n",
       "      <td>20:55:13</td>\n",
       "      <td>Monday</td>\n",
       "    </tr>\n",
       "    <tr>\n",
       "      <td>18251</td>\n",
       "      <td>897AAB4E</td>\n",
       "      <td>Betcha Never</td>\n",
       "      <td>Cherie</td>\n",
       "      <td>adult</td>\n",
       "      <td>Saint-Petersburg</td>\n",
       "      <td>09:30:39</td>\n",
       "      <td>Friday</td>\n",
       "    </tr>\n",
       "    <tr>\n",
       "      <td>8027</td>\n",
       "      <td>EFFBC783</td>\n",
       "      <td>Everybody Knows Shit's Fucked</td>\n",
       "      <td>Stephen Paul Taylor</td>\n",
       "      <td>adult</td>\n",
       "      <td>Moscow</td>\n",
       "      <td>13:58:19</td>\n",
       "      <td>Monday</td>\n",
       "    </tr>\n",
       "  </tbody>\n",
       "</table>\n",
       "</div>"
      ],
      "text/plain": [
       "        user_id                          track                 artist  \\\n",
       "31916  C40BC5DF               Shot in the Dark             Four80East   \n",
       "57580  23C64044              Don't Stop Me Now  Acoustic Heartstrings   \n",
       "3636   F10919ED             Ready For The Fire       Valley Of Wolves   \n",
       "14611  1C7D9E90     Prelude – Ne Me Qui Te Pas                unknown   \n",
       "20264  B02ED3AB                          Ой да                unknown   \n",
       "37784  77D3A7D9                          Ой да                unknown   \n",
       "26378  4D96EB78                    Eventuality          Jack Trammell   \n",
       "4741   A51C478B                   Baba O'Riley          Jack Trammell   \n",
       "12869  EED2E4E4       Rise from the Underworld                unknown   \n",
       "9420   D3611A58                        Voyager         Jo Blankenburg   \n",
       "1471   2ED60CF7                  Ball N' Chain      Big Mama Thornton   \n",
       "47111  D939EE66                   Perfect Rain           Curtis Walsh   \n",
       "10911  74F83EA9               Look Watcha Done              Magic Sam   \n",
       "18251  897AAB4E                   Betcha Never                 Cherie   \n",
       "8027   EFFBC783  Everybody Knows Shit's Fucked    Stephen Paul Taylor   \n",
       "\n",
       "          genre              city      time        day  \n",
       "31916      acid            Moscow  09:44:12     Friday  \n",
       "57580  acoustic            Moscow  13:30:01  Wednesday  \n",
       "3636   acoustic  Saint-Petersburg  21:33:18     Monday  \n",
       "14611  acoustic  Saint-Petersburg  21:47:42     Friday  \n",
       "20264  acoustic            Moscow  13:31:03  Wednesday  \n",
       "37784  acoustic            Moscow  14:27:34     Monday  \n",
       "26378    action            Moscow  21:22:51     Monday  \n",
       "4741     action            Moscow  14:36:09  Wednesday  \n",
       "12869    action            Moscow  21:38:38     Monday  \n",
       "9420     action            Moscow  14:20:29     Monday  \n",
       "1471      adult  Saint-Petersburg  21:55:27     Monday  \n",
       "47111     adult  Saint-Petersburg  08:58:39     Monday  \n",
       "10911     adult            Moscow  20:55:13     Monday  \n",
       "18251     adult  Saint-Petersburg  09:30:39     Friday  \n",
       "8027      adult            Moscow  13:58:19     Monday  "
      ]
     },
     "execution_count": 23,
     "metadata": {},
     "output_type": "execute_result"
    }
   ],
   "source": [
    "df.head(15)"
   ]
  },
  {
   "cell_type": "code",
   "execution_count": 24,
   "metadata": {
    "id": "Nz3GdQB1_Zcu"
   },
   "outputs": [],
   "source": [
    "# <создание функции number_tracks()>\n",
    "# Объявляется функция с двумя параметрами: day, city.    \n",
    "# В переменной track_list сохраняются те строки таблицы df, для которых \n",
    "# значение в столбце 'day' равно параметру day и одновременно значение\n",
    "# в столбце 'city' равно параметру city (используйте последовательную фильтрацию\n",
    "# с помощью логической индексации).\n",
    "# В переменной track_list_count сохраняется число значений столбца 'user_id',\n",
    "# рассчитанное методом count() для таблицы track_list.\n",
    "# Функция возвращает число - значение track_list_count.\n",
    "\n",
    "# Функция для подсчёта прослушиваний для конкретного города и дня.\n",
    "# С помощью последовательной фильтрации с логической индексацией она \n",
    "# сначала получит из исходной таблицы строки с нужным днём,\n",
    "# затем из результата отфильтрует строки с нужным городом,\n",
    "# методом count() посчитает количество значений в колонке user_id. \n",
    "# Это количество функция вернёт в качестве результата\n",
    "\n",
    "def number_tracks(day, city):\n",
    "    track_list = df[df['day'] == day]\n",
    "    track_list = track_list[track_list['city'] == city]\n",
    "    track_list_count = track_list['user_id'].count()\n",
    "    return track_list_count"
   ]
  },
  {
   "cell_type": "markdown",
   "metadata": {
    "id": "ytf7xFrFJQ2r"
   },
   "source": [
    "Вызовите `number_tracks()` шесть раз, меняя значение параметров — так, чтобы получить данные для каждого города в каждый из трёх дней."
   ]
  },
  {
   "cell_type": "code",
   "execution_count": 25,
   "metadata": {
    "id": "rJcRATNQ_Zcu"
   },
   "outputs": [
    {
     "data": {
      "text/plain": [
       "15740"
      ]
     },
     "execution_count": 25,
     "metadata": {},
     "output_type": "execute_result"
    }
   ],
   "source": [
    "number_tracks('Monday','Moscow') # количество прослушиваний в Москве по понедельникам"
   ]
  },
  {
   "cell_type": "code",
   "execution_count": 26,
   "metadata": {
    "id": "hq_ncZ5T_Zcu"
   },
   "outputs": [
    {
     "data": {
      "text/plain": [
       "5614"
      ]
     },
     "execution_count": 26,
     "metadata": {},
     "output_type": "execute_result"
    }
   ],
   "source": [
    "number_tracks('Monday','Saint-Petersburg') # количество прослушиваний в Санкт-Петербурге по понедельникам"
   ]
  },
  {
   "cell_type": "code",
   "execution_count": 27,
   "metadata": {
    "id": "_NTy2VPU_Zcu"
   },
   "outputs": [
    {
     "data": {
      "text/plain": [
       "11056"
      ]
     },
     "execution_count": 27,
     "metadata": {},
     "output_type": "execute_result"
    }
   ],
   "source": [
    "number_tracks('Wednesday','Moscow')# количество прослушиваний в Москве по средам"
   ]
  },
  {
   "cell_type": "code",
   "execution_count": 28,
   "metadata": {
    "id": "j2y3TAwo_Zcu"
   },
   "outputs": [
    {
     "data": {
      "text/plain": [
       "7003"
      ]
     },
     "execution_count": 28,
     "metadata": {},
     "output_type": "execute_result"
    }
   ],
   "source": [
    "number_tracks('Wednesday','Saint-Petersburg') # количество прослушиваний в Санкт-Петербурге по средам"
   ]
  },
  {
   "cell_type": "code",
   "execution_count": 29,
   "metadata": {
    "id": "vYDw5u_K_Zcu"
   },
   "outputs": [
    {
     "data": {
      "text/plain": [
       "15945"
      ]
     },
     "execution_count": 29,
     "metadata": {},
     "output_type": "execute_result"
    }
   ],
   "source": [
    "number_tracks('Friday','Moscow') # количество прослушиваний в Москве по пятницам"
   ]
  },
  {
   "cell_type": "code",
   "execution_count": 30,
   "metadata": {
    "id": "8_yzFtW3_Zcu"
   },
   "outputs": [
    {
     "data": {
      "text/plain": [
       "5895"
      ]
     },
     "execution_count": 30,
     "metadata": {},
     "output_type": "execute_result"
    }
   ],
   "source": [
    "number_tracks('Friday','Saint-Petersburg') # количество прослушиваний в Санкт-Петербурге по пятницам"
   ]
  },
  {
   "cell_type": "markdown",
   "metadata": {
    "id": "7QXffbO-_Zcu"
   },
   "source": [
    "Создайте c помощью конструктора `pd.DataFrame` таблицу, где\n",
    "* названия колонок — `['city', 'monday', 'wednesday', 'friday']`;\n",
    "* данные — результаты, которые вы получили с помощью `number_tracks`."
   ]
  },
  {
   "cell_type": "code",
   "execution_count": 31,
   "metadata": {},
   "outputs": [
    {
     "data": {
      "text/html": [
       "<div>\n",
       "<style scoped>\n",
       "    .dataframe tbody tr th:only-of-type {\n",
       "        vertical-align: middle;\n",
       "    }\n",
       "\n",
       "    .dataframe tbody tr th {\n",
       "        vertical-align: top;\n",
       "    }\n",
       "\n",
       "    .dataframe thead th {\n",
       "        text-align: right;\n",
       "    }\n",
       "</style>\n",
       "<table border=\"1\" class=\"dataframe\">\n",
       "  <thead>\n",
       "    <tr style=\"text-align: right;\">\n",
       "      <th></th>\n",
       "      <th>city</th>\n",
       "      <th>monday</th>\n",
       "      <th>wednesday</th>\n",
       "      <th>friday</th>\n",
       "    </tr>\n",
       "  </thead>\n",
       "  <tbody>\n",
       "    <tr>\n",
       "      <td>0</td>\n",
       "      <td>Moscow</td>\n",
       "      <td>15740</td>\n",
       "      <td>11056</td>\n",
       "      <td>15945</td>\n",
       "    </tr>\n",
       "    <tr>\n",
       "      <td>1</td>\n",
       "      <td>Saint-Petersburg</td>\n",
       "      <td>5614</td>\n",
       "      <td>7003</td>\n",
       "      <td>5895</td>\n",
       "    </tr>\n",
       "  </tbody>\n",
       "</table>\n",
       "</div>"
      ],
      "text/plain": [
       "               city  monday  wednesday  friday\n",
       "0            Moscow   15740      11056   15945\n",
       "1  Saint-Petersburg    5614       7003    5895"
      ]
     },
     "execution_count": 31,
     "metadata": {},
     "output_type": "execute_result"
    }
   ],
   "source": [
    "# Таблица с результатами\n",
    "\n",
    "columns = ['city', 'monday', 'wednesday', 'friday']\n",
    "number_tracks = [\n",
    "    ['Moscow',   15740,11056,15945],\n",
    "    ['Saint-Petersburg', 5614, 7003,5895],\n",
    "    \n",
    "   \n",
    "   \n",
    "]\n",
    "count_day_city = pd.DataFrame(data=number_tracks, columns=columns)\n",
    "count_day_city"
   ]
  },
  {
   "cell_type": "markdown",
   "metadata": {
    "id": "-EgPIHYu_Zcu"
   },
   "source": [
    "**Выводы**\n",
    "\n",
    "Данные показывают разницу поведения пользователей:\n",
    "\n",
    "- В Москве пик прослушиваний приходится на понедельник и пятницу, а в среду заметен спад.\n",
    "- В Петербурге, наоборот, больше слушают музыку по средам. Активность в понедельник и пятницу здесь почти в равной мере уступает среде.\n",
    "\n",
    "Значит, данные говорят в пользу первой гипотезы."
   ]
  },
  {
   "cell_type": "markdown",
   "metadata": {
    "id": "atZAxtq4_Zcu"
   },
   "source": [
    "### Музыка в начале и в конце недели"
   ]
  },
  {
   "cell_type": "markdown",
   "metadata": {
    "id": "eXrQqXFH_Zcu"
   },
   "source": [
    "Согласно второй гипотезе, утром в понедельник в Москве преобладают одни жанры, а в Петербурге — другие. Так же и вечером пятницы преобладают разные жанры — в зависимости от города."
   ]
  },
  {
   "cell_type": "markdown",
   "metadata": {
    "id": "S8UcW6Hw_Zcu"
   },
   "source": [
    "Сохраните таблицы с данными в две переменные:\n",
    "* по Москве — в `moscow_general`;\n",
    "* по Санкт-Петербургу — в `spb_general`."
   ]
  },
  {
   "cell_type": "code",
   "execution_count": 32,
   "metadata": {
    "id": "qeaFfM_P_Zcu"
   },
   "outputs": [
    {
     "data": {
      "text/html": [
       "<div>\n",
       "<style scoped>\n",
       "    .dataframe tbody tr th:only-of-type {\n",
       "        vertical-align: middle;\n",
       "    }\n",
       "\n",
       "    .dataframe tbody tr th {\n",
       "        vertical-align: top;\n",
       "    }\n",
       "\n",
       "    .dataframe thead th {\n",
       "        text-align: right;\n",
       "    }\n",
       "</style>\n",
       "<table border=\"1\" class=\"dataframe\">\n",
       "  <thead>\n",
       "    <tr style=\"text-align: right;\">\n",
       "      <th></th>\n",
       "      <th>user_id</th>\n",
       "      <th>track</th>\n",
       "      <th>artist</th>\n",
       "      <th>genre</th>\n",
       "      <th>city</th>\n",
       "      <th>time</th>\n",
       "      <th>day</th>\n",
       "    </tr>\n",
       "  </thead>\n",
       "  <tbody>\n",
       "    <tr>\n",
       "      <td>31916</td>\n",
       "      <td>C40BC5DF</td>\n",
       "      <td>Shot in the Dark</td>\n",
       "      <td>Four80East</td>\n",
       "      <td>acid</td>\n",
       "      <td>Moscow</td>\n",
       "      <td>09:44:12</td>\n",
       "      <td>Friday</td>\n",
       "    </tr>\n",
       "    <tr>\n",
       "      <td>57580</td>\n",
       "      <td>23C64044</td>\n",
       "      <td>Don't Stop Me Now</td>\n",
       "      <td>Acoustic Heartstrings</td>\n",
       "      <td>acoustic</td>\n",
       "      <td>Moscow</td>\n",
       "      <td>13:30:01</td>\n",
       "      <td>Wednesday</td>\n",
       "    </tr>\n",
       "    <tr>\n",
       "      <td>20264</td>\n",
       "      <td>B02ED3AB</td>\n",
       "      <td>Ой да</td>\n",
       "      <td>unknown</td>\n",
       "      <td>acoustic</td>\n",
       "      <td>Moscow</td>\n",
       "      <td>13:31:03</td>\n",
       "      <td>Wednesday</td>\n",
       "    </tr>\n",
       "    <tr>\n",
       "      <td>37784</td>\n",
       "      <td>77D3A7D9</td>\n",
       "      <td>Ой да</td>\n",
       "      <td>unknown</td>\n",
       "      <td>acoustic</td>\n",
       "      <td>Moscow</td>\n",
       "      <td>14:27:34</td>\n",
       "      <td>Monday</td>\n",
       "    </tr>\n",
       "    <tr>\n",
       "      <td>26378</td>\n",
       "      <td>4D96EB78</td>\n",
       "      <td>Eventuality</td>\n",
       "      <td>Jack Trammell</td>\n",
       "      <td>action</td>\n",
       "      <td>Moscow</td>\n",
       "      <td>21:22:51</td>\n",
       "      <td>Monday</td>\n",
       "    </tr>\n",
       "    <tr>\n",
       "      <td>...</td>\n",
       "      <td>...</td>\n",
       "      <td>...</td>\n",
       "      <td>...</td>\n",
       "      <td>...</td>\n",
       "      <td>...</td>\n",
       "      <td>...</td>\n",
       "      <td>...</td>\n",
       "    </tr>\n",
       "    <tr>\n",
       "      <td>43372</td>\n",
       "      <td>F2E84829</td>\n",
       "      <td>Now Go! Robot Army (Grendizer Getter Robo G Gr...</td>\n",
       "      <td>Isao Sasaki</td>\n",
       "      <td>world</td>\n",
       "      <td>Moscow</td>\n",
       "      <td>13:38:28</td>\n",
       "      <td>Wednesday</td>\n",
       "    </tr>\n",
       "    <tr>\n",
       "      <td>10284</td>\n",
       "      <td>AB0FF998</td>\n",
       "      <td>Guru Ram Das Meditation</td>\n",
       "      <td>Ajeet Kaur</td>\n",
       "      <td>world</td>\n",
       "      <td>Moscow</td>\n",
       "      <td>20:03:08</td>\n",
       "      <td>Wednesday</td>\n",
       "    </tr>\n",
       "    <tr>\n",
       "      <td>47203</td>\n",
       "      <td>5708E27D</td>\n",
       "      <td>Rammstein</td>\n",
       "      <td>Jarek Adamów</td>\n",
       "      <td>world</td>\n",
       "      <td>Moscow</td>\n",
       "      <td>21:34:13</td>\n",
       "      <td>Wednesday</td>\n",
       "    </tr>\n",
       "    <tr>\n",
       "      <td>27939</td>\n",
       "      <td>D7FB50DA</td>\n",
       "      <td>Drumming Circle</td>\n",
       "      <td>Professor Trance</td>\n",
       "      <td>worldbeat</td>\n",
       "      <td>Moscow</td>\n",
       "      <td>09:30:47</td>\n",
       "      <td>Monday</td>\n",
       "    </tr>\n",
       "    <tr>\n",
       "      <td>8448</td>\n",
       "      <td>A439123F</td>\n",
       "      <td>Flip It</td>\n",
       "      <td>unknown</td>\n",
       "      <td>ïîï</td>\n",
       "      <td>Moscow</td>\n",
       "      <td>09:08:51</td>\n",
       "      <td>Friday</td>\n",
       "    </tr>\n",
       "  </tbody>\n",
       "</table>\n",
       "<p>42741 rows × 7 columns</p>\n",
       "</div>"
      ],
      "text/plain": [
       "        user_id                                              track  \\\n",
       "31916  C40BC5DF                                   Shot in the Dark   \n",
       "57580  23C64044                                  Don't Stop Me Now   \n",
       "20264  B02ED3AB                                              Ой да   \n",
       "37784  77D3A7D9                                              Ой да   \n",
       "26378  4D96EB78                                        Eventuality   \n",
       "...         ...                                                ...   \n",
       "43372  F2E84829  Now Go! Robot Army (Grendizer Getter Robo G Gr...   \n",
       "10284  AB0FF998                            Guru Ram Das Meditation   \n",
       "47203  5708E27D                                          Rammstein   \n",
       "27939  D7FB50DA                                    Drumming Circle   \n",
       "8448   A439123F                                            Flip It   \n",
       "\n",
       "                      artist      genre    city      time        day  \n",
       "31916             Four80East       acid  Moscow  09:44:12     Friday  \n",
       "57580  Acoustic Heartstrings   acoustic  Moscow  13:30:01  Wednesday  \n",
       "20264                unknown   acoustic  Moscow  13:31:03  Wednesday  \n",
       "37784                unknown   acoustic  Moscow  14:27:34     Monday  \n",
       "26378          Jack Trammell     action  Moscow  21:22:51     Monday  \n",
       "...                      ...        ...     ...       ...        ...  \n",
       "43372            Isao Sasaki      world  Moscow  13:38:28  Wednesday  \n",
       "10284             Ajeet Kaur      world  Moscow  20:03:08  Wednesday  \n",
       "47203           Jarek Adamów      world  Moscow  21:34:13  Wednesday  \n",
       "27939       Professor Trance  worldbeat  Moscow  09:30:47     Monday  \n",
       "8448                 unknown        ïîï  Moscow  09:08:51     Friday  \n",
       "\n",
       "[42741 rows x 7 columns]"
      ]
     },
     "execution_count": 32,
     "metadata": {},
     "output_type": "execute_result"
    }
   ],
   "source": [
    "# получение таблицы moscow_general из тех строк таблицы df, \n",
    "# для которых значение в столбце 'city' равно 'Moscow'\n",
    "moscow_general=df[df['city'] == 'Moscow']\n",
    "moscow_general"
   ]
  },
  {
   "cell_type": "code",
   "execution_count": 33,
   "metadata": {
    "id": "ORaVRKto_Zcu"
   },
   "outputs": [
    {
     "data": {
      "text/html": [
       "<div>\n",
       "<style scoped>\n",
       "    .dataframe tbody tr th:only-of-type {\n",
       "        vertical-align: middle;\n",
       "    }\n",
       "\n",
       "    .dataframe tbody tr th {\n",
       "        vertical-align: top;\n",
       "    }\n",
       "\n",
       "    .dataframe thead th {\n",
       "        text-align: right;\n",
       "    }\n",
       "</style>\n",
       "<table border=\"1\" class=\"dataframe\">\n",
       "  <thead>\n",
       "    <tr style=\"text-align: right;\">\n",
       "      <th></th>\n",
       "      <th>user_id</th>\n",
       "      <th>track</th>\n",
       "      <th>artist</th>\n",
       "      <th>genre</th>\n",
       "      <th>city</th>\n",
       "      <th>time</th>\n",
       "      <th>day</th>\n",
       "    </tr>\n",
       "  </thead>\n",
       "  <tbody>\n",
       "    <tr>\n",
       "      <td>3636</td>\n",
       "      <td>F10919ED</td>\n",
       "      <td>Ready For The Fire</td>\n",
       "      <td>Valley Of Wolves</td>\n",
       "      <td>acoustic</td>\n",
       "      <td>Saint-Petersburg</td>\n",
       "      <td>21:33:18</td>\n",
       "      <td>Monday</td>\n",
       "    </tr>\n",
       "    <tr>\n",
       "      <td>14611</td>\n",
       "      <td>1C7D9E90</td>\n",
       "      <td>Prelude – Ne Me Qui Te Pas</td>\n",
       "      <td>unknown</td>\n",
       "      <td>acoustic</td>\n",
       "      <td>Saint-Petersburg</td>\n",
       "      <td>21:47:42</td>\n",
       "      <td>Friday</td>\n",
       "    </tr>\n",
       "    <tr>\n",
       "      <td>1471</td>\n",
       "      <td>2ED60CF7</td>\n",
       "      <td>Ball N' Chain</td>\n",
       "      <td>Big Mama Thornton</td>\n",
       "      <td>adult</td>\n",
       "      <td>Saint-Petersburg</td>\n",
       "      <td>21:55:27</td>\n",
       "      <td>Monday</td>\n",
       "    </tr>\n",
       "    <tr>\n",
       "      <td>47111</td>\n",
       "      <td>D939EE66</td>\n",
       "      <td>Perfect Rain</td>\n",
       "      <td>Curtis Walsh</td>\n",
       "      <td>adult</td>\n",
       "      <td>Saint-Petersburg</td>\n",
       "      <td>08:58:39</td>\n",
       "      <td>Monday</td>\n",
       "    </tr>\n",
       "    <tr>\n",
       "      <td>18251</td>\n",
       "      <td>897AAB4E</td>\n",
       "      <td>Betcha Never</td>\n",
       "      <td>Cherie</td>\n",
       "      <td>adult</td>\n",
       "      <td>Saint-Petersburg</td>\n",
       "      <td>09:30:39</td>\n",
       "      <td>Friday</td>\n",
       "    </tr>\n",
       "    <tr>\n",
       "      <td>...</td>\n",
       "      <td>...</td>\n",
       "      <td>...</td>\n",
       "      <td>...</td>\n",
       "      <td>...</td>\n",
       "      <td>...</td>\n",
       "      <td>...</td>\n",
       "      <td>...</td>\n",
       "    </tr>\n",
       "    <tr>\n",
       "      <td>50620</td>\n",
       "      <td>4D0EF935</td>\n",
       "      <td>Fraser's Jig</td>\n",
       "      <td>Arany Zoltán</td>\n",
       "      <td>world</td>\n",
       "      <td>Saint-Petersburg</td>\n",
       "      <td>08:37:52</td>\n",
       "      <td>Wednesday</td>\n",
       "    </tr>\n",
       "    <tr>\n",
       "      <td>57900</td>\n",
       "      <td>F560DDDF</td>\n",
       "      <td>Imidiwan</td>\n",
       "      <td>Bombino</td>\n",
       "      <td>world</td>\n",
       "      <td>Saint-Petersburg</td>\n",
       "      <td>14:55:06</td>\n",
       "      <td>Wednesday</td>\n",
       "    </tr>\n",
       "    <tr>\n",
       "      <td>16253</td>\n",
       "      <td>FAF7BEE6</td>\n",
       "      <td>Smoke gets in your eyes</td>\n",
       "      <td>Jazz Orchestra</td>\n",
       "      <td>world</td>\n",
       "      <td>Saint-Petersburg</td>\n",
       "      <td>09:00:50</td>\n",
       "      <td>Monday</td>\n",
       "    </tr>\n",
       "    <tr>\n",
       "      <td>31320</td>\n",
       "      <td>BAE60B63</td>\n",
       "      <td>Next to Me</td>\n",
       "      <td>Jaçie</td>\n",
       "      <td>world</td>\n",
       "      <td>Saint-Petersburg</td>\n",
       "      <td>09:19:07</td>\n",
       "      <td>Friday</td>\n",
       "    </tr>\n",
       "    <tr>\n",
       "      <td>39063</td>\n",
       "      <td>AA1730E8</td>\n",
       "      <td>Anu</td>\n",
       "      <td>Kailash Kokopelli</td>\n",
       "      <td>worldbeat</td>\n",
       "      <td>Saint-Petersburg</td>\n",
       "      <td>20:16:34</td>\n",
       "      <td>Wednesday</td>\n",
       "    </tr>\n",
       "  </tbody>\n",
       "</table>\n",
       "<p>18512 rows × 7 columns</p>\n",
       "</div>"
      ],
      "text/plain": [
       "        user_id                       track             artist      genre  \\\n",
       "3636   F10919ED          Ready For The Fire   Valley Of Wolves   acoustic   \n",
       "14611  1C7D9E90  Prelude – Ne Me Qui Te Pas            unknown   acoustic   \n",
       "1471   2ED60CF7               Ball N' Chain  Big Mama Thornton      adult   \n",
       "47111  D939EE66                Perfect Rain       Curtis Walsh      adult   \n",
       "18251  897AAB4E                Betcha Never             Cherie      adult   \n",
       "...         ...                         ...                ...        ...   \n",
       "50620  4D0EF935                Fraser's Jig       Arany Zoltán      world   \n",
       "57900  F560DDDF                    Imidiwan            Bombino      world   \n",
       "16253  FAF7BEE6     Smoke gets in your eyes     Jazz Orchestra      world   \n",
       "31320  BAE60B63                  Next to Me              Jaçie      world   \n",
       "39063  AA1730E8                         Anu  Kailash Kokopelli  worldbeat   \n",
       "\n",
       "                   city      time        day  \n",
       "3636   Saint-Petersburg  21:33:18     Monday  \n",
       "14611  Saint-Petersburg  21:47:42     Friday  \n",
       "1471   Saint-Petersburg  21:55:27     Monday  \n",
       "47111  Saint-Petersburg  08:58:39     Monday  \n",
       "18251  Saint-Petersburg  09:30:39     Friday  \n",
       "...                 ...       ...        ...  \n",
       "50620  Saint-Petersburg  08:37:52  Wednesday  \n",
       "57900  Saint-Petersburg  14:55:06  Wednesday  \n",
       "16253  Saint-Petersburg  09:00:50     Monday  \n",
       "31320  Saint-Petersburg  09:19:07     Friday  \n",
       "39063  Saint-Petersburg  20:16:34  Wednesday  \n",
       "\n",
       "[18512 rows x 7 columns]"
      ]
     },
     "execution_count": 33,
     "metadata": {},
     "output_type": "execute_result"
    }
   ],
   "source": [
    "# получение таблицы spb_general из тех строк таблицы df,\n",
    "# для которых значение в столбце 'city' равно 'Saint-Petersburg'\n",
    "spb_general=df[df['city'] == 'Saint-Petersburg']\n",
    "spb_general"
   ]
  },
  {
   "cell_type": "markdown",
   "metadata": {
    "id": "MEJV-CX2_Zcu"
   },
   "source": [
    "Создайте функцию `genre_weekday()` с четырьмя параметрами:\n",
    "* таблица (датафрейм) с данными,\n",
    "* день недели,\n",
    "* начальная временная метка в формате 'hh:mm', \n",
    "* последняя временная метка в формате 'hh:mm'.\n",
    "\n",
    "Функция должна вернуть информацию о топ-10 жанров тех треков, которые прослушивали в указанный день, в промежутке между двумя отметками времени."
   ]
  },
  {
   "cell_type": "code",
   "execution_count": 34,
   "metadata": {},
   "outputs": [
    {
     "data": {
      "text/html": [
       "<div>\n",
       "<style scoped>\n",
       "    .dataframe tbody tr th:only-of-type {\n",
       "        vertical-align: middle;\n",
       "    }\n",
       "\n",
       "    .dataframe tbody tr th {\n",
       "        vertical-align: top;\n",
       "    }\n",
       "\n",
       "    .dataframe thead th {\n",
       "        text-align: right;\n",
       "    }\n",
       "</style>\n",
       "<table border=\"1\" class=\"dataframe\">\n",
       "  <thead>\n",
       "    <tr style=\"text-align: right;\">\n",
       "      <th></th>\n",
       "      <th>user_id</th>\n",
       "      <th>track</th>\n",
       "      <th>artist</th>\n",
       "      <th>genre</th>\n",
       "      <th>city</th>\n",
       "      <th>time</th>\n",
       "      <th>day</th>\n",
       "    </tr>\n",
       "  </thead>\n",
       "  <tbody>\n",
       "    <tr>\n",
       "      <td>31916</td>\n",
       "      <td>C40BC5DF</td>\n",
       "      <td>Shot in the Dark</td>\n",
       "      <td>Four80East</td>\n",
       "      <td>acid</td>\n",
       "      <td>Moscow</td>\n",
       "      <td>09:44:12</td>\n",
       "      <td>Friday</td>\n",
       "    </tr>\n",
       "    <tr>\n",
       "      <td>57580</td>\n",
       "      <td>23C64044</td>\n",
       "      <td>Don't Stop Me Now</td>\n",
       "      <td>Acoustic Heartstrings</td>\n",
       "      <td>acoustic</td>\n",
       "      <td>Moscow</td>\n",
       "      <td>13:30:01</td>\n",
       "      <td>Wednesday</td>\n",
       "    </tr>\n",
       "    <tr>\n",
       "      <td>3636</td>\n",
       "      <td>F10919ED</td>\n",
       "      <td>Ready For The Fire</td>\n",
       "      <td>Valley Of Wolves</td>\n",
       "      <td>acoustic</td>\n",
       "      <td>Saint-Petersburg</td>\n",
       "      <td>21:33:18</td>\n",
       "      <td>Monday</td>\n",
       "    </tr>\n",
       "    <tr>\n",
       "      <td>14611</td>\n",
       "      <td>1C7D9E90</td>\n",
       "      <td>Prelude – Ne Me Qui Te Pas</td>\n",
       "      <td>unknown</td>\n",
       "      <td>acoustic</td>\n",
       "      <td>Saint-Petersburg</td>\n",
       "      <td>21:47:42</td>\n",
       "      <td>Friday</td>\n",
       "    </tr>\n",
       "    <tr>\n",
       "      <td>20264</td>\n",
       "      <td>B02ED3AB</td>\n",
       "      <td>Ой да</td>\n",
       "      <td>unknown</td>\n",
       "      <td>acoustic</td>\n",
       "      <td>Moscow</td>\n",
       "      <td>13:31:03</td>\n",
       "      <td>Wednesday</td>\n",
       "    </tr>\n",
       "    <tr>\n",
       "      <td>...</td>\n",
       "      <td>...</td>\n",
       "      <td>...</td>\n",
       "      <td>...</td>\n",
       "      <td>...</td>\n",
       "      <td>...</td>\n",
       "      <td>...</td>\n",
       "      <td>...</td>\n",
       "    </tr>\n",
       "    <tr>\n",
       "      <td>47203</td>\n",
       "      <td>5708E27D</td>\n",
       "      <td>Rammstein</td>\n",
       "      <td>Jarek Adamów</td>\n",
       "      <td>world</td>\n",
       "      <td>Moscow</td>\n",
       "      <td>21:34:13</td>\n",
       "      <td>Wednesday</td>\n",
       "    </tr>\n",
       "    <tr>\n",
       "      <td>31320</td>\n",
       "      <td>BAE60B63</td>\n",
       "      <td>Next to Me</td>\n",
       "      <td>Jaçie</td>\n",
       "      <td>world</td>\n",
       "      <td>Saint-Petersburg</td>\n",
       "      <td>09:19:07</td>\n",
       "      <td>Friday</td>\n",
       "    </tr>\n",
       "    <tr>\n",
       "      <td>39063</td>\n",
       "      <td>AA1730E8</td>\n",
       "      <td>Anu</td>\n",
       "      <td>Kailash Kokopelli</td>\n",
       "      <td>worldbeat</td>\n",
       "      <td>Saint-Petersburg</td>\n",
       "      <td>20:16:34</td>\n",
       "      <td>Wednesday</td>\n",
       "    </tr>\n",
       "    <tr>\n",
       "      <td>27939</td>\n",
       "      <td>D7FB50DA</td>\n",
       "      <td>Drumming Circle</td>\n",
       "      <td>Professor Trance</td>\n",
       "      <td>worldbeat</td>\n",
       "      <td>Moscow</td>\n",
       "      <td>09:30:47</td>\n",
       "      <td>Monday</td>\n",
       "    </tr>\n",
       "    <tr>\n",
       "      <td>8448</td>\n",
       "      <td>A439123F</td>\n",
       "      <td>Flip It</td>\n",
       "      <td>unknown</td>\n",
       "      <td>ïîï</td>\n",
       "      <td>Moscow</td>\n",
       "      <td>09:08:51</td>\n",
       "      <td>Friday</td>\n",
       "    </tr>\n",
       "  </tbody>\n",
       "</table>\n",
       "<p>61253 rows × 7 columns</p>\n",
       "</div>"
      ],
      "text/plain": [
       "        user_id                       track                 artist      genre  \\\n",
       "31916  C40BC5DF            Shot in the Dark             Four80East       acid   \n",
       "57580  23C64044           Don't Stop Me Now  Acoustic Heartstrings   acoustic   \n",
       "3636   F10919ED          Ready For The Fire       Valley Of Wolves   acoustic   \n",
       "14611  1C7D9E90  Prelude – Ne Me Qui Te Pas                unknown   acoustic   \n",
       "20264  B02ED3AB                       Ой да                unknown   acoustic   \n",
       "...         ...                         ...                    ...        ...   \n",
       "47203  5708E27D                   Rammstein           Jarek Adamów      world   \n",
       "31320  BAE60B63                  Next to Me                  Jaçie      world   \n",
       "39063  AA1730E8                         Anu      Kailash Kokopelli  worldbeat   \n",
       "27939  D7FB50DA             Drumming Circle       Professor Trance  worldbeat   \n",
       "8448   A439123F                     Flip It                unknown        ïîï   \n",
       "\n",
       "                   city      time        day  \n",
       "31916            Moscow  09:44:12     Friday  \n",
       "57580            Moscow  13:30:01  Wednesday  \n",
       "3636   Saint-Petersburg  21:33:18     Monday  \n",
       "14611  Saint-Petersburg  21:47:42     Friday  \n",
       "20264            Moscow  13:31:03  Wednesday  \n",
       "...                 ...       ...        ...  \n",
       "47203            Moscow  21:34:13  Wednesday  \n",
       "31320  Saint-Petersburg  09:19:07     Friday  \n",
       "39063  Saint-Petersburg  20:16:34  Wednesday  \n",
       "27939            Moscow  09:30:47     Monday  \n",
       "8448             Moscow  09:08:51     Friday  \n",
       "\n",
       "[61253 rows x 7 columns]"
      ]
     },
     "execution_count": 34,
     "metadata": {},
     "output_type": "execute_result"
    }
   ],
   "source": [
    "df"
   ]
  },
  {
   "cell_type": "code",
   "execution_count": 35,
   "metadata": {
    "id": "laJT9BYl_Zcu"
   },
   "outputs": [],
   "source": [
    "# Объявление функции genre_weekday() с параметрами table, day, time1, time2,\n",
    "# которая возвращает информацию о самых популярных жанрах в указанный день в\n",
    "# заданное время:\n",
    "# 1) в переменную genre_df сохраняются те строки переданного датафрейма table, для\n",
    "#    которых одновременно:\n",
    "#    - значение в столбце day равно значению аргумента day\n",
    "#    - значение в столбце time больше значения аргумента time1\n",
    "#    - значение в столбце time меньше значения аргумента time2\n",
    "#    Используйте последовательную фильтрацию с помощью логической индексации.\n",
    "# 2) сгруппировать датафрейм genre_df по столбцу genre, взять один из его\n",
    "#    столбцов и посчитать методом count() количество записей для каждого из\n",
    "#    присутствующих жанров, получившийся Series записать в переменную\n",
    "#    genre_df_count\n",
    "# 3) отсортировать genre_df_count по убыванию встречаемости и сохранить\n",
    "#    в переменную genre_df_sorted\n",
    "# 4) вернуть Series из 10 первых значений genre_df_sorted, это будут топ-10\n",
    "#    популярных жанров (в указанный день, в заданное время)\n",
    "\n",
    "def genre_weekday(table, day, time1, time2):\n",
    "    genre_df = table[table['day'] == day]\n",
    "    genre_df = genre_df[genre_df['time'] > time1]\n",
    "    genre_df = genre_df[genre_df['time'] < time2]\n",
    "    genre_df_count = genre_df.groupby('genre')['user_id'].count()\n",
    "    genre_df_sorted = genre_df_count.sort_values(ascending=False)\n",
    "    return genre_df_sorted.head(10)"
   ]
  },
  {
   "cell_type": "markdown",
   "metadata": {
    "id": "la2s2_PF_Zcu"
   },
   "source": [
    "Cравните результаты функции `genre_weekday()` для Москвы и Санкт-Петербурга в понедельник утром (с 7:00 до 11:00) и в пятницу вечером (с 17:00 до 23:00):"
   ]
  },
  {
   "cell_type": "code",
   "execution_count": 36,
   "metadata": {
    "id": "yz7itPUQ_Zcu"
   },
   "outputs": [
    {
     "data": {
      "text/plain": [
       "genre\n",
       "pop            781\n",
       "electronic     762\n",
       "dance          549\n",
       "rock           474\n",
       "ruspop         186\n",
       "world          181\n",
       "rusrap         175\n",
       "alternative    164\n",
       "unknown        161\n",
       "classical      157\n",
       "Name: user_id, dtype: int64"
      ]
     },
     "execution_count": 36,
     "metadata": {},
     "output_type": "execute_result"
    }
   ],
   "source": [
    "# вызов функции для утра понедельника в Москве (вместо df — таблица moscow_general)\n",
    "# объекты, хранящие время, являются строками и сравниваются как строки\n",
    "# пример вызова: genre_weekday(moscow_general, 'Monday', '07:00', '11:00')\n",
    "genre_weekday(moscow_general, 'Monday', '07:00', '11:00')"
   ]
  },
  {
   "cell_type": "code",
   "execution_count": 37,
   "metadata": {
    "id": "kwUcHPdy_Zcu"
   },
   "outputs": [
    {
     "data": {
      "text/plain": [
       "genre\n",
       "electronic     226\n",
       "pop            218\n",
       "dance          182\n",
       "rock           162\n",
       "ruspop          64\n",
       "alternative     58\n",
       "rusrap          55\n",
       "jazz            44\n",
       "classical       40\n",
       "world           36\n",
       "Name: user_id, dtype: int64"
      ]
     },
     "execution_count": 37,
     "metadata": {},
     "output_type": "execute_result"
    }
   ],
   "source": [
    "# вызов функции для утра понедельника в Петербурге (вместо df — таблица spb_general)\n",
    "genre_weekday(spb_general, 'Monday', '07:00', '11:00')"
   ]
  },
  {
   "cell_type": "code",
   "execution_count": 38,
   "metadata": {
    "id": "EzXVRE1o_Zcu"
   },
   "outputs": [
    {
     "data": {
      "text/plain": [
       "genre\n",
       "electronic     749\n",
       "pop            713\n",
       "rock           517\n",
       "dance          495\n",
       "world          208\n",
       "ruspop         170\n",
       "alternative    163\n",
       "classical      163\n",
       "rusrap         142\n",
       "jazz           111\n",
       "Name: user_id, dtype: int64"
      ]
     },
     "execution_count": 38,
     "metadata": {},
     "output_type": "execute_result"
    }
   ],
   "source": [
    "# вызов функции для вечера пятницы в Москве\n",
    "genre_weekday(moscow_general, 'Friday', '17:00', '23:00')"
   ]
  },
  {
   "cell_type": "code",
   "execution_count": 39,
   "metadata": {
    "id": "JZaEKu5v_Zcu"
   },
   "outputs": [
    {
     "data": {
      "text/plain": [
       "genre\n",
       "electronic     310\n",
       "pop            256\n",
       "rock           216\n",
       "dance          210\n",
       "alternative     63\n",
       "jazz            61\n",
       "classical       60\n",
       "rusrap          59\n",
       "world           54\n",
       "ruspop          47\n",
       "Name: user_id, dtype: int64"
      ]
     },
     "execution_count": 39,
     "metadata": {},
     "output_type": "execute_result"
    }
   ],
   "source": [
    "# вызов функции для вечера пятницы в Петербурге\n",
    "genre_weekday(spb_general, 'Friday', '17:00', '23:00')"
   ]
  },
  {
   "cell_type": "markdown",
   "metadata": {
    "id": "wrCe4MNX_Zcu"
   },
   "source": [
    "**Выводы**\n",
    "\n",
    "Если сравнить топ-10 жанров в понедельник утром, можно сделать такие выводы:\n",
    "\n",
    "1. В Москве и Петербурге слушают похожую музыку. Единственное отличие — в московский рейтинг вошёл жанр “world”, а в петербургский — джаз и классика.\n",
    "\n",
    "2. В Москве пропущенных значений оказалось так много, что значение `'unknown'` заняло десятое место среди самых популярных жанров. Значит, пропущенные значения занимают существенную долю в данных и угрожают достоверности исследования.\n",
    "\n",
    "Вечер пятницы не меняет эту картину. Некоторые жанры поднимаются немного выше, другие спускаются, но в целом топ-10 остаётся тем же самым.\n",
    "\n",
    "Таким образом, вторая гипотеза подтвердилась лишь частично:\n",
    "* Пользователи слушают похожую музыку в начале недели и в конце.\n",
    "* Разница между Москвой и Петербургом не слишком выражена. В Москве чаще слушают русскую популярную музыку, в Петербурге — джаз.\n",
    "\n",
    "Однако пропуски в данных ставят под сомнение этот результат. В Москве их так много, что рейтинг топ-10 мог бы выглядеть иначе, если бы не утерянные  данные о жанрах."
   ]
  },
  {
   "cell_type": "markdown",
   "metadata": {
    "id": "JolODAqr_Zcu"
   },
   "source": [
    "### Жанровые предпочтения в Москве и Петербурге\n",
    "\n",
    "Гипотеза: Петербург — столица рэпа, музыку этого жанра там слушают чаще, чем в Москве.  А Москва — город контрастов, в котором, тем не менее, преобладает поп-музыка."
   ]
  },
  {
   "cell_type": "markdown",
   "metadata": {
    "id": "DlegSvaT_Zcu"
   },
   "source": [
    "Сгруппируйте таблицу `moscow_general` по жанру и посчитайте прослушивания треков каждого жанра методом `count()`. Затем отсортируйте результат в порядке убывания и сохраните его в таблице `moscow_genres`."
   ]
  },
  {
   "cell_type": "code",
   "execution_count": 40,
   "metadata": {
    "id": "r19lIPke_Zcu"
   },
   "outputs": [],
   "source": [
    "# одной строкой: группировка таблицы moscow_general по столбцу 'genre', \n",
    "# подсчёт числа значений 'genre' в этой группировке методом count(), \n",
    "# сортировка получившегося Series в порядке убывания и сохранение в moscow_genres\n",
    "moscow_genres=moscow_general.groupby('genre')['user_id'].count().sort_values(ascending=False)\n"
   ]
  },
  {
   "cell_type": "markdown",
   "metadata": {
    "id": "6kMuomxTiIr8"
   },
   "source": [
    "Выведите на экран первые десять строк `moscow_genres`:"
   ]
  },
  {
   "cell_type": "code",
   "execution_count": 41,
   "metadata": {
    "id": "WhCSooF8_Zcv"
   },
   "outputs": [
    {
     "data": {
      "text/plain": [
       "genre\n",
       "pop            5892\n",
       "electronic     5829\n",
       "dance          4435\n",
       "rock           3965\n",
       "classical      1616\n",
       "world          1432\n",
       "alternative    1379\n",
       "ruspop         1372\n",
       "rusrap         1161\n",
       "jazz            980\n",
       "Name: user_id, dtype: int64"
      ]
     },
     "execution_count": 41,
     "metadata": {},
     "output_type": "execute_result"
    }
   ],
   "source": [
    "# просмотр первых 10 строк moscow_genres\n",
    "moscow_genres.head(10)"
   ]
  },
  {
   "cell_type": "markdown",
   "metadata": {
    "id": "cnPG2vnN_Zcv"
   },
   "source": [
    "Теперь повторите то же и для Петербурга.\n",
    "\n",
    "Сгруппируйте таблицу `spb_general` по жанру. Посчитайте прослушивания треков каждого жанра. Результат отсортируйте в порядке убывания и сохраните в таблице `spb_genres`:\n"
   ]
  },
  {
   "cell_type": "code",
   "execution_count": 42,
   "metadata": {
    "id": "gluLIpE7_Zcv"
   },
   "outputs": [],
   "source": [
    "# одной строкой: группировка таблицы spb_general по столбцу 'genre', \n",
    "# подсчёт числа значений 'genre' в этой группировке методом count(), \n",
    "# сортировка получившегося Series в порядке убывания и сохранение в spb_genres\n",
    "spb_genres=spb_general.groupby('genre')['user_id'].count().sort_values(ascending=False)"
   ]
  },
  {
   "cell_type": "markdown",
   "metadata": {
    "id": "5Doha_ODgyQ8"
   },
   "source": [
    "Выведите на экран первые десять строк `spb_genres`:"
   ]
  },
  {
   "cell_type": "code",
   "execution_count": 43,
   "metadata": {
    "id": "uaGJHjVU_Zcv"
   },
   "outputs": [
    {
     "data": {
      "text/plain": [
       "genre\n",
       "electronic     2671\n",
       "pop            2431\n",
       "dance          1932\n",
       "rock           1879\n",
       "alternative     649\n",
       "classical       646\n",
       "rusrap          564\n",
       "ruspop          538\n",
       "world           515\n",
       "jazz            486\n",
       "Name: user_id, dtype: int64"
      ]
     },
     "execution_count": 43,
     "metadata": {},
     "output_type": "execute_result"
    }
   ],
   "source": [
    "# просмотр первых 10 строк spb_genres\n",
    "spb_genres.head(10)"
   ]
  },
  {
   "cell_type": "markdown",
   "metadata": {
    "id": "RY51YJYu_Zcv"
   },
   "source": [
    "**Выводы**"
   ]
  },
  {
   "cell_type": "markdown",
   "metadata": {
    "id": "nVhnJEm__Zcv"
   },
   "source": [
    "Гипотеза частично подтвердилась:\n",
    "* Поп-музыка — самый популярный жанр в Москве, как и предполагала гипотеза. Более того, в топ-10 жанров встречается близкий жанр — русская популярная музыка.\n",
    "* Вопреки ожиданиям, рэп одинаково популярен в Москве и Петербурге. \n"
   ]
  },
  {
   "cell_type": "markdown",
   "metadata": {
    "id": "ykKQ0N65_Zcv"
   },
   "source": [
    "## Итоги исследования"
   ]
  },
  {
   "cell_type": "markdown",
   "metadata": {
    "id": "tjUwbHb3_Zcv"
   },
   "source": [
    "Вы проверили три гипотезы и установили:\n",
    "\n",
    "1. День недели по-разному влияет на активность пользователей в Москве и Петербурге. \n",
    "\n",
    "Первая гипотеза полностью подтвердилась.\n",
    "\n",
    "2. Музыкальные предпочтения не сильно меняются в течение недели — будь то Москва или Петербург. Небольшие различия заметны в начале недели, по понедельникам:\n",
    "* в Москве слушают музыку жанра “world”,\n",
    "* в Петербурге — джаз и классику.\n",
    "\n",
    "Таким образом, вторая гипотеза подтвердилась лишь отчасти. Этот результат мог оказаться иным, если бы не пропуски в данных.\n",
    "\n",
    "3. Во вкусах пользователей Москвы и Петербурга больше общего чем различий. Вопреки ожиданиям, предпочтения жанров в Петербурге напоминают московские.\n",
    "\n",
    "Третья гипотеза не подтвердилась. Если различия в предпочтениях и существуют, на основной массе пользователей они незаметны.\n",
    "\n",
    "**На практике исследования содержат проверки статистических гипотез.**\n",
    "Из данных одного сервиса не всегда можно сделать вывод о всех жителях города.\n",
    "Проверки статистических гипотез покажут, насколько они достоверны, исходя из имеющихся данных. \n",
    "С методами проверок гипотез вы ещё познакомитесь в следующих темах."
   ]
  },
  {
   "cell_type": "code",
   "execution_count": null,
   "metadata": {},
   "outputs": [],
   "source": []
  }
 ],
 "metadata": {
  "ExecuteTimeLog": [
   {
    "duration": 602,
    "start_time": "2021-11-27T08:32:55.378Z"
   },
   {
    "duration": 1809,
    "start_time": "2021-11-27T08:32:57.232Z"
   },
   {
    "duration": 119,
    "start_time": "2021-11-27T08:33:09.089Z"
   },
   {
    "duration": 15,
    "start_time": "2021-11-27T08:33:13.908Z"
   },
   {
    "duration": 22,
    "start_time": "2021-11-27T08:33:42.843Z"
   },
   {
    "duration": 237,
    "start_time": "2021-11-27T08:40:18.576Z"
   },
   {
    "duration": 225,
    "start_time": "2021-11-27T08:40:29.458Z"
   },
   {
    "duration": 5,
    "start_time": "2021-11-27T08:40:39.494Z"
   },
   {
    "duration": 236,
    "start_time": "2021-11-27T08:40:55.020Z"
   },
   {
    "duration": 5,
    "start_time": "2021-11-27T08:41:07.692Z"
   },
   {
    "duration": 233,
    "start_time": "2021-11-27T08:44:31.361Z"
   },
   {
    "duration": 4,
    "start_time": "2021-11-27T08:44:35.433Z"
   },
   {
    "duration": 73,
    "start_time": "2021-11-27T08:46:37.427Z"
   },
   {
    "duration": 26,
    "start_time": "2021-11-27T08:46:59.680Z"
   },
   {
    "duration": 4,
    "start_time": "2021-11-27T08:47:34.294Z"
   },
   {
    "duration": 17,
    "start_time": "2021-11-27T08:47:42.770Z"
   },
   {
    "duration": 4,
    "start_time": "2021-11-27T08:47:44.393Z"
   },
   {
    "duration": 21,
    "start_time": "2021-11-27T08:48:14.418Z"
   },
   {
    "duration": 2,
    "start_time": "2021-11-27T08:50:37.563Z"
   },
   {
    "duration": 229,
    "start_time": "2021-11-27T08:52:29.812Z"
   },
   {
    "duration": 5880,
    "start_time": "2021-11-27T09:01:27.720Z"
   },
   {
    "duration": 15,
    "start_time": "2021-11-27T09:01:58.015Z"
   },
   {
    "duration": 20,
    "start_time": "2021-11-27T09:02:26.544Z"
   },
   {
    "duration": 51,
    "start_time": "2021-11-27T09:02:42.013Z"
   },
   {
    "duration": 46,
    "start_time": "2021-11-27T09:02:50.856Z"
   },
   {
    "duration": 233,
    "start_time": "2021-11-27T09:03:32.351Z"
   },
   {
    "duration": 238,
    "start_time": "2021-11-27T09:03:43.123Z"
   },
   {
    "duration": 61,
    "start_time": "2021-11-27T09:04:02.180Z"
   },
   {
    "duration": 56,
    "start_time": "2021-11-27T09:04:18.427Z"
   },
   {
    "duration": 45,
    "start_time": "2021-11-27T09:04:23.472Z"
   },
   {
    "duration": 10,
    "start_time": "2021-11-27T09:06:00.651Z"
   },
   {
    "duration": 36,
    "start_time": "2021-11-27T09:06:32.428Z"
   },
   {
    "duration": 46,
    "start_time": "2021-11-27T09:09:36.781Z"
   },
   {
    "duration": 35,
    "start_time": "2021-11-27T09:10:03.516Z"
   },
   {
    "duration": 35,
    "start_time": "2021-11-27T09:11:06.559Z"
   },
   {
    "duration": 105,
    "start_time": "2021-11-27T11:08:31.679Z"
   },
   {
    "duration": 3,
    "start_time": "2021-11-27T11:08:39.387Z"
   },
   {
    "duration": 234,
    "start_time": "2021-11-27T11:09:33.988Z"
   },
   {
    "duration": 7,
    "start_time": "2021-11-27T11:09:38.173Z"
   },
   {
    "duration": 3,
    "start_time": "2021-11-27T11:18:43.994Z"
   },
   {
    "duration": 220,
    "start_time": "2021-11-27T11:19:28.969Z"
   },
   {
    "duration": 251,
    "start_time": "2021-11-27T11:19:39.687Z"
   },
   {
    "duration": 5966,
    "start_time": "2021-11-27T11:19:56.617Z"
   },
   {
    "duration": 5,
    "start_time": "2021-11-27T11:24:39.586Z"
   },
   {
    "duration": 9,
    "start_time": "2021-11-27T11:24:40.668Z"
   },
   {
    "duration": 226,
    "start_time": "2021-11-27T11:25:43.170Z"
   },
   {
    "duration": 120210,
    "start_time": "2021-11-27T11:28:10.869Z"
   },
   {
    "duration": 3,
    "start_time": "2021-11-27T11:33:42.659Z"
   },
   {
    "duration": 3,
    "start_time": "2021-11-27T11:56:25.592Z"
   },
   {
    "duration": 3,
    "start_time": "2021-11-27T11:57:04.430Z"
   },
   {
    "duration": 7,
    "start_time": "2021-11-27T11:57:33.508Z"
   },
   {
    "duration": 8,
    "start_time": "2021-11-27T11:57:49.199Z"
   },
   {
    "duration": 228,
    "start_time": "2021-11-27T11:58:14.014Z"
   },
   {
    "duration": 456,
    "start_time": "2021-11-27T12:03:41.143Z"
   },
   {
    "duration": 37,
    "start_time": "2021-11-27T12:07:33.863Z"
   },
   {
    "duration": 226,
    "start_time": "2021-11-27T12:07:38.925Z"
   },
   {
    "duration": 241,
    "start_time": "2021-11-27T12:09:12.623Z"
   },
   {
    "duration": 233,
    "start_time": "2021-11-27T12:11:25.629Z"
   },
   {
    "duration": 286,
    "start_time": "2021-11-27T12:11:43.470Z"
   },
   {
    "duration": 233,
    "start_time": "2021-11-27T12:12:34.079Z"
   },
   {
    "duration": 308,
    "start_time": "2021-11-27T12:12:39.292Z"
   },
   {
    "duration": 240,
    "start_time": "2021-11-27T12:12:46.061Z"
   },
   {
    "duration": 2,
    "start_time": "2021-11-27T12:12:53.265Z"
   },
   {
    "duration": 144,
    "start_time": "2021-11-27T12:12:53.660Z"
   },
   {
    "duration": 14,
    "start_time": "2021-11-27T12:12:54.077Z"
   },
   {
    "duration": 24,
    "start_time": "2021-11-27T12:12:54.496Z"
   },
   {
    "duration": 8,
    "start_time": "2021-11-27T12:12:54.695Z"
   },
   {
    "duration": 4,
    "start_time": "2021-11-27T12:12:57.664Z"
   },
   {
    "duration": 13,
    "start_time": "2021-11-27T12:12:58.913Z"
   },
   {
    "duration": 5,
    "start_time": "2021-11-27T12:13:00.300Z"
   },
   {
    "duration": 21,
    "start_time": "2021-11-27T12:13:01.535Z"
   },
   {
    "duration": 16,
    "start_time": "2021-11-27T12:13:03.021Z"
   },
   {
    "duration": 21,
    "start_time": "2021-11-27T12:13:03.475Z"
   },
   {
    "duration": 65,
    "start_time": "2021-11-27T12:13:04.188Z"
   },
   {
    "duration": 61,
    "start_time": "2021-11-27T12:13:04.887Z"
   },
   {
    "duration": 49,
    "start_time": "2021-11-27T12:13:05.598Z"
   },
   {
    "duration": 8,
    "start_time": "2021-11-27T12:13:06.250Z"
   },
   {
    "duration": 40,
    "start_time": "2021-11-27T12:13:07.260Z"
   },
   {
    "duration": 3,
    "start_time": "2021-11-27T12:13:09.851Z"
   },
   {
    "duration": 234,
    "start_time": "2021-11-27T12:13:11.413Z"
   },
   {
    "duration": 3,
    "start_time": "2021-11-27T12:13:11.652Z"
   },
   {
    "duration": -793,
    "start_time": "2021-11-27T12:13:25.933Z"
   },
   {
    "duration": -802,
    "start_time": "2021-11-27T12:13:25.943Z"
   },
   {
    "duration": 6,
    "start_time": "2021-11-27T12:13:31.878Z"
   },
   {
    "duration": 107433,
    "start_time": "2021-11-27T12:13:32.714Z"
   },
   {
    "duration": 469,
    "start_time": "2021-11-27T12:15:20.148Z"
   },
   {
    "duration": 487,
    "start_time": "2021-11-27T12:15:51.768Z"
   },
   {
    "duration": 764,
    "start_time": "2021-11-27T12:16:00.265Z"
   },
   {
    "duration": 9,
    "start_time": "2021-11-27T12:16:09.875Z"
   },
   {
    "duration": 30,
    "start_time": "2021-11-27T12:18:28.423Z"
   },
   {
    "duration": 301,
    "start_time": "2021-11-27T12:19:26.683Z"
   },
   {
    "duration": 39,
    "start_time": "2021-11-27T12:19:46.819Z"
   },
   {
    "duration": 50,
    "start_time": "2021-11-27T12:20:35.873Z"
   },
   {
    "duration": 128,
    "start_time": "2021-11-27T12:20:49.746Z"
   },
   {
    "duration": 10,
    "start_time": "2021-11-27T12:20:51.234Z"
   },
   {
    "duration": 22,
    "start_time": "2021-11-27T12:20:52.754Z"
   },
   {
    "duration": 5,
    "start_time": "2021-11-27T12:20:53.403Z"
   },
   {
    "duration": 4,
    "start_time": "2021-11-27T12:20:56.280Z"
   },
   {
    "duration": 16,
    "start_time": "2021-11-27T12:20:58.307Z"
   },
   {
    "duration": 4,
    "start_time": "2021-11-27T12:20:59.506Z"
   },
   {
    "duration": 32,
    "start_time": "2021-11-27T12:21:00.773Z"
   },
   {
    "duration": 24,
    "start_time": "2021-11-27T12:21:02.387Z"
   },
   {
    "duration": 21,
    "start_time": "2021-11-27T12:21:03.645Z"
   },
   {
    "duration": 47,
    "start_time": "2021-11-27T12:21:05.199Z"
   },
   {
    "duration": 66,
    "start_time": "2021-11-27T12:21:06.774Z"
   },
   {
    "duration": 51,
    "start_time": "2021-11-27T12:21:07.977Z"
   },
   {
    "duration": 8,
    "start_time": "2021-11-27T12:21:09.874Z"
   },
   {
    "duration": 54,
    "start_time": "2021-11-27T12:21:10.954Z"
   },
   {
    "duration": 39,
    "start_time": "2021-11-27T12:21:24.914Z"
   },
   {
    "duration": 270,
    "start_time": "2021-11-27T12:21:35.032Z"
   },
   {
    "duration": 36,
    "start_time": "2021-11-27T12:22:01.204Z"
   },
   {
    "duration": 3,
    "start_time": "2021-11-27T12:22:10.763Z"
   },
   {
    "duration": 10,
    "start_time": "2021-11-27T12:22:12.560Z"
   },
   {
    "duration": 37,
    "start_time": "2021-11-27T12:23:38.233Z"
   },
   {
    "duration": 45,
    "start_time": "2021-11-27T12:24:38.273Z"
   },
   {
    "duration": 38,
    "start_time": "2021-11-27T12:24:46.239Z"
   },
   {
    "duration": 9,
    "start_time": "2021-11-27T12:28:04.023Z"
   },
   {
    "duration": 47,
    "start_time": "2021-11-27T12:28:52.875Z"
   },
   {
    "duration": 76,
    "start_time": "2021-11-27T12:30:07.379Z"
   },
   {
    "duration": 12,
    "start_time": "2021-11-27T12:30:16.352Z"
   },
   {
    "duration": 11,
    "start_time": "2021-11-27T12:35:42.133Z"
   },
   {
    "duration": 39,
    "start_time": "2021-11-27T12:35:59.859Z"
   },
   {
    "duration": 12,
    "start_time": "2021-11-27T12:36:07.311Z"
   },
   {
    "duration": 15,
    "start_time": "2021-11-27T12:36:59.314Z"
   },
   {
    "duration": 16,
    "start_time": "2021-11-27T12:37:35.339Z"
   },
   {
    "duration": 805,
    "start_time": "2021-11-28T12:14:36.154Z"
   },
   {
    "duration": 179,
    "start_time": "2021-11-28T12:14:37.638Z"
   },
   {
    "duration": 27,
    "start_time": "2021-11-28T12:14:38.101Z"
   },
   {
    "duration": 35,
    "start_time": "2021-11-28T12:14:38.526Z"
   },
   {
    "duration": 7,
    "start_time": "2021-11-28T12:14:38.842Z"
   },
   {
    "duration": 5,
    "start_time": "2021-11-28T12:14:39.999Z"
   },
   {
    "duration": 25,
    "start_time": "2021-11-28T12:14:40.657Z"
   },
   {
    "duration": 5,
    "start_time": "2021-11-28T12:14:41.144Z"
   },
   {
    "duration": 31,
    "start_time": "2021-11-28T12:14:42.779Z"
   },
   {
    "duration": 22,
    "start_time": "2021-11-28T12:14:43.729Z"
   },
   {
    "duration": 29,
    "start_time": "2021-11-28T12:14:44.747Z"
   },
   {
    "duration": 21,
    "start_time": "2021-11-28T12:14:58.829Z"
   },
   {
    "duration": 29,
    "start_time": "2021-11-28T12:14:59.774Z"
   },
   {
    "duration": 90,
    "start_time": "2021-11-28T12:15:01.165Z"
   },
   {
    "duration": 98,
    "start_time": "2021-11-28T12:15:01.695Z"
   },
   {
    "duration": 76,
    "start_time": "2021-11-28T12:15:02.493Z"
   },
   {
    "duration": 14,
    "start_time": "2021-11-28T12:15:03.139Z"
   },
   {
    "duration": 69,
    "start_time": "2021-11-28T12:15:03.887Z"
   },
   {
    "duration": 4,
    "start_time": "2021-11-28T12:15:05.733Z"
   },
   {
    "duration": 712,
    "start_time": "2021-11-28T12:15:06.419Z"
   },
   {
    "duration": -748,
    "start_time": "2021-11-28T12:15:07.882Z"
   },
   {
    "duration": 3,
    "start_time": "2021-11-28T12:15:32.878Z"
   },
   {
    "duration": 14,
    "start_time": "2021-11-28T12:15:37.180Z"
   },
   {
    "duration": 57,
    "start_time": "2021-11-28T12:15:40.425Z"
   },
   {
    "duration": 15,
    "start_time": "2021-11-28T12:15:46.119Z"
   },
   {
    "duration": 17,
    "start_time": "2021-11-28T12:16:01.632Z"
   },
   {
    "duration": 18,
    "start_time": "2021-11-28T12:16:11.254Z"
   },
   {
    "duration": 23,
    "start_time": "2021-11-28T12:16:13.256Z"
   },
   {
    "duration": 20,
    "start_time": "2021-11-28T12:44:14.031Z"
   },
   {
    "duration": 22,
    "start_time": "2021-11-28T12:45:10.712Z"
   },
   {
    "duration": 5,
    "start_time": "2021-11-28T19:27:48.094Z"
   },
   {
    "duration": 24,
    "start_time": "2021-11-28T19:28:14.706Z"
   },
   {
    "duration": 19,
    "start_time": "2021-11-28T19:28:54.826Z"
   },
   {
    "duration": 19,
    "start_time": "2021-11-28T19:28:55.379Z"
   },
   {
    "duration": 18,
    "start_time": "2021-11-28T19:28:55.873Z"
   },
   {
    "duration": 19,
    "start_time": "2021-11-28T19:29:05.943Z"
   },
   {
    "duration": 22,
    "start_time": "2021-11-28T19:29:13.768Z"
   },
   {
    "duration": 25,
    "start_time": "2021-11-28T19:29:32.830Z"
   },
   {
    "duration": 19,
    "start_time": "2021-11-28T19:29:35.288Z"
   },
   {
    "duration": 19,
    "start_time": "2021-11-28T19:33:51.980Z"
   },
   {
    "duration": 911,
    "start_time": "2021-11-28T19:38:05.221Z"
   },
   {
    "duration": 13,
    "start_time": "2021-11-28T19:38:13.404Z"
   },
   {
    "duration": 14,
    "start_time": "2021-11-28T19:40:04.037Z"
   },
   {
    "duration": 5,
    "start_time": "2021-11-28T19:57:12.009Z"
   },
   {
    "duration": 11,
    "start_time": "2021-11-28T19:57:17.627Z"
   },
   {
    "duration": 11,
    "start_time": "2021-11-28T19:57:45.663Z"
   },
   {
    "duration": 14,
    "start_time": "2021-11-28T20:00:11.806Z"
   },
   {
    "duration": 18,
    "start_time": "2021-11-28T20:00:38.143Z"
   },
   {
    "duration": 9,
    "start_time": "2021-11-28T20:00:43.807Z"
   },
   {
    "duration": 189,
    "start_time": "2021-11-28T20:01:18.016Z"
   },
   {
    "duration": 16,
    "start_time": "2021-11-28T20:01:19.637Z"
   },
   {
    "duration": 33,
    "start_time": "2021-11-28T20:01:21.707Z"
   },
   {
    "duration": 8,
    "start_time": "2021-11-28T20:01:21.924Z"
   },
   {
    "duration": 6,
    "start_time": "2021-11-28T20:01:22.981Z"
   },
   {
    "duration": 22,
    "start_time": "2021-11-28T20:01:23.368Z"
   },
   {
    "duration": 7,
    "start_time": "2021-11-28T20:01:23.767Z"
   },
   {
    "duration": 30,
    "start_time": "2021-11-28T20:01:24.155Z"
   },
   {
    "duration": 23,
    "start_time": "2021-11-28T20:01:24.830Z"
   },
   {
    "duration": 30,
    "start_time": "2021-11-28T20:01:25.249Z"
   },
   {
    "duration": 85,
    "start_time": "2021-11-28T20:01:25.708Z"
   },
   {
    "duration": 95,
    "start_time": "2021-11-28T20:01:26.440Z"
   },
   {
    "duration": 77,
    "start_time": "2021-11-28T20:01:27.521Z"
   },
   {
    "duration": 18,
    "start_time": "2021-11-28T20:01:28.230Z"
   },
   {
    "duration": 71,
    "start_time": "2021-11-28T20:01:28.434Z"
   },
   {
    "duration": 6,
    "start_time": "2021-11-28T20:01:29.441Z"
   },
   {
    "duration": 397,
    "start_time": "2021-11-28T20:01:30.125Z"
   },
   {
    "duration": 4,
    "start_time": "2021-11-28T20:01:32.378Z"
   },
   {
    "duration": 3,
    "start_time": "2021-11-28T20:01:44.943Z"
   },
   {
    "duration": 15,
    "start_time": "2021-11-28T20:01:46.009Z"
   },
   {
    "duration": 67,
    "start_time": "2021-11-28T20:01:47.052Z"
   },
   {
    "duration": 31,
    "start_time": "2021-11-28T20:01:50.777Z"
   },
   {
    "duration": 17,
    "start_time": "2021-11-28T20:01:51.921Z"
   },
   {
    "duration": 26,
    "start_time": "2021-11-28T20:01:53.341Z"
   },
   {
    "duration": 16,
    "start_time": "2021-11-28T20:01:54.263Z"
   },
   {
    "duration": 6,
    "start_time": "2021-11-28T20:01:55.354Z"
   },
   {
    "duration": 29,
    "start_time": "2021-11-28T20:01:57.467Z"
   },
   {
    "duration": 22,
    "start_time": "2021-11-28T20:01:58.132Z"
   },
   {
    "duration": 21,
    "start_time": "2021-11-28T20:01:58.431Z"
   },
   {
    "duration": 21,
    "start_time": "2021-11-28T20:01:58.631Z"
   },
   {
    "duration": 32,
    "start_time": "2021-11-28T20:01:59.002Z"
   },
   {
    "duration": 25,
    "start_time": "2021-11-28T20:01:59.216Z"
   },
   {
    "duration": 17,
    "start_time": "2021-11-28T20:02:00.276Z"
   },
   {
    "duration": 43,
    "start_time": "2021-11-28T20:02:04.154Z"
   },
   {
    "duration": 40,
    "start_time": "2021-11-28T20:02:05.407Z"
   },
   {
    "duration": 34,
    "start_time": "2021-11-28T20:02:28.171Z"
   },
   {
    "duration": 29,
    "start_time": "2021-11-28T20:02:29.963Z"
   },
   {
    "duration": 19,
    "start_time": "2021-11-28T20:02:34.069Z"
   },
   {
    "duration": 5,
    "start_time": "2021-11-28T20:13:02.831Z"
   },
   {
    "duration": 5,
    "start_time": "2021-11-28T20:35:12.448Z"
   },
   {
    "duration": 26,
    "start_time": "2021-11-28T20:37:15.330Z"
   },
   {
    "duration": 18,
    "start_time": "2021-11-28T20:37:29.580Z"
   },
   {
    "duration": 3,
    "start_time": "2021-11-28T20:37:36.535Z"
   },
   {
    "duration": 23,
    "start_time": "2021-11-28T20:38:10.837Z"
   },
   {
    "duration": 17,
    "start_time": "2021-11-28T20:38:11.364Z"
   },
   {
    "duration": 18,
    "start_time": "2021-11-28T20:45:24.270Z"
   },
   {
    "duration": 13,
    "start_time": "2021-11-28T20:45:34.183Z"
   },
   {
    "duration": 7,
    "start_time": "2021-11-28T20:45:43.948Z"
   },
   {
    "duration": 9,
    "start_time": "2021-11-28T20:46:06.387Z"
   },
   {
    "duration": 6,
    "start_time": "2021-11-28T20:46:16.703Z"
   },
   {
    "duration": 17,
    "start_time": "2021-11-28T20:49:15.653Z"
   },
   {
    "duration": 61,
    "start_time": "2021-11-28T20:49:17.151Z"
   },
   {
    "duration": 599,
    "start_time": "2021-11-29T09:23:15.857Z"
   },
   {
    "duration": 141,
    "start_time": "2021-11-29T09:23:16.458Z"
   },
   {
    "duration": 18,
    "start_time": "2021-11-29T09:23:16.601Z"
   },
   {
    "duration": 30,
    "start_time": "2021-11-29T09:23:16.622Z"
   },
   {
    "duration": 5,
    "start_time": "2021-11-29T09:23:16.654Z"
   },
   {
    "duration": 9,
    "start_time": "2021-11-29T09:23:16.661Z"
   },
   {
    "duration": 25,
    "start_time": "2021-11-29T09:23:16.692Z"
   },
   {
    "duration": 8,
    "start_time": "2021-11-29T09:23:16.719Z"
   },
   {
    "duration": 26,
    "start_time": "2021-11-29T09:23:16.729Z"
   },
   {
    "duration": 38,
    "start_time": "2021-11-29T09:23:16.757Z"
   },
   {
    "duration": 24,
    "start_time": "2021-11-29T09:23:16.796Z"
   },
   {
    "duration": 73,
    "start_time": "2021-11-29T09:23:16.822Z"
   },
   {
    "duration": 69,
    "start_time": "2021-11-29T09:23:16.896Z"
   },
   {
    "duration": 67,
    "start_time": "2021-11-29T09:23:16.966Z"
   },
   {
    "duration": 9,
    "start_time": "2021-11-29T09:23:17.034Z"
   },
   {
    "duration": 60,
    "start_time": "2021-11-29T09:23:17.045Z"
   },
   {
    "duration": 3,
    "start_time": "2021-11-29T09:23:17.107Z"
   },
   {
    "duration": 14,
    "start_time": "2021-11-29T09:23:17.112Z"
   },
   {
    "duration": 64,
    "start_time": "2021-11-29T09:23:17.128Z"
   },
   {
    "duration": 14,
    "start_time": "2021-11-29T09:23:17.193Z"
   },
   {
    "duration": 13,
    "start_time": "2021-11-29T09:23:17.209Z"
   },
   {
    "duration": 17,
    "start_time": "2021-11-29T09:23:17.224Z"
   },
   {
    "duration": 12,
    "start_time": "2021-11-29T09:23:17.244Z"
   },
   {
    "duration": 36,
    "start_time": "2021-11-29T09:23:17.258Z"
   },
   {
    "duration": 32,
    "start_time": "2021-11-29T09:23:17.297Z"
   },
   {
    "duration": 23,
    "start_time": "2021-11-29T09:23:17.331Z"
   },
   {
    "duration": 46,
    "start_time": "2021-11-29T09:23:17.357Z"
   },
   {
    "duration": 20,
    "start_time": "2021-11-29T09:23:17.406Z"
   },
   {
    "duration": 20,
    "start_time": "2021-11-29T09:23:17.429Z"
   },
   {
    "duration": 42,
    "start_time": "2021-11-29T09:23:17.451Z"
   },
   {
    "duration": 9,
    "start_time": "2021-11-29T09:23:17.495Z"
   },
   {
    "duration": 28,
    "start_time": "2021-11-29T09:23:17.505Z"
   },
   {
    "duration": 18,
    "start_time": "2021-11-29T09:23:17.535Z"
   },
   {
    "duration": 37,
    "start_time": "2021-11-29T09:23:17.555Z"
   },
   {
    "duration": 5,
    "start_time": "2021-11-29T09:23:17.594Z"
   },
   {
    "duration": 33,
    "start_time": "2021-11-29T09:23:17.601Z"
   },
   {
    "duration": 14,
    "start_time": "2021-11-29T09:23:17.636Z"
   },
   {
    "duration": 40,
    "start_time": "2021-11-29T09:23:17.652Z"
   },
   {
    "duration": 13,
    "start_time": "2021-11-29T09:23:17.694Z"
   },
   {
    "duration": 11,
    "start_time": "2021-11-29T09:23:17.709Z"
   },
   {
    "duration": 5,
    "start_time": "2021-11-29T09:23:17.722Z"
   },
   {
    "duration": 9,
    "start_time": "2021-11-29T09:23:17.729Z"
   },
   {
    "duration": 6,
    "start_time": "2021-11-29T09:23:17.740Z"
   },
   {
    "duration": 84,
    "start_time": "2021-11-29T09:25:55.861Z"
   }
  ],
  "colab": {
   "collapsed_sections": [
    "E0vqbgi9ay0H",
    "VUC88oWjTJw2"
   ],
   "name": "yandex_music_project_2021.2.ipynb",
   "provenance": []
  },
  "kernelspec": {
   "display_name": "Python 3 (ipykernel)",
   "language": "python",
   "name": "python3"
  },
  "language_info": {
   "codemirror_mode": {
    "name": "ipython",
    "version": 3
   },
   "file_extension": ".py",
   "mimetype": "text/x-python",
   "name": "python",
   "nbconvert_exporter": "python",
   "pygments_lexer": "ipython3",
   "version": "3.9.5"
  },
  "toc": {
   "base_numbering": 1,
   "nav_menu": {},
   "number_sections": true,
   "sideBar": true,
   "skip_h1_title": true,
   "title_cell": "Table of Contents",
   "title_sidebar": "Contents",
   "toc_cell": false,
   "toc_position": {
    "height": "calc(100% - 180px)",
    "left": "10px",
    "top": "150px",
    "width": "165px"
   },
   "toc_section_display": true,
   "toc_window_display": true
  }
 },
 "nbformat": 4,
 "nbformat_minor": 1
}
