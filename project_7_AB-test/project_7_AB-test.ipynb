{
 "cells": [
  {
   "cell_type": "markdown",
   "metadata": {},
   "source": [
    "# Описание проекта"
   ]
  },
  {
   "cell_type": "markdown",
   "metadata": {},
   "source": [
    "Контекст\n",
    "Вы — аналитик крупного интернет-магазина. Вместе с отделом маркетинга вы подготовили список гипотез для увеличения выручки.\n",
    "Приоритизируйте гипотезы, запустите A/B-тест и проанализируйте результаты.\n"
   ]
  },
  {
   "cell_type": "markdown",
   "metadata": {},
   "source": [
    "# Описание данных"
   ]
  },
  {
   "cell_type": "markdown",
   "metadata": {},
   "source": [
    "\n",
    "Данные для первой части\n",
    "\n",
    "\n",
    "- Hypothesis — краткое описание гипотезы;\n",
    "- Reach — охват пользователей по 10-балльной шкале;\n",
    "- Impact — влияние на пользователей по 10-балльной шкале;\n",
    "- Confidence — уверенность в гипотезе по 10-балльной шкале;\n",
    "- Efforts — затраты ресурсов на проверку гипотезы по 10-балльной шкале. Чем больше значение Efforts, тем дороже проверка гипотезы.\n",
    "\n",
    "Данные для второй части\n",
    "\n",
    "\n",
    "- transactionId — идентификатор заказа;\n",
    "- visitorId — идентификатор пользователя, совершившего заказ;\n",
    "- date — дата, когда был совершён заказ;\n",
    "- revenue — выручка заказа;\n",
    "- group — группа A/B-теста, в которую попал заказ.\n",
    "\n",
    "- date — дата;\n",
    "- group — группа A/B-теста;\n",
    "- visitors — количество пользователей в указанную дату в указанной группе A/B-теста"
   ]
  },
  {
   "cell_type": "markdown",
   "metadata": {},
   "source": [
    "## Изучение данных из файла"
   ]
  },
  {
   "cell_type": "markdown",
   "metadata": {},
   "source": [
    "### Часть 1. Приоритизация гипотез."
   ]
  },
  {
   "cell_type": "markdown",
   "metadata": {},
   "source": [
    "Применить фреймворк ICE для приоритизации гипотез. Отсортируем их по убыванию приоритета.\n",
    "\n",
    "Применить фреймворк RICE для приоритизации гипотез. Отсортируем их по убыванию приоритета.\n",
    "\n",
    "Указать, как изменилась приоритизация гипотез при применении RICE вместо ICE. Объяснить, почему так произошло."
   ]
  },
  {
   "cell_type": "code",
   "execution_count": 1,
   "metadata": {},
   "outputs": [
    {
     "name": "stderr",
     "output_type": "stream",
     "text": [
      "<ipython-input-1-793b05d4a607>:8: FutureWarning: Passing a negative integer is deprecated in version 1.0 and will not be supported in future version. Instead, use None to not limit the column width.\n",
      "  pd.set_option('display.max_colwidth', -1)\n"
     ]
    }
   ],
   "source": [
    "import pandas as pd\n",
    "import matplotlib.pyplot as plt\n",
    "import scipy.stats as stats\n",
    "import datetime as dt\n",
    "import numpy as np\n",
    "\n",
    "\n",
    "pd.set_option('display.max_colwidth', -1)"
   ]
  },
  {
   "cell_type": "code",
   "execution_count": 2,
   "metadata": {},
   "outputs": [
    {
     "data": {
      "text/html": [
       "<div>\n",
       "<style scoped>\n",
       "    .dataframe tbody tr th:only-of-type {\n",
       "        vertical-align: middle;\n",
       "    }\n",
       "\n",
       "    .dataframe tbody tr th {\n",
       "        vertical-align: top;\n",
       "    }\n",
       "\n",
       "    .dataframe thead th {\n",
       "        text-align: right;\n",
       "    }\n",
       "</style>\n",
       "<table border=\"1\" class=\"dataframe\">\n",
       "  <thead>\n",
       "    <tr style=\"text-align: right;\">\n",
       "      <th></th>\n",
       "      <th>Hypothesis</th>\n",
       "      <th>Reach</th>\n",
       "      <th>Impact</th>\n",
       "      <th>Confidence</th>\n",
       "      <th>Efforts</th>\n",
       "    </tr>\n",
       "  </thead>\n",
       "  <tbody>\n",
       "    <tr>\n",
       "      <th>0</th>\n",
       "      <td>Добавить два новых канала привлечения трафика, что позволит привлекать на 30% больше пользователей</td>\n",
       "      <td>3</td>\n",
       "      <td>10</td>\n",
       "      <td>8</td>\n",
       "      <td>6</td>\n",
       "    </tr>\n",
       "    <tr>\n",
       "      <th>1</th>\n",
       "      <td>Запустить собственную службу доставки, что сократит срок доставки заказов</td>\n",
       "      <td>2</td>\n",
       "      <td>5</td>\n",
       "      <td>4</td>\n",
       "      <td>10</td>\n",
       "    </tr>\n",
       "    <tr>\n",
       "      <th>2</th>\n",
       "      <td>Добавить блоки рекомендаций товаров на сайт интернет магазина, чтобы повысить конверсию и средний чек заказа</td>\n",
       "      <td>8</td>\n",
       "      <td>3</td>\n",
       "      <td>7</td>\n",
       "      <td>3</td>\n",
       "    </tr>\n",
       "    <tr>\n",
       "      <th>3</th>\n",
       "      <td>Изменить структура категорий, что увеличит конверсию, т.к. пользователи быстрее найдут нужный товар</td>\n",
       "      <td>8</td>\n",
       "      <td>3</td>\n",
       "      <td>3</td>\n",
       "      <td>8</td>\n",
       "    </tr>\n",
       "    <tr>\n",
       "      <th>4</th>\n",
       "      <td>Изменить цвет фона главной страницы, чтобы увеличить вовлеченность пользователей</td>\n",
       "      <td>3</td>\n",
       "      <td>1</td>\n",
       "      <td>1</td>\n",
       "      <td>1</td>\n",
       "    </tr>\n",
       "    <tr>\n",
       "      <th>5</th>\n",
       "      <td>Добавить страницу отзывов клиентов о магазине, что позволит увеличить количество заказов</td>\n",
       "      <td>3</td>\n",
       "      <td>2</td>\n",
       "      <td>2</td>\n",
       "      <td>3</td>\n",
       "    </tr>\n",
       "    <tr>\n",
       "      <th>6</th>\n",
       "      <td>Показать на главной странице баннеры с актуальными акциями и распродажами, чтобы увеличить конверсию</td>\n",
       "      <td>5</td>\n",
       "      <td>3</td>\n",
       "      <td>8</td>\n",
       "      <td>3</td>\n",
       "    </tr>\n",
       "    <tr>\n",
       "      <th>7</th>\n",
       "      <td>Добавить форму подписки на все основные страницы, чтобы собрать базу клиентов для email-рассылок</td>\n",
       "      <td>10</td>\n",
       "      <td>7</td>\n",
       "      <td>8</td>\n",
       "      <td>5</td>\n",
       "    </tr>\n",
       "    <tr>\n",
       "      <th>8</th>\n",
       "      <td>Запустить акцию, дающую скидку на товар в день рождения</td>\n",
       "      <td>1</td>\n",
       "      <td>9</td>\n",
       "      <td>9</td>\n",
       "      <td>5</td>\n",
       "    </tr>\n",
       "  </tbody>\n",
       "</table>\n",
       "</div>"
      ],
      "text/plain": [
       "                                                                                                     Hypothesis  \\\n",
       "0  Добавить два новых канала привлечения трафика, что позволит привлекать на 30% больше пользователей             \n",
       "1  Запустить собственную службу доставки, что сократит срок доставки заказов                                      \n",
       "2  Добавить блоки рекомендаций товаров на сайт интернет магазина, чтобы повысить конверсию и средний чек заказа   \n",
       "3  Изменить структура категорий, что увеличит конверсию, т.к. пользователи быстрее найдут нужный товар            \n",
       "4  Изменить цвет фона главной страницы, чтобы увеличить вовлеченность пользователей                               \n",
       "5  Добавить страницу отзывов клиентов о магазине, что позволит увеличить количество заказов                       \n",
       "6  Показать на главной странице баннеры с актуальными акциями и распродажами, чтобы увеличить конверсию           \n",
       "7  Добавить форму подписки на все основные страницы, чтобы собрать базу клиентов для email-рассылок               \n",
       "8  Запустить акцию, дающую скидку на товар в день рождения                                                        \n",
       "\n",
       "   Reach  Impact  Confidence  Efforts  \n",
       "0  3      10      8           6        \n",
       "1  2      5       4           10       \n",
       "2  8      3       7           3        \n",
       "3  8      3       3           8        \n",
       "4  3      1       1           1        \n",
       "5  3      2       2           3        \n",
       "6  5      3       8           3        \n",
       "7  10     7       8           5        \n",
       "8  1      9       9           5        "
      ]
     },
     "execution_count": 2,
     "metadata": {},
     "output_type": "execute_result"
    }
   ],
   "source": [
    "hypothesis=pd.read_csv('https://code.s3.yandex.net/datasets/hypothesis.csv', sep=',')\n",
    "hypothesis"
   ]
  },
  {
   "cell_type": "code",
   "execution_count": 3,
   "metadata": {},
   "outputs": [
    {
     "data": {
      "text/html": [
       "<div>\n",
       "<style scoped>\n",
       "    .dataframe tbody tr th:only-of-type {\n",
       "        vertical-align: middle;\n",
       "    }\n",
       "\n",
       "    .dataframe tbody tr th {\n",
       "        vertical-align: top;\n",
       "    }\n",
       "\n",
       "    .dataframe thead th {\n",
       "        text-align: right;\n",
       "    }\n",
       "</style>\n",
       "<table border=\"1\" class=\"dataframe\">\n",
       "  <thead>\n",
       "    <tr style=\"text-align: right;\">\n",
       "      <th></th>\n",
       "      <th>Hypothesis</th>\n",
       "      <th>ICE</th>\n",
       "    </tr>\n",
       "  </thead>\n",
       "  <tbody>\n",
       "    <tr>\n",
       "      <th>8</th>\n",
       "      <td>Запустить акцию, дающую скидку на товар в день рождения</td>\n",
       "      <td>16.20</td>\n",
       "    </tr>\n",
       "    <tr>\n",
       "      <th>0</th>\n",
       "      <td>Добавить два новых канала привлечения трафика, что позволит привлекать на 30% больше пользователей</td>\n",
       "      <td>13.33</td>\n",
       "    </tr>\n",
       "    <tr>\n",
       "      <th>7</th>\n",
       "      <td>Добавить форму подписки на все основные страницы, чтобы собрать базу клиентов для email-рассылок</td>\n",
       "      <td>11.20</td>\n",
       "    </tr>\n",
       "    <tr>\n",
       "      <th>6</th>\n",
       "      <td>Показать на главной странице баннеры с актуальными акциями и распродажами, чтобы увеличить конверсию</td>\n",
       "      <td>8.00</td>\n",
       "    </tr>\n",
       "    <tr>\n",
       "      <th>2</th>\n",
       "      <td>Добавить блоки рекомендаций товаров на сайт интернет магазина, чтобы повысить конверсию и средний чек заказа</td>\n",
       "      <td>7.00</td>\n",
       "    </tr>\n",
       "    <tr>\n",
       "      <th>1</th>\n",
       "      <td>Запустить собственную службу доставки, что сократит срок доставки заказов</td>\n",
       "      <td>2.00</td>\n",
       "    </tr>\n",
       "    <tr>\n",
       "      <th>5</th>\n",
       "      <td>Добавить страницу отзывов клиентов о магазине, что позволит увеличить количество заказов</td>\n",
       "      <td>1.33</td>\n",
       "    </tr>\n",
       "    <tr>\n",
       "      <th>3</th>\n",
       "      <td>Изменить структура категорий, что увеличит конверсию, т.к. пользователи быстрее найдут нужный товар</td>\n",
       "      <td>1.12</td>\n",
       "    </tr>\n",
       "    <tr>\n",
       "      <th>4</th>\n",
       "      <td>Изменить цвет фона главной страницы, чтобы увеличить вовлеченность пользователей</td>\n",
       "      <td>1.00</td>\n",
       "    </tr>\n",
       "  </tbody>\n",
       "</table>\n",
       "</div>"
      ],
      "text/plain": [
       "                                                                                                     Hypothesis  \\\n",
       "8  Запустить акцию, дающую скидку на товар в день рождения                                                        \n",
       "0  Добавить два новых канала привлечения трафика, что позволит привлекать на 30% больше пользователей             \n",
       "7  Добавить форму подписки на все основные страницы, чтобы собрать базу клиентов для email-рассылок               \n",
       "6  Показать на главной странице баннеры с актуальными акциями и распродажами, чтобы увеличить конверсию           \n",
       "2  Добавить блоки рекомендаций товаров на сайт интернет магазина, чтобы повысить конверсию и средний чек заказа   \n",
       "1  Запустить собственную службу доставки, что сократит срок доставки заказов                                      \n",
       "5  Добавить страницу отзывов клиентов о магазине, что позволит увеличить количество заказов                       \n",
       "3  Изменить структура категорий, что увеличит конверсию, т.к. пользователи быстрее найдут нужный товар            \n",
       "4  Изменить цвет фона главной страницы, чтобы увеличить вовлеченность пользователей                               \n",
       "\n",
       "     ICE  \n",
       "8  16.20  \n",
       "0  13.33  \n",
       "7  11.20  \n",
       "6  8.00   \n",
       "2  7.00   \n",
       "1  2.00   \n",
       "5  1.33   \n",
       "3  1.12   \n",
       "4  1.00   "
      ]
     },
     "execution_count": 3,
     "metadata": {},
     "output_type": "execute_result"
    }
   ],
   "source": [
    "#Посчитаем ICE для гипотез, добавим полученные значения ICE к существующей таблице.\n",
    "hypothesis['ICE']=round(hypothesis['Impact']*hypothesis['Confidence']/hypothesis['Efforts'],2)\n",
    "hypothesis_ICE=hypothesis[['Hypothesis','ICE']].sort_values('ICE', ascending=False)\n",
    "hypothesis_ICE"
   ]
  },
  {
   "cell_type": "markdown",
   "metadata": {},
   "source": [
    "Наиболее перспективные гипотезы по ICE: 8, 0,7,6,2"
   ]
  },
  {
   "cell_type": "code",
   "execution_count": 4,
   "metadata": {},
   "outputs": [
    {
     "data": {
      "text/html": [
       "<div>\n",
       "<style scoped>\n",
       "    .dataframe tbody tr th:only-of-type {\n",
       "        vertical-align: middle;\n",
       "    }\n",
       "\n",
       "    .dataframe tbody tr th {\n",
       "        vertical-align: top;\n",
       "    }\n",
       "\n",
       "    .dataframe thead th {\n",
       "        text-align: right;\n",
       "    }\n",
       "</style>\n",
       "<table border=\"1\" class=\"dataframe\">\n",
       "  <thead>\n",
       "    <tr style=\"text-align: right;\">\n",
       "      <th></th>\n",
       "      <th>Hypothesis</th>\n",
       "      <th>RICE</th>\n",
       "    </tr>\n",
       "  </thead>\n",
       "  <tbody>\n",
       "    <tr>\n",
       "      <th>7</th>\n",
       "      <td>Добавить форму подписки на все основные страницы, чтобы собрать базу клиентов для email-рассылок</td>\n",
       "      <td>112.0</td>\n",
       "    </tr>\n",
       "    <tr>\n",
       "      <th>2</th>\n",
       "      <td>Добавить блоки рекомендаций товаров на сайт интернет магазина, чтобы повысить конверсию и средний чек заказа</td>\n",
       "      <td>56.0</td>\n",
       "    </tr>\n",
       "    <tr>\n",
       "      <th>0</th>\n",
       "      <td>Добавить два новых канала привлечения трафика, что позволит привлекать на 30% больше пользователей</td>\n",
       "      <td>40.0</td>\n",
       "    </tr>\n",
       "    <tr>\n",
       "      <th>6</th>\n",
       "      <td>Показать на главной странице баннеры с актуальными акциями и распродажами, чтобы увеличить конверсию</td>\n",
       "      <td>40.0</td>\n",
       "    </tr>\n",
       "    <tr>\n",
       "      <th>8</th>\n",
       "      <td>Запустить акцию, дающую скидку на товар в день рождения</td>\n",
       "      <td>16.2</td>\n",
       "    </tr>\n",
       "    <tr>\n",
       "      <th>3</th>\n",
       "      <td>Изменить структура категорий, что увеличит конверсию, т.к. пользователи быстрее найдут нужный товар</td>\n",
       "      <td>9.0</td>\n",
       "    </tr>\n",
       "    <tr>\n",
       "      <th>1</th>\n",
       "      <td>Запустить собственную службу доставки, что сократит срок доставки заказов</td>\n",
       "      <td>4.0</td>\n",
       "    </tr>\n",
       "    <tr>\n",
       "      <th>5</th>\n",
       "      <td>Добавить страницу отзывов клиентов о магазине, что позволит увеличить количество заказов</td>\n",
       "      <td>4.0</td>\n",
       "    </tr>\n",
       "    <tr>\n",
       "      <th>4</th>\n",
       "      <td>Изменить цвет фона главной страницы, чтобы увеличить вовлеченность пользователей</td>\n",
       "      <td>3.0</td>\n",
       "    </tr>\n",
       "  </tbody>\n",
       "</table>\n",
       "</div>"
      ],
      "text/plain": [
       "                                                                                                     Hypothesis  \\\n",
       "7  Добавить форму подписки на все основные страницы, чтобы собрать базу клиентов для email-рассылок               \n",
       "2  Добавить блоки рекомендаций товаров на сайт интернет магазина, чтобы повысить конверсию и средний чек заказа   \n",
       "0  Добавить два новых канала привлечения трафика, что позволит привлекать на 30% больше пользователей             \n",
       "6  Показать на главной странице баннеры с актуальными акциями и распродажами, чтобы увеличить конверсию           \n",
       "8  Запустить акцию, дающую скидку на товар в день рождения                                                        \n",
       "3  Изменить структура категорий, что увеличит конверсию, т.к. пользователи быстрее найдут нужный товар            \n",
       "1  Запустить собственную службу доставки, что сократит срок доставки заказов                                      \n",
       "5  Добавить страницу отзывов клиентов о магазине, что позволит увеличить количество заказов                       \n",
       "4  Изменить цвет фона главной страницы, чтобы увеличить вовлеченность пользователей                               \n",
       "\n",
       "    RICE  \n",
       "7  112.0  \n",
       "2  56.0   \n",
       "0  40.0   \n",
       "6  40.0   \n",
       "8  16.2   \n",
       "3  9.0    \n",
       "1  4.0    \n",
       "5  4.0    \n",
       "4  3.0    "
      ]
     },
     "execution_count": 4,
     "metadata": {},
     "output_type": "execute_result"
    }
   ],
   "source": [
    "#Посчитаем RICE для гипотез, добавим полученные значения RICE к существующей таблице.\n",
    "hypothesis['RICE']=round(hypothesis['Impact']*hypothesis['Confidence']*hypothesis['Reach']/hypothesis['Efforts'],2)\n",
    "hypothesis_RICE=hypothesis[['Hypothesis','RICE']].sort_values('RICE', ascending=False)\n",
    "hypothesis_RICE"
   ]
  },
  {
   "cell_type": "code",
   "execution_count": 5,
   "metadata": {},
   "outputs": [
    {
     "data": {
      "image/png": "[encoded data removed]",
      "text/plain": [
       "<Figure size 432x288 with 1 Axes>"
      ]
     },
     "metadata": {
      "needs_background": "light"
     },
     "output_type": "display_data"
    }
   ],
   "source": [
    "hypothesis_RICE_ICE=hypothesis_ICE.merge(hypothesis_RICE, how='outer', on='Hypothesis')\n",
    "hypothesis_RICE_ICE.sort_values(['RICE','ICE'], ascending=[False,False]).set_index('Hypothesis')[['ICE','RICE']].plot(kind='barh');\n"
   ]
  },
  {
   "cell_type": "markdown",
   "metadata": {},
   "source": [
    "Наиболее перспективные гипотезы по RICE: 7, 2,0,6,8. Примерно такие же гипотезы , что и при методе ICE, только первой гипотезой выступает 7- добавить форму подписки на все основные страницы. Так получилось, из-за того, что REACH у этой гипотезы самый высокий-10,т.е затронет данная гипотеза большое кол-во пользователей."
   ]
  },
  {
   "cell_type": "markdown",
   "metadata": {},
   "source": [
    "### Часть 2. Анализ A/B-теста"
   ]
  },
  {
   "cell_type": "code",
   "execution_count": 6,
   "metadata": {},
   "outputs": [],
   "source": [
    "orders=pd.read_csv('https://code.s3.yandex.net/datasets/orders.csv', sep=',')\n"
   ]
  },
  {
   "cell_type": "code",
   "execution_count": 7,
   "metadata": {},
   "outputs": [
    {
     "data": {
      "text/html": [
       "<div>\n",
       "<style scoped>\n",
       "    .dataframe tbody tr th:only-of-type {\n",
       "        vertical-align: middle;\n",
       "    }\n",
       "\n",
       "    .dataframe tbody tr th {\n",
       "        vertical-align: top;\n",
       "    }\n",
       "\n",
       "    .dataframe thead th {\n",
       "        text-align: right;\n",
       "    }\n",
       "</style>\n",
       "<table border=\"1\" class=\"dataframe\">\n",
       "  <thead>\n",
       "    <tr style=\"text-align: right;\">\n",
       "      <th></th>\n",
       "      <th>transactionId</th>\n",
       "      <th>visitorId</th>\n",
       "      <th>date</th>\n",
       "      <th>revenue</th>\n",
       "      <th>group</th>\n",
       "    </tr>\n",
       "  </thead>\n",
       "  <tbody>\n",
       "    <tr>\n",
       "      <th>0</th>\n",
       "      <td>3667963787</td>\n",
       "      <td>3312258926</td>\n",
       "      <td>2019-08-15</td>\n",
       "      <td>1650</td>\n",
       "      <td>B</td>\n",
       "    </tr>\n",
       "    <tr>\n",
       "      <th>1</th>\n",
       "      <td>2804400009</td>\n",
       "      <td>3642806036</td>\n",
       "      <td>2019-08-15</td>\n",
       "      <td>730</td>\n",
       "      <td>B</td>\n",
       "    </tr>\n",
       "    <tr>\n",
       "      <th>2</th>\n",
       "      <td>2961555356</td>\n",
       "      <td>4069496402</td>\n",
       "      <td>2019-08-15</td>\n",
       "      <td>400</td>\n",
       "      <td>A</td>\n",
       "    </tr>\n",
       "    <tr>\n",
       "      <th>3</th>\n",
       "      <td>3797467345</td>\n",
       "      <td>1196621759</td>\n",
       "      <td>2019-08-15</td>\n",
       "      <td>9759</td>\n",
       "      <td>B</td>\n",
       "    </tr>\n",
       "    <tr>\n",
       "      <th>4</th>\n",
       "      <td>2282983706</td>\n",
       "      <td>2322279887</td>\n",
       "      <td>2019-08-15</td>\n",
       "      <td>2308</td>\n",
       "      <td>B</td>\n",
       "    </tr>\n",
       "  </tbody>\n",
       "</table>\n",
       "</div>"
      ],
      "text/plain": [
       "   transactionId   visitorId        date  revenue group\n",
       "0  3667963787     3312258926  2019-08-15  1650     B   \n",
       "1  2804400009     3642806036  2019-08-15  730      B   \n",
       "2  2961555356     4069496402  2019-08-15  400      A   \n",
       "3  3797467345     1196621759  2019-08-15  9759     B   \n",
       "4  2282983706     2322279887  2019-08-15  2308     B   "
      ]
     },
     "metadata": {},
     "output_type": "display_data"
    },
    {
     "name": "stdout",
     "output_type": "stream",
     "text": [
      "Количество дубликатов - 0\n"
     ]
    },
    {
     "data": {
      "text/html": [
       "<div>\n",
       "<style scoped>\n",
       "    .dataframe tbody tr th:only-of-type {\n",
       "        vertical-align: middle;\n",
       "    }\n",
       "\n",
       "    .dataframe tbody tr th {\n",
       "        vertical-align: top;\n",
       "    }\n",
       "\n",
       "    .dataframe thead th {\n",
       "        text-align: right;\n",
       "    }\n",
       "</style>\n",
       "<table border=\"1\" class=\"dataframe\">\n",
       "  <thead>\n",
       "    <tr style=\"text-align: right;\">\n",
       "      <th></th>\n",
       "      <th>transactionId</th>\n",
       "      <th>visitorId</th>\n",
       "      <th>revenue</th>\n",
       "    </tr>\n",
       "  </thead>\n",
       "  <tbody>\n",
       "    <tr>\n",
       "      <th>count</th>\n",
       "      <td>1.197000e+03</td>\n",
       "      <td>1.197000e+03</td>\n",
       "      <td>1.197000e+03</td>\n",
       "    </tr>\n",
       "    <tr>\n",
       "      <th>mean</th>\n",
       "      <td>2.155621e+09</td>\n",
       "      <td>2.165960e+09</td>\n",
       "      <td>8.348006e+03</td>\n",
       "    </tr>\n",
       "    <tr>\n",
       "      <th>std</th>\n",
       "      <td>1.229085e+09</td>\n",
       "      <td>1.236014e+09</td>\n",
       "      <td>3.919113e+04</td>\n",
       "    </tr>\n",
       "    <tr>\n",
       "      <th>min</th>\n",
       "      <td>1.062393e+06</td>\n",
       "      <td>5.114589e+06</td>\n",
       "      <td>5.000000e+01</td>\n",
       "    </tr>\n",
       "    <tr>\n",
       "      <th>25%</th>\n",
       "      <td>1.166776e+09</td>\n",
       "      <td>1.111826e+09</td>\n",
       "      <td>1.220000e+03</td>\n",
       "    </tr>\n",
       "    <tr>\n",
       "      <th>50%</th>\n",
       "      <td>2.145194e+09</td>\n",
       "      <td>2.217985e+09</td>\n",
       "      <td>2.978000e+03</td>\n",
       "    </tr>\n",
       "    <tr>\n",
       "      <th>75%</th>\n",
       "      <td>3.237740e+09</td>\n",
       "      <td>3.177606e+09</td>\n",
       "      <td>8.290000e+03</td>\n",
       "    </tr>\n",
       "    <tr>\n",
       "      <th>max</th>\n",
       "      <td>4.293856e+09</td>\n",
       "      <td>4.283872e+09</td>\n",
       "      <td>1.294500e+06</td>\n",
       "    </tr>\n",
       "  </tbody>\n",
       "</table>\n",
       "</div>"
      ],
      "text/plain": [
       "       transactionId     visitorId       revenue\n",
       "count  1.197000e+03   1.197000e+03  1.197000e+03\n",
       "mean   2.155621e+09   2.165960e+09  8.348006e+03\n",
       "std    1.229085e+09   1.236014e+09  3.919113e+04\n",
       "min    1.062393e+06   5.114589e+06  5.000000e+01\n",
       "25%    1.166776e+09   1.111826e+09  1.220000e+03\n",
       "50%    2.145194e+09   2.217985e+09  2.978000e+03\n",
       "75%    3.237740e+09   3.177606e+09  8.290000e+03\n",
       "max    4.293856e+09   4.283872e+09  1.294500e+06"
      ]
     },
     "metadata": {},
     "output_type": "display_data"
    },
    {
     "data": {
      "text/plain": [
       "B    640\n",
       "A    557\n",
       "Name: group, dtype: int64"
      ]
     },
     "metadata": {},
     "output_type": "display_data"
    },
    {
     "name": "stdout",
     "output_type": "stream",
     "text": [
      "**************************************************\n",
      "<class 'pandas.core.frame.DataFrame'>\n",
      "RangeIndex: 1197 entries, 0 to 1196\n",
      "Data columns (total 5 columns):\n",
      " #   Column         Non-Null Count  Dtype         \n",
      "---  ------         --------------  -----         \n",
      " 0   transactionId  1197 non-null   int64         \n",
      " 1   visitorId      1197 non-null   int64         \n",
      " 2   date           1197 non-null   datetime64[ns]\n",
      " 3   revenue        1197 non-null   int64         \n",
      " 4   group          1197 non-null   object        \n",
      "dtypes: datetime64[ns](1), int64(3), object(1)\n",
      "memory usage: 42.1+ KB\n"
     ]
    }
   ],
   "source": [
    "def inspect(df):\n",
    "    display(df.head()) \n",
    "    print ('Количество дубликатов -', df.duplicated().sum())\n",
    "    numeric_columns=df.describe().columns\n",
    "    display(df.describe())\n",
    "    display()\n",
    "    #orders.columns = [x.lower().replace(' ', '_') for x in df.columns.values]\n",
    "    for column_name in df.columns:\n",
    "        if column_name not in numeric_columns:\n",
    "            if 'date' in column_name or 'dt' in column_name:\n",
    "                df[column_name] = df[column_name].map(lambda x: dt.datetime.strptime(x, '%Y-%m-%d'))\n",
    "            else:\n",
    "                display(df[column_name].value_counts())\n",
    "                print(50*'*')\n",
    "    df.info() \n",
    "    return df\n",
    "orders = inspect(orders)"
   ]
  },
  {
   "cell_type": "code",
   "execution_count": 8,
   "metadata": {},
   "outputs": [],
   "source": [
    "visitors=pd.read_csv('https://code.s3.yandex.net/datasets/visitors.csv', sep=',')\n"
   ]
  },
  {
   "cell_type": "code",
   "execution_count": 9,
   "metadata": {},
   "outputs": [
    {
     "data": {
      "text/html": [
       "<div>\n",
       "<style scoped>\n",
       "    .dataframe tbody tr th:only-of-type {\n",
       "        vertical-align: middle;\n",
       "    }\n",
       "\n",
       "    .dataframe tbody tr th {\n",
       "        vertical-align: top;\n",
       "    }\n",
       "\n",
       "    .dataframe thead th {\n",
       "        text-align: right;\n",
       "    }\n",
       "</style>\n",
       "<table border=\"1\" class=\"dataframe\">\n",
       "  <thead>\n",
       "    <tr style=\"text-align: right;\">\n",
       "      <th></th>\n",
       "      <th>date</th>\n",
       "      <th>group</th>\n",
       "      <th>visitors</th>\n",
       "    </tr>\n",
       "  </thead>\n",
       "  <tbody>\n",
       "    <tr>\n",
       "      <th>0</th>\n",
       "      <td>2019-08-01</td>\n",
       "      <td>A</td>\n",
       "      <td>719</td>\n",
       "    </tr>\n",
       "    <tr>\n",
       "      <th>1</th>\n",
       "      <td>2019-08-02</td>\n",
       "      <td>A</td>\n",
       "      <td>619</td>\n",
       "    </tr>\n",
       "    <tr>\n",
       "      <th>2</th>\n",
       "      <td>2019-08-03</td>\n",
       "      <td>A</td>\n",
       "      <td>507</td>\n",
       "    </tr>\n",
       "    <tr>\n",
       "      <th>3</th>\n",
       "      <td>2019-08-04</td>\n",
       "      <td>A</td>\n",
       "      <td>717</td>\n",
       "    </tr>\n",
       "    <tr>\n",
       "      <th>4</th>\n",
       "      <td>2019-08-05</td>\n",
       "      <td>A</td>\n",
       "      <td>756</td>\n",
       "    </tr>\n",
       "  </tbody>\n",
       "</table>\n",
       "</div>"
      ],
      "text/plain": [
       "         date group  visitors\n",
       "0  2019-08-01  A     719     \n",
       "1  2019-08-02  A     619     \n",
       "2  2019-08-03  A     507     \n",
       "3  2019-08-04  A     717     \n",
       "4  2019-08-05  A     756     "
      ]
     },
     "metadata": {},
     "output_type": "display_data"
    },
    {
     "name": "stdout",
     "output_type": "stream",
     "text": [
      "Количество дубликатов - 0\n"
     ]
    },
    {
     "data": {
      "text/html": [
       "<div>\n",
       "<style scoped>\n",
       "    .dataframe tbody tr th:only-of-type {\n",
       "        vertical-align: middle;\n",
       "    }\n",
       "\n",
       "    .dataframe tbody tr th {\n",
       "        vertical-align: top;\n",
       "    }\n",
       "\n",
       "    .dataframe thead th {\n",
       "        text-align: right;\n",
       "    }\n",
       "</style>\n",
       "<table border=\"1\" class=\"dataframe\">\n",
       "  <thead>\n",
       "    <tr style=\"text-align: right;\">\n",
       "      <th></th>\n",
       "      <th>visitors</th>\n",
       "    </tr>\n",
       "  </thead>\n",
       "  <tbody>\n",
       "    <tr>\n",
       "      <th>count</th>\n",
       "      <td>62.000000</td>\n",
       "    </tr>\n",
       "    <tr>\n",
       "      <th>mean</th>\n",
       "      <td>607.290323</td>\n",
       "    </tr>\n",
       "    <tr>\n",
       "      <th>std</th>\n",
       "      <td>114.400560</td>\n",
       "    </tr>\n",
       "    <tr>\n",
       "      <th>min</th>\n",
       "      <td>361.000000</td>\n",
       "    </tr>\n",
       "    <tr>\n",
       "      <th>25%</th>\n",
       "      <td>534.000000</td>\n",
       "    </tr>\n",
       "    <tr>\n",
       "      <th>50%</th>\n",
       "      <td>624.500000</td>\n",
       "    </tr>\n",
       "    <tr>\n",
       "      <th>75%</th>\n",
       "      <td>710.500000</td>\n",
       "    </tr>\n",
       "    <tr>\n",
       "      <th>max</th>\n",
       "      <td>770.000000</td>\n",
       "    </tr>\n",
       "  </tbody>\n",
       "</table>\n",
       "</div>"
      ],
      "text/plain": [
       "         visitors\n",
       "count  62.000000 \n",
       "mean   607.290323\n",
       "std    114.400560\n",
       "min    361.000000\n",
       "25%    534.000000\n",
       "50%    624.500000\n",
       "75%    710.500000\n",
       "max    770.000000"
      ]
     },
     "metadata": {},
     "output_type": "display_data"
    },
    {
     "data": {
      "text/plain": [
       "A    31\n",
       "B    31\n",
       "Name: group, dtype: int64"
      ]
     },
     "metadata": {},
     "output_type": "display_data"
    },
    {
     "name": "stdout",
     "output_type": "stream",
     "text": [
      "**************************************************\n",
      "<class 'pandas.core.frame.DataFrame'>\n",
      "RangeIndex: 62 entries, 0 to 61\n",
      "Data columns (total 3 columns):\n",
      " #   Column    Non-Null Count  Dtype         \n",
      "---  ------    --------------  -----         \n",
      " 0   date      62 non-null     datetime64[ns]\n",
      " 1   group     62 non-null     object        \n",
      " 2   visitors  62 non-null     int64         \n",
      "dtypes: datetime64[ns](1), int64(1), object(1)\n",
      "memory usage: 1.3+ KB\n"
     ]
    }
   ],
   "source": [
    "def inspect(df):\n",
    "    display(df.head()) \n",
    "    print ('Количество дубликатов -', df.duplicated().sum())\n",
    "    numeric_columns=df.describe().columns\n",
    "    display(df.describe())\n",
    "    display()\n",
    "    for column_name in df.columns:\n",
    "        if column_name not in numeric_columns:\n",
    "            if 'date' in column_name or 'dt' in column_name:\n",
    "                df[column_name] = df[column_name].map(lambda x: dt.datetime.strptime(x, '%Y-%m-%d'))\n",
    "            else:\n",
    "                display(df[column_name].value_counts())\n",
    "                print(50*'*')\n",
    "    df.info()            \n",
    "    \n",
    "    return df\n",
    "visitors = inspect(visitors)"
   ]
  },
  {
   "cell_type": "code",
   "execution_count": 10,
   "metadata": {},
   "outputs": [
    {
     "name": "stdout",
     "output_type": "stream",
     "text": [
      "<class 'pandas.core.frame.DataFrame'>\n",
      "RangeIndex: 62 entries, 0 to 61\n",
      "Data columns (total 3 columns):\n",
      " #   Column    Non-Null Count  Dtype         \n",
      "---  ------    --------------  -----         \n",
      " 0   date      62 non-null     datetime64[ns]\n",
      " 1   group     62 non-null     object        \n",
      " 2   visitors  62 non-null     int64         \n",
      "dtypes: datetime64[ns](1), int64(1), object(1)\n",
      "memory usage: 1.3+ KB\n"
     ]
    }
   ],
   "source": [
    "visitors.info()"
   ]
  },
  {
   "cell_type": "code",
   "execution_count": 11,
   "metadata": {},
   "outputs": [
    {
     "data": {
      "text/plain": [
       "group\n",
       "A    31\n",
       "B    31\n",
       "Name: visitors, dtype: int64"
      ]
     },
     "execution_count": 11,
     "metadata": {},
     "output_type": "execute_result"
    }
   ],
   "source": [
    "visitors.groupby('group')['visitors'].count()"
   ]
  },
  {
   "cell_type": "code",
   "execution_count": 12,
   "metadata": {},
   "outputs": [
    {
     "data": {
      "text/plain": [
       "group\n",
       "A    557\n",
       "B    640\n",
       "Name: visitorId, dtype: int64"
      ]
     },
     "execution_count": 12,
     "metadata": {},
     "output_type": "execute_result"
    }
   ],
   "source": [
    "orders.groupby('group')['visitorId'].count()"
   ]
  },
  {
   "cell_type": "code",
   "execution_count": 13,
   "metadata": {},
   "outputs": [
    {
     "data": {
      "text/plain": [
       "visitorId   group\n",
       "5114589     B        1\n",
       "6958315     B        1\n",
       "8300375     A        1\n",
       "            B        1\n",
       "11685486    A        1\n",
       "                    ..\n",
       "4266935830  B        1\n",
       "4278982564  A        1\n",
       "4279090005  B        1\n",
       "4281247801  B        1\n",
       "4283872382  B        1\n",
       "Length: 1089, dtype: int64"
      ]
     },
     "execution_count": 13,
     "metadata": {},
     "output_type": "execute_result"
    }
   ],
   "source": [
    "orders.groupby(['visitorId', 'group']).size()"
   ]
  },
  {
   "cell_type": "code",
   "execution_count": 14,
   "metadata": {},
   "outputs": [],
   "source": [
    "unique_user_A = orders[orders['group'] == 'A']['visitorId'].unique()\n",
    "unique_user_B = orders[orders['group'] == 'B']['visitorId'].unique()\n",
    "\n",
    "overlapping_users_count = 0 \n",
    "overlapping_users = []\n",
    "\n",
    "for i in unique_user_A:\n",
    "    if i in unique_user_B:\n",
    "        overlapping_users_count += 1\n",
    "        overlapping_users.append(i)"
   ]
  },
  {
   "cell_type": "code",
   "execution_count": 15,
   "metadata": {},
   "outputs": [
    {
     "data": {
      "text/plain": [
       "58"
      ]
     },
     "execution_count": 15,
     "metadata": {},
     "output_type": "execute_result"
    }
   ],
   "source": [
    "overlapping_users_count"
   ]
  },
  {
   "cell_type": "code",
   "execution_count": 50,
   "metadata": {},
   "outputs": [
    {
     "data": {
      "text/plain": [
       "58"
      ]
     },
     "metadata": {},
     "output_type": "display_data"
    }
   ],
   "source": [
    "duplicated_users = orders.groupby('visitorId').agg({'group': ['nunique', 'unique']})\n",
    "duplicated_users.columns = ['groups', 'group_names']\n",
    "duplicated_users = duplicated_users.query('groups > 1')\n",
    "display(len(duplicated_users))"
   ]
  },
  {
   "cell_type": "code",
   "execution_count": null,
   "metadata": {},
   "outputs": [],
   "source": [
    " Например, вот так:\n",
    "#     \n",
    "# `unique_user_A = orders[orders['group'] == 'A']['visitorId'].unique()`\n",
    "# `unique_user_B = orders[orders['group'] == 'B']['visitorId'].unique()`\n",
    "# \n",
    "# `overlapping_users_count = 0`\n",
    "# `overlapping_users = []`\n",
    "# \n",
    "# `for i in unique_user_A:\n",
    "#     if i in unique_user_B:\n",
    "#         overlapping_users_count += 1\n",
    "#         overlapping_users.append(i)`\n",
    "#         \n",
    "# Еще можно с помощью `groupby()`\n",
    "#     \n",
    "# `duplicated_users = orders.groupby('visitorId').agg({'group': ['nunique', 'unique']})`\n",
    "# `duplicated_users.columns = ['groups', 'group_names']`\n",
    "# `duplicated_users = duplicated_users.query('groups > 1')`\n",
    "# `display(len(duplicated_users))"
   ]
  },
  {
   "cell_type": "markdown",
   "metadata": {},
   "source": [
    "## Исследовательский анализ данных"
   ]
  },
  {
   "cell_type": "markdown",
   "metadata": {},
   "source": [
    "Проанализируем A/B-тест:\n",
    "    \n",
    "### Построим график кумулятивной выручки по группам. "
   ]
  },
  {
   "cell_type": "code",
   "execution_count": 16,
   "metadata": {},
   "outputs": [
    {
     "data": {
      "text/html": [
       "<div>\n",
       "<style scoped>\n",
       "    .dataframe tbody tr th:only-of-type {\n",
       "        vertical-align: middle;\n",
       "    }\n",
       "\n",
       "    .dataframe tbody tr th {\n",
       "        vertical-align: top;\n",
       "    }\n",
       "\n",
       "    .dataframe thead th {\n",
       "        text-align: right;\n",
       "    }\n",
       "</style>\n",
       "<table border=\"1\" class=\"dataframe\">\n",
       "  <thead>\n",
       "    <tr style=\"text-align: right;\">\n",
       "      <th></th>\n",
       "      <th>transactionId</th>\n",
       "      <th>visitorId</th>\n",
       "      <th>date</th>\n",
       "      <th>revenue</th>\n",
       "      <th>group</th>\n",
       "    </tr>\n",
       "  </thead>\n",
       "  <tbody>\n",
       "    <tr>\n",
       "      <th>0</th>\n",
       "      <td>3667963787</td>\n",
       "      <td>3312258926</td>\n",
       "      <td>2019-08-15</td>\n",
       "      <td>1650</td>\n",
       "      <td>B</td>\n",
       "    </tr>\n",
       "    <tr>\n",
       "      <th>1</th>\n",
       "      <td>2804400009</td>\n",
       "      <td>3642806036</td>\n",
       "      <td>2019-08-15</td>\n",
       "      <td>730</td>\n",
       "      <td>B</td>\n",
       "    </tr>\n",
       "    <tr>\n",
       "      <th>2</th>\n",
       "      <td>2961555356</td>\n",
       "      <td>4069496402</td>\n",
       "      <td>2019-08-15</td>\n",
       "      <td>400</td>\n",
       "      <td>A</td>\n",
       "    </tr>\n",
       "    <tr>\n",
       "      <th>3</th>\n",
       "      <td>3797467345</td>\n",
       "      <td>1196621759</td>\n",
       "      <td>2019-08-15</td>\n",
       "      <td>9759</td>\n",
       "      <td>B</td>\n",
       "    </tr>\n",
       "    <tr>\n",
       "      <th>4</th>\n",
       "      <td>2282983706</td>\n",
       "      <td>2322279887</td>\n",
       "      <td>2019-08-15</td>\n",
       "      <td>2308</td>\n",
       "      <td>B</td>\n",
       "    </tr>\n",
       "  </tbody>\n",
       "</table>\n",
       "</div>"
      ],
      "text/plain": [
       "   transactionId   visitorId       date  revenue group\n",
       "0  3667963787     3312258926 2019-08-15  1650     B   \n",
       "1  2804400009     3642806036 2019-08-15  730      B   \n",
       "2  2961555356     4069496402 2019-08-15  400      A   \n",
       "3  3797467345     1196621759 2019-08-15  9759     B   \n",
       "4  2282983706     2322279887 2019-08-15  2308     B   "
      ]
     },
     "execution_count": 16,
     "metadata": {},
     "output_type": "execute_result"
    }
   ],
   "source": [
    "orders.head()\n"
   ]
  },
  {
   "cell_type": "code",
   "execution_count": 17,
   "metadata": {},
   "outputs": [
    {
     "data": {
      "text/html": [
       "<div>\n",
       "<style scoped>\n",
       "    .dataframe tbody tr th:only-of-type {\n",
       "        vertical-align: middle;\n",
       "    }\n",
       "\n",
       "    .dataframe tbody tr th {\n",
       "        vertical-align: top;\n",
       "    }\n",
       "\n",
       "    .dataframe thead th {\n",
       "        text-align: right;\n",
       "    }\n",
       "</style>\n",
       "<table border=\"1\" class=\"dataframe\">\n",
       "  <thead>\n",
       "    <tr style=\"text-align: right;\">\n",
       "      <th></th>\n",
       "      <th>date</th>\n",
       "      <th>group</th>\n",
       "    </tr>\n",
       "  </thead>\n",
       "  <tbody>\n",
       "    <tr>\n",
       "      <th>0</th>\n",
       "      <td>2019-08-15</td>\n",
       "      <td>B</td>\n",
       "    </tr>\n",
       "    <tr>\n",
       "      <th>2</th>\n",
       "      <td>2019-08-15</td>\n",
       "      <td>A</td>\n",
       "    </tr>\n",
       "    <tr>\n",
       "      <th>45</th>\n",
       "      <td>2019-08-16</td>\n",
       "      <td>A</td>\n",
       "    </tr>\n",
       "    <tr>\n",
       "      <th>47</th>\n",
       "      <td>2019-08-16</td>\n",
       "      <td>B</td>\n",
       "    </tr>\n",
       "    <tr>\n",
       "      <th>55</th>\n",
       "      <td>2019-08-01</td>\n",
       "      <td>A</td>\n",
       "    </tr>\n",
       "    <tr>\n",
       "      <th>...</th>\n",
       "      <td>...</td>\n",
       "      <td>...</td>\n",
       "    </tr>\n",
       "    <tr>\n",
       "      <th>1068</th>\n",
       "      <td>2019-08-12</td>\n",
       "      <td>A</td>\n",
       "    </tr>\n",
       "    <tr>\n",
       "      <th>1114</th>\n",
       "      <td>2019-08-13</td>\n",
       "      <td>B</td>\n",
       "    </tr>\n",
       "    <tr>\n",
       "      <th>1116</th>\n",
       "      <td>2019-08-13</td>\n",
       "      <td>A</td>\n",
       "    </tr>\n",
       "    <tr>\n",
       "      <th>1149</th>\n",
       "      <td>2019-08-14</td>\n",
       "      <td>B</td>\n",
       "    </tr>\n",
       "    <tr>\n",
       "      <th>1150</th>\n",
       "      <td>2019-08-14</td>\n",
       "      <td>A</td>\n",
       "    </tr>\n",
       "  </tbody>\n",
       "</table>\n",
       "<p>62 rows × 2 columns</p>\n",
       "</div>"
      ],
      "text/plain": [
       "           date group\n",
       "0    2019-08-15  B   \n",
       "2    2019-08-15  A   \n",
       "45   2019-08-16  A   \n",
       "47   2019-08-16  B   \n",
       "55   2019-08-01  A   \n",
       "...         ... ..   \n",
       "1068 2019-08-12  A   \n",
       "1114 2019-08-13  B   \n",
       "1116 2019-08-13  A   \n",
       "1149 2019-08-14  B   \n",
       "1150 2019-08-14  A   \n",
       "\n",
       "[62 rows x 2 columns]"
      ]
     },
     "execution_count": 17,
     "metadata": {},
     "output_type": "execute_result"
    }
   ],
   "source": [
    "#создаем массив уникальных пар значений дат и групп теста\n",
    "datesGroups = orders[['date','group']].drop_duplicates() \n",
    "datesGroups"
   ]
  },
  {
   "cell_type": "code",
   "execution_count": 18,
   "metadata": {},
   "outputs": [
    {
     "data": {
      "text/html": [
       "<div>\n",
       "<style scoped>\n",
       "    .dataframe tbody tr th:only-of-type {\n",
       "        vertical-align: middle;\n",
       "    }\n",
       "\n",
       "    .dataframe tbody tr th {\n",
       "        vertical-align: top;\n",
       "    }\n",
       "\n",
       "    .dataframe thead th {\n",
       "        text-align: right;\n",
       "    }\n",
       "</style>\n",
       "<table border=\"1\" class=\"dataframe\">\n",
       "  <thead>\n",
       "    <tr style=\"text-align: right;\">\n",
       "      <th></th>\n",
       "      <th>date</th>\n",
       "      <th>group</th>\n",
       "      <th>transactionId</th>\n",
       "      <th>visitorId</th>\n",
       "      <th>revenue</th>\n",
       "    </tr>\n",
       "  </thead>\n",
       "  <tbody>\n",
       "    <tr>\n",
       "      <th>55</th>\n",
       "      <td>2019-08-01</td>\n",
       "      <td>A</td>\n",
       "      <td>24</td>\n",
       "      <td>20</td>\n",
       "      <td>148579</td>\n",
       "    </tr>\n",
       "    <tr>\n",
       "      <th>66</th>\n",
       "      <td>2019-08-01</td>\n",
       "      <td>B</td>\n",
       "      <td>21</td>\n",
       "      <td>20</td>\n",
       "      <td>101217</td>\n",
       "    </tr>\n",
       "    <tr>\n",
       "      <th>175</th>\n",
       "      <td>2019-08-02</td>\n",
       "      <td>A</td>\n",
       "      <td>44</td>\n",
       "      <td>38</td>\n",
       "      <td>242401</td>\n",
       "    </tr>\n",
       "    <tr>\n",
       "      <th>173</th>\n",
       "      <td>2019-08-02</td>\n",
       "      <td>B</td>\n",
       "      <td>45</td>\n",
       "      <td>43</td>\n",
       "      <td>266748</td>\n",
       "    </tr>\n",
       "    <tr>\n",
       "      <th>291</th>\n",
       "      <td>2019-08-03</td>\n",
       "      <td>A</td>\n",
       "      <td>68</td>\n",
       "      <td>62</td>\n",
       "      <td>354874</td>\n",
       "    </tr>\n",
       "    <tr>\n",
       "      <th>...</th>\n",
       "      <td>...</td>\n",
       "      <td>...</td>\n",
       "      <td>...</td>\n",
       "      <td>...</td>\n",
       "      <td>...</td>\n",
       "    </tr>\n",
       "    <tr>\n",
       "      <th>496</th>\n",
       "      <td>2019-08-29</td>\n",
       "      <td>B</td>\n",
       "      <td>596</td>\n",
       "      <td>544</td>\n",
       "      <td>5559398</td>\n",
       "    </tr>\n",
       "    <tr>\n",
       "      <th>730</th>\n",
       "      <td>2019-08-30</td>\n",
       "      <td>A</td>\n",
       "      <td>545</td>\n",
       "      <td>493</td>\n",
       "      <td>4022970</td>\n",
       "    </tr>\n",
       "    <tr>\n",
       "      <th>690</th>\n",
       "      <td>2019-08-30</td>\n",
       "      <td>B</td>\n",
       "      <td>620</td>\n",
       "      <td>567</td>\n",
       "      <td>5774631</td>\n",
       "    </tr>\n",
       "    <tr>\n",
       "      <th>958</th>\n",
       "      <td>2019-08-31</td>\n",
       "      <td>A</td>\n",
       "      <td>557</td>\n",
       "      <td>503</td>\n",
       "      <td>4084803</td>\n",
       "    </tr>\n",
       "    <tr>\n",
       "      <th>930</th>\n",
       "      <td>2019-08-31</td>\n",
       "      <td>B</td>\n",
       "      <td>640</td>\n",
       "      <td>586</td>\n",
       "      <td>5907760</td>\n",
       "    </tr>\n",
       "  </tbody>\n",
       "</table>\n",
       "<p>62 rows × 5 columns</p>\n",
       "</div>"
      ],
      "text/plain": [
       "          date group  transactionId  visitorId  revenue\n",
       "55  2019-08-01  A     24             20         148579 \n",
       "66  2019-08-01  B     21             20         101217 \n",
       "175 2019-08-02  A     44             38         242401 \n",
       "173 2019-08-02  B     45             43         266748 \n",
       "291 2019-08-03  A     68             62         354874 \n",
       "..         ... ..     ..             ..            ... \n",
       "496 2019-08-29  B     596            544        5559398\n",
       "730 2019-08-30  A     545            493        4022970\n",
       "690 2019-08-30  B     620            567        5774631\n",
       "958 2019-08-31  A     557            503        4084803\n",
       "930 2019-08-31  B     640            586        5907760\n",
       "\n",
       "[62 rows x 5 columns]"
      ]
     },
     "execution_count": 18,
     "metadata": {},
     "output_type": "execute_result"
    }
   ],
   "source": [
    "# получаем агрегированные кумулятивные по дням данные о заказах \n",
    "ordersAggregated = datesGroups \\\n",
    "    .apply(lambda x: orders[np.logical_and(orders['date'] <= x['date'], orders['group'] == x['group'])] \\\n",
    "    .agg({'date' : 'max', 'group' : 'max', 'transactionId' : 'nunique', 'visitorId' : 'nunique', 'revenue' : 'sum'}), axis=1) \\\n",
    "    .sort_values(by=['date','group'])\n",
    "ordersAggregated"
   ]
  },
  {
   "cell_type": "code",
   "execution_count": 19,
   "metadata": {},
   "outputs": [
    {
     "data": {
      "text/html": [
       "<div>\n",
       "<style scoped>\n",
       "    .dataframe tbody tr th:only-of-type {\n",
       "        vertical-align: middle;\n",
       "    }\n",
       "\n",
       "    .dataframe tbody tr th {\n",
       "        vertical-align: top;\n",
       "    }\n",
       "\n",
       "    .dataframe thead th {\n",
       "        text-align: right;\n",
       "    }\n",
       "</style>\n",
       "<table border=\"1\" class=\"dataframe\">\n",
       "  <thead>\n",
       "    <tr style=\"text-align: right;\">\n",
       "      <th></th>\n",
       "      <th>date</th>\n",
       "      <th>group</th>\n",
       "      <th>visitors</th>\n",
       "    </tr>\n",
       "  </thead>\n",
       "  <tbody>\n",
       "    <tr>\n",
       "      <th>55</th>\n",
       "      <td>2019-08-01</td>\n",
       "      <td>A</td>\n",
       "      <td>719</td>\n",
       "    </tr>\n",
       "    <tr>\n",
       "      <th>66</th>\n",
       "      <td>2019-08-01</td>\n",
       "      <td>B</td>\n",
       "      <td>713</td>\n",
       "    </tr>\n",
       "    <tr>\n",
       "      <th>175</th>\n",
       "      <td>2019-08-02</td>\n",
       "      <td>A</td>\n",
       "      <td>1338</td>\n",
       "    </tr>\n",
       "    <tr>\n",
       "      <th>173</th>\n",
       "      <td>2019-08-02</td>\n",
       "      <td>B</td>\n",
       "      <td>1294</td>\n",
       "    </tr>\n",
       "    <tr>\n",
       "      <th>291</th>\n",
       "      <td>2019-08-03</td>\n",
       "      <td>A</td>\n",
       "      <td>1845</td>\n",
       "    </tr>\n",
       "    <tr>\n",
       "      <th>...</th>\n",
       "      <td>...</td>\n",
       "      <td>...</td>\n",
       "      <td>...</td>\n",
       "    </tr>\n",
       "    <tr>\n",
       "      <th>496</th>\n",
       "      <td>2019-08-29</td>\n",
       "      <td>B</td>\n",
       "      <td>17708</td>\n",
       "    </tr>\n",
       "    <tr>\n",
       "      <th>730</th>\n",
       "      <td>2019-08-30</td>\n",
       "      <td>A</td>\n",
       "      <td>18037</td>\n",
       "    </tr>\n",
       "    <tr>\n",
       "      <th>690</th>\n",
       "      <td>2019-08-30</td>\n",
       "      <td>B</td>\n",
       "      <td>18198</td>\n",
       "    </tr>\n",
       "    <tr>\n",
       "      <th>958</th>\n",
       "      <td>2019-08-31</td>\n",
       "      <td>A</td>\n",
       "      <td>18736</td>\n",
       "    </tr>\n",
       "    <tr>\n",
       "      <th>930</th>\n",
       "      <td>2019-08-31</td>\n",
       "      <td>B</td>\n",
       "      <td>18916</td>\n",
       "    </tr>\n",
       "  </tbody>\n",
       "</table>\n",
       "<p>62 rows × 3 columns</p>\n",
       "</div>"
      ],
      "text/plain": [
       "          date group  visitors\n",
       "55  2019-08-01  A     719     \n",
       "66  2019-08-01  B     713     \n",
       "175 2019-08-02  A     1338    \n",
       "173 2019-08-02  B     1294    \n",
       "291 2019-08-03  A     1845    \n",
       "..         ... ..      ...    \n",
       "496 2019-08-29  B     17708   \n",
       "730 2019-08-30  A     18037   \n",
       "690 2019-08-30  B     18198   \n",
       "958 2019-08-31  A     18736   \n",
       "930 2019-08-31  B     18916   \n",
       "\n",
       "[62 rows x 3 columns]"
      ]
     },
     "execution_count": 19,
     "metadata": {},
     "output_type": "execute_result"
    }
   ],
   "source": [
    "# получаем агрегированные кумулятивные по дням данные о посетителях интернет-магазина :\n",
    "visitorsAggregated = datesGroups \\\n",
    "    .apply(lambda x: visitors[np.logical_and(visitors['date'] <= x['date'], visitors['group'] == x['group'])] \\\n",
    "    .agg({'date' : 'max', 'group' : 'max', 'visitors' : 'sum'}), axis=1) \\\n",
    "    .sort_values(by=['date','group'])\n",
    "visitorsAggregated"
   ]
  },
  {
   "cell_type": "code",
   "execution_count": 20,
   "metadata": {},
   "outputs": [
    {
     "data": {
      "text/html": [
       "<div>\n",
       "<style scoped>\n",
       "    .dataframe tbody tr th:only-of-type {\n",
       "        vertical-align: middle;\n",
       "    }\n",
       "\n",
       "    .dataframe tbody tr th {\n",
       "        vertical-align: top;\n",
       "    }\n",
       "\n",
       "    .dataframe thead th {\n",
       "        text-align: right;\n",
       "    }\n",
       "</style>\n",
       "<table border=\"1\" class=\"dataframe\">\n",
       "  <thead>\n",
       "    <tr style=\"text-align: right;\">\n",
       "      <th></th>\n",
       "      <th>date</th>\n",
       "      <th>group</th>\n",
       "      <th>orders</th>\n",
       "      <th>buyers</th>\n",
       "      <th>revenue</th>\n",
       "      <th>visitors</th>\n",
       "    </tr>\n",
       "  </thead>\n",
       "  <tbody>\n",
       "    <tr>\n",
       "      <th>0</th>\n",
       "      <td>2019-08-01</td>\n",
       "      <td>A</td>\n",
       "      <td>24</td>\n",
       "      <td>20</td>\n",
       "      <td>148579</td>\n",
       "      <td>719</td>\n",
       "    </tr>\n",
       "    <tr>\n",
       "      <th>1</th>\n",
       "      <td>2019-08-01</td>\n",
       "      <td>B</td>\n",
       "      <td>21</td>\n",
       "      <td>20</td>\n",
       "      <td>101217</td>\n",
       "      <td>713</td>\n",
       "    </tr>\n",
       "    <tr>\n",
       "      <th>2</th>\n",
       "      <td>2019-08-02</td>\n",
       "      <td>A</td>\n",
       "      <td>44</td>\n",
       "      <td>38</td>\n",
       "      <td>242401</td>\n",
       "      <td>1338</td>\n",
       "    </tr>\n",
       "    <tr>\n",
       "      <th>3</th>\n",
       "      <td>2019-08-02</td>\n",
       "      <td>B</td>\n",
       "      <td>45</td>\n",
       "      <td>43</td>\n",
       "      <td>266748</td>\n",
       "      <td>1294</td>\n",
       "    </tr>\n",
       "    <tr>\n",
       "      <th>4</th>\n",
       "      <td>2019-08-03</td>\n",
       "      <td>A</td>\n",
       "      <td>68</td>\n",
       "      <td>62</td>\n",
       "      <td>354874</td>\n",
       "      <td>1845</td>\n",
       "    </tr>\n",
       "    <tr>\n",
       "      <th>...</th>\n",
       "      <td>...</td>\n",
       "      <td>...</td>\n",
       "      <td>...</td>\n",
       "      <td>...</td>\n",
       "      <td>...</td>\n",
       "      <td>...</td>\n",
       "    </tr>\n",
       "    <tr>\n",
       "      <th>57</th>\n",
       "      <td>2019-08-29</td>\n",
       "      <td>B</td>\n",
       "      <td>596</td>\n",
       "      <td>544</td>\n",
       "      <td>5559398</td>\n",
       "      <td>17708</td>\n",
       "    </tr>\n",
       "    <tr>\n",
       "      <th>58</th>\n",
       "      <td>2019-08-30</td>\n",
       "      <td>A</td>\n",
       "      <td>545</td>\n",
       "      <td>493</td>\n",
       "      <td>4022970</td>\n",
       "      <td>18037</td>\n",
       "    </tr>\n",
       "    <tr>\n",
       "      <th>59</th>\n",
       "      <td>2019-08-30</td>\n",
       "      <td>B</td>\n",
       "      <td>620</td>\n",
       "      <td>567</td>\n",
       "      <td>5774631</td>\n",
       "      <td>18198</td>\n",
       "    </tr>\n",
       "    <tr>\n",
       "      <th>60</th>\n",
       "      <td>2019-08-31</td>\n",
       "      <td>A</td>\n",
       "      <td>557</td>\n",
       "      <td>503</td>\n",
       "      <td>4084803</td>\n",
       "      <td>18736</td>\n",
       "    </tr>\n",
       "    <tr>\n",
       "      <th>61</th>\n",
       "      <td>2019-08-31</td>\n",
       "      <td>B</td>\n",
       "      <td>640</td>\n",
       "      <td>586</td>\n",
       "      <td>5907760</td>\n",
       "      <td>18916</td>\n",
       "    </tr>\n",
       "  </tbody>\n",
       "</table>\n",
       "<p>62 rows × 6 columns</p>\n",
       "</div>"
      ],
      "text/plain": [
       "         date group  orders  buyers  revenue  visitors\n",
       "0  2019-08-01  A     24      20      148579   719     \n",
       "1  2019-08-01  B     21      20      101217   713     \n",
       "2  2019-08-02  A     44      38      242401   1338    \n",
       "3  2019-08-02  B     45      43      266748   1294    \n",
       "4  2019-08-03  A     68      62      354874   1845    \n",
       "..        ... ..     ..      ..         ...    ...    \n",
       "57 2019-08-29  B     596     544     5559398  17708   \n",
       "58 2019-08-30  A     545     493     4022970  18037   \n",
       "59 2019-08-30  B     620     567     5774631  18198   \n",
       "60 2019-08-31  A     557     503     4084803  18736   \n",
       "61 2019-08-31  B     640     586     5907760  18916   \n",
       "\n",
       "[62 rows x 6 columns]"
      ]
     },
     "execution_count": 20,
     "metadata": {},
     "output_type": "execute_result"
    }
   ],
   "source": [
    "# объединяем кумулятивные данные в одной таблице и присваиваем ее столбцам понятные названия\n",
    "cumulativeData = ordersAggregated.merge(visitorsAggregated, left_on=['date', 'group'], right_on=['date', 'group'])\n",
    "cumulativeData.columns = ['date', 'group', 'orders', 'buyers', 'revenue', 'visitors']\n",
    "cumulativeData"
   ]
  },
  {
   "cell_type": "markdown",
   "metadata": {},
   "source": [
    "### Построим графики кумулятивной выручки по группам A/B-тестирования:"
   ]
  },
  {
   "cell_type": "code",
   "execution_count": 21,
   "metadata": {},
   "outputs": [
    {
     "data": {
      "text/html": [
       "<div>\n",
       "<style scoped>\n",
       "    .dataframe tbody tr th:only-of-type {\n",
       "        vertical-align: middle;\n",
       "    }\n",
       "\n",
       "    .dataframe tbody tr th {\n",
       "        vertical-align: top;\n",
       "    }\n",
       "\n",
       "    .dataframe thead th {\n",
       "        text-align: right;\n",
       "    }\n",
       "</style>\n",
       "<table border=\"1\" class=\"dataframe\">\n",
       "  <thead>\n",
       "    <tr style=\"text-align: right;\">\n",
       "      <th></th>\n",
       "      <th>date</th>\n",
       "      <th>revenue</th>\n",
       "      <th>orders</th>\n",
       "    </tr>\n",
       "  </thead>\n",
       "  <tbody>\n",
       "    <tr>\n",
       "      <th>0</th>\n",
       "      <td>2019-08-01</td>\n",
       "      <td>148579</td>\n",
       "      <td>24</td>\n",
       "    </tr>\n",
       "    <tr>\n",
       "      <th>2</th>\n",
       "      <td>2019-08-02</td>\n",
       "      <td>242401</td>\n",
       "      <td>44</td>\n",
       "    </tr>\n",
       "    <tr>\n",
       "      <th>4</th>\n",
       "      <td>2019-08-03</td>\n",
       "      <td>354874</td>\n",
       "      <td>68</td>\n",
       "    </tr>\n",
       "    <tr>\n",
       "      <th>6</th>\n",
       "      <td>2019-08-04</td>\n",
       "      <td>425699</td>\n",
       "      <td>84</td>\n",
       "    </tr>\n",
       "    <tr>\n",
       "      <th>8</th>\n",
       "      <td>2019-08-05</td>\n",
       "      <td>549917</td>\n",
       "      <td>109</td>\n",
       "    </tr>\n",
       "    <tr>\n",
       "      <th>10</th>\n",
       "      <td>2019-08-06</td>\n",
       "      <td>598401</td>\n",
       "      <td>127</td>\n",
       "    </tr>\n",
       "    <tr>\n",
       "      <th>12</th>\n",
       "      <td>2019-08-07</td>\n",
       "      <td>740818</td>\n",
       "      <td>145</td>\n",
       "    </tr>\n",
       "    <tr>\n",
       "      <th>14</th>\n",
       "      <td>2019-08-08</td>\n",
       "      <td>837097</td>\n",
       "      <td>161</td>\n",
       "    </tr>\n",
       "    <tr>\n",
       "      <th>16</th>\n",
       "      <td>2019-08-09</td>\n",
       "      <td>1025603</td>\n",
       "      <td>177</td>\n",
       "    </tr>\n",
       "    <tr>\n",
       "      <th>18</th>\n",
       "      <td>2019-08-10</td>\n",
       "      <td>1236098</td>\n",
       "      <td>193</td>\n",
       "    </tr>\n",
       "    <tr>\n",
       "      <th>20</th>\n",
       "      <td>2019-08-11</td>\n",
       "      <td>1313683</td>\n",
       "      <td>206</td>\n",
       "    </tr>\n",
       "    <tr>\n",
       "      <th>22</th>\n",
       "      <td>2019-08-12</td>\n",
       "      <td>1562873</td>\n",
       "      <td>230</td>\n",
       "    </tr>\n",
       "    <tr>\n",
       "      <th>24</th>\n",
       "      <td>2019-08-13</td>\n",
       "      <td>1826511</td>\n",
       "      <td>244</td>\n",
       "    </tr>\n",
       "    <tr>\n",
       "      <th>26</th>\n",
       "      <td>2019-08-14</td>\n",
       "      <td>1890852</td>\n",
       "      <td>268</td>\n",
       "    </tr>\n",
       "    <tr>\n",
       "      <th>28</th>\n",
       "      <td>2019-08-15</td>\n",
       "      <td>1979057</td>\n",
       "      <td>283</td>\n",
       "    </tr>\n",
       "    <tr>\n",
       "      <th>30</th>\n",
       "      <td>2019-08-16</td>\n",
       "      <td>2078908</td>\n",
       "      <td>301</td>\n",
       "    </tr>\n",
       "    <tr>\n",
       "      <th>32</th>\n",
       "      <td>2019-08-17</td>\n",
       "      <td>2129769</td>\n",
       "      <td>311</td>\n",
       "    </tr>\n",
       "    <tr>\n",
       "      <th>34</th>\n",
       "      <td>2019-08-18</td>\n",
       "      <td>2202167</td>\n",
       "      <td>328</td>\n",
       "    </tr>\n",
       "    <tr>\n",
       "      <th>36</th>\n",
       "      <td>2019-08-19</td>\n",
       "      <td>2391910</td>\n",
       "      <td>350</td>\n",
       "    </tr>\n",
       "    <tr>\n",
       "      <th>38</th>\n",
       "      <td>2019-08-20</td>\n",
       "      <td>2469529</td>\n",
       "      <td>362</td>\n",
       "    </tr>\n",
       "    <tr>\n",
       "      <th>40</th>\n",
       "      <td>2019-08-21</td>\n",
       "      <td>2643838</td>\n",
       "      <td>385</td>\n",
       "    </tr>\n",
       "    <tr>\n",
       "      <th>42</th>\n",
       "      <td>2019-08-22</td>\n",
       "      <td>2756579</td>\n",
       "      <td>401</td>\n",
       "    </tr>\n",
       "    <tr>\n",
       "      <th>44</th>\n",
       "      <td>2019-08-23</td>\n",
       "      <td>2874367</td>\n",
       "      <td>426</td>\n",
       "    </tr>\n",
       "    <tr>\n",
       "      <th>46</th>\n",
       "      <td>2019-08-24</td>\n",
       "      <td>3002070</td>\n",
       "      <td>441</td>\n",
       "    </tr>\n",
       "    <tr>\n",
       "      <th>48</th>\n",
       "      <td>2019-08-25</td>\n",
       "      <td>3070704</td>\n",
       "      <td>451</td>\n",
       "    </tr>\n",
       "    <tr>\n",
       "      <th>50</th>\n",
       "      <td>2019-08-26</td>\n",
       "      <td>3227918</td>\n",
       "      <td>467</td>\n",
       "    </tr>\n",
       "    <tr>\n",
       "      <th>52</th>\n",
       "      <td>2019-08-27</td>\n",
       "      <td>3514698</td>\n",
       "      <td>495</td>\n",
       "    </tr>\n",
       "    <tr>\n",
       "      <th>54</th>\n",
       "      <td>2019-08-28</td>\n",
       "      <td>3615820</td>\n",
       "      <td>512</td>\n",
       "    </tr>\n",
       "    <tr>\n",
       "      <th>56</th>\n",
       "      <td>2019-08-29</td>\n",
       "      <td>3936510</td>\n",
       "      <td>534</td>\n",
       "    </tr>\n",
       "    <tr>\n",
       "      <th>58</th>\n",
       "      <td>2019-08-30</td>\n",
       "      <td>4022970</td>\n",
       "      <td>545</td>\n",
       "    </tr>\n",
       "    <tr>\n",
       "      <th>60</th>\n",
       "      <td>2019-08-31</td>\n",
       "      <td>4084803</td>\n",
       "      <td>557</td>\n",
       "    </tr>\n",
       "  </tbody>\n",
       "</table>\n",
       "</div>"
      ],
      "text/plain": [
       "         date  revenue  orders\n",
       "0  2019-08-01  148579   24    \n",
       "2  2019-08-02  242401   44    \n",
       "4  2019-08-03  354874   68    \n",
       "6  2019-08-04  425699   84    \n",
       "8  2019-08-05  549917   109   \n",
       "10 2019-08-06  598401   127   \n",
       "12 2019-08-07  740818   145   \n",
       "14 2019-08-08  837097   161   \n",
       "16 2019-08-09  1025603  177   \n",
       "18 2019-08-10  1236098  193   \n",
       "20 2019-08-11  1313683  206   \n",
       "22 2019-08-12  1562873  230   \n",
       "24 2019-08-13  1826511  244   \n",
       "26 2019-08-14  1890852  268   \n",
       "28 2019-08-15  1979057  283   \n",
       "30 2019-08-16  2078908  301   \n",
       "32 2019-08-17  2129769  311   \n",
       "34 2019-08-18  2202167  328   \n",
       "36 2019-08-19  2391910  350   \n",
       "38 2019-08-20  2469529  362   \n",
       "40 2019-08-21  2643838  385   \n",
       "42 2019-08-22  2756579  401   \n",
       "44 2019-08-23  2874367  426   \n",
       "46 2019-08-24  3002070  441   \n",
       "48 2019-08-25  3070704  451   \n",
       "50 2019-08-26  3227918  467   \n",
       "52 2019-08-27  3514698  495   \n",
       "54 2019-08-28  3615820  512   \n",
       "56 2019-08-29  3936510  534   \n",
       "58 2019-08-30  4022970  545   \n",
       "60 2019-08-31  4084803  557   "
      ]
     },
     "execution_count": 21,
     "metadata": {},
     "output_type": "execute_result"
    }
   ],
   "source": [
    "# датафрейм с кумулятивным количеством заказов и кумулятивной выручкой по дням в группе А\n",
    "cumulativeRevenueA = cumulativeData[cumulativeData['group']=='A'][['date','revenue', 'orders']]\n",
    "cumulativeRevenueA"
   ]
  },
  {
   "cell_type": "code",
   "execution_count": 22,
   "metadata": {},
   "outputs": [
    {
     "data": {
      "text/html": [
       "<div>\n",
       "<style scoped>\n",
       "    .dataframe tbody tr th:only-of-type {\n",
       "        vertical-align: middle;\n",
       "    }\n",
       "\n",
       "    .dataframe tbody tr th {\n",
       "        vertical-align: top;\n",
       "    }\n",
       "\n",
       "    .dataframe thead th {\n",
       "        text-align: right;\n",
       "    }\n",
       "</style>\n",
       "<table border=\"1\" class=\"dataframe\">\n",
       "  <thead>\n",
       "    <tr style=\"text-align: right;\">\n",
       "      <th></th>\n",
       "      <th>date</th>\n",
       "      <th>revenue</th>\n",
       "      <th>orders</th>\n",
       "    </tr>\n",
       "  </thead>\n",
       "  <tbody>\n",
       "    <tr>\n",
       "      <th>1</th>\n",
       "      <td>2019-08-01</td>\n",
       "      <td>101217</td>\n",
       "      <td>21</td>\n",
       "    </tr>\n",
       "    <tr>\n",
       "      <th>3</th>\n",
       "      <td>2019-08-02</td>\n",
       "      <td>266748</td>\n",
       "      <td>45</td>\n",
       "    </tr>\n",
       "    <tr>\n",
       "      <th>5</th>\n",
       "      <td>2019-08-03</td>\n",
       "      <td>380996</td>\n",
       "      <td>61</td>\n",
       "    </tr>\n",
       "    <tr>\n",
       "      <th>7</th>\n",
       "      <td>2019-08-04</td>\n",
       "      <td>489567</td>\n",
       "      <td>78</td>\n",
       "    </tr>\n",
       "    <tr>\n",
       "      <th>9</th>\n",
       "      <td>2019-08-05</td>\n",
       "      <td>581995</td>\n",
       "      <td>101</td>\n",
       "    </tr>\n",
       "    <tr>\n",
       "      <th>11</th>\n",
       "      <td>2019-08-06</td>\n",
       "      <td>824337</td>\n",
       "      <td>129</td>\n",
       "    </tr>\n",
       "    <tr>\n",
       "      <th>13</th>\n",
       "      <td>2019-08-07</td>\n",
       "      <td>1049671</td>\n",
       "      <td>153</td>\n",
       "    </tr>\n",
       "    <tr>\n",
       "      <th>15</th>\n",
       "      <td>2019-08-08</td>\n",
       "      <td>1270589</td>\n",
       "      <td>180</td>\n",
       "    </tr>\n",
       "    <tr>\n",
       "      <th>17</th>\n",
       "      <td>2019-08-09</td>\n",
       "      <td>1431401</td>\n",
       "      <td>205</td>\n",
       "    </tr>\n",
       "    <tr>\n",
       "      <th>19</th>\n",
       "      <td>2019-08-10</td>\n",
       "      <td>1539203</td>\n",
       "      <td>228</td>\n",
       "    </tr>\n",
       "    <tr>\n",
       "      <th>21</th>\n",
       "      <td>2019-08-11</td>\n",
       "      <td>1592513</td>\n",
       "      <td>241</td>\n",
       "    </tr>\n",
       "    <tr>\n",
       "      <th>23</th>\n",
       "      <td>2019-08-12</td>\n",
       "      <td>1734067</td>\n",
       "      <td>264</td>\n",
       "    </tr>\n",
       "    <tr>\n",
       "      <th>25</th>\n",
       "      <td>2019-08-13</td>\n",
       "      <td>1853738</td>\n",
       "      <td>285</td>\n",
       "    </tr>\n",
       "    <tr>\n",
       "      <th>27</th>\n",
       "      <td>2019-08-14</td>\n",
       "      <td>2025446</td>\n",
       "      <td>308</td>\n",
       "    </tr>\n",
       "    <tr>\n",
       "      <th>29</th>\n",
       "      <td>2019-08-15</td>\n",
       "      <td>2367945</td>\n",
       "      <td>339</td>\n",
       "    </tr>\n",
       "    <tr>\n",
       "      <th>31</th>\n",
       "      <td>2019-08-16</td>\n",
       "      <td>2539635</td>\n",
       "      <td>359</td>\n",
       "    </tr>\n",
       "    <tr>\n",
       "      <th>33</th>\n",
       "      <td>2019-08-17</td>\n",
       "      <td>2620790</td>\n",
       "      <td>373</td>\n",
       "    </tr>\n",
       "    <tr>\n",
       "      <th>35</th>\n",
       "      <td>2019-08-18</td>\n",
       "      <td>2686621</td>\n",
       "      <td>382</td>\n",
       "    </tr>\n",
       "    <tr>\n",
       "      <th>37</th>\n",
       "      <td>2019-08-19</td>\n",
       "      <td>4116541</td>\n",
       "      <td>403</td>\n",
       "    </tr>\n",
       "    <tr>\n",
       "      <th>39</th>\n",
       "      <td>2019-08-20</td>\n",
       "      <td>4263815</td>\n",
       "      <td>423</td>\n",
       "    </tr>\n",
       "    <tr>\n",
       "      <th>41</th>\n",
       "      <td>2019-08-21</td>\n",
       "      <td>4426892</td>\n",
       "      <td>437</td>\n",
       "    </tr>\n",
       "    <tr>\n",
       "      <th>43</th>\n",
       "      <td>2019-08-22</td>\n",
       "      <td>4589247</td>\n",
       "      <td>462</td>\n",
       "    </tr>\n",
       "    <tr>\n",
       "      <th>45</th>\n",
       "      <td>2019-08-23</td>\n",
       "      <td>4703216</td>\n",
       "      <td>477</td>\n",
       "    </tr>\n",
       "    <tr>\n",
       "      <th>47</th>\n",
       "      <td>2019-08-24</td>\n",
       "      <td>4798722</td>\n",
       "      <td>493</td>\n",
       "    </tr>\n",
       "    <tr>\n",
       "      <th>49</th>\n",
       "      <td>2019-08-25</td>\n",
       "      <td>4901584</td>\n",
       "      <td>507</td>\n",
       "    </tr>\n",
       "    <tr>\n",
       "      <th>51</th>\n",
       "      <td>2019-08-26</td>\n",
       "      <td>5084583</td>\n",
       "      <td>532</td>\n",
       "    </tr>\n",
       "    <tr>\n",
       "      <th>53</th>\n",
       "      <td>2019-08-27</td>\n",
       "      <td>5232260</td>\n",
       "      <td>548</td>\n",
       "    </tr>\n",
       "    <tr>\n",
       "      <th>55</th>\n",
       "      <td>2019-08-28</td>\n",
       "      <td>5328268</td>\n",
       "      <td>576</td>\n",
       "    </tr>\n",
       "    <tr>\n",
       "      <th>57</th>\n",
       "      <td>2019-08-29</td>\n",
       "      <td>5559398</td>\n",
       "      <td>596</td>\n",
       "    </tr>\n",
       "    <tr>\n",
       "      <th>59</th>\n",
       "      <td>2019-08-30</td>\n",
       "      <td>5774631</td>\n",
       "      <td>620</td>\n",
       "    </tr>\n",
       "    <tr>\n",
       "      <th>61</th>\n",
       "      <td>2019-08-31</td>\n",
       "      <td>5907760</td>\n",
       "      <td>640</td>\n",
       "    </tr>\n",
       "  </tbody>\n",
       "</table>\n",
       "</div>"
      ],
      "text/plain": [
       "         date  revenue  orders\n",
       "1  2019-08-01  101217   21    \n",
       "3  2019-08-02  266748   45    \n",
       "5  2019-08-03  380996   61    \n",
       "7  2019-08-04  489567   78    \n",
       "9  2019-08-05  581995   101   \n",
       "11 2019-08-06  824337   129   \n",
       "13 2019-08-07  1049671  153   \n",
       "15 2019-08-08  1270589  180   \n",
       "17 2019-08-09  1431401  205   \n",
       "19 2019-08-10  1539203  228   \n",
       "21 2019-08-11  1592513  241   \n",
       "23 2019-08-12  1734067  264   \n",
       "25 2019-08-13  1853738  285   \n",
       "27 2019-08-14  2025446  308   \n",
       "29 2019-08-15  2367945  339   \n",
       "31 2019-08-16  2539635  359   \n",
       "33 2019-08-17  2620790  373   \n",
       "35 2019-08-18  2686621  382   \n",
       "37 2019-08-19  4116541  403   \n",
       "39 2019-08-20  4263815  423   \n",
       "41 2019-08-21  4426892  437   \n",
       "43 2019-08-22  4589247  462   \n",
       "45 2019-08-23  4703216  477   \n",
       "47 2019-08-24  4798722  493   \n",
       "49 2019-08-25  4901584  507   \n",
       "51 2019-08-26  5084583  532   \n",
       "53 2019-08-27  5232260  548   \n",
       "55 2019-08-28  5328268  576   \n",
       "57 2019-08-29  5559398  596   \n",
       "59 2019-08-30  5774631  620   \n",
       "61 2019-08-31  5907760  640   "
      ]
     },
     "execution_count": 22,
     "metadata": {},
     "output_type": "execute_result"
    }
   ],
   "source": [
    "# датафрейм с кумулятивным количеством заказов и кумулятивной выручкой по дням в группе B\n",
    "cumulativeRevenueB = cumulativeData[cumulativeData['group']=='B'][['date','revenue', 'orders']]\n",
    "cumulativeRevenueB"
   ]
  },
  {
   "cell_type": "code",
   "execution_count": 23,
   "metadata": {},
   "outputs": [
    {
     "data": {
      "image/png": "[encoded data removed]",
      "text/plain": [
       "<Figure size 432x288 with 1 Axes>"
      ]
     },
     "metadata": {
      "needs_background": "light"
     },
     "output_type": "display_data"
    }
   ],
   "source": [
    "# Строим графики выручки группы А и группы B\n",
    "plt.plot(cumulativeRevenueA['date'], cumulativeRevenueA['revenue'], label='A')\n",
    "plt.plot(cumulativeRevenueB['date'], cumulativeRevenueB['revenue'], label='B')\n",
    "plt.xticks(rotation=45)\n",
    "plt.title('Выручка группы А и группы B')\n",
    "plt.xlabel('Дата')\n",
    "plt.ylabel('Выручка')\n",
    "plt.legend();"
   ]
  },
  {
   "cell_type": "markdown",
   "metadata": {},
   "source": [
    "Наблюдается рост выручки группы В, скорее всего аномальные значения в данных."
   ]
  },
  {
   "cell_type": "markdown",
   "metadata": {},
   "source": [
    "### Построим графики среднего чека по группам — разделим кумулятивную выручку на кумулятивное число заказов:"
   ]
  },
  {
   "cell_type": "code",
   "execution_count": 24,
   "metadata": {},
   "outputs": [
    {
     "data": {
      "image/png": "[encoded data removed]",
      "text/plain": [
       "<Figure size 432x288 with 1 Axes>"
      ]
     },
     "metadata": {
      "needs_background": "light"
     },
     "output_type": "display_data"
    }
   ],
   "source": [
    "plt.plot(cumulativeRevenueA['date'], cumulativeRevenueA['revenue']/cumulativeRevenueA['orders'], label='A')\n",
    "plt.plot(cumulativeRevenueB['date'], cumulativeRevenueB['revenue']/cumulativeRevenueB['orders'], label='B')\n",
    "plt.xticks(rotation=45)\n",
    "plt.title('График кумулятивного среднего чека группы А и группы B')\n",
    "plt.xlabel('Дата')\n",
    "plt.ylabel('Средний чек')\n",
    "plt.legend();"
   ]
  },
  {
   "cell_type": "markdown",
   "metadata": {},
   "source": [
    "Средний чек становится равномерным ближе к концу теста для группы A, в то время для группы B произошел резкий скачок. Видимо попал  крупный заказ."
   ]
  },
  {
   "cell_type": "markdown",
   "metadata": {},
   "source": [
    "### Построим график относительного различия для среднего чека. Добавим горизонтальную ось методом axhline()"
   ]
  },
  {
   "cell_type": "code",
   "execution_count": 25,
   "metadata": {},
   "outputs": [
    {
     "data": {
      "text/html": [
       "<div>\n",
       "<style scoped>\n",
       "    .dataframe tbody tr th:only-of-type {\n",
       "        vertical-align: middle;\n",
       "    }\n",
       "\n",
       "    .dataframe tbody tr th {\n",
       "        vertical-align: top;\n",
       "    }\n",
       "\n",
       "    .dataframe thead th {\n",
       "        text-align: right;\n",
       "    }\n",
       "</style>\n",
       "<table border=\"1\" class=\"dataframe\">\n",
       "  <thead>\n",
       "    <tr style=\"text-align: right;\">\n",
       "      <th></th>\n",
       "      <th>date</th>\n",
       "      <th>revenueA</th>\n",
       "      <th>ordersA</th>\n",
       "      <th>revenueB</th>\n",
       "      <th>ordersB</th>\n",
       "    </tr>\n",
       "  </thead>\n",
       "  <tbody>\n",
       "    <tr>\n",
       "      <th>0</th>\n",
       "      <td>2019-08-01</td>\n",
       "      <td>148579</td>\n",
       "      <td>24</td>\n",
       "      <td>101217</td>\n",
       "      <td>21</td>\n",
       "    </tr>\n",
       "    <tr>\n",
       "      <th>1</th>\n",
       "      <td>2019-08-02</td>\n",
       "      <td>242401</td>\n",
       "      <td>44</td>\n",
       "      <td>266748</td>\n",
       "      <td>45</td>\n",
       "    </tr>\n",
       "    <tr>\n",
       "      <th>2</th>\n",
       "      <td>2019-08-03</td>\n",
       "      <td>354874</td>\n",
       "      <td>68</td>\n",
       "      <td>380996</td>\n",
       "      <td>61</td>\n",
       "    </tr>\n",
       "    <tr>\n",
       "      <th>3</th>\n",
       "      <td>2019-08-04</td>\n",
       "      <td>425699</td>\n",
       "      <td>84</td>\n",
       "      <td>489567</td>\n",
       "      <td>78</td>\n",
       "    </tr>\n",
       "    <tr>\n",
       "      <th>4</th>\n",
       "      <td>2019-08-05</td>\n",
       "      <td>549917</td>\n",
       "      <td>109</td>\n",
       "      <td>581995</td>\n",
       "      <td>101</td>\n",
       "    </tr>\n",
       "    <tr>\n",
       "      <th>5</th>\n",
       "      <td>2019-08-06</td>\n",
       "      <td>598401</td>\n",
       "      <td>127</td>\n",
       "      <td>824337</td>\n",
       "      <td>129</td>\n",
       "    </tr>\n",
       "    <tr>\n",
       "      <th>6</th>\n",
       "      <td>2019-08-07</td>\n",
       "      <td>740818</td>\n",
       "      <td>145</td>\n",
       "      <td>1049671</td>\n",
       "      <td>153</td>\n",
       "    </tr>\n",
       "    <tr>\n",
       "      <th>7</th>\n",
       "      <td>2019-08-08</td>\n",
       "      <td>837097</td>\n",
       "      <td>161</td>\n",
       "      <td>1270589</td>\n",
       "      <td>180</td>\n",
       "    </tr>\n",
       "    <tr>\n",
       "      <th>8</th>\n",
       "      <td>2019-08-09</td>\n",
       "      <td>1025603</td>\n",
       "      <td>177</td>\n",
       "      <td>1431401</td>\n",
       "      <td>205</td>\n",
       "    </tr>\n",
       "    <tr>\n",
       "      <th>9</th>\n",
       "      <td>2019-08-10</td>\n",
       "      <td>1236098</td>\n",
       "      <td>193</td>\n",
       "      <td>1539203</td>\n",
       "      <td>228</td>\n",
       "    </tr>\n",
       "    <tr>\n",
       "      <th>10</th>\n",
       "      <td>2019-08-11</td>\n",
       "      <td>1313683</td>\n",
       "      <td>206</td>\n",
       "      <td>1592513</td>\n",
       "      <td>241</td>\n",
       "    </tr>\n",
       "    <tr>\n",
       "      <th>11</th>\n",
       "      <td>2019-08-12</td>\n",
       "      <td>1562873</td>\n",
       "      <td>230</td>\n",
       "      <td>1734067</td>\n",
       "      <td>264</td>\n",
       "    </tr>\n",
       "    <tr>\n",
       "      <th>12</th>\n",
       "      <td>2019-08-13</td>\n",
       "      <td>1826511</td>\n",
       "      <td>244</td>\n",
       "      <td>1853738</td>\n",
       "      <td>285</td>\n",
       "    </tr>\n",
       "    <tr>\n",
       "      <th>13</th>\n",
       "      <td>2019-08-14</td>\n",
       "      <td>1890852</td>\n",
       "      <td>268</td>\n",
       "      <td>2025446</td>\n",
       "      <td>308</td>\n",
       "    </tr>\n",
       "    <tr>\n",
       "      <th>14</th>\n",
       "      <td>2019-08-15</td>\n",
       "      <td>1979057</td>\n",
       "      <td>283</td>\n",
       "      <td>2367945</td>\n",
       "      <td>339</td>\n",
       "    </tr>\n",
       "    <tr>\n",
       "      <th>15</th>\n",
       "      <td>2019-08-16</td>\n",
       "      <td>2078908</td>\n",
       "      <td>301</td>\n",
       "      <td>2539635</td>\n",
       "      <td>359</td>\n",
       "    </tr>\n",
       "    <tr>\n",
       "      <th>16</th>\n",
       "      <td>2019-08-17</td>\n",
       "      <td>2129769</td>\n",
       "      <td>311</td>\n",
       "      <td>2620790</td>\n",
       "      <td>373</td>\n",
       "    </tr>\n",
       "    <tr>\n",
       "      <th>17</th>\n",
       "      <td>2019-08-18</td>\n",
       "      <td>2202167</td>\n",
       "      <td>328</td>\n",
       "      <td>2686621</td>\n",
       "      <td>382</td>\n",
       "    </tr>\n",
       "    <tr>\n",
       "      <th>18</th>\n",
       "      <td>2019-08-19</td>\n",
       "      <td>2391910</td>\n",
       "      <td>350</td>\n",
       "      <td>4116541</td>\n",
       "      <td>403</td>\n",
       "    </tr>\n",
       "    <tr>\n",
       "      <th>19</th>\n",
       "      <td>2019-08-20</td>\n",
       "      <td>2469529</td>\n",
       "      <td>362</td>\n",
       "      <td>4263815</td>\n",
       "      <td>423</td>\n",
       "    </tr>\n",
       "    <tr>\n",
       "      <th>20</th>\n",
       "      <td>2019-08-21</td>\n",
       "      <td>2643838</td>\n",
       "      <td>385</td>\n",
       "      <td>4426892</td>\n",
       "      <td>437</td>\n",
       "    </tr>\n",
       "    <tr>\n",
       "      <th>21</th>\n",
       "      <td>2019-08-22</td>\n",
       "      <td>2756579</td>\n",
       "      <td>401</td>\n",
       "      <td>4589247</td>\n",
       "      <td>462</td>\n",
       "    </tr>\n",
       "    <tr>\n",
       "      <th>22</th>\n",
       "      <td>2019-08-23</td>\n",
       "      <td>2874367</td>\n",
       "      <td>426</td>\n",
       "      <td>4703216</td>\n",
       "      <td>477</td>\n",
       "    </tr>\n",
       "    <tr>\n",
       "      <th>23</th>\n",
       "      <td>2019-08-24</td>\n",
       "      <td>3002070</td>\n",
       "      <td>441</td>\n",
       "      <td>4798722</td>\n",
       "      <td>493</td>\n",
       "    </tr>\n",
       "    <tr>\n",
       "      <th>24</th>\n",
       "      <td>2019-08-25</td>\n",
       "      <td>3070704</td>\n",
       "      <td>451</td>\n",
       "      <td>4901584</td>\n",
       "      <td>507</td>\n",
       "    </tr>\n",
       "    <tr>\n",
       "      <th>25</th>\n",
       "      <td>2019-08-26</td>\n",
       "      <td>3227918</td>\n",
       "      <td>467</td>\n",
       "      <td>5084583</td>\n",
       "      <td>532</td>\n",
       "    </tr>\n",
       "    <tr>\n",
       "      <th>26</th>\n",
       "      <td>2019-08-27</td>\n",
       "      <td>3514698</td>\n",
       "      <td>495</td>\n",
       "      <td>5232260</td>\n",
       "      <td>548</td>\n",
       "    </tr>\n",
       "    <tr>\n",
       "      <th>27</th>\n",
       "      <td>2019-08-28</td>\n",
       "      <td>3615820</td>\n",
       "      <td>512</td>\n",
       "      <td>5328268</td>\n",
       "      <td>576</td>\n",
       "    </tr>\n",
       "    <tr>\n",
       "      <th>28</th>\n",
       "      <td>2019-08-29</td>\n",
       "      <td>3936510</td>\n",
       "      <td>534</td>\n",
       "      <td>5559398</td>\n",
       "      <td>596</td>\n",
       "    </tr>\n",
       "    <tr>\n",
       "      <th>29</th>\n",
       "      <td>2019-08-30</td>\n",
       "      <td>4022970</td>\n",
       "      <td>545</td>\n",
       "      <td>5774631</td>\n",
       "      <td>620</td>\n",
       "    </tr>\n",
       "    <tr>\n",
       "      <th>30</th>\n",
       "      <td>2019-08-31</td>\n",
       "      <td>4084803</td>\n",
       "      <td>557</td>\n",
       "      <td>5907760</td>\n",
       "      <td>640</td>\n",
       "    </tr>\n",
       "  </tbody>\n",
       "</table>\n",
       "</div>"
      ],
      "text/plain": [
       "         date  revenueA  ordersA  revenueB  ordersB\n",
       "0  2019-08-01  148579    24       101217    21     \n",
       "1  2019-08-02  242401    44       266748    45     \n",
       "2  2019-08-03  354874    68       380996    61     \n",
       "3  2019-08-04  425699    84       489567    78     \n",
       "4  2019-08-05  549917    109      581995    101    \n",
       "5  2019-08-06  598401    127      824337    129    \n",
       "6  2019-08-07  740818    145      1049671   153    \n",
       "7  2019-08-08  837097    161      1270589   180    \n",
       "8  2019-08-09  1025603   177      1431401   205    \n",
       "9  2019-08-10  1236098   193      1539203   228    \n",
       "10 2019-08-11  1313683   206      1592513   241    \n",
       "11 2019-08-12  1562873   230      1734067   264    \n",
       "12 2019-08-13  1826511   244      1853738   285    \n",
       "13 2019-08-14  1890852   268      2025446   308    \n",
       "14 2019-08-15  1979057   283      2367945   339    \n",
       "15 2019-08-16  2078908   301      2539635   359    \n",
       "16 2019-08-17  2129769   311      2620790   373    \n",
       "17 2019-08-18  2202167   328      2686621   382    \n",
       "18 2019-08-19  2391910   350      4116541   403    \n",
       "19 2019-08-20  2469529   362      4263815   423    \n",
       "20 2019-08-21  2643838   385      4426892   437    \n",
       "21 2019-08-22  2756579   401      4589247   462    \n",
       "22 2019-08-23  2874367   426      4703216   477    \n",
       "23 2019-08-24  3002070   441      4798722   493    \n",
       "24 2019-08-25  3070704   451      4901584   507    \n",
       "25 2019-08-26  3227918   467      5084583   532    \n",
       "26 2019-08-27  3514698   495      5232260   548    \n",
       "27 2019-08-28  3615820   512      5328268   576    \n",
       "28 2019-08-29  3936510   534      5559398   596    \n",
       "29 2019-08-30  4022970   545      5774631   620    \n",
       "30 2019-08-31  4084803   557      5907760   640    "
      ]
     },
     "execution_count": 25,
     "metadata": {},
     "output_type": "execute_result"
    }
   ],
   "source": [
    "# собираем данные в одном датафрейме\n",
    "mergedCumulativeRevenue = cumulativeRevenueA \\\n",
    "    .merge(cumulativeRevenueB, left_on='date', right_on='date', how='left', suffixes=['A', 'B'])\n",
    "mergedCumulativeRevenue"
   ]
  },
  {
   "cell_type": "code",
   "execution_count": 26,
   "metadata": {},
   "outputs": [
    {
     "data": {
      "image/png": "[encoded data removed]",
      "text/plain": [
       "<Figure size 864x360 with 1 Axes>"
      ]
     },
     "metadata": {
      "needs_background": "light"
     },
     "output_type": "display_data"
    }
   ],
   "source": [
    "# cтроим отношение средних чеков\n",
    "plt.figure(figsize=(12,5))\n",
    "plt.plot(mergedCumulativeRevenue['date'], (mergedCumulativeRevenue['revenueB']/mergedCumulativeRevenue['ordersB'])/(mergedCumulativeRevenue['revenueA']/mergedCumulativeRevenue['ordersA'])-1)\n",
    "plt.xticks(rotation=45)\n",
    "plt.title('Относительное изменение кумулятивного среднего чека группы B к группе A')\n",
    "plt.xlabel('Дата')\n",
    "plt.ylabel('Отношение среднего чека группы B к группе A')\n",
    "# добавляем ось X\n",
    "plt.axhline(y=0, color='black', linestyle='--');"
   ]
  },
  {
   "cell_type": "markdown",
   "metadata": {},
   "source": [
    "Как и ранее, видим, что резкие скачки между сегментами.Необходимо проверить на аномальные значения."
   ]
  },
  {
   "cell_type": "markdown",
   "metadata": {},
   "source": [
    "### Построим график кумулятивной конверсии по группам."
   ]
  },
  {
   "cell_type": "code",
   "execution_count": 27,
   "metadata": {},
   "outputs": [],
   "source": [
    "# считаем кумулятивную конверсию\n",
    "cumulativeData['conversion'] = cumulativeData['orders']/cumulativeData['visitors']\n",
    "\n",
    "# отделяем данные по группе A и по группе B\n",
    "cumulativeDataA = cumulativeData[cumulativeData['group']=='A']\n",
    "cumulativeDataB = cumulativeData[cumulativeData['group']=='B']"
   ]
  },
  {
   "cell_type": "code",
   "execution_count": 28,
   "metadata": {},
   "outputs": [
    {
     "data": {
      "image/png": "[encoded data removed]",
      "text/plain": [
       "<Figure size 864x360 with 1 Axes>"
      ]
     },
     "metadata": {
      "needs_background": "light"
     },
     "output_type": "display_data"
    }
   ],
   "source": [
    "# строим графики\n",
    "plt.figure(figsize=(12,5))\n",
    "plt.grid()\n",
    "plt.plot(cumulativeDataA['date'], cumulativeDataA['conversion'], label='A')\n",
    "plt.plot(cumulativeDataB['date'], cumulativeDataB['conversion'], label='B')\n",
    "plt.title('Кумулятивная конверсия')\n",
    "plt.xlabel('Дата')\n",
    "plt.ylabel('Конверсия')\n",
    "plt.legend();"
   ]
  },
  {
   "cell_type": "markdown",
   "metadata": {},
   "source": [
    "Конверсия по группе В выше, чем по группе А."
   ]
  },
  {
   "cell_type": "markdown",
   "metadata": {},
   "source": [
    "### Построим график относительного изменения кумулятивной конверсии группы B к группе A. "
   ]
  },
  {
   "cell_type": "code",
   "execution_count": 29,
   "metadata": {},
   "outputs": [
    {
     "data": {
      "image/png": "[encoded data removed]",
      "text/plain": [
       "<Figure size 864x360 with 1 Axes>"
      ]
     },
     "metadata": {
      "needs_background": "light"
     },
     "output_type": "display_data"
    }
   ],
   "source": [
    "mergedCumulativeConversions = cumulativeDataA[['date','conversion']].merge(cumulativeDataB[['date','conversion']], left_on='date', right_on='date', how='left', suffixes=['A', 'B'])\n",
    "plt.figure(figsize=(12,5))\n",
    "plt.plot(mergedCumulativeConversions['date'], mergedCumulativeConversions['conversionB']/mergedCumulativeConversions['conversionA']-1, label=\"Относительный прирост конверсии группы B относительно группы A\")\n",
    "\n",
    "plt.title('Относительное изменение кумулятивной конверсии группы B к группе A')\n",
    "plt.xlabel('Дата')\n",
    "plt.ylabel('Отношение кумулятивной конверсии группы B к группе A')\n",
    "\n",
    "plt.axhline(y=0, color='black', linestyle='--')\n",
    "plt.axhline(y=0.1, color='grey', linestyle='--');\n"
   ]
  },
  {
   "cell_type": "markdown",
   "metadata": {},
   "source": [
    "Так же и ранее на графике, видимо, что конверсия в группе А было выше, но группа В выбиваетя в лидеры после недели начала теста."
   ]
  },
  {
   "cell_type": "markdown",
   "metadata": {},
   "source": [
    "### Построим точечный график количества заказов по пользователям."
   ]
  },
  {
   "cell_type": "code",
   "execution_count": 30,
   "metadata": {},
   "outputs": [
    {
     "data": {
      "text/html": [
       "<div>\n",
       "<style scoped>\n",
       "    .dataframe tbody tr th:only-of-type {\n",
       "        vertical-align: middle;\n",
       "    }\n",
       "\n",
       "    .dataframe tbody tr th {\n",
       "        vertical-align: top;\n",
       "    }\n",
       "\n",
       "    .dataframe thead th {\n",
       "        text-align: right;\n",
       "    }\n",
       "</style>\n",
       "<table border=\"1\" class=\"dataframe\">\n",
       "  <thead>\n",
       "    <tr style=\"text-align: right;\">\n",
       "      <th></th>\n",
       "      <th>transactionId</th>\n",
       "      <th>visitorId</th>\n",
       "      <th>date</th>\n",
       "      <th>revenue</th>\n",
       "      <th>group</th>\n",
       "    </tr>\n",
       "  </thead>\n",
       "  <tbody>\n",
       "    <tr>\n",
       "      <th>0</th>\n",
       "      <td>3667963787</td>\n",
       "      <td>3312258926</td>\n",
       "      <td>2019-08-15</td>\n",
       "      <td>1650</td>\n",
       "      <td>B</td>\n",
       "    </tr>\n",
       "    <tr>\n",
       "      <th>1</th>\n",
       "      <td>2804400009</td>\n",
       "      <td>3642806036</td>\n",
       "      <td>2019-08-15</td>\n",
       "      <td>730</td>\n",
       "      <td>B</td>\n",
       "    </tr>\n",
       "    <tr>\n",
       "      <th>2</th>\n",
       "      <td>2961555356</td>\n",
       "      <td>4069496402</td>\n",
       "      <td>2019-08-15</td>\n",
       "      <td>400</td>\n",
       "      <td>A</td>\n",
       "    </tr>\n",
       "    <tr>\n",
       "      <th>3</th>\n",
       "      <td>3797467345</td>\n",
       "      <td>1196621759</td>\n",
       "      <td>2019-08-15</td>\n",
       "      <td>9759</td>\n",
       "      <td>B</td>\n",
       "    </tr>\n",
       "    <tr>\n",
       "      <th>4</th>\n",
       "      <td>2282983706</td>\n",
       "      <td>2322279887</td>\n",
       "      <td>2019-08-15</td>\n",
       "      <td>2308</td>\n",
       "      <td>B</td>\n",
       "    </tr>\n",
       "    <tr>\n",
       "      <th>...</th>\n",
       "      <td>...</td>\n",
       "      <td>...</td>\n",
       "      <td>...</td>\n",
       "      <td>...</td>\n",
       "      <td>...</td>\n",
       "    </tr>\n",
       "    <tr>\n",
       "      <th>1192</th>\n",
       "      <td>2662137336</td>\n",
       "      <td>3733762160</td>\n",
       "      <td>2019-08-14</td>\n",
       "      <td>6490</td>\n",
       "      <td>B</td>\n",
       "    </tr>\n",
       "    <tr>\n",
       "      <th>1193</th>\n",
       "      <td>2203539145</td>\n",
       "      <td>370388673</td>\n",
       "      <td>2019-08-14</td>\n",
       "      <td>3190</td>\n",
       "      <td>A</td>\n",
       "    </tr>\n",
       "    <tr>\n",
       "      <th>1194</th>\n",
       "      <td>1807773912</td>\n",
       "      <td>573423106</td>\n",
       "      <td>2019-08-14</td>\n",
       "      <td>10550</td>\n",
       "      <td>A</td>\n",
       "    </tr>\n",
       "    <tr>\n",
       "      <th>1195</th>\n",
       "      <td>1947021204</td>\n",
       "      <td>1614305549</td>\n",
       "      <td>2019-08-14</td>\n",
       "      <td>100</td>\n",
       "      <td>A</td>\n",
       "    </tr>\n",
       "    <tr>\n",
       "      <th>1196</th>\n",
       "      <td>3936777065</td>\n",
       "      <td>2108080724</td>\n",
       "      <td>2019-08-15</td>\n",
       "      <td>202740</td>\n",
       "      <td>B</td>\n",
       "    </tr>\n",
       "  </tbody>\n",
       "</table>\n",
       "<p>1197 rows × 5 columns</p>\n",
       "</div>"
      ],
      "text/plain": [
       "      transactionId   visitorId       date  revenue group\n",
       "0     3667963787     3312258926 2019-08-15  1650     B   \n",
       "1     2804400009     3642806036 2019-08-15  730      B   \n",
       "2     2961555356     4069496402 2019-08-15  400      A   \n",
       "3     3797467345     1196621759 2019-08-15  9759     B   \n",
       "4     2282983706     2322279887 2019-08-15  2308     B   \n",
       "...          ...            ...        ...   ...    ..   \n",
       "1192  2662137336     3733762160 2019-08-14  6490     B   \n",
       "1193  2203539145     370388673  2019-08-14  3190     A   \n",
       "1194  1807773912     573423106  2019-08-14  10550    A   \n",
       "1195  1947021204     1614305549 2019-08-14  100      A   \n",
       "1196  3936777065     2108080724 2019-08-15  202740   B   \n",
       "\n",
       "[1197 rows x 5 columns]"
      ]
     },
     "execution_count": 30,
     "metadata": {},
     "output_type": "execute_result"
    }
   ],
   "source": [
    "orders"
   ]
  },
  {
   "cell_type": "code",
   "execution_count": 31,
   "metadata": {},
   "outputs": [
    {
     "data": {
      "text/html": [
       "<div>\n",
       "<style scoped>\n",
       "    .dataframe tbody tr th:only-of-type {\n",
       "        vertical-align: middle;\n",
       "    }\n",
       "\n",
       "    .dataframe tbody tr th {\n",
       "        vertical-align: top;\n",
       "    }\n",
       "\n",
       "    .dataframe thead th {\n",
       "        text-align: right;\n",
       "    }\n",
       "</style>\n",
       "<table border=\"1\" class=\"dataframe\">\n",
       "  <thead>\n",
       "    <tr style=\"text-align: right;\">\n",
       "      <th></th>\n",
       "      <th>userId</th>\n",
       "      <th>orders</th>\n",
       "    </tr>\n",
       "  </thead>\n",
       "  <tbody>\n",
       "    <tr>\n",
       "      <th>1023</th>\n",
       "      <td>4256040402</td>\n",
       "      <td>11</td>\n",
       "    </tr>\n",
       "    <tr>\n",
       "      <th>591</th>\n",
       "      <td>2458001652</td>\n",
       "      <td>11</td>\n",
       "    </tr>\n",
       "    <tr>\n",
       "      <th>569</th>\n",
       "      <td>2378935119</td>\n",
       "      <td>9</td>\n",
       "    </tr>\n",
       "    <tr>\n",
       "      <th>487</th>\n",
       "      <td>2038680547</td>\n",
       "      <td>8</td>\n",
       "    </tr>\n",
       "    <tr>\n",
       "      <th>44</th>\n",
       "      <td>199603092</td>\n",
       "      <td>5</td>\n",
       "    </tr>\n",
       "    <tr>\n",
       "      <th>...</th>\n",
       "      <td>...</td>\n",
       "      <td>...</td>\n",
       "    </tr>\n",
       "    <tr>\n",
       "      <th>359</th>\n",
       "      <td>1484903144</td>\n",
       "      <td>1</td>\n",
       "    </tr>\n",
       "    <tr>\n",
       "      <th>360</th>\n",
       "      <td>1485964287</td>\n",
       "      <td>1</td>\n",
       "    </tr>\n",
       "    <tr>\n",
       "      <th>361</th>\n",
       "      <td>1494664757</td>\n",
       "      <td>1</td>\n",
       "    </tr>\n",
       "    <tr>\n",
       "      <th>362</th>\n",
       "      <td>1495112755</td>\n",
       "      <td>1</td>\n",
       "    </tr>\n",
       "    <tr>\n",
       "      <th>1030</th>\n",
       "      <td>4283872382</td>\n",
       "      <td>1</td>\n",
       "    </tr>\n",
       "  </tbody>\n",
       "</table>\n",
       "<p>1031 rows × 2 columns</p>\n",
       "</div>"
      ],
      "text/plain": [
       "          userId  orders\n",
       "1023  4256040402  11    \n",
       "591   2458001652  11    \n",
       "569   2378935119  9     \n",
       "487   2038680547  8     \n",
       "44    199603092   5     \n",
       "...         ...  ..     \n",
       "359   1484903144  1     \n",
       "360   1485964287  1     \n",
       "361   1494664757  1     \n",
       "362   1495112755  1     \n",
       "1030  4283872382  1     \n",
       "\n",
       "[1031 rows x 2 columns]"
      ]
     },
     "execution_count": 31,
     "metadata": {},
     "output_type": "execute_result"
    }
   ],
   "source": [
    "#Подсчитаем количество заказов по пользователям :\n",
    "ordersByUsers = (\n",
    "    orders.groupby('visitorId', as_index=False)\n",
    "    .agg({'transactionId': pd.Series.nunique})\n",
    "    .sort_values(by='transactionId', ascending=False)\n",
    ")\n",
    "ordersByUsers.columns = ['userId', 'orders']\n",
    "ordersByUsers"
   ]
  },
  {
   "cell_type": "code",
   "execution_count": 32,
   "metadata": {},
   "outputs": [
    {
     "data": {
      "image/png": "[encoded data removed]",
      "text/plain": [
       "<Figure size 720x288 with 1 Axes>"
      ]
     },
     "metadata": {
      "needs_background": "light"
     },
     "output_type": "display_data"
    }
   ],
   "source": [
    "#построим точечную диаграмму:\n",
    "x_values = pd.Series(range(0,len(ordersByUsers)))\n",
    "plt.figure(figsize=(10,4))\n",
    "plt.scatter(x_values, ordersByUsers['orders'])\n",
    "plt.title('Точечная диаграмма количества заказов по пользователям');"
   ]
  },
  {
   "cell_type": "markdown",
   "metadata": {},
   "source": [
    "Судя по графику, большинство пользователей совершают не более 1 заказа."
   ]
  },
  {
   "cell_type": "code",
   "execution_count": 33,
   "metadata": {},
   "outputs": [
    {
     "data": {
      "text/plain": [
       "array([2., 4.])"
      ]
     },
     "execution_count": 33,
     "metadata": {},
     "output_type": "execute_result"
    }
   ],
   "source": [
    "# Посчитаем выборочные перцентили количества заказов на одного пользователя:\n",
    "np.percentile(ordersByUsers['orders'], [95, 99])"
   ]
  },
  {
   "cell_type": "markdown",
   "metadata": {},
   "source": [
    "Не более 5% пользователей оформляли больше чем 2 заказа. 1% пользователей заказывали более 4.\n",
    "За нижнюю границу числа заказов выбрем  2 заказа на одного пользователя, и отсеим аномальных пользователей."
   ]
  },
  {
   "cell_type": "markdown",
   "metadata": {},
   "source": [
    "### Построим точечный график стоимостей заказов. "
   ]
  },
  {
   "cell_type": "code",
   "execution_count": 34,
   "metadata": {},
   "outputs": [
    {
     "data": {
      "image/png": "[encoded data removed]",
      "text/plain": [
       "<Figure size 720x288 with 1 Axes>"
      ]
     },
     "metadata": {
      "needs_background": "light"
     },
     "output_type": "display_data"
    }
   ],
   "source": [
    "#построим точечную диаграмму стоимостей заказов:\n",
    "x_values = pd.Series(range(0,len(orders['revenue'])))\n",
    "plt.figure(figsize=(10,4))\n",
    "plt.scatter(x_values, orders['revenue'])\n",
    "plt.title('Точечная диаграмма сумм заказов на одного пользователя');"
   ]
  },
  {
   "cell_type": "markdown",
   "metadata": {},
   "source": [
    "Судя по графику, имеютс яаномальные выбросы стоимости заказов на одного пользователя, от них необходимо избавится."
   ]
  },
  {
   "cell_type": "markdown",
   "metadata": {},
   "source": [
    "### Посчитаем 95-й и 99-й перцентили стоимости заказов."
   ]
  },
  {
   "cell_type": "code",
   "execution_count": 35,
   "metadata": {},
   "outputs": [
    {
     "data": {
      "text/plain": [
       "array([28000. , 58233.2])"
      ]
     },
     "execution_count": 35,
     "metadata": {},
     "output_type": "execute_result"
    }
   ],
   "source": [
    "np.percentile(orders['revenue'], [95, 99])"
   ]
  },
  {
   "cell_type": "markdown",
   "metadata": {},
   "source": [
    "Не более 5% заказов дороже 28 000 рублей и не более 1% дороже 58 233 рубля."
   ]
  },
  {
   "cell_type": "markdown",
   "metadata": {},
   "source": [
    "### Посчитаем статистическую значимость различий в конверсии между группами по «сырым» данным."
   ]
  },
  {
   "cell_type": "code",
   "execution_count": 36,
   "metadata": {},
   "outputs": [
    {
     "data": {
      "text/html": [
       "<div>\n",
       "<style scoped>\n",
       "    .dataframe tbody tr th:only-of-type {\n",
       "        vertical-align: middle;\n",
       "    }\n",
       "\n",
       "    .dataframe tbody tr th {\n",
       "        vertical-align: top;\n",
       "    }\n",
       "\n",
       "    .dataframe thead th {\n",
       "        text-align: right;\n",
       "    }\n",
       "</style>\n",
       "<table border=\"1\" class=\"dataframe\">\n",
       "  <thead>\n",
       "    <tr style=\"text-align: right;\">\n",
       "      <th></th>\n",
       "      <th>date</th>\n",
       "      <th>group</th>\n",
       "      <th>visitors</th>\n",
       "    </tr>\n",
       "  </thead>\n",
       "  <tbody>\n",
       "    <tr>\n",
       "      <th>0</th>\n",
       "      <td>2019-08-01</td>\n",
       "      <td>A</td>\n",
       "      <td>719</td>\n",
       "    </tr>\n",
       "    <tr>\n",
       "      <th>1</th>\n",
       "      <td>2019-08-02</td>\n",
       "      <td>A</td>\n",
       "      <td>619</td>\n",
       "    </tr>\n",
       "    <tr>\n",
       "      <th>2</th>\n",
       "      <td>2019-08-03</td>\n",
       "      <td>A</td>\n",
       "      <td>507</td>\n",
       "    </tr>\n",
       "    <tr>\n",
       "      <th>3</th>\n",
       "      <td>2019-08-04</td>\n",
       "      <td>A</td>\n",
       "      <td>717</td>\n",
       "    </tr>\n",
       "    <tr>\n",
       "      <th>4</th>\n",
       "      <td>2019-08-05</td>\n",
       "      <td>A</td>\n",
       "      <td>756</td>\n",
       "    </tr>\n",
       "    <tr>\n",
       "      <th>...</th>\n",
       "      <td>...</td>\n",
       "      <td>...</td>\n",
       "      <td>...</td>\n",
       "    </tr>\n",
       "    <tr>\n",
       "      <th>57</th>\n",
       "      <td>2019-08-27</td>\n",
       "      <td>B</td>\n",
       "      <td>720</td>\n",
       "    </tr>\n",
       "    <tr>\n",
       "      <th>58</th>\n",
       "      <td>2019-08-28</td>\n",
       "      <td>B</td>\n",
       "      <td>654</td>\n",
       "    </tr>\n",
       "    <tr>\n",
       "      <th>59</th>\n",
       "      <td>2019-08-29</td>\n",
       "      <td>B</td>\n",
       "      <td>531</td>\n",
       "    </tr>\n",
       "    <tr>\n",
       "      <th>60</th>\n",
       "      <td>2019-08-30</td>\n",
       "      <td>B</td>\n",
       "      <td>490</td>\n",
       "    </tr>\n",
       "    <tr>\n",
       "      <th>61</th>\n",
       "      <td>2019-08-31</td>\n",
       "      <td>B</td>\n",
       "      <td>718</td>\n",
       "    </tr>\n",
       "  </tbody>\n",
       "</table>\n",
       "<p>62 rows × 3 columns</p>\n",
       "</div>"
      ],
      "text/plain": [
       "         date group  visitors\n",
       "0  2019-08-01  A     719     \n",
       "1  2019-08-02  A     619     \n",
       "2  2019-08-03  A     507     \n",
       "3  2019-08-04  A     717     \n",
       "4  2019-08-05  A     756     \n",
       "..        ... ..     ...     \n",
       "57 2019-08-27  B     720     \n",
       "58 2019-08-28  B     654     \n",
       "59 2019-08-29  B     531     \n",
       "60 2019-08-30  B     490     \n",
       "61 2019-08-31  B     718     \n",
       "\n",
       "[62 rows x 3 columns]"
      ]
     },
     "execution_count": 36,
     "metadata": {},
     "output_type": "execute_result"
    }
   ],
   "source": [
    "visitors"
   ]
  },
  {
   "cell_type": "code",
   "execution_count": 37,
   "metadata": {},
   "outputs": [
    {
     "data": {
      "text/html": [
       "<div>\n",
       "<style scoped>\n",
       "    .dataframe tbody tr th:only-of-type {\n",
       "        vertical-align: middle;\n",
       "    }\n",
       "\n",
       "    .dataframe tbody tr th {\n",
       "        vertical-align: top;\n",
       "    }\n",
       "\n",
       "    .dataframe thead th {\n",
       "        text-align: right;\n",
       "    }\n",
       "</style>\n",
       "<table border=\"1\" class=\"dataframe\">\n",
       "  <thead>\n",
       "    <tr style=\"text-align: right;\">\n",
       "      <th></th>\n",
       "      <th>date</th>\n",
       "      <th>ordersPerDateA</th>\n",
       "      <th>revenuePerDateA</th>\n",
       "      <th>ordersPerDateB</th>\n",
       "      <th>revenuePerDateB</th>\n",
       "      <th>ordersCummulativeA</th>\n",
       "      <th>revenueCummulativeA</th>\n",
       "      <th>ordersCummulativeB</th>\n",
       "      <th>revenueCummulativeB</th>\n",
       "      <th>visitorsPerDateA</th>\n",
       "      <th>visitorsPerDateB</th>\n",
       "      <th>visitorsCummulativeA</th>\n",
       "      <th>visitorsCummulativeB</th>\n",
       "    </tr>\n",
       "  </thead>\n",
       "  <tbody>\n",
       "    <tr>\n",
       "      <th>0</th>\n",
       "      <td>2019-08-01</td>\n",
       "      <td>24</td>\n",
       "      <td>148579</td>\n",
       "      <td>21</td>\n",
       "      <td>101217</td>\n",
       "      <td>24</td>\n",
       "      <td>148579</td>\n",
       "      <td>21</td>\n",
       "      <td>101217</td>\n",
       "      <td>719</td>\n",
       "      <td>713</td>\n",
       "      <td>719</td>\n",
       "      <td>713</td>\n",
       "    </tr>\n",
       "    <tr>\n",
       "      <th>1</th>\n",
       "      <td>2019-08-02</td>\n",
       "      <td>20</td>\n",
       "      <td>93822</td>\n",
       "      <td>24</td>\n",
       "      <td>165531</td>\n",
       "      <td>44</td>\n",
       "      <td>242401</td>\n",
       "      <td>45</td>\n",
       "      <td>266748</td>\n",
       "      <td>619</td>\n",
       "      <td>581</td>\n",
       "      <td>1338</td>\n",
       "      <td>1294</td>\n",
       "    </tr>\n",
       "    <tr>\n",
       "      <th>2</th>\n",
       "      <td>2019-08-03</td>\n",
       "      <td>24</td>\n",
       "      <td>112473</td>\n",
       "      <td>16</td>\n",
       "      <td>114248</td>\n",
       "      <td>68</td>\n",
       "      <td>354874</td>\n",
       "      <td>61</td>\n",
       "      <td>380996</td>\n",
       "      <td>507</td>\n",
       "      <td>509</td>\n",
       "      <td>1845</td>\n",
       "      <td>1803</td>\n",
       "    </tr>\n",
       "    <tr>\n",
       "      <th>3</th>\n",
       "      <td>2019-08-04</td>\n",
       "      <td>16</td>\n",
       "      <td>70825</td>\n",
       "      <td>17</td>\n",
       "      <td>108571</td>\n",
       "      <td>84</td>\n",
       "      <td>425699</td>\n",
       "      <td>78</td>\n",
       "      <td>489567</td>\n",
       "      <td>717</td>\n",
       "      <td>770</td>\n",
       "      <td>2562</td>\n",
       "      <td>2573</td>\n",
       "    </tr>\n",
       "    <tr>\n",
       "      <th>4</th>\n",
       "      <td>2019-08-05</td>\n",
       "      <td>25</td>\n",
       "      <td>124218</td>\n",
       "      <td>23</td>\n",
       "      <td>92428</td>\n",
       "      <td>109</td>\n",
       "      <td>549917</td>\n",
       "      <td>101</td>\n",
       "      <td>581995</td>\n",
       "      <td>756</td>\n",
       "      <td>707</td>\n",
       "      <td>3318</td>\n",
       "      <td>3280</td>\n",
       "    </tr>\n",
       "  </tbody>\n",
       "</table>\n",
       "</div>"
      ],
      "text/plain": [
       "        date  ordersPerDateA  revenuePerDateA  ordersPerDateB  \\\n",
       "0 2019-08-01  24              148579           21               \n",
       "1 2019-08-02  20              93822            24               \n",
       "2 2019-08-03  24              112473           16               \n",
       "3 2019-08-04  16              70825            17               \n",
       "4 2019-08-05  25              124218           23               \n",
       "\n",
       "   revenuePerDateB  ordersCummulativeA  revenueCummulativeA  \\\n",
       "0  101217           24                  148579                \n",
       "1  165531           44                  242401                \n",
       "2  114248           68                  354874                \n",
       "3  108571           84                  425699                \n",
       "4  92428            109                 549917                \n",
       "\n",
       "   ordersCummulativeB  revenueCummulativeB  visitorsPerDateA  \\\n",
       "0  21                  101217               719                \n",
       "1  45                  266748               619                \n",
       "2  61                  380996               507                \n",
       "3  78                  489567               717                \n",
       "4  101                 581995               756                \n",
       "\n",
       "   visitorsPerDateB  visitorsCummulativeA  visitorsCummulativeB  \n",
       "0  713               719                   713                   \n",
       "1  581               1338                  1294                  \n",
       "2  509               1845                  1803                  \n",
       "3  770               2562                  2573                  \n",
       "4  707               3318                  3280                  "
      ]
     },
     "execution_count": 37,
     "metadata": {},
     "output_type": "execute_result"
    }
   ],
   "source": [
    "\n",
    "visitorsADaily = visitors[visitors['group'] == 'A'][['date', 'visitors']]\n",
    "visitorsADaily.columns = ['date', 'visitorsPerDateA']\n",
    "\n",
    "visitorsACummulative = visitorsADaily.apply(\n",
    "    lambda x: visitorsADaily[visitorsADaily['date'] <= x['date']].agg(\n",
    "        {'date': 'max', 'visitorsPerDateA': 'sum'}\n",
    "    ),\n",
    "    axis=1,\n",
    ")\n",
    "visitorsACummulative.columns = ['date', 'visitorsCummulativeA']\n",
    "\n",
    "visitorsBDaily = visitors[visitors['group'] == 'B'][['date', 'visitors']]\n",
    "visitorsBDaily.columns = ['date', 'visitorsPerDateB']\n",
    "\n",
    "visitorsBCummulative = visitorsBDaily.apply(\n",
    "    lambda x: visitorsBDaily[visitorsBDaily['date'] <= x['date']].agg(\n",
    "        {'date': 'max', 'visitorsPerDateB': 'sum'}\n",
    "    ),\n",
    "    axis=1,\n",
    ")\n",
    "visitorsBCummulative.columns = ['date', 'visitorsCummulativeB']\n",
    "\n",
    "ordersADaily = (\n",
    "    orders[orders['group'] == 'A'][['date', 'transactionId', 'visitorId','revenue']]\n",
    "    .groupby('date', as_index=False)\n",
    "    .agg({'transactionId': pd.Series.nunique, 'revenue': 'sum'})\n",
    ")\n",
    "ordersADaily.columns = ['date', 'ordersPerDateA', 'revenuePerDateA']\n",
    "\n",
    "ordersACummulative = ordersADaily.apply(\n",
    "    lambda x: ordersADaily[ordersADaily['date'] <= x['date']].agg(\n",
    "        {'date': 'max', 'ordersPerDateA': 'sum', 'revenuePerDateA': 'sum'}\n",
    "    ),\n",
    "    axis=1,\n",
    ").sort_values(by=['date'])\n",
    "ordersACummulative.columns = [\n",
    "    'date',\n",
    "    'ordersCummulativeA',\n",
    "    'revenueCummulativeA',\n",
    "]\n",
    "\n",
    "ordersBDaily = (\n",
    "    orders[orders['group'] == 'B'][['date', 'transactionId', 'visitorId', 'revenue']]\n",
    "    .groupby('date', as_index=False)\n",
    "    .agg({'transactionId': pd.Series.nunique, 'revenue': 'sum'})\n",
    ")\n",
    "ordersBDaily.columns = ['date', 'ordersPerDateB', 'revenuePerDateB']\n",
    "\n",
    "ordersBCummulative = ordersBDaily.apply(\n",
    "    lambda x: ordersBDaily[ordersBDaily['date'] <= x['date']].agg(\n",
    "        {'date': 'max', 'ordersPerDateB': 'sum', 'revenuePerDateB': 'sum'}\n",
    "    ),\n",
    "    axis=1,\n",
    ").sort_values(by=['date'])\n",
    "ordersBCummulative.columns = [\n",
    "    'date',\n",
    "    'ordersCummulativeB',\n",
    "    'revenueCummulativeB',\n",
    "]\n",
    "\n",
    "data = (\n",
    "    ordersADaily.merge(\n",
    "        ordersBDaily, left_on='date', right_on='date', how='left'\n",
    "    )\n",
    "    .merge(ordersACummulative, left_on='date', right_on='date', how='left')\n",
    "    .merge(ordersBCummulative, left_on='date', right_on='date', how='left')\n",
    "    .merge(visitorsADaily, left_on='date', right_on='date', how='left')\n",
    "    .merge(visitorsBDaily, left_on='date', right_on='date', how='left')\n",
    "    .merge(visitorsACummulative, left_on='date', right_on='date', how='left')\n",
    "    .merge(visitorsBCummulative, left_on='date', right_on='date', how='left')\n",
    ")\n",
    "data.head()"
   ]
  },
  {
   "cell_type": "code",
   "execution_count": 38,
   "metadata": {},
   "outputs": [],
   "source": [
    "# Создадим переменные ordersByUsersA и ordersByUsersB со столбцами ['userId', 'orders']:\n",
    "ordersByUsersA = (\n",
    "    orders[orders['group'] == 'A']\n",
    "    .groupby('visitorId', as_index=False)\n",
    "    .agg({'transactionId': pd.Series.nunique})\n",
    ")\n",
    "ordersByUsersA.columns = ['userId', 'orders']\n",
    "\n",
    "ordersByUsersB = (\n",
    "    orders[orders['group'] == 'B']\n",
    "    .groupby('visitorId', as_index=False)\n",
    "    .agg({'transactionId': pd.Series.nunique})\n",
    ")\n",
    "ordersByUsersB.columns = ['userId', 'orders'] "
   ]
  },
  {
   "cell_type": "code",
   "execution_count": 39,
   "metadata": {},
   "outputs": [],
   "source": [
    "# Объявим переменные sampleA и sampleB, в которых пользователям из разных групп будет соответствовать количество заказов:\n",
    "sampleA = pd.concat(\n",
    "    [\n",
    "        ordersByUsersA['orders'],\n",
    "        pd.Series(\n",
    "            0,\n",
    "            index=np.arange(\n",
    "                data['visitorsPerDateA'].sum() - len(ordersByUsersA['orders'])\n",
    "            ),\n",
    "            name='orders',\n",
    "        ),\n",
    "    ],\n",
    "    axis=0,\n",
    ")\n",
    "\n",
    "sampleB = pd.concat(\n",
    "    [\n",
    "        ordersByUsersB['orders'],\n",
    "        pd.Series(\n",
    "            0,\n",
    "            index=np.arange(\n",
    "                data['visitorsPerDateB'].sum() - len(ordersByUsersB['orders'])\n",
    "            ),\n",
    "            name='orders',\n",
    "        ),\n",
    "    ],\n",
    "    axis=0,\n",
    ")"
   ]
  },
  {
   "cell_type": "markdown",
   "metadata": {},
   "source": [
    "Определим гипотезы:\n",
    "\n",
    "Нулевая гипотеза - H₀: статистически значимых различий в конверсии между группами нет\n",
    "\n",
    "Альтернативная гипотеза - H₁: статистически значимые различия в конверсии между группами есть"
   ]
  },
  {
   "cell_type": "code",
   "execution_count": 40,
   "metadata": {},
   "outputs": [
    {
     "name": "stdout",
     "output_type": "stream",
     "text": [
      "\n",
      "Относительный прирост конверсии группы B по отношению к группе A: 0.138\n",
      "P-value: 0.016792355056752608\n",
      "По неочищенным данным в конверсии групп A и B различия есть, нулевую гипотезу отвергаем\n"
     ]
    }
   ],
   "source": [
    "# проведем проверку критерием Манна-Уитни \n",
    "#и выведем относительный прирост конверсии группы B: \n",
    "alpha = 0.05\n",
    "print('\\nОтносительный прирост конверсии группы B по отношению к группе A: {:.3f}'.format(sampleB.mean()/sampleA.mean()-1))\n",
    "results = stats.mannwhitneyu(sampleA, sampleB, alternative=\"two-sided\")\n",
    "print('P-value: {}'.format(results.pvalue))\n",
    "if results.pvalue < alpha:\n",
    "    print('По неочищенным данным в конверсии групп A и B различия есть, нулевую гипотезу отвергаем')\n",
    "else:\n",
    "    print('По неочищенным данным в конверсии групп A и B различий нет,нулевую гипотезу не отвергаем')"
   ]
  },
  {
   "cell_type": "markdown",
   "metadata": {},
   "source": [
    "По «сырым» данным различия есть в конверсии групп A и B. Нулевую гипотезу отвергаем, статистически значимые различия в конверсии между группами есть.\n",
    "\n",
    "Относительный прирост группы В 14%."
   ]
  },
  {
   "cell_type": "markdown",
   "metadata": {},
   "source": [
    "### Посчитаем статистическую значимость различий в среднем чеке заказа между группами по «сырым» данным."
   ]
  },
  {
   "cell_type": "markdown",
   "metadata": {},
   "source": [
    "Определим гипотезы:\n",
    "\n",
    "Нулевая гипотеза - H₀: статистически значимых различий в среднем чеке  между группами нет\n",
    "\n",
    "Альтернативная гипотеза - H₁: статистически значимые различия в среднем чеке  между группами есть"
   ]
  },
  {
   "cell_type": "code",
   "execution_count": 41,
   "metadata": {},
   "outputs": [
    {
     "name": "stdout",
     "output_type": "stream",
     "text": [
      "Относительное изменение среднего чека в группе B по отношению группы A: 0.259\n",
      "P-value: 0.7292909855432458\n",
      "По неочищенным данным в средних чеках групп A и B различий нет,нулевую гипотезу не отвергаем\n"
     ]
    }
   ],
   "source": [
    "# проведем проверку критерием Манна-Уитни \n",
    "#и выведем относительный прирост среднего чека группы B:\n",
    "alpha=0.05\n",
    "print('Относительное изменение среднего чека в группе B по отношению группы A: {:.3f}'.format(\n",
    "orders[orders['group']=='B']['revenue'].mean()/orders[orders['group']=='A']['revenue'].mean()-1))\n",
    "results = stats.mannwhitneyu(orders[orders['group']=='A']['revenue'], orders[orders['group']=='B']['revenue'], alternative=\"two-sided\")\n",
    "print('P-value: {}'.format(results.pvalue))\n",
    "if results.pvalue < alpha:\n",
    "    print('По неочищенным данным в средних чеках групп A и B различия есть, нулевую гипотезу отвергаем')\n",
    "else:\n",
    "    print('По неочищенным данным в средних чеках групп A и B различий нет,нулевую гипотезу не отвергаем')"
   ]
  },
  {
   "cell_type": "markdown",
   "metadata": {},
   "source": [
    "P-value значительно больше 0.05. Нулевую гипотезу не отвергаем, различий по среднему чеку нет. Хотя, средний чек группы B значительно выше среднего чека группы A на 26%."
   ]
  },
  {
   "cell_type": "markdown",
   "metadata": {},
   "source": [
    "### Посчитаем статистическую значимость различий в конверсии между группами по «очищенным» данным."
   ]
  },
  {
   "cell_type": "markdown",
   "metadata": {},
   "source": [
    " Вспомним , сто 95-й и 99-й перцентили средних чеков равны 28000 , 58233.2 рублям. \n",
    " \n",
    " 95-й и 99-й перцентили количества заказов на одного пользователя равны 2, 4 заказа на пользователя соответственно."
   ]
  },
  {
   "cell_type": "markdown",
   "metadata": {},
   "source": [
    "Примем за аномальных пользователей тех, кто совершил от 3 заказов или совершил заказ дороже 30 000 рублей. Так мы уберём 5% пользователей с наибольшим числом заказов и от 1% до 5% пользователей с дорогими заказами. Сделаем срезы пользователей с числом заказов больше 3 — usersWithManyOrders и пользователей, совершивших заказы дороже 30 000 — usersWithExpensiveOrders. Объединим их в таблице abnormalUsers."
   ]
  },
  {
   "cell_type": "code",
   "execution_count": 42,
   "metadata": {},
   "outputs": [
    {
     "name": "stdout",
     "output_type": "stream",
     "text": [
      "1099    148427295\n",
      "18      199603092\n",
      "928     204675465\n",
      "23      237748145\n",
      "684     358944393\n",
      "dtype: int64\n",
      "Кол-во аномальных пользователей: 57\n"
     ]
    }
   ],
   "source": [
    "usersWithManyOrders = pd.concat(\n",
    "    [\n",
    "        ordersByUsersA[ordersByUsersA['orders'] > 3]['userId'],\n",
    "        ordersByUsersB[ordersByUsersB['orders'] > 3]['userId'],\n",
    "    ],\n",
    "    axis=0,\n",
    ")\n",
    "usersWithExpensiveOrders = orders[orders['revenue'] > 30000]['visitorId']\n",
    "abnormalUsers = (\n",
    "    pd.concat([usersWithManyOrders, usersWithExpensiveOrders], axis=0)\n",
    "    .drop_duplicates()\n",
    "    .sort_values()\n",
    ")\n",
    "print(abnormalUsers.head())\n",
    "print('Кол-во аномальных пользователей: {}'.format(len(abnormalUsers)))"
   ]
  },
  {
   "cell_type": "code",
   "execution_count": 43,
   "metadata": {},
   "outputs": [],
   "source": [
    "sampleAFiltered = pd.concat(\n",
    "    [\n",
    "        ordersByUsersA[\n",
    "            np.logical_not(ordersByUsersA['userId'].isin(abnormalUsers))\n",
    "        ]['orders'],\n",
    "        pd.Series(\n",
    "            0,\n",
    "            index=np.arange(\n",
    "                data['visitorsPerDateA'].sum() - len(ordersByUsersA['orders'])\n",
    "            ),\n",
    "            name='orders',\n",
    "        ),\n",
    "    ],\n",
    "    axis=0,\n",
    ")\n",
    "\n",
    "sampleBFiltered = pd.concat(\n",
    "    [\n",
    "        ordersByUsersB[\n",
    "            np.logical_not(ordersByUsersB['userId'].isin(abnormalUsers))\n",
    "        ]['orders'],\n",
    "        pd.Series(\n",
    "            0,\n",
    "            index=np.arange(\n",
    "                data['visitorsPerDateB'].sum() - len(ordersByUsersB['orders'])\n",
    "            ),\n",
    "            name='orders',\n",
    "        ),\n",
    "    ],\n",
    "    axis=0,\n",
    ")"
   ]
  },
  {
   "cell_type": "markdown",
   "metadata": {},
   "source": [
    "Определим гипотезы:\n",
    "\n",
    "Нулевая гипотеза - H₀: статистически значимых различий по очищенным данным в конверсии между группами нет\n",
    "\n",
    "Альтернативная гипотеза - H₁: статистически значимые различия по очищенным данным в конверсии между группами есть"
   ]
  },
  {
   "cell_type": "code",
   "execution_count": 44,
   "metadata": {},
   "outputs": [
    {
     "name": "stdout",
     "output_type": "stream",
     "text": [
      "\n",
      "Относительный прирост конверсии группы B по отношению к группе A по ощищенным данным: 0.148\n",
      "P-value: 0.018317500894249026\n",
      "По очищенным данным в конверсии групп A и B различия есть, нулевую гипотезу отвергаем\n"
     ]
    }
   ],
   "source": [
    "#Применим статистический критерий Манна-Уитни к полученным выборкам:\n",
    "alpha=0.05\n",
    "print('\\nОтносительный прирост конверсии группы B по отношению к группе A по ощищенным данным: {:.3f}'.format(sampleBFiltered.mean()/sampleAFiltered.mean()-1))\n",
    "results = stats.mannwhitneyu(sampleAFiltered, sampleBFiltered, alternative=\"two-sided\")\n",
    "print('P-value: {}'.format(results.pvalue))\n",
    "if results.pvalue < alpha:\n",
    "    print('По очищенным данным в конверсии групп A и B различия есть, нулевую гипотезу отвергаем')\n",
    "else:\n",
    "    print('По очищенным данным  в конверсии групп A и B различий нет,нулевую гипотезу не отвергаем')"
   ]
  },
  {
   "cell_type": "markdown",
   "metadata": {},
   "source": [
    "Результаты теста практически не изменились."
   ]
  },
  {
   "cell_type": "markdown",
   "metadata": {},
   "source": [
    "### Посчитаем статистическую значимость различий в среднем чеке заказа между группами по «очищенным» данным. "
   ]
  },
  {
   "cell_type": "markdown",
   "metadata": {},
   "source": [
    "Определим гипотезы:\n",
    "\n",
    "Нулевая гипотеза - H₀: статистически значимых различий по очищенным данным в  среднем чеке между группами нет\n",
    "\n",
    "Альтернативная гипотеза - H₁: статистически значимые различия по очищенным данным в  среднем чеке  между группами есть"
   ]
  },
  {
   "cell_type": "code",
   "execution_count": 45,
   "metadata": {},
   "outputs": [
    {
     "name": "stdout",
     "output_type": "stream",
     "text": [
      "Относительное изменение среднего чека в группе B по отношению группы A по ощищенным данным: -0.020\n",
      "P-value: 0.9583231483662625\n",
      "По очищенным данным в средних чеках  A и B различий нет,нулевую гипотезу не отвергаем\n"
     ]
    }
   ],
   "source": [
    "#Применим статистический критерий Манна-Уитни к полученным выборкам:\n",
    "alpha=0.05\n",
    "print('Относительное изменение среднего чека в группе B по отношению группы A по ощищенным данным: {:.3f}'.format(\n",
    "orders[np.logical_and(orders['group']=='B', np.logical_not(orders['visitorId'].isin(abnormalUsers)))]['revenue'].mean()\\\n",
    "/orders[np.logical_and(orders['group']=='A', np.logical_not(orders['visitorId'].isin(abnormalUsers)))]['revenue'].mean()-1))\n",
    "       \n",
    "       \n",
    "results = stats.mannwhitneyu(orders[np.logical_and(orders['group']=='A', np.logical_not(orders['visitorId'].isin(abnormalUsers)))]['revenue'],\n",
    "                             orders[np.logical_and(orders['group']=='B', np.logical_not(orders['visitorId'].isin(abnormalUsers)))]['revenue'], alternative=\"two-sided\")\n",
    "print('P-value: {}'.format(results.pvalue))\n",
    "if results.pvalue < alpha:\n",
    "    print('По очищенным данным в средних чеках  групп A и B различия есть, нулевую гипотезу отвергаем')\n",
    "else:\n",
    "    print('По очищенным данным в средних чеках  A и B различий нет,нулевую гипотезу не отвергаем')"
   ]
  },
  {
   "cell_type": "markdown",
   "metadata": {},
   "source": [
    "P-value увеличился, но и разница между сегментами сократилась с 14% до -2%. Но по-прежнему нулевую гипротезу отвергаем, различий между группами нет."
   ]
  },
  {
   "cell_type": "code",
   "execution_count": 46,
   "metadata": {},
   "outputs": [
    {
     "name": "stderr",
     "output_type": "stream",
     "text": [
      "C:\\Users\\inzira\\Anaconda3\\lib\\site-packages\\scipy\\stats\\morestats.py:1681: UserWarning: p-value may not be accurate for N > 5000.\n",
      "  warnings.warn(\"p-value may not be accurate for N > 5000.\")\n"
     ]
    },
    {
     "data": {
      "text/plain": [
       "ShapiroResult(statistic=0.1537073850631714, pvalue=0.0)"
      ]
     },
     "execution_count": 46,
     "metadata": {},
     "output_type": "execute_result"
    }
   ],
   "source": [
    "from scipy.stats import shapiro\n",
    "shapiro(sampleBFiltered)"
   ]
  },
  {
   "cell_type": "markdown",
   "metadata": {},
   "source": [
    "### Принятие решений"
   ]
  },
  {
   "cell_type": "markdown",
   "metadata": {},
   "source": [
    "- Статистически значимые различия есть по конверсии между группами  по «сырым» и по данным после фильтрации аномалий;Относительный прирост группы В 14%.\n",
    "- Нет статистически значимого различия по среднему чеку между группами ни по «сырым», ни по данным после фильтрации аномалий; Разница между сегментами сократилась с 14% до -2%.\n",
    "\n",
    "А/В тестирование можно остановить и засчитать группу В успешнее чем группа А."
   ]
  },
  {
   "cell_type": "code",
   "execution_count": null,
   "metadata": {},
   "outputs": [],
   "source": []
  },
  {
   "cell_type": "code",
   "execution_count": null,
   "metadata": {},
   "outputs": [],
   "source": []
  }
 ],
 "metadata": {
  "ExecuteTimeLog": [
   {
    "duration": 3,
    "start_time": "2022-03-08T18:56:39.789Z"
   },
   {
    "duration": 1050,
    "start_time": "2022-03-08T18:58:33.585Z"
   },
   {
    "duration": 92,
    "start_time": "2022-03-08T18:59:06.239Z"
   },
   {
    "duration": 42,
    "start_time": "2022-03-08T18:59:29.729Z"
   },
   {
    "duration": 64,
    "start_time": "2022-03-08T19:05:33.615Z"
   },
   {
    "duration": 265,
    "start_time": "2022-03-08T19:15:46.334Z"
   },
   {
    "duration": 9,
    "start_time": "2022-03-08T19:15:56.472Z"
   },
   {
    "duration": 9,
    "start_time": "2022-03-08T19:17:08.857Z"
   },
   {
    "duration": 10,
    "start_time": "2022-03-08T19:21:52.900Z"
   },
   {
    "duration": 121,
    "start_time": "2022-03-08T19:47:47.088Z"
   },
   {
    "duration": 85,
    "start_time": "2022-03-08T19:48:13.063Z"
   },
   {
    "duration": 325,
    "start_time": "2022-03-08T19:52:59.276Z"
   },
   {
    "duration": 34,
    "start_time": "2022-03-08T19:53:28.388Z"
   },
   {
    "duration": 48,
    "start_time": "2022-03-08T19:53:42.134Z"
   },
   {
    "duration": 39,
    "start_time": "2022-03-08T19:53:46.230Z"
   },
   {
    "duration": 36,
    "start_time": "2022-03-08T19:54:15.825Z"
   },
   {
    "duration": 193,
    "start_time": "2022-03-08T19:55:47.570Z"
   },
   {
    "duration": 13,
    "start_time": "2022-03-08T19:55:56.073Z"
   },
   {
    "duration": 14,
    "start_time": "2022-03-08T19:56:11.254Z"
   },
   {
    "duration": 26,
    "start_time": "2022-03-08T19:57:07.393Z"
   },
   {
    "duration": 1195,
    "start_time": "2022-03-09T10:29:48.064Z"
   },
   {
    "duration": 106,
    "start_time": "2022-03-09T10:29:49.262Z"
   },
   {
    "duration": 13,
    "start_time": "2022-03-09T10:29:49.371Z"
   },
   {
    "duration": 196,
    "start_time": "2022-03-09T10:29:49.387Z"
   },
   {
    "duration": -4,
    "start_time": "2022-03-09T10:29:49.590Z"
   },
   {
    "duration": -10,
    "start_time": "2022-03-09T10:29:49.597Z"
   },
   {
    "duration": -13,
    "start_time": "2022-03-09T10:29:49.602Z"
   },
   {
    "duration": -17,
    "start_time": "2022-03-09T10:29:49.608Z"
   },
   {
    "duration": -25,
    "start_time": "2022-03-09T10:29:49.617Z"
   },
   {
    "duration": 96,
    "start_time": "2022-03-09T10:30:51.534Z"
   },
   {
    "duration": 116,
    "start_time": "2022-03-09T10:30:51.714Z"
   },
   {
    "duration": 40,
    "start_time": "2022-03-09T10:30:52.085Z"
   },
   {
    "duration": 30,
    "start_time": "2022-03-09T10:30:52.576Z"
   },
   {
    "duration": 48,
    "start_time": "2022-03-09T10:36:24.796Z"
   },
   {
    "duration": 1731,
    "start_time": "2022-03-09T10:37:38.472Z"
   },
   {
    "duration": 1202,
    "start_time": "2022-03-09T10:38:30.132Z"
   },
   {
    "duration": 1337,
    "start_time": "2022-03-09T10:38:48.675Z"
   },
   {
    "duration": 1305,
    "start_time": "2022-03-09T10:40:40.309Z"
   },
   {
    "duration": 1359,
    "start_time": "2022-03-09T10:42:05.361Z"
   },
   {
    "duration": 1260,
    "start_time": "2022-03-09T10:43:40.036Z"
   },
   {
    "duration": 1161,
    "start_time": "2022-03-09T10:43:54.113Z"
   },
   {
    "duration": 1314,
    "start_time": "2022-03-09T10:44:24.332Z"
   },
   {
    "duration": 46,
    "start_time": "2022-03-09T10:44:50.544Z"
   },
   {
    "duration": 45,
    "start_time": "2022-03-09T10:45:22.746Z"
   },
   {
    "duration": 45,
    "start_time": "2022-03-09T10:48:01.847Z"
   },
   {
    "duration": 49,
    "start_time": "2022-03-09T10:48:11.847Z"
   },
   {
    "duration": 34,
    "start_time": "2022-03-09T10:48:33.416Z"
   },
   {
    "duration": 34,
    "start_time": "2022-03-09T10:48:51.097Z"
   },
   {
    "duration": 1092,
    "start_time": "2022-03-09T18:33:59.672Z"
   },
   {
    "duration": 107,
    "start_time": "2022-03-09T18:34:00.766Z"
   },
   {
    "duration": 9,
    "start_time": "2022-03-09T18:34:00.875Z"
   },
   {
    "duration": 22,
    "start_time": "2022-03-09T18:34:00.886Z"
   },
   {
    "duration": 98,
    "start_time": "2022-03-09T18:34:00.910Z"
   },
   {
    "duration": 47,
    "start_time": "2022-03-09T18:34:01.010Z"
   },
   {
    "duration": 77,
    "start_time": "2022-03-09T18:34:01.060Z"
   },
   {
    "duration": 32,
    "start_time": "2022-03-09T18:34:01.140Z"
   },
   {
    "duration": 33,
    "start_time": "2022-03-09T18:34:13.132Z"
   },
   {
    "duration": 56,
    "start_time": "2022-03-09T18:34:19.415Z"
   },
   {
    "duration": 9,
    "start_time": "2022-03-09T18:48:02.542Z"
   },
   {
    "duration": 6,
    "start_time": "2022-03-09T18:48:23.179Z"
   },
   {
    "duration": 18,
    "start_time": "2022-03-09T18:48:27.474Z"
   },
   {
    "duration": 17,
    "start_time": "2022-03-09T18:50:06.343Z"
   },
   {
    "duration": 260,
    "start_time": "2022-03-09T18:50:11.393Z"
   },
   {
    "duration": 181,
    "start_time": "2022-03-09T18:51:17.732Z"
   },
   {
    "duration": 15,
    "start_time": "2022-03-09T18:52:03.302Z"
   },
   {
    "duration": 38,
    "start_time": "2022-03-09T18:53:13.949Z"
   },
   {
    "duration": 51,
    "start_time": "2022-03-09T18:53:18.449Z"
   },
   {
    "duration": 36,
    "start_time": "2022-03-09T18:53:19.242Z"
   },
   {
    "duration": 34,
    "start_time": "2022-03-09T18:53:33.472Z"
   },
   {
    "duration": 25,
    "start_time": "2022-03-09T18:53:34.052Z"
   },
   {
    "duration": 1081,
    "start_time": "2022-03-09T18:54:03.017Z"
   },
   {
    "duration": 3,
    "start_time": "2022-03-09T18:54:40.572Z"
   },
   {
    "duration": 2035,
    "start_time": "2022-03-09T18:56:01.044Z"
   },
   {
    "duration": 76,
    "start_time": "2022-03-09T18:57:37.332Z"
   },
   {
    "duration": 30,
    "start_time": "2022-03-09T18:57:48.982Z"
   },
   {
    "duration": 981,
    "start_time": "2022-03-09T18:57:55.941Z"
   },
   {
    "duration": 50,
    "start_time": "2022-03-09T18:58:15.217Z"
   },
   {
    "duration": 46,
    "start_time": "2022-03-09T18:58:19.521Z"
   },
   {
    "duration": 1011,
    "start_time": "2022-03-09T18:58:23.807Z"
   },
   {
    "duration": 35,
    "start_time": "2022-03-09T18:58:51.716Z"
   },
   {
    "duration": 50,
    "start_time": "2022-03-09T18:58:56.291Z"
   },
   {
    "duration": 1055,
    "start_time": "2022-03-09T18:59:01.902Z"
   },
   {
    "duration": 3,
    "start_time": "2022-03-09T18:59:27.053Z"
   },
   {
    "duration": 104,
    "start_time": "2022-03-09T18:59:28.369Z"
   },
   {
    "duration": 8,
    "start_time": "2022-03-09T18:59:29.342Z"
   },
   {
    "duration": 9,
    "start_time": "2022-03-09T18:59:29.738Z"
   },
   {
    "duration": 38,
    "start_time": "2022-03-09T18:59:30.430Z"
   },
   {
    "duration": 13,
    "start_time": "2022-03-09T18:59:31.670Z"
   },
   {
    "duration": 1008,
    "start_time": "2022-03-09T18:59:32.613Z"
   },
   {
    "duration": 51,
    "start_time": "2022-03-09T18:59:40.183Z"
   },
   {
    "duration": 47,
    "start_time": "2022-03-09T18:59:41.081Z"
   },
   {
    "duration": 1020,
    "start_time": "2022-03-09T18:59:43.445Z"
   },
   {
    "duration": 34,
    "start_time": "2022-03-09T19:00:03.655Z"
   },
   {
    "duration": 61,
    "start_time": "2022-03-09T19:00:04.533Z"
   },
   {
    "duration": 30,
    "start_time": "2022-03-09T19:00:06.318Z"
   },
   {
    "duration": 36,
    "start_time": "2022-03-09T19:00:19.610Z"
   },
   {
    "duration": 30,
    "start_time": "2022-03-09T19:00:20.398Z"
   },
   {
    "duration": 995,
    "start_time": "2022-03-09T19:00:26.721Z"
   },
   {
    "duration": 32,
    "start_time": "2022-03-09T19:00:34.353Z"
   },
   {
    "duration": 30,
    "start_time": "2022-03-09T19:00:35.035Z"
   },
   {
    "duration": 5,
    "start_time": "2022-03-09T19:00:54.062Z"
   },
   {
    "duration": 992,
    "start_time": "2022-03-09T19:01:47.641Z"
   },
   {
    "duration": 45,
    "start_time": "2022-03-09T19:01:55.600Z"
   },
   {
    "duration": 33,
    "start_time": "2022-03-09T19:01:56.166Z"
   },
   {
    "duration": 50,
    "start_time": "2022-03-09T19:02:13.213Z"
   },
   {
    "duration": 30,
    "start_time": "2022-03-09T19:02:13.635Z"
   },
   {
    "duration": 1022,
    "start_time": "2022-03-09T19:02:37.554Z"
   },
   {
    "duration": 48,
    "start_time": "2022-03-09T19:02:42.840Z"
   },
   {
    "duration": 49,
    "start_time": "2022-03-09T19:02:43.244Z"
   },
   {
    "duration": 8,
    "start_time": "2022-03-09T19:02:54.931Z"
   },
   {
    "duration": 13,
    "start_time": "2022-03-09T19:02:55.786Z"
   },
   {
    "duration": 187,
    "start_time": "2022-03-09T19:02:58.277Z"
   },
   {
    "duration": 4712,
    "start_time": "2022-03-09T19:05:25.329Z"
   },
   {
    "duration": 5,
    "start_time": "2022-03-09T19:08:35.226Z"
   },
   {
    "duration": 61,
    "start_time": "2022-03-09T19:09:25.149Z"
   },
   {
    "duration": 71,
    "start_time": "2022-03-09T19:09:33.626Z"
   },
   {
    "duration": 75,
    "start_time": "2022-03-09T19:09:38.741Z"
   },
   {
    "duration": 2567,
    "start_time": "2022-03-09T19:09:49.669Z"
   },
   {
    "duration": 5035,
    "start_time": "2022-03-09T19:12:57.792Z"
   },
   {
    "duration": 8,
    "start_time": "2022-03-09T19:13:46.119Z"
   },
   {
    "duration": 186,
    "start_time": "2022-03-09T19:13:56.300Z"
   },
   {
    "duration": 198,
    "start_time": "2022-03-09T19:14:16.297Z"
   },
   {
    "duration": 15,
    "start_time": "2022-03-09T19:16:23.900Z"
   },
   {
    "duration": 16,
    "start_time": "2022-03-09T19:16:31.599Z"
   },
   {
    "duration": 8,
    "start_time": "2022-03-09T19:17:35.508Z"
   },
   {
    "duration": 6,
    "start_time": "2022-03-09T19:17:39.268Z"
   },
   {
    "duration": 12,
    "start_time": "2022-03-09T19:17:44.722Z"
   },
   {
    "duration": 158,
    "start_time": "2022-03-09T19:19:25.880Z"
   },
   {
    "duration": 165,
    "start_time": "2022-03-09T19:19:29.999Z"
   },
   {
    "duration": 155,
    "start_time": "2022-03-09T19:19:30.671Z"
   },
   {
    "duration": 174,
    "start_time": "2022-03-09T19:19:36.047Z"
   },
   {
    "duration": 7,
    "start_time": "2022-03-09T19:20:19.807Z"
   },
   {
    "duration": 16,
    "start_time": "2022-03-09T19:20:23.968Z"
   },
   {
    "duration": 5,
    "start_time": "2022-03-09T19:22:34.348Z"
   },
   {
    "duration": 6,
    "start_time": "2022-03-09T19:22:38.994Z"
   },
   {
    "duration": 11,
    "start_time": "2022-03-09T19:22:46.212Z"
   },
   {
    "duration": 11,
    "start_time": "2022-03-09T19:23:42.901Z"
   },
   {
    "duration": 200,
    "start_time": "2022-03-09T19:23:55.335Z"
   },
   {
    "duration": 191,
    "start_time": "2022-03-09T19:24:05.380Z"
   },
   {
    "duration": 206,
    "start_time": "2022-03-09T19:25:12.776Z"
   },
   {
    "duration": 211,
    "start_time": "2022-03-09T19:25:21.592Z"
   },
   {
    "duration": 209,
    "start_time": "2022-03-09T19:25:42.918Z"
   },
   {
    "duration": 202,
    "start_time": "2022-03-09T19:25:50.452Z"
   },
   {
    "duration": 208,
    "start_time": "2022-03-09T19:49:03.535Z"
   },
   {
    "duration": 269,
    "start_time": "2022-03-09T19:49:10.635Z"
   },
   {
    "duration": 216,
    "start_time": "2022-03-09T19:50:52.366Z"
   },
   {
    "duration": 202,
    "start_time": "2022-03-09T19:50:58.435Z"
   },
   {
    "duration": 1020,
    "start_time": "2022-03-10T11:02:11.002Z"
   },
   {
    "duration": 96,
    "start_time": "2022-03-10T11:02:12.024Z"
   },
   {
    "duration": 10,
    "start_time": "2022-03-10T11:02:12.122Z"
   },
   {
    "duration": 7,
    "start_time": "2022-03-10T11:02:12.134Z"
   },
   {
    "duration": 110,
    "start_time": "2022-03-10T11:02:12.143Z"
   },
   {
    "duration": 43,
    "start_time": "2022-03-10T11:02:12.255Z"
   },
   {
    "duration": 108,
    "start_time": "2022-03-10T11:02:12.300Z"
   },
   {
    "duration": 27,
    "start_time": "2022-03-10T11:02:12.410Z"
   },
   {
    "duration": 5,
    "start_time": "2022-03-10T11:02:12.439Z"
   },
   {
    "duration": 8,
    "start_time": "2022-03-10T11:02:12.445Z"
   },
   {
    "duration": 10,
    "start_time": "2022-03-10T11:02:12.454Z"
   },
   {
    "duration": 206,
    "start_time": "2022-03-10T11:02:12.465Z"
   },
   {
    "duration": 152,
    "start_time": "2022-03-10T11:02:12.673Z"
   },
   {
    "duration": 15,
    "start_time": "2022-03-10T11:02:12.826Z"
   },
   {
    "duration": 10,
    "start_time": "2022-03-10T11:02:12.842Z"
   },
   {
    "duration": 10,
    "start_time": "2022-03-10T11:02:12.853Z"
   },
   {
    "duration": 198,
    "start_time": "2022-03-10T11:02:12.864Z"
   },
   {
    "duration": 184,
    "start_time": "2022-03-10T11:02:13.064Z"
   },
   {
    "duration": 14,
    "start_time": "2022-03-10T11:08:42.545Z"
   },
   {
    "duration": 155,
    "start_time": "2022-03-10T11:09:46.659Z"
   },
   {
    "duration": 164,
    "start_time": "2022-03-10T11:10:21.297Z"
   },
   {
    "duration": 163,
    "start_time": "2022-03-10T11:10:26.481Z"
   },
   {
    "duration": 155,
    "start_time": "2022-03-10T11:10:34.120Z"
   },
   {
    "duration": 295,
    "start_time": "2022-03-10T11:11:22.212Z"
   },
   {
    "duration": 4,
    "start_time": "2022-03-10T11:30:12.629Z"
   },
   {
    "duration": 6,
    "start_time": "2022-03-10T11:30:31.162Z"
   },
   {
    "duration": 157,
    "start_time": "2022-03-10T11:30:44.932Z"
   },
   {
    "duration": 163,
    "start_time": "2022-03-10T11:31:40.779Z"
   },
   {
    "duration": 287,
    "start_time": "2022-03-10T11:34:10.275Z"
   },
   {
    "duration": 217,
    "start_time": "2022-03-10T11:34:19.800Z"
   },
   {
    "duration": 210,
    "start_time": "2022-03-10T11:34:27.148Z"
   },
   {
    "duration": 221,
    "start_time": "2022-03-10T11:34:32.632Z"
   },
   {
    "duration": 213,
    "start_time": "2022-03-10T11:34:41.712Z"
   },
   {
    "duration": 230,
    "start_time": "2022-03-10T11:34:57.621Z"
   },
   {
    "duration": 220,
    "start_time": "2022-03-10T11:35:16.148Z"
   },
   {
    "duration": 304,
    "start_time": "2022-03-10T11:39:55.725Z"
   },
   {
    "duration": 356,
    "start_time": "2022-03-10T11:40:39.107Z"
   },
   {
    "duration": 333,
    "start_time": "2022-03-10T11:40:44.648Z"
   },
   {
    "duration": 454,
    "start_time": "2022-03-10T11:41:23.191Z"
   },
   {
    "duration": 437,
    "start_time": "2022-03-10T11:41:32.318Z"
   },
   {
    "duration": 304,
    "start_time": "2022-03-10T11:41:48.352Z"
   },
   {
    "duration": 315,
    "start_time": "2022-03-10T11:41:57.642Z"
   },
   {
    "duration": 1850,
    "start_time": "2022-03-10T18:52:42.838Z"
   },
   {
    "duration": 115,
    "start_time": "2022-03-10T18:52:44.691Z"
   },
   {
    "duration": 13,
    "start_time": "2022-03-10T18:52:44.809Z"
   },
   {
    "duration": 15,
    "start_time": "2022-03-10T18:52:44.826Z"
   },
   {
    "duration": 83,
    "start_time": "2022-03-10T18:52:44.844Z"
   },
   {
    "duration": 127,
    "start_time": "2022-03-10T18:52:44.930Z"
   },
   {
    "duration": 68,
    "start_time": "2022-03-10T18:52:45.060Z"
   },
   {
    "duration": 54,
    "start_time": "2022-03-10T18:52:45.133Z"
   },
   {
    "duration": 9,
    "start_time": "2022-03-10T18:52:45.190Z"
   },
   {
    "duration": 15,
    "start_time": "2022-03-10T18:52:45.202Z"
   },
   {
    "duration": 57,
    "start_time": "2022-03-10T18:52:45.219Z"
   },
   {
    "duration": 348,
    "start_time": "2022-03-10T18:52:45.279Z"
   },
   {
    "duration": 292,
    "start_time": "2022-03-10T18:52:45.629Z"
   },
   {
    "duration": 26,
    "start_time": "2022-03-10T18:52:45.924Z"
   },
   {
    "duration": 17,
    "start_time": "2022-03-10T18:52:45.974Z"
   },
   {
    "duration": 23,
    "start_time": "2022-03-10T18:52:45.994Z"
   },
   {
    "duration": 369,
    "start_time": "2022-03-10T18:52:46.020Z"
   },
   {
    "duration": 436,
    "start_time": "2022-03-10T18:52:46.392Z"
   },
   {
    "duration": 45,
    "start_time": "2022-03-10T18:52:46.831Z"
   },
   {
    "duration": 434,
    "start_time": "2022-03-10T18:52:46.880Z"
   },
   {
    "duration": 10,
    "start_time": "2022-03-10T18:52:47.317Z"
   },
   {
    "duration": 498,
    "start_time": "2022-03-10T18:52:47.330Z"
   },
   {
    "duration": 575,
    "start_time": "2022-03-10T18:52:47.834Z"
   },
   {
    "duration": 17,
    "start_time": "2022-03-10T19:15:52.621Z"
   },
   {
    "duration": 405,
    "start_time": "2022-03-10T19:22:49.755Z"
   },
   {
    "duration": 219,
    "start_time": "2022-03-10T19:23:09.227Z"
   },
   {
    "duration": 235,
    "start_time": "2022-03-10T19:23:25.959Z"
   },
   {
    "duration": 199,
    "start_time": "2022-03-10T19:25:04.238Z"
   },
   {
    "duration": 217,
    "start_time": "2022-03-10T19:25:44.498Z"
   },
   {
    "duration": 383,
    "start_time": "2022-03-10T19:27:17.890Z"
   },
   {
    "duration": 353,
    "start_time": "2022-03-10T19:27:22.099Z"
   },
   {
    "duration": 404,
    "start_time": "2022-03-10T19:28:45.974Z"
   },
   {
    "duration": 6,
    "start_time": "2022-03-10T19:37:55.461Z"
   },
   {
    "duration": 8939,
    "start_time": "2022-03-10T20:03:04.979Z"
   },
   {
    "duration": 490,
    "start_time": "2022-03-10T20:05:27.675Z"
   },
   {
    "duration": 488,
    "start_time": "2022-03-10T20:07:17.711Z"
   },
   {
    "duration": 481,
    "start_time": "2022-03-10T20:07:54.555Z"
   },
   {
    "duration": 382,
    "start_time": "2022-03-10T20:08:22.118Z"
   },
   {
    "duration": 3,
    "start_time": "2022-03-10T20:09:46.898Z"
   },
   {
    "duration": 304,
    "start_time": "2022-03-10T20:13:29.964Z"
   },
   {
    "duration": 7,
    "start_time": "2022-03-10T20:14:01.368Z"
   },
   {
    "duration": 7,
    "start_time": "2022-03-10T20:14:53.591Z"
   },
   {
    "duration": 287,
    "start_time": "2022-03-10T20:34:42.963Z"
   },
   {
    "duration": 340,
    "start_time": "2022-03-10T20:35:25.715Z"
   },
   {
    "duration": 1392,
    "start_time": "2022-03-11T09:59:41.400Z"
   },
   {
    "duration": 108,
    "start_time": "2022-03-11T09:59:42.795Z"
   },
   {
    "duration": 12,
    "start_time": "2022-03-11T09:59:42.906Z"
   },
   {
    "duration": 11,
    "start_time": "2022-03-11T09:59:42.922Z"
   },
   {
    "duration": 204,
    "start_time": "2022-03-11T09:59:42.935Z"
   },
   {
    "duration": 77,
    "start_time": "2022-03-11T09:59:43.142Z"
   },
   {
    "duration": 88,
    "start_time": "2022-03-11T09:59:43.222Z"
   },
   {
    "duration": 47,
    "start_time": "2022-03-11T09:59:43.314Z"
   },
   {
    "duration": 8,
    "start_time": "2022-03-11T09:59:43.365Z"
   },
   {
    "duration": 15,
    "start_time": "2022-03-11T09:59:43.376Z"
   },
   {
    "duration": 18,
    "start_time": "2022-03-11T09:59:43.394Z"
   },
   {
    "duration": 353,
    "start_time": "2022-03-11T09:59:43.414Z"
   },
   {
    "duration": 286,
    "start_time": "2022-03-11T09:59:43.769Z"
   },
   {
    "duration": 36,
    "start_time": "2022-03-11T09:59:44.057Z"
   },
   {
    "duration": 23,
    "start_time": "2022-03-11T09:59:44.095Z"
   },
   {
    "duration": 16,
    "start_time": "2022-03-11T09:59:44.121Z"
   },
   {
    "duration": 359,
    "start_time": "2022-03-11T09:59:44.139Z"
   },
   {
    "duration": 331,
    "start_time": "2022-03-11T09:59:44.501Z"
   },
   {
    "duration": 20,
    "start_time": "2022-03-11T09:59:44.834Z"
   },
   {
    "duration": 406,
    "start_time": "2022-03-11T09:59:44.873Z"
   },
   {
    "duration": 8,
    "start_time": "2022-03-11T09:59:45.282Z"
   },
   {
    "duration": 427,
    "start_time": "2022-03-11T09:59:45.293Z"
   },
   {
    "duration": 548,
    "start_time": "2022-03-11T09:59:45.725Z"
   },
   {
    "duration": 18,
    "start_time": "2022-03-11T09:59:46.276Z"
   },
   {
    "duration": 252,
    "start_time": "2022-03-11T09:59:46.297Z"
   },
   {
    "duration": 433,
    "start_time": "2022-03-11T09:59:46.552Z"
   },
   {
    "duration": 6,
    "start_time": "2022-03-11T09:59:46.988Z"
   },
   {
    "duration": 429,
    "start_time": "2022-03-11T09:59:46.996Z"
   },
   {
    "duration": 6,
    "start_time": "2022-03-11T09:59:47.428Z"
   },
   {
    "duration": 213,
    "start_time": "2022-03-11T09:59:47.436Z"
   },
   {
    "duration": 493,
    "start_time": "2022-03-11T09:59:47.652Z"
   },
   {
    "duration": 15,
    "start_time": "2022-03-11T10:01:48.729Z"
   },
   {
    "duration": 503,
    "start_time": "2022-03-11T10:05:46.843Z"
   },
   {
    "duration": 7171,
    "start_time": "2022-03-11T10:06:12.427Z"
   },
   {
    "duration": 7490,
    "start_time": "2022-03-11T10:06:37.268Z"
   },
   {
    "duration": 472,
    "start_time": "2022-03-11T10:07:26.765Z"
   },
   {
    "duration": 209,
    "start_time": "2022-03-11T10:08:03.487Z"
   },
   {
    "duration": 8,
    "start_time": "2022-03-11T10:08:04.355Z"
   },
   {
    "duration": 8,
    "start_time": "2022-03-11T10:15:44.644Z"
   },
   {
    "duration": 287,
    "start_time": "2022-03-11T10:17:02.083Z"
   },
   {
    "duration": 4,
    "start_time": "2022-03-11T10:17:31.993Z"
   },
   {
    "duration": 9,
    "start_time": "2022-03-11T10:17:40.378Z"
   },
   {
    "duration": 12,
    "start_time": "2022-03-11T10:17:42.897Z"
   },
   {
    "duration": 11,
    "start_time": "2022-03-11T10:19:09.176Z"
   },
   {
    "duration": 3,
    "start_time": "2022-03-11T10:26:22.878Z"
   },
   {
    "duration": 16,
    "start_time": "2022-03-11T10:28:19.383Z"
   },
   {
    "duration": 15,
    "start_time": "2022-03-11T10:28:38.638Z"
   },
   {
    "duration": 15,
    "start_time": "2022-03-11T10:30:26.293Z"
   },
   {
    "duration": 15,
    "start_time": "2022-03-11T10:30:37.819Z"
   },
   {
    "duration": 922,
    "start_time": "2022-03-11T18:28:20.289Z"
   },
   {
    "duration": 91,
    "start_time": "2022-03-11T18:28:21.213Z"
   },
   {
    "duration": 8,
    "start_time": "2022-03-11T18:28:21.306Z"
   },
   {
    "duration": 8,
    "start_time": "2022-03-11T18:28:21.316Z"
   },
   {
    "duration": 79,
    "start_time": "2022-03-11T18:28:21.326Z"
   },
   {
    "duration": 44,
    "start_time": "2022-03-11T18:28:21.406Z"
   },
   {
    "duration": 75,
    "start_time": "2022-03-11T18:28:21.452Z"
   },
   {
    "duration": 28,
    "start_time": "2022-03-11T18:28:21.530Z"
   },
   {
    "duration": 5,
    "start_time": "2022-03-11T18:28:21.560Z"
   },
   {
    "duration": 10,
    "start_time": "2022-03-11T18:28:21.566Z"
   },
   {
    "duration": 13,
    "start_time": "2022-03-11T18:28:21.577Z"
   },
   {
    "duration": 212,
    "start_time": "2022-03-11T18:28:21.591Z"
   },
   {
    "duration": 157,
    "start_time": "2022-03-11T18:28:21.805Z"
   },
   {
    "duration": 15,
    "start_time": "2022-03-11T18:28:21.963Z"
   },
   {
    "duration": 10,
    "start_time": "2022-03-11T18:28:21.980Z"
   },
   {
    "duration": 12,
    "start_time": "2022-03-11T18:28:21.991Z"
   },
   {
    "duration": 210,
    "start_time": "2022-03-11T18:28:22.004Z"
   },
   {
    "duration": 176,
    "start_time": "2022-03-11T18:28:22.216Z"
   },
   {
    "duration": 12,
    "start_time": "2022-03-11T18:28:22.393Z"
   },
   {
    "duration": 301,
    "start_time": "2022-03-11T18:28:22.407Z"
   },
   {
    "duration": 6,
    "start_time": "2022-03-11T18:28:22.710Z"
   },
   {
    "duration": 251,
    "start_time": "2022-03-11T18:28:22.717Z"
   },
   {
    "duration": 316,
    "start_time": "2022-03-11T18:28:22.971Z"
   },
   {
    "duration": 11,
    "start_time": "2022-03-11T18:28:23.289Z"
   },
   {
    "duration": 140,
    "start_time": "2022-03-11T18:28:23.302Z"
   },
   {
    "duration": 279,
    "start_time": "2022-03-11T18:28:23.443Z"
   },
   {
    "duration": 12,
    "start_time": "2022-03-11T18:28:23.723Z"
   },
   {
    "duration": 326,
    "start_time": "2022-03-11T18:28:23.737Z"
   },
   {
    "duration": 5,
    "start_time": "2022-03-11T18:28:24.065Z"
   },
   {
    "duration": 12,
    "start_time": "2022-03-11T18:28:24.071Z"
   },
   {
    "duration": 277,
    "start_time": "2022-03-11T18:28:24.085Z"
   },
   {
    "duration": 123,
    "start_time": "2022-03-11T18:28:24.363Z"
   },
   {
    "duration": 5,
    "start_time": "2022-03-11T18:28:24.488Z"
   },
   {
    "duration": 21,
    "start_time": "2022-03-11T18:28:24.495Z"
   },
   {
    "duration": 15,
    "start_time": "2022-03-11T18:28:24.517Z"
   },
   {
    "duration": 4229,
    "start_time": "2022-03-11T18:36:04.599Z"
   },
   {
    "duration": 4230,
    "start_time": "2022-03-11T18:36:29.399Z"
   },
   {
    "duration": 4312,
    "start_time": "2022-03-11T18:37:43.477Z"
   },
   {
    "duration": 7,
    "start_time": "2022-03-11T18:39:40.119Z"
   },
   {
    "duration": 6,
    "start_time": "2022-03-11T18:40:35.834Z"
   },
   {
    "duration": 6,
    "start_time": "2022-03-11T18:40:45.416Z"
   },
   {
    "duration": 4229,
    "start_time": "2022-03-11T18:43:01.593Z"
   },
   {
    "duration": 103,
    "start_time": "2022-03-11T18:44:38.316Z"
   },
   {
    "duration": 6,
    "start_time": "2022-03-11T18:44:39.475Z"
   },
   {
    "duration": 7,
    "start_time": "2022-03-11T18:44:40.447Z"
   },
   {
    "duration": 11,
    "start_time": "2022-03-11T18:44:41.099Z"
   },
   {
    "duration": 4343,
    "start_time": "2022-03-11T18:44:43.383Z"
   },
   {
    "duration": 256,
    "start_time": "2022-03-11T18:45:11.598Z"
   },
   {
    "duration": 104,
    "start_time": "2022-03-11T18:45:13.260Z"
   },
   {
    "duration": 6,
    "start_time": "2022-03-11T18:45:13.924Z"
   },
   {
    "duration": 7,
    "start_time": "2022-03-11T18:45:14.429Z"
   },
   {
    "duration": 10,
    "start_time": "2022-03-11T18:45:15.333Z"
   },
   {
    "duration": 4290,
    "start_time": "2022-03-11T18:45:17.580Z"
   },
   {
    "duration": 4578,
    "start_time": "2022-03-11T18:46:59.152Z"
   },
   {
    "duration": 9,
    "start_time": "2022-03-11T18:48:01.838Z"
   },
   {
    "duration": 9,
    "start_time": "2022-03-11T18:48:25.642Z"
   },
   {
    "duration": 9,
    "start_time": "2022-03-11T18:49:22.433Z"
   },
   {
    "duration": 9,
    "start_time": "2022-03-11T18:50:16.068Z"
   },
   {
    "duration": 9,
    "start_time": "2022-03-11T18:50:39.757Z"
   },
   {
    "duration": 7,
    "start_time": "2022-03-11T18:52:06.992Z"
   },
   {
    "duration": 9,
    "start_time": "2022-03-11T18:55:13.930Z"
   },
   {
    "duration": 10,
    "start_time": "2022-03-11T18:55:51.633Z"
   },
   {
    "duration": 11,
    "start_time": "2022-03-11T18:59:02.810Z"
   },
   {
    "duration": 6,
    "start_time": "2022-03-11T19:00:19.595Z"
   },
   {
    "duration": 7,
    "start_time": "2022-03-11T19:00:58.718Z"
   },
   {
    "duration": 10,
    "start_time": "2022-03-11T19:01:03.018Z"
   },
   {
    "duration": 10,
    "start_time": "2022-03-11T19:01:03.931Z"
   },
   {
    "duration": 8,
    "start_time": "2022-03-11T19:01:04.121Z"
   },
   {
    "duration": 7,
    "start_time": "2022-03-11T19:01:04.307Z"
   },
   {
    "duration": 57,
    "start_time": "2022-03-11T19:01:58.460Z"
   },
   {
    "duration": 7,
    "start_time": "2022-03-11T19:03:37.583Z"
   },
   {
    "duration": 9,
    "start_time": "2022-03-11T19:04:23.329Z"
   },
   {
    "duration": 57,
    "start_time": "2022-03-11T19:06:55.618Z"
   },
   {
    "duration": 61,
    "start_time": "2022-03-11T19:07:56.825Z"
   },
   {
    "duration": 117,
    "start_time": "2022-03-11T19:08:51.017Z"
   },
   {
    "duration": 72,
    "start_time": "2022-03-11T19:09:00.839Z"
   },
   {
    "duration": 60,
    "start_time": "2022-03-11T19:09:35.761Z"
   },
   {
    "duration": 14,
    "start_time": "2022-03-11T19:12:07.671Z"
   },
   {
    "duration": 1038,
    "start_time": "2022-03-11T19:26:17.558Z"
   },
   {
    "duration": 48,
    "start_time": "2022-03-11T19:26:18.598Z"
   },
   {
    "duration": 9,
    "start_time": "2022-03-11T19:26:18.648Z"
   },
   {
    "duration": 8,
    "start_time": "2022-03-11T19:26:18.659Z"
   },
   {
    "duration": 48,
    "start_time": "2022-03-11T19:26:18.668Z"
   },
   {
    "duration": 45,
    "start_time": "2022-03-11T19:26:18.718Z"
   },
   {
    "duration": 43,
    "start_time": "2022-03-11T19:26:18.764Z"
   },
   {
    "duration": 26,
    "start_time": "2022-03-11T19:26:18.810Z"
   },
   {
    "duration": 5,
    "start_time": "2022-03-11T19:26:18.838Z"
   },
   {
    "duration": 12,
    "start_time": "2022-03-11T19:26:18.844Z"
   },
   {
    "duration": 11,
    "start_time": "2022-03-11T19:26:18.857Z"
   },
   {
    "duration": 198,
    "start_time": "2022-03-11T19:26:18.869Z"
   },
   {
    "duration": 167,
    "start_time": "2022-03-11T19:26:19.069Z"
   },
   {
    "duration": 14,
    "start_time": "2022-03-11T19:26:19.238Z"
   },
   {
    "duration": 11,
    "start_time": "2022-03-11T19:26:19.254Z"
   },
   {
    "duration": 10,
    "start_time": "2022-03-11T19:26:19.267Z"
   },
   {
    "duration": 210,
    "start_time": "2022-03-11T19:26:19.279Z"
   },
   {
    "duration": 185,
    "start_time": "2022-03-11T19:26:19.490Z"
   },
   {
    "duration": 12,
    "start_time": "2022-03-11T19:26:19.677Z"
   },
   {
    "duration": 282,
    "start_time": "2022-03-11T19:26:19.690Z"
   },
   {
    "duration": 6,
    "start_time": "2022-03-11T19:26:19.974Z"
   },
   {
    "duration": 260,
    "start_time": "2022-03-11T19:26:19.982Z"
   },
   {
    "duration": 335,
    "start_time": "2022-03-11T19:26:20.245Z"
   },
   {
    "duration": 12,
    "start_time": "2022-03-11T19:26:20.583Z"
   },
   {
    "duration": 146,
    "start_time": "2022-03-11T19:26:20.597Z"
   },
   {
    "duration": 305,
    "start_time": "2022-03-11T19:26:20.745Z"
   },
   {
    "duration": 4,
    "start_time": "2022-03-11T19:26:21.052Z"
   },
   {
    "duration": 315,
    "start_time": "2022-03-11T19:26:21.057Z"
   },
   {
    "duration": 4,
    "start_time": "2022-03-11T19:26:21.373Z"
   },
   {
    "duration": 16,
    "start_time": "2022-03-11T19:26:21.379Z"
   },
   {
    "duration": 288,
    "start_time": "2022-03-11T19:26:21.396Z"
   },
   {
    "duration": 130,
    "start_time": "2022-03-11T19:26:21.686Z"
   },
   {
    "duration": 5,
    "start_time": "2022-03-11T19:26:21.818Z"
   },
   {
    "duration": 16,
    "start_time": "2022-03-11T19:26:21.825Z"
   },
   {
    "duration": 11,
    "start_time": "2022-03-11T19:26:21.843Z"
   },
   {
    "duration": 14,
    "start_time": "2022-03-11T19:26:21.857Z"
   },
   {
    "duration": 11,
    "start_time": "2022-03-11T19:26:21.873Z"
   },
   {
    "duration": 8,
    "start_time": "2022-03-11T19:26:21.885Z"
   },
   {
    "duration": 58,
    "start_time": "2022-03-11T19:26:21.895Z"
   },
   {
    "duration": 1014,
    "start_time": "2022-03-12T10:30:27.700Z"
   },
   {
    "duration": 51,
    "start_time": "2022-03-12T10:30:28.716Z"
   },
   {
    "duration": 8,
    "start_time": "2022-03-12T10:30:28.770Z"
   },
   {
    "duration": 8,
    "start_time": "2022-03-12T10:30:28.780Z"
   },
   {
    "duration": 44,
    "start_time": "2022-03-12T10:30:28.790Z"
   },
   {
    "duration": 49,
    "start_time": "2022-03-12T10:30:28.835Z"
   },
   {
    "duration": 44,
    "start_time": "2022-03-12T10:30:28.886Z"
   },
   {
    "duration": 30,
    "start_time": "2022-03-12T10:30:28.934Z"
   },
   {
    "duration": 5,
    "start_time": "2022-03-12T10:30:28.966Z"
   },
   {
    "duration": 9,
    "start_time": "2022-03-12T10:30:28.973Z"
   },
   {
    "duration": 14,
    "start_time": "2022-03-12T10:30:28.983Z"
   },
   {
    "duration": 238,
    "start_time": "2022-03-12T10:30:28.998Z"
   },
   {
    "duration": 166,
    "start_time": "2022-03-12T10:30:29.238Z"
   },
   {
    "duration": 29,
    "start_time": "2022-03-12T10:30:29.406Z"
   },
   {
    "duration": 12,
    "start_time": "2022-03-12T10:30:29.437Z"
   },
   {
    "duration": 12,
    "start_time": "2022-03-12T10:30:29.451Z"
   },
   {
    "duration": 221,
    "start_time": "2022-03-12T10:30:29.464Z"
   },
   {
    "duration": 190,
    "start_time": "2022-03-12T10:30:29.687Z"
   },
   {
    "duration": 15,
    "start_time": "2022-03-12T10:30:29.879Z"
   },
   {
    "duration": 323,
    "start_time": "2022-03-12T10:30:29.896Z"
   },
   {
    "duration": 14,
    "start_time": "2022-03-12T10:30:30.220Z"
   },
   {
    "duration": 249,
    "start_time": "2022-03-12T10:30:30.236Z"
   },
   {
    "duration": 321,
    "start_time": "2022-03-12T10:30:30.488Z"
   },
   {
    "duration": 11,
    "start_time": "2022-03-12T10:30:30.811Z"
   },
   {
    "duration": 142,
    "start_time": "2022-03-12T10:30:30.823Z"
   },
   {
    "duration": 275,
    "start_time": "2022-03-12T10:30:30.966Z"
   },
   {
    "duration": 4,
    "start_time": "2022-03-12T10:30:31.243Z"
   },
   {
    "duration": 301,
    "start_time": "2022-03-12T10:30:31.249Z"
   },
   {
    "duration": 4,
    "start_time": "2022-03-12T10:30:31.552Z"
   },
   {
    "duration": 23,
    "start_time": "2022-03-12T10:30:31.557Z"
   },
   {
    "duration": 264,
    "start_time": "2022-03-12T10:30:31.581Z"
   },
   {
    "duration": 117,
    "start_time": "2022-03-12T10:30:31.846Z"
   },
   {
    "duration": 7,
    "start_time": "2022-03-12T10:30:31.965Z"
   },
   {
    "duration": 13,
    "start_time": "2022-03-12T10:30:31.973Z"
   },
   {
    "duration": 9,
    "start_time": "2022-03-12T10:30:31.988Z"
   },
   {
    "duration": 10,
    "start_time": "2022-03-12T10:30:31.999Z"
   },
   {
    "duration": 29,
    "start_time": "2022-03-12T10:30:32.010Z"
   },
   {
    "duration": 8,
    "start_time": "2022-03-12T10:30:32.040Z"
   },
   {
    "duration": 12,
    "start_time": "2022-03-12T10:30:32.049Z"
   },
   {
    "duration": 398,
    "start_time": "2022-03-13T10:33:55.613Z"
   },
   {
    "duration": 1497,
    "start_time": "2022-03-13T10:34:06.498Z"
   },
   {
    "duration": 128,
    "start_time": "2022-03-13T10:34:08.410Z"
   },
   {
    "duration": 390,
    "start_time": "2022-03-13T10:34:10.970Z"
   },
   {
    "duration": 5,
    "start_time": "2022-03-13T10:34:42.053Z"
   },
   {
    "duration": 164,
    "start_time": "2022-03-13T10:35:57.345Z"
   },
   {
    "duration": 6,
    "start_time": "2022-03-13T10:36:03.476Z"
   },
   {
    "duration": 17,
    "start_time": "2022-03-13T10:36:04.107Z"
   },
   {
    "duration": 986,
    "start_time": "2022-03-13T18:10:10.253Z"
   },
   {
    "duration": 118,
    "start_time": "2022-03-13T18:10:11.240Z"
   },
   {
    "duration": 4,
    "start_time": "2022-03-13T18:10:22.157Z"
   },
   {
    "duration": 11,
    "start_time": "2022-03-13T18:10:22.991Z"
   },
   {
    "duration": 371,
    "start_time": "2022-03-13T18:10:52.408Z"
   },
   {
    "duration": 61,
    "start_time": "2022-03-13T18:10:53.029Z"
   },
   {
    "duration": 3,
    "start_time": "2022-03-13T18:11:29.074Z"
   },
   {
    "duration": 62,
    "start_time": "2022-03-13T18:11:30.630Z"
   },
   {
    "duration": 13,
    "start_time": "2022-03-13T18:12:07.613Z"
   },
   {
    "duration": 6,
    "start_time": "2022-03-13T18:12:28.576Z"
   },
   {
    "duration": 7673,
    "start_time": "2022-03-13T18:12:36.200Z"
   },
   {
    "duration": 67,
    "start_time": "2022-03-13T18:12:59.419Z"
   },
   {
    "duration": 11,
    "start_time": "2022-03-13T18:13:00.717Z"
   },
   {
    "duration": 9,
    "start_time": "2022-03-13T18:13:27.554Z"
   },
   {
    "duration": 10,
    "start_time": "2022-03-13T18:14:10.853Z"
   },
   {
    "duration": 5,
    "start_time": "2022-03-13T18:16:10.554Z"
   },
   {
    "duration": 5,
    "start_time": "2022-03-13T18:16:14.093Z"
   },
   {
    "duration": 11,
    "start_time": "2022-03-13T18:16:18.313Z"
   },
   {
    "duration": 12,
    "start_time": "2022-03-13T18:19:36.889Z"
   },
   {
    "duration": 11,
    "start_time": "2022-03-13T18:20:08.483Z"
   },
   {
    "duration": 11,
    "start_time": "2022-03-13T18:20:39.014Z"
   },
   {
    "duration": 11,
    "start_time": "2022-03-13T18:21:04.163Z"
   },
   {
    "duration": 10,
    "start_time": "2022-03-13T18:21:12.076Z"
   },
   {
    "duration": 11,
    "start_time": "2022-03-13T18:21:28.582Z"
   },
   {
    "duration": 13,
    "start_time": "2022-03-13T18:21:34.065Z"
   },
   {
    "duration": 12,
    "start_time": "2022-03-13T18:22:48.066Z"
   },
   {
    "duration": 300,
    "start_time": "2022-03-13T18:22:55.553Z"
   },
   {
    "duration": 11,
    "start_time": "2022-03-13T18:23:01.496Z"
   },
   {
    "duration": 12,
    "start_time": "2022-03-13T18:23:15.335Z"
   },
   {
    "duration": 12,
    "start_time": "2022-03-13T18:23:20.222Z"
   },
   {
    "duration": 14,
    "start_time": "2022-03-13T18:23:49.753Z"
   },
   {
    "duration": 13,
    "start_time": "2022-03-13T18:24:01.888Z"
   },
   {
    "duration": 12,
    "start_time": "2022-03-13T18:27:55.806Z"
   },
   {
    "duration": 295,
    "start_time": "2022-03-13T18:31:07.941Z"
   },
   {
    "duration": 361,
    "start_time": "2022-03-13T18:31:15.100Z"
   },
   {
    "duration": 98,
    "start_time": "2022-03-13T18:31:20.170Z"
   },
   {
    "duration": 31,
    "start_time": "2022-03-13T18:31:20.360Z"
   },
   {
    "duration": 5,
    "start_time": "2022-03-13T18:31:20.566Z"
   },
   {
    "duration": 5,
    "start_time": "2022-03-13T18:31:20.940Z"
   },
   {
    "duration": 315,
    "start_time": "2022-03-13T18:31:51.573Z"
   },
   {
    "duration": 115,
    "start_time": "2022-03-13T18:31:59.065Z"
   },
   {
    "duration": 44,
    "start_time": "2022-03-13T18:31:59.275Z"
   },
   {
    "duration": 49,
    "start_time": "2022-03-13T18:31:59.510Z"
   },
   {
    "duration": 26,
    "start_time": "2022-03-13T18:31:59.675Z"
   },
   {
    "duration": 5,
    "start_time": "2022-03-13T18:31:59.857Z"
   },
   {
    "duration": 5,
    "start_time": "2022-03-13T18:32:00.089Z"
   },
   {
    "duration": 5,
    "start_time": "2022-03-13T18:32:00.283Z"
   },
   {
    "duration": 12,
    "start_time": "2022-03-13T18:32:45.850Z"
   },
   {
    "duration": 8,
    "start_time": "2022-03-13T18:32:52.933Z"
   },
   {
    "duration": 299,
    "start_time": "2022-03-13T18:39:18.249Z"
   },
   {
    "duration": 260,
    "start_time": "2022-03-13T18:39:26.682Z"
   },
   {
    "duration": 162,
    "start_time": "2022-03-13T18:39:49.348Z"
   },
   {
    "duration": 263,
    "start_time": "2022-03-13T18:40:05.261Z"
   },
   {
    "duration": 299,
    "start_time": "2022-03-13T19:03:09.580Z"
   },
   {
    "duration": 986,
    "start_time": "2022-03-13T19:03:18.578Z"
   },
   {
    "duration": 91,
    "start_time": "2022-03-13T19:03:19.566Z"
   },
   {
    "duration": 12,
    "start_time": "2022-03-13T19:03:19.659Z"
   },
   {
    "duration": 9,
    "start_time": "2022-03-13T19:03:19.673Z"
   },
   {
    "duration": 263,
    "start_time": "2022-03-13T19:03:19.684Z"
   },
   {
    "duration": 157,
    "start_time": "2022-03-13T19:03:19.949Z"
   },
   {
    "duration": 44,
    "start_time": "2022-03-13T19:03:20.108Z"
   },
   {
    "duration": 48,
    "start_time": "2022-03-13T19:03:20.155Z"
   },
   {
    "duration": 26,
    "start_time": "2022-03-13T19:03:20.205Z"
   },
   {
    "duration": 5,
    "start_time": "2022-03-13T19:03:20.232Z"
   },
   {
    "duration": 7,
    "start_time": "2022-03-13T19:03:20.239Z"
   },
   {
    "duration": 5,
    "start_time": "2022-03-13T19:03:20.247Z"
   },
   {
    "duration": 8,
    "start_time": "2022-03-13T19:03:20.254Z"
   },
   {
    "duration": 44,
    "start_time": "2022-03-13T19:03:20.263Z"
   },
   {
    "duration": 12,
    "start_time": "2022-03-13T19:03:20.308Z"
   },
   {
    "duration": 192,
    "start_time": "2022-03-13T19:03:20.321Z"
   },
   {
    "duration": 161,
    "start_time": "2022-03-13T19:03:20.515Z"
   },
   {
    "duration": 24,
    "start_time": "2022-03-13T19:03:20.677Z"
   },
   {
    "duration": 10,
    "start_time": "2022-03-13T19:03:20.703Z"
   },
   {
    "duration": 11,
    "start_time": "2022-03-13T19:03:20.714Z"
   },
   {
    "duration": 201,
    "start_time": "2022-03-13T19:03:20.726Z"
   },
   {
    "duration": 278,
    "start_time": "2022-03-13T19:03:20.928Z"
   },
   {
    "duration": 12,
    "start_time": "2022-03-13T19:03:21.210Z"
   },
   {
    "duration": 284,
    "start_time": "2022-03-13T19:03:21.223Z"
   },
   {
    "duration": 6,
    "start_time": "2022-03-13T19:03:21.508Z"
   },
   {
    "duration": 228,
    "start_time": "2022-03-13T19:03:21.515Z"
   },
   {
    "duration": 324,
    "start_time": "2022-03-13T19:03:21.744Z"
   },
   {
    "duration": 12,
    "start_time": "2022-03-13T19:03:22.070Z"
   },
   {
    "duration": 107,
    "start_time": "2022-03-13T19:03:22.084Z"
   },
   {
    "duration": 291,
    "start_time": "2022-03-13T19:03:22.192Z"
   },
   {
    "duration": 4,
    "start_time": "2022-03-13T19:03:22.484Z"
   },
   {
    "duration": 301,
    "start_time": "2022-03-13T19:03:22.502Z"
   },
   {
    "duration": 5,
    "start_time": "2022-03-13T19:03:22.804Z"
   },
   {
    "duration": 11,
    "start_time": "2022-03-13T19:03:22.810Z"
   },
   {
    "duration": 318,
    "start_time": "2022-03-13T19:03:22.823Z"
   },
   {
    "duration": 113,
    "start_time": "2022-03-13T19:03:23.142Z"
   },
   {
    "duration": 7,
    "start_time": "2022-03-13T19:03:23.256Z"
   },
   {
    "duration": 8,
    "start_time": "2022-03-13T19:03:23.265Z"
   },
   {
    "duration": 27,
    "start_time": "2022-03-13T19:03:23.275Z"
   },
   {
    "duration": 9,
    "start_time": "2022-03-13T19:03:23.303Z"
   },
   {
    "duration": 9,
    "start_time": "2022-03-13T19:03:23.314Z"
   },
   {
    "duration": 7,
    "start_time": "2022-03-13T19:03:23.324Z"
   },
   {
    "duration": 12,
    "start_time": "2022-03-13T19:03:23.333Z"
   },
   {
    "duration": 186,
    "start_time": "2022-03-13T19:05:36.853Z"
   },
   {
    "duration": 179,
    "start_time": "2022-03-13T19:07:51.174Z"
   },
   {
    "duration": 276,
    "start_time": "2022-03-13T19:07:57.188Z"
   },
   {
    "duration": 301,
    "start_time": "2022-03-13T19:09:13.402Z"
   },
   {
    "duration": 301,
    "start_time": "2022-03-13T19:09:50.444Z"
   },
   {
    "duration": 324,
    "start_time": "2022-03-13T19:10:10.514Z"
   },
   {
    "duration": 234,
    "start_time": "2022-03-13T19:10:55.886Z"
   },
   {
    "duration": 329,
    "start_time": "2022-03-13T19:12:31.720Z"
   },
   {
    "duration": 106,
    "start_time": "2022-03-13T19:13:23.677Z"
   },
   {
    "duration": 264,
    "start_time": "2022-03-13T19:20:08.705Z"
   },
   {
    "duration": 10,
    "start_time": "2022-03-13T19:31:57.204Z"
   },
   {
    "duration": 11,
    "start_time": "2022-03-13T19:33:34.224Z"
   },
   {
    "duration": 7,
    "start_time": "2022-03-13T19:33:50.307Z"
   },
   {
    "duration": 13,
    "start_time": "2022-03-13T19:34:04.489Z"
   },
   {
    "duration": 125,
    "start_time": "2022-03-13T19:35:26.378Z"
   },
   {
    "duration": 381,
    "start_time": "2022-03-13T19:36:47.779Z"
   },
   {
    "duration": 579,
    "start_time": "2022-03-13T19:37:21.065Z"
   },
   {
    "duration": 5,
    "start_time": "2022-03-13T19:37:47.974Z"
   },
   {
    "duration": 1087,
    "start_time": "2022-03-14T07:20:51.258Z"
   },
   {
    "duration": 125,
    "start_time": "2022-03-14T07:20:52.347Z"
   },
   {
    "duration": 11,
    "start_time": "2022-03-14T07:20:52.474Z"
   },
   {
    "duration": 11,
    "start_time": "2022-03-14T07:20:52.487Z"
   },
   {
    "duration": 297,
    "start_time": "2022-03-14T07:20:52.500Z"
   },
   {
    "duration": 99,
    "start_time": "2022-03-14T07:20:52.798Z"
   },
   {
    "duration": 47,
    "start_time": "2022-03-14T07:20:52.898Z"
   },
   {
    "duration": 117,
    "start_time": "2022-03-14T07:20:52.946Z"
   },
   {
    "duration": 29,
    "start_time": "2022-03-14T07:20:53.066Z"
   },
   {
    "duration": 5,
    "start_time": "2022-03-14T07:20:53.097Z"
   },
   {
    "duration": 12,
    "start_time": "2022-03-14T07:20:53.104Z"
   },
   {
    "duration": 17,
    "start_time": "2022-03-14T07:20:53.118Z"
   },
   {
    "duration": 27,
    "start_time": "2022-03-14T07:20:53.137Z"
   },
   {
    "duration": 8,
    "start_time": "2022-03-14T07:20:53.165Z"
   },
   {
    "duration": 17,
    "start_time": "2022-03-14T07:20:53.174Z"
   },
   {
    "duration": 195,
    "start_time": "2022-03-14T07:20:53.193Z"
   },
   {
    "duration": 165,
    "start_time": "2022-03-14T07:20:53.390Z"
   },
   {
    "duration": 18,
    "start_time": "2022-03-14T07:20:53.563Z"
   },
   {
    "duration": 12,
    "start_time": "2022-03-14T07:20:53.583Z"
   },
   {
    "duration": 15,
    "start_time": "2022-03-14T07:20:53.597Z"
   },
   {
    "duration": 328,
    "start_time": "2022-03-14T07:20:53.614Z"
   },
   {
    "duration": 202,
    "start_time": "2022-03-14T07:20:53.944Z"
   },
   {
    "duration": 21,
    "start_time": "2022-03-14T07:20:54.148Z"
   },
   {
    "duration": 363,
    "start_time": "2022-03-14T07:20:54.170Z"
   },
   {
    "duration": 7,
    "start_time": "2022-03-14T07:20:54.534Z"
   },
   {
    "duration": 252,
    "start_time": "2022-03-14T07:20:54.543Z"
   },
   {
    "duration": 335,
    "start_time": "2022-03-14T07:20:54.798Z"
   },
   {
    "duration": 11,
    "start_time": "2022-03-14T07:20:55.135Z"
   },
   {
    "duration": 106,
    "start_time": "2022-03-14T07:20:55.148Z"
   },
   {
    "duration": 339,
    "start_time": "2022-03-14T07:20:55.256Z"
   },
   {
    "duration": 4,
    "start_time": "2022-03-14T07:20:55.597Z"
   },
   {
    "duration": 296,
    "start_time": "2022-03-14T07:20:55.603Z"
   },
   {
    "duration": 4,
    "start_time": "2022-03-14T07:20:55.901Z"
   },
   {
    "duration": 13,
    "start_time": "2022-03-14T07:20:55.907Z"
   },
   {
    "duration": 339,
    "start_time": "2022-03-14T07:20:55.921Z"
   },
   {
    "duration": 111,
    "start_time": "2022-03-14T07:20:56.262Z"
   },
   {
    "duration": 5,
    "start_time": "2022-03-14T07:20:56.375Z"
   },
   {
    "duration": 12,
    "start_time": "2022-03-14T07:20:56.381Z"
   },
   {
    "duration": 10,
    "start_time": "2022-03-14T07:20:56.395Z"
   },
   {
    "duration": 8,
    "start_time": "2022-03-14T07:20:56.407Z"
   },
   {
    "duration": 9,
    "start_time": "2022-03-14T07:20:56.417Z"
   },
   {
    "duration": 36,
    "start_time": "2022-03-14T07:20:56.428Z"
   },
   {
    "duration": 14,
    "start_time": "2022-03-14T07:20:56.466Z"
   },
   {
    "duration": 12,
    "start_time": "2022-03-14T07:20:56.481Z"
   },
   {
    "duration": 1253,
    "start_time": "2022-05-11T19:26:37.045Z"
   },
   {
    "duration": 103,
    "start_time": "2022-05-11T19:26:38.301Z"
   },
   {
    "duration": 13,
    "start_time": "2022-05-11T19:26:38.406Z"
   },
   {
    "duration": 9,
    "start_time": "2022-05-11T19:26:38.421Z"
   },
   {
    "duration": 254,
    "start_time": "2022-05-11T19:26:38.432Z"
   },
   {
    "duration": 110,
    "start_time": "2022-05-11T19:26:38.688Z"
   },
   {
    "duration": 46,
    "start_time": "2022-05-11T19:26:38.800Z"
   },
   {
    "duration": 84,
    "start_time": "2022-05-11T19:26:38.848Z"
   },
   {
    "duration": 31,
    "start_time": "2022-05-11T19:26:38.933Z"
   },
   {
    "duration": 8,
    "start_time": "2022-05-11T19:26:38.968Z"
   },
   {
    "duration": 7,
    "start_time": "2022-05-11T19:26:38.978Z"
   },
   {
    "duration": 7,
    "start_time": "2022-05-11T19:26:38.986Z"
   },
   {
    "duration": 8,
    "start_time": "2022-05-11T19:26:38.994Z"
   },
   {
    "duration": 181,
    "start_time": "2022-05-11T19:26:39.004Z"
   },
   {
    "duration": 0,
    "start_time": "2022-05-11T19:26:39.188Z"
   },
   {
    "duration": 0,
    "start_time": "2022-05-11T19:26:39.189Z"
   },
   {
    "duration": 0,
    "start_time": "2022-05-11T19:26:39.191Z"
   },
   {
    "duration": 0,
    "start_time": "2022-05-11T19:26:39.192Z"
   },
   {
    "duration": 0,
    "start_time": "2022-05-11T19:26:39.193Z"
   },
   {
    "duration": 0,
    "start_time": "2022-05-11T19:26:39.195Z"
   },
   {
    "duration": 0,
    "start_time": "2022-05-11T19:26:39.196Z"
   },
   {
    "duration": 0,
    "start_time": "2022-05-11T19:26:39.197Z"
   },
   {
    "duration": 0,
    "start_time": "2022-05-11T19:26:39.199Z"
   },
   {
    "duration": 0,
    "start_time": "2022-05-11T19:26:39.200Z"
   },
   {
    "duration": 0,
    "start_time": "2022-05-11T19:26:39.202Z"
   },
   {
    "duration": 0,
    "start_time": "2022-05-11T19:26:39.203Z"
   },
   {
    "duration": 0,
    "start_time": "2022-05-11T19:26:39.204Z"
   },
   {
    "duration": 0,
    "start_time": "2022-05-11T19:26:39.205Z"
   },
   {
    "duration": 0,
    "start_time": "2022-05-11T19:26:39.207Z"
   },
   {
    "duration": 0,
    "start_time": "2022-05-11T19:26:39.208Z"
   },
   {
    "duration": 0,
    "start_time": "2022-05-11T19:26:39.209Z"
   },
   {
    "duration": 0,
    "start_time": "2022-05-11T19:26:39.211Z"
   },
   {
    "duration": 0,
    "start_time": "2022-05-11T19:26:39.212Z"
   },
   {
    "duration": 0,
    "start_time": "2022-05-11T19:26:39.213Z"
   },
   {
    "duration": 0,
    "start_time": "2022-05-11T19:26:39.214Z"
   },
   {
    "duration": 0,
    "start_time": "2022-05-11T19:26:39.216Z"
   },
   {
    "duration": 0,
    "start_time": "2022-05-11T19:26:39.217Z"
   },
   {
    "duration": 0,
    "start_time": "2022-05-11T19:26:39.218Z"
   },
   {
    "duration": 0,
    "start_time": "2022-05-11T19:26:39.219Z"
   },
   {
    "duration": 0,
    "start_time": "2022-05-11T19:26:39.220Z"
   },
   {
    "duration": 0,
    "start_time": "2022-05-11T19:26:39.221Z"
   },
   {
    "duration": 0,
    "start_time": "2022-05-11T19:26:39.222Z"
   },
   {
    "duration": 0,
    "start_time": "2022-05-11T19:26:39.223Z"
   },
   {
    "duration": 0,
    "start_time": "2022-05-11T19:26:39.224Z"
   },
   {
    "duration": 0,
    "start_time": "2022-05-11T19:26:39.225Z"
   },
   {
    "duration": 184,
    "start_time": "2022-05-11T19:27:00.459Z"
   },
   {
    "duration": 7,
    "start_time": "2022-05-11T19:27:05.564Z"
   },
   {
    "duration": 190,
    "start_time": "2022-05-11T19:27:16.455Z"
   },
   {
    "duration": 3,
    "start_time": "2022-05-11T19:27:24.150Z"
   }
  ],
  "kernelspec": {
   "display_name": "Python 3",
   "language": "python",
   "name": "python3"
  },
  "language_info": {
   "codemirror_mode": {
    "name": "ipython",
    "version": 3
   },
   "file_extension": ".py",
   "mimetype": "text/x-python",
   "name": "python",
   "nbconvert_exporter": "python",
   "pygments_lexer": "ipython3",
   "version": "3.8.5"
  },
  "toc": {
   "base_numbering": 1,
   "nav_menu": {},
   "number_sections": true,
   "sideBar": true,
   "skip_h1_title": true,
   "title_cell": "Table of Contents",
   "title_sidebar": "Contents",
   "toc_cell": false,
   "toc_position": {
    "height": "calc(100% - 180px)",
    "left": "10px",
    "top": "150px",
    "width": "165px"
   },
   "toc_section_display": true,
   "toc_window_display": true
  }
 },
 "nbformat": 4,
 "nbformat_minor": 2
}
